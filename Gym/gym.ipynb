{
 "cells": [
  {
   "cell_type": "markdown",
   "metadata": {},
   "source": [
    "# Самостоятельный проект: Разработка стратегии взаимодействия с клиентами сети фитнес-центров «Культурист-датасаентист»"
   ]
  },
  {
   "cell_type": "markdown",
   "metadata": {},
   "source": [
    "---\n",
    "**Цель проекта:** Провести анализ и подготовить план действий по удержанию клиентов.\n",
    "\n",
    "---\n",
    "\n",
    "**Необходимо:**\n",
    "\n",
    "    - научиться прогнозировать вероятность оттока (на уровне следующего месяца) для каждого клиента;\n",
    "    - сформировать типичные портреты клиентов: выделить несколько наиболее ярких групп и охарактеризовать их основные свойства;\n",
    "    - проанализировать основные признаки, наиболее сильно влияющие на отток;\n",
    "    - сформулировать основные выводы и разработать рекомендации по повышению качества работы с клиентами:\n",
    "        1) выделить целевые группы клиентов;\n",
    "        2) предложить меры по снижению оттока;\n",
    "        3) определить другие особенности взаимодействия с клиентами. \n",
    "        \n",
    "**Предоставлен набор данных:** \n",
    "    \n",
    "    'Churn' — факт оттока в текущем месяце;\n",
    "    Текущие поля в датасете:\n",
    "        Данные клиента за предыдущий до проверки факта оттока месяц:\n",
    "        'gender' — пол;\n",
    "        'Near_Location' — проживание или работа в районе, где находится фитнес-центр;\n",
    "        'Partner' — сотрудник компании-партнёра клуба (сотрудничество с компаниями, чьи сотрудники могут получать скидки на абонемент — в таком случае фитнес-центр хранит информацию о работодателе клиента);\n",
    "        Promo_friends — факт первоначальной записи в рамках акции «приведи друга» (использовал промо-код от знакомого при оплате первого абонемента);\n",
    "        'Phone' — наличие контактного телефона;\n",
    "        'Age' — возраст;\n",
    "        'Lifetime' — время с момента первого обращения в фитнес-центр (в месяцах).\n",
    "    Информация на основе журнала посещений, покупок и информация о текущем статусе абонемента клиента:\n",
    "        'Contract_period' — длительность текущего действующего абонемента (месяц, 3 месяца, 6 месяцев, год);\n",
    "        'Month_to_end_contract' — срок до окончания текущего действующего абонемента (в месяцах);\n",
    "        'Group_visits' — факт посещения групповых занятий;\n",
    "        'Avg_class_frequency_total' — средняя частота посещений в неделю за все время с начала действия абонемента;\n",
    "        'Avg_class_frequency_current_month' — средняя частота посещений в неделю за предыдущий месяц;\n",
    "        'Avg_additional_charges_total' — суммарная выручка от других услуг фитнес-центра: кафе, спорт-товары, косметический и массажный салон."
   ]
  },
  {
   "cell_type": "code",
   "execution_count": 1,
   "metadata": {},
   "outputs": [],
   "source": [
    "import pandas as pd\n",
    "import numpy as np\n",
    "import matplotlib.pyplot as plt\n",
    "import seaborn as sns\n",
    "from sklearn.model_selection import train_test_split\n",
    "from sklearn.linear_model import LogisticRegression\n",
    "from sklearn.ensemble import RandomForestClassifier, GradientBoostingClassifier\n",
    "from sklearn.metrics import accuracy_score, precision_score, recall_score\n",
    "from sklearn.cluster import KMeans\n",
    "from scipy.cluster.hierarchy import dendrogram, linkage\n",
    "from sklearn.preprocessing import StandardScaler"
   ]
  },
  {
   "cell_type": "markdown",
   "metadata": {},
   "source": [
    "## Подготовка и исследовательский анализ данных"
   ]
  },
  {
   "cell_type": "code",
   "execution_count": 2,
   "metadata": {},
   "outputs": [
    {
     "data": {
      "text/html": [
       "<div>\n",
       "<style scoped>\n",
       "    .dataframe tbody tr th:only-of-type {\n",
       "        vertical-align: middle;\n",
       "    }\n",
       "\n",
       "    .dataframe tbody tr th {\n",
       "        vertical-align: top;\n",
       "    }\n",
       "\n",
       "    .dataframe thead th {\n",
       "        text-align: right;\n",
       "    }\n",
       "</style>\n",
       "<table border=\"1\" class=\"dataframe\">\n",
       "  <thead>\n",
       "    <tr style=\"text-align: right;\">\n",
       "      <th></th>\n",
       "      <th>gender</th>\n",
       "      <th>Near_Location</th>\n",
       "      <th>Partner</th>\n",
       "      <th>Promo_friends</th>\n",
       "      <th>Phone</th>\n",
       "      <th>Contract_period</th>\n",
       "      <th>Group_visits</th>\n",
       "      <th>Age</th>\n",
       "      <th>Avg_additional_charges_total</th>\n",
       "      <th>Month_to_end_contract</th>\n",
       "      <th>Lifetime</th>\n",
       "      <th>Avg_class_frequency_total</th>\n",
       "      <th>Avg_class_frequency_current_month</th>\n",
       "      <th>Churn</th>\n",
       "    </tr>\n",
       "  </thead>\n",
       "  <tbody>\n",
       "    <tr>\n",
       "      <th>0</th>\n",
       "      <td>1</td>\n",
       "      <td>1</td>\n",
       "      <td>1</td>\n",
       "      <td>1</td>\n",
       "      <td>0</td>\n",
       "      <td>6</td>\n",
       "      <td>1</td>\n",
       "      <td>29</td>\n",
       "      <td>14.227470</td>\n",
       "      <td>5.0</td>\n",
       "      <td>3</td>\n",
       "      <td>0.020398</td>\n",
       "      <td>0.000000</td>\n",
       "      <td>0</td>\n",
       "    </tr>\n",
       "    <tr>\n",
       "      <th>1</th>\n",
       "      <td>0</td>\n",
       "      <td>1</td>\n",
       "      <td>0</td>\n",
       "      <td>0</td>\n",
       "      <td>1</td>\n",
       "      <td>12</td>\n",
       "      <td>1</td>\n",
       "      <td>31</td>\n",
       "      <td>113.202938</td>\n",
       "      <td>12.0</td>\n",
       "      <td>7</td>\n",
       "      <td>1.922936</td>\n",
       "      <td>1.910244</td>\n",
       "      <td>0</td>\n",
       "    </tr>\n",
       "    <tr>\n",
       "      <th>2</th>\n",
       "      <td>0</td>\n",
       "      <td>1</td>\n",
       "      <td>1</td>\n",
       "      <td>0</td>\n",
       "      <td>1</td>\n",
       "      <td>1</td>\n",
       "      <td>0</td>\n",
       "      <td>28</td>\n",
       "      <td>129.448479</td>\n",
       "      <td>1.0</td>\n",
       "      <td>2</td>\n",
       "      <td>1.859098</td>\n",
       "      <td>1.736502</td>\n",
       "      <td>0</td>\n",
       "    </tr>\n",
       "    <tr>\n",
       "      <th>3</th>\n",
       "      <td>0</td>\n",
       "      <td>1</td>\n",
       "      <td>1</td>\n",
       "      <td>1</td>\n",
       "      <td>1</td>\n",
       "      <td>12</td>\n",
       "      <td>1</td>\n",
       "      <td>33</td>\n",
       "      <td>62.669863</td>\n",
       "      <td>12.0</td>\n",
       "      <td>2</td>\n",
       "      <td>3.205633</td>\n",
       "      <td>3.357215</td>\n",
       "      <td>0</td>\n",
       "    </tr>\n",
       "    <tr>\n",
       "      <th>4</th>\n",
       "      <td>1</td>\n",
       "      <td>1</td>\n",
       "      <td>1</td>\n",
       "      <td>1</td>\n",
       "      <td>1</td>\n",
       "      <td>1</td>\n",
       "      <td>0</td>\n",
       "      <td>26</td>\n",
       "      <td>198.362265</td>\n",
       "      <td>1.0</td>\n",
       "      <td>3</td>\n",
       "      <td>1.113884</td>\n",
       "      <td>1.120078</td>\n",
       "      <td>0</td>\n",
       "    </tr>\n",
       "  </tbody>\n",
       "</table>\n",
       "</div>"
      ],
      "text/plain": [
       "   gender  Near_Location  Partner  Promo_friends  Phone  Contract_period  \\\n",
       "0       1              1        1              1      0                6   \n",
       "1       0              1        0              0      1               12   \n",
       "2       0              1        1              0      1                1   \n",
       "3       0              1        1              1      1               12   \n",
       "4       1              1        1              1      1                1   \n",
       "\n",
       "   Group_visits  Age  Avg_additional_charges_total  Month_to_end_contract  \\\n",
       "0             1   29                     14.227470                    5.0   \n",
       "1             1   31                    113.202938                   12.0   \n",
       "2             0   28                    129.448479                    1.0   \n",
       "3             1   33                     62.669863                   12.0   \n",
       "4             0   26                    198.362265                    1.0   \n",
       "\n",
       "   Lifetime  Avg_class_frequency_total  Avg_class_frequency_current_month  \\\n",
       "0         3                   0.020398                           0.000000   \n",
       "1         7                   1.922936                           1.910244   \n",
       "2         2                   1.859098                           1.736502   \n",
       "3         2                   3.205633                           3.357215   \n",
       "4         3                   1.113884                           1.120078   \n",
       "\n",
       "   Churn  \n",
       "0      0  \n",
       "1      0  \n",
       "2      0  \n",
       "3      0  \n",
       "4      0  "
      ]
     },
     "execution_count": 2,
     "metadata": {},
     "output_type": "execute_result"
    }
   ],
   "source": [
    "# data = pd.read_csv('/Users/dianamini/Developer/Data/gym_churn.csv')\n",
    "# data.head()"
   ]
  },
  {
   "cell_type": "code",
   "execution_count": 3,
   "metadata": {},
   "outputs": [
    {
     "name": "stdout",
     "output_type": "stream",
     "text": [
      "<class 'pandas.core.frame.DataFrame'>\n",
      "RangeIndex: 4000 entries, 0 to 3999\n",
      "Data columns (total 14 columns):\n",
      " #   Column                             Non-Null Count  Dtype  \n",
      "---  ------                             --------------  -----  \n",
      " 0   gender                             4000 non-null   int64  \n",
      " 1   Near_Location                      4000 non-null   int64  \n",
      " 2   Partner                            4000 non-null   int64  \n",
      " 3   Promo_friends                      4000 non-null   int64  \n",
      " 4   Phone                              4000 non-null   int64  \n",
      " 5   Contract_period                    4000 non-null   int64  \n",
      " 6   Group_visits                       4000 non-null   int64  \n",
      " 7   Age                                4000 non-null   int64  \n",
      " 8   Avg_additional_charges_total       4000 non-null   float64\n",
      " 9   Month_to_end_contract              4000 non-null   float64\n",
      " 10  Lifetime                           4000 non-null   int64  \n",
      " 11  Avg_class_frequency_total          4000 non-null   float64\n",
      " 12  Avg_class_frequency_current_month  4000 non-null   float64\n",
      " 13  Churn                              4000 non-null   int64  \n",
      "dtypes: float64(4), int64(10)\n",
      "memory usage: 437.6 KB\n"
     ]
    },
    {
     "data": {
      "text/plain": [
       "(4000, 14)"
      ]
     },
     "execution_count": 3,
     "metadata": {},
     "output_type": "execute_result"
    }
   ],
   "source": [
    "data.info()\n",
    "data.shape"
   ]
  },
  {
   "cell_type": "code",
   "execution_count": 4,
   "metadata": {},
   "outputs": [
    {
     "data": {
      "text/plain": [
       "gender                               0\n",
       "Near_Location                        0\n",
       "Partner                              0\n",
       "Promo_friends                        0\n",
       "Phone                                0\n",
       "Contract_period                      0\n",
       "Group_visits                         0\n",
       "Age                                  0\n",
       "Avg_additional_charges_total         0\n",
       "Month_to_end_contract                0\n",
       "Lifetime                             0\n",
       "Avg_class_frequency_total            0\n",
       "Avg_class_frequency_current_month    0\n",
       "Churn                                0\n",
       "dtype: int64"
      ]
     },
     "execution_count": 4,
     "metadata": {},
     "output_type": "execute_result"
    }
   ],
   "source": [
    "data.isnull().sum()"
   ]
  },
  {
   "cell_type": "markdown",
   "metadata": {},
   "source": [
    "---\n",
    "Пропущенных значений нет, с типами данных тоже все в порядке.\n",
    "\n",
    "---"
   ]
  },
  {
   "cell_type": "code",
   "execution_count": 5,
   "metadata": {},
   "outputs": [],
   "source": [
    "data_2 = data.drop(\n",
    "    ['gender', 'Near_Location', 'Partner', 'Promo_friends', 'Phone', 'Group_visits'],\n",
    "    axis=1\n",
    ")"
   ]
  },
  {
   "cell_type": "code",
   "execution_count": 6,
   "metadata": {
    "scrolled": true
   },
   "outputs": [
    {
     "data": {
      "text/html": [
       "<div>\n",
       "<style scoped>\n",
       "    .dataframe tbody tr th:only-of-type {\n",
       "        vertical-align: middle;\n",
       "    }\n",
       "\n",
       "    .dataframe tbody tr th {\n",
       "        vertical-align: top;\n",
       "    }\n",
       "\n",
       "    .dataframe thead th {\n",
       "        text-align: right;\n",
       "    }\n",
       "</style>\n",
       "<table border=\"1\" class=\"dataframe\">\n",
       "  <thead>\n",
       "    <tr style=\"text-align: right;\">\n",
       "      <th></th>\n",
       "      <th>count</th>\n",
       "      <th>mean</th>\n",
       "      <th>std</th>\n",
       "      <th>min</th>\n",
       "      <th>25%</th>\n",
       "      <th>50%</th>\n",
       "      <th>75%</th>\n",
       "      <th>max</th>\n",
       "    </tr>\n",
       "  </thead>\n",
       "  <tbody>\n",
       "    <tr>\n",
       "      <th>Contract_period</th>\n",
       "      <td>4000.0</td>\n",
       "      <td>4.681250</td>\n",
       "      <td>4.549706</td>\n",
       "      <td>1.000000</td>\n",
       "      <td>1.000000</td>\n",
       "      <td>1.000000</td>\n",
       "      <td>6.000000</td>\n",
       "      <td>12.000000</td>\n",
       "    </tr>\n",
       "    <tr>\n",
       "      <th>Age</th>\n",
       "      <td>4000.0</td>\n",
       "      <td>29.184250</td>\n",
       "      <td>3.258367</td>\n",
       "      <td>18.000000</td>\n",
       "      <td>27.000000</td>\n",
       "      <td>29.000000</td>\n",
       "      <td>31.000000</td>\n",
       "      <td>41.000000</td>\n",
       "    </tr>\n",
       "    <tr>\n",
       "      <th>Avg_additional_charges_total</th>\n",
       "      <td>4000.0</td>\n",
       "      <td>146.943728</td>\n",
       "      <td>96.355602</td>\n",
       "      <td>0.148205</td>\n",
       "      <td>68.868830</td>\n",
       "      <td>136.220159</td>\n",
       "      <td>210.949625</td>\n",
       "      <td>552.590740</td>\n",
       "    </tr>\n",
       "    <tr>\n",
       "      <th>Month_to_end_contract</th>\n",
       "      <td>4000.0</td>\n",
       "      <td>4.322750</td>\n",
       "      <td>4.191297</td>\n",
       "      <td>1.000000</td>\n",
       "      <td>1.000000</td>\n",
       "      <td>1.000000</td>\n",
       "      <td>6.000000</td>\n",
       "      <td>12.000000</td>\n",
       "    </tr>\n",
       "    <tr>\n",
       "      <th>Lifetime</th>\n",
       "      <td>4000.0</td>\n",
       "      <td>3.724750</td>\n",
       "      <td>3.749267</td>\n",
       "      <td>0.000000</td>\n",
       "      <td>1.000000</td>\n",
       "      <td>3.000000</td>\n",
       "      <td>5.000000</td>\n",
       "      <td>31.000000</td>\n",
       "    </tr>\n",
       "    <tr>\n",
       "      <th>Avg_class_frequency_total</th>\n",
       "      <td>4000.0</td>\n",
       "      <td>1.879020</td>\n",
       "      <td>0.972245</td>\n",
       "      <td>0.000000</td>\n",
       "      <td>1.180875</td>\n",
       "      <td>1.832768</td>\n",
       "      <td>2.536078</td>\n",
       "      <td>6.023668</td>\n",
       "    </tr>\n",
       "    <tr>\n",
       "      <th>Avg_class_frequency_current_month</th>\n",
       "      <td>4000.0</td>\n",
       "      <td>1.767052</td>\n",
       "      <td>1.052906</td>\n",
       "      <td>0.000000</td>\n",
       "      <td>0.963003</td>\n",
       "      <td>1.719574</td>\n",
       "      <td>2.510336</td>\n",
       "      <td>6.146783</td>\n",
       "    </tr>\n",
       "    <tr>\n",
       "      <th>Churn</th>\n",
       "      <td>4000.0</td>\n",
       "      <td>0.265250</td>\n",
       "      <td>0.441521</td>\n",
       "      <td>0.000000</td>\n",
       "      <td>0.000000</td>\n",
       "      <td>0.000000</td>\n",
       "      <td>1.000000</td>\n",
       "      <td>1.000000</td>\n",
       "    </tr>\n",
       "  </tbody>\n",
       "</table>\n",
       "</div>"
      ],
      "text/plain": [
       "                                    count        mean        std        min  \\\n",
       "Contract_period                    4000.0    4.681250   4.549706   1.000000   \n",
       "Age                                4000.0   29.184250   3.258367  18.000000   \n",
       "Avg_additional_charges_total       4000.0  146.943728  96.355602   0.148205   \n",
       "Month_to_end_contract              4000.0    4.322750   4.191297   1.000000   \n",
       "Lifetime                           4000.0    3.724750   3.749267   0.000000   \n",
       "Avg_class_frequency_total          4000.0    1.879020   0.972245   0.000000   \n",
       "Avg_class_frequency_current_month  4000.0    1.767052   1.052906   0.000000   \n",
       "Churn                              4000.0    0.265250   0.441521   0.000000   \n",
       "\n",
       "                                         25%         50%         75%  \\\n",
       "Contract_period                     1.000000    1.000000    6.000000   \n",
       "Age                                27.000000   29.000000   31.000000   \n",
       "Avg_additional_charges_total       68.868830  136.220159  210.949625   \n",
       "Month_to_end_contract               1.000000    1.000000    6.000000   \n",
       "Lifetime                            1.000000    3.000000    5.000000   \n",
       "Avg_class_frequency_total           1.180875    1.832768    2.536078   \n",
       "Avg_class_frequency_current_month   0.963003    1.719574    2.510336   \n",
       "Churn                               0.000000    0.000000    1.000000   \n",
       "\n",
       "                                          max  \n",
       "Contract_period                     12.000000  \n",
       "Age                                 41.000000  \n",
       "Avg_additional_charges_total       552.590740  \n",
       "Month_to_end_contract               12.000000  \n",
       "Lifetime                            31.000000  \n",
       "Avg_class_frequency_total            6.023668  \n",
       "Avg_class_frequency_current_month    6.146783  \n",
       "Churn                                1.000000  "
      ]
     },
     "execution_count": 6,
     "metadata": {},
     "output_type": "execute_result"
    }
   ],
   "source": [
    "data_2.describe().T"
   ]
  },
  {
   "cell_type": "code",
   "execution_count": 7,
   "metadata": {},
   "outputs": [
    {
     "data": {
      "text/html": [
       "<div>\n",
       "<style scoped>\n",
       "    .dataframe tbody tr th:only-of-type {\n",
       "        vertical-align: middle;\n",
       "    }\n",
       "\n",
       "    .dataframe tbody tr th {\n",
       "        vertical-align: top;\n",
       "    }\n",
       "\n",
       "    .dataframe thead th {\n",
       "        text-align: right;\n",
       "    }\n",
       "</style>\n",
       "<table border=\"1\" class=\"dataframe\">\n",
       "  <thead>\n",
       "    <tr style=\"text-align: right;\">\n",
       "      <th></th>\n",
       "      <th>Contract_period</th>\n",
       "      <th>Age</th>\n",
       "      <th>Avg_additional_charges_total</th>\n",
       "      <th>Month_to_end_contract</th>\n",
       "      <th>Lifetime</th>\n",
       "      <th>Avg_class_frequency_total</th>\n",
       "      <th>Avg_class_frequency_current_month</th>\n",
       "    </tr>\n",
       "    <tr>\n",
       "      <th>Churn</th>\n",
       "      <th></th>\n",
       "      <th></th>\n",
       "      <th></th>\n",
       "      <th></th>\n",
       "      <th></th>\n",
       "      <th></th>\n",
       "      <th></th>\n",
       "    </tr>\n",
       "  </thead>\n",
       "  <tbody>\n",
       "    <tr>\n",
       "      <th>0</th>\n",
       "      <td>5.747193</td>\n",
       "      <td>29.976523</td>\n",
       "      <td>158.445715</td>\n",
       "      <td>5.283089</td>\n",
       "      <td>4.711807</td>\n",
       "      <td>2.024876</td>\n",
       "      <td>2.027882</td>\n",
       "    </tr>\n",
       "    <tr>\n",
       "      <th>1</th>\n",
       "      <td>1.728558</td>\n",
       "      <td>26.989632</td>\n",
       "      <td>115.082899</td>\n",
       "      <td>1.662582</td>\n",
       "      <td>0.990575</td>\n",
       "      <td>1.474995</td>\n",
       "      <td>1.044546</td>\n",
       "    </tr>\n",
       "  </tbody>\n",
       "</table>\n",
       "</div>"
      ],
      "text/plain": [
       "       Contract_period        Age  Avg_additional_charges_total  \\\n",
       "Churn                                                             \n",
       "0             5.747193  29.976523                    158.445715   \n",
       "1             1.728558  26.989632                    115.082899   \n",
       "\n",
       "       Month_to_end_contract  Lifetime  Avg_class_frequency_total  \\\n",
       "Churn                                                               \n",
       "0                   5.283089  4.711807                   2.024876   \n",
       "1                   1.662582  0.990575                   1.474995   \n",
       "\n",
       "       Avg_class_frequency_current_month  \n",
       "Churn                                     \n",
       "0                               2.027882  \n",
       "1                               1.044546  "
      ]
     },
     "execution_count": 7,
     "metadata": {},
     "output_type": "execute_result"
    }
   ],
   "source": [
    "data_2.groupby('Churn').mean()"
   ]
  },
  {
   "cell_type": "markdown",
   "metadata": {},
   "source": [
    "---\n",
    "Для того чтобы посмотреть соотношение признаков, я создала дополнительный датафрейм, где остались только количественные признаки, без категориальных.\n",
    "\n",
    "---"
   ]
  },
  {
   "cell_type": "code",
   "execution_count": 8,
   "metadata": {},
   "outputs": [],
   "source": [
    "data_corr = data.corr()"
   ]
  },
  {
   "cell_type": "code",
   "execution_count": 9,
   "metadata": {},
   "outputs": [
    {
     "data": {
      "image/png": "[encoded data removed]",
      "text/plain": [
       "<Figure size 1080x1080 with 2 Axes>"
      ]
     },
     "metadata": {
      "needs_background": "light"
     },
     "output_type": "display_data"
    }
   ],
   "source": [
    "fig, ax = plt.subplots(figsize=(15,15))\n",
    "\n",
    "#нарисуем тепловую карту с подписями для матрицы корреляций\n",
    "sns.heatmap(data_corr, annot = True, square=True)\n",
    "plt.show()"
   ]
  },
  {
   "cell_type": "markdown",
   "metadata": {},
   "source": [
    "---\n",
    "Матрица корреляции показывает зависимость между:\n",
    "\n",
    "    - Сроком до окончания текущего абонемента и Длительностью абонемента\n",
    "    - Суммарной выручкой от других услуг фитнес-центра и Средней частотой посещений в неделю за предыдущий месяц\n",
    "    - Партнерством с клубом и Фактом первоначальной записи в рамках акции «приведи друга»\n",
    "    - Партнерством с клубом и Длительностью абонемента\n",
    "    \n",
    "---"
   ]
  },
  {
   "cell_type": "code",
   "execution_count": 10,
   "metadata": {},
   "outputs": [],
   "source": [
    "churn_0 = data.query('Churn == 0')\n",
    "churn_1 = data.query('Churn == 1')"
   ]
  },
  {
   "cell_type": "code",
   "execution_count": 11,
   "metadata": {},
   "outputs": [
    {
     "name": "stdout",
     "output_type": "stream",
     "text": [
      "Не прекратили пользование:\n"
     ]
    },
    {
     "data": {
      "image/png": "[encoded data removed]",
      "text/plain": [
       "<Figure size 432x288 with 1 Axes>"
      ]
     },
     "metadata": {
      "needs_background": "light"
     },
     "output_type": "display_data"
    },
    {
     "data": {
      "image/png": "[encoded data removed]",
      "text/plain": [
       "<Figure size 432x288 with 1 Axes>"
      ]
     },
     "metadata": {
      "needs_background": "light"
     },
     "output_type": "display_data"
    },
    {
     "data": {
      "image/png": "[encoded data removed]",
      "text/plain": [
       "<Figure size 432x288 with 1 Axes>"
      ]
     },
     "metadata": {
      "needs_background": "light"
     },
     "output_type": "display_data"
    },
    {
     "data": {
      "image/png": "[encoded data removed]",
      "text/plain": [
       "<Figure size 432x288 with 1 Axes>"
      ]
     },
     "metadata": {
      "needs_background": "light"
     },
     "output_type": "display_data"
    },
    {
     "data": {
      "image/png": "[encoded data removed]",
      "text/plain": [
       "<Figure size 432x288 with 1 Axes>"
      ]
     },
     "metadata": {
      "needs_background": "light"
     },
     "output_type": "display_data"
    },
    {
     "data": {
      "image/png": "[encoded data removed]",
      "text/plain": [
       "<Figure size 432x288 with 1 Axes>"
      ]
     },
     "metadata": {
      "needs_background": "light"
     },
     "output_type": "display_data"
    },
    {
     "data": {
      "image/png": "[encoded data removed]",
      "text/plain": [
       "<Figure size 432x288 with 1 Axes>"
      ]
     },
     "metadata": {
      "needs_background": "light"
     },
     "output_type": "display_data"
    },
    {
     "data": {
      "image/png": "[encoded data removed]",
      "text/plain": [
       "<Figure size 432x288 with 1 Axes>"
      ]
     },
     "metadata": {
      "needs_background": "light"
     },
     "output_type": "display_data"
    },
    {
     "data": {
      "image/png": "[encoded data removed]",
      "text/plain": [
       "<Figure size 432x288 with 1 Axes>"
      ]
     },
     "metadata": {
      "needs_background": "light"
     },
     "output_type": "display_data"
    },
    {
     "data": {
      "image/png": "[encoded data removed]",
      "text/plain": [
       "<Figure size 432x288 with 1 Axes>"
      ]
     },
     "metadata": {
      "needs_background": "light"
     },
     "output_type": "display_data"
    },
    {
     "data": {
      "image/png": "[encoded data removed]",
      "text/plain": [
       "<Figure size 432x288 with 1 Axes>"
      ]
     },
     "metadata": {
      "needs_background": "light"
     },
     "output_type": "display_data"
    },
    {
     "data": {
      "image/png": "[encoded data removed]",
      "text/plain": [
       "<Figure size 432x288 with 1 Axes>"
      ]
     },
     "metadata": {
      "needs_background": "light"
     },
     "output_type": "display_data"
    },
    {
     "data": {
      "image/png": "[encoded data removed]",
      "text/plain": [
       "<Figure size 432x288 with 1 Axes>"
      ]
     },
     "metadata": {
      "needs_background": "light"
     },
     "output_type": "display_data"
    }
   ],
   "source": [
    "def churn_hists(data):\n",
    "    for col in data.drop('Churn', axis = 1).columns:\n",
    "        plt.xlabel(col)\n",
    "        plt.ylabel('value')\n",
    "        plt.hist(data[col])\n",
    "        plt.show()\n",
    "\n",
    "print('Не прекратили пользование:')\n",
    "churn_hists(churn_0)"
   ]
  },
  {
   "cell_type": "markdown",
   "metadata": {},
   "source": [
    "---\n",
    "Среди пользователей, не прекративших пользование фитнес-клубом:\n",
    "\n",
    "    - Пользователей в возрасте от 28 до 32 лет больше, чем остальных возрастов. Средний возраст: 30 лет.\n",
    "    - Немного больше среди посетителей людей с гендером 1.\n",
    "    - Больше людей, проживающих в районе фитнес-клуба.\n",
    "    - Больше пользователей являются сотрудниками компаний-партнеров.\n",
    "    - В соновном пользователи берут абонементы на 3 месяца.\n",
    "    - Большинство пользователей пришли в рамках акции «приведи друга». \n",
    "    - Чаще предпочитают индивидуальные занятия.\n",
    "    - Суммарная выручка от дополнительных услуг фитнес-центра в среднем от 100 до 230. Средний показатель: 158,5.\n",
    "    - Больше пользователей со сроком 1-2 месяца до окончания абонемента, 5-6 и 11-12 месяцев. Средний показатель: 5,3 месяца.\n",
    "    - Большая часть пользователей новые: от 0 до 3 месяцев с момента первого обращения. Средний показатель: 4б8 месяцев.\n",
    "    - Чаще люди ходят на занятия 2 раза в неделю. Средний показатель: 2.\n",
    "    - За последний месяц так же средние посещения колеблются от 1 до 2 раз в неделю. Средний показатель: 2.\n",
    "    \n",
    "---"
   ]
  },
  {
   "cell_type": "code",
   "execution_count": 12,
   "metadata": {},
   "outputs": [
    {
     "name": "stdout",
     "output_type": "stream",
     "text": [
      "Прекратили пользование:\n"
     ]
    },
    {
     "data": {
      "image/png": "[encoded data removed]",
      "text/plain": [
       "<Figure size 432x288 with 1 Axes>"
      ]
     },
     "metadata": {
      "needs_background": "light"
     },
     "output_type": "display_data"
    },
    {
     "data": {
      "image/png": "[encoded data removed]",
      "text/plain": [
       "<Figure size 432x288 with 1 Axes>"
      ]
     },
     "metadata": {
      "needs_background": "light"
     },
     "output_type": "display_data"
    },
    {
     "data": {
      "image/png": "[encoded data removed]",
      "text/plain": [
       "<Figure size 432x288 with 1 Axes>"
      ]
     },
     "metadata": {
      "needs_background": "light"
     },
     "output_type": "display_data"
    },
    {
     "data": {
      "image/png": "[encoded data removed]",
      "text/plain": [
       "<Figure size 432x288 with 1 Axes>"
      ]
     },
     "metadata": {
      "needs_background": "light"
     },
     "output_type": "display_data"
    },
    {
     "data": {
      "image/png": "[encoded data removed]",
      "text/plain": [
       "<Figure size 432x288 with 1 Axes>"
      ]
     },
     "metadata": {
      "needs_background": "light"
     },
     "output_type": "display_data"
    },
    {
     "data": {
      "image/png": "[encoded data removed]",
      "text/plain": [
       "<Figure size 432x288 with 1 Axes>"
      ]
     },
     "metadata": {
      "needs_background": "light"
     },
     "output_type": "display_data"
    },
    {
     "data": {
      "image/png": "[encoded data removed]",
      "text/plain": [
       "<Figure size 432x288 with 1 Axes>"
      ]
     },
     "metadata": {
      "needs_background": "light"
     },
     "output_type": "display_data"
    },
    {
     "data": {
      "image/png": "[encoded data removed]",
      "text/plain": [
       "<Figure size 432x288 with 1 Axes>"
      ]
     },
     "metadata": {
      "needs_background": "light"
     },
     "output_type": "display_data"
    },
    {
     "data": {
      "image/png": "[encoded data removed]",
      "text/plain": [
       "<Figure size 432x288 with 1 Axes>"
      ]
     },
     "metadata": {
      "needs_background": "light"
     },
     "output_type": "display_data"
    },
    {
     "data": {
      "image/png": "[encoded data removed]",
      "text/plain": [
       "<Figure size 432x288 with 1 Axes>"
      ]
     },
     "metadata": {
      "needs_background": "light"
     },
     "output_type": "display_data"
    },
    {
     "data": {
      "image/png": "[encoded data removed]",
      "text/plain": [
       "<Figure size 432x288 with 1 Axes>"
      ]
     },
     "metadata": {
      "needs_background": "light"
     },
     "output_type": "display_data"
    },
    {
     "data": {
      "image/png": "[encoded data removed]",
      "text/plain": [
       "<Figure size 432x288 with 1 Axes>"
      ]
     },
     "metadata": {
      "needs_background": "light"
     },
     "output_type": "display_data"
    },
    {
     "data": {
      "image/png": "[encoded data removed]",
      "text/plain": [
       "<Figure size 432x288 with 1 Axes>"
      ]
     },
     "metadata": {
      "needs_background": "light"
     },
     "output_type": "display_data"
    }
   ],
   "source": [
    "print('Прекратили пользование:')\n",
    "churn_hists(churn_1)"
   ]
  },
  {
   "cell_type": "markdown",
   "metadata": {},
   "source": [
    "---\n",
    "Среди пользователей, прекративших пользование фитнес-клубом:\n",
    "\n",
    "    - Пользователей в возрасте от 26 до 30 лет больше, чем остальных возрастов. Средний возраст: 27 лет.\n",
    "    - Немного больше среди посетителей людей с гендером 1.\n",
    "    - Больше людей, проживающих в районе фитнес-клуба.\n",
    "    - Больше пользователей не являются сотрудниками компаний-партнеров.\n",
    "    - В соновном пользователи берут абонементы на 3 месяца.\n",
    "    - Большинство пользователей пришли не в рамках акции «приведи друга». \n",
    "    - Чаще предпочитают индивидуальные занятия.\n",
    "    - Суммарная выручка от дополнительных услуг фитнес-центра в среднем от 100 до 150. Средний показатель: 115.\n",
    "    - Больше пользователей со сроком 1-2 месяца до окончания абонемента. Средний показатель: 1,7 месяцев.\n",
    "    - Большая часть пользователей новые: от 0 до 2 месяцев с момента первого обращения. Средний показатель: 1 месяц.\n",
    "    - Чаще люди ходят на занятия 1-2 раза в неделю. Средний показатель: 1,5.\n",
    "    - За последний месяц в среднем посещяют около 1 раза в неделю. Средний показатель: 1.\n",
    "    \n",
    "---"
   ]
  },
  {
   "cell_type": "markdown",
   "metadata": {},
   "source": [
    "### Вывод\n",
    "\n",
    "По анализу предоставленных данных можно составить примерный портрет пользователя фитнес-клубом:\n",
    "\n",
    "    Посетитель, прекративший пользование абонементом:\n",
    "        \n",
    "        Человек 1 гендера в возрасте около 27 лет, проживающий в районе фитнес-клуба. Пользователь не является сотрудником компании-партнера и не начинает посещение в рамках акций. Оформляет абонемент в среднем на 3 месяца. Предпочитает индивидуальные занятия в зале. Занимается в зале в среднем около 2 месяцев, посещение сводится к 1 разу в неделю. До окончания действия абонемента у него в среднем остается около 1-2 месяцев.\n",
    "\n",
    "    Посетитель, не прекративший пользование абонементом:\n",
    "        \n",
    "        Человек 1 гендера в возрасте около 30 лет, проживающий в районе фитнес-клуба. Пользователь является сотрудником компании-партнера и начинает посещение клуба в рамках акций. Оформляет абонемент в среднем на 6 месяцев. Предпочитает индивидуальные занятия в зале. Занимается в зале в среднем около 4 месяцев, посещение сводится к 2 и более раз в неделю. До окончания действия абонемента у него в среднем остается около 5 месяцев.\n",
    "        \n",
    "Наблюдаются особенности в поведении людей, прекращающих пользование абонементом: низкая посещаемость и возраст младше 30 лет, абонемент оформляет на самый короткий срок. \n",
    "\n",
    "Так же большая часть постоянных клиентов являются сотрудниками компаний-партнеров, а так же начинают посещения с участия в акции \"приведи друга\". \n",
    "       "
   ]
  },
  {
   "cell_type": "markdown",
   "metadata": {},
   "source": [
    "## Построение модели прогнозирования оттока клиентов"
   ]
  },
  {
   "cell_type": "code",
   "execution_count": 13,
   "metadata": {},
   "outputs": [],
   "source": [
    "X = data.drop('Churn', axis=1)\n",
    "y = data['Churn'] \n",
    "\n",
    "X_train, X_test, y_train, y_test = train_test_split(X, y, test_size=0.2, random_state=0, stratify=y)\n",
    "\n",
    "#задаю модель на основе алгоритма логистической регрессии\n",
    "model = LogisticRegression(solver='liblinear')\n",
    "\n",
    "model.fit(X_train, y_train)\n",
    "\n",
    "predictions = model.predict(X_test)\n",
    "probabilities = model.predict_proba(X_test)[:,1]\n",
    "\n",
    "#задаю модель на основе алгоритма случайного леса\n",
    "rf_model = RandomForestClassifier(n_estimators = 100, random_state=0)\n",
    "\n",
    "rf_model.fit(X_train, y_train)\n",
    "\n",
    "rf_predictions = rf_model.predict(X_test)\n",
    "rf_probabilities = rf_model.predict_proba(X_test)[:, 1]"
   ]
  },
  {
   "cell_type": "code",
   "execution_count": 14,
   "metadata": {},
   "outputs": [
    {
     "name": "stdout",
     "output_type": "stream",
     "text": [
      "Метрики для модели логистической регрессии:\n",
      "\tAccuracy: 0.93\n",
      "\tPrecision: 0.89\n",
      "\tRecall: 0.84\n",
      "Метрики для модели случайного леса:\n",
      "\tAccuracy: 0.92\n",
      "\tPrecision: 0.88\n",
      "\tRecall: 0.83\n"
     ]
    }
   ],
   "source": [
    "def print_all_metrics(y_true, y_pred, y_proba, title='Метрики классификации'):\n",
    "    print(title)\n",
    "    print('\\tAccuracy: {:.2f}'.format(accuracy_score(y_true, y_pred)))\n",
    "    print('\\tPrecision: {:.2f}'.format(precision_score(y_true, y_pred)))\n",
    "    print('\\tRecall: {:.2f}'.format(recall_score(y_true, y_pred)))\n",
    "    \n",
    "print_all_metrics(y_test, predictions, probabilities, title='Метрики для модели логистической регрессии:')\n",
    "print_all_metrics(y_test, rf_predictions, rf_probabilities, title='Метрики для модели случайного леса:')"
   ]
  },
  {
   "cell_type": "markdown",
   "metadata": {},
   "source": [
    "### Вывод\n",
    "\n",
    "Мной было рассмотрено два алгоритма: логистическая регрессия и случайный лес. \n",
    "\n",
    "Судя по метрикам, модель логистической регресси работает лучше, чем случайный лес."
   ]
  },
  {
   "cell_type": "markdown",
   "metadata": {},
   "source": [
    "## Кластеризация клиентов"
   ]
  },
  {
   "cell_type": "code",
   "execution_count": 15,
   "metadata": {},
   "outputs": [
    {
     "data": {
      "image/png": "[encoded data removed]",
      "text/plain": [
       "<Figure size 1080x720 with 1 Axes>"
      ]
     },
     "metadata": {
      "needs_background": "light"
     },
     "output_type": "display_data"
    }
   ],
   "source": [
    "#стандартизирую данные\n",
    "sc = StandardScaler()\n",
    "X_sc = sc.fit_transform(X)\n",
    "\n",
    "# #матрица расстояний\n",
    "linked = linkage(X_sc, method = 'ward')\n",
    "\n",
    "# #строю дендрограмму\n",
    "plt.figure(figsize=(15, 10))  \n",
    "dendrogram(linked, orientation='top')\n",
    "plt.show() "
   ]
  },
  {
   "cell_type": "markdown",
   "metadata": {},
   "source": [
    "---\n",
    "На основании дендрограммы можно выделить 4 кластера для дальнейшей кластеризации.\n",
    "\n",
    "    Но я буду использовать 5, как в задании.\n",
    "\n",
    "---"
   ]
  },
  {
   "cell_type": "code",
   "execution_count": 16,
   "metadata": {},
   "outputs": [
    {
     "data": {
      "text/html": [
       "<div>\n",
       "<style scoped>\n",
       "    .dataframe tbody tr th:only-of-type {\n",
       "        vertical-align: middle;\n",
       "    }\n",
       "\n",
       "    .dataframe tbody tr th {\n",
       "        vertical-align: top;\n",
       "    }\n",
       "\n",
       "    .dataframe thead th {\n",
       "        text-align: right;\n",
       "    }\n",
       "</style>\n",
       "<table border=\"1\" class=\"dataframe\">\n",
       "  <thead>\n",
       "    <tr style=\"text-align: right;\">\n",
       "      <th></th>\n",
       "      <th>gender</th>\n",
       "      <th>Near_Location</th>\n",
       "      <th>Partner</th>\n",
       "      <th>Promo_friends</th>\n",
       "      <th>Phone</th>\n",
       "      <th>Contract_period</th>\n",
       "      <th>Group_visits</th>\n",
       "      <th>Age</th>\n",
       "      <th>Avg_additional_charges_total</th>\n",
       "      <th>Month_to_end_contract</th>\n",
       "      <th>Lifetime</th>\n",
       "      <th>Avg_class_frequency_total</th>\n",
       "      <th>Avg_class_frequency_current_month</th>\n",
       "      <th>Churn</th>\n",
       "    </tr>\n",
       "    <tr>\n",
       "      <th>cluster_km</th>\n",
       "      <th></th>\n",
       "      <th></th>\n",
       "      <th></th>\n",
       "      <th></th>\n",
       "      <th></th>\n",
       "      <th></th>\n",
       "      <th></th>\n",
       "      <th></th>\n",
       "      <th></th>\n",
       "      <th></th>\n",
       "      <th></th>\n",
       "      <th></th>\n",
       "      <th></th>\n",
       "      <th></th>\n",
       "    </tr>\n",
       "  </thead>\n",
       "  <tbody>\n",
       "    <tr>\n",
       "      <th>0</th>\n",
       "      <td>0.502970</td>\n",
       "      <td>0.959406</td>\n",
       "      <td>0.783168</td>\n",
       "      <td>0.574257</td>\n",
       "      <td>1.000000</td>\n",
       "      <td>10.889109</td>\n",
       "      <td>0.542574</td>\n",
       "      <td>29.982178</td>\n",
       "      <td>160.761016</td>\n",
       "      <td>9.954455</td>\n",
       "      <td>4.736634</td>\n",
       "      <td>1.982055</td>\n",
       "      <td>1.974789</td>\n",
       "      <td>0.027723</td>\n",
       "    </tr>\n",
       "    <tr>\n",
       "      <th>1</th>\n",
       "      <td>0.522078</td>\n",
       "      <td>0.862338</td>\n",
       "      <td>0.470130</td>\n",
       "      <td>0.306494</td>\n",
       "      <td>0.000000</td>\n",
       "      <td>4.787013</td>\n",
       "      <td>0.425974</td>\n",
       "      <td>29.301299</td>\n",
       "      <td>143.957664</td>\n",
       "      <td>4.475325</td>\n",
       "      <td>3.924675</td>\n",
       "      <td>1.847220</td>\n",
       "      <td>1.716369</td>\n",
       "      <td>0.267532</td>\n",
       "    </tr>\n",
       "    <tr>\n",
       "      <th>2</th>\n",
       "      <td>0.495050</td>\n",
       "      <td>0.000000</td>\n",
       "      <td>0.463366</td>\n",
       "      <td>0.079208</td>\n",
       "      <td>1.000000</td>\n",
       "      <td>2.352475</td>\n",
       "      <td>0.215842</td>\n",
       "      <td>28.477228</td>\n",
       "      <td>135.457501</td>\n",
       "      <td>2.198020</td>\n",
       "      <td>2.809901</td>\n",
       "      <td>1.660461</td>\n",
       "      <td>1.477324</td>\n",
       "      <td>0.443564</td>\n",
       "    </tr>\n",
       "    <tr>\n",
       "      <th>3</th>\n",
       "      <td>0.485737</td>\n",
       "      <td>1.000000</td>\n",
       "      <td>0.350238</td>\n",
       "      <td>0.240095</td>\n",
       "      <td>1.000000</td>\n",
       "      <td>1.948494</td>\n",
       "      <td>0.341521</td>\n",
       "      <td>28.167987</td>\n",
       "      <td>131.622204</td>\n",
       "      <td>1.856577</td>\n",
       "      <td>2.440571</td>\n",
       "      <td>1.247634</td>\n",
       "      <td>1.012983</td>\n",
       "      <td>0.514263</td>\n",
       "    </tr>\n",
       "    <tr>\n",
       "      <th>4</th>\n",
       "      <td>0.559666</td>\n",
       "      <td>0.976134</td>\n",
       "      <td>0.356802</td>\n",
       "      <td>0.230310</td>\n",
       "      <td>0.998807</td>\n",
       "      <td>2.669451</td>\n",
       "      <td>0.473747</td>\n",
       "      <td>30.125298</td>\n",
       "      <td>161.657905</td>\n",
       "      <td>2.459427</td>\n",
       "      <td>4.898568</td>\n",
       "      <td>2.852002</td>\n",
       "      <td>2.850161</td>\n",
       "      <td>0.068019</td>\n",
       "    </tr>\n",
       "  </tbody>\n",
       "</table>\n",
       "</div>"
      ],
      "text/plain": [
       "              gender  Near_Location   Partner  Promo_friends     Phone  \\\n",
       "cluster_km                                                               \n",
       "0           0.502970       0.959406  0.783168       0.574257  1.000000   \n",
       "1           0.522078       0.862338  0.470130       0.306494  0.000000   \n",
       "2           0.495050       0.000000  0.463366       0.079208  1.000000   \n",
       "3           0.485737       1.000000  0.350238       0.240095  1.000000   \n",
       "4           0.559666       0.976134  0.356802       0.230310  0.998807   \n",
       "\n",
       "            Contract_period  Group_visits        Age  \\\n",
       "cluster_km                                             \n",
       "0                 10.889109      0.542574  29.982178   \n",
       "1                  4.787013      0.425974  29.301299   \n",
       "2                  2.352475      0.215842  28.477228   \n",
       "3                  1.948494      0.341521  28.167987   \n",
       "4                  2.669451      0.473747  30.125298   \n",
       "\n",
       "            Avg_additional_charges_total  Month_to_end_contract  Lifetime  \\\n",
       "cluster_km                                                                  \n",
       "0                             160.761016               9.954455  4.736634   \n",
       "1                             143.957664               4.475325  3.924675   \n",
       "2                             135.457501               2.198020  2.809901   \n",
       "3                             131.622204               1.856577  2.440571   \n",
       "4                             161.657905               2.459427  4.898568   \n",
       "\n",
       "            Avg_class_frequency_total  Avg_class_frequency_current_month  \\\n",
       "cluster_km                                                                 \n",
       "0                            1.982055                           1.974789   \n",
       "1                            1.847220                           1.716369   \n",
       "2                            1.660461                           1.477324   \n",
       "3                            1.247634                           1.012983   \n",
       "4                            2.852002                           2.850161   \n",
       "\n",
       "               Churn  \n",
       "cluster_km            \n",
       "0           0.027723  \n",
       "1           0.267532  \n",
       "2           0.443564  \n",
       "3           0.514263  \n",
       "4           0.068019  "
      ]
     },
     "execution_count": 16,
     "metadata": {},
     "output_type": "execute_result"
    }
   ],
   "source": [
    "#задаю число кластеров\n",
    "km = KMeans(n_clusters = 5, random_state=0)\n",
    "labels = km.fit_predict(X_sc)\n",
    "\n",
    "#сохраняю метки кластера в датасет\n",
    "data['cluster_km'] = labels\n",
    "\n",
    "#вывожу среднее значение признаков по кластерам\n",
    "data.groupby('cluster_km').mean()"
   ]
  },
  {
   "cell_type": "markdown",
   "metadata": {},
   "source": [
    "---\n",
    "- По средним значениям признаков сразу можно заметить два кластера(2 и 3) точно разделенные по признаку местоположения. \n",
    "- Признак Contract_period так же довольно отчетливо разделен на группы.\n",
    "- Кластеры, со средним возрастом пользователей окло 30 лет, имеют признак оттока Churn ближе к 0, что подтверждает предыдущие выводы о портрете пользователя.\n",
    "- Кластеры 2 и 3 менее надежны, так как больше остальных склонны к оттоку.\n",
    "\n",
    "---"
   ]
  },
  {
   "cell_type": "code",
   "execution_count": 17,
   "metadata": {},
   "outputs": [
    {
     "data": {
      "image/png": "[encoded data removed]",
      "text/plain": [
       "<Figure size 720x360 with 1 Axes>"
      ]
     },
     "metadata": {
      "needs_background": "light"
     },
     "output_type": "display_data"
    }
   ],
   "source": [
    "claster_0 = data.query('cluster_km == 0')['Avg_class_frequency_total']\n",
    "claster_1 = data.query('cluster_km == 1')['Avg_class_frequency_total']\n",
    "claster_2 = data.query('cluster_km == 2')['Avg_class_frequency_total']\n",
    "claster_3 = data.query('cluster_km == 3')['Avg_class_frequency_total']\n",
    "claster_4 = data.query('cluster_km == 4')['Avg_class_frequency_total']\n",
    "\n",
    "fig = plt.figure(figsize = (10,5))\n",
    "plt.hist(claster_0, alpha=0.5, label='0')\n",
    "plt.hist(claster_1, alpha=0.5, label='1')\n",
    "plt.hist(claster_2, alpha=0.5, label='2')\n",
    "plt.hist(claster_3, alpha=0.5, label='3')\n",
    "plt.hist(claster_4, alpha=0.5, label='4')\n",
    "plt.legend(loc='upper right')\n",
    "plt.title('Cредняя частота посещений в неделю за все время')\n",
    "plt.show()"
   ]
  },
  {
   "cell_type": "markdown",
   "metadata": {},
   "source": [
    "---\n",
    "- Кластер номер 4 имеет на много больше посетителей, совершающих 2 и более походов в зал в неделю за все время пользования.\n",
    "- 3 кластер можно считать наименее активным.\n",
    "\n",
    "---"
   ]
  },
  {
   "cell_type": "code",
   "execution_count": 18,
   "metadata": {},
   "outputs": [
    {
     "data": {
      "image/png": "[encoded data removed]",
      "text/plain": [
       "<Figure size 720x360 with 1 Axes>"
      ]
     },
     "metadata": {
      "needs_background": "light"
     },
     "output_type": "display_data"
    }
   ],
   "source": [
    "claster_0 = data.query('cluster_km == 0')['Avg_class_frequency_current_month']\n",
    "claster_1 = data.query('cluster_km == 1')['Avg_class_frequency_current_month']\n",
    "claster_2 = data.query('cluster_km == 2')['Avg_class_frequency_current_month']\n",
    "claster_3 = data.query('cluster_km == 3')['Avg_class_frequency_current_month']\n",
    "claster_4 = data.query('cluster_km == 4')['Avg_class_frequency_current_month']\n",
    "\n",
    "fig = plt.figure(figsize = (10,5))\n",
    "plt.hist(claster_0, alpha=0.5, label='0')\n",
    "plt.hist(claster_1, alpha=0.5, label='1')\n",
    "plt.hist(claster_2, alpha=0.5, label='2')\n",
    "plt.hist(claster_3, alpha=0.5, label='3')\n",
    "plt.hist(claster_4, alpha=0.5, label='4')\n",
    "plt.legend(loc='upper right')\n",
    "plt.title('Средняя частота посещений в неделю за предыдущий месяц')\n",
    "plt.show()"
   ]
  },
  {
   "cell_type": "markdown",
   "metadata": {},
   "source": [
    "---\n",
    "- 4 кластер так же можно считать самым активным среди всех за предыдущий месяц. \n",
    "- Кластер 3 так же можно считать самым неактивным среди всех за предыдущий месяц.\n",
    "\n",
    "---"
   ]
  },
  {
   "cell_type": "code",
   "execution_count": 19,
   "metadata": {},
   "outputs": [
    {
     "data": {
      "image/png": "[encoded data removed]",
      "text/plain": [
       "<Figure size 720x360 with 1 Axes>"
      ]
     },
     "metadata": {
      "needs_background": "light"
     },
     "output_type": "display_data"
    }
   ],
   "source": [
    "claster_0 = data.query('cluster_km == 0')['Avg_additional_charges_total']\n",
    "claster_1 = data.query('cluster_km == 1')['Avg_additional_charges_total']\n",
    "claster_2 = data.query('cluster_km == 2')['Avg_additional_charges_total']\n",
    "claster_3 = data.query('cluster_km == 3')['Avg_additional_charges_total']\n",
    "claster_4 = data.query('cluster_km == 4')['Avg_additional_charges_total']\n",
    "\n",
    "fig = plt.figure(figsize = (10,5))\n",
    "plt.hist(claster_0, alpha=0.5, label='0')\n",
    "plt.hist(claster_1, alpha=0.5, label='1')\n",
    "plt.hist(claster_2, alpha=0.5, label='2')\n",
    "plt.hist(claster_3, alpha=0.5, label='3')\n",
    "plt.hist(claster_4, alpha=0.5, label='4')\n",
    "plt.legend(loc='upper right')\n",
    "plt.title('Суммарная выручка от других услуг фитнес-центра')\n",
    "plt.show()"
   ]
  },
  {
   "cell_type": "markdown",
   "metadata": {},
   "source": [
    "---\n",
    "По размеру суммарной выручки от других услуг фитнес-центра 3 кластер можно считать самым прибыльным. Представитель данного кластера обычно тратит не самую боьшую сумму денег, но они превосходят другие кластеры по количеству.\n",
    "\n",
    "---"
   ]
  },
  {
   "cell_type": "code",
   "execution_count": 20,
   "metadata": {},
   "outputs": [
    {
     "data": {
      "image/png": "[encoded data removed]",
      "text/plain": [
       "<Figure size 720x360 with 1 Axes>"
      ]
     },
     "metadata": {
      "needs_background": "light"
     },
     "output_type": "display_data"
    }
   ],
   "source": [
    "claster_0 = data.query('cluster_km == 0')['gender']\n",
    "claster_1 = data.query('cluster_km == 1')['gender']\n",
    "claster_2 = data.query('cluster_km == 2')['gender']\n",
    "claster_3 = data.query('cluster_km == 3')['gender']\n",
    "claster_4 = data.query('cluster_km == 4')['gender']\n",
    "\n",
    "fig = plt.figure(figsize = (10,5))\n",
    "plt.hist([claster_0, claster_1, claster_2, claster_3, claster_4], label=['0', '1', '2', '3', '4'])\n",
    "plt.legend(loc='upper center')\n",
    "plt.title('Пол')\n",
    "plt.show()"
   ]
  },
  {
   "cell_type": "markdown",
   "metadata": {},
   "source": [
    "---\n",
    "- Самым многочисленным можно считать 3 кластер.\n",
    "- 1 кластер самый маленький по количеству пользователей.\n",
    "\n",
    "---"
   ]
  },
  {
   "cell_type": "code",
   "execution_count": 21,
   "metadata": {},
   "outputs": [
    {
     "data": {
      "image/png": "[encoded data removed]",
      "text/plain": [
       "<Figure size 720x360 with 1 Axes>"
      ]
     },
     "metadata": {
      "needs_background": "light"
     },
     "output_type": "display_data"
    }
   ],
   "source": [
    "claster_0 = data.query('cluster_km == 0')['Near_Location']\n",
    "claster_1 = data.query('cluster_km == 1')['Near_Location']\n",
    "claster_2 = data.query('cluster_km == 2')['Near_Location']\n",
    "claster_3 = data.query('cluster_km == 3')['Near_Location']\n",
    "claster_4 = data.query('cluster_km == 4')['Near_Location']\n",
    "\n",
    "fig = plt.figure(figsize = (10,5))\n",
    "plt.hist([claster_0, claster_1, claster_2, claster_3, claster_4], label=['0', '1', '2', '3', '4'])\n",
    "plt.legend(loc='upper center')\n",
    "plt.title('Проживание или работа в районе фитнес-центра')\n",
    "plt.show()"
   ]
  },
  {
   "cell_type": "markdown",
   "metadata": {},
   "source": [
    "---\n",
    "- В кластере 2 собраны только те пользователи, которые проживают или работают в другом районе.\n",
    "- 3 кластер собрал в себе пользователей проживающих или работающих в районе с фитнес-центра.\n",
    "- В общем мы имеем боьше пользователей, проживающих в районе фитнес-центра.\n",
    "\n",
    "---"
   ]
  },
  {
   "cell_type": "code",
   "execution_count": 22,
   "metadata": {},
   "outputs": [
    {
     "data": {
      "image/png": "[encoded data removed]",
      "text/plain": [
       "<Figure size 720x360 with 1 Axes>"
      ]
     },
     "metadata": {
      "needs_background": "light"
     },
     "output_type": "display_data"
    }
   ],
   "source": [
    "claster_0 = data.query('cluster_km == 0')['Partner']\n",
    "claster_1 = data.query('cluster_km == 1')['Partner']\n",
    "claster_2 = data.query('cluster_km == 2')['Partner']\n",
    "claster_3 = data.query('cluster_km == 3')['Partner']\n",
    "claster_4 = data.query('cluster_km == 4')['Partner']\n",
    "\n",
    "fig = plt.figure(figsize = (10,5))\n",
    "plt.hist([claster_0, claster_1, claster_2, claster_3, claster_4], label=['0', '1', '2', '3', '4'])\n",
    "plt.legend(loc='upper center')\n",
    "plt.title('Сотрудник компании-партнёра клуба')\n",
    "plt.show()"
   ]
  },
  {
   "cell_type": "markdown",
   "metadata": {},
   "source": [
    "---\n",
    "- Кластер 0 лидирует по количеству сотрудников компаний-партнеров.\n",
    "- В 3 и 4 кластерах сотрудников компаний-партнеров меньше.\n",
    "\n",
    "---"
   ]
  },
  {
   "cell_type": "code",
   "execution_count": 23,
   "metadata": {},
   "outputs": [
    {
     "data": {
      "image/png": "[encoded data removed]",
      "text/plain": [
       "<Figure size 720x360 with 1 Axes>"
      ]
     },
     "metadata": {
      "needs_background": "light"
     },
     "output_type": "display_data"
    }
   ],
   "source": [
    "claster_0 = data.query('cluster_km == 0')['Promo_friends']\n",
    "claster_1 = data.query('cluster_km == 1')['Promo_friends']\n",
    "claster_2 = data.query('cluster_km == 2')['Promo_friends']\n",
    "claster_3 = data.query('cluster_km == 3')['Promo_friends']\n",
    "claster_4 = data.query('cluster_km == 4')['Promo_friends']\n",
    "\n",
    "fig = plt.figure(figsize = (10,5))\n",
    "plt.hist([claster_0, claster_1, claster_2, claster_3, claster_4], label=['0', '1', '2', '3', '4'])\n",
    "plt.legend(loc='upper center')\n",
    "plt.title('Факт первоначальной записи в рамках акции «приведи друга»')\n",
    "plt.show()"
   ]
  },
  {
   "cell_type": "markdown",
   "metadata": {},
   "source": [
    "---\n",
    "- В общем в акции «приведи друга» участвовало не так много пользователей.\n",
    "- В кластере 0 больше участников акции.\n",
    "- 3 и 4 кластеы больше чем на половину состоят из пользователей, не принявших участие в акции.\n",
    "\n",
    "---"
   ]
  },
  {
   "cell_type": "code",
   "execution_count": 24,
   "metadata": {},
   "outputs": [
    {
     "data": {
      "image/png": "[encoded data removed]",
      "text/plain": [
       "<Figure size 720x360 with 1 Axes>"
      ]
     },
     "metadata": {
      "needs_background": "light"
     },
     "output_type": "display_data"
    }
   ],
   "source": [
    "claster_0 = data.query('cluster_km == 0')['Age']\n",
    "claster_1 = data.query('cluster_km == 1')['Age']\n",
    "claster_2 = data.query('cluster_km == 2')['Age']\n",
    "claster_3 = data.query('cluster_km == 3')['Age']\n",
    "claster_4 = data.query('cluster_km == 4')['Age']\n",
    "\n",
    "fig = plt.figure(figsize = (10,5))\n",
    "plt.hist(claster_0, alpha=0.5, label='0')\n",
    "plt.hist(claster_1, alpha=0.5, label='1')\n",
    "plt.hist(claster_2, alpha=0.5, label='2')\n",
    "plt.hist(claster_3, alpha=0.5, label='3')\n",
    "plt.hist(claster_4, alpha=0.5, label='4')\n",
    "plt.legend(loc='upper right')\n",
    "plt.title('Возраст')\n",
    "plt.show()"
   ]
  },
  {
   "cell_type": "markdown",
   "metadata": {},
   "source": [
    "---\n",
    "- 3 кластер состоит в основном из людей от 25 до 28 лет.\n",
    "- 0 и 4 кластеры имеют в своих рядах больше людей в возрасте от 30 до 35.\n",
    "\n",
    "---"
   ]
  },
  {
   "cell_type": "code",
   "execution_count": 25,
   "metadata": {},
   "outputs": [
    {
     "data": {
      "image/png": "[encoded data removed]",
      "text/plain": [
       "<Figure size 720x360 with 1 Axes>"
      ]
     },
     "metadata": {
      "needs_background": "light"
     },
     "output_type": "display_data"
    }
   ],
   "source": [
    "claster_0 = data.query('cluster_km == 0')['Lifetime']\n",
    "claster_1 = data.query('cluster_km == 1')['Lifetime']\n",
    "claster_2 = data.query('cluster_km == 2')['Lifetime']\n",
    "claster_3 = data.query('cluster_km == 3')['Lifetime']\n",
    "claster_4 = data.query('cluster_km == 4')['Lifetime']\n",
    "\n",
    "fig = plt.figure(figsize = (10,5))\n",
    "plt.hist(claster_0, alpha=0.5, label='0')\n",
    "plt.hist(claster_1, alpha=0.5, label='1')\n",
    "plt.hist(claster_2, alpha=0.5, label='2')\n",
    "plt.hist(claster_3, alpha=0.5, label='3')\n",
    "plt.hist(claster_4, alpha=0.5, label='4')\n",
    "plt.legend(loc='upper right')\n",
    "plt.title('Время с момента первого обращения в фитнес-центр (в месяцах)')\n",
    "plt.show()"
   ]
  },
  {
   "cell_type": "markdown",
   "metadata": {},
   "source": [
    "---\n",
    "3 кластер можно считать самым молодым по данному признаку.\n",
    "\n",
    "---"
   ]
  },
  {
   "cell_type": "code",
   "execution_count": 26,
   "metadata": {},
   "outputs": [
    {
     "data": {
      "image/png": "[encoded data removed]",
      "text/plain": [
       "<Figure size 720x360 with 1 Axes>"
      ]
     },
     "metadata": {
      "needs_background": "light"
     },
     "output_type": "display_data"
    }
   ],
   "source": [
    "claster_0 = data.query('cluster_km == 0')['Group_visits']\n",
    "claster_1 = data.query('cluster_km == 1')['Group_visits']\n",
    "claster_2 = data.query('cluster_km == 2')['Group_visits']\n",
    "claster_3 = data.query('cluster_km == 3')['Group_visits']\n",
    "claster_4 = data.query('cluster_km == 4')['Group_visits']\n",
    "\n",
    "fig = plt.figure(figsize = (10,5))\n",
    "plt.hist([claster_0, claster_1, claster_2, claster_3, claster_4], label=['0', '1', '2', '3', '4'])\n",
    "plt.legend(loc='upper center')\n",
    "plt.title('Факт посещения групповых занятий')\n",
    "plt.show()"
   ]
  },
  {
   "cell_type": "markdown",
   "metadata": {},
   "source": [
    "---\n",
    "- 3 кластер предпочитает индивидуальные занятия.\n",
    "- 0 кластер единственный из всех, в котором пользователи посещают групповые занятия чаще индивидуальных.\n",
    "\n",
    "---"
   ]
  },
  {
   "cell_type": "code",
   "execution_count": 27,
   "metadata": {},
   "outputs": [
    {
     "data": {
      "image/png": "[encoded data removed]",
      "text/plain": [
       "<Figure size 720x360 with 1 Axes>"
      ]
     },
     "metadata": {
      "needs_background": "light"
     },
     "output_type": "display_data"
    }
   ],
   "source": [
    "claster_0 = data.query('cluster_km == 0')['Month_to_end_contract']\n",
    "claster_1 = data.query('cluster_km == 1')['Month_to_end_contract']\n",
    "claster_2 = data.query('cluster_km == 2')['Month_to_end_contract']\n",
    "claster_3 = data.query('cluster_km == 3')['Month_to_end_contract']\n",
    "claster_4 = data.query('cluster_km == 4')['Month_to_end_contract']\n",
    "\n",
    "fig = plt.figure(figsize = (10,5))\n",
    "plt.hist(claster_0, alpha=0.5, label='0')\n",
    "plt.hist(claster_1, alpha=0.5, label='1')\n",
    "plt.hist(claster_2, alpha=0.5, label='2')\n",
    "plt.hist(claster_3, alpha=0.5, label='3')\n",
    "plt.hist(claster_4, alpha=0.5, label='4')\n",
    "plt.legend(loc='upper right')\n",
    "plt.title('Срок до окончания текущего действующего абонемента (в месяцах)')\n",
    "plt.show()"
   ]
  },
  {
   "cell_type": "markdown",
   "metadata": {},
   "source": [
    "---\n",
    "- 3 и 4 кластеры чаще покупают краткосрочные абонементы.\n",
    "- 0 кластер больше отдает предпочтение годовым абонементам.\n",
    "\n",
    "---"
   ]
  },
  {
   "cell_type": "code",
   "execution_count": 28,
   "metadata": {},
   "outputs": [
    {
     "data": {
      "image/png": "[encoded data removed]",
      "text/plain": [
       "<Figure size 720x360 with 1 Axes>"
      ]
     },
     "metadata": {
      "needs_background": "light"
     },
     "output_type": "display_data"
    }
   ],
   "source": [
    "claster_0 = data.query('cluster_km == 0')['Contract_period']\n",
    "claster_1 = data.query('cluster_km == 1')['Contract_period']\n",
    "claster_2 = data.query('cluster_km == 2')['Contract_period']\n",
    "claster_3 = data.query('cluster_km == 3')['Contract_period']\n",
    "claster_4 = data.query('cluster_km == 4')['Contract_period']\n",
    "\n",
    "fig = plt.figure(figsize = (10,5))\n",
    "plt.hist([claster_0, claster_1, claster_2, claster_3, claster_4], label=['0', '1', '2', '3', '4'])\n",
    "plt.legend(loc='upper center')\n",
    "plt.title('Длительность текущего действующего абонемента (месяц, 3 месяца, 6 месяцев, год)')\n",
    "plt.show()"
   ]
  },
  {
   "cell_type": "markdown",
   "metadata": {},
   "source": [
    "---\n",
    "- В подтверждение предыдущего графика можно сказать что 0 кластер больше склонен к покупке годовых абонементов.\n",
    "- 3 и 4 кластеры больше отдают предпочтение абонементам на 3 и 6 месяцев.\n",
    "\n",
    "---"
   ]
  },
  {
   "cell_type": "markdown",
   "metadata": {},
   "source": [
    "## Общий вывод"
   ]
  },
  {
   "cell_type": "markdown",
   "metadata": {},
   "source": [
    "Итак, мы имеем несколько выделающихся кластеров с характерным поведением:\n",
    "\n",
    "    0 кластер: Средний возраст от 30 до 35, сотрудники компаний-партнеров, участники акции \"приведи друга\". Посещают зал в среднем больше 2 раз в неделю, предпочитают групповые занятия. Чаще всего оформляют абонементы на год.\n",
    "    \n",
    "    3 кластер: Средний возраст от 25 до 30 лет, чаще не являются сотрудниками компаний-партнеров. В акции \"приведи друга\" почти не участвуют. Посещают зал в среднем 1-2 раза в неделю, почти не посещают групповые занятия.Чаще всего оформляют абонементы на 3 месяца. Являются активными пользователями дополнительных услуг фитне-центра: кафе, спорт-товары, косметический и массажный салон.\n",
    "    \n",
    "    4 кластер: Средний возраст от 30 до 35, чаще не являются сотрудниками компаний-партнеров. В акции \"приведи друга\" почти не участвуют. Посещают зал в среднем больше 2 раз в неделю, в равной степени интересуются как групповыми, так и индивидуальными занятиями. Чаще всего оформляют абонемент на 3 и 6 месяцев. \n",
    "    \n",
    "3 кластер больше остальных склонен к оттоку, чем остальные. Поэтому предлагаю два пути взаимодействия с клиентом: \n",
    "\n",
    "    1) Для пользователей склонных к оттоку, как в 3 кластере, можно сделать уклон на предоставление дополнительных услуг фитнес-центра и акции связанные с ними. Так же немаловажным будет предоставление возможности занятий с индивидуальным тренером и составление индивидуальной программы тренировок. \n",
    "    \n",
    "    2) Для пользователей не склонных к оттоку, как в 0 и 4 кластерах, необходимо сделать упор на предоставление широкого спектра групповых занятий, введение скидочных акций и т.д. "
   ]
  },
  {
   "cell_type": "code",
   "execution_count": null,
   "metadata": {},
   "outputs": [],
   "source": []
  }
 ],
 "metadata": {
  "ExecuteTimeLog": [
   {
    "duration": 759,
    "start_time": "2021-11-24T11:58:23.974Z"
   },
   {
    "duration": 49,
    "start_time": "2021-11-24T11:59:12.415Z"
   },
   {
    "duration": 16,
    "start_time": "2021-11-24T12:02:02.875Z"
   },
   {
    "duration": 5,
    "start_time": "2021-11-24T12:02:27.851Z"
   },
   {
    "duration": 11,
    "start_time": "2021-11-24T12:02:35.933Z"
   },
   {
    "duration": 69,
    "start_time": "2021-11-24T12:17:12.508Z"
   },
   {
    "duration": 433,
    "start_time": "2021-11-24T12:20:37.270Z"
   },
   {
    "duration": 8,
    "start_time": "2021-11-24T12:21:47.850Z"
   },
   {
    "duration": 5,
    "start_time": "2021-11-24T12:24:42.628Z"
   },
   {
    "duration": 24,
    "start_time": "2021-11-24T12:26:55.476Z"
   },
   {
    "duration": 28,
    "start_time": "2021-11-24T12:28:40.630Z"
   },
   {
    "duration": 5,
    "start_time": "2021-11-24T12:30:25.782Z"
   },
   {
    "duration": 44,
    "start_time": "2021-11-24T12:30:34.058Z"
   },
   {
    "duration": 19,
    "start_time": "2021-11-24T12:31:08.649Z"
   },
   {
    "duration": 17,
    "start_time": "2021-11-24T12:31:15.334Z"
   },
   {
    "duration": 36,
    "start_time": "2021-11-24T12:31:30.892Z"
   },
   {
    "duration": 881,
    "start_time": "2021-11-24T12:31:48.277Z"
   },
   {
    "duration": 47,
    "start_time": "2021-11-24T12:31:49.161Z"
   },
   {
    "duration": 14,
    "start_time": "2021-11-24T12:31:49.212Z"
   },
   {
    "duration": 7,
    "start_time": "2021-11-24T12:31:49.229Z"
   },
   {
    "duration": 32,
    "start_time": "2021-11-24T12:31:49.238Z"
   },
   {
    "duration": 45,
    "start_time": "2021-11-24T12:31:49.272Z"
   },
   {
    "duration": 17,
    "start_time": "2021-11-24T12:31:49.320Z"
   },
   {
    "duration": 29,
    "start_time": "2021-11-24T12:31:49.370Z"
   },
   {
    "duration": 803,
    "start_time": "2021-11-24T12:34:08.155Z"
   },
   {
    "duration": 47,
    "start_time": "2021-11-24T12:34:08.960Z"
   },
   {
    "duration": 10,
    "start_time": "2021-11-24T12:34:09.014Z"
   },
   {
    "duration": 14,
    "start_time": "2021-11-24T12:34:09.027Z"
   },
   {
    "duration": 26,
    "start_time": "2021-11-24T12:34:09.044Z"
   },
   {
    "duration": 60,
    "start_time": "2021-11-24T12:34:09.073Z"
   },
   {
    "duration": 34,
    "start_time": "2021-11-24T12:34:09.136Z"
   },
   {
    "duration": 28,
    "start_time": "2021-11-24T12:34:09.172Z"
   },
   {
    "duration": 12,
    "start_time": "2021-11-24T12:34:24.917Z"
   },
   {
    "duration": 822,
    "start_time": "2021-11-24T12:34:30.026Z"
   },
   {
    "duration": 51,
    "start_time": "2021-11-24T12:34:30.851Z"
   },
   {
    "duration": 13,
    "start_time": "2021-11-24T12:34:30.906Z"
   },
   {
    "duration": 13,
    "start_time": "2021-11-24T12:34:30.922Z"
   },
   {
    "duration": 29,
    "start_time": "2021-11-24T12:34:30.938Z"
   },
   {
    "duration": 48,
    "start_time": "2021-11-24T12:34:30.970Z"
   },
   {
    "duration": 19,
    "start_time": "2021-11-24T12:34:31.020Z"
   },
   {
    "duration": 51,
    "start_time": "2021-11-24T12:34:31.042Z"
   },
   {
    "duration": 6,
    "start_time": "2021-11-24T12:35:04.683Z"
   },
   {
    "duration": 755,
    "start_time": "2021-11-24T12:35:10.113Z"
   },
   {
    "duration": 50,
    "start_time": "2021-11-24T12:35:10.870Z"
   },
   {
    "duration": 12,
    "start_time": "2021-11-24T12:35:10.924Z"
   },
   {
    "duration": 33,
    "start_time": "2021-11-24T12:35:10.939Z"
   },
   {
    "duration": 5,
    "start_time": "2021-11-24T12:35:10.974Z"
   },
   {
    "duration": 55,
    "start_time": "2021-11-24T12:35:10.982Z"
   },
   {
    "duration": 44,
    "start_time": "2021-11-24T12:35:11.039Z"
   },
   {
    "duration": 30,
    "start_time": "2021-11-24T12:35:11.087Z"
   },
   {
    "duration": 418,
    "start_time": "2021-11-24T13:34:00.827Z"
   },
   {
    "duration": 26,
    "start_time": "2021-11-24T13:34:08.827Z"
   },
   {
    "duration": 26,
    "start_time": "2021-11-24T13:34:29.303Z"
   },
   {
    "duration": 10,
    "start_time": "2021-11-24T13:34:33.825Z"
   },
   {
    "duration": 356,
    "start_time": "2021-11-24T13:38:03.062Z"
   },
   {
    "duration": 963,
    "start_time": "2021-11-24T13:38:09.346Z"
   },
   {
    "duration": 46,
    "start_time": "2021-11-24T13:38:10.312Z"
   },
   {
    "duration": 17,
    "start_time": "2021-11-24T13:38:10.362Z"
   },
   {
    "duration": 9,
    "start_time": "2021-11-24T13:38:10.383Z"
   },
   {
    "duration": 8,
    "start_time": "2021-11-24T13:38:10.395Z"
   },
   {
    "duration": 91,
    "start_time": "2021-11-24T13:38:10.406Z"
   },
   {
    "duration": 17,
    "start_time": "2021-11-24T13:38:10.500Z"
   },
   {
    "duration": 55,
    "start_time": "2021-11-24T13:38:10.520Z"
   },
   {
    "duration": 10,
    "start_time": "2021-11-24T13:38:10.578Z"
   },
   {
    "duration": 2675,
    "start_time": "2021-11-24T13:38:10.591Z"
   },
   {
    "duration": 1969,
    "start_time": "2021-11-24T13:38:22.166Z"
   },
   {
    "duration": 127,
    "start_time": "2021-11-24T13:39:21.367Z"
   },
   {
    "duration": 1760,
    "start_time": "2021-11-24T13:39:29.823Z"
   },
   {
    "duration": 642,
    "start_time": "2021-11-24T13:41:15.779Z"
   },
   {
    "duration": 552,
    "start_time": "2021-11-24T13:41:32.319Z"
   },
   {
    "duration": 1766,
    "start_time": "2021-11-24T13:41:43.261Z"
   },
   {
    "duration": 1821,
    "start_time": "2021-11-24T13:42:30.429Z"
   },
   {
    "duration": 107,
    "start_time": "2021-11-24T13:56:12.398Z"
   },
   {
    "duration": 1804,
    "start_time": "2021-11-24T13:56:16.840Z"
   },
   {
    "duration": 1792,
    "start_time": "2021-11-24T13:56:26.678Z"
   },
   {
    "duration": 3546,
    "start_time": "2021-11-24T13:56:40.860Z"
   },
   {
    "duration": 1843,
    "start_time": "2021-11-24T13:57:02.483Z"
   },
   {
    "duration": 1826,
    "start_time": "2021-11-24T13:57:07.541Z"
   },
   {
    "duration": 63,
    "start_time": "2021-11-24T13:58:51.374Z"
   },
   {
    "duration": 9036,
    "start_time": "2021-11-24T13:58:53.253Z"
   },
   {
    "duration": 11,
    "start_time": "2021-11-24T17:15:09.469Z"
   },
   {
    "duration": 9,
    "start_time": "2021-11-24T17:15:16.656Z"
   },
   {
    "duration": 9,
    "start_time": "2021-11-24T17:15:22.733Z"
   },
   {
    "duration": 1757,
    "start_time": "2021-11-24T17:15:40.905Z"
   },
   {
    "duration": 587,
    "start_time": "2021-11-25T08:51:22.454Z"
   },
   {
    "duration": 33,
    "start_time": "2021-11-25T08:51:23.043Z"
   },
   {
    "duration": 8,
    "start_time": "2021-11-25T08:51:23.078Z"
   },
   {
    "duration": 16,
    "start_time": "2021-11-25T08:51:23.091Z"
   },
   {
    "duration": 4,
    "start_time": "2021-11-25T08:51:23.109Z"
   },
   {
    "duration": 30,
    "start_time": "2021-11-25T08:51:23.115Z"
   },
   {
    "duration": 11,
    "start_time": "2021-11-25T08:51:23.147Z"
   },
   {
    "duration": 44,
    "start_time": "2021-11-25T08:51:23.161Z"
   },
   {
    "duration": 8,
    "start_time": "2021-11-25T08:51:23.207Z"
   },
   {
    "duration": 1145,
    "start_time": "2021-11-25T08:51:23.216Z"
   },
   {
    "duration": 1136,
    "start_time": "2021-11-25T08:51:24.363Z"
   },
   {
    "duration": 1096,
    "start_time": "2021-11-25T11:28:48.187Z"
   },
   {
    "duration": 1088,
    "start_time": "2021-11-25T11:28:50.075Z"
   },
   {
    "duration": 1984,
    "start_time": "2021-11-25T11:29:35.666Z"
   },
   {
    "duration": 1112,
    "start_time": "2021-11-25T11:29:44.438Z"
   },
   {
    "duration": 1232,
    "start_time": "2021-11-25T11:29:49.111Z"
   },
   {
    "duration": 1068,
    "start_time": "2021-11-25T11:29:59.128Z"
   },
   {
    "duration": 1221,
    "start_time": "2021-11-25T11:30:11.335Z"
   },
   {
    "duration": 1443,
    "start_time": "2021-11-25T11:30:21.789Z"
   },
   {
    "duration": 1511,
    "start_time": "2021-11-25T11:30:30.156Z"
   },
   {
    "duration": 1267,
    "start_time": "2021-11-25T11:30:56.337Z"
   },
   {
    "duration": 1132,
    "start_time": "2021-11-25T11:31:04.426Z"
   },
   {
    "duration": 1060,
    "start_time": "2021-11-25T11:31:17.476Z"
   },
   {
    "duration": 1162,
    "start_time": "2021-11-25T11:32:47.470Z"
   },
   {
    "duration": 1047,
    "start_time": "2021-11-25T11:33:13.376Z"
   },
   {
    "duration": 457,
    "start_time": "2021-11-25T11:36:39.797Z"
   },
   {
    "duration": 1121,
    "start_time": "2021-11-25T11:36:56.505Z"
   },
   {
    "duration": 33,
    "start_time": "2021-11-25T11:36:57.628Z"
   },
   {
    "duration": 8,
    "start_time": "2021-11-25T11:36:57.663Z"
   },
   {
    "duration": 5,
    "start_time": "2021-11-25T11:36:57.673Z"
   },
   {
    "duration": 15,
    "start_time": "2021-11-25T11:36:57.679Z"
   },
   {
    "duration": 32,
    "start_time": "2021-11-25T11:36:57.696Z"
   },
   {
    "duration": 10,
    "start_time": "2021-11-25T11:36:57.730Z"
   },
   {
    "duration": 17,
    "start_time": "2021-11-25T11:36:57.742Z"
   },
   {
    "duration": 47661,
    "start_time": "2021-11-25T11:36:57.761Z"
   },
   {
    "duration": -128,
    "start_time": "2021-11-25T11:37:45.552Z"
   },
   {
    "duration": -131,
    "start_time": "2021-11-25T11:37:45.556Z"
   },
   {
    "duration": -132,
    "start_time": "2021-11-25T11:37:45.558Z"
   },
   {
    "duration": 5,
    "start_time": "2021-11-25T11:38:06.459Z"
   },
   {
    "duration": 1073,
    "start_time": "2021-11-25T11:38:12.378Z"
   },
   {
    "duration": 1076,
    "start_time": "2021-11-25T11:38:44.927Z"
   },
   {
    "duration": 1234,
    "start_time": "2021-11-25T11:39:27.719Z"
   },
   {
    "duration": 1218,
    "start_time": "2021-11-25T11:39:37.846Z"
   },
   {
    "duration": 1345,
    "start_time": "2021-11-25T11:39:49.538Z"
   },
   {
    "duration": 1302,
    "start_time": "2021-11-25T11:40:04.784Z"
   },
   {
    "duration": 1356,
    "start_time": "2021-11-25T11:40:14.954Z"
   },
   {
    "duration": 7,
    "start_time": "2021-11-25T11:50:26.504Z"
   },
   {
    "duration": 1073,
    "start_time": "2021-11-25T11:50:27.006Z"
   },
   {
    "duration": 1115,
    "start_time": "2021-11-25T11:50:28.316Z"
   },
   {
    "duration": 1160,
    "start_time": "2021-11-25T12:07:35.388Z"
   },
   {
    "duration": 14,
    "start_time": "2021-11-25T12:08:23.877Z"
   },
   {
    "duration": 12,
    "start_time": "2021-11-25T12:14:30.960Z"
   },
   {
    "duration": 7,
    "start_time": "2021-11-25T12:16:56.648Z"
   },
   {
    "duration": 2508,
    "start_time": "2021-11-25T12:16:57.540Z"
   },
   {
    "duration": 2567,
    "start_time": "2021-11-25T12:17:04.959Z"
   },
   {
    "duration": 5,
    "start_time": "2021-11-25T12:34:26.698Z"
   },
   {
    "duration": 32,
    "start_time": "2021-11-25T12:34:28.305Z"
   },
   {
    "duration": 13,
    "start_time": "2021-11-25T12:34:36.558Z"
   },
   {
    "duration": 1122,
    "start_time": "2021-11-25T12:36:03.170Z"
   },
   {
    "duration": 35,
    "start_time": "2021-11-25T12:36:04.294Z"
   },
   {
    "duration": 8,
    "start_time": "2021-11-25T12:36:04.330Z"
   },
   {
    "duration": 26,
    "start_time": "2021-11-25T12:36:04.339Z"
   },
   {
    "duration": 18,
    "start_time": "2021-11-25T12:36:04.366Z"
   },
   {
    "duration": 70,
    "start_time": "2021-11-25T12:36:04.386Z"
   },
   {
    "duration": 12,
    "start_time": "2021-11-25T12:36:04.457Z"
   },
   {
    "duration": 15,
    "start_time": "2021-11-25T12:36:04.471Z"
   },
   {
    "duration": 1335,
    "start_time": "2021-11-25T12:36:04.488Z"
   },
   {
    "duration": 7,
    "start_time": "2021-11-25T12:36:05.825Z"
   },
   {
    "duration": 2501,
    "start_time": "2021-11-25T12:36:05.833Z"
   },
   {
    "duration": 2398,
    "start_time": "2021-11-25T12:36:08.336Z"
   },
   {
    "duration": 274,
    "start_time": "2021-11-25T14:07:33.571Z"
   },
   {
    "duration": 1105,
    "start_time": "2021-11-25T14:07:58.549Z"
   },
   {
    "duration": 36,
    "start_time": "2021-11-25T14:07:59.656Z"
   },
   {
    "duration": 12,
    "start_time": "2021-11-25T14:07:59.695Z"
   },
   {
    "duration": 10,
    "start_time": "2021-11-25T14:07:59.709Z"
   },
   {
    "duration": 7,
    "start_time": "2021-11-25T14:07:59.720Z"
   },
   {
    "duration": 34,
    "start_time": "2021-11-25T14:07:59.728Z"
   },
   {
    "duration": 34,
    "start_time": "2021-11-25T14:07:59.764Z"
   },
   {
    "duration": 6,
    "start_time": "2021-11-25T14:07:59.802Z"
   },
   {
    "duration": 1355,
    "start_time": "2021-11-25T14:07:59.810Z"
   },
   {
    "duration": 7,
    "start_time": "2021-11-25T14:08:01.167Z"
   },
   {
    "duration": 2447,
    "start_time": "2021-11-25T14:08:01.176Z"
   },
   {
    "duration": 2472,
    "start_time": "2021-11-25T14:08:03.625Z"
   },
   {
    "duration": 32,
    "start_time": "2021-11-25T14:08:06.099Z"
   },
   {
    "duration": 6,
    "start_time": "2021-11-25T14:08:13.281Z"
   },
   {
    "duration": 4,
    "start_time": "2021-11-25T14:08:25.102Z"
   },
   {
    "duration": 24,
    "start_time": "2021-11-25T14:08:35.557Z"
   },
   {
    "duration": 11,
    "start_time": "2021-11-25T14:08:36.102Z"
   },
   {
    "duration": 31,
    "start_time": "2021-11-25T14:10:50.402Z"
   },
   {
    "duration": 10,
    "start_time": "2021-11-25T14:10:55.663Z"
   },
   {
    "duration": 29,
    "start_time": "2021-11-25T14:11:05.691Z"
   },
   {
    "duration": 12,
    "start_time": "2021-11-25T14:11:06.249Z"
   },
   {
    "duration": 32,
    "start_time": "2021-11-25T14:11:31.566Z"
   },
   {
    "duration": 11,
    "start_time": "2021-11-25T14:11:32.133Z"
   },
   {
    "duration": 416,
    "start_time": "2021-11-25T14:15:03.781Z"
   },
   {
    "duration": 1204,
    "start_time": "2021-11-25T14:15:39.273Z"
   },
   {
    "duration": 38,
    "start_time": "2021-11-25T14:15:40.479Z"
   },
   {
    "duration": 12,
    "start_time": "2021-11-25T14:15:40.523Z"
   },
   {
    "duration": 22,
    "start_time": "2021-11-25T14:15:40.536Z"
   },
   {
    "duration": 11,
    "start_time": "2021-11-25T14:15:40.560Z"
   },
   {
    "duration": 58,
    "start_time": "2021-11-25T14:15:40.572Z"
   },
   {
    "duration": 12,
    "start_time": "2021-11-25T14:15:40.633Z"
   },
   {
    "duration": 9,
    "start_time": "2021-11-25T14:15:40.647Z"
   },
   {
    "duration": 1386,
    "start_time": "2021-11-25T14:15:40.658Z"
   },
   {
    "duration": 8,
    "start_time": "2021-11-25T14:15:42.045Z"
   },
   {
    "duration": 2557,
    "start_time": "2021-11-25T14:15:42.055Z"
   },
   {
    "duration": 2520,
    "start_time": "2021-11-25T14:15:44.614Z"
   },
   {
    "duration": 671,
    "start_time": "2021-11-25T14:15:47.136Z"
   },
   {
    "duration": 402,
    "start_time": "2021-11-25T15:39:38.607Z"
   },
   {
    "duration": 1129,
    "start_time": "2021-11-25T15:40:10.372Z"
   },
   {
    "duration": 34,
    "start_time": "2021-11-25T15:40:11.504Z"
   },
   {
    "duration": 7,
    "start_time": "2021-11-25T15:40:11.540Z"
   },
   {
    "duration": 5,
    "start_time": "2021-11-25T15:40:11.549Z"
   },
   {
    "duration": 3,
    "start_time": "2021-11-25T15:40:11.556Z"
   },
   {
    "duration": 45,
    "start_time": "2021-11-25T15:40:11.561Z"
   },
   {
    "duration": 12,
    "start_time": "2021-11-25T15:40:11.607Z"
   },
   {
    "duration": 5,
    "start_time": "2021-11-25T15:40:11.621Z"
   },
   {
    "duration": 1232,
    "start_time": "2021-11-25T15:40:11.628Z"
   },
   {
    "duration": 8,
    "start_time": "2021-11-25T15:40:12.861Z"
   },
   {
    "duration": 2315,
    "start_time": "2021-11-25T15:40:12.870Z"
   },
   {
    "duration": 2320,
    "start_time": "2021-11-25T15:40:15.187Z"
   },
   {
    "duration": 570,
    "start_time": "2021-11-25T15:40:17.508Z"
   },
   {
    "duration": 13,
    "start_time": "2021-11-25T15:40:18.080Z"
   },
   {
    "duration": 13,
    "start_time": "2021-11-25T15:41:08.299Z"
   },
   {
    "duration": 1597,
    "start_time": "2021-11-26T11:48:49.687Z"
   },
   {
    "duration": 43,
    "start_time": "2021-11-26T11:48:51.287Z"
   },
   {
    "duration": 11,
    "start_time": "2021-11-26T11:48:51.333Z"
   },
   {
    "duration": 8,
    "start_time": "2021-11-26T11:48:51.359Z"
   },
   {
    "duration": 7,
    "start_time": "2021-11-26T11:48:51.369Z"
   },
   {
    "duration": 49,
    "start_time": "2021-11-26T11:48:51.379Z"
   },
   {
    "duration": 45,
    "start_time": "2021-11-26T11:48:51.431Z"
   },
   {
    "duration": 9,
    "start_time": "2021-11-26T11:48:51.479Z"
   },
   {
    "duration": 1945,
    "start_time": "2021-11-26T11:48:51.491Z"
   },
   {
    "duration": 23,
    "start_time": "2021-11-26T11:48:53.439Z"
   },
   {
    "duration": 3767,
    "start_time": "2021-11-26T11:48:53.465Z"
   },
   {
    "duration": 3830,
    "start_time": "2021-11-26T11:48:57.234Z"
   },
   {
    "duration": 927,
    "start_time": "2021-11-26T11:49:01.068Z"
   },
   {
    "duration": 17,
    "start_time": "2021-11-26T11:49:01.997Z"
   },
   {
    "duration": 1586,
    "start_time": "2021-11-26T11:55:15.425Z"
   },
   {
    "duration": 44,
    "start_time": "2021-11-26T11:55:17.013Z"
   },
   {
    "duration": 12,
    "start_time": "2021-11-26T11:55:17.060Z"
   },
   {
    "duration": 27,
    "start_time": "2021-11-26T11:55:17.076Z"
   },
   {
    "duration": 32,
    "start_time": "2021-11-26T11:55:17.105Z"
   },
   {
    "duration": 63,
    "start_time": "2021-11-26T11:55:17.139Z"
   },
   {
    "duration": 20,
    "start_time": "2021-11-26T11:55:17.206Z"
   },
   {
    "duration": 32,
    "start_time": "2021-11-26T11:55:17.229Z"
   },
   {
    "duration": 2014,
    "start_time": "2021-11-26T11:55:17.266Z"
   },
   {
    "duration": 13,
    "start_time": "2021-11-26T11:55:19.283Z"
   },
   {
    "duration": 3918,
    "start_time": "2021-11-26T11:55:19.298Z"
   },
   {
    "duration": 3787,
    "start_time": "2021-11-26T11:55:23.218Z"
   },
   {
    "duration": 834,
    "start_time": "2021-11-26T11:55:27.007Z"
   },
   {
    "duration": 23,
    "start_time": "2021-11-26T11:55:27.844Z"
   },
   {
    "duration": 547,
    "start_time": "2021-11-26T12:04:46.163Z"
   },
   {
    "duration": 1588,
    "start_time": "2021-11-26T12:05:35.151Z"
   },
   {
    "duration": 45,
    "start_time": "2021-11-26T12:05:36.742Z"
   },
   {
    "duration": 13,
    "start_time": "2021-11-26T12:05:36.790Z"
   },
   {
    "duration": 8,
    "start_time": "2021-11-26T12:05:36.806Z"
   },
   {
    "duration": 8,
    "start_time": "2021-11-26T12:05:36.817Z"
   },
   {
    "duration": 79,
    "start_time": "2021-11-26T12:05:36.827Z"
   },
   {
    "duration": 17,
    "start_time": "2021-11-26T12:05:36.909Z"
   },
   {
    "duration": 30,
    "start_time": "2021-11-26T12:05:36.930Z"
   },
   {
    "duration": 1890,
    "start_time": "2021-11-26T12:05:36.962Z"
   },
   {
    "duration": 11,
    "start_time": "2021-11-26T12:05:38.859Z"
   },
   {
    "duration": 3763,
    "start_time": "2021-11-26T12:05:38.872Z"
   },
   {
    "duration": 3872,
    "start_time": "2021-11-26T12:05:42.638Z"
   },
   {
    "duration": 839,
    "start_time": "2021-11-26T12:05:46.512Z"
   },
   {
    "duration": 20,
    "start_time": "2021-11-26T12:05:47.353Z"
   },
   {
    "duration": 801,
    "start_time": "2021-11-26T12:05:47.375Z"
   },
   {
    "duration": 2,
    "start_time": "2021-11-26T12:05:48.179Z"
   },
   {
    "duration": 148931,
    "start_time": "2021-11-26T12:06:07.206Z"
   },
   {
    "duration": 1937,
    "start_time": "2021-11-26T12:15:35.972Z"
   },
   {
    "duration": 2064,
    "start_time": "2021-11-26T12:18:57.434Z"
   },
   {
    "duration": 1977,
    "start_time": "2021-11-26T12:21:07.913Z"
   },
   {
    "duration": 1705,
    "start_time": "2021-11-26T12:21:15.682Z"
   },
   {
    "duration": 1772,
    "start_time": "2021-11-26T12:30:58.106Z"
   },
   {
    "duration": 2501,
    "start_time": "2021-11-26T13:07:36.509Z"
   },
   {
    "duration": 2326,
    "start_time": "2021-11-26T13:07:48.124Z"
   },
   {
    "duration": 1988,
    "start_time": "2021-11-26T13:07:59.307Z"
   },
   {
    "duration": 45,
    "start_time": "2021-11-26T13:08:01.298Z"
   },
   {
    "duration": 24,
    "start_time": "2021-11-26T13:08:01.346Z"
   },
   {
    "duration": 15,
    "start_time": "2021-11-26T13:08:01.376Z"
   },
   {
    "duration": 16,
    "start_time": "2021-11-26T13:08:01.394Z"
   },
   {
    "duration": 94,
    "start_time": "2021-11-26T13:08:01.413Z"
   },
   {
    "duration": 21,
    "start_time": "2021-11-26T13:08:01.511Z"
   },
   {
    "duration": 26,
    "start_time": "2021-11-26T13:08:01.537Z"
   },
   {
    "duration": 2050,
    "start_time": "2021-11-26T13:08:01.566Z"
   },
   {
    "duration": 10,
    "start_time": "2021-11-26T13:08:03.619Z"
   },
   {
    "duration": 3774,
    "start_time": "2021-11-26T13:08:03.631Z"
   },
   {
    "duration": 3763,
    "start_time": "2021-11-26T13:08:07.407Z"
   },
   {
    "duration": 853,
    "start_time": "2021-11-26T13:08:11.173Z"
   },
   {
    "duration": 30,
    "start_time": "2021-11-26T13:08:12.029Z"
   },
   {
    "duration": 155381,
    "start_time": "2021-11-26T13:08:12.062Z"
   },
   {
    "duration": 1843,
    "start_time": "2021-11-26T13:10:47.446Z"
   },
   {
    "duration": 21,
    "start_time": "2021-11-26T13:10:49.291Z"
   },
   {
    "duration": 4,
    "start_time": "2021-11-26T13:10:49.314Z"
   },
   {
    "duration": 4608,
    "start_time": "2021-11-26T13:11:39.512Z"
   },
   {
    "duration": 5,
    "start_time": "2021-11-26T13:12:32.666Z"
   },
   {
    "duration": 4125,
    "start_time": "2021-11-26T13:12:33.937Z"
   },
   {
    "duration": 140,
    "start_time": "2021-11-26T13:40:28.743Z"
   },
   {
    "duration": 139,
    "start_time": "2021-11-26T13:44:26.424Z"
   },
   {
    "duration": 207,
    "start_time": "2021-11-26T13:44:50.741Z"
   },
   {
    "duration": 140,
    "start_time": "2021-11-26T13:44:57.171Z"
   },
   {
    "duration": 539,
    "start_time": "2021-11-26T13:50:38.183Z"
   },
   {
    "duration": -92,
    "start_time": "2021-11-26T14:07:11.472Z"
   },
   {
    "duration": 619,
    "start_time": "2021-11-26T14:07:48.070Z"
   },
   {
    "duration": 1013,
    "start_time": "2021-11-26T14:08:50.573Z"
   },
   {
    "duration": 1591,
    "start_time": "2021-11-27T18:01:14.828Z"
   },
   {
    "duration": 49,
    "start_time": "2021-11-27T18:01:16.422Z"
   },
   {
    "duration": 13,
    "start_time": "2021-11-27T18:01:16.475Z"
   },
   {
    "duration": 18,
    "start_time": "2021-11-27T18:01:16.491Z"
   },
   {
    "duration": 8,
    "start_time": "2021-11-27T18:01:16.512Z"
   },
   {
    "duration": 76,
    "start_time": "2021-11-27T18:01:16.523Z"
   },
   {
    "duration": 18,
    "start_time": "2021-11-27T18:01:16.601Z"
   },
   {
    "duration": 7,
    "start_time": "2021-11-27T18:01:16.622Z"
   },
   {
    "duration": 1929,
    "start_time": "2021-11-27T18:01:16.632Z"
   },
   {
    "duration": 10,
    "start_time": "2021-11-27T18:01:18.564Z"
   },
   {
    "duration": 3844,
    "start_time": "2021-11-27T18:01:18.576Z"
   },
   {
    "duration": 3660,
    "start_time": "2021-11-27T18:01:22.424Z"
   },
   {
    "duration": 1172,
    "start_time": "2021-11-27T18:01:26.087Z"
   },
   {
    "duration": 26,
    "start_time": "2021-11-27T18:01:27.263Z"
   },
   {
    "duration": 145567,
    "start_time": "2021-11-27T18:01:27.292Z"
   },
   {
    "duration": 1819,
    "start_time": "2021-11-27T18:03:52.861Z"
   },
   {
    "duration": 19,
    "start_time": "2021-11-27T18:03:54.682Z"
   },
   {
    "duration": 4,
    "start_time": "2021-11-27T18:03:54.703Z"
   },
   {
    "duration": 1192,
    "start_time": "2021-11-27T18:03:54.709Z"
   },
   {
    "duration": 642,
    "start_time": "2021-11-27T18:09:30.645Z"
   },
   {
    "duration": 560,
    "start_time": "2021-11-27T18:10:00.857Z"
   },
   {
    "duration": 8,
    "start_time": "2021-11-27T18:10:09.597Z"
   },
   {
    "duration": 20,
    "start_time": "2021-11-27T18:11:14.958Z"
   },
   {
    "duration": 18,
    "start_time": "2021-11-27T18:11:35.646Z"
   },
   {
    "duration": 27,
    "start_time": "2021-11-27T18:12:08.223Z"
   },
   {
    "duration": 28,
    "start_time": "2021-11-27T18:12:25.714Z"
   },
   {
    "duration": 30,
    "start_time": "2021-11-27T18:16:00.982Z"
   },
   {
    "duration": 122,
    "start_time": "2021-11-27T18:17:54.299Z"
   },
   {
    "duration": 120,
    "start_time": "2021-11-27T18:18:04.491Z"
   },
   {
    "duration": 353,
    "start_time": "2021-11-27T18:18:07.711Z"
   },
   {
    "duration": 402,
    "start_time": "2021-11-27T18:18:15.456Z"
   },
   {
    "duration": 5,
    "start_time": "2021-11-27T18:18:24.631Z"
   },
   {
    "duration": 372,
    "start_time": "2021-11-27T18:18:30.083Z"
   },
   {
    "duration": 40,
    "start_time": "2021-11-27T18:18:49.083Z"
   },
   {
    "duration": 11,
    "start_time": "2021-11-27T18:18:52.037Z"
   },
   {
    "duration": 7,
    "start_time": "2021-11-27T18:18:54.770Z"
   },
   {
    "duration": 6,
    "start_time": "2021-11-27T18:18:56.369Z"
   },
   {
    "duration": 45,
    "start_time": "2021-11-27T18:18:57.033Z"
   },
   {
    "duration": 18,
    "start_time": "2021-11-27T18:18:57.967Z"
   },
   {
    "duration": 7,
    "start_time": "2021-11-27T18:18:59.483Z"
   },
   {
    "duration": 1871,
    "start_time": "2021-11-27T18:19:00.434Z"
   },
   {
    "duration": 11,
    "start_time": "2021-11-27T18:19:02.394Z"
   },
   {
    "duration": 364,
    "start_time": "2021-11-27T18:19:13.559Z"
   },
   {
    "duration": 417,
    "start_time": "2021-11-27T18:20:51.741Z"
   },
   {
    "duration": 359,
    "start_time": "2021-11-27T18:21:05.049Z"
   },
   {
    "duration": 1707,
    "start_time": "2021-11-27T18:22:28.156Z"
   },
   {
    "duration": 44,
    "start_time": "2021-11-27T18:22:29.866Z"
   },
   {
    "duration": 14,
    "start_time": "2021-11-27T18:22:29.914Z"
   },
   {
    "duration": 30,
    "start_time": "2021-11-27T18:22:29.932Z"
   },
   {
    "duration": 6,
    "start_time": "2021-11-27T18:22:29.964Z"
   },
   {
    "duration": 48,
    "start_time": "2021-11-27T18:22:29.973Z"
   },
   {
    "duration": 47,
    "start_time": "2021-11-27T18:22:30.024Z"
   },
   {
    "duration": 8,
    "start_time": "2021-11-27T18:22:30.075Z"
   },
   {
    "duration": 2051,
    "start_time": "2021-11-27T18:22:30.087Z"
   },
   {
    "duration": 24,
    "start_time": "2021-11-27T18:22:32.141Z"
   },
   {
    "duration": 3723,
    "start_time": "2021-11-27T18:22:32.168Z"
   },
   {
    "duration": 3802,
    "start_time": "2021-11-27T18:22:35.893Z"
   },
   {
    "duration": 832,
    "start_time": "2021-11-27T18:22:39.697Z"
   },
   {
    "duration": 17,
    "start_time": "2021-11-27T18:22:40.531Z"
   },
   {
    "duration": 140468,
    "start_time": "2021-11-27T18:22:40.560Z"
   },
   {
    "duration": 1955,
    "start_time": "2021-11-27T18:25:01.031Z"
   },
   {
    "duration": 18,
    "start_time": "2021-11-27T18:25:02.988Z"
   },
   {
    "duration": 4,
    "start_time": "2021-11-27T18:25:03.009Z"
   },
   {
    "duration": 1326,
    "start_time": "2021-11-27T18:25:03.015Z"
   },
   {
    "duration": -855,
    "start_time": "2021-11-27T18:25:05.199Z"
   },
   {
    "duration": 1843,
    "start_time": "2021-11-27T18:25:57.740Z"
   },
   {
    "duration": 9984,
    "start_time": "2021-11-27T18:26:16.309Z"
   },
   {
    "duration": 1762,
    "start_time": "2021-11-27T18:27:20.207Z"
   },
   {
    "duration": 2148,
    "start_time": "2021-11-27T18:27:36.221Z"
   },
   {
    "duration": 1814,
    "start_time": "2021-11-27T18:27:51.967Z"
   },
   {
    "duration": 29,
    "start_time": "2021-11-27T18:31:05.706Z"
   },
   {
    "duration": 977,
    "start_time": "2021-11-27T18:31:38.616Z"
   },
   {
    "duration": 30,
    "start_time": "2021-11-27T18:32:20.477Z"
   },
   {
    "duration": 39,
    "start_time": "2021-11-27T18:47:13.637Z"
   },
   {
    "duration": 41,
    "start_time": "2021-11-27T18:47:31.196Z"
   },
   {
    "duration": 1486,
    "start_time": "2021-11-27T18:47:40.308Z"
   },
   {
    "duration": 45,
    "start_time": "2021-11-27T18:47:41.796Z"
   },
   {
    "duration": 20,
    "start_time": "2021-11-27T18:47:41.844Z"
   },
   {
    "duration": 8,
    "start_time": "2021-11-27T18:47:41.866Z"
   },
   {
    "duration": 7,
    "start_time": "2021-11-27T18:47:41.876Z"
   },
   {
    "duration": 49,
    "start_time": "2021-11-27T18:47:41.885Z"
   },
   {
    "duration": 37,
    "start_time": "2021-11-27T18:47:41.937Z"
   },
   {
    "duration": 6,
    "start_time": "2021-11-27T18:47:41.978Z"
   },
   {
    "duration": 1973,
    "start_time": "2021-11-27T18:47:41.987Z"
   },
   {
    "duration": 13,
    "start_time": "2021-11-27T18:47:43.965Z"
   },
   {
    "duration": 3730,
    "start_time": "2021-11-27T18:47:43.990Z"
   },
   {
    "duration": 3752,
    "start_time": "2021-11-27T18:47:47.722Z"
   },
   {
    "duration": 837,
    "start_time": "2021-11-27T18:47:51.477Z"
   },
   {
    "duration": 18,
    "start_time": "2021-11-27T18:47:52.316Z"
   },
   {
    "duration": 15629,
    "start_time": "2021-11-27T18:47:52.337Z"
   },
   {
    "duration": -73,
    "start_time": "2021-11-27T18:48:08.042Z"
   },
   {
    "duration": -77,
    "start_time": "2021-11-27T18:48:08.047Z"
   },
   {
    "duration": -76,
    "start_time": "2021-11-27T18:48:08.048Z"
   },
   {
    "duration": -77,
    "start_time": "2021-11-27T18:48:08.050Z"
   },
   {
    "duration": -78,
    "start_time": "2021-11-27T18:48:08.052Z"
   },
   {
    "duration": -78,
    "start_time": "2021-11-27T18:48:08.054Z"
   },
   {
    "duration": 1928,
    "start_time": "2021-11-27T18:48:22.490Z"
   },
   {
    "duration": 45,
    "start_time": "2021-11-27T18:48:24.421Z"
   },
   {
    "duration": 13,
    "start_time": "2021-11-27T18:48:24.469Z"
   },
   {
    "duration": 8,
    "start_time": "2021-11-27T18:48:24.485Z"
   },
   {
    "duration": 6,
    "start_time": "2021-11-27T18:48:24.496Z"
   },
   {
    "duration": 84,
    "start_time": "2021-11-27T18:48:24.504Z"
   },
   {
    "duration": 18,
    "start_time": "2021-11-27T18:48:24.591Z"
   },
   {
    "duration": 7,
    "start_time": "2021-11-27T18:48:24.614Z"
   },
   {
    "duration": 1930,
    "start_time": "2021-11-27T18:48:24.624Z"
   },
   {
    "duration": 10,
    "start_time": "2021-11-27T18:48:26.557Z"
   },
   {
    "duration": 3780,
    "start_time": "2021-11-27T18:48:26.569Z"
   },
   {
    "duration": 3686,
    "start_time": "2021-11-27T18:48:30.360Z"
   },
   {
    "duration": 784,
    "start_time": "2021-11-27T18:48:34.049Z"
   },
   {
    "duration": 27,
    "start_time": "2021-11-27T18:48:34.836Z"
   },
   {
    "duration": 7,
    "start_time": "2021-11-27T18:48:34.866Z"
   },
   {
    "duration": 1907,
    "start_time": "2021-11-27T18:48:34.875Z"
   },
   {
    "duration": 22,
    "start_time": "2021-11-27T18:48:36.785Z"
   },
   {
    "duration": 5,
    "start_time": "2021-11-27T18:48:36.810Z"
   },
   {
    "duration": 75,
    "start_time": "2021-11-27T18:48:36.819Z"
   },
   {
    "duration": 502,
    "start_time": "2021-11-27T18:48:36.897Z"
   },
   {
    "duration": -247,
    "start_time": "2021-11-27T18:48:37.649Z"
   },
   {
    "duration": 18,
    "start_time": "2021-11-27T18:52:58.876Z"
   },
   {
    "duration": 13,
    "start_time": "2021-11-27T18:53:10.087Z"
   },
   {
    "duration": 447,
    "start_time": "2021-11-27T18:55:30.330Z"
   },
   {
    "duration": 877,
    "start_time": "2021-11-27T18:55:44.622Z"
   },
   {
    "duration": 678,
    "start_time": "2021-11-27T18:56:30.180Z"
   },
   {
    "duration": 687,
    "start_time": "2021-11-27T18:56:41.980Z"
   },
   {
    "duration": 6,
    "start_time": "2021-11-27T18:56:57.586Z"
   },
   {
    "duration": 633,
    "start_time": "2021-11-27T18:57:01.308Z"
   },
   {
    "duration": 891,
    "start_time": "2021-11-27T18:57:07.897Z"
   },
   {
    "duration": 58,
    "start_time": "2021-11-27T18:57:25.075Z"
   },
   {
    "duration": 127,
    "start_time": "2021-11-27T18:57:52.761Z"
   },
   {
    "duration": 882,
    "start_time": "2021-11-27T18:58:38.781Z"
   },
   {
    "duration": 941,
    "start_time": "2021-11-27T18:58:47.979Z"
   },
   {
    "duration": 9394,
    "start_time": "2021-11-27T18:59:21.501Z"
   },
   {
    "duration": 9612,
    "start_time": "2021-11-27T18:59:42.714Z"
   },
   {
    "duration": -47,
    "start_time": "2021-11-27T19:00:16.735Z"
   },
   {
    "duration": 113,
    "start_time": "2021-11-27T19:00:19.800Z"
   },
   {
    "duration": 9978,
    "start_time": "2021-11-27T19:00:33.349Z"
   },
   {
    "duration": 118,
    "start_time": "2021-11-27T19:00:55.478Z"
   },
   {
    "duration": 75,
    "start_time": "2021-11-27T19:01:27.127Z"
   },
   {
    "duration": 15465,
    "start_time": "2021-11-27T19:01:47.799Z"
   },
   {
    "duration": 61,
    "start_time": "2021-11-27T19:02:39.272Z"
   },
   {
    "duration": 61,
    "start_time": "2021-11-27T19:02:48.892Z"
   },
   {
    "duration": 58,
    "start_time": "2021-11-27T19:02:56.040Z"
   },
   {
    "duration": 55,
    "start_time": "2021-11-27T19:03:02.506Z"
   },
   {
    "duration": 57,
    "start_time": "2021-11-27T19:03:35.091Z"
   },
   {
    "duration": 62,
    "start_time": "2021-11-27T19:03:43.469Z"
   },
   {
    "duration": 57,
    "start_time": "2021-11-27T19:03:53.204Z"
   },
   {
    "duration": 102,
    "start_time": "2021-11-27T19:04:09.211Z"
   },
   {
    "duration": 62,
    "start_time": "2021-11-27T19:04:21.382Z"
   },
   {
    "duration": 60,
    "start_time": "2021-11-27T19:04:31.077Z"
   },
   {
    "duration": 81,
    "start_time": "2021-11-27T19:04:43.463Z"
   },
   {
    "duration": 636,
    "start_time": "2021-11-27T19:05:55.908Z"
   },
   {
    "duration": 655,
    "start_time": "2021-11-27T19:06:07.361Z"
   },
   {
    "duration": 121,
    "start_time": "2021-11-27T19:06:15.448Z"
   },
   {
    "duration": 5151,
    "start_time": "2021-11-27T19:06:57.149Z"
   },
   {
    "duration": 5131,
    "start_time": "2021-11-27T19:07:32.148Z"
   },
   {
    "duration": 649,
    "start_time": "2021-11-27T19:07:47.785Z"
   },
   {
    "duration": 5627,
    "start_time": "2021-11-27T19:07:53.463Z"
   },
   {
    "duration": 97,
    "start_time": "2021-11-27T19:09:46.705Z"
   },
   {
    "duration": 20913,
    "start_time": "2021-11-27T19:11:25.213Z"
   },
   {
    "duration": 849,
    "start_time": "2021-11-27T19:12:33.012Z"
   },
   {
    "duration": 888,
    "start_time": "2021-11-27T19:12:45.630Z"
   },
   {
    "duration": 112,
    "start_time": "2021-11-27T19:14:34.116Z"
   },
   {
    "duration": 624,
    "start_time": "2021-11-27T19:14:43.191Z"
   },
   {
    "duration": 606,
    "start_time": "2021-11-27T19:15:34.246Z"
   },
   {
    "duration": 624,
    "start_time": "2021-11-27T19:16:17.902Z"
   },
   {
    "duration": 678,
    "start_time": "2021-11-27T19:16:23.953Z"
   },
   {
    "duration": 28,
    "start_time": "2021-11-27T19:16:41.809Z"
   },
   {
    "duration": 27,
    "start_time": "2021-11-27T19:17:20.803Z"
   },
   {
    "duration": 384,
    "start_time": "2021-11-27T19:18:16.763Z"
   },
   {
    "duration": 411,
    "start_time": "2021-11-27T19:18:33.362Z"
   },
   {
    "duration": 438,
    "start_time": "2021-11-27T19:18:44.926Z"
   },
   {
    "duration": 389,
    "start_time": "2021-11-27T19:18:56.750Z"
   },
   {
    "duration": 380,
    "start_time": "2021-11-27T19:19:57.545Z"
   },
   {
    "duration": 37,
    "start_time": "2021-11-27T19:20:05.633Z"
   },
   {
    "duration": 41,
    "start_time": "2021-11-27T19:21:39.735Z"
   },
   {
    "duration": 42,
    "start_time": "2021-11-27T19:22:05.080Z"
   },
   {
    "duration": 39,
    "start_time": "2021-11-27T19:22:13.007Z"
   },
   {
    "duration": 29,
    "start_time": "2021-11-27T19:22:36.862Z"
   },
   {
    "duration": 391,
    "start_time": "2021-11-27T19:22:44.871Z"
   },
   {
    "duration": 390,
    "start_time": "2021-11-27T19:22:51.588Z"
   },
   {
    "duration": 41,
    "start_time": "2021-11-27T19:23:43.430Z"
   },
   {
    "duration": 31,
    "start_time": "2021-11-27T19:23:56.526Z"
   },
   {
    "duration": 50,
    "start_time": "2021-11-27T19:24:06.506Z"
   },
   {
    "duration": 621,
    "start_time": "2021-11-27T19:29:14.066Z"
   },
   {
    "duration": 8068,
    "start_time": "2021-11-27T19:29:36.116Z"
   },
   {
    "duration": 291,
    "start_time": "2021-11-27T19:30:09.425Z"
   },
   {
    "duration": 654,
    "start_time": "2021-11-27T19:30:37.093Z"
   },
   {
    "duration": 19,
    "start_time": "2021-11-27T19:30:56.656Z"
   },
   {
    "duration": 735,
    "start_time": "2021-11-27T19:31:30.997Z"
   },
   {
    "duration": 18,
    "start_time": "2021-11-27T19:31:33.382Z"
   },
   {
    "duration": 7,
    "start_time": "2021-11-27T19:31:36.472Z"
   },
   {
    "duration": 1336,
    "start_time": "2021-11-27T19:31:38.740Z"
   },
   {
    "duration": 19,
    "start_time": "2021-11-27T19:31:41.939Z"
   },
   {
    "duration": 5,
    "start_time": "2021-11-27T19:31:43.237Z"
   },
   {
    "duration": 37,
    "start_time": "2021-11-27T19:31:44.730Z"
   },
   {
    "duration": 20,
    "start_time": "2021-11-27T19:31:49.192Z"
   },
   {
    "duration": 24,
    "start_time": "2021-11-27T19:31:59.178Z"
   },
   {
    "duration": 31,
    "start_time": "2021-11-27T19:32:04.768Z"
   },
   {
    "duration": 298,
    "start_time": "2021-11-27T19:32:12.767Z"
   },
   {
    "duration": 628,
    "start_time": "2021-11-27T19:33:11.275Z"
   },
   {
    "duration": 685,
    "start_time": "2021-11-27T19:33:21.610Z"
   },
   {
    "duration": 415,
    "start_time": "2021-11-27T19:33:33.070Z"
   },
   {
    "duration": 7479,
    "start_time": "2021-11-27T19:33:49.165Z"
   },
   {
    "duration": 7396,
    "start_time": "2021-11-27T19:34:27.019Z"
   },
   {
    "duration": 446,
    "start_time": "2021-11-27T19:34:42.870Z"
   },
   {
    "duration": 1447,
    "start_time": "2021-11-27T19:35:09.219Z"
   },
   {
    "duration": 1771,
    "start_time": "2021-11-27T19:35:14.673Z"
   },
   {
    "duration": 320,
    "start_time": "2021-11-27T19:35:46.907Z"
   },
   {
    "duration": 7371,
    "start_time": "2021-11-27T19:35:54.888Z"
   },
   {
    "duration": 7522,
    "start_time": "2021-11-27T19:36:38.211Z"
   },
   {
    "duration": 659,
    "start_time": "2021-11-27T19:39:21.294Z"
   },
   {
    "duration": 13165,
    "start_time": "2021-11-27T19:39:47.488Z"
   },
   {
    "duration": 12931,
    "start_time": "2021-11-27T19:40:22.968Z"
   },
   {
    "duration": 659,
    "start_time": "2021-11-27T19:42:00.996Z"
   },
   {
    "duration": 12580,
    "start_time": "2021-11-27T19:42:07.901Z"
   },
   {
    "duration": 13374,
    "start_time": "2021-11-27T19:42:35.273Z"
   },
   {
    "duration": 26091,
    "start_time": "2021-11-27T19:42:54.619Z"
   },
   {
    "duration": 25953,
    "start_time": "2021-11-27T19:48:23.486Z"
   },
   {
    "duration": 12,
    "start_time": "2021-11-27T19:57:06.835Z"
   },
   {
    "duration": 1957,
    "start_time": "2021-11-27T19:59:53.245Z"
   },
   {
    "duration": 1792,
    "start_time": "2021-11-27T20:00:10.874Z"
   },
   {
    "duration": 1766,
    "start_time": "2021-11-27T20:01:04.898Z"
   },
   {
    "duration": 1637,
    "start_time": "2021-11-27T20:02:33.078Z"
   },
   {
    "duration": 1803,
    "start_time": "2021-11-27T20:03:45.828Z"
   },
   {
    "duration": 1641,
    "start_time": "2021-11-27T20:03:59.188Z"
   },
   {
    "duration": 975,
    "start_time": "2021-11-27T20:04:13.286Z"
   },
   {
    "duration": 1927,
    "start_time": "2021-11-27T20:04:19.952Z"
   },
   {
    "duration": 1415,
    "start_time": "2021-11-27T20:05:10.608Z"
   },
   {
    "duration": 1784,
    "start_time": "2021-11-27T20:05:26.955Z"
   },
   {
    "duration": 1076,
    "start_time": "2021-11-27T20:06:41.311Z"
   },
   {
    "duration": 912,
    "start_time": "2021-11-27T20:06:47.447Z"
   },
   {
    "duration": 1650,
    "start_time": "2021-11-27T20:06:57.880Z"
   },
   {
    "duration": 2289,
    "start_time": "2021-11-27T20:07:23.961Z"
   },
   {
    "duration": 1979,
    "start_time": "2021-11-27T20:07:36.011Z"
   },
   {
    "duration": 1725,
    "start_time": "2021-11-27T20:11:30.090Z"
   },
   {
    "duration": 1770,
    "start_time": "2021-11-27T20:11:44.537Z"
   },
   {
    "duration": 482,
    "start_time": "2021-11-27T20:12:09.180Z"
   },
   {
    "duration": 444,
    "start_time": "2021-11-27T20:12:40.359Z"
   },
   {
    "duration": 655,
    "start_time": "2021-11-27T20:13:04.056Z"
   },
   {
    "duration": 644,
    "start_time": "2021-11-27T20:13:28.983Z"
   },
   {
    "duration": 483,
    "start_time": "2021-11-27T20:13:54.451Z"
   },
   {
    "duration": 755,
    "start_time": "2021-11-27T20:14:55.867Z"
   },
   {
    "duration": 499,
    "start_time": "2021-11-27T20:16:30.434Z"
   },
   {
    "duration": 838,
    "start_time": "2021-11-27T20:21:13.467Z"
   },
   {
    "duration": 415,
    "start_time": "2021-11-27T20:22:40.001Z"
   },
   {
    "duration": 486,
    "start_time": "2021-11-27T20:26:22.547Z"
   },
   {
    "duration": 486,
    "start_time": "2021-11-27T20:27:20.973Z"
   },
   {
    "duration": 394,
    "start_time": "2021-11-27T20:29:27.441Z"
   },
   {
    "duration": 403,
    "start_time": "2021-11-27T20:29:41.732Z"
   },
   {
    "duration": 489,
    "start_time": "2021-11-27T20:29:54.840Z"
   },
   {
    "duration": 701,
    "start_time": "2021-11-27T20:32:35.566Z"
   },
   {
    "duration": 678,
    "start_time": "2021-11-27T20:32:46.276Z"
   },
   {
    "duration": 479,
    "start_time": "2021-11-27T20:34:11.527Z"
   },
   {
    "duration": 450,
    "start_time": "2021-11-27T20:36:31.016Z"
   },
   {
    "duration": 3905,
    "start_time": "2021-11-27T20:36:47.394Z"
   },
   {
    "duration": 754,
    "start_time": "2021-11-27T20:38:33.700Z"
   },
   {
    "duration": 752,
    "start_time": "2021-11-27T20:38:47.396Z"
   },
   {
    "duration": 305,
    "start_time": "2021-11-27T20:38:54.498Z"
   },
   {
    "duration": 476,
    "start_time": "2021-11-27T20:38:59.675Z"
   },
   {
    "duration": 699,
    "start_time": "2021-11-27T20:39:06.238Z"
   },
   {
    "duration": 468,
    "start_time": "2021-11-27T20:39:11.713Z"
   },
   {
    "duration": 466,
    "start_time": "2021-11-27T20:40:46.596Z"
   },
   {
    "duration": 487,
    "start_time": "2021-11-27T20:41:05.761Z"
   },
   {
    "duration": 460,
    "start_time": "2021-11-27T20:41:25.513Z"
   },
   {
    "duration": 474,
    "start_time": "2021-11-27T20:41:52.960Z"
   },
   {
    "duration": 483,
    "start_time": "2021-11-27T20:42:03.805Z"
   },
   {
    "duration": 480,
    "start_time": "2021-11-27T20:43:36.543Z"
   },
   {
    "duration": 619,
    "start_time": "2021-11-27T20:44:19.981Z"
   },
   {
    "duration": 500,
    "start_time": "2021-11-27T20:45:17.486Z"
   },
   {
    "duration": 609,
    "start_time": "2021-11-27T20:46:24.859Z"
   },
   {
    "duration": 500,
    "start_time": "2021-11-27T20:51:36.454Z"
   },
   {
    "duration": 801,
    "start_time": "2021-11-27T20:53:28.417Z"
   },
   {
    "duration": 578,
    "start_time": "2021-11-27T20:54:21.633Z"
   },
   {
    "duration": 1617,
    "start_time": "2021-11-27T20:55:02.497Z"
   },
   {
    "duration": 44,
    "start_time": "2021-11-27T20:55:04.117Z"
   },
   {
    "duration": 12,
    "start_time": "2021-11-27T20:55:04.164Z"
   },
   {
    "duration": 9,
    "start_time": "2021-11-27T20:55:04.179Z"
   },
   {
    "duration": 7,
    "start_time": "2021-11-27T20:55:04.191Z"
   },
   {
    "duration": 51,
    "start_time": "2021-11-27T20:55:04.200Z"
   },
   {
    "duration": 18,
    "start_time": "2021-11-27T20:55:04.254Z"
   },
   {
    "duration": 16,
    "start_time": "2021-11-27T20:55:04.276Z"
   },
   {
    "duration": 2346,
    "start_time": "2021-11-27T20:55:04.295Z"
   },
   {
    "duration": 21,
    "start_time": "2021-11-27T20:55:06.643Z"
   },
   {
    "duration": 3782,
    "start_time": "2021-11-27T20:55:06.666Z"
   },
   {
    "duration": 4708,
    "start_time": "2021-11-27T20:55:10.451Z"
   },
   {
    "duration": 905,
    "start_time": "2021-11-27T20:55:15.162Z"
   },
   {
    "duration": 22,
    "start_time": "2021-11-27T20:55:16.069Z"
   },
   {
    "duration": 8,
    "start_time": "2021-11-27T20:55:16.093Z"
   },
   {
    "duration": 1682,
    "start_time": "2021-11-27T20:55:16.103Z"
   },
   {
    "duration": 539,
    "start_time": "2021-11-27T20:55:17.788Z"
   },
   {
    "duration": 520,
    "start_time": "2021-11-27T20:55:18.330Z"
   },
   {
    "duration": 507,
    "start_time": "2021-11-27T20:55:18.852Z"
   },
   {
    "duration": 528,
    "start_time": "2021-11-27T20:55:19.362Z"
   },
   {
    "duration": 633,
    "start_time": "2021-11-27T20:55:19.893Z"
   },
   {
    "duration": 816,
    "start_time": "2021-11-27T20:55:20.529Z"
   },
   {
    "duration": 577,
    "start_time": "2021-11-27T20:55:21.360Z"
   },
   {
    "duration": 531,
    "start_time": "2021-11-27T20:55:21.940Z"
   },
   {
    "duration": 529,
    "start_time": "2021-11-27T20:55:22.474Z"
   },
   {
    "duration": 510,
    "start_time": "2021-11-27T20:55:23.006Z"
   },
   {
    "duration": 503,
    "start_time": "2021-11-27T20:55:23.518Z"
   },
   {
    "duration": 501,
    "start_time": "2021-11-27T20:55:24.024Z"
   },
   {
    "duration": 1556,
    "start_time": "2021-11-27T21:54:53.467Z"
   },
   {
    "duration": 46,
    "start_time": "2021-11-27T21:54:55.026Z"
   },
   {
    "duration": 12,
    "start_time": "2021-11-27T21:54:55.074Z"
   },
   {
    "duration": 9,
    "start_time": "2021-11-27T21:54:55.089Z"
   },
   {
    "duration": 6,
    "start_time": "2021-11-27T21:54:55.101Z"
   },
   {
    "duration": 97,
    "start_time": "2021-11-27T21:54:55.111Z"
   },
   {
    "duration": 20,
    "start_time": "2021-11-27T21:54:55.211Z"
   },
   {
    "duration": 29,
    "start_time": "2021-11-27T21:54:55.235Z"
   },
   {
    "duration": 1988,
    "start_time": "2021-11-27T21:54:55.267Z"
   },
   {
    "duration": 11,
    "start_time": "2021-11-27T21:54:57.260Z"
   },
   {
    "duration": 3781,
    "start_time": "2021-11-27T21:54:57.274Z"
   },
   {
    "duration": 3742,
    "start_time": "2021-11-27T21:55:01.060Z"
   },
   {
    "duration": 1211,
    "start_time": "2021-11-27T21:55:04.804Z"
   },
   {
    "duration": 24,
    "start_time": "2021-11-27T21:55:06.019Z"
   },
   {
    "duration": 138500,
    "start_time": "2021-11-27T21:55:06.061Z"
   },
   {
    "duration": 1833,
    "start_time": "2021-11-27T21:57:24.564Z"
   },
   {
    "duration": 774,
    "start_time": "2021-11-27T21:57:26.400Z"
   },
   {
    "duration": 765,
    "start_time": "2021-11-27T21:57:27.177Z"
   },
   {
    "duration": 522,
    "start_time": "2021-11-27T21:57:27.944Z"
   },
   {
    "duration": 502,
    "start_time": "2021-11-27T21:57:28.469Z"
   },
   {
    "duration": 499,
    "start_time": "2021-11-27T21:57:28.974Z"
   },
   {
    "duration": 490,
    "start_time": "2021-11-27T21:57:29.475Z"
   },
   {
    "duration": 821,
    "start_time": "2021-11-27T21:57:29.970Z"
   },
   {
    "duration": 514,
    "start_time": "2021-11-27T21:57:30.794Z"
   },
   {
    "duration": 513,
    "start_time": "2021-11-27T21:57:31.311Z"
   },
   {
    "duration": 505,
    "start_time": "2021-11-27T21:57:31.826Z"
   },
   {
    "duration": 509,
    "start_time": "2021-11-27T21:57:32.333Z"
   },
   {
    "duration": 479,
    "start_time": "2021-11-27T21:57:32.844Z"
   },
   {
    "duration": 1595,
    "start_time": "2021-11-27T22:15:33.586Z"
   },
   {
    "duration": 46,
    "start_time": "2021-11-27T22:15:35.184Z"
   },
   {
    "duration": 11,
    "start_time": "2021-11-27T22:15:35.233Z"
   },
   {
    "duration": 8,
    "start_time": "2021-11-27T22:15:35.248Z"
   },
   {
    "duration": 5,
    "start_time": "2021-11-27T22:15:35.259Z"
   },
   {
    "duration": 85,
    "start_time": "2021-11-27T22:15:35.266Z"
   },
   {
    "duration": 17,
    "start_time": "2021-11-27T22:15:35.353Z"
   },
   {
    "duration": 13,
    "start_time": "2021-11-27T22:15:35.372Z"
   },
   {
    "duration": 1981,
    "start_time": "2021-11-27T22:15:35.389Z"
   },
   {
    "duration": 10,
    "start_time": "2021-11-27T22:15:37.373Z"
   },
   {
    "duration": 3804,
    "start_time": "2021-11-27T22:15:37.385Z"
   },
   {
    "duration": 3685,
    "start_time": "2021-11-27T22:15:41.191Z"
   },
   {
    "duration": 838,
    "start_time": "2021-11-27T22:15:44.879Z"
   },
   {
    "duration": 23,
    "start_time": "2021-11-27T22:15:45.719Z"
   },
   {
    "duration": 139308,
    "start_time": "2021-11-27T22:15:45.744Z"
   },
   {
    "duration": 1928,
    "start_time": "2021-11-27T22:18:05.055Z"
   },
   {
    "duration": 946,
    "start_time": "2021-11-27T22:18:06.986Z"
   },
   {
    "duration": 714,
    "start_time": "2021-11-27T22:18:07.935Z"
   },
   {
    "duration": 503,
    "start_time": "2021-11-27T22:18:08.651Z"
   },
   {
    "duration": 495,
    "start_time": "2021-11-27T22:18:09.156Z"
   },
   {
    "duration": 498,
    "start_time": "2021-11-27T22:18:09.653Z"
   },
   {
    "duration": 501,
    "start_time": "2021-11-27T22:18:10.153Z"
   },
   {
    "duration": 825,
    "start_time": "2021-11-27T22:18:10.656Z"
   },
   {
    "duration": 511,
    "start_time": "2021-11-27T22:18:11.483Z"
   },
   {
    "duration": 514,
    "start_time": "2021-11-27T22:18:11.997Z"
   },
   {
    "duration": 496,
    "start_time": "2021-11-27T22:18:12.513Z"
   },
   {
    "duration": 515,
    "start_time": "2021-11-27T22:18:13.014Z"
   },
   {
    "duration": 500,
    "start_time": "2021-11-27T22:18:13.532Z"
   },
   {
    "duration": 49,
    "start_time": "2021-11-27T22:20:23.615Z"
   },
   {
    "duration": 829,
    "start_time": "2021-11-27T22:21:56.305Z"
   },
   {
    "duration": 1534,
    "start_time": "2021-11-27T22:22:02.680Z"
   },
   {
    "duration": 44,
    "start_time": "2021-11-27T22:22:04.217Z"
   },
   {
    "duration": 12,
    "start_time": "2021-11-27T22:22:04.263Z"
   },
   {
    "duration": 14,
    "start_time": "2021-11-27T22:22:04.278Z"
   },
   {
    "duration": 13,
    "start_time": "2021-11-27T22:22:04.294Z"
   },
   {
    "duration": 71,
    "start_time": "2021-11-27T22:22:04.310Z"
   },
   {
    "duration": 18,
    "start_time": "2021-11-27T22:22:04.384Z"
   },
   {
    "duration": 6,
    "start_time": "2021-11-27T22:22:04.406Z"
   },
   {
    "duration": 2050,
    "start_time": "2021-11-27T22:22:04.415Z"
   },
   {
    "duration": 10,
    "start_time": "2021-11-27T22:22:06.467Z"
   },
   {
    "duration": 3630,
    "start_time": "2021-11-27T22:22:06.480Z"
   },
   {
    "duration": 3637,
    "start_time": "2021-11-27T22:22:10.112Z"
   },
   {
    "duration": 794,
    "start_time": "2021-11-27T22:22:13.751Z"
   },
   {
    "duration": 22,
    "start_time": "2021-11-27T22:22:14.548Z"
   },
   {
    "duration": 139078,
    "start_time": "2021-11-27T22:22:14.572Z"
   },
   {
    "duration": 1921,
    "start_time": "2021-11-27T22:24:33.659Z"
   },
   {
    "duration": 518,
    "start_time": "2021-11-27T22:24:35.582Z"
   },
   {
    "duration": 523,
    "start_time": "2021-11-27T22:24:36.103Z"
   },
   {
    "duration": 526,
    "start_time": "2021-11-27T22:24:36.629Z"
   },
   {
    "duration": 614,
    "start_time": "2021-11-27T22:24:37.160Z"
   },
   {
    "duration": 511,
    "start_time": "2021-11-27T22:24:37.777Z"
   },
   {
    "duration": 517,
    "start_time": "2021-11-27T22:24:38.291Z"
   },
   {
    "duration": 797,
    "start_time": "2021-11-27T22:24:38.815Z"
   },
   {
    "duration": 495,
    "start_time": "2021-11-27T22:24:39.615Z"
   },
   {
    "duration": 502,
    "start_time": "2021-11-27T22:24:40.113Z"
   },
   {
    "duration": 510,
    "start_time": "2021-11-27T22:24:40.618Z"
   },
   {
    "duration": 499,
    "start_time": "2021-11-27T22:24:41.131Z"
   },
   {
    "duration": 490,
    "start_time": "2021-11-27T22:24:41.633Z"
   }
  ],
  "kernelspec": {
   "display_name": "Python 3 (ipykernel)",
   "language": "python",
   "name": "python3"
  },
  "language_info": {
   "codemirror_mode": {
    "name": "ipython",
    "version": 3
   },
   "file_extension": ".py",
   "mimetype": "text/x-python",
   "name": "python",
   "nbconvert_exporter": "python",
   "pygments_lexer": "ipython3",
   "version": "3.9.7"
  },
  "toc": {
   "base_numbering": 1,
   "nav_menu": {},
   "number_sections": true,
   "sideBar": true,
   "skip_h1_title": true,
   "title_cell": "Table of Contents",
   "title_sidebar": "Contents",
   "toc_cell": false,
   "toc_position": {},
   "toc_section_display": true,
   "toc_window_display": false
  }
 },
 "nbformat": 4,
 "nbformat_minor": 2
}

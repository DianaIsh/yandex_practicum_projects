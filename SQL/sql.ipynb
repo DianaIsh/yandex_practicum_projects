{
 "cells": [
  {
   "cell_type": "markdown",
   "id": "f1c71a09",
   "metadata": {},
   "source": [
    "# Анализ базы данных"
   ]
  },
  {
   "cell_type": "markdown",
   "id": "6856461b",
   "metadata": {},
   "source": [
    "---\n",
    "**Основная задача проекта:** проанализировать базу данных.\n",
    "\n",
    "---\n",
    "\n",
    "### Описание данных\n",
    "\n",
    "**Таблица `books`**\n",
    "\n",
    "Содержит данные о книгах:\n",
    "\n",
    "- `book_id` — идентификатор книги;\n",
    "- `author_id` — идентификатор автора;\n",
    "- `title` — название книги;\n",
    "- `num_pages` — количество страниц;\n",
    "- `publication_date` — дата публикации книги;\n",
    "- `publisher_id` — идентификатор издателя.\n",
    "\n",
    "**Таблица `authors`**\n",
    "\n",
    "Содержит данные об авторах:\n",
    "\n",
    "- `author_id` — идентификатор автора;\n",
    "- `author` — имя автора.\n",
    "\n",
    "**Таблица `publishers`**\n",
    "\n",
    "Содержит данные об издательствах:\n",
    "\n",
    "- `publisher_id` — идентификатор издательства;\n",
    "- `publisher` — название издательства;\n",
    "\n",
    "**Таблица `ratings`**\n",
    "\n",
    "Содержит данные о пользовательских оценках книг:\n",
    "\n",
    "- `rating_id` — идентификатор оценки;\n",
    "- `book_id` — идентификатор книги;\n",
    "- `username` — имя пользователя, оставившего оценку;\n",
    "- `rating` — оценка книги.\n",
    "\n",
    "**Таблица `reviews`**\n",
    "\n",
    "Содержит данные о пользовательских обзорах на книги:\n",
    "\n",
    "- `review_id` — идентификатор обзора;\n",
    "- `book_id` — идентификатор книги;\n",
    "- `username` — имя пользователя, написавшего обзор;\n",
    "- `text` — текст обзора.\n",
    "\n",
    "### Задания\n",
    "\n",
    "- Посчитайте, сколько книг вышло после 1 января 2000 года;\n",
    "- Для каждой книги посчитайте количество обзоров и среднюю оценку;\n",
    "- Определите издательство, которое выпустило наибольшее число книг толще 50 страниц — так вы исключите из анализа брошюры;\n",
    "- Определите автора с самой высокой средней оценкой книг — учитывайте только книги с 50 и более оценками;\n",
    "- Посчитайте среднее количество обзоров от пользователей, которые поставили больше 50 оценок."
   ]
  },
  {
   "cell_type": "code",
   "execution_count": 1,
   "id": "710c5dcb",
   "metadata": {},
   "outputs": [],
   "source": [
    "# импортируем библиотеки\n",
    "import pandas as pd\n",
    "from sqlalchemy import create_engine\n",
    "# устанавливаем параметры\n",
    "db_config = {'user': 'praktikum_student', # имя пользователя\n",
    " 'pwd': ,  #пароль\n",
    " 'host': ,\n",
    " 'port': , # порт подключения\n",
    " 'db': } # название базы данных\n",
    "connection_string = 'postgresql://{}:{}@{}:{}/{}'.format(db_config['user'],\n",
    " db_config['pwd'],\n",
    " db_config['host'],\n",
    " db_config['port'],\n",
    " db_config['db'])\n",
    "# сохраняем коннектор\n",
    "engine = create_engine(connection_string, connect_args={'sslmode':'require'}) "
   ]
  },
  {
   "cell_type": "code",
   "execution_count": 2,
   "id": "e6faa2aa",
   "metadata": {},
   "outputs": [
    {
     "data": {
      "text/html": [
       "<div>\n",
       "<style scoped>\n",
       "    .dataframe tbody tr th:only-of-type {\n",
       "        vertical-align: middle;\n",
       "    }\n",
       "\n",
       "    .dataframe tbody tr th {\n",
       "        vertical-align: top;\n",
       "    }\n",
       "\n",
       "    .dataframe thead th {\n",
       "        text-align: right;\n",
       "    }\n",
       "</style>\n",
       "<table border=\"1\" class=\"dataframe\">\n",
       "  <thead>\n",
       "    <tr style=\"text-align: right;\">\n",
       "      <th></th>\n",
       "      <th>book_id</th>\n",
       "      <th>author_id</th>\n",
       "      <th>title</th>\n",
       "      <th>num_pages</th>\n",
       "      <th>publication_date</th>\n",
       "      <th>publisher_id</th>\n",
       "    </tr>\n",
       "  </thead>\n",
       "  <tbody>\n",
       "    <tr>\n",
       "      <td>0</td>\n",
       "      <td>1</td>\n",
       "      <td>546</td>\n",
       "      <td>'Salem's Lot</td>\n",
       "      <td>594</td>\n",
       "      <td>2005-11-01</td>\n",
       "      <td>93</td>\n",
       "    </tr>\n",
       "    <tr>\n",
       "      <td>1</td>\n",
       "      <td>2</td>\n",
       "      <td>465</td>\n",
       "      <td>1 000 Places to See Before You Die</td>\n",
       "      <td>992</td>\n",
       "      <td>2003-05-22</td>\n",
       "      <td>336</td>\n",
       "    </tr>\n",
       "    <tr>\n",
       "      <td>2</td>\n",
       "      <td>3</td>\n",
       "      <td>407</td>\n",
       "      <td>13 Little Blue Envelopes (Little Blue Envelope...</td>\n",
       "      <td>322</td>\n",
       "      <td>2010-12-21</td>\n",
       "      <td>135</td>\n",
       "    </tr>\n",
       "    <tr>\n",
       "      <td>3</td>\n",
       "      <td>4</td>\n",
       "      <td>82</td>\n",
       "      <td>1491: New Revelations of the Americas Before C...</td>\n",
       "      <td>541</td>\n",
       "      <td>2006-10-10</td>\n",
       "      <td>309</td>\n",
       "    </tr>\n",
       "    <tr>\n",
       "      <td>4</td>\n",
       "      <td>5</td>\n",
       "      <td>125</td>\n",
       "      <td>1776</td>\n",
       "      <td>386</td>\n",
       "      <td>2006-07-04</td>\n",
       "      <td>268</td>\n",
       "    </tr>\n",
       "    <tr>\n",
       "      <td>...</td>\n",
       "      <td>...</td>\n",
       "      <td>...</td>\n",
       "      <td>...</td>\n",
       "      <td>...</td>\n",
       "      <td>...</td>\n",
       "      <td>...</td>\n",
       "    </tr>\n",
       "    <tr>\n",
       "      <td>995</td>\n",
       "      <td>996</td>\n",
       "      <td>571</td>\n",
       "      <td>Wyrd Sisters (Discworld  #6; Witches #2)</td>\n",
       "      <td>265</td>\n",
       "      <td>2001-02-06</td>\n",
       "      <td>147</td>\n",
       "    </tr>\n",
       "    <tr>\n",
       "      <td>996</td>\n",
       "      <td>997</td>\n",
       "      <td>454</td>\n",
       "      <td>Xenocide (Ender's Saga  #3)</td>\n",
       "      <td>592</td>\n",
       "      <td>1996-07-15</td>\n",
       "      <td>297</td>\n",
       "    </tr>\n",
       "    <tr>\n",
       "      <td>997</td>\n",
       "      <td>998</td>\n",
       "      <td>201</td>\n",
       "      <td>Year of Wonders</td>\n",
       "      <td>358</td>\n",
       "      <td>2002-04-30</td>\n",
       "      <td>212</td>\n",
       "    </tr>\n",
       "    <tr>\n",
       "      <td>998</td>\n",
       "      <td>999</td>\n",
       "      <td>94</td>\n",
       "      <td>You Suck (A Love Story  #2)</td>\n",
       "      <td>328</td>\n",
       "      <td>2007-01-16</td>\n",
       "      <td>331</td>\n",
       "    </tr>\n",
       "    <tr>\n",
       "      <td>999</td>\n",
       "      <td>1000</td>\n",
       "      <td>509</td>\n",
       "      <td>Zen and the Art of Motorcycle Maintenance: An ...</td>\n",
       "      <td>540</td>\n",
       "      <td>2006-04-25</td>\n",
       "      <td>143</td>\n",
       "    </tr>\n",
       "  </tbody>\n",
       "</table>\n",
       "<p>1000 rows × 6 columns</p>\n",
       "</div>"
      ],
      "text/plain": [
       "     book_id  author_id                                              title  \\\n",
       "0          1        546                                       'Salem's Lot   \n",
       "1          2        465                 1 000 Places to See Before You Die   \n",
       "2          3        407  13 Little Blue Envelopes (Little Blue Envelope...   \n",
       "3          4         82  1491: New Revelations of the Americas Before C...   \n",
       "4          5        125                                               1776   \n",
       "..       ...        ...                                                ...   \n",
       "995      996        571           Wyrd Sisters (Discworld  #6; Witches #2)   \n",
       "996      997        454                        Xenocide (Ender's Saga  #3)   \n",
       "997      998        201                                    Year of Wonders   \n",
       "998      999         94                        You Suck (A Love Story  #2)   \n",
       "999     1000        509  Zen and the Art of Motorcycle Maintenance: An ...   \n",
       "\n",
       "     num_pages publication_date  publisher_id  \n",
       "0          594       2005-11-01            93  \n",
       "1          992       2003-05-22           336  \n",
       "2          322       2010-12-21           135  \n",
       "3          541       2006-10-10           309  \n",
       "4          386       2006-07-04           268  \n",
       "..         ...              ...           ...  \n",
       "995        265       2001-02-06           147  \n",
       "996        592       1996-07-15           297  \n",
       "997        358       2002-04-30           212  \n",
       "998        328       2007-01-16           331  \n",
       "999        540       2006-04-25           143  \n",
       "\n",
       "[1000 rows x 6 columns]"
      ]
     },
     "execution_count": 2,
     "metadata": {},
     "output_type": "execute_result"
    }
   ],
   "source": [
    "pd.io.sql.read_sql('SELECT * FROM books', con = engine)"
   ]
  },
  {
   "cell_type": "code",
   "execution_count": 3,
   "id": "2b55a1f9",
   "metadata": {},
   "outputs": [
    {
     "data": {
      "text/html": [
       "<div>\n",
       "<style scoped>\n",
       "    .dataframe tbody tr th:only-of-type {\n",
       "        vertical-align: middle;\n",
       "    }\n",
       "\n",
       "    .dataframe tbody tr th {\n",
       "        vertical-align: top;\n",
       "    }\n",
       "\n",
       "    .dataframe thead th {\n",
       "        text-align: right;\n",
       "    }\n",
       "</style>\n",
       "<table border=\"1\" class=\"dataframe\">\n",
       "  <thead>\n",
       "    <tr style=\"text-align: right;\">\n",
       "      <th></th>\n",
       "      <th>author_id</th>\n",
       "      <th>author</th>\n",
       "    </tr>\n",
       "  </thead>\n",
       "  <tbody>\n",
       "    <tr>\n",
       "      <td>0</td>\n",
       "      <td>1</td>\n",
       "      <td>A.S. Byatt</td>\n",
       "    </tr>\n",
       "    <tr>\n",
       "      <td>1</td>\n",
       "      <td>2</td>\n",
       "      <td>Aesop/Laura Harris/Laura Gibbs</td>\n",
       "    </tr>\n",
       "    <tr>\n",
       "      <td>2</td>\n",
       "      <td>3</td>\n",
       "      <td>Agatha Christie</td>\n",
       "    </tr>\n",
       "    <tr>\n",
       "      <td>3</td>\n",
       "      <td>4</td>\n",
       "      <td>Alan Brennert</td>\n",
       "    </tr>\n",
       "    <tr>\n",
       "      <td>4</td>\n",
       "      <td>5</td>\n",
       "      <td>Alan Moore/David   Lloyd</td>\n",
       "    </tr>\n",
       "  </tbody>\n",
       "</table>\n",
       "</div>"
      ],
      "text/plain": [
       "   author_id                          author\n",
       "0          1                      A.S. Byatt\n",
       "1          2  Aesop/Laura Harris/Laura Gibbs\n",
       "2          3                 Agatha Christie\n",
       "3          4                   Alan Brennert\n",
       "4          5        Alan Moore/David   Lloyd"
      ]
     },
     "execution_count": 3,
     "metadata": {},
     "output_type": "execute_result"
    }
   ],
   "source": [
    "pd.io.sql.read_sql('SELECT * FROM authors', con = engine)[:5]"
   ]
  },
  {
   "cell_type": "code",
   "execution_count": 4,
   "id": "f16dd4db",
   "metadata": {},
   "outputs": [
    {
     "data": {
      "text/html": [
       "<div>\n",
       "<style scoped>\n",
       "    .dataframe tbody tr th:only-of-type {\n",
       "        vertical-align: middle;\n",
       "    }\n",
       "\n",
       "    .dataframe tbody tr th {\n",
       "        vertical-align: top;\n",
       "    }\n",
       "\n",
       "    .dataframe thead th {\n",
       "        text-align: right;\n",
       "    }\n",
       "</style>\n",
       "<table border=\"1\" class=\"dataframe\">\n",
       "  <thead>\n",
       "    <tr style=\"text-align: right;\">\n",
       "      <th></th>\n",
       "      <th>publisher_id</th>\n",
       "      <th>publisher</th>\n",
       "    </tr>\n",
       "  </thead>\n",
       "  <tbody>\n",
       "    <tr>\n",
       "      <td>0</td>\n",
       "      <td>1</td>\n",
       "      <td>Ace</td>\n",
       "    </tr>\n",
       "    <tr>\n",
       "      <td>1</td>\n",
       "      <td>2</td>\n",
       "      <td>Ace Book</td>\n",
       "    </tr>\n",
       "    <tr>\n",
       "      <td>2</td>\n",
       "      <td>3</td>\n",
       "      <td>Ace Books</td>\n",
       "    </tr>\n",
       "    <tr>\n",
       "      <td>3</td>\n",
       "      <td>4</td>\n",
       "      <td>Ace Hardcover</td>\n",
       "    </tr>\n",
       "    <tr>\n",
       "      <td>4</td>\n",
       "      <td>5</td>\n",
       "      <td>Addison Wesley Publishing Company</td>\n",
       "    </tr>\n",
       "  </tbody>\n",
       "</table>\n",
       "</div>"
      ],
      "text/plain": [
       "   publisher_id                          publisher\n",
       "0             1                                Ace\n",
       "1             2                           Ace Book\n",
       "2             3                          Ace Books\n",
       "3             4                      Ace Hardcover\n",
       "4             5  Addison Wesley Publishing Company"
      ]
     },
     "execution_count": 4,
     "metadata": {},
     "output_type": "execute_result"
    }
   ],
   "source": [
    "pd.io.sql.read_sql('SELECT * FROM publishers', con = engine)[:5]"
   ]
  },
  {
   "cell_type": "code",
   "execution_count": 5,
   "id": "f4247f13",
   "metadata": {},
   "outputs": [
    {
     "data": {
      "text/html": [
       "<div>\n",
       "<style scoped>\n",
       "    .dataframe tbody tr th:only-of-type {\n",
       "        vertical-align: middle;\n",
       "    }\n",
       "\n",
       "    .dataframe tbody tr th {\n",
       "        vertical-align: top;\n",
       "    }\n",
       "\n",
       "    .dataframe thead th {\n",
       "        text-align: right;\n",
       "    }\n",
       "</style>\n",
       "<table border=\"1\" class=\"dataframe\">\n",
       "  <thead>\n",
       "    <tr style=\"text-align: right;\">\n",
       "      <th></th>\n",
       "      <th>rating_id</th>\n",
       "      <th>book_id</th>\n",
       "      <th>username</th>\n",
       "      <th>rating</th>\n",
       "    </tr>\n",
       "  </thead>\n",
       "  <tbody>\n",
       "    <tr>\n",
       "      <td>0</td>\n",
       "      <td>1</td>\n",
       "      <td>1</td>\n",
       "      <td>ryanfranco</td>\n",
       "      <td>4</td>\n",
       "    </tr>\n",
       "    <tr>\n",
       "      <td>1</td>\n",
       "      <td>2</td>\n",
       "      <td>1</td>\n",
       "      <td>grantpatricia</td>\n",
       "      <td>2</td>\n",
       "    </tr>\n",
       "    <tr>\n",
       "      <td>2</td>\n",
       "      <td>3</td>\n",
       "      <td>1</td>\n",
       "      <td>brandtandrea</td>\n",
       "      <td>5</td>\n",
       "    </tr>\n",
       "    <tr>\n",
       "      <td>3</td>\n",
       "      <td>4</td>\n",
       "      <td>2</td>\n",
       "      <td>lorichen</td>\n",
       "      <td>3</td>\n",
       "    </tr>\n",
       "    <tr>\n",
       "      <td>4</td>\n",
       "      <td>5</td>\n",
       "      <td>2</td>\n",
       "      <td>mariokeller</td>\n",
       "      <td>2</td>\n",
       "    </tr>\n",
       "  </tbody>\n",
       "</table>\n",
       "</div>"
      ],
      "text/plain": [
       "   rating_id  book_id       username  rating\n",
       "0          1        1     ryanfranco       4\n",
       "1          2        1  grantpatricia       2\n",
       "2          3        1   brandtandrea       5\n",
       "3          4        2       lorichen       3\n",
       "4          5        2    mariokeller       2"
      ]
     },
     "execution_count": 5,
     "metadata": {},
     "output_type": "execute_result"
    }
   ],
   "source": [
    "pd.io.sql.read_sql('SELECT * FROM ratings', con = engine)[:5]"
   ]
  },
  {
   "cell_type": "code",
   "execution_count": 6,
   "id": "8397dfc0",
   "metadata": {},
   "outputs": [
    {
     "data": {
      "text/html": [
       "<div>\n",
       "<style scoped>\n",
       "    .dataframe tbody tr th:only-of-type {\n",
       "        vertical-align: middle;\n",
       "    }\n",
       "\n",
       "    .dataframe tbody tr th {\n",
       "        vertical-align: top;\n",
       "    }\n",
       "\n",
       "    .dataframe thead th {\n",
       "        text-align: right;\n",
       "    }\n",
       "</style>\n",
       "<table border=\"1\" class=\"dataframe\">\n",
       "  <thead>\n",
       "    <tr style=\"text-align: right;\">\n",
       "      <th></th>\n",
       "      <th>review_id</th>\n",
       "      <th>book_id</th>\n",
       "      <th>username</th>\n",
       "      <th>text</th>\n",
       "    </tr>\n",
       "  </thead>\n",
       "  <tbody>\n",
       "    <tr>\n",
       "      <td>0</td>\n",
       "      <td>1</td>\n",
       "      <td>1</td>\n",
       "      <td>brandtandrea</td>\n",
       "      <td>Mention society tell send professor analysis. ...</td>\n",
       "    </tr>\n",
       "    <tr>\n",
       "      <td>1</td>\n",
       "      <td>2</td>\n",
       "      <td>1</td>\n",
       "      <td>ryanfranco</td>\n",
       "      <td>Foot glass pretty audience hit themselves. Amo...</td>\n",
       "    </tr>\n",
       "    <tr>\n",
       "      <td>2</td>\n",
       "      <td>3</td>\n",
       "      <td>2</td>\n",
       "      <td>lorichen</td>\n",
       "      <td>Listen treat keep worry. Miss husband tax but ...</td>\n",
       "    </tr>\n",
       "    <tr>\n",
       "      <td>3</td>\n",
       "      <td>4</td>\n",
       "      <td>3</td>\n",
       "      <td>johnsonamanda</td>\n",
       "      <td>Finally month interesting blue could nature cu...</td>\n",
       "    </tr>\n",
       "    <tr>\n",
       "      <td>4</td>\n",
       "      <td>5</td>\n",
       "      <td>3</td>\n",
       "      <td>scotttamara</td>\n",
       "      <td>Nation purpose heavy give wait song will. List...</td>\n",
       "    </tr>\n",
       "  </tbody>\n",
       "</table>\n",
       "</div>"
      ],
      "text/plain": [
       "   review_id  book_id       username  \\\n",
       "0          1        1   brandtandrea   \n",
       "1          2        1     ryanfranco   \n",
       "2          3        2       lorichen   \n",
       "3          4        3  johnsonamanda   \n",
       "4          5        3    scotttamara   \n",
       "\n",
       "                                                text  \n",
       "0  Mention society tell send professor analysis. ...  \n",
       "1  Foot glass pretty audience hit themselves. Amo...  \n",
       "2  Listen treat keep worry. Miss husband tax but ...  \n",
       "3  Finally month interesting blue could nature cu...  \n",
       "4  Nation purpose heavy give wait song will. List...  "
      ]
     },
     "execution_count": 6,
     "metadata": {},
     "output_type": "execute_result"
    }
   ],
   "source": [
    "pd.io.sql.read_sql('SELECT * FROM reviews', con = engine)[:5]"
   ]
  },
  {
   "cell_type": "markdown",
   "id": "ad5e6cbf",
   "metadata": {},
   "source": [
    "#### Книги, вышедшие после 1 января 2000 года"
   ]
  },
  {
   "cell_type": "code",
   "execution_count": 7,
   "id": "40b1fce6",
   "metadata": {},
   "outputs": [
    {
     "data": {
      "text/html": [
       "<div>\n",
       "<style scoped>\n",
       "    .dataframe tbody tr th:only-of-type {\n",
       "        vertical-align: middle;\n",
       "    }\n",
       "\n",
       "    .dataframe tbody tr th {\n",
       "        vertical-align: top;\n",
       "    }\n",
       "\n",
       "    .dataframe thead th {\n",
       "        text-align: right;\n",
       "    }\n",
       "</style>\n",
       "<table border=\"1\" class=\"dataframe\">\n",
       "  <thead>\n",
       "    <tr style=\"text-align: right;\">\n",
       "      <th></th>\n",
       "      <th>count</th>\n",
       "    </tr>\n",
       "  </thead>\n",
       "  <tbody>\n",
       "    <tr>\n",
       "      <td>0</td>\n",
       "      <td>821</td>\n",
       "    </tr>\n",
       "  </tbody>\n",
       "</table>\n",
       "</div>"
      ],
      "text/plain": [
       "   count\n",
       "0    821"
      ]
     },
     "execution_count": 7,
     "metadata": {},
     "output_type": "execute_result"
    }
   ],
   "source": [
    "query_01 = '''\n",
    "SELECT count(book_id) \n",
    "FROM books \n",
    "WHERE publication_date >= '2000-01-01'\n",
    "'''\n",
    "\n",
    "\n",
    "pd.io.sql.read_sql(query_01, con = engine)"
   ]
  },
  {
   "cell_type": "markdown",
   "id": "9b8a1570",
   "metadata": {},
   "source": [
    "С 1 января 2000 года вышло 821 книга."
   ]
  },
  {
   "cell_type": "markdown",
   "id": "fcd46b90",
   "metadata": {},
   "source": [
    "#### Количество обзоров и средняя оценка"
   ]
  },
  {
   "cell_type": "code",
   "execution_count": 9,
   "id": "21aa148b",
   "metadata": {},
   "outputs": [
    {
     "data": {
      "text/html": [
       "<div>\n",
       "<style scoped>\n",
       "    .dataframe tbody tr th:only-of-type {\n",
       "        vertical-align: middle;\n",
       "    }\n",
       "\n",
       "    .dataframe tbody tr th {\n",
       "        vertical-align: top;\n",
       "    }\n",
       "\n",
       "    .dataframe thead th {\n",
       "        text-align: right;\n",
       "    }\n",
       "</style>\n",
       "<table border=\"1\" class=\"dataframe\">\n",
       "  <thead>\n",
       "    <tr style=\"text-align: right;\">\n",
       "      <th></th>\n",
       "      <th>id</th>\n",
       "      <th>review_count</th>\n",
       "      <th>title</th>\n",
       "      <th>book_id</th>\n",
       "      <th>avg</th>\n",
       "    </tr>\n",
       "  </thead>\n",
       "  <tbody>\n",
       "    <tr>\n",
       "      <td>0</td>\n",
       "      <td>1.0</td>\n",
       "      <td>2.0</td>\n",
       "      <td>'Salem's Lot</td>\n",
       "      <td>1.0</td>\n",
       "      <td>3.666667</td>\n",
       "    </tr>\n",
       "    <tr>\n",
       "      <td>1</td>\n",
       "      <td>2.0</td>\n",
       "      <td>1.0</td>\n",
       "      <td>1 000 Places to See Before You Die</td>\n",
       "      <td>2.0</td>\n",
       "      <td>2.500000</td>\n",
       "    </tr>\n",
       "    <tr>\n",
       "      <td>2</td>\n",
       "      <td>3.0</td>\n",
       "      <td>3.0</td>\n",
       "      <td>13 Little Blue Envelopes (Little Blue Envelope...</td>\n",
       "      <td>3.0</td>\n",
       "      <td>4.666667</td>\n",
       "    </tr>\n",
       "    <tr>\n",
       "      <td>3</td>\n",
       "      <td>4.0</td>\n",
       "      <td>2.0</td>\n",
       "      <td>1491: New Revelations of the Americas Before C...</td>\n",
       "      <td>4.0</td>\n",
       "      <td>4.500000</td>\n",
       "    </tr>\n",
       "    <tr>\n",
       "      <td>4</td>\n",
       "      <td>5.0</td>\n",
       "      <td>4.0</td>\n",
       "      <td>1776</td>\n",
       "      <td>5.0</td>\n",
       "      <td>4.000000</td>\n",
       "    </tr>\n",
       "    <tr>\n",
       "      <td>...</td>\n",
       "      <td>...</td>\n",
       "      <td>...</td>\n",
       "      <td>...</td>\n",
       "      <td>...</td>\n",
       "      <td>...</td>\n",
       "    </tr>\n",
       "    <tr>\n",
       "      <td>995</td>\n",
       "      <td>996.0</td>\n",
       "      <td>3.0</td>\n",
       "      <td>Wyrd Sisters (Discworld  #6; Witches #2)</td>\n",
       "      <td>996.0</td>\n",
       "      <td>3.666667</td>\n",
       "    </tr>\n",
       "    <tr>\n",
       "      <td>996</td>\n",
       "      <td>997.0</td>\n",
       "      <td>3.0</td>\n",
       "      <td>Xenocide (Ender's Saga  #3)</td>\n",
       "      <td>997.0</td>\n",
       "      <td>3.400000</td>\n",
       "    </tr>\n",
       "    <tr>\n",
       "      <td>997</td>\n",
       "      <td>998.0</td>\n",
       "      <td>4.0</td>\n",
       "      <td>Year of Wonders</td>\n",
       "      <td>998.0</td>\n",
       "      <td>3.200000</td>\n",
       "    </tr>\n",
       "    <tr>\n",
       "      <td>998</td>\n",
       "      <td>999.0</td>\n",
       "      <td>2.0</td>\n",
       "      <td>You Suck (A Love Story  #2)</td>\n",
       "      <td>999.0</td>\n",
       "      <td>4.500000</td>\n",
       "    </tr>\n",
       "    <tr>\n",
       "      <td>999</td>\n",
       "      <td>1000.0</td>\n",
       "      <td>4.0</td>\n",
       "      <td>Zen and the Art of Motorcycle Maintenance: An ...</td>\n",
       "      <td>1000.0</td>\n",
       "      <td>3.833333</td>\n",
       "    </tr>\n",
       "  </tbody>\n",
       "</table>\n",
       "<p>1000 rows × 5 columns</p>\n",
       "</div>"
      ],
      "text/plain": [
       "         id  review_count                                              title  \\\n",
       "0       1.0           2.0                                       'Salem's Lot   \n",
       "1       2.0           1.0                 1 000 Places to See Before You Die   \n",
       "2       3.0           3.0  13 Little Blue Envelopes (Little Blue Envelope...   \n",
       "3       4.0           2.0  1491: New Revelations of the Americas Before C...   \n",
       "4       5.0           4.0                                               1776   \n",
       "..      ...           ...                                                ...   \n",
       "995   996.0           3.0           Wyrd Sisters (Discworld  #6; Witches #2)   \n",
       "996   997.0           3.0                        Xenocide (Ender's Saga  #3)   \n",
       "997   998.0           4.0                                    Year of Wonders   \n",
       "998   999.0           2.0                        You Suck (A Love Story  #2)   \n",
       "999  1000.0           4.0  Zen and the Art of Motorcycle Maintenance: An ...   \n",
       "\n",
       "     book_id       avg  \n",
       "0        1.0  3.666667  \n",
       "1        2.0  2.500000  \n",
       "2        3.0  4.666667  \n",
       "3        4.0  4.500000  \n",
       "4        5.0  4.000000  \n",
       "..       ...       ...  \n",
       "995    996.0  3.666667  \n",
       "996    997.0  3.400000  \n",
       "997    998.0  3.200000  \n",
       "998    999.0  4.500000  \n",
       "999   1000.0  3.833333  \n",
       "\n",
       "[1000 rows x 5 columns]"
      ]
     },
     "execution_count": 9,
     "metadata": {},
     "output_type": "execute_result"
    }
   ],
   "source": [
    "query_02 = '''\n",
    "SELECT *  FROM\n",
    "\n",
    "(SELECT rev._book_id as id, rev._review_count as review_count, books.title as title FROM books \n",
    "LEFT JOIN (SELECT reviews.book_id as _book_id, COUNT(reviews.review_id) as _review_count FROM reviews GROUP BY reviews.book_id) rev \n",
    "ON _book_id = books.book_id) book1\n",
    "\n",
    "LEFT JOIN (SELECT book_id, AVG(rating) FROM ratings GROUP BY ratings.book_id) rat \n",
    "    ON rat.book_id = book1.id \n",
    "    \n",
    "'''\n",
    "\n",
    "pd.io.sql.read_sql(query_02, con = engine)\n"
   ]
  },
  {
   "cell_type": "code",
   "execution_count": 20,
   "id": "f144ccb4",
   "metadata": {},
   "outputs": [
    {
     "data": {
      "text/html": [
       "<div>\n",
       "<style scoped>\n",
       "    .dataframe tbody tr th:only-of-type {\n",
       "        vertical-align: middle;\n",
       "    }\n",
       "\n",
       "    .dataframe tbody tr th {\n",
       "        vertical-align: top;\n",
       "    }\n",
       "\n",
       "    .dataframe thead th {\n",
       "        text-align: right;\n",
       "    }\n",
       "</style>\n",
       "<table border=\"1\" class=\"dataframe\">\n",
       "  <thead>\n",
       "    <tr style=\"text-align: right;\">\n",
       "      <th></th>\n",
       "      <th>book_id</th>\n",
       "      <th>title</th>\n",
       "      <th>avg_rtg</th>\n",
       "      <th>cnt_rev</th>\n",
       "    </tr>\n",
       "  </thead>\n",
       "  <tbody>\n",
       "    <tr>\n",
       "      <td>0</td>\n",
       "      <td>652</td>\n",
       "      <td>The Body in the Library (Miss Marple  #3)</td>\n",
       "      <td>4.500000</td>\n",
       "      <td>2.0</td>\n",
       "    </tr>\n",
       "    <tr>\n",
       "      <td>1</td>\n",
       "      <td>273</td>\n",
       "      <td>Galápagos</td>\n",
       "      <td>4.500000</td>\n",
       "      <td>2.0</td>\n",
       "    </tr>\n",
       "    <tr>\n",
       "      <td>2</td>\n",
       "      <td>51</td>\n",
       "      <td>A Tree Grows in Brooklyn</td>\n",
       "      <td>4.250000</td>\n",
       "      <td>5.0</td>\n",
       "    </tr>\n",
       "    <tr>\n",
       "      <td>3</td>\n",
       "      <td>951</td>\n",
       "      <td>Undaunted Courage: The Pioneering First Missio...</td>\n",
       "      <td>4.000000</td>\n",
       "      <td>2.0</td>\n",
       "    </tr>\n",
       "    <tr>\n",
       "      <td>4</td>\n",
       "      <td>839</td>\n",
       "      <td>The Prophet</td>\n",
       "      <td>4.285714</td>\n",
       "      <td>4.0</td>\n",
       "    </tr>\n",
       "    <tr>\n",
       "      <td>...</td>\n",
       "      <td>...</td>\n",
       "      <td>...</td>\n",
       "      <td>...</td>\n",
       "      <td>...</td>\n",
       "    </tr>\n",
       "    <tr>\n",
       "      <td>995</td>\n",
       "      <td>672</td>\n",
       "      <td>The Cat in the Hat and Other Dr. Seuss Favorites</td>\n",
       "      <td>5.000000</td>\n",
       "      <td>NaN</td>\n",
       "    </tr>\n",
       "    <tr>\n",
       "      <td>996</td>\n",
       "      <td>83</td>\n",
       "      <td>Anne Rice's The Vampire Lestat: A Graphic Novel</td>\n",
       "      <td>3.666667</td>\n",
       "      <td>NaN</td>\n",
       "    </tr>\n",
       "    <tr>\n",
       "      <td>997</td>\n",
       "      <td>221</td>\n",
       "      <td>Essential Tales and Poems</td>\n",
       "      <td>4.000000</td>\n",
       "      <td>NaN</td>\n",
       "    </tr>\n",
       "    <tr>\n",
       "      <td>998</td>\n",
       "      <td>387</td>\n",
       "      <td>Leonardo's Notebooks</td>\n",
       "      <td>4.000000</td>\n",
       "      <td>NaN</td>\n",
       "    </tr>\n",
       "    <tr>\n",
       "      <td>999</td>\n",
       "      <td>808</td>\n",
       "      <td>The Natural Way to Draw</td>\n",
       "      <td>3.000000</td>\n",
       "      <td>NaN</td>\n",
       "    </tr>\n",
       "  </tbody>\n",
       "</table>\n",
       "<p>1000 rows × 4 columns</p>\n",
       "</div>"
      ],
      "text/plain": [
       "     book_id                                              title   avg_rtg  \\\n",
       "0        652          The Body in the Library (Miss Marple  #3)  4.500000   \n",
       "1        273                                          Galápagos  4.500000   \n",
       "2         51                           A Tree Grows in Brooklyn  4.250000   \n",
       "3        951  Undaunted Courage: The Pioneering First Missio...  4.000000   \n",
       "4        839                                        The Prophet  4.285714   \n",
       "..       ...                                                ...       ...   \n",
       "995      672   The Cat in the Hat and Other Dr. Seuss Favorites  5.000000   \n",
       "996       83    Anne Rice's The Vampire Lestat: A Graphic Novel  3.666667   \n",
       "997      221                          Essential Tales and Poems  4.000000   \n",
       "998      387                               Leonardo's Notebooks  4.000000   \n",
       "999      808                            The Natural Way to Draw  3.000000   \n",
       "\n",
       "     cnt_rev  \n",
       "0        2.0  \n",
       "1        2.0  \n",
       "2        5.0  \n",
       "3        2.0  \n",
       "4        4.0  \n",
       "..       ...  \n",
       "995      NaN  \n",
       "996      NaN  \n",
       "997      NaN  \n",
       "998      NaN  \n",
       "999      NaN  \n",
       "\n",
       "[1000 rows x 4 columns]"
      ]
     },
     "execution_count": 20,
     "metadata": {},
     "output_type": "execute_result"
    }
   ],
   "source": [
    "query_rev = '''\n",
    "\n",
    "with avg_rate_table as (\n",
    "select books.book_id, avg(ratings.rating) as avg_rtg\n",
    "from books\n",
    "join ratings on books.book_id = ratings.book_id\n",
    "group by books.book_id),\n",
    "\n",
    "\n",
    "count_rev_table as (\n",
    "select books.book_id, count(reviews.review_id) as cnt_rev\n",
    "from books\n",
    "join reviews on books.book_id = reviews.book_id\n",
    "group by books.book_id)\n",
    "\n",
    "\n",
    "select books.book_id, books.title, avg_rate_table.avg_rtg, count_rev_table.cnt_rev\n",
    "from books\n",
    "left join avg_rate_table on books.book_id = avg_rate_table.book_id\n",
    "left join count_rev_table on books.book_id = count_rev_table.book_id\n",
    "\n",
    "'''\n",
    "\n",
    "pd.io.sql.read_sql(query_rev, con = engine)"
   ]
  },
  {
   "cell_type": "markdown",
   "id": "a7cfdbe0",
   "metadata": {},
   "source": [
    "#### Издательство, которое выпустило наибольшее число книг толще 50 страниц"
   ]
  },
  {
   "cell_type": "code",
   "execution_count": 11,
   "id": "b7e83a18",
   "metadata": {},
   "outputs": [
    {
     "data": {
      "text/html": [
       "<div>\n",
       "<style scoped>\n",
       "    .dataframe tbody tr th:only-of-type {\n",
       "        vertical-align: middle;\n",
       "    }\n",
       "\n",
       "    .dataframe tbody tr th {\n",
       "        vertical-align: top;\n",
       "    }\n",
       "\n",
       "    .dataframe thead th {\n",
       "        text-align: right;\n",
       "    }\n",
       "</style>\n",
       "<table border=\"1\" class=\"dataframe\">\n",
       "  <thead>\n",
       "    <tr style=\"text-align: right;\">\n",
       "      <th></th>\n",
       "      <th>pid</th>\n",
       "      <th>count</th>\n",
       "      <th>publisher_id</th>\n",
       "      <th>publisher</th>\n",
       "    </tr>\n",
       "  </thead>\n",
       "  <tbody>\n",
       "    <tr>\n",
       "      <td>0</td>\n",
       "      <td>212</td>\n",
       "      <td>42</td>\n",
       "      <td>212</td>\n",
       "      <td>Penguin Books</td>\n",
       "    </tr>\n",
       "    <tr>\n",
       "      <td>1</td>\n",
       "      <td>309</td>\n",
       "      <td>31</td>\n",
       "      <td>309</td>\n",
       "      <td>Vintage</td>\n",
       "    </tr>\n",
       "    <tr>\n",
       "      <td>2</td>\n",
       "      <td>116</td>\n",
       "      <td>25</td>\n",
       "      <td>116</td>\n",
       "      <td>Grand Central Publishing</td>\n",
       "    </tr>\n",
       "    <tr>\n",
       "      <td>3</td>\n",
       "      <td>217</td>\n",
       "      <td>24</td>\n",
       "      <td>217</td>\n",
       "      <td>Penguin Classics</td>\n",
       "    </tr>\n",
       "    <tr>\n",
       "      <td>4</td>\n",
       "      <td>33</td>\n",
       "      <td>19</td>\n",
       "      <td>33</td>\n",
       "      <td>Ballantine Books</td>\n",
       "    </tr>\n",
       "    <tr>\n",
       "      <td>...</td>\n",
       "      <td>...</td>\n",
       "      <td>...</td>\n",
       "      <td>...</td>\n",
       "      <td>...</td>\n",
       "    </tr>\n",
       "    <tr>\n",
       "      <td>329</td>\n",
       "      <td>34</td>\n",
       "      <td>1</td>\n",
       "      <td>34</td>\n",
       "      <td>Ballantine Books (NY)</td>\n",
       "    </tr>\n",
       "    <tr>\n",
       "      <td>330</td>\n",
       "      <td>225</td>\n",
       "      <td>1</td>\n",
       "      <td>225</td>\n",
       "      <td>Plaza y Janés</td>\n",
       "    </tr>\n",
       "    <tr>\n",
       "      <td>331</td>\n",
       "      <td>138</td>\n",
       "      <td>1</td>\n",
       "      <td>138</td>\n",
       "      <td>HarperCollinsPublishers</td>\n",
       "    </tr>\n",
       "    <tr>\n",
       "      <td>332</td>\n",
       "      <td>245</td>\n",
       "      <td>1</td>\n",
       "      <td>245</td>\n",
       "      <td>Random House: Modern Library</td>\n",
       "    </tr>\n",
       "    <tr>\n",
       "      <td>333</td>\n",
       "      <td>205</td>\n",
       "      <td>1</td>\n",
       "      <td>205</td>\n",
       "      <td>Pan Childrens</td>\n",
       "    </tr>\n",
       "  </tbody>\n",
       "</table>\n",
       "<p>334 rows × 4 columns</p>\n",
       "</div>"
      ],
      "text/plain": [
       "     pid  count  publisher_id                     publisher\n",
       "0    212     42           212                 Penguin Books\n",
       "1    309     31           309                       Vintage\n",
       "2    116     25           116      Grand Central Publishing\n",
       "3    217     24           217              Penguin Classics\n",
       "4     33     19            33              Ballantine Books\n",
       "..   ...    ...           ...                           ...\n",
       "329   34      1            34         Ballantine Books (NY)\n",
       "330  225      1           225                 Plaza y Janés\n",
       "331  138      1           138       HarperCollinsPublishers\n",
       "332  245      1           245  Random House: Modern Library\n",
       "333  205      1           205                 Pan Childrens\n",
       "\n",
       "[334 rows x 4 columns]"
      ]
     },
     "execution_count": 11,
     "metadata": {},
     "output_type": "execute_result"
    }
   ],
   "source": [
    "query_03 = '''\n",
    "SELECT * FROM (SELECT publisher_id as pid, COUNT(publisher_id) \n",
    "FROM books WHERE num_pages > 50 GROUP BY publisher_id) b \n",
    "JOIN publishers ON publishers.publisher_id = b.pid \n",
    "ORDER BY count DESC\n",
    "\n",
    "'''\n",
    "pd.io.sql.read_sql(query_03, con = engine)\n"
   ]
  },
  {
   "cell_type": "markdown",
   "id": "3af641cd",
   "metadata": {},
   "source": [
    "Издательство Penguin Books выпустило самое большое количество книг толще 50 страниц(42)."
   ]
  },
  {
   "cell_type": "markdown",
   "id": "3a0dfdde",
   "metadata": {},
   "source": [
    "#### Автор с самой высокой средней оценкой книг "
   ]
  },
  {
   "cell_type": "code",
   "execution_count": 12,
   "id": "788e371e",
   "metadata": {},
   "outputs": [
    {
     "data": {
      "text/html": [
       "<div>\n",
       "<style scoped>\n",
       "    .dataframe tbody tr th:only-of-type {\n",
       "        vertical-align: middle;\n",
       "    }\n",
       "\n",
       "    .dataframe tbody tr th {\n",
       "        vertical-align: top;\n",
       "    }\n",
       "\n",
       "    .dataframe thead th {\n",
       "        text-align: right;\n",
       "    }\n",
       "</style>\n",
       "<table border=\"1\" class=\"dataframe\">\n",
       "  <thead>\n",
       "    <tr style=\"text-align: right;\">\n",
       "      <th></th>\n",
       "      <th>author_id</th>\n",
       "      <th>avg</th>\n",
       "      <th>author_id</th>\n",
       "      <th>author</th>\n",
       "    </tr>\n",
       "  </thead>\n",
       "  <tbody>\n",
       "    <tr>\n",
       "      <td>0</td>\n",
       "      <td>236</td>\n",
       "      <td>4.283844</td>\n",
       "      <td>236</td>\n",
       "      <td>J.K. Rowling/Mary GrandPré</td>\n",
       "    </tr>\n",
       "  </tbody>\n",
       "</table>\n",
       "</div>"
      ],
      "text/plain": [
       "   author_id       avg  author_id                      author\n",
       "0        236  4.283844        236  J.K. Rowling/Mary GrandPré"
      ]
     },
     "execution_count": 12,
     "metadata": {},
     "output_type": "execute_result"
    }
   ],
   "source": [
    "query_04 = '''\n",
    "SELECT * FROM (SELECT author_id, AVG(avg) \n",
    "FROM (SELECT book_id, AVG(rating) \n",
    "FROM ratings \n",
    "GROUP BY ratings.book_id HAVING COUNT(*) > 50) r \n",
    "JOIN books ON r.book_id = books.book_id \n",
    "GROUP BY author_id) a \n",
    "JOIN authors ON a.author_id = authors.author_id  \n",
    "ORDER BY avg DESC\n",
    "\n",
    "'''\n",
    "\n",
    "pd.io.sql.read_sql(query_04, con = engine)[:1]"
   ]
  },
  {
   "cell_type": "markdown",
   "id": "e7c59165",
   "metadata": {},
   "source": [
    "J.K. Rowling/Mary GrandPré - автор с самой высокой средней оценкой."
   ]
  },
  {
   "cell_type": "markdown",
   "id": "39b9dd2f",
   "metadata": {},
   "source": [
    "#### Среднее количество обзоров от пользователей, которые поставили больше 50 оценок"
   ]
  },
  {
   "cell_type": "code",
   "execution_count": 13,
   "id": "2ff83303",
   "metadata": {},
   "outputs": [
    {
     "data": {
      "text/html": [
       "<div>\n",
       "<style scoped>\n",
       "    .dataframe tbody tr th:only-of-type {\n",
       "        vertical-align: middle;\n",
       "    }\n",
       "\n",
       "    .dataframe tbody tr th {\n",
       "        vertical-align: top;\n",
       "    }\n",
       "\n",
       "    .dataframe thead th {\n",
       "        text-align: right;\n",
       "    }\n",
       "</style>\n",
       "<table border=\"1\" class=\"dataframe\">\n",
       "  <thead>\n",
       "    <tr style=\"text-align: right;\">\n",
       "      <th></th>\n",
       "      <th>avg</th>\n",
       "    </tr>\n",
       "  </thead>\n",
       "  <tbody>\n",
       "    <tr>\n",
       "      <td>0</td>\n",
       "      <td>24.333333</td>\n",
       "    </tr>\n",
       "  </tbody>\n",
       "</table>\n",
       "</div>"
      ],
      "text/plain": [
       "         avg\n",
       "0  24.333333"
      ]
     },
     "execution_count": 13,
     "metadata": {},
     "output_type": "execute_result"
    }
   ],
   "source": [
    "query_05 = '''\n",
    "SELECT AVG(count) \n",
    "FROM (SELECT t.username, COUNT(t.username) \n",
    "FROM (SELECT * FROM (SELECT * FROM (SELECT username as uname, COUNT(username) FROM ratings GROUP BY username) u \n",
    "WHERE count > 50) rat \n",
    "JOIN reviews ON rat.uname = reviews.username) t \n",
    "GROUP BY t.username) c\n",
    "'''\n",
    "\n",
    "\n",
    "pd.io.sql.read_sql(query_05, con = engine)[:1]"
   ]
  },
  {
   "cell_type": "markdown",
   "id": "a1e763f3",
   "metadata": {},
   "source": [
    "В среднем пользователи, поставившие больше 50 оценок, совершают около 24 обзоров."
   ]
  },
  {
   "cell_type": "markdown",
   "id": "57e5f8a0",
   "metadata": {},
   "source": [
    "## Вывод\n",
    "\n",
    "С 1 января 2000 года вышло 821 книга.\n",
    "\n",
    "Самое продуктивное издательство Penguin Books выпустило самое большое количество книг толще 50 страниц - 42 книги. \n",
    "\n",
    "J.K. Rowling/Mary GrandPré - автор с самой высокой средней оценкой.\n",
    "\n",
    "В среднем пользователи, поставившие больше 50 оценок, совершают около 24 обзоров."
   ]
  },
  {
   "cell_type": "code",
   "execution_count": null,
   "id": "59a9842c",
   "metadata": {},
   "outputs": [],
   "source": []
  }
 ],
 "metadata": {
  "ExecuteTimeLog": [
   {
    "duration": 1661,
    "start_time": "2021-12-23T13:15:59.992Z"
   },
   {
    "duration": 294,
    "start_time": "2021-12-23T13:16:01.655Z"
   },
   {
    "duration": 70,
    "start_time": "2021-12-23T13:16:01.951Z"
   },
   {
    "duration": 72,
    "start_time": "2021-12-23T13:16:02.023Z"
   },
   {
    "duration": 121,
    "start_time": "2021-12-23T13:16:02.098Z"
   },
   {
    "duration": 91,
    "start_time": "2021-12-23T13:16:02.221Z"
   },
   {
    "duration": 69,
    "start_time": "2021-12-23T13:16:02.315Z"
   },
   {
    "duration": 100,
    "start_time": "2021-12-23T13:16:02.390Z"
   },
   {
    "duration": 74,
    "start_time": "2021-12-23T13:16:02.494Z"
   },
   {
    "duration": 77,
    "start_time": "2021-12-23T13:16:02.572Z"
   },
   {
    "duration": 70,
    "start_time": "2021-12-23T13:16:02.652Z"
   },
   {
    "duration": 72,
    "start_time": "2021-12-23T13:17:57.124Z"
   },
   {
    "duration": 72,
    "start_time": "2021-12-23T13:19:42.173Z"
   },
   {
    "duration": 72,
    "start_time": "2021-12-23T13:19:50.892Z"
   },
   {
    "duration": 216,
    "start_time": "2021-12-23T17:22:30.653Z"
   },
   {
    "duration": 687,
    "start_time": "2021-12-23T17:22:43.584Z"
   },
   {
    "duration": 286,
    "start_time": "2021-12-23T17:22:48.734Z"
   },
   {
    "duration": 109,
    "start_time": "2021-12-23T17:22:56.207Z"
   },
   {
    "duration": 83,
    "start_time": "2021-12-23T17:25:33.659Z"
   },
   {
    "duration": 276,
    "start_time": "2021-12-23T17:27:27.770Z"
   },
   {
    "duration": 302,
    "start_time": "2021-12-23T17:27:34.738Z"
   },
   {
    "duration": 244,
    "start_time": "2021-12-23T17:27:54.053Z"
   },
   {
    "duration": 119,
    "start_time": "2021-12-23T17:28:00.153Z"
   },
   {
    "duration": 108,
    "start_time": "2021-12-23T17:28:22.633Z"
   },
   {
    "duration": 112,
    "start_time": "2021-12-23T17:28:41.393Z"
   },
   {
    "duration": 277,
    "start_time": "2021-12-23T17:29:01.219Z"
   },
   {
    "duration": 252,
    "start_time": "2021-12-23T17:29:04.474Z"
   },
   {
    "duration": 101,
    "start_time": "2021-12-23T17:29:11.147Z"
   },
   {
    "duration": 109,
    "start_time": "2021-12-23T17:29:15.875Z"
   },
   {
    "duration": 283,
    "start_time": "2021-12-23T17:30:30.270Z"
   },
   {
    "duration": 95,
    "start_time": "2021-12-23T17:30:50.098Z"
   },
   {
    "duration": 101,
    "start_time": "2021-12-23T17:31:45.301Z"
   },
   {
    "duration": 103,
    "start_time": "2021-12-23T17:31:55.228Z"
   },
   {
    "duration": 75,
    "start_time": "2021-12-23T17:33:01.860Z"
   },
   {
    "duration": 102,
    "start_time": "2021-12-23T17:33:11.586Z"
   },
   {
    "duration": 106,
    "start_time": "2021-12-23T17:33:39.982Z"
   },
   {
    "duration": 257,
    "start_time": "2021-12-23T17:34:24.040Z"
   },
   {
    "duration": 254,
    "start_time": "2021-12-23T17:34:55.842Z"
   },
   {
    "duration": 256,
    "start_time": "2021-12-23T17:35:03.311Z"
   },
   {
    "duration": 109,
    "start_time": "2021-12-23T17:35:17.152Z"
   },
   {
    "duration": 104,
    "start_time": "2021-12-23T17:36:17.725Z"
   },
   {
    "duration": 108,
    "start_time": "2021-12-23T17:36:23.917Z"
   },
   {
    "duration": 62,
    "start_time": "2021-12-23T17:37:59.009Z"
   },
   {
    "duration": 100,
    "start_time": "2021-12-23T17:38:09.763Z"
   },
   {
    "duration": 108,
    "start_time": "2021-12-23T17:38:23.249Z"
   },
   {
    "duration": 268,
    "start_time": "2021-12-23T17:38:29.250Z"
   },
   {
    "duration": 294,
    "start_time": "2021-12-23T17:38:40.893Z"
   },
   {
    "duration": 105,
    "start_time": "2021-12-23T17:38:48.186Z"
   },
   {
    "duration": 110,
    "start_time": "2021-12-23T17:38:54.037Z"
   },
   {
    "duration": 102,
    "start_time": "2021-12-23T17:38:59.551Z"
   },
   {
    "duration": 100,
    "start_time": "2021-12-23T17:39:04.618Z"
   },
   {
    "duration": 105,
    "start_time": "2021-12-23T17:39:07.166Z"
   },
   {
    "duration": 110,
    "start_time": "2021-12-23T17:39:19.843Z"
   },
   {
    "duration": 82,
    "start_time": "2021-12-23T17:39:35.546Z"
   },
   {
    "duration": 81,
    "start_time": "2021-12-23T17:40:03.834Z"
   },
   {
    "duration": 104,
    "start_time": "2021-12-23T17:40:10.560Z"
   },
   {
    "duration": 94,
    "start_time": "2021-12-23T17:40:16.191Z"
   },
   {
    "duration": 103,
    "start_time": "2021-12-23T17:40:24.043Z"
   },
   {
    "duration": 85,
    "start_time": "2021-12-23T17:44:24.037Z"
   },
   {
    "duration": 73,
    "start_time": "2021-12-23T17:46:06.707Z"
   },
   {
    "duration": 75,
    "start_time": "2021-12-23T17:47:22.645Z"
   },
   {
    "duration": 648,
    "start_time": "2021-12-23T17:47:29.828Z"
   },
   {
    "duration": 319,
    "start_time": "2021-12-23T17:47:30.478Z"
   },
   {
    "duration": 77,
    "start_time": "2021-12-23T17:47:30.800Z"
   },
   {
    "duration": 80,
    "start_time": "2021-12-23T17:47:30.880Z"
   },
   {
    "duration": 102,
    "start_time": "2021-12-23T17:47:30.961Z"
   },
   {
    "duration": 94,
    "start_time": "2021-12-23T17:47:31.065Z"
   },
   {
    "duration": 78,
    "start_time": "2021-12-23T17:47:31.162Z"
   },
   {
    "duration": 78,
    "start_time": "2021-12-23T17:47:31.243Z"
   },
   {
    "duration": 95,
    "start_time": "2021-12-23T17:47:31.323Z"
   },
   {
    "duration": 85,
    "start_time": "2021-12-23T17:47:31.420Z"
   },
   {
    "duration": 79,
    "start_time": "2021-12-23T17:47:31.507Z"
   },
   {
    "duration": 77,
    "start_time": "2021-12-23T17:47:31.588Z"
   },
   {
    "duration": 696,
    "start_time": "2021-12-23T17:50:21.628Z"
   },
   {
    "duration": 302,
    "start_time": "2021-12-23T17:50:22.326Z"
   },
   {
    "duration": 72,
    "start_time": "2021-12-23T17:50:22.633Z"
   },
   {
    "duration": 70,
    "start_time": "2021-12-23T17:50:22.708Z"
   },
   {
    "duration": 108,
    "start_time": "2021-12-23T17:50:22.780Z"
   },
   {
    "duration": 94,
    "start_time": "2021-12-23T17:50:22.889Z"
   },
   {
    "duration": 72,
    "start_time": "2021-12-23T17:50:22.985Z"
   },
   {
    "duration": 71,
    "start_time": "2021-12-23T17:50:23.059Z"
   },
   {
    "duration": 83,
    "start_time": "2021-12-23T17:50:23.133Z"
   },
   {
    "duration": 73,
    "start_time": "2021-12-23T17:50:23.218Z"
   },
   {
    "duration": 74,
    "start_time": "2021-12-23T17:50:23.294Z"
   },
   {
    "duration": 70,
    "start_time": "2021-12-23T17:50:23.371Z"
   },
   {
    "duration": 277,
    "start_time": "2021-12-24T12:37:10.140Z"
   },
   {
    "duration": 619,
    "start_time": "2021-12-24T12:38:10.586Z"
   },
   {
    "duration": 310,
    "start_time": "2021-12-24T12:38:11.207Z"
   },
   {
    "duration": 84,
    "start_time": "2021-12-24T12:38:11.519Z"
   },
   {
    "duration": 87,
    "start_time": "2021-12-24T12:38:11.605Z"
   },
   {
    "duration": 107,
    "start_time": "2021-12-24T12:38:11.694Z"
   },
   {
    "duration": 96,
    "start_time": "2021-12-24T12:38:11.803Z"
   },
   {
    "duration": 78,
    "start_time": "2021-12-24T12:38:11.901Z"
   },
   {
    "duration": 77,
    "start_time": "2021-12-24T12:38:11.981Z"
   },
   {
    "duration": 86,
    "start_time": "2021-12-24T12:38:12.060Z"
   },
   {
    "duration": 87,
    "start_time": "2021-12-24T12:38:12.148Z"
   },
   {
    "duration": 84,
    "start_time": "2021-12-24T12:38:12.236Z"
   },
   {
    "duration": 85,
    "start_time": "2021-12-24T12:38:12.322Z"
   },
   {
    "duration": 85,
    "start_time": "2021-12-24T12:38:12.409Z"
   },
   {
    "duration": 110,
    "start_time": "2021-12-24T12:38:46.300Z"
   },
   {
    "duration": 109,
    "start_time": "2021-12-24T12:39:08.228Z"
   },
   {
    "duration": 116,
    "start_time": "2021-12-24T12:39:14.372Z"
   },
   {
    "duration": 120,
    "start_time": "2021-12-24T12:40:52.934Z"
   },
   {
    "duration": 123,
    "start_time": "2021-12-24T12:41:03.231Z"
   },
   {
    "duration": 418,
    "start_time": "2021-12-24T12:41:21.064Z"
   },
   {
    "duration": 120,
    "start_time": "2021-12-24T12:41:25.332Z"
   }
  ],
  "kernelspec": {
   "display_name": "Python 3 (ipykernel)",
   "language": "python",
   "name": "python3"
  },
  "language_info": {
   "codemirror_mode": {
    "name": "ipython",
    "version": 3
   },
   "file_extension": ".py",
   "mimetype": "text/x-python",
   "name": "python",
   "nbconvert_exporter": "python",
   "pygments_lexer": "ipython3",
   "version": "3.9.7"
  },
  "toc": {
   "base_numbering": 1,
   "nav_menu": {},
   "number_sections": true,
   "sideBar": true,
   "skip_h1_title": true,
   "title_cell": "Table of Contents",
   "title_sidebar": "Contents",
   "toc_cell": false,
   "toc_position": {},
   "toc_section_display": true,
   "toc_window_display": false
  }
 },
 "nbformat": 4,
 "nbformat_minor": 5
}

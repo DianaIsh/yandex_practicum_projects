{
 "cells": [
  {
   "cell_type": "markdown",
   "metadata": {},
   "source": [
    "# Исследование надёжности заёмщиков\n",
    "\n",
    "---\n",
    "**Цель проекта:** разобраться, влияет ли семейное положение и количество детей клиента на факт погашения кредита в срок.\n",
    "\n",
    "---\n",
    "\n",
    "Используемые данные:\n",
    "\n",
    "bank_data - данные о клиентах банка:\n",
    "\n",
    "    children — количество детей в семье\n",
    "    days_employed — общий трудовой стаж в днях\n",
    "    dob_years — возраст клиента в годах\n",
    "    education — уровень образования клиента\n",
    "    education_id — идентификатор уровня образования\n",
    "    family_status — семейное положение\n",
    "    family_status_id — идентификатор семейного положения\n",
    "    gender — пол клиента\n",
    "    income_type — тип занятости\n",
    "    debt — имел ли задолженность по возврату кредитов\n",
    "    total_income — ежемесячный доход\n",
    "    purpose — цель получения кредита\n",
    "    "
   ]
  },
  {
   "cell_type": "code",
   "execution_count": 1,
   "metadata": {},
   "outputs": [],
   "source": [
    "import pandas as pd\n",
    "from pymystem3 import Mystem\n",
    "from collections import Counter"
   ]
  },
  {
   "cell_type": "markdown",
   "metadata": {},
   "source": [
    "## Предобработка данных"
   ]
  },
  {
   "cell_type": "code",
   "execution_count": 2,
   "metadata": {
    "scrolled": true
   },
   "outputs": [
    {
     "data": {
      "text/html": [
       "<div>\n",
       "<style scoped>\n",
       "    .dataframe tbody tr th:only-of-type {\n",
       "        vertical-align: middle;\n",
       "    }\n",
       "\n",
       "    .dataframe tbody tr th {\n",
       "        vertical-align: top;\n",
       "    }\n",
       "\n",
       "    .dataframe thead th {\n",
       "        text-align: right;\n",
       "    }\n",
       "</style>\n",
       "<table border=\"1\" class=\"dataframe\">\n",
       "  <thead>\n",
       "    <tr style=\"text-align: right;\">\n",
       "      <th></th>\n",
       "      <th>children</th>\n",
       "      <th>days_employed</th>\n",
       "      <th>dob_years</th>\n",
       "      <th>education</th>\n",
       "      <th>education_id</th>\n",
       "      <th>family_status</th>\n",
       "      <th>family_status_id</th>\n",
       "      <th>gender</th>\n",
       "      <th>income_type</th>\n",
       "      <th>debt</th>\n",
       "      <th>total_income</th>\n",
       "      <th>purpose</th>\n",
       "    </tr>\n",
       "  </thead>\n",
       "  <tbody>\n",
       "    <tr>\n",
       "      <th>0</th>\n",
       "      <td>1</td>\n",
       "      <td>-8437.673028</td>\n",
       "      <td>42</td>\n",
       "      <td>высшее</td>\n",
       "      <td>0</td>\n",
       "      <td>женат / замужем</td>\n",
       "      <td>0</td>\n",
       "      <td>F</td>\n",
       "      <td>сотрудник</td>\n",
       "      <td>0</td>\n",
       "      <td>253875.639453</td>\n",
       "      <td>покупка жилья</td>\n",
       "    </tr>\n",
       "    <tr>\n",
       "      <th>1</th>\n",
       "      <td>1</td>\n",
       "      <td>-4024.803754</td>\n",
       "      <td>36</td>\n",
       "      <td>среднее</td>\n",
       "      <td>1</td>\n",
       "      <td>женат / замужем</td>\n",
       "      <td>0</td>\n",
       "      <td>F</td>\n",
       "      <td>сотрудник</td>\n",
       "      <td>0</td>\n",
       "      <td>112080.014102</td>\n",
       "      <td>приобретение автомобиля</td>\n",
       "    </tr>\n",
       "    <tr>\n",
       "      <th>2</th>\n",
       "      <td>0</td>\n",
       "      <td>-5623.422610</td>\n",
       "      <td>33</td>\n",
       "      <td>Среднее</td>\n",
       "      <td>1</td>\n",
       "      <td>женат / замужем</td>\n",
       "      <td>0</td>\n",
       "      <td>M</td>\n",
       "      <td>сотрудник</td>\n",
       "      <td>0</td>\n",
       "      <td>145885.952297</td>\n",
       "      <td>покупка жилья</td>\n",
       "    </tr>\n",
       "    <tr>\n",
       "      <th>3</th>\n",
       "      <td>3</td>\n",
       "      <td>-4124.747207</td>\n",
       "      <td>32</td>\n",
       "      <td>среднее</td>\n",
       "      <td>1</td>\n",
       "      <td>женат / замужем</td>\n",
       "      <td>0</td>\n",
       "      <td>M</td>\n",
       "      <td>сотрудник</td>\n",
       "      <td>0</td>\n",
       "      <td>267628.550329</td>\n",
       "      <td>дополнительное образование</td>\n",
       "    </tr>\n",
       "    <tr>\n",
       "      <th>4</th>\n",
       "      <td>0</td>\n",
       "      <td>340266.072047</td>\n",
       "      <td>53</td>\n",
       "      <td>среднее</td>\n",
       "      <td>1</td>\n",
       "      <td>гражданский брак</td>\n",
       "      <td>1</td>\n",
       "      <td>F</td>\n",
       "      <td>пенсионер</td>\n",
       "      <td>0</td>\n",
       "      <td>158616.077870</td>\n",
       "      <td>сыграть свадьбу</td>\n",
       "    </tr>\n",
       "    <tr>\n",
       "      <th>...</th>\n",
       "      <td>...</td>\n",
       "      <td>...</td>\n",
       "      <td>...</td>\n",
       "      <td>...</td>\n",
       "      <td>...</td>\n",
       "      <td>...</td>\n",
       "      <td>...</td>\n",
       "      <td>...</td>\n",
       "      <td>...</td>\n",
       "      <td>...</td>\n",
       "      <td>...</td>\n",
       "      <td>...</td>\n",
       "    </tr>\n",
       "    <tr>\n",
       "      <th>21520</th>\n",
       "      <td>1</td>\n",
       "      <td>-4529.316663</td>\n",
       "      <td>43</td>\n",
       "      <td>среднее</td>\n",
       "      <td>1</td>\n",
       "      <td>гражданский брак</td>\n",
       "      <td>1</td>\n",
       "      <td>F</td>\n",
       "      <td>компаньон</td>\n",
       "      <td>0</td>\n",
       "      <td>224791.862382</td>\n",
       "      <td>операции с жильем</td>\n",
       "    </tr>\n",
       "    <tr>\n",
       "      <th>21521</th>\n",
       "      <td>0</td>\n",
       "      <td>343937.404131</td>\n",
       "      <td>67</td>\n",
       "      <td>среднее</td>\n",
       "      <td>1</td>\n",
       "      <td>женат / замужем</td>\n",
       "      <td>0</td>\n",
       "      <td>F</td>\n",
       "      <td>пенсионер</td>\n",
       "      <td>0</td>\n",
       "      <td>155999.806512</td>\n",
       "      <td>сделка с автомобилем</td>\n",
       "    </tr>\n",
       "    <tr>\n",
       "      <th>21522</th>\n",
       "      <td>1</td>\n",
       "      <td>-2113.346888</td>\n",
       "      <td>38</td>\n",
       "      <td>среднее</td>\n",
       "      <td>1</td>\n",
       "      <td>гражданский брак</td>\n",
       "      <td>1</td>\n",
       "      <td>M</td>\n",
       "      <td>сотрудник</td>\n",
       "      <td>1</td>\n",
       "      <td>89672.561153</td>\n",
       "      <td>недвижимость</td>\n",
       "    </tr>\n",
       "    <tr>\n",
       "      <th>21523</th>\n",
       "      <td>3</td>\n",
       "      <td>-3112.481705</td>\n",
       "      <td>38</td>\n",
       "      <td>среднее</td>\n",
       "      <td>1</td>\n",
       "      <td>женат / замужем</td>\n",
       "      <td>0</td>\n",
       "      <td>M</td>\n",
       "      <td>сотрудник</td>\n",
       "      <td>1</td>\n",
       "      <td>244093.050500</td>\n",
       "      <td>на покупку своего автомобиля</td>\n",
       "    </tr>\n",
       "    <tr>\n",
       "      <th>21524</th>\n",
       "      <td>2</td>\n",
       "      <td>-1984.507589</td>\n",
       "      <td>40</td>\n",
       "      <td>среднее</td>\n",
       "      <td>1</td>\n",
       "      <td>женат / замужем</td>\n",
       "      <td>0</td>\n",
       "      <td>F</td>\n",
       "      <td>сотрудник</td>\n",
       "      <td>0</td>\n",
       "      <td>82047.418899</td>\n",
       "      <td>на покупку автомобиля</td>\n",
       "    </tr>\n",
       "  </tbody>\n",
       "</table>\n",
       "<p>21525 rows × 12 columns</p>\n",
       "</div>"
      ],
      "text/plain": [
       "       children  days_employed  dob_years education  education_id  \\\n",
       "0             1   -8437.673028         42    высшее             0   \n",
       "1             1   -4024.803754         36   среднее             1   \n",
       "2             0   -5623.422610         33   Среднее             1   \n",
       "3             3   -4124.747207         32   среднее             1   \n",
       "4             0  340266.072047         53   среднее             1   \n",
       "...         ...            ...        ...       ...           ...   \n",
       "21520         1   -4529.316663         43   среднее             1   \n",
       "21521         0  343937.404131         67   среднее             1   \n",
       "21522         1   -2113.346888         38   среднее             1   \n",
       "21523         3   -3112.481705         38   среднее             1   \n",
       "21524         2   -1984.507589         40   среднее             1   \n",
       "\n",
       "          family_status  family_status_id gender income_type  debt  \\\n",
       "0       женат / замужем                 0      F   сотрудник     0   \n",
       "1       женат / замужем                 0      F   сотрудник     0   \n",
       "2       женат / замужем                 0      M   сотрудник     0   \n",
       "3       женат / замужем                 0      M   сотрудник     0   \n",
       "4      гражданский брак                 1      F   пенсионер     0   \n",
       "...                 ...               ...    ...         ...   ...   \n",
       "21520  гражданский брак                 1      F   компаньон     0   \n",
       "21521   женат / замужем                 0      F   пенсионер     0   \n",
       "21522  гражданский брак                 1      M   сотрудник     1   \n",
       "21523   женат / замужем                 0      M   сотрудник     1   \n",
       "21524   женат / замужем                 0      F   сотрудник     0   \n",
       "\n",
       "        total_income                       purpose  \n",
       "0      253875.639453                 покупка жилья  \n",
       "1      112080.014102       приобретение автомобиля  \n",
       "2      145885.952297                 покупка жилья  \n",
       "3      267628.550329    дополнительное образование  \n",
       "4      158616.077870               сыграть свадьбу  \n",
       "...              ...                           ...  \n",
       "21520  224791.862382             операции с жильем  \n",
       "21521  155999.806512          сделка с автомобилем  \n",
       "21522   89672.561153                  недвижимость  \n",
       "21523  244093.050500  на покупку своего автомобиля  \n",
       "21524   82047.418899         на покупку автомобиля  \n",
       "\n",
       "[21525 rows x 12 columns]"
      ]
     },
     "execution_count": 2,
     "metadata": {},
     "output_type": "execute_result"
    }
   ],
   "source": [
    "# bank_data = pd.read_csv('/Users/dianamini/Developer/Data/data_1.csv')\n",
    "# bank_data"
   ]
  },
  {
   "cell_type": "code",
   "execution_count": 3,
   "metadata": {},
   "outputs": [
    {
     "name": "stdout",
     "output_type": "stream",
     "text": [
      "<class 'pandas.core.frame.DataFrame'>\n",
      "RangeIndex: 21525 entries, 0 to 21524\n",
      "Data columns (total 12 columns):\n",
      " #   Column            Non-Null Count  Dtype  \n",
      "---  ------            --------------  -----  \n",
      " 0   children          21525 non-null  int64  \n",
      " 1   days_employed     19351 non-null  float64\n",
      " 2   dob_years         21525 non-null  int64  \n",
      " 3   education         21525 non-null  object \n",
      " 4   education_id      21525 non-null  int64  \n",
      " 5   family_status     21525 non-null  object \n",
      " 6   family_status_id  21525 non-null  int64  \n",
      " 7   gender            21525 non-null  object \n",
      " 8   income_type       21525 non-null  object \n",
      " 9   debt              21525 non-null  int64  \n",
      " 10  total_income      19351 non-null  float64\n",
      " 11  purpose           21525 non-null  object \n",
      "dtypes: float64(2), int64(5), object(5)\n",
      "memory usage: 2.0+ MB\n"
     ]
    }
   ],
   "source": [
    "bank_data.info()"
   ]
  },
  {
   "cell_type": "markdown",
   "metadata": {},
   "source": [
    "**Вывод**"
   ]
  },
  {
   "cell_type": "markdown",
   "metadata": {},
   "source": [
    "- Минусовые значения в столбце \"days_employed\"  \n",
    "- Грубые дубликаты в столбце \"education\""
   ]
  },
  {
   "cell_type": "markdown",
   "metadata": {},
   "source": [
    "### Обработка пропусков"
   ]
  },
  {
   "cell_type": "code",
   "execution_count": 4,
   "metadata": {},
   "outputs": [
    {
     "data": {
      "text/html": [
       "<div>\n",
       "<style scoped>\n",
       "    .dataframe tbody tr th:only-of-type {\n",
       "        vertical-align: middle;\n",
       "    }\n",
       "\n",
       "    .dataframe tbody tr th {\n",
       "        vertical-align: top;\n",
       "    }\n",
       "\n",
       "    .dataframe thead th {\n",
       "        text-align: right;\n",
       "    }\n",
       "</style>\n",
       "<table border=\"1\" class=\"dataframe\">\n",
       "  <thead>\n",
       "    <tr style=\"text-align: right;\">\n",
       "      <th></th>\n",
       "      <th>children</th>\n",
       "      <th>days_employed</th>\n",
       "      <th>dob_years</th>\n",
       "      <th>education</th>\n",
       "      <th>education_id</th>\n",
       "      <th>family_status</th>\n",
       "      <th>family_status_id</th>\n",
       "      <th>gender</th>\n",
       "      <th>income_type</th>\n",
       "      <th>debt</th>\n",
       "      <th>total_income</th>\n",
       "      <th>purpose</th>\n",
       "    </tr>\n",
       "  </thead>\n",
       "  <tbody>\n",
       "    <tr>\n",
       "      <th>12</th>\n",
       "      <td>0</td>\n",
       "      <td>NaN</td>\n",
       "      <td>65</td>\n",
       "      <td>среднее</td>\n",
       "      <td>1</td>\n",
       "      <td>гражданский брак</td>\n",
       "      <td>1</td>\n",
       "      <td>M</td>\n",
       "      <td>пенсионер</td>\n",
       "      <td>0</td>\n",
       "      <td>NaN</td>\n",
       "      <td>сыграть свадьбу</td>\n",
       "    </tr>\n",
       "    <tr>\n",
       "      <th>26</th>\n",
       "      <td>0</td>\n",
       "      <td>NaN</td>\n",
       "      <td>41</td>\n",
       "      <td>среднее</td>\n",
       "      <td>1</td>\n",
       "      <td>женат / замужем</td>\n",
       "      <td>0</td>\n",
       "      <td>M</td>\n",
       "      <td>госслужащий</td>\n",
       "      <td>0</td>\n",
       "      <td>NaN</td>\n",
       "      <td>образование</td>\n",
       "    </tr>\n",
       "    <tr>\n",
       "      <th>29</th>\n",
       "      <td>0</td>\n",
       "      <td>NaN</td>\n",
       "      <td>63</td>\n",
       "      <td>среднее</td>\n",
       "      <td>1</td>\n",
       "      <td>Не женат / не замужем</td>\n",
       "      <td>4</td>\n",
       "      <td>F</td>\n",
       "      <td>пенсионер</td>\n",
       "      <td>0</td>\n",
       "      <td>NaN</td>\n",
       "      <td>строительство жилой недвижимости</td>\n",
       "    </tr>\n",
       "    <tr>\n",
       "      <th>41</th>\n",
       "      <td>0</td>\n",
       "      <td>NaN</td>\n",
       "      <td>50</td>\n",
       "      <td>среднее</td>\n",
       "      <td>1</td>\n",
       "      <td>женат / замужем</td>\n",
       "      <td>0</td>\n",
       "      <td>F</td>\n",
       "      <td>госслужащий</td>\n",
       "      <td>0</td>\n",
       "      <td>NaN</td>\n",
       "      <td>сделка с подержанным автомобилем</td>\n",
       "    </tr>\n",
       "    <tr>\n",
       "      <th>55</th>\n",
       "      <td>0</td>\n",
       "      <td>NaN</td>\n",
       "      <td>54</td>\n",
       "      <td>среднее</td>\n",
       "      <td>1</td>\n",
       "      <td>гражданский брак</td>\n",
       "      <td>1</td>\n",
       "      <td>F</td>\n",
       "      <td>пенсионер</td>\n",
       "      <td>1</td>\n",
       "      <td>NaN</td>\n",
       "      <td>сыграть свадьбу</td>\n",
       "    </tr>\n",
       "    <tr>\n",
       "      <th>...</th>\n",
       "      <td>...</td>\n",
       "      <td>...</td>\n",
       "      <td>...</td>\n",
       "      <td>...</td>\n",
       "      <td>...</td>\n",
       "      <td>...</td>\n",
       "      <td>...</td>\n",
       "      <td>...</td>\n",
       "      <td>...</td>\n",
       "      <td>...</td>\n",
       "      <td>...</td>\n",
       "      <td>...</td>\n",
       "    </tr>\n",
       "    <tr>\n",
       "      <th>21489</th>\n",
       "      <td>2</td>\n",
       "      <td>NaN</td>\n",
       "      <td>47</td>\n",
       "      <td>Среднее</td>\n",
       "      <td>1</td>\n",
       "      <td>женат / замужем</td>\n",
       "      <td>0</td>\n",
       "      <td>M</td>\n",
       "      <td>компаньон</td>\n",
       "      <td>0</td>\n",
       "      <td>NaN</td>\n",
       "      <td>сделка с автомобилем</td>\n",
       "    </tr>\n",
       "    <tr>\n",
       "      <th>21495</th>\n",
       "      <td>1</td>\n",
       "      <td>NaN</td>\n",
       "      <td>50</td>\n",
       "      <td>среднее</td>\n",
       "      <td>1</td>\n",
       "      <td>гражданский брак</td>\n",
       "      <td>1</td>\n",
       "      <td>F</td>\n",
       "      <td>сотрудник</td>\n",
       "      <td>0</td>\n",
       "      <td>NaN</td>\n",
       "      <td>свадьба</td>\n",
       "    </tr>\n",
       "    <tr>\n",
       "      <th>21497</th>\n",
       "      <td>0</td>\n",
       "      <td>NaN</td>\n",
       "      <td>48</td>\n",
       "      <td>ВЫСШЕЕ</td>\n",
       "      <td>0</td>\n",
       "      <td>женат / замужем</td>\n",
       "      <td>0</td>\n",
       "      <td>F</td>\n",
       "      <td>компаньон</td>\n",
       "      <td>0</td>\n",
       "      <td>NaN</td>\n",
       "      <td>строительство недвижимости</td>\n",
       "    </tr>\n",
       "    <tr>\n",
       "      <th>21502</th>\n",
       "      <td>1</td>\n",
       "      <td>NaN</td>\n",
       "      <td>42</td>\n",
       "      <td>среднее</td>\n",
       "      <td>1</td>\n",
       "      <td>женат / замужем</td>\n",
       "      <td>0</td>\n",
       "      <td>F</td>\n",
       "      <td>сотрудник</td>\n",
       "      <td>0</td>\n",
       "      <td>NaN</td>\n",
       "      <td>строительство жилой недвижимости</td>\n",
       "    </tr>\n",
       "    <tr>\n",
       "      <th>21510</th>\n",
       "      <td>2</td>\n",
       "      <td>NaN</td>\n",
       "      <td>28</td>\n",
       "      <td>среднее</td>\n",
       "      <td>1</td>\n",
       "      <td>женат / замужем</td>\n",
       "      <td>0</td>\n",
       "      <td>F</td>\n",
       "      <td>сотрудник</td>\n",
       "      <td>0</td>\n",
       "      <td>NaN</td>\n",
       "      <td>приобретение автомобиля</td>\n",
       "    </tr>\n",
       "  </tbody>\n",
       "</table>\n",
       "<p>2174 rows × 12 columns</p>\n",
       "</div>"
      ],
      "text/plain": [
       "       children  days_employed  dob_years education  education_id  \\\n",
       "12            0            NaN         65   среднее             1   \n",
       "26            0            NaN         41   среднее             1   \n",
       "29            0            NaN         63   среднее             1   \n",
       "41            0            NaN         50   среднее             1   \n",
       "55            0            NaN         54   среднее             1   \n",
       "...         ...            ...        ...       ...           ...   \n",
       "21489         2            NaN         47   Среднее             1   \n",
       "21495         1            NaN         50   среднее             1   \n",
       "21497         0            NaN         48    ВЫСШЕЕ             0   \n",
       "21502         1            NaN         42   среднее             1   \n",
       "21510         2            NaN         28   среднее             1   \n",
       "\n",
       "               family_status  family_status_id gender  income_type  debt  \\\n",
       "12          гражданский брак                 1      M    пенсионер     0   \n",
       "26           женат / замужем                 0      M  госслужащий     0   \n",
       "29     Не женат / не замужем                 4      F    пенсионер     0   \n",
       "41           женат / замужем                 0      F  госслужащий     0   \n",
       "55          гражданский брак                 1      F    пенсионер     1   \n",
       "...                      ...               ...    ...          ...   ...   \n",
       "21489        женат / замужем                 0      M    компаньон     0   \n",
       "21495       гражданский брак                 1      F    сотрудник     0   \n",
       "21497        женат / замужем                 0      F    компаньон     0   \n",
       "21502        женат / замужем                 0      F    сотрудник     0   \n",
       "21510        женат / замужем                 0      F    сотрудник     0   \n",
       "\n",
       "       total_income                           purpose  \n",
       "12              NaN                   сыграть свадьбу  \n",
       "26              NaN                       образование  \n",
       "29              NaN  строительство жилой недвижимости  \n",
       "41              NaN  сделка с подержанным автомобилем  \n",
       "55              NaN                   сыграть свадьбу  \n",
       "...             ...                               ...  \n",
       "21489           NaN              сделка с автомобилем  \n",
       "21495           NaN                           свадьба  \n",
       "21497           NaN        строительство недвижимости  \n",
       "21502           NaN  строительство жилой недвижимости  \n",
       "21510           NaN           приобретение автомобиля  \n",
       "\n",
       "[2174 rows x 12 columns]"
      ]
     },
     "execution_count": 4,
     "metadata": {},
     "output_type": "execute_result"
    }
   ],
   "source": [
    "bank_data[bank_data['total_income'].isna()]"
   ]
  },
  {
   "cell_type": "code",
   "execution_count": 5,
   "metadata": {},
   "outputs": [],
   "source": [
    "groups = bank_data.groupby([\"income_type\", \"education_id\"])\n",
    "bank_data['total_income'].fillna(groups['total_income'].transform('median'),inplace=True)"
   ]
  },
  {
   "cell_type": "code",
   "execution_count": 6,
   "metadata": {},
   "outputs": [],
   "source": [
    "groups = bank_data.groupby([\"dob_years\", \"gender\"])\n",
    "bank_data['days_employed'].fillna(groups['days_employed'].transform('median'),inplace=True)"
   ]
  },
  {
   "cell_type": "code",
   "execution_count": 7,
   "metadata": {},
   "outputs": [
    {
     "data": {
      "text/html": [
       "<div>\n",
       "<style scoped>\n",
       "    .dataframe tbody tr th:only-of-type {\n",
       "        vertical-align: middle;\n",
       "    }\n",
       "\n",
       "    .dataframe tbody tr th {\n",
       "        vertical-align: top;\n",
       "    }\n",
       "\n",
       "    .dataframe thead th {\n",
       "        text-align: right;\n",
       "    }\n",
       "</style>\n",
       "<table border=\"1\" class=\"dataframe\">\n",
       "  <thead>\n",
       "    <tr style=\"text-align: right;\">\n",
       "      <th></th>\n",
       "      <th>children</th>\n",
       "      <th>days_employed</th>\n",
       "      <th>dob_years</th>\n",
       "      <th>education</th>\n",
       "      <th>education_id</th>\n",
       "      <th>family_status</th>\n",
       "      <th>family_status_id</th>\n",
       "      <th>gender</th>\n",
       "      <th>income_type</th>\n",
       "      <th>debt</th>\n",
       "      <th>total_income</th>\n",
       "      <th>purpose</th>\n",
       "    </tr>\n",
       "  </thead>\n",
       "  <tbody>\n",
       "  </tbody>\n",
       "</table>\n",
       "</div>"
      ],
      "text/plain": [
       "Empty DataFrame\n",
       "Columns: [children, days_employed, dob_years, education, education_id, family_status, family_status_id, gender, income_type, debt, total_income, purpose]\n",
       "Index: []"
      ]
     },
     "execution_count": 7,
     "metadata": {},
     "output_type": "execute_result"
    }
   ],
   "source": [
    "bank_data[bank_data['total_income'].isna()]"
   ]
  },
  {
   "cell_type": "code",
   "execution_count": 8,
   "metadata": {},
   "outputs": [
    {
     "data": {
      "text/html": [
       "<div>\n",
       "<style scoped>\n",
       "    .dataframe tbody tr th:only-of-type {\n",
       "        vertical-align: middle;\n",
       "    }\n",
       "\n",
       "    .dataframe tbody tr th {\n",
       "        vertical-align: top;\n",
       "    }\n",
       "\n",
       "    .dataframe thead th {\n",
       "        text-align: right;\n",
       "    }\n",
       "</style>\n",
       "<table border=\"1\" class=\"dataframe\">\n",
       "  <thead>\n",
       "    <tr style=\"text-align: right;\">\n",
       "      <th></th>\n",
       "      <th>children</th>\n",
       "      <th>days_employed</th>\n",
       "      <th>dob_years</th>\n",
       "      <th>education</th>\n",
       "      <th>education_id</th>\n",
       "      <th>family_status</th>\n",
       "      <th>family_status_id</th>\n",
       "      <th>gender</th>\n",
       "      <th>income_type</th>\n",
       "      <th>debt</th>\n",
       "      <th>total_income</th>\n",
       "      <th>purpose</th>\n",
       "    </tr>\n",
       "  </thead>\n",
       "  <tbody>\n",
       "  </tbody>\n",
       "</table>\n",
       "</div>"
      ],
      "text/plain": [
       "Empty DataFrame\n",
       "Columns: [children, days_employed, dob_years, education, education_id, family_status, family_status_id, gender, income_type, debt, total_income, purpose]\n",
       "Index: []"
      ]
     },
     "execution_count": 8,
     "metadata": {},
     "output_type": "execute_result"
    }
   ],
   "source": [
    "bank_data[bank_data['days_employed'].isna()]"
   ]
  },
  {
   "cell_type": "markdown",
   "metadata": {},
   "source": [
    "- Сгруппировала по двум характеристикам для каждого значения, заменила пропуски на медианы в столбцах \"total_income\" и \"days_employed\". Проверила методом isna() наличие нулей, теперь их нет. "
   ]
  },
  {
   "cell_type": "code",
   "execution_count": 9,
   "metadata": {
    "scrolled": false
   },
   "outputs": [
    {
     "data": {
      "text/html": [
       "<div>\n",
       "<style scoped>\n",
       "    .dataframe tbody tr th:only-of-type {\n",
       "        vertical-align: middle;\n",
       "    }\n",
       "\n",
       "    .dataframe tbody tr th {\n",
       "        vertical-align: top;\n",
       "    }\n",
       "\n",
       "    .dataframe thead th {\n",
       "        text-align: right;\n",
       "    }\n",
       "</style>\n",
       "<table border=\"1\" class=\"dataframe\">\n",
       "  <thead>\n",
       "    <tr style=\"text-align: right;\">\n",
       "      <th></th>\n",
       "      <th>children</th>\n",
       "      <th>days_employed</th>\n",
       "      <th>dob_years</th>\n",
       "      <th>education</th>\n",
       "      <th>education_id</th>\n",
       "      <th>family_status</th>\n",
       "      <th>family_status_id</th>\n",
       "      <th>gender</th>\n",
       "      <th>income_type</th>\n",
       "      <th>debt</th>\n",
       "      <th>total_income</th>\n",
       "      <th>purpose</th>\n",
       "    </tr>\n",
       "  </thead>\n",
       "  <tbody>\n",
       "    <tr>\n",
       "      <th>0</th>\n",
       "      <td>1</td>\n",
       "      <td>-8437.673028</td>\n",
       "      <td>42</td>\n",
       "      <td>высшее</td>\n",
       "      <td>0</td>\n",
       "      <td>женат / замужем</td>\n",
       "      <td>0</td>\n",
       "      <td>F</td>\n",
       "      <td>сотрудник</td>\n",
       "      <td>0</td>\n",
       "      <td>253875.639453</td>\n",
       "      <td>покупка жилья</td>\n",
       "    </tr>\n",
       "    <tr>\n",
       "      <th>1</th>\n",
       "      <td>1</td>\n",
       "      <td>-4024.803754</td>\n",
       "      <td>36</td>\n",
       "      <td>среднее</td>\n",
       "      <td>1</td>\n",
       "      <td>женат / замужем</td>\n",
       "      <td>0</td>\n",
       "      <td>F</td>\n",
       "      <td>сотрудник</td>\n",
       "      <td>0</td>\n",
       "      <td>112080.014102</td>\n",
       "      <td>приобретение автомобиля</td>\n",
       "    </tr>\n",
       "    <tr>\n",
       "      <th>2</th>\n",
       "      <td>0</td>\n",
       "      <td>-5623.422610</td>\n",
       "      <td>33</td>\n",
       "      <td>Среднее</td>\n",
       "      <td>1</td>\n",
       "      <td>женат / замужем</td>\n",
       "      <td>0</td>\n",
       "      <td>M</td>\n",
       "      <td>сотрудник</td>\n",
       "      <td>0</td>\n",
       "      <td>145885.952297</td>\n",
       "      <td>покупка жилья</td>\n",
       "    </tr>\n",
       "    <tr>\n",
       "      <th>3</th>\n",
       "      <td>3</td>\n",
       "      <td>-4124.747207</td>\n",
       "      <td>32</td>\n",
       "      <td>среднее</td>\n",
       "      <td>1</td>\n",
       "      <td>женат / замужем</td>\n",
       "      <td>0</td>\n",
       "      <td>M</td>\n",
       "      <td>сотрудник</td>\n",
       "      <td>0</td>\n",
       "      <td>267628.550329</td>\n",
       "      <td>дополнительное образование</td>\n",
       "    </tr>\n",
       "    <tr>\n",
       "      <th>4</th>\n",
       "      <td>0</td>\n",
       "      <td>340266.072047</td>\n",
       "      <td>53</td>\n",
       "      <td>среднее</td>\n",
       "      <td>1</td>\n",
       "      <td>гражданский брак</td>\n",
       "      <td>1</td>\n",
       "      <td>F</td>\n",
       "      <td>пенсионер</td>\n",
       "      <td>0</td>\n",
       "      <td>158616.077870</td>\n",
       "      <td>сыграть свадьбу</td>\n",
       "    </tr>\n",
       "  </tbody>\n",
       "</table>\n",
       "</div>"
      ],
      "text/plain": [
       "   children  days_employed  dob_years education  education_id  \\\n",
       "0         1   -8437.673028         42    высшее             0   \n",
       "1         1   -4024.803754         36   среднее             1   \n",
       "2         0   -5623.422610         33   Среднее             1   \n",
       "3         3   -4124.747207         32   среднее             1   \n",
       "4         0  340266.072047         53   среднее             1   \n",
       "\n",
       "      family_status  family_status_id gender income_type  debt   total_income  \\\n",
       "0   женат / замужем                 0      F   сотрудник     0  253875.639453   \n",
       "1   женат / замужем                 0      F   сотрудник     0  112080.014102   \n",
       "2   женат / замужем                 0      M   сотрудник     0  145885.952297   \n",
       "3   женат / замужем                 0      M   сотрудник     0  267628.550329   \n",
       "4  гражданский брак                 1      F   пенсионер     0  158616.077870   \n",
       "\n",
       "                      purpose  \n",
       "0               покупка жилья  \n",
       "1     приобретение автомобиля  \n",
       "2               покупка жилья  \n",
       "3  дополнительное образование  \n",
       "4             сыграть свадьбу  "
      ]
     },
     "execution_count": 9,
     "metadata": {},
     "output_type": "execute_result"
    }
   ],
   "source": [
    "bank_data.head()"
   ]
  },
  {
   "cell_type": "code",
   "execution_count": 10,
   "metadata": {},
   "outputs": [
    {
     "data": {
      "text/html": [
       "<div>\n",
       "<style scoped>\n",
       "    .dataframe tbody tr th:only-of-type {\n",
       "        vertical-align: middle;\n",
       "    }\n",
       "\n",
       "    .dataframe tbody tr th {\n",
       "        vertical-align: top;\n",
       "    }\n",
       "\n",
       "    .dataframe thead th {\n",
       "        text-align: right;\n",
       "    }\n",
       "</style>\n",
       "<table border=\"1\" class=\"dataframe\">\n",
       "  <thead>\n",
       "    <tr style=\"text-align: right;\">\n",
       "      <th></th>\n",
       "      <th>children</th>\n",
       "      <th>days_employed</th>\n",
       "      <th>dob_years</th>\n",
       "      <th>education</th>\n",
       "      <th>education_id</th>\n",
       "      <th>family_status</th>\n",
       "      <th>family_status_id</th>\n",
       "      <th>gender</th>\n",
       "      <th>income_type</th>\n",
       "      <th>debt</th>\n",
       "      <th>total_income</th>\n",
       "      <th>purpose</th>\n",
       "    </tr>\n",
       "  </thead>\n",
       "  <tbody>\n",
       "    <tr>\n",
       "      <th>0</th>\n",
       "      <td>1</td>\n",
       "      <td>8437.673028</td>\n",
       "      <td>42</td>\n",
       "      <td>высшее</td>\n",
       "      <td>0</td>\n",
       "      <td>женат / замужем</td>\n",
       "      <td>0</td>\n",
       "      <td>F</td>\n",
       "      <td>сотрудник</td>\n",
       "      <td>0</td>\n",
       "      <td>253875.639453</td>\n",
       "      <td>покупка жилья</td>\n",
       "    </tr>\n",
       "    <tr>\n",
       "      <th>1</th>\n",
       "      <td>1</td>\n",
       "      <td>4024.803754</td>\n",
       "      <td>36</td>\n",
       "      <td>среднее</td>\n",
       "      <td>1</td>\n",
       "      <td>женат / замужем</td>\n",
       "      <td>0</td>\n",
       "      <td>F</td>\n",
       "      <td>сотрудник</td>\n",
       "      <td>0</td>\n",
       "      <td>112080.014102</td>\n",
       "      <td>приобретение автомобиля</td>\n",
       "    </tr>\n",
       "    <tr>\n",
       "      <th>2</th>\n",
       "      <td>0</td>\n",
       "      <td>5623.422610</td>\n",
       "      <td>33</td>\n",
       "      <td>Среднее</td>\n",
       "      <td>1</td>\n",
       "      <td>женат / замужем</td>\n",
       "      <td>0</td>\n",
       "      <td>M</td>\n",
       "      <td>сотрудник</td>\n",
       "      <td>0</td>\n",
       "      <td>145885.952297</td>\n",
       "      <td>покупка жилья</td>\n",
       "    </tr>\n",
       "    <tr>\n",
       "      <th>3</th>\n",
       "      <td>3</td>\n",
       "      <td>4124.747207</td>\n",
       "      <td>32</td>\n",
       "      <td>среднее</td>\n",
       "      <td>1</td>\n",
       "      <td>женат / замужем</td>\n",
       "      <td>0</td>\n",
       "      <td>M</td>\n",
       "      <td>сотрудник</td>\n",
       "      <td>0</td>\n",
       "      <td>267628.550329</td>\n",
       "      <td>дополнительное образование</td>\n",
       "    </tr>\n",
       "    <tr>\n",
       "      <th>4</th>\n",
       "      <td>0</td>\n",
       "      <td>340266.072047</td>\n",
       "      <td>53</td>\n",
       "      <td>среднее</td>\n",
       "      <td>1</td>\n",
       "      <td>гражданский брак</td>\n",
       "      <td>1</td>\n",
       "      <td>F</td>\n",
       "      <td>пенсионер</td>\n",
       "      <td>0</td>\n",
       "      <td>158616.077870</td>\n",
       "      <td>сыграть свадьбу</td>\n",
       "    </tr>\n",
       "  </tbody>\n",
       "</table>\n",
       "</div>"
      ],
      "text/plain": [
       "   children  days_employed  dob_years education  education_id  \\\n",
       "0         1    8437.673028         42    высшее             0   \n",
       "1         1    4024.803754         36   среднее             1   \n",
       "2         0    5623.422610         33   Среднее             1   \n",
       "3         3    4124.747207         32   среднее             1   \n",
       "4         0  340266.072047         53   среднее             1   \n",
       "\n",
       "      family_status  family_status_id gender income_type  debt   total_income  \\\n",
       "0   женат / замужем                 0      F   сотрудник     0  253875.639453   \n",
       "1   женат / замужем                 0      F   сотрудник     0  112080.014102   \n",
       "2   женат / замужем                 0      M   сотрудник     0  145885.952297   \n",
       "3   женат / замужем                 0      M   сотрудник     0  267628.550329   \n",
       "4  гражданский брак                 1      F   пенсионер     0  158616.077870   \n",
       "\n",
       "                      purpose  \n",
       "0               покупка жилья  \n",
       "1     приобретение автомобиля  \n",
       "2               покупка жилья  \n",
       "3  дополнительное образование  \n",
       "4             сыграть свадьбу  "
      ]
     },
     "execution_count": 10,
     "metadata": {},
     "output_type": "execute_result"
    }
   ],
   "source": [
    "def value_abs(value):\n",
    "    return abs(value)\n",
    "bank_data['days_employed'] = bank_data['days_employed'].apply(value_abs)\n",
    "bank_data['children'] = bank_data['children'].apply(value_abs)\n",
    "bank_data.head()"
   ]
  },
  {
   "cell_type": "markdown",
   "metadata": {},
   "source": [
    "**Вывод**"
   ]
  },
  {
   "cell_type": "markdown",
   "metadata": {},
   "source": [
    "Нахожу пропущенные значения в двух столбцах \"days_employed\" и \"total_income\". \n",
    "В обоих пропущенные значения типа float64(NaN), значить мне нужно заменить его на 0, чтобы не получить ошибок в дальнейшем.\n",
    "Причины появления пропусков в таблице: отсутствие стажа = отсутстсвие ежемесечного дохода; скорее всего эти строки не были заполнены при подаче заявки на кредит."
   ]
  },
  {
   "cell_type": "markdown",
   "metadata": {},
   "source": [
    "### Замена типа данных"
   ]
  },
  {
   "cell_type": "code",
   "execution_count": 11,
   "metadata": {},
   "outputs": [],
   "source": [
    "bank_data['days_employed'] = bank_data['days_employed'].astype('int64')"
   ]
  },
  {
   "cell_type": "code",
   "execution_count": 12,
   "metadata": {},
   "outputs": [],
   "source": [
    "bank_data['total_income'] = bank_data['total_income'].astype('int64')"
   ]
  },
  {
   "cell_type": "code",
   "execution_count": 13,
   "metadata": {},
   "outputs": [
    {
     "name": "stdout",
     "output_type": "stream",
     "text": [
      "<class 'pandas.core.frame.DataFrame'>\n",
      "RangeIndex: 21525 entries, 0 to 21524\n",
      "Data columns (total 12 columns):\n",
      " #   Column            Non-Null Count  Dtype \n",
      "---  ------            --------------  ----- \n",
      " 0   children          21525 non-null  int64 \n",
      " 1   days_employed     21525 non-null  int64 \n",
      " 2   dob_years         21525 non-null  int64 \n",
      " 3   education         21525 non-null  object\n",
      " 4   education_id      21525 non-null  int64 \n",
      " 5   family_status     21525 non-null  object\n",
      " 6   family_status_id  21525 non-null  int64 \n",
      " 7   gender            21525 non-null  object\n",
      " 8   income_type       21525 non-null  object\n",
      " 9   debt              21525 non-null  int64 \n",
      " 10  total_income      21525 non-null  int64 \n",
      " 11  purpose           21525 non-null  object\n",
      "dtypes: int64(7), object(5)\n",
      "memory usage: 2.0+ MB\n"
     ]
    }
   ],
   "source": [
    "bank_data.info()"
   ]
  },
  {
   "cell_type": "markdown",
   "metadata": {},
   "source": [
    "**Вывод**"
   ]
  },
  {
   "cell_type": "markdown",
   "metadata": {},
   "source": [
    "Заменяю тип данных столбцов days_employed и total_income с float64 на int64 для большей наглядности можно пожертвовать некоторой точносью, потому что все эти числа после запятой мне не пригодятся и только запутают.\n",
    "Был выбран метод astype(), так как он позволяет менять численные данные на целочисленные и наоборот. Остальные методы вызывают ошибку."
   ]
  },
  {
   "cell_type": "markdown",
   "metadata": {},
   "source": [
    "### Обработка дубликатов"
   ]
  },
  {
   "cell_type": "code",
   "execution_count": 14,
   "metadata": {},
   "outputs": [],
   "source": [
    "bank_data['education'] = bank_data['education'].str.lower()"
   ]
  },
  {
   "cell_type": "code",
   "execution_count": 15,
   "metadata": {},
   "outputs": [
    {
     "data": {
      "text/plain": [
       "71"
      ]
     },
     "execution_count": 15,
     "metadata": {},
     "output_type": "execute_result"
    }
   ],
   "source": [
    "bank_data.duplicated().sum()"
   ]
  },
  {
   "cell_type": "code",
   "execution_count": 16,
   "metadata": {
    "scrolled": true
   },
   "outputs": [
    {
     "data": {
      "text/html": [
       "<div>\n",
       "<style scoped>\n",
       "    .dataframe tbody tr th:only-of-type {\n",
       "        vertical-align: middle;\n",
       "    }\n",
       "\n",
       "    .dataframe tbody tr th {\n",
       "        vertical-align: top;\n",
       "    }\n",
       "\n",
       "    .dataframe thead th {\n",
       "        text-align: right;\n",
       "    }\n",
       "</style>\n",
       "<table border=\"1\" class=\"dataframe\">\n",
       "  <thead>\n",
       "    <tr style=\"text-align: right;\">\n",
       "      <th></th>\n",
       "      <th>children</th>\n",
       "      <th>days_employed</th>\n",
       "      <th>dob_years</th>\n",
       "      <th>education</th>\n",
       "      <th>education_id</th>\n",
       "      <th>family_status</th>\n",
       "      <th>family_status_id</th>\n",
       "      <th>gender</th>\n",
       "      <th>income_type</th>\n",
       "      <th>debt</th>\n",
       "      <th>total_income</th>\n",
       "      <th>purpose</th>\n",
       "    </tr>\n",
       "  </thead>\n",
       "  <tbody>\n",
       "    <tr>\n",
       "      <th>2849</th>\n",
       "      <td>0</td>\n",
       "      <td>1825</td>\n",
       "      <td>41</td>\n",
       "      <td>среднее</td>\n",
       "      <td>1</td>\n",
       "      <td>женат / замужем</td>\n",
       "      <td>0</td>\n",
       "      <td>F</td>\n",
       "      <td>сотрудник</td>\n",
       "      <td>0</td>\n",
       "      <td>136555</td>\n",
       "      <td>покупка жилья для семьи</td>\n",
       "    </tr>\n",
       "    <tr>\n",
       "      <th>3290</th>\n",
       "      <td>0</td>\n",
       "      <td>340298</td>\n",
       "      <td>58</td>\n",
       "      <td>среднее</td>\n",
       "      <td>1</td>\n",
       "      <td>гражданский брак</td>\n",
       "      <td>1</td>\n",
       "      <td>F</td>\n",
       "      <td>пенсионер</td>\n",
       "      <td>0</td>\n",
       "      <td>114842</td>\n",
       "      <td>сыграть свадьбу</td>\n",
       "    </tr>\n",
       "    <tr>\n",
       "      <th>4182</th>\n",
       "      <td>1</td>\n",
       "      <td>1631</td>\n",
       "      <td>34</td>\n",
       "      <td>высшее</td>\n",
       "      <td>0</td>\n",
       "      <td>гражданский брак</td>\n",
       "      <td>1</td>\n",
       "      <td>F</td>\n",
       "      <td>сотрудник</td>\n",
       "      <td>0</td>\n",
       "      <td>165640</td>\n",
       "      <td>свадьба</td>\n",
       "    </tr>\n",
       "    <tr>\n",
       "      <th>4851</th>\n",
       "      <td>0</td>\n",
       "      <td>352450</td>\n",
       "      <td>60</td>\n",
       "      <td>среднее</td>\n",
       "      <td>1</td>\n",
       "      <td>гражданский брак</td>\n",
       "      <td>1</td>\n",
       "      <td>F</td>\n",
       "      <td>пенсионер</td>\n",
       "      <td>0</td>\n",
       "      <td>114842</td>\n",
       "      <td>свадьба</td>\n",
       "    </tr>\n",
       "    <tr>\n",
       "      <th>5557</th>\n",
       "      <td>0</td>\n",
       "      <td>340298</td>\n",
       "      <td>58</td>\n",
       "      <td>среднее</td>\n",
       "      <td>1</td>\n",
       "      <td>гражданский брак</td>\n",
       "      <td>1</td>\n",
       "      <td>F</td>\n",
       "      <td>пенсионер</td>\n",
       "      <td>0</td>\n",
       "      <td>114842</td>\n",
       "      <td>сыграть свадьбу</td>\n",
       "    </tr>\n",
       "    <tr>\n",
       "      <th>...</th>\n",
       "      <td>...</td>\n",
       "      <td>...</td>\n",
       "      <td>...</td>\n",
       "      <td>...</td>\n",
       "      <td>...</td>\n",
       "      <td>...</td>\n",
       "      <td>...</td>\n",
       "      <td>...</td>\n",
       "      <td>...</td>\n",
       "      <td>...</td>\n",
       "      <td>...</td>\n",
       "      <td>...</td>\n",
       "    </tr>\n",
       "    <tr>\n",
       "      <th>20702</th>\n",
       "      <td>0</td>\n",
       "      <td>358068</td>\n",
       "      <td>64</td>\n",
       "      <td>среднее</td>\n",
       "      <td>1</td>\n",
       "      <td>женат / замужем</td>\n",
       "      <td>0</td>\n",
       "      <td>F</td>\n",
       "      <td>пенсионер</td>\n",
       "      <td>0</td>\n",
       "      <td>114842</td>\n",
       "      <td>дополнительное образование</td>\n",
       "    </tr>\n",
       "    <tr>\n",
       "      <th>21032</th>\n",
       "      <td>0</td>\n",
       "      <td>352450</td>\n",
       "      <td>60</td>\n",
       "      <td>среднее</td>\n",
       "      <td>1</td>\n",
       "      <td>женат / замужем</td>\n",
       "      <td>0</td>\n",
       "      <td>F</td>\n",
       "      <td>пенсионер</td>\n",
       "      <td>0</td>\n",
       "      <td>114842</td>\n",
       "      <td>заняться образованием</td>\n",
       "    </tr>\n",
       "    <tr>\n",
       "      <th>21132</th>\n",
       "      <td>0</td>\n",
       "      <td>2314</td>\n",
       "      <td>47</td>\n",
       "      <td>среднее</td>\n",
       "      <td>1</td>\n",
       "      <td>женат / замужем</td>\n",
       "      <td>0</td>\n",
       "      <td>F</td>\n",
       "      <td>сотрудник</td>\n",
       "      <td>0</td>\n",
       "      <td>136555</td>\n",
       "      <td>ремонт жилью</td>\n",
       "    </tr>\n",
       "    <tr>\n",
       "      <th>21281</th>\n",
       "      <td>1</td>\n",
       "      <td>1421</td>\n",
       "      <td>30</td>\n",
       "      <td>высшее</td>\n",
       "      <td>0</td>\n",
       "      <td>женат / замужем</td>\n",
       "      <td>0</td>\n",
       "      <td>F</td>\n",
       "      <td>сотрудник</td>\n",
       "      <td>0</td>\n",
       "      <td>165640</td>\n",
       "      <td>покупка коммерческой недвижимости</td>\n",
       "    </tr>\n",
       "    <tr>\n",
       "      <th>21415</th>\n",
       "      <td>0</td>\n",
       "      <td>648</td>\n",
       "      <td>54</td>\n",
       "      <td>среднее</td>\n",
       "      <td>1</td>\n",
       "      <td>женат / замужем</td>\n",
       "      <td>0</td>\n",
       "      <td>F</td>\n",
       "      <td>пенсионер</td>\n",
       "      <td>0</td>\n",
       "      <td>114842</td>\n",
       "      <td>операции с жильем</td>\n",
       "    </tr>\n",
       "  </tbody>\n",
       "</table>\n",
       "<p>71 rows × 12 columns</p>\n",
       "</div>"
      ],
      "text/plain": [
       "       children  days_employed  dob_years education  education_id  \\\n",
       "2849          0           1825         41   среднее             1   \n",
       "3290          0         340298         58   среднее             1   \n",
       "4182          1           1631         34    высшее             0   \n",
       "4851          0         352450         60   среднее             1   \n",
       "5557          0         340298         58   среднее             1   \n",
       "...         ...            ...        ...       ...           ...   \n",
       "20702         0         358068         64   среднее             1   \n",
       "21032         0         352450         60   среднее             1   \n",
       "21132         0           2314         47   среднее             1   \n",
       "21281         1           1421         30    высшее             0   \n",
       "21415         0            648         54   среднее             1   \n",
       "\n",
       "          family_status  family_status_id gender income_type  debt  \\\n",
       "2849    женат / замужем                 0      F   сотрудник     0   \n",
       "3290   гражданский брак                 1      F   пенсионер     0   \n",
       "4182   гражданский брак                 1      F   сотрудник     0   \n",
       "4851   гражданский брак                 1      F   пенсионер     0   \n",
       "5557   гражданский брак                 1      F   пенсионер     0   \n",
       "...                 ...               ...    ...         ...   ...   \n",
       "20702   женат / замужем                 0      F   пенсионер     0   \n",
       "21032   женат / замужем                 0      F   пенсионер     0   \n",
       "21132   женат / замужем                 0      F   сотрудник     0   \n",
       "21281   женат / замужем                 0      F   сотрудник     0   \n",
       "21415   женат / замужем                 0      F   пенсионер     0   \n",
       "\n",
       "       total_income                            purpose  \n",
       "2849         136555            покупка жилья для семьи  \n",
       "3290         114842                    сыграть свадьбу  \n",
       "4182         165640                            свадьба  \n",
       "4851         114842                            свадьба  \n",
       "5557         114842                    сыграть свадьбу  \n",
       "...             ...                                ...  \n",
       "20702        114842         дополнительное образование  \n",
       "21032        114842              заняться образованием  \n",
       "21132        136555                       ремонт жилью  \n",
       "21281        165640  покупка коммерческой недвижимости  \n",
       "21415        114842                  операции с жильем  \n",
       "\n",
       "[71 rows x 12 columns]"
      ]
     },
     "execution_count": 16,
     "metadata": {},
     "output_type": "execute_result"
    }
   ],
   "source": [
    "bank_data.loc[bank_data.duplicated(), :]"
   ]
  },
  {
   "cell_type": "code",
   "execution_count": 17,
   "metadata": {},
   "outputs": [],
   "source": [
    "bank_data = bank_data.drop_duplicates()"
   ]
  },
  {
   "cell_type": "code",
   "execution_count": 18,
   "metadata": {},
   "outputs": [],
   "source": [
    "bank_data = bank_data.loc[bank_data['children'] < 4]"
   ]
  },
  {
   "cell_type": "code",
   "execution_count": 19,
   "metadata": {},
   "outputs": [
    {
     "data": {
      "text/plain": [
       "0"
      ]
     },
     "execution_count": 19,
     "metadata": {},
     "output_type": "execute_result"
    }
   ],
   "source": [
    "bank_data.duplicated().sum()"
   ]
  },
  {
   "cell_type": "markdown",
   "metadata": {},
   "source": [
    "**Вывод**"
   ]
  },
  {
   "cell_type": "markdown",
   "metadata": {},
   "source": [
    "Посмотрела общее количество дубликатов в датафрейме, решила посмотреть на строки с полными дубликатами, использовала метод duplicated() в логическом условии.\n",
    "\n",
    "Методом drop_duplicates() удалила дублирующие строки.\n",
    "При повторной проверке количества дубликатов убедилась, что все удалены.\n",
    "\n",
    "Вижу несколько причин появления дубликатов:\n",
    "- Так как во всех строках не указаны стаж и доход, значит есть вероятность того, что заявки подавали неоднократно и они не были одобрены\n",
    "- Ошибка в системе банка\n",
    "- Ошибка при формировании списка\n",
    "\n",
    "Так же в столбце education привела все строки к нижнему регистру, чтобы легче было разбивать по категориям в дальнейшем"
   ]
  },
  {
   "cell_type": "markdown",
   "metadata": {},
   "source": [
    "### Лемматизация"
   ]
  },
  {
   "cell_type": "code",
   "execution_count": 20,
   "metadata": {},
   "outputs": [
    {
     "data": {
      "text/plain": [
       "array(['покупка жилья', 'приобретение автомобиля',\n",
       "       'дополнительное образование', 'сыграть свадьбу',\n",
       "       'операции с жильем', 'образование', 'на проведение свадьбы',\n",
       "       'покупка жилья для семьи', 'покупка недвижимости',\n",
       "       'покупка коммерческой недвижимости', 'покупка жилой недвижимости',\n",
       "       'строительство собственной недвижимости', 'недвижимость',\n",
       "       'строительство недвижимости', 'на покупку подержанного автомобиля',\n",
       "       'на покупку своего автомобиля',\n",
       "       'операции с коммерческой недвижимостью',\n",
       "       'строительство жилой недвижимости', 'жилье',\n",
       "       'операции со своей недвижимостью', 'автомобили',\n",
       "       'заняться образованием', 'сделка с подержанным автомобилем',\n",
       "       'получение образования', 'автомобиль', 'свадьба',\n",
       "       'получение дополнительного образования', 'покупка своего жилья',\n",
       "       'операции с недвижимостью', 'получение высшего образования',\n",
       "       'свой автомобиль', 'сделка с автомобилем',\n",
       "       'профильное образование', 'высшее образование',\n",
       "       'покупка жилья для сдачи', 'на покупку автомобиля', 'ремонт жилью',\n",
       "       'заняться высшим образованием'], dtype=object)"
      ]
     },
     "execution_count": 20,
     "metadata": {},
     "output_type": "execute_result"
    }
   ],
   "source": [
    "bank_data['purpose'].unique()"
   ]
  },
  {
   "cell_type": "code",
   "execution_count": 21,
   "metadata": {
    "scrolled": true
   },
   "outputs": [
    {
     "data": {
      "text/plain": [
       "Counter({'покупка': 5861,\n",
       "         'жилье': 4432,\n",
       "         'приобретение': 461,\n",
       "         'автомобиль': 4278,\n",
       "         'дополнительный': 901,\n",
       "         'образование': 3990,\n",
       "         'сыграть': 761,\n",
       "         'свадьба': 2311,\n",
       "         'операция': 2588,\n",
       "         'проведение': 762,\n",
       "         'семья': 635,\n",
       "         'недвижимость': 6317,\n",
       "         'коммерческий': 1302,\n",
       "         'жилой': 1224,\n",
       "         'строительство': 1866,\n",
       "         'собственный': 627,\n",
       "         'подержать': 470,\n",
       "         'свой': 2220,\n",
       "         'заниматься': 899,\n",
       "         'сделка': 936,\n",
       "         'подержанный': 481,\n",
       "         'получение': 1309,\n",
       "         'высокий': 1364,\n",
       "         'профильный': 434,\n",
       "         'сдача': 649,\n",
       "         'ремонт': 605})"
      ]
     },
     "execution_count": 21,
     "metadata": {},
     "output_type": "execute_result"
    }
   ],
   "source": [
    "m = Mystem()\n",
    "\n",
    "def lemmatize_text(text):\n",
    "    return m.lemmatize(text)\n",
    "\n",
    "lemmas = bank_data['purpose'].apply(lemmatize_text)\n",
    "\n",
    "big_list = []\n",
    "for sublist in lemmas:\n",
    "    for item in sublist:\n",
    "        if len(item) > 3:\n",
    "            big_list.append(item)\n",
    "    \n",
    "Counter(big_list)"
   ]
  },
  {
   "cell_type": "code",
   "execution_count": 22,
   "metadata": {},
   "outputs": [],
   "source": [
    "def select_category(purpose): \n",
    "    lemma = m.lemmatize(purpose)\n",
    "    if 'жилье' in lemma or 'недвижимость' in lemma:\n",
    "        if 'ремонт' in lemma:\n",
    "            return 'Ремонт недвижимости'\n",
    "        return 'Покупка недвижимости'\n",
    "    \n",
    "    if 'автомобиль' in lemma:\n",
    "        return 'Покупка автомобиля'\n",
    "    \n",
    "    if 'образование' in lemma:\n",
    "        return 'Оплата обучения'\n",
    "    \n",
    "    if 'свадьба' in lemma:\n",
    "        return 'Проведение мероприятий'\n",
    "    \n",
    "    return 'Не удалось определить'\n",
    "    \n",
    "bank_data['purpose_category'] = bank_data['purpose'].apply(select_category)"
   ]
  },
  {
   "cell_type": "code",
   "execution_count": 23,
   "metadata": {},
   "outputs": [
    {
     "data": {
      "text/html": [
       "<div>\n",
       "<style scoped>\n",
       "    .dataframe tbody tr th:only-of-type {\n",
       "        vertical-align: middle;\n",
       "    }\n",
       "\n",
       "    .dataframe tbody tr th {\n",
       "        vertical-align: top;\n",
       "    }\n",
       "\n",
       "    .dataframe thead th {\n",
       "        text-align: right;\n",
       "    }\n",
       "</style>\n",
       "<table border=\"1\" class=\"dataframe\">\n",
       "  <thead>\n",
       "    <tr style=\"text-align: right;\">\n",
       "      <th></th>\n",
       "      <th>children</th>\n",
       "      <th>days_employed</th>\n",
       "      <th>dob_years</th>\n",
       "      <th>education</th>\n",
       "      <th>education_id</th>\n",
       "      <th>family_status</th>\n",
       "      <th>family_status_id</th>\n",
       "      <th>gender</th>\n",
       "      <th>income_type</th>\n",
       "      <th>debt</th>\n",
       "      <th>total_income</th>\n",
       "      <th>purpose</th>\n",
       "      <th>purpose_category</th>\n",
       "    </tr>\n",
       "  </thead>\n",
       "  <tbody>\n",
       "    <tr>\n",
       "      <th>0</th>\n",
       "      <td>1</td>\n",
       "      <td>8437</td>\n",
       "      <td>42</td>\n",
       "      <td>высшее</td>\n",
       "      <td>0</td>\n",
       "      <td>женат / замужем</td>\n",
       "      <td>0</td>\n",
       "      <td>F</td>\n",
       "      <td>сотрудник</td>\n",
       "      <td>0</td>\n",
       "      <td>253875</td>\n",
       "      <td>покупка жилья</td>\n",
       "      <td>Покупка недвижимости</td>\n",
       "    </tr>\n",
       "    <tr>\n",
       "      <th>1</th>\n",
       "      <td>1</td>\n",
       "      <td>4024</td>\n",
       "      <td>36</td>\n",
       "      <td>среднее</td>\n",
       "      <td>1</td>\n",
       "      <td>женат / замужем</td>\n",
       "      <td>0</td>\n",
       "      <td>F</td>\n",
       "      <td>сотрудник</td>\n",
       "      <td>0</td>\n",
       "      <td>112080</td>\n",
       "      <td>приобретение автомобиля</td>\n",
       "      <td>Покупка автомобиля</td>\n",
       "    </tr>\n",
       "    <tr>\n",
       "      <th>2</th>\n",
       "      <td>0</td>\n",
       "      <td>5623</td>\n",
       "      <td>33</td>\n",
       "      <td>среднее</td>\n",
       "      <td>1</td>\n",
       "      <td>женат / замужем</td>\n",
       "      <td>0</td>\n",
       "      <td>M</td>\n",
       "      <td>сотрудник</td>\n",
       "      <td>0</td>\n",
       "      <td>145885</td>\n",
       "      <td>покупка жилья</td>\n",
       "      <td>Покупка недвижимости</td>\n",
       "    </tr>\n",
       "    <tr>\n",
       "      <th>3</th>\n",
       "      <td>3</td>\n",
       "      <td>4124</td>\n",
       "      <td>32</td>\n",
       "      <td>среднее</td>\n",
       "      <td>1</td>\n",
       "      <td>женат / замужем</td>\n",
       "      <td>0</td>\n",
       "      <td>M</td>\n",
       "      <td>сотрудник</td>\n",
       "      <td>0</td>\n",
       "      <td>267628</td>\n",
       "      <td>дополнительное образование</td>\n",
       "      <td>Оплата обучения</td>\n",
       "    </tr>\n",
       "    <tr>\n",
       "      <th>4</th>\n",
       "      <td>0</td>\n",
       "      <td>340266</td>\n",
       "      <td>53</td>\n",
       "      <td>среднее</td>\n",
       "      <td>1</td>\n",
       "      <td>гражданский брак</td>\n",
       "      <td>1</td>\n",
       "      <td>F</td>\n",
       "      <td>пенсионер</td>\n",
       "      <td>0</td>\n",
       "      <td>158616</td>\n",
       "      <td>сыграть свадьбу</td>\n",
       "      <td>Проведение мероприятий</td>\n",
       "    </tr>\n",
       "  </tbody>\n",
       "</table>\n",
       "</div>"
      ],
      "text/plain": [
       "   children  days_employed  dob_years education  education_id  \\\n",
       "0         1           8437         42    высшее             0   \n",
       "1         1           4024         36   среднее             1   \n",
       "2         0           5623         33   среднее             1   \n",
       "3         3           4124         32   среднее             1   \n",
       "4         0         340266         53   среднее             1   \n",
       "\n",
       "      family_status  family_status_id gender income_type  debt  total_income  \\\n",
       "0   женат / замужем                 0      F   сотрудник     0        253875   \n",
       "1   женат / замужем                 0      F   сотрудник     0        112080   \n",
       "2   женат / замужем                 0      M   сотрудник     0        145885   \n",
       "3   женат / замужем                 0      M   сотрудник     0        267628   \n",
       "4  гражданский брак                 1      F   пенсионер     0        158616   \n",
       "\n",
       "                      purpose        purpose_category  \n",
       "0               покупка жилья    Покупка недвижимости  \n",
       "1     приобретение автомобиля      Покупка автомобиля  \n",
       "2               покупка жилья    Покупка недвижимости  \n",
       "3  дополнительное образование         Оплата обучения  \n",
       "4             сыграть свадьбу  Проведение мероприятий  "
      ]
     },
     "execution_count": 23,
     "metadata": {},
     "output_type": "execute_result"
    }
   ],
   "source": [
    "bank_data.head()"
   ]
  },
  {
   "cell_type": "markdown",
   "metadata": {},
   "source": [
    "**Вывод**"
   ]
  },
  {
   "cell_type": "markdown",
   "metadata": {},
   "source": [
    "- Для начала применила метод unique(), чтобы видеть все возможные цели кредита.\n",
    "- Применила метод Counter(), увидела колличество ключевых слов в столбце. Для удобства отсеяла предлоги и пробелы, чтоб не мешали.\n",
    "- На основе полученных ключевых слов составила функцию select_category с условиями присвоения категорий. Категории целей кредита выделила в отдельном столбце purpose_category."
   ]
  },
  {
   "cell_type": "markdown",
   "metadata": {},
   "source": [
    "### Категоризация данных"
   ]
  },
  {
   "cell_type": "code",
   "execution_count": 24,
   "metadata": {},
   "outputs": [
    {
     "data": {
      "text/html": [
       "<div>\n",
       "<style scoped>\n",
       "    .dataframe tbody tr th:only-of-type {\n",
       "        vertical-align: middle;\n",
       "    }\n",
       "\n",
       "    .dataframe tbody tr th {\n",
       "        vertical-align: top;\n",
       "    }\n",
       "\n",
       "    .dataframe thead th {\n",
       "        text-align: right;\n",
       "    }\n",
       "</style>\n",
       "<table border=\"1\" class=\"dataframe\">\n",
       "  <thead>\n",
       "    <tr style=\"text-align: right;\">\n",
       "      <th></th>\n",
       "      <th>debt</th>\n",
       "    </tr>\n",
       "    <tr>\n",
       "      <th>children</th>\n",
       "      <th></th>\n",
       "    </tr>\n",
       "  </thead>\n",
       "  <tbody>\n",
       "    <tr>\n",
       "      <th>0</th>\n",
       "      <td>0.075438</td>\n",
       "    </tr>\n",
       "    <tr>\n",
       "      <th>1</th>\n",
       "      <td>0.091658</td>\n",
       "    </tr>\n",
       "    <tr>\n",
       "      <th>2</th>\n",
       "      <td>0.094542</td>\n",
       "    </tr>\n",
       "    <tr>\n",
       "      <th>3</th>\n",
       "      <td>0.081818</td>\n",
       "    </tr>\n",
       "  </tbody>\n",
       "</table>\n",
       "</div>"
      ],
      "text/plain": [
       "              debt\n",
       "children          \n",
       "0         0.075438\n",
       "1         0.091658\n",
       "2         0.094542\n",
       "3         0.081818"
      ]
     },
     "execution_count": 24,
     "metadata": {},
     "output_type": "execute_result"
    }
   ],
   "source": [
    "pivot_children_debt = bank_data.pivot_table(values = ['debt'], aggfunc = 'mean', index = ['children'], fill_value=0)\n",
    "pivot_children_debt"
   ]
  },
  {
   "cell_type": "markdown",
   "metadata": {},
   "source": [
    "Приняла решение удалить из списка всех у кого 20 детей. Так как их всего 76 штук, то это не такая страшная потеря и она ни на что не влияет. Так же удалила строки людей с 5ю детьми, так как их было всего 41 и процент задолженности был нулевой, он очень мешал анализу."
   ]
  },
  {
   "cell_type": "code",
   "execution_count": 25,
   "metadata": {},
   "outputs": [
    {
     "data": {
      "text/html": [
       "<div>\n",
       "<style scoped>\n",
       "    .dataframe tbody tr th:only-of-type {\n",
       "        vertical-align: middle;\n",
       "    }\n",
       "\n",
       "    .dataframe tbody tr th {\n",
       "        vertical-align: top;\n",
       "    }\n",
       "\n",
       "    .dataframe thead th {\n",
       "        text-align: right;\n",
       "    }\n",
       "</style>\n",
       "<table border=\"1\" class=\"dataframe\">\n",
       "  <thead>\n",
       "    <tr style=\"text-align: right;\">\n",
       "      <th></th>\n",
       "      <th>debt</th>\n",
       "    </tr>\n",
       "    <tr>\n",
       "      <th>purpose_category</th>\n",
       "      <th></th>\n",
       "    </tr>\n",
       "  </thead>\n",
       "  <tbody>\n",
       "    <tr>\n",
       "      <th>Оплата обучения</th>\n",
       "      <td>0.092481</td>\n",
       "    </tr>\n",
       "    <tr>\n",
       "      <th>Покупка автомобиля</th>\n",
       "      <td>0.093502</td>\n",
       "    </tr>\n",
       "    <tr>\n",
       "      <th>Покупка недвижимости</th>\n",
       "      <td>0.073147</td>\n",
       "    </tr>\n",
       "    <tr>\n",
       "      <th>Проведение мероприятий</th>\n",
       "      <td>0.079186</td>\n",
       "    </tr>\n",
       "    <tr>\n",
       "      <th>Ремонт недвижимости</th>\n",
       "      <td>0.057851</td>\n",
       "    </tr>\n",
       "  </tbody>\n",
       "</table>\n",
       "</div>"
      ],
      "text/plain": [
       "                            debt\n",
       "purpose_category                \n",
       "Оплата обучения         0.092481\n",
       "Покупка автомобиля      0.093502\n",
       "Покупка недвижимости    0.073147\n",
       "Проведение мероприятий  0.079186\n",
       "Ремонт недвижимости     0.057851"
      ]
     },
     "execution_count": 25,
     "metadata": {},
     "output_type": "execute_result"
    }
   ],
   "source": [
    "pivot_purpose_debt = bank_data.pivot_table(values = ['debt'], aggfunc = 'mean', index = ['purpose_category'], fill_value=0)\n",
    "pivot_purpose_debt"
   ]
  },
  {
   "cell_type": "code",
   "execution_count": 26,
   "metadata": {},
   "outputs": [],
   "source": [
    "family_status_df = bank_data.drop_duplicates([\"family_status_id\"])\n",
    "family_status_dict = family_status_df.set_index(['family_status_id'])['family_status'].to_dict()"
   ]
  },
  {
   "cell_type": "code",
   "execution_count": 27,
   "metadata": {},
   "outputs": [
    {
     "data": {
      "text/html": [
       "<div>\n",
       "<style scoped>\n",
       "    .dataframe tbody tr th:only-of-type {\n",
       "        vertical-align: middle;\n",
       "    }\n",
       "\n",
       "    .dataframe tbody tr th {\n",
       "        vertical-align: top;\n",
       "    }\n",
       "\n",
       "    .dataframe thead th {\n",
       "        text-align: right;\n",
       "    }\n",
       "</style>\n",
       "<table border=\"1\" class=\"dataframe\">\n",
       "  <thead>\n",
       "    <tr style=\"text-align: right;\">\n",
       "      <th></th>\n",
       "      <th>debt</th>\n",
       "    </tr>\n",
       "    <tr>\n",
       "      <th>family_status</th>\n",
       "      <th></th>\n",
       "    </tr>\n",
       "  </thead>\n",
       "  <tbody>\n",
       "    <tr>\n",
       "      <th>Не женат / не замужем</th>\n",
       "      <td>0.097178</td>\n",
       "    </tr>\n",
       "    <tr>\n",
       "      <th>в разводе</th>\n",
       "      <td>0.070470</td>\n",
       "    </tr>\n",
       "    <tr>\n",
       "      <th>вдовец / вдова</th>\n",
       "      <td>0.066038</td>\n",
       "    </tr>\n",
       "    <tr>\n",
       "      <th>гражданский брак</th>\n",
       "      <td>0.093243</td>\n",
       "    </tr>\n",
       "    <tr>\n",
       "      <th>женат / замужем</th>\n",
       "      <td>0.075486</td>\n",
       "    </tr>\n",
       "  </tbody>\n",
       "</table>\n",
       "</div>"
      ],
      "text/plain": [
       "                           debt\n",
       "family_status                  \n",
       "Не женат / не замужем  0.097178\n",
       "в разводе              0.070470\n",
       "вдовец / вдова         0.066038\n",
       "гражданский брак       0.093243\n",
       "женат / замужем        0.075486"
      ]
     },
     "execution_count": 27,
     "metadata": {},
     "output_type": "execute_result"
    }
   ],
   "source": [
    "pivot_family_status_debt = bank_data.pivot_table(values = ['debt'], aggfunc = 'mean', index = ['family_status'], fill_value=0)\n",
    "pivot_family_status_debt"
   ]
  },
  {
   "cell_type": "code",
   "execution_count": 28,
   "metadata": {},
   "outputs": [
    {
     "data": {
      "text/html": [
       "<div>\n",
       "<style scoped>\n",
       "    .dataframe tbody tr th:only-of-type {\n",
       "        vertical-align: middle;\n",
       "    }\n",
       "\n",
       "    .dataframe tbody tr th {\n",
       "        vertical-align: top;\n",
       "    }\n",
       "\n",
       "    .dataframe thead th {\n",
       "        text-align: right;\n",
       "    }\n",
       "</style>\n",
       "<table border=\"1\" class=\"dataframe\">\n",
       "  <thead>\n",
       "    <tr style=\"text-align: right;\">\n",
       "      <th></th>\n",
       "      <th>children</th>\n",
       "      <th>days_employed</th>\n",
       "      <th>dob_years</th>\n",
       "      <th>education</th>\n",
       "      <th>education_id</th>\n",
       "      <th>family_status</th>\n",
       "      <th>family_status_id</th>\n",
       "      <th>gender</th>\n",
       "      <th>income_type</th>\n",
       "      <th>debt</th>\n",
       "      <th>total_income</th>\n",
       "      <th>purpose</th>\n",
       "      <th>purpose_category</th>\n",
       "      <th>income_category</th>\n",
       "    </tr>\n",
       "  </thead>\n",
       "  <tbody>\n",
       "    <tr>\n",
       "      <th>0</th>\n",
       "      <td>1</td>\n",
       "      <td>8437</td>\n",
       "      <td>42</td>\n",
       "      <td>высшее</td>\n",
       "      <td>0</td>\n",
       "      <td>женат / замужем</td>\n",
       "      <td>0</td>\n",
       "      <td>F</td>\n",
       "      <td>сотрудник</td>\n",
       "      <td>0</td>\n",
       "      <td>253875</td>\n",
       "      <td>покупка жилья</td>\n",
       "      <td>Покупка недвижимости</td>\n",
       "      <td>Высокий</td>\n",
       "    </tr>\n",
       "    <tr>\n",
       "      <th>1</th>\n",
       "      <td>1</td>\n",
       "      <td>4024</td>\n",
       "      <td>36</td>\n",
       "      <td>среднее</td>\n",
       "      <td>1</td>\n",
       "      <td>женат / замужем</td>\n",
       "      <td>0</td>\n",
       "      <td>F</td>\n",
       "      <td>сотрудник</td>\n",
       "      <td>0</td>\n",
       "      <td>112080</td>\n",
       "      <td>приобретение автомобиля</td>\n",
       "      <td>Покупка автомобиля</td>\n",
       "      <td>Средний</td>\n",
       "    </tr>\n",
       "    <tr>\n",
       "      <th>2</th>\n",
       "      <td>0</td>\n",
       "      <td>5623</td>\n",
       "      <td>33</td>\n",
       "      <td>среднее</td>\n",
       "      <td>1</td>\n",
       "      <td>женат / замужем</td>\n",
       "      <td>0</td>\n",
       "      <td>M</td>\n",
       "      <td>сотрудник</td>\n",
       "      <td>0</td>\n",
       "      <td>145885</td>\n",
       "      <td>покупка жилья</td>\n",
       "      <td>Покупка недвижимости</td>\n",
       "      <td>Средний</td>\n",
       "    </tr>\n",
       "    <tr>\n",
       "      <th>3</th>\n",
       "      <td>3</td>\n",
       "      <td>4124</td>\n",
       "      <td>32</td>\n",
       "      <td>среднее</td>\n",
       "      <td>1</td>\n",
       "      <td>женат / замужем</td>\n",
       "      <td>0</td>\n",
       "      <td>M</td>\n",
       "      <td>сотрудник</td>\n",
       "      <td>0</td>\n",
       "      <td>267628</td>\n",
       "      <td>дополнительное образование</td>\n",
       "      <td>Оплата обучения</td>\n",
       "      <td>Высокий</td>\n",
       "    </tr>\n",
       "    <tr>\n",
       "      <th>4</th>\n",
       "      <td>0</td>\n",
       "      <td>340266</td>\n",
       "      <td>53</td>\n",
       "      <td>среднее</td>\n",
       "      <td>1</td>\n",
       "      <td>гражданский брак</td>\n",
       "      <td>1</td>\n",
       "      <td>F</td>\n",
       "      <td>пенсионер</td>\n",
       "      <td>0</td>\n",
       "      <td>158616</td>\n",
       "      <td>сыграть свадьбу</td>\n",
       "      <td>Проведение мероприятий</td>\n",
       "      <td>Высокий</td>\n",
       "    </tr>\n",
       "  </tbody>\n",
       "</table>\n",
       "</div>"
      ],
      "text/plain": [
       "   children  days_employed  dob_years education  education_id  \\\n",
       "0         1           8437         42    высшее             0   \n",
       "1         1           4024         36   среднее             1   \n",
       "2         0           5623         33   среднее             1   \n",
       "3         3           4124         32   среднее             1   \n",
       "4         0         340266         53   среднее             1   \n",
       "\n",
       "      family_status  family_status_id gender income_type  debt  total_income  \\\n",
       "0   женат / замужем                 0      F   сотрудник     0        253875   \n",
       "1   женат / замужем                 0      F   сотрудник     0        112080   \n",
       "2   женат / замужем                 0      M   сотрудник     0        145885   \n",
       "3   женат / замужем                 0      M   сотрудник     0        267628   \n",
       "4  гражданский брак                 1      F   пенсионер     0        158616   \n",
       "\n",
       "                      purpose        purpose_category income_category  \n",
       "0               покупка жилья    Покупка недвижимости         Высокий  \n",
       "1     приобретение автомобиля      Покупка автомобиля         Средний  \n",
       "2               покупка жилья    Покупка недвижимости         Средний  \n",
       "3  дополнительное образование         Оплата обучения         Высокий  \n",
       "4             сыграть свадьбу  Проведение мероприятий         Высокий  "
      ]
     },
     "execution_count": 28,
     "metadata": {},
     "output_type": "execute_result"
    }
   ],
   "source": [
    "def select_income_category(income):\n",
    "    if income == 0:\n",
    "        return 'Нулевой'\n",
    "    if income <= 50000:\n",
    "        return 'Низкий'\n",
    "    if income <= 150000:\n",
    "        return 'Средний'\n",
    "    return 'Высокий'\n",
    "bank_data['income_category'] = bank_data['total_income'].apply(select_income_category)\n",
    "bank_data.head()"
   ]
  },
  {
   "cell_type": "code",
   "execution_count": 29,
   "metadata": {},
   "outputs": [
    {
     "data": {
      "text/html": [
       "<div>\n",
       "<style scoped>\n",
       "    .dataframe tbody tr th:only-of-type {\n",
       "        vertical-align: middle;\n",
       "    }\n",
       "\n",
       "    .dataframe tbody tr th {\n",
       "        vertical-align: top;\n",
       "    }\n",
       "\n",
       "    .dataframe thead th {\n",
       "        text-align: right;\n",
       "    }\n",
       "</style>\n",
       "<table border=\"1\" class=\"dataframe\">\n",
       "  <thead>\n",
       "    <tr style=\"text-align: right;\">\n",
       "      <th></th>\n",
       "      <th>debt</th>\n",
       "    </tr>\n",
       "    <tr>\n",
       "      <th>income_category</th>\n",
       "      <th></th>\n",
       "    </tr>\n",
       "  </thead>\n",
       "  <tbody>\n",
       "    <tr>\n",
       "      <th>Высокий</th>\n",
       "      <td>0.076815</td>\n",
       "    </tr>\n",
       "    <tr>\n",
       "      <th>Низкий</th>\n",
       "      <td>0.061995</td>\n",
       "    </tr>\n",
       "    <tr>\n",
       "      <th>Средний</th>\n",
       "      <td>0.085561</td>\n",
       "    </tr>\n",
       "  </tbody>\n",
       "</table>\n",
       "</div>"
      ],
      "text/plain": [
       "                     debt\n",
       "income_category          \n",
       "Высокий          0.076815\n",
       "Низкий           0.061995\n",
       "Средний          0.085561"
      ]
     },
     "execution_count": 29,
     "metadata": {},
     "output_type": "execute_result"
    }
   ],
   "source": [
    "pivot_income_debt = bank_data.pivot_table(values = ['debt'], aggfunc = 'mean', index = ['income_category'], fill_value=0)\n",
    "pivot_income_debt"
   ]
  },
  {
   "cell_type": "code",
   "execution_count": 30,
   "metadata": {},
   "outputs": [
    {
     "data": {
      "text/plain": [
       "{0: 'высшее',\n",
       " 1: 'среднее',\n",
       " 2: 'неоконченное высшее',\n",
       " 3: 'начальное',\n",
       " 4: 'ученая степень'}"
      ]
     },
     "execution_count": 30,
     "metadata": {},
     "output_type": "execute_result"
    }
   ],
   "source": [
    "education_df = bank_data.drop_duplicates([\"education_id\"])\n",
    "education_dict = education_df.set_index(['education_id'])['education'].to_dict()\n",
    "education_dict"
   ]
  },
  {
   "cell_type": "code",
   "execution_count": 31,
   "metadata": {},
   "outputs": [
    {
     "data": {
      "text/plain": [
       "{0: 'женат / замужем',\n",
       " 1: 'гражданский брак',\n",
       " 2: 'вдовец / вдова',\n",
       " 3: 'в разводе',\n",
       " 4: 'Не женат / не замужем'}"
      ]
     },
     "execution_count": 31,
     "metadata": {},
     "output_type": "execute_result"
    }
   ],
   "source": [
    "dict(zip(bank_data['family_status_id'], bank_data['family_status']))"
   ]
  },
  {
   "cell_type": "code",
   "execution_count": 32,
   "metadata": {},
   "outputs": [
    {
     "data": {
      "text/html": [
       "<div>\n",
       "<style scoped>\n",
       "    .dataframe tbody tr th:only-of-type {\n",
       "        vertical-align: middle;\n",
       "    }\n",
       "\n",
       "    .dataframe tbody tr th {\n",
       "        vertical-align: top;\n",
       "    }\n",
       "\n",
       "    .dataframe thead th {\n",
       "        text-align: right;\n",
       "    }\n",
       "</style>\n",
       "<table border=\"1\" class=\"dataframe\">\n",
       "  <thead>\n",
       "    <tr style=\"text-align: right;\">\n",
       "      <th></th>\n",
       "      <th>debt</th>\n",
       "    </tr>\n",
       "    <tr>\n",
       "      <th>education</th>\n",
       "      <th></th>\n",
       "    </tr>\n",
       "  </thead>\n",
       "  <tbody>\n",
       "    <tr>\n",
       "      <th>высшее</th>\n",
       "      <td>0.053185</td>\n",
       "    </tr>\n",
       "    <tr>\n",
       "      <th>начальное</th>\n",
       "      <td>0.110320</td>\n",
       "    </tr>\n",
       "    <tr>\n",
       "      <th>неоконченное высшее</th>\n",
       "      <td>0.091644</td>\n",
       "    </tr>\n",
       "    <tr>\n",
       "      <th>среднее</th>\n",
       "      <td>0.089703</td>\n",
       "    </tr>\n",
       "    <tr>\n",
       "      <th>ученая степень</th>\n",
       "      <td>0.000000</td>\n",
       "    </tr>\n",
       "  </tbody>\n",
       "</table>\n",
       "</div>"
      ],
      "text/plain": [
       "                         debt\n",
       "education                    \n",
       "высшее               0.053185\n",
       "начальное            0.110320\n",
       "неоконченное высшее  0.091644\n",
       "среднее              0.089703\n",
       "ученая степень       0.000000"
      ]
     },
     "execution_count": 32,
     "metadata": {},
     "output_type": "execute_result"
    }
   ],
   "source": [
    "pivot_education_debt = bank_data.pivot_table(values = ['debt'], aggfunc = 'mean', index = ['education'], fill_value=0)\n",
    "pivot_education_debt"
   ]
  },
  {
   "cell_type": "code",
   "execution_count": 33,
   "metadata": {},
   "outputs": [
    {
     "data": {
      "text/html": [
       "<div>\n",
       "<style scoped>\n",
       "    .dataframe tbody tr th:only-of-type {\n",
       "        vertical-align: middle;\n",
       "    }\n",
       "\n",
       "    .dataframe tbody tr th {\n",
       "        vertical-align: top;\n",
       "    }\n",
       "\n",
       "    .dataframe thead th {\n",
       "        text-align: right;\n",
       "    }\n",
       "</style>\n",
       "<table border=\"1\" class=\"dataframe\">\n",
       "  <thead>\n",
       "    <tr style=\"text-align: right;\">\n",
       "      <th></th>\n",
       "      <th>children</th>\n",
       "      <th>days_employed</th>\n",
       "      <th>dob_years</th>\n",
       "      <th>education</th>\n",
       "      <th>education_id</th>\n",
       "      <th>family_status</th>\n",
       "      <th>family_status_id</th>\n",
       "      <th>gender</th>\n",
       "      <th>income_type</th>\n",
       "      <th>debt</th>\n",
       "      <th>total_income</th>\n",
       "      <th>purpose</th>\n",
       "      <th>purpose_category</th>\n",
       "      <th>income_category</th>\n",
       "      <th>years_category</th>\n",
       "    </tr>\n",
       "  </thead>\n",
       "  <tbody>\n",
       "    <tr>\n",
       "      <th>0</th>\n",
       "      <td>1</td>\n",
       "      <td>8437</td>\n",
       "      <td>42</td>\n",
       "      <td>высшее</td>\n",
       "      <td>0</td>\n",
       "      <td>женат / замужем</td>\n",
       "      <td>0</td>\n",
       "      <td>F</td>\n",
       "      <td>сотрудник</td>\n",
       "      <td>0</td>\n",
       "      <td>253875</td>\n",
       "      <td>покупка жилья</td>\n",
       "      <td>Покупка недвижимости</td>\n",
       "      <td>Высокий</td>\n",
       "      <td>от 25 до 50</td>\n",
       "    </tr>\n",
       "    <tr>\n",
       "      <th>1</th>\n",
       "      <td>1</td>\n",
       "      <td>4024</td>\n",
       "      <td>36</td>\n",
       "      <td>среднее</td>\n",
       "      <td>1</td>\n",
       "      <td>женат / замужем</td>\n",
       "      <td>0</td>\n",
       "      <td>F</td>\n",
       "      <td>сотрудник</td>\n",
       "      <td>0</td>\n",
       "      <td>112080</td>\n",
       "      <td>приобретение автомобиля</td>\n",
       "      <td>Покупка автомобиля</td>\n",
       "      <td>Средний</td>\n",
       "      <td>от 25 до 50</td>\n",
       "    </tr>\n",
       "    <tr>\n",
       "      <th>2</th>\n",
       "      <td>0</td>\n",
       "      <td>5623</td>\n",
       "      <td>33</td>\n",
       "      <td>среднее</td>\n",
       "      <td>1</td>\n",
       "      <td>женат / замужем</td>\n",
       "      <td>0</td>\n",
       "      <td>M</td>\n",
       "      <td>сотрудник</td>\n",
       "      <td>0</td>\n",
       "      <td>145885</td>\n",
       "      <td>покупка жилья</td>\n",
       "      <td>Покупка недвижимости</td>\n",
       "      <td>Средний</td>\n",
       "      <td>от 25 до 50</td>\n",
       "    </tr>\n",
       "    <tr>\n",
       "      <th>3</th>\n",
       "      <td>3</td>\n",
       "      <td>4124</td>\n",
       "      <td>32</td>\n",
       "      <td>среднее</td>\n",
       "      <td>1</td>\n",
       "      <td>женат / замужем</td>\n",
       "      <td>0</td>\n",
       "      <td>M</td>\n",
       "      <td>сотрудник</td>\n",
       "      <td>0</td>\n",
       "      <td>267628</td>\n",
       "      <td>дополнительное образование</td>\n",
       "      <td>Оплата обучения</td>\n",
       "      <td>Высокий</td>\n",
       "      <td>от 25 до 50</td>\n",
       "    </tr>\n",
       "    <tr>\n",
       "      <th>4</th>\n",
       "      <td>0</td>\n",
       "      <td>340266</td>\n",
       "      <td>53</td>\n",
       "      <td>среднее</td>\n",
       "      <td>1</td>\n",
       "      <td>гражданский брак</td>\n",
       "      <td>1</td>\n",
       "      <td>F</td>\n",
       "      <td>пенсионер</td>\n",
       "      <td>0</td>\n",
       "      <td>158616</td>\n",
       "      <td>сыграть свадьбу</td>\n",
       "      <td>Проведение мероприятий</td>\n",
       "      <td>Высокий</td>\n",
       "      <td>от 50 и старше</td>\n",
       "    </tr>\n",
       "  </tbody>\n",
       "</table>\n",
       "</div>"
      ],
      "text/plain": [
       "   children  days_employed  dob_years education  education_id  \\\n",
       "0         1           8437         42    высшее             0   \n",
       "1         1           4024         36   среднее             1   \n",
       "2         0           5623         33   среднее             1   \n",
       "3         3           4124         32   среднее             1   \n",
       "4         0         340266         53   среднее             1   \n",
       "\n",
       "      family_status  family_status_id gender income_type  debt  total_income  \\\n",
       "0   женат / замужем                 0      F   сотрудник     0        253875   \n",
       "1   женат / замужем                 0      F   сотрудник     0        112080   \n",
       "2   женат / замужем                 0      M   сотрудник     0        145885   \n",
       "3   женат / замужем                 0      M   сотрудник     0        267628   \n",
       "4  гражданский брак                 1      F   пенсионер     0        158616   \n",
       "\n",
       "                      purpose        purpose_category income_category  \\\n",
       "0               покупка жилья    Покупка недвижимости         Высокий   \n",
       "1     приобретение автомобиля      Покупка автомобиля         Средний   \n",
       "2               покупка жилья    Покупка недвижимости         Средний   \n",
       "3  дополнительное образование         Оплата обучения         Высокий   \n",
       "4             сыграть свадьбу  Проведение мероприятий         Высокий   \n",
       "\n",
       "   years_category  \n",
       "0     от 25 до 50  \n",
       "1     от 25 до 50  \n",
       "2     от 25 до 50  \n",
       "3     от 25 до 50  \n",
       "4  от 50 и старше  "
      ]
     },
     "execution_count": 33,
     "metadata": {},
     "output_type": "execute_result"
    }
   ],
   "source": [
    "def select_years_category(years):\n",
    "    if years <= 25:\n",
    "        return 'от 0 до 25'\n",
    "    if years <= 50:\n",
    "        return 'от 25 до 50'\n",
    "    return 'от 50 и старше'\n",
    "bank_data['years_category'] = bank_data['dob_years'].apply(select_years_category)\n",
    "bank_data.head()"
   ]
  },
  {
   "cell_type": "code",
   "execution_count": 34,
   "metadata": {},
   "outputs": [
    {
     "data": {
      "text/html": [
       "<div>\n",
       "<style scoped>\n",
       "    .dataframe tbody tr th:only-of-type {\n",
       "        vertical-align: middle;\n",
       "    }\n",
       "\n",
       "    .dataframe tbody tr th {\n",
       "        vertical-align: top;\n",
       "    }\n",
       "\n",
       "    .dataframe thead th {\n",
       "        text-align: right;\n",
       "    }\n",
       "</style>\n",
       "<table border=\"1\" class=\"dataframe\">\n",
       "  <thead>\n",
       "    <tr style=\"text-align: right;\">\n",
       "      <th></th>\n",
       "      <th>debt</th>\n",
       "    </tr>\n",
       "    <tr>\n",
       "      <th>years_category</th>\n",
       "      <th></th>\n",
       "    </tr>\n",
       "  </thead>\n",
       "  <tbody>\n",
       "    <tr>\n",
       "      <th>от 0 до 25</th>\n",
       "      <td>0.104748</td>\n",
       "    </tr>\n",
       "    <tr>\n",
       "      <th>от 25 до 50</th>\n",
       "      <td>0.090529</td>\n",
       "    </tr>\n",
       "    <tr>\n",
       "      <th>от 50 и старше</th>\n",
       "      <td>0.057216</td>\n",
       "    </tr>\n",
       "  </tbody>\n",
       "</table>\n",
       "</div>"
      ],
      "text/plain": [
       "                    debt\n",
       "years_category          \n",
       "от 0 до 25      0.104748\n",
       "от 25 до 50     0.090529\n",
       "от 50 и старше  0.057216"
      ]
     },
     "execution_count": 34,
     "metadata": {},
     "output_type": "execute_result"
    }
   ],
   "source": [
    "pivot_years_debt = bank_data.pivot_table(values = ['debt'], aggfunc = 'mean', index = ['years_category'], fill_value=0)\n",
    "pivot_years_debt"
   ]
  },
  {
   "cell_type": "markdown",
   "metadata": {},
   "source": [
    "**Вывод**"
   ]
  },
  {
   "cell_type": "markdown",
   "metadata": {},
   "source": [
    "Разбила датафрейм на несколько маленьких сводных таблиц, чтобы посмотреть с чем связано появление задолженности по кредиту. "
   ]
  },
  {
   "cell_type": "markdown",
   "metadata": {},
   "source": [
    "## Выявление зависимостей в данных"
   ]
  },
  {
   "cell_type": "markdown",
   "metadata": {},
   "source": [
    "- Есть ли зависимость между наличием детей и возвратом кредита в срок?"
   ]
  },
  {
   "cell_type": "code",
   "execution_count": 35,
   "metadata": {},
   "outputs": [
    {
     "data": {
      "text/html": [
       "<div>\n",
       "<style scoped>\n",
       "    .dataframe tbody tr th:only-of-type {\n",
       "        vertical-align: middle;\n",
       "    }\n",
       "\n",
       "    .dataframe tbody tr th {\n",
       "        vertical-align: top;\n",
       "    }\n",
       "\n",
       "    .dataframe thead th {\n",
       "        text-align: right;\n",
       "    }\n",
       "</style>\n",
       "<table border=\"1\" class=\"dataframe\">\n",
       "  <thead>\n",
       "    <tr style=\"text-align: right;\">\n",
       "      <th></th>\n",
       "      <th>debt</th>\n",
       "    </tr>\n",
       "    <tr>\n",
       "      <th>children</th>\n",
       "      <th></th>\n",
       "    </tr>\n",
       "  </thead>\n",
       "  <tbody>\n",
       "    <tr>\n",
       "      <th>0</th>\n",
       "      <td>0.075438</td>\n",
       "    </tr>\n",
       "    <tr>\n",
       "      <th>1</th>\n",
       "      <td>0.091658</td>\n",
       "    </tr>\n",
       "    <tr>\n",
       "      <th>2</th>\n",
       "      <td>0.094542</td>\n",
       "    </tr>\n",
       "    <tr>\n",
       "      <th>3</th>\n",
       "      <td>0.081818</td>\n",
       "    </tr>\n",
       "  </tbody>\n",
       "</table>\n",
       "</div>"
      ],
      "text/plain": [
       "              debt\n",
       "children          \n",
       "0         0.075438\n",
       "1         0.091658\n",
       "2         0.094542\n",
       "3         0.081818"
      ]
     },
     "execution_count": 35,
     "metadata": {},
     "output_type": "execute_result"
    }
   ],
   "source": [
    "pivot_children_debt"
   ]
  },
  {
   "cell_type": "code",
   "execution_count": 36,
   "metadata": {},
   "outputs": [
    {
     "name": "stdout",
     "output_type": "stream",
     "text": [
      "Самые ненадежные заемщики это люди с 2 детьми, процент невозвратов для них состовляет 9.45%\n",
      "Самые надежные заемщики это люди с 0 детьми, процент невозвратов для них состовляет 7.54%\n"
     ]
    }
   ],
   "source": [
    "print('Самые ненадежные заемщики это люди с {0} детьми, процент невозвратов для них состовляет {1:.2%}'.format(pivot_children_debt.idxmax()[0],pivot_children_debt.max()[0]))\n",
    "print('Самые надежные заемщики это люди с {0} детьми, процент невозвратов для них состовляет {1:.2%}'.format(pivot_children_debt.idxmin()[0],pivot_children_debt.min()[0]))\n"
   ]
  },
  {
   "cell_type": "markdown",
   "metadata": {},
   "source": [
    "**Вывод**"
   ]
  },
  {
   "cell_type": "markdown",
   "metadata": {},
   "source": [
    "Наличие детей не влияет на возврат кредита в срок. \n",
    "Если бы была возможность знать не только количество, но и возраст детей, то результат был бы более точным и интересным."
   ]
  },
  {
   "cell_type": "markdown",
   "metadata": {},
   "source": [
    "- Есть ли зависимость между семейным положением и возвратом кредита в срок?"
   ]
  },
  {
   "cell_type": "code",
   "execution_count": 37,
   "metadata": {},
   "outputs": [
    {
     "data": {
      "text/html": [
       "<div>\n",
       "<style scoped>\n",
       "    .dataframe tbody tr th:only-of-type {\n",
       "        vertical-align: middle;\n",
       "    }\n",
       "\n",
       "    .dataframe tbody tr th {\n",
       "        vertical-align: top;\n",
       "    }\n",
       "\n",
       "    .dataframe thead th {\n",
       "        text-align: right;\n",
       "    }\n",
       "</style>\n",
       "<table border=\"1\" class=\"dataframe\">\n",
       "  <thead>\n",
       "    <tr style=\"text-align: right;\">\n",
       "      <th></th>\n",
       "      <th>debt</th>\n",
       "    </tr>\n",
       "    <tr>\n",
       "      <th>family_status</th>\n",
       "      <th></th>\n",
       "    </tr>\n",
       "  </thead>\n",
       "  <tbody>\n",
       "    <tr>\n",
       "      <th>Не женат / не замужем</th>\n",
       "      <td>0.097178</td>\n",
       "    </tr>\n",
       "    <tr>\n",
       "      <th>в разводе</th>\n",
       "      <td>0.070470</td>\n",
       "    </tr>\n",
       "    <tr>\n",
       "      <th>вдовец / вдова</th>\n",
       "      <td>0.066038</td>\n",
       "    </tr>\n",
       "    <tr>\n",
       "      <th>гражданский брак</th>\n",
       "      <td>0.093243</td>\n",
       "    </tr>\n",
       "    <tr>\n",
       "      <th>женат / замужем</th>\n",
       "      <td>0.075486</td>\n",
       "    </tr>\n",
       "  </tbody>\n",
       "</table>\n",
       "</div>"
      ],
      "text/plain": [
       "                           debt\n",
       "family_status                  \n",
       "Не женат / не замужем  0.097178\n",
       "в разводе              0.070470\n",
       "вдовец / вдова         0.066038\n",
       "гражданский брак       0.093243\n",
       "женат / замужем        0.075486"
      ]
     },
     "execution_count": 37,
     "metadata": {},
     "output_type": "execute_result"
    }
   ],
   "source": [
    "pivot_family_status_debt"
   ]
  },
  {
   "cell_type": "code",
   "execution_count": 38,
   "metadata": {},
   "outputs": [
    {
     "name": "stdout",
     "output_type": "stream",
     "text": [
      "Самые ненадежные заемщики это люди в статусе \"Не женат / не замужем\", процент невозвратов для них состовляет 9.72%\n",
      "Самые надежные заемщики это люди в статусе \"вдовец / вдова\", процент невозвратов для них состовляет 6.60%\n"
     ]
    }
   ],
   "source": [
    "print('Самые ненадежные заемщики это люди в статусе \"{0}\", процент невозвратов для них состовляет {1:.2%}'.format(pivot_family_status_debt.idxmax()[0],pivot_family_status_debt.max()[0]))\n",
    "print('Самые надежные заемщики это люди в статусе \"{0}\", процент невозвратов для них состовляет {1:.2%}'.format(pivot_family_status_debt.idxmin()[0],pivot_family_status_debt.min()[0]))\n"
   ]
  },
  {
   "cell_type": "code",
   "execution_count": 39,
   "metadata": {},
   "outputs": [
    {
     "name": "stdout",
     "output_type": "stream",
     "text": [
      "Создаю словарь:\n"
     ]
    },
    {
     "data": {
      "text/html": [
       "<div>\n",
       "<style scoped>\n",
       "    .dataframe tbody tr th:only-of-type {\n",
       "        vertical-align: middle;\n",
       "    }\n",
       "\n",
       "    .dataframe tbody tr th {\n",
       "        vertical-align: top;\n",
       "    }\n",
       "\n",
       "    .dataframe thead th {\n",
       "        text-align: right;\n",
       "    }\n",
       "</style>\n",
       "<table border=\"1\" class=\"dataframe\">\n",
       "  <thead>\n",
       "    <tr style=\"text-align: right;\">\n",
       "      <th></th>\n",
       "      <th>family_status_id</th>\n",
       "      <th>family_status</th>\n",
       "    </tr>\n",
       "  </thead>\n",
       "  <tbody>\n",
       "    <tr>\n",
       "      <th>0</th>\n",
       "      <td>0</td>\n",
       "      <td>женат / замужем</td>\n",
       "    </tr>\n",
       "    <tr>\n",
       "      <th>1</th>\n",
       "      <td>1</td>\n",
       "      <td>гражданский брак</td>\n",
       "    </tr>\n",
       "    <tr>\n",
       "      <th>2</th>\n",
       "      <td>2</td>\n",
       "      <td>вдовец / вдова</td>\n",
       "    </tr>\n",
       "    <tr>\n",
       "      <th>3</th>\n",
       "      <td>3</td>\n",
       "      <td>в разводе</td>\n",
       "    </tr>\n",
       "    <tr>\n",
       "      <th>4</th>\n",
       "      <td>4</td>\n",
       "      <td>Не женат / не замужем</td>\n",
       "    </tr>\n",
       "  </tbody>\n",
       "</table>\n",
       "</div>"
      ],
      "text/plain": [
       "   family_status_id          family_status\n",
       "0                 0        женат / замужем\n",
       "1                 1       гражданский брак\n",
       "2                 2         вдовец / вдова\n",
       "3                 3              в разводе\n",
       "4                 4  Не женат / не замужем"
      ]
     },
     "metadata": {},
     "output_type": "display_data"
    },
    {
     "name": "stdout",
     "output_type": "stream",
     "text": [
      "\n",
      "\n",
      "Сгруппированная таблица. Беру по id, другой столбец удалила:\n"
     ]
    },
    {
     "data": {
      "text/html": [
       "<div>\n",
       "<style scoped>\n",
       "    .dataframe tbody tr th:only-of-type {\n",
       "        vertical-align: middle;\n",
       "    }\n",
       "\n",
       "    .dataframe tbody tr th {\n",
       "        vertical-align: top;\n",
       "    }\n",
       "\n",
       "    .dataframe thead th {\n",
       "        text-align: right;\n",
       "    }\n",
       "</style>\n",
       "<table border=\"1\" class=\"dataframe\">\n",
       "  <thead>\n",
       "    <tr style=\"text-align: right;\">\n",
       "      <th></th>\n",
       "      <th>count</th>\n",
       "      <th>sum</th>\n",
       "      <th>&lt;lambda_0&gt;</th>\n",
       "    </tr>\n",
       "    <tr>\n",
       "      <th>family_status_id</th>\n",
       "      <th></th>\n",
       "      <th></th>\n",
       "      <th></th>\n",
       "    </tr>\n",
       "  </thead>\n",
       "  <tbody>\n",
       "    <tr>\n",
       "      <th>0</th>\n",
       "      <td>12254</td>\n",
       "      <td>925</td>\n",
       "      <td>7.55%</td>\n",
       "    </tr>\n",
       "    <tr>\n",
       "      <th>1</th>\n",
       "      <td>4129</td>\n",
       "      <td>385</td>\n",
       "      <td>9.32%</td>\n",
       "    </tr>\n",
       "    <tr>\n",
       "      <th>2</th>\n",
       "      <td>954</td>\n",
       "      <td>63</td>\n",
       "      <td>6.60%</td>\n",
       "    </tr>\n",
       "    <tr>\n",
       "      <th>3</th>\n",
       "      <td>1192</td>\n",
       "      <td>84</td>\n",
       "      <td>7.05%</td>\n",
       "    </tr>\n",
       "    <tr>\n",
       "      <th>4</th>\n",
       "      <td>2799</td>\n",
       "      <td>272</td>\n",
       "      <td>9.72%</td>\n",
       "    </tr>\n",
       "  </tbody>\n",
       "</table>\n",
       "</div>"
      ],
      "text/plain": [
       "                  count  sum <lambda_0>\n",
       "family_status_id                       \n",
       "0                 12254  925     7.55% \n",
       "1                  4129  385     9.32% \n",
       "2                   954   63     6.60% \n",
       "3                  1192   84     7.05% \n",
       "4                  2799  272     9.72% "
      ]
     },
     "metadata": {},
     "output_type": "display_data"
    },
    {
     "name": "stdout",
     "output_type": "stream",
     "text": [
      "\n",
      "\n",
      "Заменяю численные значения по ключу словаря:\n"
     ]
    },
    {
     "data": {
      "text/html": [
       "<div>\n",
       "<style scoped>\n",
       "    .dataframe tbody tr th:only-of-type {\n",
       "        vertical-align: middle;\n",
       "    }\n",
       "\n",
       "    .dataframe tbody tr th {\n",
       "        vertical-align: top;\n",
       "    }\n",
       "\n",
       "    .dataframe thead th {\n",
       "        text-align: right;\n",
       "    }\n",
       "</style>\n",
       "<table border=\"1\" class=\"dataframe\">\n",
       "  <thead>\n",
       "    <tr style=\"text-align: right;\">\n",
       "      <th></th>\n",
       "      <th>family_status_id</th>\n",
       "      <th>count</th>\n",
       "      <th>sum</th>\n",
       "      <th>&lt;lambda_0&gt;</th>\n",
       "    </tr>\n",
       "  </thead>\n",
       "  <tbody>\n",
       "    <tr>\n",
       "      <th>0</th>\n",
       "      <td>женат / замужем</td>\n",
       "      <td>12254</td>\n",
       "      <td>925</td>\n",
       "      <td>7.55%</td>\n",
       "    </tr>\n",
       "    <tr>\n",
       "      <th>1</th>\n",
       "      <td>гражданский брак</td>\n",
       "      <td>4129</td>\n",
       "      <td>385</td>\n",
       "      <td>9.32%</td>\n",
       "    </tr>\n",
       "    <tr>\n",
       "      <th>2</th>\n",
       "      <td>вдовец / вдова</td>\n",
       "      <td>954</td>\n",
       "      <td>63</td>\n",
       "      <td>6.60%</td>\n",
       "    </tr>\n",
       "    <tr>\n",
       "      <th>3</th>\n",
       "      <td>в разводе</td>\n",
       "      <td>1192</td>\n",
       "      <td>84</td>\n",
       "      <td>7.05%</td>\n",
       "    </tr>\n",
       "    <tr>\n",
       "      <th>4</th>\n",
       "      <td>Не женат / не замужем</td>\n",
       "      <td>2799</td>\n",
       "      <td>272</td>\n",
       "      <td>9.72%</td>\n",
       "    </tr>\n",
       "  </tbody>\n",
       "</table>\n",
       "</div>"
      ],
      "text/plain": [
       "        family_status_id  count  sum <lambda_0>\n",
       "0        женат / замужем  12254  925     7.55% \n",
       "1       гражданский брак   4129  385     9.32% \n",
       "2         вдовец / вдова    954   63     6.60% \n",
       "3              в разводе   1192   84     7.05% \n",
       "4  Не женат / не замужем   2799  272     9.72% "
      ]
     },
     "execution_count": 39,
     "metadata": {},
     "output_type": "execute_result"
    }
   ],
   "source": [
    "print('Создаю словарь:')\n",
    "family_dict = bank_data[['family_status_id', 'family_status']]\n",
    "family_dict = family_dict.drop_duplicates().reset_index(drop=True)\n",
    "display(family_dict)\n",
    "\n",
    "print('\\n\\nСгруппированная таблица. Беру по id, другой столбец удалила:')\n",
    "a = bank_data.groupby('family_status_id')['debt'].agg(['count', 'sum', lambda x: '{:.2%} '.format(x.mean())])\n",
    "display(a)\n",
    "\n",
    "print('\\n\\nЗаменяю численные значения по ключу словаря:')\n",
    "a.reset_index().replace({'family_status_id': family_dict.family_status.to_dict()})"
   ]
  },
  {
   "cell_type": "markdown",
   "metadata": {},
   "source": [
    "**Вывод**"
   ]
  },
  {
   "cell_type": "markdown",
   "metadata": {},
   "source": [
    "Согласно таблице заемщики,не состоящие в официальном браке или состоящие в глажданском браке, чаще склонны к задолженностям, чем другие группы."
   ]
  },
  {
   "cell_type": "markdown",
   "metadata": {},
   "source": [
    "- Есть ли зависимость между уровнем дохода и возвратом кредита в срок?"
   ]
  },
  {
   "cell_type": "code",
   "execution_count": 40,
   "metadata": {},
   "outputs": [
    {
     "data": {
      "text/html": [
       "<div>\n",
       "<style scoped>\n",
       "    .dataframe tbody tr th:only-of-type {\n",
       "        vertical-align: middle;\n",
       "    }\n",
       "\n",
       "    .dataframe tbody tr th {\n",
       "        vertical-align: top;\n",
       "    }\n",
       "\n",
       "    .dataframe thead th {\n",
       "        text-align: right;\n",
       "    }\n",
       "</style>\n",
       "<table border=\"1\" class=\"dataframe\">\n",
       "  <thead>\n",
       "    <tr style=\"text-align: right;\">\n",
       "      <th></th>\n",
       "      <th>debt</th>\n",
       "    </tr>\n",
       "    <tr>\n",
       "      <th>income_category</th>\n",
       "      <th></th>\n",
       "    </tr>\n",
       "  </thead>\n",
       "  <tbody>\n",
       "    <tr>\n",
       "      <th>Высокий</th>\n",
       "      <td>0.076815</td>\n",
       "    </tr>\n",
       "    <tr>\n",
       "      <th>Низкий</th>\n",
       "      <td>0.061995</td>\n",
       "    </tr>\n",
       "    <tr>\n",
       "      <th>Средний</th>\n",
       "      <td>0.085561</td>\n",
       "    </tr>\n",
       "  </tbody>\n",
       "</table>\n",
       "</div>"
      ],
      "text/plain": [
       "                     debt\n",
       "income_category          \n",
       "Высокий          0.076815\n",
       "Низкий           0.061995\n",
       "Средний          0.085561"
      ]
     },
     "execution_count": 40,
     "metadata": {},
     "output_type": "execute_result"
    }
   ],
   "source": [
    "pivot_income_debt"
   ]
  },
  {
   "cell_type": "code",
   "execution_count": 41,
   "metadata": {},
   "outputs": [
    {
     "name": "stdout",
     "output_type": "stream",
     "text": [
      "Самые ненадежные заемщики это люди с уровнем дохода \"Средний\", процент невозвратов для них состовляет 8.56%\n",
      "Самые надежные заемщики это люди с уровнем дохода \"Низкий\", процент невозвратов для них состовляет 6.20%\n"
     ]
    }
   ],
   "source": [
    "print('Самые ненадежные заемщики это люди с уровнем дохода \"{0}\", процент невозвратов для них состовляет {1:.2%}'.format(pivot_income_debt.idxmax()[0],pivot_income_debt.max()[0]))\n",
    "print('Самые надежные заемщики это люди с уровнем дохода \"{0}\", процент невозвратов для них состовляет {1:.2%}'.format(pivot_income_debt.idxmin()[0],pivot_income_debt.min()[0]))\n"
   ]
  },
  {
   "cell_type": "markdown",
   "metadata": {},
   "source": [
    "**Вывод**"
   ]
  },
  {
   "cell_type": "markdown",
   "metadata": {},
   "source": [
    "Люди с низким доходом отдают кредит в срок чаще, чем остальные группы."
   ]
  },
  {
   "cell_type": "markdown",
   "metadata": {},
   "source": [
    "- Как разные цели кредита влияют на его возврат в срок?"
   ]
  },
  {
   "cell_type": "code",
   "execution_count": 42,
   "metadata": {},
   "outputs": [
    {
     "data": {
      "text/html": [
       "<div>\n",
       "<style scoped>\n",
       "    .dataframe tbody tr th:only-of-type {\n",
       "        vertical-align: middle;\n",
       "    }\n",
       "\n",
       "    .dataframe tbody tr th {\n",
       "        vertical-align: top;\n",
       "    }\n",
       "\n",
       "    .dataframe thead th {\n",
       "        text-align: right;\n",
       "    }\n",
       "</style>\n",
       "<table border=\"1\" class=\"dataframe\">\n",
       "  <thead>\n",
       "    <tr style=\"text-align: right;\">\n",
       "      <th></th>\n",
       "      <th>debt</th>\n",
       "    </tr>\n",
       "    <tr>\n",
       "      <th>purpose_category</th>\n",
       "      <th></th>\n",
       "    </tr>\n",
       "  </thead>\n",
       "  <tbody>\n",
       "    <tr>\n",
       "      <th>Оплата обучения</th>\n",
       "      <td>0.092481</td>\n",
       "    </tr>\n",
       "    <tr>\n",
       "      <th>Покупка автомобиля</th>\n",
       "      <td>0.093502</td>\n",
       "    </tr>\n",
       "    <tr>\n",
       "      <th>Покупка недвижимости</th>\n",
       "      <td>0.073147</td>\n",
       "    </tr>\n",
       "    <tr>\n",
       "      <th>Проведение мероприятий</th>\n",
       "      <td>0.079186</td>\n",
       "    </tr>\n",
       "    <tr>\n",
       "      <th>Ремонт недвижимости</th>\n",
       "      <td>0.057851</td>\n",
       "    </tr>\n",
       "  </tbody>\n",
       "</table>\n",
       "</div>"
      ],
      "text/plain": [
       "                            debt\n",
       "purpose_category                \n",
       "Оплата обучения         0.092481\n",
       "Покупка автомобиля      0.093502\n",
       "Покупка недвижимости    0.073147\n",
       "Проведение мероприятий  0.079186\n",
       "Ремонт недвижимости     0.057851"
      ]
     },
     "execution_count": 42,
     "metadata": {},
     "output_type": "execute_result"
    }
   ],
   "source": [
    "pivot_purpose_debt"
   ]
  },
  {
   "cell_type": "code",
   "execution_count": 43,
   "metadata": {},
   "outputs": [
    {
     "name": "stdout",
     "output_type": "stream",
     "text": [
      "Самые ненадежные заемщики это люди, берущие кредиты на \"Покупка автомобиля\", процент невозвратов для них состовляет 9.35%\n",
      "Самые надежные заемщики это люди, берущие кредиты на \"Ремонт недвижимости\", процент невозвратов для них состовляет 5.79%\n"
     ]
    }
   ],
   "source": [
    "print('Самые ненадежные заемщики это люди, берущие кредиты на \"{0}\", процент невозвратов для них состовляет {1:.2%}'.format(pivot_purpose_debt.idxmax()[0],pivot_purpose_debt.max()[0]))\n",
    "print('Самые надежные заемщики это люди, берущие кредиты на \"{0}\", процент невозвратов для них состовляет {1:.2%}'.format(pivot_purpose_debt.idxmin()[0],pivot_purpose_debt.min()[0]))\n"
   ]
  },
  {
   "cell_type": "markdown",
   "metadata": {},
   "source": [
    "**Вывод**"
   ]
  },
  {
   "cell_type": "markdown",
   "metadata": {},
   "source": [
    "Разница не очень большая, но покупка автомобиля и оплата обучения чаще приводят к задолженностям по кредиту. "
   ]
  },
  {
   "cell_type": "markdown",
   "metadata": {},
   "source": [
    "## Шаг 4. Общий вывод"
   ]
  },
  {
   "cell_type": "code",
   "execution_count": 44,
   "metadata": {},
   "outputs": [
    {
     "data": {
      "text/html": [
       "<div>\n",
       "<style scoped>\n",
       "    .dataframe tbody tr th:only-of-type {\n",
       "        vertical-align: middle;\n",
       "    }\n",
       "\n",
       "    .dataframe tbody tr th {\n",
       "        vertical-align: top;\n",
       "    }\n",
       "\n",
       "    .dataframe thead th {\n",
       "        text-align: right;\n",
       "    }\n",
       "</style>\n",
       "<table border=\"1\" class=\"dataframe\">\n",
       "  <thead>\n",
       "    <tr style=\"text-align: right;\">\n",
       "      <th></th>\n",
       "      <th></th>\n",
       "      <th>debt</th>\n",
       "    </tr>\n",
       "    <tr>\n",
       "      <th>years_category</th>\n",
       "      <th>family_status</th>\n",
       "      <th></th>\n",
       "    </tr>\n",
       "  </thead>\n",
       "  <tbody>\n",
       "    <tr>\n",
       "      <th rowspan=\"3\" valign=\"top\">от 0 до 25</th>\n",
       "      <th>вдовец / вдова</th>\n",
       "      <td>0.166667</td>\n",
       "    </tr>\n",
       "    <tr>\n",
       "      <th>в разводе</th>\n",
       "      <td>0.125000</td>\n",
       "    </tr>\n",
       "    <tr>\n",
       "      <th>Не женат / не замужем</th>\n",
       "      <td>0.118609</td>\n",
       "    </tr>\n",
       "    <tr>\n",
       "      <th rowspan=\"2\" valign=\"top\">от 25 до 50</th>\n",
       "      <th>гражданский брак</th>\n",
       "      <td>0.103896</td>\n",
       "    </tr>\n",
       "    <tr>\n",
       "      <th>Не женат / не замужем</th>\n",
       "      <td>0.103347</td>\n",
       "    </tr>\n",
       "    <tr>\n",
       "      <th rowspan=\"2\" valign=\"top\">от 0 до 25</th>\n",
       "      <th>гражданский брак</th>\n",
       "      <td>0.095679</td>\n",
       "    </tr>\n",
       "    <tr>\n",
       "      <th>женат / замужем</th>\n",
       "      <td>0.094538</td>\n",
       "    </tr>\n",
       "    <tr>\n",
       "      <th rowspan=\"3\" valign=\"top\">от 25 до 50</th>\n",
       "      <th>женат / замужем</th>\n",
       "      <td>0.085064</td>\n",
       "    </tr>\n",
       "    <tr>\n",
       "      <th>в разводе</th>\n",
       "      <td>0.076087</td>\n",
       "    </tr>\n",
       "    <tr>\n",
       "      <th>вдовец / вдова</th>\n",
       "      <td>0.074257</td>\n",
       "    </tr>\n",
       "    <tr>\n",
       "      <th rowspan=\"5\" valign=\"top\">от 50 и старше</th>\n",
       "      <th>гражданский брак</th>\n",
       "      <td>0.066667</td>\n",
       "    </tr>\n",
       "    <tr>\n",
       "      <th>вдовец / вдова</th>\n",
       "      <td>0.063003</td>\n",
       "    </tr>\n",
       "    <tr>\n",
       "      <th>Не женат / не замужем</th>\n",
       "      <td>0.062603</td>\n",
       "    </tr>\n",
       "    <tr>\n",
       "      <th>в разводе</th>\n",
       "      <td>0.056604</td>\n",
       "    </tr>\n",
       "    <tr>\n",
       "      <th>женат / замужем</th>\n",
       "      <td>0.052448</td>\n",
       "    </tr>\n",
       "  </tbody>\n",
       "</table>\n",
       "</div>"
      ],
      "text/plain": [
       "                                          debt\n",
       "years_category family_status                  \n",
       "от 0 до 25     вдовец / вдова         0.166667\n",
       "               в разводе              0.125000\n",
       "               Не женат / не замужем  0.118609\n",
       "от 25 до 50    гражданский брак       0.103896\n",
       "               Не женат / не замужем  0.103347\n",
       "от 0 до 25     гражданский брак       0.095679\n",
       "               женат / замужем        0.094538\n",
       "от 25 до 50    женат / замужем        0.085064\n",
       "               в разводе              0.076087\n",
       "               вдовец / вдова         0.074257\n",
       "от 50 и старше гражданский брак       0.066667\n",
       "               вдовец / вдова         0.063003\n",
       "               Не женат / не замужем  0.062603\n",
       "               в разводе              0.056604\n",
       "               женат / замужем        0.052448"
      ]
     },
     "execution_count": 44,
     "metadata": {},
     "output_type": "execute_result"
    }
   ],
   "source": [
    "pivot_years_debt = bank_data.pivot_table(values = ['debt'], aggfunc = 'mean', index = ['years_category', 'family_status'], fill_value=0)\n",
    "pivot_years_debt.sort_values(by=['debt'], ascending=False)"
   ]
  },
  {
   "cell_type": "markdown",
   "metadata": {},
   "source": [
    "Я решила сопоставить возраст и семейное положение заемщиков и вот что получилось: люди до 50 лет, не состоящие в официальном браке - наиболее неподходящая для одобрения кредита группа граждан. Наличие детей не влияет на погашение кредита в срок, в отличие от наличия законного супруга(супруги)."
   ]
  },
  {
   "cell_type": "code",
   "execution_count": null,
   "metadata": {},
   "outputs": [],
   "source": []
  }
 ],
 "metadata": {
  "ExecuteTimeLog": [
   {
    "duration": 627,
    "start_time": "2021-07-05T12:28:26.687Z"
   },
   {
    "duration": 63,
    "start_time": "2021-07-05T12:28:41.913Z"
   },
   {
    "duration": 50,
    "start_time": "2021-07-05T12:50:16.820Z"
   },
   {
    "duration": 54,
    "start_time": "2021-07-05T12:56:22.601Z"
   },
   {
    "duration": 51,
    "start_time": "2021-07-05T12:57:43.636Z"
   },
   {
    "duration": 9,
    "start_time": "2021-07-05T12:57:51.529Z"
   },
   {
    "duration": 57,
    "start_time": "2021-07-05T12:58:08.579Z"
   },
   {
    "duration": 9,
    "start_time": "2021-07-05T12:58:25.834Z"
   },
   {
    "duration": 10,
    "start_time": "2021-07-05T13:04:34.650Z"
   },
   {
    "duration": 295,
    "start_time": "2021-07-05T13:05:22.398Z"
   },
   {
    "duration": 7,
    "start_time": "2021-07-05T13:11:15.565Z"
   },
   {
    "duration": 7,
    "start_time": "2021-07-05T13:11:39.233Z"
   },
   {
    "duration": 5,
    "start_time": "2021-07-05T13:12:28.222Z"
   },
   {
    "duration": 668,
    "start_time": "2021-07-06T05:31:07.575Z"
   },
   {
    "duration": 19,
    "start_time": "2021-07-06T05:31:13.275Z"
   },
   {
    "duration": 6,
    "start_time": "2021-07-06T05:31:38.329Z"
   },
   {
    "duration": 6,
    "start_time": "2021-07-06T05:31:43.587Z"
   },
   {
    "duration": 233,
    "start_time": "2021-07-06T05:31:57.807Z"
   },
   {
    "duration": 173,
    "start_time": "2021-07-06T05:32:07.567Z"
   },
   {
    "duration": 192,
    "start_time": "2021-07-06T05:32:12.720Z"
   },
   {
    "duration": 180,
    "start_time": "2021-07-06T05:32:24.294Z"
   },
   {
    "duration": 209,
    "start_time": "2021-07-06T05:32:27.940Z"
   },
   {
    "duration": 7,
    "start_time": "2021-07-06T05:32:39.419Z"
   },
   {
    "duration": 6,
    "start_time": "2021-07-06T05:32:59.858Z"
   },
   {
    "duration": 6,
    "start_time": "2021-07-06T05:33:03.854Z"
   },
   {
    "duration": 6,
    "start_time": "2021-07-06T05:33:51.065Z"
   },
   {
    "duration": 5,
    "start_time": "2021-07-06T05:33:58.481Z"
   },
   {
    "duration": 5,
    "start_time": "2021-07-06T05:34:12.754Z"
   },
   {
    "duration": 5,
    "start_time": "2021-07-06T05:34:21.788Z"
   },
   {
    "duration": 5,
    "start_time": "2021-07-06T05:34:24.550Z"
   },
   {
    "duration": 5,
    "start_time": "2021-07-06T05:35:23.656Z"
   },
   {
    "duration": 197,
    "start_time": "2021-07-06T05:35:27.403Z"
   },
   {
    "duration": 5,
    "start_time": "2021-07-06T05:36:10.909Z"
   },
   {
    "duration": 6,
    "start_time": "2021-07-06T05:36:32.277Z"
   },
   {
    "duration": 5,
    "start_time": "2021-07-06T05:36:49.754Z"
   },
   {
    "duration": 5,
    "start_time": "2021-07-06T05:36:52.932Z"
   },
   {
    "duration": 6,
    "start_time": "2021-07-06T05:37:22.894Z"
   },
   {
    "duration": 5,
    "start_time": "2021-07-06T05:37:28.452Z"
   },
   {
    "duration": 5,
    "start_time": "2021-07-06T05:37:31.306Z"
   },
   {
    "duration": 5,
    "start_time": "2021-07-06T05:37:35.211Z"
   },
   {
    "duration": 4,
    "start_time": "2021-07-06T05:37:53.715Z"
   },
   {
    "duration": 4,
    "start_time": "2021-07-06T05:37:59.313Z"
   },
   {
    "duration": 11,
    "start_time": "2021-07-06T05:38:11.887Z"
   },
   {
    "duration": 5,
    "start_time": "2021-07-06T05:38:31.669Z"
   },
   {
    "duration": 8,
    "start_time": "2021-07-06T05:38:34.991Z"
   },
   {
    "duration": 6,
    "start_time": "2021-07-06T05:38:42.009Z"
   },
   {
    "duration": 5,
    "start_time": "2021-07-06T05:39:11.275Z"
   },
   {
    "duration": 182,
    "start_time": "2021-07-06T05:40:23.707Z"
   },
   {
    "duration": 8,
    "start_time": "2021-07-06T05:40:45.631Z"
   },
   {
    "duration": 36,
    "start_time": "2021-07-06T05:40:56.031Z"
   },
   {
    "duration": 9,
    "start_time": "2021-07-06T05:41:03.062Z"
   },
   {
    "duration": 12,
    "start_time": "2021-07-06T05:41:05.526Z"
   },
   {
    "duration": 22,
    "start_time": "2021-07-06T05:41:23.340Z"
   },
   {
    "duration": 18,
    "start_time": "2021-07-06T05:41:28.481Z"
   },
   {
    "duration": 7,
    "start_time": "2021-07-06T05:41:52.289Z"
   },
   {
    "duration": 7,
    "start_time": "2021-07-06T05:42:05.167Z"
   },
   {
    "duration": 7,
    "start_time": "2021-07-06T05:43:28.772Z"
   },
   {
    "duration": 5,
    "start_time": "2021-07-06T05:43:33.744Z"
   },
   {
    "duration": 5,
    "start_time": "2021-07-06T05:43:51.726Z"
   },
   {
    "duration": 6,
    "start_time": "2021-07-06T05:44:02.049Z"
   },
   {
    "duration": 5,
    "start_time": "2021-07-06T05:44:17.224Z"
   },
   {
    "duration": 5,
    "start_time": "2021-07-06T05:44:20.986Z"
   },
   {
    "duration": 5,
    "start_time": "2021-07-06T05:44:39.503Z"
   },
   {
    "duration": 175,
    "start_time": "2021-07-06T05:44:55.803Z"
   },
   {
    "duration": 182,
    "start_time": "2021-07-06T05:44:59.410Z"
   },
   {
    "duration": 6,
    "start_time": "2021-07-06T05:45:05.847Z"
   },
   {
    "duration": 5,
    "start_time": "2021-07-06T05:45:09.274Z"
   },
   {
    "duration": 6,
    "start_time": "2021-07-06T05:45:15.838Z"
   },
   {
    "duration": 8,
    "start_time": "2021-07-06T05:45:21.691Z"
   },
   {
    "duration": 6,
    "start_time": "2021-07-06T05:45:28.726Z"
   },
   {
    "duration": 5,
    "start_time": "2021-07-06T05:45:42.716Z"
   },
   {
    "duration": 6,
    "start_time": "2021-07-06T05:45:57.393Z"
   },
   {
    "duration": 6,
    "start_time": "2021-07-06T05:46:05.377Z"
   },
   {
    "duration": 6,
    "start_time": "2021-07-06T05:46:20.496Z"
   },
   {
    "duration": 5,
    "start_time": "2021-07-06T05:46:27.135Z"
   },
   {
    "duration": 22,
    "start_time": "2021-07-06T05:46:47.753Z"
   },
   {
    "duration": 23,
    "start_time": "2021-07-06T05:46:54.816Z"
   },
   {
    "duration": 13,
    "start_time": "2021-07-06T05:46:59.444Z"
   },
   {
    "duration": 14,
    "start_time": "2021-07-06T05:47:03.883Z"
   },
   {
    "duration": 26,
    "start_time": "2021-07-06T05:47:21.078Z"
   },
   {
    "duration": 10,
    "start_time": "2021-07-06T05:47:30.119Z"
   },
   {
    "duration": 8,
    "start_time": "2021-07-06T05:47:36.187Z"
   },
   {
    "duration": 12,
    "start_time": "2021-07-06T05:47:39.802Z"
   },
   {
    "duration": 211,
    "start_time": "2021-07-06T05:48:14.336Z"
   },
   {
    "duration": 31,
    "start_time": "2021-07-06T05:48:25.705Z"
   },
   {
    "duration": 5,
    "start_time": "2021-07-06T05:48:49.043Z"
   },
   {
    "duration": 5,
    "start_time": "2021-07-06T05:49:00.226Z"
   },
   {
    "duration": 5,
    "start_time": "2021-07-06T05:49:04.303Z"
   },
   {
    "duration": 8516,
    "start_time": "2021-07-06T05:49:12.344Z"
   },
   {
    "duration": 21,
    "start_time": "2021-07-06T05:49:25.167Z"
   },
   {
    "duration": 19,
    "start_time": "2021-07-06T05:49:32.132Z"
   },
   {
    "duration": 30,
    "start_time": "2021-07-06T05:49:56.429Z"
   },
   {
    "duration": 28,
    "start_time": "2021-07-06T05:50:05.304Z"
   },
   {
    "duration": 22,
    "start_time": "2021-07-06T05:50:10.722Z"
   },
   {
    "duration": 26,
    "start_time": "2021-07-06T05:50:15.076Z"
   },
   {
    "duration": 25,
    "start_time": "2021-07-06T05:50:40.421Z"
   },
   {
    "duration": 22,
    "start_time": "2021-07-06T05:50:52.497Z"
   },
   {
    "duration": 11,
    "start_time": "2021-07-06T05:50:56.815Z"
   },
   {
    "duration": 9,
    "start_time": "2021-07-06T05:51:32.479Z"
   },
   {
    "duration": 8,
    "start_time": "2021-07-06T05:52:27.087Z"
   },
   {
    "duration": 11,
    "start_time": "2021-07-06T05:52:32.402Z"
   },
   {
    "duration": 454,
    "start_time": "2021-07-06T10:59:22.408Z"
   },
   {
    "duration": 338,
    "start_time": "2021-07-06T10:59:33.246Z"
   },
   {
    "duration": 891,
    "start_time": "2021-07-06T10:59:48.746Z"
   },
   {
    "duration": 15,
    "start_time": "2021-07-06T10:59:54.170Z"
   },
   {
    "duration": 8,
    "start_time": "2021-07-06T11:00:00.432Z"
   },
   {
    "duration": 34,
    "start_time": "2021-07-06T11:08:42.735Z"
   },
   {
    "duration": 41,
    "start_time": "2021-07-06T11:09:25.214Z"
   },
   {
    "duration": 38,
    "start_time": "2021-07-06T11:22:09.745Z"
   },
   {
    "duration": 4,
    "start_time": "2021-07-06T11:22:54.928Z"
   },
   {
    "duration": 4,
    "start_time": "2021-07-06T11:22:59.248Z"
   },
   {
    "duration": 37,
    "start_time": "2021-07-06T11:23:06.369Z"
   },
   {
    "duration": 13,
    "start_time": "2021-07-06T11:23:21.802Z"
   },
   {
    "duration": 14,
    "start_time": "2021-07-06T11:23:28.755Z"
   },
   {
    "duration": 13,
    "start_time": "2021-07-06T11:23:37.741Z"
   },
   {
    "duration": 12,
    "start_time": "2021-07-06T11:23:47.435Z"
   },
   {
    "duration": 5,
    "start_time": "2021-07-06T11:23:55.261Z"
   },
   {
    "duration": 11,
    "start_time": "2021-07-06T11:24:12.833Z"
   },
   {
    "duration": 7,
    "start_time": "2021-07-06T11:24:28.808Z"
   },
   {
    "duration": 4,
    "start_time": "2021-07-06T11:25:37.768Z"
   },
   {
    "duration": 12,
    "start_time": "2021-07-06T11:25:47.749Z"
   },
   {
    "duration": 5,
    "start_time": "2021-07-06T11:31:00.411Z"
   },
   {
    "duration": 34,
    "start_time": "2021-07-06T11:31:13.131Z"
   },
   {
    "duration": 9,
    "start_time": "2021-07-06T11:31:25.237Z"
   },
   {
    "duration": 14,
    "start_time": "2021-07-06T11:31:37.074Z"
   },
   {
    "duration": 379,
    "start_time": "2021-07-06T11:33:17.925Z"
   },
   {
    "duration": 25,
    "start_time": "2021-07-06T11:33:45.082Z"
   },
   {
    "duration": 27,
    "start_time": "2021-07-06T11:34:15.389Z"
   },
   {
    "duration": 6,
    "start_time": "2021-07-06T11:38:36.523Z"
   },
   {
    "duration": 5,
    "start_time": "2021-07-06T11:40:44.687Z"
   },
   {
    "duration": 23,
    "start_time": "2021-07-06T11:41:02.624Z"
   },
   {
    "duration": 16,
    "start_time": "2021-07-06T11:45:35.758Z"
   },
   {
    "duration": 5,
    "start_time": "2021-07-06T12:27:44.194Z"
   },
   {
    "duration": 16,
    "start_time": "2021-07-06T12:28:07.153Z"
   },
   {
    "duration": 7,
    "start_time": "2021-07-06T12:32:37.773Z"
   },
   {
    "duration": 21,
    "start_time": "2021-07-06T12:32:49.826Z"
   },
   {
    "duration": 363,
    "start_time": "2021-07-06T12:40:51.240Z"
   },
   {
    "duration": 8,
    "start_time": "2021-07-06T12:40:58.160Z"
   },
   {
    "duration": 6,
    "start_time": "2021-07-06T12:43:15.793Z"
   },
   {
    "duration": 6,
    "start_time": "2021-07-06T12:43:20.654Z"
   },
   {
    "duration": 24,
    "start_time": "2021-07-06T12:43:22.339Z"
   },
   {
    "duration": 6,
    "start_time": "2021-07-06T12:44:10.865Z"
   },
   {
    "duration": 7,
    "start_time": "2021-07-06T12:44:12.128Z"
   },
   {
    "duration": 15,
    "start_time": "2021-07-06T12:44:13.012Z"
   },
   {
    "duration": 24,
    "start_time": "2021-07-06T12:47:58.377Z"
   },
   {
    "duration": 24,
    "start_time": "2021-07-06T12:48:10.322Z"
   },
   {
    "duration": 11,
    "start_time": "2021-07-06T12:52:42.508Z"
   },
   {
    "duration": 9,
    "start_time": "2021-07-06T12:53:41.698Z"
   },
   {
    "duration": 14,
    "start_time": "2021-07-06T12:53:59.861Z"
   },
   {
    "duration": 332,
    "start_time": "2021-07-06T12:56:47.690Z"
   },
   {
    "duration": 23,
    "start_time": "2021-07-06T12:56:53.517Z"
   },
   {
    "duration": 24,
    "start_time": "2021-07-06T12:57:52.757Z"
   },
   {
    "duration": 122,
    "start_time": "2021-07-06T12:58:20.317Z"
   },
   {
    "duration": 21,
    "start_time": "2021-07-06T12:58:25.875Z"
   },
   {
    "duration": 29,
    "start_time": "2021-07-06T12:58:57.485Z"
   },
   {
    "duration": 305,
    "start_time": "2021-07-06T13:52:58.109Z"
   },
   {
    "duration": 353,
    "start_time": "2021-07-06T13:53:21.442Z"
   },
   {
    "duration": 345,
    "start_time": "2021-07-06T13:53:42.395Z"
   },
   {
    "duration": 332,
    "start_time": "2021-07-06T13:54:18.621Z"
   },
   {
    "duration": 348,
    "start_time": "2021-07-06T13:54:58.354Z"
   },
   {
    "duration": 53,
    "start_time": "2021-07-06T14:03:10.115Z"
   },
   {
    "duration": 26,
    "start_time": "2021-07-06T14:04:28.217Z"
   },
   {
    "duration": 27,
    "start_time": "2021-07-06T14:04:41.845Z"
   },
   {
    "duration": 52,
    "start_time": "2021-07-06T14:10:11.048Z"
   },
   {
    "duration": 56,
    "start_time": "2021-07-06T14:10:46.572Z"
   },
   {
    "duration": 24,
    "start_time": "2021-07-06T14:11:00.267Z"
   },
   {
    "duration": 22,
    "start_time": "2021-07-06T14:11:52.462Z"
   },
   {
    "duration": 25,
    "start_time": "2021-07-06T14:11:56.164Z"
   },
   {
    "duration": 23,
    "start_time": "2021-07-06T14:11:57.776Z"
   },
   {
    "duration": 22,
    "start_time": "2021-07-06T14:12:30.463Z"
   },
   {
    "duration": 25,
    "start_time": "2021-07-06T14:12:33.388Z"
   },
   {
    "duration": 25,
    "start_time": "2021-07-06T14:12:34.864Z"
   },
   {
    "duration": 21,
    "start_time": "2021-07-06T14:13:57.777Z"
   },
   {
    "duration": 23,
    "start_time": "2021-07-06T14:14:03.058Z"
   },
   {
    "duration": 14,
    "start_time": "2021-07-06T14:14:06.720Z"
   },
   {
    "duration": 23,
    "start_time": "2021-07-06T14:14:09.842Z"
   },
   {
    "duration": 952,
    "start_time": "2021-07-06T14:14:46.066Z"
   },
   {
    "duration": 14,
    "start_time": "2021-07-06T14:14:47.021Z"
   },
   {
    "duration": 46,
    "start_time": "2021-07-06T14:14:47.038Z"
   },
   {
    "duration": 26,
    "start_time": "2021-07-06T14:14:47.086Z"
   },
   {
    "duration": 10,
    "start_time": "2021-07-06T14:14:47.114Z"
   },
   {
    "duration": 28,
    "start_time": "2021-07-06T14:14:47.126Z"
   },
   {
    "duration": 5,
    "start_time": "2021-07-06T14:14:47.157Z"
   },
   {
    "duration": 6,
    "start_time": "2021-07-06T14:14:47.166Z"
   },
   {
    "duration": 49,
    "start_time": "2021-07-06T14:14:47.174Z"
   },
   {
    "duration": 24,
    "start_time": "2021-07-06T14:14:47.226Z"
   },
   {
    "duration": 50,
    "start_time": "2021-07-06T14:16:00.214Z"
   },
   {
    "duration": 23,
    "start_time": "2021-07-06T14:17:00.726Z"
   },
   {
    "duration": 25,
    "start_time": "2021-07-06T14:17:13.942Z"
   },
   {
    "duration": 509,
    "start_time": "2021-07-07T10:20:53.813Z"
   },
   {
    "duration": 248,
    "start_time": "2021-07-07T10:21:19.369Z"
   },
   {
    "duration": 220,
    "start_time": "2021-07-07T10:21:52.040Z"
   },
   {
    "duration": 238,
    "start_time": "2021-07-07T10:22:04.140Z"
   },
   {
    "duration": 248,
    "start_time": "2021-07-07T10:24:45.993Z"
   },
   {
    "duration": 239,
    "start_time": "2021-07-07T10:30:26.972Z"
   },
   {
    "duration": 226,
    "start_time": "2021-07-07T10:30:36.914Z"
   },
   {
    "duration": 776,
    "start_time": "2021-07-07T10:30:46.812Z"
   },
   {
    "duration": 10,
    "start_time": "2021-07-07T10:30:47.589Z"
   },
   {
    "duration": 22,
    "start_time": "2021-07-07T10:30:47.601Z"
   },
   {
    "duration": 3,
    "start_time": "2021-07-07T10:30:47.624Z"
   },
   {
    "duration": 7,
    "start_time": "2021-07-07T10:30:47.629Z"
   },
   {
    "duration": 19,
    "start_time": "2021-07-07T10:30:47.637Z"
   },
   {
    "duration": 7,
    "start_time": "2021-07-07T10:30:47.657Z"
   },
   {
    "duration": 10,
    "start_time": "2021-07-07T10:30:47.666Z"
   },
   {
    "duration": 24,
    "start_time": "2021-07-07T10:30:47.677Z"
   },
   {
    "duration": 13,
    "start_time": "2021-07-07T10:30:47.702Z"
   },
   {
    "duration": 27,
    "start_time": "2021-07-07T10:30:47.716Z"
   },
   {
    "duration": 14,
    "start_time": "2021-07-07T10:30:47.744Z"
   },
   {
    "duration": 43,
    "start_time": "2021-07-07T10:30:47.759Z"
   },
   {
    "duration": 284,
    "start_time": "2021-07-07T10:30:47.804Z"
   },
   {
    "duration": 237,
    "start_time": "2021-07-07T10:30:52.406Z"
   },
   {
    "duration": 239,
    "start_time": "2021-07-07T11:49:34.436Z"
   },
   {
    "duration": 1551,
    "start_time": "2021-07-07T11:52:38.481Z"
   },
   {
    "duration": 216,
    "start_time": "2021-07-07T11:55:47.334Z"
   },
   {
    "duration": 3253,
    "start_time": "2021-07-07T11:56:02.845Z"
   },
   {
    "duration": 3107,
    "start_time": "2021-07-07T11:56:06.393Z"
   },
   {
    "duration": 3158,
    "start_time": "2021-07-07T11:56:17.592Z"
   },
   {
    "duration": 3212,
    "start_time": "2021-07-07T11:56:53.570Z"
   },
   {
    "duration": 5082,
    "start_time": "2021-07-07T11:57:31.064Z"
   },
   {
    "duration": 3281,
    "start_time": "2021-07-07T11:57:44.346Z"
   },
   {
    "duration": 5782,
    "start_time": "2021-07-07T11:58:30.517Z"
   },
   {
    "duration": 3276,
    "start_time": "2021-07-07T11:58:43.133Z"
   },
   {
    "duration": 6,
    "start_time": "2021-07-07T12:01:15.485Z"
   },
   {
    "duration": 4,
    "start_time": "2021-07-07T12:02:52.242Z"
   },
   {
    "duration": 5,
    "start_time": "2021-07-07T12:02:59.839Z"
   },
   {
    "duration": 273,
    "start_time": "2021-07-07T12:03:36.170Z"
   },
   {
    "duration": 188,
    "start_time": "2021-07-08T13:05:24.091Z"
   },
   {
    "duration": 97,
    "start_time": "2021-07-08T13:05:36.613Z"
   },
   {
    "duration": 124,
    "start_time": "2021-07-08T13:05:56.803Z"
   },
   {
    "duration": 917,
    "start_time": "2021-07-08T13:06:05.307Z"
   },
   {
    "duration": 16,
    "start_time": "2021-07-08T13:06:06.226Z"
   },
   {
    "duration": 43,
    "start_time": "2021-07-08T13:06:06.245Z"
   },
   {
    "duration": 9,
    "start_time": "2021-07-08T13:06:06.309Z"
   },
   {
    "duration": 17,
    "start_time": "2021-07-08T13:06:06.320Z"
   },
   {
    "duration": 32,
    "start_time": "2021-07-08T13:06:06.340Z"
   },
   {
    "duration": 12,
    "start_time": "2021-07-08T13:06:06.374Z"
   },
   {
    "duration": 24,
    "start_time": "2021-07-08T13:06:06.390Z"
   },
   {
    "duration": 23,
    "start_time": "2021-07-08T13:06:06.417Z"
   },
   {
    "duration": 23,
    "start_time": "2021-07-08T13:06:06.442Z"
   },
   {
    "duration": 89,
    "start_time": "2021-07-08T13:06:06.467Z"
   },
   {
    "duration": 24,
    "start_time": "2021-07-08T13:06:06.559Z"
   },
   {
    "duration": 49,
    "start_time": "2021-07-08T13:06:06.585Z"
   },
   {
    "duration": 147,
    "start_time": "2021-07-08T13:06:06.637Z"
   },
   {
    "duration": 128,
    "start_time": "2021-07-08T13:06:11.618Z"
   },
   {
    "duration": 4744,
    "start_time": "2021-07-08T13:06:21.998Z"
   },
   {
    "duration": 3292,
    "start_time": "2021-07-08T13:11:20.984Z"
   },
   {
    "duration": 2566,
    "start_time": "2021-07-08T13:11:50.198Z"
   },
   {
    "duration": 827,
    "start_time": "2021-07-08T13:19:55.156Z"
   },
   {
    "duration": 23,
    "start_time": "2021-07-08T13:19:55.986Z"
   },
   {
    "duration": 57,
    "start_time": "2021-07-08T13:19:56.011Z"
   },
   {
    "duration": 6,
    "start_time": "2021-07-08T13:19:56.072Z"
   },
   {
    "duration": 7,
    "start_time": "2021-07-08T13:19:56.110Z"
   },
   {
    "duration": 46,
    "start_time": "2021-07-08T13:19:56.120Z"
   },
   {
    "duration": 5,
    "start_time": "2021-07-08T13:19:56.168Z"
   },
   {
    "duration": 8,
    "start_time": "2021-07-08T13:19:56.177Z"
   },
   {
    "duration": 16,
    "start_time": "2021-07-08T13:19:56.210Z"
   },
   {
    "duration": 23,
    "start_time": "2021-07-08T13:19:56.229Z"
   },
   {
    "duration": 78,
    "start_time": "2021-07-08T13:19:56.254Z"
   },
   {
    "duration": 22,
    "start_time": "2021-07-08T13:19:56.335Z"
   },
   {
    "duration": 26,
    "start_time": "2021-07-08T13:19:56.359Z"
   },
   {
    "duration": 24,
    "start_time": "2021-07-08T13:33:30.453Z"
   },
   {
    "duration": 10,
    "start_time": "2021-07-08T13:39:24.527Z"
   },
   {
    "duration": 110,
    "start_time": "2021-07-08T14:18:25.393Z"
   },
   {
    "duration": 154,
    "start_time": "2021-07-08T14:18:41.685Z"
   },
   {
    "duration": 1197,
    "start_time": "2021-07-08T16:40:16.587Z"
   },
   {
    "duration": 5170,
    "start_time": "2021-07-08T16:53:34.797Z"
   },
   {
    "duration": 5106,
    "start_time": "2021-07-08T16:55:51.836Z"
   },
   {
    "duration": 4909,
    "start_time": "2021-07-08T16:56:16.458Z"
   },
   {
    "duration": 345,
    "start_time": "2021-07-08T17:07:35.058Z"
   },
   {
    "duration": 299,
    "start_time": "2021-07-08T17:07:43.054Z"
   },
   {
    "duration": 585,
    "start_time": "2021-07-08T17:09:36.749Z"
   },
   {
    "duration": 4706,
    "start_time": "2021-07-08T17:11:56.682Z"
   },
   {
    "duration": 4823,
    "start_time": "2021-07-08T17:12:22.477Z"
   },
   {
    "duration": 4600,
    "start_time": "2021-07-08T17:12:46.792Z"
   },
   {
    "duration": 5413,
    "start_time": "2021-07-08T17:13:52.706Z"
   },
   {
    "duration": 5242,
    "start_time": "2021-07-08T17:15:19.731Z"
   },
   {
    "duration": 5025,
    "start_time": "2021-07-08T17:15:59.166Z"
   },
   {
    "duration": 5407,
    "start_time": "2021-07-08T17:16:08.813Z"
   },
   {
    "duration": 4861,
    "start_time": "2021-07-08T17:18:55.181Z"
   },
   {
    "duration": 4865,
    "start_time": "2021-07-08T17:19:08.293Z"
   },
   {
    "duration": 4640,
    "start_time": "2021-07-08T17:20:08.800Z"
   },
   {
    "duration": 4762,
    "start_time": "2021-07-08T17:30:26.728Z"
   },
   {
    "duration": 4023,
    "start_time": "2021-07-08T17:35:56.369Z"
   },
   {
    "duration": 4896,
    "start_time": "2021-07-08T17:46:42.988Z"
   },
   {
    "duration": 49,
    "start_time": "2021-07-08T17:47:53.282Z"
   },
   {
    "duration": 56,
    "start_time": "2021-07-08T17:48:14.792Z"
   },
   {
    "duration": 4183,
    "start_time": "2021-07-08T17:50:38.955Z"
   },
   {
    "duration": 4116,
    "start_time": "2021-07-08T17:51:47.842Z"
   },
   {
    "duration": 3723,
    "start_time": "2021-07-08T17:53:32.002Z"
   },
   {
    "duration": 3796,
    "start_time": "2021-07-08T17:54:17.626Z"
   },
   {
    "duration": 3728,
    "start_time": "2021-07-08T17:54:51.196Z"
   },
   {
    "duration": 1033,
    "start_time": "2021-07-08T17:56:32.396Z"
   },
   {
    "duration": 981,
    "start_time": "2021-07-08T17:56:38.348Z"
   },
   {
    "duration": 929,
    "start_time": "2021-07-08T17:57:43.442Z"
   },
   {
    "duration": 891,
    "start_time": "2021-07-08T17:58:13.757Z"
   },
   {
    "duration": 15,
    "start_time": "2021-07-08T17:58:14.651Z"
   },
   {
    "duration": 65,
    "start_time": "2021-07-08T17:58:14.669Z"
   },
   {
    "duration": 5,
    "start_time": "2021-07-08T17:58:14.736Z"
   },
   {
    "duration": 7,
    "start_time": "2021-07-08T17:58:14.743Z"
   },
   {
    "duration": 23,
    "start_time": "2021-07-08T17:58:14.752Z"
   },
   {
    "duration": 35,
    "start_time": "2021-07-08T17:58:14.778Z"
   },
   {
    "duration": 6,
    "start_time": "2021-07-08T17:58:14.817Z"
   },
   {
    "duration": 17,
    "start_time": "2021-07-08T17:58:14.827Z"
   },
   {
    "duration": 23,
    "start_time": "2021-07-08T17:58:14.847Z"
   },
   {
    "duration": 92,
    "start_time": "2021-07-08T17:58:14.873Z"
   },
   {
    "duration": 52,
    "start_time": "2021-07-08T17:58:14.967Z"
   },
   {
    "duration": 25,
    "start_time": "2021-07-08T17:58:15.022Z"
   },
   {
    "duration": 25,
    "start_time": "2021-07-08T17:58:15.049Z"
   },
   {
    "duration": 27,
    "start_time": "2021-07-08T17:58:15.076Z"
   },
   {
    "duration": 4729,
    "start_time": "2021-07-08T17:58:15.105Z"
   },
   {
    "duration": 10535,
    "start_time": "2021-07-08T17:58:19.837Z"
   },
   {
    "duration": 12549,
    "start_time": "2021-07-08T17:58:45.433Z"
   },
   {
    "duration": 3838,
    "start_time": "2021-07-08T17:59:38.183Z"
   },
   {
    "duration": 3799,
    "start_time": "2021-07-08T17:59:56.480Z"
   },
   {
    "duration": 4008,
    "start_time": "2021-07-08T18:00:11.763Z"
   },
   {
    "duration": 3716,
    "start_time": "2021-07-08T18:00:22.188Z"
   },
   {
    "duration": 3803,
    "start_time": "2021-07-08T18:00:37.222Z"
   },
   {
    "duration": 3863,
    "start_time": "2021-07-08T18:00:48.164Z"
   },
   {
    "duration": 3929,
    "start_time": "2021-07-08T18:01:02.069Z"
   },
   {
    "duration": 3631,
    "start_time": "2021-07-08T18:01:07.456Z"
   },
   {
    "duration": 3818,
    "start_time": "2021-07-08T18:02:10.422Z"
   },
   {
    "duration": 3660,
    "start_time": "2021-07-08T18:03:00.630Z"
   },
   {
    "duration": 3969,
    "start_time": "2021-07-08T18:04:34.217Z"
   },
   {
    "duration": -84,
    "start_time": "2021-07-08T18:05:08.341Z"
   },
   {
    "duration": 3664,
    "start_time": "2021-07-08T18:05:19.930Z"
   },
   {
    "duration": 4203,
    "start_time": "2021-07-08T18:05:40.192Z"
   },
   {
    "duration": 4091,
    "start_time": "2021-07-08T18:06:31.326Z"
   },
   {
    "duration": 4204,
    "start_time": "2021-07-08T18:09:15.909Z"
   },
   {
    "duration": 4547,
    "start_time": "2021-07-08T18:11:00.594Z"
   },
   {
    "duration": 4539,
    "start_time": "2021-07-08T18:11:26.130Z"
   },
   {
    "duration": 4463,
    "start_time": "2021-07-08T18:11:41.262Z"
   },
   {
    "duration": 4238,
    "start_time": "2021-07-08T18:13:56.259Z"
   },
   {
    "duration": 4214,
    "start_time": "2021-07-08T18:14:01.949Z"
   },
   {
    "duration": 3924,
    "start_time": "2021-07-08T18:14:17.918Z"
   },
   {
    "duration": 5677,
    "start_time": "2021-07-08T18:16:38.786Z"
   },
   {
    "duration": 5978,
    "start_time": "2021-07-08T18:16:55.081Z"
   },
   {
    "duration": 4208,
    "start_time": "2021-07-08T18:18:54.829Z"
   },
   {
    "duration": 3905,
    "start_time": "2021-07-08T18:19:02.236Z"
   },
   {
    "duration": 376,
    "start_time": "2021-07-08T18:19:11.524Z"
   },
   {
    "duration": 338,
    "start_time": "2021-07-08T18:19:18.786Z"
   },
   {
    "duration": 35,
    "start_time": "2021-07-08T18:20:41.414Z"
   },
   {
    "duration": 31,
    "start_time": "2021-07-08T18:21:01.126Z"
   },
   {
    "duration": 19,
    "start_time": "2021-07-08T18:21:11.098Z"
   },
   {
    "duration": 19,
    "start_time": "2021-07-08T18:21:45.585Z"
   },
   {
    "duration": 378,
    "start_time": "2021-07-08T18:22:35.969Z"
   },
   {
    "duration": 312,
    "start_time": "2021-07-08T18:26:51.336Z"
   },
   {
    "duration": 24,
    "start_time": "2021-07-08T18:27:32.354Z"
   },
   {
    "duration": 338,
    "start_time": "2021-07-09T13:01:55.937Z"
   },
   {
    "duration": 380,
    "start_time": "2021-07-09T13:02:54.097Z"
   },
   {
    "duration": 809,
    "start_time": "2021-07-09T13:14:38.388Z"
   },
   {
    "duration": 13,
    "start_time": "2021-07-09T13:14:39.200Z"
   },
   {
    "duration": 61,
    "start_time": "2021-07-09T13:14:39.217Z"
   },
   {
    "duration": 5,
    "start_time": "2021-07-09T13:14:39.281Z"
   },
   {
    "duration": 9,
    "start_time": "2021-07-09T13:14:39.288Z"
   },
   {
    "duration": 25,
    "start_time": "2021-07-09T13:14:39.300Z"
   },
   {
    "duration": 33,
    "start_time": "2021-07-09T13:14:39.327Z"
   },
   {
    "duration": 5,
    "start_time": "2021-07-09T13:14:39.366Z"
   },
   {
    "duration": 20,
    "start_time": "2021-07-09T13:14:39.374Z"
   },
   {
    "duration": 20,
    "start_time": "2021-07-09T13:14:39.396Z"
   },
   {
    "duration": 90,
    "start_time": "2021-07-09T13:14:39.418Z"
   },
   {
    "duration": 22,
    "start_time": "2021-07-09T13:14:39.510Z"
   },
   {
    "duration": 50,
    "start_time": "2021-07-09T13:14:39.534Z"
   },
   {
    "duration": 17,
    "start_time": "2021-07-09T13:14:39.587Z"
   },
   {
    "duration": 10,
    "start_time": "2021-07-09T13:14:39.607Z"
   },
   {
    "duration": 4737,
    "start_time": "2021-07-09T13:14:39.619Z"
   },
   {
    "duration": 3662,
    "start_time": "2021-07-09T13:14:44.360Z"
   },
   {
    "duration": 3,
    "start_time": "2021-07-09T13:14:48.025Z"
   },
   {
    "duration": 895,
    "start_time": "2021-07-09T13:19:01.941Z"
   },
   {
    "duration": 19,
    "start_time": "2021-07-09T13:19:02.839Z"
   },
   {
    "duration": 42,
    "start_time": "2021-07-09T13:19:02.864Z"
   },
   {
    "duration": 5,
    "start_time": "2021-07-09T13:19:02.909Z"
   },
   {
    "duration": 6,
    "start_time": "2021-07-09T13:19:02.916Z"
   },
   {
    "duration": 58,
    "start_time": "2021-07-09T13:19:02.925Z"
   },
   {
    "duration": 6,
    "start_time": "2021-07-09T13:19:02.986Z"
   },
   {
    "duration": 5,
    "start_time": "2021-07-09T13:19:02.997Z"
   },
   {
    "duration": 53,
    "start_time": "2021-07-09T13:19:03.004Z"
   },
   {
    "duration": 27,
    "start_time": "2021-07-09T13:19:03.061Z"
   },
   {
    "duration": 77,
    "start_time": "2021-07-09T13:19:03.091Z"
   },
   {
    "duration": 23,
    "start_time": "2021-07-09T13:19:03.173Z"
   },
   {
    "duration": 25,
    "start_time": "2021-07-09T13:19:03.199Z"
   },
   {
    "duration": 51,
    "start_time": "2021-07-09T13:19:03.227Z"
   },
   {
    "duration": 11,
    "start_time": "2021-07-09T13:19:03.281Z"
   },
   {
    "duration": 4629,
    "start_time": "2021-07-09T13:19:03.295Z"
   },
   {
    "duration": 3904,
    "start_time": "2021-07-09T13:19:07.927Z"
   },
   {
    "duration": 266,
    "start_time": "2021-07-10T09:48:17.476Z"
   },
   {
    "duration": 596,
    "start_time": "2021-07-10T09:48:47.532Z"
   },
   {
    "duration": 10,
    "start_time": "2021-07-10T09:48:48.129Z"
   },
   {
    "duration": 23,
    "start_time": "2021-07-10T09:48:48.141Z"
   },
   {
    "duration": 3,
    "start_time": "2021-07-10T09:48:48.166Z"
   },
   {
    "duration": 23,
    "start_time": "2021-07-10T09:48:48.170Z"
   },
   {
    "duration": 14,
    "start_time": "2021-07-10T09:48:48.195Z"
   },
   {
    "duration": 4,
    "start_time": "2021-07-10T09:48:48.211Z"
   },
   {
    "duration": 4,
    "start_time": "2021-07-10T09:48:48.217Z"
   },
   {
    "duration": 13,
    "start_time": "2021-07-10T09:48:48.223Z"
   },
   {
    "duration": 13,
    "start_time": "2021-07-10T09:48:48.237Z"
   },
   {
    "duration": 60,
    "start_time": "2021-07-10T09:48:48.252Z"
   },
   {
    "duration": 12,
    "start_time": "2021-07-10T09:48:48.314Z"
   },
   {
    "duration": 14,
    "start_time": "2021-07-10T09:48:48.327Z"
   },
   {
    "duration": 12,
    "start_time": "2021-07-10T09:48:48.342Z"
   },
   {
    "duration": 7,
    "start_time": "2021-07-10T09:48:48.355Z"
   },
   {
    "duration": 3252,
    "start_time": "2021-07-10T09:48:48.364Z"
   },
   {
    "duration": 2685,
    "start_time": "2021-07-10T09:48:51.618Z"
   },
   {
    "duration": 2532,
    "start_time": "2021-07-10T09:51:23.872Z"
   },
   {
    "duration": 3856,
    "start_time": "2021-07-10T09:51:37.462Z"
   },
   {
    "duration": 579,
    "start_time": "2021-07-10T09:52:08.724Z"
   },
   {
    "duration": 9,
    "start_time": "2021-07-10T09:52:09.305Z"
   },
   {
    "duration": 18,
    "start_time": "2021-07-10T09:52:09.316Z"
   },
   {
    "duration": 3,
    "start_time": "2021-07-10T09:52:09.335Z"
   },
   {
    "duration": 4,
    "start_time": "2021-07-10T09:52:09.340Z"
   },
   {
    "duration": 16,
    "start_time": "2021-07-10T09:52:09.345Z"
   },
   {
    "duration": 4,
    "start_time": "2021-07-10T09:52:09.363Z"
   },
   {
    "duration": 4,
    "start_time": "2021-07-10T09:52:09.392Z"
   },
   {
    "duration": 12,
    "start_time": "2021-07-10T09:52:09.398Z"
   },
   {
    "duration": 12,
    "start_time": "2021-07-10T09:52:09.411Z"
   },
   {
    "duration": 25,
    "start_time": "2021-07-10T09:52:09.425Z"
   },
   {
    "duration": 12,
    "start_time": "2021-07-10T09:52:09.452Z"
   },
   {
    "duration": 37,
    "start_time": "2021-07-10T09:52:09.465Z"
   },
   {
    "duration": 12,
    "start_time": "2021-07-10T09:52:09.503Z"
   },
   {
    "duration": 7,
    "start_time": "2021-07-10T09:52:09.517Z"
   },
   {
    "duration": 3266,
    "start_time": "2021-07-10T09:52:09.526Z"
   },
   {
    "duration": 2556,
    "start_time": "2021-07-10T09:52:12.794Z"
   },
   {
    "duration": 2400,
    "start_time": "2021-07-10T09:53:01.664Z"
   },
   {
    "duration": 17,
    "start_time": "2021-07-10T09:53:08.168Z"
   },
   {
    "duration": 611,
    "start_time": "2021-07-10T10:01:20.856Z"
   },
   {
    "duration": 11,
    "start_time": "2021-07-10T10:01:21.469Z"
   },
   {
    "duration": 26,
    "start_time": "2021-07-10T10:01:21.482Z"
   },
   {
    "duration": 4,
    "start_time": "2021-07-10T10:01:21.510Z"
   },
   {
    "duration": 9,
    "start_time": "2021-07-10T10:01:21.515Z"
   },
   {
    "duration": 15,
    "start_time": "2021-07-10T10:01:21.525Z"
   },
   {
    "duration": 12,
    "start_time": "2021-07-10T10:01:21.541Z"
   },
   {
    "duration": 3,
    "start_time": "2021-07-10T10:01:21.555Z"
   },
   {
    "duration": 6,
    "start_time": "2021-07-10T10:01:21.560Z"
   },
   {
    "duration": 28,
    "start_time": "2021-07-10T10:01:21.567Z"
   },
   {
    "duration": 13,
    "start_time": "2021-07-10T10:01:21.596Z"
   },
   {
    "duration": 27,
    "start_time": "2021-07-10T10:01:21.610Z"
   },
   {
    "duration": 13,
    "start_time": "2021-07-10T10:01:21.638Z"
   },
   {
    "duration": 39,
    "start_time": "2021-07-10T10:01:21.652Z"
   },
   {
    "duration": 12,
    "start_time": "2021-07-10T10:01:21.692Z"
   },
   {
    "duration": 8,
    "start_time": "2021-07-10T10:01:21.705Z"
   },
   {
    "duration": 3081,
    "start_time": "2021-07-10T10:01:21.714Z"
   },
   {
    "duration": 2333,
    "start_time": "2021-07-10T10:01:24.797Z"
   },
   {
    "duration": 17,
    "start_time": "2021-07-10T10:01:27.132Z"
   },
   {
    "duration": 23,
    "start_time": "2021-07-10T10:03:49.416Z"
   },
   {
    "duration": 569,
    "start_time": "2021-07-10T10:05:01.844Z"
   },
   {
    "duration": 9,
    "start_time": "2021-07-10T10:05:02.415Z"
   },
   {
    "duration": 18,
    "start_time": "2021-07-10T10:05:02.426Z"
   },
   {
    "duration": 3,
    "start_time": "2021-07-10T10:05:02.445Z"
   },
   {
    "duration": 6,
    "start_time": "2021-07-10T10:05:02.449Z"
   },
   {
    "duration": 15,
    "start_time": "2021-07-10T10:05:02.456Z"
   },
   {
    "duration": 31,
    "start_time": "2021-07-10T10:05:02.473Z"
   },
   {
    "duration": 3,
    "start_time": "2021-07-10T10:05:02.505Z"
   },
   {
    "duration": 5,
    "start_time": "2021-07-10T10:05:02.509Z"
   },
   {
    "duration": 14,
    "start_time": "2021-07-10T10:05:02.515Z"
   },
   {
    "duration": 13,
    "start_time": "2021-07-10T10:05:02.531Z"
   },
   {
    "duration": 47,
    "start_time": "2021-07-10T10:05:02.545Z"
   },
   {
    "duration": 12,
    "start_time": "2021-07-10T10:05:02.593Z"
   },
   {
    "duration": 13,
    "start_time": "2021-07-10T10:05:02.607Z"
   },
   {
    "duration": 11,
    "start_time": "2021-07-10T10:05:02.621Z"
   },
   {
    "duration": 7,
    "start_time": "2021-07-10T10:05:02.633Z"
   },
   {
    "duration": 3353,
    "start_time": "2021-07-10T10:05:02.642Z"
   },
   {
    "duration": 2855,
    "start_time": "2021-07-10T10:05:05.997Z"
   },
   {
    "duration": 37,
    "start_time": "2021-07-10T10:05:08.854Z"
   },
   {
    "duration": 634,
    "start_time": "2021-07-10T10:08:18.663Z"
   },
   {
    "duration": 10,
    "start_time": "2021-07-10T10:08:19.298Z"
   },
   {
    "duration": 24,
    "start_time": "2021-07-10T10:08:19.309Z"
   },
   {
    "duration": 3,
    "start_time": "2021-07-10T10:08:19.335Z"
   },
   {
    "duration": 7,
    "start_time": "2021-07-10T10:08:19.339Z"
   },
   {
    "duration": 16,
    "start_time": "2021-07-10T10:08:19.347Z"
   },
   {
    "duration": 35,
    "start_time": "2021-07-10T10:08:19.364Z"
   },
   {
    "duration": 4,
    "start_time": "2021-07-10T10:08:19.401Z"
   },
   {
    "duration": 4,
    "start_time": "2021-07-10T10:08:19.406Z"
   },
   {
    "duration": 11,
    "start_time": "2021-07-10T10:08:19.411Z"
   },
   {
    "duration": 13,
    "start_time": "2021-07-10T10:08:19.423Z"
   },
   {
    "duration": 26,
    "start_time": "2021-07-10T10:08:19.438Z"
   },
   {
    "duration": 33,
    "start_time": "2021-07-10T10:08:19.466Z"
   },
   {
    "duration": 14,
    "start_time": "2021-07-10T10:08:19.500Z"
   },
   {
    "duration": 12,
    "start_time": "2021-07-10T10:08:19.516Z"
   },
   {
    "duration": 6,
    "start_time": "2021-07-10T10:08:19.530Z"
   },
   {
    "duration": 3202,
    "start_time": "2021-07-10T10:08:19.537Z"
   },
   {
    "duration": 2665,
    "start_time": "2021-07-10T10:08:22.741Z"
   },
   {
    "duration": 18,
    "start_time": "2021-07-10T10:08:25.407Z"
   },
   {
    "duration": 297,
    "start_time": "2021-07-10T10:19:43.046Z"
   },
   {
    "duration": 242,
    "start_time": "2021-07-10T10:20:31.958Z"
   },
   {
    "duration": 249,
    "start_time": "2021-07-10T10:20:49.674Z"
   },
   {
    "duration": 269,
    "start_time": "2021-07-10T10:22:17.548Z"
   },
   {
    "duration": 22,
    "start_time": "2021-07-10T10:22:22.853Z"
   },
   {
    "duration": 38,
    "start_time": "2021-07-10T10:22:30.936Z"
   },
   {
    "duration": 40,
    "start_time": "2021-07-10T10:22:47.480Z"
   },
   {
    "duration": 37,
    "start_time": "2021-07-10T10:23:09.320Z"
   },
   {
    "duration": 32,
    "start_time": "2021-07-10T10:23:18.311Z"
   },
   {
    "duration": 24,
    "start_time": "2021-07-10T10:23:32.289Z"
   },
   {
    "duration": 72,
    "start_time": "2021-07-10T10:23:59.036Z"
   },
   {
    "duration": 235,
    "start_time": "2021-07-10T10:24:03.889Z"
   },
   {
    "duration": 236,
    "start_time": "2021-07-10T10:24:09.967Z"
   },
   {
    "duration": 12,
    "start_time": "2021-07-10T10:25:14.099Z"
   },
   {
    "duration": 232,
    "start_time": "2021-07-10T10:26:18.848Z"
   },
   {
    "duration": 29,
    "start_time": "2021-07-10T10:26:30.678Z"
   },
   {
    "duration": 31,
    "start_time": "2021-07-10T10:27:01.085Z"
   },
   {
    "duration": 622,
    "start_time": "2021-07-10T10:28:04.902Z"
   },
   {
    "duration": 10,
    "start_time": "2021-07-10T10:28:05.525Z"
   },
   {
    "duration": 21,
    "start_time": "2021-07-10T10:28:05.537Z"
   },
   {
    "duration": 3,
    "start_time": "2021-07-10T10:28:05.560Z"
   },
   {
    "duration": 9,
    "start_time": "2021-07-10T10:28:05.564Z"
   },
   {
    "duration": 24,
    "start_time": "2021-07-10T10:28:05.575Z"
   },
   {
    "duration": 17,
    "start_time": "2021-07-10T10:28:05.600Z"
   },
   {
    "duration": 3,
    "start_time": "2021-07-10T10:28:05.619Z"
   },
   {
    "duration": 6,
    "start_time": "2021-07-10T10:28:05.623Z"
   },
   {
    "duration": 16,
    "start_time": "2021-07-10T10:28:05.630Z"
   },
   {
    "duration": 12,
    "start_time": "2021-07-10T10:28:05.648Z"
   },
   {
    "duration": 47,
    "start_time": "2021-07-10T10:28:05.661Z"
   },
   {
    "duration": 13,
    "start_time": "2021-07-10T10:28:05.710Z"
   },
   {
    "duration": 15,
    "start_time": "2021-07-10T10:28:05.724Z"
   },
   {
    "duration": 10,
    "start_time": "2021-07-10T10:28:05.740Z"
   },
   {
    "duration": 6,
    "start_time": "2021-07-10T10:28:05.752Z"
   },
   {
    "duration": 3306,
    "start_time": "2021-07-10T10:28:05.760Z"
   },
   {
    "duration": 2634,
    "start_time": "2021-07-10T10:28:09.068Z"
   },
   {
    "duration": 18,
    "start_time": "2021-07-10T10:28:11.704Z"
   },
   {
    "duration": 28,
    "start_time": "2021-07-10T10:28:11.723Z"
   },
   {
    "duration": 51,
    "start_time": "2021-07-10T10:28:59.493Z"
   },
   {
    "duration": 317,
    "start_time": "2021-07-10T10:29:06.796Z"
   },
   {
    "duration": 23,
    "start_time": "2021-07-10T10:29:14.445Z"
   },
   {
    "duration": 6,
    "start_time": "2021-07-10T10:29:50.829Z"
   },
   {
    "duration": 23,
    "start_time": "2021-07-10T11:04:14.089Z"
   },
   {
    "duration": 6,
    "start_time": "2021-07-10T11:04:37.314Z"
   },
   {
    "duration": 18,
    "start_time": "2021-07-10T11:05:09.347Z"
   },
   {
    "duration": 5,
    "start_time": "2021-07-10T11:05:27.772Z"
   },
   {
    "duration": 18,
    "start_time": "2021-07-10T11:07:03.984Z"
   },
   {
    "duration": 233,
    "start_time": "2021-07-10T11:07:20.334Z"
   },
   {
    "duration": 250,
    "start_time": "2021-07-10T11:07:30.140Z"
   },
   {
    "duration": 20,
    "start_time": "2021-07-10T11:07:44.369Z"
   },
   {
    "duration": 5,
    "start_time": "2021-07-10T11:08:16.224Z"
   },
   {
    "duration": 37,
    "start_time": "2021-07-10T11:17:52.171Z"
   },
   {
    "duration": 81,
    "start_time": "2021-07-10T11:21:07.178Z"
   },
   {
    "duration": 77,
    "start_time": "2021-07-10T11:23:38.283Z"
   },
   {
    "duration": 14,
    "start_time": "2021-07-10T11:27:05.796Z"
   },
   {
    "duration": 13,
    "start_time": "2021-07-10T11:27:42.099Z"
   },
   {
    "duration": 15,
    "start_time": "2021-07-10T11:28:01.629Z"
   },
   {
    "duration": 14,
    "start_time": "2021-07-10T11:28:18.808Z"
   },
   {
    "duration": 14,
    "start_time": "2021-07-10T11:28:42.004Z"
   },
   {
    "duration": 13,
    "start_time": "2021-07-10T11:28:46.489Z"
   },
   {
    "duration": 12,
    "start_time": "2021-07-10T11:28:56.680Z"
   },
   {
    "duration": 13,
    "start_time": "2021-07-10T11:29:34.040Z"
   },
   {
    "duration": 242,
    "start_time": "2021-07-10T11:29:54.199Z"
   },
   {
    "duration": 13,
    "start_time": "2021-07-10T11:30:33.190Z"
   },
   {
    "duration": 12,
    "start_time": "2021-07-10T11:31:36.828Z"
   },
   {
    "duration": 12,
    "start_time": "2021-07-10T11:31:46.077Z"
   },
   {
    "duration": 15,
    "start_time": "2021-07-10T11:32:22.700Z"
   },
   {
    "duration": 14,
    "start_time": "2021-07-10T11:32:36.660Z"
   },
   {
    "duration": 237,
    "start_time": "2021-07-10T11:32:43.481Z"
   },
   {
    "duration": 20,
    "start_time": "2021-07-10T11:33:03.488Z"
   },
   {
    "duration": 33,
    "start_time": "2021-07-10T11:35:01.551Z"
   },
   {
    "duration": 18,
    "start_time": "2021-07-10T11:35:17.956Z"
   },
   {
    "duration": 29,
    "start_time": "2021-07-10T11:36:16.469Z"
   },
   {
    "duration": 14,
    "start_time": "2021-07-10T11:36:58.938Z"
   },
   {
    "duration": 15,
    "start_time": "2021-07-10T11:37:27.836Z"
   },
   {
    "duration": 14,
    "start_time": "2021-07-10T11:37:46.588Z"
   },
   {
    "duration": 15,
    "start_time": "2021-07-10T11:38:28.783Z"
   },
   {
    "duration": 20,
    "start_time": "2021-07-10T11:39:25.446Z"
   },
   {
    "duration": 74,
    "start_time": "2021-07-10T11:51:19.327Z"
   },
   {
    "duration": 665,
    "start_time": "2021-07-10T11:51:29.970Z"
   },
   {
    "duration": 11,
    "start_time": "2021-07-10T11:51:30.637Z"
   },
   {
    "duration": 31,
    "start_time": "2021-07-10T11:51:30.650Z"
   },
   {
    "duration": 10,
    "start_time": "2021-07-10T11:51:30.682Z"
   },
   {
    "duration": 21,
    "start_time": "2021-07-10T11:51:30.694Z"
   },
   {
    "duration": 26,
    "start_time": "2021-07-10T11:51:30.717Z"
   },
   {
    "duration": 33,
    "start_time": "2021-07-10T11:51:30.745Z"
   },
   {
    "duration": 10,
    "start_time": "2021-07-10T11:51:30.781Z"
   },
   {
    "duration": 9,
    "start_time": "2021-07-10T11:51:30.793Z"
   },
   {
    "duration": 22,
    "start_time": "2021-07-10T11:51:30.803Z"
   },
   {
    "duration": 15,
    "start_time": "2021-07-10T11:51:30.827Z"
   },
   {
    "duration": 27,
    "start_time": "2021-07-10T11:51:30.843Z"
   },
   {
    "duration": 21,
    "start_time": "2021-07-10T11:51:30.872Z"
   },
   {
    "duration": 15,
    "start_time": "2021-07-10T11:51:30.894Z"
   },
   {
    "duration": 11,
    "start_time": "2021-07-10T11:51:30.910Z"
   },
   {
    "duration": 12,
    "start_time": "2021-07-10T11:51:30.924Z"
   },
   {
    "duration": 3454,
    "start_time": "2021-07-10T11:51:30.938Z"
   },
   {
    "duration": 2819,
    "start_time": "2021-07-10T11:51:34.395Z"
   },
   {
    "duration": 18,
    "start_time": "2021-07-10T11:51:37.216Z"
   },
   {
    "duration": 18,
    "start_time": "2021-07-10T11:51:37.236Z"
   },
   {
    "duration": 12,
    "start_time": "2021-07-10T11:51:37.256Z"
   },
   {
    "duration": 13,
    "start_time": "2021-07-10T11:51:37.291Z"
   },
   {
    "duration": 81,
    "start_time": "2021-07-10T11:51:37.307Z"
   },
   {
    "duration": -30717,
    "start_time": "2021-07-10T11:52:08.107Z"
   },
   {
    "duration": 634,
    "start_time": "2021-07-10T12:36:24.595Z"
   },
   {
    "duration": 10,
    "start_time": "2021-07-10T12:36:25.231Z"
   },
   {
    "duration": 23,
    "start_time": "2021-07-10T12:36:25.243Z"
   },
   {
    "duration": 3,
    "start_time": "2021-07-10T12:36:25.267Z"
   },
   {
    "duration": 5,
    "start_time": "2021-07-10T12:36:25.272Z"
   },
   {
    "duration": 14,
    "start_time": "2021-07-10T12:36:25.291Z"
   },
   {
    "duration": 16,
    "start_time": "2021-07-10T12:36:25.306Z"
   },
   {
    "duration": 3,
    "start_time": "2021-07-10T12:36:25.324Z"
   },
   {
    "duration": 5,
    "start_time": "2021-07-10T12:36:25.329Z"
   },
   {
    "duration": 13,
    "start_time": "2021-07-10T12:36:25.336Z"
   },
   {
    "duration": 13,
    "start_time": "2021-07-10T12:36:25.350Z"
   },
   {
    "duration": 53,
    "start_time": "2021-07-10T12:36:25.364Z"
   },
   {
    "duration": 13,
    "start_time": "2021-07-10T12:36:25.419Z"
   },
   {
    "duration": 15,
    "start_time": "2021-07-10T12:36:25.433Z"
   },
   {
    "duration": 10,
    "start_time": "2021-07-10T12:36:25.450Z"
   },
   {
    "duration": 31,
    "start_time": "2021-07-10T12:36:25.461Z"
   },
   {
    "duration": 3318,
    "start_time": "2021-07-10T12:36:25.493Z"
   },
   {
    "duration": 2725,
    "start_time": "2021-07-10T12:36:28.813Z"
   },
   {
    "duration": 18,
    "start_time": "2021-07-10T12:36:31.539Z"
   },
   {
    "duration": 35,
    "start_time": "2021-07-10T12:36:31.559Z"
   },
   {
    "duration": 13,
    "start_time": "2021-07-10T12:36:31.596Z"
   },
   {
    "duration": 16,
    "start_time": "2021-07-10T12:36:31.610Z"
   },
   {
    "duration": 79,
    "start_time": "2021-07-10T12:36:31.628Z"
   },
   {
    "duration": -7011,
    "start_time": "2021-07-10T12:36:38.720Z"
   },
   {
    "duration": 76,
    "start_time": "2021-07-10T12:37:09.762Z"
   },
   {
    "duration": 25,
    "start_time": "2021-07-10T12:37:16.695Z"
   },
   {
    "duration": 24,
    "start_time": "2021-07-10T12:37:29.128Z"
   },
   {
    "duration": 18,
    "start_time": "2021-07-10T12:38:46.962Z"
   },
   {
    "duration": 13,
    "start_time": "2021-07-10T12:46:30.405Z"
   },
   {
    "duration": 13,
    "start_time": "2021-07-10T12:46:40.633Z"
   },
   {
    "duration": 293,
    "start_time": "2021-07-10T12:49:03.522Z"
   },
   {
    "duration": 15,
    "start_time": "2021-07-10T12:49:15.078Z"
   },
   {
    "duration": 77,
    "start_time": "2021-07-10T12:49:35.952Z"
   },
   {
    "duration": 245,
    "start_time": "2021-07-10T12:49:40.400Z"
   },
   {
    "duration": 20,
    "start_time": "2021-07-10T12:49:48.602Z"
   },
   {
    "duration": 16,
    "start_time": "2021-07-10T12:52:24.844Z"
   },
   {
    "duration": 13,
    "start_time": "2021-07-10T12:52:36.532Z"
   },
   {
    "duration": 14,
    "start_time": "2021-07-10T12:52:46.772Z"
   },
   {
    "duration": 16,
    "start_time": "2021-07-10T12:52:53.843Z"
   },
   {
    "duration": 12,
    "start_time": "2021-07-10T12:53:18.851Z"
   },
   {
    "duration": 233,
    "start_time": "2021-07-10T12:54:11.494Z"
   },
   {
    "duration": 15,
    "start_time": "2021-07-10T12:54:17.742Z"
   },
   {
    "duration": 17,
    "start_time": "2021-07-10T12:54:31.586Z"
   },
   {
    "duration": 25,
    "start_time": "2021-07-10T12:54:51.415Z"
   },
   {
    "duration": 29,
    "start_time": "2021-07-10T12:55:36.491Z"
   },
   {
    "duration": 28,
    "start_time": "2021-07-10T12:56:48.722Z"
   },
   {
    "duration": 34,
    "start_time": "2021-07-10T12:56:52.444Z"
   },
   {
    "duration": 26,
    "start_time": "2021-07-10T12:56:59.284Z"
   },
   {
    "duration": 26,
    "start_time": "2021-07-10T12:57:23.161Z"
   },
   {
    "duration": 28,
    "start_time": "2021-07-10T12:58:26.672Z"
   },
   {
    "duration": 29,
    "start_time": "2021-07-10T12:58:34.416Z"
   },
   {
    "duration": 29,
    "start_time": "2021-07-10T12:58:53.324Z"
   },
   {
    "duration": 13,
    "start_time": "2021-07-10T12:59:50.107Z"
   },
   {
    "duration": 29,
    "start_time": "2021-07-10T13:00:03.786Z"
   },
   {
    "duration": 11,
    "start_time": "2021-07-10T13:01:10.506Z"
   },
   {
    "duration": 11,
    "start_time": "2021-07-10T13:02:23.949Z"
   },
   {
    "duration": 13,
    "start_time": "2021-07-10T13:03:17.917Z"
   },
   {
    "duration": 28,
    "start_time": "2021-07-10T13:04:09.682Z"
   },
   {
    "duration": 267,
    "start_time": "2021-07-10T13:05:55.235Z"
   },
   {
    "duration": 242,
    "start_time": "2021-07-10T13:06:13.857Z"
   },
   {
    "duration": 23,
    "start_time": "2021-07-10T13:08:19.911Z"
   },
   {
    "duration": 32,
    "start_time": "2021-07-10T13:09:07.895Z"
   },
   {
    "duration": 23,
    "start_time": "2021-07-10T13:09:59.379Z"
   },
   {
    "duration": 20,
    "start_time": "2021-07-10T13:11:25.370Z"
   },
   {
    "duration": 22,
    "start_time": "2021-07-10T13:11:45.945Z"
   },
   {
    "duration": 23,
    "start_time": "2021-07-10T13:12:06.121Z"
   },
   {
    "duration": 236,
    "start_time": "2021-07-10T13:12:26.802Z"
   },
   {
    "duration": 13,
    "start_time": "2021-07-10T13:12:42.553Z"
   },
   {
    "duration": 20,
    "start_time": "2021-07-10T13:13:21.925Z"
   },
   {
    "duration": 20,
    "start_time": "2021-07-10T13:13:27.902Z"
   },
   {
    "duration": 23,
    "start_time": "2021-07-10T13:14:03.181Z"
   },
   {
    "duration": 22,
    "start_time": "2021-07-10T13:14:15.444Z"
   },
   {
    "duration": 20,
    "start_time": "2021-07-10T13:15:01.563Z"
   },
   {
    "duration": 14,
    "start_time": "2021-07-10T13:15:57.129Z"
   },
   {
    "duration": 14,
    "start_time": "2021-07-10T13:16:10.700Z"
   },
   {
    "duration": 18,
    "start_time": "2021-07-10T13:18:25.464Z"
   },
   {
    "duration": 60,
    "start_time": "2021-07-10T13:18:56.730Z"
   },
   {
    "duration": 48,
    "start_time": "2021-07-10T13:19:20.044Z"
   },
   {
    "duration": 13,
    "start_time": "2021-07-10T13:19:34.424Z"
   },
   {
    "duration": 974,
    "start_time": "2021-07-10T13:42:49.719Z"
   },
   {
    "duration": 14,
    "start_time": "2021-07-10T13:42:50.696Z"
   },
   {
    "duration": 23,
    "start_time": "2021-07-10T13:42:50.711Z"
   },
   {
    "duration": 3,
    "start_time": "2021-07-10T13:42:50.735Z"
   },
   {
    "duration": 5,
    "start_time": "2021-07-10T13:42:50.739Z"
   },
   {
    "duration": 15,
    "start_time": "2021-07-10T13:42:50.745Z"
   },
   {
    "duration": 44,
    "start_time": "2021-07-10T13:42:50.761Z"
   },
   {
    "duration": 4,
    "start_time": "2021-07-10T13:42:50.808Z"
   },
   {
    "duration": 5,
    "start_time": "2021-07-10T13:42:50.814Z"
   },
   {
    "duration": 13,
    "start_time": "2021-07-10T13:42:50.821Z"
   },
   {
    "duration": 14,
    "start_time": "2021-07-10T13:42:50.836Z"
   },
   {
    "duration": 62,
    "start_time": "2021-07-10T13:42:50.852Z"
   },
   {
    "duration": 15,
    "start_time": "2021-07-10T13:42:50.915Z"
   },
   {
    "duration": 15,
    "start_time": "2021-07-10T13:42:50.932Z"
   },
   {
    "duration": 12,
    "start_time": "2021-07-10T13:42:50.949Z"
   },
   {
    "duration": 31,
    "start_time": "2021-07-10T13:42:50.962Z"
   },
   {
    "duration": 3978,
    "start_time": "2021-07-10T13:42:50.995Z"
   },
   {
    "duration": 2875,
    "start_time": "2021-07-10T13:42:54.975Z"
   },
   {
    "duration": 20,
    "start_time": "2021-07-10T13:42:57.852Z"
   },
   {
    "duration": 15,
    "start_time": "2021-07-10T13:42:57.892Z"
   },
   {
    "duration": 12,
    "start_time": "2021-07-10T13:42:57.909Z"
   },
   {
    "duration": 11,
    "start_time": "2021-07-10T13:42:57.923Z"
   },
   {
    "duration": 23,
    "start_time": "2021-07-10T13:42:57.937Z"
   },
   {
    "duration": 45,
    "start_time": "2021-07-10T13:42:57.961Z"
   },
   {
    "duration": 270,
    "start_time": "2021-07-10T15:26:08.663Z"
   },
   {
    "duration": 645,
    "start_time": "2021-07-10T15:26:42.274Z"
   },
   {
    "duration": 10,
    "start_time": "2021-07-10T15:26:42.921Z"
   },
   {
    "duration": 19,
    "start_time": "2021-07-10T15:26:42.933Z"
   },
   {
    "duration": 4,
    "start_time": "2021-07-10T15:26:42.954Z"
   },
   {
    "duration": 5,
    "start_time": "2021-07-10T15:26:42.959Z"
   },
   {
    "duration": 36,
    "start_time": "2021-07-10T15:26:42.965Z"
   },
   {
    "duration": 17,
    "start_time": "2021-07-10T15:26:43.003Z"
   },
   {
    "duration": 4,
    "start_time": "2021-07-10T15:26:43.021Z"
   },
   {
    "duration": 4,
    "start_time": "2021-07-10T15:26:43.028Z"
   },
   {
    "duration": 11,
    "start_time": "2021-07-10T15:26:43.034Z"
   },
   {
    "duration": 47,
    "start_time": "2021-07-10T15:26:43.046Z"
   },
   {
    "duration": 29,
    "start_time": "2021-07-10T15:26:43.095Z"
   },
   {
    "duration": 14,
    "start_time": "2021-07-10T15:26:43.126Z"
   },
   {
    "duration": 16,
    "start_time": "2021-07-10T15:26:43.142Z"
   },
   {
    "duration": 41,
    "start_time": "2021-07-10T15:26:43.160Z"
   },
   {
    "duration": 7,
    "start_time": "2021-07-10T15:26:43.203Z"
   },
   {
    "duration": 3211,
    "start_time": "2021-07-10T15:26:43.212Z"
   },
   {
    "duration": 2570,
    "start_time": "2021-07-10T15:26:46.425Z"
   },
   {
    "duration": 18,
    "start_time": "2021-07-10T15:26:48.996Z"
   },
   {
    "duration": 12,
    "start_time": "2021-07-10T15:26:49.015Z"
   },
   {
    "duration": 15,
    "start_time": "2021-07-10T15:26:49.028Z"
   },
   {
    "duration": 11,
    "start_time": "2021-07-10T15:26:49.044Z"
   },
   {
    "duration": 50,
    "start_time": "2021-07-10T15:26:49.057Z"
   },
   {
    "duration": 21,
    "start_time": "2021-07-10T15:26:49.108Z"
   },
   {
    "duration": 13,
    "start_time": "2021-07-10T15:26:49.131Z"
   },
   {
    "duration": 656,
    "start_time": "2021-07-10T15:31:26.336Z"
   },
   {
    "duration": 9,
    "start_time": "2021-07-10T15:31:26.994Z"
   },
   {
    "duration": 19,
    "start_time": "2021-07-10T15:31:27.005Z"
   },
   {
    "duration": 3,
    "start_time": "2021-07-10T15:31:27.026Z"
   },
   {
    "duration": 4,
    "start_time": "2021-07-10T15:31:27.030Z"
   },
   {
    "duration": 15,
    "start_time": "2021-07-10T15:31:27.035Z"
   },
   {
    "duration": 41,
    "start_time": "2021-07-10T15:31:27.051Z"
   },
   {
    "duration": 3,
    "start_time": "2021-07-10T15:31:27.093Z"
   },
   {
    "duration": 4,
    "start_time": "2021-07-10T15:31:27.098Z"
   },
   {
    "duration": 12,
    "start_time": "2021-07-10T15:31:27.104Z"
   },
   {
    "duration": 12,
    "start_time": "2021-07-10T15:31:27.117Z"
   },
   {
    "duration": 26,
    "start_time": "2021-07-10T15:31:27.130Z"
   },
   {
    "duration": 36,
    "start_time": "2021-07-10T15:31:27.158Z"
   },
   {
    "duration": 14,
    "start_time": "2021-07-10T15:31:27.195Z"
   },
   {
    "duration": 11,
    "start_time": "2021-07-10T15:31:27.210Z"
   },
   {
    "duration": 6,
    "start_time": "2021-07-10T15:31:27.222Z"
   },
   {
    "duration": 3035,
    "start_time": "2021-07-10T15:31:27.229Z"
   },
   {
    "duration": 2558,
    "start_time": "2021-07-10T15:31:30.266Z"
   },
   {
    "duration": 17,
    "start_time": "2021-07-10T15:31:32.826Z"
   },
   {
    "duration": 18,
    "start_time": "2021-07-10T15:31:32.845Z"
   },
   {
    "duration": 32,
    "start_time": "2021-07-10T15:31:32.864Z"
   },
   {
    "duration": 12,
    "start_time": "2021-07-10T15:31:32.897Z"
   },
   {
    "duration": 23,
    "start_time": "2021-07-10T15:31:32.910Z"
   },
   {
    "duration": 16,
    "start_time": "2021-07-10T15:31:32.935Z"
   },
   {
    "duration": 45,
    "start_time": "2021-07-10T15:31:32.953Z"
   },
   {
    "duration": 6,
    "start_time": "2021-07-10T15:31:47.616Z"
   },
   {
    "duration": 619,
    "start_time": "2021-07-10T15:34:18.387Z"
   },
   {
    "duration": 9,
    "start_time": "2021-07-10T15:34:19.008Z"
   },
   {
    "duration": 18,
    "start_time": "2021-07-10T15:34:19.019Z"
   },
   {
    "duration": 3,
    "start_time": "2021-07-10T15:34:19.039Z"
   },
   {
    "duration": 6,
    "start_time": "2021-07-10T15:34:19.043Z"
   },
   {
    "duration": 14,
    "start_time": "2021-07-10T15:34:19.050Z"
   },
   {
    "duration": 554,
    "start_time": "2021-07-10T15:34:19.065Z"
   },
   {
    "duration": -2474,
    "start_time": "2021-07-10T15:34:22.096Z"
   },
   {
    "duration": -2477,
    "start_time": "2021-07-10T15:34:22.100Z"
   },
   {
    "duration": -2483,
    "start_time": "2021-07-10T15:34:22.106Z"
   },
   {
    "duration": -2910,
    "start_time": "2021-07-10T15:34:22.535Z"
   },
   {
    "duration": -2917,
    "start_time": "2021-07-10T15:34:22.542Z"
   },
   {
    "duration": -2922,
    "start_time": "2021-07-10T15:34:22.548Z"
   },
   {
    "duration": -2923,
    "start_time": "2021-07-10T15:34:22.550Z"
   },
   {
    "duration": -2926,
    "start_time": "2021-07-10T15:34:22.554Z"
   },
   {
    "duration": -2928,
    "start_time": "2021-07-10T15:34:22.557Z"
   },
   {
    "duration": -2929,
    "start_time": "2021-07-10T15:34:22.559Z"
   },
   {
    "duration": -2931,
    "start_time": "2021-07-10T15:34:22.562Z"
   },
   {
    "duration": -2932,
    "start_time": "2021-07-10T15:34:22.564Z"
   },
   {
    "duration": -3020,
    "start_time": "2021-07-10T15:34:22.653Z"
   },
   {
    "duration": -3048,
    "start_time": "2021-07-10T15:34:22.682Z"
   },
   {
    "duration": -3052,
    "start_time": "2021-07-10T15:34:22.687Z"
   },
   {
    "duration": -3054,
    "start_time": "2021-07-10T15:34:22.690Z"
   },
   {
    "duration": -3055,
    "start_time": "2021-07-10T15:34:22.692Z"
   },
   {
    "duration": -3429,
    "start_time": "2021-07-10T15:34:23.067Z"
   },
   {
    "duration": -3433,
    "start_time": "2021-07-10T15:34:23.072Z"
   },
   {
    "duration": 629,
    "start_time": "2021-07-10T15:34:49.076Z"
   },
   {
    "duration": 9,
    "start_time": "2021-07-10T15:34:49.707Z"
   },
   {
    "duration": 21,
    "start_time": "2021-07-10T15:34:49.718Z"
   },
   {
    "duration": 3,
    "start_time": "2021-07-10T15:34:49.740Z"
   },
   {
    "duration": 5,
    "start_time": "2021-07-10T15:34:49.744Z"
   },
   {
    "duration": 14,
    "start_time": "2021-07-10T15:34:49.750Z"
   },
   {
    "duration": 265,
    "start_time": "2021-07-10T15:34:49.765Z"
   },
   {
    "duration": -13578,
    "start_time": "2021-07-10T15:35:03.610Z"
   },
   {
    "duration": -13589,
    "start_time": "2021-07-10T15:35:03.622Z"
   },
   {
    "duration": -13590,
    "start_time": "2021-07-10T15:35:03.624Z"
   },
   {
    "duration": -13601,
    "start_time": "2021-07-10T15:35:03.636Z"
   },
   {
    "duration": -13620,
    "start_time": "2021-07-10T15:35:03.656Z"
   },
   {
    "duration": -13732,
    "start_time": "2021-07-10T15:35:03.768Z"
   },
   {
    "duration": -14089,
    "start_time": "2021-07-10T15:35:04.126Z"
   },
   {
    "duration": -14097,
    "start_time": "2021-07-10T15:35:04.135Z"
   },
   {
    "duration": -14106,
    "start_time": "2021-07-10T15:35:04.145Z"
   },
   {
    "duration": -14109,
    "start_time": "2021-07-10T15:35:04.149Z"
   },
   {
    "duration": -14204,
    "start_time": "2021-07-10T15:35:04.245Z"
   },
   {
    "duration": -14581,
    "start_time": "2021-07-10T15:35:04.622Z"
   },
   {
    "duration": -14590,
    "start_time": "2021-07-10T15:35:04.632Z"
   },
   {
    "duration": -14815,
    "start_time": "2021-07-10T15:35:04.858Z"
   },
   {
    "duration": -14896,
    "start_time": "2021-07-10T15:35:04.940Z"
   },
   {
    "duration": -14999,
    "start_time": "2021-07-10T15:35:05.044Z"
   },
   {
    "duration": -15055,
    "start_time": "2021-07-10T15:35:05.101Z"
   },
   {
    "duration": -15326,
    "start_time": "2021-07-10T15:35:05.372Z"
   },
   {
    "duration": -15591,
    "start_time": "2021-07-10T15:35:05.638Z"
   },
   {
    "duration": 570,
    "start_time": "2021-07-10T15:35:32.543Z"
   },
   {
    "duration": 10,
    "start_time": "2021-07-10T15:35:33.115Z"
   },
   {
    "duration": 18,
    "start_time": "2021-07-10T15:35:33.126Z"
   },
   {
    "duration": 3,
    "start_time": "2021-07-10T15:35:33.146Z"
   },
   {
    "duration": 5,
    "start_time": "2021-07-10T15:35:33.150Z"
   },
   {
    "duration": 38,
    "start_time": "2021-07-10T15:35:33.156Z"
   },
   {
    "duration": 22,
    "start_time": "2021-07-10T15:35:33.195Z"
   },
   {
    "duration": 3,
    "start_time": "2021-07-10T15:35:33.219Z"
   },
   {
    "duration": 3,
    "start_time": "2021-07-10T15:35:33.224Z"
   },
   {
    "duration": 11,
    "start_time": "2021-07-10T15:35:33.229Z"
   },
   {
    "duration": 14,
    "start_time": "2021-07-10T15:35:33.242Z"
   },
   {
    "duration": 59,
    "start_time": "2021-07-10T15:35:33.257Z"
   },
   {
    "duration": 13,
    "start_time": "2021-07-10T15:35:33.318Z"
   },
   {
    "duration": 15,
    "start_time": "2021-07-10T15:35:33.333Z"
   },
   {
    "duration": 10,
    "start_time": "2021-07-10T15:35:33.349Z"
   },
   {
    "duration": 31,
    "start_time": "2021-07-10T15:35:33.360Z"
   },
   {
    "duration": 3187,
    "start_time": "2021-07-10T15:35:33.392Z"
   },
   {
    "duration": 2522,
    "start_time": "2021-07-10T15:35:36.580Z"
   },
   {
    "duration": 19,
    "start_time": "2021-07-10T15:35:39.104Z"
   },
   {
    "duration": 22,
    "start_time": "2021-07-10T15:35:39.125Z"
   },
   {
    "duration": 12,
    "start_time": "2021-07-10T15:35:39.148Z"
   },
   {
    "duration": 33,
    "start_time": "2021-07-10T15:35:39.162Z"
   },
   {
    "duration": 22,
    "start_time": "2021-07-10T15:35:39.196Z"
   },
   {
    "duration": 16,
    "start_time": "2021-07-10T15:35:39.220Z"
   },
   {
    "duration": 14,
    "start_time": "2021-07-10T15:35:39.237Z"
   },
   {
    "duration": 5,
    "start_time": "2021-07-10T15:35:39.252Z"
   },
   {
    "duration": 6,
    "start_time": "2021-07-10T15:39:02.566Z"
   },
   {
    "duration": 6,
    "start_time": "2021-07-10T15:43:18.554Z"
   },
   {
    "duration": 6,
    "start_time": "2021-07-10T15:44:22.935Z"
   },
   {
    "duration": 593,
    "start_time": "2021-07-10T15:48:33.828Z"
   },
   {
    "duration": 10,
    "start_time": "2021-07-10T15:48:34.422Z"
   },
   {
    "duration": 19,
    "start_time": "2021-07-10T15:48:34.433Z"
   },
   {
    "duration": 3,
    "start_time": "2021-07-10T15:48:34.454Z"
   },
   {
    "duration": 5,
    "start_time": "2021-07-10T15:48:34.458Z"
   },
   {
    "duration": 37,
    "start_time": "2021-07-10T15:48:34.464Z"
   },
   {
    "duration": 21,
    "start_time": "2021-07-10T15:48:34.502Z"
   },
   {
    "duration": 4,
    "start_time": "2021-07-10T15:48:34.525Z"
   },
   {
    "duration": 6,
    "start_time": "2021-07-10T15:48:34.530Z"
   },
   {
    "duration": 12,
    "start_time": "2021-07-10T15:48:34.537Z"
   },
   {
    "duration": 13,
    "start_time": "2021-07-10T15:48:34.551Z"
   },
   {
    "duration": 47,
    "start_time": "2021-07-10T15:48:34.566Z"
   },
   {
    "duration": 13,
    "start_time": "2021-07-10T15:48:34.614Z"
   },
   {
    "duration": 14,
    "start_time": "2021-07-10T15:48:34.628Z"
   },
   {
    "duration": 10,
    "start_time": "2021-07-10T15:48:34.644Z"
   },
   {
    "duration": 12,
    "start_time": "2021-07-10T15:48:34.655Z"
   },
   {
    "duration": 3211,
    "start_time": "2021-07-10T15:48:34.691Z"
   },
   {
    "duration": 2662,
    "start_time": "2021-07-10T15:48:37.904Z"
   },
   {
    "duration": 33,
    "start_time": "2021-07-10T15:48:40.568Z"
   },
   {
    "duration": 21,
    "start_time": "2021-07-10T15:48:40.602Z"
   },
   {
    "duration": 14,
    "start_time": "2021-07-10T15:48:40.625Z"
   },
   {
    "duration": 13,
    "start_time": "2021-07-10T15:48:40.640Z"
   },
   {
    "duration": 52,
    "start_time": "2021-07-10T15:48:40.656Z"
   },
   {
    "duration": 16,
    "start_time": "2021-07-10T15:48:40.710Z"
   },
   {
    "duration": 13,
    "start_time": "2021-07-10T15:48:40.728Z"
   },
   {
    "duration": 12,
    "start_time": "2021-07-10T15:48:40.743Z"
   },
   {
    "duration": 5,
    "start_time": "2021-07-10T15:48:40.756Z"
   },
   {
    "duration": 5,
    "start_time": "2021-07-10T15:48:40.791Z"
   },
   {
    "duration": 7,
    "start_time": "2021-07-10T15:48:40.797Z"
   },
   {
    "duration": 6,
    "start_time": "2021-07-10T15:48:40.806Z"
   },
   {
    "duration": 717,
    "start_time": "2021-07-10T15:54:03.073Z"
   },
   {
    "duration": 11,
    "start_time": "2021-07-10T15:54:03.792Z"
   },
   {
    "duration": 18,
    "start_time": "2021-07-10T15:54:03.805Z"
   },
   {
    "duration": 3,
    "start_time": "2021-07-10T15:54:03.825Z"
   },
   {
    "duration": 6,
    "start_time": "2021-07-10T15:54:03.830Z"
   },
   {
    "duration": 15,
    "start_time": "2021-07-10T15:54:03.837Z"
   },
   {
    "duration": 44,
    "start_time": "2021-07-10T15:54:03.854Z"
   },
   {
    "duration": 3,
    "start_time": "2021-07-10T15:54:03.900Z"
   },
   {
    "duration": 6,
    "start_time": "2021-07-10T15:54:03.905Z"
   },
   {
    "duration": 15,
    "start_time": "2021-07-10T15:54:03.912Z"
   },
   {
    "duration": 12,
    "start_time": "2021-07-10T15:54:03.929Z"
   },
   {
    "duration": 26,
    "start_time": "2021-07-10T15:54:03.943Z"
   },
   {
    "duration": 18,
    "start_time": "2021-07-10T15:54:03.992Z"
   },
   {
    "duration": 17,
    "start_time": "2021-07-10T15:54:04.011Z"
   },
   {
    "duration": 10,
    "start_time": "2021-07-10T15:54:04.029Z"
   },
   {
    "duration": 9,
    "start_time": "2021-07-10T15:54:04.040Z"
   },
   {
    "duration": 3249,
    "start_time": "2021-07-10T15:54:04.050Z"
   },
   {
    "duration": 2489,
    "start_time": "2021-07-10T15:54:07.301Z"
   },
   {
    "duration": 20,
    "start_time": "2021-07-10T15:54:09.792Z"
   },
   {
    "duration": 21,
    "start_time": "2021-07-10T15:54:09.813Z"
   },
   {
    "duration": 14,
    "start_time": "2021-07-10T15:54:09.835Z"
   },
   {
    "duration": 13,
    "start_time": "2021-07-10T15:54:09.850Z"
   },
   {
    "duration": 26,
    "start_time": "2021-07-10T15:54:09.893Z"
   },
   {
    "duration": 18,
    "start_time": "2021-07-10T15:54:09.920Z"
   },
   {
    "duration": 12,
    "start_time": "2021-07-10T15:54:09.940Z"
   },
   {
    "duration": 7,
    "start_time": "2021-07-10T15:54:09.954Z"
   },
   {
    "duration": 44,
    "start_time": "2021-07-10T15:54:09.963Z"
   },
   {
    "duration": 5,
    "start_time": "2021-07-10T15:54:10.009Z"
   },
   {
    "duration": 8,
    "start_time": "2021-07-10T15:54:10.016Z"
   },
   {
    "duration": 11,
    "start_time": "2021-07-10T15:54:10.026Z"
   },
   {
    "duration": 12,
    "start_time": "2021-07-10T15:54:10.039Z"
   },
   {
    "duration": 654,
    "start_time": "2021-07-10T15:54:46.370Z"
   },
   {
    "duration": 11,
    "start_time": "2021-07-10T15:54:47.026Z"
   },
   {
    "duration": 19,
    "start_time": "2021-07-10T15:54:47.039Z"
   },
   {
    "duration": 4,
    "start_time": "2021-07-10T15:54:47.059Z"
   },
   {
    "duration": 5,
    "start_time": "2021-07-10T15:54:47.064Z"
   },
   {
    "duration": 31,
    "start_time": "2021-07-10T15:54:47.070Z"
   },
   {
    "duration": 22,
    "start_time": "2021-07-10T15:54:47.103Z"
   },
   {
    "duration": 3,
    "start_time": "2021-07-10T15:54:47.127Z"
   },
   {
    "duration": 4,
    "start_time": "2021-07-10T15:54:47.132Z"
   },
   {
    "duration": 13,
    "start_time": "2021-07-10T15:54:47.138Z"
   },
   {
    "duration": 13,
    "start_time": "2021-07-10T15:54:47.152Z"
   },
   {
    "duration": 52,
    "start_time": "2021-07-10T15:54:47.166Z"
   },
   {
    "duration": 14,
    "start_time": "2021-07-10T15:54:47.219Z"
   },
   {
    "duration": 15,
    "start_time": "2021-07-10T15:54:47.234Z"
   },
   {
    "duration": 10,
    "start_time": "2021-07-10T15:54:47.250Z"
   },
   {
    "duration": 32,
    "start_time": "2021-07-10T15:54:47.261Z"
   },
   {
    "duration": 3069,
    "start_time": "2021-07-10T15:54:47.294Z"
   },
   {
    "duration": 2526,
    "start_time": "2021-07-10T15:54:50.365Z"
   },
   {
    "duration": 22,
    "start_time": "2021-07-10T15:54:52.893Z"
   },
   {
    "duration": 21,
    "start_time": "2021-07-10T15:54:52.916Z"
   },
   {
    "duration": 14,
    "start_time": "2021-07-10T15:54:52.938Z"
   },
   {
    "duration": 39,
    "start_time": "2021-07-10T15:54:52.953Z"
   },
   {
    "duration": 25,
    "start_time": "2021-07-10T15:54:52.994Z"
   },
   {
    "duration": 17,
    "start_time": "2021-07-10T15:54:53.021Z"
   },
   {
    "duration": 15,
    "start_time": "2021-07-10T15:54:53.039Z"
   },
   {
    "duration": 54,
    "start_time": "2021-07-10T15:54:53.055Z"
   },
   {
    "duration": 15,
    "start_time": "2021-07-10T15:54:53.113Z"
   },
   {
    "duration": 6,
    "start_time": "2021-07-10T15:54:53.130Z"
   },
   {
    "duration": 7,
    "start_time": "2021-07-10T15:54:53.138Z"
   },
   {
    "duration": 7,
    "start_time": "2021-07-10T15:54:53.146Z"
   },
   {
    "duration": 39,
    "start_time": "2021-07-10T15:54:53.155Z"
   },
   {
    "duration": 720,
    "start_time": "2021-07-10T15:55:57.260Z"
   },
   {
    "duration": 9,
    "start_time": "2021-07-10T15:55:57.982Z"
   },
   {
    "duration": 17,
    "start_time": "2021-07-10T15:55:57.993Z"
   },
   {
    "duration": 3,
    "start_time": "2021-07-10T15:55:58.012Z"
   },
   {
    "duration": 10,
    "start_time": "2021-07-10T15:55:58.016Z"
   },
   {
    "duration": 23,
    "start_time": "2021-07-10T15:55:58.028Z"
   },
   {
    "duration": 35,
    "start_time": "2021-07-10T15:55:58.054Z"
   },
   {
    "duration": 4,
    "start_time": "2021-07-10T15:55:58.091Z"
   },
   {
    "duration": 7,
    "start_time": "2021-07-10T15:55:58.098Z"
   },
   {
    "duration": 18,
    "start_time": "2021-07-10T15:55:58.107Z"
   },
   {
    "duration": 13,
    "start_time": "2021-07-10T15:55:58.126Z"
   },
   {
    "duration": 27,
    "start_time": "2021-07-10T15:55:58.140Z"
   },
   {
    "duration": 18,
    "start_time": "2021-07-10T15:55:58.168Z"
   },
   {
    "duration": 18,
    "start_time": "2021-07-10T15:55:58.188Z"
   },
   {
    "duration": 15,
    "start_time": "2021-07-10T15:55:58.208Z"
   },
   {
    "duration": 8,
    "start_time": "2021-07-10T15:55:58.225Z"
   },
   {
    "duration": 3721,
    "start_time": "2021-07-10T15:55:58.235Z"
   },
   {
    "duration": 2488,
    "start_time": "2021-07-10T15:56:01.958Z"
   },
   {
    "duration": 18,
    "start_time": "2021-07-10T15:56:04.448Z"
   },
   {
    "duration": 33,
    "start_time": "2021-07-10T15:56:04.468Z"
   },
   {
    "duration": 13,
    "start_time": "2021-07-10T15:56:04.502Z"
   },
   {
    "duration": 13,
    "start_time": "2021-07-10T15:56:04.516Z"
   },
   {
    "duration": 25,
    "start_time": "2021-07-10T15:56:04.531Z"
   },
   {
    "duration": 46,
    "start_time": "2021-07-10T15:56:04.558Z"
   },
   {
    "duration": 15,
    "start_time": "2021-07-10T15:56:04.605Z"
   },
   {
    "duration": 26,
    "start_time": "2021-07-10T15:56:04.621Z"
   },
   {
    "duration": 14,
    "start_time": "2021-07-10T15:56:04.650Z"
   },
   {
    "duration": 4,
    "start_time": "2021-07-10T15:56:04.666Z"
   },
   {
    "duration": 10,
    "start_time": "2021-07-10T15:56:04.691Z"
   },
   {
    "duration": 7,
    "start_time": "2021-07-10T15:56:04.702Z"
   },
   {
    "duration": 7,
    "start_time": "2021-07-10T15:56:04.710Z"
   },
   {
    "duration": 13,
    "start_time": "2021-07-10T15:59:01.684Z"
   },
   {
    "duration": 14,
    "start_time": "2021-07-10T15:59:53.261Z"
   },
   {
    "duration": 17,
    "start_time": "2021-07-10T16:00:02.792Z"
   },
   {
    "duration": 23,
    "start_time": "2021-07-10T16:00:29.324Z"
   },
   {
    "duration": 24,
    "start_time": "2021-07-10T16:03:02.104Z"
   },
   {
    "duration": 24,
    "start_time": "2021-07-10T16:03:17.120Z"
   },
   {
    "duration": 29,
    "start_time": "2021-07-10T16:03:29.662Z"
   },
   {
    "duration": 20,
    "start_time": "2021-07-10T16:03:38.551Z"
   },
   {
    "duration": 21,
    "start_time": "2021-07-10T16:05:01.114Z"
   },
   {
    "duration": 22,
    "start_time": "2021-07-10T16:07:10.517Z"
   },
   {
    "duration": 18,
    "start_time": "2021-07-10T16:08:48.596Z"
   },
   {
    "duration": 19,
    "start_time": "2021-07-10T16:08:56.576Z"
   },
   {
    "duration": 19,
    "start_time": "2021-07-10T16:09:33.531Z"
   },
   {
    "duration": 23,
    "start_time": "2021-07-10T16:11:54.695Z"
   },
   {
    "duration": 18,
    "start_time": "2021-07-10T16:12:30.719Z"
   },
   {
    "duration": 913,
    "start_time": "2021-07-11T03:21:16.681Z"
   },
   {
    "duration": 15,
    "start_time": "2021-07-11T03:21:17.596Z"
   },
   {
    "duration": 54,
    "start_time": "2021-07-11T03:21:17.614Z"
   },
   {
    "duration": 5,
    "start_time": "2021-07-11T03:21:17.671Z"
   },
   {
    "duration": 6,
    "start_time": "2021-07-11T03:21:17.678Z"
   },
   {
    "duration": 27,
    "start_time": "2021-07-11T03:21:17.686Z"
   },
   {
    "duration": 76,
    "start_time": "2021-07-11T03:21:17.715Z"
   },
   {
    "duration": 5,
    "start_time": "2021-07-11T03:21:17.795Z"
   },
   {
    "duration": 6,
    "start_time": "2021-07-11T03:21:17.803Z"
   },
   {
    "duration": 54,
    "start_time": "2021-07-11T03:21:17.812Z"
   },
   {
    "duration": 23,
    "start_time": "2021-07-11T03:21:17.869Z"
   },
   {
    "duration": 78,
    "start_time": "2021-07-11T03:21:17.895Z"
   },
   {
    "duration": 23,
    "start_time": "2021-07-11T03:21:17.975Z"
   },
   {
    "duration": 26,
    "start_time": "2021-07-11T03:21:18.000Z"
   },
   {
    "duration": 49,
    "start_time": "2021-07-11T03:21:18.028Z"
   },
   {
    "duration": 8,
    "start_time": "2021-07-11T03:21:18.079Z"
   },
   {
    "duration": 4994,
    "start_time": "2021-07-11T03:21:18.089Z"
   },
   {
    "duration": 3989,
    "start_time": "2021-07-11T03:21:23.086Z"
   },
   {
    "duration": 31,
    "start_time": "2021-07-11T03:21:27.077Z"
   },
   {
    "duration": 53,
    "start_time": "2021-07-11T03:21:27.110Z"
   },
   {
    "duration": 21,
    "start_time": "2021-07-11T03:21:27.165Z"
   },
   {
    "duration": 22,
    "start_time": "2021-07-11T03:21:27.188Z"
   },
   {
    "duration": 71,
    "start_time": "2021-07-11T03:21:27.214Z"
   },
   {
    "duration": 39,
    "start_time": "2021-07-11T03:21:27.287Z"
   },
   {
    "duration": 39,
    "start_time": "2021-07-11T03:21:27.328Z"
   },
   {
    "duration": 44,
    "start_time": "2021-07-11T03:21:27.369Z"
   },
   {
    "duration": 51,
    "start_time": "2021-07-11T03:21:27.416Z"
   },
   {
    "duration": 8,
    "start_time": "2021-07-11T03:21:27.470Z"
   },
   {
    "duration": 15,
    "start_time": "2021-07-11T03:21:27.481Z"
   },
   {
    "duration": 14,
    "start_time": "2021-07-11T03:21:27.498Z"
   },
   {
    "duration": 10,
    "start_time": "2021-07-11T03:21:27.514Z"
   },
   {
    "duration": 59,
    "start_time": "2021-07-11T03:21:27.526Z"
   },
   {
    "duration": 455,
    "start_time": "2021-07-11T03:29:31.829Z"
   },
   {
    "duration": 3380,
    "start_time": "2021-07-11T03:29:44.908Z"
   },
   {
    "duration": 917,
    "start_time": "2021-07-17T11:29:51.891Z"
   },
   {
    "duration": 15,
    "start_time": "2021-07-17T11:29:55.991Z"
   },
   {
    "duration": 34,
    "start_time": "2021-07-17T11:29:59.605Z"
   },
   {
    "duration": 14,
    "start_time": "2021-07-17T11:30:36.004Z"
   },
   {
    "duration": 39,
    "start_time": "2021-07-17T11:30:42.542Z"
   },
   {
    "duration": 412,
    "start_time": "2021-07-17T11:31:55.830Z"
   },
   {
    "duration": 18,
    "start_time": "2021-07-17T11:32:13.811Z"
   },
   {
    "duration": 20,
    "start_time": "2021-07-17T11:32:31.911Z"
   },
   {
    "duration": 17,
    "start_time": "2021-07-17T11:32:38.978Z"
   },
   {
    "duration": 141,
    "start_time": "2021-07-17T11:32:50.636Z"
   },
   {
    "duration": 18,
    "start_time": "2021-07-17T11:33:05.211Z"
   },
   {
    "duration": 15,
    "start_time": "2021-07-17T11:33:12.460Z"
   },
   {
    "duration": 16,
    "start_time": "2021-07-17T11:33:26.314Z"
   },
   {
    "duration": 386,
    "start_time": "2021-07-17T11:33:36.673Z"
   },
   {
    "duration": 18,
    "start_time": "2021-07-17T11:33:41.811Z"
   },
   {
    "duration": 20,
    "start_time": "2021-07-17T11:34:40.031Z"
   },
   {
    "duration": 22,
    "start_time": "2021-07-17T11:34:46.118Z"
   },
   {
    "duration": 364,
    "start_time": "2021-07-17T11:35:17.813Z"
   },
   {
    "duration": 363,
    "start_time": "2021-07-17T11:35:34.470Z"
   },
   {
    "duration": 4,
    "start_time": "2021-07-17T11:35:42.044Z"
   },
   {
    "duration": 88,
    "start_time": "2021-07-17T11:35:59.709Z"
   },
   {
    "duration": 20,
    "start_time": "2021-07-17T11:36:07.556Z"
   },
   {
    "duration": 24,
    "start_time": "2021-07-17T11:36:10.275Z"
   },
   {
    "duration": 129,
    "start_time": "2021-07-17T11:36:25.398Z"
   },
   {
    "duration": 381,
    "start_time": "2021-07-17T11:36:27.985Z"
   },
   {
    "duration": 377,
    "start_time": "2021-07-17T11:37:20.432Z"
   },
   {
    "duration": 89,
    "start_time": "2021-07-17T11:37:58.105Z"
   },
   {
    "duration": 18,
    "start_time": "2021-07-17T11:38:03.503Z"
   },
   {
    "duration": 23,
    "start_time": "2021-07-17T11:38:09.535Z"
   },
   {
    "duration": 87,
    "start_time": "2021-07-17T11:38:29.213Z"
   },
   {
    "duration": 23,
    "start_time": "2021-07-17T11:38:36.622Z"
   },
   {
    "duration": 18,
    "start_time": "2021-07-17T11:39:02.221Z"
   },
   {
    "duration": 24,
    "start_time": "2021-07-17T11:39:07.802Z"
   },
   {
    "duration": 17,
    "start_time": "2021-07-17T11:39:17.286Z"
   },
   {
    "duration": 15,
    "start_time": "2021-07-17T11:39:35.596Z"
   },
   {
    "duration": 13,
    "start_time": "2021-07-17T11:41:04.624Z"
   },
   {
    "duration": 22,
    "start_time": "2021-07-17T11:41:09.799Z"
   },
   {
    "duration": 88,
    "start_time": "2021-07-17T11:41:50.054Z"
   },
   {
    "duration": 32,
    "start_time": "2021-07-17T11:41:56.618Z"
   },
   {
    "duration": 19,
    "start_time": "2021-07-17T11:42:01.197Z"
   },
   {
    "duration": 24,
    "start_time": "2021-07-17T11:42:05.863Z"
   },
   {
    "duration": 21,
    "start_time": "2021-07-17T11:42:12.510Z"
   },
   {
    "duration": 18,
    "start_time": "2021-07-17T11:43:00.475Z"
   },
   {
    "duration": 21,
    "start_time": "2021-07-17T11:43:04.345Z"
   },
   {
    "duration": 88,
    "start_time": "2021-07-17T11:43:15.092Z"
   },
   {
    "duration": 16,
    "start_time": "2021-07-17T11:43:19.881Z"
   },
   {
    "duration": 18,
    "start_time": "2021-07-17T11:43:23.117Z"
   },
   {
    "duration": 87,
    "start_time": "2021-07-17T11:44:25.518Z"
   },
   {
    "duration": 13,
    "start_time": "2021-07-17T11:44:30.287Z"
   },
   {
    "duration": 17,
    "start_time": "2021-07-17T11:44:35.283Z"
   },
   {
    "duration": 14,
    "start_time": "2021-07-17T11:44:48.910Z"
   },
   {
    "duration": 17,
    "start_time": "2021-07-17T11:44:51.644Z"
   },
   {
    "duration": 15,
    "start_time": "2021-07-17T11:45:14.439Z"
   },
   {
    "duration": 18,
    "start_time": "2021-07-17T11:45:16.943Z"
   },
   {
    "duration": 20,
    "start_time": "2021-07-17T11:45:23.305Z"
   },
   {
    "duration": 18,
    "start_time": "2021-07-17T11:45:24.885Z"
   },
   {
    "duration": 87,
    "start_time": "2021-07-17T11:46:04.833Z"
   },
   {
    "duration": 9,
    "start_time": "2021-07-17T11:46:17.194Z"
   },
   {
    "duration": 32,
    "start_time": "2021-07-17T11:46:20.573Z"
   },
   {
    "duration": 12,
    "start_time": "2021-07-17T11:46:37.897Z"
   },
   {
    "duration": 11,
    "start_time": "2021-07-17T11:47:15.168Z"
   },
   {
    "duration": 88,
    "start_time": "2021-07-17T11:47:20.797Z"
   },
   {
    "duration": 11,
    "start_time": "2021-07-17T11:47:24.833Z"
   },
   {
    "duration": 13,
    "start_time": "2021-07-17T11:47:28.453Z"
   },
   {
    "duration": 10,
    "start_time": "2021-07-17T11:48:46.104Z"
   },
   {
    "duration": 85,
    "start_time": "2021-07-17T11:49:50.468Z"
   },
   {
    "duration": 34,
    "start_time": "2021-07-17T11:49:55.701Z"
   },
   {
    "duration": 13,
    "start_time": "2021-07-17T11:49:58.911Z"
   },
   {
    "duration": 11,
    "start_time": "2021-07-17T11:50:01.497Z"
   },
   {
    "duration": 12,
    "start_time": "2021-07-17T11:50:12.912Z"
   },
   {
    "duration": 12,
    "start_time": "2021-07-17T11:50:23.581Z"
   },
   {
    "duration": 23,
    "start_time": "2021-07-17T11:50:40.270Z"
   },
   {
    "duration": 11,
    "start_time": "2021-07-17T11:52:19.288Z"
   },
   {
    "duration": 892,
    "start_time": "2021-07-17T11:52:23.881Z"
   },
   {
    "duration": 19,
    "start_time": "2021-07-17T11:52:24.776Z"
   },
   {
    "duration": 36,
    "start_time": "2021-07-17T11:52:24.799Z"
   },
   {
    "duration": 45,
    "start_time": "2021-07-17T11:52:24.839Z"
   },
   {
    "duration": 13,
    "start_time": "2021-07-17T11:52:24.887Z"
   },
   {
    "duration": 13,
    "start_time": "2021-07-17T11:52:24.903Z"
   },
   {
    "duration": 14,
    "start_time": "2021-07-17T11:52:24.920Z"
   },
   {
    "duration": 64,
    "start_time": "2021-07-17T11:52:24.939Z"
   },
   {
    "duration": 41,
    "start_time": "2021-07-17T11:52:25.007Z"
   },
   {
    "duration": 6,
    "start_time": "2021-07-17T11:52:25.051Z"
   },
   {
    "duration": 6,
    "start_time": "2021-07-17T11:52:25.084Z"
   },
   {
    "duration": 21,
    "start_time": "2021-07-17T11:52:25.093Z"
   },
   {
    "duration": 16,
    "start_time": "2021-07-17T11:52:25.116Z"
   },
   {
    "duration": 61,
    "start_time": "2021-07-17T11:52:25.135Z"
   },
   {
    "duration": 43,
    "start_time": "2021-07-17T11:52:25.198Z"
   },
   {
    "duration": 48,
    "start_time": "2021-07-17T11:52:25.243Z"
   },
   {
    "duration": 23,
    "start_time": "2021-07-17T11:52:25.293Z"
   },
   {
    "duration": 6,
    "start_time": "2021-07-17T11:52:25.319Z"
   },
   {
    "duration": 4541,
    "start_time": "2021-07-17T11:52:25.328Z"
   },
   {
    "duration": 3568,
    "start_time": "2021-07-17T11:52:29.872Z"
   },
   {
    "duration": 47,
    "start_time": "2021-07-17T11:52:33.442Z"
   },
   {
    "duration": 30,
    "start_time": "2021-07-17T11:52:33.492Z"
   },
   {
    "duration": 22,
    "start_time": "2021-07-17T11:52:33.528Z"
   },
   {
    "duration": 46,
    "start_time": "2021-07-17T11:52:33.554Z"
   },
   {
    "duration": 45,
    "start_time": "2021-07-17T11:52:33.604Z"
   },
   {
    "duration": 28,
    "start_time": "2021-07-17T11:52:33.683Z"
   },
   {
    "duration": 24,
    "start_time": "2021-07-17T11:52:33.714Z"
   },
   {
    "duration": 82,
    "start_time": "2021-07-17T11:52:33.741Z"
   },
   {
    "duration": 25,
    "start_time": "2021-07-17T11:52:33.825Z"
   },
   {
    "duration": 33,
    "start_time": "2021-07-17T11:52:33.853Z"
   },
   {
    "duration": 10,
    "start_time": "2021-07-17T11:52:33.889Z"
   },
   {
    "duration": 15,
    "start_time": "2021-07-17T11:52:33.901Z"
   },
   {
    "duration": 11,
    "start_time": "2021-07-17T11:52:33.919Z"
   },
   {
    "duration": 64,
    "start_time": "2021-07-17T11:52:33.932Z"
   },
   {
    "duration": 15,
    "start_time": "2021-07-17T11:57:42.506Z"
   },
   {
    "duration": 13,
    "start_time": "2021-07-17T11:57:50.609Z"
   },
   {
    "duration": 853,
    "start_time": "2021-07-17T12:00:43.263Z"
   },
   {
    "duration": 14,
    "start_time": "2021-07-17T12:00:44.118Z"
   },
   {
    "duration": 55,
    "start_time": "2021-07-17T12:00:44.135Z"
   },
   {
    "duration": 11,
    "start_time": "2021-07-17T12:00:44.193Z"
   },
   {
    "duration": 10,
    "start_time": "2021-07-17T12:00:44.206Z"
   },
   {
    "duration": 12,
    "start_time": "2021-07-17T12:00:44.219Z"
   },
   {
    "duration": 54,
    "start_time": "2021-07-17T12:00:44.233Z"
   },
   {
    "duration": 23,
    "start_time": "2021-07-17T12:00:44.290Z"
   },
   {
    "duration": 40,
    "start_time": "2021-07-17T12:00:44.316Z"
   },
   {
    "duration": 5,
    "start_time": "2021-07-17T12:00:44.382Z"
   },
   {
    "duration": 7,
    "start_time": "2021-07-17T12:00:44.389Z"
   },
   {
    "duration": 20,
    "start_time": "2021-07-17T12:00:44.398Z"
   },
   {
    "duration": 16,
    "start_time": "2021-07-17T12:00:44.420Z"
   },
   {
    "duration": 54,
    "start_time": "2021-07-17T12:00:44.439Z"
   },
   {
    "duration": 42,
    "start_time": "2021-07-17T12:00:44.496Z"
   },
   {
    "duration": 46,
    "start_time": "2021-07-17T12:00:44.540Z"
   },
   {
    "duration": 23,
    "start_time": "2021-07-17T12:00:44.588Z"
   },
   {
    "duration": 7,
    "start_time": "2021-07-17T12:00:44.613Z"
   },
   {
    "duration": 4399,
    "start_time": "2021-07-17T12:00:44.856Z"
   },
   {
    "duration": 3476,
    "start_time": "2021-07-17T12:00:49.259Z"
   },
   {
    "duration": 49,
    "start_time": "2021-07-17T12:00:52.738Z"
   },
   {
    "duration": 28,
    "start_time": "2021-07-17T12:00:52.790Z"
   },
   {
    "duration": 20,
    "start_time": "2021-07-17T12:00:52.820Z"
   },
   {
    "duration": 52,
    "start_time": "2021-07-17T12:00:52.842Z"
   },
   {
    "duration": 45,
    "start_time": "2021-07-17T12:00:52.896Z"
   },
   {
    "duration": 47,
    "start_time": "2021-07-17T12:00:52.944Z"
   },
   {
    "duration": 20,
    "start_time": "2021-07-17T12:00:52.994Z"
   },
   {
    "duration": 66,
    "start_time": "2021-07-17T12:00:53.016Z"
   },
   {
    "duration": 25,
    "start_time": "2021-07-17T12:00:53.084Z"
   },
   {
    "duration": 8,
    "start_time": "2021-07-17T12:00:53.112Z"
   },
   {
    "duration": 9,
    "start_time": "2021-07-17T12:00:53.123Z"
   },
   {
    "duration": 52,
    "start_time": "2021-07-17T12:00:53.134Z"
   },
   {
    "duration": 10,
    "start_time": "2021-07-17T12:00:53.189Z"
   },
   {
    "duration": 30,
    "start_time": "2021-07-17T12:00:53.202Z"
   },
   {
    "duration": 282,
    "start_time": "2021-07-17T12:23:48.972Z"
   },
   {
    "duration": 423,
    "start_time": "2021-07-17T12:24:10.452Z"
   },
   {
    "duration": 378,
    "start_time": "2021-07-17T12:24:16.769Z"
   },
   {
    "duration": 7,
    "start_time": "2021-07-17T12:26:22.812Z"
   },
   {
    "duration": 330,
    "start_time": "2021-07-17T12:26:37.208Z"
   },
   {
    "duration": 6,
    "start_time": "2021-07-17T12:26:51.714Z"
   },
   {
    "duration": 7,
    "start_time": "2021-07-17T12:27:07.328Z"
   },
   {
    "duration": 358,
    "start_time": "2021-07-17T12:27:14.410Z"
   },
   {
    "duration": 318,
    "start_time": "2021-07-17T12:27:25.323Z"
   },
   {
    "duration": 331,
    "start_time": "2021-07-17T12:27:28.567Z"
   },
   {
    "duration": 99,
    "start_time": "2021-07-17T12:27:50.522Z"
   },
   {
    "duration": 94,
    "start_time": "2021-07-17T12:28:21.240Z"
   },
   {
    "duration": 358,
    "start_time": "2021-07-17T12:28:30.881Z"
   },
   {
    "duration": 332,
    "start_time": "2021-07-17T12:28:42.322Z"
   },
   {
    "duration": 17,
    "start_time": "2021-07-17T12:29:03.249Z"
   },
   {
    "duration": 23,
    "start_time": "2021-07-17T12:29:16.562Z"
   },
   {
    "duration": 17,
    "start_time": "2021-07-17T12:29:25.952Z"
   },
   {
    "duration": 348,
    "start_time": "2021-07-17T12:29:34.601Z"
   },
   {
    "duration": 544,
    "start_time": "2021-07-17T12:29:46.533Z"
   },
   {
    "duration": 16,
    "start_time": "2021-07-17T12:29:52.124Z"
   },
   {
    "duration": 98,
    "start_time": "2021-07-17T12:30:50.924Z"
   },
   {
    "duration": 377,
    "start_time": "2021-07-17T12:30:55.161Z"
   },
   {
    "duration": 322,
    "start_time": "2021-07-17T12:30:59.639Z"
   },
   {
    "duration": 337,
    "start_time": "2021-07-17T12:31:18.635Z"
   },
   {
    "duration": 345,
    "start_time": "2021-07-17T12:31:33.962Z"
   },
   {
    "duration": 328,
    "start_time": "2021-07-17T12:31:38.393Z"
   },
   {
    "duration": 318,
    "start_time": "2021-07-17T12:31:43.618Z"
   },
   {
    "duration": 683,
    "start_time": "2021-07-17T12:32:12.671Z"
   },
   {
    "duration": 27,
    "start_time": "2021-07-17T12:32:27.962Z"
   },
   {
    "duration": 343,
    "start_time": "2021-07-17T12:32:49.001Z"
   },
   {
    "duration": 6,
    "start_time": "2021-07-17T12:32:53.610Z"
   },
   {
    "duration": 7,
    "start_time": "2021-07-17T12:33:08.275Z"
   },
   {
    "duration": 17,
    "start_time": "2021-07-17T12:33:15.410Z"
   },
   {
    "duration": 14,
    "start_time": "2021-07-17T12:34:00.287Z"
   },
   {
    "duration": 52,
    "start_time": "2021-07-17T12:34:16.369Z"
   },
   {
    "duration": 49,
    "start_time": "2021-07-17T12:34:37.054Z"
   },
   {
    "duration": 50,
    "start_time": "2021-07-17T12:35:07.561Z"
   },
   {
    "duration": 52,
    "start_time": "2021-07-17T12:35:14.591Z"
   },
   {
    "duration": 11,
    "start_time": "2021-07-17T12:35:40.483Z"
   },
   {
    "duration": 9088,
    "start_time": "2021-07-17T12:35:54.884Z"
   },
   {
    "duration": 164,
    "start_time": "2021-07-17T12:36:08.567Z"
   },
   {
    "duration": 118,
    "start_time": "2021-07-17T12:36:55.531Z"
   },
   {
    "duration": 320,
    "start_time": "2021-07-17T12:37:38.728Z"
   },
   {
    "duration": 21,
    "start_time": "2021-07-17T12:37:44.043Z"
   },
   {
    "duration": 19,
    "start_time": "2021-07-17T12:38:02.635Z"
   },
   {
    "duration": 10,
    "start_time": "2021-07-17T12:38:16.720Z"
   },
   {
    "duration": 9,
    "start_time": "2021-07-17T12:38:23.615Z"
   },
   {
    "duration": 8,
    "start_time": "2021-07-17T12:38:35.197Z"
   },
   {
    "duration": 11,
    "start_time": "2021-07-17T12:38:56.796Z"
   },
   {
    "duration": 20,
    "start_time": "2021-07-17T12:39:04.205Z"
   },
   {
    "duration": 12,
    "start_time": "2021-07-17T12:39:23.814Z"
   },
   {
    "duration": 341,
    "start_time": "2021-07-17T12:40:02.403Z"
   },
   {
    "duration": 316,
    "start_time": "2021-07-17T12:40:14.034Z"
   },
   {
    "duration": 10,
    "start_time": "2021-07-17T12:40:20.354Z"
   },
   {
    "duration": 12,
    "start_time": "2021-07-17T12:40:27.933Z"
   },
   {
    "duration": 4638,
    "start_time": "2021-07-17T12:41:05.286Z"
   },
   {
    "duration": 4611,
    "start_time": "2021-07-17T12:41:35.407Z"
   },
   {
    "duration": 24,
    "start_time": "2021-07-17T12:41:53.483Z"
   },
   {
    "duration": 4805,
    "start_time": "2021-07-17T12:42:04.442Z"
   },
   {
    "duration": 22,
    "start_time": "2021-07-17T12:42:40.088Z"
   },
   {
    "duration": 366,
    "start_time": "2021-07-17T12:43:54.692Z"
   },
   {
    "duration": 369,
    "start_time": "2021-07-17T12:44:31.820Z"
   },
   {
    "duration": 341,
    "start_time": "2021-07-17T12:44:42.417Z"
   },
   {
    "duration": 374,
    "start_time": "2021-07-17T12:44:53.015Z"
   },
   {
    "duration": 325,
    "start_time": "2021-07-17T12:45:04.754Z"
   },
   {
    "duration": 555,
    "start_time": "2021-07-17T12:45:11.888Z"
   },
   {
    "duration": 382,
    "start_time": "2021-07-17T12:45:30.675Z"
   },
   {
    "duration": 24,
    "start_time": "2021-07-17T12:45:50.008Z"
   },
   {
    "duration": 8412,
    "start_time": "2021-07-17T12:45:56.087Z"
   },
   {
    "duration": 73,
    "start_time": "2021-07-17T12:47:15.008Z"
   },
   {
    "duration": 14,
    "start_time": "2021-07-17T12:47:27.557Z"
   },
   {
    "duration": 10,
    "start_time": "2021-07-17T12:47:42.525Z"
   },
   {
    "duration": 11,
    "start_time": "2021-07-17T12:50:10.401Z"
   },
   {
    "duration": 20,
    "start_time": "2021-07-17T12:51:03.332Z"
   },
   {
    "duration": 22,
    "start_time": "2021-07-17T12:51:49.810Z"
   },
   {
    "duration": 8,
    "start_time": "2021-07-17T12:52:40.163Z"
   },
   {
    "duration": 10,
    "start_time": "2021-07-17T12:52:50.606Z"
   },
   {
    "duration": 10,
    "start_time": "2021-07-17T12:53:15.121Z"
   },
   {
    "duration": 889,
    "start_time": "2021-07-17T12:54:04.865Z"
   },
   {
    "duration": 25,
    "start_time": "2021-07-17T12:54:05.757Z"
   },
   {
    "duration": 40,
    "start_time": "2021-07-17T12:54:05.786Z"
   },
   {
    "duration": 11,
    "start_time": "2021-07-17T12:54:05.829Z"
   },
   {
    "duration": 40,
    "start_time": "2021-07-17T12:54:05.842Z"
   },
   {
    "duration": 12,
    "start_time": "2021-07-17T12:54:05.885Z"
   },
   {
    "duration": 23,
    "start_time": "2021-07-17T12:54:05.899Z"
   },
   {
    "duration": 30,
    "start_time": "2021-07-17T12:54:05.925Z"
   },
   {
    "duration": 55,
    "start_time": "2021-07-17T12:54:05.959Z"
   },
   {
    "duration": 4,
    "start_time": "2021-07-17T12:54:06.017Z"
   },
   {
    "duration": 18,
    "start_time": "2021-07-17T12:54:06.023Z"
   },
   {
    "duration": 22,
    "start_time": "2021-07-17T12:54:06.043Z"
   },
   {
    "duration": 23,
    "start_time": "2021-07-17T12:54:06.067Z"
   },
   {
    "duration": 33,
    "start_time": "2021-07-17T12:54:06.093Z"
   },
   {
    "duration": 56,
    "start_time": "2021-07-17T12:54:06.128Z"
   },
   {
    "duration": 21,
    "start_time": "2021-07-17T12:54:06.186Z"
   },
   {
    "duration": 23,
    "start_time": "2021-07-17T12:54:06.210Z"
   },
   {
    "duration": 8,
    "start_time": "2021-07-17T12:54:06.235Z"
   },
   {
    "duration": 4840,
    "start_time": "2021-07-17T12:54:06.246Z"
   },
   {
    "duration": 3902,
    "start_time": "2021-07-17T12:54:11.089Z"
   },
   {
    "duration": 44,
    "start_time": "2021-07-17T12:54:14.994Z"
   },
   {
    "duration": 42,
    "start_time": "2021-07-17T12:54:15.041Z"
   },
   {
    "duration": 22,
    "start_time": "2021-07-17T12:54:15.088Z"
   },
   {
    "duration": 450,
    "start_time": "2021-07-17T12:54:15.113Z"
   },
   {
    "duration": -244,
    "start_time": "2021-07-17T12:54:15.810Z"
   },
   {
    "duration": -245,
    "start_time": "2021-07-17T12:54:15.813Z"
   },
   {
    "duration": -247,
    "start_time": "2021-07-17T12:54:15.816Z"
   },
   {
    "duration": -249,
    "start_time": "2021-07-17T12:54:15.820Z"
   },
   {
    "duration": -251,
    "start_time": "2021-07-17T12:54:15.823Z"
   },
   {
    "duration": -253,
    "start_time": "2021-07-17T12:54:15.826Z"
   },
   {
    "duration": -278,
    "start_time": "2021-07-17T12:54:15.853Z"
   },
   {
    "duration": -283,
    "start_time": "2021-07-17T12:54:15.859Z"
   },
   {
    "duration": -285,
    "start_time": "2021-07-17T12:54:15.863Z"
   },
   {
    "duration": -289,
    "start_time": "2021-07-17T12:54:15.868Z"
   },
   {
    "duration": -290,
    "start_time": "2021-07-17T12:54:15.871Z"
   },
   {
    "duration": -294,
    "start_time": "2021-07-17T12:54:15.876Z"
   },
   {
    "duration": 904,
    "start_time": "2021-07-17T12:54:44.405Z"
   },
   {
    "duration": 15,
    "start_time": "2021-07-17T12:54:45.312Z"
   },
   {
    "duration": 58,
    "start_time": "2021-07-17T12:54:45.330Z"
   },
   {
    "duration": 11,
    "start_time": "2021-07-17T12:54:45.391Z"
   },
   {
    "duration": 10,
    "start_time": "2021-07-17T12:54:45.405Z"
   },
   {
    "duration": 12,
    "start_time": "2021-07-17T12:54:45.418Z"
   },
   {
    "duration": 52,
    "start_time": "2021-07-17T12:54:45.432Z"
   },
   {
    "duration": 23,
    "start_time": "2021-07-17T12:54:45.488Z"
   },
   {
    "duration": 43,
    "start_time": "2021-07-17T12:54:45.514Z"
   },
   {
    "duration": 5,
    "start_time": "2021-07-17T12:54:45.582Z"
   },
   {
    "duration": 12,
    "start_time": "2021-07-17T12:54:45.589Z"
   },
   {
    "duration": 26,
    "start_time": "2021-07-17T12:54:45.603Z"
   },
   {
    "duration": 18,
    "start_time": "2021-07-17T12:54:45.631Z"
   },
   {
    "duration": 51,
    "start_time": "2021-07-17T12:54:45.652Z"
   },
   {
    "duration": 41,
    "start_time": "2021-07-17T12:54:45.706Z"
   },
   {
    "duration": 51,
    "start_time": "2021-07-17T12:54:45.750Z"
   },
   {
    "duration": 22,
    "start_time": "2021-07-17T12:54:45.804Z"
   },
   {
    "duration": 7,
    "start_time": "2021-07-17T12:54:45.828Z"
   },
   {
    "duration": 4631,
    "start_time": "2021-07-17T12:54:45.837Z"
   },
   {
    "duration": 3799,
    "start_time": "2021-07-17T12:54:50.471Z"
   },
   {
    "duration": 31,
    "start_time": "2021-07-17T12:54:54.283Z"
   },
   {
    "duration": 29,
    "start_time": "2021-07-17T12:54:54.317Z"
   },
   {
    "duration": 47,
    "start_time": "2021-07-17T12:54:54.351Z"
   },
   {
    "duration": 8,
    "start_time": "2021-07-17T12:54:54.401Z"
   },
   {
    "duration": 21,
    "start_time": "2021-07-17T12:54:54.411Z"
   },
   {
    "duration": 78,
    "start_time": "2021-07-17T12:54:54.435Z"
   },
   {
    "duration": 27,
    "start_time": "2021-07-17T12:54:54.515Z"
   },
   {
    "duration": 38,
    "start_time": "2021-07-17T12:54:54.545Z"
   },
   {
    "duration": 24,
    "start_time": "2021-07-17T12:54:54.586Z"
   },
   {
    "duration": 42,
    "start_time": "2021-07-17T12:54:54.612Z"
   },
   {
    "duration": 24,
    "start_time": "2021-07-17T12:54:54.683Z"
   },
   {
    "duration": 8,
    "start_time": "2021-07-17T12:54:54.710Z"
   },
   {
    "duration": 12,
    "start_time": "2021-07-17T12:54:54.720Z"
   },
   {
    "duration": 51,
    "start_time": "2021-07-17T12:54:54.735Z"
   },
   {
    "duration": 11,
    "start_time": "2021-07-17T12:54:54.789Z"
   },
   {
    "duration": 31,
    "start_time": "2021-07-17T12:54:54.803Z"
   },
   {
    "duration": 885,
    "start_time": "2021-07-17T12:57:53.319Z"
   },
   {
    "duration": 15,
    "start_time": "2021-07-17T12:57:54.206Z"
   },
   {
    "duration": 69,
    "start_time": "2021-07-17T12:57:54.224Z"
   },
   {
    "duration": 11,
    "start_time": "2021-07-17T12:57:54.296Z"
   },
   {
    "duration": 17,
    "start_time": "2021-07-17T12:57:54.309Z"
   },
   {
    "duration": 12,
    "start_time": "2021-07-17T12:57:54.328Z"
   },
   {
    "duration": 42,
    "start_time": "2021-07-17T12:57:54.342Z"
   },
   {
    "duration": 24,
    "start_time": "2021-07-17T12:57:54.387Z"
   },
   {
    "duration": 46,
    "start_time": "2021-07-17T12:57:54.414Z"
   },
   {
    "duration": 22,
    "start_time": "2021-07-17T12:57:54.462Z"
   },
   {
    "duration": 16,
    "start_time": "2021-07-17T12:57:54.487Z"
   },
   {
    "duration": 23,
    "start_time": "2021-07-17T12:57:54.505Z"
   },
   {
    "duration": 16,
    "start_time": "2021-07-17T12:57:54.531Z"
   },
   {
    "duration": 45,
    "start_time": "2021-07-17T12:57:54.549Z"
   },
   {
    "duration": 42,
    "start_time": "2021-07-17T12:57:54.597Z"
   },
   {
    "duration": 47,
    "start_time": "2021-07-17T12:57:54.642Z"
   },
   {
    "duration": 9,
    "start_time": "2021-07-17T12:57:54.691Z"
   },
   {
    "duration": 23,
    "start_time": "2021-07-17T12:57:54.702Z"
   },
   {
    "duration": 7,
    "start_time": "2021-07-17T12:57:54.727Z"
   },
   {
    "duration": 5025,
    "start_time": "2021-07-17T12:57:54.736Z"
   },
   {
    "duration": 3999,
    "start_time": "2021-07-17T12:57:59.765Z"
   },
   {
    "duration": 44,
    "start_time": "2021-07-17T12:58:03.766Z"
   },
   {
    "duration": 24,
    "start_time": "2021-07-17T12:58:03.815Z"
   },
   {
    "duration": 48,
    "start_time": "2021-07-17T12:58:03.841Z"
   },
   {
    "duration": 8,
    "start_time": "2021-07-17T12:58:03.891Z"
   },
   {
    "duration": 31,
    "start_time": "2021-07-17T12:58:03.902Z"
   },
   {
    "duration": 64,
    "start_time": "2021-07-17T12:58:03.935Z"
   },
   {
    "duration": 25,
    "start_time": "2021-07-17T12:58:04.002Z"
   },
   {
    "duration": 11,
    "start_time": "2021-07-17T12:58:04.029Z"
   },
   {
    "duration": 58,
    "start_time": "2021-07-17T12:58:04.042Z"
   },
   {
    "duration": 43,
    "start_time": "2021-07-17T12:58:04.103Z"
   },
   {
    "duration": 53,
    "start_time": "2021-07-17T12:58:04.149Z"
   },
   {
    "duration": 11,
    "start_time": "2021-07-17T12:58:04.205Z"
   },
   {
    "duration": 15,
    "start_time": "2021-07-17T12:58:04.219Z"
   },
   {
    "duration": 15,
    "start_time": "2021-07-17T12:58:04.236Z"
   },
   {
    "duration": 35,
    "start_time": "2021-07-17T12:58:04.253Z"
   },
   {
    "duration": 40,
    "start_time": "2021-07-17T12:58:04.290Z"
   },
   {
    "duration": 141,
    "start_time": "2021-07-17T12:59:09.442Z"
   },
   {
    "duration": 14,
    "start_time": "2021-07-17T13:05:13.840Z"
   },
   {
    "duration": 10,
    "start_time": "2021-07-17T13:05:29.176Z"
   },
   {
    "duration": 11,
    "start_time": "2021-07-17T13:05:33.089Z"
   },
   {
    "duration": 12,
    "start_time": "2021-07-17T13:05:39.935Z"
   },
   {
    "duration": 19,
    "start_time": "2021-07-17T13:05:46.496Z"
   },
   {
    "duration": 8,
    "start_time": "2021-07-17T13:08:13.379Z"
   },
   {
    "duration": 7,
    "start_time": "2021-07-17T13:08:35.740Z"
   },
   {
    "duration": 7,
    "start_time": "2021-07-17T13:08:41.141Z"
   },
   {
    "duration": 13,
    "start_time": "2021-07-17T13:09:18.287Z"
   },
   {
    "duration": 453,
    "start_time": "2021-07-17T13:09:30.859Z"
   },
   {
    "duration": 7,
    "start_time": "2021-07-17T13:09:36.940Z"
   },
   {
    "duration": -280,
    "start_time": "2021-07-17T13:10:19.939Z"
   },
   {
    "duration": 8,
    "start_time": "2021-07-17T13:10:24.466Z"
   },
   {
    "duration": 7,
    "start_time": "2021-07-17T13:10:47.246Z"
   },
   {
    "duration": 6,
    "start_time": "2021-07-17T13:10:53.366Z"
   },
   {
    "duration": -29,
    "start_time": "2021-07-17T13:11:07.012Z"
   },
   {
    "duration": 9,
    "start_time": "2021-07-17T13:11:12.098Z"
   },
   {
    "duration": 9347,
    "start_time": "2021-07-17T13:11:23.086Z"
   },
   {
    "duration": 7,
    "start_time": "2021-07-17T13:11:35.661Z"
   },
   {
    "duration": 501,
    "start_time": "2021-07-17T13:11:46.694Z"
   },
   {
    "duration": 5,
    "start_time": "2021-07-17T13:11:56.093Z"
   },
   {
    "duration": 6,
    "start_time": "2021-07-17T13:12:10.030Z"
   },
   {
    "duration": 7,
    "start_time": "2021-07-17T13:12:22.182Z"
   },
   {
    "duration": 7,
    "start_time": "2021-07-17T13:12:26.902Z"
   },
   {
    "duration": 7,
    "start_time": "2021-07-17T13:13:29.474Z"
   },
   {
    "duration": 7,
    "start_time": "2021-07-17T13:13:37.300Z"
   },
   {
    "duration": 112,
    "start_time": "2021-07-17T13:13:58.622Z"
   },
   {
    "duration": 9,
    "start_time": "2021-07-17T13:14:05.085Z"
   },
   {
    "duration": 8,
    "start_time": "2021-07-17T13:14:08.381Z"
   },
   {
    "duration": 125,
    "start_time": "2021-07-17T13:14:23.897Z"
   },
   {
    "duration": 141,
    "start_time": "2021-07-17T13:16:27.036Z"
   },
   {
    "duration": 6,
    "start_time": "2021-07-17T13:18:14.806Z"
   },
   {
    "duration": 6,
    "start_time": "2021-07-17T13:18:53.453Z"
   },
   {
    "duration": 5,
    "start_time": "2021-07-17T13:19:11.125Z"
   },
   {
    "duration": 7,
    "start_time": "2021-07-17T13:20:13.402Z"
   },
   {
    "duration": 406,
    "start_time": "2021-07-17T13:21:25.847Z"
   },
   {
    "duration": 8,
    "start_time": "2021-07-17T13:21:42.955Z"
   },
   {
    "duration": 6,
    "start_time": "2021-07-17T13:21:55.474Z"
   },
   {
    "duration": 7,
    "start_time": "2021-07-17T13:22:15.402Z"
   },
   {
    "duration": 6,
    "start_time": "2021-07-17T13:22:19.730Z"
   },
   {
    "duration": 9,
    "start_time": "2021-07-17T13:23:28.128Z"
   },
   {
    "duration": 851,
    "start_time": "2021-07-17T13:24:56.243Z"
   },
   {
    "duration": 15,
    "start_time": "2021-07-17T13:24:57.097Z"
   },
   {
    "duration": 34,
    "start_time": "2021-07-17T13:24:57.115Z"
   },
   {
    "duration": 35,
    "start_time": "2021-07-17T13:24:57.152Z"
   },
   {
    "duration": 13,
    "start_time": "2021-07-17T13:24:57.189Z"
   },
   {
    "duration": 12,
    "start_time": "2021-07-17T13:24:57.204Z"
   },
   {
    "duration": 20,
    "start_time": "2021-07-17T13:24:57.219Z"
   },
   {
    "duration": 47,
    "start_time": "2021-07-17T13:24:57.243Z"
   },
   {
    "duration": 46,
    "start_time": "2021-07-17T13:24:57.293Z"
   },
   {
    "duration": 4,
    "start_time": "2021-07-17T13:24:57.342Z"
   },
   {
    "duration": 13,
    "start_time": "2021-07-17T13:24:57.348Z"
   },
   {
    "duration": 32,
    "start_time": "2021-07-17T13:24:57.363Z"
   },
   {
    "duration": 15,
    "start_time": "2021-07-17T13:24:57.398Z"
   },
   {
    "duration": 25,
    "start_time": "2021-07-17T13:24:57.415Z"
   },
   {
    "duration": 74,
    "start_time": "2021-07-17T13:24:57.443Z"
   },
   {
    "duration": 19,
    "start_time": "2021-07-17T13:24:57.520Z"
   },
   {
    "duration": 8,
    "start_time": "2021-07-17T13:24:57.542Z"
   },
   {
    "duration": 43,
    "start_time": "2021-07-17T13:24:57.552Z"
   },
   {
    "duration": 7,
    "start_time": "2021-07-17T13:24:57.597Z"
   },
   {
    "duration": 4483,
    "start_time": "2021-07-17T13:24:57.607Z"
   },
   {
    "duration": 3515,
    "start_time": "2021-07-17T13:25:02.093Z"
   },
   {
    "duration": 34,
    "start_time": "2021-07-17T13:25:05.611Z"
   },
   {
    "duration": 47,
    "start_time": "2021-07-17T13:25:05.650Z"
   },
   {
    "duration": 23,
    "start_time": "2021-07-17T13:25:05.700Z"
   },
   {
    "duration": 9,
    "start_time": "2021-07-17T13:25:05.725Z"
   },
   {
    "duration": 54,
    "start_time": "2021-07-17T13:25:05.736Z"
   },
   {
    "duration": 45,
    "start_time": "2021-07-17T13:25:05.794Z"
   },
   {
    "duration": 51,
    "start_time": "2021-07-17T13:25:05.842Z"
   },
   {
    "duration": 12,
    "start_time": "2021-07-17T13:25:05.896Z"
   },
   {
    "duration": 22,
    "start_time": "2021-07-17T13:25:05.911Z"
   },
   {
    "duration": 83,
    "start_time": "2021-07-17T13:25:05.937Z"
   },
   {
    "duration": 27,
    "start_time": "2021-07-17T13:25:06.023Z"
   },
   {
    "duration": 10,
    "start_time": "2021-07-17T13:25:06.081Z"
   },
   {
    "duration": 10,
    "start_time": "2021-07-17T13:25:06.094Z"
   },
   {
    "duration": 14,
    "start_time": "2021-07-17T13:25:06.107Z"
   },
   {
    "duration": 12,
    "start_time": "2021-07-17T13:25:06.123Z"
   },
   {
    "duration": 50,
    "start_time": "2021-07-17T13:25:06.138Z"
   },
   {
    "duration": 32,
    "start_time": "2021-07-17T13:25:06.191Z"
   },
   {
    "duration": 6,
    "start_time": "2021-07-17T13:30:56.520Z"
   },
   {
    "duration": 6,
    "start_time": "2021-07-17T13:31:41.960Z"
   },
   {
    "duration": 8,
    "start_time": "2021-07-17T13:32:13.403Z"
   },
   {
    "duration": 8,
    "start_time": "2021-07-17T13:34:20.359Z"
   },
   {
    "duration": 118,
    "start_time": "2021-07-17T13:34:53.153Z"
   },
   {
    "duration": 7,
    "start_time": "2021-07-17T13:37:37.806Z"
   },
   {
    "duration": 375,
    "start_time": "2021-07-18T08:07:23.963Z"
   },
   {
    "duration": 958,
    "start_time": "2021-07-18T08:07:26.845Z"
   },
   {
    "duration": 19,
    "start_time": "2021-07-18T08:07:27.806Z"
   },
   {
    "duration": 61,
    "start_time": "2021-07-18T08:07:27.829Z"
   },
   {
    "duration": 11,
    "start_time": "2021-07-18T08:07:27.893Z"
   },
   {
    "duration": 10,
    "start_time": "2021-07-18T08:07:27.907Z"
   },
   {
    "duration": 12,
    "start_time": "2021-07-18T08:07:27.919Z"
   },
   {
    "duration": 53,
    "start_time": "2021-07-18T08:07:27.935Z"
   },
   {
    "duration": 29,
    "start_time": "2021-07-18T08:07:27.990Z"
   },
   {
    "duration": 62,
    "start_time": "2021-07-18T08:07:28.023Z"
   },
   {
    "duration": 5,
    "start_time": "2021-07-18T08:07:28.088Z"
   },
   {
    "duration": 10,
    "start_time": "2021-07-18T08:07:28.095Z"
   },
   {
    "duration": 19,
    "start_time": "2021-07-18T08:07:28.107Z"
   },
   {
    "duration": 16,
    "start_time": "2021-07-18T08:07:28.129Z"
   },
   {
    "duration": 60,
    "start_time": "2021-07-18T08:07:28.147Z"
   },
   {
    "duration": 43,
    "start_time": "2021-07-18T08:07:28.210Z"
   },
   {
    "duration": 48,
    "start_time": "2021-07-18T08:07:28.255Z"
   },
   {
    "duration": 9,
    "start_time": "2021-07-18T08:07:28.305Z"
   },
   {
    "duration": 25,
    "start_time": "2021-07-18T08:07:28.317Z"
   },
   {
    "duration": 7,
    "start_time": "2021-07-18T08:07:28.344Z"
   },
   {
    "duration": 4497,
    "start_time": "2021-07-18T08:07:28.354Z"
   },
   {
    "duration": 3611,
    "start_time": "2021-07-18T08:07:32.853Z"
   },
   {
    "duration": 52,
    "start_time": "2021-07-18T08:07:36.466Z"
   },
   {
    "duration": 24,
    "start_time": "2021-07-18T08:07:36.520Z"
   },
   {
    "duration": 51,
    "start_time": "2021-07-18T08:07:36.547Z"
   },
   {
    "duration": 10,
    "start_time": "2021-07-18T08:07:36.601Z"
   },
   {
    "duration": 21,
    "start_time": "2021-07-18T08:07:36.614Z"
   },
   {
    "duration": 73,
    "start_time": "2021-07-18T08:07:36.639Z"
   },
   {
    "duration": 25,
    "start_time": "2021-07-18T08:07:36.715Z"
   },
   {
    "duration": 10,
    "start_time": "2021-07-18T08:07:36.742Z"
   },
   {
    "duration": 12,
    "start_time": "2021-07-18T08:07:36.786Z"
   },
   {
    "duration": 50,
    "start_time": "2021-07-18T08:09:25.107Z"
   }
  ],
  "kernelspec": {
   "display_name": "Python 3 (ipykernel)",
   "language": "python",
   "name": "python3"
  },
  "language_info": {
   "codemirror_mode": {
    "name": "ipython",
    "version": 3
   },
   "file_extension": ".py",
   "mimetype": "text/x-python",
   "name": "python",
   "nbconvert_exporter": "python",
   "pygments_lexer": "ipython3",
   "version": "3.9.7"
  },
  "toc": {
   "base_numbering": 1,
   "nav_menu": {},
   "number_sections": true,
   "sideBar": true,
   "skip_h1_title": true,
   "title_cell": "Table of Contents",
   "title_sidebar": "Contents",
   "toc_cell": false,
   "toc_position": {
    "height": "calc(100% - 180px)",
    "left": "10px",
    "top": "150px",
    "width": "165px"
   },
   "toc_section_display": true,
   "toc_window_display": true
  }
 },
 "nbformat": 4,
 "nbformat_minor": 2
}

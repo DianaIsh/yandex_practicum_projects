{
 "cells": [
  {
   "cell_type": "markdown",
   "metadata": {},
   "source": [
    "# Сборный проект: Исследование закономерностей, определяющих успешность компьютерной игры."
   ]
  },
  {
   "cell_type": "markdown",
   "metadata": {},
   "source": [
    "Предстоит работа с данными интернет-магазина «Стримчик», который продаёт по всему миру компьютерные игры. Из открытых источников доступны исторические данные о продажах игр, оценки пользователей и экспертов, жанры и платформы (например, Xbox или PlayStation). \n",
    "\n",
    "-----------\n",
    "###### Цель работы: \n",
    "Нужно выявить определяющие успешность игры закономерности. Это позволит сделать ставку на потенциально популярный продукт и спланировать рекламные кампании.\n",
    "\n",
    "------------\n",
    "Перед нами данные до 2016 года. Представим, что сейчас декабрь 2016 г., и мы планируем кампанию на 2017-й. Нужно отработать принцип работы с данными.\n",
    "\n",
    "В наборе данных попадается аббревиатура ESRB (Entertainment Software Rating Board) — это ассоциация, определяющая возрастной рейтинг компьютерных игр. ESRB оценивает игровой контент и присваивает ему подходящую возрастную категорию, например, «Для взрослых», «Для детей младшего возраста» или «Для подростков».\n",
    "\n",
    "###### Описание данных\n",
    "- Name — название игры\n",
    "- Platform — платформа\n",
    "- Year_of_Release — год выпуска\n",
    "- Genre — жанр игры\n",
    "- NA_sales — продажи в Северной Америке (миллионы проданных копий)\n",
    "- EU_sales — продажи в Европе (миллионы проданных копий)\n",
    "- JP_sales — продажи в Японии (миллионы проданных копий)\n",
    "- Other_sales — продажи в других странах (миллионы проданных копий)\n",
    "- Critic_Score — оценка критиков (максимум 100)\n",
    "- User_Score — оценка пользователей (максимум 10)\n",
    "- Rating — рейтинг от организации ESRB (англ. Entertainment Software Rating Board). Эта ассоциация определяет рейтинг компьютерных игр и присваивает им подходящую возрастную категорию.\n",
    "\n",
    "Данные за 2016 год могут быть неполными.\n"
   ]
  },
  {
   "cell_type": "markdown",
   "metadata": {},
   "source": [
    "## Предобработка данных "
   ]
  },
  {
   "cell_type": "code",
   "execution_count": 1,
   "metadata": {},
   "outputs": [],
   "source": [
    "import pandas as pd\n",
    "import numpy as np\n",
    "import matplotlib.pyplot as plt\n",
    "import seaborn as sns\n",
    "from numpy.random import seed\n",
    "from numpy.random import randn\n",
    "from scipy.stats import mannwhitneyu"
   ]
  },
  {
   "cell_type": "code",
   "execution_count": 2,
   "metadata": {},
   "outputs": [
    {
     "data": {
      "text/html": [
       "<div>\n",
       "<style scoped>\n",
       "    .dataframe tbody tr th:only-of-type {\n",
       "        vertical-align: middle;\n",
       "    }\n",
       "\n",
       "    .dataframe tbody tr th {\n",
       "        vertical-align: top;\n",
       "    }\n",
       "\n",
       "    .dataframe thead th {\n",
       "        text-align: right;\n",
       "    }\n",
       "</style>\n",
       "<table border=\"1\" class=\"dataframe\">\n",
       "  <thead>\n",
       "    <tr style=\"text-align: right;\">\n",
       "      <th></th>\n",
       "      <th>Name</th>\n",
       "      <th>Platform</th>\n",
       "      <th>Year_of_Release</th>\n",
       "      <th>Genre</th>\n",
       "      <th>NA_sales</th>\n",
       "      <th>EU_sales</th>\n",
       "      <th>JP_sales</th>\n",
       "      <th>Other_sales</th>\n",
       "      <th>Critic_Score</th>\n",
       "      <th>User_Score</th>\n",
       "      <th>Rating</th>\n",
       "    </tr>\n",
       "  </thead>\n",
       "  <tbody>\n",
       "    <tr>\n",
       "      <th>0</th>\n",
       "      <td>Wii Sports</td>\n",
       "      <td>Wii</td>\n",
       "      <td>2006.0</td>\n",
       "      <td>Sports</td>\n",
       "      <td>41.36</td>\n",
       "      <td>28.96</td>\n",
       "      <td>3.77</td>\n",
       "      <td>8.45</td>\n",
       "      <td>76.0</td>\n",
       "      <td>8</td>\n",
       "      <td>E</td>\n",
       "    </tr>\n",
       "    <tr>\n",
       "      <th>1</th>\n",
       "      <td>Super Mario Bros.</td>\n",
       "      <td>NES</td>\n",
       "      <td>1985.0</td>\n",
       "      <td>Platform</td>\n",
       "      <td>29.08</td>\n",
       "      <td>3.58</td>\n",
       "      <td>6.81</td>\n",
       "      <td>0.77</td>\n",
       "      <td>NaN</td>\n",
       "      <td>NaN</td>\n",
       "      <td>NaN</td>\n",
       "    </tr>\n",
       "    <tr>\n",
       "      <th>2</th>\n",
       "      <td>Mario Kart Wii</td>\n",
       "      <td>Wii</td>\n",
       "      <td>2008.0</td>\n",
       "      <td>Racing</td>\n",
       "      <td>15.68</td>\n",
       "      <td>12.76</td>\n",
       "      <td>3.79</td>\n",
       "      <td>3.29</td>\n",
       "      <td>82.0</td>\n",
       "      <td>8.3</td>\n",
       "      <td>E</td>\n",
       "    </tr>\n",
       "    <tr>\n",
       "      <th>3</th>\n",
       "      <td>Wii Sports Resort</td>\n",
       "      <td>Wii</td>\n",
       "      <td>2009.0</td>\n",
       "      <td>Sports</td>\n",
       "      <td>15.61</td>\n",
       "      <td>10.93</td>\n",
       "      <td>3.28</td>\n",
       "      <td>2.95</td>\n",
       "      <td>80.0</td>\n",
       "      <td>8</td>\n",
       "      <td>E</td>\n",
       "    </tr>\n",
       "    <tr>\n",
       "      <th>4</th>\n",
       "      <td>Pokemon Red/Pokemon Blue</td>\n",
       "      <td>GB</td>\n",
       "      <td>1996.0</td>\n",
       "      <td>Role-Playing</td>\n",
       "      <td>11.27</td>\n",
       "      <td>8.89</td>\n",
       "      <td>10.22</td>\n",
       "      <td>1.00</td>\n",
       "      <td>NaN</td>\n",
       "      <td>NaN</td>\n",
       "      <td>NaN</td>\n",
       "    </tr>\n",
       "    <tr>\n",
       "      <th>...</th>\n",
       "      <td>...</td>\n",
       "      <td>...</td>\n",
       "      <td>...</td>\n",
       "      <td>...</td>\n",
       "      <td>...</td>\n",
       "      <td>...</td>\n",
       "      <td>...</td>\n",
       "      <td>...</td>\n",
       "      <td>...</td>\n",
       "      <td>...</td>\n",
       "      <td>...</td>\n",
       "    </tr>\n",
       "    <tr>\n",
       "      <th>16710</th>\n",
       "      <td>Samurai Warriors: Sanada Maru</td>\n",
       "      <td>PS3</td>\n",
       "      <td>2016.0</td>\n",
       "      <td>Action</td>\n",
       "      <td>0.00</td>\n",
       "      <td>0.00</td>\n",
       "      <td>0.01</td>\n",
       "      <td>0.00</td>\n",
       "      <td>NaN</td>\n",
       "      <td>NaN</td>\n",
       "      <td>NaN</td>\n",
       "    </tr>\n",
       "    <tr>\n",
       "      <th>16711</th>\n",
       "      <td>LMA Manager 2007</td>\n",
       "      <td>X360</td>\n",
       "      <td>2006.0</td>\n",
       "      <td>Sports</td>\n",
       "      <td>0.00</td>\n",
       "      <td>0.01</td>\n",
       "      <td>0.00</td>\n",
       "      <td>0.00</td>\n",
       "      <td>NaN</td>\n",
       "      <td>NaN</td>\n",
       "      <td>NaN</td>\n",
       "    </tr>\n",
       "    <tr>\n",
       "      <th>16712</th>\n",
       "      <td>Haitaka no Psychedelica</td>\n",
       "      <td>PSV</td>\n",
       "      <td>2016.0</td>\n",
       "      <td>Adventure</td>\n",
       "      <td>0.00</td>\n",
       "      <td>0.00</td>\n",
       "      <td>0.01</td>\n",
       "      <td>0.00</td>\n",
       "      <td>NaN</td>\n",
       "      <td>NaN</td>\n",
       "      <td>NaN</td>\n",
       "    </tr>\n",
       "    <tr>\n",
       "      <th>16713</th>\n",
       "      <td>Spirits &amp; Spells</td>\n",
       "      <td>GBA</td>\n",
       "      <td>2003.0</td>\n",
       "      <td>Platform</td>\n",
       "      <td>0.01</td>\n",
       "      <td>0.00</td>\n",
       "      <td>0.00</td>\n",
       "      <td>0.00</td>\n",
       "      <td>NaN</td>\n",
       "      <td>NaN</td>\n",
       "      <td>NaN</td>\n",
       "    </tr>\n",
       "    <tr>\n",
       "      <th>16714</th>\n",
       "      <td>Winning Post 8 2016</td>\n",
       "      <td>PSV</td>\n",
       "      <td>2016.0</td>\n",
       "      <td>Simulation</td>\n",
       "      <td>0.00</td>\n",
       "      <td>0.00</td>\n",
       "      <td>0.01</td>\n",
       "      <td>0.00</td>\n",
       "      <td>NaN</td>\n",
       "      <td>NaN</td>\n",
       "      <td>NaN</td>\n",
       "    </tr>\n",
       "  </tbody>\n",
       "</table>\n",
       "<p>16715 rows × 11 columns</p>\n",
       "</div>"
      ],
      "text/plain": [
       "                                Name Platform  Year_of_Release         Genre  \\\n",
       "0                         Wii Sports      Wii           2006.0        Sports   \n",
       "1                  Super Mario Bros.      NES           1985.0      Platform   \n",
       "2                     Mario Kart Wii      Wii           2008.0        Racing   \n",
       "3                  Wii Sports Resort      Wii           2009.0        Sports   \n",
       "4           Pokemon Red/Pokemon Blue       GB           1996.0  Role-Playing   \n",
       "...                              ...      ...              ...           ...   \n",
       "16710  Samurai Warriors: Sanada Maru      PS3           2016.0        Action   \n",
       "16711               LMA Manager 2007     X360           2006.0        Sports   \n",
       "16712        Haitaka no Psychedelica      PSV           2016.0     Adventure   \n",
       "16713               Spirits & Spells      GBA           2003.0      Platform   \n",
       "16714            Winning Post 8 2016      PSV           2016.0    Simulation   \n",
       "\n",
       "       NA_sales  EU_sales  JP_sales  Other_sales  Critic_Score User_Score  \\\n",
       "0         41.36     28.96      3.77         8.45          76.0          8   \n",
       "1         29.08      3.58      6.81         0.77           NaN        NaN   \n",
       "2         15.68     12.76      3.79         3.29          82.0        8.3   \n",
       "3         15.61     10.93      3.28         2.95          80.0          8   \n",
       "4         11.27      8.89     10.22         1.00           NaN        NaN   \n",
       "...         ...       ...       ...          ...           ...        ...   \n",
       "16710      0.00      0.00      0.01         0.00           NaN        NaN   \n",
       "16711      0.00      0.01      0.00         0.00           NaN        NaN   \n",
       "16712      0.00      0.00      0.01         0.00           NaN        NaN   \n",
       "16713      0.01      0.00      0.00         0.00           NaN        NaN   \n",
       "16714      0.00      0.00      0.01         0.00           NaN        NaN   \n",
       "\n",
       "      Rating  \n",
       "0          E  \n",
       "1        NaN  \n",
       "2          E  \n",
       "3          E  \n",
       "4        NaN  \n",
       "...      ...  \n",
       "16710    NaN  \n",
       "16711    NaN  \n",
       "16712    NaN  \n",
       "16713    NaN  \n",
       "16714    NaN  \n",
       "\n",
       "[16715 rows x 11 columns]"
      ]
     },
     "execution_count": 2,
     "metadata": {},
     "output_type": "execute_result"
    }
   ],
   "source": [
    "# data = pd.read_csv('/Users/dianamini/Developer/Data/games.csv')\n",
    "# data"
   ]
  },
  {
   "cell_type": "code",
   "execution_count": 3,
   "metadata": {},
   "outputs": [
    {
     "name": "stdout",
     "output_type": "stream",
     "text": [
      "<class 'pandas.core.frame.DataFrame'>\n",
      "RangeIndex: 16715 entries, 0 to 16714\n",
      "Data columns (total 11 columns):\n",
      " #   Column           Non-Null Count  Dtype  \n",
      "---  ------           --------------  -----  \n",
      " 0   Name             16713 non-null  object \n",
      " 1   Platform         16715 non-null  object \n",
      " 2   Year_of_Release  16446 non-null  float64\n",
      " 3   Genre            16713 non-null  object \n",
      " 4   NA_sales         16715 non-null  float64\n",
      " 5   EU_sales         16715 non-null  float64\n",
      " 6   JP_sales         16715 non-null  float64\n",
      " 7   Other_sales      16715 non-null  float64\n",
      " 8   Critic_Score     8137 non-null   float64\n",
      " 9   User_Score       10014 non-null  object \n",
      " 10  Rating           9949 non-null   object \n",
      "dtypes: float64(6), object(5)\n",
      "memory usage: 1.4+ MB\n"
     ]
    }
   ],
   "source": [
    "data.info()"
   ]
  },
  {
   "cell_type": "markdown",
   "metadata": {},
   "source": [
    "- Year_of_Release перевести в int\n",
    "- User_Score перевести в float"
   ]
  },
  {
   "cell_type": "code",
   "execution_count": 4,
   "metadata": {},
   "outputs": [
    {
     "data": {
      "text/plain": [
       "Name                  2\n",
       "Platform              0\n",
       "Year_of_Release     269\n",
       "Genre                 2\n",
       "NA_sales              0\n",
       "EU_sales              0\n",
       "JP_sales              0\n",
       "Other_sales           0\n",
       "Critic_Score       8578\n",
       "User_Score         6701\n",
       "Rating             6766\n",
       "dtype: int64"
      ]
     },
     "execution_count": 4,
     "metadata": {},
     "output_type": "execute_result"
    }
   ],
   "source": [
    "data.isna().sum()"
   ]
  },
  {
   "cell_type": "markdown",
   "metadata": {},
   "source": [
    "- Пропуски в Name проверю есть ли там важная информация\n",
    "- Пропуски в Year_of_Release заполню выбивающимся значением\n",
    "- В Critic_Score, User_Score, Rating заменю на среднее по жанру"
   ]
  },
  {
   "cell_type": "markdown",
   "metadata": {},
   "source": [
    "### Обработка названий столбцов <a id=\"columns\"></a>"
   ]
  },
  {
   "cell_type": "code",
   "execution_count": 5,
   "metadata": {},
   "outputs": [
    {
     "data": {
      "text/html": [
       "<div>\n",
       "<style scoped>\n",
       "    .dataframe tbody tr th:only-of-type {\n",
       "        vertical-align: middle;\n",
       "    }\n",
       "\n",
       "    .dataframe tbody tr th {\n",
       "        vertical-align: top;\n",
       "    }\n",
       "\n",
       "    .dataframe thead th {\n",
       "        text-align: right;\n",
       "    }\n",
       "</style>\n",
       "<table border=\"1\" class=\"dataframe\">\n",
       "  <thead>\n",
       "    <tr style=\"text-align: right;\">\n",
       "      <th></th>\n",
       "      <th>name</th>\n",
       "      <th>platform</th>\n",
       "      <th>year_of_release</th>\n",
       "      <th>genre</th>\n",
       "      <th>na_sales</th>\n",
       "      <th>eu_sales</th>\n",
       "      <th>jp_sales</th>\n",
       "      <th>other_sales</th>\n",
       "      <th>critic_score</th>\n",
       "      <th>user_score</th>\n",
       "      <th>rating</th>\n",
       "    </tr>\n",
       "  </thead>\n",
       "  <tbody>\n",
       "    <tr>\n",
       "      <th>0</th>\n",
       "      <td>Wii Sports</td>\n",
       "      <td>Wii</td>\n",
       "      <td>2006.0</td>\n",
       "      <td>Sports</td>\n",
       "      <td>41.36</td>\n",
       "      <td>28.96</td>\n",
       "      <td>3.77</td>\n",
       "      <td>8.45</td>\n",
       "      <td>76.0</td>\n",
       "      <td>8</td>\n",
       "      <td>E</td>\n",
       "    </tr>\n",
       "    <tr>\n",
       "      <th>1</th>\n",
       "      <td>Super Mario Bros.</td>\n",
       "      <td>NES</td>\n",
       "      <td>1985.0</td>\n",
       "      <td>Platform</td>\n",
       "      <td>29.08</td>\n",
       "      <td>3.58</td>\n",
       "      <td>6.81</td>\n",
       "      <td>0.77</td>\n",
       "      <td>NaN</td>\n",
       "      <td>NaN</td>\n",
       "      <td>NaN</td>\n",
       "    </tr>\n",
       "    <tr>\n",
       "      <th>2</th>\n",
       "      <td>Mario Kart Wii</td>\n",
       "      <td>Wii</td>\n",
       "      <td>2008.0</td>\n",
       "      <td>Racing</td>\n",
       "      <td>15.68</td>\n",
       "      <td>12.76</td>\n",
       "      <td>3.79</td>\n",
       "      <td>3.29</td>\n",
       "      <td>82.0</td>\n",
       "      <td>8.3</td>\n",
       "      <td>E</td>\n",
       "    </tr>\n",
       "    <tr>\n",
       "      <th>3</th>\n",
       "      <td>Wii Sports Resort</td>\n",
       "      <td>Wii</td>\n",
       "      <td>2009.0</td>\n",
       "      <td>Sports</td>\n",
       "      <td>15.61</td>\n",
       "      <td>10.93</td>\n",
       "      <td>3.28</td>\n",
       "      <td>2.95</td>\n",
       "      <td>80.0</td>\n",
       "      <td>8</td>\n",
       "      <td>E</td>\n",
       "    </tr>\n",
       "    <tr>\n",
       "      <th>4</th>\n",
       "      <td>Pokemon Red/Pokemon Blue</td>\n",
       "      <td>GB</td>\n",
       "      <td>1996.0</td>\n",
       "      <td>Role-Playing</td>\n",
       "      <td>11.27</td>\n",
       "      <td>8.89</td>\n",
       "      <td>10.22</td>\n",
       "      <td>1.00</td>\n",
       "      <td>NaN</td>\n",
       "      <td>NaN</td>\n",
       "      <td>NaN</td>\n",
       "    </tr>\n",
       "    <tr>\n",
       "      <th>...</th>\n",
       "      <td>...</td>\n",
       "      <td>...</td>\n",
       "      <td>...</td>\n",
       "      <td>...</td>\n",
       "      <td>...</td>\n",
       "      <td>...</td>\n",
       "      <td>...</td>\n",
       "      <td>...</td>\n",
       "      <td>...</td>\n",
       "      <td>...</td>\n",
       "      <td>...</td>\n",
       "    </tr>\n",
       "    <tr>\n",
       "      <th>16710</th>\n",
       "      <td>Samurai Warriors: Sanada Maru</td>\n",
       "      <td>PS3</td>\n",
       "      <td>2016.0</td>\n",
       "      <td>Action</td>\n",
       "      <td>0.00</td>\n",
       "      <td>0.00</td>\n",
       "      <td>0.01</td>\n",
       "      <td>0.00</td>\n",
       "      <td>NaN</td>\n",
       "      <td>NaN</td>\n",
       "      <td>NaN</td>\n",
       "    </tr>\n",
       "    <tr>\n",
       "      <th>16711</th>\n",
       "      <td>LMA Manager 2007</td>\n",
       "      <td>X360</td>\n",
       "      <td>2006.0</td>\n",
       "      <td>Sports</td>\n",
       "      <td>0.00</td>\n",
       "      <td>0.01</td>\n",
       "      <td>0.00</td>\n",
       "      <td>0.00</td>\n",
       "      <td>NaN</td>\n",
       "      <td>NaN</td>\n",
       "      <td>NaN</td>\n",
       "    </tr>\n",
       "    <tr>\n",
       "      <th>16712</th>\n",
       "      <td>Haitaka no Psychedelica</td>\n",
       "      <td>PSV</td>\n",
       "      <td>2016.0</td>\n",
       "      <td>Adventure</td>\n",
       "      <td>0.00</td>\n",
       "      <td>0.00</td>\n",
       "      <td>0.01</td>\n",
       "      <td>0.00</td>\n",
       "      <td>NaN</td>\n",
       "      <td>NaN</td>\n",
       "      <td>NaN</td>\n",
       "    </tr>\n",
       "    <tr>\n",
       "      <th>16713</th>\n",
       "      <td>Spirits &amp; Spells</td>\n",
       "      <td>GBA</td>\n",
       "      <td>2003.0</td>\n",
       "      <td>Platform</td>\n",
       "      <td>0.01</td>\n",
       "      <td>0.00</td>\n",
       "      <td>0.00</td>\n",
       "      <td>0.00</td>\n",
       "      <td>NaN</td>\n",
       "      <td>NaN</td>\n",
       "      <td>NaN</td>\n",
       "    </tr>\n",
       "    <tr>\n",
       "      <th>16714</th>\n",
       "      <td>Winning Post 8 2016</td>\n",
       "      <td>PSV</td>\n",
       "      <td>2016.0</td>\n",
       "      <td>Simulation</td>\n",
       "      <td>0.00</td>\n",
       "      <td>0.00</td>\n",
       "      <td>0.01</td>\n",
       "      <td>0.00</td>\n",
       "      <td>NaN</td>\n",
       "      <td>NaN</td>\n",
       "      <td>NaN</td>\n",
       "    </tr>\n",
       "  </tbody>\n",
       "</table>\n",
       "<p>16715 rows × 11 columns</p>\n",
       "</div>"
      ],
      "text/plain": [
       "                                name platform  year_of_release         genre  \\\n",
       "0                         Wii Sports      Wii           2006.0        Sports   \n",
       "1                  Super Mario Bros.      NES           1985.0      Platform   \n",
       "2                     Mario Kart Wii      Wii           2008.0        Racing   \n",
       "3                  Wii Sports Resort      Wii           2009.0        Sports   \n",
       "4           Pokemon Red/Pokemon Blue       GB           1996.0  Role-Playing   \n",
       "...                              ...      ...              ...           ...   \n",
       "16710  Samurai Warriors: Sanada Maru      PS3           2016.0        Action   \n",
       "16711               LMA Manager 2007     X360           2006.0        Sports   \n",
       "16712        Haitaka no Psychedelica      PSV           2016.0     Adventure   \n",
       "16713               Spirits & Spells      GBA           2003.0      Platform   \n",
       "16714            Winning Post 8 2016      PSV           2016.0    Simulation   \n",
       "\n",
       "       na_sales  eu_sales  jp_sales  other_sales  critic_score user_score  \\\n",
       "0         41.36     28.96      3.77         8.45          76.0          8   \n",
       "1         29.08      3.58      6.81         0.77           NaN        NaN   \n",
       "2         15.68     12.76      3.79         3.29          82.0        8.3   \n",
       "3         15.61     10.93      3.28         2.95          80.0          8   \n",
       "4         11.27      8.89     10.22         1.00           NaN        NaN   \n",
       "...         ...       ...       ...          ...           ...        ...   \n",
       "16710      0.00      0.00      0.01         0.00           NaN        NaN   \n",
       "16711      0.00      0.01      0.00         0.00           NaN        NaN   \n",
       "16712      0.00      0.00      0.01         0.00           NaN        NaN   \n",
       "16713      0.01      0.00      0.00         0.00           NaN        NaN   \n",
       "16714      0.00      0.00      0.01         0.00           NaN        NaN   \n",
       "\n",
       "      rating  \n",
       "0          E  \n",
       "1        NaN  \n",
       "2          E  \n",
       "3          E  \n",
       "4        NaN  \n",
       "...      ...  \n",
       "16710    NaN  \n",
       "16711    NaN  \n",
       "16712    NaN  \n",
       "16713    NaN  \n",
       "16714    NaN  \n",
       "\n",
       "[16715 rows x 11 columns]"
      ]
     },
     "execution_count": 5,
     "metadata": {},
     "output_type": "execute_result"
    }
   ],
   "source": [
    "data.columns = data.columns.str.lower()\n",
    "data"
   ]
  },
  {
   "cell_type": "markdown",
   "metadata": {},
   "source": [
    "- Привела названия столбцов к нижнему регистру."
   ]
  },
  {
   "cell_type": "markdown",
   "metadata": {},
   "source": [
    "### Удаление лишних строк  "
   ]
  },
  {
   "cell_type": "code",
   "execution_count": 6,
   "metadata": {},
   "outputs": [],
   "source": [
    "data['name'] = data['name'].fillna(value = 'Noname')"
   ]
  },
  {
   "cell_type": "code",
   "execution_count": 7,
   "metadata": {},
   "outputs": [
    {
     "data": {
      "text/html": [
       "<div>\n",
       "<style scoped>\n",
       "    .dataframe tbody tr th:only-of-type {\n",
       "        vertical-align: middle;\n",
       "    }\n",
       "\n",
       "    .dataframe tbody tr th {\n",
       "        vertical-align: top;\n",
       "    }\n",
       "\n",
       "    .dataframe thead th {\n",
       "        text-align: right;\n",
       "    }\n",
       "</style>\n",
       "<table border=\"1\" class=\"dataframe\">\n",
       "  <thead>\n",
       "    <tr style=\"text-align: right;\">\n",
       "      <th></th>\n",
       "      <th>name</th>\n",
       "      <th>platform</th>\n",
       "      <th>year_of_release</th>\n",
       "      <th>genre</th>\n",
       "      <th>na_sales</th>\n",
       "      <th>eu_sales</th>\n",
       "      <th>jp_sales</th>\n",
       "      <th>other_sales</th>\n",
       "      <th>critic_score</th>\n",
       "      <th>user_score</th>\n",
       "      <th>rating</th>\n",
       "    </tr>\n",
       "  </thead>\n",
       "  <tbody>\n",
       "    <tr>\n",
       "      <th>659</th>\n",
       "      <td>Noname</td>\n",
       "      <td>GEN</td>\n",
       "      <td>1993.0</td>\n",
       "      <td>NaN</td>\n",
       "      <td>1.78</td>\n",
       "      <td>0.53</td>\n",
       "      <td>0.00</td>\n",
       "      <td>0.08</td>\n",
       "      <td>NaN</td>\n",
       "      <td>NaN</td>\n",
       "      <td>NaN</td>\n",
       "    </tr>\n",
       "    <tr>\n",
       "      <th>14244</th>\n",
       "      <td>Noname</td>\n",
       "      <td>GEN</td>\n",
       "      <td>1993.0</td>\n",
       "      <td>NaN</td>\n",
       "      <td>0.00</td>\n",
       "      <td>0.00</td>\n",
       "      <td>0.03</td>\n",
       "      <td>0.00</td>\n",
       "      <td>NaN</td>\n",
       "      <td>NaN</td>\n",
       "      <td>NaN</td>\n",
       "    </tr>\n",
       "  </tbody>\n",
       "</table>\n",
       "</div>"
      ],
      "text/plain": [
       "         name platform  year_of_release genre  na_sales  eu_sales  jp_sales  \\\n",
       "659    Noname      GEN           1993.0   NaN      1.78      0.53      0.00   \n",
       "14244  Noname      GEN           1993.0   NaN      0.00      0.00      0.03   \n",
       "\n",
       "       other_sales  critic_score user_score rating  \n",
       "659           0.08           NaN        NaN    NaN  \n",
       "14244         0.00           NaN        NaN    NaN  "
      ]
     },
     "execution_count": 7,
     "metadata": {},
     "output_type": "execute_result"
    }
   ],
   "source": [
    "df = data[data['name'] == 'Noname']\n",
    "df"
   ]
  },
  {
   "cell_type": "markdown",
   "metadata": {},
   "source": [
    "- В этих двух строках нет рейтинга, посмотрим есть ли еще игры 1993 года и какая информация по ним."
   ]
  },
  {
   "cell_type": "code",
   "execution_count": 8,
   "metadata": {},
   "outputs": [
    {
     "data": {
      "text/html": [
       "<div>\n",
       "<style scoped>\n",
       "    .dataframe tbody tr th:only-of-type {\n",
       "        vertical-align: middle;\n",
       "    }\n",
       "\n",
       "    .dataframe tbody tr th {\n",
       "        vertical-align: top;\n",
       "    }\n",
       "\n",
       "    .dataframe thead th {\n",
       "        text-align: right;\n",
       "    }\n",
       "</style>\n",
       "<table border=\"1\" class=\"dataframe\">\n",
       "  <thead>\n",
       "    <tr style=\"text-align: right;\">\n",
       "      <th></th>\n",
       "      <th>name</th>\n",
       "      <th>platform</th>\n",
       "      <th>year_of_release</th>\n",
       "      <th>genre</th>\n",
       "      <th>na_sales</th>\n",
       "      <th>eu_sales</th>\n",
       "      <th>jp_sales</th>\n",
       "      <th>other_sales</th>\n",
       "      <th>critic_score</th>\n",
       "      <th>user_score</th>\n",
       "      <th>rating</th>\n",
       "    </tr>\n",
       "  </thead>\n",
       "  <tbody>\n",
       "    <tr>\n",
       "      <th>56</th>\n",
       "      <td>Super Mario All-Stars</td>\n",
       "      <td>SNES</td>\n",
       "      <td>1993.0</td>\n",
       "      <td>Platform</td>\n",
       "      <td>5.99</td>\n",
       "      <td>2.15</td>\n",
       "      <td>2.12</td>\n",
       "      <td>0.29</td>\n",
       "      <td>NaN</td>\n",
       "      <td>NaN</td>\n",
       "      <td>NaN</td>\n",
       "    </tr>\n",
       "    <tr>\n",
       "      <th>476</th>\n",
       "      <td>Star Fox</td>\n",
       "      <td>SNES</td>\n",
       "      <td>1993.0</td>\n",
       "      <td>Shooter</td>\n",
       "      <td>1.61</td>\n",
       "      <td>0.51</td>\n",
       "      <td>0.80</td>\n",
       "      <td>0.07</td>\n",
       "      <td>NaN</td>\n",
       "      <td>NaN</td>\n",
       "      <td>NaN</td>\n",
       "    </tr>\n",
       "    <tr>\n",
       "      <th>659</th>\n",
       "      <td>Noname</td>\n",
       "      <td>GEN</td>\n",
       "      <td>1993.0</td>\n",
       "      <td>NaN</td>\n",
       "      <td>1.78</td>\n",
       "      <td>0.53</td>\n",
       "      <td>0.00</td>\n",
       "      <td>0.08</td>\n",
       "      <td>NaN</td>\n",
       "      <td>NaN</td>\n",
       "      <td>NaN</td>\n",
       "    </tr>\n",
       "    <tr>\n",
       "      <th>852</th>\n",
       "      <td>Super Street Fighter II</td>\n",
       "      <td>SNES</td>\n",
       "      <td>1993.0</td>\n",
       "      <td>Fighting</td>\n",
       "      <td>0.52</td>\n",
       "      <td>0.16</td>\n",
       "      <td>1.29</td>\n",
       "      <td>0.03</td>\n",
       "      <td>NaN</td>\n",
       "      <td>NaN</td>\n",
       "      <td>NaN</td>\n",
       "    </tr>\n",
       "    <tr>\n",
       "      <th>892</th>\n",
       "      <td>Mortal Kombat II</td>\n",
       "      <td>SNES</td>\n",
       "      <td>1993.0</td>\n",
       "      <td>Fighting</td>\n",
       "      <td>1.48</td>\n",
       "      <td>0.39</td>\n",
       "      <td>0.00</td>\n",
       "      <td>0.06</td>\n",
       "      <td>NaN</td>\n",
       "      <td>NaN</td>\n",
       "      <td>NaN</td>\n",
       "    </tr>\n",
       "    <tr>\n",
       "      <th>...</th>\n",
       "      <td>...</td>\n",
       "      <td>...</td>\n",
       "      <td>...</td>\n",
       "      <td>...</td>\n",
       "      <td>...</td>\n",
       "      <td>...</td>\n",
       "      <td>...</td>\n",
       "      <td>...</td>\n",
       "      <td>...</td>\n",
       "      <td>...</td>\n",
       "      <td>...</td>\n",
       "    </tr>\n",
       "    <tr>\n",
       "      <th>12997</th>\n",
       "      <td>Pachinko Wars II</td>\n",
       "      <td>SNES</td>\n",
       "      <td>1993.0</td>\n",
       "      <td>Misc</td>\n",
       "      <td>0.00</td>\n",
       "      <td>0.00</td>\n",
       "      <td>0.05</td>\n",
       "      <td>0.00</td>\n",
       "      <td>NaN</td>\n",
       "      <td>NaN</td>\n",
       "      <td>NaN</td>\n",
       "    </tr>\n",
       "    <tr>\n",
       "      <th>13189</th>\n",
       "      <td>Keiba Eight Special</td>\n",
       "      <td>SNES</td>\n",
       "      <td>1993.0</td>\n",
       "      <td>Sports</td>\n",
       "      <td>0.00</td>\n",
       "      <td>0.00</td>\n",
       "      <td>0.05</td>\n",
       "      <td>0.00</td>\n",
       "      <td>NaN</td>\n",
       "      <td>NaN</td>\n",
       "      <td>NaN</td>\n",
       "    </tr>\n",
       "    <tr>\n",
       "      <th>13343</th>\n",
       "      <td>Beyond Oasis</td>\n",
       "      <td>GEN</td>\n",
       "      <td>1993.0</td>\n",
       "      <td>Role-Playing</td>\n",
       "      <td>0.00</td>\n",
       "      <td>0.00</td>\n",
       "      <td>0.05</td>\n",
       "      <td>0.00</td>\n",
       "      <td>NaN</td>\n",
       "      <td>NaN</td>\n",
       "      <td>NaN</td>\n",
       "    </tr>\n",
       "    <tr>\n",
       "      <th>14244</th>\n",
       "      <td>Noname</td>\n",
       "      <td>GEN</td>\n",
       "      <td>1993.0</td>\n",
       "      <td>NaN</td>\n",
       "      <td>0.00</td>\n",
       "      <td>0.00</td>\n",
       "      <td>0.03</td>\n",
       "      <td>0.00</td>\n",
       "      <td>NaN</td>\n",
       "      <td>NaN</td>\n",
       "      <td>NaN</td>\n",
       "    </tr>\n",
       "    <tr>\n",
       "      <th>16207</th>\n",
       "      <td>Rock N' Roll Racing</td>\n",
       "      <td>SNES</td>\n",
       "      <td>1993.0</td>\n",
       "      <td>Racing</td>\n",
       "      <td>0.00</td>\n",
       "      <td>0.00</td>\n",
       "      <td>0.01</td>\n",
       "      <td>0.00</td>\n",
       "      <td>NaN</td>\n",
       "      <td>NaN</td>\n",
       "      <td>NaN</td>\n",
       "    </tr>\n",
       "  </tbody>\n",
       "</table>\n",
       "<p>62 rows × 11 columns</p>\n",
       "</div>"
      ],
      "text/plain": [
       "                          name platform  year_of_release         genre  \\\n",
       "56       Super Mario All-Stars     SNES           1993.0      Platform   \n",
       "476                   Star Fox     SNES           1993.0       Shooter   \n",
       "659                     Noname      GEN           1993.0           NaN   \n",
       "852    Super Street Fighter II     SNES           1993.0      Fighting   \n",
       "892           Mortal Kombat II     SNES           1993.0      Fighting   \n",
       "...                        ...      ...              ...           ...   \n",
       "12997         Pachinko Wars II     SNES           1993.0          Misc   \n",
       "13189      Keiba Eight Special     SNES           1993.0        Sports   \n",
       "13343             Beyond Oasis      GEN           1993.0  Role-Playing   \n",
       "14244                   Noname      GEN           1993.0           NaN   \n",
       "16207      Rock N' Roll Racing     SNES           1993.0        Racing   \n",
       "\n",
       "       na_sales  eu_sales  jp_sales  other_sales  critic_score user_score  \\\n",
       "56         5.99      2.15      2.12         0.29           NaN        NaN   \n",
       "476        1.61      0.51      0.80         0.07           NaN        NaN   \n",
       "659        1.78      0.53      0.00         0.08           NaN        NaN   \n",
       "852        0.52      0.16      1.29         0.03           NaN        NaN   \n",
       "892        1.48      0.39      0.00         0.06           NaN        NaN   \n",
       "...         ...       ...       ...          ...           ...        ...   \n",
       "12997      0.00      0.00      0.05         0.00           NaN        NaN   \n",
       "13189      0.00      0.00      0.05         0.00           NaN        NaN   \n",
       "13343      0.00      0.00      0.05         0.00           NaN        NaN   \n",
       "14244      0.00      0.00      0.03         0.00           NaN        NaN   \n",
       "16207      0.00      0.00      0.01         0.00           NaN        NaN   \n",
       "\n",
       "      rating  \n",
       "56       NaN  \n",
       "476      NaN  \n",
       "659      NaN  \n",
       "852      NaN  \n",
       "892      NaN  \n",
       "...      ...  \n",
       "12997    NaN  \n",
       "13189    NaN  \n",
       "13343    NaN  \n",
       "14244    NaN  \n",
       "16207    NaN  \n",
       "\n",
       "[62 rows x 11 columns]"
      ]
     },
     "execution_count": 8,
     "metadata": {},
     "output_type": "execute_result"
    }
   ],
   "source": [
    "df = data[data['year_of_release'] == 1993.0]\n",
    "df"
   ]
  },
  {
   "cell_type": "markdown",
   "metadata": {},
   "source": [
    "- Удаляю две строки с Noname, так как огромной ценности они не несут, а дополнить пропуски не вижу возможности."
   ]
  },
  {
   "cell_type": "code",
   "execution_count": 9,
   "metadata": {},
   "outputs": [
    {
     "data": {
      "text/html": [
       "<div>\n",
       "<style scoped>\n",
       "    .dataframe tbody tr th:only-of-type {\n",
       "        vertical-align: middle;\n",
       "    }\n",
       "\n",
       "    .dataframe tbody tr th {\n",
       "        vertical-align: top;\n",
       "    }\n",
       "\n",
       "    .dataframe thead th {\n",
       "        text-align: right;\n",
       "    }\n",
       "</style>\n",
       "<table border=\"1\" class=\"dataframe\">\n",
       "  <thead>\n",
       "    <tr style=\"text-align: right;\">\n",
       "      <th></th>\n",
       "      <th>name</th>\n",
       "      <th>platform</th>\n",
       "      <th>year_of_release</th>\n",
       "      <th>genre</th>\n",
       "      <th>na_sales</th>\n",
       "      <th>eu_sales</th>\n",
       "      <th>jp_sales</th>\n",
       "      <th>other_sales</th>\n",
       "      <th>critic_score</th>\n",
       "      <th>user_score</th>\n",
       "      <th>rating</th>\n",
       "    </tr>\n",
       "  </thead>\n",
       "  <tbody>\n",
       "    <tr>\n",
       "      <th>0</th>\n",
       "      <td>Wii Sports</td>\n",
       "      <td>Wii</td>\n",
       "      <td>2006.0</td>\n",
       "      <td>Sports</td>\n",
       "      <td>41.36</td>\n",
       "      <td>28.96</td>\n",
       "      <td>3.77</td>\n",
       "      <td>8.45</td>\n",
       "      <td>76.0</td>\n",
       "      <td>8</td>\n",
       "      <td>E</td>\n",
       "    </tr>\n",
       "    <tr>\n",
       "      <th>1</th>\n",
       "      <td>Super Mario Bros.</td>\n",
       "      <td>NES</td>\n",
       "      <td>1985.0</td>\n",
       "      <td>Platform</td>\n",
       "      <td>29.08</td>\n",
       "      <td>3.58</td>\n",
       "      <td>6.81</td>\n",
       "      <td>0.77</td>\n",
       "      <td>NaN</td>\n",
       "      <td>NaN</td>\n",
       "      <td>NaN</td>\n",
       "    </tr>\n",
       "    <tr>\n",
       "      <th>2</th>\n",
       "      <td>Mario Kart Wii</td>\n",
       "      <td>Wii</td>\n",
       "      <td>2008.0</td>\n",
       "      <td>Racing</td>\n",
       "      <td>15.68</td>\n",
       "      <td>12.76</td>\n",
       "      <td>3.79</td>\n",
       "      <td>3.29</td>\n",
       "      <td>82.0</td>\n",
       "      <td>8.3</td>\n",
       "      <td>E</td>\n",
       "    </tr>\n",
       "    <tr>\n",
       "      <th>3</th>\n",
       "      <td>Wii Sports Resort</td>\n",
       "      <td>Wii</td>\n",
       "      <td>2009.0</td>\n",
       "      <td>Sports</td>\n",
       "      <td>15.61</td>\n",
       "      <td>10.93</td>\n",
       "      <td>3.28</td>\n",
       "      <td>2.95</td>\n",
       "      <td>80.0</td>\n",
       "      <td>8</td>\n",
       "      <td>E</td>\n",
       "    </tr>\n",
       "    <tr>\n",
       "      <th>4</th>\n",
       "      <td>Pokemon Red/Pokemon Blue</td>\n",
       "      <td>GB</td>\n",
       "      <td>1996.0</td>\n",
       "      <td>Role-Playing</td>\n",
       "      <td>11.27</td>\n",
       "      <td>8.89</td>\n",
       "      <td>10.22</td>\n",
       "      <td>1.00</td>\n",
       "      <td>NaN</td>\n",
       "      <td>NaN</td>\n",
       "      <td>NaN</td>\n",
       "    </tr>\n",
       "    <tr>\n",
       "      <th>...</th>\n",
       "      <td>...</td>\n",
       "      <td>...</td>\n",
       "      <td>...</td>\n",
       "      <td>...</td>\n",
       "      <td>...</td>\n",
       "      <td>...</td>\n",
       "      <td>...</td>\n",
       "      <td>...</td>\n",
       "      <td>...</td>\n",
       "      <td>...</td>\n",
       "      <td>...</td>\n",
       "    </tr>\n",
       "    <tr>\n",
       "      <th>16708</th>\n",
       "      <td>Samurai Warriors: Sanada Maru</td>\n",
       "      <td>PS3</td>\n",
       "      <td>2016.0</td>\n",
       "      <td>Action</td>\n",
       "      <td>0.00</td>\n",
       "      <td>0.00</td>\n",
       "      <td>0.01</td>\n",
       "      <td>0.00</td>\n",
       "      <td>NaN</td>\n",
       "      <td>NaN</td>\n",
       "      <td>NaN</td>\n",
       "    </tr>\n",
       "    <tr>\n",
       "      <th>16709</th>\n",
       "      <td>LMA Manager 2007</td>\n",
       "      <td>X360</td>\n",
       "      <td>2006.0</td>\n",
       "      <td>Sports</td>\n",
       "      <td>0.00</td>\n",
       "      <td>0.01</td>\n",
       "      <td>0.00</td>\n",
       "      <td>0.00</td>\n",
       "      <td>NaN</td>\n",
       "      <td>NaN</td>\n",
       "      <td>NaN</td>\n",
       "    </tr>\n",
       "    <tr>\n",
       "      <th>16710</th>\n",
       "      <td>Haitaka no Psychedelica</td>\n",
       "      <td>PSV</td>\n",
       "      <td>2016.0</td>\n",
       "      <td>Adventure</td>\n",
       "      <td>0.00</td>\n",
       "      <td>0.00</td>\n",
       "      <td>0.01</td>\n",
       "      <td>0.00</td>\n",
       "      <td>NaN</td>\n",
       "      <td>NaN</td>\n",
       "      <td>NaN</td>\n",
       "    </tr>\n",
       "    <tr>\n",
       "      <th>16711</th>\n",
       "      <td>Spirits &amp; Spells</td>\n",
       "      <td>GBA</td>\n",
       "      <td>2003.0</td>\n",
       "      <td>Platform</td>\n",
       "      <td>0.01</td>\n",
       "      <td>0.00</td>\n",
       "      <td>0.00</td>\n",
       "      <td>0.00</td>\n",
       "      <td>NaN</td>\n",
       "      <td>NaN</td>\n",
       "      <td>NaN</td>\n",
       "    </tr>\n",
       "    <tr>\n",
       "      <th>16712</th>\n",
       "      <td>Winning Post 8 2016</td>\n",
       "      <td>PSV</td>\n",
       "      <td>2016.0</td>\n",
       "      <td>Simulation</td>\n",
       "      <td>0.00</td>\n",
       "      <td>0.00</td>\n",
       "      <td>0.01</td>\n",
       "      <td>0.00</td>\n",
       "      <td>NaN</td>\n",
       "      <td>NaN</td>\n",
       "      <td>NaN</td>\n",
       "    </tr>\n",
       "  </tbody>\n",
       "</table>\n",
       "<p>16713 rows × 11 columns</p>\n",
       "</div>"
      ],
      "text/plain": [
       "                                name platform  year_of_release         genre  \\\n",
       "0                         Wii Sports      Wii           2006.0        Sports   \n",
       "1                  Super Mario Bros.      NES           1985.0      Platform   \n",
       "2                     Mario Kart Wii      Wii           2008.0        Racing   \n",
       "3                  Wii Sports Resort      Wii           2009.0        Sports   \n",
       "4           Pokemon Red/Pokemon Blue       GB           1996.0  Role-Playing   \n",
       "...                              ...      ...              ...           ...   \n",
       "16708  Samurai Warriors: Sanada Maru      PS3           2016.0        Action   \n",
       "16709               LMA Manager 2007     X360           2006.0        Sports   \n",
       "16710        Haitaka no Psychedelica      PSV           2016.0     Adventure   \n",
       "16711               Spirits & Spells      GBA           2003.0      Platform   \n",
       "16712            Winning Post 8 2016      PSV           2016.0    Simulation   \n",
       "\n",
       "       na_sales  eu_sales  jp_sales  other_sales  critic_score user_score  \\\n",
       "0         41.36     28.96      3.77         8.45          76.0          8   \n",
       "1         29.08      3.58      6.81         0.77           NaN        NaN   \n",
       "2         15.68     12.76      3.79         3.29          82.0        8.3   \n",
       "3         15.61     10.93      3.28         2.95          80.0          8   \n",
       "4         11.27      8.89     10.22         1.00           NaN        NaN   \n",
       "...         ...       ...       ...          ...           ...        ...   \n",
       "16708      0.00      0.00      0.01         0.00           NaN        NaN   \n",
       "16709      0.00      0.01      0.00         0.00           NaN        NaN   \n",
       "16710      0.00      0.00      0.01         0.00           NaN        NaN   \n",
       "16711      0.01      0.00      0.00         0.00           NaN        NaN   \n",
       "16712      0.00      0.00      0.01         0.00           NaN        NaN   \n",
       "\n",
       "      rating  \n",
       "0          E  \n",
       "1        NaN  \n",
       "2          E  \n",
       "3          E  \n",
       "4        NaN  \n",
       "...      ...  \n",
       "16708    NaN  \n",
       "16709    NaN  \n",
       "16710    NaN  \n",
       "16711    NaN  \n",
       "16712    NaN  \n",
       "\n",
       "[16713 rows x 11 columns]"
      ]
     },
     "execution_count": 9,
     "metadata": {},
     "output_type": "execute_result"
    }
   ],
   "source": [
    "data = data.set_index('name')\n",
    "data = data.drop('Noname')\n",
    "data = data.reset_index()\n",
    "data"
   ]
  },
  {
   "cell_type": "code",
   "execution_count": 10,
   "metadata": {},
   "outputs": [
    {
     "data": {
      "text/html": [
       "<div>\n",
       "<style scoped>\n",
       "    .dataframe tbody tr th:only-of-type {\n",
       "        vertical-align: middle;\n",
       "    }\n",
       "\n",
       "    .dataframe tbody tr th {\n",
       "        vertical-align: top;\n",
       "    }\n",
       "\n",
       "    .dataframe thead th {\n",
       "        text-align: right;\n",
       "    }\n",
       "</style>\n",
       "<table border=\"1\" class=\"dataframe\">\n",
       "  <thead>\n",
       "    <tr style=\"text-align: right;\">\n",
       "      <th></th>\n",
       "      <th>name</th>\n",
       "      <th>platform</th>\n",
       "      <th>year_of_release</th>\n",
       "      <th>genre</th>\n",
       "      <th>na_sales</th>\n",
       "      <th>eu_sales</th>\n",
       "      <th>jp_sales</th>\n",
       "      <th>other_sales</th>\n",
       "      <th>critic_score</th>\n",
       "      <th>user_score</th>\n",
       "      <th>rating</th>\n",
       "    </tr>\n",
       "  </thead>\n",
       "  <tbody>\n",
       "  </tbody>\n",
       "</table>\n",
       "</div>"
      ],
      "text/plain": [
       "Empty DataFrame\n",
       "Columns: [name, platform, year_of_release, genre, na_sales, eu_sales, jp_sales, other_sales, critic_score, user_score, rating]\n",
       "Index: []"
      ]
     },
     "execution_count": 10,
     "metadata": {},
     "output_type": "execute_result"
    }
   ],
   "source": [
    "df = data[data['name'] == 'Noname']\n",
    "df"
   ]
  },
  {
   "cell_type": "markdown",
   "metadata": {},
   "source": [
    "- Избавилась от двух бесполезных строк. "
   ]
  },
  {
   "cell_type": "markdown",
   "metadata": {},
   "source": [
    "### Замена пропущенных значений"
   ]
  },
  {
   "cell_type": "code",
   "execution_count": 11,
   "metadata": {},
   "outputs": [
    {
     "data": {
      "text/plain": [
       "array(['E', nan, 'M', 'T', 'E10+', 'K-A', 'AO', 'EC', 'RP'], dtype=object)"
      ]
     },
     "execution_count": 11,
     "metadata": {},
     "output_type": "execute_result"
    }
   ],
   "source": [
    "data['rating'].unique()"
   ]
  },
  {
   "cell_type": "markdown",
   "metadata": {},
   "source": [
    "- В столбце rating я заменю пропуски в играх до 2016 года на \"E\", то есть они будут помечены как \"Для всех\".\n",
    "- Игры 2016 года будут помечены рейтингом \"RP\", так как они новые и могут ожидать оценки."
   ]
  },
  {
   "cell_type": "code",
   "execution_count": 12,
   "metadata": {},
   "outputs": [
    {
     "data": {
      "text/plain": [
       "name                  0\n",
       "platform              0\n",
       "year_of_release     269\n",
       "genre                 0\n",
       "na_sales              0\n",
       "eu_sales              0\n",
       "jp_sales              0\n",
       "other_sales           0\n",
       "critic_score       8576\n",
       "user_score         6699\n",
       "rating                0\n",
       "dtype: int64"
      ]
     },
     "execution_count": 12,
     "metadata": {},
     "output_type": "execute_result"
    }
   ],
   "source": [
    "data.loc[data['year_of_release'] == 2016, 'rating'] = data.loc[data['year_of_release'] == 2016, 'rating'].fillna('RP')\n",
    "data.loc[data['year_of_release'] != 2016, 'rating'] = data.loc[data['year_of_release'] != 2016, 'rating'].fillna('E')\n",
    "data.isna().sum()"
   ]
  },
  {
   "cell_type": "markdown",
   "metadata": {},
   "source": [
    "- Избавилась от пропущенных значений в rating"
   ]
  },
  {
   "cell_type": "code",
   "execution_count": 13,
   "metadata": {},
   "outputs": [],
   "source": [
    "data['user_score'] = pd.to_numeric(data['user_score'], errors = 'coerce')"
   ]
  },
  {
   "cell_type": "code",
   "execution_count": 14,
   "metadata": {},
   "outputs": [
    {
     "data": {
      "text/plain": [
       "name                  0\n",
       "platform              0\n",
       "year_of_release     269\n",
       "genre                 0\n",
       "na_sales              0\n",
       "eu_sales              0\n",
       "jp_sales              0\n",
       "other_sales           0\n",
       "critic_score       8576\n",
       "user_score         9123\n",
       "rating                0\n",
       "dtype: int64"
      ]
     },
     "execution_count": 14,
     "metadata": {},
     "output_type": "execute_result"
    }
   ],
   "source": [
    "data.isna().sum()"
   ]
  },
  {
   "cell_type": "markdown",
   "metadata": {},
   "source": [
    "- Поменяла тип данных в столбце user_score на float64\n",
    "- Заменила пропуски в critic_score и user_score на среднее по жанру\n",
    "- Заменила пропуски в year_of_release на неправдоподобное значение чтобы не терять остальные важные параметры этих строк. Так я смогу отсеять при дальнейшем анализе эти значения, если понадобится."
   ]
  },
  {
   "cell_type": "markdown",
   "metadata": {},
   "source": [
    "### Замена типов данных "
   ]
  },
  {
   "cell_type": "code",
   "execution_count": 15,
   "metadata": {},
   "outputs": [
    {
     "data": {
      "text/html": [
       "<div>\n",
       "<style scoped>\n",
       "    .dataframe tbody tr th:only-of-type {\n",
       "        vertical-align: middle;\n",
       "    }\n",
       "\n",
       "    .dataframe tbody tr th {\n",
       "        vertical-align: top;\n",
       "    }\n",
       "\n",
       "    .dataframe thead th {\n",
       "        text-align: right;\n",
       "    }\n",
       "</style>\n",
       "<table border=\"1\" class=\"dataframe\">\n",
       "  <thead>\n",
       "    <tr style=\"text-align: right;\">\n",
       "      <th></th>\n",
       "      <th>name</th>\n",
       "      <th>platform</th>\n",
       "      <th>year_of_release</th>\n",
       "      <th>genre</th>\n",
       "      <th>na_sales</th>\n",
       "      <th>eu_sales</th>\n",
       "      <th>jp_sales</th>\n",
       "      <th>other_sales</th>\n",
       "      <th>critic_score</th>\n",
       "      <th>user_score</th>\n",
       "      <th>rating</th>\n",
       "    </tr>\n",
       "  </thead>\n",
       "  <tbody>\n",
       "    <tr>\n",
       "      <th>0</th>\n",
       "      <td>Wii Sports</td>\n",
       "      <td>Wii</td>\n",
       "      <td>2006.0</td>\n",
       "      <td>Sports</td>\n",
       "      <td>41.36</td>\n",
       "      <td>28.96</td>\n",
       "      <td>3.77</td>\n",
       "      <td>8.45</td>\n",
       "      <td>76.0</td>\n",
       "      <td>8.0</td>\n",
       "      <td>E</td>\n",
       "    </tr>\n",
       "    <tr>\n",
       "      <th>1</th>\n",
       "      <td>Super Mario Bros.</td>\n",
       "      <td>NES</td>\n",
       "      <td>1985.0</td>\n",
       "      <td>Platform</td>\n",
       "      <td>29.08</td>\n",
       "      <td>3.58</td>\n",
       "      <td>6.81</td>\n",
       "      <td>0.77</td>\n",
       "      <td>NaN</td>\n",
       "      <td>NaN</td>\n",
       "      <td>E</td>\n",
       "    </tr>\n",
       "    <tr>\n",
       "      <th>2</th>\n",
       "      <td>Mario Kart Wii</td>\n",
       "      <td>Wii</td>\n",
       "      <td>2008.0</td>\n",
       "      <td>Racing</td>\n",
       "      <td>15.68</td>\n",
       "      <td>12.76</td>\n",
       "      <td>3.79</td>\n",
       "      <td>3.29</td>\n",
       "      <td>82.0</td>\n",
       "      <td>8.3</td>\n",
       "      <td>E</td>\n",
       "    </tr>\n",
       "    <tr>\n",
       "      <th>3</th>\n",
       "      <td>Wii Sports Resort</td>\n",
       "      <td>Wii</td>\n",
       "      <td>2009.0</td>\n",
       "      <td>Sports</td>\n",
       "      <td>15.61</td>\n",
       "      <td>10.93</td>\n",
       "      <td>3.28</td>\n",
       "      <td>2.95</td>\n",
       "      <td>80.0</td>\n",
       "      <td>8.0</td>\n",
       "      <td>E</td>\n",
       "    </tr>\n",
       "    <tr>\n",
       "      <th>4</th>\n",
       "      <td>Pokemon Red/Pokemon Blue</td>\n",
       "      <td>GB</td>\n",
       "      <td>1996.0</td>\n",
       "      <td>Role-Playing</td>\n",
       "      <td>11.27</td>\n",
       "      <td>8.89</td>\n",
       "      <td>10.22</td>\n",
       "      <td>1.00</td>\n",
       "      <td>NaN</td>\n",
       "      <td>NaN</td>\n",
       "      <td>E</td>\n",
       "    </tr>\n",
       "  </tbody>\n",
       "</table>\n",
       "</div>"
      ],
      "text/plain": [
       "                       name platform  year_of_release         genre  na_sales  \\\n",
       "0                Wii Sports      Wii           2006.0        Sports     41.36   \n",
       "1         Super Mario Bros.      NES           1985.0      Platform     29.08   \n",
       "2            Mario Kart Wii      Wii           2008.0        Racing     15.68   \n",
       "3         Wii Sports Resort      Wii           2009.0        Sports     15.61   \n",
       "4  Pokemon Red/Pokemon Blue       GB           1996.0  Role-Playing     11.27   \n",
       "\n",
       "   eu_sales  jp_sales  other_sales  critic_score  user_score rating  \n",
       "0     28.96      3.77         8.45          76.0         8.0      E  \n",
       "1      3.58      6.81         0.77           NaN         NaN      E  \n",
       "2     12.76      3.79         3.29          82.0         8.3      E  \n",
       "3     10.93      3.28         2.95          80.0         8.0      E  \n",
       "4      8.89     10.22         1.00           NaN         NaN      E  "
      ]
     },
     "execution_count": 15,
     "metadata": {},
     "output_type": "execute_result"
    }
   ],
   "source": [
    "data.head()"
   ]
  },
  {
   "cell_type": "code",
   "execution_count": 16,
   "metadata": {},
   "outputs": [
    {
     "name": "stdout",
     "output_type": "stream",
     "text": [
      "<class 'pandas.core.frame.DataFrame'>\n",
      "RangeIndex: 16713 entries, 0 to 16712\n",
      "Data columns (total 11 columns):\n",
      " #   Column           Non-Null Count  Dtype  \n",
      "---  ------           --------------  -----  \n",
      " 0   name             16713 non-null  object \n",
      " 1   platform         16713 non-null  object \n",
      " 2   year_of_release  16444 non-null  float64\n",
      " 3   genre            16713 non-null  object \n",
      " 4   na_sales         16713 non-null  float64\n",
      " 5   eu_sales         16713 non-null  float64\n",
      " 6   jp_sales         16713 non-null  float64\n",
      " 7   other_sales      16713 non-null  float64\n",
      " 8   critic_score     8137 non-null   float64\n",
      " 9   user_score       7590 non-null   float64\n",
      " 10  rating           16713 non-null  object \n",
      "dtypes: float64(7), object(4)\n",
      "memory usage: 1.4+ MB\n"
     ]
    }
   ],
   "source": [
    "data.info()"
   ]
  },
  {
   "cell_type": "markdown",
   "metadata": {},
   "source": [
    "- Все типы данных теперь в порядке"
   ]
  },
  {
   "cell_type": "code",
   "execution_count": 17,
   "metadata": {},
   "outputs": [
    {
     "data": {
      "text/plain": [
       "0        2006\n",
       "1        1985\n",
       "2        2008\n",
       "3        2009\n",
       "4        1996\n",
       "         ... \n",
       "16708    2016\n",
       "16709    2006\n",
       "16710    2016\n",
       "16711    2003\n",
       "16712    2016\n",
       "Name: year_of_release, Length: 16713, dtype: Int64"
      ]
     },
     "execution_count": 17,
     "metadata": {},
     "output_type": "execute_result"
    }
   ],
   "source": [
    "data['year_of_release'].astype(pd.Int64Dtype())"
   ]
  },
  {
   "cell_type": "markdown",
   "metadata": {},
   "source": [
    "### Создание дополнительного столбца  <a id=\"new_column\"></a>"
   ]
  },
  {
   "cell_type": "code",
   "execution_count": 18,
   "metadata": {},
   "outputs": [
    {
     "data": {
      "text/html": [
       "<div>\n",
       "<style scoped>\n",
       "    .dataframe tbody tr th:only-of-type {\n",
       "        vertical-align: middle;\n",
       "    }\n",
       "\n",
       "    .dataframe tbody tr th {\n",
       "        vertical-align: top;\n",
       "    }\n",
       "\n",
       "    .dataframe thead th {\n",
       "        text-align: right;\n",
       "    }\n",
       "</style>\n",
       "<table border=\"1\" class=\"dataframe\">\n",
       "  <thead>\n",
       "    <tr style=\"text-align: right;\">\n",
       "      <th></th>\n",
       "      <th>name</th>\n",
       "      <th>platform</th>\n",
       "      <th>year_of_release</th>\n",
       "      <th>genre</th>\n",
       "      <th>na_sales</th>\n",
       "      <th>eu_sales</th>\n",
       "      <th>jp_sales</th>\n",
       "      <th>other_sales</th>\n",
       "      <th>critic_score</th>\n",
       "      <th>user_score</th>\n",
       "      <th>rating</th>\n",
       "      <th>total_sales</th>\n",
       "    </tr>\n",
       "  </thead>\n",
       "  <tbody>\n",
       "    <tr>\n",
       "      <th>0</th>\n",
       "      <td>Wii Sports</td>\n",
       "      <td>Wii</td>\n",
       "      <td>2006.0</td>\n",
       "      <td>Sports</td>\n",
       "      <td>41.36</td>\n",
       "      <td>28.96</td>\n",
       "      <td>3.77</td>\n",
       "      <td>8.45</td>\n",
       "      <td>76.0</td>\n",
       "      <td>8.0</td>\n",
       "      <td>E</td>\n",
       "      <td>74.09</td>\n",
       "    </tr>\n",
       "    <tr>\n",
       "      <th>1</th>\n",
       "      <td>Super Mario Bros.</td>\n",
       "      <td>NES</td>\n",
       "      <td>1985.0</td>\n",
       "      <td>Platform</td>\n",
       "      <td>29.08</td>\n",
       "      <td>3.58</td>\n",
       "      <td>6.81</td>\n",
       "      <td>0.77</td>\n",
       "      <td>NaN</td>\n",
       "      <td>NaN</td>\n",
       "      <td>E</td>\n",
       "      <td>39.47</td>\n",
       "    </tr>\n",
       "    <tr>\n",
       "      <th>2</th>\n",
       "      <td>Mario Kart Wii</td>\n",
       "      <td>Wii</td>\n",
       "      <td>2008.0</td>\n",
       "      <td>Racing</td>\n",
       "      <td>15.68</td>\n",
       "      <td>12.76</td>\n",
       "      <td>3.79</td>\n",
       "      <td>3.29</td>\n",
       "      <td>82.0</td>\n",
       "      <td>8.3</td>\n",
       "      <td>E</td>\n",
       "      <td>32.23</td>\n",
       "    </tr>\n",
       "    <tr>\n",
       "      <th>3</th>\n",
       "      <td>Wii Sports Resort</td>\n",
       "      <td>Wii</td>\n",
       "      <td>2009.0</td>\n",
       "      <td>Sports</td>\n",
       "      <td>15.61</td>\n",
       "      <td>10.93</td>\n",
       "      <td>3.28</td>\n",
       "      <td>2.95</td>\n",
       "      <td>80.0</td>\n",
       "      <td>8.0</td>\n",
       "      <td>E</td>\n",
       "      <td>29.82</td>\n",
       "    </tr>\n",
       "    <tr>\n",
       "      <th>4</th>\n",
       "      <td>Pokemon Red/Pokemon Blue</td>\n",
       "      <td>GB</td>\n",
       "      <td>1996.0</td>\n",
       "      <td>Role-Playing</td>\n",
       "      <td>11.27</td>\n",
       "      <td>8.89</td>\n",
       "      <td>10.22</td>\n",
       "      <td>1.00</td>\n",
       "      <td>NaN</td>\n",
       "      <td>NaN</td>\n",
       "      <td>E</td>\n",
       "      <td>30.38</td>\n",
       "    </tr>\n",
       "    <tr>\n",
       "      <th>...</th>\n",
       "      <td>...</td>\n",
       "      <td>...</td>\n",
       "      <td>...</td>\n",
       "      <td>...</td>\n",
       "      <td>...</td>\n",
       "      <td>...</td>\n",
       "      <td>...</td>\n",
       "      <td>...</td>\n",
       "      <td>...</td>\n",
       "      <td>...</td>\n",
       "      <td>...</td>\n",
       "      <td>...</td>\n",
       "    </tr>\n",
       "    <tr>\n",
       "      <th>16708</th>\n",
       "      <td>Samurai Warriors: Sanada Maru</td>\n",
       "      <td>PS3</td>\n",
       "      <td>2016.0</td>\n",
       "      <td>Action</td>\n",
       "      <td>0.00</td>\n",
       "      <td>0.00</td>\n",
       "      <td>0.01</td>\n",
       "      <td>0.00</td>\n",
       "      <td>NaN</td>\n",
       "      <td>NaN</td>\n",
       "      <td>RP</td>\n",
       "      <td>0.01</td>\n",
       "    </tr>\n",
       "    <tr>\n",
       "      <th>16709</th>\n",
       "      <td>LMA Manager 2007</td>\n",
       "      <td>X360</td>\n",
       "      <td>2006.0</td>\n",
       "      <td>Sports</td>\n",
       "      <td>0.00</td>\n",
       "      <td>0.01</td>\n",
       "      <td>0.00</td>\n",
       "      <td>0.00</td>\n",
       "      <td>NaN</td>\n",
       "      <td>NaN</td>\n",
       "      <td>E</td>\n",
       "      <td>0.01</td>\n",
       "    </tr>\n",
       "    <tr>\n",
       "      <th>16710</th>\n",
       "      <td>Haitaka no Psychedelica</td>\n",
       "      <td>PSV</td>\n",
       "      <td>2016.0</td>\n",
       "      <td>Adventure</td>\n",
       "      <td>0.00</td>\n",
       "      <td>0.00</td>\n",
       "      <td>0.01</td>\n",
       "      <td>0.00</td>\n",
       "      <td>NaN</td>\n",
       "      <td>NaN</td>\n",
       "      <td>RP</td>\n",
       "      <td>0.01</td>\n",
       "    </tr>\n",
       "    <tr>\n",
       "      <th>16711</th>\n",
       "      <td>Spirits &amp; Spells</td>\n",
       "      <td>GBA</td>\n",
       "      <td>2003.0</td>\n",
       "      <td>Platform</td>\n",
       "      <td>0.01</td>\n",
       "      <td>0.00</td>\n",
       "      <td>0.00</td>\n",
       "      <td>0.00</td>\n",
       "      <td>NaN</td>\n",
       "      <td>NaN</td>\n",
       "      <td>E</td>\n",
       "      <td>0.01</td>\n",
       "    </tr>\n",
       "    <tr>\n",
       "      <th>16712</th>\n",
       "      <td>Winning Post 8 2016</td>\n",
       "      <td>PSV</td>\n",
       "      <td>2016.0</td>\n",
       "      <td>Simulation</td>\n",
       "      <td>0.00</td>\n",
       "      <td>0.00</td>\n",
       "      <td>0.01</td>\n",
       "      <td>0.00</td>\n",
       "      <td>NaN</td>\n",
       "      <td>NaN</td>\n",
       "      <td>RP</td>\n",
       "      <td>0.01</td>\n",
       "    </tr>\n",
       "  </tbody>\n",
       "</table>\n",
       "<p>16713 rows × 12 columns</p>\n",
       "</div>"
      ],
      "text/plain": [
       "                                name platform  year_of_release         genre  \\\n",
       "0                         Wii Sports      Wii           2006.0        Sports   \n",
       "1                  Super Mario Bros.      NES           1985.0      Platform   \n",
       "2                     Mario Kart Wii      Wii           2008.0        Racing   \n",
       "3                  Wii Sports Resort      Wii           2009.0        Sports   \n",
       "4           Pokemon Red/Pokemon Blue       GB           1996.0  Role-Playing   \n",
       "...                              ...      ...              ...           ...   \n",
       "16708  Samurai Warriors: Sanada Maru      PS3           2016.0        Action   \n",
       "16709               LMA Manager 2007     X360           2006.0        Sports   \n",
       "16710        Haitaka no Psychedelica      PSV           2016.0     Adventure   \n",
       "16711               Spirits & Spells      GBA           2003.0      Platform   \n",
       "16712            Winning Post 8 2016      PSV           2016.0    Simulation   \n",
       "\n",
       "       na_sales  eu_sales  jp_sales  other_sales  critic_score  user_score  \\\n",
       "0         41.36     28.96      3.77         8.45          76.0         8.0   \n",
       "1         29.08      3.58      6.81         0.77           NaN         NaN   \n",
       "2         15.68     12.76      3.79         3.29          82.0         8.3   \n",
       "3         15.61     10.93      3.28         2.95          80.0         8.0   \n",
       "4         11.27      8.89     10.22         1.00           NaN         NaN   \n",
       "...         ...       ...       ...          ...           ...         ...   \n",
       "16708      0.00      0.00      0.01         0.00           NaN         NaN   \n",
       "16709      0.00      0.01      0.00         0.00           NaN         NaN   \n",
       "16710      0.00      0.00      0.01         0.00           NaN         NaN   \n",
       "16711      0.01      0.00      0.00         0.00           NaN         NaN   \n",
       "16712      0.00      0.00      0.01         0.00           NaN         NaN   \n",
       "\n",
       "      rating  total_sales  \n",
       "0          E        74.09  \n",
       "1          E        39.47  \n",
       "2          E        32.23  \n",
       "3          E        29.82  \n",
       "4          E        30.38  \n",
       "...      ...          ...  \n",
       "16708     RP         0.01  \n",
       "16709      E         0.01  \n",
       "16710     RP         0.01  \n",
       "16711      E         0.01  \n",
       "16712     RP         0.01  \n",
       "\n",
       "[16713 rows x 12 columns]"
      ]
     },
     "execution_count": 18,
     "metadata": {},
     "output_type": "execute_result"
    }
   ],
   "source": [
    "data['total_sales'] = data['na_sales'] + data['eu_sales'] + data['jp_sales']\n",
    "data"
   ]
  },
  {
   "cell_type": "markdown",
   "metadata": {},
   "source": [
    "- Добавила столбец с общей выручкой"
   ]
  },
  {
   "cell_type": "markdown",
   "metadata": {},
   "source": [
    "### Вывод <a id=\"total_1\"></a>\n",
    "\n",
    "Пропущенные значения в столбцах critic_score и user_score я заменила на среднее значение по жанру. Предполагаю, что пропущенные значения могли появиться из-за отсутствия данных за 1990-е года. \n",
    "\n",
    "Так же в столбце user_score мной были обнаружены значения \"tbd\", оно означает, что решение по этому критерию пока не принято. Так что и их я заменила на среднее по жанру, чтобы не терять такую большую часть данных.\n",
    "\n",
    "Так же я удалила 2 строки, которые не содержали в себе никакой информации кроме года выпуска и продаж, я посчитала их ненужными. \n",
    "\n",
    "В столбцах user_score и year_of_release я сменила типы данных для облегчения дальнейшего анализа.\n",
    "\n",
    "Добавила столбец total_sales с суммарными продажами по всем регионам."
   ]
  },
  {
   "cell_type": "markdown",
   "metadata": {},
   "source": [
    "## Исследовательский анализ данных "
   ]
  },
  {
   "cell_type": "markdown",
   "metadata": {},
   "source": [
    "### Анализ продаж по годам "
   ]
  },
  {
   "cell_type": "code",
   "execution_count": 19,
   "metadata": {},
   "outputs": [
    {
     "data": {
      "text/html": [
       "<div>\n",
       "<style scoped>\n",
       "    .dataframe tbody tr th:only-of-type {\n",
       "        vertical-align: middle;\n",
       "    }\n",
       "\n",
       "    .dataframe tbody tr th {\n",
       "        vertical-align: top;\n",
       "    }\n",
       "\n",
       "    .dataframe thead th {\n",
       "        text-align: right;\n",
       "    }\n",
       "</style>\n",
       "<table border=\"1\" class=\"dataframe\">\n",
       "  <thead>\n",
       "    <tr style=\"text-align: right;\">\n",
       "      <th></th>\n",
       "      <th>name</th>\n",
       "      <th>platform</th>\n",
       "      <th>year_of_release</th>\n",
       "      <th>genre</th>\n",
       "      <th>na_sales</th>\n",
       "      <th>eu_sales</th>\n",
       "      <th>jp_sales</th>\n",
       "      <th>other_sales</th>\n",
       "      <th>critic_score</th>\n",
       "      <th>user_score</th>\n",
       "      <th>rating</th>\n",
       "      <th>total_sales</th>\n",
       "    </tr>\n",
       "  </thead>\n",
       "  <tbody>\n",
       "    <tr>\n",
       "      <th>0</th>\n",
       "      <td>Wii Sports</td>\n",
       "      <td>Wii</td>\n",
       "      <td>2006.0</td>\n",
       "      <td>Sports</td>\n",
       "      <td>41.36</td>\n",
       "      <td>28.96</td>\n",
       "      <td>3.77</td>\n",
       "      <td>8.45</td>\n",
       "      <td>76.0</td>\n",
       "      <td>8.0</td>\n",
       "      <td>E</td>\n",
       "      <td>74.09</td>\n",
       "    </tr>\n",
       "    <tr>\n",
       "      <th>1</th>\n",
       "      <td>Super Mario Bros.</td>\n",
       "      <td>NES</td>\n",
       "      <td>1985.0</td>\n",
       "      <td>Platform</td>\n",
       "      <td>29.08</td>\n",
       "      <td>3.58</td>\n",
       "      <td>6.81</td>\n",
       "      <td>0.77</td>\n",
       "      <td>NaN</td>\n",
       "      <td>NaN</td>\n",
       "      <td>E</td>\n",
       "      <td>39.47</td>\n",
       "    </tr>\n",
       "    <tr>\n",
       "      <th>2</th>\n",
       "      <td>Mario Kart Wii</td>\n",
       "      <td>Wii</td>\n",
       "      <td>2008.0</td>\n",
       "      <td>Racing</td>\n",
       "      <td>15.68</td>\n",
       "      <td>12.76</td>\n",
       "      <td>3.79</td>\n",
       "      <td>3.29</td>\n",
       "      <td>82.0</td>\n",
       "      <td>8.3</td>\n",
       "      <td>E</td>\n",
       "      <td>32.23</td>\n",
       "    </tr>\n",
       "    <tr>\n",
       "      <th>3</th>\n",
       "      <td>Wii Sports Resort</td>\n",
       "      <td>Wii</td>\n",
       "      <td>2009.0</td>\n",
       "      <td>Sports</td>\n",
       "      <td>15.61</td>\n",
       "      <td>10.93</td>\n",
       "      <td>3.28</td>\n",
       "      <td>2.95</td>\n",
       "      <td>80.0</td>\n",
       "      <td>8.0</td>\n",
       "      <td>E</td>\n",
       "      <td>29.82</td>\n",
       "    </tr>\n",
       "    <tr>\n",
       "      <th>4</th>\n",
       "      <td>Pokemon Red/Pokemon Blue</td>\n",
       "      <td>GB</td>\n",
       "      <td>1996.0</td>\n",
       "      <td>Role-Playing</td>\n",
       "      <td>11.27</td>\n",
       "      <td>8.89</td>\n",
       "      <td>10.22</td>\n",
       "      <td>1.00</td>\n",
       "      <td>NaN</td>\n",
       "      <td>NaN</td>\n",
       "      <td>E</td>\n",
       "      <td>30.38</td>\n",
       "    </tr>\n",
       "  </tbody>\n",
       "</table>\n",
       "</div>"
      ],
      "text/plain": [
       "                       name platform  year_of_release         genre  na_sales  \\\n",
       "0                Wii Sports      Wii           2006.0        Sports     41.36   \n",
       "1         Super Mario Bros.      NES           1985.0      Platform     29.08   \n",
       "2            Mario Kart Wii      Wii           2008.0        Racing     15.68   \n",
       "3         Wii Sports Resort      Wii           2009.0        Sports     15.61   \n",
       "4  Pokemon Red/Pokemon Blue       GB           1996.0  Role-Playing     11.27   \n",
       "\n",
       "   eu_sales  jp_sales  other_sales  critic_score  user_score rating  \\\n",
       "0     28.96      3.77         8.45          76.0         8.0      E   \n",
       "1      3.58      6.81         0.77           NaN         NaN      E   \n",
       "2     12.76      3.79         3.29          82.0         8.3      E   \n",
       "3     10.93      3.28         2.95          80.0         8.0      E   \n",
       "4      8.89     10.22         1.00           NaN         NaN      E   \n",
       "\n",
       "   total_sales  \n",
       "0        74.09  \n",
       "1        39.47  \n",
       "2        32.23  \n",
       "3        29.82  \n",
       "4        30.38  "
      ]
     },
     "execution_count": 19,
     "metadata": {},
     "output_type": "execute_result"
    }
   ],
   "source": [
    "data.head()"
   ]
  },
  {
   "cell_type": "code",
   "execution_count": 20,
   "metadata": {},
   "outputs": [
    {
     "data": {
      "image/png": "[encoded data removed]",
      "text/plain": [
       "<Figure size 576x720 with 1 Axes>"
      ]
     },
     "metadata": {
      "needs_background": "light"
     },
     "output_type": "display_data"
    }
   ],
   "source": [
    "data_years = pd.pivot_table(data, index='year_of_release', values = 'name', aggfunc = 'count')\n",
    "data_years.columns = ['games_count']\n",
    "data_years = data_years.query('year_of_release != 1000').plot(kind='bar', figsize = (8,10))\n",
    "plt.show()"
   ]
  },
  {
   "cell_type": "markdown",
   "metadata": {},
   "source": [
    "- На гистограмме я вижу неравномерное распледеление, смещенное вправо.\n",
    "- Делаю вывод, что игры с 1980 года по 1990 год можно не использовать для анализа, так как это явный выброс, который можно отсеять.\n",
    "- Так же с помощью метода query я убрала из сводной таблицы игры 1000-го года выпуска, так как эти строки для данного анализа непригодны."
   ]
  },
  {
   "cell_type": "markdown",
   "metadata": {},
   "source": [
    "### Анализ самых успешных платформ "
   ]
  },
  {
   "cell_type": "code",
   "execution_count": 21,
   "metadata": {},
   "outputs": [
    {
     "data": {
      "text/html": [
       "<div>\n",
       "<style scoped>\n",
       "    .dataframe tbody tr th:only-of-type {\n",
       "        vertical-align: middle;\n",
       "    }\n",
       "\n",
       "    .dataframe tbody tr th {\n",
       "        vertical-align: top;\n",
       "    }\n",
       "\n",
       "    .dataframe thead th {\n",
       "        text-align: right;\n",
       "    }\n",
       "</style>\n",
       "<table border=\"1\" class=\"dataframe\">\n",
       "  <thead>\n",
       "    <tr style=\"text-align: right;\">\n",
       "      <th></th>\n",
       "      <th>total_sales</th>\n",
       "    </tr>\n",
       "    <tr>\n",
       "      <th>platform</th>\n",
       "      <th></th>\n",
       "    </tr>\n",
       "  </thead>\n",
       "  <tbody>\n",
       "    <tr>\n",
       "      <th>PS2</th>\n",
       "      <td>1062.33</td>\n",
       "    </tr>\n",
       "    <tr>\n",
       "      <th>X360</th>\n",
       "      <td>885.66</td>\n",
       "    </tr>\n",
       "    <tr>\n",
       "      <th>Wii</th>\n",
       "      <td>828.44</td>\n",
       "    </tr>\n",
       "    <tr>\n",
       "      <th>PS3</th>\n",
       "      <td>803.97</td>\n",
       "    </tr>\n",
       "    <tr>\n",
       "      <th>DS</th>\n",
       "      <td>746.86</td>\n",
       "    </tr>\n",
       "    <tr>\n",
       "      <th>PS</th>\n",
       "      <td>689.95</td>\n",
       "    </tr>\n",
       "    <tr>\n",
       "      <th>GBA</th>\n",
       "      <td>310.12</td>\n",
       "    </tr>\n",
       "    <tr>\n",
       "      <th>PS4</th>\n",
       "      <td>265.79</td>\n",
       "    </tr>\n",
       "    <tr>\n",
       "      <th>PSP</th>\n",
       "      <td>252.63</td>\n",
       "    </tr>\n",
       "    <tr>\n",
       "      <th>XB</th>\n",
       "      <td>249.02</td>\n",
       "    </tr>\n",
       "    <tr>\n",
       "      <th>GB</th>\n",
       "      <td>247.26</td>\n",
       "    </tr>\n",
       "    <tr>\n",
       "      <th>NES</th>\n",
       "      <td>245.74</td>\n",
       "    </tr>\n",
       "    <tr>\n",
       "      <th>3DS</th>\n",
       "      <td>245.64</td>\n",
       "    </tr>\n",
       "    <tr>\n",
       "      <th>PC</th>\n",
       "      <td>237.14</td>\n",
       "    </tr>\n",
       "    <tr>\n",
       "      <th>N64</th>\n",
       "      <td>214.30</td>\n",
       "    </tr>\n",
       "    <tr>\n",
       "      <th>SNES</th>\n",
       "      <td>196.82</td>\n",
       "    </tr>\n",
       "    <tr>\n",
       "      <th>GC</th>\n",
       "      <td>193.75</td>\n",
       "    </tr>\n",
       "    <tr>\n",
       "      <th>XOne</th>\n",
       "      <td>145.05</td>\n",
       "    </tr>\n",
       "  </tbody>\n",
       "</table>\n",
       "</div>"
      ],
      "text/plain": [
       "          total_sales\n",
       "platform             \n",
       "PS2           1062.33\n",
       "X360           885.66\n",
       "Wii            828.44\n",
       "PS3            803.97\n",
       "DS             746.86\n",
       "PS             689.95\n",
       "GBA            310.12\n",
       "PS4            265.79\n",
       "PSP            252.63\n",
       "XB             249.02\n",
       "GB             247.26\n",
       "NES            245.74\n",
       "3DS            245.64\n",
       "PC             237.14\n",
       "N64            214.30\n",
       "SNES           196.82\n",
       "GC             193.75\n",
       "XOne           145.05"
      ]
     },
     "execution_count": 21,
     "metadata": {},
     "output_type": "execute_result"
    }
   ],
   "source": [
    "data_platform = pd.pivot_table(data, index=['platform'], values = 'total_sales', aggfunc = 'sum').sort_values('total_sales', ascending=False)\n",
    "data_platform_top = data_platform.head(18)\n",
    "data_platform_top"
   ]
  },
  {
   "cell_type": "code",
   "execution_count": 22,
   "metadata": {},
   "outputs": [
    {
     "data": {
      "text/html": [
       "<div>\n",
       "<style scoped>\n",
       "    .dataframe tbody tr th:only-of-type {\n",
       "        vertical-align: middle;\n",
       "    }\n",
       "\n",
       "    .dataframe tbody tr th {\n",
       "        vertical-align: top;\n",
       "    }\n",
       "\n",
       "    .dataframe thead th {\n",
       "        text-align: right;\n",
       "    }\n",
       "</style>\n",
       "<table border=\"1\" class=\"dataframe\">\n",
       "  <thead>\n",
       "    <tr style=\"text-align: right;\">\n",
       "      <th></th>\n",
       "      <th>name</th>\n",
       "      <th>year_of_release</th>\n",
       "      <th>genre</th>\n",
       "      <th>na_sales</th>\n",
       "      <th>eu_sales</th>\n",
       "      <th>jp_sales</th>\n",
       "      <th>other_sales</th>\n",
       "      <th>critic_score</th>\n",
       "      <th>user_score</th>\n",
       "      <th>rating</th>\n",
       "      <th>total_sales</th>\n",
       "    </tr>\n",
       "    <tr>\n",
       "      <th>platform</th>\n",
       "      <th></th>\n",
       "      <th></th>\n",
       "      <th></th>\n",
       "      <th></th>\n",
       "      <th></th>\n",
       "      <th></th>\n",
       "      <th></th>\n",
       "      <th></th>\n",
       "      <th></th>\n",
       "      <th></th>\n",
       "      <th></th>\n",
       "    </tr>\n",
       "  </thead>\n",
       "  <tbody>\n",
       "    <tr>\n",
       "      <th>Wii</th>\n",
       "      <td>Wii Sports</td>\n",
       "      <td>2006.0</td>\n",
       "      <td>Sports</td>\n",
       "      <td>41.36</td>\n",
       "      <td>28.96</td>\n",
       "      <td>3.77</td>\n",
       "      <td>8.45</td>\n",
       "      <td>76.0</td>\n",
       "      <td>8.0</td>\n",
       "      <td>E</td>\n",
       "      <td>74.09</td>\n",
       "    </tr>\n",
       "    <tr>\n",
       "      <th>NES</th>\n",
       "      <td>Super Mario Bros.</td>\n",
       "      <td>1985.0</td>\n",
       "      <td>Platform</td>\n",
       "      <td>29.08</td>\n",
       "      <td>3.58</td>\n",
       "      <td>6.81</td>\n",
       "      <td>0.77</td>\n",
       "      <td>NaN</td>\n",
       "      <td>NaN</td>\n",
       "      <td>E</td>\n",
       "      <td>39.47</td>\n",
       "    </tr>\n",
       "    <tr>\n",
       "      <th>Wii</th>\n",
       "      <td>Mario Kart Wii</td>\n",
       "      <td>2008.0</td>\n",
       "      <td>Racing</td>\n",
       "      <td>15.68</td>\n",
       "      <td>12.76</td>\n",
       "      <td>3.79</td>\n",
       "      <td>3.29</td>\n",
       "      <td>82.0</td>\n",
       "      <td>8.3</td>\n",
       "      <td>E</td>\n",
       "      <td>32.23</td>\n",
       "    </tr>\n",
       "    <tr>\n",
       "      <th>Wii</th>\n",
       "      <td>Wii Sports Resort</td>\n",
       "      <td>2009.0</td>\n",
       "      <td>Sports</td>\n",
       "      <td>15.61</td>\n",
       "      <td>10.93</td>\n",
       "      <td>3.28</td>\n",
       "      <td>2.95</td>\n",
       "      <td>80.0</td>\n",
       "      <td>8.0</td>\n",
       "      <td>E</td>\n",
       "      <td>29.82</td>\n",
       "    </tr>\n",
       "    <tr>\n",
       "      <th>GB</th>\n",
       "      <td>Pokemon Red/Pokemon Blue</td>\n",
       "      <td>1996.0</td>\n",
       "      <td>Role-Playing</td>\n",
       "      <td>11.27</td>\n",
       "      <td>8.89</td>\n",
       "      <td>10.22</td>\n",
       "      <td>1.00</td>\n",
       "      <td>NaN</td>\n",
       "      <td>NaN</td>\n",
       "      <td>E</td>\n",
       "      <td>30.38</td>\n",
       "    </tr>\n",
       "    <tr>\n",
       "      <th>...</th>\n",
       "      <td>...</td>\n",
       "      <td>...</td>\n",
       "      <td>...</td>\n",
       "      <td>...</td>\n",
       "      <td>...</td>\n",
       "      <td>...</td>\n",
       "      <td>...</td>\n",
       "      <td>...</td>\n",
       "      <td>...</td>\n",
       "      <td>...</td>\n",
       "      <td>...</td>\n",
       "    </tr>\n",
       "    <tr>\n",
       "      <th>GBA</th>\n",
       "      <td>Woody Woodpecker in Crazy Castle 5</td>\n",
       "      <td>2002.0</td>\n",
       "      <td>Platform</td>\n",
       "      <td>0.01</td>\n",
       "      <td>0.00</td>\n",
       "      <td>0.00</td>\n",
       "      <td>0.00</td>\n",
       "      <td>NaN</td>\n",
       "      <td>NaN</td>\n",
       "      <td>E</td>\n",
       "      <td>0.01</td>\n",
       "    </tr>\n",
       "    <tr>\n",
       "      <th>PS2</th>\n",
       "      <td>SCORE International Baja 1000: The Official Game</td>\n",
       "      <td>2008.0</td>\n",
       "      <td>Racing</td>\n",
       "      <td>0.00</td>\n",
       "      <td>0.00</td>\n",
       "      <td>0.00</td>\n",
       "      <td>0.00</td>\n",
       "      <td>NaN</td>\n",
       "      <td>NaN</td>\n",
       "      <td>E</td>\n",
       "      <td>0.00</td>\n",
       "    </tr>\n",
       "    <tr>\n",
       "      <th>PS3</th>\n",
       "      <td>Samurai Warriors: Sanada Maru</td>\n",
       "      <td>2016.0</td>\n",
       "      <td>Action</td>\n",
       "      <td>0.00</td>\n",
       "      <td>0.00</td>\n",
       "      <td>0.01</td>\n",
       "      <td>0.00</td>\n",
       "      <td>NaN</td>\n",
       "      <td>NaN</td>\n",
       "      <td>RP</td>\n",
       "      <td>0.01</td>\n",
       "    </tr>\n",
       "    <tr>\n",
       "      <th>X360</th>\n",
       "      <td>LMA Manager 2007</td>\n",
       "      <td>2006.0</td>\n",
       "      <td>Sports</td>\n",
       "      <td>0.00</td>\n",
       "      <td>0.01</td>\n",
       "      <td>0.00</td>\n",
       "      <td>0.00</td>\n",
       "      <td>NaN</td>\n",
       "      <td>NaN</td>\n",
       "      <td>E</td>\n",
       "      <td>0.01</td>\n",
       "    </tr>\n",
       "    <tr>\n",
       "      <th>GBA</th>\n",
       "      <td>Spirits &amp; Spells</td>\n",
       "      <td>2003.0</td>\n",
       "      <td>Platform</td>\n",
       "      <td>0.01</td>\n",
       "      <td>0.00</td>\n",
       "      <td>0.00</td>\n",
       "      <td>0.00</td>\n",
       "      <td>NaN</td>\n",
       "      <td>NaN</td>\n",
       "      <td>E</td>\n",
       "      <td>0.01</td>\n",
       "    </tr>\n",
       "  </tbody>\n",
       "</table>\n",
       "<p>15720 rows × 11 columns</p>\n",
       "</div>"
      ],
      "text/plain": [
       "                                                      name  year_of_release  \\\n",
       "platform                                                                      \n",
       "Wii                                             Wii Sports           2006.0   \n",
       "NES                                      Super Mario Bros.           1985.0   \n",
       "Wii                                         Mario Kart Wii           2008.0   \n",
       "Wii                                      Wii Sports Resort           2009.0   \n",
       "GB                                Pokemon Red/Pokemon Blue           1996.0   \n",
       "...                                                    ...              ...   \n",
       "GBA                     Woody Woodpecker in Crazy Castle 5           2002.0   \n",
       "PS2       SCORE International Baja 1000: The Official Game           2008.0   \n",
       "PS3                          Samurai Warriors: Sanada Maru           2016.0   \n",
       "X360                                      LMA Manager 2007           2006.0   \n",
       "GBA                                       Spirits & Spells           2003.0   \n",
       "\n",
       "                 genre  na_sales  eu_sales  jp_sales  other_sales  \\\n",
       "platform                                                            \n",
       "Wii             Sports     41.36     28.96      3.77         8.45   \n",
       "NES           Platform     29.08      3.58      6.81         0.77   \n",
       "Wii             Racing     15.68     12.76      3.79         3.29   \n",
       "Wii             Sports     15.61     10.93      3.28         2.95   \n",
       "GB        Role-Playing     11.27      8.89     10.22         1.00   \n",
       "...                ...       ...       ...       ...          ...   \n",
       "GBA           Platform      0.01      0.00      0.00         0.00   \n",
       "PS2             Racing      0.00      0.00      0.00         0.00   \n",
       "PS3             Action      0.00      0.00      0.01         0.00   \n",
       "X360            Sports      0.00      0.01      0.00         0.00   \n",
       "GBA           Platform      0.01      0.00      0.00         0.00   \n",
       "\n",
       "          critic_score  user_score rating  total_sales  \n",
       "platform                                                \n",
       "Wii               76.0         8.0      E        74.09  \n",
       "NES                NaN         NaN      E        39.47  \n",
       "Wii               82.0         8.3      E        32.23  \n",
       "Wii               80.0         8.0      E        29.82  \n",
       "GB                 NaN         NaN      E        30.38  \n",
       "...                ...         ...    ...          ...  \n",
       "GBA                NaN         NaN      E         0.01  \n",
       "PS2                NaN         NaN      E         0.00  \n",
       "PS3                NaN         NaN     RP         0.01  \n",
       "X360               NaN         NaN      E         0.01  \n",
       "GBA                NaN         NaN      E         0.01  \n",
       "\n",
       "[15720 rows x 11 columns]"
      ]
     },
     "execution_count": 22,
     "metadata": {},
     "output_type": "execute_result"
    }
   ],
   "source": [
    "data = data.set_index('platform')\n",
    "top_platforms_pivot = data[data.index.isin(data_platform_top.index)]\n",
    "top_platforms_pivot"
   ]
  },
  {
   "cell_type": "code",
   "execution_count": 23,
   "metadata": {},
   "outputs": [
    {
     "data": {
      "text/html": [
       "<div>\n",
       "<style scoped>\n",
       "    .dataframe tbody tr th:only-of-type {\n",
       "        vertical-align: middle;\n",
       "    }\n",
       "\n",
       "    .dataframe tbody tr th {\n",
       "        vertical-align: top;\n",
       "    }\n",
       "\n",
       "    .dataframe thead th {\n",
       "        text-align: right;\n",
       "    }\n",
       "</style>\n",
       "<table border=\"1\" class=\"dataframe\">\n",
       "  <thead>\n",
       "    <tr style=\"text-align: right;\">\n",
       "      <th></th>\n",
       "      <th>platform</th>\n",
       "      <th>year_of_release</th>\n",
       "      <th>total_sales</th>\n",
       "    </tr>\n",
       "  </thead>\n",
       "  <tbody>\n",
       "    <tr>\n",
       "      <th>0</th>\n",
       "      <td>3DS</td>\n",
       "      <td>2011.0</td>\n",
       "      <td>58.80</td>\n",
       "    </tr>\n",
       "    <tr>\n",
       "      <th>1</th>\n",
       "      <td>3DS</td>\n",
       "      <td>2012.0</td>\n",
       "      <td>48.77</td>\n",
       "    </tr>\n",
       "    <tr>\n",
       "      <th>2</th>\n",
       "      <td>3DS</td>\n",
       "      <td>2013.0</td>\n",
       "      <td>53.97</td>\n",
       "    </tr>\n",
       "    <tr>\n",
       "      <th>3</th>\n",
       "      <td>3DS</td>\n",
       "      <td>2014.0</td>\n",
       "      <td>41.75</td>\n",
       "    </tr>\n",
       "    <tr>\n",
       "      <th>4</th>\n",
       "      <td>3DS</td>\n",
       "      <td>2015.0</td>\n",
       "      <td>26.75</td>\n",
       "    </tr>\n",
       "  </tbody>\n",
       "</table>\n",
       "</div>"
      ],
      "text/plain": [
       "  platform  year_of_release  total_sales\n",
       "0      3DS           2011.0        58.80\n",
       "1      3DS           2012.0        48.77\n",
       "2      3DS           2013.0        53.97\n",
       "3      3DS           2014.0        41.75\n",
       "4      3DS           2015.0        26.75"
      ]
     },
     "execution_count": 23,
     "metadata": {},
     "output_type": "execute_result"
    }
   ],
   "source": [
    "top_platforms_ten = pd.pivot_table(top_platforms_pivot, index = ['platform', 'year_of_release'], values = 'total_sales', aggfunc = 'sum').query('year_of_release != 1000').reset_index()\n",
    "top_platforms_ten.head()"
   ]
  },
  {
   "cell_type": "code",
   "execution_count": 24,
   "metadata": {},
   "outputs": [
    {
     "data": {
      "image/png": "[encoded data removed]",
      "text/plain": [
       "<Figure size 1440x720 with 1 Axes>"
      ]
     },
     "metadata": {
      "needs_background": "light"
     },
     "output_type": "display_data"
    }
   ],
   "source": [
    "plt.figure(figsize=(20, 10))\n",
    "sns.lineplot(x='year_of_release', y='total_sales', hue='platform', data=top_platforms_ten.query('year_of_release >= 1991'))\n",
    "plt.xlabel('Year',fontsize=16)\n",
    "plt.ylabel('Total sale',fontsize=16)\n",
    "plt.title('Top 6 platforms')\n",
    "plt.show()"
   ]
  },
  {
   "cell_type": "markdown",
   "metadata": {},
   "source": [
    "- Я выделила топ 18 платформ, с самой высокой прибылью за все время.\n",
    "- В среднем цикл жизни одной платформы занимает около 10 лет. Исключением из правил можно считать платформу DS, которая \"прожила\" больше 30 лет, и PC, она все еще работает с середины 1990-х.\n",
    "\n",
    "\n",
    "Анализ основных игровых платформ показал:\n",
    "- Три лидирующие по продажам платформы - PC, PS3, Wii\n",
    "- Платформы PS4 и XOne начинают набирать рост, можно считать их потенциально прибыльными\n",
    "- Из платформ, продолжающих работать в 2016 году на спад идут Wii, X360, PS3, 3DS и PC"
   ]
  },
  {
   "cell_type": "code",
   "execution_count": 25,
   "metadata": {},
   "outputs": [],
   "source": [
    "top_platforms_ten = top_platforms_ten.query('year_of_release >= 2005')\n",
    "top_platforms_pivot = top_platforms_pivot.query('year_of_release >= 2005')"
   ]
  },
  {
   "cell_type": "code",
   "execution_count": 26,
   "metadata": {},
   "outputs": [
    {
     "data": {
      "image/png": "[encoded data removed]",
      "text/plain": [
       "<Figure size 864x648 with 1 Axes>"
      ]
     },
     "metadata": {
      "needs_background": "light"
     },
     "output_type": "display_data"
    }
   ],
   "source": [
    "plt.figure(figsize=(12, 9))\n",
    "sns.boxplot(x='platform', y='total_sales', data = top_platforms_ten)\n",
    "plt.show()"
   ]
  },
  {
   "cell_type": "markdown",
   "metadata": {},
   "source": [
    "- Платформы PS2, PS3, PS4 можно считать самыми успешными на рынке компьютерных игр. Учитывая, что все эти платформы продукт одной линейк \"Play station\", вместе они составляют самое большое количество продаж.\n",
    "- Платформы DS, Wii и X360 так же занимают лидирующие позиции по количеству продаж."
   ]
  },
  {
   "cell_type": "code",
   "execution_count": 27,
   "metadata": {},
   "outputs": [
    {
     "name": "stderr",
     "output_type": "stream",
     "text": [
      "/var/folders/vx/vjxdxpfx19j6k3fggtp493v00000gq/T/ipykernel_3760/1494678349.py:1: SettingWithCopyWarning: \n",
      "A value is trying to be set on a copy of a slice from a DataFrame.\n",
      "Try using .loc[row_indexer,col_indexer] = value instead\n",
      "\n",
      "See the caveats in the documentation: https://pandas.pydata.org/pandas-docs/stable/user_guide/indexing.html#returning-a-view-versus-a-copy\n",
      "  top_platforms_pivot['user_score'] = top_platforms_pivot['user_score'] * 10\n"
     ]
    },
    {
     "data": {
      "text/html": [
       "<div>\n",
       "<style scoped>\n",
       "    .dataframe tbody tr th:only-of-type {\n",
       "        vertical-align: middle;\n",
       "    }\n",
       "\n",
       "    .dataframe tbody tr th {\n",
       "        vertical-align: top;\n",
       "    }\n",
       "\n",
       "    .dataframe thead th {\n",
       "        text-align: right;\n",
       "    }\n",
       "</style>\n",
       "<table border=\"1\" class=\"dataframe\">\n",
       "  <thead>\n",
       "    <tr style=\"text-align: right;\">\n",
       "      <th></th>\n",
       "      <th>name</th>\n",
       "      <th>year_of_release</th>\n",
       "      <th>genre</th>\n",
       "      <th>na_sales</th>\n",
       "      <th>eu_sales</th>\n",
       "      <th>jp_sales</th>\n",
       "      <th>other_sales</th>\n",
       "      <th>critic_score</th>\n",
       "      <th>user_score</th>\n",
       "      <th>rating</th>\n",
       "      <th>total_sales</th>\n",
       "    </tr>\n",
       "    <tr>\n",
       "      <th>platform</th>\n",
       "      <th></th>\n",
       "      <th></th>\n",
       "      <th></th>\n",
       "      <th></th>\n",
       "      <th></th>\n",
       "      <th></th>\n",
       "      <th></th>\n",
       "      <th></th>\n",
       "      <th></th>\n",
       "      <th></th>\n",
       "      <th></th>\n",
       "    </tr>\n",
       "  </thead>\n",
       "  <tbody>\n",
       "    <tr>\n",
       "      <th>Wii</th>\n",
       "      <td>Wii Sports</td>\n",
       "      <td>2006.0</td>\n",
       "      <td>Sports</td>\n",
       "      <td>41.36</td>\n",
       "      <td>28.96</td>\n",
       "      <td>3.77</td>\n",
       "      <td>8.45</td>\n",
       "      <td>76.0</td>\n",
       "      <td>80.0</td>\n",
       "      <td>E</td>\n",
       "      <td>74.09</td>\n",
       "    </tr>\n",
       "    <tr>\n",
       "      <th>Wii</th>\n",
       "      <td>Mario Kart Wii</td>\n",
       "      <td>2008.0</td>\n",
       "      <td>Racing</td>\n",
       "      <td>15.68</td>\n",
       "      <td>12.76</td>\n",
       "      <td>3.79</td>\n",
       "      <td>3.29</td>\n",
       "      <td>82.0</td>\n",
       "      <td>83.0</td>\n",
       "      <td>E</td>\n",
       "      <td>32.23</td>\n",
       "    </tr>\n",
       "    <tr>\n",
       "      <th>Wii</th>\n",
       "      <td>Wii Sports Resort</td>\n",
       "      <td>2009.0</td>\n",
       "      <td>Sports</td>\n",
       "      <td>15.61</td>\n",
       "      <td>10.93</td>\n",
       "      <td>3.28</td>\n",
       "      <td>2.95</td>\n",
       "      <td>80.0</td>\n",
       "      <td>80.0</td>\n",
       "      <td>E</td>\n",
       "      <td>29.82</td>\n",
       "    </tr>\n",
       "    <tr>\n",
       "      <th>DS</th>\n",
       "      <td>New Super Mario Bros.</td>\n",
       "      <td>2006.0</td>\n",
       "      <td>Platform</td>\n",
       "      <td>11.28</td>\n",
       "      <td>9.14</td>\n",
       "      <td>6.50</td>\n",
       "      <td>2.88</td>\n",
       "      <td>89.0</td>\n",
       "      <td>85.0</td>\n",
       "      <td>E</td>\n",
       "      <td>26.92</td>\n",
       "    </tr>\n",
       "    <tr>\n",
       "      <th>Wii</th>\n",
       "      <td>Wii Play</td>\n",
       "      <td>2006.0</td>\n",
       "      <td>Misc</td>\n",
       "      <td>13.96</td>\n",
       "      <td>9.18</td>\n",
       "      <td>2.93</td>\n",
       "      <td>2.84</td>\n",
       "      <td>58.0</td>\n",
       "      <td>66.0</td>\n",
       "      <td>E</td>\n",
       "      <td>26.07</td>\n",
       "    </tr>\n",
       "  </tbody>\n",
       "</table>\n",
       "</div>"
      ],
      "text/plain": [
       "                           name  year_of_release     genre  na_sales  \\\n",
       "platform                                                               \n",
       "Wii                  Wii Sports           2006.0    Sports     41.36   \n",
       "Wii              Mario Kart Wii           2008.0    Racing     15.68   \n",
       "Wii           Wii Sports Resort           2009.0    Sports     15.61   \n",
       "DS        New Super Mario Bros.           2006.0  Platform     11.28   \n",
       "Wii                    Wii Play           2006.0      Misc     13.96   \n",
       "\n",
       "          eu_sales  jp_sales  other_sales  critic_score  user_score rating  \\\n",
       "platform                                                                     \n",
       "Wii          28.96      3.77         8.45          76.0        80.0      E   \n",
       "Wii          12.76      3.79         3.29          82.0        83.0      E   \n",
       "Wii          10.93      3.28         2.95          80.0        80.0      E   \n",
       "DS            9.14      6.50         2.88          89.0        85.0      E   \n",
       "Wii           9.18      2.93         2.84          58.0        66.0      E   \n",
       "\n",
       "          total_sales  \n",
       "platform               \n",
       "Wii             74.09  \n",
       "Wii             32.23  \n",
       "Wii             29.82  \n",
       "DS              26.92  \n",
       "Wii             26.07  "
      ]
     },
     "execution_count": 27,
     "metadata": {},
     "output_type": "execute_result"
    }
   ],
   "source": [
    "top_platforms_pivot['user_score'] = top_platforms_pivot['user_score'] * 10\n",
    "pd.set_option('chained_assignment', None)\n",
    "top_platforms_pivot.head()"
   ]
  },
  {
   "cell_type": "markdown",
   "metadata": {},
   "source": [
    "- Умножила показатели в столбце user_score на 10 для удобства сравнения."
   ]
  },
  {
   "cell_type": "markdown",
   "metadata": {},
   "source": [
    "### Анализ зависимости продаж от оценок пользователей и критиков"
   ]
  },
  {
   "cell_type": "code",
   "execution_count": 28,
   "metadata": {},
   "outputs": [
    {
     "data": {
      "text/html": [
       "<div>\n",
       "<style scoped>\n",
       "    .dataframe tbody tr th:only-of-type {\n",
       "        vertical-align: middle;\n",
       "    }\n",
       "\n",
       "    .dataframe tbody tr th {\n",
       "        vertical-align: top;\n",
       "    }\n",
       "\n",
       "    .dataframe thead th {\n",
       "        text-align: right;\n",
       "    }\n",
       "</style>\n",
       "<table border=\"1\" class=\"dataframe\">\n",
       "  <thead>\n",
       "    <tr style=\"text-align: right;\">\n",
       "      <th></th>\n",
       "      <th>platform</th>\n",
       "      <th>name</th>\n",
       "      <th>year_of_release</th>\n",
       "      <th>genre</th>\n",
       "      <th>na_sales</th>\n",
       "      <th>eu_sales</th>\n",
       "      <th>jp_sales</th>\n",
       "      <th>other_sales</th>\n",
       "      <th>critic_score</th>\n",
       "      <th>user_score</th>\n",
       "      <th>rating</th>\n",
       "      <th>total_sales</th>\n",
       "    </tr>\n",
       "  </thead>\n",
       "  <tbody>\n",
       "    <tr>\n",
       "      <th>93</th>\n",
       "      <td>PS2</td>\n",
       "      <td>Final Fantasy XII</td>\n",
       "      <td>2006.0</td>\n",
       "      <td>Role-Playing</td>\n",
       "      <td>1.88</td>\n",
       "      <td>0.00</td>\n",
       "      <td>2.33</td>\n",
       "      <td>1.74</td>\n",
       "      <td>92.0</td>\n",
       "      <td>76.0</td>\n",
       "      <td>T</td>\n",
       "      <td>4.21</td>\n",
       "    </tr>\n",
       "    <tr>\n",
       "      <th>117</th>\n",
       "      <td>PS2</td>\n",
       "      <td>Guitar Hero II</td>\n",
       "      <td>2006.0</td>\n",
       "      <td>Misc</td>\n",
       "      <td>3.81</td>\n",
       "      <td>0.63</td>\n",
       "      <td>0.00</td>\n",
       "      <td>0.68</td>\n",
       "      <td>92.0</td>\n",
       "      <td>85.0</td>\n",
       "      <td>T</td>\n",
       "      <td>4.44</td>\n",
       "    </tr>\n",
       "    <tr>\n",
       "      <th>124</th>\n",
       "      <td>PS2</td>\n",
       "      <td>Guitar Hero III: Legends of Rock</td>\n",
       "      <td>2007.0</td>\n",
       "      <td>Misc</td>\n",
       "      <td>3.49</td>\n",
       "      <td>0.01</td>\n",
       "      <td>0.01</td>\n",
       "      <td>1.48</td>\n",
       "      <td>82.0</td>\n",
       "      <td>82.0</td>\n",
       "      <td>T</td>\n",
       "      <td>3.51</td>\n",
       "    </tr>\n",
       "    <tr>\n",
       "      <th>129</th>\n",
       "      <td>PS2</td>\n",
       "      <td>Madden NFL 06</td>\n",
       "      <td>2005.0</td>\n",
       "      <td>Sports</td>\n",
       "      <td>3.98</td>\n",
       "      <td>0.26</td>\n",
       "      <td>0.01</td>\n",
       "      <td>0.66</td>\n",
       "      <td>88.0</td>\n",
       "      <td>80.0</td>\n",
       "      <td>E</td>\n",
       "      <td>4.25</td>\n",
       "    </tr>\n",
       "    <tr>\n",
       "      <th>144</th>\n",
       "      <td>PS2</td>\n",
       "      <td>Madden NFL 07</td>\n",
       "      <td>2006.0</td>\n",
       "      <td>Sports</td>\n",
       "      <td>3.63</td>\n",
       "      <td>0.24</td>\n",
       "      <td>0.01</td>\n",
       "      <td>0.61</td>\n",
       "      <td>84.0</td>\n",
       "      <td>82.0</td>\n",
       "      <td>E</td>\n",
       "      <td>3.88</td>\n",
       "    </tr>\n",
       "  </tbody>\n",
       "</table>\n",
       "</div>"
      ],
      "text/plain": [
       "    platform                              name  year_of_release         genre  \\\n",
       "93       PS2                 Final Fantasy XII           2006.0  Role-Playing   \n",
       "117      PS2                    Guitar Hero II           2006.0          Misc   \n",
       "124      PS2  Guitar Hero III: Legends of Rock           2007.0          Misc   \n",
       "129      PS2                     Madden NFL 06           2005.0        Sports   \n",
       "144      PS2                     Madden NFL 07           2006.0        Sports   \n",
       "\n",
       "     na_sales  eu_sales  jp_sales  other_sales  critic_score  user_score  \\\n",
       "93       1.88      0.00      2.33         1.74          92.0        76.0   \n",
       "117      3.81      0.63      0.00         0.68          92.0        85.0   \n",
       "124      3.49      0.01      0.01         1.48          82.0        82.0   \n",
       "129      3.98      0.26      0.01         0.66          88.0        80.0   \n",
       "144      3.63      0.24      0.01         0.61          84.0        82.0   \n",
       "\n",
       "    rating  total_sales  \n",
       "93       T         4.21  \n",
       "117      T         4.44  \n",
       "124      T         3.51  \n",
       "129      E         4.25  \n",
       "144      E         3.88  "
      ]
     },
     "execution_count": 28,
     "metadata": {},
     "output_type": "execute_result"
    }
   ],
   "source": [
    "top_platforms_pivot = top_platforms_pivot.reset_index()\n",
    "ps2_all = top_platforms_pivot[top_platforms_pivot['platform'] == 'PS2']\n",
    "ps2_all.head()"
   ]
  },
  {
   "cell_type": "code",
   "execution_count": 29,
   "metadata": {},
   "outputs": [
    {
     "data": {
      "image/png": "[encoded data removed]",
      "text/plain": [
       "<Figure size 720x720 with 2 Axes>"
      ]
     },
     "metadata": {
      "needs_background": "light"
     },
     "output_type": "display_data"
    }
   ],
   "source": [
    "fig, ax = plt.subplots(2, figsize=(10, 10))\n",
    "\n",
    "ax[0].scatter(x = ps2_all['critic_score'], y = ps2_all['total_sales'])\n",
    "ax[0].set_xlabel(\"critic_score\")\n",
    "ax[0].set_ylabel(\"total_sales\")\n",
    "\n",
    "ax[1].scatter(x = ps2_all['user_score'], y = ps2_all['total_sales'])\n",
    "ax[1].set_xlabel(\"user_score\")\n",
    "ax[1].set_ylabel(\"total_sales\")\n",
    "\n",
    "plt.show()"
   ]
  },
  {
   "cell_type": "code",
   "execution_count": 30,
   "metadata": {},
   "outputs": [
    {
     "name": "stdout",
     "output_type": "stream",
     "text": [
      "Корреляция между отзывами критиков и продажами: 0.4196411692188944\n",
      "Корреляция между отзывами пользователей и продажами: 0.21298752886009986\n"
     ]
    }
   ],
   "source": [
    "print('Корреляция между отзывами критиков и продажами:', ps2_all['critic_score'].corr(ps2_all['total_sales']))\n",
    "print('Корреляция между отзывами пользователей и продажами:', ps2_all['user_score'].corr(ps2_all['total_sales']))"
   ]
  },
  {
   "cell_type": "code",
   "execution_count": 31,
   "metadata": {
    "scrolled": true
   },
   "outputs": [
    {
     "data": {
      "image/png": "[encoded data removed]",
      "text/plain": [
       "<Figure size 720x720 with 2 Axes>"
      ]
     },
     "metadata": {
      "needs_background": "light"
     },
     "output_type": "display_data"
    }
   ],
   "source": [
    "wii_all = top_platforms_pivot[top_platforms_pivot['platform'] == 'Wii']\n",
    "\n",
    "fig, ax = plt.subplots(2, figsize=(10, 10))\n",
    "\n",
    "ax[0].scatter(x = wii_all['critic_score'], y = wii_all['total_sales'])\n",
    "ax[0].set_xlabel(\"critic_score\")\n",
    "ax[0].set_ylabel(\"total_sales\")\n",
    "\n",
    "ax[1].scatter(x = wii_all['user_score'], y = wii_all['total_sales'])\n",
    "ax[1].set_xlabel(\"user_score\")\n",
    "ax[1].set_ylabel(\"total_sales\")\n",
    "\n",
    "plt.show()"
   ]
  },
  {
   "cell_type": "code",
   "execution_count": 32,
   "metadata": {},
   "outputs": [
    {
     "name": "stdout",
     "output_type": "stream",
     "text": [
      "Корреляция между отзывами критиков и продажами: 0.17946768303150828\n",
      "Корреляция между отзывами пользователей и продажами: 0.11375325972327704\n"
     ]
    }
   ],
   "source": [
    "print('Корреляция между отзывами критиков и продажами:', wii_all['critic_score'].corr(wii_all['total_sales']))\n",
    "print('Корреляция между отзывами пользователей и продажами:', wii_all['user_score'].corr(wii_all['total_sales']))"
   ]
  },
  {
   "cell_type": "code",
   "execution_count": 33,
   "metadata": {
    "scrolled": true
   },
   "outputs": [
    {
     "data": {
      "image/png": "[encoded data removed]",
      "text/plain": [
       "<Figure size 720x720 with 2 Axes>"
      ]
     },
     "metadata": {
      "needs_background": "light"
     },
     "output_type": "display_data"
    }
   ],
   "source": [
    "ds_all = top_platforms_pivot[top_platforms_pivot['platform'] == 'DS']\n",
    "\n",
    "fig, ax = plt.subplots(2, figsize=(10, 10))\n",
    "\n",
    "ax[0].scatter(x = ds_all['critic_score'], y = ds_all['total_sales'])\n",
    "ax[0].set_xlabel(\"critic_score\")\n",
    "ax[0].set_ylabel(\"total_sales\")\n",
    "\n",
    "ax[1].scatter(x = ds_all['user_score'], y = ds_all['total_sales'])\n",
    "ax[1].set_xlabel(\"user_score\")\n",
    "ax[1].set_ylabel(\"total_sales\")\n",
    "\n",
    "plt.show()"
   ]
  },
  {
   "cell_type": "code",
   "execution_count": 34,
   "metadata": {},
   "outputs": [
    {
     "name": "stdout",
     "output_type": "stream",
     "text": [
      "Корреляция между отзывами критиков и продажами: 0.24211293886338264\n",
      "Корреляция между отзывами пользователей и продажами: 0.1347740755354628\n"
     ]
    }
   ],
   "source": [
    "print('Корреляция между отзывами критиков и продажами:', ds_all['critic_score'].corr(ds_all['total_sales']))\n",
    "print('Корреляция между отзывами пользователей и продажами:', ds_all['user_score'].corr(ds_all['total_sales']))"
   ]
  },
  {
   "cell_type": "code",
   "execution_count": 35,
   "metadata": {
    "scrolled": true
   },
   "outputs": [
    {
     "data": {
      "image/png": "[encoded data removed]",
      "text/plain": [
       "<Figure size 720x720 with 2 Axes>"
      ]
     },
     "metadata": {
      "needs_background": "light"
     },
     "output_type": "display_data"
    }
   ],
   "source": [
    "x360_all = top_platforms_pivot[top_platforms_pivot['platform'] == 'X360']\n",
    "fig, ax = plt.subplots(2, figsize=(10, 10))\n",
    "\n",
    "ax[0].scatter(x = x360_all['critic_score'], y = x360_all['total_sales'])\n",
    "ax[0].set_xlabel(\"critic_score\")\n",
    "ax[0].set_ylabel(\"total_sales\")\n",
    "\n",
    "ax[1].scatter(x = x360_all['user_score'], y = x360_all['total_sales'])\n",
    "ax[1].set_xlabel(\"user_score\")\n",
    "ax[1].set_ylabel(\"total_sales\")\n",
    "\n",
    "plt.show()"
   ]
  },
  {
   "cell_type": "code",
   "execution_count": 36,
   "metadata": {},
   "outputs": [
    {
     "name": "stdout",
     "output_type": "stream",
     "text": [
      "Корреляция между отзывами критиков и продажами: 0.39170650253813544\n",
      "Корреляция между отзывами пользователей и продажами: 0.11330035887501838\n"
     ]
    }
   ],
   "source": [
    "print('Корреляция между отзывами критиков и продажами:', x360_all['critic_score'].corr(x360_all['total_sales']))\n",
    "print('Корреляция между отзывами пользователей и продажами:', x360_all['user_score'].corr(x360_all['total_sales']))"
   ]
  },
  {
   "cell_type": "markdown",
   "metadata": {},
   "source": [
    "Выделила для анализа азвисимости продаж от оценок несколько самых популярных платформ : PS2, Wii, DS и X360.\n",
    "\n",
    "- Я наблюдаю общее повышение количества продаж на отметке 60 (critic_score - 60, user_score - 6)\n",
    "- Примечательно, что после отметки в 80 баллов продажи снижаются и к 100 баллам почти сходят на нет\n",
    "- Судя по коэффициенту корреляции отзывы критиков имеют влияние на продажи, в отличие от отзывов пользователей"
   ]
  },
  {
   "cell_type": "code",
   "execution_count": 37,
   "metadata": {},
   "outputs": [
    {
     "data": {
      "image/png": "[encoded data removed]",
      "text/plain": [
       "<Figure size 720x720 with 2 Axes>"
      ]
     },
     "metadata": {
      "needs_background": "light"
     },
     "output_type": "display_data"
    }
   ],
   "source": [
    "psp_all = top_platforms_pivot[top_platforms_pivot['platform'] == 'PSP']\n",
    "fig, ax = plt.subplots(2, figsize=(10, 10))\n",
    "\n",
    "ax[0].scatter(x = psp_all['critic_score'], y = psp_all['total_sales'])\n",
    "ax[0].set_xlabel(\"critic_score\")\n",
    "ax[0].set_ylabel(\"total_sales\")\n",
    "\n",
    "ax[1].scatter(x = psp_all['user_score'], y = psp_all['total_sales'])\n",
    "ax[1].set_xlabel(\"user_score\")\n",
    "ax[1].set_ylabel(\"total_sales\")\n",
    "\n",
    "plt.show()"
   ]
  },
  {
   "cell_type": "code",
   "execution_count": 38,
   "metadata": {},
   "outputs": [
    {
     "name": "stdout",
     "output_type": "stream",
     "text": [
      "Корреляция между отзывами критиков и продажами: 0.3176033191495287\n",
      "Корреляция между отзывами пользователей и продажами: 0.22545315040664496\n"
     ]
    }
   ],
   "source": [
    "print('Корреляция между отзывами критиков и продажами:', psp_all['critic_score'].corr(psp_all['total_sales']))\n",
    "print('Корреляция между отзывами пользователей и продажами:', psp_all['user_score'].corr(psp_all['total_sales']))"
   ]
  },
  {
   "cell_type": "code",
   "execution_count": 39,
   "metadata": {
    "scrolled": true
   },
   "outputs": [
    {
     "data": {
      "image/png": "[encoded data removed]",
      "text/plain": [
       "<Figure size 720x720 with 2 Axes>"
      ]
     },
     "metadata": {
      "needs_background": "light"
     },
     "output_type": "display_data"
    }
   ],
   "source": [
    "xb_all = top_platforms_pivot[top_platforms_pivot['platform'] == 'XB']\n",
    "fig, ax = plt.subplots(2, figsize=(10, 10))\n",
    "\n",
    "ax[0].scatter(x = xb_all['critic_score'], y = xb_all['total_sales'])\n",
    "ax[0].set_xlabel(\"critic_score\")\n",
    "ax[0].set_ylabel(\"total_sales\")\n",
    "\n",
    "ax[1].scatter(x = xb_all['user_score'], y = xb_all['total_sales'])\n",
    "ax[1].set_xlabel(\"user_score\")\n",
    "ax[1].set_ylabel(\"total_sales\")\n",
    "\n",
    "plt.show()"
   ]
  },
  {
   "cell_type": "code",
   "execution_count": 40,
   "metadata": {},
   "outputs": [
    {
     "name": "stdout",
     "output_type": "stream",
     "text": [
      "Корреляция между отзывами критиков и продажами: 0.4860789623503085\n",
      "Корреляция между отзывами пользователей и продажами: 0.20665239440860483\n"
     ]
    }
   ],
   "source": [
    "print('Корреляция между отзывами критиков и продажами:', xb_all['critic_score'].corr(xb_all['total_sales']))\n",
    "print('Корреляция между отзывами пользователей и продажами:', xb_all['user_score'].corr(xb_all['total_sales']))"
   ]
  },
  {
   "cell_type": "markdown",
   "metadata": {},
   "source": [
    "- У менее популярных платформ рост прибыли меняется так же, как и у популярных\n",
    "- Однако коэффициент корреляции показывает что и отзывы критиков и отзывы пользователей влияют на повышение продаж"
   ]
  },
  {
   "cell_type": "markdown",
   "metadata": {},
   "source": [
    "### Анализ зависимости продаж от жанров"
   ]
  },
  {
   "cell_type": "code",
   "execution_count": 41,
   "metadata": {},
   "outputs": [
    {
     "data": {
      "text/html": [
       "<div>\n",
       "<style scoped>\n",
       "    .dataframe tbody tr th:only-of-type {\n",
       "        vertical-align: middle;\n",
       "    }\n",
       "\n",
       "    .dataframe tbody tr th {\n",
       "        vertical-align: top;\n",
       "    }\n",
       "\n",
       "    .dataframe thead th {\n",
       "        text-align: right;\n",
       "    }\n",
       "</style>\n",
       "<table border=\"1\" class=\"dataframe\">\n",
       "  <thead>\n",
       "    <tr style=\"text-align: right;\">\n",
       "      <th></th>\n",
       "      <th>total_sales</th>\n",
       "    </tr>\n",
       "    <tr>\n",
       "      <th>genre</th>\n",
       "      <th></th>\n",
       "    </tr>\n",
       "  </thead>\n",
       "  <tbody>\n",
       "    <tr>\n",
       "      <th>Action</th>\n",
       "      <td>1028.56</td>\n",
       "    </tr>\n",
       "    <tr>\n",
       "      <th>Sports</th>\n",
       "      <td>744.25</td>\n",
       "    </tr>\n",
       "    <tr>\n",
       "      <th>Shooter</th>\n",
       "      <td>660.84</td>\n",
       "    </tr>\n",
       "    <tr>\n",
       "      <th>Misc</th>\n",
       "      <td>535.80</td>\n",
       "    </tr>\n",
       "    <tr>\n",
       "      <th>Role-Playing</th>\n",
       "      <td>493.06</td>\n",
       "    </tr>\n",
       "    <tr>\n",
       "      <th>Racing</th>\n",
       "      <td>300.85</td>\n",
       "    </tr>\n",
       "    <tr>\n",
       "      <th>Platform</th>\n",
       "      <td>250.94</td>\n",
       "    </tr>\n",
       "    <tr>\n",
       "      <th>Simulation</th>\n",
       "      <td>245.04</td>\n",
       "    </tr>\n",
       "    <tr>\n",
       "      <th>Fighting</th>\n",
       "      <td>175.34</td>\n",
       "    </tr>\n",
       "    <tr>\n",
       "      <th>Adventure</th>\n",
       "      <td>133.08</td>\n",
       "    </tr>\n",
       "    <tr>\n",
       "      <th>Puzzle</th>\n",
       "      <td>100.10</td>\n",
       "    </tr>\n",
       "    <tr>\n",
       "      <th>Strategy</th>\n",
       "      <td>69.97</td>\n",
       "    </tr>\n",
       "  </tbody>\n",
       "</table>\n",
       "</div>"
      ],
      "text/plain": [
       "              total_sales\n",
       "genre                    \n",
       "Action            1028.56\n",
       "Sports             744.25\n",
       "Shooter            660.84\n",
       "Misc               535.80\n",
       "Role-Playing       493.06\n",
       "Racing             300.85\n",
       "Platform           250.94\n",
       "Simulation         245.04\n",
       "Fighting           175.34\n",
       "Adventure          133.08\n",
       "Puzzle             100.10\n",
       "Strategy            69.97"
      ]
     },
     "execution_count": 41,
     "metadata": {},
     "output_type": "execute_result"
    }
   ],
   "source": [
    "genres_pivot = pd.pivot_table(top_platforms_pivot, index = 'genre', values = 'total_sales', aggfunc = 'sum').sort_values(by='total_sales', ascending = False)\n",
    "genres_pivot\n"
   ]
  },
  {
   "cell_type": "code",
   "execution_count": 42,
   "metadata": {},
   "outputs": [
    {
     "data": {
      "image/png": "[encoded data removed]",
      "text/plain": [
       "<Figure size 576x720 with 1 Axes>"
      ]
     },
     "metadata": {
      "needs_background": "light"
     },
     "output_type": "display_data"
    }
   ],
   "source": [
    "genres_pivot = genres_pivot.plot(kind='bar', figsize = (8,10))\n",
    "plt.show()"
   ]
  },
  {
   "cell_type": "markdown",
   "metadata": {},
   "source": [
    "- Самыми популярными жанрами являются Action и Sports\n",
    "- Одними из самых неприбыльных жанров можно считать Puzzle, Adventure и Strategy"
   ]
  },
  {
   "cell_type": "markdown",
   "metadata": {},
   "source": [
    "### Вывод "
   ]
  },
  {
   "cell_type": "markdown",
   "metadata": {},
   "source": [
    "Для анализа я использовала игры, выпущенные в период с 1991 года и до 2016. В некоторых этапах анализа данных я не использовала игры с пометкой 1000 в столбце с годом выпуска. \n",
    "\n",
    "Из всего представленного списка платформ я выделила 18 самых успешных и подходящих для анализа. В ходе анализа мной были выявлены основные критерии и показатели:\n",
    "- В среднем цикл жизни одной платформы составляет около 10 лет, за исключением некоторых платформ, чья работа не прекращается и на протяжении 30 лет, но их не много.\n",
    "- PC, PS3, Wii - лидирующие по общим продажам платформы.\n",
    "- Потенциально прибыльными платформами можно считать платформы PS4 и XOne, так как их цикл жизни только начался и продажи начинают набирать обороты.\n",
    "- Платформы Wii, X360, PS3, 3DS и PC продолжают работать в 2016 году, но их продажи уже начали идти на спад, предполагаю скорое завершение их жизненного цикла.\n",
    "- Платформы линейки \"Play station\"(PS, PS2, PS3, PS4) можно считать самыми успешными из всех представленных, они занимают лидирующие позиции по количеству продаж. Так же в списке лидеров по продажам DS, Wii и X360.\n",
    "\n",
    "Для анализа зависимости продаж от оценок я выбрала 4 популярные платформы и три менее популярные. Для облегчения сравнения двух показателей(оценки пользователей и критиков) я умножила на 10 оценки пользователей. Диаграммы показали повышение количества продаж на отметке в 60 баллов и их спад начиная с отметки 80 и дальше. Коэффициент корреляции у популярных платформ показал зависимость продаж от оценки критиков, в то время как у менее популярных платформ оценки критиков и пользователей имеют почти равное влияние на продажи. То есть, чем выше оценка, тем выше продажи.\n",
    "\n",
    "Что касается жанров, лидирующие позиции по продажам занимают игры в жанре Action и Sports, а игры в жанре Puzzle, Adventure и Strategy занимают последние места в рейтинге."
   ]
  },
  {
   "cell_type": "markdown",
   "metadata": {},
   "source": [
    "## Портрет пользователя каждого региона "
   ]
  },
  {
   "cell_type": "markdown",
   "metadata": {},
   "source": [
    "### Северная америка (NA) "
   ]
  },
  {
   "cell_type": "code",
   "execution_count": 43,
   "metadata": {},
   "outputs": [
    {
     "data": {
      "text/html": [
       "<div>\n",
       "<style scoped>\n",
       "    .dataframe tbody tr th:only-of-type {\n",
       "        vertical-align: middle;\n",
       "    }\n",
       "\n",
       "    .dataframe tbody tr th {\n",
       "        vertical-align: top;\n",
       "    }\n",
       "\n",
       "    .dataframe thead th {\n",
       "        text-align: right;\n",
       "    }\n",
       "</style>\n",
       "<table border=\"1\" class=\"dataframe\">\n",
       "  <thead>\n",
       "    <tr style=\"text-align: right;\">\n",
       "      <th></th>\n",
       "      <th>na_sales</th>\n",
       "    </tr>\n",
       "    <tr>\n",
       "      <th>platform</th>\n",
       "      <th></th>\n",
       "    </tr>\n",
       "  </thead>\n",
       "  <tbody>\n",
       "    <tr>\n",
       "      <th>X360</th>\n",
       "      <td>595.74</td>\n",
       "    </tr>\n",
       "    <tr>\n",
       "      <th>Wii</th>\n",
       "      <td>486.87</td>\n",
       "    </tr>\n",
       "    <tr>\n",
       "      <th>PS3</th>\n",
       "      <td>390.13</td>\n",
       "    </tr>\n",
       "    <tr>\n",
       "      <th>DS</th>\n",
       "      <td>371.98</td>\n",
       "    </tr>\n",
       "    <tr>\n",
       "      <th>PS2</th>\n",
       "      <td>200.49</td>\n",
       "    </tr>\n",
       "  </tbody>\n",
       "</table>\n",
       "</div>"
      ],
      "text/plain": [
       "          na_sales\n",
       "platform          \n",
       "X360        595.74\n",
       "Wii         486.87\n",
       "PS3         390.13\n",
       "DS          371.98\n",
       "PS2         200.49"
      ]
     },
     "execution_count": 43,
     "metadata": {},
     "output_type": "execute_result"
    }
   ],
   "source": [
    "na_pivot = pd.pivot_table(top_platforms_pivot, index = 'platform', values = ['na_sales'], aggfunc = 'sum').sort_values(by='na_sales', ascending = False)\n",
    "na_pivot.head()"
   ]
  },
  {
   "cell_type": "code",
   "execution_count": 44,
   "metadata": {},
   "outputs": [
    {
     "data": {
      "image/png": "[encoded data removed]",
      "text/plain": [
       "<Figure size 576x720 with 1 Axes>"
      ]
     },
     "metadata": {
      "needs_background": "light"
     },
     "output_type": "display_data"
    }
   ],
   "source": [
    "na_pivot.plot(kind='bar', figsize = (8,10))\n",
    "plt.show()"
   ]
  },
  {
   "cell_type": "code",
   "execution_count": 45,
   "metadata": {},
   "outputs": [
    {
     "name": "stdout",
     "output_type": "stream",
     "text": [
      "Общие с продажи по Северной Америке составляют: 2578.25 млн. копий.\n"
     ]
    }
   ],
   "source": [
    "na_sum = na_pivot['na_sales'].sum()\n",
    "print('Общие с продажи по Северной Америке составляют:', na_sum, 'млн. копий.')"
   ]
  },
  {
   "cell_type": "code",
   "execution_count": 46,
   "metadata": {},
   "outputs": [
    {
     "data": {
      "image/png": "[encoded data removed]",
      "text/plain": [
       "<Figure size 576x720 with 1 Axes>"
      ]
     },
     "metadata": {
      "needs_background": "light"
     },
     "output_type": "display_data"
    }
   ],
   "source": [
    "na_genre_pivot = pd.pivot_table(top_platforms_pivot, index = 'genre', values = ['na_sales'], aggfunc = 'sum').sort_values(by='na_sales', ascending = False)\n",
    "na_genre_pivot.plot(kind='bar', figsize = (8,10))\n",
    "plt.show()"
   ]
  },
  {
   "cell_type": "code",
   "execution_count": 47,
   "metadata": {},
   "outputs": [
    {
     "data": {
      "image/png": "[encoded data removed]",
      "text/plain": [
       "<Figure size 576x720 with 1 Axes>"
      ]
     },
     "metadata": {
      "needs_background": "light"
     },
     "output_type": "display_data"
    }
   ],
   "source": [
    "na_rating_pivot = pd.pivot_table(top_platforms_pivot, index = 'rating', values = ['na_sales'], aggfunc = 'sum').sort_values(by='na_sales', ascending = False)\n",
    "na_rating_pivot.plot(kind='bar', figsize = (8,10))\n",
    "plt.show()"
   ]
  },
  {
   "cell_type": "code",
   "execution_count": 48,
   "metadata": {},
   "outputs": [
    {
     "data": {
      "text/html": [
       "<div>\n",
       "<style scoped>\n",
       "    .dataframe tbody tr th:only-of-type {\n",
       "        vertical-align: middle;\n",
       "    }\n",
       "\n",
       "    .dataframe tbody tr th {\n",
       "        vertical-align: top;\n",
       "    }\n",
       "\n",
       "    .dataframe thead th {\n",
       "        text-align: right;\n",
       "    }\n",
       "</style>\n",
       "<table border=\"1\" class=\"dataframe\">\n",
       "  <thead>\n",
       "    <tr style=\"text-align: right;\">\n",
       "      <th></th>\n",
       "      <th>na_sales</th>\n",
       "    </tr>\n",
       "    <tr>\n",
       "      <th>rating</th>\n",
       "      <th></th>\n",
       "    </tr>\n",
       "  </thead>\n",
       "  <tbody>\n",
       "    <tr>\n",
       "      <th>E</th>\n",
       "      <td>1162.36</td>\n",
       "    </tr>\n",
       "    <tr>\n",
       "      <th>M</th>\n",
       "      <td>601.58</td>\n",
       "    </tr>\n",
       "    <tr>\n",
       "      <th>T</th>\n",
       "      <td>473.50</td>\n",
       "    </tr>\n",
       "    <tr>\n",
       "      <th>E10+</th>\n",
       "      <td>329.84</td>\n",
       "    </tr>\n",
       "    <tr>\n",
       "      <th>RP</th>\n",
       "      <td>8.18</td>\n",
       "    </tr>\n",
       "    <tr>\n",
       "      <th>EC</th>\n",
       "      <td>1.53</td>\n",
       "    </tr>\n",
       "    <tr>\n",
       "      <th>AO</th>\n",
       "      <td>1.26</td>\n",
       "    </tr>\n",
       "  </tbody>\n",
       "</table>\n",
       "</div>"
      ],
      "text/plain": [
       "        na_sales\n",
       "rating          \n",
       "E        1162.36\n",
       "M         601.58\n",
       "T         473.50\n",
       "E10+      329.84\n",
       "RP          8.18\n",
       "EC          1.53\n",
       "AO          1.26"
      ]
     },
     "execution_count": 48,
     "metadata": {},
     "output_type": "execute_result"
    }
   ],
   "source": [
    "na_rating_pivot"
   ]
  },
  {
   "cell_type": "markdown",
   "metadata": {},
   "source": [
    "- X360, Wii, PS3, DS и PS2 - самые продаваемые платформs\n",
    "- Общие продажи по региону: 2578.2\n",
    "- Action, Sports, Shooter, Misc и Role-Playing - самые популярные жанры\n",
    "- Самые популярные игры с рейтингом E(\"Для всех\"). Игры с рейтингом T(\"Подросткам\") и M(\"Для взрослых\") и E10+(\"От 10 лет и старше\") так же на лидирующих позициях."
   ]
  },
  {
   "cell_type": "markdown",
   "metadata": {},
   "source": [
    "### Европа (EU) "
   ]
  },
  {
   "cell_type": "code",
   "execution_count": 49,
   "metadata": {
    "scrolled": true
   },
   "outputs": [
    {
     "data": {
      "image/png": "[encoded data removed]",
      "text/plain": [
       "<Figure size 576x720 with 1 Axes>"
      ]
     },
     "metadata": {
      "needs_background": "light"
     },
     "output_type": "display_data"
    }
   ],
   "source": [
    "eu_pivot = pd.pivot_table(top_platforms_pivot, index = 'platform', values = ['eu_sales'], aggfunc = 'sum').sort_values(by='eu_sales', ascending = False)\n",
    "na_pivot.plot(kind='bar', figsize = (8,10))\n",
    "plt.show()"
   ]
  },
  {
   "cell_type": "code",
   "execution_count": 50,
   "metadata": {},
   "outputs": [
    {
     "name": "stdout",
     "output_type": "stream",
     "text": [
      "Общие с продажи по Европе составляют: 1578.91 млн. копий.\n"
     ]
    }
   ],
   "source": [
    "eu_sum = eu_pivot['eu_sales'].sum()\n",
    "print('Общие с продажи по Европе составляют:', eu_sum, 'млн. копий.')"
   ]
  },
  {
   "cell_type": "code",
   "execution_count": 51,
   "metadata": {},
   "outputs": [
    {
     "data": {
      "image/png": "[encoded data removed]",
      "text/plain": [
       "<Figure size 576x720 with 1 Axes>"
      ]
     },
     "metadata": {
      "needs_background": "light"
     },
     "output_type": "display_data"
    }
   ],
   "source": [
    "eu_genre_pivot = pd.pivot_table(top_platforms_pivot, index = 'genre', values = ['eu_sales'], aggfunc = 'sum').sort_values(by='eu_sales', ascending = False)\n",
    "eu_genre_pivot.plot(kind='bar', figsize = (8,10))\n",
    "plt.show()"
   ]
  },
  {
   "cell_type": "code",
   "execution_count": 52,
   "metadata": {},
   "outputs": [
    {
     "data": {
      "image/png": "[encoded data removed]",
      "text/plain": [
       "<Figure size 576x720 with 1 Axes>"
      ]
     },
     "metadata": {
      "needs_background": "light"
     },
     "output_type": "display_data"
    }
   ],
   "source": [
    "eu_rating_pivot = pd.pivot_table(top_platforms_pivot, index = 'rating', values = ['eu_sales'], aggfunc = 'sum').sort_values(by='eu_sales', ascending = False)\n",
    "eu_rating_pivot.plot(kind='bar', figsize = (8,10))\n",
    "plt.show()"
   ]
  },
  {
   "cell_type": "code",
   "execution_count": 53,
   "metadata": {},
   "outputs": [
    {
     "data": {
      "text/html": [
       "<div>\n",
       "<style scoped>\n",
       "    .dataframe tbody tr th:only-of-type {\n",
       "        vertical-align: middle;\n",
       "    }\n",
       "\n",
       "    .dataframe tbody tr th {\n",
       "        vertical-align: top;\n",
       "    }\n",
       "\n",
       "    .dataframe thead th {\n",
       "        text-align: right;\n",
       "    }\n",
       "</style>\n",
       "<table border=\"1\" class=\"dataframe\">\n",
       "  <thead>\n",
       "    <tr style=\"text-align: right;\">\n",
       "      <th></th>\n",
       "      <th>eu_sales</th>\n",
       "    </tr>\n",
       "    <tr>\n",
       "      <th>rating</th>\n",
       "      <th></th>\n",
       "    </tr>\n",
       "  </thead>\n",
       "  <tbody>\n",
       "    <tr>\n",
       "      <th>E</th>\n",
       "      <td>735.49</td>\n",
       "    </tr>\n",
       "    <tr>\n",
       "      <th>M</th>\n",
       "      <td>409.97</td>\n",
       "    </tr>\n",
       "    <tr>\n",
       "      <th>T</th>\n",
       "      <td>254.00</td>\n",
       "    </tr>\n",
       "    <tr>\n",
       "      <th>E10+</th>\n",
       "      <td>171.54</td>\n",
       "    </tr>\n",
       "    <tr>\n",
       "      <th>RP</th>\n",
       "      <td>7.19</td>\n",
       "    </tr>\n",
       "    <tr>\n",
       "      <th>AO</th>\n",
       "      <td>0.61</td>\n",
       "    </tr>\n",
       "    <tr>\n",
       "      <th>EC</th>\n",
       "      <td>0.11</td>\n",
       "    </tr>\n",
       "  </tbody>\n",
       "</table>\n",
       "</div>"
      ],
      "text/plain": [
       "        eu_sales\n",
       "rating          \n",
       "E         735.49\n",
       "M         409.97\n",
       "T         254.00\n",
       "E10+      171.54\n",
       "RP          7.19\n",
       "AO          0.61\n",
       "EC          0.11"
      ]
     },
     "execution_count": 53,
     "metadata": {},
     "output_type": "execute_result"
    }
   ],
   "source": [
    "eu_rating_pivot"
   ]
  },
  {
   "cell_type": "markdown",
   "metadata": {},
   "source": [
    "- X360, Wii, PS3, DS и PS2 - самые популярные платформы\n",
    "- Action, Sports, Shooter, Misc и Racing - самые популярные жанры \n",
    "- Общие продажи по региону: 1578.9\n",
    "- Самые популярные игры с рейтингом E(\"Для всех\"). Игры с рейтингом M(\"Для взрослых\") и T(\"Подросткам\") и E10+(\"От 10 лет и старше\") так же на лидирующих позициях."
   ]
  },
  {
   "cell_type": "markdown",
   "metadata": {},
   "source": [
    "### Япония (JP) <a id=\"jp\"></a>"
   ]
  },
  {
   "cell_type": "code",
   "execution_count": 54,
   "metadata": {},
   "outputs": [
    {
     "data": {
      "image/png": "[encoded data removed]",
      "text/plain": [
       "<Figure size 576x720 with 1 Axes>"
      ]
     },
     "metadata": {
      "needs_background": "light"
     },
     "output_type": "display_data"
    }
   ],
   "source": [
    "jp_pivot = pd.pivot_table(top_platforms_pivot, index = 'platform', values = ['jp_sales'], aggfunc = 'sum').sort_values(by='jp_sales', ascending = False)\n",
    "jp_pivot.plot(kind='bar', figsize = (8,10))\n",
    "plt.show()"
   ]
  },
  {
   "cell_type": "code",
   "execution_count": 55,
   "metadata": {},
   "outputs": [
    {
     "name": "stdout",
     "output_type": "stream",
     "text": [
      "Общие с продажи по Японии составляют: 580.67 млн. копий.\n"
     ]
    }
   ],
   "source": [
    "jp_sum = jp_pivot['jp_sales'].sum()\n",
    "print('Общие с продажи по Японии составляют:', jp_sum, 'млн. копий.')"
   ]
  },
  {
   "cell_type": "code",
   "execution_count": 56,
   "metadata": {
    "scrolled": false
   },
   "outputs": [
    {
     "data": {
      "image/png": "[encoded data removed]",
      "text/plain": [
       "<Figure size 576x720 with 1 Axes>"
      ]
     },
     "metadata": {
      "needs_background": "light"
     },
     "output_type": "display_data"
    }
   ],
   "source": [
    "jp_genre_pivot = pd.pivot_table(top_platforms_pivot, index = 'genre', values = ['jp_sales'], aggfunc = 'sum').sort_values(by='jp_sales', ascending = False)\n",
    "jp_genre_pivot.plot(kind='bar', figsize = (8,10))\n",
    "plt.show()"
   ]
  },
  {
   "cell_type": "code",
   "execution_count": 57,
   "metadata": {},
   "outputs": [
    {
     "data": {
      "image/png": "[encoded data removed]",
      "text/plain": [
       "<Figure size 576x720 with 1 Axes>"
      ]
     },
     "metadata": {
      "needs_background": "light"
     },
     "output_type": "display_data"
    }
   ],
   "source": [
    "jp_rating_pivot = pd.pivot_table(top_platforms_pivot, index = 'rating', values = ['jp_sales'], aggfunc = 'sum').sort_values(by='jp_sales', ascending = False)\n",
    "jp_rating_pivot.plot(kind='bar', figsize = (8,10))\n",
    "plt.show()"
   ]
  },
  {
   "cell_type": "code",
   "execution_count": 58,
   "metadata": {},
   "outputs": [
    {
     "data": {
      "text/html": [
       "<div>\n",
       "<style scoped>\n",
       "    .dataframe tbody tr th:only-of-type {\n",
       "        vertical-align: middle;\n",
       "    }\n",
       "\n",
       "    .dataframe tbody tr th {\n",
       "        vertical-align: top;\n",
       "    }\n",
       "\n",
       "    .dataframe thead th {\n",
       "        text-align: right;\n",
       "    }\n",
       "</style>\n",
       "<table border=\"1\" class=\"dataframe\">\n",
       "  <thead>\n",
       "    <tr style=\"text-align: right;\">\n",
       "      <th></th>\n",
       "      <th>jp_sales</th>\n",
       "    </tr>\n",
       "    <tr>\n",
       "      <th>rating</th>\n",
       "      <th></th>\n",
       "    </tr>\n",
       "  </thead>\n",
       "  <tbody>\n",
       "    <tr>\n",
       "      <th>E</th>\n",
       "      <td>404.82</td>\n",
       "    </tr>\n",
       "    <tr>\n",
       "      <th>T</th>\n",
       "      <td>84.81</td>\n",
       "    </tr>\n",
       "    <tr>\n",
       "      <th>M</th>\n",
       "      <td>43.99</td>\n",
       "    </tr>\n",
       "    <tr>\n",
       "      <th>E10+</th>\n",
       "      <td>35.96</td>\n",
       "    </tr>\n",
       "    <tr>\n",
       "      <th>RP</th>\n",
       "      <td>11.09</td>\n",
       "    </tr>\n",
       "    <tr>\n",
       "      <th>AO</th>\n",
       "      <td>0.00</td>\n",
       "    </tr>\n",
       "    <tr>\n",
       "      <th>EC</th>\n",
       "      <td>0.00</td>\n",
       "    </tr>\n",
       "  </tbody>\n",
       "</table>\n",
       "</div>"
      ],
      "text/plain": [
       "        jp_sales\n",
       "rating          \n",
       "E         404.82\n",
       "T          84.81\n",
       "M          43.99\n",
       "E10+       35.96\n",
       "RP         11.09\n",
       "AO          0.00\n",
       "EC          0.00"
      ]
     },
     "execution_count": 58,
     "metadata": {},
     "output_type": "execute_result"
    }
   ],
   "source": [
    "jp_rating_pivot"
   ]
  },
  {
   "cell_type": "markdown",
   "metadata": {},
   "source": [
    "- DS, 3DS, PS3, PSP и Wii - самые популярные платформы\n",
    "- Общие продажи по региону: 580.6\n",
    "- Role-Playing, Action, Misc, Sports и Platform - самые популярные жанры\n",
    "- Самые популярные игры с рейтингом E(\"Для всех\"). Игры с рейтингом T(\"Подросткам\") и M(\"Для взрослых\") и E10+(\"От 10 лет и старше\") так же на лидирующих позициях."
   ]
  },
  {
   "cell_type": "markdown",
   "metadata": {},
   "source": [
    "### Вывод "
   ]
  },
  {
   "cell_type": "markdown",
   "metadata": {},
   "source": [
    "###### Северная Америка\n",
    "\n",
    "- Самый крупный потребитель компьютерных игр\n",
    "- Топ 5 самых популярных платформ: X360, PS2, Wii, PS3 и DS\n",
    "- Топ 5 самых популярных жанров: Action, Sports, Shooter, Platform и Misc\n",
    "- Игры с рейтингом E(\"Для всех\") самые продаваемые, следующие по популярности - T(\"Подросткам\"), M(\"Для взрослых\") и E10+(\"От 10 лет и старше\")\n",
    "\n",
    "###### Европа\n",
    "\n",
    "- Топ 5 самых популярных платформ: X360, PS2, Wii, PS3 и DS\n",
    "- Топ 5 самых популярных жанров: Action, Sports, Shooter, Racing и Misc\n",
    "- Игры с рейтингом E(\"Для всех\") самые продаваемые, следующие по популярности - M(\"Для взрослых\"), T(\"Подросткам\") и E10+(\"От 10 лет и старше\")\n",
    "\n",
    "###### Япония\n",
    "\n",
    "- Топ 5 самых популярных платформ: DS, PS, PS2, SNES и 3DS\n",
    "- Топ 5 самых популярных жанров: Role-Playing, Action, Sports, Platform и Misc\n",
    "- Игры с рейтингом E(\"Для всех\") самые продаваемые, следующие по популярности - T(\"Подросткам\"), M(\"Для взрослых\") и E10+(\"От 10 лет и старше\")\n",
    "\n",
    "Можно сказать, что платформы X360, PS2, Wii, PS3 и DS занимают лидирующие позиции в мире. При этом, если в Европе и Северной Америке на первых местах расположилась X360, а DS на последнем, то в Японии DS занимает первое место, а X360 вообще не входит в топ пять. Это указывает на особенность выбора японского потребителя. \n",
    "\n",
    "Так же можно заметить, что популярные жанры игр в Северной Америке и Европе почти схожи. Но японский пользователь отдает предпочтение играм в жанре Role-Playing, что так же подтверждает особенность пользователей данного региона. \n",
    "\n",
    "Во всех трех регионах рейтинг E(\"Для всех\") самый популярный, но стоит заметить, что в Евроме на второе место выходят игры с рейтингом M(\"Для взрослых\"). "
   ]
  },
  {
   "cell_type": "markdown",
   "metadata": {},
   "source": [
    "## Проверка гипотез "
   ]
  },
  {
   "cell_type": "markdown",
   "metadata": {},
   "source": [
    "### Гипотеза №1 \n",
    "###### Нулевая гипотеза: \n",
    "    Средние пользовательские рейтинги платформ Xbox One и PC одинаковые.\n",
    "\n",
    "###### Альтернативная гипотеза: \n",
    "    Средние пользовательские рейтинги платформ Xbox One и PC разные."
   ]
  },
  {
   "cell_type": "code",
   "execution_count": 59,
   "metadata": {},
   "outputs": [
    {
     "data": {
      "text/plain": [
       "65.21428571428571"
      ]
     },
     "execution_count": 59,
     "metadata": {},
     "output_type": "execute_result"
    }
   ],
   "source": [
    "xbox_one = top_platforms_pivot[top_platforms_pivot['platform'] == 'XOne']\n",
    "xbox_one['user_score'].mean()"
   ]
  },
  {
   "cell_type": "code",
   "execution_count": 60,
   "metadata": {},
   "outputs": [
    {
     "data": {
      "text/plain": [
       "68.84937888198758"
      ]
     },
     "execution_count": 60,
     "metadata": {},
     "output_type": "execute_result"
    }
   ],
   "source": [
    "pc_ = top_platforms_pivot[top_platforms_pivot['platform'] == 'PC']\n",
    "pc_['user_score'].mean()"
   ]
  },
  {
   "cell_type": "code",
   "execution_count": 61,
   "metadata": {},
   "outputs": [
    {
     "ename": "ValueError",
     "evalue": "`x` and `y` must not contain NaNs.",
     "output_type": "error",
     "traceback": [
      "\u001b[0;31m---------------------------------------------------------------------------\u001b[0m",
      "\u001b[0;31mValueError\u001b[0m                                Traceback (most recent call last)",
      "\u001b[0;32m/var/folders/vx/vjxdxpfx19j6k3fggtp493v00000gq/T/ipykernel_3760/421536401.py\u001b[0m in \u001b[0;36m<module>\u001b[0;34m\u001b[0m\n\u001b[1;32m      4\u001b[0m \u001b[0mdata2\u001b[0m \u001b[0;34m=\u001b[0m \u001b[0mpc_\u001b[0m\u001b[0;34m[\u001b[0m\u001b[0;34m'user_score'\u001b[0m\u001b[0;34m]\u001b[0m\u001b[0;34m\u001b[0m\u001b[0;34m\u001b[0m\u001b[0m\n\u001b[1;32m      5\u001b[0m \u001b[0;34m\u001b[0m\u001b[0m\n\u001b[0;32m----> 6\u001b[0;31m \u001b[0mstat\u001b[0m\u001b[0;34m,\u001b[0m \u001b[0mp\u001b[0m \u001b[0;34m=\u001b[0m \u001b[0mmannwhitneyu\u001b[0m\u001b[0;34m(\u001b[0m\u001b[0mdata1\u001b[0m\u001b[0;34m,\u001b[0m \u001b[0mdata2\u001b[0m\u001b[0;34m)\u001b[0m\u001b[0;34m\u001b[0m\u001b[0;34m\u001b[0m\u001b[0m\n\u001b[0m\u001b[1;32m      7\u001b[0m \u001b[0mprint\u001b[0m\u001b[0;34m(\u001b[0m\u001b[0;34m'Statistics=%.3f, p=%.3f'\u001b[0m \u001b[0;34m%\u001b[0m \u001b[0;34m(\u001b[0m\u001b[0mstat\u001b[0m\u001b[0;34m,\u001b[0m \u001b[0mp\u001b[0m\u001b[0;34m)\u001b[0m\u001b[0;34m)\u001b[0m\u001b[0;34m\u001b[0m\u001b[0;34m\u001b[0m\u001b[0m\n\u001b[1;32m      8\u001b[0m \u001b[0;34m\u001b[0m\u001b[0m\n",
      "\u001b[0;32m~/opt/anaconda3/envs/yandex/lib/python3.9/site-packages/scipy/stats/_mannwhitneyu.py\u001b[0m in \u001b[0;36mmannwhitneyu\u001b[0;34m(x, y, use_continuity, alternative, axis, method)\u001b[0m\n\u001b[1;32m    389\u001b[0m \u001b[0;34m\u001b[0m\u001b[0m\n\u001b[1;32m    390\u001b[0m     x, y, use_continuity, alternative, axis_int, method = (\n\u001b[0;32m--> 391\u001b[0;31m         _mwu_input_validation(x, y, use_continuity, alternative, axis, method))\n\u001b[0m\u001b[1;32m    392\u001b[0m \u001b[0;34m\u001b[0m\u001b[0m\n\u001b[1;32m    393\u001b[0m     \u001b[0mx\u001b[0m\u001b[0;34m,\u001b[0m \u001b[0my\u001b[0m\u001b[0;34m,\u001b[0m \u001b[0mxy\u001b[0m \u001b[0;34m=\u001b[0m \u001b[0m_broadcast_concatenate\u001b[0m\u001b[0;34m(\u001b[0m\u001b[0mx\u001b[0m\u001b[0;34m,\u001b[0m \u001b[0my\u001b[0m\u001b[0;34m,\u001b[0m \u001b[0maxis\u001b[0m\u001b[0;34m)\u001b[0m\u001b[0;34m\u001b[0m\u001b[0;34m\u001b[0m\u001b[0m\n",
      "\u001b[0;32m~/opt/anaconda3/envs/yandex/lib/python3.9/site-packages/scipy/stats/_mannwhitneyu.py\u001b[0m in \u001b[0;36m_mwu_input_validation\u001b[0;34m(x, y, use_continuity, alternative, axis, method)\u001b[0m\n\u001b[1;32m    131\u001b[0m     \u001b[0mx\u001b[0m\u001b[0;34m,\u001b[0m \u001b[0my\u001b[0m \u001b[0;34m=\u001b[0m \u001b[0mnp\u001b[0m\u001b[0;34m.\u001b[0m\u001b[0matleast_1d\u001b[0m\u001b[0;34m(\u001b[0m\u001b[0mx\u001b[0m\u001b[0;34m)\u001b[0m\u001b[0;34m,\u001b[0m \u001b[0mnp\u001b[0m\u001b[0;34m.\u001b[0m\u001b[0matleast_1d\u001b[0m\u001b[0;34m(\u001b[0m\u001b[0my\u001b[0m\u001b[0;34m)\u001b[0m\u001b[0;34m\u001b[0m\u001b[0;34m\u001b[0m\u001b[0m\n\u001b[1;32m    132\u001b[0m     \u001b[0;32mif\u001b[0m \u001b[0mnp\u001b[0m\u001b[0;34m.\u001b[0m\u001b[0misnan\u001b[0m\u001b[0;34m(\u001b[0m\u001b[0mx\u001b[0m\u001b[0;34m)\u001b[0m\u001b[0;34m.\u001b[0m\u001b[0many\u001b[0m\u001b[0;34m(\u001b[0m\u001b[0;34m)\u001b[0m \u001b[0;32mor\u001b[0m \u001b[0mnp\u001b[0m\u001b[0;34m.\u001b[0m\u001b[0misnan\u001b[0m\u001b[0;34m(\u001b[0m\u001b[0my\u001b[0m\u001b[0;34m)\u001b[0m\u001b[0;34m.\u001b[0m\u001b[0many\u001b[0m\u001b[0;34m(\u001b[0m\u001b[0;34m)\u001b[0m\u001b[0;34m:\u001b[0m\u001b[0;34m\u001b[0m\u001b[0;34m\u001b[0m\u001b[0m\n\u001b[0;32m--> 133\u001b[0;31m         \u001b[0;32mraise\u001b[0m \u001b[0mValueError\u001b[0m\u001b[0;34m(\u001b[0m\u001b[0;34m'`x` and `y` must not contain NaNs.'\u001b[0m\u001b[0;34m)\u001b[0m\u001b[0;34m\u001b[0m\u001b[0;34m\u001b[0m\u001b[0m\n\u001b[0m\u001b[1;32m    134\u001b[0m     \u001b[0;32mif\u001b[0m \u001b[0mnp\u001b[0m\u001b[0;34m.\u001b[0m\u001b[0msize\u001b[0m\u001b[0;34m(\u001b[0m\u001b[0mx\u001b[0m\u001b[0;34m)\u001b[0m \u001b[0;34m==\u001b[0m \u001b[0;36m0\u001b[0m \u001b[0;32mor\u001b[0m \u001b[0mnp\u001b[0m\u001b[0;34m.\u001b[0m\u001b[0msize\u001b[0m\u001b[0;34m(\u001b[0m\u001b[0my\u001b[0m\u001b[0;34m)\u001b[0m \u001b[0;34m==\u001b[0m \u001b[0;36m0\u001b[0m\u001b[0;34m:\u001b[0m\u001b[0;34m\u001b[0m\u001b[0;34m\u001b[0m\u001b[0m\n\u001b[1;32m    135\u001b[0m         \u001b[0;32mraise\u001b[0m \u001b[0mValueError\u001b[0m\u001b[0;34m(\u001b[0m\u001b[0;34m'`x` and `y` must be of nonzero size.'\u001b[0m\u001b[0;34m)\u001b[0m\u001b[0;34m\u001b[0m\u001b[0;34m\u001b[0m\u001b[0m\n",
      "\u001b[0;31mValueError\u001b[0m: `x` and `y` must not contain NaNs."
     ]
    }
   ],
   "source": [
    "seed(1)\n",
    "\n",
    "data1 = xbox_one['user_score']\n",
    "data2 = pc_['user_score']\n",
    "\n",
    "stat, p = mannwhitneyu(data1, data2)\n",
    "print('Statistics=%.3f, p=%.3f' % (stat, p))\n",
    "\n",
    "alpha = 0.05\n",
    "\n",
    "if p > alpha:\n",
    "    print('Принимаем нулевую гипотезу')\n",
    "else:\n",
    "    print('Отвергаем нулевую гипотезу')"
   ]
  },
  {
   "cell_type": "markdown",
   "metadata": {},
   "source": [
    "### Гипотеза №2 \n",
    "###### Нулевая гипотеза: \n",
    "    Средние пользовательские рейтинги жанров Action и Sports одинаковые.\n",
    "\n",
    "###### Альтернативная гипотеза: \n",
    "    Средние пользовательские рейтинги жанров Action и Sports разные."
   ]
  },
  {
   "cell_type": "code",
   "execution_count": null,
   "metadata": {},
   "outputs": [],
   "source": [
    "action = top_platforms_pivot[top_platforms_pivot['genre'] == 'Action']\n",
    "action['user_score'].mean()"
   ]
  },
  {
   "cell_type": "code",
   "execution_count": null,
   "metadata": {},
   "outputs": [],
   "source": [
    "sports = top_platforms_pivot[top_platforms_pivot['genre'] == 'Sports']\n",
    "sports['user_score'].mean()"
   ]
  },
  {
   "cell_type": "code",
   "execution_count": null,
   "metadata": {},
   "outputs": [],
   "source": [
    "seed(1)\n",
    "\n",
    "data1 = action['user_score']\n",
    "data2 = sports['user_score']\n",
    "\n",
    "stat, p = mannwhitneyu(data1, data2)\n",
    "print('Statistics=%.3f, p=%.3f' % (stat, p))\n",
    "\n",
    "alpha = 0.05\n",
    "\n",
    "if p > alpha:\n",
    "    print('Принимаем нулевую гипотезу')\n",
    "else:\n",
    "    print('Отвергаем нулевую гипотезу')"
   ]
  },
  {
   "cell_type": "markdown",
   "metadata": {},
   "source": [
    "- Нулевую и альтернативную гипотезы я формулировала по принципу \"положительно-отрицательно\", то есть нулевая гипотеза у меня \"положительная\", а альтернативная - \"отрицательная\"\n",
    "- Для проверки гипотез я применила U-тест Манна-Уитни. Так как распределение было не нормальным, я не смогла применить Т-критерий Стьюдента. "
   ]
  },
  {
   "cell_type": "markdown",
   "metadata": {},
   "source": [
    "## Общий вывод "
   ]
  },
  {
   "cell_type": "markdown",
   "metadata": {},
   "source": [
    "Основной задачей проекта было выявление закономерностей, определяющих успешность компьютерной игры. \n",
    "\n",
    "Исходя из проведенного анализа я выделила основные закономерности:\n",
    "1. Жанры, обреченные на успех: Action, Sports, Shooter, Role-Playing\n",
    "2. Перспективные платформы: PS4 и XOne\n",
    "3. Самые прибыльные игры с рейтингом: E, T, M, E10+\n",
    "4. Самые популярные платформы: X360, PS2, Wii, PS3, DS \n",
    "\n",
    "Стоить упомянуть об особенностях рынка компьютерных игр в разных регионах:\n",
    "- Пользователи из Японии предпочитают игры жанра Role-Playing и платформу DS\n",
    "- У пользователей из Европы игры с рейтингом M стоят на втором месте, после всемирно-популярного E. \n",
    "- Североамериканский рынок компьютерных игр самый крупный из трех представленных, больше, чем японский и европейский вместе взятые. \n",
    "\n",
    "Коэффициент корреляции показал, что на популярных, крупных платформах, на продажи копий влияют только оценки критиков. В менее популярных и крупных платформах оценки критиков и пользователей одинаково вляют на продажи.\n",
    "\n",
    "Из всего вышесказанного можно примерно составить портрет самой популярной и прибыльной игры в 2017 году:\n",
    "- Платформа: PS4\n",
    "- Жанр: Action\n",
    "- Рейтинг ESRB: E"
   ]
  }
 ],
 "metadata": {
  "ExecuteTimeLog": [
   {
    "duration": 701,
    "start_time": "2021-08-11T19:26:07.789Z"
   },
   {
    "duration": 76,
    "start_time": "2021-08-11T19:26:08.493Z"
   },
   {
    "duration": 217,
    "start_time": "2021-08-12T07:41:50.769Z"
   },
   {
    "duration": 542,
    "start_time": "2021-08-12T07:41:55.918Z"
   },
   {
    "duration": 64,
    "start_time": "2021-08-12T07:41:56.462Z"
   },
   {
    "duration": 9,
    "start_time": "2021-08-12T07:41:56.530Z"
   },
   {
    "duration": 8,
    "start_time": "2021-08-12T07:45:15.254Z"
   },
   {
    "duration": 17,
    "start_time": "2021-08-12T07:46:20.547Z"
   },
   {
    "duration": 9,
    "start_time": "2021-08-12T07:46:37.334Z"
   },
   {
    "duration": 300,
    "start_time": "2021-08-12T07:50:06.063Z"
   },
   {
    "duration": 374,
    "start_time": "2021-08-12T07:50:34.597Z"
   },
   {
    "duration": 195,
    "start_time": "2021-08-12T07:50:41.859Z"
   },
   {
    "duration": 19,
    "start_time": "2021-08-12T07:54:04.473Z"
   },
   {
    "duration": 10,
    "start_time": "2021-08-12T07:57:15.747Z"
   },
   {
    "duration": 14,
    "start_time": "2021-08-12T07:58:20.559Z"
   },
   {
    "duration": 584,
    "start_time": "2021-08-12T07:59:35.668Z"
   },
   {
    "duration": 75,
    "start_time": "2021-08-12T07:59:36.254Z"
   },
   {
    "duration": 9,
    "start_time": "2021-08-12T07:59:36.331Z"
   },
   {
    "duration": 8,
    "start_time": "2021-08-12T07:59:36.342Z"
   },
   {
    "duration": 18,
    "start_time": "2021-08-12T07:59:36.351Z"
   },
   {
    "duration": 12,
    "start_time": "2021-08-12T07:59:36.385Z"
   },
   {
    "duration": 8,
    "start_time": "2021-08-12T08:00:53.692Z"
   },
   {
    "duration": 13,
    "start_time": "2021-08-12T08:00:54.333Z"
   },
   {
    "duration": 10,
    "start_time": "2021-08-12T08:04:10.667Z"
   },
   {
    "duration": 31,
    "start_time": "2021-08-12T08:04:18.296Z"
   },
   {
    "duration": 289,
    "start_time": "2021-08-12T08:07:42.542Z"
   },
   {
    "duration": 28,
    "start_time": "2021-08-12T08:10:57.785Z"
   },
   {
    "duration": 180,
    "start_time": "2021-08-12T08:11:41.125Z"
   },
   {
    "duration": 193,
    "start_time": "2021-08-12T08:13:44.641Z"
   },
   {
    "duration": 21,
    "start_time": "2021-08-12T08:14:17.707Z"
   },
   {
    "duration": 4446,
    "start_time": "2021-08-12T08:14:32.146Z"
   },
   {
    "duration": 274,
    "start_time": "2021-08-12T08:15:01.319Z"
   },
   {
    "duration": 300,
    "start_time": "2021-08-12T08:15:08.400Z"
   },
   {
    "duration": 588,
    "start_time": "2021-08-12T08:15:19.521Z"
   },
   {
    "duration": 60,
    "start_time": "2021-08-12T08:15:20.111Z"
   },
   {
    "duration": 14,
    "start_time": "2021-08-12T08:15:20.173Z"
   },
   {
    "duration": 12,
    "start_time": "2021-08-12T08:15:20.189Z"
   },
   {
    "duration": 19,
    "start_time": "2021-08-12T08:15:20.202Z"
   },
   {
    "duration": 5,
    "start_time": "2021-08-12T08:15:20.223Z"
   },
   {
    "duration": 16,
    "start_time": "2021-08-12T08:15:20.230Z"
   },
   {
    "duration": 50,
    "start_time": "2021-08-12T08:15:20.248Z"
   },
   {
    "duration": 255,
    "start_time": "2021-08-12T08:15:20.303Z"
   },
   {
    "duration": 58,
    "start_time": "2021-08-12T08:15:20.502Z"
   },
   {
    "duration": 25,
    "start_time": "2021-08-12T08:16:14.129Z"
   },
   {
    "duration": 4970,
    "start_time": "2021-08-12T08:16:17.604Z"
   },
   {
    "duration": 180,
    "start_time": "2021-08-12T08:16:44.122Z"
   },
   {
    "duration": 589,
    "start_time": "2021-08-12T08:16:53.771Z"
   },
   {
    "duration": 67,
    "start_time": "2021-08-12T08:16:54.362Z"
   },
   {
    "duration": 9,
    "start_time": "2021-08-12T08:16:54.430Z"
   },
   {
    "duration": 9,
    "start_time": "2021-08-12T08:16:54.441Z"
   },
   {
    "duration": 39,
    "start_time": "2021-08-12T08:16:54.452Z"
   },
   {
    "duration": 7,
    "start_time": "2021-08-12T08:16:54.493Z"
   },
   {
    "duration": 16,
    "start_time": "2021-08-12T08:16:54.505Z"
   },
   {
    "duration": 24,
    "start_time": "2021-08-12T08:16:54.523Z"
   },
   {
    "duration": 56,
    "start_time": "2021-08-12T08:16:54.548Z"
   },
   {
    "duration": 10,
    "start_time": "2021-08-12T08:16:54.606Z"
   },
   {
    "duration": 9,
    "start_time": "2021-08-12T08:18:06.980Z"
   },
   {
    "duration": 238,
    "start_time": "2021-08-12T08:18:59.531Z"
   },
   {
    "duration": 10,
    "start_time": "2021-08-12T08:19:05.262Z"
   },
   {
    "duration": 23,
    "start_time": "2021-08-12T08:22:37.622Z"
   },
   {
    "duration": 182,
    "start_time": "2021-08-12T08:22:55.790Z"
   },
   {
    "duration": 177,
    "start_time": "2021-08-12T08:23:04.661Z"
   },
   {
    "duration": 6,
    "start_time": "2021-08-12T08:27:26.972Z"
   },
   {
    "duration": 7,
    "start_time": "2021-08-12T08:30:29.434Z"
   },
   {
    "duration": 2555,
    "start_time": "2021-08-12T08:39:22.073Z"
   },
   {
    "duration": 3108,
    "start_time": "2021-08-12T08:40:29.800Z"
   },
   {
    "duration": 2678,
    "start_time": "2021-08-12T08:45:17.404Z"
   },
   {
    "duration": 191,
    "start_time": "2021-08-12T08:49:19.388Z"
   },
   {
    "duration": 321,
    "start_time": "2021-08-12T08:50:05.111Z"
   },
   {
    "duration": 371,
    "start_time": "2021-08-12T08:50:24.116Z"
   },
   {
    "duration": 226,
    "start_time": "2021-08-12T08:58:14.261Z"
   },
   {
    "duration": 15,
    "start_time": "2021-08-12T08:58:26.203Z"
   },
   {
    "duration": 64,
    "start_time": "2021-08-12T08:59:03.042Z"
   },
   {
    "duration": 15,
    "start_time": "2021-08-12T08:59:09.833Z"
   },
   {
    "duration": 14,
    "start_time": "2021-08-12T08:59:17.310Z"
   },
   {
    "duration": 612,
    "start_time": "2021-08-12T09:07:23.894Z"
   },
   {
    "duration": 62,
    "start_time": "2021-08-12T09:07:24.508Z"
   },
   {
    "duration": 24,
    "start_time": "2021-08-12T09:07:24.573Z"
   },
   {
    "duration": 9,
    "start_time": "2021-08-12T09:07:24.600Z"
   },
   {
    "duration": 19,
    "start_time": "2021-08-12T09:07:24.611Z"
   },
   {
    "duration": 4,
    "start_time": "2021-08-12T09:07:24.633Z"
   },
   {
    "duration": 16,
    "start_time": "2021-08-12T09:07:24.639Z"
   },
   {
    "duration": 45,
    "start_time": "2021-08-12T09:07:24.657Z"
   },
   {
    "duration": 27,
    "start_time": "2021-08-12T09:07:24.704Z"
   },
   {
    "duration": 10,
    "start_time": "2021-08-12T09:07:24.733Z"
   },
   {
    "duration": 5,
    "start_time": "2021-08-12T09:07:24.744Z"
   },
   {
    "duration": 2544,
    "start_time": "2021-08-12T09:07:24.750Z"
   },
   {
    "duration": -209,
    "start_time": "2021-08-12T09:07:27.506Z"
   },
   {
    "duration": 14,
    "start_time": "2021-08-12T09:08:49.639Z"
   },
   {
    "duration": 13,
    "start_time": "2021-08-12T09:10:48.104Z"
   },
   {
    "duration": 697,
    "start_time": "2021-08-12T09:10:59.689Z"
   },
   {
    "duration": 62,
    "start_time": "2021-08-12T09:11:00.388Z"
   },
   {
    "duration": 10,
    "start_time": "2021-08-12T09:11:00.452Z"
   },
   {
    "duration": 28,
    "start_time": "2021-08-12T09:11:00.463Z"
   },
   {
    "duration": 36,
    "start_time": "2021-08-12T09:11:00.493Z"
   },
   {
    "duration": 32,
    "start_time": "2021-08-12T09:11:00.531Z"
   },
   {
    "duration": 25,
    "start_time": "2021-08-12T09:11:00.565Z"
   },
   {
    "duration": 34,
    "start_time": "2021-08-12T09:11:00.593Z"
   },
   {
    "duration": 32,
    "start_time": "2021-08-12T09:11:00.630Z"
   },
   {
    "duration": 22,
    "start_time": "2021-08-12T09:11:00.664Z"
   },
   {
    "duration": 8,
    "start_time": "2021-08-12T09:11:00.687Z"
   },
   {
    "duration": 20,
    "start_time": "2021-08-12T09:11:00.696Z"
   },
   {
    "duration": 14,
    "start_time": "2021-08-12T09:12:35.626Z"
   },
   {
    "duration": 15,
    "start_time": "2021-08-12T09:13:40.187Z"
   },
   {
    "duration": 518,
    "start_time": "2021-08-12T09:13:48.343Z"
   },
   {
    "duration": 59,
    "start_time": "2021-08-12T09:13:48.863Z"
   },
   {
    "duration": 9,
    "start_time": "2021-08-12T09:13:48.926Z"
   },
   {
    "duration": 8,
    "start_time": "2021-08-12T09:13:48.936Z"
   },
   {
    "duration": 40,
    "start_time": "2021-08-12T09:13:48.946Z"
   },
   {
    "duration": 5,
    "start_time": "2021-08-12T09:13:48.987Z"
   },
   {
    "duration": 13,
    "start_time": "2021-08-12T09:13:48.995Z"
   },
   {
    "duration": 19,
    "start_time": "2021-08-12T09:13:49.009Z"
   },
   {
    "duration": 27,
    "start_time": "2021-08-12T09:13:49.029Z"
   },
   {
    "duration": 33,
    "start_time": "2021-08-12T09:13:49.058Z"
   },
   {
    "duration": 4,
    "start_time": "2021-08-12T09:13:49.093Z"
   },
   {
    "duration": 13,
    "start_time": "2021-08-12T09:13:49.099Z"
   },
   {
    "duration": 342,
    "start_time": "2021-08-12T09:13:55.666Z"
   },
   {
    "duration": 207,
    "start_time": "2021-08-12T09:15:23.281Z"
   },
   {
    "duration": 198,
    "start_time": "2021-08-12T09:15:41.886Z"
   },
   {
    "duration": 4,
    "start_time": "2021-08-12T09:18:31.328Z"
   },
   {
    "duration": 199,
    "start_time": "2021-08-12T09:18:37.069Z"
   },
   {
    "duration": 4,
    "start_time": "2021-08-12T09:18:51.850Z"
   },
   {
    "duration": 226,
    "start_time": "2021-08-12T09:18:54.960Z"
   },
   {
    "duration": 12,
    "start_time": "2021-08-12T09:19:16.229Z"
   },
   {
    "duration": 590,
    "start_time": "2021-08-12T09:19:32.165Z"
   },
   {
    "duration": 61,
    "start_time": "2021-08-12T09:19:32.757Z"
   },
   {
    "duration": 10,
    "start_time": "2021-08-12T09:19:32.820Z"
   },
   {
    "duration": 20,
    "start_time": "2021-08-12T09:19:32.832Z"
   },
   {
    "duration": 24,
    "start_time": "2021-08-12T09:19:32.853Z"
   },
   {
    "duration": 15,
    "start_time": "2021-08-12T09:19:32.878Z"
   },
   {
    "duration": 32,
    "start_time": "2021-08-12T09:19:32.894Z"
   },
   {
    "duration": 30,
    "start_time": "2021-08-12T09:19:32.928Z"
   },
   {
    "duration": 33,
    "start_time": "2021-08-12T09:19:32.960Z"
   },
   {
    "duration": 10,
    "start_time": "2021-08-12T09:19:32.994Z"
   },
   {
    "duration": 14,
    "start_time": "2021-08-12T09:19:33.006Z"
   },
   {
    "duration": 18,
    "start_time": "2021-08-12T09:19:33.022Z"
   },
   {
    "duration": 15,
    "start_time": "2021-08-12T09:22:05.588Z"
   },
   {
    "duration": 14,
    "start_time": "2021-08-12T09:22:13.745Z"
   },
   {
    "duration": 16,
    "start_time": "2021-08-12T09:22:27.545Z"
   },
   {
    "duration": 15,
    "start_time": "2021-08-12T09:22:39.072Z"
   },
   {
    "duration": 15,
    "start_time": "2021-08-12T09:23:14.786Z"
   },
   {
    "duration": 368,
    "start_time": "2021-08-12T09:26:39.332Z"
   },
   {
    "duration": 518,
    "start_time": "2021-08-12T09:26:51.940Z"
   },
   {
    "duration": 63,
    "start_time": "2021-08-12T09:26:52.460Z"
   },
   {
    "duration": 10,
    "start_time": "2021-08-12T09:26:52.525Z"
   },
   {
    "duration": 8,
    "start_time": "2021-08-12T09:26:52.537Z"
   },
   {
    "duration": 39,
    "start_time": "2021-08-12T09:26:52.547Z"
   },
   {
    "duration": 7,
    "start_time": "2021-08-12T09:26:52.589Z"
   },
   {
    "duration": 15,
    "start_time": "2021-08-12T09:26:52.598Z"
   },
   {
    "duration": 20,
    "start_time": "2021-08-12T09:26:52.616Z"
   },
   {
    "duration": 54,
    "start_time": "2021-08-12T09:26:52.637Z"
   },
   {
    "duration": 13,
    "start_time": "2021-08-12T09:26:52.693Z"
   },
   {
    "duration": 7,
    "start_time": "2021-08-12T09:26:52.708Z"
   },
   {
    "duration": 21,
    "start_time": "2021-08-12T09:26:52.717Z"
   },
   {
    "duration": 5390,
    "start_time": "2021-08-12T09:26:52.740Z"
   },
   {
    "duration": 2461,
    "start_time": "2021-08-12T09:28:17.330Z"
   },
   {
    "duration": 3219,
    "start_time": "2021-08-12T09:28:45.619Z"
   },
   {
    "duration": 5875,
    "start_time": "2021-08-12T09:29:00.140Z"
   },
   {
    "duration": 5695,
    "start_time": "2021-08-12T09:33:08.317Z"
   },
   {
    "duration": 5491,
    "start_time": "2021-08-12T09:33:26.417Z"
   },
   {
    "duration": 45,
    "start_time": "2021-08-12T09:37:46.383Z"
   },
   {
    "duration": 15,
    "start_time": "2021-08-12T09:38:09.101Z"
   },
   {
    "duration": 317,
    "start_time": "2021-08-12T09:39:28.631Z"
   },
   {
    "duration": 595,
    "start_time": "2021-08-12T09:39:42.573Z"
   },
   {
    "duration": 60,
    "start_time": "2021-08-12T09:39:43.170Z"
   },
   {
    "duration": 10,
    "start_time": "2021-08-12T09:39:43.234Z"
   },
   {
    "duration": 8,
    "start_time": "2021-08-12T09:39:43.245Z"
   },
   {
    "duration": 43,
    "start_time": "2021-08-12T09:39:43.255Z"
   },
   {
    "duration": 9,
    "start_time": "2021-08-12T09:39:43.299Z"
   },
   {
    "duration": 20,
    "start_time": "2021-08-12T09:39:43.310Z"
   },
   {
    "duration": 18,
    "start_time": "2021-08-12T09:39:43.332Z"
   },
   {
    "duration": 40,
    "start_time": "2021-08-12T09:39:43.352Z"
   },
   {
    "duration": 10,
    "start_time": "2021-08-12T09:39:43.394Z"
   },
   {
    "duration": 6,
    "start_time": "2021-08-12T09:39:43.406Z"
   },
   {
    "duration": 373,
    "start_time": "2021-08-12T09:39:43.413Z"
   },
   {
    "duration": 4,
    "start_time": "2021-08-12T09:39:43.784Z"
   },
   {
    "duration": 2,
    "start_time": "2021-08-12T09:39:43.787Z"
   },
   {
    "duration": 2928,
    "start_time": "2021-08-12T09:39:56.779Z"
   },
   {
    "duration": 582,
    "start_time": "2021-08-12T10:11:38.666Z"
   },
   {
    "duration": 60,
    "start_time": "2021-08-12T10:11:39.250Z"
   },
   {
    "duration": 9,
    "start_time": "2021-08-12T10:11:39.312Z"
   },
   {
    "duration": 24,
    "start_time": "2021-08-12T10:11:39.323Z"
   },
   {
    "duration": 23,
    "start_time": "2021-08-12T10:11:39.348Z"
   },
   {
    "duration": 11,
    "start_time": "2021-08-12T10:11:39.373Z"
   },
   {
    "duration": 22,
    "start_time": "2021-08-12T10:11:39.385Z"
   },
   {
    "duration": 21,
    "start_time": "2021-08-12T10:11:39.410Z"
   },
   {
    "duration": 26,
    "start_time": "2021-08-12T10:11:39.433Z"
   },
   {
    "duration": 11,
    "start_time": "2021-08-12T10:11:39.460Z"
   },
   {
    "duration": 15,
    "start_time": "2021-08-12T10:11:39.473Z"
   },
   {
    "duration": 2728,
    "start_time": "2021-08-12T10:11:39.489Z"
   },
   {
    "duration": 129,
    "start_time": "2021-08-12T10:11:42.090Z"
   },
   {
    "duration": 127,
    "start_time": "2021-08-12T10:11:42.093Z"
   },
   {
    "duration": 12,
    "start_time": "2021-08-12T10:14:04.966Z"
   },
   {
    "duration": 27,
    "start_time": "2021-08-12T10:14:17.569Z"
   },
   {
    "duration": 17,
    "start_time": "2021-08-12T10:14:41.904Z"
   },
   {
    "duration": 22,
    "start_time": "2021-08-12T10:15:57.417Z"
   },
   {
    "duration": 42,
    "start_time": "2021-08-12T10:17:12.929Z"
   },
   {
    "duration": 17,
    "start_time": "2021-08-12T10:19:45.673Z"
   },
   {
    "duration": 7,
    "start_time": "2021-08-12T10:22:18.049Z"
   },
   {
    "duration": 11,
    "start_time": "2021-08-12T10:22:29.556Z"
   },
   {
    "duration": 20,
    "start_time": "2021-08-12T10:22:55.575Z"
   },
   {
    "duration": 21,
    "start_time": "2021-08-12T10:23:17.369Z"
   },
   {
    "duration": 12,
    "start_time": "2021-08-12T10:23:28.478Z"
   },
   {
    "duration": 18,
    "start_time": "2021-08-12T10:23:40.273Z"
   },
   {
    "duration": 12,
    "start_time": "2021-08-12T10:24:15.270Z"
   },
   {
    "duration": 5,
    "start_time": "2021-08-12T10:24:51.967Z"
   },
   {
    "duration": 6,
    "start_time": "2021-08-12T10:24:56.477Z"
   },
   {
    "duration": 190,
    "start_time": "2021-08-12T10:25:52.765Z"
   },
   {
    "duration": 190,
    "start_time": "2021-08-12T10:26:13.860Z"
   },
   {
    "duration": 10,
    "start_time": "2021-08-12T10:26:46.867Z"
   },
   {
    "duration": 8,
    "start_time": "2021-08-12T10:31:43.062Z"
   },
   {
    "duration": 10,
    "start_time": "2021-08-12T10:32:04.515Z"
   },
   {
    "duration": 10,
    "start_time": "2021-08-12T10:32:15.187Z"
   },
   {
    "duration": 11,
    "start_time": "2021-08-12T10:32:53.495Z"
   },
   {
    "duration": 207,
    "start_time": "2021-08-12T10:33:10.698Z"
   },
   {
    "duration": 174,
    "start_time": "2021-08-12T10:33:19.654Z"
   },
   {
    "duration": 9,
    "start_time": "2021-08-12T10:35:34.556Z"
   },
   {
    "duration": 12,
    "start_time": "2021-08-12T10:35:48.615Z"
   },
   {
    "duration": 9,
    "start_time": "2021-08-12T10:35:55.127Z"
   },
   {
    "duration": 9,
    "start_time": "2021-08-12T10:36:00.681Z"
   },
   {
    "duration": 5,
    "start_time": "2021-08-12T10:46:16.286Z"
   },
   {
    "duration": 13,
    "start_time": "2021-08-12T10:46:38.923Z"
   },
   {
    "duration": 5211,
    "start_time": "2021-08-12T10:48:53.792Z"
   },
   {
    "duration": 583,
    "start_time": "2021-08-12T10:49:04.257Z"
   },
   {
    "duration": 64,
    "start_time": "2021-08-12T10:49:04.842Z"
   },
   {
    "duration": 10,
    "start_time": "2021-08-12T10:49:04.908Z"
   },
   {
    "duration": 10,
    "start_time": "2021-08-12T10:49:04.919Z"
   },
   {
    "duration": 20,
    "start_time": "2021-08-12T10:49:04.930Z"
   },
   {
    "duration": 34,
    "start_time": "2021-08-12T10:49:04.952Z"
   },
   {
    "duration": 13,
    "start_time": "2021-08-12T10:49:04.987Z"
   },
   {
    "duration": 20,
    "start_time": "2021-08-12T10:49:05.002Z"
   },
   {
    "duration": 30,
    "start_time": "2021-08-12T10:49:05.024Z"
   },
   {
    "duration": 31,
    "start_time": "2021-08-12T10:49:05.055Z"
   },
   {
    "duration": 5,
    "start_time": "2021-08-12T10:49:05.088Z"
   },
   {
    "duration": 22,
    "start_time": "2021-08-12T10:49:05.094Z"
   },
   {
    "duration": 20,
    "start_time": "2021-08-12T10:49:05.117Z"
   },
   {
    "duration": 5266,
    "start_time": "2021-08-12T10:49:05.139Z"
   },
   {
    "duration": 66,
    "start_time": "2021-08-12T10:57:18.331Z"
   },
   {
    "duration": 15,
    "start_time": "2021-08-12T10:57:35.963Z"
   },
   {
    "duration": 28,
    "start_time": "2021-08-12T10:57:44.261Z"
   },
   {
    "duration": 12,
    "start_time": "2021-08-12T10:58:22.714Z"
   },
   {
    "duration": 10,
    "start_time": "2021-08-12T10:58:23.465Z"
   },
   {
    "duration": 6,
    "start_time": "2021-08-12T10:59:32.511Z"
   },
   {
    "duration": 8,
    "start_time": "2021-08-12T10:59:33.224Z"
   },
   {
    "duration": 563,
    "start_time": "2021-08-12T10:59:43.454Z"
   },
   {
    "duration": 59,
    "start_time": "2021-08-12T10:59:44.019Z"
   },
   {
    "duration": 10,
    "start_time": "2021-08-12T10:59:44.080Z"
   },
   {
    "duration": 9,
    "start_time": "2021-08-12T10:59:44.092Z"
   },
   {
    "duration": 18,
    "start_time": "2021-08-12T10:59:44.103Z"
   },
   {
    "duration": 6,
    "start_time": "2021-08-12T10:59:44.123Z"
   },
   {
    "duration": 17,
    "start_time": "2021-08-12T10:59:44.130Z"
   },
   {
    "duration": 43,
    "start_time": "2021-08-12T10:59:44.149Z"
   },
   {
    "duration": 29,
    "start_time": "2021-08-12T10:59:44.195Z"
   },
   {
    "duration": 10,
    "start_time": "2021-08-12T10:59:44.226Z"
   },
   {
    "duration": 5,
    "start_time": "2021-08-12T10:59:44.238Z"
   },
   {
    "duration": 40,
    "start_time": "2021-08-12T10:59:44.245Z"
   },
   {
    "duration": 6,
    "start_time": "2021-08-12T10:59:44.286Z"
   },
   {
    "duration": 8,
    "start_time": "2021-08-12T10:59:44.294Z"
   },
   {
    "duration": 262,
    "start_time": "2021-08-12T10:59:51.562Z"
   },
   {
    "duration": 11,
    "start_time": "2021-08-12T10:59:52.233Z"
   },
   {
    "duration": 515,
    "start_time": "2021-08-12T10:59:56.533Z"
   },
   {
    "duration": 67,
    "start_time": "2021-08-12T10:59:57.051Z"
   },
   {
    "duration": 10,
    "start_time": "2021-08-12T10:59:57.121Z"
   },
   {
    "duration": 9,
    "start_time": "2021-08-12T10:59:57.134Z"
   },
   {
    "duration": 41,
    "start_time": "2021-08-12T10:59:57.145Z"
   },
   {
    "duration": 6,
    "start_time": "2021-08-12T10:59:57.188Z"
   },
   {
    "duration": 15,
    "start_time": "2021-08-12T10:59:57.196Z"
   },
   {
    "duration": 19,
    "start_time": "2021-08-12T10:59:57.213Z"
   },
   {
    "duration": 56,
    "start_time": "2021-08-12T10:59:57.235Z"
   },
   {
    "duration": 11,
    "start_time": "2021-08-12T10:59:57.293Z"
   },
   {
    "duration": 4,
    "start_time": "2021-08-12T10:59:57.306Z"
   },
   {
    "duration": 18,
    "start_time": "2021-08-12T10:59:57.311Z"
   },
   {
    "duration": 249,
    "start_time": "2021-08-12T10:59:57.330Z"
   },
   {
    "duration": 14,
    "start_time": "2021-08-12T10:59:57.567Z"
   },
   {
    "duration": 600,
    "start_time": "2021-08-12T11:00:28.271Z"
   },
   {
    "duration": 62,
    "start_time": "2021-08-12T11:00:28.873Z"
   },
   {
    "duration": 10,
    "start_time": "2021-08-12T11:00:28.938Z"
   },
   {
    "duration": 10,
    "start_time": "2021-08-12T11:00:28.950Z"
   },
   {
    "duration": 39,
    "start_time": "2021-08-12T11:00:28.961Z"
   },
   {
    "duration": 5,
    "start_time": "2021-08-12T11:00:29.001Z"
   },
   {
    "duration": 15,
    "start_time": "2021-08-12T11:00:29.008Z"
   },
   {
    "duration": 20,
    "start_time": "2021-08-12T11:00:29.025Z"
   },
   {
    "duration": 62,
    "start_time": "2021-08-12T11:00:29.048Z"
   },
   {
    "duration": 15,
    "start_time": "2021-08-12T11:00:29.113Z"
   },
   {
    "duration": 6,
    "start_time": "2021-08-12T11:00:29.130Z"
   },
   {
    "duration": 48,
    "start_time": "2021-08-12T11:00:29.138Z"
   },
   {
    "duration": 289,
    "start_time": "2021-08-12T11:00:29.188Z"
   },
   {
    "duration": -32,
    "start_time": "2021-08-12T11:00:29.510Z"
   },
   {
    "duration": 8,
    "start_time": "2021-08-12T11:00:53.381Z"
   },
   {
    "duration": 10,
    "start_time": "2021-08-12T11:00:55.644Z"
   },
   {
    "duration": 18,
    "start_time": "2021-08-12T11:02:26.252Z"
   },
   {
    "duration": 9,
    "start_time": "2021-08-12T11:02:26.917Z"
   },
   {
    "duration": 3,
    "start_time": "2021-08-12T11:07:06.869Z"
   },
   {
    "duration": 13,
    "start_time": "2021-08-12T11:07:14.683Z"
   },
   {
    "duration": 528,
    "start_time": "2021-08-12T11:13:18.918Z"
   },
   {
    "duration": 61,
    "start_time": "2021-08-12T11:13:19.448Z"
   },
   {
    "duration": 10,
    "start_time": "2021-08-12T11:13:19.511Z"
   },
   {
    "duration": 10,
    "start_time": "2021-08-12T11:13:19.522Z"
   },
   {
    "duration": 18,
    "start_time": "2021-08-12T11:13:19.534Z"
   },
   {
    "duration": 32,
    "start_time": "2021-08-12T11:13:19.554Z"
   },
   {
    "duration": 13,
    "start_time": "2021-08-12T11:13:19.587Z"
   },
   {
    "duration": 19,
    "start_time": "2021-08-12T11:13:19.602Z"
   },
   {
    "duration": 25,
    "start_time": "2021-08-12T11:13:19.623Z"
   },
   {
    "duration": 10,
    "start_time": "2021-08-12T11:13:19.649Z"
   },
   {
    "duration": 5,
    "start_time": "2021-08-12T11:13:19.685Z"
   },
   {
    "duration": 26,
    "start_time": "2021-08-12T11:13:19.691Z"
   },
   {
    "duration": 13,
    "start_time": "2021-08-12T11:13:19.718Z"
   },
   {
    "duration": 9,
    "start_time": "2021-08-12T11:13:19.732Z"
   },
   {
    "duration": 8,
    "start_time": "2021-08-12T11:13:19.743Z"
   },
   {
    "duration": 22,
    "start_time": "2021-08-12T11:14:24.125Z"
   },
   {
    "duration": 15,
    "start_time": "2021-08-12T11:15:46.445Z"
   },
   {
    "duration": 16,
    "start_time": "2021-08-12T11:17:43.736Z"
   },
   {
    "duration": 10,
    "start_time": "2021-08-12T11:18:02.237Z"
   },
   {
    "duration": 8,
    "start_time": "2021-08-12T11:18:02.973Z"
   },
   {
    "duration": 532,
    "start_time": "2021-08-12T11:19:56.917Z"
   },
   {
    "duration": 58,
    "start_time": "2021-08-12T11:19:57.451Z"
   },
   {
    "duration": 10,
    "start_time": "2021-08-12T11:19:57.511Z"
   },
   {
    "duration": 7,
    "start_time": "2021-08-12T11:19:57.523Z"
   },
   {
    "duration": 18,
    "start_time": "2021-08-12T11:19:57.532Z"
   },
   {
    "duration": 7,
    "start_time": "2021-08-12T11:19:57.552Z"
   },
   {
    "duration": 38,
    "start_time": "2021-08-12T11:19:57.561Z"
   },
   {
    "duration": 20,
    "start_time": "2021-08-12T11:19:57.602Z"
   },
   {
    "duration": 25,
    "start_time": "2021-08-12T11:19:57.624Z"
   },
   {
    "duration": 10,
    "start_time": "2021-08-12T11:19:57.650Z"
   },
   {
    "duration": 5,
    "start_time": "2021-08-12T11:19:57.685Z"
   },
   {
    "duration": 19,
    "start_time": "2021-08-12T11:19:57.691Z"
   },
   {
    "duration": 21,
    "start_time": "2021-08-12T11:19:57.711Z"
   },
   {
    "duration": 10,
    "start_time": "2021-08-12T11:19:57.734Z"
   },
   {
    "duration": 42,
    "start_time": "2021-08-12T11:19:57.746Z"
   },
   {
    "duration": 10,
    "start_time": "2021-08-12T11:19:57.790Z"
   },
   {
    "duration": 13,
    "start_time": "2021-08-12T11:20:18.835Z"
   },
   {
    "duration": 4,
    "start_time": "2021-08-12T11:21:17.011Z"
   },
   {
    "duration": 18,
    "start_time": "2021-08-12T11:21:35.890Z"
   },
   {
    "duration": 9,
    "start_time": "2021-08-12T11:21:45.473Z"
   },
   {
    "duration": 511,
    "start_time": "2021-08-12T11:29:19.040Z"
   },
   {
    "duration": 58,
    "start_time": "2021-08-12T11:29:19.553Z"
   },
   {
    "duration": 10,
    "start_time": "2021-08-12T11:29:19.616Z"
   },
   {
    "duration": 9,
    "start_time": "2021-08-12T11:29:19.627Z"
   },
   {
    "duration": 17,
    "start_time": "2021-08-12T11:29:19.638Z"
   },
   {
    "duration": 32,
    "start_time": "2021-08-12T11:29:19.657Z"
   },
   {
    "duration": 14,
    "start_time": "2021-08-12T11:29:19.691Z"
   },
   {
    "duration": 19,
    "start_time": "2021-08-12T11:29:19.707Z"
   },
   {
    "duration": 26,
    "start_time": "2021-08-12T11:29:19.728Z"
   },
   {
    "duration": 36,
    "start_time": "2021-08-12T11:29:19.756Z"
   },
   {
    "duration": 4,
    "start_time": "2021-08-12T11:29:19.794Z"
   },
   {
    "duration": 17,
    "start_time": "2021-08-12T11:29:19.800Z"
   },
   {
    "duration": 19,
    "start_time": "2021-08-12T11:29:19.818Z"
   },
   {
    "duration": 9,
    "start_time": "2021-08-12T11:29:19.839Z"
   },
   {
    "duration": 39,
    "start_time": "2021-08-12T11:29:19.849Z"
   },
   {
    "duration": 10,
    "start_time": "2021-08-12T11:29:19.890Z"
   },
   {
    "duration": 11,
    "start_time": "2021-08-12T11:29:19.902Z"
   },
   {
    "duration": 5,
    "start_time": "2021-08-12T11:29:19.915Z"
   },
   {
    "duration": 9,
    "start_time": "2021-08-12T11:29:19.922Z"
   },
   {
    "duration": 544,
    "start_time": "2021-08-12T11:31:52.106Z"
   },
   {
    "duration": 60,
    "start_time": "2021-08-12T11:31:52.652Z"
   },
   {
    "duration": 9,
    "start_time": "2021-08-12T11:31:52.714Z"
   },
   {
    "duration": 9,
    "start_time": "2021-08-12T11:31:52.725Z"
   },
   {
    "duration": 19,
    "start_time": "2021-08-12T11:31:52.736Z"
   },
   {
    "duration": 30,
    "start_time": "2021-08-12T11:31:52.756Z"
   },
   {
    "duration": 13,
    "start_time": "2021-08-12T11:31:52.787Z"
   },
   {
    "duration": 21,
    "start_time": "2021-08-12T11:31:52.802Z"
   },
   {
    "duration": 27,
    "start_time": "2021-08-12T11:31:52.825Z"
   },
   {
    "duration": 34,
    "start_time": "2021-08-12T11:31:52.854Z"
   },
   {
    "duration": 9,
    "start_time": "2021-08-12T11:31:52.890Z"
   },
   {
    "duration": 18,
    "start_time": "2021-08-12T11:31:52.900Z"
   },
   {
    "duration": 252,
    "start_time": "2021-08-12T11:31:52.919Z"
   },
   {
    "duration": 71,
    "start_time": "2021-08-12T11:31:53.103Z"
   },
   {
    "duration": 69,
    "start_time": "2021-08-12T11:31:53.105Z"
   },
   {
    "duration": 66,
    "start_time": "2021-08-12T11:31:53.109Z"
   },
   {
    "duration": 65,
    "start_time": "2021-08-12T11:31:53.111Z"
   },
   {
    "duration": 63,
    "start_time": "2021-08-12T11:31:53.114Z"
   },
   {
    "duration": 537,
    "start_time": "2021-08-12T11:32:40.021Z"
   },
   {
    "duration": 61,
    "start_time": "2021-08-12T11:32:40.559Z"
   },
   {
    "duration": 11,
    "start_time": "2021-08-12T11:32:40.621Z"
   },
   {
    "duration": 17,
    "start_time": "2021-08-12T11:32:40.633Z"
   },
   {
    "duration": 19,
    "start_time": "2021-08-12T11:32:40.652Z"
   },
   {
    "duration": 6,
    "start_time": "2021-08-12T11:32:40.684Z"
   },
   {
    "duration": 16,
    "start_time": "2021-08-12T11:32:40.691Z"
   },
   {
    "duration": 20,
    "start_time": "2021-08-12T11:32:40.709Z"
   },
   {
    "duration": 54,
    "start_time": "2021-08-12T11:32:40.731Z"
   },
   {
    "duration": 10,
    "start_time": "2021-08-12T11:32:40.787Z"
   },
   {
    "duration": 5,
    "start_time": "2021-08-12T11:32:40.799Z"
   },
   {
    "duration": 17,
    "start_time": "2021-08-12T11:32:40.806Z"
   },
   {
    "duration": 17,
    "start_time": "2021-08-12T11:32:40.824Z"
   },
   {
    "duration": 8,
    "start_time": "2021-08-12T11:32:40.842Z"
   },
   {
    "duration": 9,
    "start_time": "2021-08-12T11:32:40.885Z"
   },
   {
    "duration": 13,
    "start_time": "2021-08-12T11:32:40.896Z"
   },
   {
    "duration": 6,
    "start_time": "2021-08-12T11:32:40.911Z"
   },
   {
    "duration": 12,
    "start_time": "2021-08-12T11:32:40.919Z"
   },
   {
    "duration": 577,
    "start_time": "2021-08-12T11:41:47.669Z"
   },
   {
    "duration": 71,
    "start_time": "2021-08-12T11:41:48.248Z"
   },
   {
    "duration": 10,
    "start_time": "2021-08-12T11:41:48.321Z"
   },
   {
    "duration": 10,
    "start_time": "2021-08-12T11:41:48.333Z"
   },
   {
    "duration": 43,
    "start_time": "2021-08-12T11:41:48.345Z"
   },
   {
    "duration": 5,
    "start_time": "2021-08-12T11:41:48.390Z"
   },
   {
    "duration": 15,
    "start_time": "2021-08-12T11:41:48.396Z"
   },
   {
    "duration": 18,
    "start_time": "2021-08-12T11:41:48.414Z"
   },
   {
    "duration": 26,
    "start_time": "2021-08-12T11:41:48.433Z"
   },
   {
    "duration": 10,
    "start_time": "2021-08-12T11:41:48.485Z"
   },
   {
    "duration": 4,
    "start_time": "2021-08-12T11:41:48.497Z"
   },
   {
    "duration": 16,
    "start_time": "2021-08-12T11:41:48.503Z"
   },
   {
    "duration": 6,
    "start_time": "2021-08-12T11:41:48.520Z"
   },
   {
    "duration": 7,
    "start_time": "2021-08-12T11:41:48.528Z"
   },
   {
    "duration": 9,
    "start_time": "2021-08-12T11:41:48.537Z"
   },
   {
    "duration": 49,
    "start_time": "2021-08-12T11:41:48.547Z"
   },
   {
    "duration": 6,
    "start_time": "2021-08-12T11:41:48.597Z"
   },
   {
    "duration": 12,
    "start_time": "2021-08-12T11:41:48.604Z"
   },
   {
    "duration": 5,
    "start_time": "2021-08-12T11:42:20.147Z"
   },
   {
    "duration": 5,
    "start_time": "2021-08-12T11:43:31.264Z"
   },
   {
    "duration": 531,
    "start_time": "2021-08-12T11:45:15.548Z"
   },
   {
    "duration": 61,
    "start_time": "2021-08-12T11:45:16.081Z"
   },
   {
    "duration": 10,
    "start_time": "2021-08-12T11:45:16.144Z"
   },
   {
    "duration": 9,
    "start_time": "2021-08-12T11:45:16.156Z"
   },
   {
    "duration": 27,
    "start_time": "2021-08-12T11:45:16.167Z"
   },
   {
    "duration": 10,
    "start_time": "2021-08-12T11:45:16.195Z"
   },
   {
    "duration": 15,
    "start_time": "2021-08-12T11:45:16.207Z"
   },
   {
    "duration": 23,
    "start_time": "2021-08-12T11:45:16.225Z"
   },
   {
    "duration": 57,
    "start_time": "2021-08-12T11:45:16.250Z"
   },
   {
    "duration": 13,
    "start_time": "2021-08-12T11:45:16.309Z"
   },
   {
    "duration": 5,
    "start_time": "2021-08-12T11:45:16.324Z"
   },
   {
    "duration": 18,
    "start_time": "2021-08-12T11:45:16.332Z"
   },
   {
    "duration": 48,
    "start_time": "2021-08-12T11:45:16.352Z"
   },
   {
    "duration": 9,
    "start_time": "2021-08-12T11:45:16.402Z"
   },
   {
    "duration": 9,
    "start_time": "2021-08-12T11:45:16.414Z"
   },
   {
    "duration": 12,
    "start_time": "2021-08-12T11:45:16.424Z"
   },
   {
    "duration": 5,
    "start_time": "2021-08-12T11:45:16.437Z"
   },
   {
    "duration": 44,
    "start_time": "2021-08-12T11:45:16.443Z"
   },
   {
    "duration": 22,
    "start_time": "2021-08-12T11:57:05.308Z"
   },
   {
    "duration": 273,
    "start_time": "2021-08-13T08:15:00.042Z"
   },
   {
    "duration": 567,
    "start_time": "2021-08-13T08:15:04.603Z"
   },
   {
    "duration": 65,
    "start_time": "2021-08-13T08:15:05.172Z"
   },
   {
    "duration": 11,
    "start_time": "2021-08-13T08:15:05.239Z"
   },
   {
    "duration": 14,
    "start_time": "2021-08-13T08:15:05.252Z"
   },
   {
    "duration": 31,
    "start_time": "2021-08-13T08:15:05.268Z"
   },
   {
    "duration": 5,
    "start_time": "2021-08-13T08:15:05.301Z"
   },
   {
    "duration": 26,
    "start_time": "2021-08-13T08:15:05.307Z"
   },
   {
    "duration": 25,
    "start_time": "2021-08-13T08:15:05.335Z"
   },
   {
    "duration": 33,
    "start_time": "2021-08-13T08:15:05.362Z"
   },
   {
    "duration": 9,
    "start_time": "2021-08-13T08:15:05.397Z"
   },
   {
    "duration": 8,
    "start_time": "2021-08-13T08:15:05.408Z"
   },
   {
    "duration": 26,
    "start_time": "2021-08-13T08:15:05.417Z"
   },
   {
    "duration": 16,
    "start_time": "2021-08-13T08:15:05.444Z"
   },
   {
    "duration": 23,
    "start_time": "2021-08-13T08:15:05.462Z"
   },
   {
    "duration": 10,
    "start_time": "2021-08-13T08:15:05.487Z"
   },
   {
    "duration": 12,
    "start_time": "2021-08-13T08:15:05.498Z"
   },
   {
    "duration": 4,
    "start_time": "2021-08-13T08:15:05.512Z"
   },
   {
    "duration": 11,
    "start_time": "2021-08-13T08:15:05.517Z"
   },
   {
    "duration": 19,
    "start_time": "2021-08-13T08:15:05.530Z"
   },
   {
    "duration": 50,
    "start_time": "2021-08-13T08:15:05.550Z"
   },
   {
    "duration": 14,
    "start_time": "2021-08-13T08:15:24.518Z"
   },
   {
    "duration": 14,
    "start_time": "2021-08-13T08:17:14.300Z"
   },
   {
    "duration": 16,
    "start_time": "2021-08-13T08:21:10.308Z"
   },
   {
    "duration": 1154,
    "start_time": "2021-08-13T08:22:24.975Z"
   },
   {
    "duration": 55,
    "start_time": "2021-08-13T08:22:26.133Z"
   },
   {
    "duration": 9,
    "start_time": "2021-08-13T08:22:26.190Z"
   },
   {
    "duration": 19,
    "start_time": "2021-08-13T08:22:26.201Z"
   },
   {
    "duration": 26,
    "start_time": "2021-08-13T08:22:26.222Z"
   },
   {
    "duration": 6,
    "start_time": "2021-08-13T08:22:26.250Z"
   },
   {
    "duration": 35,
    "start_time": "2021-08-13T08:22:26.258Z"
   },
   {
    "duration": 20,
    "start_time": "2021-08-13T08:22:26.296Z"
   },
   {
    "duration": 27,
    "start_time": "2021-08-13T08:22:26.318Z"
   },
   {
    "duration": 10,
    "start_time": "2021-08-13T08:22:26.347Z"
   },
   {
    "duration": 29,
    "start_time": "2021-08-13T08:22:26.359Z"
   },
   {
    "duration": 19,
    "start_time": "2021-08-13T08:22:26.390Z"
   },
   {
    "duration": 17,
    "start_time": "2021-08-13T08:22:26.411Z"
   },
   {
    "duration": 8,
    "start_time": "2021-08-13T08:22:26.429Z"
   },
   {
    "duration": 9,
    "start_time": "2021-08-13T08:22:26.438Z"
   },
   {
    "duration": 44,
    "start_time": "2021-08-13T08:22:26.449Z"
   },
   {
    "duration": 16,
    "start_time": "2021-08-13T08:22:26.494Z"
   },
   {
    "duration": 30,
    "start_time": "2021-08-13T08:22:26.512Z"
   },
   {
    "duration": 22,
    "start_time": "2021-08-13T08:22:26.544Z"
   },
   {
    "duration": 13,
    "start_time": "2021-08-13T08:22:26.567Z"
   },
   {
    "duration": 214,
    "start_time": "2021-08-13T08:22:26.581Z"
   },
   {
    "duration": 16,
    "start_time": "2021-08-13T08:22:59.838Z"
   },
   {
    "duration": 16,
    "start_time": "2021-08-13T08:23:09.057Z"
   },
   {
    "duration": 15,
    "start_time": "2021-08-13T08:23:38.570Z"
   },
   {
    "duration": 14,
    "start_time": "2021-08-13T08:26:20.386Z"
   },
   {
    "duration": 338,
    "start_time": "2021-08-13T08:27:39.624Z"
   },
   {
    "duration": 355,
    "start_time": "2021-08-13T08:28:01.961Z"
   },
   {
    "duration": 350,
    "start_time": "2021-08-13T08:29:54.480Z"
   },
   {
    "duration": 402,
    "start_time": "2021-08-13T08:30:28.034Z"
   },
   {
    "duration": 345,
    "start_time": "2021-08-13T08:30:36.613Z"
   },
   {
    "duration": 368,
    "start_time": "2021-08-13T08:30:47.464Z"
   },
   {
    "duration": 5034,
    "start_time": "2021-08-13T08:31:38.641Z"
   },
   {
    "duration": 1011,
    "start_time": "2021-08-13T08:32:31.524Z"
   },
   {
    "duration": 56,
    "start_time": "2021-08-13T08:32:32.537Z"
   },
   {
    "duration": 11,
    "start_time": "2021-08-13T08:32:32.596Z"
   },
   {
    "duration": 9,
    "start_time": "2021-08-13T08:32:32.609Z"
   },
   {
    "duration": 19,
    "start_time": "2021-08-13T08:32:32.620Z"
   },
   {
    "duration": 5,
    "start_time": "2021-08-13T08:32:32.641Z"
   },
   {
    "duration": 48,
    "start_time": "2021-08-13T08:32:32.648Z"
   },
   {
    "duration": 19,
    "start_time": "2021-08-13T08:32:32.699Z"
   },
   {
    "duration": 25,
    "start_time": "2021-08-13T08:32:32.721Z"
   },
   {
    "duration": 42,
    "start_time": "2021-08-13T08:32:32.748Z"
   },
   {
    "duration": 5,
    "start_time": "2021-08-13T08:32:32.792Z"
   },
   {
    "duration": 18,
    "start_time": "2021-08-13T08:32:32.798Z"
   },
   {
    "duration": 16,
    "start_time": "2021-08-13T08:32:32.818Z"
   },
   {
    "duration": 7,
    "start_time": "2021-08-13T08:32:32.836Z"
   },
   {
    "duration": 9,
    "start_time": "2021-08-13T08:32:32.845Z"
   },
   {
    "duration": 40,
    "start_time": "2021-08-13T08:32:32.855Z"
   },
   {
    "duration": 5,
    "start_time": "2021-08-13T08:32:32.897Z"
   },
   {
    "duration": 9,
    "start_time": "2021-08-13T08:32:32.903Z"
   },
   {
    "duration": 20,
    "start_time": "2021-08-13T08:32:32.914Z"
   },
   {
    "duration": 12,
    "start_time": "2021-08-13T08:32:32.936Z"
   },
   {
    "duration": 4544,
    "start_time": "2021-08-13T08:32:32.949Z"
   },
   {
    "duration": -33,
    "start_time": "2021-08-13T08:32:37.528Z"
   },
   {
    "duration": 15,
    "start_time": "2021-08-13T08:32:44.485Z"
   },
   {
    "duration": 354,
    "start_time": "2021-08-13T08:32:45.480Z"
   },
   {
    "duration": 368,
    "start_time": "2021-08-13T08:33:05.283Z"
   },
   {
    "duration": 362,
    "start_time": "2021-08-13T08:33:12.152Z"
   },
   {
    "duration": 417,
    "start_time": "2021-08-13T08:33:35.622Z"
   },
   {
    "duration": 343,
    "start_time": "2021-08-13T08:33:42.127Z"
   },
   {
    "duration": 350,
    "start_time": "2021-08-13T08:33:49.744Z"
   },
   {
    "duration": 347,
    "start_time": "2021-08-13T08:34:03.370Z"
   },
   {
    "duration": 16,
    "start_time": "2021-08-13T08:34:19.763Z"
   },
   {
    "duration": 350,
    "start_time": "2021-08-13T08:34:38.136Z"
   },
   {
    "duration": 357,
    "start_time": "2021-08-13T08:34:52.684Z"
   },
   {
    "duration": 193,
    "start_time": "2021-08-13T08:35:12.280Z"
   },
   {
    "duration": 187,
    "start_time": "2021-08-13T08:35:21.869Z"
   },
   {
    "duration": 434,
    "start_time": "2021-08-13T08:35:30.724Z"
   },
   {
    "duration": 16,
    "start_time": "2021-08-13T08:35:44.522Z"
   },
   {
    "duration": 529,
    "start_time": "2021-08-13T08:36:13.272Z"
   },
   {
    "duration": 355,
    "start_time": "2021-08-13T08:36:25.401Z"
   },
   {
    "duration": 341,
    "start_time": "2021-08-13T08:38:12.929Z"
   },
   {
    "duration": 1206,
    "start_time": "2021-08-13T08:38:47.011Z"
   },
   {
    "duration": 811,
    "start_time": "2021-08-13T08:38:57.462Z"
   },
   {
    "duration": 441,
    "start_time": "2021-08-13T08:39:05.556Z"
   },
   {
    "duration": 375,
    "start_time": "2021-08-13T08:42:17.405Z"
   },
   {
    "duration": 424,
    "start_time": "2021-08-13T08:42:23.484Z"
   },
   {
    "duration": 5,
    "start_time": "2021-08-13T08:59:04.140Z"
   },
   {
    "duration": 193,
    "start_time": "2021-08-13T08:59:42.482Z"
   },
   {
    "duration": 11,
    "start_time": "2021-08-13T09:00:14.098Z"
   },
   {
    "duration": 15,
    "start_time": "2021-08-13T09:00:21.163Z"
   },
   {
    "duration": 15,
    "start_time": "2021-08-13T09:01:23.412Z"
   },
   {
    "duration": 39,
    "start_time": "2021-08-13T09:01:54.619Z"
   },
   {
    "duration": 22,
    "start_time": "2021-08-13T09:02:25.246Z"
   },
   {
    "duration": 17,
    "start_time": "2021-08-13T09:02:35.890Z"
   },
   {
    "duration": 20,
    "start_time": "2021-08-13T09:02:47.333Z"
   },
   {
    "duration": 23,
    "start_time": "2021-08-13T09:03:47.965Z"
   },
   {
    "duration": 14,
    "start_time": "2021-08-13T09:04:08.057Z"
   },
   {
    "duration": 16,
    "start_time": "2021-08-13T09:04:17.993Z"
   },
   {
    "duration": 15,
    "start_time": "2021-08-13T09:04:34.838Z"
   },
   {
    "duration": 15,
    "start_time": "2021-08-13T09:04:58.116Z"
   },
   {
    "duration": 17,
    "start_time": "2021-08-13T09:05:16.063Z"
   },
   {
    "duration": 14,
    "start_time": "2021-08-13T09:06:05.138Z"
   },
   {
    "duration": 17,
    "start_time": "2021-08-13T09:06:42.022Z"
   },
   {
    "duration": 17,
    "start_time": "2021-08-13T09:06:56.676Z"
   },
   {
    "duration": 20,
    "start_time": "2021-08-13T09:07:16.446Z"
   },
   {
    "duration": 24,
    "start_time": "2021-08-13T09:07:24.420Z"
   },
   {
    "duration": 22,
    "start_time": "2021-08-13T09:07:52.676Z"
   },
   {
    "duration": 5,
    "start_time": "2021-08-13T09:09:05.978Z"
   },
   {
    "duration": 183,
    "start_time": "2021-08-13T09:09:19.085Z"
   },
   {
    "duration": 4,
    "start_time": "2021-08-13T09:09:29.038Z"
   },
   {
    "duration": 5,
    "start_time": "2021-08-13T09:10:09.097Z"
   },
   {
    "duration": 14,
    "start_time": "2021-08-13T09:11:13.557Z"
   },
   {
    "duration": 15,
    "start_time": "2021-08-13T09:11:28.213Z"
   },
   {
    "duration": 16,
    "start_time": "2021-08-13T09:12:05.289Z"
   },
   {
    "duration": 15,
    "start_time": "2021-08-13T09:12:19.618Z"
   },
   {
    "duration": 11,
    "start_time": "2021-08-13T09:12:57.756Z"
   },
   {
    "duration": 15,
    "start_time": "2021-08-13T09:13:02.938Z"
   },
   {
    "duration": 207,
    "start_time": "2021-08-13T09:13:19.116Z"
   },
   {
    "duration": 16,
    "start_time": "2021-08-13T09:13:56.742Z"
   },
   {
    "duration": 5,
    "start_time": "2021-08-13T09:14:21.894Z"
   },
   {
    "duration": 5,
    "start_time": "2021-08-13T09:14:41.744Z"
   },
   {
    "duration": 192,
    "start_time": "2021-08-13T09:20:40.481Z"
   },
   {
    "duration": 182,
    "start_time": "2021-08-13T09:21:04.010Z"
   },
   {
    "duration": 41,
    "start_time": "2021-08-13T09:23:50.934Z"
   },
   {
    "duration": 9,
    "start_time": "2021-08-13T09:24:37.099Z"
   },
   {
    "duration": 176,
    "start_time": "2021-08-13T09:24:46.254Z"
   },
   {
    "duration": 179,
    "start_time": "2021-08-13T09:25:06.530Z"
   },
   {
    "duration": 20,
    "start_time": "2021-08-13T09:27:35.657Z"
   },
   {
    "duration": 14,
    "start_time": "2021-08-13T09:27:47.773Z"
   },
   {
    "duration": 17,
    "start_time": "2021-08-13T09:28:15.552Z"
   },
   {
    "duration": 16,
    "start_time": "2021-08-13T09:28:32.491Z"
   },
   {
    "duration": 1094,
    "start_time": "2021-08-13T09:28:48.335Z"
   },
   {
    "duration": 58,
    "start_time": "2021-08-13T09:28:49.431Z"
   },
   {
    "duration": 10,
    "start_time": "2021-08-13T09:28:49.491Z"
   },
   {
    "duration": 8,
    "start_time": "2021-08-13T09:28:49.503Z"
   },
   {
    "duration": 20,
    "start_time": "2021-08-13T09:28:49.513Z"
   },
   {
    "duration": 5,
    "start_time": "2021-08-13T09:28:49.535Z"
   },
   {
    "duration": 45,
    "start_time": "2021-08-13T09:28:49.541Z"
   },
   {
    "duration": 20,
    "start_time": "2021-08-13T09:28:49.589Z"
   },
   {
    "duration": 28,
    "start_time": "2021-08-13T09:28:49.612Z"
   },
   {
    "duration": 10,
    "start_time": "2021-08-13T09:28:49.642Z"
   },
   {
    "duration": 4,
    "start_time": "2021-08-13T09:28:49.654Z"
   },
   {
    "duration": 16,
    "start_time": "2021-08-13T09:28:49.685Z"
   },
   {
    "duration": 17,
    "start_time": "2021-08-13T09:28:49.702Z"
   },
   {
    "duration": 7,
    "start_time": "2021-08-13T09:28:49.721Z"
   },
   {
    "duration": 9,
    "start_time": "2021-08-13T09:28:49.729Z"
   },
   {
    "duration": 11,
    "start_time": "2021-08-13T09:28:49.739Z"
   },
   {
    "duration": 36,
    "start_time": "2021-08-13T09:28:49.751Z"
   },
   {
    "duration": 11,
    "start_time": "2021-08-13T09:28:49.789Z"
   },
   {
    "duration": 21,
    "start_time": "2021-08-13T09:28:49.801Z"
   },
   {
    "duration": 13,
    "start_time": "2021-08-13T09:28:49.824Z"
   },
   {
    "duration": 456,
    "start_time": "2021-08-13T09:28:49.838Z"
   },
   {
    "duration": 303,
    "start_time": "2021-08-13T09:28:50.296Z"
   },
   {
    "duration": 1,
    "start_time": "2021-08-13T09:28:50.600Z"
   },
   {
    "duration": -1,
    "start_time": "2021-08-13T09:28:50.603Z"
   },
   {
    "duration": 15,
    "start_time": "2021-08-13T09:29:08.118Z"
   },
   {
    "duration": 4292,
    "start_time": "2021-08-13T09:29:15.747Z"
   },
   {
    "duration": 16,
    "start_time": "2021-08-13T09:29:34.133Z"
   },
   {
    "duration": 208,
    "start_time": "2021-08-13T09:31:00.294Z"
   },
   {
    "duration": 1130,
    "start_time": "2021-08-13T09:31:07.102Z"
   },
   {
    "duration": 56,
    "start_time": "2021-08-13T09:31:08.234Z"
   },
   {
    "duration": 10,
    "start_time": "2021-08-13T09:31:08.292Z"
   },
   {
    "duration": 8,
    "start_time": "2021-08-13T09:31:08.304Z"
   },
   {
    "duration": 20,
    "start_time": "2021-08-13T09:31:08.314Z"
   },
   {
    "duration": 6,
    "start_time": "2021-08-13T09:31:08.335Z"
   },
   {
    "duration": 15,
    "start_time": "2021-08-13T09:31:08.342Z"
   },
   {
    "duration": 19,
    "start_time": "2021-08-13T09:31:08.386Z"
   },
   {
    "duration": 28,
    "start_time": "2021-08-13T09:31:08.407Z"
   },
   {
    "duration": 10,
    "start_time": "2021-08-13T09:31:08.437Z"
   },
   {
    "duration": 11,
    "start_time": "2021-08-13T09:31:08.448Z"
   },
   {
    "duration": 39,
    "start_time": "2021-08-13T09:31:08.460Z"
   },
   {
    "duration": 17,
    "start_time": "2021-08-13T09:31:08.501Z"
   },
   {
    "duration": 8,
    "start_time": "2021-08-13T09:31:08.520Z"
   },
   {
    "duration": 9,
    "start_time": "2021-08-13T09:31:08.530Z"
   },
   {
    "duration": 13,
    "start_time": "2021-08-13T09:31:08.541Z"
   },
   {
    "duration": 34,
    "start_time": "2021-08-13T09:31:08.555Z"
   },
   {
    "duration": 10,
    "start_time": "2021-08-13T09:31:08.590Z"
   },
   {
    "duration": 21,
    "start_time": "2021-08-13T09:31:08.602Z"
   },
   {
    "duration": 12,
    "start_time": "2021-08-13T09:31:08.625Z"
   },
   {
    "duration": 436,
    "start_time": "2021-08-13T09:31:08.639Z"
   },
   {
    "duration": 15,
    "start_time": "2021-08-13T09:31:09.084Z"
   },
   {
    "duration": 272,
    "start_time": "2021-08-13T09:31:09.102Z"
   },
   {
    "duration": 207,
    "start_time": "2021-08-13T09:31:21.381Z"
   },
   {
    "duration": 1084,
    "start_time": "2021-08-13T09:32:14.767Z"
   },
   {
    "duration": 60,
    "start_time": "2021-08-13T09:32:15.852Z"
   },
   {
    "duration": 10,
    "start_time": "2021-08-13T09:32:15.914Z"
   },
   {
    "duration": 12,
    "start_time": "2021-08-13T09:32:15.926Z"
   },
   {
    "duration": 18,
    "start_time": "2021-08-13T09:32:15.940Z"
   },
   {
    "duration": 26,
    "start_time": "2021-08-13T09:32:15.960Z"
   },
   {
    "duration": 13,
    "start_time": "2021-08-13T09:32:15.987Z"
   },
   {
    "duration": 23,
    "start_time": "2021-08-13T09:32:16.003Z"
   },
   {
    "duration": 31,
    "start_time": "2021-08-13T09:32:16.028Z"
   },
   {
    "duration": 28,
    "start_time": "2021-08-13T09:32:16.061Z"
   },
   {
    "duration": 4,
    "start_time": "2021-08-13T09:32:16.091Z"
   },
   {
    "duration": 17,
    "start_time": "2021-08-13T09:32:16.097Z"
   },
   {
    "duration": 17,
    "start_time": "2021-08-13T09:32:16.115Z"
   },
   {
    "duration": 7,
    "start_time": "2021-08-13T09:32:16.133Z"
   },
   {
    "duration": 10,
    "start_time": "2021-08-13T09:32:16.141Z"
   },
   {
    "duration": 41,
    "start_time": "2021-08-13T09:32:16.152Z"
   },
   {
    "duration": 5,
    "start_time": "2021-08-13T09:32:16.194Z"
   },
   {
    "duration": 10,
    "start_time": "2021-08-13T09:32:16.201Z"
   },
   {
    "duration": 21,
    "start_time": "2021-08-13T09:32:16.213Z"
   },
   {
    "duration": 12,
    "start_time": "2021-08-13T09:32:16.236Z"
   },
   {
    "duration": 442,
    "start_time": "2021-08-13T09:32:16.250Z"
   },
   {
    "duration": 14,
    "start_time": "2021-08-13T09:32:16.694Z"
   },
   {
    "duration": 21,
    "start_time": "2021-08-13T09:32:16.711Z"
   },
   {
    "duration": 13,
    "start_time": "2021-08-13T09:34:12.760Z"
   },
   {
    "duration": 21,
    "start_time": "2021-08-13T09:34:37.410Z"
   },
   {
    "duration": 18,
    "start_time": "2021-08-13T09:35:03.858Z"
   },
   {
    "duration": 21,
    "start_time": "2021-08-13T09:37:01.300Z"
   },
   {
    "duration": 974,
    "start_time": "2021-08-13T09:41:05.448Z"
   },
   {
    "duration": 664,
    "start_time": "2021-08-13T09:41:19.993Z"
   },
   {
    "duration": 2212,
    "start_time": "2021-08-13T09:42:06.760Z"
   },
   {
    "duration": 2495,
    "start_time": "2021-08-13T09:42:17.733Z"
   },
   {
    "duration": 2309,
    "start_time": "2021-08-13T09:42:28.196Z"
   },
   {
    "duration": 2367,
    "start_time": "2021-08-13T09:42:36.956Z"
   },
   {
    "duration": 423,
    "start_time": "2021-08-13T09:43:48.534Z"
   },
   {
    "duration": 223,
    "start_time": "2021-08-13T09:43:55.845Z"
   },
   {
    "duration": 2433,
    "start_time": "2021-08-13T09:45:37.339Z"
   },
   {
    "duration": 22,
    "start_time": "2021-08-13T10:03:46.919Z"
   },
   {
    "duration": 2603,
    "start_time": "2021-08-13T10:05:41.672Z"
   },
   {
    "duration": 1512,
    "start_time": "2021-08-13T10:05:55.279Z"
   },
   {
    "duration": 1524,
    "start_time": "2021-08-13T10:16:28.627Z"
   },
   {
    "duration": 2756,
    "start_time": "2021-08-13T10:19:37.500Z"
   },
   {
    "duration": 206,
    "start_time": "2021-08-13T10:24:36.663Z"
   },
   {
    "duration": 210,
    "start_time": "2021-08-13T10:25:07.587Z"
   },
   {
    "duration": 1718,
    "start_time": "2021-08-13T10:25:14.830Z"
   },
   {
    "duration": 57,
    "start_time": "2021-08-13T10:25:16.550Z"
   },
   {
    "duration": 11,
    "start_time": "2021-08-13T10:25:16.610Z"
   },
   {
    "duration": 9,
    "start_time": "2021-08-13T10:25:16.624Z"
   },
   {
    "duration": 19,
    "start_time": "2021-08-13T10:25:16.635Z"
   },
   {
    "duration": 30,
    "start_time": "2021-08-13T10:25:16.656Z"
   },
   {
    "duration": 15,
    "start_time": "2021-08-13T10:25:16.688Z"
   },
   {
    "duration": 19,
    "start_time": "2021-08-13T10:25:16.706Z"
   },
   {
    "duration": 57,
    "start_time": "2021-08-13T10:25:16.729Z"
   },
   {
    "duration": 13,
    "start_time": "2021-08-13T10:25:16.788Z"
   },
   {
    "duration": 4,
    "start_time": "2021-08-13T10:25:16.803Z"
   },
   {
    "duration": 18,
    "start_time": "2021-08-13T10:25:16.809Z"
   },
   {
    "duration": 16,
    "start_time": "2021-08-13T10:25:16.829Z"
   },
   {
    "duration": 40,
    "start_time": "2021-08-13T10:25:16.846Z"
   },
   {
    "duration": 11,
    "start_time": "2021-08-13T10:25:16.888Z"
   },
   {
    "duration": 13,
    "start_time": "2021-08-13T10:25:16.900Z"
   },
   {
    "duration": 7,
    "start_time": "2021-08-13T10:25:16.915Z"
   },
   {
    "duration": 11,
    "start_time": "2021-08-13T10:25:16.924Z"
   },
   {
    "duration": 20,
    "start_time": "2021-08-13T10:25:16.937Z"
   },
   {
    "duration": 38,
    "start_time": "2021-08-13T10:25:16.959Z"
   },
   {
    "duration": 448,
    "start_time": "2021-08-13T10:25:16.999Z"
   },
   {
    "duration": 14,
    "start_time": "2021-08-13T10:25:17.449Z"
   },
   {
    "duration": 35,
    "start_time": "2021-08-13T10:25:17.465Z"
   },
   {
    "duration": 20,
    "start_time": "2021-08-13T10:25:17.502Z"
   },
   {
    "duration": 323,
    "start_time": "2021-08-13T10:25:17.524Z"
   },
   {
    "duration": 22,
    "start_time": "2021-08-13T10:25:39.936Z"
   },
   {
    "duration": 410,
    "start_time": "2021-08-13T10:25:40.722Z"
   },
   {
    "duration": 391,
    "start_time": "2021-08-13T10:27:09.096Z"
   },
   {
    "duration": 5,
    "start_time": "2021-08-13T10:28:07.833Z"
   },
   {
    "duration": 1113,
    "start_time": "2021-08-13T10:28:44.264Z"
   },
   {
    "duration": 59,
    "start_time": "2021-08-13T10:28:45.379Z"
   },
   {
    "duration": 9,
    "start_time": "2021-08-13T10:28:45.440Z"
   },
   {
    "duration": 8,
    "start_time": "2021-08-13T10:28:45.451Z"
   },
   {
    "duration": 34,
    "start_time": "2021-08-13T10:28:45.460Z"
   },
   {
    "duration": 5,
    "start_time": "2021-08-13T10:28:45.496Z"
   },
   {
    "duration": 15,
    "start_time": "2021-08-13T10:28:45.502Z"
   },
   {
    "duration": 18,
    "start_time": "2021-08-13T10:28:45.519Z"
   },
   {
    "duration": 49,
    "start_time": "2021-08-13T10:28:45.539Z"
   },
   {
    "duration": 10,
    "start_time": "2021-08-13T10:28:45.589Z"
   },
   {
    "duration": 4,
    "start_time": "2021-08-13T10:28:45.601Z"
   },
   {
    "duration": 17,
    "start_time": "2021-08-13T10:28:45.607Z"
   },
   {
    "duration": 16,
    "start_time": "2021-08-13T10:28:45.626Z"
   },
   {
    "duration": 7,
    "start_time": "2021-08-13T10:28:45.643Z"
   },
   {
    "duration": 9,
    "start_time": "2021-08-13T10:28:45.685Z"
   },
   {
    "duration": 12,
    "start_time": "2021-08-13T10:28:45.696Z"
   },
   {
    "duration": 11,
    "start_time": "2021-08-13T10:28:45.709Z"
   },
   {
    "duration": 12,
    "start_time": "2021-08-13T10:28:45.722Z"
   },
   {
    "duration": 20,
    "start_time": "2021-08-13T10:28:45.736Z"
   },
   {
    "duration": 33,
    "start_time": "2021-08-13T10:28:45.758Z"
   },
   {
    "duration": 425,
    "start_time": "2021-08-13T10:28:45.793Z"
   },
   {
    "duration": 14,
    "start_time": "2021-08-13T10:28:46.220Z"
   },
   {
    "duration": 26,
    "start_time": "2021-08-13T10:28:46.236Z"
   },
   {
    "duration": 33,
    "start_time": "2021-08-13T10:28:46.263Z"
   },
   {
    "duration": 356,
    "start_time": "2021-08-13T10:28:46.298Z"
   },
   {
    "duration": 19,
    "start_time": "2021-08-13T10:29:02.177Z"
   },
   {
    "duration": 13,
    "start_time": "2021-08-13T10:30:22.077Z"
   },
   {
    "duration": 1082,
    "start_time": "2021-08-13T10:30:35.753Z"
   },
   {
    "duration": 55,
    "start_time": "2021-08-13T10:30:36.836Z"
   },
   {
    "duration": 9,
    "start_time": "2021-08-13T10:30:36.892Z"
   },
   {
    "duration": 8,
    "start_time": "2021-08-13T10:30:36.903Z"
   },
   {
    "duration": 17,
    "start_time": "2021-08-13T10:30:36.912Z"
   },
   {
    "duration": 4,
    "start_time": "2021-08-13T10:30:36.931Z"
   },
   {
    "duration": 14,
    "start_time": "2021-08-13T10:30:36.937Z"
   },
   {
    "duration": 49,
    "start_time": "2021-08-13T10:30:36.954Z"
   },
   {
    "duration": 26,
    "start_time": "2021-08-13T10:30:37.005Z"
   },
   {
    "duration": 9,
    "start_time": "2021-08-13T10:30:37.032Z"
   },
   {
    "duration": 4,
    "start_time": "2021-08-13T10:30:37.043Z"
   },
   {
    "duration": 51,
    "start_time": "2021-08-13T10:30:37.048Z"
   },
   {
    "duration": 16,
    "start_time": "2021-08-13T10:30:37.101Z"
   },
   {
    "duration": 8,
    "start_time": "2021-08-13T10:30:37.118Z"
   },
   {
    "duration": 8,
    "start_time": "2021-08-13T10:30:37.127Z"
   },
   {
    "duration": 11,
    "start_time": "2021-08-13T10:30:37.137Z"
   },
   {
    "duration": 35,
    "start_time": "2021-08-13T10:30:37.150Z"
   },
   {
    "duration": 9,
    "start_time": "2021-08-13T10:30:37.186Z"
   },
   {
    "duration": 22,
    "start_time": "2021-08-13T10:30:37.196Z"
   },
   {
    "duration": 13,
    "start_time": "2021-08-13T10:30:37.219Z"
   },
   {
    "duration": 437,
    "start_time": "2021-08-13T10:30:37.233Z"
   },
   {
    "duration": 19,
    "start_time": "2021-08-13T10:30:37.671Z"
   },
   {
    "duration": 22,
    "start_time": "2021-08-13T10:30:37.693Z"
   },
   {
    "duration": 18,
    "start_time": "2021-08-13T10:30:37.717Z"
   },
   {
    "duration": 388,
    "start_time": "2021-08-13T10:30:37.737Z"
   },
   {
    "duration": 372,
    "start_time": "2021-08-13T10:31:43.083Z"
   },
   {
    "duration": 674,
    "start_time": "2021-08-13T10:33:22.752Z"
   },
   {
    "duration": 371,
    "start_time": "2021-08-13T10:33:47.383Z"
   },
   {
    "duration": 364,
    "start_time": "2021-08-13T10:34:30.799Z"
   },
   {
    "duration": 1109,
    "start_time": "2021-08-13T10:47:50.709Z"
   },
   {
    "duration": 54,
    "start_time": "2021-08-13T10:47:51.821Z"
   },
   {
    "duration": 9,
    "start_time": "2021-08-13T10:47:51.877Z"
   },
   {
    "duration": 10,
    "start_time": "2021-08-13T10:47:51.888Z"
   },
   {
    "duration": 19,
    "start_time": "2021-08-13T10:47:51.899Z"
   },
   {
    "duration": 4,
    "start_time": "2021-08-13T10:47:51.920Z"
   },
   {
    "duration": 15,
    "start_time": "2021-08-13T10:47:51.926Z"
   },
   {
    "duration": 52,
    "start_time": "2021-08-13T10:47:51.944Z"
   },
   {
    "duration": 26,
    "start_time": "2021-08-13T10:47:51.998Z"
   },
   {
    "duration": 10,
    "start_time": "2021-08-13T10:47:52.025Z"
   },
   {
    "duration": 4,
    "start_time": "2021-08-13T10:47:52.037Z"
   },
   {
    "duration": 45,
    "start_time": "2021-08-13T10:47:52.043Z"
   },
   {
    "duration": 16,
    "start_time": "2021-08-13T10:47:52.089Z"
   },
   {
    "duration": 7,
    "start_time": "2021-08-13T10:47:52.106Z"
   },
   {
    "duration": 9,
    "start_time": "2021-08-13T10:47:52.115Z"
   },
   {
    "duration": 11,
    "start_time": "2021-08-13T10:47:52.125Z"
   },
   {
    "duration": 5,
    "start_time": "2021-08-13T10:47:52.138Z"
   },
   {
    "duration": 11,
    "start_time": "2021-08-13T10:47:52.144Z"
   },
   {
    "duration": 24,
    "start_time": "2021-08-13T10:47:52.184Z"
   },
   {
    "duration": 12,
    "start_time": "2021-08-13T10:47:52.210Z"
   },
   {
    "duration": 411,
    "start_time": "2021-08-13T10:47:52.224Z"
   },
   {
    "duration": 14,
    "start_time": "2021-08-13T10:47:52.637Z"
   },
   {
    "duration": 40,
    "start_time": "2021-08-13T10:47:52.654Z"
   },
   {
    "duration": 20,
    "start_time": "2021-08-13T10:47:52.696Z"
   },
   {
    "duration": 379,
    "start_time": "2021-08-13T10:47:52.717Z"
   },
   {
    "duration": 21,
    "start_time": "2021-08-13T10:49:01.668Z"
   },
   {
    "duration": 372,
    "start_time": "2021-08-13T10:49:03.843Z"
   },
   {
    "duration": 21,
    "start_time": "2021-08-13T10:52:57.375Z"
   },
   {
    "duration": 798,
    "start_time": "2021-08-13T10:53:54.703Z"
   },
   {
    "duration": 1417,
    "start_time": "2021-08-13T10:57:34.309Z"
   },
   {
    "duration": 909,
    "start_time": "2021-08-13T10:57:46.540Z"
   },
   {
    "duration": 276,
    "start_time": "2021-08-13T11:00:55.684Z"
   },
   {
    "duration": 664,
    "start_time": "2021-08-13T11:01:13.425Z"
   },
   {
    "duration": 568,
    "start_time": "2021-08-13T11:01:57.614Z"
   },
   {
    "duration": 797,
    "start_time": "2021-08-13T11:02:21.567Z"
   },
   {
    "duration": 1104,
    "start_time": "2021-08-13T11:02:36.226Z"
   },
   {
    "duration": 195,
    "start_time": "2021-08-13T11:08:16.524Z"
   },
   {
    "duration": 10,
    "start_time": "2021-08-13T11:08:35.956Z"
   },
   {
    "duration": 4,
    "start_time": "2021-08-13T11:12:03.042Z"
   },
   {
    "duration": 5,
    "start_time": "2021-08-13T11:12:21.990Z"
   },
   {
    "duration": 5,
    "start_time": "2021-08-13T11:12:42.661Z"
   },
   {
    "duration": 67,
    "start_time": "2021-08-13T11:14:40.067Z"
   },
   {
    "duration": 928,
    "start_time": "2021-08-13T11:14:56.541Z"
   },
   {
    "duration": 944,
    "start_time": "2021-08-13T11:15:30.198Z"
   },
   {
    "duration": 181,
    "start_time": "2021-08-13T11:17:52.672Z"
   },
   {
    "duration": 983,
    "start_time": "2021-08-13T11:18:08.786Z"
   },
   {
    "duration": 882,
    "start_time": "2021-08-13T11:18:33.459Z"
   },
   {
    "duration": 721,
    "start_time": "2021-08-13T11:18:34.343Z"
   },
   {
    "duration": 810,
    "start_time": "2021-08-13T11:18:58.969Z"
   },
   {
    "duration": 584,
    "start_time": "2021-08-13T11:19:13.479Z"
   },
   {
    "duration": 759,
    "start_time": "2021-08-13T11:19:28.842Z"
   },
   {
    "duration": 731,
    "start_time": "2021-08-13T11:22:18.149Z"
   },
   {
    "duration": 725,
    "start_time": "2021-08-13T11:24:33.063Z"
   },
   {
    "duration": 788,
    "start_time": "2021-08-13T11:24:34.890Z"
   },
   {
    "duration": 808,
    "start_time": "2021-08-13T11:24:50.091Z"
   },
   {
    "duration": 1054,
    "start_time": "2021-08-13T11:26:20.148Z"
   },
   {
    "duration": 58,
    "start_time": "2021-08-13T11:26:21.204Z"
   },
   {
    "duration": 10,
    "start_time": "2021-08-13T11:26:21.264Z"
   },
   {
    "duration": 12,
    "start_time": "2021-08-13T11:26:21.276Z"
   },
   {
    "duration": 21,
    "start_time": "2021-08-13T11:26:21.290Z"
   },
   {
    "duration": 6,
    "start_time": "2021-08-13T11:26:21.313Z"
   },
   {
    "duration": 16,
    "start_time": "2021-08-13T11:26:21.321Z"
   },
   {
    "duration": 48,
    "start_time": "2021-08-13T11:26:21.340Z"
   },
   {
    "duration": 27,
    "start_time": "2021-08-13T11:26:21.390Z"
   },
   {
    "duration": 10,
    "start_time": "2021-08-13T11:26:21.419Z"
   },
   {
    "duration": 4,
    "start_time": "2021-08-13T11:26:21.431Z"
   },
   {
    "duration": 48,
    "start_time": "2021-08-13T11:26:21.437Z"
   },
   {
    "duration": 18,
    "start_time": "2021-08-13T11:26:21.487Z"
   },
   {
    "duration": 8,
    "start_time": "2021-08-13T11:26:21.506Z"
   },
   {
    "duration": 10,
    "start_time": "2021-08-13T11:26:21.515Z"
   },
   {
    "duration": 12,
    "start_time": "2021-08-13T11:26:21.526Z"
   },
   {
    "duration": 4,
    "start_time": "2021-08-13T11:26:21.540Z"
   },
   {
    "duration": 42,
    "start_time": "2021-08-13T11:26:21.546Z"
   },
   {
    "duration": 21,
    "start_time": "2021-08-13T11:26:21.590Z"
   },
   {
    "duration": 12,
    "start_time": "2021-08-13T11:26:21.613Z"
   },
   {
    "duration": 428,
    "start_time": "2021-08-13T11:26:21.627Z"
   },
   {
    "duration": 15,
    "start_time": "2021-08-13T11:26:22.056Z"
   },
   {
    "duration": 31,
    "start_time": "2021-08-13T11:26:22.074Z"
   },
   {
    "duration": 19,
    "start_time": "2021-08-13T11:26:22.107Z"
   },
   {
    "duration": 469,
    "start_time": "2021-08-13T11:26:22.127Z"
   },
   {
    "duration": 23,
    "start_time": "2021-08-13T11:26:22.597Z"
   },
   {
    "duration": 5,
    "start_time": "2021-08-13T11:26:22.621Z"
   },
   {
    "duration": 14,
    "start_time": "2021-08-13T11:27:03.798Z"
   },
   {
    "duration": 13,
    "start_time": "2021-08-13T11:27:10.332Z"
   },
   {
    "duration": 17,
    "start_time": "2021-08-13T11:27:27.783Z"
   },
   {
    "duration": 15,
    "start_time": "2021-08-13T11:27:37.575Z"
   },
   {
    "duration": 1085,
    "start_time": "2021-08-13T11:27:45.153Z"
   },
   {
    "duration": 57,
    "start_time": "2021-08-13T11:27:46.239Z"
   },
   {
    "duration": 10,
    "start_time": "2021-08-13T11:27:46.298Z"
   },
   {
    "duration": 10,
    "start_time": "2021-08-13T11:27:46.311Z"
   },
   {
    "duration": 19,
    "start_time": "2021-08-13T11:27:46.323Z"
   },
   {
    "duration": 4,
    "start_time": "2021-08-13T11:27:46.343Z"
   },
   {
    "duration": 44,
    "start_time": "2021-08-13T11:27:46.349Z"
   },
   {
    "duration": 19,
    "start_time": "2021-08-13T11:27:46.395Z"
   },
   {
    "duration": 28,
    "start_time": "2021-08-13T11:27:46.416Z"
   },
   {
    "duration": 10,
    "start_time": "2021-08-13T11:27:46.445Z"
   },
   {
    "duration": 28,
    "start_time": "2021-08-13T11:27:46.457Z"
   },
   {
    "duration": 18,
    "start_time": "2021-08-13T11:27:46.487Z"
   },
   {
    "duration": 16,
    "start_time": "2021-08-13T11:27:46.507Z"
   },
   {
    "duration": 8,
    "start_time": "2021-08-13T11:27:46.525Z"
   },
   {
    "duration": 9,
    "start_time": "2021-08-13T11:27:46.535Z"
   },
   {
    "duration": 47,
    "start_time": "2021-08-13T11:27:46.545Z"
   },
   {
    "duration": 5,
    "start_time": "2021-08-13T11:27:46.594Z"
   },
   {
    "duration": 10,
    "start_time": "2021-08-13T11:27:46.600Z"
   },
   {
    "duration": 21,
    "start_time": "2021-08-13T11:27:46.612Z"
   },
   {
    "duration": 12,
    "start_time": "2021-08-13T11:27:46.635Z"
   },
   {
    "duration": 437,
    "start_time": "2021-08-13T11:27:46.649Z"
   },
   {
    "duration": 15,
    "start_time": "2021-08-13T11:27:47.088Z"
   },
   {
    "duration": 23,
    "start_time": "2021-08-13T11:27:47.106Z"
   },
   {
    "duration": 19,
    "start_time": "2021-08-13T11:27:47.130Z"
   },
   {
    "duration": 616,
    "start_time": "2021-08-13T11:27:47.151Z"
   },
   {
    "duration": 30,
    "start_time": "2021-08-13T11:27:47.768Z"
   },
   {
    "duration": 4,
    "start_time": "2021-08-13T11:27:47.800Z"
   },
   {
    "duration": 585,
    "start_time": "2021-08-13T11:33:56.862Z"
   },
   {
    "duration": 722,
    "start_time": "2021-08-13T11:34:30.504Z"
   },
   {
    "duration": 738,
    "start_time": "2021-08-13T11:34:45.350Z"
   },
   {
    "duration": 596,
    "start_time": "2021-08-13T11:35:46.183Z"
   },
   {
    "duration": 712,
    "start_time": "2021-08-13T11:35:59.048Z"
   },
   {
    "duration": 275,
    "start_time": "2021-08-13T11:49:57.884Z"
   },
   {
    "duration": 553,
    "start_time": "2021-08-13T11:50:20.068Z"
   },
   {
    "duration": 333,
    "start_time": "2021-08-13T15:04:17.846Z"
   },
   {
    "duration": 1569,
    "start_time": "2021-08-13T15:06:35.757Z"
   },
   {
    "duration": 76,
    "start_time": "2021-08-13T15:06:37.328Z"
   },
   {
    "duration": 15,
    "start_time": "2021-08-13T15:06:37.406Z"
   },
   {
    "duration": 13,
    "start_time": "2021-08-13T15:06:37.423Z"
   },
   {
    "duration": 29,
    "start_time": "2021-08-13T15:06:37.462Z"
   },
   {
    "duration": 7,
    "start_time": "2021-08-13T15:06:37.494Z"
   },
   {
    "duration": 24,
    "start_time": "2021-08-13T15:06:37.504Z"
   },
   {
    "duration": 59,
    "start_time": "2021-08-13T15:06:37.530Z"
   },
   {
    "duration": 54,
    "start_time": "2021-08-13T15:06:37.591Z"
   },
   {
    "duration": 29,
    "start_time": "2021-08-13T15:06:37.647Z"
   },
   {
    "duration": 15,
    "start_time": "2021-08-13T15:06:37.678Z"
   },
   {
    "duration": 42,
    "start_time": "2021-08-13T15:06:37.695Z"
   },
   {
    "duration": 42,
    "start_time": "2021-08-13T15:06:37.740Z"
   },
   {
    "duration": 15,
    "start_time": "2021-08-13T15:06:37.785Z"
   },
   {
    "duration": 18,
    "start_time": "2021-08-13T15:06:37.803Z"
   },
   {
    "duration": 56,
    "start_time": "2021-08-13T15:06:37.824Z"
   },
   {
    "duration": 7,
    "start_time": "2021-08-13T15:06:37.883Z"
   },
   {
    "duration": 19,
    "start_time": "2021-08-13T15:06:37.896Z"
   },
   {
    "duration": 82,
    "start_time": "2021-08-13T15:06:37.919Z"
   },
   {
    "duration": 29,
    "start_time": "2021-08-13T15:06:38.004Z"
   },
   {
    "duration": 671,
    "start_time": "2021-08-13T15:06:38.036Z"
   },
   {
    "duration": 23,
    "start_time": "2021-08-13T15:06:38.709Z"
   },
   {
    "duration": 55,
    "start_time": "2021-08-13T15:06:38.735Z"
   },
   {
    "duration": 31,
    "start_time": "2021-08-13T15:06:38.792Z"
   },
   {
    "duration": 1215,
    "start_time": "2021-08-13T15:06:38.825Z"
   },
   {
    "duration": 886,
    "start_time": "2021-08-13T15:06:40.042Z"
   },
   {
    "duration": 14,
    "start_time": "2021-08-13T15:06:40.930Z"
   },
   {
    "duration": 29,
    "start_time": "2021-08-13T15:13:31.811Z"
   },
   {
    "duration": 34,
    "start_time": "2021-08-13T15:18:38.493Z"
   },
   {
    "duration": 409,
    "start_time": "2021-08-13T15:23:24.628Z"
   },
   {
    "duration": 253,
    "start_time": "2021-08-13T15:23:34.486Z"
   },
   {
    "duration": 350,
    "start_time": "2021-08-13T15:23:54.096Z"
   },
   {
    "duration": 40,
    "start_time": "2021-08-13T15:24:11.764Z"
   },
   {
    "duration": 28,
    "start_time": "2021-08-13T15:24:36.013Z"
   },
   {
    "duration": 1183,
    "start_time": "2021-08-16T08:03:05.364Z"
   },
   {
    "duration": 54,
    "start_time": "2021-08-16T08:03:06.548Z"
   },
   {
    "duration": 10,
    "start_time": "2021-08-16T08:03:06.606Z"
   },
   {
    "duration": 8,
    "start_time": "2021-08-16T08:03:06.618Z"
   },
   {
    "duration": 19,
    "start_time": "2021-08-16T08:03:06.627Z"
   },
   {
    "duration": 5,
    "start_time": "2021-08-16T08:03:06.647Z"
   },
   {
    "duration": 46,
    "start_time": "2021-08-16T08:03:06.654Z"
   },
   {
    "duration": 21,
    "start_time": "2021-08-16T08:03:06.702Z"
   },
   {
    "duration": 26,
    "start_time": "2021-08-16T08:03:06.724Z"
   },
   {
    "duration": 10,
    "start_time": "2021-08-16T08:03:06.752Z"
   },
   {
    "duration": 29,
    "start_time": "2021-08-16T08:03:06.763Z"
   },
   {
    "duration": 18,
    "start_time": "2021-08-16T08:03:06.794Z"
   },
   {
    "duration": 15,
    "start_time": "2021-08-16T08:03:06.813Z"
   },
   {
    "duration": 6,
    "start_time": "2021-08-16T08:03:06.830Z"
   },
   {
    "duration": 7,
    "start_time": "2021-08-16T08:03:06.838Z"
   },
   {
    "duration": 10,
    "start_time": "2021-08-16T08:03:06.847Z"
   },
   {
    "duration": 35,
    "start_time": "2021-08-16T08:03:06.858Z"
   },
   {
    "duration": 13,
    "start_time": "2021-08-16T08:03:06.895Z"
   },
   {
    "duration": 23,
    "start_time": "2021-08-16T08:03:06.910Z"
   },
   {
    "duration": 12,
    "start_time": "2021-08-16T08:03:06.936Z"
   },
   {
    "duration": 387,
    "start_time": "2021-08-16T08:03:06.950Z"
   },
   {
    "duration": 14,
    "start_time": "2021-08-16T08:03:07.341Z"
   },
   {
    "duration": 40,
    "start_time": "2021-08-16T08:03:07.357Z"
   },
   {
    "duration": 19,
    "start_time": "2021-08-16T08:03:07.399Z"
   },
   {
    "duration": 636,
    "start_time": "2021-08-16T08:03:07.419Z"
   },
   {
    "duration": 458,
    "start_time": "2021-08-16T08:03:08.057Z"
   },
   {
    "duration": 17,
    "start_time": "2021-08-16T08:03:08.517Z"
   },
   {
    "duration": 18,
    "start_time": "2021-08-16T08:14:43.153Z"
   },
   {
    "duration": 8,
    "start_time": "2021-08-16T08:15:08.934Z"
   },
   {
    "duration": 6702,
    "start_time": "2021-08-16T08:16:11.058Z"
   },
   {
    "duration": 21,
    "start_time": "2021-08-16T08:16:43.985Z"
   },
   {
    "duration": 57440,
    "start_time": "2021-08-16T08:17:35.695Z"
   },
   {
    "duration": 142,
    "start_time": "2021-08-16T08:24:10.026Z"
   },
   {
    "duration": 141,
    "start_time": "2021-08-16T08:24:30.351Z"
   },
   {
    "duration": 189,
    "start_time": "2021-08-16T08:24:39.712Z"
   },
   {
    "duration": 1043,
    "start_time": "2021-08-16T08:25:04.539Z"
   },
   {
    "duration": 56,
    "start_time": "2021-08-16T08:25:05.583Z"
   },
   {
    "duration": 10,
    "start_time": "2021-08-16T08:25:05.642Z"
   },
   {
    "duration": 23,
    "start_time": "2021-08-16T08:25:05.654Z"
   },
   {
    "duration": 32,
    "start_time": "2021-08-16T08:25:05.678Z"
   },
   {
    "duration": 20,
    "start_time": "2021-08-16T08:25:05.713Z"
   },
   {
    "duration": 32,
    "start_time": "2021-08-16T08:25:05.734Z"
   },
   {
    "duration": 36,
    "start_time": "2021-08-16T08:25:05.770Z"
   },
   {
    "duration": 41,
    "start_time": "2021-08-16T08:25:05.809Z"
   },
   {
    "duration": 13,
    "start_time": "2021-08-16T08:25:05.852Z"
   },
   {
    "duration": 16,
    "start_time": "2021-08-16T08:25:05.866Z"
   },
   {
    "duration": 35,
    "start_time": "2021-08-16T08:25:05.883Z"
   },
   {
    "duration": 26,
    "start_time": "2021-08-16T08:25:05.920Z"
   },
   {
    "duration": 15,
    "start_time": "2021-08-16T08:25:05.948Z"
   },
   {
    "duration": 27,
    "start_time": "2021-08-16T08:25:05.965Z"
   },
   {
    "duration": 38,
    "start_time": "2021-08-16T08:25:05.994Z"
   },
   {
    "duration": 33,
    "start_time": "2021-08-16T08:25:06.034Z"
   },
   {
    "duration": 18,
    "start_time": "2021-08-16T08:25:06.069Z"
   },
   {
    "duration": 28,
    "start_time": "2021-08-16T08:25:06.089Z"
   },
   {
    "duration": 15,
    "start_time": "2021-08-16T08:25:06.119Z"
   },
   {
    "duration": 386,
    "start_time": "2021-08-16T08:25:06.136Z"
   },
   {
    "duration": 15,
    "start_time": "2021-08-16T08:25:06.524Z"
   },
   {
    "duration": 34,
    "start_time": "2021-08-16T08:25:06.542Z"
   },
   {
    "duration": 26,
    "start_time": "2021-08-16T08:25:06.578Z"
   },
   {
    "duration": 673,
    "start_time": "2021-08-16T08:25:06.606Z"
   },
   {
    "duration": 527,
    "start_time": "2021-08-16T08:25:07.281Z"
   },
   {
    "duration": 21,
    "start_time": "2021-08-16T08:25:07.809Z"
   },
   {
    "duration": 562,
    "start_time": "2021-08-16T08:25:07.832Z"
   },
   {
    "duration": 441,
    "start_time": "2021-08-16T08:25:19.257Z"
   },
   {
    "duration": 445,
    "start_time": "2021-08-16T08:25:25.424Z"
   },
   {
    "duration": 518,
    "start_time": "2021-08-16T08:25:37.550Z"
   },
   {
    "duration": 349,
    "start_time": "2021-08-16T08:25:56.197Z"
   },
   {
    "duration": 274,
    "start_time": "2021-08-16T08:26:36.171Z"
   },
   {
    "duration": 18,
    "start_time": "2021-08-16T08:26:58.430Z"
   },
   {
    "duration": 21,
    "start_time": "2021-08-16T08:27:11.719Z"
   },
   {
    "duration": 1205,
    "start_time": "2021-08-16T08:27:32.381Z"
   },
   {
    "duration": 56,
    "start_time": "2021-08-16T08:27:33.588Z"
   },
   {
    "duration": 8,
    "start_time": "2021-08-16T08:27:33.646Z"
   },
   {
    "duration": 11,
    "start_time": "2021-08-16T08:27:33.656Z"
   },
   {
    "duration": 31,
    "start_time": "2021-08-16T08:27:33.668Z"
   },
   {
    "duration": 7,
    "start_time": "2021-08-16T08:27:33.704Z"
   },
   {
    "duration": 22,
    "start_time": "2021-08-16T08:27:33.714Z"
   },
   {
    "duration": 28,
    "start_time": "2021-08-16T08:27:33.739Z"
   },
   {
    "duration": 42,
    "start_time": "2021-08-16T08:27:33.769Z"
   },
   {
    "duration": 12,
    "start_time": "2021-08-16T08:27:33.814Z"
   },
   {
    "duration": 9,
    "start_time": "2021-08-16T08:27:33.828Z"
   },
   {
    "duration": 22,
    "start_time": "2021-08-16T08:27:33.839Z"
   },
   {
    "duration": 42,
    "start_time": "2021-08-16T08:27:33.863Z"
   },
   {
    "duration": 12,
    "start_time": "2021-08-16T08:27:33.907Z"
   },
   {
    "duration": 12,
    "start_time": "2021-08-16T08:27:33.921Z"
   },
   {
    "duration": 11,
    "start_time": "2021-08-16T08:27:33.935Z"
   },
   {
    "duration": 206,
    "start_time": "2021-08-16T08:27:33.948Z"
   },
   {
    "duration": 30,
    "start_time": "2021-08-16T08:27:34.155Z"
   },
   {
    "duration": 36,
    "start_time": "2021-08-16T08:27:34.186Z"
   },
   {
    "duration": 12,
    "start_time": "2021-08-16T08:27:34.224Z"
   },
   {
    "duration": 457,
    "start_time": "2021-08-16T08:27:34.237Z"
   },
   {
    "duration": 20,
    "start_time": "2021-08-16T08:27:34.696Z"
   },
   {
    "duration": 22,
    "start_time": "2021-08-16T08:27:34.719Z"
   },
   {
    "duration": 21,
    "start_time": "2021-08-16T08:27:34.742Z"
   },
   {
    "duration": 866,
    "start_time": "2021-08-16T08:27:34.765Z"
   },
   {
    "duration": 570,
    "start_time": "2021-08-16T08:27:35.632Z"
   },
   {
    "duration": 20,
    "start_time": "2021-08-16T08:27:36.205Z"
   },
   {
    "duration": 367,
    "start_time": "2021-08-16T08:27:36.227Z"
   },
   {
    "duration": 20,
    "start_time": "2021-08-16T08:27:45.767Z"
   },
   {
    "duration": 249,
    "start_time": "2021-08-16T08:27:49.119Z"
   },
   {
    "duration": 267,
    "start_time": "2021-08-16T08:28:04.513Z"
   },
   {
    "duration": 13,
    "start_time": "2021-08-16T08:34:18.789Z"
   },
   {
    "duration": 20,
    "start_time": "2021-08-16T08:34:40.900Z"
   },
   {
    "duration": 532,
    "start_time": "2021-08-16T08:35:06.443Z"
   },
   {
    "duration": 439,
    "start_time": "2021-08-16T08:43:41.407Z"
   },
   {
    "duration": 425,
    "start_time": "2021-08-16T08:44:08.740Z"
   },
   {
    "duration": 514,
    "start_time": "2021-08-16T08:44:21.220Z"
   },
   {
    "duration": 375,
    "start_time": "2021-08-16T08:44:37.283Z"
   },
   {
    "duration": 422,
    "start_time": "2021-08-16T08:44:45.106Z"
   },
   {
    "duration": 371,
    "start_time": "2021-08-16T08:44:53.265Z"
   },
   {
    "duration": 316,
    "start_time": "2021-08-16T08:45:05.734Z"
   },
   {
    "duration": 315,
    "start_time": "2021-08-16T08:45:12.241Z"
   },
   {
    "duration": 307,
    "start_time": "2021-08-16T08:45:42.129Z"
   },
   {
    "duration": 27,
    "start_time": "2021-08-16T08:52:44.008Z"
   },
   {
    "duration": 18,
    "start_time": "2021-08-16T08:53:07.500Z"
   },
   {
    "duration": 324,
    "start_time": "2021-08-16T08:53:56.184Z"
   },
   {
    "duration": 408,
    "start_time": "2021-08-16T08:54:47.283Z"
   },
   {
    "duration": 401,
    "start_time": "2021-08-16T08:54:55.378Z"
   },
   {
    "duration": 20,
    "start_time": "2021-08-16T08:57:11.656Z"
   },
   {
    "duration": 1144,
    "start_time": "2021-08-16T08:57:17.095Z"
   },
   {
    "duration": 55,
    "start_time": "2021-08-16T08:57:18.241Z"
   },
   {
    "duration": 11,
    "start_time": "2021-08-16T08:57:18.299Z"
   },
   {
    "duration": 10,
    "start_time": "2021-08-16T08:57:18.312Z"
   },
   {
    "duration": 17,
    "start_time": "2021-08-16T08:57:18.324Z"
   },
   {
    "duration": 6,
    "start_time": "2021-08-16T08:57:18.343Z"
   },
   {
    "duration": 17,
    "start_time": "2021-08-16T08:57:18.351Z"
   },
   {
    "duration": 19,
    "start_time": "2021-08-16T08:57:18.394Z"
   },
   {
    "duration": 26,
    "start_time": "2021-08-16T08:57:18.415Z"
   },
   {
    "duration": 10,
    "start_time": "2021-08-16T08:57:18.444Z"
   },
   {
    "duration": 38,
    "start_time": "2021-08-16T08:57:18.456Z"
   },
   {
    "duration": 17,
    "start_time": "2021-08-16T08:57:18.496Z"
   },
   {
    "duration": 17,
    "start_time": "2021-08-16T08:57:18.515Z"
   },
   {
    "duration": 9,
    "start_time": "2021-08-16T08:57:18.534Z"
   },
   {
    "duration": 9,
    "start_time": "2021-08-16T08:57:18.545Z"
   },
   {
    "duration": 45,
    "start_time": "2021-08-16T08:57:18.556Z"
   },
   {
    "duration": 5,
    "start_time": "2021-08-16T08:57:18.603Z"
   },
   {
    "duration": 13,
    "start_time": "2021-08-16T08:57:18.610Z"
   },
   {
    "duration": 20,
    "start_time": "2021-08-16T08:57:18.625Z"
   },
   {
    "duration": 12,
    "start_time": "2021-08-16T08:57:18.647Z"
   },
   {
    "duration": 387,
    "start_time": "2021-08-16T08:57:18.661Z"
   },
   {
    "duration": 16,
    "start_time": "2021-08-16T08:57:19.050Z"
   },
   {
    "duration": 39,
    "start_time": "2021-08-16T08:57:19.069Z"
   },
   {
    "duration": 20,
    "start_time": "2021-08-16T08:57:19.110Z"
   },
   {
    "duration": 754,
    "start_time": "2021-08-16T08:57:19.132Z"
   },
   {
    "duration": 480,
    "start_time": "2021-08-16T08:57:19.891Z"
   },
   {
    "duration": 26,
    "start_time": "2021-08-16T08:57:20.373Z"
   },
   {
    "duration": 19,
    "start_time": "2021-08-16T08:57:51.034Z"
   },
   {
    "duration": 362,
    "start_time": "2021-08-16T08:59:50.606Z"
   },
   {
    "duration": 492,
    "start_time": "2021-08-16T09:00:09.146Z"
   },
   {
    "duration": 95,
    "start_time": "2021-08-16T09:00:39.571Z"
   },
   {
    "duration": 90,
    "start_time": "2021-08-16T09:01:24.097Z"
   },
   {
    "duration": 369,
    "start_time": "2021-08-16T09:01:33.830Z"
   },
   {
    "duration": 492,
    "start_time": "2021-08-16T09:04:53.381Z"
   },
   {
    "duration": 1073,
    "start_time": "2021-08-16T09:17:39.455Z"
   },
   {
    "duration": 52,
    "start_time": "2021-08-16T09:17:40.529Z"
   },
   {
    "duration": 14,
    "start_time": "2021-08-16T09:17:40.584Z"
   },
   {
    "duration": 26,
    "start_time": "2021-08-16T09:17:40.599Z"
   },
   {
    "duration": 32,
    "start_time": "2021-08-16T09:17:40.626Z"
   },
   {
    "duration": 25,
    "start_time": "2021-08-16T09:17:40.659Z"
   },
   {
    "duration": 29,
    "start_time": "2021-08-16T09:17:40.687Z"
   },
   {
    "duration": 17,
    "start_time": "2021-08-16T09:17:40.717Z"
   },
   {
    "duration": 36,
    "start_time": "2021-08-16T09:17:40.735Z"
   },
   {
    "duration": 9,
    "start_time": "2021-08-16T09:17:40.772Z"
   },
   {
    "duration": 12,
    "start_time": "2021-08-16T09:17:40.782Z"
   },
   {
    "duration": 34,
    "start_time": "2021-08-16T09:17:40.795Z"
   },
   {
    "duration": 14,
    "start_time": "2021-08-16T09:17:40.831Z"
   },
   {
    "duration": 23,
    "start_time": "2021-08-16T09:17:40.846Z"
   },
   {
    "duration": 24,
    "start_time": "2021-08-16T09:17:40.871Z"
   },
   {
    "duration": 23,
    "start_time": "2021-08-16T09:17:40.896Z"
   },
   {
    "duration": 27,
    "start_time": "2021-08-16T09:17:40.920Z"
   },
   {
    "duration": 21,
    "start_time": "2021-08-16T09:17:40.948Z"
   },
   {
    "duration": 38,
    "start_time": "2021-08-16T09:17:40.970Z"
   },
   {
    "duration": 10,
    "start_time": "2021-08-16T09:17:41.009Z"
   },
   {
    "duration": 370,
    "start_time": "2021-08-16T09:17:41.021Z"
   },
   {
    "duration": 16,
    "start_time": "2021-08-16T09:17:41.394Z"
   },
   {
    "duration": 50,
    "start_time": "2021-08-16T09:17:41.412Z"
   },
   {
    "duration": 17,
    "start_time": "2021-08-16T09:17:41.464Z"
   },
   {
    "duration": 647,
    "start_time": "2021-08-16T09:17:41.483Z"
   },
   {
    "duration": 480,
    "start_time": "2021-08-16T09:17:42.131Z"
   },
   {
    "duration": 17,
    "start_time": "2021-08-16T09:17:42.613Z"
   },
   {
    "duration": 394,
    "start_time": "2021-08-16T09:17:42.632Z"
   },
   {
    "duration": 7114,
    "start_time": "2021-08-16T09:17:43.028Z"
   },
   {
    "duration": 651,
    "start_time": "2021-08-16T09:18:18.064Z"
   },
   {
    "duration": 864,
    "start_time": "2021-08-16T09:18:38.406Z"
   },
   {
    "duration": 20,
    "start_time": "2021-08-16T09:31:05.444Z"
   },
   {
    "duration": 787,
    "start_time": "2021-08-16T09:31:10.268Z"
   },
   {
    "duration": 6469,
    "start_time": "2021-08-16T09:34:06.578Z"
   },
   {
    "duration": 1099,
    "start_time": "2021-08-16T09:34:29.656Z"
   },
   {
    "duration": 64,
    "start_time": "2021-08-16T09:34:30.757Z"
   },
   {
    "duration": 9,
    "start_time": "2021-08-16T09:34:30.823Z"
   },
   {
    "duration": 29,
    "start_time": "2021-08-16T09:34:30.834Z"
   },
   {
    "duration": 45,
    "start_time": "2021-08-16T09:34:30.864Z"
   },
   {
    "duration": 25,
    "start_time": "2021-08-16T09:34:30.912Z"
   },
   {
    "duration": 26,
    "start_time": "2021-08-16T09:34:30.939Z"
   },
   {
    "duration": 44,
    "start_time": "2021-08-16T09:34:30.967Z"
   },
   {
    "duration": 53,
    "start_time": "2021-08-16T09:34:31.015Z"
   },
   {
    "duration": 10,
    "start_time": "2021-08-16T09:34:31.069Z"
   },
   {
    "duration": 21,
    "start_time": "2021-08-16T09:34:31.080Z"
   },
   {
    "duration": 36,
    "start_time": "2021-08-16T09:34:31.103Z"
   },
   {
    "duration": 14,
    "start_time": "2021-08-16T09:34:31.140Z"
   },
   {
    "duration": 10,
    "start_time": "2021-08-16T09:34:31.156Z"
   },
   {
    "duration": 32,
    "start_time": "2021-08-16T09:34:31.167Z"
   },
   {
    "duration": 26,
    "start_time": "2021-08-16T09:34:31.201Z"
   },
   {
    "duration": 19,
    "start_time": "2021-08-16T09:34:31.229Z"
   },
   {
    "duration": 15,
    "start_time": "2021-08-16T09:34:31.250Z"
   },
   {
    "duration": 25,
    "start_time": "2021-08-16T09:34:31.267Z"
   },
   {
    "duration": 13,
    "start_time": "2021-08-16T09:34:31.294Z"
   },
   {
    "duration": 396,
    "start_time": "2021-08-16T09:34:31.309Z"
   },
   {
    "duration": 19,
    "start_time": "2021-08-16T09:34:31.707Z"
   },
   {
    "duration": 24,
    "start_time": "2021-08-16T09:34:31.728Z"
   },
   {
    "duration": 42,
    "start_time": "2021-08-16T09:34:31.753Z"
   },
   {
    "duration": 672,
    "start_time": "2021-08-16T09:34:31.798Z"
   },
   {
    "duration": 507,
    "start_time": "2021-08-16T09:34:32.472Z"
   },
   {
    "duration": 30,
    "start_time": "2021-08-16T09:34:32.982Z"
   },
   {
    "duration": 7394,
    "start_time": "2021-08-16T09:34:33.013Z"
   },
   {
    "duration": 60,
    "start_time": "2021-08-16T09:34:40.350Z"
   },
   {
    "duration": 17,
    "start_time": "2021-08-16T09:34:55.638Z"
   },
   {
    "duration": 20,
    "start_time": "2021-08-16T09:35:09.232Z"
   },
   {
    "duration": 560,
    "start_time": "2021-08-16T09:35:27.060Z"
   },
   {
    "duration": 21,
    "start_time": "2021-08-16T09:43:56.509Z"
   },
   {
    "duration": 586,
    "start_time": "2021-08-16T09:44:19.201Z"
   },
   {
    "duration": 460,
    "start_time": "2021-08-16T09:44:38.500Z"
   },
   {
    "duration": 20,
    "start_time": "2021-08-16T09:45:29.801Z"
   },
   {
    "duration": 1074,
    "start_time": "2021-08-16T09:45:36.526Z"
   },
   {
    "duration": 51,
    "start_time": "2021-08-16T09:45:37.603Z"
   },
   {
    "duration": 9,
    "start_time": "2021-08-16T09:45:37.656Z"
   },
   {
    "duration": 8,
    "start_time": "2021-08-16T09:45:37.666Z"
   },
   {
    "duration": 22,
    "start_time": "2021-08-16T09:45:37.675Z"
   },
   {
    "duration": 5,
    "start_time": "2021-08-16T09:45:37.699Z"
   },
   {
    "duration": 13,
    "start_time": "2021-08-16T09:45:37.706Z"
   },
   {
    "duration": 17,
    "start_time": "2021-08-16T09:45:37.721Z"
   },
   {
    "duration": 23,
    "start_time": "2021-08-16T09:45:37.740Z"
   },
   {
    "duration": 36,
    "start_time": "2021-08-16T09:45:37.765Z"
   },
   {
    "duration": 6,
    "start_time": "2021-08-16T09:45:37.803Z"
   },
   {
    "duration": 17,
    "start_time": "2021-08-16T09:45:37.810Z"
   },
   {
    "duration": 16,
    "start_time": "2021-08-16T09:45:37.829Z"
   },
   {
    "duration": 7,
    "start_time": "2021-08-16T09:45:37.847Z"
   },
   {
    "duration": 38,
    "start_time": "2021-08-16T09:45:37.856Z"
   },
   {
    "duration": 13,
    "start_time": "2021-08-16T09:45:37.896Z"
   },
   {
    "duration": 9,
    "start_time": "2021-08-16T09:45:37.911Z"
   },
   {
    "duration": 14,
    "start_time": "2021-08-16T09:45:37.922Z"
   },
   {
    "duration": 20,
    "start_time": "2021-08-16T09:45:37.937Z"
   },
   {
    "duration": 10,
    "start_time": "2021-08-16T09:45:37.959Z"
   },
   {
    "duration": 388,
    "start_time": "2021-08-16T09:45:37.971Z"
   },
   {
    "duration": 13,
    "start_time": "2021-08-16T09:45:38.361Z"
   },
   {
    "duration": 32,
    "start_time": "2021-08-16T09:45:38.377Z"
   },
   {
    "duration": 17,
    "start_time": "2021-08-16T09:45:38.410Z"
   },
   {
    "duration": 645,
    "start_time": "2021-08-16T09:45:38.428Z"
   },
   {
    "duration": 474,
    "start_time": "2021-08-16T09:45:39.074Z"
   },
   {
    "duration": 18,
    "start_time": "2021-08-16T09:45:39.550Z"
   },
   {
    "duration": 36,
    "start_time": "2021-08-16T09:45:39.569Z"
   },
   {
    "duration": 493,
    "start_time": "2021-08-16T09:45:39.607Z"
   },
   {
    "duration": 19,
    "start_time": "2021-08-16T09:45:40.102Z"
   },
   {
    "duration": 567,
    "start_time": "2021-08-16T09:45:40.122Z"
   },
   {
    "duration": 22,
    "start_time": "2021-08-16T09:46:09.755Z"
   },
   {
    "duration": 19,
    "start_time": "2021-08-16T09:46:19.274Z"
   },
   {
    "duration": 1179,
    "start_time": "2021-08-16T09:46:24.964Z"
   },
   {
    "duration": 57,
    "start_time": "2021-08-16T09:46:26.145Z"
   },
   {
    "duration": 12,
    "start_time": "2021-08-16T09:46:26.204Z"
   },
   {
    "duration": 8,
    "start_time": "2021-08-16T09:46:26.218Z"
   },
   {
    "duration": 21,
    "start_time": "2021-08-16T09:46:26.228Z"
   },
   {
    "duration": 4,
    "start_time": "2021-08-16T09:46:26.250Z"
   },
   {
    "duration": 18,
    "start_time": "2021-08-16T09:46:26.255Z"
   },
   {
    "duration": 37,
    "start_time": "2021-08-16T09:46:26.275Z"
   },
   {
    "duration": 30,
    "start_time": "2021-08-16T09:46:26.315Z"
   },
   {
    "duration": 9,
    "start_time": "2021-08-16T09:46:26.347Z"
   },
   {
    "duration": 5,
    "start_time": "2021-08-16T09:46:26.357Z"
   },
   {
    "duration": 47,
    "start_time": "2021-08-16T09:46:26.364Z"
   },
   {
    "duration": 16,
    "start_time": "2021-08-16T09:46:26.414Z"
   },
   {
    "duration": 7,
    "start_time": "2021-08-16T09:46:26.432Z"
   },
   {
    "duration": 12,
    "start_time": "2021-08-16T09:46:26.441Z"
   },
   {
    "duration": 12,
    "start_time": "2021-08-16T09:46:26.455Z"
   },
   {
    "duration": 23,
    "start_time": "2021-08-16T09:46:26.468Z"
   },
   {
    "duration": 13,
    "start_time": "2021-08-16T09:46:26.493Z"
   },
   {
    "duration": 34,
    "start_time": "2021-08-16T09:46:26.508Z"
   },
   {
    "duration": 11,
    "start_time": "2021-08-16T09:46:26.543Z"
   },
   {
    "duration": 387,
    "start_time": "2021-08-16T09:46:26.555Z"
   },
   {
    "duration": 14,
    "start_time": "2021-08-16T09:46:26.943Z"
   },
   {
    "duration": 36,
    "start_time": "2021-08-16T09:46:26.959Z"
   },
   {
    "duration": 21,
    "start_time": "2021-08-16T09:46:26.998Z"
   },
   {
    "duration": 649,
    "start_time": "2021-08-16T09:46:27.020Z"
   },
   {
    "duration": 481,
    "start_time": "2021-08-16T09:46:27.670Z"
   },
   {
    "duration": 18,
    "start_time": "2021-08-16T09:46:28.152Z"
   },
   {
    "duration": 33,
    "start_time": "2021-08-16T09:46:28.171Z"
   },
   {
    "duration": 591,
    "start_time": "2021-08-16T09:46:28.205Z"
   },
   {
    "duration": 18,
    "start_time": "2021-08-16T09:46:28.798Z"
   },
   {
    "duration": 569,
    "start_time": "2021-08-16T09:46:28.817Z"
   },
   {
    "duration": 16,
    "start_time": "2021-08-16T09:51:53.431Z"
   },
   {
    "duration": 517,
    "start_time": "2021-08-16T09:52:13.181Z"
   },
   {
    "duration": 386,
    "start_time": "2021-08-16T10:02:35.712Z"
   },
   {
    "duration": 929,
    "start_time": "2021-08-16T10:02:51.944Z"
   },
   {
    "duration": 1215,
    "start_time": "2021-08-16T10:02:59.367Z"
   },
   {
    "duration": 60,
    "start_time": "2021-08-16T10:03:00.584Z"
   },
   {
    "duration": 8,
    "start_time": "2021-08-16T10:03:00.646Z"
   },
   {
    "duration": 14,
    "start_time": "2021-08-16T10:03:00.656Z"
   },
   {
    "duration": 19,
    "start_time": "2021-08-16T10:03:00.671Z"
   },
   {
    "duration": 13,
    "start_time": "2021-08-16T10:03:00.692Z"
   },
   {
    "duration": 27,
    "start_time": "2021-08-16T10:03:00.708Z"
   },
   {
    "duration": 33,
    "start_time": "2021-08-16T10:03:00.738Z"
   },
   {
    "duration": 27,
    "start_time": "2021-08-16T10:03:00.773Z"
   },
   {
    "duration": 15,
    "start_time": "2021-08-16T10:03:00.802Z"
   },
   {
    "duration": 25,
    "start_time": "2021-08-16T10:03:00.819Z"
   },
   {
    "duration": 34,
    "start_time": "2021-08-16T10:03:00.846Z"
   },
   {
    "duration": 33,
    "start_time": "2021-08-16T10:03:00.881Z"
   },
   {
    "duration": 12,
    "start_time": "2021-08-16T10:03:00.917Z"
   },
   {
    "duration": 17,
    "start_time": "2021-08-16T10:03:00.930Z"
   },
   {
    "duration": 28,
    "start_time": "2021-08-16T10:03:00.949Z"
   },
   {
    "duration": 16,
    "start_time": "2021-08-16T10:03:00.978Z"
   },
   {
    "duration": 31,
    "start_time": "2021-08-16T10:03:00.997Z"
   },
   {
    "duration": 27,
    "start_time": "2021-08-16T10:03:01.030Z"
   },
   {
    "duration": 17,
    "start_time": "2021-08-16T10:03:01.058Z"
   },
   {
    "duration": 427,
    "start_time": "2021-08-16T10:03:01.076Z"
   },
   {
    "duration": 18,
    "start_time": "2021-08-16T10:03:01.505Z"
   },
   {
    "duration": 28,
    "start_time": "2021-08-16T10:03:01.527Z"
   },
   {
    "duration": 17,
    "start_time": "2021-08-16T10:03:01.557Z"
   },
   {
    "duration": 715,
    "start_time": "2021-08-16T10:03:01.594Z"
   },
   {
    "duration": 515,
    "start_time": "2021-08-16T10:03:02.310Z"
   },
   {
    "duration": 13,
    "start_time": "2021-08-16T10:03:02.827Z"
   },
   {
    "duration": 16,
    "start_time": "2021-08-16T10:03:02.842Z"
   },
   {
    "duration": 579,
    "start_time": "2021-08-16T10:03:02.859Z"
   },
   {
    "duration": 16,
    "start_time": "2021-08-16T10:03:03.440Z"
   },
   {
    "duration": 651,
    "start_time": "2021-08-16T10:03:03.457Z"
   },
   {
    "duration": 26,
    "start_time": "2021-08-16T10:03:04.110Z"
   },
   {
    "duration": 601,
    "start_time": "2021-08-16T10:03:04.137Z"
   },
   {
    "duration": 1027,
    "start_time": "2021-08-16T10:03:04.740Z"
   },
   {
    "duration": 1164,
    "start_time": "2021-08-16T10:03:37.780Z"
   },
   {
    "duration": 54,
    "start_time": "2021-08-16T10:03:38.945Z"
   },
   {
    "duration": 14,
    "start_time": "2021-08-16T10:03:39.002Z"
   },
   {
    "duration": 8,
    "start_time": "2021-08-16T10:03:39.018Z"
   },
   {
    "duration": 16,
    "start_time": "2021-08-16T10:03:39.028Z"
   },
   {
    "duration": 9,
    "start_time": "2021-08-16T10:03:39.046Z"
   },
   {
    "duration": 15,
    "start_time": "2021-08-16T10:03:39.056Z"
   },
   {
    "duration": 39,
    "start_time": "2021-08-16T10:03:39.073Z"
   },
   {
    "duration": 25,
    "start_time": "2021-08-16T10:03:39.115Z"
   },
   {
    "duration": 9,
    "start_time": "2021-08-16T10:03:39.142Z"
   },
   {
    "duration": 10,
    "start_time": "2021-08-16T10:03:39.152Z"
   },
   {
    "duration": 43,
    "start_time": "2021-08-16T10:03:39.163Z"
   },
   {
    "duration": 16,
    "start_time": "2021-08-16T10:03:39.208Z"
   },
   {
    "duration": 8,
    "start_time": "2021-08-16T10:03:39.226Z"
   },
   {
    "duration": 9,
    "start_time": "2021-08-16T10:03:39.236Z"
   },
   {
    "duration": 11,
    "start_time": "2021-08-16T10:03:39.247Z"
   },
   {
    "duration": 33,
    "start_time": "2021-08-16T10:03:39.260Z"
   },
   {
    "duration": 14,
    "start_time": "2021-08-16T10:03:39.295Z"
   },
   {
    "duration": 26,
    "start_time": "2021-08-16T10:03:39.311Z"
   },
   {
    "duration": 11,
    "start_time": "2021-08-16T10:03:39.338Z"
   },
   {
    "duration": 388,
    "start_time": "2021-08-16T10:03:39.350Z"
   },
   {
    "duration": 13,
    "start_time": "2021-08-16T10:03:39.739Z"
   },
   {
    "duration": 19,
    "start_time": "2021-08-16T10:03:39.755Z"
   },
   {
    "duration": 36,
    "start_time": "2021-08-16T10:03:39.776Z"
   },
   {
    "duration": 709,
    "start_time": "2021-08-16T10:03:39.813Z"
   },
   {
    "duration": 487,
    "start_time": "2021-08-16T10:03:40.524Z"
   },
   {
    "duration": 13,
    "start_time": "2021-08-16T10:03:41.012Z"
   },
   {
    "duration": 16,
    "start_time": "2021-08-16T10:03:41.027Z"
   },
   {
    "duration": 589,
    "start_time": "2021-08-16T10:03:41.044Z"
   },
   {
    "duration": 15,
    "start_time": "2021-08-16T10:03:41.634Z"
   },
   {
    "duration": 633,
    "start_time": "2021-08-16T10:03:41.650Z"
   },
   {
    "duration": 23,
    "start_time": "2021-08-16T10:03:42.284Z"
   },
   {
    "duration": 496,
    "start_time": "2021-08-16T10:03:42.309Z"
   },
   {
    "duration": 15,
    "start_time": "2021-08-16T10:03:42.807Z"
   },
   {
    "duration": 482,
    "start_time": "2021-08-16T10:04:09.822Z"
   },
   {
    "duration": 535,
    "start_time": "2021-08-16T10:07:12.361Z"
   },
   {
    "duration": 1041,
    "start_time": "2021-08-16T10:08:48.623Z"
   },
   {
    "duration": 59,
    "start_time": "2021-08-16T10:08:49.666Z"
   },
   {
    "duration": 9,
    "start_time": "2021-08-16T10:08:49.727Z"
   },
   {
    "duration": 8,
    "start_time": "2021-08-16T10:08:49.737Z"
   },
   {
    "duration": 15,
    "start_time": "2021-08-16T10:08:49.746Z"
   },
   {
    "duration": 3,
    "start_time": "2021-08-16T10:08:49.763Z"
   },
   {
    "duration": 38,
    "start_time": "2021-08-16T10:08:49.768Z"
   },
   {
    "duration": 16,
    "start_time": "2021-08-16T10:08:49.808Z"
   },
   {
    "duration": 22,
    "start_time": "2021-08-16T10:08:49.827Z"
   },
   {
    "duration": 9,
    "start_time": "2021-08-16T10:08:49.851Z"
   },
   {
    "duration": 4,
    "start_time": "2021-08-16T10:08:49.861Z"
   },
   {
    "duration": 45,
    "start_time": "2021-08-16T10:08:49.867Z"
   },
   {
    "duration": 15,
    "start_time": "2021-08-16T10:08:49.914Z"
   },
   {
    "duration": 7,
    "start_time": "2021-08-16T10:08:49.930Z"
   },
   {
    "duration": 8,
    "start_time": "2021-08-16T10:08:49.939Z"
   },
   {
    "duration": 13,
    "start_time": "2021-08-16T10:08:49.948Z"
   },
   {
    "duration": 29,
    "start_time": "2021-08-16T10:08:49.962Z"
   },
   {
    "duration": 20,
    "start_time": "2021-08-16T10:08:49.992Z"
   },
   {
    "duration": 22,
    "start_time": "2021-08-16T10:08:50.014Z"
   },
   {
    "duration": 11,
    "start_time": "2021-08-16T10:08:50.037Z"
   },
   {
    "duration": 391,
    "start_time": "2021-08-16T10:08:50.050Z"
   },
   {
    "duration": 14,
    "start_time": "2021-08-16T10:08:50.443Z"
   },
   {
    "duration": 34,
    "start_time": "2021-08-16T10:08:50.458Z"
   },
   {
    "duration": 24,
    "start_time": "2021-08-16T10:08:50.494Z"
   },
   {
    "duration": 672,
    "start_time": "2021-08-16T10:08:50.520Z"
   },
   {
    "duration": 481,
    "start_time": "2021-08-16T10:08:51.194Z"
   },
   {
    "duration": 19,
    "start_time": "2021-08-16T10:08:51.678Z"
   },
   {
    "duration": 23,
    "start_time": "2021-08-16T10:08:51.699Z"
   },
   {
    "duration": 570,
    "start_time": "2021-08-16T10:08:51.724Z"
   },
   {
    "duration": 574,
    "start_time": "2021-08-16T10:08:52.296Z"
   },
   {
    "duration": 502,
    "start_time": "2021-08-16T10:08:52.872Z"
   },
   {
    "duration": 513,
    "start_time": "2021-08-16T10:08:53.375Z"
   },
   {
    "duration": 1105,
    "start_time": "2021-08-17T07:41:51.912Z"
   },
   {
    "duration": 51,
    "start_time": "2021-08-17T07:41:53.019Z"
   },
   {
    "duration": 11,
    "start_time": "2021-08-17T07:41:53.072Z"
   },
   {
    "duration": 9,
    "start_time": "2021-08-17T07:41:53.085Z"
   },
   {
    "duration": 16,
    "start_time": "2021-08-17T07:41:53.096Z"
   },
   {
    "duration": 6,
    "start_time": "2021-08-17T07:41:53.141Z"
   },
   {
    "duration": 20,
    "start_time": "2021-08-17T07:41:53.148Z"
   },
   {
    "duration": 18,
    "start_time": "2021-08-17T07:41:53.171Z"
   },
   {
    "duration": 30,
    "start_time": "2021-08-17T07:41:53.191Z"
   },
   {
    "duration": 25,
    "start_time": "2021-08-17T07:41:53.223Z"
   },
   {
    "duration": 5,
    "start_time": "2021-08-17T07:41:53.250Z"
   },
   {
    "duration": 26,
    "start_time": "2021-08-17T07:41:53.256Z"
   },
   {
    "duration": 17,
    "start_time": "2021-08-17T07:41:53.283Z"
   },
   {
    "duration": 9,
    "start_time": "2021-08-17T07:41:53.301Z"
   },
   {
    "duration": 34,
    "start_time": "2021-08-17T07:41:53.311Z"
   },
   {
    "duration": 11,
    "start_time": "2021-08-17T07:41:53.348Z"
   },
   {
    "duration": 5,
    "start_time": "2021-08-17T07:41:53.361Z"
   },
   {
    "duration": 13,
    "start_time": "2021-08-17T07:41:53.367Z"
   },
   {
    "duration": 22,
    "start_time": "2021-08-17T07:41:53.382Z"
   },
   {
    "duration": 42,
    "start_time": "2021-08-17T07:41:53.405Z"
   },
   {
    "duration": 367,
    "start_time": "2021-08-17T07:41:53.449Z"
   },
   {
    "duration": 24,
    "start_time": "2021-08-17T07:41:53.818Z"
   },
   {
    "duration": 19,
    "start_time": "2021-08-17T07:41:53.845Z"
   },
   {
    "duration": 16,
    "start_time": "2021-08-17T07:41:53.866Z"
   },
   {
    "duration": 655,
    "start_time": "2021-08-17T07:41:53.884Z"
   },
   {
    "duration": 467,
    "start_time": "2021-08-17T07:41:54.540Z"
   },
   {
    "duration": 13,
    "start_time": "2021-08-17T07:41:55.009Z"
   },
   {
    "duration": 27,
    "start_time": "2021-08-17T07:41:55.024Z"
   },
   {
    "duration": 503,
    "start_time": "2021-08-17T07:41:55.052Z"
   },
   {
    "duration": 567,
    "start_time": "2021-08-17T07:41:55.557Z"
   },
   {
    "duration": 502,
    "start_time": "2021-08-17T07:41:56.126Z"
   },
   {
    "duration": 512,
    "start_time": "2021-08-17T07:41:56.630Z"
   },
   {
    "duration": 498,
    "start_time": "2021-08-17T07:51:57.808Z"
   },
   {
    "duration": 479,
    "start_time": "2021-08-17T07:53:04.173Z"
   },
   {
    "duration": 462,
    "start_time": "2021-08-17T07:53:47.044Z"
   },
   {
    "duration": 17,
    "start_time": "2021-08-17T07:55:28.617Z"
   },
   {
    "duration": 27,
    "start_time": "2021-08-17T07:57:30.932Z"
   },
   {
    "duration": 15,
    "start_time": "2021-08-17T07:57:36.573Z"
   },
   {
    "duration": 17,
    "start_time": "2021-08-17T07:59:24.558Z"
   },
   {
    "duration": 104,
    "start_time": "2021-08-17T07:59:41.471Z"
   },
   {
    "duration": 15,
    "start_time": "2021-08-17T07:59:47.270Z"
   },
   {
    "duration": 221,
    "start_time": "2021-08-17T08:01:16.932Z"
   },
   {
    "duration": 381,
    "start_time": "2021-08-17T08:02:28.092Z"
   },
   {
    "duration": 4,
    "start_time": "2021-08-17T08:02:37.929Z"
   },
   {
    "duration": 322,
    "start_time": "2021-08-17T08:02:43.032Z"
   },
   {
    "duration": 1087,
    "start_time": "2021-08-17T08:02:56.300Z"
   },
   {
    "duration": 54,
    "start_time": "2021-08-17T08:02:57.388Z"
   },
   {
    "duration": 9,
    "start_time": "2021-08-17T08:02:57.445Z"
   },
   {
    "duration": 16,
    "start_time": "2021-08-17T08:02:57.456Z"
   },
   {
    "duration": 28,
    "start_time": "2021-08-17T08:02:57.473Z"
   },
   {
    "duration": 111,
    "start_time": "2021-08-17T08:02:57.502Z"
   },
   {
    "duration": 23,
    "start_time": "2021-08-17T08:02:57.614Z"
   },
   {
    "duration": 29,
    "start_time": "2021-08-17T08:02:57.640Z"
   },
   {
    "duration": 23,
    "start_time": "2021-08-17T08:02:57.671Z"
   },
   {
    "duration": 10,
    "start_time": "2021-08-17T08:02:57.695Z"
   },
   {
    "duration": 16,
    "start_time": "2021-08-17T08:02:57.706Z"
   },
   {
    "duration": 18,
    "start_time": "2021-08-17T08:02:57.723Z"
   },
   {
    "duration": 17,
    "start_time": "2021-08-17T08:02:57.743Z"
   },
   {
    "duration": 22,
    "start_time": "2021-08-17T08:02:57.761Z"
   },
   {
    "duration": 21,
    "start_time": "2021-08-17T08:02:57.785Z"
   },
   {
    "duration": 11,
    "start_time": "2021-08-17T08:02:57.807Z"
   },
   {
    "duration": 20,
    "start_time": "2021-08-17T08:02:57.819Z"
   },
   {
    "duration": 27,
    "start_time": "2021-08-17T08:02:57.840Z"
   },
   {
    "duration": 28,
    "start_time": "2021-08-17T08:02:57.869Z"
   },
   {
    "duration": 25,
    "start_time": "2021-08-17T08:02:57.899Z"
   },
   {
    "duration": 370,
    "start_time": "2021-08-17T08:02:57.925Z"
   },
   {
    "duration": 15,
    "start_time": "2021-08-17T08:02:58.297Z"
   },
   {
    "duration": 36,
    "start_time": "2021-08-17T08:02:58.316Z"
   },
   {
    "duration": 19,
    "start_time": "2021-08-17T08:02:58.355Z"
   },
   {
    "duration": 683,
    "start_time": "2021-08-17T08:02:58.376Z"
   },
   {
    "duration": 572,
    "start_time": "2021-08-17T08:02:59.060Z"
   },
   {
    "duration": 18,
    "start_time": "2021-08-17T08:02:59.633Z"
   },
   {
    "duration": 23,
    "start_time": "2021-08-17T08:02:59.652Z"
   },
   {
    "duration": 573,
    "start_time": "2021-08-17T08:02:59.677Z"
   },
   {
    "duration": 566,
    "start_time": "2021-08-17T08:03:00.252Z"
   },
   {
    "duration": 515,
    "start_time": "2021-08-17T08:03:00.820Z"
   },
   {
    "duration": 500,
    "start_time": "2021-08-17T08:03:01.340Z"
   },
   {
    "duration": 477,
    "start_time": "2021-08-17T08:03:01.842Z"
   },
   {
    "duration": 507,
    "start_time": "2021-08-17T08:03:02.321Z"
   },
   {
    "duration": 508,
    "start_time": "2021-08-17T08:03:02.830Z"
   },
   {
    "duration": 18,
    "start_time": "2021-08-17T08:03:03.340Z"
   },
   {
    "duration": 15,
    "start_time": "2021-08-17T08:03:03.360Z"
   },
   {
    "duration": 254,
    "start_time": "2021-08-17T08:03:03.377Z"
   },
   {
    "duration": 6,
    "start_time": "2021-08-17T08:10:28.101Z"
   },
   {
    "duration": 80,
    "start_time": "2021-08-17T08:11:26.668Z"
   },
   {
    "duration": 5,
    "start_time": "2021-08-17T08:11:41.861Z"
   },
   {
    "duration": 5,
    "start_time": "2021-08-17T08:12:05.775Z"
   },
   {
    "duration": 5,
    "start_time": "2021-08-17T08:12:34.657Z"
   },
   {
    "duration": 5,
    "start_time": "2021-08-17T08:13:06.120Z"
   },
   {
    "duration": 5,
    "start_time": "2021-08-17T08:13:37.710Z"
   },
   {
    "duration": 5,
    "start_time": "2021-08-17T08:18:15.072Z"
   },
   {
    "duration": 4,
    "start_time": "2021-08-17T08:18:48.222Z"
   },
   {
    "duration": 6,
    "start_time": "2021-08-17T08:19:16.434Z"
   },
   {
    "duration": 1422,
    "start_time": "2021-08-17T08:21:22.280Z"
   },
   {
    "duration": 69,
    "start_time": "2021-08-17T08:21:23.704Z"
   },
   {
    "duration": 13,
    "start_time": "2021-08-17T08:21:23.776Z"
   },
   {
    "duration": 14,
    "start_time": "2021-08-17T08:21:23.792Z"
   },
   {
    "duration": 33,
    "start_time": "2021-08-17T08:21:23.807Z"
   },
   {
    "duration": 18,
    "start_time": "2021-08-17T08:21:23.842Z"
   },
   {
    "duration": 23,
    "start_time": "2021-08-17T08:21:23.862Z"
   },
   {
    "duration": 30,
    "start_time": "2021-08-17T08:21:23.889Z"
   },
   {
    "duration": 38,
    "start_time": "2021-08-17T08:21:23.921Z"
   },
   {
    "duration": 9,
    "start_time": "2021-08-17T08:21:23.960Z"
   },
   {
    "duration": 11,
    "start_time": "2021-08-17T08:21:23.970Z"
   },
   {
    "duration": 22,
    "start_time": "2021-08-17T08:21:23.982Z"
   },
   {
    "duration": 15,
    "start_time": "2021-08-17T08:21:24.006Z"
   },
   {
    "duration": 20,
    "start_time": "2021-08-17T08:21:24.023Z"
   },
   {
    "duration": 18,
    "start_time": "2021-08-17T08:21:24.045Z"
   },
   {
    "duration": 17,
    "start_time": "2021-08-17T08:21:24.065Z"
   },
   {
    "duration": 11,
    "start_time": "2021-08-17T08:21:24.083Z"
   },
   {
    "duration": 18,
    "start_time": "2021-08-17T08:21:24.096Z"
   },
   {
    "duration": 34,
    "start_time": "2021-08-17T08:21:24.115Z"
   },
   {
    "duration": 11,
    "start_time": "2021-08-17T08:21:24.151Z"
   },
   {
    "duration": 380,
    "start_time": "2021-08-17T08:21:24.164Z"
   },
   {
    "duration": 16,
    "start_time": "2021-08-17T08:21:24.545Z"
   },
   {
    "duration": 21,
    "start_time": "2021-08-17T08:21:24.565Z"
   },
   {
    "duration": 19,
    "start_time": "2021-08-17T08:21:24.588Z"
   },
   {
    "duration": 686,
    "start_time": "2021-08-17T08:21:24.609Z"
   },
   {
    "duration": 496,
    "start_time": "2021-08-17T08:21:25.297Z"
   },
   {
    "duration": 14,
    "start_time": "2021-08-17T08:21:25.795Z"
   },
   {
    "duration": 42,
    "start_time": "2021-08-17T08:21:25.811Z"
   },
   {
    "duration": 503,
    "start_time": "2021-08-17T08:21:25.854Z"
   },
   {
    "duration": 6,
    "start_time": "2021-08-17T08:21:26.359Z"
   },
   {
    "duration": 558,
    "start_time": "2021-08-17T08:21:26.366Z"
   },
   {
    "duration": 5,
    "start_time": "2021-08-17T08:21:26.926Z"
   },
   {
    "duration": 486,
    "start_time": "2021-08-17T08:21:26.941Z"
   },
   {
    "duration": 12,
    "start_time": "2021-08-17T08:21:27.429Z"
   },
   {
    "duration": 502,
    "start_time": "2021-08-17T08:21:27.442Z"
   },
   {
    "duration": 5,
    "start_time": "2021-08-17T08:21:27.946Z"
   },
   {
    "duration": 479,
    "start_time": "2021-08-17T08:21:27.953Z"
   },
   {
    "duration": 11,
    "start_time": "2021-08-17T08:21:28.434Z"
   },
   {
    "duration": 499,
    "start_time": "2021-08-17T08:21:28.447Z"
   },
   {
    "duration": 6,
    "start_time": "2021-08-17T08:21:28.948Z"
   },
   {
    "duration": 462,
    "start_time": "2021-08-17T08:21:28.956Z"
   },
   {
    "duration": 4,
    "start_time": "2021-08-17T08:21:29.420Z"
   },
   {
    "duration": 31,
    "start_time": "2021-08-17T08:21:29.426Z"
   },
   {
    "duration": 18,
    "start_time": "2021-08-17T08:21:29.459Z"
   },
   {
    "duration": 262,
    "start_time": "2021-08-17T08:21:29.478Z"
   },
   {
    "duration": 1048,
    "start_time": "2021-08-17T08:50:43.593Z"
   },
   {
    "duration": 53,
    "start_time": "2021-08-17T08:50:44.642Z"
   },
   {
    "duration": 9,
    "start_time": "2021-08-17T08:50:44.697Z"
   },
   {
    "duration": 12,
    "start_time": "2021-08-17T08:50:44.708Z"
   },
   {
    "duration": 22,
    "start_time": "2021-08-17T08:50:44.721Z"
   },
   {
    "duration": 6,
    "start_time": "2021-08-17T08:50:44.744Z"
   },
   {
    "duration": 15,
    "start_time": "2021-08-17T08:50:44.751Z"
   },
   {
    "duration": 19,
    "start_time": "2021-08-17T08:50:44.768Z"
   },
   {
    "duration": 24,
    "start_time": "2021-08-17T08:50:44.789Z"
   },
   {
    "duration": 26,
    "start_time": "2021-08-17T08:50:44.815Z"
   },
   {
    "duration": 4,
    "start_time": "2021-08-17T08:50:44.843Z"
   },
   {
    "duration": 19,
    "start_time": "2021-08-17T08:50:44.848Z"
   },
   {
    "duration": 14,
    "start_time": "2021-08-17T08:50:44.868Z"
   },
   {
    "duration": 7,
    "start_time": "2021-08-17T08:50:44.884Z"
   },
   {
    "duration": 10,
    "start_time": "2021-08-17T08:50:44.892Z"
   },
   {
    "duration": 38,
    "start_time": "2021-08-17T08:50:44.903Z"
   },
   {
    "duration": 4,
    "start_time": "2021-08-17T08:50:44.942Z"
   },
   {
    "duration": 11,
    "start_time": "2021-08-17T08:50:44.947Z"
   },
   {
    "duration": 21,
    "start_time": "2021-08-17T08:50:44.960Z"
   },
   {
    "duration": 11,
    "start_time": "2021-08-17T08:50:44.983Z"
   },
   {
    "duration": 375,
    "start_time": "2021-08-17T08:50:44.996Z"
   },
   {
    "duration": 18,
    "start_time": "2021-08-17T08:50:45.373Z"
   },
   {
    "duration": 25,
    "start_time": "2021-08-17T08:50:45.395Z"
   },
   {
    "duration": 18,
    "start_time": "2021-08-17T08:50:45.441Z"
   },
   {
    "duration": 631,
    "start_time": "2021-08-17T08:50:45.460Z"
   },
   {
    "duration": 465,
    "start_time": "2021-08-17T08:50:46.093Z"
   },
   {
    "duration": 12,
    "start_time": "2021-08-17T08:50:46.560Z"
   },
   {
    "duration": 16,
    "start_time": "2021-08-17T08:50:46.573Z"
   },
   {
    "duration": 519,
    "start_time": "2021-08-17T08:50:46.591Z"
   },
   {
    "duration": 5,
    "start_time": "2021-08-17T08:50:47.112Z"
   },
   {
    "duration": 530,
    "start_time": "2021-08-17T08:50:47.118Z"
   },
   {
    "duration": 5,
    "start_time": "2021-08-17T08:50:47.650Z"
   },
   {
    "duration": 460,
    "start_time": "2021-08-17T08:50:47.656Z"
   },
   {
    "duration": 4,
    "start_time": "2021-08-17T08:50:48.118Z"
   },
   {
    "duration": 480,
    "start_time": "2021-08-17T08:50:48.124Z"
   },
   {
    "duration": 5,
    "start_time": "2021-08-17T08:50:48.605Z"
   },
   {
    "duration": 562,
    "start_time": "2021-08-17T08:50:48.612Z"
   },
   {
    "duration": 5,
    "start_time": "2021-08-17T08:50:49.176Z"
   },
   {
    "duration": 518,
    "start_time": "2021-08-17T08:50:49.183Z"
   },
   {
    "duration": 4,
    "start_time": "2021-08-17T08:50:49.703Z"
   },
   {
    "duration": 463,
    "start_time": "2021-08-17T08:50:49.709Z"
   },
   {
    "duration": 5,
    "start_time": "2021-08-17T08:50:50.174Z"
   },
   {
    "duration": 20,
    "start_time": "2021-08-17T08:50:50.180Z"
   },
   {
    "duration": 15,
    "start_time": "2021-08-17T08:50:50.202Z"
   },
   {
    "duration": 262,
    "start_time": "2021-08-17T08:50:50.219Z"
   },
   {
    "duration": 17,
    "start_time": "2021-08-17T08:55:25.963Z"
   },
   {
    "duration": 353,
    "start_time": "2021-08-17T08:57:33.341Z"
   },
   {
    "duration": 16,
    "start_time": "2021-08-17T08:57:51.320Z"
   },
   {
    "duration": 15,
    "start_time": "2021-08-17T08:58:37.667Z"
   },
   {
    "duration": 13,
    "start_time": "2021-08-17T08:58:49.394Z"
   },
   {
    "duration": 258,
    "start_time": "2021-08-17T08:59:15.046Z"
   },
   {
    "duration": 4,
    "start_time": "2021-08-17T09:01:52.861Z"
   },
   {
    "duration": 4,
    "start_time": "2021-08-17T09:03:18.758Z"
   },
   {
    "duration": 264,
    "start_time": "2021-08-17T09:05:00.315Z"
   },
   {
    "duration": 280,
    "start_time": "2021-08-17T09:08:57.403Z"
   },
   {
    "duration": 4,
    "start_time": "2021-08-17T09:13:56.035Z"
   },
   {
    "duration": 282,
    "start_time": "2021-08-17T09:14:45.860Z"
   },
   {
    "duration": 13,
    "start_time": "2021-08-17T09:14:55.386Z"
   },
   {
    "duration": 252,
    "start_time": "2021-08-17T09:15:29.633Z"
   },
   {
    "duration": 4,
    "start_time": "2021-08-17T09:17:18.369Z"
   },
   {
    "duration": 6845,
    "start_time": "2021-08-17T09:17:56.606Z"
   },
   {
    "duration": 5,
    "start_time": "2021-08-17T09:18:14.898Z"
   },
   {
    "duration": 233,
    "start_time": "2021-08-17T09:19:07.954Z"
   },
   {
    "duration": 1029,
    "start_time": "2021-08-17T09:21:24.151Z"
   },
   {
    "duration": 52,
    "start_time": "2021-08-17T09:21:25.182Z"
   },
   {
    "duration": 8,
    "start_time": "2021-08-17T09:21:25.236Z"
   },
   {
    "duration": 8,
    "start_time": "2021-08-17T09:21:25.246Z"
   },
   {
    "duration": 17,
    "start_time": "2021-08-17T09:21:25.255Z"
   },
   {
    "duration": 6,
    "start_time": "2021-08-17T09:21:25.273Z"
   },
   {
    "duration": 17,
    "start_time": "2021-08-17T09:21:25.280Z"
   },
   {
    "duration": 17,
    "start_time": "2021-08-17T09:21:25.299Z"
   },
   {
    "duration": 47,
    "start_time": "2021-08-17T09:21:25.318Z"
   },
   {
    "duration": 8,
    "start_time": "2021-08-17T09:21:25.367Z"
   },
   {
    "duration": 4,
    "start_time": "2021-08-17T09:21:25.377Z"
   },
   {
    "duration": 17,
    "start_time": "2021-08-17T09:21:25.383Z"
   },
   {
    "duration": 15,
    "start_time": "2021-08-17T09:21:25.401Z"
   },
   {
    "duration": 27,
    "start_time": "2021-08-17T09:21:25.418Z"
   },
   {
    "duration": 17,
    "start_time": "2021-08-17T09:21:25.446Z"
   },
   {
    "duration": 10,
    "start_time": "2021-08-17T09:21:25.465Z"
   },
   {
    "duration": 5,
    "start_time": "2021-08-17T09:21:25.476Z"
   },
   {
    "duration": 11,
    "start_time": "2021-08-17T09:21:25.483Z"
   },
   {
    "duration": 22,
    "start_time": "2021-08-17T09:21:25.495Z"
   },
   {
    "duration": 28,
    "start_time": "2021-08-17T09:21:25.519Z"
   },
   {
    "duration": 366,
    "start_time": "2021-08-17T09:21:25.549Z"
   },
   {
    "duration": 25,
    "start_time": "2021-08-17T09:21:25.917Z"
   },
   {
    "duration": 21,
    "start_time": "2021-08-17T09:21:25.945Z"
   },
   {
    "duration": 18,
    "start_time": "2021-08-17T09:21:25.968Z"
   },
   {
    "duration": 661,
    "start_time": "2021-08-17T09:21:25.988Z"
   },
   {
    "duration": 474,
    "start_time": "2021-08-17T09:21:26.650Z"
   },
   {
    "duration": 22,
    "start_time": "2021-08-17T09:21:27.126Z"
   },
   {
    "duration": 16,
    "start_time": "2021-08-17T09:21:27.149Z"
   },
   {
    "duration": 576,
    "start_time": "2021-08-17T09:21:27.166Z"
   },
   {
    "duration": 5,
    "start_time": "2021-08-17T09:21:27.743Z"
   },
   {
    "duration": 573,
    "start_time": "2021-08-17T09:21:27.749Z"
   },
   {
    "duration": 4,
    "start_time": "2021-08-17T09:21:28.324Z"
   },
   {
    "duration": 495,
    "start_time": "2021-08-17T09:21:28.330Z"
   },
   {
    "duration": 6,
    "start_time": "2021-08-17T09:21:28.826Z"
   },
   {
    "duration": 501,
    "start_time": "2021-08-17T09:21:28.841Z"
   },
   {
    "duration": 5,
    "start_time": "2021-08-17T09:21:29.343Z"
   },
   {
    "duration": 471,
    "start_time": "2021-08-17T09:21:29.349Z"
   },
   {
    "duration": 5,
    "start_time": "2021-08-17T09:21:29.821Z"
   },
   {
    "duration": 491,
    "start_time": "2021-08-17T09:21:29.828Z"
   },
   {
    "duration": 4,
    "start_time": "2021-08-17T09:21:30.321Z"
   },
   {
    "duration": 484,
    "start_time": "2021-08-17T09:21:30.327Z"
   },
   {
    "duration": 5,
    "start_time": "2021-08-17T09:21:30.812Z"
   },
   {
    "duration": 26,
    "start_time": "2021-08-17T09:21:30.819Z"
   },
   {
    "duration": 246,
    "start_time": "2021-08-17T09:21:30.847Z"
   },
   {
    "duration": 12,
    "start_time": "2021-08-17T09:21:31.095Z"
   },
   {
    "duration": 270,
    "start_time": "2021-08-17T09:21:31.109Z"
   },
   {
    "duration": 4,
    "start_time": "2021-08-17T09:21:31.380Z"
   },
   {
    "duration": 255,
    "start_time": "2021-08-17T09:21:31.385Z"
   },
   {
    "duration": 283,
    "start_time": "2021-08-17T09:21:31.642Z"
   },
   {
    "duration": 264,
    "start_time": "2021-08-17T09:21:31.927Z"
   },
   {
    "duration": 4,
    "start_time": "2021-08-17T09:21:32.193Z"
   },
   {
    "duration": 248,
    "start_time": "2021-08-17T09:21:32.198Z"
   },
   {
    "duration": 205,
    "start_time": "2021-08-17T09:22:28.264Z"
   },
   {
    "duration": 250,
    "start_time": "2021-08-17T09:24:46.998Z"
   },
   {
    "duration": 4,
    "start_time": "2021-08-17T09:26:19.524Z"
   },
   {
    "duration": 244,
    "start_time": "2021-08-17T09:27:25.826Z"
   },
   {
    "duration": 209,
    "start_time": "2021-08-17T09:29:09.698Z"
   },
   {
    "duration": 7,
    "start_time": "2021-08-17T09:30:04.494Z"
   },
   {
    "duration": 6,
    "start_time": "2021-08-17T09:30:19.293Z"
   },
   {
    "duration": 209,
    "start_time": "2021-08-17T09:30:50.932Z"
   },
   {
    "duration": 7,
    "start_time": "2021-08-17T09:30:56.362Z"
   },
   {
    "duration": 1043,
    "start_time": "2021-08-17T09:33:55.940Z"
   },
   {
    "duration": 51,
    "start_time": "2021-08-17T09:33:56.985Z"
   },
   {
    "duration": 9,
    "start_time": "2021-08-17T09:33:57.038Z"
   },
   {
    "duration": 8,
    "start_time": "2021-08-17T09:33:57.048Z"
   },
   {
    "duration": 17,
    "start_time": "2021-08-17T09:33:57.057Z"
   },
   {
    "duration": 6,
    "start_time": "2021-08-17T09:33:57.075Z"
   },
   {
    "duration": 14,
    "start_time": "2021-08-17T09:33:57.082Z"
   },
   {
    "duration": 20,
    "start_time": "2021-08-17T09:33:57.098Z"
   },
   {
    "duration": 23,
    "start_time": "2021-08-17T09:33:57.141Z"
   },
   {
    "duration": 8,
    "start_time": "2021-08-17T09:33:57.166Z"
   },
   {
    "duration": 4,
    "start_time": "2021-08-17T09:33:57.176Z"
   },
   {
    "duration": 17,
    "start_time": "2021-08-17T09:33:57.182Z"
   },
   {
    "duration": 40,
    "start_time": "2021-08-17T09:33:57.201Z"
   },
   {
    "duration": 8,
    "start_time": "2021-08-17T09:33:57.242Z"
   },
   {
    "duration": 10,
    "start_time": "2021-08-17T09:33:57.251Z"
   },
   {
    "duration": 10,
    "start_time": "2021-08-17T09:33:57.262Z"
   },
   {
    "duration": 5,
    "start_time": "2021-08-17T09:33:57.274Z"
   },
   {
    "duration": 10,
    "start_time": "2021-08-17T09:33:57.281Z"
   },
   {
    "duration": 51,
    "start_time": "2021-08-17T09:33:57.292Z"
   },
   {
    "duration": 12,
    "start_time": "2021-08-17T09:33:57.345Z"
   },
   {
    "duration": 362,
    "start_time": "2021-08-17T09:33:57.358Z"
   },
   {
    "duration": 20,
    "start_time": "2021-08-17T09:33:57.721Z"
   },
   {
    "duration": 21,
    "start_time": "2021-08-17T09:33:57.745Z"
   },
   {
    "duration": 17,
    "start_time": "2021-08-17T09:33:57.768Z"
   },
   {
    "duration": 654,
    "start_time": "2021-08-17T09:33:57.787Z"
   },
   {
    "duration": 488,
    "start_time": "2021-08-17T09:33:58.443Z"
   },
   {
    "duration": 18,
    "start_time": "2021-08-17T09:33:58.933Z"
   },
   {
    "duration": 16,
    "start_time": "2021-08-17T09:33:58.953Z"
   },
   {
    "duration": 575,
    "start_time": "2021-08-17T09:33:58.970Z"
   },
   {
    "duration": 5,
    "start_time": "2021-08-17T09:33:59.548Z"
   },
   {
    "duration": 555,
    "start_time": "2021-08-17T09:33:59.555Z"
   },
   {
    "duration": 5,
    "start_time": "2021-08-17T09:34:00.111Z"
   },
   {
    "duration": 670,
    "start_time": "2021-08-17T09:34:00.118Z"
   },
   {
    "duration": 6,
    "start_time": "2021-08-17T09:34:00.790Z"
   },
   {
    "duration": 661,
    "start_time": "2021-08-17T09:34:00.798Z"
   },
   {
    "duration": 5,
    "start_time": "2021-08-17T09:34:01.461Z"
   },
   {
    "duration": 616,
    "start_time": "2021-08-17T09:34:01.468Z"
   },
   {
    "duration": 6,
    "start_time": "2021-08-17T09:34:02.086Z"
   },
   {
    "duration": 533,
    "start_time": "2021-08-17T09:34:02.094Z"
   },
   {
    "duration": 11,
    "start_time": "2021-08-17T09:34:02.630Z"
   },
   {
    "duration": 493,
    "start_time": "2021-08-17T09:34:02.642Z"
   },
   {
    "duration": 7,
    "start_time": "2021-08-17T09:34:03.136Z"
   },
   {
    "duration": 21,
    "start_time": "2021-08-17T09:34:03.145Z"
   },
   {
    "duration": 291,
    "start_time": "2021-08-17T09:34:03.168Z"
   },
   {
    "duration": 14,
    "start_time": "2021-08-17T09:34:03.461Z"
   },
   {
    "duration": 305,
    "start_time": "2021-08-17T09:34:03.477Z"
   },
   {
    "duration": 4,
    "start_time": "2021-08-17T09:34:03.784Z"
   },
   {
    "duration": 287,
    "start_time": "2021-08-17T09:34:03.790Z"
   },
   {
    "duration": 310,
    "start_time": "2021-08-17T09:34:04.079Z"
   },
   {
    "duration": 6,
    "start_time": "2021-08-17T09:34:04.390Z"
   },
   {
    "duration": 294,
    "start_time": "2021-08-17T09:34:04.397Z"
   },
   {
    "duration": 4,
    "start_time": "2021-08-17T09:34:04.692Z"
   },
   {
    "duration": 274,
    "start_time": "2021-08-17T09:34:04.698Z"
   },
   {
    "duration": 229,
    "start_time": "2021-08-17T09:34:04.974Z"
   },
   {
    "duration": 7,
    "start_time": "2021-08-17T09:34:05.205Z"
   },
   {
    "duration": 290,
    "start_time": "2021-08-17T09:34:05.214Z"
   },
   {
    "duration": 5,
    "start_time": "2021-08-17T09:34:05.506Z"
   },
   {
    "duration": 272,
    "start_time": "2021-08-17T09:34:05.513Z"
   },
   {
    "duration": 232,
    "start_time": "2021-08-17T09:34:05.786Z"
   },
   {
    "duration": 7,
    "start_time": "2021-08-17T09:34:06.019Z"
   },
   {
    "duration": 1081,
    "start_time": "2021-08-17T09:54:20.789Z"
   },
   {
    "duration": 51,
    "start_time": "2021-08-17T09:54:21.872Z"
   },
   {
    "duration": 9,
    "start_time": "2021-08-17T09:54:21.925Z"
   },
   {
    "duration": 10,
    "start_time": "2021-08-17T09:54:21.935Z"
   },
   {
    "duration": 18,
    "start_time": "2021-08-17T09:54:21.946Z"
   },
   {
    "duration": 10,
    "start_time": "2021-08-17T09:54:21.966Z"
   },
   {
    "duration": 18,
    "start_time": "2021-08-17T09:54:21.977Z"
   },
   {
    "duration": 18,
    "start_time": "2021-08-17T09:54:21.997Z"
   },
   {
    "duration": 43,
    "start_time": "2021-08-17T09:54:22.017Z"
   },
   {
    "duration": 9,
    "start_time": "2021-08-17T09:54:22.062Z"
   },
   {
    "duration": 4,
    "start_time": "2021-08-17T09:54:22.073Z"
   },
   {
    "duration": 18,
    "start_time": "2021-08-17T09:54:22.079Z"
   },
   {
    "duration": 15,
    "start_time": "2021-08-17T09:54:22.099Z"
   },
   {
    "duration": 31,
    "start_time": "2021-08-17T09:54:22.115Z"
   },
   {
    "duration": 8,
    "start_time": "2021-08-17T09:54:22.147Z"
   },
   {
    "duration": 11,
    "start_time": "2021-08-17T09:54:22.157Z"
   },
   {
    "duration": 15,
    "start_time": "2021-08-17T09:54:22.169Z"
   },
   {
    "duration": 19,
    "start_time": "2021-08-17T09:54:22.185Z"
   },
   {
    "duration": 28,
    "start_time": "2021-08-17T09:54:22.206Z"
   },
   {
    "duration": 11,
    "start_time": "2021-08-17T09:54:22.235Z"
   },
   {
    "duration": 361,
    "start_time": "2021-08-17T09:54:22.247Z"
   },
   {
    "duration": 14,
    "start_time": "2021-08-17T09:54:22.609Z"
   },
   {
    "duration": 33,
    "start_time": "2021-08-17T09:54:22.627Z"
   },
   {
    "duration": 18,
    "start_time": "2021-08-17T09:54:22.662Z"
   },
   {
    "duration": 659,
    "start_time": "2021-08-17T09:54:22.681Z"
   },
   {
    "duration": 469,
    "start_time": "2021-08-17T09:54:23.342Z"
   },
   {
    "duration": 12,
    "start_time": "2021-08-17T09:54:23.812Z"
   },
   {
    "duration": 30,
    "start_time": "2021-08-17T09:54:23.826Z"
   },
   {
    "duration": 484,
    "start_time": "2021-08-17T09:54:23.858Z"
   },
   {
    "duration": 6,
    "start_time": "2021-08-17T09:54:24.345Z"
   },
   {
    "duration": 557,
    "start_time": "2021-08-17T09:54:24.353Z"
   },
   {
    "duration": 6,
    "start_time": "2021-08-17T09:54:24.913Z"
   },
   {
    "duration": 478,
    "start_time": "2021-08-17T09:54:24.920Z"
   },
   {
    "duration": 5,
    "start_time": "2021-08-17T09:54:25.400Z"
   },
   {
    "duration": 503,
    "start_time": "2021-08-17T09:54:25.407Z"
   },
   {
    "duration": 6,
    "start_time": "2021-08-17T09:54:25.912Z"
   },
   {
    "duration": 477,
    "start_time": "2021-08-17T09:54:25.919Z"
   },
   {
    "duration": 5,
    "start_time": "2021-08-17T09:54:26.398Z"
   },
   {
    "duration": 495,
    "start_time": "2021-08-17T09:54:26.404Z"
   },
   {
    "duration": 5,
    "start_time": "2021-08-17T09:54:26.901Z"
   },
   {
    "duration": 466,
    "start_time": "2021-08-17T09:54:26.907Z"
   },
   {
    "duration": 5,
    "start_time": "2021-08-17T09:54:27.375Z"
   },
   {
    "duration": 36,
    "start_time": "2021-08-17T09:54:27.381Z"
   },
   {
    "duration": 246,
    "start_time": "2021-08-17T09:54:27.418Z"
   },
   {
    "duration": 13,
    "start_time": "2021-08-17T09:54:27.665Z"
   },
   {
    "duration": 264,
    "start_time": "2021-08-17T09:54:27.679Z"
   },
   {
    "duration": 4,
    "start_time": "2021-08-17T09:54:27.944Z"
   },
   {
    "duration": 251,
    "start_time": "2021-08-17T09:54:27.949Z"
   },
   {
    "duration": 279,
    "start_time": "2021-08-17T09:54:28.202Z"
   },
   {
    "duration": 7,
    "start_time": "2021-08-17T09:54:28.482Z"
   },
   {
    "duration": 264,
    "start_time": "2021-08-17T09:54:28.490Z"
   },
   {
    "duration": 4,
    "start_time": "2021-08-17T09:54:28.756Z"
   },
   {
    "duration": 247,
    "start_time": "2021-08-17T09:54:28.761Z"
   },
   {
    "duration": 206,
    "start_time": "2021-08-17T09:54:29.009Z"
   },
   {
    "duration": 6,
    "start_time": "2021-08-17T09:54:29.217Z"
   },
   {
    "duration": 264,
    "start_time": "2021-08-17T09:54:29.224Z"
   },
   {
    "duration": 3,
    "start_time": "2021-08-17T09:54:29.490Z"
   },
   {
    "duration": 346,
    "start_time": "2021-08-17T09:54:29.494Z"
   },
   {
    "duration": 205,
    "start_time": "2021-08-17T09:54:29.842Z"
   },
   {
    "duration": 5,
    "start_time": "2021-08-17T09:54:30.049Z"
   },
   {
    "duration": 19,
    "start_time": "2021-08-17T10:00:11.175Z"
   },
   {
    "duration": 6,
    "start_time": "2021-08-17T10:01:01.871Z"
   },
   {
    "duration": 6,
    "start_time": "2021-08-17T10:01:33.458Z"
   },
   {
    "duration": 7,
    "start_time": "2021-08-17T10:01:43.306Z"
   },
   {
    "duration": 5,
    "start_time": "2021-08-17T10:03:21.984Z"
   },
   {
    "duration": 4,
    "start_time": "2021-08-17T10:03:53.521Z"
   },
   {
    "duration": 4,
    "start_time": "2021-08-17T10:04:15.896Z"
   },
   {
    "duration": 4,
    "start_time": "2021-08-17T10:04:20.973Z"
   },
   {
    "duration": 5,
    "start_time": "2021-08-17T10:04:28.015Z"
   },
   {
    "duration": 4,
    "start_time": "2021-08-17T10:04:35.099Z"
   },
   {
    "duration": 4,
    "start_time": "2021-08-17T10:06:19.804Z"
   },
   {
    "duration": 1092,
    "start_time": "2021-08-17T10:06:32.470Z"
   },
   {
    "duration": 52,
    "start_time": "2021-08-17T10:06:33.564Z"
   },
   {
    "duration": 9,
    "start_time": "2021-08-17T10:06:33.618Z"
   },
   {
    "duration": 15,
    "start_time": "2021-08-17T10:06:33.628Z"
   },
   {
    "duration": 25,
    "start_time": "2021-08-17T10:06:33.645Z"
   },
   {
    "duration": 10,
    "start_time": "2021-08-17T10:06:33.672Z"
   },
   {
    "duration": 19,
    "start_time": "2021-08-17T10:06:33.683Z"
   },
   {
    "duration": 19,
    "start_time": "2021-08-17T10:06:33.703Z"
   },
   {
    "duration": 36,
    "start_time": "2021-08-17T10:06:33.725Z"
   },
   {
    "duration": 8,
    "start_time": "2021-08-17T10:06:33.763Z"
   },
   {
    "duration": 10,
    "start_time": "2021-08-17T10:06:33.773Z"
   },
   {
    "duration": 29,
    "start_time": "2021-08-17T10:06:33.785Z"
   },
   {
    "duration": 17,
    "start_time": "2021-08-17T10:06:33.816Z"
   },
   {
    "duration": 7,
    "start_time": "2021-08-17T10:06:33.835Z"
   },
   {
    "duration": 13,
    "start_time": "2021-08-17T10:06:33.844Z"
   },
   {
    "duration": 28,
    "start_time": "2021-08-17T10:06:33.858Z"
   },
   {
    "duration": 11,
    "start_time": "2021-08-17T10:06:33.888Z"
   },
   {
    "duration": 12,
    "start_time": "2021-08-17T10:06:33.901Z"
   },
   {
    "duration": 20,
    "start_time": "2021-08-17T10:06:33.914Z"
   },
   {
    "duration": 12,
    "start_time": "2021-08-17T10:06:33.935Z"
   },
   {
    "duration": 363,
    "start_time": "2021-08-17T10:06:33.948Z"
   },
   {
    "duration": 14,
    "start_time": "2021-08-17T10:06:34.313Z"
   },
   {
    "duration": 31,
    "start_time": "2021-08-17T10:06:34.328Z"
   },
   {
    "duration": 23,
    "start_time": "2021-08-17T10:06:34.361Z"
   },
   {
    "duration": 646,
    "start_time": "2021-08-17T10:06:34.386Z"
   },
   {
    "duration": 463,
    "start_time": "2021-08-17T10:06:35.033Z"
   },
   {
    "duration": 13,
    "start_time": "2021-08-17T10:06:35.500Z"
   },
   {
    "duration": 29,
    "start_time": "2021-08-17T10:06:35.515Z"
   },
   {
    "duration": 552,
    "start_time": "2021-08-17T10:06:35.546Z"
   },
   {
    "duration": 5,
    "start_time": "2021-08-17T10:06:36.100Z"
   },
   {
    "duration": 544,
    "start_time": "2021-08-17T10:06:36.106Z"
   },
   {
    "duration": 5,
    "start_time": "2021-08-17T10:06:36.651Z"
   },
   {
    "duration": 460,
    "start_time": "2021-08-17T10:06:36.658Z"
   },
   {
    "duration": 5,
    "start_time": "2021-08-17T10:06:37.120Z"
   },
   {
    "duration": 598,
    "start_time": "2021-08-17T10:06:37.126Z"
   },
   {
    "duration": 6,
    "start_time": "2021-08-17T10:06:37.726Z"
   },
   {
    "duration": 461,
    "start_time": "2021-08-17T10:06:37.741Z"
   },
   {
    "duration": 5,
    "start_time": "2021-08-17T10:06:38.204Z"
   },
   {
    "duration": 488,
    "start_time": "2021-08-17T10:06:38.210Z"
   },
   {
    "duration": 5,
    "start_time": "2021-08-17T10:06:38.700Z"
   },
   {
    "duration": 467,
    "start_time": "2021-08-17T10:06:38.706Z"
   },
   {
    "duration": 4,
    "start_time": "2021-08-17T10:06:39.175Z"
   },
   {
    "duration": 17,
    "start_time": "2021-08-17T10:06:39.181Z"
   },
   {
    "duration": 248,
    "start_time": "2021-08-17T10:06:39.200Z"
   },
   {
    "duration": 13,
    "start_time": "2021-08-17T10:06:39.450Z"
   },
   {
    "duration": 258,
    "start_time": "2021-08-17T10:06:39.464Z"
   },
   {
    "duration": 4,
    "start_time": "2021-08-17T10:06:39.723Z"
   },
   {
    "duration": 346,
    "start_time": "2021-08-17T10:06:39.728Z"
   },
   {
    "duration": 281,
    "start_time": "2021-08-17T10:06:40.076Z"
   },
   {
    "duration": 6,
    "start_time": "2021-08-17T10:06:40.359Z"
   },
   {
    "duration": 359,
    "start_time": "2021-08-17T10:06:40.366Z"
   },
   {
    "duration": 3,
    "start_time": "2021-08-17T10:06:40.727Z"
   },
   {
    "duration": 237,
    "start_time": "2021-08-17T10:06:40.740Z"
   },
   {
    "duration": 204,
    "start_time": "2021-08-17T10:06:40.979Z"
   },
   {
    "duration": 6,
    "start_time": "2021-08-17T10:06:41.185Z"
   },
   {
    "duration": 268,
    "start_time": "2021-08-17T10:06:41.192Z"
   },
   {
    "duration": 4,
    "start_time": "2021-08-17T10:06:41.461Z"
   },
   {
    "duration": 243,
    "start_time": "2021-08-17T10:06:41.466Z"
   },
   {
    "duration": 207,
    "start_time": "2021-08-17T10:06:41.711Z"
   },
   {
    "duration": 5,
    "start_time": "2021-08-17T10:06:41.920Z"
   },
   {
    "duration": 16,
    "start_time": "2021-08-17T10:06:41.927Z"
   },
   {
    "duration": 6,
    "start_time": "2021-08-17T10:06:41.944Z"
   },
   {
    "duration": 6,
    "start_time": "2021-08-17T10:06:41.951Z"
   },
   {
    "duration": 6120,
    "start_time": "2021-08-17T10:09:13.480Z"
   },
   {
    "duration": 6,
    "start_time": "2021-08-17T10:44:39.483Z"
   },
   {
    "duration": 6,
    "start_time": "2021-08-17T10:46:54.893Z"
   },
   {
    "duration": 1071,
    "start_time": "2021-08-17T10:49:27.206Z"
   },
   {
    "duration": 50,
    "start_time": "2021-08-17T10:49:28.279Z"
   },
   {
    "duration": 9,
    "start_time": "2021-08-17T10:49:28.331Z"
   },
   {
    "duration": 9,
    "start_time": "2021-08-17T10:49:28.342Z"
   },
   {
    "duration": 17,
    "start_time": "2021-08-17T10:49:28.352Z"
   },
   {
    "duration": 5,
    "start_time": "2021-08-17T10:49:28.371Z"
   },
   {
    "duration": 14,
    "start_time": "2021-08-17T10:49:28.377Z"
   },
   {
    "duration": 47,
    "start_time": "2021-08-17T10:49:28.394Z"
   },
   {
    "duration": 32,
    "start_time": "2021-08-17T10:49:28.444Z"
   },
   {
    "duration": 8,
    "start_time": "2021-08-17T10:49:28.478Z"
   },
   {
    "duration": 8,
    "start_time": "2021-08-17T10:49:28.488Z"
   },
   {
    "duration": 20,
    "start_time": "2021-08-17T10:49:28.497Z"
   },
   {
    "duration": 32,
    "start_time": "2021-08-17T10:49:28.519Z"
   },
   {
    "duration": 7,
    "start_time": "2021-08-17T10:49:28.552Z"
   },
   {
    "duration": 9,
    "start_time": "2021-08-17T10:49:28.561Z"
   },
   {
    "duration": 10,
    "start_time": "2021-08-17T10:49:28.572Z"
   },
   {
    "duration": 4,
    "start_time": "2021-08-17T10:49:28.584Z"
   },
   {
    "duration": 10,
    "start_time": "2021-08-17T10:49:28.590Z"
   },
   {
    "duration": 49,
    "start_time": "2021-08-17T10:49:28.602Z"
   },
   {
    "duration": 11,
    "start_time": "2021-08-17T10:49:28.653Z"
   },
   {
    "duration": 370,
    "start_time": "2021-08-17T10:49:28.665Z"
   },
   {
    "duration": 14,
    "start_time": "2021-08-17T10:49:29.040Z"
   },
   {
    "duration": 20,
    "start_time": "2021-08-17T10:49:29.058Z"
   },
   {
    "duration": 18,
    "start_time": "2021-08-17T10:49:29.080Z"
   },
   {
    "duration": 651,
    "start_time": "2021-08-17T10:49:29.099Z"
   },
   {
    "duration": 473,
    "start_time": "2021-08-17T10:49:29.752Z"
   },
   {
    "duration": 18,
    "start_time": "2021-08-17T10:49:30.226Z"
   },
   {
    "duration": 16,
    "start_time": "2021-08-17T10:49:30.246Z"
   },
   {
    "duration": 481,
    "start_time": "2021-08-17T10:49:30.264Z"
   },
   {
    "duration": 5,
    "start_time": "2021-08-17T10:49:30.747Z"
   },
   {
    "duration": 601,
    "start_time": "2021-08-17T10:49:30.753Z"
   },
   {
    "duration": 5,
    "start_time": "2021-08-17T10:49:31.356Z"
   },
   {
    "duration": 457,
    "start_time": "2021-08-17T10:49:31.363Z"
   },
   {
    "duration": 5,
    "start_time": "2021-08-17T10:49:31.821Z"
   },
   {
    "duration": 557,
    "start_time": "2021-08-17T10:49:31.827Z"
   },
   {
    "duration": 5,
    "start_time": "2021-08-17T10:49:32.385Z"
   },
   {
    "duration": 524,
    "start_time": "2021-08-17T10:49:32.392Z"
   },
   {
    "duration": 5,
    "start_time": "2021-08-17T10:49:32.917Z"
   },
   {
    "duration": 480,
    "start_time": "2021-08-17T10:49:32.923Z"
   },
   {
    "duration": 5,
    "start_time": "2021-08-17T10:49:33.404Z"
   },
   {
    "duration": 460,
    "start_time": "2021-08-17T10:49:33.410Z"
   },
   {
    "duration": 5,
    "start_time": "2021-08-17T10:49:33.871Z"
   },
   {
    "duration": 17,
    "start_time": "2021-08-17T10:49:33.878Z"
   },
   {
    "duration": 249,
    "start_time": "2021-08-17T10:49:33.897Z"
   },
   {
    "duration": 14,
    "start_time": "2021-08-17T10:49:34.147Z"
   },
   {
    "duration": 265,
    "start_time": "2021-08-17T10:49:34.162Z"
   },
   {
    "duration": 3,
    "start_time": "2021-08-17T10:49:34.429Z"
   },
   {
    "duration": 257,
    "start_time": "2021-08-17T10:49:34.433Z"
   },
   {
    "duration": 285,
    "start_time": "2021-08-17T10:49:34.692Z"
   },
   {
    "duration": 6,
    "start_time": "2021-08-17T10:49:34.978Z"
   },
   {
    "duration": 265,
    "start_time": "2021-08-17T10:49:34.985Z"
   },
   {
    "duration": 3,
    "start_time": "2021-08-17T10:49:35.251Z"
   },
   {
    "duration": 236,
    "start_time": "2021-08-17T10:49:35.256Z"
   },
   {
    "duration": 220,
    "start_time": "2021-08-17T10:49:35.494Z"
   },
   {
    "duration": 6,
    "start_time": "2021-08-17T10:49:35.715Z"
   },
   {
    "duration": 258,
    "start_time": "2021-08-17T10:49:35.723Z"
   },
   {
    "duration": 4,
    "start_time": "2021-08-17T10:49:35.982Z"
   },
   {
    "duration": 248,
    "start_time": "2021-08-17T10:49:35.987Z"
   },
   {
    "duration": 206,
    "start_time": "2021-08-17T10:49:36.240Z"
   },
   {
    "duration": 5,
    "start_time": "2021-08-17T10:49:36.448Z"
   },
   {
    "duration": 10,
    "start_time": "2021-08-17T10:49:36.455Z"
   },
   {
    "duration": 11,
    "start_time": "2021-08-17T10:49:36.466Z"
   },
   {
    "duration": 8,
    "start_time": "2021-08-17T10:49:36.478Z"
   },
   {
    "duration": 6,
    "start_time": "2021-08-17T10:50:29.315Z"
   },
   {
    "duration": 7,
    "start_time": "2021-08-17T10:50:41.182Z"
   },
   {
    "duration": 8,
    "start_time": "2021-08-17T10:51:10.023Z"
   },
   {
    "duration": 1168,
    "start_time": "2021-08-17T10:52:12.860Z"
   },
   {
    "duration": 51,
    "start_time": "2021-08-17T10:52:14.030Z"
   },
   {
    "duration": 9,
    "start_time": "2021-08-17T10:52:14.082Z"
   },
   {
    "duration": 9,
    "start_time": "2021-08-17T10:52:14.092Z"
   },
   {
    "duration": 15,
    "start_time": "2021-08-17T10:52:14.103Z"
   },
   {
    "duration": 22,
    "start_time": "2021-08-17T10:52:14.119Z"
   },
   {
    "duration": 12,
    "start_time": "2021-08-17T10:52:14.142Z"
   },
   {
    "duration": 16,
    "start_time": "2021-08-17T10:52:14.156Z"
   },
   {
    "duration": 26,
    "start_time": "2021-08-17T10:52:14.174Z"
   },
   {
    "duration": 10,
    "start_time": "2021-08-17T10:52:14.201Z"
   },
   {
    "duration": 29,
    "start_time": "2021-08-17T10:52:14.212Z"
   },
   {
    "duration": 16,
    "start_time": "2021-08-17T10:52:14.242Z"
   },
   {
    "duration": 16,
    "start_time": "2021-08-17T10:52:14.259Z"
   },
   {
    "duration": 7,
    "start_time": "2021-08-17T10:52:14.276Z"
   },
   {
    "duration": 11,
    "start_time": "2021-08-17T10:52:14.285Z"
   },
   {
    "duration": 10,
    "start_time": "2021-08-17T10:52:14.297Z"
   },
   {
    "duration": 4,
    "start_time": "2021-08-17T10:52:14.341Z"
   },
   {
    "duration": 11,
    "start_time": "2021-08-17T10:52:14.347Z"
   },
   {
    "duration": 31,
    "start_time": "2021-08-17T10:52:14.360Z"
   },
   {
    "duration": 12,
    "start_time": "2021-08-17T10:52:14.393Z"
   },
   {
    "duration": 392,
    "start_time": "2021-08-17T10:52:14.407Z"
   },
   {
    "duration": 15,
    "start_time": "2021-08-17T10:52:14.801Z"
   },
   {
    "duration": 39,
    "start_time": "2021-08-17T10:52:14.821Z"
   },
   {
    "duration": 20,
    "start_time": "2021-08-17T10:52:14.862Z"
   },
   {
    "duration": 687,
    "start_time": "2021-08-17T10:52:14.884Z"
   },
   {
    "duration": 555,
    "start_time": "2021-08-17T10:52:15.573Z"
   },
   {
    "duration": 19,
    "start_time": "2021-08-17T10:52:16.130Z"
   },
   {
    "duration": 16,
    "start_time": "2021-08-17T10:52:16.150Z"
   },
   {
    "duration": 474,
    "start_time": "2021-08-17T10:52:16.168Z"
   },
   {
    "duration": 5,
    "start_time": "2021-08-17T10:52:16.643Z"
   },
   {
    "duration": 541,
    "start_time": "2021-08-17T10:52:16.650Z"
   },
   {
    "duration": 4,
    "start_time": "2021-08-17T10:52:17.193Z"
   },
   {
    "duration": 500,
    "start_time": "2021-08-17T10:52:17.199Z"
   },
   {
    "duration": 4,
    "start_time": "2021-08-17T10:52:17.701Z"
   },
   {
    "duration": 520,
    "start_time": "2021-08-17T10:52:17.707Z"
   },
   {
    "duration": 13,
    "start_time": "2021-08-17T10:52:18.229Z"
   },
   {
    "duration": 451,
    "start_time": "2021-08-17T10:52:18.243Z"
   },
   {
    "duration": 5,
    "start_time": "2021-08-17T10:52:18.695Z"
   },
   {
    "duration": 492,
    "start_time": "2021-08-17T10:52:18.702Z"
   },
   {
    "duration": 5,
    "start_time": "2021-08-17T10:52:19.195Z"
   },
   {
    "duration": 461,
    "start_time": "2021-08-17T10:52:19.201Z"
   },
   {
    "duration": 4,
    "start_time": "2021-08-17T10:52:19.664Z"
   },
   {
    "duration": 21,
    "start_time": "2021-08-17T10:52:19.669Z"
   },
   {
    "duration": 249,
    "start_time": "2021-08-17T10:52:19.691Z"
   },
   {
    "duration": 13,
    "start_time": "2021-08-17T10:52:19.942Z"
   },
   {
    "duration": 265,
    "start_time": "2021-08-17T10:52:19.956Z"
   },
   {
    "duration": 4,
    "start_time": "2021-08-17T10:52:20.222Z"
   },
   {
    "duration": 251,
    "start_time": "2021-08-17T10:52:20.228Z"
   },
   {
    "duration": 304,
    "start_time": "2021-08-17T10:52:20.481Z"
   },
   {
    "duration": 6,
    "start_time": "2021-08-17T10:52:20.786Z"
   },
   {
    "duration": 295,
    "start_time": "2021-08-17T10:52:20.793Z"
   },
   {
    "duration": 4,
    "start_time": "2021-08-17T10:52:21.090Z"
   },
   {
    "duration": 247,
    "start_time": "2021-08-17T10:52:21.096Z"
   },
   {
    "duration": 262,
    "start_time": "2021-08-17T10:52:21.344Z"
   },
   {
    "duration": 8,
    "start_time": "2021-08-17T10:52:21.608Z"
   },
   {
    "duration": 349,
    "start_time": "2021-08-17T10:52:21.618Z"
   },
   {
    "duration": 3,
    "start_time": "2021-08-17T10:52:21.969Z"
   },
   {
    "duration": 275,
    "start_time": "2021-08-17T10:52:21.974Z"
   },
   {
    "duration": 210,
    "start_time": "2021-08-17T10:52:22.251Z"
   },
   {
    "duration": 6,
    "start_time": "2021-08-17T10:52:22.462Z"
   },
   {
    "duration": 18,
    "start_time": "2021-08-17T10:52:22.470Z"
   },
   {
    "duration": 27,
    "start_time": "2021-08-17T10:52:22.489Z"
   },
   {
    "duration": 17,
    "start_time": "2021-08-17T10:52:22.518Z"
   },
   {
    "duration": 12,
    "start_time": "2021-08-17T10:52:22.537Z"
   },
   {
    "duration": 13,
    "start_time": "2021-08-17T10:52:22.550Z"
   },
   {
    "duration": 6,
    "start_time": "2021-08-17T10:52:52.755Z"
   },
   {
    "duration": 1089,
    "start_time": "2021-08-17T11:16:43.701Z"
   },
   {
    "duration": 55,
    "start_time": "2021-08-17T11:16:44.792Z"
   },
   {
    "duration": 10,
    "start_time": "2021-08-17T11:16:44.849Z"
   },
   {
    "duration": 9,
    "start_time": "2021-08-17T11:16:44.861Z"
   },
   {
    "duration": 17,
    "start_time": "2021-08-17T11:16:44.872Z"
   },
   {
    "duration": 6,
    "start_time": "2021-08-17T11:16:44.891Z"
   },
   {
    "duration": 44,
    "start_time": "2021-08-17T11:16:44.898Z"
   },
   {
    "duration": 18,
    "start_time": "2021-08-17T11:16:44.945Z"
   },
   {
    "duration": 25,
    "start_time": "2021-08-17T11:16:44.965Z"
   },
   {
    "duration": 11,
    "start_time": "2021-08-17T11:16:44.992Z"
   },
   {
    "duration": 5,
    "start_time": "2021-08-17T11:16:45.005Z"
   },
   {
    "duration": 45,
    "start_time": "2021-08-17T11:16:45.012Z"
   },
   {
    "duration": 19,
    "start_time": "2021-08-17T11:16:45.059Z"
   },
   {
    "duration": 10,
    "start_time": "2021-08-17T11:16:45.079Z"
   },
   {
    "duration": 10,
    "start_time": "2021-08-17T11:16:45.090Z"
   },
   {
    "duration": 48,
    "start_time": "2021-08-17T11:16:45.102Z"
   },
   {
    "duration": 5,
    "start_time": "2021-08-17T11:16:45.152Z"
   },
   {
    "duration": 12,
    "start_time": "2021-08-17T11:16:45.159Z"
   },
   {
    "duration": 23,
    "start_time": "2021-08-17T11:16:45.173Z"
   },
   {
    "duration": 13,
    "start_time": "2021-08-17T11:16:45.198Z"
   },
   {
    "duration": 414,
    "start_time": "2021-08-17T11:16:45.213Z"
   },
   {
    "duration": 21,
    "start_time": "2021-08-17T11:16:45.629Z"
   },
   {
    "duration": 26,
    "start_time": "2021-08-17T11:16:45.654Z"
   },
   {
    "duration": 19,
    "start_time": "2021-08-17T11:16:45.682Z"
   },
   {
    "duration": 680,
    "start_time": "2021-08-17T11:16:45.703Z"
   },
   {
    "duration": 492,
    "start_time": "2021-08-17T11:16:46.385Z"
   },
   {
    "duration": 13,
    "start_time": "2021-08-17T11:16:46.879Z"
   },
   {
    "duration": 21,
    "start_time": "2021-08-17T11:16:46.894Z"
   },
   {
    "duration": 517,
    "start_time": "2021-08-17T11:16:46.916Z"
   },
   {
    "duration": 6,
    "start_time": "2021-08-17T11:16:47.435Z"
   },
   {
    "duration": 562,
    "start_time": "2021-08-17T11:16:47.443Z"
   },
   {
    "duration": 5,
    "start_time": "2021-08-17T11:16:48.006Z"
   },
   {
    "duration": 520,
    "start_time": "2021-08-17T11:16:48.013Z"
   },
   {
    "duration": 10,
    "start_time": "2021-08-17T11:16:48.534Z"
   },
   {
    "duration": 504,
    "start_time": "2021-08-17T11:16:48.546Z"
   },
   {
    "duration": 5,
    "start_time": "2021-08-17T11:16:49.052Z"
   },
   {
    "duration": 471,
    "start_time": "2021-08-17T11:16:49.059Z"
   },
   {
    "duration": 11,
    "start_time": "2021-08-17T11:16:49.531Z"
   },
   {
    "duration": 482,
    "start_time": "2021-08-17T11:16:49.544Z"
   },
   {
    "duration": 13,
    "start_time": "2021-08-17T11:16:50.028Z"
   },
   {
    "duration": 465,
    "start_time": "2021-08-17T11:16:50.042Z"
   },
   {
    "duration": 4,
    "start_time": "2021-08-17T11:16:50.509Z"
   },
   {
    "duration": 30,
    "start_time": "2021-08-17T11:16:50.515Z"
   },
   {
    "duration": 241,
    "start_time": "2021-08-17T11:16:50.547Z"
   },
   {
    "duration": 13,
    "start_time": "2021-08-17T11:16:50.789Z"
   },
   {
    "duration": 265,
    "start_time": "2021-08-17T11:16:50.804Z"
   },
   {
    "duration": 3,
    "start_time": "2021-08-17T11:16:51.071Z"
   },
   {
    "duration": 253,
    "start_time": "2021-08-17T11:16:51.076Z"
   },
   {
    "duration": 284,
    "start_time": "2021-08-17T11:16:51.330Z"
   },
   {
    "duration": 6,
    "start_time": "2021-08-17T11:16:51.615Z"
   },
   {
    "duration": 257,
    "start_time": "2021-08-17T11:16:51.623Z"
   },
   {
    "duration": 3,
    "start_time": "2021-08-17T11:16:51.882Z"
   },
   {
    "duration": 244,
    "start_time": "2021-08-17T11:16:51.887Z"
   },
   {
    "duration": 210,
    "start_time": "2021-08-17T11:16:52.133Z"
   },
   {
    "duration": 6,
    "start_time": "2021-08-17T11:16:52.344Z"
   },
   {
    "duration": 261,
    "start_time": "2021-08-17T11:16:52.352Z"
   },
   {
    "duration": 4,
    "start_time": "2021-08-17T11:16:52.615Z"
   },
   {
    "duration": 258,
    "start_time": "2021-08-17T11:16:52.620Z"
   },
   {
    "duration": 199,
    "start_time": "2021-08-17T11:16:52.880Z"
   },
   {
    "duration": 5,
    "start_time": "2021-08-17T11:16:53.081Z"
   },
   {
    "duration": 10,
    "start_time": "2021-08-17T11:16:53.088Z"
   },
   {
    "duration": 8,
    "start_time": "2021-08-17T11:16:53.099Z"
   },
   {
    "duration": 10,
    "start_time": "2021-08-17T11:16:53.108Z"
   },
   {
    "duration": 23,
    "start_time": "2021-08-17T11:16:53.119Z"
   },
   {
    "duration": 10,
    "start_time": "2021-08-17T11:16:53.144Z"
   },
   {
    "duration": 6,
    "start_time": "2021-08-17T11:16:53.155Z"
   },
   {
    "duration": 340,
    "start_time": "2021-08-17T13:26:56.796Z"
   },
   {
    "duration": 1650,
    "start_time": "2021-08-17T13:27:33.501Z"
   },
   {
    "duration": 80,
    "start_time": "2021-08-17T13:27:35.154Z"
   },
   {
    "duration": 16,
    "start_time": "2021-08-17T13:27:35.238Z"
   },
   {
    "duration": 24,
    "start_time": "2021-08-17T13:27:35.257Z"
   },
   {
    "duration": 61,
    "start_time": "2021-08-17T13:27:35.284Z"
   },
   {
    "duration": 13,
    "start_time": "2021-08-17T13:27:35.348Z"
   },
   {
    "duration": 49,
    "start_time": "2021-08-17T13:27:35.364Z"
   },
   {
    "duration": 39,
    "start_time": "2021-08-17T13:27:35.417Z"
   },
   {
    "duration": 64,
    "start_time": "2021-08-17T13:27:35.460Z"
   },
   {
    "duration": 18,
    "start_time": "2021-08-17T13:27:35.527Z"
   },
   {
    "duration": 11,
    "start_time": "2021-08-17T13:27:35.548Z"
   },
   {
    "duration": 57,
    "start_time": "2021-08-17T13:27:35.562Z"
   },
   {
    "duration": 27,
    "start_time": "2021-08-17T13:27:35.621Z"
   },
   {
    "duration": 22,
    "start_time": "2021-08-17T13:27:35.651Z"
   },
   {
    "duration": 35,
    "start_time": "2021-08-17T13:27:35.676Z"
   },
   {
    "duration": 19,
    "start_time": "2021-08-17T13:27:35.713Z"
   },
   {
    "duration": 8,
    "start_time": "2021-08-17T13:27:35.734Z"
   },
   {
    "duration": 23,
    "start_time": "2021-08-17T13:27:35.745Z"
   },
   {
    "duration": 58,
    "start_time": "2021-08-17T13:27:35.771Z"
   },
   {
    "duration": 26,
    "start_time": "2021-08-17T13:27:35.831Z"
   },
   {
    "duration": 696,
    "start_time": "2021-08-17T13:27:35.860Z"
   },
   {
    "duration": 22,
    "start_time": "2021-08-17T13:27:36.559Z"
   },
   {
    "duration": 37,
    "start_time": "2021-08-17T13:27:36.604Z"
   },
   {
    "duration": 59,
    "start_time": "2021-08-17T13:27:36.644Z"
   },
   {
    "duration": 1238,
    "start_time": "2021-08-17T13:27:36.706Z"
   },
   {
    "duration": 864,
    "start_time": "2021-08-17T13:27:37.947Z"
   },
   {
    "duration": 23,
    "start_time": "2021-08-17T13:27:38.813Z"
   },
   {
    "duration": 30,
    "start_time": "2021-08-17T13:27:38.839Z"
   },
   {
    "duration": 912,
    "start_time": "2021-08-17T13:27:38.872Z"
   },
   {
    "duration": 7,
    "start_time": "2021-08-17T13:27:39.787Z"
   },
   {
    "duration": 864,
    "start_time": "2021-08-17T13:27:39.801Z"
   },
   {
    "duration": 8,
    "start_time": "2021-08-17T13:27:40.667Z"
   },
   {
    "duration": 897,
    "start_time": "2021-08-17T13:27:40.678Z"
   },
   {
    "duration": 22,
    "start_time": "2021-08-17T13:27:41.578Z"
   },
   {
    "duration": 980,
    "start_time": "2021-08-17T13:27:41.603Z"
   },
   {
    "duration": 15,
    "start_time": "2021-08-17T13:27:42.586Z"
   },
   {
    "duration": 811,
    "start_time": "2021-08-17T13:27:42.603Z"
   },
   {
    "duration": 7,
    "start_time": "2021-08-17T13:27:43.416Z"
   },
   {
    "duration": 826,
    "start_time": "2021-08-17T13:27:43.425Z"
   },
   {
    "duration": 9,
    "start_time": "2021-08-17T13:27:44.254Z"
   },
   {
    "duration": 713,
    "start_time": "2021-08-17T13:27:44.266Z"
   },
   {
    "duration": 17,
    "start_time": "2021-08-17T13:27:44.982Z"
   },
   {
    "duration": 23,
    "start_time": "2021-08-17T13:27:45.002Z"
   },
   {
    "duration": 442,
    "start_time": "2021-08-17T13:27:45.028Z"
   },
   {
    "duration": 32,
    "start_time": "2021-08-17T13:27:45.473Z"
   },
   {
    "duration": 464,
    "start_time": "2021-08-17T13:27:45.508Z"
   },
   {
    "duration": 6,
    "start_time": "2021-08-17T13:27:45.974Z"
   },
   {
    "duration": 445,
    "start_time": "2021-08-17T13:27:45.982Z"
   },
   {
    "duration": 455,
    "start_time": "2021-08-17T13:27:46.430Z"
   },
   {
    "duration": 18,
    "start_time": "2021-08-17T13:27:46.888Z"
   },
   {
    "duration": 600,
    "start_time": "2021-08-17T13:27:46.908Z"
   },
   {
    "duration": 13,
    "start_time": "2021-08-17T13:27:47.512Z"
   },
   {
    "duration": 458,
    "start_time": "2021-08-17T13:27:47.529Z"
   },
   {
    "duration": 371,
    "start_time": "2021-08-17T13:27:47.990Z"
   },
   {
    "duration": 9,
    "start_time": "2021-08-17T13:27:48.363Z"
   },
   {
    "duration": 471,
    "start_time": "2021-08-17T13:27:48.375Z"
   },
   {
    "duration": 5,
    "start_time": "2021-08-17T13:27:48.848Z"
   },
   {
    "duration": 435,
    "start_time": "2021-08-17T13:27:48.856Z"
   },
   {
    "duration": 359,
    "start_time": "2021-08-17T13:27:49.293Z"
   },
   {
    "duration": 8,
    "start_time": "2021-08-17T13:27:49.655Z"
   },
   {
    "duration": 24,
    "start_time": "2021-08-17T13:27:49.666Z"
   },
   {
    "duration": 12,
    "start_time": "2021-08-17T13:27:49.701Z"
   },
   {
    "duration": 12,
    "start_time": "2021-08-17T13:27:49.715Z"
   },
   {
    "duration": 10,
    "start_time": "2021-08-17T13:27:49.730Z"
   },
   {
    "duration": 16,
    "start_time": "2021-08-17T13:27:49.742Z"
   },
   {
    "duration": 10,
    "start_time": "2021-08-17T13:27:49.761Z"
   },
   {
    "duration": 31,
    "start_time": "2021-08-17T13:28:16.081Z"
   },
   {
    "duration": 9,
    "start_time": "2021-08-17T14:11:15.044Z"
   },
   {
    "duration": 58,
    "start_time": "2021-08-17T14:11:15.059Z"
   },
   {
    "duration": 9,
    "start_time": "2021-08-17T14:11:15.120Z"
   },
   {
    "duration": 11,
    "start_time": "2021-08-17T14:11:15.130Z"
   },
   {
    "duration": 20,
    "start_time": "2021-08-17T14:11:15.142Z"
   },
   {
    "duration": 6,
    "start_time": "2021-08-17T14:11:15.163Z"
   },
   {
    "duration": 13,
    "start_time": "2021-08-17T14:11:15.191Z"
   },
   {
    "duration": 27,
    "start_time": "2021-08-17T14:11:15.205Z"
   },
   {
    "duration": 33,
    "start_time": "2021-08-17T14:11:15.233Z"
   },
   {
    "duration": 9,
    "start_time": "2021-08-17T14:11:15.268Z"
   },
   {
    "duration": 16,
    "start_time": "2021-08-17T14:11:15.279Z"
   },
   {
    "duration": 22,
    "start_time": "2021-08-17T14:11:15.296Z"
   },
   {
    "duration": 15,
    "start_time": "2021-08-17T14:11:15.320Z"
   },
   {
    "duration": 9,
    "start_time": "2021-08-17T14:11:15.337Z"
   },
   {
    "duration": 14,
    "start_time": "2021-08-17T14:11:15.348Z"
   },
   {
    "duration": 29,
    "start_time": "2021-08-17T14:11:15.364Z"
   },
   {
    "duration": 9,
    "start_time": "2021-08-17T14:11:15.394Z"
   },
   {
    "duration": 15,
    "start_time": "2021-08-17T14:11:15.404Z"
   },
   {
    "duration": 20,
    "start_time": "2021-08-17T14:11:15.421Z"
   },
   {
    "duration": 11,
    "start_time": "2021-08-17T14:11:15.443Z"
   },
   {
    "duration": 376,
    "start_time": "2021-08-17T14:11:15.456Z"
   },
   {
    "duration": 14,
    "start_time": "2021-08-17T14:11:15.834Z"
   },
   {
    "duration": 19,
    "start_time": "2021-08-17T14:11:15.850Z"
   },
   {
    "duration": 34,
    "start_time": "2021-08-17T14:11:15.871Z"
   },
   {
    "duration": 638,
    "start_time": "2021-08-17T14:11:15.907Z"
   },
   {
    "duration": 567,
    "start_time": "2021-08-17T14:11:16.547Z"
   },
   {
    "duration": 13,
    "start_time": "2021-08-17T14:11:17.116Z"
   },
   {
    "duration": 19,
    "start_time": "2021-08-17T14:11:17.131Z"
   },
   {
    "duration": 515,
    "start_time": "2021-08-17T14:11:17.151Z"
   },
   {
    "duration": 6,
    "start_time": "2021-08-17T14:11:17.667Z"
   },
   {
    "duration": 483,
    "start_time": "2021-08-17T14:11:17.674Z"
   },
   {
    "duration": 5,
    "start_time": "2021-08-17T14:11:18.159Z"
   },
   {
    "duration": 487,
    "start_time": "2021-08-17T14:11:18.166Z"
   },
   {
    "duration": 5,
    "start_time": "2021-08-17T14:11:18.654Z"
   },
   {
    "duration": 490,
    "start_time": "2021-08-17T14:11:18.661Z"
   },
   {
    "duration": 6,
    "start_time": "2021-08-17T14:11:19.153Z"
   },
   {
    "duration": 488,
    "start_time": "2021-08-17T14:11:19.160Z"
   },
   {
    "duration": 5,
    "start_time": "2021-08-17T14:11:19.649Z"
   },
   {
    "duration": 487,
    "start_time": "2021-08-17T14:11:19.656Z"
   },
   {
    "duration": 4,
    "start_time": "2021-08-17T14:11:20.145Z"
   },
   {
    "duration": 545,
    "start_time": "2021-08-17T14:11:20.151Z"
   },
   {
    "duration": 5,
    "start_time": "2021-08-17T14:11:20.697Z"
   },
   {
    "duration": 29,
    "start_time": "2021-08-17T14:11:20.703Z"
   },
   {
    "duration": 238,
    "start_time": "2021-08-17T14:11:20.733Z"
   },
   {
    "duration": 26,
    "start_time": "2021-08-17T14:11:20.972Z"
   },
   {
    "duration": 253,
    "start_time": "2021-08-17T14:11:21.000Z"
   },
   {
    "duration": 3,
    "start_time": "2021-08-17T14:11:21.255Z"
   },
   {
    "duration": 250,
    "start_time": "2021-08-17T14:11:21.260Z"
   },
   {
    "duration": 209,
    "start_time": "2021-08-17T14:11:21.512Z"
   },
   {
    "duration": 6,
    "start_time": "2021-08-17T14:11:21.723Z"
   },
   {
    "duration": 271,
    "start_time": "2021-08-17T14:11:21.730Z"
   },
   {
    "duration": 3,
    "start_time": "2021-08-17T14:11:22.003Z"
   },
   {
    "duration": 241,
    "start_time": "2021-08-17T14:11:22.008Z"
   },
   {
    "duration": 211,
    "start_time": "2021-08-17T14:11:22.250Z"
   },
   {
    "duration": 6,
    "start_time": "2021-08-17T14:11:22.463Z"
   },
   {
    "duration": 271,
    "start_time": "2021-08-17T14:11:22.470Z"
   },
   {
    "duration": 3,
    "start_time": "2021-08-17T14:11:22.743Z"
   },
   {
    "duration": 246,
    "start_time": "2021-08-17T14:11:22.748Z"
   },
   {
    "duration": 206,
    "start_time": "2021-08-17T14:11:22.995Z"
   },
   {
    "duration": 6,
    "start_time": "2021-08-17T14:11:23.202Z"
   },
   {
    "duration": 8,
    "start_time": "2021-08-17T14:11:23.210Z"
   },
   {
    "duration": 16,
    "start_time": "2021-08-17T14:11:23.219Z"
   },
   {
    "duration": 12,
    "start_time": "2021-08-17T14:11:23.237Z"
   },
   {
    "duration": 7,
    "start_time": "2021-08-17T14:11:23.251Z"
   },
   {
    "duration": 20,
    "start_time": "2021-08-17T14:11:23.260Z"
   },
   {
    "duration": 13,
    "start_time": "2021-08-17T14:11:23.282Z"
   },
   {
    "duration": 303,
    "start_time": "2021-08-17T14:29:16.025Z"
   },
   {
    "duration": 5,
    "start_time": "2021-08-17T14:29:26.191Z"
   },
   {
    "duration": 1117,
    "start_time": "2021-08-17T14:31:30.711Z"
   },
   {
    "duration": 51,
    "start_time": "2021-08-17T14:31:31.830Z"
   },
   {
    "duration": 9,
    "start_time": "2021-08-17T14:31:31.884Z"
   },
   {
    "duration": 11,
    "start_time": "2021-08-17T14:31:31.895Z"
   },
   {
    "duration": 17,
    "start_time": "2021-08-17T14:31:31.907Z"
   },
   {
    "duration": 8,
    "start_time": "2021-08-17T14:31:31.926Z"
   },
   {
    "duration": 14,
    "start_time": "2021-08-17T14:31:31.936Z"
   },
   {
    "duration": 17,
    "start_time": "2021-08-17T14:31:31.952Z"
   },
   {
    "duration": 43,
    "start_time": "2021-08-17T14:31:31.971Z"
   },
   {
    "duration": 9,
    "start_time": "2021-08-17T14:31:32.016Z"
   },
   {
    "duration": 4,
    "start_time": "2021-08-17T14:31:32.027Z"
   },
   {
    "duration": 18,
    "start_time": "2021-08-17T14:31:32.033Z"
   },
   {
    "duration": 40,
    "start_time": "2021-08-17T14:31:32.052Z"
   },
   {
    "duration": 7,
    "start_time": "2021-08-17T14:31:32.094Z"
   },
   {
    "duration": 9,
    "start_time": "2021-08-17T14:31:32.102Z"
   },
   {
    "duration": 10,
    "start_time": "2021-08-17T14:31:32.112Z"
   },
   {
    "duration": 13,
    "start_time": "2021-08-17T14:31:32.123Z"
   },
   {
    "duration": 13,
    "start_time": "2021-08-17T14:31:32.138Z"
   },
   {
    "duration": 22,
    "start_time": "2021-08-17T14:31:32.152Z"
   },
   {
    "duration": 25,
    "start_time": "2021-08-17T14:31:32.176Z"
   },
   {
    "duration": 454,
    "start_time": "2021-08-17T14:31:32.202Z"
   },
   {
    "duration": 14,
    "start_time": "2021-08-17T14:31:32.657Z"
   },
   {
    "duration": 29,
    "start_time": "2021-08-17T14:31:32.675Z"
   },
   {
    "duration": 16,
    "start_time": "2021-08-17T14:31:32.705Z"
   },
   {
    "duration": 626,
    "start_time": "2021-08-17T14:31:32.723Z"
   },
   {
    "duration": 464,
    "start_time": "2021-08-17T14:31:33.351Z"
   },
   {
    "duration": 12,
    "start_time": "2021-08-17T14:31:33.817Z"
   },
   {
    "duration": 15,
    "start_time": "2021-08-17T14:31:33.830Z"
   },
   {
    "duration": 537,
    "start_time": "2021-08-17T14:31:33.847Z"
   },
   {
    "duration": 7,
    "start_time": "2021-08-17T14:31:34.385Z"
   },
   {
    "duration": 573,
    "start_time": "2021-08-17T14:31:34.394Z"
   },
   {
    "duration": 5,
    "start_time": "2021-08-17T14:31:34.968Z"
   },
   {
    "duration": 496,
    "start_time": "2021-08-17T14:31:34.975Z"
   },
   {
    "duration": 5,
    "start_time": "2021-08-17T14:31:35.472Z"
   },
   {
    "duration": 506,
    "start_time": "2021-08-17T14:31:35.478Z"
   },
   {
    "duration": 8,
    "start_time": "2021-08-17T14:31:35.985Z"
   },
   {
    "duration": 497,
    "start_time": "2021-08-17T14:31:35.994Z"
   },
   {
    "duration": 5,
    "start_time": "2021-08-17T14:31:36.493Z"
   },
   {
    "duration": 475,
    "start_time": "2021-08-17T14:31:36.499Z"
   },
   {
    "duration": 4,
    "start_time": "2021-08-17T14:31:36.976Z"
   },
   {
    "duration": 451,
    "start_time": "2021-08-17T14:31:36.991Z"
   },
   {
    "duration": 4,
    "start_time": "2021-08-17T14:31:37.444Z"
   },
   {
    "duration": 16,
    "start_time": "2021-08-17T14:31:37.450Z"
   },
   {
    "duration": 242,
    "start_time": "2021-08-17T14:31:37.467Z"
   },
   {
    "duration": 12,
    "start_time": "2021-08-17T14:31:37.711Z"
   },
   {
    "duration": 260,
    "start_time": "2021-08-17T14:31:37.725Z"
   },
   {
    "duration": 4,
    "start_time": "2021-08-17T14:31:37.987Z"
   },
   {
    "duration": 242,
    "start_time": "2021-08-17T14:31:37.992Z"
   },
   {
    "duration": 302,
    "start_time": "2021-08-17T14:31:38.236Z"
   },
   {
    "duration": 6,
    "start_time": "2021-08-17T14:31:38.539Z"
   },
   {
    "duration": 266,
    "start_time": "2021-08-17T14:31:38.546Z"
   },
   {
    "duration": 4,
    "start_time": "2021-08-17T14:31:38.814Z"
   },
   {
    "duration": 234,
    "start_time": "2021-08-17T14:31:38.819Z"
   },
   {
    "duration": 206,
    "start_time": "2021-08-17T14:31:39.055Z"
   },
   {
    "duration": 6,
    "start_time": "2021-08-17T14:31:39.262Z"
   },
   {
    "duration": 265,
    "start_time": "2021-08-17T14:31:39.270Z"
   },
   {
    "duration": 4,
    "start_time": "2021-08-17T14:31:39.536Z"
   },
   {
    "duration": 249,
    "start_time": "2021-08-17T14:31:39.542Z"
   },
   {
    "duration": 200,
    "start_time": "2021-08-17T14:31:39.793Z"
   },
   {
    "duration": 5,
    "start_time": "2021-08-17T14:31:39.995Z"
   },
   {
    "duration": 14,
    "start_time": "2021-08-17T14:31:40.001Z"
   },
   {
    "duration": 9,
    "start_time": "2021-08-17T14:31:40.016Z"
   },
   {
    "duration": 7,
    "start_time": "2021-08-17T14:31:40.026Z"
   },
   {
    "duration": 9,
    "start_time": "2021-08-17T14:31:40.034Z"
   },
   {
    "duration": 6,
    "start_time": "2021-08-17T14:31:40.045Z"
   },
   {
    "duration": 16,
    "start_time": "2021-08-17T14:31:40.053Z"
   },
   {
    "duration": 1016,
    "start_time": "2021-08-17T14:58:58.023Z"
   },
   {
    "duration": 51,
    "start_time": "2021-08-17T14:58:59.041Z"
   },
   {
    "duration": 9,
    "start_time": "2021-08-17T14:58:59.094Z"
   },
   {
    "duration": 11,
    "start_time": "2021-08-17T14:58:59.104Z"
   },
   {
    "duration": 15,
    "start_time": "2021-08-17T14:58:59.117Z"
   },
   {
    "duration": 5,
    "start_time": "2021-08-17T14:58:59.134Z"
   },
   {
    "duration": 12,
    "start_time": "2021-08-17T14:58:59.141Z"
   },
   {
    "duration": 37,
    "start_time": "2021-08-17T14:58:59.155Z"
   },
   {
    "duration": 24,
    "start_time": "2021-08-17T14:58:59.194Z"
   },
   {
    "duration": 9,
    "start_time": "2021-08-17T14:58:59.219Z"
   },
   {
    "duration": 4,
    "start_time": "2021-08-17T14:58:59.230Z"
   },
   {
    "duration": 22,
    "start_time": "2021-08-17T14:58:59.236Z"
   },
   {
    "duration": 40,
    "start_time": "2021-08-17T14:58:59.260Z"
   },
   {
    "duration": 7,
    "start_time": "2021-08-17T14:58:59.302Z"
   },
   {
    "duration": 7,
    "start_time": "2021-08-17T14:58:59.310Z"
   },
   {
    "duration": 10,
    "start_time": "2021-08-17T14:58:59.319Z"
   },
   {
    "duration": 9,
    "start_time": "2021-08-17T14:58:59.331Z"
   },
   {
    "duration": 12,
    "start_time": "2021-08-17T14:58:59.342Z"
   },
   {
    "duration": 43,
    "start_time": "2021-08-17T14:58:59.355Z"
   },
   {
    "duration": 11,
    "start_time": "2021-08-17T14:58:59.400Z"
   },
   {
    "duration": 356,
    "start_time": "2021-08-17T14:58:59.413Z"
   },
   {
    "duration": 22,
    "start_time": "2021-08-17T14:58:59.770Z"
   },
   {
    "duration": 21,
    "start_time": "2021-08-17T14:58:59.796Z"
   },
   {
    "duration": 18,
    "start_time": "2021-08-17T14:58:59.819Z"
   },
   {
    "duration": 653,
    "start_time": "2021-08-17T14:58:59.839Z"
   },
   {
    "duration": 468,
    "start_time": "2021-08-17T14:59:00.493Z"
   },
   {
    "duration": 13,
    "start_time": "2021-08-17T14:59:00.962Z"
   },
   {
    "duration": 29,
    "start_time": "2021-08-17T14:59:00.977Z"
   },
   {
    "duration": 477,
    "start_time": "2021-08-17T14:59:01.008Z"
   },
   {
    "duration": 8,
    "start_time": "2021-08-17T14:59:01.487Z"
   },
   {
    "duration": 544,
    "start_time": "2021-08-17T14:59:01.497Z"
   },
   {
    "duration": 5,
    "start_time": "2021-08-17T14:59:02.043Z"
   },
   {
    "duration": 489,
    "start_time": "2021-08-17T14:59:02.049Z"
   },
   {
    "duration": 5,
    "start_time": "2021-08-17T14:59:02.540Z"
   },
   {
    "duration": 525,
    "start_time": "2021-08-17T14:59:02.547Z"
   },
   {
    "duration": 5,
    "start_time": "2021-08-17T14:59:03.074Z"
   },
   {
    "duration": 488,
    "start_time": "2021-08-17T14:59:03.080Z"
   },
   {
    "duration": 6,
    "start_time": "2021-08-17T14:59:03.570Z"
   },
   {
    "duration": 527,
    "start_time": "2021-08-17T14:59:03.578Z"
   },
   {
    "duration": 6,
    "start_time": "2021-08-17T14:59:04.106Z"
   },
   {
    "duration": 499,
    "start_time": "2021-08-17T14:59:04.113Z"
   },
   {
    "duration": 5,
    "start_time": "2021-08-17T14:59:04.614Z"
   },
   {
    "duration": 15,
    "start_time": "2021-08-17T14:59:04.621Z"
   },
   {
    "duration": 307,
    "start_time": "2021-08-17T14:59:04.638Z"
   },
   {
    "duration": 13,
    "start_time": "2021-08-17T14:59:04.947Z"
   },
   {
    "duration": 253,
    "start_time": "2021-08-17T14:59:04.961Z"
   },
   {
    "duration": 4,
    "start_time": "2021-08-17T14:59:05.216Z"
   },
   {
    "duration": 257,
    "start_time": "2021-08-17T14:59:05.221Z"
   },
   {
    "duration": 294,
    "start_time": "2021-08-17T14:59:05.480Z"
   },
   {
    "duration": 6,
    "start_time": "2021-08-17T14:59:05.775Z"
   },
   {
    "duration": 254,
    "start_time": "2021-08-17T14:59:05.782Z"
   },
   {
    "duration": 4,
    "start_time": "2021-08-17T14:59:06.037Z"
   },
   {
    "duration": 236,
    "start_time": "2021-08-17T14:59:06.042Z"
   },
   {
    "duration": 201,
    "start_time": "2021-08-17T14:59:06.279Z"
   },
   {
    "duration": 9,
    "start_time": "2021-08-17T14:59:06.482Z"
   },
   {
    "duration": 258,
    "start_time": "2021-08-17T14:59:06.492Z"
   },
   {
    "duration": 3,
    "start_time": "2021-08-17T14:59:06.752Z"
   },
   {
    "duration": 244,
    "start_time": "2021-08-17T14:59:06.757Z"
   },
   {
    "duration": 203,
    "start_time": "2021-08-17T14:59:07.003Z"
   },
   {
    "duration": 6,
    "start_time": "2021-08-17T14:59:07.208Z"
   },
   {
    "duration": 25,
    "start_time": "2021-08-17T14:59:07.215Z"
   },
   {
    "duration": 30,
    "start_time": "2021-08-17T14:59:07.241Z"
   },
   {
    "duration": 23,
    "start_time": "2021-08-17T14:59:07.273Z"
   },
   {
    "duration": 11,
    "start_time": "2021-08-17T14:59:07.298Z"
   },
   {
    "duration": 9,
    "start_time": "2021-08-17T14:59:07.310Z"
   },
   {
    "duration": 21,
    "start_time": "2021-08-17T14:59:07.320Z"
   },
   {
    "duration": 1279,
    "start_time": "2021-08-17T15:16:03.524Z"
   },
   {
    "duration": 52,
    "start_time": "2021-08-17T15:16:04.805Z"
   },
   {
    "duration": 9,
    "start_time": "2021-08-17T15:16:04.859Z"
   },
   {
    "duration": 23,
    "start_time": "2021-08-17T15:16:04.870Z"
   },
   {
    "duration": 40,
    "start_time": "2021-08-17T15:16:04.894Z"
   },
   {
    "duration": 28,
    "start_time": "2021-08-17T15:16:04.936Z"
   },
   {
    "duration": 44,
    "start_time": "2021-08-17T15:16:04.966Z"
   },
   {
    "duration": 43,
    "start_time": "2021-08-17T15:16:05.012Z"
   },
   {
    "duration": 56,
    "start_time": "2021-08-17T15:16:05.057Z"
   },
   {
    "duration": 12,
    "start_time": "2021-08-17T15:16:05.114Z"
   },
   {
    "duration": 23,
    "start_time": "2021-08-17T15:16:05.127Z"
   },
   {
    "duration": 39,
    "start_time": "2021-08-17T15:16:05.151Z"
   },
   {
    "duration": 16,
    "start_time": "2021-08-17T15:16:05.192Z"
   },
   {
    "duration": 34,
    "start_time": "2021-08-17T15:16:05.210Z"
   },
   {
    "duration": 24,
    "start_time": "2021-08-17T15:16:05.246Z"
   },
   {
    "duration": 15,
    "start_time": "2021-08-17T15:16:05.272Z"
   },
   {
    "duration": 24,
    "start_time": "2021-08-17T15:16:05.289Z"
   },
   {
    "duration": 28,
    "start_time": "2021-08-17T15:16:05.314Z"
   },
   {
    "duration": 36,
    "start_time": "2021-08-17T15:16:05.344Z"
   },
   {
    "duration": 21,
    "start_time": "2021-08-17T15:16:05.381Z"
   },
   {
    "duration": 369,
    "start_time": "2021-08-17T15:16:05.404Z"
   },
   {
    "duration": 17,
    "start_time": "2021-08-17T15:16:05.775Z"
   },
   {
    "duration": 32,
    "start_time": "2021-08-17T15:16:05.796Z"
   },
   {
    "duration": 18,
    "start_time": "2021-08-17T15:16:05.830Z"
   },
   {
    "duration": 635,
    "start_time": "2021-08-17T15:16:05.849Z"
   },
   {
    "duration": 478,
    "start_time": "2021-08-17T15:16:06.485Z"
   },
   {
    "duration": 12,
    "start_time": "2021-08-17T15:16:06.965Z"
   },
   {
    "duration": 33,
    "start_time": "2021-08-17T15:16:06.979Z"
   },
   {
    "duration": 466,
    "start_time": "2021-08-17T15:16:07.014Z"
   },
   {
    "duration": 4,
    "start_time": "2021-08-17T15:16:07.482Z"
   },
   {
    "duration": 541,
    "start_time": "2021-08-17T15:16:07.491Z"
   },
   {
    "duration": 4,
    "start_time": "2021-08-17T15:16:08.034Z"
   },
   {
    "duration": 480,
    "start_time": "2021-08-17T15:16:08.040Z"
   },
   {
    "duration": 4,
    "start_time": "2021-08-17T15:16:08.522Z"
   },
   {
    "duration": 447,
    "start_time": "2021-08-17T15:16:08.528Z"
   },
   {
    "duration": 4,
    "start_time": "2021-08-17T15:16:08.977Z"
   },
   {
    "duration": 450,
    "start_time": "2021-08-17T15:16:08.991Z"
   },
   {
    "duration": 5,
    "start_time": "2021-08-17T15:16:09.442Z"
   },
   {
    "duration": 492,
    "start_time": "2021-08-17T15:16:09.449Z"
   },
   {
    "duration": 4,
    "start_time": "2021-08-17T15:16:09.943Z"
   },
   {
    "duration": 465,
    "start_time": "2021-08-17T15:16:09.948Z"
   },
   {
    "duration": 4,
    "start_time": "2021-08-17T15:16:10.414Z"
   },
   {
    "duration": 19,
    "start_time": "2021-08-17T15:16:10.420Z"
   },
   {
    "duration": 229,
    "start_time": "2021-08-17T15:16:10.441Z"
   },
   {
    "duration": 20,
    "start_time": "2021-08-17T15:16:10.672Z"
   },
   {
    "duration": 244,
    "start_time": "2021-08-17T15:16:10.694Z"
   },
   {
    "duration": 4,
    "start_time": "2021-08-17T15:16:10.939Z"
   },
   {
    "duration": 255,
    "start_time": "2021-08-17T15:16:10.945Z"
   },
   {
    "duration": 326,
    "start_time": "2021-08-17T15:16:11.201Z"
   },
   {
    "duration": 5,
    "start_time": "2021-08-17T15:16:11.529Z"
   },
   {
    "duration": 255,
    "start_time": "2021-08-17T15:16:11.536Z"
   },
   {
    "duration": 3,
    "start_time": "2021-08-17T15:16:11.793Z"
   },
   {
    "duration": 235,
    "start_time": "2021-08-17T15:16:11.798Z"
   },
   {
    "duration": 204,
    "start_time": "2021-08-17T15:16:12.035Z"
   },
   {
    "duration": 6,
    "start_time": "2021-08-17T15:16:12.241Z"
   },
   {
    "duration": 257,
    "start_time": "2021-08-17T15:16:12.248Z"
   },
   {
    "duration": 4,
    "start_time": "2021-08-17T15:16:12.506Z"
   },
   {
    "duration": 235,
    "start_time": "2021-08-17T15:16:12.511Z"
   },
   {
    "duration": 201,
    "start_time": "2021-08-17T15:16:12.748Z"
   },
   {
    "duration": 6,
    "start_time": "2021-08-17T15:16:12.951Z"
   },
   {
    "duration": 16,
    "start_time": "2021-08-17T15:16:12.958Z"
   },
   {
    "duration": 16,
    "start_time": "2021-08-17T15:16:12.975Z"
   },
   {
    "duration": 5,
    "start_time": "2021-08-17T15:16:12.992Z"
   },
   {
    "duration": 12,
    "start_time": "2021-08-17T15:16:12.998Z"
   },
   {
    "duration": 9,
    "start_time": "2021-08-17T15:16:13.011Z"
   },
   {
    "duration": 5,
    "start_time": "2021-08-17T15:16:13.022Z"
   },
   {
    "duration": 1092,
    "start_time": "2021-08-17T15:21:35.690Z"
   },
   {
    "duration": 49,
    "start_time": "2021-08-17T15:21:36.784Z"
   },
   {
    "duration": 8,
    "start_time": "2021-08-17T15:21:36.835Z"
   },
   {
    "duration": 8,
    "start_time": "2021-08-17T15:21:36.845Z"
   },
   {
    "duration": 16,
    "start_time": "2021-08-17T15:21:36.855Z"
   },
   {
    "duration": 19,
    "start_time": "2021-08-17T15:21:36.874Z"
   },
   {
    "duration": 14,
    "start_time": "2021-08-17T15:21:36.895Z"
   },
   {
    "duration": 16,
    "start_time": "2021-08-17T15:21:36.911Z"
   },
   {
    "duration": 23,
    "start_time": "2021-08-17T15:21:36.929Z"
   },
   {
    "duration": 9,
    "start_time": "2021-08-17T15:21:36.954Z"
   },
   {
    "duration": 4,
    "start_time": "2021-08-17T15:21:36.992Z"
   },
   {
    "duration": 23,
    "start_time": "2021-08-17T15:21:36.997Z"
   },
   {
    "duration": 7,
    "start_time": "2021-08-17T15:21:37.022Z"
   },
   {
    "duration": 9,
    "start_time": "2021-08-17T15:21:37.030Z"
   },
   {
    "duration": 10,
    "start_time": "2021-08-17T15:21:37.040Z"
   },
   {
    "duration": 7,
    "start_time": "2021-08-17T15:21:37.052Z"
   },
   {
    "duration": 32,
    "start_time": "2021-08-17T15:21:37.061Z"
   },
   {
    "duration": 21,
    "start_time": "2021-08-17T15:21:37.096Z"
   },
   {
    "duration": 11,
    "start_time": "2021-08-17T15:21:37.119Z"
   },
   {
    "duration": 354,
    "start_time": "2021-08-17T15:21:37.132Z"
   },
   {
    "duration": 13,
    "start_time": "2021-08-17T15:21:37.488Z"
   },
   {
    "duration": 21,
    "start_time": "2021-08-17T15:21:37.503Z"
   },
   {
    "duration": 18,
    "start_time": "2021-08-17T15:21:37.526Z"
   },
   {
    "duration": 742,
    "start_time": "2021-08-17T15:21:37.545Z"
   },
   {
    "duration": 456,
    "start_time": "2021-08-17T15:21:38.289Z"
   },
   {
    "duration": 14,
    "start_time": "2021-08-17T15:21:38.746Z"
   },
   {
    "duration": 32,
    "start_time": "2021-08-17T15:21:38.762Z"
   },
   {
    "duration": 724,
    "start_time": "2021-08-17T15:21:38.795Z"
   },
   {
    "duration": 2,
    "start_time": "2021-08-17T15:21:39.519Z"
   },
   {
    "duration": -1,
    "start_time": "2021-08-17T15:21:39.524Z"
   },
   {
    "duration": -5,
    "start_time": "2021-08-17T15:21:39.529Z"
   },
   {
    "duration": -8,
    "start_time": "2021-08-17T15:21:39.533Z"
   },
   {
    "duration": -28,
    "start_time": "2021-08-17T15:21:39.554Z"
   },
   {
    "duration": -29,
    "start_time": "2021-08-17T15:21:39.557Z"
   },
   {
    "duration": -32,
    "start_time": "2021-08-17T15:21:39.561Z"
   },
   {
    "duration": -36,
    "start_time": "2021-08-17T15:21:39.566Z"
   },
   {
    "duration": -39,
    "start_time": "2021-08-17T15:21:39.570Z"
   },
   {
    "duration": -42,
    "start_time": "2021-08-17T15:21:39.574Z"
   },
   {
    "duration": -44,
    "start_time": "2021-08-17T15:21:39.578Z"
   },
   {
    "duration": -47,
    "start_time": "2021-08-17T15:21:39.582Z"
   },
   {
    "duration": -62,
    "start_time": "2021-08-17T15:21:39.598Z"
   },
   {
    "duration": -66,
    "start_time": "2021-08-17T15:21:39.603Z"
   },
   {
    "duration": -68,
    "start_time": "2021-08-17T15:21:39.606Z"
   },
   {
    "duration": -71,
    "start_time": "2021-08-17T15:21:39.610Z"
   },
   {
    "duration": -74,
    "start_time": "2021-08-17T15:21:39.614Z"
   },
   {
    "duration": -77,
    "start_time": "2021-08-17T15:21:39.618Z"
   },
   {
    "duration": -91,
    "start_time": "2021-08-17T15:21:39.634Z"
   },
   {
    "duration": -96,
    "start_time": "2021-08-17T15:21:39.640Z"
   },
   {
    "duration": -99,
    "start_time": "2021-08-17T15:21:39.644Z"
   },
   {
    "duration": -102,
    "start_time": "2021-08-17T15:21:39.648Z"
   },
   {
    "duration": -104,
    "start_time": "2021-08-17T15:21:39.651Z"
   },
   {
    "duration": -108,
    "start_time": "2021-08-17T15:21:39.656Z"
   },
   {
    "duration": -110,
    "start_time": "2021-08-17T15:21:39.660Z"
   },
   {
    "duration": -113,
    "start_time": "2021-08-17T15:21:39.664Z"
   },
   {
    "duration": -117,
    "start_time": "2021-08-17T15:21:39.668Z"
   },
   {
    "duration": -135,
    "start_time": "2021-08-17T15:21:39.687Z"
   },
   {
    "duration": -137,
    "start_time": "2021-08-17T15:21:39.690Z"
   },
   {
    "duration": -140,
    "start_time": "2021-08-17T15:21:39.694Z"
   },
   {
    "duration": -107,
    "start_time": "2021-08-17T15:21:39.698Z"
   },
   {
    "duration": -121,
    "start_time": "2021-08-17T15:21:39.713Z"
   },
   {
    "duration": -124,
    "start_time": "2021-08-17T15:21:39.717Z"
   },
   {
    "duration": -139,
    "start_time": "2021-08-17T15:21:39.733Z"
   },
   {
    "duration": -142,
    "start_time": "2021-08-17T15:21:39.737Z"
   },
   {
    "duration": -145,
    "start_time": "2021-08-17T15:21:39.741Z"
   },
   {
    "duration": -148,
    "start_time": "2021-08-17T15:21:39.745Z"
   },
   {
    "duration": 1043,
    "start_time": "2021-08-17T15:22:28.084Z"
   },
   {
    "duration": 49,
    "start_time": "2021-08-17T15:22:29.128Z"
   },
   {
    "duration": 8,
    "start_time": "2021-08-17T15:22:29.181Z"
   },
   {
    "duration": 7,
    "start_time": "2021-08-17T15:22:29.191Z"
   },
   {
    "duration": 16,
    "start_time": "2021-08-17T15:22:29.199Z"
   },
   {
    "duration": 6,
    "start_time": "2021-08-17T15:22:29.216Z"
   },
   {
    "duration": 12,
    "start_time": "2021-08-17T15:22:29.224Z"
   },
   {
    "duration": 15,
    "start_time": "2021-08-17T15:22:29.238Z"
   },
   {
    "duration": 51,
    "start_time": "2021-08-17T15:22:29.255Z"
   },
   {
    "duration": 9,
    "start_time": "2021-08-17T15:22:29.307Z"
   },
   {
    "duration": 4,
    "start_time": "2021-08-17T15:22:29.317Z"
   },
   {
    "duration": 21,
    "start_time": "2021-08-17T15:22:29.322Z"
   },
   {
    "duration": 7,
    "start_time": "2021-08-17T15:22:29.344Z"
   },
   {
    "duration": 14,
    "start_time": "2021-08-17T15:22:29.352Z"
   },
   {
    "duration": 29,
    "start_time": "2021-08-17T15:22:29.368Z"
   },
   {
    "duration": 10,
    "start_time": "2021-08-17T15:22:29.398Z"
   },
   {
    "duration": 15,
    "start_time": "2021-08-17T15:22:29.409Z"
   },
   {
    "duration": 16,
    "start_time": "2021-08-17T15:22:29.426Z"
   },
   {
    "duration": 29,
    "start_time": "2021-08-17T15:22:29.443Z"
   },
   {
    "duration": 11,
    "start_time": "2021-08-17T15:22:29.473Z"
   },
   {
    "duration": 347,
    "start_time": "2021-08-17T15:22:29.485Z"
   },
   {
    "duration": 13,
    "start_time": "2021-08-17T15:22:29.835Z"
   },
   {
    "duration": 20,
    "start_time": "2021-08-17T15:22:29.850Z"
   },
   {
    "duration": 34,
    "start_time": "2021-08-17T15:22:29.871Z"
   },
   {
    "duration": 634,
    "start_time": "2021-08-17T15:22:29.906Z"
   },
   {
    "duration": 478,
    "start_time": "2021-08-17T15:22:30.542Z"
   },
   {
    "duration": 14,
    "start_time": "2021-08-17T15:22:31.022Z"
   },
   {
    "duration": 33,
    "start_time": "2021-08-17T15:22:31.038Z"
   },
   {
    "duration": 490,
    "start_time": "2021-08-17T15:22:31.073Z"
   },
   {
    "duration": 5,
    "start_time": "2021-08-17T15:22:31.565Z"
   },
   {
    "duration": 569,
    "start_time": "2021-08-17T15:22:31.571Z"
   },
   {
    "duration": 5,
    "start_time": "2021-08-17T15:22:32.141Z"
   },
   {
    "duration": 479,
    "start_time": "2021-08-17T15:22:32.148Z"
   },
   {
    "duration": 5,
    "start_time": "2021-08-17T15:22:32.628Z"
   },
   {
    "duration": 536,
    "start_time": "2021-08-17T15:22:32.635Z"
   },
   {
    "duration": 5,
    "start_time": "2021-08-17T15:22:33.172Z"
   },
   {
    "duration": 473,
    "start_time": "2021-08-17T15:22:33.179Z"
   },
   {
    "duration": 5,
    "start_time": "2021-08-17T15:22:33.654Z"
   },
   {
    "duration": 493,
    "start_time": "2021-08-17T15:22:33.660Z"
   },
   {
    "duration": 5,
    "start_time": "2021-08-17T15:22:34.154Z"
   },
   {
    "duration": 480,
    "start_time": "2021-08-17T15:22:34.161Z"
   },
   {
    "duration": 5,
    "start_time": "2021-08-17T15:22:34.642Z"
   },
   {
    "duration": 21,
    "start_time": "2021-08-17T15:22:34.648Z"
   },
   {
    "duration": 239,
    "start_time": "2021-08-17T15:22:34.671Z"
   },
   {
    "duration": 13,
    "start_time": "2021-08-17T15:22:34.911Z"
   },
   {
    "duration": 257,
    "start_time": "2021-08-17T15:22:34.926Z"
   },
   {
    "duration": 8,
    "start_time": "2021-08-17T15:22:35.184Z"
   },
   {
    "duration": 243,
    "start_time": "2021-08-17T15:22:35.193Z"
   },
   {
    "duration": 289,
    "start_time": "2021-08-17T15:22:35.437Z"
   },
   {
    "duration": 6,
    "start_time": "2021-08-17T15:22:35.727Z"
   },
   {
    "duration": 260,
    "start_time": "2021-08-17T15:22:35.734Z"
   },
   {
    "duration": 4,
    "start_time": "2021-08-17T15:22:35.995Z"
   },
   {
    "duration": 231,
    "start_time": "2021-08-17T15:22:36.000Z"
   },
   {
    "duration": 216,
    "start_time": "2021-08-17T15:22:36.233Z"
   },
   {
    "duration": 6,
    "start_time": "2021-08-17T15:22:36.451Z"
   },
   {
    "duration": 255,
    "start_time": "2021-08-17T15:22:36.459Z"
   },
   {
    "duration": 5,
    "start_time": "2021-08-17T15:22:36.715Z"
   },
   {
    "duration": 247,
    "start_time": "2021-08-17T15:22:36.721Z"
   },
   {
    "duration": 209,
    "start_time": "2021-08-17T15:22:36.970Z"
   },
   {
    "duration": 11,
    "start_time": "2021-08-17T15:22:37.181Z"
   },
   {
    "duration": 7,
    "start_time": "2021-08-17T15:22:37.194Z"
   },
   {
    "duration": 9,
    "start_time": "2021-08-17T15:22:37.202Z"
   },
   {
    "duration": 7,
    "start_time": "2021-08-17T15:22:37.213Z"
   },
   {
    "duration": 8,
    "start_time": "2021-08-17T15:22:37.221Z"
   },
   {
    "duration": 7,
    "start_time": "2021-08-17T15:22:37.230Z"
   },
   {
    "duration": 13,
    "start_time": "2021-08-17T15:22:37.239Z"
   },
   {
    "duration": 568,
    "start_time": "2021-08-17T15:42:35.628Z"
   },
   {
    "duration": 616,
    "start_time": "2021-08-17T15:42:55.206Z"
   },
   {
    "duration": 11,
    "start_time": "2021-08-17T15:44:02.364Z"
   },
   {
    "duration": 470,
    "start_time": "2021-08-17T15:44:22.424Z"
   },
   {
    "duration": 1073,
    "start_time": "2021-08-17T15:44:50.052Z"
   },
   {
    "duration": 50,
    "start_time": "2021-08-17T15:44:51.127Z"
   },
   {
    "duration": 9,
    "start_time": "2021-08-17T15:44:51.179Z"
   },
   {
    "duration": 8,
    "start_time": "2021-08-17T15:44:51.192Z"
   },
   {
    "duration": 17,
    "start_time": "2021-08-17T15:44:51.202Z"
   },
   {
    "duration": 4,
    "start_time": "2021-08-17T15:44:51.221Z"
   },
   {
    "duration": 12,
    "start_time": "2021-08-17T15:44:51.227Z"
   },
   {
    "duration": 49,
    "start_time": "2021-08-17T15:44:51.242Z"
   },
   {
    "duration": 26,
    "start_time": "2021-08-17T15:44:51.293Z"
   },
   {
    "duration": 10,
    "start_time": "2021-08-17T15:44:51.321Z"
   },
   {
    "duration": 5,
    "start_time": "2021-08-17T15:44:51.333Z"
   },
   {
    "duration": 16,
    "start_time": "2021-08-17T15:44:51.339Z"
   },
   {
    "duration": 37,
    "start_time": "2021-08-17T15:44:51.356Z"
   },
   {
    "duration": 11,
    "start_time": "2021-08-17T15:44:51.394Z"
   },
   {
    "duration": 12,
    "start_time": "2021-08-17T15:44:51.407Z"
   },
   {
    "duration": 347,
    "start_time": "2021-08-17T15:44:51.420Z"
   },
   {
    "duration": -235,
    "start_time": "2021-08-17T15:44:52.006Z"
   },
   {
    "duration": -238,
    "start_time": "2021-08-17T15:44:52.010Z"
   },
   {
    "duration": -241,
    "start_time": "2021-08-17T15:44:52.014Z"
   },
   {
    "duration": -244,
    "start_time": "2021-08-17T15:44:52.018Z"
   },
   {
    "duration": -247,
    "start_time": "2021-08-17T15:44:52.021Z"
   },
   {
    "duration": -251,
    "start_time": "2021-08-17T15:44:52.026Z"
   },
   {
    "duration": -253,
    "start_time": "2021-08-17T15:44:52.029Z"
   },
   {
    "duration": -256,
    "start_time": "2021-08-17T15:44:52.033Z"
   },
   {
    "duration": -258,
    "start_time": "2021-08-17T15:44:52.036Z"
   },
   {
    "duration": -261,
    "start_time": "2021-08-17T15:44:52.040Z"
   },
   {
    "duration": -264,
    "start_time": "2021-08-17T15:44:52.044Z"
   },
   {
    "duration": -267,
    "start_time": "2021-08-17T15:44:52.048Z"
   },
   {
    "duration": -270,
    "start_time": "2021-08-17T15:44:52.052Z"
   },
   {
    "duration": -273,
    "start_time": "2021-08-17T15:44:52.056Z"
   },
   {
    "duration": -275,
    "start_time": "2021-08-17T15:44:52.059Z"
   },
   {
    "duration": -278,
    "start_time": "2021-08-17T15:44:52.063Z"
   },
   {
    "duration": -280,
    "start_time": "2021-08-17T15:44:52.066Z"
   },
   {
    "duration": -283,
    "start_time": "2021-08-17T15:44:52.070Z"
   },
   {
    "duration": -287,
    "start_time": "2021-08-17T15:44:52.074Z"
   },
   {
    "duration": -290,
    "start_time": "2021-08-17T15:44:52.078Z"
   },
   {
    "duration": -292,
    "start_time": "2021-08-17T15:44:52.081Z"
   },
   {
    "duration": -295,
    "start_time": "2021-08-17T15:44:52.085Z"
   },
   {
    "duration": -297,
    "start_time": "2021-08-17T15:44:52.088Z"
   },
   {
    "duration": -300,
    "start_time": "2021-08-17T15:44:52.092Z"
   },
   {
    "duration": -311,
    "start_time": "2021-08-17T15:44:52.104Z"
   },
   {
    "duration": -316,
    "start_time": "2021-08-17T15:44:52.110Z"
   },
   {
    "duration": -319,
    "start_time": "2021-08-17T15:44:52.114Z"
   },
   {
    "duration": -322,
    "start_time": "2021-08-17T15:44:52.118Z"
   },
   {
    "duration": -324,
    "start_time": "2021-08-17T15:44:52.121Z"
   },
   {
    "duration": -328,
    "start_time": "2021-08-17T15:44:52.125Z"
   },
   {
    "duration": -330,
    "start_time": "2021-08-17T15:44:52.128Z"
   },
   {
    "duration": -333,
    "start_time": "2021-08-17T15:44:52.132Z"
   },
   {
    "duration": -335,
    "start_time": "2021-08-17T15:44:52.135Z"
   },
   {
    "duration": -338,
    "start_time": "2021-08-17T15:44:52.139Z"
   },
   {
    "duration": -340,
    "start_time": "2021-08-17T15:44:52.142Z"
   },
   {
    "duration": -342,
    "start_time": "2021-08-17T15:44:52.145Z"
   },
   {
    "duration": -344,
    "start_time": "2021-08-17T15:44:52.148Z"
   },
   {
    "duration": -347,
    "start_time": "2021-08-17T15:44:52.152Z"
   },
   {
    "duration": -349,
    "start_time": "2021-08-17T15:44:52.155Z"
   },
   {
    "duration": -351,
    "start_time": "2021-08-17T15:44:52.158Z"
   },
   {
    "duration": -354,
    "start_time": "2021-08-17T15:44:52.161Z"
   },
   {
    "duration": -357,
    "start_time": "2021-08-17T15:44:52.165Z"
   },
   {
    "duration": -359,
    "start_time": "2021-08-17T15:44:52.168Z"
   },
   {
    "duration": -361,
    "start_time": "2021-08-17T15:44:52.171Z"
   },
   {
    "duration": -364,
    "start_time": "2021-08-17T15:44:52.175Z"
   },
   {
    "duration": -366,
    "start_time": "2021-08-17T15:44:52.178Z"
   },
   {
    "duration": -368,
    "start_time": "2021-08-17T15:44:52.181Z"
   },
   {
    "duration": -371,
    "start_time": "2021-08-17T15:44:52.185Z"
   },
   {
    "duration": -374,
    "start_time": "2021-08-17T15:44:52.188Z"
   },
   {
    "duration": -376,
    "start_time": "2021-08-17T15:44:52.191Z"
   },
   {
    "duration": 1073,
    "start_time": "2021-08-17T15:45:29.458Z"
   },
   {
    "duration": 51,
    "start_time": "2021-08-17T15:45:30.533Z"
   },
   {
    "duration": 9,
    "start_time": "2021-08-17T15:45:30.586Z"
   },
   {
    "duration": 20,
    "start_time": "2021-08-17T15:45:30.597Z"
   },
   {
    "duration": 33,
    "start_time": "2021-08-17T15:45:30.618Z"
   },
   {
    "duration": 12,
    "start_time": "2021-08-17T15:45:30.653Z"
   },
   {
    "duration": 36,
    "start_time": "2021-08-17T15:45:30.667Z"
   },
   {
    "duration": 30,
    "start_time": "2021-08-17T15:45:30.706Z"
   },
   {
    "duration": 41,
    "start_time": "2021-08-17T15:45:30.739Z"
   },
   {
    "duration": 11,
    "start_time": "2021-08-17T15:45:30.781Z"
   },
   {
    "duration": 32,
    "start_time": "2021-08-17T15:45:30.793Z"
   },
   {
    "duration": 34,
    "start_time": "2021-08-17T15:45:30.827Z"
   },
   {
    "duration": 7,
    "start_time": "2021-08-17T15:45:30.863Z"
   },
   {
    "duration": 23,
    "start_time": "2021-08-17T15:45:30.872Z"
   },
   {
    "duration": 35,
    "start_time": "2021-08-17T15:45:30.897Z"
   },
   {
    "duration": 348,
    "start_time": "2021-08-17T15:45:30.934Z"
   },
   {
    "duration": -161,
    "start_time": "2021-08-17T15:45:31.446Z"
   },
   {
    "duration": -163,
    "start_time": "2021-08-17T15:45:31.449Z"
   },
   {
    "duration": -166,
    "start_time": "2021-08-17T15:45:31.453Z"
   },
   {
    "duration": -171,
    "start_time": "2021-08-17T15:45:31.458Z"
   },
   {
    "duration": -173,
    "start_time": "2021-08-17T15:45:31.461Z"
   },
   {
    "duration": -175,
    "start_time": "2021-08-17T15:45:31.464Z"
   },
   {
    "duration": -178,
    "start_time": "2021-08-17T15:45:31.468Z"
   },
   {
    "duration": -181,
    "start_time": "2021-08-17T15:45:31.472Z"
   },
   {
    "duration": -217,
    "start_time": "2021-08-17T15:45:31.509Z"
   },
   {
    "duration": -224,
    "start_time": "2021-08-17T15:45:31.517Z"
   },
   {
    "duration": -228,
    "start_time": "2021-08-17T15:45:31.521Z"
   },
   {
    "duration": -232,
    "start_time": "2021-08-17T15:45:31.526Z"
   },
   {
    "duration": -234,
    "start_time": "2021-08-17T15:45:31.529Z"
   },
   {
    "duration": -236,
    "start_time": "2021-08-17T15:45:31.532Z"
   },
   {
    "duration": -239,
    "start_time": "2021-08-17T15:45:31.536Z"
   },
   {
    "duration": -243,
    "start_time": "2021-08-17T15:45:31.541Z"
   },
   {
    "duration": -246,
    "start_time": "2021-08-17T15:45:31.545Z"
   },
   {
    "duration": -249,
    "start_time": "2021-08-17T15:45:31.549Z"
   },
   {
    "duration": -253,
    "start_time": "2021-08-17T15:45:31.553Z"
   },
   {
    "duration": -258,
    "start_time": "2021-08-17T15:45:31.559Z"
   },
   {
    "duration": -260,
    "start_time": "2021-08-17T15:45:31.562Z"
   },
   {
    "duration": -263,
    "start_time": "2021-08-17T15:45:31.566Z"
   },
   {
    "duration": -268,
    "start_time": "2021-08-17T15:45:31.572Z"
   },
   {
    "duration": -272,
    "start_time": "2021-08-17T15:45:31.577Z"
   },
   {
    "duration": -274,
    "start_time": "2021-08-17T15:45:31.580Z"
   },
   {
    "duration": -278,
    "start_time": "2021-08-17T15:45:31.584Z"
   },
   {
    "duration": -281,
    "start_time": "2021-08-17T15:45:31.588Z"
   },
   {
    "duration": -286,
    "start_time": "2021-08-17T15:45:31.594Z"
   },
   {
    "duration": -289,
    "start_time": "2021-08-17T15:45:31.598Z"
   },
   {
    "duration": -292,
    "start_time": "2021-08-17T15:45:31.602Z"
   },
   {
    "duration": -295,
    "start_time": "2021-08-17T15:45:31.606Z"
   },
   {
    "duration": -310,
    "start_time": "2021-08-17T15:45:31.621Z"
   },
   {
    "duration": -315,
    "start_time": "2021-08-17T15:45:31.627Z"
   },
   {
    "duration": -318,
    "start_time": "2021-08-17T15:45:31.631Z"
   },
   {
    "duration": -322,
    "start_time": "2021-08-17T15:45:31.636Z"
   },
   {
    "duration": -327,
    "start_time": "2021-08-17T15:45:31.642Z"
   },
   {
    "duration": -332,
    "start_time": "2021-08-17T15:45:31.647Z"
   },
   {
    "duration": -336,
    "start_time": "2021-08-17T15:45:31.652Z"
   },
   {
    "duration": -340,
    "start_time": "2021-08-17T15:45:31.657Z"
   },
   {
    "duration": -344,
    "start_time": "2021-08-17T15:45:31.662Z"
   },
   {
    "duration": -347,
    "start_time": "2021-08-17T15:45:31.666Z"
   },
   {
    "duration": -350,
    "start_time": "2021-08-17T15:45:31.670Z"
   },
   {
    "duration": -354,
    "start_time": "2021-08-17T15:45:31.675Z"
   },
   {
    "duration": -358,
    "start_time": "2021-08-17T15:45:31.680Z"
   },
   {
    "duration": -361,
    "start_time": "2021-08-17T15:45:31.684Z"
   },
   {
    "duration": -366,
    "start_time": "2021-08-17T15:45:31.689Z"
   },
   {
    "duration": -369,
    "start_time": "2021-08-17T15:45:31.693Z"
   },
   {
    "duration": -373,
    "start_time": "2021-08-17T15:45:31.698Z"
   },
   {
    "duration": -376,
    "start_time": "2021-08-17T15:45:31.702Z"
   },
   {
    "duration": -379,
    "start_time": "2021-08-17T15:45:31.706Z"
   },
   {
    "duration": 4,
    "start_time": "2021-08-17T15:49:55.686Z"
   },
   {
    "duration": 8,
    "start_time": "2021-08-17T15:49:59.953Z"
   },
   {
    "duration": 282,
    "start_time": "2021-08-17T15:50:54.849Z"
   },
   {
    "duration": 1020,
    "start_time": "2021-08-17T15:53:55.441Z"
   },
   {
    "duration": 50,
    "start_time": "2021-08-17T15:53:56.462Z"
   },
   {
    "duration": 9,
    "start_time": "2021-08-17T15:53:56.514Z"
   },
   {
    "duration": 7,
    "start_time": "2021-08-17T15:53:56.525Z"
   },
   {
    "duration": 18,
    "start_time": "2021-08-17T15:53:56.533Z"
   },
   {
    "duration": 7,
    "start_time": "2021-08-17T15:53:56.552Z"
   },
   {
    "duration": 32,
    "start_time": "2021-08-17T15:53:56.560Z"
   },
   {
    "duration": 18,
    "start_time": "2021-08-17T15:53:56.594Z"
   },
   {
    "duration": 30,
    "start_time": "2021-08-17T15:53:56.613Z"
   },
   {
    "duration": 9,
    "start_time": "2021-08-17T15:53:56.644Z"
   },
   {
    "duration": 10,
    "start_time": "2021-08-17T15:53:56.655Z"
   },
   {
    "duration": 30,
    "start_time": "2021-08-17T15:53:56.667Z"
   },
   {
    "duration": 7,
    "start_time": "2021-08-17T15:53:56.698Z"
   },
   {
    "duration": 13,
    "start_time": "2021-08-17T15:53:56.707Z"
   },
   {
    "duration": 14,
    "start_time": "2021-08-17T15:53:56.722Z"
   },
   {
    "duration": 15,
    "start_time": "2021-08-17T15:53:56.737Z"
   },
   {
    "duration": 25,
    "start_time": "2021-08-17T15:53:56.754Z"
   },
   {
    "duration": 15,
    "start_time": "2021-08-17T15:53:56.780Z"
   },
   {
    "duration": 354,
    "start_time": "2021-08-17T15:53:56.797Z"
   },
   {
    "duration": 13,
    "start_time": "2021-08-17T15:53:57.153Z"
   },
   {
    "duration": 35,
    "start_time": "2021-08-17T15:53:57.167Z"
   },
   {
    "duration": 16,
    "start_time": "2021-08-17T15:53:57.204Z"
   },
   {
    "duration": 629,
    "start_time": "2021-08-17T15:53:57.223Z"
   },
   {
    "duration": 11,
    "start_time": "2021-08-17T15:53:57.854Z"
   },
   {
    "duration": 402,
    "start_time": "2021-08-17T15:53:57.867Z"
   },
   {
    "duration": 22,
    "start_time": "2021-08-17T15:53:58.271Z"
   },
   {
    "duration": 20,
    "start_time": "2021-08-17T15:53:58.294Z"
   },
   {
    "duration": 456,
    "start_time": "2021-08-17T15:53:58.315Z"
   },
   {
    "duration": 4,
    "start_time": "2021-08-17T15:53:58.773Z"
   },
   {
    "duration": 546,
    "start_time": "2021-08-17T15:53:58.779Z"
   },
   {
    "duration": 5,
    "start_time": "2021-08-17T15:53:59.326Z"
   },
   {
    "duration": 433,
    "start_time": "2021-08-17T15:53:59.332Z"
   },
   {
    "duration": 5,
    "start_time": "2021-08-17T15:53:59.766Z"
   },
   {
    "duration": 471,
    "start_time": "2021-08-17T15:53:59.773Z"
   },
   {
    "duration": 5,
    "start_time": "2021-08-17T15:54:00.246Z"
   },
   {
    "duration": 471,
    "start_time": "2021-08-17T15:54:00.252Z"
   },
   {
    "duration": 5,
    "start_time": "2021-08-17T15:54:00.725Z"
   },
   {
    "duration": 454,
    "start_time": "2021-08-17T15:54:00.732Z"
   },
   {
    "duration": 7,
    "start_time": "2021-08-17T15:54:01.187Z"
   },
   {
    "duration": 447,
    "start_time": "2021-08-17T15:54:01.195Z"
   },
   {
    "duration": 4,
    "start_time": "2021-08-17T15:54:01.644Z"
   },
   {
    "duration": 31,
    "start_time": "2021-08-17T15:54:01.650Z"
   },
   {
    "duration": 228,
    "start_time": "2021-08-17T15:54:01.682Z"
   },
   {
    "duration": 13,
    "start_time": "2021-08-17T15:54:01.911Z"
   },
   {
    "duration": 252,
    "start_time": "2021-08-17T15:54:01.925Z"
   },
   {
    "duration": 4,
    "start_time": "2021-08-17T15:54:02.178Z"
   },
   {
    "duration": 258,
    "start_time": "2021-08-17T15:54:02.191Z"
   },
   {
    "duration": 286,
    "start_time": "2021-08-17T15:54:02.450Z"
   },
   {
    "duration": 6,
    "start_time": "2021-08-17T15:54:02.738Z"
   },
   {
    "duration": 258,
    "start_time": "2021-08-17T15:54:02.746Z"
   },
   {
    "duration": 5,
    "start_time": "2021-08-17T15:54:03.006Z"
   },
   {
    "duration": 250,
    "start_time": "2021-08-17T15:54:03.012Z"
   },
   {
    "duration": 218,
    "start_time": "2021-08-17T15:54:03.263Z"
   },
   {
    "duration": 10,
    "start_time": "2021-08-17T15:54:03.482Z"
   },
   {
    "duration": 257,
    "start_time": "2021-08-17T15:54:03.493Z"
   },
   {
    "duration": 4,
    "start_time": "2021-08-17T15:54:03.751Z"
   },
   {
    "duration": 264,
    "start_time": "2021-08-17T15:54:03.756Z"
   },
   {
    "duration": 221,
    "start_time": "2021-08-17T15:54:04.021Z"
   },
   {
    "duration": 6,
    "start_time": "2021-08-17T15:54:04.244Z"
   },
   {
    "duration": 10,
    "start_time": "2021-08-17T15:54:04.251Z"
   },
   {
    "duration": 14,
    "start_time": "2021-08-17T15:54:04.262Z"
   },
   {
    "duration": 6,
    "start_time": "2021-08-17T15:54:04.278Z"
   },
   {
    "duration": 6,
    "start_time": "2021-08-17T15:54:04.291Z"
   },
   {
    "duration": 6,
    "start_time": "2021-08-17T15:54:04.299Z"
   },
   {
    "duration": 7,
    "start_time": "2021-08-17T15:54:04.306Z"
   },
   {
    "duration": 360,
    "start_time": "2021-08-17T15:59:20.352Z"
   },
   {
    "duration": 1422,
    "start_time": "2021-08-17T15:59:30.001Z"
   },
   {
    "duration": 52,
    "start_time": "2021-08-17T15:59:31.425Z"
   },
   {
    "duration": 10,
    "start_time": "2021-08-17T15:59:31.479Z"
   },
   {
    "duration": 10,
    "start_time": "2021-08-17T15:59:31.491Z"
   },
   {
    "duration": 16,
    "start_time": "2021-08-17T15:59:31.502Z"
   },
   {
    "duration": 6,
    "start_time": "2021-08-17T15:59:31.519Z"
   },
   {
    "duration": 13,
    "start_time": "2021-08-17T15:59:31.527Z"
   },
   {
    "duration": 17,
    "start_time": "2021-08-17T15:59:31.543Z"
   },
   {
    "duration": 51,
    "start_time": "2021-08-17T15:59:31.562Z"
   },
   {
    "duration": 10,
    "start_time": "2021-08-17T15:59:31.615Z"
   },
   {
    "duration": 8,
    "start_time": "2021-08-17T15:59:31.627Z"
   },
   {
    "duration": 16,
    "start_time": "2021-08-17T15:59:31.636Z"
   },
   {
    "duration": 37,
    "start_time": "2021-08-17T15:59:31.653Z"
   },
   {
    "duration": 16,
    "start_time": "2021-08-17T15:59:31.692Z"
   },
   {
    "duration": 12,
    "start_time": "2021-08-17T15:59:31.710Z"
   },
   {
    "duration": 12,
    "start_time": "2021-08-17T15:59:31.724Z"
   },
   {
    "duration": 20,
    "start_time": "2021-08-17T15:59:31.737Z"
   },
   {
    "duration": 11,
    "start_time": "2021-08-17T15:59:31.758Z"
   },
   {
    "duration": 369,
    "start_time": "2021-08-17T15:59:31.770Z"
   },
   {
    "duration": 14,
    "start_time": "2021-08-17T15:59:32.141Z"
   },
   {
    "duration": 36,
    "start_time": "2021-08-17T15:59:32.156Z"
   },
   {
    "duration": 18,
    "start_time": "2021-08-17T15:59:32.194Z"
   },
   {
    "duration": 622,
    "start_time": "2021-08-17T15:59:32.216Z"
   },
   {
    "duration": 12,
    "start_time": "2021-08-17T15:59:32.840Z"
   },
   {
    "duration": 402,
    "start_time": "2021-08-17T15:59:32.854Z"
   },
   {
    "duration": 320,
    "start_time": "2021-08-17T15:59:33.258Z"
   },
   {
    "duration": -52,
    "start_time": "2021-08-17T15:59:33.632Z"
   },
   {
    "duration": -56,
    "start_time": "2021-08-17T15:59:33.637Z"
   },
   {
    "duration": -60,
    "start_time": "2021-08-17T15:59:33.642Z"
   },
   {
    "duration": -64,
    "start_time": "2021-08-17T15:59:33.647Z"
   },
   {
    "duration": -68,
    "start_time": "2021-08-17T15:59:33.652Z"
   },
   {
    "duration": -72,
    "start_time": "2021-08-17T15:59:33.657Z"
   },
   {
    "duration": -76,
    "start_time": "2021-08-17T15:59:33.661Z"
   },
   {
    "duration": -80,
    "start_time": "2021-08-17T15:59:33.666Z"
   },
   {
    "duration": -83,
    "start_time": "2021-08-17T15:59:33.670Z"
   },
   {
    "duration": -86,
    "start_time": "2021-08-17T15:59:33.674Z"
   },
   {
    "duration": -89,
    "start_time": "2021-08-17T15:59:33.678Z"
   },
   {
    "duration": -92,
    "start_time": "2021-08-17T15:59:33.682Z"
   },
   {
    "duration": -95,
    "start_time": "2021-08-17T15:59:33.686Z"
   },
   {
    "duration": -98,
    "start_time": "2021-08-17T15:59:33.690Z"
   },
   {
    "duration": -100,
    "start_time": "2021-08-17T15:59:33.693Z"
   },
   {
    "duration": -104,
    "start_time": "2021-08-17T15:59:33.698Z"
   },
   {
    "duration": -106,
    "start_time": "2021-08-17T15:59:33.701Z"
   },
   {
    "duration": -109,
    "start_time": "2021-08-17T15:59:33.705Z"
   },
   {
    "duration": -112,
    "start_time": "2021-08-17T15:59:33.709Z"
   },
   {
    "duration": -115,
    "start_time": "2021-08-17T15:59:33.713Z"
   },
   {
    "duration": -119,
    "start_time": "2021-08-17T15:59:33.717Z"
   },
   {
    "duration": -122,
    "start_time": "2021-08-17T15:59:33.721Z"
   },
   {
    "duration": -132,
    "start_time": "2021-08-17T15:59:33.732Z"
   },
   {
    "duration": -135,
    "start_time": "2021-08-17T15:59:33.736Z"
   },
   {
    "duration": -140,
    "start_time": "2021-08-17T15:59:33.742Z"
   },
   {
    "duration": -143,
    "start_time": "2021-08-17T15:59:33.746Z"
   },
   {
    "duration": -146,
    "start_time": "2021-08-17T15:59:33.750Z"
   },
   {
    "duration": -149,
    "start_time": "2021-08-17T15:59:33.754Z"
   },
   {
    "duration": -152,
    "start_time": "2021-08-17T15:59:33.757Z"
   },
   {
    "duration": -156,
    "start_time": "2021-08-17T15:59:33.762Z"
   },
   {
    "duration": -159,
    "start_time": "2021-08-17T15:59:33.766Z"
   },
   {
    "duration": -162,
    "start_time": "2021-08-17T15:59:33.770Z"
   },
   {
    "duration": -164,
    "start_time": "2021-08-17T15:59:33.773Z"
   },
   {
    "duration": -167,
    "start_time": "2021-08-17T15:59:33.777Z"
   },
   {
    "duration": -170,
    "start_time": "2021-08-17T15:59:33.781Z"
   },
   {
    "duration": -173,
    "start_time": "2021-08-17T15:59:33.785Z"
   },
   {
    "duration": -176,
    "start_time": "2021-08-17T15:59:33.789Z"
   },
   {
    "duration": -179,
    "start_time": "2021-08-17T15:59:33.793Z"
   },
   {
    "duration": -182,
    "start_time": "2021-08-17T15:59:33.796Z"
   },
   {
    "duration": -185,
    "start_time": "2021-08-17T15:59:33.800Z"
   },
   {
    "duration": 254,
    "start_time": "2021-08-17T15:59:50.112Z"
   },
   {
    "duration": 233,
    "start_time": "2021-08-17T16:00:10.886Z"
   },
   {
    "duration": 236,
    "start_time": "2021-08-17T16:00:43.965Z"
   },
   {
    "duration": 1037,
    "start_time": "2021-08-17T16:00:48.186Z"
   },
   {
    "duration": 49,
    "start_time": "2021-08-17T16:00:49.225Z"
   },
   {
    "duration": 8,
    "start_time": "2021-08-17T16:00:49.276Z"
   },
   {
    "duration": 13,
    "start_time": "2021-08-17T16:00:49.286Z"
   },
   {
    "duration": 23,
    "start_time": "2021-08-17T16:00:49.300Z"
   },
   {
    "duration": 9,
    "start_time": "2021-08-17T16:00:49.324Z"
   },
   {
    "duration": 18,
    "start_time": "2021-08-17T16:00:49.334Z"
   },
   {
    "duration": 15,
    "start_time": "2021-08-17T16:00:49.354Z"
   },
   {
    "duration": 26,
    "start_time": "2021-08-17T16:00:49.371Z"
   },
   {
    "duration": 8,
    "start_time": "2021-08-17T16:00:49.399Z"
   },
   {
    "duration": 6,
    "start_time": "2021-08-17T16:00:49.409Z"
   },
   {
    "duration": 20,
    "start_time": "2021-08-17T16:00:49.417Z"
   },
   {
    "duration": 7,
    "start_time": "2021-08-17T16:00:49.438Z"
   },
   {
    "duration": 15,
    "start_time": "2021-08-17T16:00:49.446Z"
   },
   {
    "duration": 29,
    "start_time": "2021-08-17T16:00:49.462Z"
   },
   {
    "duration": 8,
    "start_time": "2021-08-17T16:00:49.493Z"
   },
   {
    "duration": 33,
    "start_time": "2021-08-17T16:00:49.503Z"
   },
   {
    "duration": 16,
    "start_time": "2021-08-17T16:00:49.538Z"
   },
   {
    "duration": 373,
    "start_time": "2021-08-17T16:00:49.558Z"
   },
   {
    "duration": 14,
    "start_time": "2021-08-17T16:00:49.932Z"
   },
   {
    "duration": 20,
    "start_time": "2021-08-17T16:00:49.947Z"
   },
   {
    "duration": 34,
    "start_time": "2021-08-17T16:00:49.968Z"
   },
   {
    "duration": 614,
    "start_time": "2021-08-17T16:00:50.005Z"
   },
   {
    "duration": 12,
    "start_time": "2021-08-17T16:00:50.621Z"
   },
   {
    "duration": 401,
    "start_time": "2021-08-17T16:00:50.634Z"
   },
   {
    "duration": 310,
    "start_time": "2021-08-17T16:00:51.036Z"
   },
   {
    "duration": -59,
    "start_time": "2021-08-17T16:00:51.407Z"
   },
   {
    "duration": -62,
    "start_time": "2021-08-17T16:00:51.411Z"
   },
   {
    "duration": -65,
    "start_time": "2021-08-17T16:00:51.415Z"
   },
   {
    "duration": -72,
    "start_time": "2021-08-17T16:00:51.423Z"
   },
   {
    "duration": -75,
    "start_time": "2021-08-17T16:00:51.427Z"
   },
   {
    "duration": -83,
    "start_time": "2021-08-17T16:00:51.436Z"
   },
   {
    "duration": -86,
    "start_time": "2021-08-17T16:00:51.440Z"
   },
   {
    "duration": -90,
    "start_time": "2021-08-17T16:00:51.445Z"
   },
   {
    "duration": -93,
    "start_time": "2021-08-17T16:00:51.449Z"
   },
   {
    "duration": -111,
    "start_time": "2021-08-17T16:00:51.468Z"
   },
   {
    "duration": -115,
    "start_time": "2021-08-17T16:00:51.473Z"
   },
   {
    "duration": -124,
    "start_time": "2021-08-17T16:00:51.483Z"
   },
   {
    "duration": -128,
    "start_time": "2021-08-17T16:00:51.488Z"
   },
   {
    "duration": -137,
    "start_time": "2021-08-17T16:00:51.498Z"
   },
   {
    "duration": -145,
    "start_time": "2021-08-17T16:00:51.507Z"
   },
   {
    "duration": -149,
    "start_time": "2021-08-17T16:00:51.511Z"
   },
   {
    "duration": -152,
    "start_time": "2021-08-17T16:00:51.515Z"
   },
   {
    "duration": -160,
    "start_time": "2021-08-17T16:00:51.524Z"
   },
   {
    "duration": -162,
    "start_time": "2021-08-17T16:00:51.527Z"
   },
   {
    "duration": -165,
    "start_time": "2021-08-17T16:00:51.531Z"
   },
   {
    "duration": -168,
    "start_time": "2021-08-17T16:00:51.535Z"
   },
   {
    "duration": -171,
    "start_time": "2021-08-17T16:00:51.539Z"
   },
   {
    "duration": -173,
    "start_time": "2021-08-17T16:00:51.542Z"
   },
   {
    "duration": -176,
    "start_time": "2021-08-17T16:00:51.546Z"
   },
   {
    "duration": -178,
    "start_time": "2021-08-17T16:00:51.549Z"
   },
   {
    "duration": -181,
    "start_time": "2021-08-17T16:00:51.553Z"
   },
   {
    "duration": -184,
    "start_time": "2021-08-17T16:00:51.557Z"
   },
   {
    "duration": -186,
    "start_time": "2021-08-17T16:00:51.560Z"
   },
   {
    "duration": -188,
    "start_time": "2021-08-17T16:00:51.563Z"
   },
   {
    "duration": -191,
    "start_time": "2021-08-17T16:00:51.567Z"
   },
   {
    "duration": -194,
    "start_time": "2021-08-17T16:00:51.571Z"
   },
   {
    "duration": -197,
    "start_time": "2021-08-17T16:00:51.575Z"
   },
   {
    "duration": -200,
    "start_time": "2021-08-17T16:00:51.578Z"
   },
   {
    "duration": -202,
    "start_time": "2021-08-17T16:00:51.581Z"
   },
   {
    "duration": -203,
    "start_time": "2021-08-17T16:00:51.584Z"
   },
   {
    "duration": -207,
    "start_time": "2021-08-17T16:00:51.588Z"
   },
   {
    "duration": -210,
    "start_time": "2021-08-17T16:00:51.592Z"
   },
   {
    "duration": -212,
    "start_time": "2021-08-17T16:00:51.595Z"
   },
   {
    "duration": -214,
    "start_time": "2021-08-17T16:00:51.598Z"
   },
   {
    "duration": -217,
    "start_time": "2021-08-17T16:00:51.602Z"
   },
   {
    "duration": 244,
    "start_time": "2021-08-17T16:01:05.146Z"
   },
   {
    "duration": 13,
    "start_time": "2021-08-17T16:01:21.851Z"
   },
   {
    "duration": 250,
    "start_time": "2021-08-17T16:01:53.981Z"
   },
   {
    "duration": 40,
    "start_time": "2021-08-17T16:02:00.413Z"
   },
   {
    "duration": 1027,
    "start_time": "2021-08-17T16:02:52.024Z"
   },
   {
    "duration": 52,
    "start_time": "2021-08-17T16:02:53.053Z"
   },
   {
    "duration": 10,
    "start_time": "2021-08-17T16:02:53.107Z"
   },
   {
    "duration": 9,
    "start_time": "2021-08-17T16:02:53.119Z"
   },
   {
    "duration": 18,
    "start_time": "2021-08-17T16:02:53.129Z"
   },
   {
    "duration": 5,
    "start_time": "2021-08-17T16:02:53.148Z"
   },
   {
    "duration": 37,
    "start_time": "2021-08-17T16:02:53.155Z"
   },
   {
    "duration": 17,
    "start_time": "2021-08-17T16:02:53.195Z"
   },
   {
    "duration": 23,
    "start_time": "2021-08-17T16:02:53.213Z"
   },
   {
    "duration": 8,
    "start_time": "2021-08-17T16:02:53.238Z"
   },
   {
    "duration": 4,
    "start_time": "2021-08-17T16:02:53.247Z"
   },
   {
    "duration": 43,
    "start_time": "2021-08-17T16:02:53.253Z"
   },
   {
    "duration": 6,
    "start_time": "2021-08-17T16:02:53.298Z"
   },
   {
    "duration": 9,
    "start_time": "2021-08-17T16:02:53.306Z"
   },
   {
    "duration": 11,
    "start_time": "2021-08-17T16:02:53.317Z"
   },
   {
    "duration": 12,
    "start_time": "2021-08-17T16:02:53.329Z"
   },
   {
    "duration": 21,
    "start_time": "2021-08-17T16:02:53.343Z"
   },
   {
    "duration": 27,
    "start_time": "2021-08-17T16:02:53.366Z"
   },
   {
    "duration": 362,
    "start_time": "2021-08-17T16:02:53.394Z"
   },
   {
    "duration": 13,
    "start_time": "2021-08-17T16:02:53.758Z"
   },
   {
    "duration": 31,
    "start_time": "2021-08-17T16:02:53.773Z"
   },
   {
    "duration": 17,
    "start_time": "2021-08-17T16:02:53.805Z"
   },
   {
    "duration": 616,
    "start_time": "2021-08-17T16:02:53.825Z"
   },
   {
    "duration": 11,
    "start_time": "2021-08-17T16:02:54.443Z"
   },
   {
    "duration": 399,
    "start_time": "2021-08-17T16:02:54.456Z"
   },
   {
    "duration": 13,
    "start_time": "2021-08-17T16:02:54.857Z"
   },
   {
    "duration": 25,
    "start_time": "2021-08-17T16:02:54.871Z"
   },
   {
    "duration": 467,
    "start_time": "2021-08-17T16:02:54.898Z"
   },
   {
    "duration": 5,
    "start_time": "2021-08-17T16:02:55.366Z"
   },
   {
    "duration": 557,
    "start_time": "2021-08-17T16:02:55.373Z"
   },
   {
    "duration": 4,
    "start_time": "2021-08-17T16:02:55.932Z"
   },
   {
    "duration": 445,
    "start_time": "2021-08-17T16:02:55.938Z"
   },
   {
    "duration": 9,
    "start_time": "2021-08-17T16:02:56.385Z"
   },
   {
    "duration": 462,
    "start_time": "2021-08-17T16:02:56.396Z"
   },
   {
    "duration": 5,
    "start_time": "2021-08-17T16:02:56.859Z"
   },
   {
    "duration": 484,
    "start_time": "2021-08-17T16:02:56.866Z"
   },
   {
    "duration": 5,
    "start_time": "2021-08-17T16:02:57.352Z"
   },
   {
    "duration": 501,
    "start_time": "2021-08-17T16:02:57.358Z"
   },
   {
    "duration": 5,
    "start_time": "2021-08-17T16:02:57.861Z"
   },
   {
    "duration": 476,
    "start_time": "2021-08-17T16:02:57.872Z"
   },
   {
    "duration": 4,
    "start_time": "2021-08-17T16:02:58.350Z"
   },
   {
    "duration": 16,
    "start_time": "2021-08-17T16:02:58.356Z"
   },
   {
    "duration": 245,
    "start_time": "2021-08-17T16:02:58.373Z"
   },
   {
    "duration": 13,
    "start_time": "2021-08-17T16:02:58.620Z"
   },
   {
    "duration": 259,
    "start_time": "2021-08-17T16:02:58.634Z"
   },
   {
    "duration": 3,
    "start_time": "2021-08-17T16:02:58.895Z"
   },
   {
    "duration": 241,
    "start_time": "2021-08-17T16:02:58.900Z"
   },
   {
    "duration": 287,
    "start_time": "2021-08-17T16:02:59.142Z"
   },
   {
    "duration": 5,
    "start_time": "2021-08-17T16:02:59.431Z"
   },
   {
    "duration": 257,
    "start_time": "2021-08-17T16:02:59.438Z"
   },
   {
    "duration": 3,
    "start_time": "2021-08-17T16:02:59.697Z"
   },
   {
    "duration": 235,
    "start_time": "2021-08-17T16:02:59.701Z"
   },
   {
    "duration": 216,
    "start_time": "2021-08-17T16:02:59.937Z"
   },
   {
    "duration": 6,
    "start_time": "2021-08-17T16:03:00.154Z"
   },
   {
    "duration": 261,
    "start_time": "2021-08-17T16:03:00.162Z"
   },
   {
    "duration": 4,
    "start_time": "2021-08-17T16:03:00.424Z"
   },
   {
    "duration": 240,
    "start_time": "2021-08-17T16:03:00.429Z"
   },
   {
    "duration": 200,
    "start_time": "2021-08-17T16:03:00.670Z"
   },
   {
    "duration": 6,
    "start_time": "2021-08-17T16:03:00.872Z"
   },
   {
    "duration": 15,
    "start_time": "2021-08-17T16:03:00.892Z"
   },
   {
    "duration": 16,
    "start_time": "2021-08-17T16:03:00.908Z"
   },
   {
    "duration": 30,
    "start_time": "2021-08-17T16:03:00.925Z"
   },
   {
    "duration": 28,
    "start_time": "2021-08-17T16:03:00.956Z"
   },
   {
    "duration": 21,
    "start_time": "2021-08-17T16:03:00.986Z"
   },
   {
    "duration": 11,
    "start_time": "2021-08-17T16:03:01.009Z"
   },
   {
    "duration": 1047,
    "start_time": "2021-08-17T16:23:18.475Z"
   },
   {
    "duration": 51,
    "start_time": "2021-08-17T16:23:19.524Z"
   },
   {
    "duration": 9,
    "start_time": "2021-08-17T16:23:19.577Z"
   },
   {
    "duration": 7,
    "start_time": "2021-08-17T16:23:19.591Z"
   },
   {
    "duration": 16,
    "start_time": "2021-08-17T16:23:19.599Z"
   },
   {
    "duration": 3,
    "start_time": "2021-08-17T16:23:19.617Z"
   },
   {
    "duration": 12,
    "start_time": "2021-08-17T16:23:19.622Z"
   },
   {
    "duration": 16,
    "start_time": "2021-08-17T16:23:19.637Z"
   },
   {
    "duration": 49,
    "start_time": "2021-08-17T16:23:19.655Z"
   },
   {
    "duration": 10,
    "start_time": "2021-08-17T16:23:19.706Z"
   },
   {
    "duration": 5,
    "start_time": "2021-08-17T16:23:19.718Z"
   },
   {
    "duration": 15,
    "start_time": "2021-08-17T16:23:19.725Z"
   },
   {
    "duration": 7,
    "start_time": "2021-08-17T16:23:19.741Z"
   },
   {
    "duration": 41,
    "start_time": "2021-08-17T16:23:19.750Z"
   },
   {
    "duration": 11,
    "start_time": "2021-08-17T16:23:19.793Z"
   },
   {
    "duration": 10,
    "start_time": "2021-08-17T16:23:19.806Z"
   },
   {
    "duration": 24,
    "start_time": "2021-08-17T16:23:19.817Z"
   },
   {
    "duration": 12,
    "start_time": "2021-08-17T16:23:19.842Z"
   },
   {
    "duration": 368,
    "start_time": "2021-08-17T16:23:19.855Z"
   },
   {
    "duration": 13,
    "start_time": "2021-08-17T16:23:20.225Z"
   },
   {
    "duration": 19,
    "start_time": "2021-08-17T16:23:20.239Z"
   },
   {
    "duration": 38,
    "start_time": "2021-08-17T16:23:20.260Z"
   },
   {
    "duration": 720,
    "start_time": "2021-08-17T16:23:20.301Z"
   },
   {
    "duration": 9,
    "start_time": "2021-08-17T16:23:21.023Z"
   },
   {
    "duration": 410,
    "start_time": "2021-08-17T16:23:21.033Z"
   },
   {
    "duration": 14,
    "start_time": "2021-08-17T16:23:21.445Z"
   },
   {
    "duration": 32,
    "start_time": "2021-08-17T16:23:21.460Z"
   },
   {
    "duration": 449,
    "start_time": "2021-08-17T16:23:21.493Z"
   },
   {
    "duration": 5,
    "start_time": "2021-08-17T16:23:21.944Z"
   },
   {
    "duration": 513,
    "start_time": "2021-08-17T16:23:21.951Z"
   },
   {
    "duration": 4,
    "start_time": "2021-08-17T16:23:22.466Z"
   },
   {
    "duration": 464,
    "start_time": "2021-08-17T16:23:22.472Z"
   },
   {
    "duration": 5,
    "start_time": "2021-08-17T16:23:22.938Z"
   },
   {
    "duration": 498,
    "start_time": "2021-08-17T16:23:22.944Z"
   },
   {
    "duration": 5,
    "start_time": "2021-08-17T16:23:23.444Z"
   },
   {
    "duration": 470,
    "start_time": "2021-08-17T16:23:23.450Z"
   },
   {
    "duration": 5,
    "start_time": "2021-08-17T16:23:23.921Z"
   },
   {
    "duration": 419,
    "start_time": "2021-08-17T16:23:23.927Z"
   },
   {
    "duration": 5,
    "start_time": "2021-08-17T16:23:24.348Z"
   },
   {
    "duration": 454,
    "start_time": "2021-08-17T16:23:24.354Z"
   },
   {
    "duration": 5,
    "start_time": "2021-08-17T16:23:24.810Z"
   },
   {
    "duration": 17,
    "start_time": "2021-08-17T16:23:24.816Z"
   },
   {
    "duration": 236,
    "start_time": "2021-08-17T16:23:24.834Z"
   },
   {
    "duration": 20,
    "start_time": "2021-08-17T16:23:25.072Z"
   },
   {
    "duration": 229,
    "start_time": "2021-08-17T16:23:25.094Z"
   },
   {
    "duration": 4,
    "start_time": "2021-08-17T16:23:25.324Z"
   },
   {
    "duration": 237,
    "start_time": "2021-08-17T16:23:25.329Z"
   },
   {
    "duration": 281,
    "start_time": "2021-08-17T16:23:25.567Z"
   },
   {
    "duration": 6,
    "start_time": "2021-08-17T16:23:25.849Z"
   },
   {
    "duration": 244,
    "start_time": "2021-08-17T16:23:25.856Z"
   },
   {
    "duration": 4,
    "start_time": "2021-08-17T16:23:26.101Z"
   },
   {
    "duration": 253,
    "start_time": "2021-08-17T16:23:26.106Z"
   },
   {
    "duration": 205,
    "start_time": "2021-08-17T16:23:26.361Z"
   },
   {
    "duration": 6,
    "start_time": "2021-08-17T16:23:26.568Z"
   },
   {
    "duration": 241,
    "start_time": "2021-08-17T16:23:26.576Z"
   },
   {
    "duration": 3,
    "start_time": "2021-08-17T16:23:26.819Z"
   },
   {
    "duration": 241,
    "start_time": "2021-08-17T16:23:26.824Z"
   },
   {
    "duration": 194,
    "start_time": "2021-08-17T16:23:27.066Z"
   },
   {
    "duration": 6,
    "start_time": "2021-08-17T16:23:27.262Z"
   },
   {
    "duration": 8,
    "start_time": "2021-08-17T16:23:27.269Z"
   },
   {
    "duration": 15,
    "start_time": "2021-08-17T16:23:27.279Z"
   },
   {
    "duration": 5,
    "start_time": "2021-08-17T16:23:27.295Z"
   },
   {
    "duration": 6,
    "start_time": "2021-08-17T16:23:27.302Z"
   },
   {
    "duration": 6,
    "start_time": "2021-08-17T16:23:27.310Z"
   },
   {
    "duration": 7,
    "start_time": "2021-08-17T16:23:27.317Z"
   },
   {
    "duration": 28,
    "start_time": "2021-08-17T17:09:16.632Z"
   },
   {
    "duration": 12,
    "start_time": "2021-08-17T17:09:46.292Z"
   },
   {
    "duration": 32,
    "start_time": "2021-08-17T17:19:21.011Z"
   },
   {
    "duration": 1082,
    "start_time": "2021-08-17T18:27:27.877Z"
   },
   {
    "duration": 50,
    "start_time": "2021-08-17T18:27:28.961Z"
   },
   {
    "duration": 8,
    "start_time": "2021-08-17T18:27:29.013Z"
   },
   {
    "duration": 8,
    "start_time": "2021-08-17T18:27:29.023Z"
   },
   {
    "duration": 16,
    "start_time": "2021-08-17T18:27:29.032Z"
   },
   {
    "duration": 6,
    "start_time": "2021-08-17T18:27:29.050Z"
   },
   {
    "duration": 13,
    "start_time": "2021-08-17T18:27:29.057Z"
   },
   {
    "duration": 17,
    "start_time": "2021-08-17T18:27:29.091Z"
   },
   {
    "duration": 26,
    "start_time": "2021-08-17T18:27:29.109Z"
   },
   {
    "duration": 9,
    "start_time": "2021-08-17T18:27:29.136Z"
   },
   {
    "duration": 6,
    "start_time": "2021-08-17T18:27:29.146Z"
   },
   {
    "duration": 14,
    "start_time": "2021-08-17T18:27:29.153Z"
   },
   {
    "duration": 6,
    "start_time": "2021-08-17T18:27:29.191Z"
   },
   {
    "duration": 12,
    "start_time": "2021-08-17T18:27:29.199Z"
   },
   {
    "duration": 11,
    "start_time": "2021-08-17T18:27:29.213Z"
   },
   {
    "duration": 16,
    "start_time": "2021-08-17T18:27:29.225Z"
   },
   {
    "duration": 8,
    "start_time": "2021-08-17T18:27:29.242Z"
   },
   {
    "duration": 32,
    "start_time": "2021-08-17T18:27:29.251Z"
   },
   {
    "duration": 16,
    "start_time": "2021-08-17T18:27:29.284Z"
   },
   {
    "duration": 384,
    "start_time": "2021-08-17T18:27:29.302Z"
   },
   {
    "duration": 13,
    "start_time": "2021-08-17T18:27:29.691Z"
   },
   {
    "duration": 21,
    "start_time": "2021-08-17T18:27:29.705Z"
   },
   {
    "duration": 18,
    "start_time": "2021-08-17T18:27:29.729Z"
   },
   {
    "duration": 650,
    "start_time": "2021-08-17T18:27:29.749Z"
   },
   {
    "duration": 8,
    "start_time": "2021-08-17T18:27:30.401Z"
   },
   {
    "duration": 395,
    "start_time": "2021-08-17T18:27:30.411Z"
   },
   {
    "duration": 13,
    "start_time": "2021-08-17T18:27:30.807Z"
   },
   {
    "duration": 20,
    "start_time": "2021-08-17T18:27:30.822Z"
   },
   {
    "duration": 513,
    "start_time": "2021-08-17T18:27:30.844Z"
   },
   {
    "duration": 4,
    "start_time": "2021-08-17T18:27:31.359Z"
   },
   {
    "duration": 669,
    "start_time": "2021-08-17T18:27:31.365Z"
   },
   {
    "duration": 5,
    "start_time": "2021-08-17T18:27:32.036Z"
   },
   {
    "duration": 570,
    "start_time": "2021-08-17T18:27:32.043Z"
   },
   {
    "duration": 5,
    "start_time": "2021-08-17T18:27:32.615Z"
   },
   {
    "duration": 571,
    "start_time": "2021-08-17T18:27:32.622Z"
   },
   {
    "duration": 5,
    "start_time": "2021-08-17T18:27:33.194Z"
   },
   {
    "duration": 462,
    "start_time": "2021-08-17T18:27:33.200Z"
   },
   {
    "duration": 5,
    "start_time": "2021-08-17T18:27:33.663Z"
   },
   {
    "duration": 459,
    "start_time": "2021-08-17T18:27:33.669Z"
   },
   {
    "duration": 4,
    "start_time": "2021-08-17T18:27:34.130Z"
   },
   {
    "duration": 470,
    "start_time": "2021-08-17T18:27:34.135Z"
   },
   {
    "duration": 6,
    "start_time": "2021-08-17T18:27:34.607Z"
   },
   {
    "duration": 26,
    "start_time": "2021-08-17T18:27:34.614Z"
   },
   {
    "duration": 259,
    "start_time": "2021-08-17T18:27:34.642Z"
   },
   {
    "duration": 16,
    "start_time": "2021-08-17T18:27:34.903Z"
   },
   {
    "duration": 247,
    "start_time": "2021-08-17T18:27:34.921Z"
   },
   {
    "duration": 3,
    "start_time": "2021-08-17T18:27:35.170Z"
   },
   {
    "duration": 246,
    "start_time": "2021-08-17T18:27:35.175Z"
   },
   {
    "duration": 210,
    "start_time": "2021-08-17T18:27:35.423Z"
   },
   {
    "duration": 7,
    "start_time": "2021-08-17T18:27:35.634Z"
   },
   {
    "duration": 349,
    "start_time": "2021-08-17T18:27:35.642Z"
   },
   {
    "duration": 4,
    "start_time": "2021-08-17T18:27:35.993Z"
   },
   {
    "duration": 254,
    "start_time": "2021-08-17T18:27:35.999Z"
   },
   {
    "duration": 232,
    "start_time": "2021-08-17T18:27:36.255Z"
   },
   {
    "duration": 9,
    "start_time": "2021-08-17T18:27:36.492Z"
   },
   {
    "duration": 266,
    "start_time": "2021-08-17T18:27:36.503Z"
   },
   {
    "duration": 5,
    "start_time": "2021-08-17T18:27:36.772Z"
   },
   {
    "duration": 268,
    "start_time": "2021-08-17T18:27:36.779Z"
   },
   {
    "duration": 234,
    "start_time": "2021-08-17T18:27:37.049Z"
   },
   {
    "duration": 11,
    "start_time": "2021-08-17T18:27:37.285Z"
   },
   {
    "duration": 26,
    "start_time": "2021-08-17T18:27:37.297Z"
   },
   {
    "duration": 22,
    "start_time": "2021-08-17T18:27:37.325Z"
   },
   {
    "duration": 8,
    "start_time": "2021-08-17T18:27:37.349Z"
   },
   {
    "duration": 11,
    "start_time": "2021-08-17T18:27:37.358Z"
   },
   {
    "duration": 8,
    "start_time": "2021-08-17T18:27:37.370Z"
   },
   {
    "duration": 10,
    "start_time": "2021-08-17T18:27:37.380Z"
   },
   {
    "duration": 4,
    "start_time": "2021-08-17T18:28:38.091Z"
   },
   {
    "duration": 13,
    "start_time": "2021-08-17T18:28:48.929Z"
   },
   {
    "duration": 1071,
    "start_time": "2021-08-17T18:35:52.661Z"
   },
   {
    "duration": 53,
    "start_time": "2021-08-17T18:35:53.734Z"
   },
   {
    "duration": 8,
    "start_time": "2021-08-17T18:35:53.789Z"
   },
   {
    "duration": 9,
    "start_time": "2021-08-17T18:35:53.799Z"
   },
   {
    "duration": 28,
    "start_time": "2021-08-17T18:35:53.809Z"
   },
   {
    "duration": 9,
    "start_time": "2021-08-17T18:35:53.839Z"
   },
   {
    "duration": 22,
    "start_time": "2021-08-17T18:35:53.849Z"
   },
   {
    "duration": 19,
    "start_time": "2021-08-17T18:35:53.873Z"
   },
   {
    "duration": 24,
    "start_time": "2021-08-17T18:35:53.894Z"
   },
   {
    "duration": 8,
    "start_time": "2021-08-17T18:35:53.920Z"
   },
   {
    "duration": 12,
    "start_time": "2021-08-17T18:35:53.929Z"
   },
   {
    "duration": 17,
    "start_time": "2021-08-17T18:35:53.943Z"
   },
   {
    "duration": 7,
    "start_time": "2021-08-17T18:35:53.961Z"
   },
   {
    "duration": 22,
    "start_time": "2021-08-17T18:35:53.969Z"
   },
   {
    "duration": 19,
    "start_time": "2021-08-17T18:35:53.992Z"
   },
   {
    "duration": 14,
    "start_time": "2021-08-17T18:35:54.012Z"
   },
   {
    "duration": 10,
    "start_time": "2021-08-17T18:35:54.028Z"
   },
   {
    "duration": 26,
    "start_time": "2021-08-17T18:35:54.039Z"
   },
   {
    "duration": 10,
    "start_time": "2021-08-17T18:35:54.067Z"
   },
   {
    "duration": 348,
    "start_time": "2021-08-17T18:35:54.079Z"
   },
   {
    "duration": 13,
    "start_time": "2021-08-17T18:35:54.429Z"
   },
   {
    "duration": 20,
    "start_time": "2021-08-17T18:35:54.443Z"
   },
   {
    "duration": 33,
    "start_time": "2021-08-17T18:35:54.466Z"
   },
   {
    "duration": 618,
    "start_time": "2021-08-17T18:35:54.501Z"
   },
   {
    "duration": 8,
    "start_time": "2021-08-17T18:35:55.121Z"
   },
   {
    "duration": 386,
    "start_time": "2021-08-17T18:35:55.130Z"
   },
   {
    "duration": 13,
    "start_time": "2021-08-17T18:35:55.517Z"
   },
   {
    "duration": 16,
    "start_time": "2021-08-17T18:35:55.532Z"
   },
   {
    "duration": 469,
    "start_time": "2021-08-17T18:35:55.549Z"
   },
   {
    "duration": 5,
    "start_time": "2021-08-17T18:35:56.020Z"
   },
   {
    "duration": 547,
    "start_time": "2021-08-17T18:35:56.026Z"
   },
   {
    "duration": 5,
    "start_time": "2021-08-17T18:35:56.575Z"
   },
   {
    "duration": 467,
    "start_time": "2021-08-17T18:35:56.592Z"
   },
   {
    "duration": 5,
    "start_time": "2021-08-17T18:35:57.061Z"
   },
   {
    "duration": 502,
    "start_time": "2021-08-17T18:35:57.067Z"
   },
   {
    "duration": 5,
    "start_time": "2021-08-17T18:35:57.570Z"
   },
   {
    "duration": 483,
    "start_time": "2021-08-17T18:35:57.577Z"
   },
   {
    "duration": 5,
    "start_time": "2021-08-17T18:35:58.062Z"
   },
   {
    "duration": 439,
    "start_time": "2021-08-17T18:35:58.068Z"
   },
   {
    "duration": 4,
    "start_time": "2021-08-17T18:35:58.509Z"
   },
   {
    "duration": 423,
    "start_time": "2021-08-17T18:35:58.515Z"
   },
   {
    "duration": 5,
    "start_time": "2021-08-17T18:35:58.939Z"
   },
   {
    "duration": 18,
    "start_time": "2021-08-17T18:35:58.945Z"
   },
   {
    "duration": 228,
    "start_time": "2021-08-17T18:35:58.965Z"
   },
   {
    "duration": 13,
    "start_time": "2021-08-17T18:35:59.194Z"
   },
   {
    "duration": 228,
    "start_time": "2021-08-17T18:35:59.208Z"
   },
   {
    "duration": 4,
    "start_time": "2021-08-17T18:35:59.437Z"
   },
   {
    "duration": 238,
    "start_time": "2021-08-17T18:35:59.442Z"
   },
   {
    "duration": 201,
    "start_time": "2021-08-17T18:35:59.681Z"
   },
   {
    "duration": 10,
    "start_time": "2021-08-17T18:35:59.884Z"
   },
   {
    "duration": 321,
    "start_time": "2021-08-17T18:35:59.895Z"
   },
   {
    "duration": 4,
    "start_time": "2021-08-17T18:36:00.218Z"
   },
   {
    "duration": 241,
    "start_time": "2021-08-17T18:36:00.223Z"
   },
   {
    "duration": 207,
    "start_time": "2021-08-17T18:36:00.465Z"
   },
   {
    "duration": 6,
    "start_time": "2021-08-17T18:36:00.674Z"
   },
   {
    "duration": 235,
    "start_time": "2021-08-17T18:36:00.692Z"
   },
   {
    "duration": 4,
    "start_time": "2021-08-17T18:36:00.929Z"
   },
   {
    "duration": 293,
    "start_time": "2021-08-17T18:36:00.934Z"
   },
   {
    "duration": 208,
    "start_time": "2021-08-17T18:36:01.229Z"
   },
   {
    "duration": 6,
    "start_time": "2021-08-17T18:36:01.439Z"
   },
   {
    "duration": 15,
    "start_time": "2021-08-17T18:36:01.446Z"
   },
   {
    "duration": 16,
    "start_time": "2021-08-17T18:36:01.462Z"
   },
   {
    "duration": 12,
    "start_time": "2021-08-17T18:36:01.479Z"
   },
   {
    "duration": 14,
    "start_time": "2021-08-17T18:36:01.493Z"
   },
   {
    "duration": 13,
    "start_time": "2021-08-17T18:36:01.509Z"
   },
   {
    "duration": 10,
    "start_time": "2021-08-17T18:36:01.524Z"
   },
   {
    "duration": 14,
    "start_time": "2021-08-17T18:37:04.547Z"
   },
   {
    "duration": 1432,
    "start_time": "2021-08-18T02:35:59.026Z"
   },
   {
    "duration": 77,
    "start_time": "2021-08-18T02:36:00.461Z"
   },
   {
    "duration": 13,
    "start_time": "2021-08-18T02:36:00.541Z"
   },
   {
    "duration": 31,
    "start_time": "2021-08-18T02:36:00.557Z"
   },
   {
    "duration": 31,
    "start_time": "2021-08-18T02:36:00.591Z"
   },
   {
    "duration": 9,
    "start_time": "2021-08-18T02:36:00.625Z"
   },
   {
    "duration": 26,
    "start_time": "2021-08-18T02:36:00.637Z"
   },
   {
    "duration": 38,
    "start_time": "2021-08-18T02:36:00.687Z"
   },
   {
    "duration": 63,
    "start_time": "2021-08-18T02:36:00.729Z"
   },
   {
    "duration": 16,
    "start_time": "2021-08-18T02:36:00.794Z"
   },
   {
    "duration": 10,
    "start_time": "2021-08-18T02:36:00.813Z"
   },
   {
    "duration": 30,
    "start_time": "2021-08-18T02:36:00.826Z"
   },
   {
    "duration": 12,
    "start_time": "2021-08-18T02:36:00.886Z"
   },
   {
    "duration": 22,
    "start_time": "2021-08-18T02:36:00.902Z"
   },
   {
    "duration": 19,
    "start_time": "2021-08-18T02:36:00.927Z"
   },
   {
    "duration": 37,
    "start_time": "2021-08-18T02:36:00.948Z"
   },
   {
    "duration": 9,
    "start_time": "2021-08-18T02:36:00.988Z"
   },
   {
    "duration": 38,
    "start_time": "2021-08-18T02:36:00.999Z"
   },
   {
    "duration": 19,
    "start_time": "2021-08-18T02:36:01.039Z"
   },
   {
    "duration": 673,
    "start_time": "2021-08-18T02:36:01.061Z"
   },
   {
    "duration": 21,
    "start_time": "2021-08-18T02:36:01.737Z"
   },
   {
    "duration": 57,
    "start_time": "2021-08-18T02:36:01.761Z"
   },
   {
    "duration": 33,
    "start_time": "2021-08-18T02:36:01.827Z"
   },
   {
    "duration": 1153,
    "start_time": "2021-08-18T02:36:01.886Z"
   },
   {
    "duration": 16,
    "start_time": "2021-08-18T02:36:03.042Z"
   },
   {
    "duration": 709,
    "start_time": "2021-08-18T02:36:03.087Z"
   },
   {
    "duration": 23,
    "start_time": "2021-08-18T02:36:03.798Z"
   },
   {
    "duration": 23,
    "start_time": "2021-08-18T02:36:03.823Z"
   },
   {
    "duration": 790,
    "start_time": "2021-08-18T02:36:03.849Z"
   },
   {
    "duration": 9,
    "start_time": "2021-08-18T02:36:04.641Z"
   },
   {
    "duration": 816,
    "start_time": "2021-08-18T02:36:04.652Z"
   },
   {
    "duration": 19,
    "start_time": "2021-08-18T02:36:05.471Z"
   },
   {
    "duration": 698,
    "start_time": "2021-08-18T02:36:05.492Z"
   },
   {
    "duration": 7,
    "start_time": "2021-08-18T02:36:06.193Z"
   },
   {
    "duration": 791,
    "start_time": "2021-08-18T02:36:06.202Z"
   },
   {
    "duration": 8,
    "start_time": "2021-08-18T02:36:06.995Z"
   },
   {
    "duration": 744,
    "start_time": "2021-08-18T02:36:07.005Z"
   },
   {
    "duration": 7,
    "start_time": "2021-08-18T02:36:07.752Z"
   },
   {
    "duration": 715,
    "start_time": "2021-08-18T02:36:07.762Z"
   },
   {
    "duration": 7,
    "start_time": "2021-08-18T02:36:08.486Z"
   },
   {
    "duration": 26,
    "start_time": "2021-08-18T02:36:08.496Z"
   },
   {
    "duration": 421,
    "start_time": "2021-08-18T02:36:08.524Z"
   },
   {
    "duration": 40,
    "start_time": "2021-08-18T02:36:08.947Z"
   },
   {
    "duration": 422,
    "start_time": "2021-08-18T02:36:08.990Z"
   },
   {
    "duration": 9,
    "start_time": "2021-08-18T02:36:09.415Z"
   },
   {
    "duration": 430,
    "start_time": "2021-08-18T02:36:09.426Z"
   },
   {
    "duration": 387,
    "start_time": "2021-08-18T02:36:09.858Z"
   },
   {
    "duration": 9,
    "start_time": "2021-08-18T02:36:10.247Z"
   },
   {
    "duration": 421,
    "start_time": "2021-08-18T02:36:10.258Z"
   },
   {
    "duration": 6,
    "start_time": "2021-08-18T02:36:10.685Z"
   },
   {
    "duration": 544,
    "start_time": "2021-08-18T02:36:10.694Z"
   },
   {
    "duration": 371,
    "start_time": "2021-08-18T02:36:11.240Z"
   },
   {
    "duration": 10,
    "start_time": "2021-08-18T02:36:11.613Z"
   },
   {
    "duration": 464,
    "start_time": "2021-08-18T02:36:11.625Z"
   },
   {
    "duration": 5,
    "start_time": "2021-08-18T02:36:12.091Z"
   },
   {
    "duration": 548,
    "start_time": "2021-08-18T02:36:12.098Z"
   },
   {
    "duration": 383,
    "start_time": "2021-08-18T02:36:12.649Z"
   },
   {
    "duration": 10,
    "start_time": "2021-08-18T02:36:13.035Z"
   },
   {
    "duration": 37,
    "start_time": "2021-08-18T02:36:13.048Z"
   },
   {
    "duration": 9,
    "start_time": "2021-08-18T02:36:13.087Z"
   },
   {
    "duration": 7,
    "start_time": "2021-08-18T02:36:13.098Z"
   },
   {
    "duration": 8,
    "start_time": "2021-08-18T02:36:13.107Z"
   },
   {
    "duration": 9,
    "start_time": "2021-08-18T02:36:13.117Z"
   },
   {
    "duration": 10,
    "start_time": "2021-08-18T02:36:13.129Z"
   },
   {
    "duration": 8,
    "start_time": "2021-08-18T02:36:19.273Z"
   },
   {
    "duration": 11,
    "start_time": "2021-08-18T02:36:32.332Z"
   }
  ],
  "kernelspec": {
   "display_name": "Python 3 (ipykernel)",
   "language": "python",
   "name": "python3"
  },
  "language_info": {
   "codemirror_mode": {
    "name": "ipython",
    "version": 3
   },
   "file_extension": ".py",
   "mimetype": "text/x-python",
   "name": "python",
   "nbconvert_exporter": "python",
   "pygments_lexer": "ipython3",
   "version": "3.9.7"
  },
  "toc": {
   "base_numbering": 1,
   "nav_menu": {},
   "number_sections": true,
   "sideBar": true,
   "skip_h1_title": true,
   "title_cell": "Table of Contents",
   "title_sidebar": "Contents",
   "toc_cell": false,
   "toc_position": {
    "height": "calc(100% - 180px)",
    "left": "10px",
    "top": "150px",
    "width": "165px"
   },
   "toc_section_display": true,
   "toc_window_display": true
  }
 },
 "nbformat": 4,
 "nbformat_minor": 2
}

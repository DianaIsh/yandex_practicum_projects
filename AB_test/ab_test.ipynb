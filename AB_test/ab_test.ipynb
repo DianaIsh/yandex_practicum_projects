{
 "cells": [
  {
   "cell_type": "markdown",
   "metadata": {},
   "source": [
    "# Самостоятельный проект: Принятие решений на основе данных"
   ]
  },
  {
   "cell_type": "markdown",
   "metadata": {},
   "source": [
    "---\n",
    "Мы подготовили список гипотез для увеличения выручки.\n",
    "\n",
    "Необходимо: \n",
    "- Проанализировать гипотезы\n",
    "\n",
    "- Проанализировать результаты А/В-тестирования\n",
    "\n",
    "**Цель проекта:** Определить дальнейшие действия отностительно А/В-тестирования:\n",
    "\n",
    "    1. Остановить тест, зафиксировать победу одной из групп. \n",
    "    \n",
    "    2. Остановить тест, зафиксировать отсутствие различий между группами. \n",
    "    \n",
    "    3. Продолжить тест.\n",
    "\n",
    "---\n",
    "Необходимые данные:\n",
    "\n",
    "**hypothesis** -  9 гипотез по увеличению выручки интернет-магазина:\n",
    "\n",
    "    hypothesis - краткое описание гипотезы;\n",
    "    reach - охват пользователей по 10-балльной шкале;\n",
    "    impact - влияние на пользователей по 10-балльной шкале;\n",
    "    confidence - уверенность в гипотезе по 10-балльной шкале;\n",
    "    efforts - затраты ресурсов на проверку гипотезы по 10-балльной шкале.\n",
    "    \n",
    "**orders** - данные А/В-тестирования по заказам:\n",
    "\n",
    "    transactionId — идентификатор заказа;\n",
    "    visitorId — идентификатор пользователя, совершившего заказ;\n",
    "    date — дата, когда был совершён заказ;\n",
    "    revenue — выручка заказа;\n",
    "    group — группа A/B-теста, в которую попал заказ.\n",
    "    \n",
    "**visitors** - данные А/В-тестирования по пользователям:\n",
    "\n",
    "    date — дата;\n",
    "    group — группа A/B-теста;\n",
    "    visitors — количество пользователей в указанную дату в указанной группе A/B-теста."
   ]
  },
  {
   "cell_type": "code",
   "execution_count": 1,
   "metadata": {},
   "outputs": [],
   "source": [
    "import pandas as pd\n",
    "import datetime as dt\n",
    "import numpy as np\n",
    "import matplotlib.pyplot as plt\n",
    "from scipy import stats"
   ]
  },
  {
   "cell_type": "markdown",
   "metadata": {},
   "source": [
    "## Предобработка данных"
   ]
  },
  {
   "cell_type": "code",
   "execution_count": 2,
   "metadata": {},
   "outputs": [
    {
     "data": {
      "text/html": [
       "<div>\n",
       "<style scoped>\n",
       "    .dataframe tbody tr th:only-of-type {\n",
       "        vertical-align: middle;\n",
       "    }\n",
       "\n",
       "    .dataframe tbody tr th {\n",
       "        vertical-align: top;\n",
       "    }\n",
       "\n",
       "    .dataframe thead th {\n",
       "        text-align: right;\n",
       "    }\n",
       "</style>\n",
       "<table border=\"1\" class=\"dataframe\">\n",
       "  <thead>\n",
       "    <tr style=\"text-align: right;\">\n",
       "      <th></th>\n",
       "      <th>Hypothesis</th>\n",
       "      <th>Reach</th>\n",
       "      <th>Impact</th>\n",
       "      <th>Confidence</th>\n",
       "      <th>Efforts</th>\n",
       "    </tr>\n",
       "  </thead>\n",
       "  <tbody>\n",
       "    <tr>\n",
       "      <th>0</th>\n",
       "      <td>Добавить два новых канала привлечения трафика, что позволит привлекать на 30% больше пользователей</td>\n",
       "      <td>3</td>\n",
       "      <td>10</td>\n",
       "      <td>8</td>\n",
       "      <td>6</td>\n",
       "    </tr>\n",
       "    <tr>\n",
       "      <th>1</th>\n",
       "      <td>Запустить собственную службу доставки, что сократит срок доставки заказов</td>\n",
       "      <td>2</td>\n",
       "      <td>5</td>\n",
       "      <td>4</td>\n",
       "      <td>10</td>\n",
       "    </tr>\n",
       "    <tr>\n",
       "      <th>2</th>\n",
       "      <td>Добавить блоки рекомендаций товаров на сайт интернет магазина, чтобы повысить конверсию и средний чек заказа</td>\n",
       "      <td>8</td>\n",
       "      <td>3</td>\n",
       "      <td>7</td>\n",
       "      <td>3</td>\n",
       "    </tr>\n",
       "    <tr>\n",
       "      <th>3</th>\n",
       "      <td>Изменить структура категорий, что увеличит конверсию, т.к. пользователи быстрее найдут нужный товар</td>\n",
       "      <td>8</td>\n",
       "      <td>3</td>\n",
       "      <td>3</td>\n",
       "      <td>8</td>\n",
       "    </tr>\n",
       "    <tr>\n",
       "      <th>4</th>\n",
       "      <td>Изменить цвет фона главной страницы, чтобы увеличить вовлеченность пользователей</td>\n",
       "      <td>3</td>\n",
       "      <td>1</td>\n",
       "      <td>1</td>\n",
       "      <td>1</td>\n",
       "    </tr>\n",
       "    <tr>\n",
       "      <th>5</th>\n",
       "      <td>Добавить страницу отзывов клиентов о магазине, что позволит увеличить количество заказов</td>\n",
       "      <td>3</td>\n",
       "      <td>2</td>\n",
       "      <td>2</td>\n",
       "      <td>3</td>\n",
       "    </tr>\n",
       "    <tr>\n",
       "      <th>6</th>\n",
       "      <td>Показать на главной странице баннеры с актуальными акциями и распродажами, чтобы увеличить конверсию</td>\n",
       "      <td>5</td>\n",
       "      <td>3</td>\n",
       "      <td>8</td>\n",
       "      <td>3</td>\n",
       "    </tr>\n",
       "    <tr>\n",
       "      <th>7</th>\n",
       "      <td>Добавить форму подписки на все основные страницы, чтобы собрать базу клиентов для email-рассылок</td>\n",
       "      <td>10</td>\n",
       "      <td>7</td>\n",
       "      <td>8</td>\n",
       "      <td>5</td>\n",
       "    </tr>\n",
       "    <tr>\n",
       "      <th>8</th>\n",
       "      <td>Запустить акцию, дающую скидку на товар в день рождения</td>\n",
       "      <td>1</td>\n",
       "      <td>9</td>\n",
       "      <td>9</td>\n",
       "      <td>5</td>\n",
       "    </tr>\n",
       "  </tbody>\n",
       "</table>\n",
       "</div>"
      ],
      "text/plain": [
       "                                                                                                     Hypothesis  \\\n",
       "0            Добавить два новых канала привлечения трафика, что позволит привлекать на 30% больше пользователей   \n",
       "1                                     Запустить собственную службу доставки, что сократит срок доставки заказов   \n",
       "2  Добавить блоки рекомендаций товаров на сайт интернет магазина, чтобы повысить конверсию и средний чек заказа   \n",
       "3           Изменить структура категорий, что увеличит конверсию, т.к. пользователи быстрее найдут нужный товар   \n",
       "4                              Изменить цвет фона главной страницы, чтобы увеличить вовлеченность пользователей   \n",
       "5                      Добавить страницу отзывов клиентов о магазине, что позволит увеличить количество заказов   \n",
       "6          Показать на главной странице баннеры с актуальными акциями и распродажами, чтобы увеличить конверсию   \n",
       "7              Добавить форму подписки на все основные страницы, чтобы собрать базу клиентов для email-рассылок   \n",
       "8                                                       Запустить акцию, дающую скидку на товар в день рождения   \n",
       "\n",
       "   Reach  Impact  Confidence  Efforts  \n",
       "0      3      10           8        6  \n",
       "1      2       5           4       10  \n",
       "2      8       3           7        3  \n",
       "3      8       3           3        8  \n",
       "4      3       1           1        1  \n",
       "5      3       2           2        3  \n",
       "6      5       3           8        3  \n",
       "7     10       7           8        5  \n",
       "8      1       9           9        5  "
      ]
     },
     "execution_count": 2,
     "metadata": {},
     "output_type": "execute_result"
    }
   ],
   "source": [
    "# hypothesis = pd.read_csv('/Users/dianamini/Developer/Data/hypothesis.csv')\n",
    "# pd.set_option('display.max_columns', None)\n",
    "# pd.options.display.max_colwidth = 150 \n",
    "# hypothesis"
   ]
  },
  {
   "cell_type": "code",
   "execution_count": 3,
   "metadata": {},
   "outputs": [
    {
     "data": {
      "text/html": [
       "<div>\n",
       "<style scoped>\n",
       "    .dataframe tbody tr th:only-of-type {\n",
       "        vertical-align: middle;\n",
       "    }\n",
       "\n",
       "    .dataframe tbody tr th {\n",
       "        vertical-align: top;\n",
       "    }\n",
       "\n",
       "    .dataframe thead th {\n",
       "        text-align: right;\n",
       "    }\n",
       "</style>\n",
       "<table border=\"1\" class=\"dataframe\">\n",
       "  <thead>\n",
       "    <tr style=\"text-align: right;\">\n",
       "      <th></th>\n",
       "      <th>hypothesis</th>\n",
       "      <th>reach</th>\n",
       "      <th>impact</th>\n",
       "      <th>confidence</th>\n",
       "      <th>efforts</th>\n",
       "    </tr>\n",
       "  </thead>\n",
       "  <tbody>\n",
       "    <tr>\n",
       "      <th>0</th>\n",
       "      <td>Добавить два новых канала привлечения трафика, что позволит привлекать на 30% больше пользователей</td>\n",
       "      <td>3</td>\n",
       "      <td>10</td>\n",
       "      <td>8</td>\n",
       "      <td>6</td>\n",
       "    </tr>\n",
       "  </tbody>\n",
       "</table>\n",
       "</div>"
      ],
      "text/plain": [
       "                                                                                           hypothesis  \\\n",
       "0  Добавить два новых канала привлечения трафика, что позволит привлекать на 30% больше пользователей   \n",
       "\n",
       "   reach  impact  confidence  efforts  \n",
       "0      3      10           8        6  "
      ]
     },
     "execution_count": 3,
     "metadata": {},
     "output_type": "execute_result"
    }
   ],
   "source": [
    "hypothesis.columns = hypothesis.columns.str.lower()\n",
    "hypothesis.head(1)"
   ]
  },
  {
   "cell_type": "code",
   "execution_count": 4,
   "metadata": {},
   "outputs": [
    {
     "data": {
      "text/html": [
       "<div>\n",
       "<style scoped>\n",
       "    .dataframe tbody tr th:only-of-type {\n",
       "        vertical-align: middle;\n",
       "    }\n",
       "\n",
       "    .dataframe tbody tr th {\n",
       "        vertical-align: top;\n",
       "    }\n",
       "\n",
       "    .dataframe thead th {\n",
       "        text-align: right;\n",
       "    }\n",
       "</style>\n",
       "<table border=\"1\" class=\"dataframe\">\n",
       "  <thead>\n",
       "    <tr style=\"text-align: right;\">\n",
       "      <th></th>\n",
       "      <th>transactionId</th>\n",
       "      <th>visitorId</th>\n",
       "      <th>date</th>\n",
       "      <th>revenue</th>\n",
       "      <th>group</th>\n",
       "    </tr>\n",
       "  </thead>\n",
       "  <tbody>\n",
       "    <tr>\n",
       "      <th>0</th>\n",
       "      <td>3667963787</td>\n",
       "      <td>3312258926</td>\n",
       "      <td>2019-08-15</td>\n",
       "      <td>1650</td>\n",
       "      <td>B</td>\n",
       "    </tr>\n",
       "    <tr>\n",
       "      <th>1</th>\n",
       "      <td>2804400009</td>\n",
       "      <td>3642806036</td>\n",
       "      <td>2019-08-15</td>\n",
       "      <td>730</td>\n",
       "      <td>B</td>\n",
       "    </tr>\n",
       "    <tr>\n",
       "      <th>2</th>\n",
       "      <td>2961555356</td>\n",
       "      <td>4069496402</td>\n",
       "      <td>2019-08-15</td>\n",
       "      <td>400</td>\n",
       "      <td>A</td>\n",
       "    </tr>\n",
       "    <tr>\n",
       "      <th>3</th>\n",
       "      <td>3797467345</td>\n",
       "      <td>1196621759</td>\n",
       "      <td>2019-08-15</td>\n",
       "      <td>9759</td>\n",
       "      <td>B</td>\n",
       "    </tr>\n",
       "    <tr>\n",
       "      <th>4</th>\n",
       "      <td>2282983706</td>\n",
       "      <td>2322279887</td>\n",
       "      <td>2019-08-15</td>\n",
       "      <td>2308</td>\n",
       "      <td>B</td>\n",
       "    </tr>\n",
       "  </tbody>\n",
       "</table>\n",
       "</div>"
      ],
      "text/plain": [
       "   transactionId   visitorId        date  revenue group\n",
       "0     3667963787  3312258926  2019-08-15     1650     B\n",
       "1     2804400009  3642806036  2019-08-15      730     B\n",
       "2     2961555356  4069496402  2019-08-15      400     A\n",
       "3     3797467345  1196621759  2019-08-15     9759     B\n",
       "4     2282983706  2322279887  2019-08-15     2308     B"
      ]
     },
     "execution_count": 4,
     "metadata": {},
     "output_type": "execute_result"
    }
   ],
   "source": [
    "# orders = pd.read_csv('/Users/dianamini/Developer/Data/orders_1.csv')\n",
    "# orders.head()"
   ]
  },
  {
   "cell_type": "code",
   "execution_count": 5,
   "metadata": {},
   "outputs": [
    {
     "name": "stdout",
     "output_type": "stream",
     "text": [
      "<class 'pandas.core.frame.DataFrame'>\n",
      "RangeIndex: 1197 entries, 0 to 1196\n",
      "Data columns (total 5 columns):\n",
      " #   Column         Non-Null Count  Dtype \n",
      "---  ------         --------------  ----- \n",
      " 0   transactionId  1197 non-null   int64 \n",
      " 1   visitorId      1197 non-null   int64 \n",
      " 2   date           1197 non-null   object\n",
      " 3   revenue        1197 non-null   int64 \n",
      " 4   group          1197 non-null   object\n",
      "dtypes: int64(3), object(2)\n",
      "memory usage: 46.9+ KB\n"
     ]
    }
   ],
   "source": [
    "orders.info()"
   ]
  },
  {
   "cell_type": "code",
   "execution_count": 6,
   "metadata": {},
   "outputs": [
    {
     "data": {
      "text/html": [
       "<div>\n",
       "<style scoped>\n",
       "    .dataframe tbody tr th:only-of-type {\n",
       "        vertical-align: middle;\n",
       "    }\n",
       "\n",
       "    .dataframe tbody tr th {\n",
       "        vertical-align: top;\n",
       "    }\n",
       "\n",
       "    .dataframe thead th {\n",
       "        text-align: right;\n",
       "    }\n",
       "</style>\n",
       "<table border=\"1\" class=\"dataframe\">\n",
       "  <thead>\n",
       "    <tr style=\"text-align: right;\">\n",
       "      <th></th>\n",
       "      <th>date</th>\n",
       "      <th>group</th>\n",
       "      <th>visitors</th>\n",
       "    </tr>\n",
       "  </thead>\n",
       "  <tbody>\n",
       "    <tr>\n",
       "      <th>0</th>\n",
       "      <td>2019-08-01</td>\n",
       "      <td>A</td>\n",
       "      <td>719</td>\n",
       "    </tr>\n",
       "    <tr>\n",
       "      <th>1</th>\n",
       "      <td>2019-08-02</td>\n",
       "      <td>A</td>\n",
       "      <td>619</td>\n",
       "    </tr>\n",
       "    <tr>\n",
       "      <th>2</th>\n",
       "      <td>2019-08-03</td>\n",
       "      <td>A</td>\n",
       "      <td>507</td>\n",
       "    </tr>\n",
       "    <tr>\n",
       "      <th>3</th>\n",
       "      <td>2019-08-04</td>\n",
       "      <td>A</td>\n",
       "      <td>717</td>\n",
       "    </tr>\n",
       "    <tr>\n",
       "      <th>4</th>\n",
       "      <td>2019-08-05</td>\n",
       "      <td>A</td>\n",
       "      <td>756</td>\n",
       "    </tr>\n",
       "  </tbody>\n",
       "</table>\n",
       "</div>"
      ],
      "text/plain": [
       "         date group  visitors\n",
       "0  2019-08-01     A       719\n",
       "1  2019-08-02     A       619\n",
       "2  2019-08-03     A       507\n",
       "3  2019-08-04     A       717\n",
       "4  2019-08-05     A       756"
      ]
     },
     "execution_count": 6,
     "metadata": {},
     "output_type": "execute_result"
    }
   ],
   "source": [
    "# visitors = pd.read_csv('/Users/dianamini/Developer/Data/visitors.csv')\n",
    "# visitors.head()"
   ]
  },
  {
   "cell_type": "code",
   "execution_count": 7,
   "metadata": {},
   "outputs": [
    {
     "name": "stdout",
     "output_type": "stream",
     "text": [
      "<class 'pandas.core.frame.DataFrame'>\n",
      "RangeIndex: 62 entries, 0 to 61\n",
      "Data columns (total 3 columns):\n",
      " #   Column    Non-Null Count  Dtype \n",
      "---  ------    --------------  ----- \n",
      " 0   date      62 non-null     object\n",
      " 1   group     62 non-null     object\n",
      " 2   visitors  62 non-null     int64 \n",
      "dtypes: int64(1), object(2)\n",
      "memory usage: 1.6+ KB\n"
     ]
    }
   ],
   "source": [
    "visitors.info()"
   ]
  },
  {
   "cell_type": "code",
   "execution_count": 8,
   "metadata": {},
   "outputs": [
    {
     "name": "stdout",
     "output_type": "stream",
     "text": [
      "<class 'pandas.core.frame.DataFrame'>\n",
      "RangeIndex: 1197 entries, 0 to 1196\n",
      "Data columns (total 5 columns):\n",
      " #   Column         Non-Null Count  Dtype         \n",
      "---  ------         --------------  -----         \n",
      " 0   transactionId  1197 non-null   int64         \n",
      " 1   visitorId      1197 non-null   int64         \n",
      " 2   date           1197 non-null   datetime64[ns]\n",
      " 3   revenue        1197 non-null   int64         \n",
      " 4   group          1197 non-null   object        \n",
      "dtypes: datetime64[ns](1), int64(3), object(1)\n",
      "memory usage: 46.9+ KB\n"
     ]
    }
   ],
   "source": [
    "orders['date'] = pd.to_datetime(orders['date'])\n",
    "orders.info()"
   ]
  },
  {
   "cell_type": "code",
   "execution_count": 9,
   "metadata": {},
   "outputs": [
    {
     "name": "stdout",
     "output_type": "stream",
     "text": [
      "<class 'pandas.core.frame.DataFrame'>\n",
      "RangeIndex: 1197 entries, 0 to 1196\n",
      "Data columns (total 5 columns):\n",
      " #   Column         Non-Null Count  Dtype         \n",
      "---  ------         --------------  -----         \n",
      " 0   transactionId  1197 non-null   int64         \n",
      " 1   visitorId      1197 non-null   int64         \n",
      " 2   date           1197 non-null   datetime64[ns]\n",
      " 3   revenue        1197 non-null   int64         \n",
      " 4   group          1197 non-null   object        \n",
      "dtypes: datetime64[ns](1), int64(3), object(1)\n",
      "memory usage: 46.9+ KB\n"
     ]
    }
   ],
   "source": [
    "visitors['date'] = pd.to_datetime(visitors['date'])\n",
    "orders.info()"
   ]
  },
  {
   "cell_type": "code",
   "execution_count": 10,
   "metadata": {},
   "outputs": [
    {
     "data": {
      "text/plain": [
       "0"
      ]
     },
     "execution_count": 10,
     "metadata": {},
     "output_type": "execute_result"
    }
   ],
   "source": [
    "orders.duplicated().sum()"
   ]
  },
  {
   "cell_type": "code",
   "execution_count": 11,
   "metadata": {},
   "outputs": [
    {
     "data": {
      "text/plain": [
       "0"
      ]
     },
     "execution_count": 11,
     "metadata": {},
     "output_type": "execute_result"
    }
   ],
   "source": [
    "visitors.duplicated().sum()"
   ]
  },
  {
   "cell_type": "code",
   "execution_count": 12,
   "metadata": {},
   "outputs": [
    {
     "data": {
      "text/html": [
       "<div>\n",
       "<style scoped>\n",
       "    .dataframe tbody tr th:only-of-type {\n",
       "        vertical-align: middle;\n",
       "    }\n",
       "\n",
       "    .dataframe tbody tr th {\n",
       "        vertical-align: top;\n",
       "    }\n",
       "\n",
       "    .dataframe thead th {\n",
       "        text-align: right;\n",
       "    }\n",
       "</style>\n",
       "<table border=\"1\" class=\"dataframe\">\n",
       "  <thead>\n",
       "    <tr style=\"text-align: right;\">\n",
       "      <th></th>\n",
       "      <th>transactionId</th>\n",
       "      <th>visitorId</th>\n",
       "      <th>date</th>\n",
       "      <th>revenue</th>\n",
       "      <th>group</th>\n",
       "    </tr>\n",
       "  </thead>\n",
       "  <tbody>\n",
       "    <tr>\n",
       "      <th>2</th>\n",
       "      <td>2961555356</td>\n",
       "      <td>4069496402</td>\n",
       "      <td>2019-08-15</td>\n",
       "      <td>400</td>\n",
       "      <td>A</td>\n",
       "    </tr>\n",
       "    <tr>\n",
       "      <th>20</th>\n",
       "      <td>2904772834</td>\n",
       "      <td>963407295</td>\n",
       "      <td>2019-08-15</td>\n",
       "      <td>300</td>\n",
       "      <td>B</td>\n",
       "    </tr>\n",
       "    <tr>\n",
       "      <th>23</th>\n",
       "      <td>4252514150</td>\n",
       "      <td>351125977</td>\n",
       "      <td>2019-08-15</td>\n",
       "      <td>15185</td>\n",
       "      <td>B</td>\n",
       "    </tr>\n",
       "    <tr>\n",
       "      <th>24</th>\n",
       "      <td>1162046357</td>\n",
       "      <td>3234906277</td>\n",
       "      <td>2019-08-15</td>\n",
       "      <td>7555</td>\n",
       "      <td>B</td>\n",
       "    </tr>\n",
       "    <tr>\n",
       "      <th>26</th>\n",
       "      <td>2223239646</td>\n",
       "      <td>199603092</td>\n",
       "      <td>2019-08-15</td>\n",
       "      <td>3488</td>\n",
       "      <td>A</td>\n",
       "    </tr>\n",
       "  </tbody>\n",
       "</table>\n",
       "</div>"
      ],
      "text/plain": [
       "    transactionId   visitorId       date  revenue group\n",
       "2      2961555356  4069496402 2019-08-15      400     A\n",
       "20     2904772834   963407295 2019-08-15      300     B\n",
       "23     4252514150   351125977 2019-08-15    15185     B\n",
       "24     1162046357  3234906277 2019-08-15     7555     B\n",
       "26     2223239646   199603092 2019-08-15     3488     A"
      ]
     },
     "execution_count": 12,
     "metadata": {},
     "output_type": "execute_result"
    }
   ],
   "source": [
    "orders_one_on_group = orders.drop_duplicates(subset=['visitorId', 'group'], keep='first')\n",
    "orders_dist = orders_one_on_group[orders_one_on_group.duplicated(['visitorId'], keep=False)]\n",
    "orders_dist.head()"
   ]
  },
  {
   "cell_type": "code",
   "execution_count": 13,
   "metadata": {},
   "outputs": [
    {
     "data": {
      "text/html": [
       "<div>\n",
       "<style scoped>\n",
       "    .dataframe tbody tr th:only-of-type {\n",
       "        vertical-align: middle;\n",
       "    }\n",
       "\n",
       "    .dataframe tbody tr th {\n",
       "        vertical-align: top;\n",
       "    }\n",
       "\n",
       "    .dataframe thead th {\n",
       "        text-align: right;\n",
       "    }\n",
       "</style>\n",
       "<table border=\"1\" class=\"dataframe\">\n",
       "  <thead>\n",
       "    <tr style=\"text-align: right;\">\n",
       "      <th></th>\n",
       "      <th>transactionId</th>\n",
       "      <th>visitorId</th>\n",
       "      <th>date</th>\n",
       "      <th>revenue</th>\n",
       "      <th>group</th>\n",
       "    </tr>\n",
       "  </thead>\n",
       "  <tbody>\n",
       "    <tr>\n",
       "      <th>2</th>\n",
       "      <td>2961555356</td>\n",
       "      <td>4069496402</td>\n",
       "      <td>2019-08-15</td>\n",
       "      <td>400</td>\n",
       "      <td>A</td>\n",
       "    </tr>\n",
       "    <tr>\n",
       "      <th>1070</th>\n",
       "      <td>1473132782</td>\n",
       "      <td>4069496402</td>\n",
       "      <td>2019-08-12</td>\n",
       "      <td>640</td>\n",
       "      <td>B</td>\n",
       "    </tr>\n",
       "  </tbody>\n",
       "</table>\n",
       "</div>"
      ],
      "text/plain": [
       "      transactionId   visitorId       date  revenue group\n",
       "2        2961555356  4069496402 2019-08-15      400     A\n",
       "1070     1473132782  4069496402 2019-08-12      640     B"
      ]
     },
     "execution_count": 13,
     "metadata": {},
     "output_type": "execute_result"
    }
   ],
   "source": [
    "orders_dist[orders_dist['visitorId']==4069496402]"
   ]
  },
  {
   "cell_type": "markdown",
   "metadata": {},
   "source": [
    "---\n",
    "- Заменила типы данных в столбцах с датами в таблицах visitors и orders\n",
    "- Привела к нижнему регистру названия столбцов таблицы hypothesis\n",
    "- Проверила таблицы на дубликаты\n",
    "- Есть пользователи, состоящие в обеих группах. Это либо тестовые пользователи, либо проблема в системе сплитования аудитории.\n",
    "\n",
    "---"
   ]
  },
  {
   "cell_type": "markdown",
   "metadata": {},
   "source": [
    "## Приоритизация гипотез"
   ]
  },
  {
   "cell_type": "code",
   "execution_count": 14,
   "metadata": {},
   "outputs": [
    {
     "data": {
      "text/html": [
       "<div>\n",
       "<style scoped>\n",
       "    .dataframe tbody tr th:only-of-type {\n",
       "        vertical-align: middle;\n",
       "    }\n",
       "\n",
       "    .dataframe tbody tr th {\n",
       "        vertical-align: top;\n",
       "    }\n",
       "\n",
       "    .dataframe thead th {\n",
       "        text-align: right;\n",
       "    }\n",
       "</style>\n",
       "<table border=\"1\" class=\"dataframe\">\n",
       "  <thead>\n",
       "    <tr style=\"text-align: right;\">\n",
       "      <th></th>\n",
       "      <th>hypothesis</th>\n",
       "      <th>reach</th>\n",
       "      <th>impact</th>\n",
       "      <th>confidence</th>\n",
       "      <th>efforts</th>\n",
       "    </tr>\n",
       "  </thead>\n",
       "  <tbody>\n",
       "    <tr>\n",
       "      <th>0</th>\n",
       "      <td>Добавить два новых канала привлечения трафика, что позволит привлекать на 30% больше пользователей</td>\n",
       "      <td>3</td>\n",
       "      <td>10</td>\n",
       "      <td>8</td>\n",
       "      <td>6</td>\n",
       "    </tr>\n",
       "    <tr>\n",
       "      <th>1</th>\n",
       "      <td>Запустить собственную службу доставки, что сократит срок доставки заказов</td>\n",
       "      <td>2</td>\n",
       "      <td>5</td>\n",
       "      <td>4</td>\n",
       "      <td>10</td>\n",
       "    </tr>\n",
       "    <tr>\n",
       "      <th>2</th>\n",
       "      <td>Добавить блоки рекомендаций товаров на сайт интернет магазина, чтобы повысить конверсию и средний чек заказа</td>\n",
       "      <td>8</td>\n",
       "      <td>3</td>\n",
       "      <td>7</td>\n",
       "      <td>3</td>\n",
       "    </tr>\n",
       "    <tr>\n",
       "      <th>3</th>\n",
       "      <td>Изменить структура категорий, что увеличит конверсию, т.к. пользователи быстрее найдут нужный товар</td>\n",
       "      <td>8</td>\n",
       "      <td>3</td>\n",
       "      <td>3</td>\n",
       "      <td>8</td>\n",
       "    </tr>\n",
       "    <tr>\n",
       "      <th>4</th>\n",
       "      <td>Изменить цвет фона главной страницы, чтобы увеличить вовлеченность пользователей</td>\n",
       "      <td>3</td>\n",
       "      <td>1</td>\n",
       "      <td>1</td>\n",
       "      <td>1</td>\n",
       "    </tr>\n",
       "    <tr>\n",
       "      <th>5</th>\n",
       "      <td>Добавить страницу отзывов клиентов о магазине, что позволит увеличить количество заказов</td>\n",
       "      <td>3</td>\n",
       "      <td>2</td>\n",
       "      <td>2</td>\n",
       "      <td>3</td>\n",
       "    </tr>\n",
       "    <tr>\n",
       "      <th>6</th>\n",
       "      <td>Показать на главной странице баннеры с актуальными акциями и распродажами, чтобы увеличить конверсию</td>\n",
       "      <td>5</td>\n",
       "      <td>3</td>\n",
       "      <td>8</td>\n",
       "      <td>3</td>\n",
       "    </tr>\n",
       "    <tr>\n",
       "      <th>7</th>\n",
       "      <td>Добавить форму подписки на все основные страницы, чтобы собрать базу клиентов для email-рассылок</td>\n",
       "      <td>10</td>\n",
       "      <td>7</td>\n",
       "      <td>8</td>\n",
       "      <td>5</td>\n",
       "    </tr>\n",
       "    <tr>\n",
       "      <th>8</th>\n",
       "      <td>Запустить акцию, дающую скидку на товар в день рождения</td>\n",
       "      <td>1</td>\n",
       "      <td>9</td>\n",
       "      <td>9</td>\n",
       "      <td>5</td>\n",
       "    </tr>\n",
       "  </tbody>\n",
       "</table>\n",
       "</div>"
      ],
      "text/plain": [
       "                                                                                                     hypothesis  \\\n",
       "0            Добавить два новых канала привлечения трафика, что позволит привлекать на 30% больше пользователей   \n",
       "1                                     Запустить собственную службу доставки, что сократит срок доставки заказов   \n",
       "2  Добавить блоки рекомендаций товаров на сайт интернет магазина, чтобы повысить конверсию и средний чек заказа   \n",
       "3           Изменить структура категорий, что увеличит конверсию, т.к. пользователи быстрее найдут нужный товар   \n",
       "4                              Изменить цвет фона главной страницы, чтобы увеличить вовлеченность пользователей   \n",
       "5                      Добавить страницу отзывов клиентов о магазине, что позволит увеличить количество заказов   \n",
       "6          Показать на главной странице баннеры с актуальными акциями и распродажами, чтобы увеличить конверсию   \n",
       "7              Добавить форму подписки на все основные страницы, чтобы собрать базу клиентов для email-рассылок   \n",
       "8                                                       Запустить акцию, дающую скидку на товар в день рождения   \n",
       "\n",
       "   reach  impact  confidence  efforts  \n",
       "0      3      10           8        6  \n",
       "1      2       5           4       10  \n",
       "2      8       3           7        3  \n",
       "3      8       3           3        8  \n",
       "4      3       1           1        1  \n",
       "5      3       2           2        3  \n",
       "6      5       3           8        3  \n",
       "7     10       7           8        5  \n",
       "8      1       9           9        5  "
      ]
     },
     "execution_count": 14,
     "metadata": {},
     "output_type": "execute_result"
    }
   ],
   "source": [
    "hypothesis"
   ]
  },
  {
   "cell_type": "code",
   "execution_count": 15,
   "metadata": {},
   "outputs": [
    {
     "data": {
      "text/html": [
       "<div>\n",
       "<style scoped>\n",
       "    .dataframe tbody tr th:only-of-type {\n",
       "        vertical-align: middle;\n",
       "    }\n",
       "\n",
       "    .dataframe tbody tr th {\n",
       "        vertical-align: top;\n",
       "    }\n",
       "\n",
       "    .dataframe thead th {\n",
       "        text-align: right;\n",
       "    }\n",
       "</style>\n",
       "<table border=\"1\" class=\"dataframe\">\n",
       "  <thead>\n",
       "    <tr style=\"text-align: right;\">\n",
       "      <th></th>\n",
       "      <th>hypothesis</th>\n",
       "      <th>ICE</th>\n",
       "    </tr>\n",
       "  </thead>\n",
       "  <tbody>\n",
       "    <tr>\n",
       "      <th>8</th>\n",
       "      <td>Запустить акцию, дающую скидку на товар в день рождения</td>\n",
       "      <td>16</td>\n",
       "    </tr>\n",
       "    <tr>\n",
       "      <th>0</th>\n",
       "      <td>Добавить два новых канала привлечения трафика, что позволит привлекать на 30% больше пользователей</td>\n",
       "      <td>13</td>\n",
       "    </tr>\n",
       "    <tr>\n",
       "      <th>7</th>\n",
       "      <td>Добавить форму подписки на все основные страницы, чтобы собрать базу клиентов для email-рассылок</td>\n",
       "      <td>11</td>\n",
       "    </tr>\n",
       "    <tr>\n",
       "      <th>6</th>\n",
       "      <td>Показать на главной странице баннеры с актуальными акциями и распродажами, чтобы увеличить конверсию</td>\n",
       "      <td>8</td>\n",
       "    </tr>\n",
       "    <tr>\n",
       "      <th>2</th>\n",
       "      <td>Добавить блоки рекомендаций товаров на сайт интернет магазина, чтобы повысить конверсию и средний чек заказа</td>\n",
       "      <td>7</td>\n",
       "    </tr>\n",
       "    <tr>\n",
       "      <th>1</th>\n",
       "      <td>Запустить собственную службу доставки, что сократит срок доставки заказов</td>\n",
       "      <td>2</td>\n",
       "    </tr>\n",
       "    <tr>\n",
       "      <th>3</th>\n",
       "      <td>Изменить структура категорий, что увеличит конверсию, т.к. пользователи быстрее найдут нужный товар</td>\n",
       "      <td>1</td>\n",
       "    </tr>\n",
       "    <tr>\n",
       "      <th>4</th>\n",
       "      <td>Изменить цвет фона главной страницы, чтобы увеличить вовлеченность пользователей</td>\n",
       "      <td>1</td>\n",
       "    </tr>\n",
       "    <tr>\n",
       "      <th>5</th>\n",
       "      <td>Добавить страницу отзывов клиентов о магазине, что позволит увеличить количество заказов</td>\n",
       "      <td>1</td>\n",
       "    </tr>\n",
       "  </tbody>\n",
       "</table>\n",
       "</div>"
      ],
      "text/plain": [
       "                                                                                                     hypothesis  \\\n",
       "8                                                       Запустить акцию, дающую скидку на товар в день рождения   \n",
       "0            Добавить два новых канала привлечения трафика, что позволит привлекать на 30% больше пользователей   \n",
       "7              Добавить форму подписки на все основные страницы, чтобы собрать базу клиентов для email-рассылок   \n",
       "6          Показать на главной странице баннеры с актуальными акциями и распродажами, чтобы увеличить конверсию   \n",
       "2  Добавить блоки рекомендаций товаров на сайт интернет магазина, чтобы повысить конверсию и средний чек заказа   \n",
       "1                                     Запустить собственную службу доставки, что сократит срок доставки заказов   \n",
       "3           Изменить структура категорий, что увеличит конверсию, т.к. пользователи быстрее найдут нужный товар   \n",
       "4                              Изменить цвет фона главной страницы, чтобы увеличить вовлеченность пользователей   \n",
       "5                      Добавить страницу отзывов клиентов о магазине, что позволит увеличить количество заказов   \n",
       "\n",
       "   ICE  \n",
       "8   16  \n",
       "0   13  \n",
       "7   11  \n",
       "6    8  \n",
       "2    7  \n",
       "1    2  \n",
       "3    1  \n",
       "4    1  \n",
       "5    1  "
      ]
     },
     "execution_count": 15,
     "metadata": {},
     "output_type": "execute_result"
    }
   ],
   "source": [
    "hypothesis['ICE'] = (hypothesis['impact'] * hypothesis['confidence']) / hypothesis['efforts']\n",
    "hypothesis['ICE'] = np.round(hypothesis['ICE']). astype(int)\n",
    "hypothesis_ice = hypothesis[['hypothesis', 'ICE']].sort_values(by='ICE', ascending=False)\n",
    "hypothesis_ice"
   ]
  },
  {
   "cell_type": "code",
   "execution_count": 16,
   "metadata": {},
   "outputs": [
    {
     "data": {
      "text/html": [
       "<div>\n",
       "<style scoped>\n",
       "    .dataframe tbody tr th:only-of-type {\n",
       "        vertical-align: middle;\n",
       "    }\n",
       "\n",
       "    .dataframe tbody tr th {\n",
       "        vertical-align: top;\n",
       "    }\n",
       "\n",
       "    .dataframe thead th {\n",
       "        text-align: right;\n",
       "    }\n",
       "</style>\n",
       "<table border=\"1\" class=\"dataframe\">\n",
       "  <thead>\n",
       "    <tr style=\"text-align: right;\">\n",
       "      <th></th>\n",
       "      <th>hypothesis</th>\n",
       "      <th>RICE</th>\n",
       "    </tr>\n",
       "  </thead>\n",
       "  <tbody>\n",
       "    <tr>\n",
       "      <th>7</th>\n",
       "      <td>Добавить форму подписки на все основные страницы, чтобы собрать базу клиентов для email-рассылок</td>\n",
       "      <td>112.0</td>\n",
       "    </tr>\n",
       "    <tr>\n",
       "      <th>2</th>\n",
       "      <td>Добавить блоки рекомендаций товаров на сайт интернет магазина, чтобы повысить конверсию и средний чек заказа</td>\n",
       "      <td>56.0</td>\n",
       "    </tr>\n",
       "    <tr>\n",
       "      <th>0</th>\n",
       "      <td>Добавить два новых канала привлечения трафика, что позволит привлекать на 30% больше пользователей</td>\n",
       "      <td>40.0</td>\n",
       "    </tr>\n",
       "    <tr>\n",
       "      <th>6</th>\n",
       "      <td>Показать на главной странице баннеры с актуальными акциями и распродажами, чтобы увеличить конверсию</td>\n",
       "      <td>40.0</td>\n",
       "    </tr>\n",
       "    <tr>\n",
       "      <th>8</th>\n",
       "      <td>Запустить акцию, дающую скидку на товар в день рождения</td>\n",
       "      <td>16.2</td>\n",
       "    </tr>\n",
       "    <tr>\n",
       "      <th>3</th>\n",
       "      <td>Изменить структура категорий, что увеличит конверсию, т.к. пользователи быстрее найдут нужный товар</td>\n",
       "      <td>9.0</td>\n",
       "    </tr>\n",
       "    <tr>\n",
       "      <th>1</th>\n",
       "      <td>Запустить собственную службу доставки, что сократит срок доставки заказов</td>\n",
       "      <td>4.0</td>\n",
       "    </tr>\n",
       "    <tr>\n",
       "      <th>5</th>\n",
       "      <td>Добавить страницу отзывов клиентов о магазине, что позволит увеличить количество заказов</td>\n",
       "      <td>4.0</td>\n",
       "    </tr>\n",
       "    <tr>\n",
       "      <th>4</th>\n",
       "      <td>Изменить цвет фона главной страницы, чтобы увеличить вовлеченность пользователей</td>\n",
       "      <td>3.0</td>\n",
       "    </tr>\n",
       "  </tbody>\n",
       "</table>\n",
       "</div>"
      ],
      "text/plain": [
       "                                                                                                     hypothesis  \\\n",
       "7              Добавить форму подписки на все основные страницы, чтобы собрать базу клиентов для email-рассылок   \n",
       "2  Добавить блоки рекомендаций товаров на сайт интернет магазина, чтобы повысить конверсию и средний чек заказа   \n",
       "0            Добавить два новых канала привлечения трафика, что позволит привлекать на 30% больше пользователей   \n",
       "6          Показать на главной странице баннеры с актуальными акциями и распродажами, чтобы увеличить конверсию   \n",
       "8                                                       Запустить акцию, дающую скидку на товар в день рождения   \n",
       "3           Изменить структура категорий, что увеличит конверсию, т.к. пользователи быстрее найдут нужный товар   \n",
       "1                                     Запустить собственную службу доставки, что сократит срок доставки заказов   \n",
       "5                      Добавить страницу отзывов клиентов о магазине, что позволит увеличить количество заказов   \n",
       "4                              Изменить цвет фона главной страницы, чтобы увеличить вовлеченность пользователей   \n",
       "\n",
       "    RICE  \n",
       "7  112.0  \n",
       "2   56.0  \n",
       "0   40.0  \n",
       "6   40.0  \n",
       "8   16.2  \n",
       "3    9.0  \n",
       "1    4.0  \n",
       "5    4.0  \n",
       "4    3.0  "
      ]
     },
     "execution_count": 16,
     "metadata": {},
     "output_type": "execute_result"
    }
   ],
   "source": [
    "hypothesis['RICE'] = (hypothesis['reach'] * hypothesis['impact'] * hypothesis['confidence']) / hypothesis['efforts']\n",
    "hypothesis_rice = hypothesis[['hypothesis', 'RICE']].sort_values(by='RICE', ascending=False)\n",
    "hypothesis_rice "
   ]
  },
  {
   "cell_type": "code",
   "execution_count": 17,
   "metadata": {},
   "outputs": [
    {
     "data": {
      "text/html": [
       "<div>\n",
       "<style scoped>\n",
       "    .dataframe tbody tr th:only-of-type {\n",
       "        vertical-align: middle;\n",
       "    }\n",
       "\n",
       "    .dataframe tbody tr th {\n",
       "        vertical-align: top;\n",
       "    }\n",
       "\n",
       "    .dataframe thead th {\n",
       "        text-align: right;\n",
       "    }\n",
       "</style>\n",
       "<table border=\"1\" class=\"dataframe\">\n",
       "  <thead>\n",
       "    <tr style=\"text-align: right;\">\n",
       "      <th></th>\n",
       "      <th>hypothesis</th>\n",
       "      <th>ICE</th>\n",
       "      <th>RICE</th>\n",
       "    </tr>\n",
       "  </thead>\n",
       "  <tbody>\n",
       "    <tr>\n",
       "      <th>0</th>\n",
       "      <td>Запустить акцию, дающую скидку на товар в день рождения</td>\n",
       "      <td>16</td>\n",
       "      <td>16.2</td>\n",
       "    </tr>\n",
       "    <tr>\n",
       "      <th>1</th>\n",
       "      <td>Добавить два новых канала привлечения трафика, что позволит привлекать на 30% больше пользователей</td>\n",
       "      <td>13</td>\n",
       "      <td>40.0</td>\n",
       "    </tr>\n",
       "    <tr>\n",
       "      <th>2</th>\n",
       "      <td>Добавить форму подписки на все основные страницы, чтобы собрать базу клиентов для email-рассылок</td>\n",
       "      <td>11</td>\n",
       "      <td>112.0</td>\n",
       "    </tr>\n",
       "    <tr>\n",
       "      <th>3</th>\n",
       "      <td>Показать на главной странице баннеры с актуальными акциями и распродажами, чтобы увеличить конверсию</td>\n",
       "      <td>8</td>\n",
       "      <td>40.0</td>\n",
       "    </tr>\n",
       "    <tr>\n",
       "      <th>4</th>\n",
       "      <td>Добавить блоки рекомендаций товаров на сайт интернет магазина, чтобы повысить конверсию и средний чек заказа</td>\n",
       "      <td>7</td>\n",
       "      <td>56.0</td>\n",
       "    </tr>\n",
       "    <tr>\n",
       "      <th>5</th>\n",
       "      <td>Запустить собственную службу доставки, что сократит срок доставки заказов</td>\n",
       "      <td>2</td>\n",
       "      <td>4.0</td>\n",
       "    </tr>\n",
       "    <tr>\n",
       "      <th>6</th>\n",
       "      <td>Изменить структура категорий, что увеличит конверсию, т.к. пользователи быстрее найдут нужный товар</td>\n",
       "      <td>1</td>\n",
       "      <td>9.0</td>\n",
       "    </tr>\n",
       "    <tr>\n",
       "      <th>7</th>\n",
       "      <td>Изменить цвет фона главной страницы, чтобы увеличить вовлеченность пользователей</td>\n",
       "      <td>1</td>\n",
       "      <td>3.0</td>\n",
       "    </tr>\n",
       "    <tr>\n",
       "      <th>8</th>\n",
       "      <td>Добавить страницу отзывов клиентов о магазине, что позволит увеличить количество заказов</td>\n",
       "      <td>1</td>\n",
       "      <td>4.0</td>\n",
       "    </tr>\n",
       "  </tbody>\n",
       "</table>\n",
       "</div>"
      ],
      "text/plain": [
       "                                                                                                     hypothesis  \\\n",
       "0                                                       Запустить акцию, дающую скидку на товар в день рождения   \n",
       "1            Добавить два новых канала привлечения трафика, что позволит привлекать на 30% больше пользователей   \n",
       "2              Добавить форму подписки на все основные страницы, чтобы собрать базу клиентов для email-рассылок   \n",
       "3          Показать на главной странице баннеры с актуальными акциями и распродажами, чтобы увеличить конверсию   \n",
       "4  Добавить блоки рекомендаций товаров на сайт интернет магазина, чтобы повысить конверсию и средний чек заказа   \n",
       "5                                     Запустить собственную службу доставки, что сократит срок доставки заказов   \n",
       "6           Изменить структура категорий, что увеличит конверсию, т.к. пользователи быстрее найдут нужный товар   \n",
       "7                              Изменить цвет фона главной страницы, чтобы увеличить вовлеченность пользователей   \n",
       "8                      Добавить страницу отзывов клиентов о магазине, что позволит увеличить количество заказов   \n",
       "\n",
       "   ICE   RICE  \n",
       "0   16   16.2  \n",
       "1   13   40.0  \n",
       "2   11  112.0  \n",
       "3    8   40.0  \n",
       "4    7   56.0  \n",
       "5    2    4.0  \n",
       "6    1    9.0  \n",
       "7    1    3.0  \n",
       "8    1    4.0  "
      ]
     },
     "execution_count": 17,
     "metadata": {},
     "output_type": "execute_result"
    }
   ],
   "source": [
    "hypothesis_new = pd.merge(hypothesis_ice, hypothesis_rice, on='hypothesis')\n",
    "\n",
    "hypothesis_new"
   ]
  },
  {
   "cell_type": "markdown",
   "metadata": {},
   "source": [
    "---\n",
    "- В таблице hypothesis_ice самый высокий показатель ICE у 8-й гипотезы: Запустить акцию, дающую скидку на товар в день рождения.\n",
    "- В таблице hypothesis_rice самый высокий показатель RICE у 7-й гипотезы: Добавить форму подписки на все основные страницы, чтобы собрать базу клиентов для email-рассылок. \n",
    "- 7-ая гипотеза вышла вперед, так как у нее самый высокий показатель reach: 10. У 8-й гипотезы он самый низкий.\n",
    "- Наиболее перспективными гипотезами можно считать: \n",
    "    1. Добавить два новых канала привлечения трафика, что позволит привлекать на 30% больше пользователей\t\n",
    "    2. Добавить блоки рекомендаций товаров на сайт интернет магазина, чтобы повысить конверсию и средний чек заказа\n",
    "    3. Показать на главной странице баннеры с актуальными акциями и распродажами, чтобы увеличить конверсию\n",
    "    4. Добавить форму подписки на все основные страницы, чтобы собрать базу клиентов для email-рассылок\n",
    "---"
   ]
  },
  {
   "cell_type": "markdown",
   "metadata": {},
   "source": [
    "## Анализ А/В-тестирования"
   ]
  },
  {
   "cell_type": "markdown",
   "metadata": {},
   "source": [
    "### Кумулятивная выручка по группам"
   ]
  },
  {
   "cell_type": "code",
   "execution_count": 18,
   "metadata": {},
   "outputs": [
    {
     "data": {
      "text/html": [
       "<div>\n",
       "<style scoped>\n",
       "    .dataframe tbody tr th:only-of-type {\n",
       "        vertical-align: middle;\n",
       "    }\n",
       "\n",
       "    .dataframe tbody tr th {\n",
       "        vertical-align: top;\n",
       "    }\n",
       "\n",
       "    .dataframe thead th {\n",
       "        text-align: right;\n",
       "    }\n",
       "</style>\n",
       "<table border=\"1\" class=\"dataframe\">\n",
       "  <thead>\n",
       "    <tr style=\"text-align: right;\">\n",
       "      <th></th>\n",
       "      <th>date</th>\n",
       "      <th>group</th>\n",
       "      <th>orders</th>\n",
       "      <th>buyers</th>\n",
       "      <th>revenue</th>\n",
       "      <th>visitors</th>\n",
       "    </tr>\n",
       "  </thead>\n",
       "  <tbody>\n",
       "    <tr>\n",
       "      <th>0</th>\n",
       "      <td>2019-08-01</td>\n",
       "      <td>A</td>\n",
       "      <td>24</td>\n",
       "      <td>20</td>\n",
       "      <td>148579</td>\n",
       "      <td>719</td>\n",
       "    </tr>\n",
       "    <tr>\n",
       "      <th>1</th>\n",
       "      <td>2019-08-01</td>\n",
       "      <td>B</td>\n",
       "      <td>21</td>\n",
       "      <td>20</td>\n",
       "      <td>101217</td>\n",
       "      <td>713</td>\n",
       "    </tr>\n",
       "    <tr>\n",
       "      <th>2</th>\n",
       "      <td>2019-08-02</td>\n",
       "      <td>A</td>\n",
       "      <td>44</td>\n",
       "      <td>38</td>\n",
       "      <td>242401</td>\n",
       "      <td>1338</td>\n",
       "    </tr>\n",
       "    <tr>\n",
       "      <th>3</th>\n",
       "      <td>2019-08-02</td>\n",
       "      <td>B</td>\n",
       "      <td>45</td>\n",
       "      <td>43</td>\n",
       "      <td>266748</td>\n",
       "      <td>1294</td>\n",
       "    </tr>\n",
       "    <tr>\n",
       "      <th>4</th>\n",
       "      <td>2019-08-03</td>\n",
       "      <td>A</td>\n",
       "      <td>68</td>\n",
       "      <td>62</td>\n",
       "      <td>354874</td>\n",
       "      <td>1845</td>\n",
       "    </tr>\n",
       "  </tbody>\n",
       "</table>\n",
       "</div>"
      ],
      "text/plain": [
       "        date group  orders  buyers  revenue  visitors\n",
       "0 2019-08-01     A      24      20   148579       719\n",
       "1 2019-08-01     B      21      20   101217       713\n",
       "2 2019-08-02     A      44      38   242401      1338\n",
       "3 2019-08-02     B      45      43   266748      1294\n",
       "4 2019-08-03     A      68      62   354874      1845"
      ]
     },
     "execution_count": 18,
     "metadata": {},
     "output_type": "execute_result"
    }
   ],
   "source": [
    "datesGroups = orders[['date','group']].drop_duplicates()\n",
    "\n",
    "ordersAggregated = datesGroups.apply(lambda x: orders[np.logical_and(orders['date'] <= x['date'], orders['group'] == x['group'])]\\\n",
    ".agg({'date' : 'max', 'group' : 'max', 'transactionId' : pd.Series.nunique, 'visitorId' : pd.Series.nunique, 'revenue' : 'sum'}), axis=1)\n",
    "\n",
    "visitorsAggregated = datesGroups.apply(lambda x: visitors[np.logical_and(visitors['date'] <= x['date'], visitors['group'] == x['group'])].agg({'date' : 'max', 'group' : 'max', 'visitors' : 'sum'}), axis=1)\n",
    "\n",
    "ordersAggregated = ordersAggregated.sort_values(by=['date','group']) \n",
    "visitorsAggregated = visitorsAggregated.sort_values(by=['date','group'])\n",
    "\n",
    "cumulativeData = ordersAggregated.merge(visitorsAggregated, left_on=['date', 'group'], right_on=['date', 'group'])\n",
    "cumulativeData.columns = ['date', 'group', 'orders', 'buyers', 'revenue', 'visitors']\n",
    "\n",
    "cumulativeData.head()\n"
   ]
  },
  {
   "cell_type": "code",
   "execution_count": 19,
   "metadata": {},
   "outputs": [
    {
     "data": {
      "image/png": "[encoded data removed]",
      "text/plain": [
       "<Figure size 720x432 with 1 Axes>"
      ]
     },
     "metadata": {
      "needs_background": "light"
     },
     "output_type": "display_data"
    }
   ],
   "source": [
    "cumulativeRevenueA = cumulativeData[cumulativeData['group']=='A'][['date','revenue', 'orders']]\n",
    "cumulativeRevenueB = cumulativeData[cumulativeData['group']=='B'][['date','revenue', 'orders']]\n",
    "\n",
    "plt.figure(figsize=(10,6))\n",
    "plt.plot(cumulativeRevenueA['date'], cumulativeRevenueA['revenue'], label='группа A')\n",
    "plt.plot(cumulativeRevenueB['date'], cumulativeRevenueB['revenue'], label='группа B')\n",
    "plt.ylabel('Выручка, руб.',fontsize=16)\n",
    "plt.xlabel('Дата',fontsize=16)\n",
    "plt.title('График кумулятивной выручки по группам')\n",
    "plt.legend()\n",
    "plt.show()"
   ]
  },
  {
   "cell_type": "markdown",
   "metadata": {},
   "source": [
    "---\n",
    "- Выручка увеличивается в течение всего теста у обоих групп, но группа В значительно обгоняет группу А\n",
    "- У группы В наблюдается резкий скачок, проверю на выбросы\n",
    "\n",
    "---"
   ]
  },
  {
   "cell_type": "markdown",
   "metadata": {},
   "source": [
    "### Кумулятивный средний чек по группам"
   ]
  },
  {
   "cell_type": "code",
   "execution_count": 20,
   "metadata": {},
   "outputs": [
    {
     "data": {
      "image/png": "[encoded data removed]",
      "text/plain": [
       "<Figure size 720x432 with 1 Axes>"
      ]
     },
     "metadata": {
      "needs_background": "light"
     },
     "output_type": "display_data"
    }
   ],
   "source": [
    "plt.figure(figsize=(10,6))\n",
    "plt.plot(cumulativeRevenueA['date'], cumulativeRevenueA['revenue']/cumulativeRevenueA['orders'], label='группа A')\n",
    "plt.plot(cumulativeRevenueB['date'], cumulativeRevenueB['revenue']/cumulativeRevenueB['orders'], label='группа B')\n",
    "plt.ylabel('Средний чек, руб.',fontsize=16)\n",
    "plt.xlabel('Дата',fontsize=16)\n",
    "plt.title('График кумулятивного среднего чека по группам')\n",
    "plt.legend()\n",
    "plt.show()"
   ]
  },
  {
   "cell_type": "markdown",
   "metadata": {},
   "source": [
    "---\n",
    "- Средний чек становится равномерным к концу теста: показатели группы А начинают расти, а группы В падают\n",
    "- Опять же всплеск в группе В говорит нам о наличии крупного заказа\n",
    "\n",
    "---"
   ]
  },
  {
   "cell_type": "markdown",
   "metadata": {},
   "source": [
    "### График относительного изменения кумулятивного среднего чека"
   ]
  },
  {
   "cell_type": "code",
   "execution_count": 21,
   "metadata": {},
   "outputs": [
    {
     "data": {
      "text/plain": [
       "<matplotlib.lines.Line2D at 0x7f9df3521a90>"
      ]
     },
     "execution_count": 21,
     "metadata": {},
     "output_type": "execute_result"
    },
    {
     "data": {
      "image/png": "[encoded data removed]",
      "text/plain": [
       "<Figure size 720x432 with 1 Axes>"
      ]
     },
     "metadata": {
      "needs_background": "light"
     },
     "output_type": "display_data"
    }
   ],
   "source": [
    "mergedCumulativeRevenue = cumulativeRevenueA.merge(cumulativeRevenueB, left_on='date', right_on='date', how='left', suffixes=['A', 'B'])\n",
    "\n",
    "plt.figure(figsize=(10,6))\n",
    "plt.plot(mergedCumulativeRevenue['date'], (mergedCumulativeRevenue['revenueB']/mergedCumulativeRevenue['ordersB'])/(mergedCumulativeRevenue['revenueA']/mergedCumulativeRevenue['ordersA'])-1)\n",
    "plt.ylabel('Соотношение средних чеков',fontsize=16)\n",
    "plt.xlabel('Дата',fontsize=16)\n",
    "plt.title('График относительного изменения кумулятивного среднего чека группы B к группе A')\n",
    "plt.axhline(y=0, color='red', linestyle='--')"
   ]
  },
  {
   "cell_type": "markdown",
   "metadata": {},
   "source": [
    "---\n",
    "- График скачет между сигментами, значит аномальные выбросы точно есть\n",
    "\n",
    "---"
   ]
  },
  {
   "cell_type": "markdown",
   "metadata": {},
   "source": [
    "### Кумулятивной конверсии по группам"
   ]
  },
  {
   "cell_type": "code",
   "execution_count": 22,
   "metadata": {},
   "outputs": [
    {
     "data": {
      "image/png": "[encoded data removed]",
      "text/plain": [
       "<Figure size 720x432 with 1 Axes>"
      ]
     },
     "metadata": {
      "needs_background": "light"
     },
     "output_type": "display_data"
    }
   ],
   "source": [
    "cumulativeData['conversion'] = cumulativeData['orders']/cumulativeData['visitors']\n",
    "\n",
    "cumulativeDataA = cumulativeData[cumulativeData['group']=='A']\n",
    "cumulativeDataB = cumulativeData[cumulativeData['group']=='B']\n",
    "\n",
    "plt.figure(figsize=(10,6))\n",
    "plt.plot(cumulativeDataA['date'], cumulativeDataA['conversion'], label='группа A')\n",
    "plt.plot(cumulativeDataB['date'], cumulativeDataB['conversion'], label='группа B')\n",
    "plt.ylabel('Конверсия',fontsize=16)\n",
    "plt.xlabel('Дата',fontsize=16)\n",
    "plt.title('График кумулятивной конверсии по группам')\n",
    "plt.legend()\n",
    "plt.show()"
   ]
  },
  {
   "cell_type": "markdown",
   "metadata": {},
   "source": [
    "---\n",
    "- Группа В показывает большую конверсию, в отличае от руппы А\n",
    "- Обе группы еще не зафиксировались и продолжают небольшие колебания\n",
    "\n",
    "---"
   ]
  },
  {
   "cell_type": "markdown",
   "metadata": {},
   "source": [
    "### Относительное изменение кумулятивной конверсии"
   ]
  },
  {
   "cell_type": "code",
   "execution_count": 23,
   "metadata": {},
   "outputs": [
    {
     "data": {
      "image/png": "[encoded data removed]",
      "text/plain": [
       "<Figure size 720x432 with 1 Axes>"
      ]
     },
     "metadata": {
      "needs_background": "light"
     },
     "output_type": "display_data"
    }
   ],
   "source": [
    "mergedCumulativeConversions = cumulativeDataA[['date','conversion']].merge(cumulativeDataB[['date','conversion']], left_on='date', right_on='date', how='left', suffixes=['A', 'B'])\n",
    "\n",
    "plt.figure(figsize=(10,6))\n",
    "plt.plot(mergedCumulativeConversions['date'], mergedCumulativeConversions['conversionB']/mergedCumulativeConversions['conversionA']-1)\n",
    "plt.ylabel('Соотношение конверсий',fontsize=16)\n",
    "plt.xlabel('Дата',fontsize=16)\n",
    "plt.title('График относительного изменения кумулятивной конверсии группы B к группе A')\n",
    "plt.axhline(y=0, color='black', linestyle='--')\n",
    "plt.axhline(y=-0.1, color='grey', linestyle='--')\n",
    "plt.show()"
   ]
  },
  {
   "cell_type": "markdown",
   "metadata": {},
   "source": [
    "---\n",
    "Конверсия группы В резко подскочила в начале теста, потом так же резко упала. Далее постепенно увеличивается, с небольшими колебаниями.\n",
    "\n",
    "---"
   ]
  },
  {
   "cell_type": "markdown",
   "metadata": {},
   "source": [
    "### Точечный график количества заказов по пользователям"
   ]
  },
  {
   "cell_type": "code",
   "execution_count": 24,
   "metadata": {},
   "outputs": [
    {
     "data": {
      "text/html": [
       "<div>\n",
       "<style scoped>\n",
       "    .dataframe tbody tr th:only-of-type {\n",
       "        vertical-align: middle;\n",
       "    }\n",
       "\n",
       "    .dataframe tbody tr th {\n",
       "        vertical-align: top;\n",
       "    }\n",
       "\n",
       "    .dataframe thead th {\n",
       "        text-align: right;\n",
       "    }\n",
       "</style>\n",
       "<table border=\"1\" class=\"dataframe\">\n",
       "  <thead>\n",
       "    <tr style=\"text-align: right;\">\n",
       "      <th></th>\n",
       "      <th>visitorId</th>\n",
       "      <th>transactions</th>\n",
       "    </tr>\n",
       "  </thead>\n",
       "  <tbody>\n",
       "    <tr>\n",
       "      <th>1023</th>\n",
       "      <td>4256040402</td>\n",
       "      <td>11</td>\n",
       "    </tr>\n",
       "    <tr>\n",
       "      <th>591</th>\n",
       "      <td>2458001652</td>\n",
       "      <td>11</td>\n",
       "    </tr>\n",
       "    <tr>\n",
       "      <th>569</th>\n",
       "      <td>2378935119</td>\n",
       "      <td>9</td>\n",
       "    </tr>\n",
       "    <tr>\n",
       "      <th>487</th>\n",
       "      <td>2038680547</td>\n",
       "      <td>8</td>\n",
       "    </tr>\n",
       "    <tr>\n",
       "      <th>44</th>\n",
       "      <td>199603092</td>\n",
       "      <td>5</td>\n",
       "    </tr>\n",
       "    <tr>\n",
       "      <th>...</th>\n",
       "      <td>...</td>\n",
       "      <td>...</td>\n",
       "    </tr>\n",
       "    <tr>\n",
       "      <th>359</th>\n",
       "      <td>1484903144</td>\n",
       "      <td>1</td>\n",
       "    </tr>\n",
       "    <tr>\n",
       "      <th>360</th>\n",
       "      <td>1485964287</td>\n",
       "      <td>1</td>\n",
       "    </tr>\n",
       "    <tr>\n",
       "      <th>361</th>\n",
       "      <td>1494664757</td>\n",
       "      <td>1</td>\n",
       "    </tr>\n",
       "    <tr>\n",
       "      <th>362</th>\n",
       "      <td>1495112755</td>\n",
       "      <td>1</td>\n",
       "    </tr>\n",
       "    <tr>\n",
       "      <th>1030</th>\n",
       "      <td>4283872382</td>\n",
       "      <td>1</td>\n",
       "    </tr>\n",
       "  </tbody>\n",
       "</table>\n",
       "<p>1031 rows × 2 columns</p>\n",
       "</div>"
      ],
      "text/plain": [
       "       visitorId  transactions\n",
       "1023  4256040402            11\n",
       "591   2458001652            11\n",
       "569   2378935119             9\n",
       "487   2038680547             8\n",
       "44     199603092             5\n",
       "...          ...           ...\n",
       "359   1484903144             1\n",
       "360   1485964287             1\n",
       "361   1494664757             1\n",
       "362   1495112755             1\n",
       "1030  4283872382             1\n",
       "\n",
       "[1031 rows x 2 columns]"
      ]
     },
     "execution_count": 24,
     "metadata": {},
     "output_type": "execute_result"
    }
   ],
   "source": [
    "ordersByUsers = (orders.drop(['group', 'revenue', 'date'], axis=1).groupby('visitorId', as_index=False).agg({'transactionId': pd.Series.nunique}))\n",
    "ordersByUsers.columns = ['visitorId', 'transactions']\n",
    "ordersByUsers = ordersByUsers.sort_values(by='transactions', ascending=False)\n",
    "ordersByUsers"
   ]
  },
  {
   "cell_type": "code",
   "execution_count": 25,
   "metadata": {},
   "outputs": [
    {
     "data": {
      "image/png": "[encoded data removed]",
      "text/plain": [
       "<Figure size 432x288 with 1 Axes>"
      ]
     },
     "metadata": {
      "needs_background": "light"
     },
     "output_type": "display_data"
    }
   ],
   "source": [
    "plt.hist(ordersByUsers['transactions']) \n",
    "plt.ylabel('Количество пользователей',fontsize=10)\n",
    "plt.xlabel('Количество заказов',fontsize=10)\n",
    "plt.title('Количество заказов по пользователям')\n",
    "plt.show()"
   ]
  },
  {
   "cell_type": "code",
   "execution_count": 26,
   "metadata": {},
   "outputs": [
    {
     "data": {
      "image/png": "[encoded data removed]",
      "text/plain": [
       "<Figure size 432x288 with 1 Axes>"
      ]
     },
     "metadata": {
      "needs_background": "light"
     },
     "output_type": "display_data"
    }
   ],
   "source": [
    "x_values = pd.Series(range(0,len(ordersByUsers)))\n",
    "\n",
    "plt.scatter(x_values, ordersByUsers['transactions']) \n",
    "plt.ylabel('Количество заказов',fontsize=10)\n",
    "plt.xlabel('Количество пользователей',fontsize=10)\n",
    "plt.title('Количество заказов по пользователям')\n",
    "plt.show()"
   ]
  },
  {
   "cell_type": "markdown",
   "metadata": {},
   "source": [
    "---\n",
    "Покупателей с 1-2 заказами больше всего.\n",
    "\n",
    "---"
   ]
  },
  {
   "cell_type": "markdown",
   "metadata": {},
   "source": [
    "### Перцентили количества заказов на пользователя"
   ]
  },
  {
   "cell_type": "code",
   "execution_count": 27,
   "metadata": {},
   "outputs": [
    {
     "data": {
      "text/plain": [
       "array([1., 2., 4.])"
      ]
     },
     "execution_count": 27,
     "metadata": {},
     "output_type": "execute_result"
    }
   ],
   "source": [
    "np.percentile(ordersByUsers['transactions'], [90, 95, 99])"
   ]
  },
  {
   "cell_type": "markdown",
   "metadata": {},
   "source": [
    "---\n",
    "- Не более 5% пользователей оформляли больше 2-х заказов и не более 1% пользователей оформляли больше 4-х.\n",
    "- Так границей для определения аномальных пользователей можно считать 2 заказа.\n",
    "\n",
    "---"
   ]
  },
  {
   "cell_type": "markdown",
   "metadata": {},
   "source": [
    "### Точечный график стоимостей заказов"
   ]
  },
  {
   "cell_type": "code",
   "execution_count": 28,
   "metadata": {},
   "outputs": [
    {
     "data": {
      "text/plain": [
       "1294500"
      ]
     },
     "execution_count": 28,
     "metadata": {},
     "output_type": "execute_result"
    }
   ],
   "source": [
    "orders['revenue'].max()"
   ]
  },
  {
   "cell_type": "code",
   "execution_count": 29,
   "metadata": {},
   "outputs": [
    {
     "data": {
      "image/png": "[encoded data removed]",
      "text/plain": [
       "<Figure size 720x432 with 1 Axes>"
      ]
     },
     "metadata": {
      "needs_background": "light"
     },
     "output_type": "display_data"
    }
   ],
   "source": [
    "plt.figure(figsize=(10,6))\n",
    "plt.hist(orders['revenue'], range=(0,100000), bins = 100) \n",
    "plt.ylabel('Количество пользователей',fontsize=10)\n",
    "plt.xlabel('Сумма заказа',fontsize=10)\n",
    "plt.title('Стоимость заказов по пользователям')\n",
    "plt.show()"
   ]
  },
  {
   "cell_type": "code",
   "execution_count": 30,
   "metadata": {},
   "outputs": [
    {
     "data": {
      "image/png": "[encoded data removed]",
      "text/plain": [
       "<Figure size 720x432 with 1 Axes>"
      ]
     },
     "metadata": {
      "needs_background": "light"
     },
     "output_type": "display_data"
    }
   ],
   "source": [
    "x_values = pd.Series(range(0, len(orders)))\n",
    "plt.figure(figsize=(10,6))\n",
    "plt.scatter(x_values, orders['revenue'])\n",
    "plt.ylabel('Сумма заказа',fontsize=10)\n",
    "plt.xlabel('Количество пользователей',fontsize=10)\n",
    "plt.title('Стоимость заказов по пользователям')\n",
    "plt.axis([0, 1200, 0, 200000])\n",
    "plt.show()"
   ]
  },
  {
   "cell_type": "markdown",
   "metadata": {},
   "source": [
    "---\n",
    "- Есть аномально большой заказ на 1.294.500р., видимо он и вызвал резкий скачок.\n",
    "- В среднем покупатели совершают заказы на сумму 25-30 тысяч рублей.\n",
    "\n",
    "---"
   ]
  },
  {
   "cell_type": "markdown",
   "metadata": {},
   "source": [
    "### Перцентили стоимости заказов на пользователя"
   ]
  },
  {
   "cell_type": "code",
   "execution_count": 31,
   "metadata": {},
   "outputs": [
    {
     "data": {
      "text/plain": [
       "array([18168. , 28000. , 58233.2])"
      ]
     },
     "execution_count": 31,
     "metadata": {},
     "output_type": "execute_result"
    }
   ],
   "source": [
    "np.percentile(orders['revenue'], [90, 95, 99])"
   ]
  },
  {
   "cell_type": "markdown",
   "metadata": {},
   "source": [
    "---\n",
    "Не более 5% заказов дороже 28 тысяч рублей. Думаю, эту цифру и можно считать границей для определения аномальных выбросов.\n",
    "\n",
    "---"
   ]
  },
  {
   "cell_type": "markdown",
   "metadata": {},
   "source": [
    "###  Статистическая значимость различий в конверсии между группами по «сырым» данным"
   ]
  },
  {
   "cell_type": "code",
   "execution_count": 32,
   "metadata": {},
   "outputs": [],
   "source": [
    "visitorsADaily = visitors[visitors['group'] == 'A'][['date', 'visitors']]\n",
    "visitorsADaily.columns = ['date', 'visitorsPerDateA']\n",
    "\n",
    "visitorsACummulative = visitorsADaily.apply(lambda x: visitorsADaily[visitorsADaily['date'] <= x['date']].agg({'date': 'max', 'visitorsPerDateA': 'sum'}),axis=1,)\n",
    "visitorsACummulative.columns = ['date', 'visitorsCummulativeA']\n"
   ]
  },
  {
   "cell_type": "code",
   "execution_count": 33,
   "metadata": {},
   "outputs": [],
   "source": [
    "visitorsBDaily = visitors[visitors['group'] == 'B'][['date', 'visitors']]\n",
    "visitorsBDaily.columns = ['date', 'visitorsPerDateB']\n",
    "\n",
    "visitorsBCummulative = visitorsBDaily.apply(lambda x: visitorsBDaily[visitorsBDaily['date'] <= x['date']].agg({'date': 'max', 'visitorsPerDateB': 'sum'}),axis=1,)\n",
    "visitorsBCummulative.columns = ['date', 'visitorsCummulativeB']\n"
   ]
  },
  {
   "cell_type": "code",
   "execution_count": 34,
   "metadata": {},
   "outputs": [],
   "source": [
    "ordersADaily = (\n",
    "    orders[orders['group'] == 'A'][['date', 'transactionId', 'visitorId', 'revenue']]\n",
    "    .groupby('date', as_index=False)\n",
    "    .agg({'transactionId': pd.Series.nunique, 'revenue': 'sum'})\n",
    ")\n",
    "ordersADaily.columns = ['date', 'ordersPerDateA', 'revenuePerDateA']\n",
    "\n",
    "ordersACummulative = ordersADaily.apply(lambda x: ordersADaily[ordersADaily['date'] <= x['date']].agg({'date': 'max', 'ordersPerDateA': 'sum', 'revenuePerDateA': 'sum'}),axis=1,).sort_values(by=['date'])\n",
    "ordersACummulative.columns = ['date','ordersCummulativeA','revenueCummulativeA']"
   ]
  },
  {
   "cell_type": "code",
   "execution_count": 35,
   "metadata": {},
   "outputs": [],
   "source": [
    "ordersBDaily = (\n",
    "    orders[orders['group'] == 'B'][['date', 'transactionId', 'visitorId', 'revenue']]\n",
    "    .groupby('date', as_index=False)\n",
    "    .agg({'transactionId': pd.Series.nunique, 'revenue': 'sum'})\n",
    ")\n",
    "ordersBDaily.columns = ['date', 'ordersPerDateB', 'revenuePerDateB']\n",
    "\n",
    "ordersBCummulative = ordersBDaily.apply(lambda x: ordersBDaily[ordersBDaily['date'] <= x['date']].agg({'date': 'max', 'ordersPerDateB': 'sum', 'revenuePerDateB': 'sum'}),axis=1,).sort_values(by=['date'])\n",
    "ordersBCummulative.columns = ['date','ordersCummulativeB','revenueCummulativeB']\n"
   ]
  },
  {
   "cell_type": "code",
   "execution_count": 36,
   "metadata": {},
   "outputs": [
    {
     "data": {
      "text/html": [
       "<div>\n",
       "<style scoped>\n",
       "    .dataframe tbody tr th:only-of-type {\n",
       "        vertical-align: middle;\n",
       "    }\n",
       "\n",
       "    .dataframe tbody tr th {\n",
       "        vertical-align: top;\n",
       "    }\n",
       "\n",
       "    .dataframe thead th {\n",
       "        text-align: right;\n",
       "    }\n",
       "</style>\n",
       "<table border=\"1\" class=\"dataframe\">\n",
       "  <thead>\n",
       "    <tr style=\"text-align: right;\">\n",
       "      <th></th>\n",
       "      <th>date</th>\n",
       "      <th>ordersPerDateA</th>\n",
       "      <th>revenuePerDateA</th>\n",
       "      <th>ordersPerDateB</th>\n",
       "      <th>revenuePerDateB</th>\n",
       "      <th>ordersCummulativeA</th>\n",
       "      <th>revenueCummulativeA</th>\n",
       "      <th>ordersCummulativeB</th>\n",
       "      <th>revenueCummulativeB</th>\n",
       "      <th>visitorsPerDateA</th>\n",
       "      <th>visitorsPerDateB</th>\n",
       "      <th>visitorsCummulativeA</th>\n",
       "      <th>visitorsCummulativeB</th>\n",
       "    </tr>\n",
       "  </thead>\n",
       "  <tbody>\n",
       "    <tr>\n",
       "      <th>0</th>\n",
       "      <td>2019-08-01</td>\n",
       "      <td>24</td>\n",
       "      <td>148579</td>\n",
       "      <td>21</td>\n",
       "      <td>101217</td>\n",
       "      <td>24</td>\n",
       "      <td>148579</td>\n",
       "      <td>21</td>\n",
       "      <td>101217</td>\n",
       "      <td>719</td>\n",
       "      <td>713</td>\n",
       "      <td>719</td>\n",
       "      <td>713</td>\n",
       "    </tr>\n",
       "    <tr>\n",
       "      <th>1</th>\n",
       "      <td>2019-08-02</td>\n",
       "      <td>20</td>\n",
       "      <td>93822</td>\n",
       "      <td>24</td>\n",
       "      <td>165531</td>\n",
       "      <td>44</td>\n",
       "      <td>242401</td>\n",
       "      <td>45</td>\n",
       "      <td>266748</td>\n",
       "      <td>619</td>\n",
       "      <td>581</td>\n",
       "      <td>1338</td>\n",
       "      <td>1294</td>\n",
       "    </tr>\n",
       "    <tr>\n",
       "      <th>2</th>\n",
       "      <td>2019-08-03</td>\n",
       "      <td>24</td>\n",
       "      <td>112473</td>\n",
       "      <td>16</td>\n",
       "      <td>114248</td>\n",
       "      <td>68</td>\n",
       "      <td>354874</td>\n",
       "      <td>61</td>\n",
       "      <td>380996</td>\n",
       "      <td>507</td>\n",
       "      <td>509</td>\n",
       "      <td>1845</td>\n",
       "      <td>1803</td>\n",
       "    </tr>\n",
       "    <tr>\n",
       "      <th>3</th>\n",
       "      <td>2019-08-04</td>\n",
       "      <td>16</td>\n",
       "      <td>70825</td>\n",
       "      <td>17</td>\n",
       "      <td>108571</td>\n",
       "      <td>84</td>\n",
       "      <td>425699</td>\n",
       "      <td>78</td>\n",
       "      <td>489567</td>\n",
       "      <td>717</td>\n",
       "      <td>770</td>\n",
       "      <td>2562</td>\n",
       "      <td>2573</td>\n",
       "    </tr>\n",
       "    <tr>\n",
       "      <th>4</th>\n",
       "      <td>2019-08-05</td>\n",
       "      <td>25</td>\n",
       "      <td>124218</td>\n",
       "      <td>23</td>\n",
       "      <td>92428</td>\n",
       "      <td>109</td>\n",
       "      <td>549917</td>\n",
       "      <td>101</td>\n",
       "      <td>581995</td>\n",
       "      <td>756</td>\n",
       "      <td>707</td>\n",
       "      <td>3318</td>\n",
       "      <td>3280</td>\n",
       "    </tr>\n",
       "  </tbody>\n",
       "</table>\n",
       "</div>"
      ],
      "text/plain": [
       "        date  ordersPerDateA  revenuePerDateA  ordersPerDateB  \\\n",
       "0 2019-08-01              24           148579              21   \n",
       "1 2019-08-02              20            93822              24   \n",
       "2 2019-08-03              24           112473              16   \n",
       "3 2019-08-04              16            70825              17   \n",
       "4 2019-08-05              25           124218              23   \n",
       "\n",
       "   revenuePerDateB  ordersCummulativeA  revenueCummulativeA  \\\n",
       "0           101217                  24               148579   \n",
       "1           165531                  44               242401   \n",
       "2           114248                  68               354874   \n",
       "3           108571                  84               425699   \n",
       "4            92428                 109               549917   \n",
       "\n",
       "   ordersCummulativeB  revenueCummulativeB  visitorsPerDateA  \\\n",
       "0                  21               101217               719   \n",
       "1                  45               266748               619   \n",
       "2                  61               380996               507   \n",
       "3                  78               489567               717   \n",
       "4                 101               581995               756   \n",
       "\n",
       "   visitorsPerDateB  visitorsCummulativeA  visitorsCummulativeB  \n",
       "0               713                   719                   713  \n",
       "1               581                  1338                  1294  \n",
       "2               509                  1845                  1803  \n",
       "3               770                  2562                  2573  \n",
       "4               707                  3318                  3280  "
      ]
     },
     "execution_count": 36,
     "metadata": {},
     "output_type": "execute_result"
    }
   ],
   "source": [
    "data = (\n",
    "    ordersADaily.merge(\n",
    "        ordersBDaily, left_on='date', right_on='date', how='left'\n",
    "    )\n",
    "    .merge(ordersACummulative, left_on='date', right_on='date', how='left')\n",
    "    .merge(ordersBCummulative, left_on='date', right_on='date', how='left')\n",
    "    .merge(visitorsADaily, left_on='date', right_on='date', how='left')\n",
    "    .merge(visitorsBDaily, left_on='date', right_on='date', how='left')\n",
    "    .merge(visitorsACummulative, left_on='date', right_on='date', how='left')\n",
    "    .merge(visitorsBCummulative, left_on='date', right_on='date', how='left')\n",
    ")\n",
    "data.head()"
   ]
  },
  {
   "cell_type": "markdown",
   "metadata": {},
   "source": [
    "---"
   ]
  },
  {
   "cell_type": "code",
   "execution_count": 37,
   "metadata": {},
   "outputs": [],
   "source": [
    "ordersByUsersA = (\n",
    "    orders[orders['group'] == 'A']\n",
    "    .groupby('visitorId', as_index=False)\n",
    "    .agg({'transactionId': pd.Series.nunique})\n",
    ")\n",
    "ordersByUsersA.columns = ['userId', 'orders']\n",
    "\n",
    "ordersByUsersB = (\n",
    "    orders[orders['group'] == 'B']\n",
    "    .groupby('visitorId', as_index=False)\n",
    "    .agg({'transactionId': pd.Series.nunique})\n",
    ")\n",
    "ordersByUsersB.columns = ['userId', 'orders']"
   ]
  },
  {
   "cell_type": "code",
   "execution_count": 38,
   "metadata": {},
   "outputs": [
    {
     "name": "stdout",
     "output_type": "stream",
     "text": [
      "Группа А:\n",
      "Количество покупателей -  503\n",
      "Кол-во покупок - 557\n",
      "Кол-во посетителей - 18736\n",
      "\n",
      "Группа В:\n",
      "Количество покупателей -  586\n",
      "Кол-во покупок - 640\n",
      "Кол-во посетителей - 18916\n",
      "\n"
     ]
    }
   ],
   "source": [
    "print('Группа А:')\n",
    "print('Количество покупателей - ', len(ordersByUsersA))\n",
    "print('Кол-во покупок - {}'.format(ordersByUsersA['orders'].sum()))\n",
    "print('Кол-во посетителей - {}\\n'.format(visitors[visitors['group']=='A']['visitors'].sum()))\n",
    "\n",
    "print('Группа В:')\n",
    "print('Количество покупателей - ', len(ordersByUsersB))\n",
    "print('Кол-во покупок - {}'.format(ordersByUsersB['orders'].sum()))\n",
    "print('Кол-во посетителей - {}\\n'.format(visitors[visitors['group']=='B']['visitors'].sum()))"
   ]
  },
  {
   "cell_type": "code",
   "execution_count": 39,
   "metadata": {},
   "outputs": [],
   "source": [
    "sampleA = pd.concat([ordersByUsersA['orders'],pd.Series(0, index=np.arange(data['visitorsPerDateA'].sum() - len(ordersByUsersA['orders'])), name='orders')],axis=0)\n",
    "\n",
    "sampleB = pd.concat([ordersByUsersB['orders'],pd.Series(0, index=np.arange(data['visitorsPerDateB'].sum() - len(ordersByUsersB['orders'])), name='orders')],axis=0)\n"
   ]
  },
  {
   "cell_type": "markdown",
   "metadata": {},
   "source": [
    "**Нулевая гипотеза:** В конверсии групп А и В нет разницы.\n",
    "\n",
    "**Обратная гипотеза:** В конверсии групп А и В есть разница."
   ]
  },
  {
   "cell_type": "code",
   "execution_count": 40,
   "metadata": {},
   "outputs": [
    {
     "name": "stdout",
     "output_type": "stream",
     "text": [
      "Относительный прирост конверсии группы B по отношению к группе A: 0.138\n",
      "P-value: 0.0168\n",
      "По \"сырым\" данным в конверсии групп A и B есть разница и она статистически значима.\n"
     ]
    }
   ],
   "source": [
    "print('Относительный прирост конверсии группы B по отношению к группе A: {:.3f}'.format(sampleB.mean()/sampleA.mean()-1))\n",
    "alpha = 0.05\n",
    "results = stats.mannwhitneyu(sampleA, sampleB, alternative = 'two-sided')\n",
    "print('P-value: {:.4f}'.format(results.pvalue))\n",
    "if results.pvalue < alpha:\n",
    "    print('По \"сырым\" данным в конверсии групп A и B есть разница и она статистически значима.')\n",
    "else:\n",
    "    print('По \"сырым\" данным разницы в конверсии групп A и B нет.')"
   ]
  },
  {
   "cell_type": "markdown",
   "metadata": {},
   "source": [
    "---"
   ]
  },
  {
   "cell_type": "markdown",
   "metadata": {},
   "source": [
    "### Статистическая значимость различий в среднем чеке заказа между группами по «сырым» данным"
   ]
  },
  {
   "cell_type": "markdown",
   "metadata": {},
   "source": [
    "**Нулевая гипотеза:** В средних чеках групп А и В нет разницы.\n",
    "\n",
    "**Обратная гипотеза:** В средних чеках групп А и В есть разница."
   ]
  },
  {
   "cell_type": "code",
   "execution_count": 41,
   "metadata": {},
   "outputs": [
    {
     "name": "stdout",
     "output_type": "stream",
     "text": [
      "Относительное изменение среднего чека группы В по отношению к группе А: 0.259\n",
      "P-value: 0.729\n",
      "По \"сырым\" данным в средних чеках групп А и В нет разницы.\n"
     ]
    }
   ],
   "source": [
    "print('Относительное изменение среднего чека группы В по отношению к группе А: {:.3f}'.format(orders[orders['group']=='B']['revenue'].mean()/orders[orders['group']=='A']['revenue'].mean()-1))\n",
    "results = stats.mannwhitneyu(orders[orders['group']=='A']['revenue'], orders[orders['group']=='B']['revenue'], alternative = 'two-sided')\n",
    "print('P-value: {:.3f}'.format(results.pvalue))\n",
    "if results.pvalue < alpha:\n",
    "    print('По \"сырым\" данным в средних чеках группы А и В есть разница и она статистически значима.')\n",
    "else:\n",
    "    print('По \"сырым\" данным в средних чеках групп А и В нет разницы.')"
   ]
  },
  {
   "cell_type": "markdown",
   "metadata": {},
   "source": [
    "---"
   ]
  },
  {
   "cell_type": "markdown",
   "metadata": {},
   "source": [
    "### Cтатистическая значимость различий в конверсии между группами по «очищенным» данным"
   ]
  },
  {
   "cell_type": "code",
   "execution_count": 42,
   "metadata": {},
   "outputs": [],
   "source": [
    "max_revenue = 28000\n",
    "max_transactions = 2"
   ]
  },
  {
   "cell_type": "markdown",
   "metadata": {},
   "source": [
    "- Сразу обозначу установленные мной ранее границы определения аномальных выбросов"
   ]
  },
  {
   "cell_type": "code",
   "execution_count": 43,
   "metadata": {},
   "outputs": [
    {
     "name": "stdout",
     "output_type": "stream",
     "text": [
      "1099    148427295\n",
      "18      199603092\n",
      "928     204675465\n",
      "23      237748145\n",
      "37      249864742\n",
      "dtype: int64\n",
      "(74,)\n"
     ]
    }
   ],
   "source": [
    "usersWithManyOrders = pd.concat(\n",
    "    [\n",
    "        ordersByUsersA[ordersByUsersA['orders'] > max_transactions]['userId'],\n",
    "        ordersByUsersB[ordersByUsersB['orders'] > max_transactions]['userId'],\n",
    "    ],\n",
    "    axis=0,\n",
    ")\n",
    "usersWithExpensiveOrders = orders[orders['revenue'] > max_revenue]['visitorId']\n",
    "abnormalUsers = (\n",
    "    pd.concat([usersWithManyOrders, usersWithExpensiveOrders], axis=0)\n",
    "    .drop_duplicates()\n",
    "    .sort_values()\n",
    ")\n",
    "print(abnormalUsers.head(5))\n",
    "print(abnormalUsers.shape) "
   ]
  },
  {
   "cell_type": "markdown",
   "metadata": {},
   "source": [
    "- Всего 74 аномальных пользователя."
   ]
  },
  {
   "cell_type": "markdown",
   "metadata": {},
   "source": [
    "---"
   ]
  },
  {
   "cell_type": "code",
   "execution_count": 44,
   "metadata": {},
   "outputs": [],
   "source": [
    "sampleAFiltered = pd.concat([ordersByUsersA[np.logical_not(ordersByUsersA['userId'].isin(abnormalUsers))]['orders'],pd.Series(0,index=np.arange(data['visitorsPerDateA'].sum() - len(ordersByUsersA['orders'])),name='orders',),],axis=0,)\n",
    "\n",
    "sampleBFiltered = pd.concat([ordersByUsersB[np.logical_not(ordersByUsersB['userId'].isin(abnormalUsers))]['orders'],pd.Series(0,index=np.arange(data['visitorsPerDateB'].sum() - len(ordersByUsersB['orders'])),name='orders',),],axis=0,)\n"
   ]
  },
  {
   "cell_type": "markdown",
   "metadata": {},
   "source": [
    "**Нулевая гипотеза:** В конверсии групп А и В нет разницы.\n",
    "\n",
    "**Обратная гипотеза:** В конверсии групп А и В есть разница."
   ]
  },
  {
   "cell_type": "code",
   "execution_count": 45,
   "metadata": {},
   "outputs": [
    {
     "name": "stdout",
     "output_type": "stream",
     "text": [
      "Относительный прирост конверсии группы B по отношению к группе A: 0.173\n",
      "P-value: 0.0130\n",
      "По \"очищенным\" данным в конверсии групп A и B есть разница и она статистически значима.\n"
     ]
    }
   ],
   "source": [
    "print('Относительный прирост конверсии группы B по отношению к группе A: {:.3f}'.format(sampleBFiltered.mean()/sampleAFiltered.mean()-1))\n",
    "results = stats.mannwhitneyu(sampleAFiltered, sampleBFiltered, alternative = 'two-sided')\n",
    "print('P-value: {:.4f}'.format(results.pvalue))\n",
    "if results.pvalue < alpha:\n",
    "    print('По \"очищенным\" данным в конверсии групп A и B есть разница и она статистически значима.')\n",
    "else:\n",
    "    print('По \"щчищенным\" данным разницы в конверсии групп A и B нет.')\n",
    "    "
   ]
  },
  {
   "cell_type": "markdown",
   "metadata": {},
   "source": [
    "---"
   ]
  },
  {
   "cell_type": "markdown",
   "metadata": {},
   "source": [
    "### Статистическая значимость различий в среднем чеке заказа между группами по «очищенным» данным"
   ]
  },
  {
   "cell_type": "markdown",
   "metadata": {},
   "source": [
    "**Нулевая гипотеза:** В средних чеках групп А и В нет разницы.\n",
    "\n",
    "**Обратная гипотеза:** В средних чеках групп А и В есть разница."
   ]
  },
  {
   "cell_type": "code",
   "execution_count": 46,
   "metadata": {},
   "outputs": [
    {
     "name": "stdout",
     "output_type": "stream",
     "text": [
      "Относительное изменение среднего чека в группе B по отношению группы A после очистки данных: -0.020\n",
      "P-value: 0.7385\n",
      "По \"очищенным\" данным разницы в средних чеках в группах A и B нет.\n"
     ]
    }
   ],
   "source": [
    "print('Относительное изменение среднего чека в группе B по отношению группы A после очистки данных: {:.3f}'.format(orders[np.logical_and(orders['group']=='B', np.logical_not(orders['visitorId'].isin(abnormalUsers)))]['revenue'].mean()/orders[np.logical_and(orders['group']=='A', np.logical_not(orders['visitorId'].isin(abnormalUsers)))]['revenue'].mean()-1))              \n",
    "results = stats.mannwhitneyu(orders[np.logical_and(orders['group']=='A', np.logical_not(orders['visitorId'].isin(abnormalUsers)))]['revenue'],orders[np.logical_and(orders['group']=='B', np.logical_not(orders['visitorId'].isin(abnormalUsers)))]['revenue'], alternative = 'two-sided')\n",
    "print('P-value: {:.4f}'.format(results.pvalue))\n",
    "if results.pvalue < alpha:\n",
    "    print('По \"очищенным\" данным разница средних чеков в группах A и B есть и она статистически значима.')\n",
    "else:\n",
    "    print('По \"очищенным\" данным разницы в средних чеках в группах A и B нет.')"
   ]
  },
  {
   "cell_type": "markdown",
   "metadata": {},
   "source": [
    "---"
   ]
  },
  {
   "cell_type": "markdown",
   "metadata": {},
   "source": [
    "## Вывод"
   ]
  },
  {
   "cell_type": "markdown",
   "metadata": {},
   "source": [
    "- Кумулятивные метрики выручки, конверсии и среднего чека лидируют в группе В.\n",
    "- Судя по графику куммулятивного среднего чека по группам можно увидеть резкие колебания у группы В. Мое предположение о наличии аномальных выбросов подтвердилось и после \"очистки\" данных разница между средними чеками снизилась, но это оказало значительного влияния на итоговые результаты.\n",
    "- Показатель конверсии в группе В до очистки был 13.8%, а после очистки стал 17.3%. Это значит, что мы смело можем остановить А/В-тестирование и зафиксировать победу группы В.\n",
    "- Что касается гипотез, в ходе анализа было определено, что наиболее перспективными гипотезами можно считать: 0, 2, 6, 7.\n",
    "\n",
    "*Дополнение:*\n",
    "-  Наиболее перспективными гипотезами можно считать: \n",
    "    1. Добавить два новых канала привлечения трафика, что позволит привлекать на 30% больше пользователей\t\n",
    "    2. Добавить блоки рекомендаций товаров на сайт интернет магазина, чтобы повысить конверсию и средний чек заказа\n",
    "    3. Показать на главной странице баннеры с актуальными акциями и распродажами, чтобы увеличить конверсию\n",
    "    4. Добавить форму подписки на все основные страницы, чтобы собрать базу клиентов для email-рассылок\n",
    "- На этапе предобработки данных мной были обнаружены пользователи, состоящие в обеих группах. Это либо тестовые пользователи, либо проблема в системе сплитования аудитории. \n",
    "---"
   ]
  },
  {
   "cell_type": "code",
   "execution_count": null,
   "metadata": {},
   "outputs": [],
   "source": []
  }
 ],
 "metadata": {
  "ExecuteTimeLog": [
   {
    "duration": 797,
    "start_time": "2021-09-28T16:08:42.285Z"
   },
   {
    "duration": 39,
    "start_time": "2021-09-28T16:09:26.701Z"
   },
   {
    "duration": 10,
    "start_time": "2021-09-28T16:12:09.732Z"
   },
   {
    "duration": 54,
    "start_time": "2021-09-28T16:33:47.248Z"
   },
   {
    "duration": 29,
    "start_time": "2021-09-28T16:33:56.545Z"
   },
   {
    "duration": 46,
    "start_time": "2021-09-28T16:34:02.541Z"
   },
   {
    "duration": 33,
    "start_time": "2021-09-28T16:34:25.769Z"
   },
   {
    "duration": 25,
    "start_time": "2021-09-28T16:34:31.285Z"
   },
   {
    "duration": 457,
    "start_time": "2021-09-28T16:36:01.305Z"
   },
   {
    "duration": 361,
    "start_time": "2021-09-28T16:36:16.618Z"
   },
   {
    "duration": 370,
    "start_time": "2021-09-28T16:36:30.734Z"
   },
   {
    "duration": 737,
    "start_time": "2021-09-28T16:37:07.098Z"
   },
   {
    "duration": 42,
    "start_time": "2021-09-28T16:37:07.838Z"
   },
   {
    "duration": 12,
    "start_time": "2021-09-28T16:37:07.883Z"
   },
   {
    "duration": 69,
    "start_time": "2021-09-28T16:37:07.898Z"
   },
   {
    "duration": 31,
    "start_time": "2021-09-28T16:37:07.970Z"
   },
   {
    "duration": 11,
    "start_time": "2021-09-28T16:37:21.537Z"
   },
   {
    "duration": 15,
    "start_time": "2021-09-28T16:37:25.469Z"
   },
   {
    "duration": 16,
    "start_time": "2021-09-28T16:37:40.376Z"
   },
   {
    "duration": 13,
    "start_time": "2021-09-28T16:38:57.370Z"
   },
   {
    "duration": 16,
    "start_time": "2021-09-28T16:39:10.609Z"
   },
   {
    "duration": 12,
    "start_time": "2021-09-28T16:39:33.085Z"
   },
   {
    "duration": 8,
    "start_time": "2021-09-28T16:40:02.046Z"
   },
   {
    "duration": 10,
    "start_time": "2021-09-28T16:40:15.027Z"
   },
   {
    "duration": 513,
    "start_time": "2021-09-29T07:16:36.749Z"
   },
   {
    "duration": 574,
    "start_time": "2021-09-29T07:16:41.640Z"
   },
   {
    "duration": 28,
    "start_time": "2021-09-29T07:16:42.216Z"
   },
   {
    "duration": 7,
    "start_time": "2021-09-29T07:16:42.248Z"
   },
   {
    "duration": 58,
    "start_time": "2021-09-29T07:16:42.256Z"
   },
   {
    "duration": 5,
    "start_time": "2021-09-29T07:16:42.316Z"
   },
   {
    "duration": 9,
    "start_time": "2021-09-29T07:16:42.322Z"
   },
   {
    "duration": 22,
    "start_time": "2021-09-29T07:16:42.332Z"
   },
   {
    "duration": 8,
    "start_time": "2021-09-29T07:16:42.356Z"
   },
   {
    "duration": 8,
    "start_time": "2021-09-29T07:16:42.365Z"
   },
   {
    "duration": 6,
    "start_time": "2021-09-29T07:16:42.375Z"
   },
   {
    "duration": 7,
    "start_time": "2021-09-29T07:16:42.382Z"
   },
   {
    "duration": 642,
    "start_time": "2021-09-29T09:20:32.024Z"
   },
   {
    "duration": 30,
    "start_time": "2021-09-29T09:20:32.668Z"
   },
   {
    "duration": 7,
    "start_time": "2021-09-29T09:20:32.700Z"
   },
   {
    "duration": 45,
    "start_time": "2021-09-29T09:20:32.710Z"
   },
   {
    "duration": 6,
    "start_time": "2021-09-29T09:20:32.758Z"
   },
   {
    "duration": 11,
    "start_time": "2021-09-29T09:20:32.766Z"
   },
   {
    "duration": 24,
    "start_time": "2021-09-29T09:20:32.778Z"
   },
   {
    "duration": 6,
    "start_time": "2021-09-29T09:20:32.804Z"
   },
   {
    "duration": 10,
    "start_time": "2021-09-29T09:20:32.812Z"
   },
   {
    "duration": 27,
    "start_time": "2021-09-29T09:20:32.824Z"
   },
   {
    "duration": 6,
    "start_time": "2021-09-29T09:20:32.852Z"
   },
   {
    "duration": 15,
    "start_time": "2021-09-29T09:20:46.298Z"
   },
   {
    "duration": 339,
    "start_time": "2021-09-29T09:22:11.005Z"
   },
   {
    "duration": 11,
    "start_time": "2021-09-29T09:22:25.138Z"
   },
   {
    "duration": 11,
    "start_time": "2021-09-29T09:22:29.801Z"
   },
   {
    "duration": 12,
    "start_time": "2021-09-29T09:25:09.815Z"
   },
   {
    "duration": 13,
    "start_time": "2021-09-29T09:26:23.782Z"
   },
   {
    "duration": 11,
    "start_time": "2021-09-29T09:26:44.351Z"
   },
   {
    "duration": 10,
    "start_time": "2021-09-29T09:26:44.982Z"
   },
   {
    "duration": 1625,
    "start_time": "2021-09-30T17:13:05.810Z"
   },
   {
    "duration": 36,
    "start_time": "2021-09-30T17:13:07.438Z"
   },
   {
    "duration": 28,
    "start_time": "2021-09-30T17:13:07.477Z"
   },
   {
    "duration": 52,
    "start_time": "2021-09-30T17:13:07.509Z"
   },
   {
    "duration": 9,
    "start_time": "2021-09-30T17:13:07.563Z"
   },
   {
    "duration": 18,
    "start_time": "2021-09-30T17:13:07.575Z"
   },
   {
    "duration": 56,
    "start_time": "2021-09-30T17:13:07.596Z"
   },
   {
    "duration": 8,
    "start_time": "2021-09-30T17:13:07.657Z"
   },
   {
    "duration": 14,
    "start_time": "2021-09-30T17:13:07.668Z"
   },
   {
    "duration": 8,
    "start_time": "2021-09-30T17:13:07.685Z"
   },
   {
    "duration": 13,
    "start_time": "2021-09-30T17:13:07.695Z"
   },
   {
    "duration": 49,
    "start_time": "2021-09-30T17:13:07.710Z"
   },
   {
    "duration": 18,
    "start_time": "2021-09-30T17:13:07.762Z"
   },
   {
    "duration": 16,
    "start_time": "2021-09-30T17:13:07.782Z"
   },
   {
    "duration": 909,
    "start_time": "2021-09-30T17:18:19.855Z"
   },
   {
    "duration": 32,
    "start_time": "2021-09-30T17:18:20.767Z"
   },
   {
    "duration": 11,
    "start_time": "2021-09-30T17:18:20.806Z"
   },
   {
    "duration": 60,
    "start_time": "2021-09-30T17:18:20.819Z"
   },
   {
    "duration": 26,
    "start_time": "2021-09-30T17:18:20.882Z"
   },
   {
    "duration": 22,
    "start_time": "2021-09-30T17:18:20.911Z"
   },
   {
    "duration": 24,
    "start_time": "2021-09-30T17:18:20.936Z"
   },
   {
    "duration": 30,
    "start_time": "2021-09-30T17:18:20.963Z"
   },
   {
    "duration": 46,
    "start_time": "2021-09-30T17:18:20.995Z"
   },
   {
    "duration": 16,
    "start_time": "2021-09-30T17:18:21.044Z"
   },
   {
    "duration": 1737,
    "start_time": "2021-09-30T17:18:40.363Z"
   },
   {
    "duration": 47,
    "start_time": "2021-09-30T17:18:58.494Z"
   },
   {
    "duration": 27,
    "start_time": "2021-09-30T17:19:00.073Z"
   },
   {
    "duration": 10,
    "start_time": "2021-09-30T17:19:43.330Z"
   },
   {
    "duration": 9,
    "start_time": "2021-09-30T17:19:55.338Z"
   },
   {
    "duration": 12,
    "start_time": "2021-09-30T17:20:48.867Z"
   },
   {
    "duration": 11,
    "start_time": "2021-09-30T17:21:05.780Z"
   },
   {
    "duration": 922,
    "start_time": "2021-09-30T17:21:22.325Z"
   },
   {
    "duration": 34,
    "start_time": "2021-09-30T17:21:23.249Z"
   },
   {
    "duration": 18,
    "start_time": "2021-09-30T17:21:23.287Z"
   },
   {
    "duration": 60,
    "start_time": "2021-09-30T17:21:23.309Z"
   },
   {
    "duration": 13,
    "start_time": "2021-09-30T17:21:23.371Z"
   },
   {
    "duration": 38,
    "start_time": "2021-09-30T17:21:23.387Z"
   },
   {
    "duration": 17,
    "start_time": "2021-09-30T17:21:23.428Z"
   },
   {
    "duration": 16,
    "start_time": "2021-09-30T17:21:23.448Z"
   },
   {
    "duration": 17,
    "start_time": "2021-09-30T17:21:23.466Z"
   },
   {
    "duration": 7,
    "start_time": "2021-09-30T17:21:23.486Z"
   },
   {
    "duration": 11,
    "start_time": "2021-09-30T17:21:23.495Z"
   },
   {
    "duration": 12,
    "start_time": "2021-09-30T17:21:23.508Z"
   },
   {
    "duration": 53,
    "start_time": "2021-09-30T17:21:23.522Z"
   },
   {
    "duration": 17,
    "start_time": "2021-09-30T17:21:23.578Z"
   },
   {
    "duration": 2735,
    "start_time": "2021-09-30T17:21:37.455Z"
   },
   {
    "duration": 845,
    "start_time": "2021-09-30T17:22:07.901Z"
   },
   {
    "duration": 34,
    "start_time": "2021-09-30T17:22:08.749Z"
   },
   {
    "duration": 17,
    "start_time": "2021-09-30T17:22:08.786Z"
   },
   {
    "duration": 51,
    "start_time": "2021-09-30T17:22:08.805Z"
   },
   {
    "duration": 9,
    "start_time": "2021-09-30T17:22:08.858Z"
   },
   {
    "duration": 30,
    "start_time": "2021-09-30T17:22:08.869Z"
   },
   {
    "duration": 16,
    "start_time": "2021-09-30T17:22:08.901Z"
   },
   {
    "duration": 11,
    "start_time": "2021-09-30T17:22:08.920Z"
   },
   {
    "duration": 25,
    "start_time": "2021-09-30T17:22:08.934Z"
   },
   {
    "duration": 11,
    "start_time": "2021-09-30T17:22:08.961Z"
   },
   {
    "duration": 21,
    "start_time": "2021-09-30T17:22:08.975Z"
   },
   {
    "duration": 16,
    "start_time": "2021-09-30T17:22:08.998Z"
   },
   {
    "duration": 1806,
    "start_time": "2021-09-30T17:22:09.017Z"
   },
   {
    "duration": 879,
    "start_time": "2021-09-30T17:24:27.654Z"
   },
   {
    "duration": 31,
    "start_time": "2021-09-30T17:24:28.536Z"
   },
   {
    "duration": 15,
    "start_time": "2021-09-30T17:24:28.570Z"
   },
   {
    "duration": 49,
    "start_time": "2021-09-30T17:24:28.587Z"
   },
   {
    "duration": 10,
    "start_time": "2021-09-30T17:24:28.638Z"
   },
   {
    "duration": 26,
    "start_time": "2021-09-30T17:24:28.650Z"
   },
   {
    "duration": 8,
    "start_time": "2021-09-30T17:24:28.679Z"
   },
   {
    "duration": 20,
    "start_time": "2021-09-30T17:24:28.690Z"
   },
   {
    "duration": 19,
    "start_time": "2021-09-30T17:24:28.712Z"
   },
   {
    "duration": 23,
    "start_time": "2021-09-30T17:24:28.733Z"
   },
   {
    "duration": 15,
    "start_time": "2021-09-30T17:24:28.759Z"
   },
   {
    "duration": 13,
    "start_time": "2021-09-30T17:24:28.777Z"
   },
   {
    "duration": 35,
    "start_time": "2021-09-30T17:24:28.793Z"
   },
   {
    "duration": 27,
    "start_time": "2021-09-30T17:24:28.830Z"
   },
   {
    "duration": 18,
    "start_time": "2021-09-30T17:37:34.686Z"
   },
   {
    "duration": 530,
    "start_time": "2021-09-30T17:38:57.485Z"
   },
   {
    "duration": 14,
    "start_time": "2021-09-30T17:39:24.439Z"
   },
   {
    "duration": 555,
    "start_time": "2021-09-30T17:39:41.625Z"
   },
   {
    "duration": 579,
    "start_time": "2021-09-30T17:41:26.748Z"
   },
   {
    "duration": 337,
    "start_time": "2021-09-30T17:53:48.807Z"
   },
   {
    "duration": 313,
    "start_time": "2021-09-30T17:54:21.676Z"
   },
   {
    "duration": 973,
    "start_time": "2021-09-30T17:54:57.533Z"
   },
   {
    "duration": 297,
    "start_time": "2021-09-30T17:55:06.585Z"
   },
   {
    "duration": 510,
    "start_time": "2021-09-30T17:55:43.207Z"
   },
   {
    "duration": 349,
    "start_time": "2021-09-30T17:55:52.895Z"
   },
   {
    "duration": 303,
    "start_time": "2021-09-30T17:56:02.077Z"
   },
   {
    "duration": 286,
    "start_time": "2021-09-30T18:01:46.390Z"
   },
   {
    "duration": 413,
    "start_time": "2021-09-30T18:08:13.547Z"
   },
   {
    "duration": 388,
    "start_time": "2021-09-30T18:08:25.805Z"
   },
   {
    "duration": 1009,
    "start_time": "2021-09-30T18:39:35.232Z"
   },
   {
    "duration": 40,
    "start_time": "2021-09-30T18:39:36.243Z"
   },
   {
    "duration": 16,
    "start_time": "2021-09-30T18:39:36.287Z"
   },
   {
    "duration": 56,
    "start_time": "2021-09-30T18:39:36.306Z"
   },
   {
    "duration": 13,
    "start_time": "2021-09-30T18:39:36.365Z"
   },
   {
    "duration": 26,
    "start_time": "2021-09-30T18:39:36.381Z"
   },
   {
    "duration": 11,
    "start_time": "2021-09-30T18:39:36.410Z"
   },
   {
    "duration": 43,
    "start_time": "2021-09-30T18:39:36.426Z"
   },
   {
    "duration": 19,
    "start_time": "2021-09-30T18:39:36.472Z"
   },
   {
    "duration": 12,
    "start_time": "2021-09-30T18:39:36.494Z"
   },
   {
    "duration": 11,
    "start_time": "2021-09-30T18:39:36.509Z"
   },
   {
    "duration": 50,
    "start_time": "2021-09-30T18:39:36.523Z"
   },
   {
    "duration": 24,
    "start_time": "2021-09-30T18:39:36.576Z"
   },
   {
    "duration": 55,
    "start_time": "2021-09-30T18:39:36.603Z"
   },
   {
    "duration": 751,
    "start_time": "2021-09-30T18:39:36.661Z"
   },
   {
    "duration": 382,
    "start_time": "2021-09-30T18:39:37.414Z"
   },
   {
    "duration": 316,
    "start_time": "2021-09-30T18:39:37.798Z"
   },
   {
    "duration": 433,
    "start_time": "2021-09-30T18:39:38.118Z"
   },
   {
    "duration": 337,
    "start_time": "2021-09-30T18:43:26.982Z"
   },
   {
    "duration": 268,
    "start_time": "2021-09-30T18:44:32.299Z"
   },
   {
    "duration": 21,
    "start_time": "2021-09-30T18:45:06.475Z"
   },
   {
    "duration": 7,
    "start_time": "2021-09-30T18:45:24.790Z"
   },
   {
    "duration": 5,
    "start_time": "2021-09-30T18:45:39.929Z"
   },
   {
    "duration": 760,
    "start_time": "2021-09-30T18:45:47.236Z"
   },
   {
    "duration": 299,
    "start_time": "2021-09-30T18:45:57.513Z"
   },
   {
    "duration": 315,
    "start_time": "2021-09-30T18:46:05.623Z"
   },
   {
    "duration": 307,
    "start_time": "2021-09-30T18:46:12.338Z"
   },
   {
    "duration": 282,
    "start_time": "2021-09-30T18:46:19.967Z"
   },
   {
    "duration": 298,
    "start_time": "2021-09-30T18:46:37.060Z"
   },
   {
    "duration": 267,
    "start_time": "2021-09-30T18:46:50.432Z"
   },
   {
    "duration": 288,
    "start_time": "2021-09-30T18:46:56.119Z"
   },
   {
    "duration": 6,
    "start_time": "2021-09-30T18:49:33.762Z"
   },
   {
    "duration": 283,
    "start_time": "2021-09-30T18:49:39.209Z"
   },
   {
    "duration": 350,
    "start_time": "2021-09-30T18:49:49.448Z"
   },
   {
    "duration": 295,
    "start_time": "2021-09-30T18:50:19.906Z"
   },
   {
    "duration": 940,
    "start_time": "2021-09-30T18:51:21.659Z"
   },
   {
    "duration": 294,
    "start_time": "2021-09-30T18:51:29.496Z"
   },
   {
    "duration": 306,
    "start_time": "2021-09-30T18:52:04.568Z"
   },
   {
    "duration": 308,
    "start_time": "2021-09-30T18:52:43.244Z"
   },
   {
    "duration": 287,
    "start_time": "2021-09-30T18:54:45.253Z"
   },
   {
    "duration": 296,
    "start_time": "2021-09-30T18:54:51.569Z"
   },
   {
    "duration": 419,
    "start_time": "2021-09-30T19:03:19.519Z"
   },
   {
    "duration": 433,
    "start_time": "2021-09-30T19:04:24.227Z"
   },
   {
    "duration": 435,
    "start_time": "2021-09-30T19:04:45.032Z"
   },
   {
    "duration": 330,
    "start_time": "2021-09-30T19:07:29.838Z"
   },
   {
    "duration": 536,
    "start_time": "2021-09-30T19:07:40.155Z"
   },
   {
    "duration": 311,
    "start_time": "2021-09-30T19:07:53.315Z"
   },
   {
    "duration": 335,
    "start_time": "2021-09-30T19:08:02.409Z"
   },
   {
    "duration": 328,
    "start_time": "2021-09-30T19:08:11.569Z"
   },
   {
    "duration": 323,
    "start_time": "2021-09-30T19:08:18.983Z"
   },
   {
    "duration": 440,
    "start_time": "2021-09-30T19:08:27.926Z"
   },
   {
    "duration": 328,
    "start_time": "2021-09-30T19:08:33.355Z"
   },
   {
    "duration": 437,
    "start_time": "2021-09-30T19:08:52.036Z"
   },
   {
    "duration": 485,
    "start_time": "2021-09-30T19:09:05.528Z"
   },
   {
    "duration": 363,
    "start_time": "2021-09-30T19:09:21.989Z"
   },
   {
    "duration": 362,
    "start_time": "2021-09-30T19:09:36.066Z"
   },
   {
    "duration": 541,
    "start_time": "2021-09-30T19:09:42.799Z"
   },
   {
    "duration": 356,
    "start_time": "2021-09-30T19:09:49.442Z"
   },
   {
    "duration": 434,
    "start_time": "2021-09-30T19:09:55.714Z"
   },
   {
    "duration": 18,
    "start_time": "2021-09-30T19:13:59.414Z"
   },
   {
    "duration": 370,
    "start_time": "2021-09-30T19:17:44.100Z"
   },
   {
    "duration": 243,
    "start_time": "2021-09-30T19:17:55.021Z"
   },
   {
    "duration": 346,
    "start_time": "2021-09-30T19:18:44.211Z"
   },
   {
    "duration": 7,
    "start_time": "2021-09-30T19:21:01.768Z"
   },
   {
    "duration": 335,
    "start_time": "2021-09-30T19:26:35.710Z"
   },
   {
    "duration": 242,
    "start_time": "2021-09-30T19:26:47.222Z"
   },
   {
    "duration": 20,
    "start_time": "2021-09-30T19:27:21.865Z"
   },
   {
    "duration": 264,
    "start_time": "2021-09-30T19:27:32.332Z"
   },
   {
    "duration": 10601,
    "start_time": "2021-09-30T19:27:58.698Z"
   },
   {
    "duration": 9050,
    "start_time": "2021-09-30T19:28:11.394Z"
   },
   {
    "duration": 501,
    "start_time": "2021-09-30T19:28:38.183Z"
   },
   {
    "duration": 546,
    "start_time": "2021-09-30T19:28:56.461Z"
   },
   {
    "duration": 6,
    "start_time": "2021-09-30T19:29:16.607Z"
   },
   {
    "duration": 635,
    "start_time": "2021-09-30T19:29:29.255Z"
   },
   {
    "duration": 481,
    "start_time": "2021-09-30T19:30:27.306Z"
   },
   {
    "duration": 450,
    "start_time": "2021-09-30T19:30:36.149Z"
   },
   {
    "duration": 481,
    "start_time": "2021-09-30T19:31:25.733Z"
   },
   {
    "duration": 666,
    "start_time": "2021-09-30T19:31:49.318Z"
   },
   {
    "duration": 496,
    "start_time": "2021-09-30T19:31:59.136Z"
   },
   {
    "duration": 447,
    "start_time": "2021-09-30T19:32:03.600Z"
   },
   {
    "duration": 476,
    "start_time": "2021-09-30T19:32:13.556Z"
   },
   {
    "duration": 473,
    "start_time": "2021-09-30T19:32:25.848Z"
   },
   {
    "duration": 626,
    "start_time": "2021-09-30T19:33:35.701Z"
   },
   {
    "duration": 571,
    "start_time": "2021-09-30T19:33:44.825Z"
   },
   {
    "duration": 580,
    "start_time": "2021-09-30T19:34:05.565Z"
   },
   {
    "duration": 579,
    "start_time": "2021-09-30T19:34:13.248Z"
   },
   {
    "duration": 444,
    "start_time": "2021-09-30T19:34:27.488Z"
   },
   {
    "duration": 7,
    "start_time": "2021-09-30T19:37:59.157Z"
   },
   {
    "duration": 916,
    "start_time": "2021-10-01T14:20:22.160Z"
   },
   {
    "duration": 28,
    "start_time": "2021-10-01T14:20:23.078Z"
   },
   {
    "duration": 13,
    "start_time": "2021-10-01T14:20:23.109Z"
   },
   {
    "duration": 42,
    "start_time": "2021-10-01T14:20:23.125Z"
   },
   {
    "duration": 9,
    "start_time": "2021-10-01T14:20:23.169Z"
   },
   {
    "duration": 24,
    "start_time": "2021-10-01T14:20:23.181Z"
   },
   {
    "duration": 9,
    "start_time": "2021-10-01T14:20:23.207Z"
   },
   {
    "duration": 13,
    "start_time": "2021-10-01T14:20:23.218Z"
   },
   {
    "duration": 13,
    "start_time": "2021-10-01T14:20:23.235Z"
   },
   {
    "duration": 35,
    "start_time": "2021-10-01T14:20:23.252Z"
   },
   {
    "duration": 8,
    "start_time": "2021-10-01T14:20:23.290Z"
   },
   {
    "duration": 13,
    "start_time": "2021-10-01T14:20:23.300Z"
   },
   {
    "duration": 22,
    "start_time": "2021-10-01T14:20:23.315Z"
   },
   {
    "duration": 45,
    "start_time": "2021-10-01T14:20:23.339Z"
   },
   {
    "duration": 573,
    "start_time": "2021-10-01T14:20:23.386Z"
   },
   {
    "duration": 391,
    "start_time": "2021-10-01T14:20:23.962Z"
   },
   {
    "duration": 358,
    "start_time": "2021-10-01T14:20:24.357Z"
   },
   {
    "duration": 468,
    "start_time": "2021-10-01T14:20:24.717Z"
   },
   {
    "duration": 413,
    "start_time": "2021-10-01T14:20:25.188Z"
   },
   {
    "duration": 454,
    "start_time": "2021-10-01T14:20:25.604Z"
   },
   {
    "duration": 244,
    "start_time": "2021-10-01T14:20:26.060Z"
   },
   {
    "duration": 256,
    "start_time": "2021-10-01T14:20:26.306Z"
   },
   {
    "duration": 393,
    "start_time": "2021-10-01T14:20:26.564Z"
   },
   {
    "duration": 7,
    "start_time": "2021-10-01T14:20:26.959Z"
   },
   {
    "duration": 5,
    "start_time": "2021-10-01T14:20:26.983Z"
   },
   {
    "duration": 579,
    "start_time": "2021-10-01T14:20:26.991Z"
   },
   {
    "duration": 478,
    "start_time": "2021-10-01T14:20:27.574Z"
   },
   {
    "duration": 7,
    "start_time": "2021-10-01T14:20:28.055Z"
   },
   {
    "duration": 15,
    "start_time": "2021-10-01T14:35:16.906Z"
   },
   {
    "duration": 93,
    "start_time": "2021-10-01T14:36:35.340Z"
   },
   {
    "duration": 97,
    "start_time": "2021-10-01T14:37:45.459Z"
   },
   {
    "duration": 18,
    "start_time": "2021-10-01T14:38:08.837Z"
   },
   {
    "duration": 22,
    "start_time": "2021-10-01T14:38:52.242Z"
   },
   {
    "duration": 115,
    "start_time": "2021-10-01T14:41:43.069Z"
   },
   {
    "duration": 119,
    "start_time": "2021-10-01T14:42:30.191Z"
   },
   {
    "duration": 174,
    "start_time": "2021-10-01T14:43:02.084Z"
   },
   {
    "duration": 54,
    "start_time": "2021-10-01T14:46:05.382Z"
   },
   {
    "duration": 19,
    "start_time": "2021-10-01T14:48:30.636Z"
   },
   {
    "duration": 210,
    "start_time": "2021-10-01T14:49:01.564Z"
   },
   {
    "duration": 204,
    "start_time": "2021-10-01T14:49:26.716Z"
   },
   {
    "duration": 9,
    "start_time": "2021-10-01T14:51:29.775Z"
   },
   {
    "duration": 7,
    "start_time": "2021-10-01T14:51:36.505Z"
   },
   {
    "duration": 625,
    "start_time": "2021-10-03T07:59:38.046Z"
   },
   {
    "duration": 25,
    "start_time": "2021-10-03T07:59:38.672Z"
   },
   {
    "duration": 7,
    "start_time": "2021-10-03T07:59:38.698Z"
   },
   {
    "duration": 48,
    "start_time": "2021-10-03T07:59:38.706Z"
   },
   {
    "duration": 16,
    "start_time": "2021-10-03T07:59:38.756Z"
   },
   {
    "duration": 41,
    "start_time": "2021-10-03T07:59:38.773Z"
   },
   {
    "duration": 19,
    "start_time": "2021-10-03T07:59:38.816Z"
   },
   {
    "duration": 26,
    "start_time": "2021-10-03T07:59:38.838Z"
   },
   {
    "duration": 26,
    "start_time": "2021-10-03T07:59:38.866Z"
   },
   {
    "duration": 25,
    "start_time": "2021-10-03T07:59:38.893Z"
   },
   {
    "duration": 33,
    "start_time": "2021-10-03T07:59:38.919Z"
   },
   {
    "duration": 19,
    "start_time": "2021-10-03T07:59:38.954Z"
   },
   {
    "duration": 31,
    "start_time": "2021-10-03T07:59:38.975Z"
   },
   {
    "duration": 18,
    "start_time": "2021-10-03T07:59:39.007Z"
   },
   {
    "duration": 340,
    "start_time": "2021-10-03T07:59:39.026Z"
   },
   {
    "duration": 230,
    "start_time": "2021-10-03T07:59:39.367Z"
   },
   {
    "duration": 206,
    "start_time": "2021-10-03T07:59:39.598Z"
   },
   {
    "duration": 314,
    "start_time": "2021-10-03T07:59:39.806Z"
   },
   {
    "duration": 249,
    "start_time": "2021-10-03T07:59:40.121Z"
   },
   {
    "duration": 301,
    "start_time": "2021-10-03T07:59:40.372Z"
   },
   {
    "duration": 118,
    "start_time": "2021-10-03T07:59:40.675Z"
   },
   {
    "duration": 145,
    "start_time": "2021-10-03T07:59:40.794Z"
   },
   {
    "duration": 262,
    "start_time": "2021-10-03T07:59:40.942Z"
   },
   {
    "duration": 4,
    "start_time": "2021-10-03T07:59:41.206Z"
   },
   {
    "duration": 21,
    "start_time": "2021-10-03T07:59:41.211Z"
   },
   {
    "duration": 322,
    "start_time": "2021-10-03T07:59:41.233Z"
   },
   {
    "duration": 311,
    "start_time": "2021-10-03T07:59:41.557Z"
   },
   {
    "duration": 4,
    "start_time": "2021-10-03T07:59:41.870Z"
   },
   {
    "duration": 63,
    "start_time": "2021-10-03T07:59:41.876Z"
   },
   {
    "duration": 63,
    "start_time": "2021-10-03T07:59:41.944Z"
   },
   {
    "duration": 82,
    "start_time": "2021-10-03T07:59:42.008Z"
   },
   {
    "duration": 70,
    "start_time": "2021-10-03T07:59:42.091Z"
   },
   {
    "duration": 42,
    "start_time": "2021-10-03T07:59:42.162Z"
   },
   {
    "duration": 105,
    "start_time": "2021-10-03T07:59:42.206Z"
   },
   {
    "duration": 6,
    "start_time": "2021-10-03T07:59:42.313Z"
   },
   {
    "duration": 4,
    "start_time": "2021-10-03T08:13:22.884Z"
   },
   {
    "duration": 4,
    "start_time": "2021-10-03T08:13:43.813Z"
   },
   {
    "duration": 313,
    "start_time": "2021-10-03T08:14:24.823Z"
   },
   {
    "duration": 1066,
    "start_time": "2021-10-03T08:15:06.464Z"
   },
   {
    "duration": 26,
    "start_time": "2021-10-03T08:15:07.532Z"
   },
   {
    "duration": 7,
    "start_time": "2021-10-03T08:15:07.561Z"
   },
   {
    "duration": 53,
    "start_time": "2021-10-03T08:15:07.569Z"
   },
   {
    "duration": 6,
    "start_time": "2021-10-03T08:15:07.624Z"
   },
   {
    "duration": 28,
    "start_time": "2021-10-03T08:15:07.631Z"
   },
   {
    "duration": 5,
    "start_time": "2021-10-03T08:15:07.661Z"
   },
   {
    "duration": 7,
    "start_time": "2021-10-03T08:15:07.669Z"
   },
   {
    "duration": 7,
    "start_time": "2021-10-03T08:15:07.678Z"
   },
   {
    "duration": 7,
    "start_time": "2021-10-03T08:15:07.687Z"
   },
   {
    "duration": 7,
    "start_time": "2021-10-03T08:15:07.695Z"
   },
   {
    "duration": 7,
    "start_time": "2021-10-03T08:15:07.704Z"
   },
   {
    "duration": 42,
    "start_time": "2021-10-03T08:15:07.712Z"
   },
   {
    "duration": 13,
    "start_time": "2021-10-03T08:15:07.756Z"
   },
   {
    "duration": 376,
    "start_time": "2021-10-03T08:15:07.771Z"
   },
   {
    "duration": 230,
    "start_time": "2021-10-03T08:15:08.148Z"
   },
   {
    "duration": 223,
    "start_time": "2021-10-03T08:15:08.380Z"
   },
   {
    "duration": 341,
    "start_time": "2021-10-03T08:15:08.605Z"
   },
   {
    "duration": 235,
    "start_time": "2021-10-03T08:15:08.948Z"
   },
   {
    "duration": 381,
    "start_time": "2021-10-03T08:15:09.185Z"
   },
   {
    "duration": 134,
    "start_time": "2021-10-03T08:15:09.568Z"
   },
   {
    "duration": 163,
    "start_time": "2021-10-03T08:15:09.703Z"
   },
   {
    "duration": 282,
    "start_time": "2021-10-03T08:15:09.868Z"
   },
   {
    "duration": 5,
    "start_time": "2021-10-03T08:15:10.152Z"
   },
   {
    "duration": 5,
    "start_time": "2021-10-03T08:15:10.159Z"
   },
   {
    "duration": 337,
    "start_time": "2021-10-03T08:15:10.166Z"
   },
   {
    "duration": 369,
    "start_time": "2021-10-03T08:15:10.505Z"
   },
   {
    "duration": 5,
    "start_time": "2021-10-03T08:15:10.875Z"
   },
   {
    "duration": 72,
    "start_time": "2021-10-03T08:15:10.882Z"
   },
   {
    "duration": 58,
    "start_time": "2021-10-03T08:15:10.955Z"
   },
   {
    "duration": 72,
    "start_time": "2021-10-03T08:15:11.015Z"
   },
   {
    "duration": 72,
    "start_time": "2021-10-03T08:15:11.089Z"
   },
   {
    "duration": 31,
    "start_time": "2021-10-03T08:15:11.163Z"
   },
   {
    "duration": 121,
    "start_time": "2021-10-03T08:15:11.195Z"
   },
   {
    "duration": 7,
    "start_time": "2021-10-03T08:15:11.318Z"
   },
   {
    "duration": 25,
    "start_time": "2021-10-03T08:15:11.326Z"
   },
   {
    "duration": 8,
    "start_time": "2021-10-03T08:17:42.703Z"
   },
   {
    "duration": 9,
    "start_time": "2021-10-03T08:20:39.112Z"
   },
   {
    "duration": 8,
    "start_time": "2021-10-03T08:21:10.216Z"
   },
   {
    "duration": 8,
    "start_time": "2021-10-03T08:21:15.593Z"
   },
   {
    "duration": 11,
    "start_time": "2021-10-03T08:21:44.232Z"
   },
   {
    "duration": 294,
    "start_time": "2021-10-03T08:23:54.082Z"
   },
   {
    "duration": 6,
    "start_time": "2021-10-03T08:24:04.611Z"
   },
   {
    "duration": 11,
    "start_time": "2021-10-03T08:29:22.169Z"
   },
   {
    "duration": 8,
    "start_time": "2021-10-03T08:39:33.718Z"
   },
   {
    "duration": 3,
    "start_time": "2021-10-03T08:48:20.621Z"
   },
   {
    "duration": 6740,
    "start_time": "2021-10-03T08:54:39.987Z"
   },
   {
    "duration": 10,
    "start_time": "2021-10-03T08:55:09.970Z"
   },
   {
    "duration": 1022,
    "start_time": "2021-10-03T08:55:28.993Z"
   },
   {
    "duration": 27,
    "start_time": "2021-10-03T08:55:30.017Z"
   },
   {
    "duration": 13,
    "start_time": "2021-10-03T08:55:30.048Z"
   },
   {
    "duration": 51,
    "start_time": "2021-10-03T08:55:30.063Z"
   },
   {
    "duration": 7,
    "start_time": "2021-10-03T08:55:30.115Z"
   },
   {
    "duration": 25,
    "start_time": "2021-10-03T08:55:30.123Z"
   },
   {
    "duration": 13,
    "start_time": "2021-10-03T08:55:30.151Z"
   },
   {
    "duration": 14,
    "start_time": "2021-10-03T08:55:30.165Z"
   },
   {
    "duration": 12,
    "start_time": "2021-10-03T08:55:30.181Z"
   },
   {
    "duration": 22,
    "start_time": "2021-10-03T08:55:30.194Z"
   },
   {
    "duration": 20,
    "start_time": "2021-10-03T08:55:30.218Z"
   },
   {
    "duration": 23,
    "start_time": "2021-10-03T08:55:30.239Z"
   },
   {
    "duration": 38,
    "start_time": "2021-10-03T08:55:30.264Z"
   },
   {
    "duration": 19,
    "start_time": "2021-10-03T08:55:30.304Z"
   },
   {
    "duration": 346,
    "start_time": "2021-10-03T08:55:30.324Z"
   },
   {
    "duration": 237,
    "start_time": "2021-10-03T08:55:30.672Z"
   },
   {
    "duration": 223,
    "start_time": "2021-10-03T08:55:30.911Z"
   },
   {
    "duration": 335,
    "start_time": "2021-10-03T08:55:31.136Z"
   },
   {
    "duration": 232,
    "start_time": "2021-10-03T08:55:31.473Z"
   },
   {
    "duration": 339,
    "start_time": "2021-10-03T08:55:31.707Z"
   },
   {
    "duration": 117,
    "start_time": "2021-10-03T08:55:32.048Z"
   },
   {
    "duration": 155,
    "start_time": "2021-10-03T08:55:32.169Z"
   },
   {
    "duration": 278,
    "start_time": "2021-10-03T08:55:32.325Z"
   },
   {
    "duration": 4,
    "start_time": "2021-10-03T08:55:32.605Z"
   },
   {
    "duration": 23,
    "start_time": "2021-10-03T08:55:32.610Z"
   },
   {
    "duration": 314,
    "start_time": "2021-10-03T08:55:32.635Z"
   },
   {
    "duration": 412,
    "start_time": "2021-10-03T08:55:32.951Z"
   },
   {
    "duration": 5,
    "start_time": "2021-10-03T08:55:33.364Z"
   },
   {
    "duration": 67,
    "start_time": "2021-10-03T08:55:33.371Z"
   },
   {
    "duration": 66,
    "start_time": "2021-10-03T08:55:33.440Z"
   },
   {
    "duration": 73,
    "start_time": "2021-10-03T08:55:33.508Z"
   },
   {
    "duration": 78,
    "start_time": "2021-10-03T08:55:33.582Z"
   },
   {
    "duration": 30,
    "start_time": "2021-10-03T08:55:33.662Z"
   },
   {
    "duration": 121,
    "start_time": "2021-10-03T08:55:33.694Z"
   },
   {
    "duration": 6,
    "start_time": "2021-10-03T08:55:33.816Z"
   },
   {
    "duration": 28,
    "start_time": "2021-10-03T08:55:33.823Z"
   },
   {
    "duration": 33,
    "start_time": "2021-10-03T08:55:33.853Z"
   },
   {
    "duration": 14,
    "start_time": "2021-10-03T08:55:33.887Z"
   },
   {
    "duration": 6378,
    "start_time": "2021-10-03T08:55:33.902Z"
   },
   {
    "duration": 8,
    "start_time": "2021-10-03T08:56:25.779Z"
   },
   {
    "duration": 7,
    "start_time": "2021-10-03T08:56:49.066Z"
   },
   {
    "duration": 9,
    "start_time": "2021-10-03T08:57:13.703Z"
   },
   {
    "duration": 11,
    "start_time": "2021-10-03T08:57:51.780Z"
   },
   {
    "duration": 8,
    "start_time": "2021-10-03T08:58:43.240Z"
   },
   {
    "duration": 8,
    "start_time": "2021-10-03T09:01:42.404Z"
   },
   {
    "duration": 8,
    "start_time": "2021-10-03T09:03:03.433Z"
   },
   {
    "duration": 9,
    "start_time": "2021-10-03T09:05:13.719Z"
   },
   {
    "duration": 107,
    "start_time": "2021-10-03T09:09:50.167Z"
   },
   {
    "duration": 14,
    "start_time": "2021-10-03T09:10:32.105Z"
   },
   {
    "duration": 14,
    "start_time": "2021-10-03T09:11:19.227Z"
   },
   {
    "duration": 129,
    "start_time": "2021-10-03T09:11:41.199Z"
   },
   {
    "duration": 13,
    "start_time": "2021-10-03T09:11:46.338Z"
   },
   {
    "duration": 85,
    "start_time": "2021-10-03T09:11:58.375Z"
   },
   {
    "duration": 13,
    "start_time": "2021-10-03T09:12:09.807Z"
   },
   {
    "duration": 12,
    "start_time": "2021-10-03T09:12:24.437Z"
   },
   {
    "duration": 15,
    "start_time": "2021-10-03T09:12:46.455Z"
   },
   {
    "duration": 1022,
    "start_time": "2021-10-03T09:13:38.993Z"
   },
   {
    "duration": 25,
    "start_time": "2021-10-03T09:13:40.017Z"
   },
   {
    "duration": 8,
    "start_time": "2021-10-03T09:13:40.044Z"
   },
   {
    "duration": 57,
    "start_time": "2021-10-03T09:13:40.054Z"
   },
   {
    "duration": 7,
    "start_time": "2021-10-03T09:13:40.112Z"
   },
   {
    "duration": 22,
    "start_time": "2021-10-03T09:13:40.120Z"
   },
   {
    "duration": 7,
    "start_time": "2021-10-03T09:13:40.143Z"
   },
   {
    "duration": 10,
    "start_time": "2021-10-03T09:13:40.152Z"
   },
   {
    "duration": 7,
    "start_time": "2021-10-03T09:13:40.164Z"
   },
   {
    "duration": 6,
    "start_time": "2021-10-03T09:13:40.173Z"
   },
   {
    "duration": 9,
    "start_time": "2021-10-03T09:13:40.181Z"
   },
   {
    "duration": 9,
    "start_time": "2021-10-03T09:13:40.192Z"
   },
   {
    "duration": 19,
    "start_time": "2021-10-03T09:13:40.203Z"
   },
   {
    "duration": 10,
    "start_time": "2021-10-03T09:13:40.244Z"
   },
   {
    "duration": 342,
    "start_time": "2021-10-03T09:13:40.255Z"
   },
   {
    "duration": 223,
    "start_time": "2021-10-03T09:13:40.598Z"
   },
   {
    "duration": 221,
    "start_time": "2021-10-03T09:13:40.823Z"
   },
   {
    "duration": 342,
    "start_time": "2021-10-03T09:13:41.046Z"
   },
   {
    "duration": 233,
    "start_time": "2021-10-03T09:13:41.390Z"
   },
   {
    "duration": 350,
    "start_time": "2021-10-03T09:13:41.624Z"
   },
   {
    "duration": 117,
    "start_time": "2021-10-03T09:13:41.975Z"
   },
   {
    "duration": 138,
    "start_time": "2021-10-03T09:13:42.093Z"
   },
   {
    "duration": 272,
    "start_time": "2021-10-03T09:13:42.234Z"
   },
   {
    "duration": 5,
    "start_time": "2021-10-03T09:13:42.507Z"
   },
   {
    "duration": 26,
    "start_time": "2021-10-03T09:13:42.513Z"
   },
   {
    "duration": 320,
    "start_time": "2021-10-03T09:13:42.540Z"
   },
   {
    "duration": 387,
    "start_time": "2021-10-03T09:13:42.862Z"
   },
   {
    "duration": 5,
    "start_time": "2021-10-03T09:13:43.251Z"
   },
   {
    "duration": 77,
    "start_time": "2021-10-03T09:13:43.257Z"
   },
   {
    "duration": 77,
    "start_time": "2021-10-03T09:13:43.336Z"
   },
   {
    "duration": 77,
    "start_time": "2021-10-03T09:13:43.415Z"
   },
   {
    "duration": 78,
    "start_time": "2021-10-03T09:13:43.493Z"
   },
   {
    "duration": 29,
    "start_time": "2021-10-03T09:13:43.573Z"
   },
   {
    "duration": 109,
    "start_time": "2021-10-03T09:13:43.603Z"
   },
   {
    "duration": 5,
    "start_time": "2021-10-03T09:13:43.714Z"
   },
   {
    "duration": 26,
    "start_time": "2021-10-03T09:13:43.721Z"
   },
   {
    "duration": 45,
    "start_time": "2021-10-03T09:13:43.749Z"
   },
   {
    "duration": 16,
    "start_time": "2021-10-03T09:13:43.796Z"
   },
   {
    "duration": 31,
    "start_time": "2021-10-03T09:13:43.814Z"
   },
   {
    "duration": 21,
    "start_time": "2021-10-03T09:13:43.847Z"
   },
   {
    "duration": 33,
    "start_time": "2021-10-03T09:13:43.870Z"
   },
   {
    "duration": 33,
    "start_time": "2021-10-03T09:13:43.904Z"
   },
   {
    "duration": 4,
    "start_time": "2021-10-03T09:23:41.197Z"
   },
   {
    "duration": 93,
    "start_time": "2021-10-03T09:24:07.504Z"
   },
   {
    "duration": 3,
    "start_time": "2021-10-03T09:24:14.789Z"
   },
   {
    "duration": 4,
    "start_time": "2021-10-03T09:24:29.630Z"
   },
   {
    "duration": 5,
    "start_time": "2021-10-03T09:27:31.958Z"
   },
   {
    "duration": 6,
    "start_time": "2021-10-03T09:27:40.365Z"
   },
   {
    "duration": 5,
    "start_time": "2021-10-03T09:27:46.656Z"
   },
   {
    "duration": 5,
    "start_time": "2021-10-03T09:28:25.444Z"
   },
   {
    "duration": 5,
    "start_time": "2021-10-03T09:28:36.409Z"
   },
   {
    "duration": 6,
    "start_time": "2021-10-03T09:28:58.728Z"
   },
   {
    "duration": 8,
    "start_time": "2021-10-03T09:29:42.063Z"
   },
   {
    "duration": 1440,
    "start_time": "2021-10-03T11:20:51.195Z"
   },
   {
    "duration": 29,
    "start_time": "2021-10-03T11:20:52.638Z"
   },
   {
    "duration": 13,
    "start_time": "2021-10-03T11:20:52.670Z"
   },
   {
    "duration": 41,
    "start_time": "2021-10-03T11:20:52.686Z"
   },
   {
    "duration": 10,
    "start_time": "2021-10-03T11:20:52.729Z"
   },
   {
    "duration": 32,
    "start_time": "2021-10-03T11:20:52.742Z"
   },
   {
    "duration": 14,
    "start_time": "2021-10-03T11:20:52.777Z"
   },
   {
    "duration": 22,
    "start_time": "2021-10-03T11:20:52.795Z"
   },
   {
    "duration": 14,
    "start_time": "2021-10-03T11:20:52.820Z"
   },
   {
    "duration": 38,
    "start_time": "2021-10-03T11:20:52.836Z"
   },
   {
    "duration": 10,
    "start_time": "2021-10-03T11:20:52.878Z"
   },
   {
    "duration": 12,
    "start_time": "2021-10-03T11:20:52.891Z"
   },
   {
    "duration": 17,
    "start_time": "2021-10-03T11:20:52.905Z"
   },
   {
    "duration": 53,
    "start_time": "2021-10-03T11:20:52.924Z"
   },
   {
    "duration": 653,
    "start_time": "2021-10-03T11:20:52.980Z"
   },
   {
    "duration": 462,
    "start_time": "2021-10-03T11:20:53.636Z"
   },
   {
    "duration": 400,
    "start_time": "2021-10-03T11:20:54.101Z"
   },
   {
    "duration": 476,
    "start_time": "2021-10-03T11:20:54.505Z"
   },
   {
    "duration": 419,
    "start_time": "2021-10-03T11:20:54.984Z"
   },
   {
    "duration": 490,
    "start_time": "2021-10-03T11:20:55.405Z"
   },
   {
    "duration": 248,
    "start_time": "2021-10-03T11:20:55.897Z"
   },
   {
    "duration": 298,
    "start_time": "2021-10-03T11:20:56.148Z"
   },
   {
    "duration": 417,
    "start_time": "2021-10-03T11:20:56.453Z"
   },
   {
    "duration": 8,
    "start_time": "2021-10-03T11:20:56.874Z"
   },
   {
    "duration": 7,
    "start_time": "2021-10-03T11:20:56.885Z"
   },
   {
    "duration": 649,
    "start_time": "2021-10-03T11:20:56.894Z"
   },
   {
    "duration": 551,
    "start_time": "2021-10-03T11:20:57.545Z"
   },
   {
    "duration": 7,
    "start_time": "2021-10-03T11:20:58.099Z"
   },
   {
    "duration": 121,
    "start_time": "2021-10-03T11:20:58.108Z"
   },
   {
    "duration": 108,
    "start_time": "2021-10-03T11:20:58.231Z"
   },
   {
    "duration": 149,
    "start_time": "2021-10-03T11:20:58.342Z"
   },
   {
    "duration": 145,
    "start_time": "2021-10-03T11:20:58.493Z"
   },
   {
    "duration": 71,
    "start_time": "2021-10-03T11:20:58.640Z"
   },
   {
    "duration": 244,
    "start_time": "2021-10-03T11:20:58.713Z"
   },
   {
    "duration": 24,
    "start_time": "2021-10-03T11:20:58.959Z"
   },
   {
    "duration": 10,
    "start_time": "2021-10-03T11:20:58.986Z"
   },
   {
    "duration": 22,
    "start_time": "2021-10-03T11:20:58.999Z"
   },
   {
    "duration": 52,
    "start_time": "2021-10-03T11:20:59.024Z"
   },
   {
    "duration": 5,
    "start_time": "2021-10-03T11:20:59.079Z"
   },
   {
    "duration": 15,
    "start_time": "2021-10-03T11:20:59.086Z"
   },
   {
    "duration": 14,
    "start_time": "2021-10-03T11:20:59.103Z"
   },
   {
    "duration": 51,
    "start_time": "2021-10-03T11:20:59.120Z"
   },
   {
    "duration": 24,
    "start_time": "2021-10-03T11:20:59.175Z"
   },
   {
    "duration": 102,
    "start_time": "2021-10-03T11:35:40.490Z"
   },
   {
    "duration": 999,
    "start_time": "2021-10-03T13:56:19.465Z"
   },
   {
    "duration": 24,
    "start_time": "2021-10-03T13:56:20.466Z"
   },
   {
    "duration": 6,
    "start_time": "2021-10-03T13:56:20.492Z"
   },
   {
    "duration": 82,
    "start_time": "2021-10-03T13:56:20.500Z"
   },
   {
    "duration": 6,
    "start_time": "2021-10-03T13:56:20.583Z"
   },
   {
    "duration": 23,
    "start_time": "2021-10-03T13:56:20.590Z"
   },
   {
    "duration": 5,
    "start_time": "2021-10-03T13:56:20.615Z"
   },
   {
    "duration": 7,
    "start_time": "2021-10-03T13:56:20.623Z"
   },
   {
    "duration": 6,
    "start_time": "2021-10-03T13:56:20.632Z"
   },
   {
    "duration": 4,
    "start_time": "2021-10-03T13:56:20.640Z"
   },
   {
    "duration": 7,
    "start_time": "2021-10-03T13:56:20.646Z"
   },
   {
    "duration": 6,
    "start_time": "2021-10-03T13:56:20.654Z"
   },
   {
    "duration": 37,
    "start_time": "2021-10-03T13:56:20.662Z"
   },
   {
    "duration": 10,
    "start_time": "2021-10-03T13:56:20.701Z"
   },
   {
    "duration": 343,
    "start_time": "2021-10-03T13:56:20.712Z"
   },
   {
    "duration": 238,
    "start_time": "2021-10-03T13:56:21.057Z"
   },
   {
    "duration": 222,
    "start_time": "2021-10-03T13:56:21.299Z"
   },
   {
    "duration": 326,
    "start_time": "2021-10-03T13:56:21.523Z"
   },
   {
    "duration": 236,
    "start_time": "2021-10-03T13:56:21.851Z"
   },
   {
    "duration": 364,
    "start_time": "2021-10-03T13:56:22.089Z"
   },
   {
    "duration": 103,
    "start_time": "2021-10-03T13:56:22.455Z"
   },
   {
    "duration": 162,
    "start_time": "2021-10-03T13:56:22.559Z"
   },
   {
    "duration": 274,
    "start_time": "2021-10-03T13:56:22.725Z"
   },
   {
    "duration": 5,
    "start_time": "2021-10-03T13:56:23.001Z"
   },
   {
    "duration": 6,
    "start_time": "2021-10-03T13:56:23.007Z"
   },
   {
    "duration": 370,
    "start_time": "2021-10-03T13:56:23.015Z"
   },
   {
    "duration": 387,
    "start_time": "2021-10-03T13:56:23.387Z"
   },
   {
    "duration": 5,
    "start_time": "2021-10-03T13:56:23.775Z"
   },
   {
    "duration": 68,
    "start_time": "2021-10-03T13:56:23.781Z"
   },
   {
    "duration": 63,
    "start_time": "2021-10-03T13:56:23.851Z"
   },
   {
    "duration": 69,
    "start_time": "2021-10-03T13:56:23.916Z"
   },
   {
    "duration": 75,
    "start_time": "2021-10-03T13:56:23.987Z"
   },
   {
    "duration": 41,
    "start_time": "2021-10-03T13:56:24.063Z"
   },
   {
    "duration": 121,
    "start_time": "2021-10-03T13:56:24.105Z"
   },
   {
    "duration": 8,
    "start_time": "2021-10-03T13:56:24.228Z"
   },
   {
    "duration": 7,
    "start_time": "2021-10-03T13:56:24.238Z"
   },
   {
    "duration": 9,
    "start_time": "2021-10-03T13:56:24.246Z"
   },
   {
    "duration": 42,
    "start_time": "2021-10-03T13:56:24.257Z"
   },
   {
    "duration": 3,
    "start_time": "2021-10-03T13:56:24.301Z"
   },
   {
    "duration": 10,
    "start_time": "2021-10-03T13:56:24.306Z"
   },
   {
    "duration": 8,
    "start_time": "2021-10-03T13:56:24.318Z"
   },
   {
    "duration": 8,
    "start_time": "2021-10-03T13:56:24.328Z"
   },
   {
    "duration": 13,
    "start_time": "2021-10-03T13:56:24.338Z"
   },
   {
    "duration": 16,
    "start_time": "2021-10-03T13:58:08.129Z"
   },
   {
    "duration": 22,
    "start_time": "2021-10-03T13:58:17.124Z"
   },
   {
    "duration": 22,
    "start_time": "2021-10-03T13:58:26.640Z"
   },
   {
    "duration": 255,
    "start_time": "2021-10-03T13:59:32.314Z"
   },
   {
    "duration": 22,
    "start_time": "2021-10-03T13:59:42.711Z"
   },
   {
    "duration": 17,
    "start_time": "2021-10-03T14:00:43.741Z"
   },
   {
    "duration": 17,
    "start_time": "2021-10-03T14:00:46.909Z"
   },
   {
    "duration": 194,
    "start_time": "2021-10-03T14:01:00.147Z"
   },
   {
    "duration": 22,
    "start_time": "2021-10-03T14:01:16.153Z"
   },
   {
    "duration": 7,
    "start_time": "2021-10-03T14:01:35.437Z"
   },
   {
    "duration": 4425,
    "start_time": "2021-10-03T14:01:42.120Z"
   },
   {
    "duration": 4536,
    "start_time": "2021-10-03T14:02:09.206Z"
   },
   {
    "duration": 916,
    "start_time": "2021-10-03T14:02:22.161Z"
   },
   {
    "duration": 26,
    "start_time": "2021-10-03T14:02:23.079Z"
   },
   {
    "duration": 12,
    "start_time": "2021-10-03T14:02:23.108Z"
   },
   {
    "duration": 67,
    "start_time": "2021-10-03T14:02:23.123Z"
   },
   {
    "duration": 9,
    "start_time": "2021-10-03T14:02:23.191Z"
   },
   {
    "duration": 27,
    "start_time": "2021-10-03T14:02:23.201Z"
   },
   {
    "duration": 11,
    "start_time": "2021-10-03T14:02:23.230Z"
   },
   {
    "duration": 15,
    "start_time": "2021-10-03T14:02:23.244Z"
   },
   {
    "duration": 10,
    "start_time": "2021-10-03T14:02:23.261Z"
   },
   {
    "duration": 11,
    "start_time": "2021-10-03T14:02:23.273Z"
   },
   {
    "duration": 12,
    "start_time": "2021-10-03T14:02:23.286Z"
   },
   {
    "duration": 10,
    "start_time": "2021-10-03T14:02:23.300Z"
   },
   {
    "duration": 11,
    "start_time": "2021-10-03T14:02:23.312Z"
   },
   {
    "duration": 11,
    "start_time": "2021-10-03T14:02:23.325Z"
   },
   {
    "duration": 357,
    "start_time": "2021-10-03T14:02:23.338Z"
   },
   {
    "duration": 252,
    "start_time": "2021-10-03T14:02:23.699Z"
   },
   {
    "duration": 237,
    "start_time": "2021-10-03T14:02:23.953Z"
   },
   {
    "duration": 345,
    "start_time": "2021-10-03T14:02:24.199Z"
   },
   {
    "duration": 229,
    "start_time": "2021-10-03T14:02:24.547Z"
   },
   {
    "duration": 370,
    "start_time": "2021-10-03T14:02:24.778Z"
   },
   {
    "duration": 122,
    "start_time": "2021-10-03T14:02:25.151Z"
   },
   {
    "duration": 179,
    "start_time": "2021-10-03T14:02:25.275Z"
   },
   {
    "duration": 272,
    "start_time": "2021-10-03T14:02:25.456Z"
   },
   {
    "duration": 4,
    "start_time": "2021-10-03T14:02:25.730Z"
   },
   {
    "duration": 5,
    "start_time": "2021-10-03T14:02:25.736Z"
   },
   {
    "duration": 381,
    "start_time": "2021-10-03T14:02:25.742Z"
   },
   {
    "duration": 417,
    "start_time": "2021-10-03T14:02:26.125Z"
   },
   {
    "duration": 5,
    "start_time": "2021-10-03T14:02:26.543Z"
   },
   {
    "duration": 69,
    "start_time": "2021-10-03T14:02:26.550Z"
   },
   {
    "duration": 60,
    "start_time": "2021-10-03T14:02:26.621Z"
   },
   {
    "duration": 75,
    "start_time": "2021-10-03T14:02:26.682Z"
   },
   {
    "duration": 77,
    "start_time": "2021-10-03T14:02:26.758Z"
   },
   {
    "duration": 29,
    "start_time": "2021-10-03T14:02:26.836Z"
   },
   {
    "duration": 112,
    "start_time": "2021-10-03T14:02:26.866Z"
   },
   {
    "duration": 9,
    "start_time": "2021-10-03T14:02:26.979Z"
   },
   {
    "duration": 12,
    "start_time": "2021-10-03T14:02:26.989Z"
   },
   {
    "duration": 6,
    "start_time": "2021-10-03T14:02:27.003Z"
   },
   {
    "duration": 10,
    "start_time": "2021-10-03T14:02:27.011Z"
   },
   {
    "duration": 4,
    "start_time": "2021-10-03T14:02:27.023Z"
   },
   {
    "duration": 10,
    "start_time": "2021-10-03T14:02:27.028Z"
   },
   {
    "duration": 8,
    "start_time": "2021-10-03T14:02:27.040Z"
   },
   {
    "duration": 7,
    "start_time": "2021-10-03T14:02:27.050Z"
   },
   {
    "duration": 51,
    "start_time": "2021-10-03T14:02:27.058Z"
   },
   {
    "duration": 919,
    "start_time": "2021-10-03T14:02:56.153Z"
   },
   {
    "duration": 24,
    "start_time": "2021-10-03T14:02:57.074Z"
   },
   {
    "duration": 7,
    "start_time": "2021-10-03T14:02:57.100Z"
   },
   {
    "duration": 53,
    "start_time": "2021-10-03T14:02:57.108Z"
   },
   {
    "duration": 6,
    "start_time": "2021-10-03T14:02:57.163Z"
   },
   {
    "duration": 20,
    "start_time": "2021-10-03T14:02:57.170Z"
   },
   {
    "duration": 5,
    "start_time": "2021-10-03T14:02:57.192Z"
   },
   {
    "duration": 11,
    "start_time": "2021-10-03T14:02:57.199Z"
   },
   {
    "duration": 8,
    "start_time": "2021-10-03T14:02:57.211Z"
   },
   {
    "duration": 12,
    "start_time": "2021-10-03T14:02:57.221Z"
   },
   {
    "duration": 13,
    "start_time": "2021-10-03T14:02:57.235Z"
   },
   {
    "duration": 10,
    "start_time": "2021-10-03T14:02:57.250Z"
   },
   {
    "duration": 12,
    "start_time": "2021-10-03T14:02:57.261Z"
   },
   {
    "duration": 25,
    "start_time": "2021-10-03T14:02:57.275Z"
   },
   {
    "duration": 336,
    "start_time": "2021-10-03T14:02:57.301Z"
   },
   {
    "duration": 237,
    "start_time": "2021-10-03T14:02:57.639Z"
   },
   {
    "duration": 221,
    "start_time": "2021-10-03T14:02:57.878Z"
   },
   {
    "duration": 334,
    "start_time": "2021-10-03T14:02:58.101Z"
   },
   {
    "duration": 238,
    "start_time": "2021-10-03T14:02:58.437Z"
   },
   {
    "duration": 366,
    "start_time": "2021-10-03T14:02:58.677Z"
   },
   {
    "duration": 125,
    "start_time": "2021-10-03T14:02:59.045Z"
   },
   {
    "duration": 174,
    "start_time": "2021-10-03T14:02:59.172Z"
   },
   {
    "duration": 237,
    "start_time": "2021-10-03T14:02:59.349Z"
   },
   {
    "duration": 12,
    "start_time": "2021-10-03T14:02:59.589Z"
   },
   {
    "duration": 12,
    "start_time": "2021-10-03T14:02:59.602Z"
   },
   {
    "duration": 341,
    "start_time": "2021-10-03T14:02:59.615Z"
   },
   {
    "duration": 386,
    "start_time": "2021-10-03T14:02:59.958Z"
   },
   {
    "duration": 4,
    "start_time": "2021-10-03T14:03:00.346Z"
   },
   {
    "duration": 64,
    "start_time": "2021-10-03T14:03:00.352Z"
   },
   {
    "duration": 61,
    "start_time": "2021-10-03T14:03:00.417Z"
   },
   {
    "duration": 70,
    "start_time": "2021-10-03T14:03:00.480Z"
   },
   {
    "duration": 79,
    "start_time": "2021-10-03T14:03:00.552Z"
   },
   {
    "duration": 30,
    "start_time": "2021-10-03T14:03:00.632Z"
   },
   {
    "duration": 117,
    "start_time": "2021-10-03T14:03:00.664Z"
   },
   {
    "duration": 8,
    "start_time": "2021-10-03T14:03:00.783Z"
   },
   {
    "duration": 7,
    "start_time": "2021-10-03T14:03:00.799Z"
   },
   {
    "duration": 14,
    "start_time": "2021-10-03T14:03:00.808Z"
   },
   {
    "duration": 11,
    "start_time": "2021-10-03T14:03:00.824Z"
   },
   {
    "duration": 7,
    "start_time": "2021-10-03T14:03:00.837Z"
   },
   {
    "duration": 11,
    "start_time": "2021-10-03T14:03:00.846Z"
   },
   {
    "duration": 23,
    "start_time": "2021-10-03T14:03:00.859Z"
   },
   {
    "duration": 20,
    "start_time": "2021-10-03T14:03:00.884Z"
   },
   {
    "duration": 20,
    "start_time": "2021-10-03T14:03:00.906Z"
   },
   {
    "duration": 11,
    "start_time": "2021-10-03T14:05:20.817Z"
   },
   {
    "duration": 11,
    "start_time": "2021-10-03T14:05:34.201Z"
   },
   {
    "duration": 12,
    "start_time": "2021-10-03T14:06:27.726Z"
   },
   {
    "duration": 11,
    "start_time": "2021-10-03T14:06:35.288Z"
   },
   {
    "duration": 249,
    "start_time": "2021-10-03T14:20:30.869Z"
   },
   {
    "duration": 4937,
    "start_time": "2021-10-03T14:21:07.425Z"
   },
   {
    "duration": 998,
    "start_time": "2021-10-03T14:21:41.924Z"
   },
   {
    "duration": 24,
    "start_time": "2021-10-03T14:21:42.924Z"
   },
   {
    "duration": 7,
    "start_time": "2021-10-03T14:21:42.950Z"
   },
   {
    "duration": 52,
    "start_time": "2021-10-03T14:21:42.958Z"
   },
   {
    "duration": 6,
    "start_time": "2021-10-03T14:21:43.011Z"
   },
   {
    "duration": 21,
    "start_time": "2021-10-03T14:21:43.019Z"
   },
   {
    "duration": 7,
    "start_time": "2021-10-03T14:21:43.042Z"
   },
   {
    "duration": 8,
    "start_time": "2021-10-03T14:21:43.052Z"
   },
   {
    "duration": 8,
    "start_time": "2021-10-03T14:21:43.063Z"
   },
   {
    "duration": 6,
    "start_time": "2021-10-03T14:21:43.072Z"
   },
   {
    "duration": 6,
    "start_time": "2021-10-03T14:21:43.100Z"
   },
   {
    "duration": 7,
    "start_time": "2021-10-03T14:21:43.108Z"
   },
   {
    "duration": 12,
    "start_time": "2021-10-03T14:21:43.117Z"
   },
   {
    "duration": 10,
    "start_time": "2021-10-03T14:21:43.130Z"
   },
   {
    "duration": 373,
    "start_time": "2021-10-03T14:21:43.141Z"
   },
   {
    "duration": 242,
    "start_time": "2021-10-03T14:21:43.516Z"
   },
   {
    "duration": 228,
    "start_time": "2021-10-03T14:21:43.759Z"
   },
   {
    "duration": 352,
    "start_time": "2021-10-03T14:21:43.989Z"
   },
   {
    "duration": 243,
    "start_time": "2021-10-03T14:21:44.343Z"
   },
   {
    "duration": 368,
    "start_time": "2021-10-03T14:21:44.588Z"
   },
   {
    "duration": 106,
    "start_time": "2021-10-03T14:21:44.958Z"
   },
   {
    "duration": 163,
    "start_time": "2021-10-03T14:21:45.066Z"
   },
   {
    "duration": 268,
    "start_time": "2021-10-03T14:21:45.233Z"
   },
   {
    "duration": 5,
    "start_time": "2021-10-03T14:21:45.503Z"
   },
   {
    "duration": 10,
    "start_time": "2021-10-03T14:21:45.509Z"
   },
   {
    "duration": 356,
    "start_time": "2021-10-03T14:21:45.521Z"
   },
   {
    "duration": 372,
    "start_time": "2021-10-03T14:21:45.879Z"
   },
   {
    "duration": 4,
    "start_time": "2021-10-03T14:21:46.253Z"
   },
   {
    "duration": 67,
    "start_time": "2021-10-03T14:21:46.258Z"
   },
   {
    "duration": 66,
    "start_time": "2021-10-03T14:21:46.326Z"
   },
   {
    "duration": 69,
    "start_time": "2021-10-03T14:21:46.393Z"
   },
   {
    "duration": 79,
    "start_time": "2021-10-03T14:21:46.463Z"
   },
   {
    "duration": 29,
    "start_time": "2021-10-03T14:21:46.544Z"
   },
   {
    "duration": 116,
    "start_time": "2021-10-03T14:21:46.575Z"
   },
   {
    "duration": 10,
    "start_time": "2021-10-03T14:21:46.693Z"
   },
   {
    "duration": 8,
    "start_time": "2021-10-03T14:21:46.704Z"
   },
   {
    "duration": 9,
    "start_time": "2021-10-03T14:21:46.713Z"
   },
   {
    "duration": 11,
    "start_time": "2021-10-03T14:21:46.724Z"
   },
   {
    "duration": 3,
    "start_time": "2021-10-03T14:21:46.736Z"
   },
   {
    "duration": 10,
    "start_time": "2021-10-03T14:21:46.741Z"
   },
   {
    "duration": 9,
    "start_time": "2021-10-03T14:21:46.752Z"
   },
   {
    "duration": 44,
    "start_time": "2021-10-03T14:21:46.762Z"
   },
   {
    "duration": 13,
    "start_time": "2021-10-03T14:21:46.808Z"
   },
   {
    "duration": 5,
    "start_time": "2021-10-03T14:23:15.080Z"
   },
   {
    "duration": 5,
    "start_time": "2021-10-03T14:23:34.337Z"
   },
   {
    "duration": 348,
    "start_time": "2021-10-03T14:41:00.738Z"
   },
   {
    "duration": 182,
    "start_time": "2021-10-03T14:41:08.047Z"
   },
   {
    "duration": 181,
    "start_time": "2021-10-03T14:41:26.079Z"
   },
   {
    "duration": 204,
    "start_time": "2021-10-03T14:41:36.799Z"
   },
   {
    "duration": 5798,
    "start_time": "2021-10-03T14:41:55.361Z"
   },
   {
    "duration": 4999,
    "start_time": "2021-10-03T14:42:15.826Z"
   },
   {
    "duration": 10,
    "start_time": "2021-10-03T14:42:29.522Z"
   },
   {
    "duration": 17,
    "start_time": "2021-10-03T14:42:45.977Z"
   },
   {
    "duration": 171,
    "start_time": "2021-10-03T14:43:19.080Z"
   },
   {
    "duration": 13,
    "start_time": "2021-10-03T14:43:34.279Z"
   },
   {
    "duration": 6,
    "start_time": "2021-10-03T14:43:45.613Z"
   },
   {
    "duration": 187,
    "start_time": "2021-10-03T14:44:06.831Z"
   },
   {
    "duration": 12,
    "start_time": "2021-10-03T14:44:13.154Z"
   },
   {
    "duration": 14,
    "start_time": "2021-10-03T14:44:34.330Z"
   },
   {
    "duration": 697,
    "start_time": "2021-10-03T14:44:45.138Z"
   },
   {
    "duration": 14,
    "start_time": "2021-10-03T14:45:08.919Z"
   },
   {
    "duration": 15,
    "start_time": "2021-10-03T14:46:19.990Z"
   },
   {
    "duration": 15,
    "start_time": "2021-10-03T14:46:33.163Z"
   },
   {
    "duration": 9,
    "start_time": "2021-10-03T14:47:11.399Z"
   },
   {
    "duration": 8,
    "start_time": "2021-10-03T14:47:25.294Z"
   },
   {
    "duration": 6,
    "start_time": "2021-10-03T14:47:37.825Z"
   },
   {
    "duration": 8,
    "start_time": "2021-10-03T14:47:47.362Z"
   },
   {
    "duration": 9,
    "start_time": "2021-10-03T14:47:52.498Z"
   },
   {
    "duration": 20,
    "start_time": "2021-10-03T14:50:20.404Z"
   },
   {
    "duration": 12,
    "start_time": "2021-10-03T14:50:41.050Z"
   },
   {
    "duration": 5,
    "start_time": "2021-10-03T14:51:10.830Z"
   },
   {
    "duration": 59,
    "start_time": "2021-10-03T14:51:30.055Z"
   },
   {
    "duration": 7,
    "start_time": "2021-10-03T14:51:47.947Z"
   },
   {
    "duration": 178,
    "start_time": "2021-10-03T14:53:20.749Z"
   },
   {
    "duration": 196,
    "start_time": "2021-10-03T14:53:30.705Z"
   },
   {
    "duration": 7,
    "start_time": "2021-10-03T14:53:45.024Z"
   },
   {
    "duration": 22,
    "start_time": "2021-10-03T14:53:48.510Z"
   },
   {
    "duration": 7,
    "start_time": "2021-10-03T14:54:07.320Z"
   },
   {
    "duration": 15,
    "start_time": "2021-10-03T14:54:22.128Z"
   },
   {
    "duration": 18,
    "start_time": "2021-10-03T14:55:30.505Z"
   },
   {
    "duration": 10,
    "start_time": "2021-10-03T14:55:56.279Z"
   },
   {
    "duration": 8,
    "start_time": "2021-10-03T14:56:13.346Z"
   },
   {
    "duration": 9,
    "start_time": "2021-10-03T14:56:18.712Z"
   },
   {
    "duration": 14,
    "start_time": "2021-10-03T14:57:49.804Z"
   },
   {
    "duration": 12,
    "start_time": "2021-10-03T14:58:15.755Z"
   },
   {
    "duration": 13,
    "start_time": "2021-10-03T14:58:21.788Z"
   },
   {
    "duration": 12,
    "start_time": "2021-10-03T14:58:36.387Z"
   },
   {
    "duration": 14,
    "start_time": "2021-10-03T15:00:53.122Z"
   },
   {
    "duration": 13,
    "start_time": "2021-10-03T15:01:30.528Z"
   },
   {
    "duration": 7,
    "start_time": "2021-10-03T15:01:36.261Z"
   },
   {
    "duration": 16,
    "start_time": "2021-10-03T15:01:41.785Z"
   },
   {
    "duration": 14,
    "start_time": "2021-10-03T15:01:50.702Z"
   },
   {
    "duration": 20,
    "start_time": "2021-10-03T15:03:16.226Z"
   },
   {
    "duration": 24,
    "start_time": "2021-10-03T15:03:45.258Z"
   },
   {
    "duration": 10,
    "start_time": "2021-10-03T15:04:09.604Z"
   },
   {
    "duration": 8,
    "start_time": "2021-10-03T15:04:11.460Z"
   },
   {
    "duration": 18,
    "start_time": "2021-10-03T15:04:25.450Z"
   },
   {
    "duration": 12,
    "start_time": "2021-10-03T15:04:31.939Z"
   },
   {
    "duration": 8,
    "start_time": "2021-10-03T15:04:38.650Z"
   },
   {
    "duration": 5,
    "start_time": "2021-10-03T15:04:58.955Z"
   },
   {
    "duration": 5,
    "start_time": "2021-10-03T15:07:26.467Z"
   },
   {
    "duration": 12,
    "start_time": "2021-10-03T15:07:53.004Z"
   },
   {
    "duration": 10,
    "start_time": "2021-10-03T15:07:58.608Z"
   },
   {
    "duration": 5,
    "start_time": "2021-10-03T15:08:38.073Z"
   },
   {
    "duration": 9,
    "start_time": "2021-10-03T15:09:05.355Z"
   },
   {
    "duration": 6,
    "start_time": "2021-10-03T15:09:12.958Z"
   },
   {
    "duration": 8,
    "start_time": "2021-10-03T15:09:27.142Z"
   },
   {
    "duration": 6,
    "start_time": "2021-10-03T15:24:47.726Z"
   },
   {
    "duration": 10,
    "start_time": "2021-10-03T15:24:54.005Z"
   },
   {
    "duration": 11,
    "start_time": "2021-10-03T15:25:21.790Z"
   },
   {
    "duration": 909,
    "start_time": "2021-10-03T15:33:11.055Z"
   },
   {
    "duration": 11,
    "start_time": "2021-10-03T15:33:35.661Z"
   },
   {
    "duration": 11,
    "start_time": "2021-10-03T15:35:45.261Z"
   },
   {
    "duration": 14,
    "start_time": "2021-10-03T15:35:58.951Z"
   },
   {
    "duration": 11,
    "start_time": "2021-10-03T15:36:13.420Z"
   },
   {
    "duration": 13,
    "start_time": "2021-10-03T15:36:19.644Z"
   },
   {
    "duration": 11,
    "start_time": "2021-10-03T15:36:32.807Z"
   },
   {
    "duration": 250,
    "start_time": "2021-10-03T15:44:13.375Z"
   },
   {
    "duration": 250,
    "start_time": "2021-10-03T15:45:24.905Z"
   },
   {
    "duration": 252,
    "start_time": "2021-10-03T15:45:49.571Z"
   },
   {
    "duration": 262,
    "start_time": "2021-10-03T15:48:44.210Z"
   },
   {
    "duration": 209,
    "start_time": "2021-10-03T15:49:22.193Z"
   },
   {
    "duration": 237,
    "start_time": "2021-10-03T15:49:44.409Z"
   },
   {
    "duration": 273,
    "start_time": "2021-10-03T15:50:26.318Z"
   },
   {
    "duration": 298,
    "start_time": "2021-10-03T15:50:52.527Z"
   },
   {
    "duration": 374,
    "start_time": "2021-10-03T15:58:43.296Z"
   },
   {
    "duration": 319,
    "start_time": "2021-10-03T16:00:31.652Z"
   },
   {
    "duration": 238,
    "start_time": "2021-10-03T16:02:21.240Z"
   },
   {
    "duration": 237,
    "start_time": "2021-10-03T16:02:54.988Z"
   },
   {
    "duration": 366,
    "start_time": "2021-10-03T16:05:26.297Z"
   },
   {
    "duration": 331,
    "start_time": "2021-10-03T16:06:17.461Z"
   },
   {
    "duration": 329,
    "start_time": "2021-10-03T16:06:37.250Z"
   },
   {
    "duration": 327,
    "start_time": "2021-10-03T16:06:52.740Z"
   },
   {
    "duration": 343,
    "start_time": "2021-10-03T16:07:07.819Z"
   },
   {
    "duration": 341,
    "start_time": "2021-10-03T16:07:34.155Z"
   },
   {
    "duration": 250,
    "start_time": "2021-10-03T16:09:48.851Z"
   },
   {
    "duration": 171,
    "start_time": "2021-10-03T16:09:57.325Z"
   },
   {
    "duration": 301,
    "start_time": "2021-10-03T16:10:33.690Z"
   },
   {
    "duration": 180,
    "start_time": "2021-10-03T16:10:44.650Z"
   },
   {
    "duration": 308,
    "start_time": "2021-10-03T16:10:47.995Z"
   },
   {
    "duration": 370,
    "start_time": "2021-10-03T16:13:23.419Z"
   },
   {
    "duration": 331,
    "start_time": "2021-10-03T16:14:01.047Z"
   },
   {
    "duration": 9,
    "start_time": "2021-10-03T16:26:35.633Z"
   },
   {
    "duration": 9,
    "start_time": "2021-10-03T16:26:45.180Z"
   },
   {
    "duration": 7,
    "start_time": "2021-10-03T16:26:50.413Z"
   },
   {
    "duration": 12,
    "start_time": "2021-10-03T16:27:31.810Z"
   },
   {
    "duration": 7,
    "start_time": "2021-10-03T16:27:51.554Z"
   },
   {
    "duration": 15,
    "start_time": "2021-10-03T16:28:07.278Z"
   },
   {
    "duration": 89,
    "start_time": "2021-10-03T19:56:37.728Z"
   },
   {
    "duration": 455,
    "start_time": "2021-12-19T08:22:27.533Z"
   },
   {
    "duration": 1983,
    "start_time": "2021-12-19T08:22:33.618Z"
   },
   {
    "duration": 36,
    "start_time": "2021-12-19T08:22:35.604Z"
   },
   {
    "duration": 20,
    "start_time": "2021-12-19T08:22:35.648Z"
   },
   {
    "duration": 63,
    "start_time": "2021-12-19T08:22:35.671Z"
   },
   {
    "duration": 11,
    "start_time": "2021-12-19T08:22:35.736Z"
   },
   {
    "duration": 26,
    "start_time": "2021-12-19T08:22:35.750Z"
   },
   {
    "duration": 9,
    "start_time": "2021-12-19T08:22:35.781Z"
   },
   {
    "duration": 12,
    "start_time": "2021-12-19T08:22:35.793Z"
   },
   {
    "duration": 10,
    "start_time": "2021-12-19T08:22:35.807Z"
   },
   {
    "duration": 43,
    "start_time": "2021-12-19T08:22:35.819Z"
   },
   {
    "duration": 8,
    "start_time": "2021-12-19T08:22:35.864Z"
   },
   {
    "duration": 18,
    "start_time": "2021-12-19T08:22:35.874Z"
   },
   {
    "duration": 12,
    "start_time": "2021-12-19T08:22:35.895Z"
   },
   {
    "duration": 52,
    "start_time": "2021-12-19T08:22:35.909Z"
   },
   {
    "duration": 18,
    "start_time": "2021-12-19T08:22:35.963Z"
   },
   {
    "duration": 15,
    "start_time": "2021-12-19T08:22:35.983Z"
   },
   {
    "duration": 19,
    "start_time": "2021-12-19T08:22:36.000Z"
   },
   {
    "duration": 664,
    "start_time": "2021-12-19T08:22:36.021Z"
   },
   {
    "duration": 424,
    "start_time": "2021-12-19T08:22:36.687Z"
   },
   {
    "duration": 398,
    "start_time": "2021-12-19T08:22:37.114Z"
   },
   {
    "duration": 560,
    "start_time": "2021-12-19T08:22:37.515Z"
   },
   {
    "duration": 418,
    "start_time": "2021-12-19T08:22:38.083Z"
   },
   {
    "duration": 540,
    "start_time": "2021-12-19T08:22:38.505Z"
   },
   {
    "duration": 205,
    "start_time": "2021-12-19T08:22:39.048Z"
   },
   {
    "duration": 278,
    "start_time": "2021-12-19T08:22:39.260Z"
   },
   {
    "duration": 417,
    "start_time": "2021-12-19T08:22:39.540Z"
   },
   {
    "duration": 6,
    "start_time": "2021-12-19T08:22:39.960Z"
   },
   {
    "duration": 7,
    "start_time": "2021-12-19T08:22:39.968Z"
   },
   {
    "duration": 604,
    "start_time": "2021-12-19T08:22:39.977Z"
   },
   {
    "duration": 544,
    "start_time": "2021-12-19T08:22:40.585Z"
   },
   {
    "duration": 8,
    "start_time": "2021-12-19T08:22:41.132Z"
   },
   {
    "duration": 118,
    "start_time": "2021-12-19T08:22:41.142Z"
   },
   {
    "duration": 106,
    "start_time": "2021-12-19T08:22:41.262Z"
   },
   {
    "duration": 126,
    "start_time": "2021-12-19T08:22:41.370Z"
   },
   {
    "duration": 123,
    "start_time": "2021-12-19T08:22:41.499Z"
   },
   {
    "duration": 62,
    "start_time": "2021-12-19T08:22:41.624Z"
   },
   {
    "duration": 211,
    "start_time": "2021-12-19T08:22:41.689Z"
   },
   {
    "duration": 13,
    "start_time": "2021-12-19T08:22:41.903Z"
   },
   {
    "duration": 8,
    "start_time": "2021-12-19T08:22:41.918Z"
   },
   {
    "duration": 30,
    "start_time": "2021-12-19T08:22:41.929Z"
   },
   {
    "duration": 15,
    "start_time": "2021-12-19T08:22:41.961Z"
   },
   {
    "duration": 4,
    "start_time": "2021-12-19T08:22:41.978Z"
   },
   {
    "duration": 15,
    "start_time": "2021-12-19T08:22:41.984Z"
   },
   {
    "duration": 57,
    "start_time": "2021-12-19T08:22:42.002Z"
   },
   {
    "duration": 12,
    "start_time": "2021-12-19T08:22:42.062Z"
   },
   {
    "duration": 20,
    "start_time": "2021-12-19T08:22:42.076Z"
   },
   {
    "duration": 376,
    "start_time": "2021-12-19T08:23:13.271Z"
   },
   {
    "duration": 1132,
    "start_time": "2022-01-23T21:22:57.673Z"
   },
   {
    "duration": 2170,
    "start_time": "2022-01-23T21:22:58.808Z"
   },
   {
    "duration": -34,
    "start_time": "2022-01-23T21:23:01.016Z"
   },
   {
    "duration": -39,
    "start_time": "2022-01-23T21:23:01.022Z"
   },
   {
    "duration": -42,
    "start_time": "2022-01-23T21:23:01.026Z"
   },
   {
    "duration": -46,
    "start_time": "2022-01-23T21:23:01.031Z"
   },
   {
    "duration": -50,
    "start_time": "2022-01-23T21:23:01.036Z"
   },
   {
    "duration": -53,
    "start_time": "2022-01-23T21:23:01.040Z"
   },
   {
    "duration": -61,
    "start_time": "2022-01-23T21:23:01.049Z"
   },
   {
    "duration": -63,
    "start_time": "2022-01-23T21:23:01.052Z"
   },
   {
    "duration": -67,
    "start_time": "2022-01-23T21:23:01.057Z"
   },
   {
    "duration": -69,
    "start_time": "2022-01-23T21:23:01.060Z"
   },
   {
    "duration": -71,
    "start_time": "2022-01-23T21:23:01.064Z"
   },
   {
    "duration": -73,
    "start_time": "2022-01-23T21:23:01.067Z"
   },
   {
    "duration": -76,
    "start_time": "2022-01-23T21:23:01.071Z"
   },
   {
    "duration": -80,
    "start_time": "2022-01-23T21:23:01.075Z"
   },
   {
    "duration": -83,
    "start_time": "2022-01-23T21:23:01.079Z"
   },
   {
    "duration": -85,
    "start_time": "2022-01-23T21:23:01.082Z"
   },
   {
    "duration": -87,
    "start_time": "2022-01-23T21:23:01.086Z"
   },
   {
    "duration": -89,
    "start_time": "2022-01-23T21:23:01.089Z"
   },
   {
    "duration": -98,
    "start_time": "2022-01-23T21:23:01.099Z"
   },
   {
    "duration": -100,
    "start_time": "2022-01-23T21:23:01.102Z"
   },
   {
    "duration": -103,
    "start_time": "2022-01-23T21:23:01.106Z"
   },
   {
    "duration": -106,
    "start_time": "2022-01-23T21:23:01.110Z"
   },
   {
    "duration": -107,
    "start_time": "2022-01-23T21:23:01.113Z"
   },
   {
    "duration": -109,
    "start_time": "2022-01-23T21:23:01.116Z"
   },
   {
    "duration": -112,
    "start_time": "2022-01-23T21:23:01.120Z"
   },
   {
    "duration": -115,
    "start_time": "2022-01-23T21:23:01.124Z"
   },
   {
    "duration": -118,
    "start_time": "2022-01-23T21:23:01.128Z"
   },
   {
    "duration": -121,
    "start_time": "2022-01-23T21:23:01.132Z"
   },
   {
    "duration": -124,
    "start_time": "2022-01-23T21:23:01.135Z"
   },
   {
    "duration": -155,
    "start_time": "2022-01-23T21:23:01.167Z"
   },
   {
    "duration": -158,
    "start_time": "2022-01-23T21:23:01.171Z"
   },
   {
    "duration": -161,
    "start_time": "2022-01-23T21:23:01.175Z"
   },
   {
    "duration": -163,
    "start_time": "2022-01-23T21:23:01.178Z"
   },
   {
    "duration": -165,
    "start_time": "2022-01-23T21:23:01.181Z"
   },
   {
    "duration": -169,
    "start_time": "2022-01-23T21:23:01.185Z"
   },
   {
    "duration": -171,
    "start_time": "2022-01-23T21:23:01.188Z"
   },
   {
    "duration": -173,
    "start_time": "2022-01-23T21:23:01.191Z"
   },
   {
    "duration": -175,
    "start_time": "2022-01-23T21:23:01.194Z"
   },
   {
    "duration": -177,
    "start_time": "2022-01-23T21:23:01.197Z"
   },
   {
    "duration": -183,
    "start_time": "2022-01-23T21:23:01.204Z"
   },
   {
    "duration": -185,
    "start_time": "2022-01-23T21:23:01.207Z"
   },
   {
    "duration": -187,
    "start_time": "2022-01-23T21:23:01.210Z"
   },
   {
    "duration": -206,
    "start_time": "2022-01-23T21:23:01.230Z"
   },
   {
    "duration": -208,
    "start_time": "2022-01-23T21:23:01.233Z"
   },
   {
    "duration": 1805,
    "start_time": "2022-01-23T21:23:49.828Z"
   },
   {
    "duration": 1795,
    "start_time": "2022-01-23T21:24:33.497Z"
   },
   {
    "duration": 2507,
    "start_time": "2022-01-23T21:31:06.795Z"
   }
  ],
  "kernelspec": {
   "display_name": "Python 3 (ipykernel)",
   "language": "python",
   "name": "python3"
  },
  "language_info": {
   "codemirror_mode": {
    "name": "ipython",
    "version": 3
   },
   "file_extension": ".py",
   "mimetype": "text/x-python",
   "name": "python",
   "nbconvert_exporter": "python",
   "pygments_lexer": "ipython3",
   "version": "3.9.7"
  },
  "toc": {
   "base_numbering": 1,
   "nav_menu": {},
   "number_sections": true,
   "sideBar": true,
   "skip_h1_title": true,
   "title_cell": "Table of Contents",
   "title_sidebar": "Contents",
   "toc_cell": false,
   "toc_position": {},
   "toc_section_display": true,
   "toc_window_display": false
  }
 },
 "nbformat": 4,
 "nbformat_minor": 2
}

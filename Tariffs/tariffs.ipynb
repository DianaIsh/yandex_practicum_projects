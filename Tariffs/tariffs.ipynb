{
 "cells": [
  {
   "cell_type": "markdown",
   "metadata": {},
   "source": [
    "# Определение перспективного тарифа для телеком компании"
   ]
  },
  {
   "cell_type": "markdown",
   "metadata": {},
   "source": [
    "---\n",
    "**Цель проекта:** проанализировать поведение клиентов и сделать вывод — какой тариф лучше.\n",
    "\n",
    "---\n",
    "\n",
    "Коммерческому департаменту компании «Мегалайн» необходимо понять, какой из предложенных клиентам тарифов приносит больше прибыли.Компания предоставляет данные 500 пользователей тарифов «Смарт» и «Ультра» за 2018 год.\n",
    "\n",
    "Исходные данные: \n",
    "    \n",
    "    calls - данные о звонках:\n",
    "        id — уникальный номер звонка\n",
    "        call_date — дата звонка\n",
    "        duration — длительность звонка в минутах\n",
    "        user_id — идентификатор пользователя, сделавшего звонок\n",
    "        \n",
    "    users - данные о пользователях:\n",
    "        user_id — уникальный идентификатор пользователя\n",
    "        first_name — имя пользователя\n",
    "        last_name — фамилия пользователя\n",
    "        age — возраст пользователя (годы)\n",
    "        reg_date — дата подключения тарифа (день, месяц, год)\n",
    "        churn_date — дата прекращения пользования тарифом (если значение пропущено, то тариф ещё действовал на момент выгрузки данных)\n",
    "        city — город проживания пользователя\n",
    "        tarif — название тарифного плана\n",
    "        \n",
    "    messages - данные о сообщениях:\n",
    "        id — уникальный номер сообщения\n",
    "        message_date — дата сообщения\n",
    "        user_id — идентификатор пользователя, отправившего сообщение\n",
    "        \n",
    "    internet - данные об интернет-сессиях:\n",
    "        id — уникальный номер сессии\n",
    "        mb_used — объём потраченного за сессию интернет-трафика (в мегабайтах)\n",
    "        session_date — дата интернет-сессии\n",
    "        user_id — идентификатор пользователя\n",
    "        \n",
    "    tariffs - данные о тарифах:\n",
    "        tariff_name — название тарифа\n",
    "        rub_monthly_fee — ежемесячная абонентская плата в рублях\n",
    "        minutes_included — количество минут разговора в месяц, включённых в абонентскую плату\n",
    "        messages_included — количество сообщений в месяц, включённых в абонентскую плату\n",
    "        mb_per_month_included — объём интернет-трафика, включённого в абонентскую плату (в мегабайтах)\n",
    "        rub_per_minute — стоимость минуты разговора сверх тарифного пакета (например, если в тарифе 100 минут разговора в месяц, то со 101 минуты будет взиматься плата)\n",
    "        rub_per_message — стоимость отправки сообщения сверх тарифного пакета\n",
    "        rub_per_gb — стоимость дополнительного гигабайта интернет-трафика сверх тарифного пакета (1 гигабайт = 1024 мегабайта)"
   ]
  },
  {
   "cell_type": "code",
   "execution_count": 1,
   "metadata": {},
   "outputs": [],
   "source": [
    "import pandas as pd\n",
    "import numpy as np\n",
    "import matplotlib.pyplot as plt\n",
    "import seaborn as sns\n",
    "from scipy import stats as st"
   ]
  },
  {
   "cell_type": "markdown",
   "metadata": {},
   "source": [
    "## Предобработка данных"
   ]
  },
  {
   "cell_type": "code",
   "execution_count": 2,
   "metadata": {
    "scrolled": true
   },
   "outputs": [
    {
     "data": {
      "text/html": [
       "<div>\n",
       "<style scoped>\n",
       "    .dataframe tbody tr th:only-of-type {\n",
       "        vertical-align: middle;\n",
       "    }\n",
       "\n",
       "    .dataframe tbody tr th {\n",
       "        vertical-align: top;\n",
       "    }\n",
       "\n",
       "    .dataframe thead th {\n",
       "        text-align: right;\n",
       "    }\n",
       "</style>\n",
       "<table border=\"1\" class=\"dataframe\">\n",
       "  <thead>\n",
       "    <tr style=\"text-align: right;\">\n",
       "      <th></th>\n",
       "      <th>id</th>\n",
       "      <th>call_date</th>\n",
       "      <th>duration</th>\n",
       "      <th>user_id</th>\n",
       "    </tr>\n",
       "  </thead>\n",
       "  <tbody>\n",
       "    <tr>\n",
       "      <th>0</th>\n",
       "      <td>1000_0</td>\n",
       "      <td>2018-07-25</td>\n",
       "      <td>0.00</td>\n",
       "      <td>1000</td>\n",
       "    </tr>\n",
       "    <tr>\n",
       "      <th>1</th>\n",
       "      <td>1000_1</td>\n",
       "      <td>2018-08-17</td>\n",
       "      <td>0.00</td>\n",
       "      <td>1000</td>\n",
       "    </tr>\n",
       "    <tr>\n",
       "      <th>2</th>\n",
       "      <td>1000_2</td>\n",
       "      <td>2018-06-11</td>\n",
       "      <td>2.85</td>\n",
       "      <td>1000</td>\n",
       "    </tr>\n",
       "    <tr>\n",
       "      <th>3</th>\n",
       "      <td>1000_3</td>\n",
       "      <td>2018-09-21</td>\n",
       "      <td>13.80</td>\n",
       "      <td>1000</td>\n",
       "    </tr>\n",
       "    <tr>\n",
       "      <th>4</th>\n",
       "      <td>1000_4</td>\n",
       "      <td>2018-12-15</td>\n",
       "      <td>5.18</td>\n",
       "      <td>1000</td>\n",
       "    </tr>\n",
       "  </tbody>\n",
       "</table>\n",
       "</div>"
      ],
      "text/plain": [
       "       id   call_date  duration  user_id\n",
       "0  1000_0  2018-07-25      0.00     1000\n",
       "1  1000_1  2018-08-17      0.00     1000\n",
       "2  1000_2  2018-06-11      2.85     1000\n",
       "3  1000_3  2018-09-21     13.80     1000\n",
       "4  1000_4  2018-12-15      5.18     1000"
      ]
     },
     "execution_count": 2,
     "metadata": {},
     "output_type": "execute_result"
    }
   ],
   "source": [
    "# calls = pd.read_csv('/Users/dianamini/Developer/Data/calls.csv')\n",
    "# calls.head()"
   ]
  },
  {
   "cell_type": "code",
   "execution_count": 3,
   "metadata": {},
   "outputs": [
    {
     "data": {
      "text/plain": [
       "id           0\n",
       "call_date    0\n",
       "duration     0\n",
       "user_id      0\n",
       "dtype: int64"
      ]
     },
     "execution_count": 3,
     "metadata": {},
     "output_type": "execute_result"
    }
   ],
   "source": [
    "calls.isna().sum()"
   ]
  },
  {
   "cell_type": "code",
   "execution_count": 4,
   "metadata": {
    "scrolled": false
   },
   "outputs": [
    {
     "name": "stdout",
     "output_type": "stream",
     "text": [
      "<class 'pandas.core.frame.DataFrame'>\n",
      "RangeIndex: 202607 entries, 0 to 202606\n",
      "Data columns (total 4 columns):\n",
      " #   Column     Non-Null Count   Dtype  \n",
      "---  ------     --------------   -----  \n",
      " 0   id         202607 non-null  object \n",
      " 1   call_date  202607 non-null  object \n",
      " 2   duration   202607 non-null  float64\n",
      " 3   user_id    202607 non-null  int64  \n",
      "dtypes: float64(1), int64(1), object(2)\n",
      "memory usage: 6.2+ MB\n"
     ]
    }
   ],
   "source": [
    "calls.info()"
   ]
  },
  {
   "cell_type": "code",
   "execution_count": 5,
   "metadata": {},
   "outputs": [],
   "source": [
    "calls['call_date'] = pd.to_datetime(calls['call_date'])"
   ]
  },
  {
   "cell_type": "code",
   "execution_count": 6,
   "metadata": {
    "scrolled": false
   },
   "outputs": [
    {
     "data": {
      "text/html": [
       "<div>\n",
       "<style scoped>\n",
       "    .dataframe tbody tr th:only-of-type {\n",
       "        vertical-align: middle;\n",
       "    }\n",
       "\n",
       "    .dataframe tbody tr th {\n",
       "        vertical-align: top;\n",
       "    }\n",
       "\n",
       "    .dataframe thead th {\n",
       "        text-align: right;\n",
       "    }\n",
       "</style>\n",
       "<table border=\"1\" class=\"dataframe\">\n",
       "  <thead>\n",
       "    <tr style=\"text-align: right;\">\n",
       "      <th></th>\n",
       "      <th>user_id</th>\n",
       "      <th>age</th>\n",
       "      <th>churn_date</th>\n",
       "      <th>city</th>\n",
       "      <th>first_name</th>\n",
       "      <th>last_name</th>\n",
       "      <th>reg_date</th>\n",
       "      <th>tariff</th>\n",
       "    </tr>\n",
       "  </thead>\n",
       "  <tbody>\n",
       "    <tr>\n",
       "      <th>0</th>\n",
       "      <td>1000</td>\n",
       "      <td>52</td>\n",
       "      <td>NaN</td>\n",
       "      <td>Краснодар</td>\n",
       "      <td>Рафаил</td>\n",
       "      <td>Верещагин</td>\n",
       "      <td>2018-05-25</td>\n",
       "      <td>ultra</td>\n",
       "    </tr>\n",
       "    <tr>\n",
       "      <th>1</th>\n",
       "      <td>1001</td>\n",
       "      <td>41</td>\n",
       "      <td>NaN</td>\n",
       "      <td>Москва</td>\n",
       "      <td>Иван</td>\n",
       "      <td>Ежов</td>\n",
       "      <td>2018-11-01</td>\n",
       "      <td>smart</td>\n",
       "    </tr>\n",
       "    <tr>\n",
       "      <th>2</th>\n",
       "      <td>1002</td>\n",
       "      <td>59</td>\n",
       "      <td>NaN</td>\n",
       "      <td>Стерлитамак</td>\n",
       "      <td>Евгений</td>\n",
       "      <td>Абрамович</td>\n",
       "      <td>2018-06-17</td>\n",
       "      <td>smart</td>\n",
       "    </tr>\n",
       "    <tr>\n",
       "      <th>3</th>\n",
       "      <td>1003</td>\n",
       "      <td>23</td>\n",
       "      <td>NaN</td>\n",
       "      <td>Москва</td>\n",
       "      <td>Белла</td>\n",
       "      <td>Белякова</td>\n",
       "      <td>2018-08-17</td>\n",
       "      <td>ultra</td>\n",
       "    </tr>\n",
       "    <tr>\n",
       "      <th>4</th>\n",
       "      <td>1004</td>\n",
       "      <td>68</td>\n",
       "      <td>NaN</td>\n",
       "      <td>Новокузнецк</td>\n",
       "      <td>Татьяна</td>\n",
       "      <td>Авдеенко</td>\n",
       "      <td>2018-05-14</td>\n",
       "      <td>ultra</td>\n",
       "    </tr>\n",
       "  </tbody>\n",
       "</table>\n",
       "</div>"
      ],
      "text/plain": [
       "   user_id  age churn_date         city first_name  last_name    reg_date  \\\n",
       "0     1000   52        NaN    Краснодар     Рафаил  Верещагин  2018-05-25   \n",
       "1     1001   41        NaN       Москва       Иван       Ежов  2018-11-01   \n",
       "2     1002   59        NaN  Стерлитамак    Евгений  Абрамович  2018-06-17   \n",
       "3     1003   23        NaN       Москва      Белла   Белякова  2018-08-17   \n",
       "4     1004   68        NaN  Новокузнецк    Татьяна   Авдеенко  2018-05-14   \n",
       "\n",
       "  tariff  \n",
       "0  ultra  \n",
       "1  smart  \n",
       "2  smart  \n",
       "3  ultra  \n",
       "4  ultra  "
      ]
     },
     "execution_count": 6,
     "metadata": {},
     "output_type": "execute_result"
    }
   ],
   "source": [
    "# users = pd.read_csv('/Users/dianamini/Developer/Data/users.csv')\n",
    "# users.head()"
   ]
  },
  {
   "cell_type": "code",
   "execution_count": 7,
   "metadata": {
    "scrolled": true
   },
   "outputs": [
    {
     "data": {
      "text/plain": [
       "user_id         0\n",
       "age             0\n",
       "churn_date    462\n",
       "city            0\n",
       "first_name      0\n",
       "last_name       0\n",
       "reg_date        0\n",
       "tariff          0\n",
       "dtype: int64"
      ]
     },
     "execution_count": 7,
     "metadata": {},
     "output_type": "execute_result"
    }
   ],
   "source": [
    "users.isna().sum()"
   ]
  },
  {
   "cell_type": "code",
   "execution_count": 8,
   "metadata": {
    "scrolled": false
   },
   "outputs": [
    {
     "name": "stdout",
     "output_type": "stream",
     "text": [
      "<class 'pandas.core.frame.DataFrame'>\n",
      "RangeIndex: 500 entries, 0 to 499\n",
      "Data columns (total 8 columns):\n",
      " #   Column      Non-Null Count  Dtype \n",
      "---  ------      --------------  ----- \n",
      " 0   user_id     500 non-null    int64 \n",
      " 1   age         500 non-null    int64 \n",
      " 2   churn_date  38 non-null     object\n",
      " 3   city        500 non-null    object\n",
      " 4   first_name  500 non-null    object\n",
      " 5   last_name   500 non-null    object\n",
      " 6   reg_date    500 non-null    object\n",
      " 7   tariff      500 non-null    object\n",
      "dtypes: int64(2), object(6)\n",
      "memory usage: 31.4+ KB\n"
     ]
    }
   ],
   "source": [
    "users.info()"
   ]
  },
  {
   "cell_type": "code",
   "execution_count": 9,
   "metadata": {},
   "outputs": [],
   "source": [
    "users['churn_date'] = users['churn_date'].fillna(value = '2030-01-01')"
   ]
  },
  {
   "cell_type": "code",
   "execution_count": 10,
   "metadata": {},
   "outputs": [
    {
     "name": "stdout",
     "output_type": "stream",
     "text": [
      "<class 'pandas.core.frame.DataFrame'>\n",
      "RangeIndex: 500 entries, 0 to 499\n",
      "Data columns (total 8 columns):\n",
      " #   Column      Non-Null Count  Dtype         \n",
      "---  ------      --------------  -----         \n",
      " 0   user_id     500 non-null    int64         \n",
      " 1   age         500 non-null    int64         \n",
      " 2   churn_date  500 non-null    datetime64[ns]\n",
      " 3   city        500 non-null    object        \n",
      " 4   first_name  500 non-null    object        \n",
      " 5   last_name   500 non-null    object        \n",
      " 6   reg_date    500 non-null    datetime64[ns]\n",
      " 7   tariff      500 non-null    object        \n",
      "dtypes: datetime64[ns](2), int64(2), object(4)\n",
      "memory usage: 31.4+ KB\n"
     ]
    }
   ],
   "source": [
    "users['churn_date'] = pd.to_datetime(users['churn_date'])\n",
    "users['reg_date'] = pd.to_datetime(users['reg_date'])\n",
    "users.info()"
   ]
  },
  {
   "cell_type": "markdown",
   "metadata": {},
   "source": [
    "- Есть пропущенные значения в столбце churn_date. Это значит, что тариф все ще подключен, так что я заменю эти пропуски на неправдоподобное число, чтобы в дальнейшем было удобнее."
   ]
  },
  {
   "cell_type": "code",
   "execution_count": 11,
   "metadata": {
    "scrolled": true
   },
   "outputs": [
    {
     "data": {
      "text/html": [
       "<div>\n",
       "<style scoped>\n",
       "    .dataframe tbody tr th:only-of-type {\n",
       "        vertical-align: middle;\n",
       "    }\n",
       "\n",
       "    .dataframe tbody tr th {\n",
       "        vertical-align: top;\n",
       "    }\n",
       "\n",
       "    .dataframe thead th {\n",
       "        text-align: right;\n",
       "    }\n",
       "</style>\n",
       "<table border=\"1\" class=\"dataframe\">\n",
       "  <thead>\n",
       "    <tr style=\"text-align: right;\">\n",
       "      <th></th>\n",
       "      <th>id</th>\n",
       "      <th>message_date</th>\n",
       "      <th>user_id</th>\n",
       "    </tr>\n",
       "  </thead>\n",
       "  <tbody>\n",
       "    <tr>\n",
       "      <th>0</th>\n",
       "      <td>1000_0</td>\n",
       "      <td>2018-06-27</td>\n",
       "      <td>1000</td>\n",
       "    </tr>\n",
       "    <tr>\n",
       "      <th>1</th>\n",
       "      <td>1000_1</td>\n",
       "      <td>2018-10-08</td>\n",
       "      <td>1000</td>\n",
       "    </tr>\n",
       "    <tr>\n",
       "      <th>2</th>\n",
       "      <td>1000_2</td>\n",
       "      <td>2018-08-04</td>\n",
       "      <td>1000</td>\n",
       "    </tr>\n",
       "    <tr>\n",
       "      <th>3</th>\n",
       "      <td>1000_3</td>\n",
       "      <td>2018-06-16</td>\n",
       "      <td>1000</td>\n",
       "    </tr>\n",
       "    <tr>\n",
       "      <th>4</th>\n",
       "      <td>1000_4</td>\n",
       "      <td>2018-12-05</td>\n",
       "      <td>1000</td>\n",
       "    </tr>\n",
       "  </tbody>\n",
       "</table>\n",
       "</div>"
      ],
      "text/plain": [
       "       id message_date  user_id\n",
       "0  1000_0   2018-06-27     1000\n",
       "1  1000_1   2018-10-08     1000\n",
       "2  1000_2   2018-08-04     1000\n",
       "3  1000_3   2018-06-16     1000\n",
       "4  1000_4   2018-12-05     1000"
      ]
     },
     "execution_count": 11,
     "metadata": {},
     "output_type": "execute_result"
    }
   ],
   "source": [
    "# messages = pd.read_csv('/Users/dianamini/Developer/Data/messages.csv')\n",
    "# messages.head()"
   ]
  },
  {
   "cell_type": "code",
   "execution_count": 12,
   "metadata": {},
   "outputs": [
    {
     "data": {
      "text/plain": [
       "id              0\n",
       "message_date    0\n",
       "user_id         0\n",
       "dtype: int64"
      ]
     },
     "execution_count": 12,
     "metadata": {},
     "output_type": "execute_result"
    }
   ],
   "source": [
    "messages.isna().sum()"
   ]
  },
  {
   "cell_type": "code",
   "execution_count": 13,
   "metadata": {
    "scrolled": false
   },
   "outputs": [
    {
     "name": "stdout",
     "output_type": "stream",
     "text": [
      "<class 'pandas.core.frame.DataFrame'>\n",
      "RangeIndex: 123036 entries, 0 to 123035\n",
      "Data columns (total 3 columns):\n",
      " #   Column        Non-Null Count   Dtype \n",
      "---  ------        --------------   ----- \n",
      " 0   id            123036 non-null  object\n",
      " 1   message_date  123036 non-null  object\n",
      " 2   user_id       123036 non-null  int64 \n",
      "dtypes: int64(1), object(2)\n",
      "memory usage: 2.8+ MB\n"
     ]
    }
   ],
   "source": [
    "messages.info()"
   ]
  },
  {
   "cell_type": "code",
   "execution_count": 14,
   "metadata": {},
   "outputs": [
    {
     "name": "stdout",
     "output_type": "stream",
     "text": [
      "<class 'pandas.core.frame.DataFrame'>\n",
      "RangeIndex: 123036 entries, 0 to 123035\n",
      "Data columns (total 3 columns):\n",
      " #   Column        Non-Null Count   Dtype         \n",
      "---  ------        --------------   -----         \n",
      " 0   id            123036 non-null  object        \n",
      " 1   message_date  123036 non-null  datetime64[ns]\n",
      " 2   user_id       123036 non-null  int64         \n",
      "dtypes: datetime64[ns](1), int64(1), object(1)\n",
      "memory usage: 2.8+ MB\n"
     ]
    }
   ],
   "source": [
    "messages['message_date'] = pd.to_datetime(messages['message_date'])\n",
    "messages.info()"
   ]
  },
  {
   "cell_type": "code",
   "execution_count": 15,
   "metadata": {
    "scrolled": true
   },
   "outputs": [
    {
     "data": {
      "text/html": [
       "<div>\n",
       "<style scoped>\n",
       "    .dataframe tbody tr th:only-of-type {\n",
       "        vertical-align: middle;\n",
       "    }\n",
       "\n",
       "    .dataframe tbody tr th {\n",
       "        vertical-align: top;\n",
       "    }\n",
       "\n",
       "    .dataframe thead th {\n",
       "        text-align: right;\n",
       "    }\n",
       "</style>\n",
       "<table border=\"1\" class=\"dataframe\">\n",
       "  <thead>\n",
       "    <tr style=\"text-align: right;\">\n",
       "      <th></th>\n",
       "      <th>Unnamed: 0</th>\n",
       "      <th>id</th>\n",
       "      <th>mb_used</th>\n",
       "      <th>session_date</th>\n",
       "      <th>user_id</th>\n",
       "    </tr>\n",
       "  </thead>\n",
       "  <tbody>\n",
       "    <tr>\n",
       "      <th>0</th>\n",
       "      <td>0</td>\n",
       "      <td>1000_0</td>\n",
       "      <td>112.95</td>\n",
       "      <td>2018-11-25</td>\n",
       "      <td>1000</td>\n",
       "    </tr>\n",
       "    <tr>\n",
       "      <th>1</th>\n",
       "      <td>1</td>\n",
       "      <td>1000_1</td>\n",
       "      <td>1052.81</td>\n",
       "      <td>2018-09-07</td>\n",
       "      <td>1000</td>\n",
       "    </tr>\n",
       "    <tr>\n",
       "      <th>2</th>\n",
       "      <td>2</td>\n",
       "      <td>1000_2</td>\n",
       "      <td>1197.26</td>\n",
       "      <td>2018-06-25</td>\n",
       "      <td>1000</td>\n",
       "    </tr>\n",
       "    <tr>\n",
       "      <th>3</th>\n",
       "      <td>3</td>\n",
       "      <td>1000_3</td>\n",
       "      <td>550.27</td>\n",
       "      <td>2018-08-22</td>\n",
       "      <td>1000</td>\n",
       "    </tr>\n",
       "    <tr>\n",
       "      <th>4</th>\n",
       "      <td>4</td>\n",
       "      <td>1000_4</td>\n",
       "      <td>302.56</td>\n",
       "      <td>2018-09-24</td>\n",
       "      <td>1000</td>\n",
       "    </tr>\n",
       "  </tbody>\n",
       "</table>\n",
       "</div>"
      ],
      "text/plain": [
       "   Unnamed: 0      id  mb_used session_date  user_id\n",
       "0           0  1000_0   112.95   2018-11-25     1000\n",
       "1           1  1000_1  1052.81   2018-09-07     1000\n",
       "2           2  1000_2  1197.26   2018-06-25     1000\n",
       "3           3  1000_3   550.27   2018-08-22     1000\n",
       "4           4  1000_4   302.56   2018-09-24     1000"
      ]
     },
     "execution_count": 15,
     "metadata": {},
     "output_type": "execute_result"
    }
   ],
   "source": [
    "# internet = pd.read_csv('/Users/dianamini/Developer/Data/internet.csv')\n",
    "# internet.head()"
   ]
  },
  {
   "cell_type": "code",
   "execution_count": 16,
   "metadata": {},
   "outputs": [
    {
     "data": {
      "text/plain": [
       "Unnamed: 0      0\n",
       "id              0\n",
       "mb_used         0\n",
       "session_date    0\n",
       "user_id         0\n",
       "dtype: int64"
      ]
     },
     "execution_count": 16,
     "metadata": {},
     "output_type": "execute_result"
    }
   ],
   "source": [
    "internet.isna().sum()"
   ]
  },
  {
   "cell_type": "code",
   "execution_count": 17,
   "metadata": {
    "scrolled": false
   },
   "outputs": [
    {
     "name": "stdout",
     "output_type": "stream",
     "text": [
      "<class 'pandas.core.frame.DataFrame'>\n",
      "RangeIndex: 149396 entries, 0 to 149395\n",
      "Data columns (total 5 columns):\n",
      " #   Column        Non-Null Count   Dtype  \n",
      "---  ------        --------------   -----  \n",
      " 0   Unnamed: 0    149396 non-null  int64  \n",
      " 1   id            149396 non-null  object \n",
      " 2   mb_used       149396 non-null  float64\n",
      " 3   session_date  149396 non-null  object \n",
      " 4   user_id       149396 non-null  int64  \n",
      "dtypes: float64(1), int64(2), object(2)\n",
      "memory usage: 5.7+ MB\n"
     ]
    }
   ],
   "source": [
    "internet.info()"
   ]
  },
  {
   "cell_type": "code",
   "execution_count": 18,
   "metadata": {},
   "outputs": [
    {
     "name": "stdout",
     "output_type": "stream",
     "text": [
      "<class 'pandas.core.frame.DataFrame'>\n",
      "RangeIndex: 149396 entries, 0 to 149395\n",
      "Data columns (total 5 columns):\n",
      " #   Column        Non-Null Count   Dtype         \n",
      "---  ------        --------------   -----         \n",
      " 0   Unnamed: 0    149396 non-null  int64         \n",
      " 1   id            149396 non-null  object        \n",
      " 2   mb_used       149396 non-null  float64       \n",
      " 3   session_date  149396 non-null  datetime64[ns]\n",
      " 4   user_id       149396 non-null  int64         \n",
      "dtypes: datetime64[ns](1), float64(1), int64(2), object(1)\n",
      "memory usage: 5.7+ MB\n"
     ]
    }
   ],
   "source": [
    "internet['session_date'] = pd.to_datetime(internet['session_date'])\n",
    "internet.info()"
   ]
  },
  {
   "cell_type": "code",
   "execution_count": 19,
   "metadata": {
    "scrolled": true
   },
   "outputs": [
    {
     "data": {
      "text/html": [
       "<div>\n",
       "<style scoped>\n",
       "    .dataframe tbody tr th:only-of-type {\n",
       "        vertical-align: middle;\n",
       "    }\n",
       "\n",
       "    .dataframe tbody tr th {\n",
       "        vertical-align: top;\n",
       "    }\n",
       "\n",
       "    .dataframe thead th {\n",
       "        text-align: right;\n",
       "    }\n",
       "</style>\n",
       "<table border=\"1\" class=\"dataframe\">\n",
       "  <thead>\n",
       "    <tr style=\"text-align: right;\">\n",
       "      <th></th>\n",
       "      <th>messages_included</th>\n",
       "      <th>mb_per_month_included</th>\n",
       "      <th>minutes_included</th>\n",
       "      <th>rub_monthly_fee</th>\n",
       "      <th>rub_per_gb</th>\n",
       "      <th>rub_per_message</th>\n",
       "      <th>rub_per_minute</th>\n",
       "      <th>tariff_name</th>\n",
       "    </tr>\n",
       "  </thead>\n",
       "  <tbody>\n",
       "    <tr>\n",
       "      <th>0</th>\n",
       "      <td>50</td>\n",
       "      <td>15360</td>\n",
       "      <td>500</td>\n",
       "      <td>550</td>\n",
       "      <td>200</td>\n",
       "      <td>3</td>\n",
       "      <td>3</td>\n",
       "      <td>smart</td>\n",
       "    </tr>\n",
       "    <tr>\n",
       "      <th>1</th>\n",
       "      <td>1000</td>\n",
       "      <td>30720</td>\n",
       "      <td>3000</td>\n",
       "      <td>1950</td>\n",
       "      <td>150</td>\n",
       "      <td>1</td>\n",
       "      <td>1</td>\n",
       "      <td>ultra</td>\n",
       "    </tr>\n",
       "  </tbody>\n",
       "</table>\n",
       "</div>"
      ],
      "text/plain": [
       "   messages_included  mb_per_month_included  minutes_included  \\\n",
       "0                 50                  15360               500   \n",
       "1               1000                  30720              3000   \n",
       "\n",
       "   rub_monthly_fee  rub_per_gb  rub_per_message  rub_per_minute tariff_name  \n",
       "0              550         200                3               3       smart  \n",
       "1             1950         150                1               1       ultra  "
      ]
     },
     "execution_count": 19,
     "metadata": {},
     "output_type": "execute_result"
    }
   ],
   "source": [
    "# tariffs = pd.read_csv('/Users/dianamini/Developer/Data/tariffs.csv')\n",
    "# tariffs"
   ]
  },
  {
   "cell_type": "code",
   "execution_count": 20,
   "metadata": {},
   "outputs": [
    {
     "data": {
      "text/html": [
       "<div>\n",
       "<style scoped>\n",
       "    .dataframe tbody tr th:only-of-type {\n",
       "        vertical-align: middle;\n",
       "    }\n",
       "\n",
       "    .dataframe tbody tr th {\n",
       "        vertical-align: top;\n",
       "    }\n",
       "\n",
       "    .dataframe thead th {\n",
       "        text-align: right;\n",
       "    }\n",
       "</style>\n",
       "<table border=\"1\" class=\"dataframe\">\n",
       "  <thead>\n",
       "    <tr style=\"text-align: right;\">\n",
       "      <th></th>\n",
       "      <th>messages_included</th>\n",
       "      <th>mb_per_month_included</th>\n",
       "      <th>minutes_included</th>\n",
       "      <th>rub_monthly_fee</th>\n",
       "      <th>rub_per_gb</th>\n",
       "      <th>rub_per_message</th>\n",
       "      <th>rub_per_minute</th>\n",
       "      <th>tariff_name</th>\n",
       "      <th>gb_per_month_included</th>\n",
       "    </tr>\n",
       "  </thead>\n",
       "  <tbody>\n",
       "    <tr>\n",
       "      <th>0</th>\n",
       "      <td>50</td>\n",
       "      <td>15360</td>\n",
       "      <td>500</td>\n",
       "      <td>550</td>\n",
       "      <td>200</td>\n",
       "      <td>3</td>\n",
       "      <td>3</td>\n",
       "      <td>smart</td>\n",
       "      <td>15.0</td>\n",
       "    </tr>\n",
       "    <tr>\n",
       "      <th>1</th>\n",
       "      <td>1000</td>\n",
       "      <td>30720</td>\n",
       "      <td>3000</td>\n",
       "      <td>1950</td>\n",
       "      <td>150</td>\n",
       "      <td>1</td>\n",
       "      <td>1</td>\n",
       "      <td>ultra</td>\n",
       "      <td>30.0</td>\n",
       "    </tr>\n",
       "  </tbody>\n",
       "</table>\n",
       "</div>"
      ],
      "text/plain": [
       "   messages_included  mb_per_month_included  minutes_included  \\\n",
       "0                 50                  15360               500   \n",
       "1               1000                  30720              3000   \n",
       "\n",
       "   rub_monthly_fee  rub_per_gb  rub_per_message  rub_per_minute tariff_name  \\\n",
       "0              550         200                3               3       smart   \n",
       "1             1950         150                1               1       ultra   \n",
       "\n",
       "   gb_per_month_included  \n",
       "0                   15.0  \n",
       "1                   30.0  "
      ]
     },
     "execution_count": 20,
     "metadata": {},
     "output_type": "execute_result"
    }
   ],
   "source": [
    "tariffs['gb_per_month_included'] = tariffs['mb_per_month_included'] / 1024\n",
    "tariffs"
   ]
  },
  {
   "cell_type": "code",
   "execution_count": 21,
   "metadata": {},
   "outputs": [
    {
     "name": "stdout",
     "output_type": "stream",
     "text": [
      "<class 'pandas.core.frame.DataFrame'>\n",
      "RangeIndex: 2 entries, 0 to 1\n",
      "Data columns (total 9 columns):\n",
      " #   Column                 Non-Null Count  Dtype  \n",
      "---  ------                 --------------  -----  \n",
      " 0   messages_included      2 non-null      int64  \n",
      " 1   mb_per_month_included  2 non-null      int64  \n",
      " 2   minutes_included       2 non-null      int64  \n",
      " 3   rub_monthly_fee        2 non-null      int64  \n",
      " 4   rub_per_gb             2 non-null      int64  \n",
      " 5   rub_per_message        2 non-null      int64  \n",
      " 6   rub_per_minute         2 non-null      int64  \n",
      " 7   tariff_name            2 non-null      object \n",
      " 8   gb_per_month_included  2 non-null      float64\n",
      "dtypes: float64(1), int64(7), object(1)\n",
      "memory usage: 272.0+ bytes\n"
     ]
    }
   ],
   "source": [
    "tariffs.info()"
   ]
  },
  {
   "cell_type": "markdown",
   "metadata": {},
   "source": [
    "#### Вывод"
   ]
  },
  {
   "cell_type": "markdown",
   "metadata": {},
   "source": [
    "- Во всех таблицах, кроме tariffs, в столбцах с датами заменила типы данных с object на  datetime\n",
    "- В таблице users в столбце churn_date заменила пропущенные значения на 2030-01-01, в дальнейшем я буду знать, что это еще действующие подключения на тариф."
   ]
  },
  {
   "cell_type": "markdown",
   "metadata": {},
   "source": [
    "## Объединение таблиц"
   ]
  },
  {
   "cell_type": "markdown",
   "metadata": {},
   "source": [
    "Для начала сгруппирую данные в таблицах calls, messages и internet отдельно по месяцам и user_id"
   ]
  },
  {
   "cell_type": "code",
   "execution_count": 22,
   "metadata": {},
   "outputs": [],
   "source": [
    "calls['month'] = calls['call_date'].dt.month\n",
    "messages['month'] = messages['message_date'].dt.month\n",
    "internet['month'] = internet['session_date'].dt.month"
   ]
  },
  {
   "cell_type": "code",
   "execution_count": 23,
   "metadata": {},
   "outputs": [],
   "source": [
    "calls = calls.drop(['call_date'], axis=1)"
   ]
  },
  {
   "cell_type": "code",
   "execution_count": 24,
   "metadata": {},
   "outputs": [],
   "source": [
    "messages = messages.drop(['message_date'], axis=1)"
   ]
  },
  {
   "cell_type": "code",
   "execution_count": 25,
   "metadata": {},
   "outputs": [
    {
     "data": {
      "text/html": [
       "<div>\n",
       "<style scoped>\n",
       "    .dataframe tbody tr th:only-of-type {\n",
       "        vertical-align: middle;\n",
       "    }\n",
       "\n",
       "    .dataframe tbody tr th {\n",
       "        vertical-align: top;\n",
       "    }\n",
       "\n",
       "    .dataframe thead th {\n",
       "        text-align: right;\n",
       "    }\n",
       "</style>\n",
       "<table border=\"1\" class=\"dataframe\">\n",
       "  <thead>\n",
       "    <tr style=\"text-align: right;\">\n",
       "      <th></th>\n",
       "      <th>user_id</th>\n",
       "      <th>month</th>\n",
       "      <th>duration</th>\n",
       "      <th>calls_count</th>\n",
       "    </tr>\n",
       "  </thead>\n",
       "  <tbody>\n",
       "    <tr>\n",
       "      <th>0</th>\n",
       "      <td>1000</td>\n",
       "      <td>5</td>\n",
       "      <td>0.00</td>\n",
       "      <td>5</td>\n",
       "    </tr>\n",
       "    <tr>\n",
       "      <th>1</th>\n",
       "      <td>1000</td>\n",
       "      <td>5</td>\n",
       "      <td>0.33</td>\n",
       "      <td>1</td>\n",
       "    </tr>\n",
       "    <tr>\n",
       "      <th>2</th>\n",
       "      <td>1000</td>\n",
       "      <td>5</td>\n",
       "      <td>1.91</td>\n",
       "      <td>1</td>\n",
       "    </tr>\n",
       "    <tr>\n",
       "      <th>3</th>\n",
       "      <td>1000</td>\n",
       "      <td>5</td>\n",
       "      <td>3.43</td>\n",
       "      <td>1</td>\n",
       "    </tr>\n",
       "    <tr>\n",
       "      <th>4</th>\n",
       "      <td>1000</td>\n",
       "      <td>5</td>\n",
       "      <td>4.19</td>\n",
       "      <td>1</td>\n",
       "    </tr>\n",
       "  </tbody>\n",
       "</table>\n",
       "</div>"
      ],
      "text/plain": [
       "   user_id  month  duration  calls_count\n",
       "0     1000      5      0.00            5\n",
       "1     1000      5      0.33            1\n",
       "2     1000      5      1.91            1\n",
       "3     1000      5      3.43            1\n",
       "4     1000      5      4.19            1"
      ]
     },
     "execution_count": 25,
     "metadata": {},
     "output_type": "execute_result"
    }
   ],
   "source": [
    "calls_by_month = calls.groupby(['user_id', 'month', 'id'])['duration'].sum()\n",
    "calls_by_month = calls.groupby(['user_id', 'month', 'duration'])['id'].count()\n",
    "calls_by_month = calls_by_month.to_frame().reset_index()\n",
    "calls_by_month['calls_count'] = calls_by_month['id']\n",
    "calls_by_month = calls_by_month.drop(['id'], axis = 1)\n",
    "calls_by_month.head()"
   ]
  },
  {
   "cell_type": "code",
   "execution_count": 26,
   "metadata": {},
   "outputs": [
    {
     "data": {
      "text/html": [
       "<div>\n",
       "<style scoped>\n",
       "    .dataframe tbody tr th:only-of-type {\n",
       "        vertical-align: middle;\n",
       "    }\n",
       "\n",
       "    .dataframe tbody tr th {\n",
       "        vertical-align: top;\n",
       "    }\n",
       "\n",
       "    .dataframe thead th {\n",
       "        text-align: right;\n",
       "    }\n",
       "</style>\n",
       "<table border=\"1\" class=\"dataframe\">\n",
       "  <thead>\n",
       "    <tr style=\"text-align: right;\">\n",
       "      <th></th>\n",
       "      <th>user_id</th>\n",
       "      <th>month</th>\n",
       "      <th>messages_count</th>\n",
       "    </tr>\n",
       "  </thead>\n",
       "  <tbody>\n",
       "    <tr>\n",
       "      <th>0</th>\n",
       "      <td>1000</td>\n",
       "      <td>5</td>\n",
       "      <td>22</td>\n",
       "    </tr>\n",
       "    <tr>\n",
       "      <th>1</th>\n",
       "      <td>1000</td>\n",
       "      <td>6</td>\n",
       "      <td>60</td>\n",
       "    </tr>\n",
       "    <tr>\n",
       "      <th>2</th>\n",
       "      <td>1000</td>\n",
       "      <td>7</td>\n",
       "      <td>75</td>\n",
       "    </tr>\n",
       "    <tr>\n",
       "      <th>3</th>\n",
       "      <td>1000</td>\n",
       "      <td>8</td>\n",
       "      <td>81</td>\n",
       "    </tr>\n",
       "    <tr>\n",
       "      <th>4</th>\n",
       "      <td>1000</td>\n",
       "      <td>9</td>\n",
       "      <td>57</td>\n",
       "    </tr>\n",
       "  </tbody>\n",
       "</table>\n",
       "</div>"
      ],
      "text/plain": [
       "   user_id  month  messages_count\n",
       "0     1000      5              22\n",
       "1     1000      6              60\n",
       "2     1000      7              75\n",
       "3     1000      8              81\n",
       "4     1000      9              57"
      ]
     },
     "execution_count": 26,
     "metadata": {},
     "output_type": "execute_result"
    }
   ],
   "source": [
    "messages_sum = messages.groupby(['user_id', 'month'])['id'].count()\n",
    "messages_by_month = messages_sum.to_frame().reset_index()\n",
    "messages_by_month['messages_count'] = messages_by_month['id']\n",
    "messages_by_month = messages_by_month.drop(['id'], axis = 1)\n",
    "messages_by_month.head()"
   ]
  },
  {
   "cell_type": "code",
   "execution_count": 27,
   "metadata": {
    "scrolled": true
   },
   "outputs": [
    {
     "data": {
      "text/html": [
       "<div>\n",
       "<style scoped>\n",
       "    .dataframe tbody tr th:only-of-type {\n",
       "        vertical-align: middle;\n",
       "    }\n",
       "\n",
       "    .dataframe tbody tr th {\n",
       "        vertical-align: top;\n",
       "    }\n",
       "\n",
       "    .dataframe thead th {\n",
       "        text-align: right;\n",
       "    }\n",
       "</style>\n",
       "<table border=\"1\" class=\"dataframe\">\n",
       "  <thead>\n",
       "    <tr style=\"text-align: right;\">\n",
       "      <th></th>\n",
       "      <th>user_id</th>\n",
       "      <th>month</th>\n",
       "      <th>mb_used</th>\n",
       "    </tr>\n",
       "  </thead>\n",
       "  <tbody>\n",
       "    <tr>\n",
       "      <th>0</th>\n",
       "      <td>1000</td>\n",
       "      <td>5</td>\n",
       "      <td>2253.49</td>\n",
       "    </tr>\n",
       "    <tr>\n",
       "      <th>1</th>\n",
       "      <td>1000</td>\n",
       "      <td>6</td>\n",
       "      <td>23233.77</td>\n",
       "    </tr>\n",
       "    <tr>\n",
       "      <th>2</th>\n",
       "      <td>1000</td>\n",
       "      <td>7</td>\n",
       "      <td>14003.64</td>\n",
       "    </tr>\n",
       "    <tr>\n",
       "      <th>3</th>\n",
       "      <td>1000</td>\n",
       "      <td>8</td>\n",
       "      <td>14055.93</td>\n",
       "    </tr>\n",
       "    <tr>\n",
       "      <th>4</th>\n",
       "      <td>1000</td>\n",
       "      <td>9</td>\n",
       "      <td>14568.91</td>\n",
       "    </tr>\n",
       "  </tbody>\n",
       "</table>\n",
       "</div>"
      ],
      "text/plain": [
       "   user_id  month   mb_used\n",
       "0     1000      5   2253.49\n",
       "1     1000      6  23233.77\n",
       "2     1000      7  14003.64\n",
       "3     1000      8  14055.93\n",
       "4     1000      9  14568.91"
      ]
     },
     "execution_count": 27,
     "metadata": {},
     "output_type": "execute_result"
    }
   ],
   "source": [
    "internet = internet.groupby(['user_id', 'month'])['mb_used'].sum()\n",
    "internet_by_month = internet.to_frame().reset_index()\n",
    "internet_by_month.head()"
   ]
  },
  {
   "cell_type": "code",
   "execution_count": 28,
   "metadata": {},
   "outputs": [
    {
     "data": {
      "text/html": [
       "<div>\n",
       "<style scoped>\n",
       "    .dataframe tbody tr th:only-of-type {\n",
       "        vertical-align: middle;\n",
       "    }\n",
       "\n",
       "    .dataframe tbody tr th {\n",
       "        vertical-align: top;\n",
       "    }\n",
       "\n",
       "    .dataframe thead th {\n",
       "        text-align: right;\n",
       "    }\n",
       "</style>\n",
       "<table border=\"1\" class=\"dataframe\">\n",
       "  <thead>\n",
       "    <tr style=\"text-align: right;\">\n",
       "      <th></th>\n",
       "      <th>user_id</th>\n",
       "      <th>tariff</th>\n",
       "    </tr>\n",
       "  </thead>\n",
       "  <tbody>\n",
       "    <tr>\n",
       "      <th>0</th>\n",
       "      <td>1000</td>\n",
       "      <td>ultra</td>\n",
       "    </tr>\n",
       "    <tr>\n",
       "      <th>1</th>\n",
       "      <td>1001</td>\n",
       "      <td>smart</td>\n",
       "    </tr>\n",
       "    <tr>\n",
       "      <th>2</th>\n",
       "      <td>1002</td>\n",
       "      <td>smart</td>\n",
       "    </tr>\n",
       "    <tr>\n",
       "      <th>3</th>\n",
       "      <td>1003</td>\n",
       "      <td>ultra</td>\n",
       "    </tr>\n",
       "    <tr>\n",
       "      <th>4</th>\n",
       "      <td>1004</td>\n",
       "      <td>ultra</td>\n",
       "    </tr>\n",
       "  </tbody>\n",
       "</table>\n",
       "</div>"
      ],
      "text/plain": [
       "   user_id tariff\n",
       "0     1000  ultra\n",
       "1     1001  smart\n",
       "2     1002  smart\n",
       "3     1003  ultra\n",
       "4     1004  ultra"
      ]
     },
     "execution_count": 28,
     "metadata": {},
     "output_type": "execute_result"
    }
   ],
   "source": [
    "users_tariff = users.groupby('user_id')['tariff'].sum()\n",
    "users_tariff = users_tariff.to_frame().reset_index()\n",
    "users_tariff.head()"
   ]
  },
  {
   "cell_type": "code",
   "execution_count": 29,
   "metadata": {},
   "outputs": [
    {
     "data": {
      "text/html": [
       "<div>\n",
       "<style scoped>\n",
       "    .dataframe tbody tr th:only-of-type {\n",
       "        vertical-align: middle;\n",
       "    }\n",
       "\n",
       "    .dataframe tbody tr th {\n",
       "        vertical-align: top;\n",
       "    }\n",
       "\n",
       "    .dataframe thead th {\n",
       "        text-align: right;\n",
       "    }\n",
       "</style>\n",
       "<table border=\"1\" class=\"dataframe\">\n",
       "  <thead>\n",
       "    <tr style=\"text-align: right;\">\n",
       "      <th></th>\n",
       "      <th>user_id</th>\n",
       "      <th>month</th>\n",
       "      <th>calls_count</th>\n",
       "      <th>duration</th>\n",
       "      <th>mb_used</th>\n",
       "      <th>messages_count</th>\n",
       "      <th>age</th>\n",
       "      <th>churn_date</th>\n",
       "      <th>city</th>\n",
       "      <th>first_name</th>\n",
       "      <th>last_name</th>\n",
       "      <th>reg_date</th>\n",
       "      <th>tariff</th>\n",
       "    </tr>\n",
       "  </thead>\n",
       "  <tbody>\n",
       "    <tr>\n",
       "      <th>0</th>\n",
       "      <td>1000</td>\n",
       "      <td>5.0</td>\n",
       "      <td>22.0</td>\n",
       "      <td>150.06</td>\n",
       "      <td>2253.49</td>\n",
       "      <td>22.0</td>\n",
       "      <td>52</td>\n",
       "      <td>2030-01-01</td>\n",
       "      <td>Краснодар</td>\n",
       "      <td>Рафаил</td>\n",
       "      <td>Верещагин</td>\n",
       "      <td>2018-05-25</td>\n",
       "      <td>ultra</td>\n",
       "    </tr>\n",
       "    <tr>\n",
       "      <th>1</th>\n",
       "      <td>1000</td>\n",
       "      <td>6.0</td>\n",
       "      <td>43.0</td>\n",
       "      <td>158.90</td>\n",
       "      <td>23233.77</td>\n",
       "      <td>60.0</td>\n",
       "      <td>52</td>\n",
       "      <td>2030-01-01</td>\n",
       "      <td>Краснодар</td>\n",
       "      <td>Рафаил</td>\n",
       "      <td>Верещагин</td>\n",
       "      <td>2018-05-25</td>\n",
       "      <td>ultra</td>\n",
       "    </tr>\n",
       "    <tr>\n",
       "      <th>2</th>\n",
       "      <td>1000</td>\n",
       "      <td>7.0</td>\n",
       "      <td>47.0</td>\n",
       "      <td>317.35</td>\n",
       "      <td>14003.64</td>\n",
       "      <td>75.0</td>\n",
       "      <td>52</td>\n",
       "      <td>2030-01-01</td>\n",
       "      <td>Краснодар</td>\n",
       "      <td>Рафаил</td>\n",
       "      <td>Верещагин</td>\n",
       "      <td>2018-05-25</td>\n",
       "      <td>ultra</td>\n",
       "    </tr>\n",
       "    <tr>\n",
       "      <th>3</th>\n",
       "      <td>1000</td>\n",
       "      <td>8.0</td>\n",
       "      <td>52.0</td>\n",
       "      <td>389.87</td>\n",
       "      <td>14055.93</td>\n",
       "      <td>81.0</td>\n",
       "      <td>52</td>\n",
       "      <td>2030-01-01</td>\n",
       "      <td>Краснодар</td>\n",
       "      <td>Рафаил</td>\n",
       "      <td>Верещагин</td>\n",
       "      <td>2018-05-25</td>\n",
       "      <td>ultra</td>\n",
       "    </tr>\n",
       "    <tr>\n",
       "      <th>4</th>\n",
       "      <td>1000</td>\n",
       "      <td>9.0</td>\n",
       "      <td>58.0</td>\n",
       "      <td>431.77</td>\n",
       "      <td>14568.91</td>\n",
       "      <td>57.0</td>\n",
       "      <td>52</td>\n",
       "      <td>2030-01-01</td>\n",
       "      <td>Краснодар</td>\n",
       "      <td>Рафаил</td>\n",
       "      <td>Верещагин</td>\n",
       "      <td>2018-05-25</td>\n",
       "      <td>ultra</td>\n",
       "    </tr>\n",
       "    <tr>\n",
       "      <th>...</th>\n",
       "      <td>...</td>\n",
       "      <td>...</td>\n",
       "      <td>...</td>\n",
       "      <td>...</td>\n",
       "      <td>...</td>\n",
       "      <td>...</td>\n",
       "      <td>...</td>\n",
       "      <td>...</td>\n",
       "      <td>...</td>\n",
       "      <td>...</td>\n",
       "      <td>...</td>\n",
       "      <td>...</td>\n",
       "      <td>...</td>\n",
       "    </tr>\n",
       "    <tr>\n",
       "      <th>3211</th>\n",
       "      <td>1489</td>\n",
       "      <td>10.0</td>\n",
       "      <td>0.0</td>\n",
       "      <td>0.00</td>\n",
       "      <td>19559.44</td>\n",
       "      <td>21.0</td>\n",
       "      <td>35</td>\n",
       "      <td>2030-01-01</td>\n",
       "      <td>Санкт-Петербург</td>\n",
       "      <td>Павел</td>\n",
       "      <td>Гончаров</td>\n",
       "      <td>2018-08-15</td>\n",
       "      <td>smart</td>\n",
       "    </tr>\n",
       "    <tr>\n",
       "      <th>3212</th>\n",
       "      <td>1489</td>\n",
       "      <td>11.0</td>\n",
       "      <td>0.0</td>\n",
       "      <td>0.00</td>\n",
       "      <td>17491.56</td>\n",
       "      <td>20.0</td>\n",
       "      <td>35</td>\n",
       "      <td>2030-01-01</td>\n",
       "      <td>Санкт-Петербург</td>\n",
       "      <td>Павел</td>\n",
       "      <td>Гончаров</td>\n",
       "      <td>2018-08-15</td>\n",
       "      <td>smart</td>\n",
       "    </tr>\n",
       "    <tr>\n",
       "      <th>3213</th>\n",
       "      <td>1489</td>\n",
       "      <td>12.0</td>\n",
       "      <td>0.0</td>\n",
       "      <td>0.00</td>\n",
       "      <td>17322.51</td>\n",
       "      <td>35.0</td>\n",
       "      <td>35</td>\n",
       "      <td>2030-01-01</td>\n",
       "      <td>Санкт-Петербург</td>\n",
       "      <td>Павел</td>\n",
       "      <td>Гончаров</td>\n",
       "      <td>2018-08-15</td>\n",
       "      <td>smart</td>\n",
       "    </tr>\n",
       "    <tr>\n",
       "      <th>3214</th>\n",
       "      <td>1128</td>\n",
       "      <td>-1.0</td>\n",
       "      <td>0.0</td>\n",
       "      <td>0.00</td>\n",
       "      <td>0.00</td>\n",
       "      <td>0.0</td>\n",
       "      <td>51</td>\n",
       "      <td>2018-12-23</td>\n",
       "      <td>Волжский</td>\n",
       "      <td>Ксения</td>\n",
       "      <td>Агаева</td>\n",
       "      <td>2018-12-15</td>\n",
       "      <td>ultra</td>\n",
       "    </tr>\n",
       "    <tr>\n",
       "      <th>3215</th>\n",
       "      <td>1371</td>\n",
       "      <td>-1.0</td>\n",
       "      <td>0.0</td>\n",
       "      <td>0.00</td>\n",
       "      <td>0.00</td>\n",
       "      <td>0.0</td>\n",
       "      <td>50</td>\n",
       "      <td>2018-12-30</td>\n",
       "      <td>Омск</td>\n",
       "      <td>Ириней</td>\n",
       "      <td>Трофимов</td>\n",
       "      <td>2018-12-25</td>\n",
       "      <td>smart</td>\n",
       "    </tr>\n",
       "  </tbody>\n",
       "</table>\n",
       "<p>3216 rows × 13 columns</p>\n",
       "</div>"
      ],
      "text/plain": [
       "      user_id  month  calls_count  duration   mb_used  messages_count  age  \\\n",
       "0        1000    5.0         22.0    150.06   2253.49            22.0   52   \n",
       "1        1000    6.0         43.0    158.90  23233.77            60.0   52   \n",
       "2        1000    7.0         47.0    317.35  14003.64            75.0   52   \n",
       "3        1000    8.0         52.0    389.87  14055.93            81.0   52   \n",
       "4        1000    9.0         58.0    431.77  14568.91            57.0   52   \n",
       "...       ...    ...          ...       ...       ...             ...  ...   \n",
       "3211     1489   10.0          0.0      0.00  19559.44            21.0   35   \n",
       "3212     1489   11.0          0.0      0.00  17491.56            20.0   35   \n",
       "3213     1489   12.0          0.0      0.00  17322.51            35.0   35   \n",
       "3214     1128   -1.0          0.0      0.00      0.00             0.0   51   \n",
       "3215     1371   -1.0          0.0      0.00      0.00             0.0   50   \n",
       "\n",
       "     churn_date             city first_name  last_name   reg_date tariff  \n",
       "0    2030-01-01        Краснодар     Рафаил  Верещагин 2018-05-25  ultra  \n",
       "1    2030-01-01        Краснодар     Рафаил  Верещагин 2018-05-25  ultra  \n",
       "2    2030-01-01        Краснодар     Рафаил  Верещагин 2018-05-25  ultra  \n",
       "3    2030-01-01        Краснодар     Рафаил  Верещагин 2018-05-25  ultra  \n",
       "4    2030-01-01        Краснодар     Рафаил  Верещагин 2018-05-25  ultra  \n",
       "...         ...              ...        ...        ...        ...    ...  \n",
       "3211 2030-01-01  Санкт-Петербург      Павел   Гончаров 2018-08-15  smart  \n",
       "3212 2030-01-01  Санкт-Петербург      Павел   Гончаров 2018-08-15  smart  \n",
       "3213 2030-01-01  Санкт-Петербург      Павел   Гончаров 2018-08-15  smart  \n",
       "3214 2018-12-23         Волжский     Ксения     Агаева 2018-12-15  ultra  \n",
       "3215 2018-12-30             Омск     Ириней   Трофимов 2018-12-25  smart  \n",
       "\n",
       "[3216 rows x 13 columns]"
      ]
     },
     "execution_count": 29,
     "metadata": {},
     "output_type": "execute_result"
    }
   ],
   "source": [
    "calls_pivot = pd.pivot_table(calls_by_month, values=['duration', 'calls_count'], index=['user_id', 'month'], aggfunc=sum).reset_index()\n",
    "messages_pivot = pd.pivot_table(messages_by_month, values=['messages_count'], index=['user_id', 'month'], aggfunc=sum)\n",
    "internet_pivot = internet_by_month.set_index(['user_id', 'month'])\n",
    "\n",
    "users_pivot = users.set_index('user_id')\n",
    "\n",
    "calls_messages_internet = pd.merge(calls_pivot, internet_pivot, on=['user_id', 'month'], how=\"outer\")\n",
    "calls_messages_internet = pd.merge(calls_messages_internet, messages_pivot, on=['user_id', 'month'], how='outer')\n",
    "calls_messages_internet = pd.merge(calls_messages_internet, users_pivot, on='user_id', how='outer')\n",
    "calls_messages_internet = calls_messages_internet.fillna({'month':-1,\n",
    "                                                          'messages_count': 0,\n",
    "                                                          'calls_count': 0,\n",
    "                                                          'duration': 0,\n",
    "                                                          'mb_used': 0\n",
    "                                                         })\n",
    "calls_messages_internet"
   ]
  },
  {
   "cell_type": "code",
   "execution_count": 30,
   "metadata": {},
   "outputs": [
    {
     "data": {
      "text/plain": [
       "500"
      ]
     },
     "execution_count": 30,
     "metadata": {},
     "output_type": "execute_result"
    }
   ],
   "source": [
    "len(calls_messages_internet.reset_index()['user_id'].unique())"
   ]
  },
  {
   "cell_type": "code",
   "execution_count": 31,
   "metadata": {},
   "outputs": [
    {
     "data": {
      "text/html": [
       "<div>\n",
       "<style scoped>\n",
       "    .dataframe tbody tr th:only-of-type {\n",
       "        vertical-align: middle;\n",
       "    }\n",
       "\n",
       "    .dataframe tbody tr th {\n",
       "        vertical-align: top;\n",
       "    }\n",
       "\n",
       "    .dataframe thead th {\n",
       "        text-align: right;\n",
       "    }\n",
       "</style>\n",
       "<table border=\"1\" class=\"dataframe\">\n",
       "  <thead>\n",
       "    <tr style=\"text-align: right;\">\n",
       "      <th></th>\n",
       "      <th>user_id</th>\n",
       "      <th>month</th>\n",
       "      <th>calls_count</th>\n",
       "      <th>duration</th>\n",
       "      <th>mb_used</th>\n",
       "      <th>messages_count</th>\n",
       "      <th>age</th>\n",
       "      <th>churn_date</th>\n",
       "      <th>city</th>\n",
       "      <th>first_name</th>\n",
       "      <th>last_name</th>\n",
       "      <th>reg_date</th>\n",
       "      <th>tariff</th>\n",
       "      <th>gb_used</th>\n",
       "    </tr>\n",
       "  </thead>\n",
       "  <tbody>\n",
       "    <tr>\n",
       "      <th>0</th>\n",
       "      <td>1000</td>\n",
       "      <td>5.0</td>\n",
       "      <td>22.0</td>\n",
       "      <td>150.06</td>\n",
       "      <td>2253.49</td>\n",
       "      <td>22.0</td>\n",
       "      <td>52</td>\n",
       "      <td>2030-01-01</td>\n",
       "      <td>Краснодар</td>\n",
       "      <td>Рафаил</td>\n",
       "      <td>Верещагин</td>\n",
       "      <td>2018-05-25</td>\n",
       "      <td>ultra</td>\n",
       "      <td>2.200674</td>\n",
       "    </tr>\n",
       "    <tr>\n",
       "      <th>1</th>\n",
       "      <td>1000</td>\n",
       "      <td>6.0</td>\n",
       "      <td>43.0</td>\n",
       "      <td>158.90</td>\n",
       "      <td>23233.77</td>\n",
       "      <td>60.0</td>\n",
       "      <td>52</td>\n",
       "      <td>2030-01-01</td>\n",
       "      <td>Краснодар</td>\n",
       "      <td>Рафаил</td>\n",
       "      <td>Верещагин</td>\n",
       "      <td>2018-05-25</td>\n",
       "      <td>ultra</td>\n",
       "      <td>22.689229</td>\n",
       "    </tr>\n",
       "    <tr>\n",
       "      <th>2</th>\n",
       "      <td>1000</td>\n",
       "      <td>7.0</td>\n",
       "      <td>47.0</td>\n",
       "      <td>317.35</td>\n",
       "      <td>14003.64</td>\n",
       "      <td>75.0</td>\n",
       "      <td>52</td>\n",
       "      <td>2030-01-01</td>\n",
       "      <td>Краснодар</td>\n",
       "      <td>Рафаил</td>\n",
       "      <td>Верещагин</td>\n",
       "      <td>2018-05-25</td>\n",
       "      <td>ultra</td>\n",
       "      <td>13.675430</td>\n",
       "    </tr>\n",
       "    <tr>\n",
       "      <th>3</th>\n",
       "      <td>1000</td>\n",
       "      <td>8.0</td>\n",
       "      <td>52.0</td>\n",
       "      <td>389.87</td>\n",
       "      <td>14055.93</td>\n",
       "      <td>81.0</td>\n",
       "      <td>52</td>\n",
       "      <td>2030-01-01</td>\n",
       "      <td>Краснодар</td>\n",
       "      <td>Рафаил</td>\n",
       "      <td>Верещагин</td>\n",
       "      <td>2018-05-25</td>\n",
       "      <td>ultra</td>\n",
       "      <td>13.726494</td>\n",
       "    </tr>\n",
       "    <tr>\n",
       "      <th>4</th>\n",
       "      <td>1000</td>\n",
       "      <td>9.0</td>\n",
       "      <td>58.0</td>\n",
       "      <td>431.77</td>\n",
       "      <td>14568.91</td>\n",
       "      <td>57.0</td>\n",
       "      <td>52</td>\n",
       "      <td>2030-01-01</td>\n",
       "      <td>Краснодар</td>\n",
       "      <td>Рафаил</td>\n",
       "      <td>Верещагин</td>\n",
       "      <td>2018-05-25</td>\n",
       "      <td>ultra</td>\n",
       "      <td>14.227451</td>\n",
       "    </tr>\n",
       "    <tr>\n",
       "      <th>...</th>\n",
       "      <td>...</td>\n",
       "      <td>...</td>\n",
       "      <td>...</td>\n",
       "      <td>...</td>\n",
       "      <td>...</td>\n",
       "      <td>...</td>\n",
       "      <td>...</td>\n",
       "      <td>...</td>\n",
       "      <td>...</td>\n",
       "      <td>...</td>\n",
       "      <td>...</td>\n",
       "      <td>...</td>\n",
       "      <td>...</td>\n",
       "      <td>...</td>\n",
       "    </tr>\n",
       "    <tr>\n",
       "      <th>3211</th>\n",
       "      <td>1489</td>\n",
       "      <td>10.0</td>\n",
       "      <td>0.0</td>\n",
       "      <td>0.00</td>\n",
       "      <td>19559.44</td>\n",
       "      <td>21.0</td>\n",
       "      <td>35</td>\n",
       "      <td>2030-01-01</td>\n",
       "      <td>Санкт-Петербург</td>\n",
       "      <td>Павел</td>\n",
       "      <td>Гончаров</td>\n",
       "      <td>2018-08-15</td>\n",
       "      <td>smart</td>\n",
       "      <td>19.101016</td>\n",
       "    </tr>\n",
       "    <tr>\n",
       "      <th>3212</th>\n",
       "      <td>1489</td>\n",
       "      <td>11.0</td>\n",
       "      <td>0.0</td>\n",
       "      <td>0.00</td>\n",
       "      <td>17491.56</td>\n",
       "      <td>20.0</td>\n",
       "      <td>35</td>\n",
       "      <td>2030-01-01</td>\n",
       "      <td>Санкт-Петербург</td>\n",
       "      <td>Павел</td>\n",
       "      <td>Гончаров</td>\n",
       "      <td>2018-08-15</td>\n",
       "      <td>smart</td>\n",
       "      <td>17.081602</td>\n",
       "    </tr>\n",
       "    <tr>\n",
       "      <th>3213</th>\n",
       "      <td>1489</td>\n",
       "      <td>12.0</td>\n",
       "      <td>0.0</td>\n",
       "      <td>0.00</td>\n",
       "      <td>17322.51</td>\n",
       "      <td>35.0</td>\n",
       "      <td>35</td>\n",
       "      <td>2030-01-01</td>\n",
       "      <td>Санкт-Петербург</td>\n",
       "      <td>Павел</td>\n",
       "      <td>Гончаров</td>\n",
       "      <td>2018-08-15</td>\n",
       "      <td>smart</td>\n",
       "      <td>16.916514</td>\n",
       "    </tr>\n",
       "    <tr>\n",
       "      <th>3214</th>\n",
       "      <td>1128</td>\n",
       "      <td>-1.0</td>\n",
       "      <td>0.0</td>\n",
       "      <td>0.00</td>\n",
       "      <td>0.00</td>\n",
       "      <td>0.0</td>\n",
       "      <td>51</td>\n",
       "      <td>2018-12-23</td>\n",
       "      <td>Волжский</td>\n",
       "      <td>Ксения</td>\n",
       "      <td>Агаева</td>\n",
       "      <td>2018-12-15</td>\n",
       "      <td>ultra</td>\n",
       "      <td>0.000000</td>\n",
       "    </tr>\n",
       "    <tr>\n",
       "      <th>3215</th>\n",
       "      <td>1371</td>\n",
       "      <td>-1.0</td>\n",
       "      <td>0.0</td>\n",
       "      <td>0.00</td>\n",
       "      <td>0.00</td>\n",
       "      <td>0.0</td>\n",
       "      <td>50</td>\n",
       "      <td>2018-12-30</td>\n",
       "      <td>Омск</td>\n",
       "      <td>Ириней</td>\n",
       "      <td>Трофимов</td>\n",
       "      <td>2018-12-25</td>\n",
       "      <td>smart</td>\n",
       "      <td>0.000000</td>\n",
       "    </tr>\n",
       "  </tbody>\n",
       "</table>\n",
       "<p>3216 rows × 14 columns</p>\n",
       "</div>"
      ],
      "text/plain": [
       "      user_id  month  calls_count  duration   mb_used  messages_count  age  \\\n",
       "0        1000    5.0         22.0    150.06   2253.49            22.0   52   \n",
       "1        1000    6.0         43.0    158.90  23233.77            60.0   52   \n",
       "2        1000    7.0         47.0    317.35  14003.64            75.0   52   \n",
       "3        1000    8.0         52.0    389.87  14055.93            81.0   52   \n",
       "4        1000    9.0         58.0    431.77  14568.91            57.0   52   \n",
       "...       ...    ...          ...       ...       ...             ...  ...   \n",
       "3211     1489   10.0          0.0      0.00  19559.44            21.0   35   \n",
       "3212     1489   11.0          0.0      0.00  17491.56            20.0   35   \n",
       "3213     1489   12.0          0.0      0.00  17322.51            35.0   35   \n",
       "3214     1128   -1.0          0.0      0.00      0.00             0.0   51   \n",
       "3215     1371   -1.0          0.0      0.00      0.00             0.0   50   \n",
       "\n",
       "     churn_date             city first_name  last_name   reg_date tariff  \\\n",
       "0    2030-01-01        Краснодар     Рафаил  Верещагин 2018-05-25  ultra   \n",
       "1    2030-01-01        Краснодар     Рафаил  Верещагин 2018-05-25  ultra   \n",
       "2    2030-01-01        Краснодар     Рафаил  Верещагин 2018-05-25  ultra   \n",
       "3    2030-01-01        Краснодар     Рафаил  Верещагин 2018-05-25  ultra   \n",
       "4    2030-01-01        Краснодар     Рафаил  Верещагин 2018-05-25  ultra   \n",
       "...         ...              ...        ...        ...        ...    ...   \n",
       "3211 2030-01-01  Санкт-Петербург      Павел   Гончаров 2018-08-15  smart   \n",
       "3212 2030-01-01  Санкт-Петербург      Павел   Гончаров 2018-08-15  smart   \n",
       "3213 2030-01-01  Санкт-Петербург      Павел   Гончаров 2018-08-15  smart   \n",
       "3214 2018-12-23         Волжский     Ксения     Агаева 2018-12-15  ultra   \n",
       "3215 2018-12-30             Омск     Ириней   Трофимов 2018-12-25  smart   \n",
       "\n",
       "        gb_used  \n",
       "0      2.200674  \n",
       "1     22.689229  \n",
       "2     13.675430  \n",
       "3     13.726494  \n",
       "4     14.227451  \n",
       "...         ...  \n",
       "3211  19.101016  \n",
       "3212  17.081602  \n",
       "3213  16.916514  \n",
       "3214   0.000000  \n",
       "3215   0.000000  \n",
       "\n",
       "[3216 rows x 14 columns]"
      ]
     },
     "execution_count": 31,
     "metadata": {},
     "output_type": "execute_result"
    }
   ],
   "source": [
    "calls_messages_internet['gb_used'] = calls_messages_internet['mb_used'] / 1024\n",
    "calls_messages_internet"
   ]
  },
  {
   "cell_type": "code",
   "execution_count": 32,
   "metadata": {},
   "outputs": [
    {
     "data": {
      "text/html": [
       "<div>\n",
       "<style scoped>\n",
       "    .dataframe tbody tr th:only-of-type {\n",
       "        vertical-align: middle;\n",
       "    }\n",
       "\n",
       "    .dataframe tbody tr th {\n",
       "        vertical-align: top;\n",
       "    }\n",
       "\n",
       "    .dataframe thead th {\n",
       "        text-align: right;\n",
       "    }\n",
       "</style>\n",
       "<table border=\"1\" class=\"dataframe\">\n",
       "  <thead>\n",
       "    <tr style=\"text-align: right;\">\n",
       "      <th></th>\n",
       "      <th>user_id</th>\n",
       "      <th>month</th>\n",
       "      <th>calls_count</th>\n",
       "      <th>duration</th>\n",
       "      <th>mb_used</th>\n",
       "      <th>messages_count</th>\n",
       "      <th>age</th>\n",
       "      <th>churn_date</th>\n",
       "      <th>city</th>\n",
       "      <th>first_name</th>\n",
       "      <th>last_name</th>\n",
       "      <th>reg_date</th>\n",
       "      <th>tariff</th>\n",
       "      <th>gb_used</th>\n",
       "    </tr>\n",
       "  </thead>\n",
       "  <tbody>\n",
       "    <tr>\n",
       "      <th>0</th>\n",
       "      <td>1000</td>\n",
       "      <td>5.0</td>\n",
       "      <td>22.0</td>\n",
       "      <td>151</td>\n",
       "      <td>2253.49</td>\n",
       "      <td>22.0</td>\n",
       "      <td>52</td>\n",
       "      <td>2030-01-01</td>\n",
       "      <td>Краснодар</td>\n",
       "      <td>Рафаил</td>\n",
       "      <td>Верещагин</td>\n",
       "      <td>2018-05-25</td>\n",
       "      <td>ultra</td>\n",
       "      <td>3.0</td>\n",
       "    </tr>\n",
       "    <tr>\n",
       "      <th>1</th>\n",
       "      <td>1000</td>\n",
       "      <td>6.0</td>\n",
       "      <td>43.0</td>\n",
       "      <td>159</td>\n",
       "      <td>23233.77</td>\n",
       "      <td>60.0</td>\n",
       "      <td>52</td>\n",
       "      <td>2030-01-01</td>\n",
       "      <td>Краснодар</td>\n",
       "      <td>Рафаил</td>\n",
       "      <td>Верещагин</td>\n",
       "      <td>2018-05-25</td>\n",
       "      <td>ultra</td>\n",
       "      <td>23.0</td>\n",
       "    </tr>\n",
       "    <tr>\n",
       "      <th>2</th>\n",
       "      <td>1000</td>\n",
       "      <td>7.0</td>\n",
       "      <td>47.0</td>\n",
       "      <td>318</td>\n",
       "      <td>14003.64</td>\n",
       "      <td>75.0</td>\n",
       "      <td>52</td>\n",
       "      <td>2030-01-01</td>\n",
       "      <td>Краснодар</td>\n",
       "      <td>Рафаил</td>\n",
       "      <td>Верещагин</td>\n",
       "      <td>2018-05-25</td>\n",
       "      <td>ultra</td>\n",
       "      <td>14.0</td>\n",
       "    </tr>\n",
       "    <tr>\n",
       "      <th>3</th>\n",
       "      <td>1000</td>\n",
       "      <td>8.0</td>\n",
       "      <td>52.0</td>\n",
       "      <td>390</td>\n",
       "      <td>14055.93</td>\n",
       "      <td>81.0</td>\n",
       "      <td>52</td>\n",
       "      <td>2030-01-01</td>\n",
       "      <td>Краснодар</td>\n",
       "      <td>Рафаил</td>\n",
       "      <td>Верещагин</td>\n",
       "      <td>2018-05-25</td>\n",
       "      <td>ultra</td>\n",
       "      <td>14.0</td>\n",
       "    </tr>\n",
       "    <tr>\n",
       "      <th>4</th>\n",
       "      <td>1000</td>\n",
       "      <td>9.0</td>\n",
       "      <td>58.0</td>\n",
       "      <td>432</td>\n",
       "      <td>14568.91</td>\n",
       "      <td>57.0</td>\n",
       "      <td>52</td>\n",
       "      <td>2030-01-01</td>\n",
       "      <td>Краснодар</td>\n",
       "      <td>Рафаил</td>\n",
       "      <td>Верещагин</td>\n",
       "      <td>2018-05-25</td>\n",
       "      <td>ultra</td>\n",
       "      <td>15.0</td>\n",
       "    </tr>\n",
       "    <tr>\n",
       "      <th>...</th>\n",
       "      <td>...</td>\n",
       "      <td>...</td>\n",
       "      <td>...</td>\n",
       "      <td>...</td>\n",
       "      <td>...</td>\n",
       "      <td>...</td>\n",
       "      <td>...</td>\n",
       "      <td>...</td>\n",
       "      <td>...</td>\n",
       "      <td>...</td>\n",
       "      <td>...</td>\n",
       "      <td>...</td>\n",
       "      <td>...</td>\n",
       "      <td>...</td>\n",
       "    </tr>\n",
       "    <tr>\n",
       "      <th>3211</th>\n",
       "      <td>1489</td>\n",
       "      <td>10.0</td>\n",
       "      <td>0.0</td>\n",
       "      <td>0</td>\n",
       "      <td>19559.44</td>\n",
       "      <td>21.0</td>\n",
       "      <td>35</td>\n",
       "      <td>2030-01-01</td>\n",
       "      <td>Санкт-Петербург</td>\n",
       "      <td>Павел</td>\n",
       "      <td>Гончаров</td>\n",
       "      <td>2018-08-15</td>\n",
       "      <td>smart</td>\n",
       "      <td>20.0</td>\n",
       "    </tr>\n",
       "    <tr>\n",
       "      <th>3212</th>\n",
       "      <td>1489</td>\n",
       "      <td>11.0</td>\n",
       "      <td>0.0</td>\n",
       "      <td>0</td>\n",
       "      <td>17491.56</td>\n",
       "      <td>20.0</td>\n",
       "      <td>35</td>\n",
       "      <td>2030-01-01</td>\n",
       "      <td>Санкт-Петербург</td>\n",
       "      <td>Павел</td>\n",
       "      <td>Гончаров</td>\n",
       "      <td>2018-08-15</td>\n",
       "      <td>smart</td>\n",
       "      <td>18.0</td>\n",
       "    </tr>\n",
       "    <tr>\n",
       "      <th>3213</th>\n",
       "      <td>1489</td>\n",
       "      <td>12.0</td>\n",
       "      <td>0.0</td>\n",
       "      <td>0</td>\n",
       "      <td>17322.51</td>\n",
       "      <td>35.0</td>\n",
       "      <td>35</td>\n",
       "      <td>2030-01-01</td>\n",
       "      <td>Санкт-Петербург</td>\n",
       "      <td>Павел</td>\n",
       "      <td>Гончаров</td>\n",
       "      <td>2018-08-15</td>\n",
       "      <td>smart</td>\n",
       "      <td>17.0</td>\n",
       "    </tr>\n",
       "    <tr>\n",
       "      <th>3214</th>\n",
       "      <td>1128</td>\n",
       "      <td>-1.0</td>\n",
       "      <td>0.0</td>\n",
       "      <td>0</td>\n",
       "      <td>0.00</td>\n",
       "      <td>0.0</td>\n",
       "      <td>51</td>\n",
       "      <td>2018-12-23</td>\n",
       "      <td>Волжский</td>\n",
       "      <td>Ксения</td>\n",
       "      <td>Агаева</td>\n",
       "      <td>2018-12-15</td>\n",
       "      <td>ultra</td>\n",
       "      <td>0.0</td>\n",
       "    </tr>\n",
       "    <tr>\n",
       "      <th>3215</th>\n",
       "      <td>1371</td>\n",
       "      <td>-1.0</td>\n",
       "      <td>0.0</td>\n",
       "      <td>0</td>\n",
       "      <td>0.00</td>\n",
       "      <td>0.0</td>\n",
       "      <td>50</td>\n",
       "      <td>2018-12-30</td>\n",
       "      <td>Омск</td>\n",
       "      <td>Ириней</td>\n",
       "      <td>Трофимов</td>\n",
       "      <td>2018-12-25</td>\n",
       "      <td>smart</td>\n",
       "      <td>0.0</td>\n",
       "    </tr>\n",
       "  </tbody>\n",
       "</table>\n",
       "<p>3216 rows × 14 columns</p>\n",
       "</div>"
      ],
      "text/plain": [
       "      user_id  month  calls_count  duration   mb_used  messages_count  age  \\\n",
       "0        1000    5.0         22.0       151   2253.49            22.0   52   \n",
       "1        1000    6.0         43.0       159  23233.77            60.0   52   \n",
       "2        1000    7.0         47.0       318  14003.64            75.0   52   \n",
       "3        1000    8.0         52.0       390  14055.93            81.0   52   \n",
       "4        1000    9.0         58.0       432  14568.91            57.0   52   \n",
       "...       ...    ...          ...       ...       ...             ...  ...   \n",
       "3211     1489   10.0          0.0         0  19559.44            21.0   35   \n",
       "3212     1489   11.0          0.0         0  17491.56            20.0   35   \n",
       "3213     1489   12.0          0.0         0  17322.51            35.0   35   \n",
       "3214     1128   -1.0          0.0         0      0.00             0.0   51   \n",
       "3215     1371   -1.0          0.0         0      0.00             0.0   50   \n",
       "\n",
       "     churn_date             city first_name  last_name   reg_date tariff  \\\n",
       "0    2030-01-01        Краснодар     Рафаил  Верещагин 2018-05-25  ultra   \n",
       "1    2030-01-01        Краснодар     Рафаил  Верещагин 2018-05-25  ultra   \n",
       "2    2030-01-01        Краснодар     Рафаил  Верещагин 2018-05-25  ultra   \n",
       "3    2030-01-01        Краснодар     Рафаил  Верещагин 2018-05-25  ultra   \n",
       "4    2030-01-01        Краснодар     Рафаил  Верещагин 2018-05-25  ultra   \n",
       "...         ...              ...        ...        ...        ...    ...   \n",
       "3211 2030-01-01  Санкт-Петербург      Павел   Гончаров 2018-08-15  smart   \n",
       "3212 2030-01-01  Санкт-Петербург      Павел   Гончаров 2018-08-15  smart   \n",
       "3213 2030-01-01  Санкт-Петербург      Павел   Гончаров 2018-08-15  smart   \n",
       "3214 2018-12-23         Волжский     Ксения     Агаева 2018-12-15  ultra   \n",
       "3215 2018-12-30             Омск     Ириней   Трофимов 2018-12-25  smart   \n",
       "\n",
       "      gb_used  \n",
       "0         3.0  \n",
       "1        23.0  \n",
       "2        14.0  \n",
       "3        14.0  \n",
       "4        15.0  \n",
       "...       ...  \n",
       "3211     20.0  \n",
       "3212     18.0  \n",
       "3213     17.0  \n",
       "3214      0.0  \n",
       "3215      0.0  \n",
       "\n",
       "[3216 rows x 14 columns]"
      ]
     },
     "execution_count": 32,
     "metadata": {},
     "output_type": "execute_result"
    }
   ],
   "source": [
    "calls_messages_internet['duration'] = calls_messages_internet['duration'].apply(np.ceil).astype(int)\n",
    "calls_messages_internet['gb_used'] = calls_messages_internet['gb_used'].apply(np.ceil)\n",
    "calls_messages_internet"
   ]
  },
  {
   "cell_type": "code",
   "execution_count": 33,
   "metadata": {},
   "outputs": [
    {
     "data": {
      "text/plain": [
       "0"
      ]
     },
     "execution_count": 33,
     "metadata": {},
     "output_type": "execute_result"
    }
   ],
   "source": [
    "calls_messages_internet['mb_used'].isna().sum()"
   ]
  },
  {
   "cell_type": "code",
   "execution_count": 34,
   "metadata": {},
   "outputs": [
    {
     "data": {
      "text/plain": [
       "0"
      ]
     },
     "execution_count": 34,
     "metadata": {},
     "output_type": "execute_result"
    }
   ],
   "source": [
    "calls_messages_internet['gb_used'].isna().sum()"
   ]
  },
  {
   "cell_type": "code",
   "execution_count": 35,
   "metadata": {},
   "outputs": [
    {
     "data": {
      "text/plain": [
       "0"
      ]
     },
     "execution_count": 35,
     "metadata": {},
     "output_type": "execute_result"
    }
   ],
   "source": [
    "calls_messages_internet['messages_count'].isna().sum()"
   ]
  },
  {
   "cell_type": "code",
   "execution_count": 36,
   "metadata": {},
   "outputs": [],
   "source": [
    "calls_messages_internet['mb_used'] = calls_messages_internet['mb_used'].fillna(value=0)\n",
    "calls_messages_internet['gb_used'] = calls_messages_internet['gb_used'].fillna(value=0)\n",
    "calls_messages_internet['messages_count'] = calls_messages_internet['messages_count'].fillna(value=0)"
   ]
  },
  {
   "cell_type": "code",
   "execution_count": 37,
   "metadata": {},
   "outputs": [
    {
     "data": {
      "text/html": [
       "<div>\n",
       "<style scoped>\n",
       "    .dataframe tbody tr th:only-of-type {\n",
       "        vertical-align: middle;\n",
       "    }\n",
       "\n",
       "    .dataframe tbody tr th {\n",
       "        vertical-align: top;\n",
       "    }\n",
       "\n",
       "    .dataframe thead th {\n",
       "        text-align: right;\n",
       "    }\n",
       "</style>\n",
       "<table border=\"1\" class=\"dataframe\">\n",
       "  <thead>\n",
       "    <tr style=\"text-align: right;\">\n",
       "      <th></th>\n",
       "      <th>user_id</th>\n",
       "      <th>month</th>\n",
       "      <th>calls_count</th>\n",
       "      <th>duration</th>\n",
       "      <th>mb_used</th>\n",
       "      <th>messages_count</th>\n",
       "      <th>age</th>\n",
       "      <th>churn_date</th>\n",
       "      <th>city</th>\n",
       "      <th>first_name</th>\n",
       "      <th>last_name</th>\n",
       "      <th>reg_date</th>\n",
       "      <th>tariff</th>\n",
       "      <th>gb_used</th>\n",
       "    </tr>\n",
       "  </thead>\n",
       "  <tbody>\n",
       "    <tr>\n",
       "      <th>0</th>\n",
       "      <td>1000</td>\n",
       "      <td>5</td>\n",
       "      <td>22</td>\n",
       "      <td>151</td>\n",
       "      <td>2253.49</td>\n",
       "      <td>22</td>\n",
       "      <td>52</td>\n",
       "      <td>2030-01-01</td>\n",
       "      <td>Краснодар</td>\n",
       "      <td>Рафаил</td>\n",
       "      <td>Верещагин</td>\n",
       "      <td>2018-05-25</td>\n",
       "      <td>ultra</td>\n",
       "      <td>3</td>\n",
       "    </tr>\n",
       "    <tr>\n",
       "      <th>1</th>\n",
       "      <td>1000</td>\n",
       "      <td>6</td>\n",
       "      <td>43</td>\n",
       "      <td>159</td>\n",
       "      <td>23233.77</td>\n",
       "      <td>60</td>\n",
       "      <td>52</td>\n",
       "      <td>2030-01-01</td>\n",
       "      <td>Краснодар</td>\n",
       "      <td>Рафаил</td>\n",
       "      <td>Верещагин</td>\n",
       "      <td>2018-05-25</td>\n",
       "      <td>ultra</td>\n",
       "      <td>23</td>\n",
       "    </tr>\n",
       "    <tr>\n",
       "      <th>2</th>\n",
       "      <td>1000</td>\n",
       "      <td>7</td>\n",
       "      <td>47</td>\n",
       "      <td>318</td>\n",
       "      <td>14003.64</td>\n",
       "      <td>75</td>\n",
       "      <td>52</td>\n",
       "      <td>2030-01-01</td>\n",
       "      <td>Краснодар</td>\n",
       "      <td>Рафаил</td>\n",
       "      <td>Верещагин</td>\n",
       "      <td>2018-05-25</td>\n",
       "      <td>ultra</td>\n",
       "      <td>14</td>\n",
       "    </tr>\n",
       "    <tr>\n",
       "      <th>3</th>\n",
       "      <td>1000</td>\n",
       "      <td>8</td>\n",
       "      <td>52</td>\n",
       "      <td>390</td>\n",
       "      <td>14055.93</td>\n",
       "      <td>81</td>\n",
       "      <td>52</td>\n",
       "      <td>2030-01-01</td>\n",
       "      <td>Краснодар</td>\n",
       "      <td>Рафаил</td>\n",
       "      <td>Верещагин</td>\n",
       "      <td>2018-05-25</td>\n",
       "      <td>ultra</td>\n",
       "      <td>14</td>\n",
       "    </tr>\n",
       "    <tr>\n",
       "      <th>4</th>\n",
       "      <td>1000</td>\n",
       "      <td>9</td>\n",
       "      <td>58</td>\n",
       "      <td>432</td>\n",
       "      <td>14568.91</td>\n",
       "      <td>57</td>\n",
       "      <td>52</td>\n",
       "      <td>2030-01-01</td>\n",
       "      <td>Краснодар</td>\n",
       "      <td>Рафаил</td>\n",
       "      <td>Верещагин</td>\n",
       "      <td>2018-05-25</td>\n",
       "      <td>ultra</td>\n",
       "      <td>15</td>\n",
       "    </tr>\n",
       "    <tr>\n",
       "      <th>...</th>\n",
       "      <td>...</td>\n",
       "      <td>...</td>\n",
       "      <td>...</td>\n",
       "      <td>...</td>\n",
       "      <td>...</td>\n",
       "      <td>...</td>\n",
       "      <td>...</td>\n",
       "      <td>...</td>\n",
       "      <td>...</td>\n",
       "      <td>...</td>\n",
       "      <td>...</td>\n",
       "      <td>...</td>\n",
       "      <td>...</td>\n",
       "      <td>...</td>\n",
       "    </tr>\n",
       "    <tr>\n",
       "      <th>3211</th>\n",
       "      <td>1489</td>\n",
       "      <td>10</td>\n",
       "      <td>0</td>\n",
       "      <td>0</td>\n",
       "      <td>19559.44</td>\n",
       "      <td>21</td>\n",
       "      <td>35</td>\n",
       "      <td>2030-01-01</td>\n",
       "      <td>Санкт-Петербург</td>\n",
       "      <td>Павел</td>\n",
       "      <td>Гончаров</td>\n",
       "      <td>2018-08-15</td>\n",
       "      <td>smart</td>\n",
       "      <td>20</td>\n",
       "    </tr>\n",
       "    <tr>\n",
       "      <th>3212</th>\n",
       "      <td>1489</td>\n",
       "      <td>11</td>\n",
       "      <td>0</td>\n",
       "      <td>0</td>\n",
       "      <td>17491.56</td>\n",
       "      <td>20</td>\n",
       "      <td>35</td>\n",
       "      <td>2030-01-01</td>\n",
       "      <td>Санкт-Петербург</td>\n",
       "      <td>Павел</td>\n",
       "      <td>Гончаров</td>\n",
       "      <td>2018-08-15</td>\n",
       "      <td>smart</td>\n",
       "      <td>18</td>\n",
       "    </tr>\n",
       "    <tr>\n",
       "      <th>3213</th>\n",
       "      <td>1489</td>\n",
       "      <td>12</td>\n",
       "      <td>0</td>\n",
       "      <td>0</td>\n",
       "      <td>17322.51</td>\n",
       "      <td>35</td>\n",
       "      <td>35</td>\n",
       "      <td>2030-01-01</td>\n",
       "      <td>Санкт-Петербург</td>\n",
       "      <td>Павел</td>\n",
       "      <td>Гончаров</td>\n",
       "      <td>2018-08-15</td>\n",
       "      <td>smart</td>\n",
       "      <td>17</td>\n",
       "    </tr>\n",
       "    <tr>\n",
       "      <th>3214</th>\n",
       "      <td>1128</td>\n",
       "      <td>-1</td>\n",
       "      <td>0</td>\n",
       "      <td>0</td>\n",
       "      <td>0.00</td>\n",
       "      <td>0</td>\n",
       "      <td>51</td>\n",
       "      <td>2018-12-23</td>\n",
       "      <td>Волжский</td>\n",
       "      <td>Ксения</td>\n",
       "      <td>Агаева</td>\n",
       "      <td>2018-12-15</td>\n",
       "      <td>ultra</td>\n",
       "      <td>0</td>\n",
       "    </tr>\n",
       "    <tr>\n",
       "      <th>3215</th>\n",
       "      <td>1371</td>\n",
       "      <td>-1</td>\n",
       "      <td>0</td>\n",
       "      <td>0</td>\n",
       "      <td>0.00</td>\n",
       "      <td>0</td>\n",
       "      <td>50</td>\n",
       "      <td>2018-12-30</td>\n",
       "      <td>Омск</td>\n",
       "      <td>Ириней</td>\n",
       "      <td>Трофимов</td>\n",
       "      <td>2018-12-25</td>\n",
       "      <td>smart</td>\n",
       "      <td>0</td>\n",
       "    </tr>\n",
       "  </tbody>\n",
       "</table>\n",
       "<p>3216 rows × 14 columns</p>\n",
       "</div>"
      ],
      "text/plain": [
       "      user_id  month  calls_count  duration   mb_used  messages_count  age  \\\n",
       "0        1000      5           22       151   2253.49              22   52   \n",
       "1        1000      6           43       159  23233.77              60   52   \n",
       "2        1000      7           47       318  14003.64              75   52   \n",
       "3        1000      8           52       390  14055.93              81   52   \n",
       "4        1000      9           58       432  14568.91              57   52   \n",
       "...       ...    ...          ...       ...       ...             ...  ...   \n",
       "3211     1489     10            0         0  19559.44              21   35   \n",
       "3212     1489     11            0         0  17491.56              20   35   \n",
       "3213     1489     12            0         0  17322.51              35   35   \n",
       "3214     1128     -1            0         0      0.00               0   51   \n",
       "3215     1371     -1            0         0      0.00               0   50   \n",
       "\n",
       "     churn_date             city first_name  last_name   reg_date tariff  \\\n",
       "0    2030-01-01        Краснодар     Рафаил  Верещагин 2018-05-25  ultra   \n",
       "1    2030-01-01        Краснодар     Рафаил  Верещагин 2018-05-25  ultra   \n",
       "2    2030-01-01        Краснодар     Рафаил  Верещагин 2018-05-25  ultra   \n",
       "3    2030-01-01        Краснодар     Рафаил  Верещагин 2018-05-25  ultra   \n",
       "4    2030-01-01        Краснодар     Рафаил  Верещагин 2018-05-25  ultra   \n",
       "...         ...              ...        ...        ...        ...    ...   \n",
       "3211 2030-01-01  Санкт-Петербург      Павел   Гончаров 2018-08-15  smart   \n",
       "3212 2030-01-01  Санкт-Петербург      Павел   Гончаров 2018-08-15  smart   \n",
       "3213 2030-01-01  Санкт-Петербург      Павел   Гончаров 2018-08-15  smart   \n",
       "3214 2018-12-23         Волжский     Ксения     Агаева 2018-12-15  ultra   \n",
       "3215 2018-12-30             Омск     Ириней   Трофимов 2018-12-25  smart   \n",
       "\n",
       "      gb_used  \n",
       "0           3  \n",
       "1          23  \n",
       "2          14  \n",
       "3          14  \n",
       "4          15  \n",
       "...       ...  \n",
       "3211       20  \n",
       "3212       18  \n",
       "3213       17  \n",
       "3214        0  \n",
       "3215        0  \n",
       "\n",
       "[3216 rows x 14 columns]"
      ]
     },
     "execution_count": 37,
     "metadata": {},
     "output_type": "execute_result"
    }
   ],
   "source": [
    "calls_messages_internet['gb_used'] = calls_messages_internet['gb_used'].astype(int)\n",
    "calls_messages_internet['messages_count'] = calls_messages_internet['messages_count'].astype(int)\n",
    "calls_messages_internet['month'] = calls_messages_internet['month'].astype(int)\n",
    "calls_messages_internet['calls_count'] = calls_messages_internet['calls_count'].astype(int)\n",
    "calls_messages_internet"
   ]
  },
  {
   "cell_type": "markdown",
   "metadata": {},
   "source": [
    "- Объединила необходимые таблицы\n",
    "- Округлила в большкю сторону время звонков и гигабайты интернета\n",
    "- Изменила типы данных на int для удобства"
   ]
  },
  {
   "cell_type": "markdown",
   "metadata": {},
   "source": [
    "## Расчет помесячной выручки с каждого пользователя"
   ]
  },
  {
   "cell_type": "code",
   "execution_count": 38,
   "metadata": {},
   "outputs": [
    {
     "data": {
      "text/html": [
       "<div>\n",
       "<style scoped>\n",
       "    .dataframe tbody tr th:only-of-type {\n",
       "        vertical-align: middle;\n",
       "    }\n",
       "\n",
       "    .dataframe tbody tr th {\n",
       "        vertical-align: top;\n",
       "    }\n",
       "\n",
       "    .dataframe thead th {\n",
       "        text-align: right;\n",
       "    }\n",
       "</style>\n",
       "<table border=\"1\" class=\"dataframe\">\n",
       "  <thead>\n",
       "    <tr style=\"text-align: right;\">\n",
       "      <th></th>\n",
       "      <th>user_id</th>\n",
       "      <th>month</th>\n",
       "      <th>calls_count</th>\n",
       "      <th>duration</th>\n",
       "      <th>mb_used</th>\n",
       "      <th>messages_count</th>\n",
       "      <th>age</th>\n",
       "      <th>churn_date</th>\n",
       "      <th>city</th>\n",
       "      <th>first_name</th>\n",
       "      <th>last_name</th>\n",
       "      <th>reg_date</th>\n",
       "      <th>tariff</th>\n",
       "      <th>gb_used</th>\n",
       "      <th>messages_included</th>\n",
       "    </tr>\n",
       "  </thead>\n",
       "  <tbody>\n",
       "    <tr>\n",
       "      <th>0</th>\n",
       "      <td>1000</td>\n",
       "      <td>5</td>\n",
       "      <td>22</td>\n",
       "      <td>151</td>\n",
       "      <td>2253.49</td>\n",
       "      <td>22</td>\n",
       "      <td>52</td>\n",
       "      <td>2030-01-01</td>\n",
       "      <td>Краснодар</td>\n",
       "      <td>Рафаил</td>\n",
       "      <td>Верещагин</td>\n",
       "      <td>2018-05-25</td>\n",
       "      <td>ultra</td>\n",
       "      <td>3</td>\n",
       "      <td>1000</td>\n",
       "    </tr>\n",
       "    <tr>\n",
       "      <th>1</th>\n",
       "      <td>1000</td>\n",
       "      <td>6</td>\n",
       "      <td>43</td>\n",
       "      <td>159</td>\n",
       "      <td>23233.77</td>\n",
       "      <td>60</td>\n",
       "      <td>52</td>\n",
       "      <td>2030-01-01</td>\n",
       "      <td>Краснодар</td>\n",
       "      <td>Рафаил</td>\n",
       "      <td>Верещагин</td>\n",
       "      <td>2018-05-25</td>\n",
       "      <td>ultra</td>\n",
       "      <td>23</td>\n",
       "      <td>1000</td>\n",
       "    </tr>\n",
       "    <tr>\n",
       "      <th>2</th>\n",
       "      <td>1000</td>\n",
       "      <td>7</td>\n",
       "      <td>47</td>\n",
       "      <td>318</td>\n",
       "      <td>14003.64</td>\n",
       "      <td>75</td>\n",
       "      <td>52</td>\n",
       "      <td>2030-01-01</td>\n",
       "      <td>Краснодар</td>\n",
       "      <td>Рафаил</td>\n",
       "      <td>Верещагин</td>\n",
       "      <td>2018-05-25</td>\n",
       "      <td>ultra</td>\n",
       "      <td>14</td>\n",
       "      <td>1000</td>\n",
       "    </tr>\n",
       "    <tr>\n",
       "      <th>3</th>\n",
       "      <td>1000</td>\n",
       "      <td>8</td>\n",
       "      <td>52</td>\n",
       "      <td>390</td>\n",
       "      <td>14055.93</td>\n",
       "      <td>81</td>\n",
       "      <td>52</td>\n",
       "      <td>2030-01-01</td>\n",
       "      <td>Краснодар</td>\n",
       "      <td>Рафаил</td>\n",
       "      <td>Верещагин</td>\n",
       "      <td>2018-05-25</td>\n",
       "      <td>ultra</td>\n",
       "      <td>14</td>\n",
       "      <td>1000</td>\n",
       "    </tr>\n",
       "    <tr>\n",
       "      <th>4</th>\n",
       "      <td>1000</td>\n",
       "      <td>9</td>\n",
       "      <td>58</td>\n",
       "      <td>432</td>\n",
       "      <td>14568.91</td>\n",
       "      <td>57</td>\n",
       "      <td>52</td>\n",
       "      <td>2030-01-01</td>\n",
       "      <td>Краснодар</td>\n",
       "      <td>Рафаил</td>\n",
       "      <td>Верещагин</td>\n",
       "      <td>2018-05-25</td>\n",
       "      <td>ultra</td>\n",
       "      <td>15</td>\n",
       "      <td>1000</td>\n",
       "    </tr>\n",
       "  </tbody>\n",
       "</table>\n",
       "</div>"
      ],
      "text/plain": [
       "   user_id  month  calls_count  duration   mb_used  messages_count  age  \\\n",
       "0     1000      5           22       151   2253.49              22   52   \n",
       "1     1000      6           43       159  23233.77              60   52   \n",
       "2     1000      7           47       318  14003.64              75   52   \n",
       "3     1000      8           52       390  14055.93              81   52   \n",
       "4     1000      9           58       432  14568.91              57   52   \n",
       "\n",
       "  churn_date       city first_name  last_name   reg_date tariff  gb_used  \\\n",
       "0 2030-01-01  Краснодар     Рафаил  Верещагин 2018-05-25  ultra        3   \n",
       "1 2030-01-01  Краснодар     Рафаил  Верещагин 2018-05-25  ultra       23   \n",
       "2 2030-01-01  Краснодар     Рафаил  Верещагин 2018-05-25  ultra       14   \n",
       "3 2030-01-01  Краснодар     Рафаил  Верещагин 2018-05-25  ultra       14   \n",
       "4 2030-01-01  Краснодар     Рафаил  Верещагин 2018-05-25  ultra       15   \n",
       "\n",
       "   messages_included  \n",
       "0               1000  \n",
       "1               1000  \n",
       "2               1000  \n",
       "3               1000  \n",
       "4               1000  "
      ]
     },
     "execution_count": 38,
     "metadata": {},
     "output_type": "execute_result"
    }
   ],
   "source": [
    "def messages_included(row):\n",
    "    if row['tariff'] == 'ultra':\n",
    "        return 1000\n",
    "    else:\n",
    "        return 50\n",
    "\n",
    "calls_messages_internet['messages_included'] = calls_messages_internet.apply(messages_included, axis = 1)\n",
    "calls_messages_internet.head()"
   ]
  },
  {
   "cell_type": "code",
   "execution_count": 39,
   "metadata": {},
   "outputs": [
    {
     "data": {
      "text/html": [
       "<div>\n",
       "<style scoped>\n",
       "    .dataframe tbody tr th:only-of-type {\n",
       "        vertical-align: middle;\n",
       "    }\n",
       "\n",
       "    .dataframe tbody tr th {\n",
       "        vertical-align: top;\n",
       "    }\n",
       "\n",
       "    .dataframe thead th {\n",
       "        text-align: right;\n",
       "    }\n",
       "</style>\n",
       "<table border=\"1\" class=\"dataframe\">\n",
       "  <thead>\n",
       "    <tr style=\"text-align: right;\">\n",
       "      <th></th>\n",
       "      <th>user_id</th>\n",
       "      <th>month</th>\n",
       "      <th>calls_count</th>\n",
       "      <th>duration</th>\n",
       "      <th>mb_used</th>\n",
       "      <th>messages_count</th>\n",
       "      <th>age</th>\n",
       "      <th>churn_date</th>\n",
       "      <th>city</th>\n",
       "      <th>first_name</th>\n",
       "      <th>last_name</th>\n",
       "      <th>reg_date</th>\n",
       "      <th>tariff</th>\n",
       "      <th>gb_used</th>\n",
       "      <th>messages_included</th>\n",
       "      <th>minutes_included</th>\n",
       "    </tr>\n",
       "  </thead>\n",
       "  <tbody>\n",
       "    <tr>\n",
       "      <th>0</th>\n",
       "      <td>1000</td>\n",
       "      <td>5</td>\n",
       "      <td>22</td>\n",
       "      <td>151</td>\n",
       "      <td>2253.49</td>\n",
       "      <td>22</td>\n",
       "      <td>52</td>\n",
       "      <td>2030-01-01</td>\n",
       "      <td>Краснодар</td>\n",
       "      <td>Рафаил</td>\n",
       "      <td>Верещагин</td>\n",
       "      <td>2018-05-25</td>\n",
       "      <td>ultra</td>\n",
       "      <td>3</td>\n",
       "      <td>1000</td>\n",
       "      <td>3000</td>\n",
       "    </tr>\n",
       "    <tr>\n",
       "      <th>1</th>\n",
       "      <td>1000</td>\n",
       "      <td>6</td>\n",
       "      <td>43</td>\n",
       "      <td>159</td>\n",
       "      <td>23233.77</td>\n",
       "      <td>60</td>\n",
       "      <td>52</td>\n",
       "      <td>2030-01-01</td>\n",
       "      <td>Краснодар</td>\n",
       "      <td>Рафаил</td>\n",
       "      <td>Верещагин</td>\n",
       "      <td>2018-05-25</td>\n",
       "      <td>ultra</td>\n",
       "      <td>23</td>\n",
       "      <td>1000</td>\n",
       "      <td>3000</td>\n",
       "    </tr>\n",
       "    <tr>\n",
       "      <th>2</th>\n",
       "      <td>1000</td>\n",
       "      <td>7</td>\n",
       "      <td>47</td>\n",
       "      <td>318</td>\n",
       "      <td>14003.64</td>\n",
       "      <td>75</td>\n",
       "      <td>52</td>\n",
       "      <td>2030-01-01</td>\n",
       "      <td>Краснодар</td>\n",
       "      <td>Рафаил</td>\n",
       "      <td>Верещагин</td>\n",
       "      <td>2018-05-25</td>\n",
       "      <td>ultra</td>\n",
       "      <td>14</td>\n",
       "      <td>1000</td>\n",
       "      <td>3000</td>\n",
       "    </tr>\n",
       "    <tr>\n",
       "      <th>3</th>\n",
       "      <td>1000</td>\n",
       "      <td>8</td>\n",
       "      <td>52</td>\n",
       "      <td>390</td>\n",
       "      <td>14055.93</td>\n",
       "      <td>81</td>\n",
       "      <td>52</td>\n",
       "      <td>2030-01-01</td>\n",
       "      <td>Краснодар</td>\n",
       "      <td>Рафаил</td>\n",
       "      <td>Верещагин</td>\n",
       "      <td>2018-05-25</td>\n",
       "      <td>ultra</td>\n",
       "      <td>14</td>\n",
       "      <td>1000</td>\n",
       "      <td>3000</td>\n",
       "    </tr>\n",
       "    <tr>\n",
       "      <th>4</th>\n",
       "      <td>1000</td>\n",
       "      <td>9</td>\n",
       "      <td>58</td>\n",
       "      <td>432</td>\n",
       "      <td>14568.91</td>\n",
       "      <td>57</td>\n",
       "      <td>52</td>\n",
       "      <td>2030-01-01</td>\n",
       "      <td>Краснодар</td>\n",
       "      <td>Рафаил</td>\n",
       "      <td>Верещагин</td>\n",
       "      <td>2018-05-25</td>\n",
       "      <td>ultra</td>\n",
       "      <td>15</td>\n",
       "      <td>1000</td>\n",
       "      <td>3000</td>\n",
       "    </tr>\n",
       "    <tr>\n",
       "      <th>...</th>\n",
       "      <td>...</td>\n",
       "      <td>...</td>\n",
       "      <td>...</td>\n",
       "      <td>...</td>\n",
       "      <td>...</td>\n",
       "      <td>...</td>\n",
       "      <td>...</td>\n",
       "      <td>...</td>\n",
       "      <td>...</td>\n",
       "      <td>...</td>\n",
       "      <td>...</td>\n",
       "      <td>...</td>\n",
       "      <td>...</td>\n",
       "      <td>...</td>\n",
       "      <td>...</td>\n",
       "      <td>...</td>\n",
       "    </tr>\n",
       "    <tr>\n",
       "      <th>3211</th>\n",
       "      <td>1489</td>\n",
       "      <td>10</td>\n",
       "      <td>0</td>\n",
       "      <td>0</td>\n",
       "      <td>19559.44</td>\n",
       "      <td>21</td>\n",
       "      <td>35</td>\n",
       "      <td>2030-01-01</td>\n",
       "      <td>Санкт-Петербург</td>\n",
       "      <td>Павел</td>\n",
       "      <td>Гончаров</td>\n",
       "      <td>2018-08-15</td>\n",
       "      <td>smart</td>\n",
       "      <td>20</td>\n",
       "      <td>50</td>\n",
       "      <td>500</td>\n",
       "    </tr>\n",
       "    <tr>\n",
       "      <th>3212</th>\n",
       "      <td>1489</td>\n",
       "      <td>11</td>\n",
       "      <td>0</td>\n",
       "      <td>0</td>\n",
       "      <td>17491.56</td>\n",
       "      <td>20</td>\n",
       "      <td>35</td>\n",
       "      <td>2030-01-01</td>\n",
       "      <td>Санкт-Петербург</td>\n",
       "      <td>Павел</td>\n",
       "      <td>Гончаров</td>\n",
       "      <td>2018-08-15</td>\n",
       "      <td>smart</td>\n",
       "      <td>18</td>\n",
       "      <td>50</td>\n",
       "      <td>500</td>\n",
       "    </tr>\n",
       "    <tr>\n",
       "      <th>3213</th>\n",
       "      <td>1489</td>\n",
       "      <td>12</td>\n",
       "      <td>0</td>\n",
       "      <td>0</td>\n",
       "      <td>17322.51</td>\n",
       "      <td>35</td>\n",
       "      <td>35</td>\n",
       "      <td>2030-01-01</td>\n",
       "      <td>Санкт-Петербург</td>\n",
       "      <td>Павел</td>\n",
       "      <td>Гончаров</td>\n",
       "      <td>2018-08-15</td>\n",
       "      <td>smart</td>\n",
       "      <td>17</td>\n",
       "      <td>50</td>\n",
       "      <td>500</td>\n",
       "    </tr>\n",
       "    <tr>\n",
       "      <th>3214</th>\n",
       "      <td>1128</td>\n",
       "      <td>-1</td>\n",
       "      <td>0</td>\n",
       "      <td>0</td>\n",
       "      <td>0.00</td>\n",
       "      <td>0</td>\n",
       "      <td>51</td>\n",
       "      <td>2018-12-23</td>\n",
       "      <td>Волжский</td>\n",
       "      <td>Ксения</td>\n",
       "      <td>Агаева</td>\n",
       "      <td>2018-12-15</td>\n",
       "      <td>ultra</td>\n",
       "      <td>0</td>\n",
       "      <td>1000</td>\n",
       "      <td>3000</td>\n",
       "    </tr>\n",
       "    <tr>\n",
       "      <th>3215</th>\n",
       "      <td>1371</td>\n",
       "      <td>-1</td>\n",
       "      <td>0</td>\n",
       "      <td>0</td>\n",
       "      <td>0.00</td>\n",
       "      <td>0</td>\n",
       "      <td>50</td>\n",
       "      <td>2018-12-30</td>\n",
       "      <td>Омск</td>\n",
       "      <td>Ириней</td>\n",
       "      <td>Трофимов</td>\n",
       "      <td>2018-12-25</td>\n",
       "      <td>smart</td>\n",
       "      <td>0</td>\n",
       "      <td>50</td>\n",
       "      <td>500</td>\n",
       "    </tr>\n",
       "  </tbody>\n",
       "</table>\n",
       "<p>3216 rows × 16 columns</p>\n",
       "</div>"
      ],
      "text/plain": [
       "      user_id  month  calls_count  duration   mb_used  messages_count  age  \\\n",
       "0        1000      5           22       151   2253.49              22   52   \n",
       "1        1000      6           43       159  23233.77              60   52   \n",
       "2        1000      7           47       318  14003.64              75   52   \n",
       "3        1000      8           52       390  14055.93              81   52   \n",
       "4        1000      9           58       432  14568.91              57   52   \n",
       "...       ...    ...          ...       ...       ...             ...  ...   \n",
       "3211     1489     10            0         0  19559.44              21   35   \n",
       "3212     1489     11            0         0  17491.56              20   35   \n",
       "3213     1489     12            0         0  17322.51              35   35   \n",
       "3214     1128     -1            0         0      0.00               0   51   \n",
       "3215     1371     -1            0         0      0.00               0   50   \n",
       "\n",
       "     churn_date             city first_name  last_name   reg_date tariff  \\\n",
       "0    2030-01-01        Краснодар     Рафаил  Верещагин 2018-05-25  ultra   \n",
       "1    2030-01-01        Краснодар     Рафаил  Верещагин 2018-05-25  ultra   \n",
       "2    2030-01-01        Краснодар     Рафаил  Верещагин 2018-05-25  ultra   \n",
       "3    2030-01-01        Краснодар     Рафаил  Верещагин 2018-05-25  ultra   \n",
       "4    2030-01-01        Краснодар     Рафаил  Верещагин 2018-05-25  ultra   \n",
       "...         ...              ...        ...        ...        ...    ...   \n",
       "3211 2030-01-01  Санкт-Петербург      Павел   Гончаров 2018-08-15  smart   \n",
       "3212 2030-01-01  Санкт-Петербург      Павел   Гончаров 2018-08-15  smart   \n",
       "3213 2030-01-01  Санкт-Петербург      Павел   Гончаров 2018-08-15  smart   \n",
       "3214 2018-12-23         Волжский     Ксения     Агаева 2018-12-15  ultra   \n",
       "3215 2018-12-30             Омск     Ириней   Трофимов 2018-12-25  smart   \n",
       "\n",
       "      gb_used  messages_included  minutes_included  \n",
       "0           3               1000              3000  \n",
       "1          23               1000              3000  \n",
       "2          14               1000              3000  \n",
       "3          14               1000              3000  \n",
       "4          15               1000              3000  \n",
       "...       ...                ...               ...  \n",
       "3211       20                 50               500  \n",
       "3212       18                 50               500  \n",
       "3213       17                 50               500  \n",
       "3214        0               1000              3000  \n",
       "3215        0                 50               500  \n",
       "\n",
       "[3216 rows x 16 columns]"
      ]
     },
     "execution_count": 39,
     "metadata": {},
     "output_type": "execute_result"
    }
   ],
   "source": [
    "def minutes_included(row):\n",
    "    if row['tariff'] == 'ultra':\n",
    "        return 3000\n",
    "    else:\n",
    "        return 500\n",
    "\n",
    "calls_messages_internet['minutes_included'] = calls_messages_internet.apply(minutes_included, axis = 1)\n",
    "calls_messages_internet"
   ]
  },
  {
   "cell_type": "code",
   "execution_count": 40,
   "metadata": {},
   "outputs": [
    {
     "data": {
      "text/html": [
       "<div>\n",
       "<style scoped>\n",
       "    .dataframe tbody tr th:only-of-type {\n",
       "        vertical-align: middle;\n",
       "    }\n",
       "\n",
       "    .dataframe tbody tr th {\n",
       "        vertical-align: top;\n",
       "    }\n",
       "\n",
       "    .dataframe thead th {\n",
       "        text-align: right;\n",
       "    }\n",
       "</style>\n",
       "<table border=\"1\" class=\"dataframe\">\n",
       "  <thead>\n",
       "    <tr style=\"text-align: right;\">\n",
       "      <th></th>\n",
       "      <th>user_id</th>\n",
       "      <th>month</th>\n",
       "      <th>calls_count</th>\n",
       "      <th>duration</th>\n",
       "      <th>mb_used</th>\n",
       "      <th>messages_count</th>\n",
       "      <th>age</th>\n",
       "      <th>churn_date</th>\n",
       "      <th>city</th>\n",
       "      <th>first_name</th>\n",
       "      <th>last_name</th>\n",
       "      <th>reg_date</th>\n",
       "      <th>tariff</th>\n",
       "      <th>gb_used</th>\n",
       "      <th>messages_included</th>\n",
       "      <th>minutes_included</th>\n",
       "      <th>gb_per_month_included</th>\n",
       "    </tr>\n",
       "  </thead>\n",
       "  <tbody>\n",
       "    <tr>\n",
       "      <th>0</th>\n",
       "      <td>1000</td>\n",
       "      <td>5</td>\n",
       "      <td>22</td>\n",
       "      <td>151</td>\n",
       "      <td>2253.49</td>\n",
       "      <td>22</td>\n",
       "      <td>52</td>\n",
       "      <td>2030-01-01</td>\n",
       "      <td>Краснодар</td>\n",
       "      <td>Рафаил</td>\n",
       "      <td>Верещагин</td>\n",
       "      <td>2018-05-25</td>\n",
       "      <td>ultra</td>\n",
       "      <td>3</td>\n",
       "      <td>1000</td>\n",
       "      <td>3000</td>\n",
       "      <td>30</td>\n",
       "    </tr>\n",
       "    <tr>\n",
       "      <th>1</th>\n",
       "      <td>1000</td>\n",
       "      <td>6</td>\n",
       "      <td>43</td>\n",
       "      <td>159</td>\n",
       "      <td>23233.77</td>\n",
       "      <td>60</td>\n",
       "      <td>52</td>\n",
       "      <td>2030-01-01</td>\n",
       "      <td>Краснодар</td>\n",
       "      <td>Рафаил</td>\n",
       "      <td>Верещагин</td>\n",
       "      <td>2018-05-25</td>\n",
       "      <td>ultra</td>\n",
       "      <td>23</td>\n",
       "      <td>1000</td>\n",
       "      <td>3000</td>\n",
       "      <td>30</td>\n",
       "    </tr>\n",
       "    <tr>\n",
       "      <th>2</th>\n",
       "      <td>1000</td>\n",
       "      <td>7</td>\n",
       "      <td>47</td>\n",
       "      <td>318</td>\n",
       "      <td>14003.64</td>\n",
       "      <td>75</td>\n",
       "      <td>52</td>\n",
       "      <td>2030-01-01</td>\n",
       "      <td>Краснодар</td>\n",
       "      <td>Рафаил</td>\n",
       "      <td>Верещагин</td>\n",
       "      <td>2018-05-25</td>\n",
       "      <td>ultra</td>\n",
       "      <td>14</td>\n",
       "      <td>1000</td>\n",
       "      <td>3000</td>\n",
       "      <td>30</td>\n",
       "    </tr>\n",
       "    <tr>\n",
       "      <th>3</th>\n",
       "      <td>1000</td>\n",
       "      <td>8</td>\n",
       "      <td>52</td>\n",
       "      <td>390</td>\n",
       "      <td>14055.93</td>\n",
       "      <td>81</td>\n",
       "      <td>52</td>\n",
       "      <td>2030-01-01</td>\n",
       "      <td>Краснодар</td>\n",
       "      <td>Рафаил</td>\n",
       "      <td>Верещагин</td>\n",
       "      <td>2018-05-25</td>\n",
       "      <td>ultra</td>\n",
       "      <td>14</td>\n",
       "      <td>1000</td>\n",
       "      <td>3000</td>\n",
       "      <td>30</td>\n",
       "    </tr>\n",
       "    <tr>\n",
       "      <th>4</th>\n",
       "      <td>1000</td>\n",
       "      <td>9</td>\n",
       "      <td>58</td>\n",
       "      <td>432</td>\n",
       "      <td>14568.91</td>\n",
       "      <td>57</td>\n",
       "      <td>52</td>\n",
       "      <td>2030-01-01</td>\n",
       "      <td>Краснодар</td>\n",
       "      <td>Рафаил</td>\n",
       "      <td>Верещагин</td>\n",
       "      <td>2018-05-25</td>\n",
       "      <td>ultra</td>\n",
       "      <td>15</td>\n",
       "      <td>1000</td>\n",
       "      <td>3000</td>\n",
       "      <td>30</td>\n",
       "    </tr>\n",
       "    <tr>\n",
       "      <th>...</th>\n",
       "      <td>...</td>\n",
       "      <td>...</td>\n",
       "      <td>...</td>\n",
       "      <td>...</td>\n",
       "      <td>...</td>\n",
       "      <td>...</td>\n",
       "      <td>...</td>\n",
       "      <td>...</td>\n",
       "      <td>...</td>\n",
       "      <td>...</td>\n",
       "      <td>...</td>\n",
       "      <td>...</td>\n",
       "      <td>...</td>\n",
       "      <td>...</td>\n",
       "      <td>...</td>\n",
       "      <td>...</td>\n",
       "      <td>...</td>\n",
       "    </tr>\n",
       "    <tr>\n",
       "      <th>3211</th>\n",
       "      <td>1489</td>\n",
       "      <td>10</td>\n",
       "      <td>0</td>\n",
       "      <td>0</td>\n",
       "      <td>19559.44</td>\n",
       "      <td>21</td>\n",
       "      <td>35</td>\n",
       "      <td>2030-01-01</td>\n",
       "      <td>Санкт-Петербург</td>\n",
       "      <td>Павел</td>\n",
       "      <td>Гончаров</td>\n",
       "      <td>2018-08-15</td>\n",
       "      <td>smart</td>\n",
       "      <td>20</td>\n",
       "      <td>50</td>\n",
       "      <td>500</td>\n",
       "      <td>15</td>\n",
       "    </tr>\n",
       "    <tr>\n",
       "      <th>3212</th>\n",
       "      <td>1489</td>\n",
       "      <td>11</td>\n",
       "      <td>0</td>\n",
       "      <td>0</td>\n",
       "      <td>17491.56</td>\n",
       "      <td>20</td>\n",
       "      <td>35</td>\n",
       "      <td>2030-01-01</td>\n",
       "      <td>Санкт-Петербург</td>\n",
       "      <td>Павел</td>\n",
       "      <td>Гончаров</td>\n",
       "      <td>2018-08-15</td>\n",
       "      <td>smart</td>\n",
       "      <td>18</td>\n",
       "      <td>50</td>\n",
       "      <td>500</td>\n",
       "      <td>15</td>\n",
       "    </tr>\n",
       "    <tr>\n",
       "      <th>3213</th>\n",
       "      <td>1489</td>\n",
       "      <td>12</td>\n",
       "      <td>0</td>\n",
       "      <td>0</td>\n",
       "      <td>17322.51</td>\n",
       "      <td>35</td>\n",
       "      <td>35</td>\n",
       "      <td>2030-01-01</td>\n",
       "      <td>Санкт-Петербург</td>\n",
       "      <td>Павел</td>\n",
       "      <td>Гончаров</td>\n",
       "      <td>2018-08-15</td>\n",
       "      <td>smart</td>\n",
       "      <td>17</td>\n",
       "      <td>50</td>\n",
       "      <td>500</td>\n",
       "      <td>15</td>\n",
       "    </tr>\n",
       "    <tr>\n",
       "      <th>3214</th>\n",
       "      <td>1128</td>\n",
       "      <td>-1</td>\n",
       "      <td>0</td>\n",
       "      <td>0</td>\n",
       "      <td>0.00</td>\n",
       "      <td>0</td>\n",
       "      <td>51</td>\n",
       "      <td>2018-12-23</td>\n",
       "      <td>Волжский</td>\n",
       "      <td>Ксения</td>\n",
       "      <td>Агаева</td>\n",
       "      <td>2018-12-15</td>\n",
       "      <td>ultra</td>\n",
       "      <td>0</td>\n",
       "      <td>1000</td>\n",
       "      <td>3000</td>\n",
       "      <td>30</td>\n",
       "    </tr>\n",
       "    <tr>\n",
       "      <th>3215</th>\n",
       "      <td>1371</td>\n",
       "      <td>-1</td>\n",
       "      <td>0</td>\n",
       "      <td>0</td>\n",
       "      <td>0.00</td>\n",
       "      <td>0</td>\n",
       "      <td>50</td>\n",
       "      <td>2018-12-30</td>\n",
       "      <td>Омск</td>\n",
       "      <td>Ириней</td>\n",
       "      <td>Трофимов</td>\n",
       "      <td>2018-12-25</td>\n",
       "      <td>smart</td>\n",
       "      <td>0</td>\n",
       "      <td>50</td>\n",
       "      <td>500</td>\n",
       "      <td>15</td>\n",
       "    </tr>\n",
       "  </tbody>\n",
       "</table>\n",
       "<p>3216 rows × 17 columns</p>\n",
       "</div>"
      ],
      "text/plain": [
       "      user_id  month  calls_count  duration   mb_used  messages_count  age  \\\n",
       "0        1000      5           22       151   2253.49              22   52   \n",
       "1        1000      6           43       159  23233.77              60   52   \n",
       "2        1000      7           47       318  14003.64              75   52   \n",
       "3        1000      8           52       390  14055.93              81   52   \n",
       "4        1000      9           58       432  14568.91              57   52   \n",
       "...       ...    ...          ...       ...       ...             ...  ...   \n",
       "3211     1489     10            0         0  19559.44              21   35   \n",
       "3212     1489     11            0         0  17491.56              20   35   \n",
       "3213     1489     12            0         0  17322.51              35   35   \n",
       "3214     1128     -1            0         0      0.00               0   51   \n",
       "3215     1371     -1            0         0      0.00               0   50   \n",
       "\n",
       "     churn_date             city first_name  last_name   reg_date tariff  \\\n",
       "0    2030-01-01        Краснодар     Рафаил  Верещагин 2018-05-25  ultra   \n",
       "1    2030-01-01        Краснодар     Рафаил  Верещагин 2018-05-25  ultra   \n",
       "2    2030-01-01        Краснодар     Рафаил  Верещагин 2018-05-25  ultra   \n",
       "3    2030-01-01        Краснодар     Рафаил  Верещагин 2018-05-25  ultra   \n",
       "4    2030-01-01        Краснодар     Рафаил  Верещагин 2018-05-25  ultra   \n",
       "...         ...              ...        ...        ...        ...    ...   \n",
       "3211 2030-01-01  Санкт-Петербург      Павел   Гончаров 2018-08-15  smart   \n",
       "3212 2030-01-01  Санкт-Петербург      Павел   Гончаров 2018-08-15  smart   \n",
       "3213 2030-01-01  Санкт-Петербург      Павел   Гончаров 2018-08-15  smart   \n",
       "3214 2018-12-23         Волжский     Ксения     Агаева 2018-12-15  ultra   \n",
       "3215 2018-12-30             Омск     Ириней   Трофимов 2018-12-25  smart   \n",
       "\n",
       "      gb_used  messages_included  minutes_included  gb_per_month_included  \n",
       "0           3               1000              3000                     30  \n",
       "1          23               1000              3000                     30  \n",
       "2          14               1000              3000                     30  \n",
       "3          14               1000              3000                     30  \n",
       "4          15               1000              3000                     30  \n",
       "...       ...                ...               ...                    ...  \n",
       "3211       20                 50               500                     15  \n",
       "3212       18                 50               500                     15  \n",
       "3213       17                 50               500                     15  \n",
       "3214        0               1000              3000                     30  \n",
       "3215        0                 50               500                     15  \n",
       "\n",
       "[3216 rows x 17 columns]"
      ]
     },
     "execution_count": 40,
     "metadata": {},
     "output_type": "execute_result"
    }
   ],
   "source": [
    "def gb_per_month_included(row):\n",
    "    if row['tariff'] == 'ultra':\n",
    "        return 30\n",
    "    else:\n",
    "        return 15\n",
    "\n",
    "calls_messages_internet['gb_per_month_included'] = calls_messages_internet.apply(gb_per_month_included, axis = 1)\n",
    "calls_messages_internet"
   ]
  },
  {
   "cell_type": "code",
   "execution_count": 41,
   "metadata": {},
   "outputs": [
    {
     "data": {
      "text/html": [
       "<div>\n",
       "<style scoped>\n",
       "    .dataframe tbody tr th:only-of-type {\n",
       "        vertical-align: middle;\n",
       "    }\n",
       "\n",
       "    .dataframe tbody tr th {\n",
       "        vertical-align: top;\n",
       "    }\n",
       "\n",
       "    .dataframe thead th {\n",
       "        text-align: right;\n",
       "    }\n",
       "</style>\n",
       "<table border=\"1\" class=\"dataframe\">\n",
       "  <thead>\n",
       "    <tr style=\"text-align: right;\">\n",
       "      <th></th>\n",
       "      <th>user_id</th>\n",
       "      <th>month</th>\n",
       "      <th>calls_count</th>\n",
       "      <th>duration</th>\n",
       "      <th>mb_used</th>\n",
       "      <th>messages_count</th>\n",
       "      <th>age</th>\n",
       "      <th>churn_date</th>\n",
       "      <th>city</th>\n",
       "      <th>first_name</th>\n",
       "      <th>last_name</th>\n",
       "      <th>reg_date</th>\n",
       "      <th>tariff</th>\n",
       "      <th>gb_used</th>\n",
       "      <th>messages_included</th>\n",
       "      <th>minutes_included</th>\n",
       "      <th>gb_per_month_included</th>\n",
       "      <th>rub_per_minute_message</th>\n",
       "    </tr>\n",
       "  </thead>\n",
       "  <tbody>\n",
       "    <tr>\n",
       "      <th>0</th>\n",
       "      <td>1000</td>\n",
       "      <td>5</td>\n",
       "      <td>22</td>\n",
       "      <td>151</td>\n",
       "      <td>2253.49</td>\n",
       "      <td>22</td>\n",
       "      <td>52</td>\n",
       "      <td>2030-01-01</td>\n",
       "      <td>Краснодар</td>\n",
       "      <td>Рафаил</td>\n",
       "      <td>Верещагин</td>\n",
       "      <td>2018-05-25</td>\n",
       "      <td>ultra</td>\n",
       "      <td>3</td>\n",
       "      <td>1000</td>\n",
       "      <td>3000</td>\n",
       "      <td>30</td>\n",
       "      <td>1</td>\n",
       "    </tr>\n",
       "    <tr>\n",
       "      <th>1</th>\n",
       "      <td>1000</td>\n",
       "      <td>6</td>\n",
       "      <td>43</td>\n",
       "      <td>159</td>\n",
       "      <td>23233.77</td>\n",
       "      <td>60</td>\n",
       "      <td>52</td>\n",
       "      <td>2030-01-01</td>\n",
       "      <td>Краснодар</td>\n",
       "      <td>Рафаил</td>\n",
       "      <td>Верещагин</td>\n",
       "      <td>2018-05-25</td>\n",
       "      <td>ultra</td>\n",
       "      <td>23</td>\n",
       "      <td>1000</td>\n",
       "      <td>3000</td>\n",
       "      <td>30</td>\n",
       "      <td>1</td>\n",
       "    </tr>\n",
       "    <tr>\n",
       "      <th>2</th>\n",
       "      <td>1000</td>\n",
       "      <td>7</td>\n",
       "      <td>47</td>\n",
       "      <td>318</td>\n",
       "      <td>14003.64</td>\n",
       "      <td>75</td>\n",
       "      <td>52</td>\n",
       "      <td>2030-01-01</td>\n",
       "      <td>Краснодар</td>\n",
       "      <td>Рафаил</td>\n",
       "      <td>Верещагин</td>\n",
       "      <td>2018-05-25</td>\n",
       "      <td>ultra</td>\n",
       "      <td>14</td>\n",
       "      <td>1000</td>\n",
       "      <td>3000</td>\n",
       "      <td>30</td>\n",
       "      <td>1</td>\n",
       "    </tr>\n",
       "    <tr>\n",
       "      <th>3</th>\n",
       "      <td>1000</td>\n",
       "      <td>8</td>\n",
       "      <td>52</td>\n",
       "      <td>390</td>\n",
       "      <td>14055.93</td>\n",
       "      <td>81</td>\n",
       "      <td>52</td>\n",
       "      <td>2030-01-01</td>\n",
       "      <td>Краснодар</td>\n",
       "      <td>Рафаил</td>\n",
       "      <td>Верещагин</td>\n",
       "      <td>2018-05-25</td>\n",
       "      <td>ultra</td>\n",
       "      <td>14</td>\n",
       "      <td>1000</td>\n",
       "      <td>3000</td>\n",
       "      <td>30</td>\n",
       "      <td>1</td>\n",
       "    </tr>\n",
       "    <tr>\n",
       "      <th>4</th>\n",
       "      <td>1000</td>\n",
       "      <td>9</td>\n",
       "      <td>58</td>\n",
       "      <td>432</td>\n",
       "      <td>14568.91</td>\n",
       "      <td>57</td>\n",
       "      <td>52</td>\n",
       "      <td>2030-01-01</td>\n",
       "      <td>Краснодар</td>\n",
       "      <td>Рафаил</td>\n",
       "      <td>Верещагин</td>\n",
       "      <td>2018-05-25</td>\n",
       "      <td>ultra</td>\n",
       "      <td>15</td>\n",
       "      <td>1000</td>\n",
       "      <td>3000</td>\n",
       "      <td>30</td>\n",
       "      <td>1</td>\n",
       "    </tr>\n",
       "    <tr>\n",
       "      <th>...</th>\n",
       "      <td>...</td>\n",
       "      <td>...</td>\n",
       "      <td>...</td>\n",
       "      <td>...</td>\n",
       "      <td>...</td>\n",
       "      <td>...</td>\n",
       "      <td>...</td>\n",
       "      <td>...</td>\n",
       "      <td>...</td>\n",
       "      <td>...</td>\n",
       "      <td>...</td>\n",
       "      <td>...</td>\n",
       "      <td>...</td>\n",
       "      <td>...</td>\n",
       "      <td>...</td>\n",
       "      <td>...</td>\n",
       "      <td>...</td>\n",
       "      <td>...</td>\n",
       "    </tr>\n",
       "    <tr>\n",
       "      <th>3211</th>\n",
       "      <td>1489</td>\n",
       "      <td>10</td>\n",
       "      <td>0</td>\n",
       "      <td>0</td>\n",
       "      <td>19559.44</td>\n",
       "      <td>21</td>\n",
       "      <td>35</td>\n",
       "      <td>2030-01-01</td>\n",
       "      <td>Санкт-Петербург</td>\n",
       "      <td>Павел</td>\n",
       "      <td>Гончаров</td>\n",
       "      <td>2018-08-15</td>\n",
       "      <td>smart</td>\n",
       "      <td>20</td>\n",
       "      <td>50</td>\n",
       "      <td>500</td>\n",
       "      <td>15</td>\n",
       "      <td>3</td>\n",
       "    </tr>\n",
       "    <tr>\n",
       "      <th>3212</th>\n",
       "      <td>1489</td>\n",
       "      <td>11</td>\n",
       "      <td>0</td>\n",
       "      <td>0</td>\n",
       "      <td>17491.56</td>\n",
       "      <td>20</td>\n",
       "      <td>35</td>\n",
       "      <td>2030-01-01</td>\n",
       "      <td>Санкт-Петербург</td>\n",
       "      <td>Павел</td>\n",
       "      <td>Гончаров</td>\n",
       "      <td>2018-08-15</td>\n",
       "      <td>smart</td>\n",
       "      <td>18</td>\n",
       "      <td>50</td>\n",
       "      <td>500</td>\n",
       "      <td>15</td>\n",
       "      <td>3</td>\n",
       "    </tr>\n",
       "    <tr>\n",
       "      <th>3213</th>\n",
       "      <td>1489</td>\n",
       "      <td>12</td>\n",
       "      <td>0</td>\n",
       "      <td>0</td>\n",
       "      <td>17322.51</td>\n",
       "      <td>35</td>\n",
       "      <td>35</td>\n",
       "      <td>2030-01-01</td>\n",
       "      <td>Санкт-Петербург</td>\n",
       "      <td>Павел</td>\n",
       "      <td>Гончаров</td>\n",
       "      <td>2018-08-15</td>\n",
       "      <td>smart</td>\n",
       "      <td>17</td>\n",
       "      <td>50</td>\n",
       "      <td>500</td>\n",
       "      <td>15</td>\n",
       "      <td>3</td>\n",
       "    </tr>\n",
       "    <tr>\n",
       "      <th>3214</th>\n",
       "      <td>1128</td>\n",
       "      <td>-1</td>\n",
       "      <td>0</td>\n",
       "      <td>0</td>\n",
       "      <td>0.00</td>\n",
       "      <td>0</td>\n",
       "      <td>51</td>\n",
       "      <td>2018-12-23</td>\n",
       "      <td>Волжский</td>\n",
       "      <td>Ксения</td>\n",
       "      <td>Агаева</td>\n",
       "      <td>2018-12-15</td>\n",
       "      <td>ultra</td>\n",
       "      <td>0</td>\n",
       "      <td>1000</td>\n",
       "      <td>3000</td>\n",
       "      <td>30</td>\n",
       "      <td>1</td>\n",
       "    </tr>\n",
       "    <tr>\n",
       "      <th>3215</th>\n",
       "      <td>1371</td>\n",
       "      <td>-1</td>\n",
       "      <td>0</td>\n",
       "      <td>0</td>\n",
       "      <td>0.00</td>\n",
       "      <td>0</td>\n",
       "      <td>50</td>\n",
       "      <td>2018-12-30</td>\n",
       "      <td>Омск</td>\n",
       "      <td>Ириней</td>\n",
       "      <td>Трофимов</td>\n",
       "      <td>2018-12-25</td>\n",
       "      <td>smart</td>\n",
       "      <td>0</td>\n",
       "      <td>50</td>\n",
       "      <td>500</td>\n",
       "      <td>15</td>\n",
       "      <td>3</td>\n",
       "    </tr>\n",
       "  </tbody>\n",
       "</table>\n",
       "<p>3216 rows × 18 columns</p>\n",
       "</div>"
      ],
      "text/plain": [
       "      user_id  month  calls_count  duration   mb_used  messages_count  age  \\\n",
       "0        1000      5           22       151   2253.49              22   52   \n",
       "1        1000      6           43       159  23233.77              60   52   \n",
       "2        1000      7           47       318  14003.64              75   52   \n",
       "3        1000      8           52       390  14055.93              81   52   \n",
       "4        1000      9           58       432  14568.91              57   52   \n",
       "...       ...    ...          ...       ...       ...             ...  ...   \n",
       "3211     1489     10            0         0  19559.44              21   35   \n",
       "3212     1489     11            0         0  17491.56              20   35   \n",
       "3213     1489     12            0         0  17322.51              35   35   \n",
       "3214     1128     -1            0         0      0.00               0   51   \n",
       "3215     1371     -1            0         0      0.00               0   50   \n",
       "\n",
       "     churn_date             city first_name  last_name   reg_date tariff  \\\n",
       "0    2030-01-01        Краснодар     Рафаил  Верещагин 2018-05-25  ultra   \n",
       "1    2030-01-01        Краснодар     Рафаил  Верещагин 2018-05-25  ultra   \n",
       "2    2030-01-01        Краснодар     Рафаил  Верещагин 2018-05-25  ultra   \n",
       "3    2030-01-01        Краснодар     Рафаил  Верещагин 2018-05-25  ultra   \n",
       "4    2030-01-01        Краснодар     Рафаил  Верещагин 2018-05-25  ultra   \n",
       "...         ...              ...        ...        ...        ...    ...   \n",
       "3211 2030-01-01  Санкт-Петербург      Павел   Гончаров 2018-08-15  smart   \n",
       "3212 2030-01-01  Санкт-Петербург      Павел   Гончаров 2018-08-15  smart   \n",
       "3213 2030-01-01  Санкт-Петербург      Павел   Гончаров 2018-08-15  smart   \n",
       "3214 2018-12-23         Волжский     Ксения     Агаева 2018-12-15  ultra   \n",
       "3215 2018-12-30             Омск     Ириней   Трофимов 2018-12-25  smart   \n",
       "\n",
       "      gb_used  messages_included  minutes_included  gb_per_month_included  \\\n",
       "0           3               1000              3000                     30   \n",
       "1          23               1000              3000                     30   \n",
       "2          14               1000              3000                     30   \n",
       "3          14               1000              3000                     30   \n",
       "4          15               1000              3000                     30   \n",
       "...       ...                ...               ...                    ...   \n",
       "3211       20                 50               500                     15   \n",
       "3212       18                 50               500                     15   \n",
       "3213       17                 50               500                     15   \n",
       "3214        0               1000              3000                     30   \n",
       "3215        0                 50               500                     15   \n",
       "\n",
       "      rub_per_minute_message  \n",
       "0                          1  \n",
       "1                          1  \n",
       "2                          1  \n",
       "3                          1  \n",
       "4                          1  \n",
       "...                      ...  \n",
       "3211                       3  \n",
       "3212                       3  \n",
       "3213                       3  \n",
       "3214                       1  \n",
       "3215                       3  \n",
       "\n",
       "[3216 rows x 18 columns]"
      ]
     },
     "execution_count": 41,
     "metadata": {},
     "output_type": "execute_result"
    }
   ],
   "source": [
    "def rub_per_minute_message(row):\n",
    "    if row['tariff'] == 'ultra':\n",
    "        return 1\n",
    "    else:\n",
    "        return 3\n",
    "\n",
    "calls_messages_internet['rub_per_minute_message'] = calls_messages_internet.apply(rub_per_minute_message, axis = 1)\n",
    "calls_messages_internet"
   ]
  },
  {
   "cell_type": "code",
   "execution_count": 42,
   "metadata": {},
   "outputs": [
    {
     "data": {
      "text/html": [
       "<div>\n",
       "<style scoped>\n",
       "    .dataframe tbody tr th:only-of-type {\n",
       "        vertical-align: middle;\n",
       "    }\n",
       "\n",
       "    .dataframe tbody tr th {\n",
       "        vertical-align: top;\n",
       "    }\n",
       "\n",
       "    .dataframe thead th {\n",
       "        text-align: right;\n",
       "    }\n",
       "</style>\n",
       "<table border=\"1\" class=\"dataframe\">\n",
       "  <thead>\n",
       "    <tr style=\"text-align: right;\">\n",
       "      <th></th>\n",
       "      <th>user_id</th>\n",
       "      <th>month</th>\n",
       "      <th>calls_count</th>\n",
       "      <th>duration</th>\n",
       "      <th>mb_used</th>\n",
       "      <th>messages_count</th>\n",
       "      <th>age</th>\n",
       "      <th>churn_date</th>\n",
       "      <th>city</th>\n",
       "      <th>first_name</th>\n",
       "      <th>last_name</th>\n",
       "      <th>reg_date</th>\n",
       "      <th>tariff</th>\n",
       "      <th>gb_used</th>\n",
       "      <th>messages_included</th>\n",
       "      <th>minutes_included</th>\n",
       "      <th>gb_per_month_included</th>\n",
       "      <th>rub_per_minute_message</th>\n",
       "      <th>rub_per_gb</th>\n",
       "    </tr>\n",
       "  </thead>\n",
       "  <tbody>\n",
       "    <tr>\n",
       "      <th>0</th>\n",
       "      <td>1000</td>\n",
       "      <td>5</td>\n",
       "      <td>22</td>\n",
       "      <td>151</td>\n",
       "      <td>2253.49</td>\n",
       "      <td>22</td>\n",
       "      <td>52</td>\n",
       "      <td>2030-01-01</td>\n",
       "      <td>Краснодар</td>\n",
       "      <td>Рафаил</td>\n",
       "      <td>Верещагин</td>\n",
       "      <td>2018-05-25</td>\n",
       "      <td>ultra</td>\n",
       "      <td>3</td>\n",
       "      <td>1000</td>\n",
       "      <td>3000</td>\n",
       "      <td>30</td>\n",
       "      <td>1</td>\n",
       "      <td>150</td>\n",
       "    </tr>\n",
       "    <tr>\n",
       "      <th>1</th>\n",
       "      <td>1000</td>\n",
       "      <td>6</td>\n",
       "      <td>43</td>\n",
       "      <td>159</td>\n",
       "      <td>23233.77</td>\n",
       "      <td>60</td>\n",
       "      <td>52</td>\n",
       "      <td>2030-01-01</td>\n",
       "      <td>Краснодар</td>\n",
       "      <td>Рафаил</td>\n",
       "      <td>Верещагин</td>\n",
       "      <td>2018-05-25</td>\n",
       "      <td>ultra</td>\n",
       "      <td>23</td>\n",
       "      <td>1000</td>\n",
       "      <td>3000</td>\n",
       "      <td>30</td>\n",
       "      <td>1</td>\n",
       "      <td>150</td>\n",
       "    </tr>\n",
       "    <tr>\n",
       "      <th>2</th>\n",
       "      <td>1000</td>\n",
       "      <td>7</td>\n",
       "      <td>47</td>\n",
       "      <td>318</td>\n",
       "      <td>14003.64</td>\n",
       "      <td>75</td>\n",
       "      <td>52</td>\n",
       "      <td>2030-01-01</td>\n",
       "      <td>Краснодар</td>\n",
       "      <td>Рафаил</td>\n",
       "      <td>Верещагин</td>\n",
       "      <td>2018-05-25</td>\n",
       "      <td>ultra</td>\n",
       "      <td>14</td>\n",
       "      <td>1000</td>\n",
       "      <td>3000</td>\n",
       "      <td>30</td>\n",
       "      <td>1</td>\n",
       "      <td>150</td>\n",
       "    </tr>\n",
       "    <tr>\n",
       "      <th>3</th>\n",
       "      <td>1000</td>\n",
       "      <td>8</td>\n",
       "      <td>52</td>\n",
       "      <td>390</td>\n",
       "      <td>14055.93</td>\n",
       "      <td>81</td>\n",
       "      <td>52</td>\n",
       "      <td>2030-01-01</td>\n",
       "      <td>Краснодар</td>\n",
       "      <td>Рафаил</td>\n",
       "      <td>Верещагин</td>\n",
       "      <td>2018-05-25</td>\n",
       "      <td>ultra</td>\n",
       "      <td>14</td>\n",
       "      <td>1000</td>\n",
       "      <td>3000</td>\n",
       "      <td>30</td>\n",
       "      <td>1</td>\n",
       "      <td>150</td>\n",
       "    </tr>\n",
       "    <tr>\n",
       "      <th>4</th>\n",
       "      <td>1000</td>\n",
       "      <td>9</td>\n",
       "      <td>58</td>\n",
       "      <td>432</td>\n",
       "      <td>14568.91</td>\n",
       "      <td>57</td>\n",
       "      <td>52</td>\n",
       "      <td>2030-01-01</td>\n",
       "      <td>Краснодар</td>\n",
       "      <td>Рафаил</td>\n",
       "      <td>Верещагин</td>\n",
       "      <td>2018-05-25</td>\n",
       "      <td>ultra</td>\n",
       "      <td>15</td>\n",
       "      <td>1000</td>\n",
       "      <td>3000</td>\n",
       "      <td>30</td>\n",
       "      <td>1</td>\n",
       "      <td>150</td>\n",
       "    </tr>\n",
       "    <tr>\n",
       "      <th>...</th>\n",
       "      <td>...</td>\n",
       "      <td>...</td>\n",
       "      <td>...</td>\n",
       "      <td>...</td>\n",
       "      <td>...</td>\n",
       "      <td>...</td>\n",
       "      <td>...</td>\n",
       "      <td>...</td>\n",
       "      <td>...</td>\n",
       "      <td>...</td>\n",
       "      <td>...</td>\n",
       "      <td>...</td>\n",
       "      <td>...</td>\n",
       "      <td>...</td>\n",
       "      <td>...</td>\n",
       "      <td>...</td>\n",
       "      <td>...</td>\n",
       "      <td>...</td>\n",
       "      <td>...</td>\n",
       "    </tr>\n",
       "    <tr>\n",
       "      <th>3211</th>\n",
       "      <td>1489</td>\n",
       "      <td>10</td>\n",
       "      <td>0</td>\n",
       "      <td>0</td>\n",
       "      <td>19559.44</td>\n",
       "      <td>21</td>\n",
       "      <td>35</td>\n",
       "      <td>2030-01-01</td>\n",
       "      <td>Санкт-Петербург</td>\n",
       "      <td>Павел</td>\n",
       "      <td>Гончаров</td>\n",
       "      <td>2018-08-15</td>\n",
       "      <td>smart</td>\n",
       "      <td>20</td>\n",
       "      <td>50</td>\n",
       "      <td>500</td>\n",
       "      <td>15</td>\n",
       "      <td>3</td>\n",
       "      <td>200</td>\n",
       "    </tr>\n",
       "    <tr>\n",
       "      <th>3212</th>\n",
       "      <td>1489</td>\n",
       "      <td>11</td>\n",
       "      <td>0</td>\n",
       "      <td>0</td>\n",
       "      <td>17491.56</td>\n",
       "      <td>20</td>\n",
       "      <td>35</td>\n",
       "      <td>2030-01-01</td>\n",
       "      <td>Санкт-Петербург</td>\n",
       "      <td>Павел</td>\n",
       "      <td>Гончаров</td>\n",
       "      <td>2018-08-15</td>\n",
       "      <td>smart</td>\n",
       "      <td>18</td>\n",
       "      <td>50</td>\n",
       "      <td>500</td>\n",
       "      <td>15</td>\n",
       "      <td>3</td>\n",
       "      <td>200</td>\n",
       "    </tr>\n",
       "    <tr>\n",
       "      <th>3213</th>\n",
       "      <td>1489</td>\n",
       "      <td>12</td>\n",
       "      <td>0</td>\n",
       "      <td>0</td>\n",
       "      <td>17322.51</td>\n",
       "      <td>35</td>\n",
       "      <td>35</td>\n",
       "      <td>2030-01-01</td>\n",
       "      <td>Санкт-Петербург</td>\n",
       "      <td>Павел</td>\n",
       "      <td>Гончаров</td>\n",
       "      <td>2018-08-15</td>\n",
       "      <td>smart</td>\n",
       "      <td>17</td>\n",
       "      <td>50</td>\n",
       "      <td>500</td>\n",
       "      <td>15</td>\n",
       "      <td>3</td>\n",
       "      <td>200</td>\n",
       "    </tr>\n",
       "    <tr>\n",
       "      <th>3214</th>\n",
       "      <td>1128</td>\n",
       "      <td>-1</td>\n",
       "      <td>0</td>\n",
       "      <td>0</td>\n",
       "      <td>0.00</td>\n",
       "      <td>0</td>\n",
       "      <td>51</td>\n",
       "      <td>2018-12-23</td>\n",
       "      <td>Волжский</td>\n",
       "      <td>Ксения</td>\n",
       "      <td>Агаева</td>\n",
       "      <td>2018-12-15</td>\n",
       "      <td>ultra</td>\n",
       "      <td>0</td>\n",
       "      <td>1000</td>\n",
       "      <td>3000</td>\n",
       "      <td>30</td>\n",
       "      <td>1</td>\n",
       "      <td>150</td>\n",
       "    </tr>\n",
       "    <tr>\n",
       "      <th>3215</th>\n",
       "      <td>1371</td>\n",
       "      <td>-1</td>\n",
       "      <td>0</td>\n",
       "      <td>0</td>\n",
       "      <td>0.00</td>\n",
       "      <td>0</td>\n",
       "      <td>50</td>\n",
       "      <td>2018-12-30</td>\n",
       "      <td>Омск</td>\n",
       "      <td>Ириней</td>\n",
       "      <td>Трофимов</td>\n",
       "      <td>2018-12-25</td>\n",
       "      <td>smart</td>\n",
       "      <td>0</td>\n",
       "      <td>50</td>\n",
       "      <td>500</td>\n",
       "      <td>15</td>\n",
       "      <td>3</td>\n",
       "      <td>200</td>\n",
       "    </tr>\n",
       "  </tbody>\n",
       "</table>\n",
       "<p>3216 rows × 19 columns</p>\n",
       "</div>"
      ],
      "text/plain": [
       "      user_id  month  calls_count  duration   mb_used  messages_count  age  \\\n",
       "0        1000      5           22       151   2253.49              22   52   \n",
       "1        1000      6           43       159  23233.77              60   52   \n",
       "2        1000      7           47       318  14003.64              75   52   \n",
       "3        1000      8           52       390  14055.93              81   52   \n",
       "4        1000      9           58       432  14568.91              57   52   \n",
       "...       ...    ...          ...       ...       ...             ...  ...   \n",
       "3211     1489     10            0         0  19559.44              21   35   \n",
       "3212     1489     11            0         0  17491.56              20   35   \n",
       "3213     1489     12            0         0  17322.51              35   35   \n",
       "3214     1128     -1            0         0      0.00               0   51   \n",
       "3215     1371     -1            0         0      0.00               0   50   \n",
       "\n",
       "     churn_date             city first_name  last_name   reg_date tariff  \\\n",
       "0    2030-01-01        Краснодар     Рафаил  Верещагин 2018-05-25  ultra   \n",
       "1    2030-01-01        Краснодар     Рафаил  Верещагин 2018-05-25  ultra   \n",
       "2    2030-01-01        Краснодар     Рафаил  Верещагин 2018-05-25  ultra   \n",
       "3    2030-01-01        Краснодар     Рафаил  Верещагин 2018-05-25  ultra   \n",
       "4    2030-01-01        Краснодар     Рафаил  Верещагин 2018-05-25  ultra   \n",
       "...         ...              ...        ...        ...        ...    ...   \n",
       "3211 2030-01-01  Санкт-Петербург      Павел   Гончаров 2018-08-15  smart   \n",
       "3212 2030-01-01  Санкт-Петербург      Павел   Гончаров 2018-08-15  smart   \n",
       "3213 2030-01-01  Санкт-Петербург      Павел   Гончаров 2018-08-15  smart   \n",
       "3214 2018-12-23         Волжский     Ксения     Агаева 2018-12-15  ultra   \n",
       "3215 2018-12-30             Омск     Ириней   Трофимов 2018-12-25  smart   \n",
       "\n",
       "      gb_used  messages_included  minutes_included  gb_per_month_included  \\\n",
       "0           3               1000              3000                     30   \n",
       "1          23               1000              3000                     30   \n",
       "2          14               1000              3000                     30   \n",
       "3          14               1000              3000                     30   \n",
       "4          15               1000              3000                     30   \n",
       "...       ...                ...               ...                    ...   \n",
       "3211       20                 50               500                     15   \n",
       "3212       18                 50               500                     15   \n",
       "3213       17                 50               500                     15   \n",
       "3214        0               1000              3000                     30   \n",
       "3215        0                 50               500                     15   \n",
       "\n",
       "      rub_per_minute_message  rub_per_gb  \n",
       "0                          1         150  \n",
       "1                          1         150  \n",
       "2                          1         150  \n",
       "3                          1         150  \n",
       "4                          1         150  \n",
       "...                      ...         ...  \n",
       "3211                       3         200  \n",
       "3212                       3         200  \n",
       "3213                       3         200  \n",
       "3214                       1         150  \n",
       "3215                       3         200  \n",
       "\n",
       "[3216 rows x 19 columns]"
      ]
     },
     "execution_count": 42,
     "metadata": {},
     "output_type": "execute_result"
    }
   ],
   "source": [
    "def rub_per_gb(row):\n",
    "    if row['tariff'] == 'ultra':\n",
    "        return 150\n",
    "    else:\n",
    "        return 200\n",
    "\n",
    "calls_messages_internet['rub_per_gb'] = calls_messages_internet.apply(rub_per_gb, axis = 1)\n",
    "calls_messages_internet"
   ]
  },
  {
   "cell_type": "code",
   "execution_count": 43,
   "metadata": {},
   "outputs": [
    {
     "data": {
      "text/html": [
       "<div>\n",
       "<style scoped>\n",
       "    .dataframe tbody tr th:only-of-type {\n",
       "        vertical-align: middle;\n",
       "    }\n",
       "\n",
       "    .dataframe tbody tr th {\n",
       "        vertical-align: top;\n",
       "    }\n",
       "\n",
       "    .dataframe thead th {\n",
       "        text-align: right;\n",
       "    }\n",
       "</style>\n",
       "<table border=\"1\" class=\"dataframe\">\n",
       "  <thead>\n",
       "    <tr style=\"text-align: right;\">\n",
       "      <th></th>\n",
       "      <th>user_id</th>\n",
       "      <th>month</th>\n",
       "      <th>calls_count</th>\n",
       "      <th>duration</th>\n",
       "      <th>mb_used</th>\n",
       "      <th>messages_count</th>\n",
       "      <th>age</th>\n",
       "      <th>churn_date</th>\n",
       "      <th>city</th>\n",
       "      <th>first_name</th>\n",
       "      <th>last_name</th>\n",
       "      <th>reg_date</th>\n",
       "      <th>tariff</th>\n",
       "      <th>gb_used</th>\n",
       "      <th>messages_included</th>\n",
       "      <th>minutes_included</th>\n",
       "      <th>gb_per_month_included</th>\n",
       "      <th>rub_per_minute_message</th>\n",
       "      <th>rub_per_gb</th>\n",
       "      <th>rub_monthly_fee</th>\n",
       "    </tr>\n",
       "  </thead>\n",
       "  <tbody>\n",
       "    <tr>\n",
       "      <th>0</th>\n",
       "      <td>1000</td>\n",
       "      <td>5</td>\n",
       "      <td>22</td>\n",
       "      <td>151</td>\n",
       "      <td>2253.49</td>\n",
       "      <td>22</td>\n",
       "      <td>52</td>\n",
       "      <td>2030-01-01</td>\n",
       "      <td>Краснодар</td>\n",
       "      <td>Рафаил</td>\n",
       "      <td>Верещагин</td>\n",
       "      <td>2018-05-25</td>\n",
       "      <td>ultra</td>\n",
       "      <td>3</td>\n",
       "      <td>1000</td>\n",
       "      <td>3000</td>\n",
       "      <td>30</td>\n",
       "      <td>1</td>\n",
       "      <td>150</td>\n",
       "      <td>1950</td>\n",
       "    </tr>\n",
       "    <tr>\n",
       "      <th>1</th>\n",
       "      <td>1000</td>\n",
       "      <td>6</td>\n",
       "      <td>43</td>\n",
       "      <td>159</td>\n",
       "      <td>23233.77</td>\n",
       "      <td>60</td>\n",
       "      <td>52</td>\n",
       "      <td>2030-01-01</td>\n",
       "      <td>Краснодар</td>\n",
       "      <td>Рафаил</td>\n",
       "      <td>Верещагин</td>\n",
       "      <td>2018-05-25</td>\n",
       "      <td>ultra</td>\n",
       "      <td>23</td>\n",
       "      <td>1000</td>\n",
       "      <td>3000</td>\n",
       "      <td>30</td>\n",
       "      <td>1</td>\n",
       "      <td>150</td>\n",
       "      <td>1950</td>\n",
       "    </tr>\n",
       "    <tr>\n",
       "      <th>2</th>\n",
       "      <td>1000</td>\n",
       "      <td>7</td>\n",
       "      <td>47</td>\n",
       "      <td>318</td>\n",
       "      <td>14003.64</td>\n",
       "      <td>75</td>\n",
       "      <td>52</td>\n",
       "      <td>2030-01-01</td>\n",
       "      <td>Краснодар</td>\n",
       "      <td>Рафаил</td>\n",
       "      <td>Верещагин</td>\n",
       "      <td>2018-05-25</td>\n",
       "      <td>ultra</td>\n",
       "      <td>14</td>\n",
       "      <td>1000</td>\n",
       "      <td>3000</td>\n",
       "      <td>30</td>\n",
       "      <td>1</td>\n",
       "      <td>150</td>\n",
       "      <td>1950</td>\n",
       "    </tr>\n",
       "    <tr>\n",
       "      <th>3</th>\n",
       "      <td>1000</td>\n",
       "      <td>8</td>\n",
       "      <td>52</td>\n",
       "      <td>390</td>\n",
       "      <td>14055.93</td>\n",
       "      <td>81</td>\n",
       "      <td>52</td>\n",
       "      <td>2030-01-01</td>\n",
       "      <td>Краснодар</td>\n",
       "      <td>Рафаил</td>\n",
       "      <td>Верещагин</td>\n",
       "      <td>2018-05-25</td>\n",
       "      <td>ultra</td>\n",
       "      <td>14</td>\n",
       "      <td>1000</td>\n",
       "      <td>3000</td>\n",
       "      <td>30</td>\n",
       "      <td>1</td>\n",
       "      <td>150</td>\n",
       "      <td>1950</td>\n",
       "    </tr>\n",
       "    <tr>\n",
       "      <th>4</th>\n",
       "      <td>1000</td>\n",
       "      <td>9</td>\n",
       "      <td>58</td>\n",
       "      <td>432</td>\n",
       "      <td>14568.91</td>\n",
       "      <td>57</td>\n",
       "      <td>52</td>\n",
       "      <td>2030-01-01</td>\n",
       "      <td>Краснодар</td>\n",
       "      <td>Рафаил</td>\n",
       "      <td>Верещагин</td>\n",
       "      <td>2018-05-25</td>\n",
       "      <td>ultra</td>\n",
       "      <td>15</td>\n",
       "      <td>1000</td>\n",
       "      <td>3000</td>\n",
       "      <td>30</td>\n",
       "      <td>1</td>\n",
       "      <td>150</td>\n",
       "      <td>1950</td>\n",
       "    </tr>\n",
       "    <tr>\n",
       "      <th>...</th>\n",
       "      <td>...</td>\n",
       "      <td>...</td>\n",
       "      <td>...</td>\n",
       "      <td>...</td>\n",
       "      <td>...</td>\n",
       "      <td>...</td>\n",
       "      <td>...</td>\n",
       "      <td>...</td>\n",
       "      <td>...</td>\n",
       "      <td>...</td>\n",
       "      <td>...</td>\n",
       "      <td>...</td>\n",
       "      <td>...</td>\n",
       "      <td>...</td>\n",
       "      <td>...</td>\n",
       "      <td>...</td>\n",
       "      <td>...</td>\n",
       "      <td>...</td>\n",
       "      <td>...</td>\n",
       "      <td>...</td>\n",
       "    </tr>\n",
       "    <tr>\n",
       "      <th>3211</th>\n",
       "      <td>1489</td>\n",
       "      <td>10</td>\n",
       "      <td>0</td>\n",
       "      <td>0</td>\n",
       "      <td>19559.44</td>\n",
       "      <td>21</td>\n",
       "      <td>35</td>\n",
       "      <td>2030-01-01</td>\n",
       "      <td>Санкт-Петербург</td>\n",
       "      <td>Павел</td>\n",
       "      <td>Гончаров</td>\n",
       "      <td>2018-08-15</td>\n",
       "      <td>smart</td>\n",
       "      <td>20</td>\n",
       "      <td>50</td>\n",
       "      <td>500</td>\n",
       "      <td>15</td>\n",
       "      <td>3</td>\n",
       "      <td>200</td>\n",
       "      <td>550</td>\n",
       "    </tr>\n",
       "    <tr>\n",
       "      <th>3212</th>\n",
       "      <td>1489</td>\n",
       "      <td>11</td>\n",
       "      <td>0</td>\n",
       "      <td>0</td>\n",
       "      <td>17491.56</td>\n",
       "      <td>20</td>\n",
       "      <td>35</td>\n",
       "      <td>2030-01-01</td>\n",
       "      <td>Санкт-Петербург</td>\n",
       "      <td>Павел</td>\n",
       "      <td>Гончаров</td>\n",
       "      <td>2018-08-15</td>\n",
       "      <td>smart</td>\n",
       "      <td>18</td>\n",
       "      <td>50</td>\n",
       "      <td>500</td>\n",
       "      <td>15</td>\n",
       "      <td>3</td>\n",
       "      <td>200</td>\n",
       "      <td>550</td>\n",
       "    </tr>\n",
       "    <tr>\n",
       "      <th>3213</th>\n",
       "      <td>1489</td>\n",
       "      <td>12</td>\n",
       "      <td>0</td>\n",
       "      <td>0</td>\n",
       "      <td>17322.51</td>\n",
       "      <td>35</td>\n",
       "      <td>35</td>\n",
       "      <td>2030-01-01</td>\n",
       "      <td>Санкт-Петербург</td>\n",
       "      <td>Павел</td>\n",
       "      <td>Гончаров</td>\n",
       "      <td>2018-08-15</td>\n",
       "      <td>smart</td>\n",
       "      <td>17</td>\n",
       "      <td>50</td>\n",
       "      <td>500</td>\n",
       "      <td>15</td>\n",
       "      <td>3</td>\n",
       "      <td>200</td>\n",
       "      <td>550</td>\n",
       "    </tr>\n",
       "    <tr>\n",
       "      <th>3214</th>\n",
       "      <td>1128</td>\n",
       "      <td>-1</td>\n",
       "      <td>0</td>\n",
       "      <td>0</td>\n",
       "      <td>0.00</td>\n",
       "      <td>0</td>\n",
       "      <td>51</td>\n",
       "      <td>2018-12-23</td>\n",
       "      <td>Волжский</td>\n",
       "      <td>Ксения</td>\n",
       "      <td>Агаева</td>\n",
       "      <td>2018-12-15</td>\n",
       "      <td>ultra</td>\n",
       "      <td>0</td>\n",
       "      <td>1000</td>\n",
       "      <td>3000</td>\n",
       "      <td>30</td>\n",
       "      <td>1</td>\n",
       "      <td>150</td>\n",
       "      <td>1950</td>\n",
       "    </tr>\n",
       "    <tr>\n",
       "      <th>3215</th>\n",
       "      <td>1371</td>\n",
       "      <td>-1</td>\n",
       "      <td>0</td>\n",
       "      <td>0</td>\n",
       "      <td>0.00</td>\n",
       "      <td>0</td>\n",
       "      <td>50</td>\n",
       "      <td>2018-12-30</td>\n",
       "      <td>Омск</td>\n",
       "      <td>Ириней</td>\n",
       "      <td>Трофимов</td>\n",
       "      <td>2018-12-25</td>\n",
       "      <td>smart</td>\n",
       "      <td>0</td>\n",
       "      <td>50</td>\n",
       "      <td>500</td>\n",
       "      <td>15</td>\n",
       "      <td>3</td>\n",
       "      <td>200</td>\n",
       "      <td>550</td>\n",
       "    </tr>\n",
       "  </tbody>\n",
       "</table>\n",
       "<p>3216 rows × 20 columns</p>\n",
       "</div>"
      ],
      "text/plain": [
       "      user_id  month  calls_count  duration   mb_used  messages_count  age  \\\n",
       "0        1000      5           22       151   2253.49              22   52   \n",
       "1        1000      6           43       159  23233.77              60   52   \n",
       "2        1000      7           47       318  14003.64              75   52   \n",
       "3        1000      8           52       390  14055.93              81   52   \n",
       "4        1000      9           58       432  14568.91              57   52   \n",
       "...       ...    ...          ...       ...       ...             ...  ...   \n",
       "3211     1489     10            0         0  19559.44              21   35   \n",
       "3212     1489     11            0         0  17491.56              20   35   \n",
       "3213     1489     12            0         0  17322.51              35   35   \n",
       "3214     1128     -1            0         0      0.00               0   51   \n",
       "3215     1371     -1            0         0      0.00               0   50   \n",
       "\n",
       "     churn_date             city first_name  last_name   reg_date tariff  \\\n",
       "0    2030-01-01        Краснодар     Рафаил  Верещагин 2018-05-25  ultra   \n",
       "1    2030-01-01        Краснодар     Рафаил  Верещагин 2018-05-25  ultra   \n",
       "2    2030-01-01        Краснодар     Рафаил  Верещагин 2018-05-25  ultra   \n",
       "3    2030-01-01        Краснодар     Рафаил  Верещагин 2018-05-25  ultra   \n",
       "4    2030-01-01        Краснодар     Рафаил  Верещагин 2018-05-25  ultra   \n",
       "...         ...              ...        ...        ...        ...    ...   \n",
       "3211 2030-01-01  Санкт-Петербург      Павел   Гончаров 2018-08-15  smart   \n",
       "3212 2030-01-01  Санкт-Петербург      Павел   Гончаров 2018-08-15  smart   \n",
       "3213 2030-01-01  Санкт-Петербург      Павел   Гончаров 2018-08-15  smart   \n",
       "3214 2018-12-23         Волжский     Ксения     Агаева 2018-12-15  ultra   \n",
       "3215 2018-12-30             Омск     Ириней   Трофимов 2018-12-25  smart   \n",
       "\n",
       "      gb_used  messages_included  minutes_included  gb_per_month_included  \\\n",
       "0           3               1000              3000                     30   \n",
       "1          23               1000              3000                     30   \n",
       "2          14               1000              3000                     30   \n",
       "3          14               1000              3000                     30   \n",
       "4          15               1000              3000                     30   \n",
       "...       ...                ...               ...                    ...   \n",
       "3211       20                 50               500                     15   \n",
       "3212       18                 50               500                     15   \n",
       "3213       17                 50               500                     15   \n",
       "3214        0               1000              3000                     30   \n",
       "3215        0                 50               500                     15   \n",
       "\n",
       "      rub_per_minute_message  rub_per_gb  rub_monthly_fee  \n",
       "0                          1         150             1950  \n",
       "1                          1         150             1950  \n",
       "2                          1         150             1950  \n",
       "3                          1         150             1950  \n",
       "4                          1         150             1950  \n",
       "...                      ...         ...              ...  \n",
       "3211                       3         200              550  \n",
       "3212                       3         200              550  \n",
       "3213                       3         200              550  \n",
       "3214                       1         150             1950  \n",
       "3215                       3         200              550  \n",
       "\n",
       "[3216 rows x 20 columns]"
      ]
     },
     "execution_count": 43,
     "metadata": {},
     "output_type": "execute_result"
    }
   ],
   "source": [
    "def rub_monthly_fee(row):\n",
    "    if row['tariff'] == 'ultra':\n",
    "        return 1950\n",
    "    else:\n",
    "        return 550\n",
    "\n",
    "calls_messages_internet['rub_monthly_fee'] = calls_messages_internet.apply(rub_monthly_fee, axis = 1)\n",
    "calls_messages_internet"
   ]
  },
  {
   "cell_type": "code",
   "execution_count": 44,
   "metadata": {},
   "outputs": [
    {
     "data": {
      "text/html": [
       "<div>\n",
       "<style scoped>\n",
       "    .dataframe tbody tr th:only-of-type {\n",
       "        vertical-align: middle;\n",
       "    }\n",
       "\n",
       "    .dataframe tbody tr th {\n",
       "        vertical-align: top;\n",
       "    }\n",
       "\n",
       "    .dataframe thead th {\n",
       "        text-align: right;\n",
       "    }\n",
       "</style>\n",
       "<table border=\"1\" class=\"dataframe\">\n",
       "  <thead>\n",
       "    <tr style=\"text-align: right;\">\n",
       "      <th></th>\n",
       "      <th>user_id</th>\n",
       "      <th>month</th>\n",
       "      <th>calls_count</th>\n",
       "      <th>duration</th>\n",
       "      <th>mb_used</th>\n",
       "      <th>messages_count</th>\n",
       "      <th>age</th>\n",
       "      <th>churn_date</th>\n",
       "      <th>city</th>\n",
       "      <th>first_name</th>\n",
       "      <th>...</th>\n",
       "      <th>reg_date</th>\n",
       "      <th>tariff</th>\n",
       "      <th>gb_used</th>\n",
       "      <th>messages_included</th>\n",
       "      <th>minutes_included</th>\n",
       "      <th>gb_per_month_included</th>\n",
       "      <th>rub_per_minute_message</th>\n",
       "      <th>rub_per_gb</th>\n",
       "      <th>rub_monthly_fee</th>\n",
       "      <th>remainder_minutes</th>\n",
       "    </tr>\n",
       "  </thead>\n",
       "  <tbody>\n",
       "    <tr>\n",
       "      <th>0</th>\n",
       "      <td>1000</td>\n",
       "      <td>5</td>\n",
       "      <td>22</td>\n",
       "      <td>151</td>\n",
       "      <td>2253.49</td>\n",
       "      <td>22</td>\n",
       "      <td>52</td>\n",
       "      <td>2030-01-01</td>\n",
       "      <td>Краснодар</td>\n",
       "      <td>Рафаил</td>\n",
       "      <td>...</td>\n",
       "      <td>2018-05-25</td>\n",
       "      <td>ultra</td>\n",
       "      <td>3</td>\n",
       "      <td>1000</td>\n",
       "      <td>3000</td>\n",
       "      <td>30</td>\n",
       "      <td>1</td>\n",
       "      <td>150</td>\n",
       "      <td>1950</td>\n",
       "      <td>0</td>\n",
       "    </tr>\n",
       "    <tr>\n",
       "      <th>1</th>\n",
       "      <td>1000</td>\n",
       "      <td>6</td>\n",
       "      <td>43</td>\n",
       "      <td>159</td>\n",
       "      <td>23233.77</td>\n",
       "      <td>60</td>\n",
       "      <td>52</td>\n",
       "      <td>2030-01-01</td>\n",
       "      <td>Краснодар</td>\n",
       "      <td>Рафаил</td>\n",
       "      <td>...</td>\n",
       "      <td>2018-05-25</td>\n",
       "      <td>ultra</td>\n",
       "      <td>23</td>\n",
       "      <td>1000</td>\n",
       "      <td>3000</td>\n",
       "      <td>30</td>\n",
       "      <td>1</td>\n",
       "      <td>150</td>\n",
       "      <td>1950</td>\n",
       "      <td>0</td>\n",
       "    </tr>\n",
       "    <tr>\n",
       "      <th>2</th>\n",
       "      <td>1000</td>\n",
       "      <td>7</td>\n",
       "      <td>47</td>\n",
       "      <td>318</td>\n",
       "      <td>14003.64</td>\n",
       "      <td>75</td>\n",
       "      <td>52</td>\n",
       "      <td>2030-01-01</td>\n",
       "      <td>Краснодар</td>\n",
       "      <td>Рафаил</td>\n",
       "      <td>...</td>\n",
       "      <td>2018-05-25</td>\n",
       "      <td>ultra</td>\n",
       "      <td>14</td>\n",
       "      <td>1000</td>\n",
       "      <td>3000</td>\n",
       "      <td>30</td>\n",
       "      <td>1</td>\n",
       "      <td>150</td>\n",
       "      <td>1950</td>\n",
       "      <td>0</td>\n",
       "    </tr>\n",
       "    <tr>\n",
       "      <th>3</th>\n",
       "      <td>1000</td>\n",
       "      <td>8</td>\n",
       "      <td>52</td>\n",
       "      <td>390</td>\n",
       "      <td>14055.93</td>\n",
       "      <td>81</td>\n",
       "      <td>52</td>\n",
       "      <td>2030-01-01</td>\n",
       "      <td>Краснодар</td>\n",
       "      <td>Рафаил</td>\n",
       "      <td>...</td>\n",
       "      <td>2018-05-25</td>\n",
       "      <td>ultra</td>\n",
       "      <td>14</td>\n",
       "      <td>1000</td>\n",
       "      <td>3000</td>\n",
       "      <td>30</td>\n",
       "      <td>1</td>\n",
       "      <td>150</td>\n",
       "      <td>1950</td>\n",
       "      <td>0</td>\n",
       "    </tr>\n",
       "    <tr>\n",
       "      <th>4</th>\n",
       "      <td>1000</td>\n",
       "      <td>9</td>\n",
       "      <td>58</td>\n",
       "      <td>432</td>\n",
       "      <td>14568.91</td>\n",
       "      <td>57</td>\n",
       "      <td>52</td>\n",
       "      <td>2030-01-01</td>\n",
       "      <td>Краснодар</td>\n",
       "      <td>Рафаил</td>\n",
       "      <td>...</td>\n",
       "      <td>2018-05-25</td>\n",
       "      <td>ultra</td>\n",
       "      <td>15</td>\n",
       "      <td>1000</td>\n",
       "      <td>3000</td>\n",
       "      <td>30</td>\n",
       "      <td>1</td>\n",
       "      <td>150</td>\n",
       "      <td>1950</td>\n",
       "      <td>0</td>\n",
       "    </tr>\n",
       "    <tr>\n",
       "      <th>...</th>\n",
       "      <td>...</td>\n",
       "      <td>...</td>\n",
       "      <td>...</td>\n",
       "      <td>...</td>\n",
       "      <td>...</td>\n",
       "      <td>...</td>\n",
       "      <td>...</td>\n",
       "      <td>...</td>\n",
       "      <td>...</td>\n",
       "      <td>...</td>\n",
       "      <td>...</td>\n",
       "      <td>...</td>\n",
       "      <td>...</td>\n",
       "      <td>...</td>\n",
       "      <td>...</td>\n",
       "      <td>...</td>\n",
       "      <td>...</td>\n",
       "      <td>...</td>\n",
       "      <td>...</td>\n",
       "      <td>...</td>\n",
       "      <td>...</td>\n",
       "    </tr>\n",
       "    <tr>\n",
       "      <th>3211</th>\n",
       "      <td>1489</td>\n",
       "      <td>10</td>\n",
       "      <td>0</td>\n",
       "      <td>0</td>\n",
       "      <td>19559.44</td>\n",
       "      <td>21</td>\n",
       "      <td>35</td>\n",
       "      <td>2030-01-01</td>\n",
       "      <td>Санкт-Петербург</td>\n",
       "      <td>Павел</td>\n",
       "      <td>...</td>\n",
       "      <td>2018-08-15</td>\n",
       "      <td>smart</td>\n",
       "      <td>20</td>\n",
       "      <td>50</td>\n",
       "      <td>500</td>\n",
       "      <td>15</td>\n",
       "      <td>3</td>\n",
       "      <td>200</td>\n",
       "      <td>550</td>\n",
       "      <td>0</td>\n",
       "    </tr>\n",
       "    <tr>\n",
       "      <th>3212</th>\n",
       "      <td>1489</td>\n",
       "      <td>11</td>\n",
       "      <td>0</td>\n",
       "      <td>0</td>\n",
       "      <td>17491.56</td>\n",
       "      <td>20</td>\n",
       "      <td>35</td>\n",
       "      <td>2030-01-01</td>\n",
       "      <td>Санкт-Петербург</td>\n",
       "      <td>Павел</td>\n",
       "      <td>...</td>\n",
       "      <td>2018-08-15</td>\n",
       "      <td>smart</td>\n",
       "      <td>18</td>\n",
       "      <td>50</td>\n",
       "      <td>500</td>\n",
       "      <td>15</td>\n",
       "      <td>3</td>\n",
       "      <td>200</td>\n",
       "      <td>550</td>\n",
       "      <td>0</td>\n",
       "    </tr>\n",
       "    <tr>\n",
       "      <th>3213</th>\n",
       "      <td>1489</td>\n",
       "      <td>12</td>\n",
       "      <td>0</td>\n",
       "      <td>0</td>\n",
       "      <td>17322.51</td>\n",
       "      <td>35</td>\n",
       "      <td>35</td>\n",
       "      <td>2030-01-01</td>\n",
       "      <td>Санкт-Петербург</td>\n",
       "      <td>Павел</td>\n",
       "      <td>...</td>\n",
       "      <td>2018-08-15</td>\n",
       "      <td>smart</td>\n",
       "      <td>17</td>\n",
       "      <td>50</td>\n",
       "      <td>500</td>\n",
       "      <td>15</td>\n",
       "      <td>3</td>\n",
       "      <td>200</td>\n",
       "      <td>550</td>\n",
       "      <td>0</td>\n",
       "    </tr>\n",
       "    <tr>\n",
       "      <th>3214</th>\n",
       "      <td>1128</td>\n",
       "      <td>-1</td>\n",
       "      <td>0</td>\n",
       "      <td>0</td>\n",
       "      <td>0.00</td>\n",
       "      <td>0</td>\n",
       "      <td>51</td>\n",
       "      <td>2018-12-23</td>\n",
       "      <td>Волжский</td>\n",
       "      <td>Ксения</td>\n",
       "      <td>...</td>\n",
       "      <td>2018-12-15</td>\n",
       "      <td>ultra</td>\n",
       "      <td>0</td>\n",
       "      <td>1000</td>\n",
       "      <td>3000</td>\n",
       "      <td>30</td>\n",
       "      <td>1</td>\n",
       "      <td>150</td>\n",
       "      <td>1950</td>\n",
       "      <td>0</td>\n",
       "    </tr>\n",
       "    <tr>\n",
       "      <th>3215</th>\n",
       "      <td>1371</td>\n",
       "      <td>-1</td>\n",
       "      <td>0</td>\n",
       "      <td>0</td>\n",
       "      <td>0.00</td>\n",
       "      <td>0</td>\n",
       "      <td>50</td>\n",
       "      <td>2018-12-30</td>\n",
       "      <td>Омск</td>\n",
       "      <td>Ириней</td>\n",
       "      <td>...</td>\n",
       "      <td>2018-12-25</td>\n",
       "      <td>smart</td>\n",
       "      <td>0</td>\n",
       "      <td>50</td>\n",
       "      <td>500</td>\n",
       "      <td>15</td>\n",
       "      <td>3</td>\n",
       "      <td>200</td>\n",
       "      <td>550</td>\n",
       "      <td>0</td>\n",
       "    </tr>\n",
       "  </tbody>\n",
       "</table>\n",
       "<p>3216 rows × 21 columns</p>\n",
       "</div>"
      ],
      "text/plain": [
       "      user_id  month  calls_count  duration   mb_used  messages_count  age  \\\n",
       "0        1000      5           22       151   2253.49              22   52   \n",
       "1        1000      6           43       159  23233.77              60   52   \n",
       "2        1000      7           47       318  14003.64              75   52   \n",
       "3        1000      8           52       390  14055.93              81   52   \n",
       "4        1000      9           58       432  14568.91              57   52   \n",
       "...       ...    ...          ...       ...       ...             ...  ...   \n",
       "3211     1489     10            0         0  19559.44              21   35   \n",
       "3212     1489     11            0         0  17491.56              20   35   \n",
       "3213     1489     12            0         0  17322.51              35   35   \n",
       "3214     1128     -1            0         0      0.00               0   51   \n",
       "3215     1371     -1            0         0      0.00               0   50   \n",
       "\n",
       "     churn_date             city first_name  ...   reg_date tariff gb_used  \\\n",
       "0    2030-01-01        Краснодар     Рафаил  ... 2018-05-25  ultra       3   \n",
       "1    2030-01-01        Краснодар     Рафаил  ... 2018-05-25  ultra      23   \n",
       "2    2030-01-01        Краснодар     Рафаил  ... 2018-05-25  ultra      14   \n",
       "3    2030-01-01        Краснодар     Рафаил  ... 2018-05-25  ultra      14   \n",
       "4    2030-01-01        Краснодар     Рафаил  ... 2018-05-25  ultra      15   \n",
       "...         ...              ...        ...  ...        ...    ...     ...   \n",
       "3211 2030-01-01  Санкт-Петербург      Павел  ... 2018-08-15  smart      20   \n",
       "3212 2030-01-01  Санкт-Петербург      Павел  ... 2018-08-15  smart      18   \n",
       "3213 2030-01-01  Санкт-Петербург      Павел  ... 2018-08-15  smart      17   \n",
       "3214 2018-12-23         Волжский     Ксения  ... 2018-12-15  ultra       0   \n",
       "3215 2018-12-30             Омск     Ириней  ... 2018-12-25  smart       0   \n",
       "\n",
       "      messages_included  minutes_included  gb_per_month_included  \\\n",
       "0                  1000              3000                     30   \n",
       "1                  1000              3000                     30   \n",
       "2                  1000              3000                     30   \n",
       "3                  1000              3000                     30   \n",
       "4                  1000              3000                     30   \n",
       "...                 ...               ...                    ...   \n",
       "3211                 50               500                     15   \n",
       "3212                 50               500                     15   \n",
       "3213                 50               500                     15   \n",
       "3214               1000              3000                     30   \n",
       "3215                 50               500                     15   \n",
       "\n",
       "      rub_per_minute_message  rub_per_gb  rub_monthly_fee  remainder_minutes  \n",
       "0                          1         150             1950                  0  \n",
       "1                          1         150             1950                  0  \n",
       "2                          1         150             1950                  0  \n",
       "3                          1         150             1950                  0  \n",
       "4                          1         150             1950                  0  \n",
       "...                      ...         ...              ...                ...  \n",
       "3211                       3         200              550                  0  \n",
       "3212                       3         200              550                  0  \n",
       "3213                       3         200              550                  0  \n",
       "3214                       1         150             1950                  0  \n",
       "3215                       3         200              550                  0  \n",
       "\n",
       "[3216 rows x 21 columns]"
      ]
     },
     "execution_count": 44,
     "metadata": {},
     "output_type": "execute_result"
    }
   ],
   "source": [
    "def remainder(row):\n",
    "    remainder = 0\n",
    "    if row['duration'] <= row['minutes_included']:\n",
    "        return 0\n",
    "    else:\n",
    "        remainder = row['duration'] - row['minutes_included']\n",
    "        return remainder\n",
    "    \n",
    "calls_messages_internet['remainder_minutes'] = calls_messages_internet.apply(remainder, axis=1)\n",
    "calls_messages_internet"
   ]
  },
  {
   "cell_type": "code",
   "execution_count": 45,
   "metadata": {},
   "outputs": [
    {
     "data": {
      "text/html": [
       "<div>\n",
       "<style scoped>\n",
       "    .dataframe tbody tr th:only-of-type {\n",
       "        vertical-align: middle;\n",
       "    }\n",
       "\n",
       "    .dataframe tbody tr th {\n",
       "        vertical-align: top;\n",
       "    }\n",
       "\n",
       "    .dataframe thead th {\n",
       "        text-align: right;\n",
       "    }\n",
       "</style>\n",
       "<table border=\"1\" class=\"dataframe\">\n",
       "  <thead>\n",
       "    <tr style=\"text-align: right;\">\n",
       "      <th></th>\n",
       "      <th>user_id</th>\n",
       "      <th>month</th>\n",
       "      <th>calls_count</th>\n",
       "      <th>duration</th>\n",
       "      <th>mb_used</th>\n",
       "      <th>messages_count</th>\n",
       "      <th>age</th>\n",
       "      <th>churn_date</th>\n",
       "      <th>city</th>\n",
       "      <th>first_name</th>\n",
       "      <th>...</th>\n",
       "      <th>tariff</th>\n",
       "      <th>gb_used</th>\n",
       "      <th>messages_included</th>\n",
       "      <th>minutes_included</th>\n",
       "      <th>gb_per_month_included</th>\n",
       "      <th>rub_per_minute_message</th>\n",
       "      <th>rub_per_gb</th>\n",
       "      <th>rub_monthly_fee</th>\n",
       "      <th>remainder_minutes</th>\n",
       "      <th>remainder_messages</th>\n",
       "    </tr>\n",
       "  </thead>\n",
       "  <tbody>\n",
       "    <tr>\n",
       "      <th>0</th>\n",
       "      <td>1000</td>\n",
       "      <td>5</td>\n",
       "      <td>22</td>\n",
       "      <td>151</td>\n",
       "      <td>2253.49</td>\n",
       "      <td>22</td>\n",
       "      <td>52</td>\n",
       "      <td>2030-01-01</td>\n",
       "      <td>Краснодар</td>\n",
       "      <td>Рафаил</td>\n",
       "      <td>...</td>\n",
       "      <td>ultra</td>\n",
       "      <td>3</td>\n",
       "      <td>1000</td>\n",
       "      <td>3000</td>\n",
       "      <td>30</td>\n",
       "      <td>1</td>\n",
       "      <td>150</td>\n",
       "      <td>1950</td>\n",
       "      <td>0</td>\n",
       "      <td>0</td>\n",
       "    </tr>\n",
       "    <tr>\n",
       "      <th>1</th>\n",
       "      <td>1000</td>\n",
       "      <td>6</td>\n",
       "      <td>43</td>\n",
       "      <td>159</td>\n",
       "      <td>23233.77</td>\n",
       "      <td>60</td>\n",
       "      <td>52</td>\n",
       "      <td>2030-01-01</td>\n",
       "      <td>Краснодар</td>\n",
       "      <td>Рафаил</td>\n",
       "      <td>...</td>\n",
       "      <td>ultra</td>\n",
       "      <td>23</td>\n",
       "      <td>1000</td>\n",
       "      <td>3000</td>\n",
       "      <td>30</td>\n",
       "      <td>1</td>\n",
       "      <td>150</td>\n",
       "      <td>1950</td>\n",
       "      <td>0</td>\n",
       "      <td>0</td>\n",
       "    </tr>\n",
       "    <tr>\n",
       "      <th>2</th>\n",
       "      <td>1000</td>\n",
       "      <td>7</td>\n",
       "      <td>47</td>\n",
       "      <td>318</td>\n",
       "      <td>14003.64</td>\n",
       "      <td>75</td>\n",
       "      <td>52</td>\n",
       "      <td>2030-01-01</td>\n",
       "      <td>Краснодар</td>\n",
       "      <td>Рафаил</td>\n",
       "      <td>...</td>\n",
       "      <td>ultra</td>\n",
       "      <td>14</td>\n",
       "      <td>1000</td>\n",
       "      <td>3000</td>\n",
       "      <td>30</td>\n",
       "      <td>1</td>\n",
       "      <td>150</td>\n",
       "      <td>1950</td>\n",
       "      <td>0</td>\n",
       "      <td>0</td>\n",
       "    </tr>\n",
       "    <tr>\n",
       "      <th>3</th>\n",
       "      <td>1000</td>\n",
       "      <td>8</td>\n",
       "      <td>52</td>\n",
       "      <td>390</td>\n",
       "      <td>14055.93</td>\n",
       "      <td>81</td>\n",
       "      <td>52</td>\n",
       "      <td>2030-01-01</td>\n",
       "      <td>Краснодар</td>\n",
       "      <td>Рафаил</td>\n",
       "      <td>...</td>\n",
       "      <td>ultra</td>\n",
       "      <td>14</td>\n",
       "      <td>1000</td>\n",
       "      <td>3000</td>\n",
       "      <td>30</td>\n",
       "      <td>1</td>\n",
       "      <td>150</td>\n",
       "      <td>1950</td>\n",
       "      <td>0</td>\n",
       "      <td>0</td>\n",
       "    </tr>\n",
       "    <tr>\n",
       "      <th>4</th>\n",
       "      <td>1000</td>\n",
       "      <td>9</td>\n",
       "      <td>58</td>\n",
       "      <td>432</td>\n",
       "      <td>14568.91</td>\n",
       "      <td>57</td>\n",
       "      <td>52</td>\n",
       "      <td>2030-01-01</td>\n",
       "      <td>Краснодар</td>\n",
       "      <td>Рафаил</td>\n",
       "      <td>...</td>\n",
       "      <td>ultra</td>\n",
       "      <td>15</td>\n",
       "      <td>1000</td>\n",
       "      <td>3000</td>\n",
       "      <td>30</td>\n",
       "      <td>1</td>\n",
       "      <td>150</td>\n",
       "      <td>1950</td>\n",
       "      <td>0</td>\n",
       "      <td>0</td>\n",
       "    </tr>\n",
       "    <tr>\n",
       "      <th>...</th>\n",
       "      <td>...</td>\n",
       "      <td>...</td>\n",
       "      <td>...</td>\n",
       "      <td>...</td>\n",
       "      <td>...</td>\n",
       "      <td>...</td>\n",
       "      <td>...</td>\n",
       "      <td>...</td>\n",
       "      <td>...</td>\n",
       "      <td>...</td>\n",
       "      <td>...</td>\n",
       "      <td>...</td>\n",
       "      <td>...</td>\n",
       "      <td>...</td>\n",
       "      <td>...</td>\n",
       "      <td>...</td>\n",
       "      <td>...</td>\n",
       "      <td>...</td>\n",
       "      <td>...</td>\n",
       "      <td>...</td>\n",
       "      <td>...</td>\n",
       "    </tr>\n",
       "    <tr>\n",
       "      <th>3211</th>\n",
       "      <td>1489</td>\n",
       "      <td>10</td>\n",
       "      <td>0</td>\n",
       "      <td>0</td>\n",
       "      <td>19559.44</td>\n",
       "      <td>21</td>\n",
       "      <td>35</td>\n",
       "      <td>2030-01-01</td>\n",
       "      <td>Санкт-Петербург</td>\n",
       "      <td>Павел</td>\n",
       "      <td>...</td>\n",
       "      <td>smart</td>\n",
       "      <td>20</td>\n",
       "      <td>50</td>\n",
       "      <td>500</td>\n",
       "      <td>15</td>\n",
       "      <td>3</td>\n",
       "      <td>200</td>\n",
       "      <td>550</td>\n",
       "      <td>0</td>\n",
       "      <td>0</td>\n",
       "    </tr>\n",
       "    <tr>\n",
       "      <th>3212</th>\n",
       "      <td>1489</td>\n",
       "      <td>11</td>\n",
       "      <td>0</td>\n",
       "      <td>0</td>\n",
       "      <td>17491.56</td>\n",
       "      <td>20</td>\n",
       "      <td>35</td>\n",
       "      <td>2030-01-01</td>\n",
       "      <td>Санкт-Петербург</td>\n",
       "      <td>Павел</td>\n",
       "      <td>...</td>\n",
       "      <td>smart</td>\n",
       "      <td>18</td>\n",
       "      <td>50</td>\n",
       "      <td>500</td>\n",
       "      <td>15</td>\n",
       "      <td>3</td>\n",
       "      <td>200</td>\n",
       "      <td>550</td>\n",
       "      <td>0</td>\n",
       "      <td>0</td>\n",
       "    </tr>\n",
       "    <tr>\n",
       "      <th>3213</th>\n",
       "      <td>1489</td>\n",
       "      <td>12</td>\n",
       "      <td>0</td>\n",
       "      <td>0</td>\n",
       "      <td>17322.51</td>\n",
       "      <td>35</td>\n",
       "      <td>35</td>\n",
       "      <td>2030-01-01</td>\n",
       "      <td>Санкт-Петербург</td>\n",
       "      <td>Павел</td>\n",
       "      <td>...</td>\n",
       "      <td>smart</td>\n",
       "      <td>17</td>\n",
       "      <td>50</td>\n",
       "      <td>500</td>\n",
       "      <td>15</td>\n",
       "      <td>3</td>\n",
       "      <td>200</td>\n",
       "      <td>550</td>\n",
       "      <td>0</td>\n",
       "      <td>0</td>\n",
       "    </tr>\n",
       "    <tr>\n",
       "      <th>3214</th>\n",
       "      <td>1128</td>\n",
       "      <td>-1</td>\n",
       "      <td>0</td>\n",
       "      <td>0</td>\n",
       "      <td>0.00</td>\n",
       "      <td>0</td>\n",
       "      <td>51</td>\n",
       "      <td>2018-12-23</td>\n",
       "      <td>Волжский</td>\n",
       "      <td>Ксения</td>\n",
       "      <td>...</td>\n",
       "      <td>ultra</td>\n",
       "      <td>0</td>\n",
       "      <td>1000</td>\n",
       "      <td>3000</td>\n",
       "      <td>30</td>\n",
       "      <td>1</td>\n",
       "      <td>150</td>\n",
       "      <td>1950</td>\n",
       "      <td>0</td>\n",
       "      <td>0</td>\n",
       "    </tr>\n",
       "    <tr>\n",
       "      <th>3215</th>\n",
       "      <td>1371</td>\n",
       "      <td>-1</td>\n",
       "      <td>0</td>\n",
       "      <td>0</td>\n",
       "      <td>0.00</td>\n",
       "      <td>0</td>\n",
       "      <td>50</td>\n",
       "      <td>2018-12-30</td>\n",
       "      <td>Омск</td>\n",
       "      <td>Ириней</td>\n",
       "      <td>...</td>\n",
       "      <td>smart</td>\n",
       "      <td>0</td>\n",
       "      <td>50</td>\n",
       "      <td>500</td>\n",
       "      <td>15</td>\n",
       "      <td>3</td>\n",
       "      <td>200</td>\n",
       "      <td>550</td>\n",
       "      <td>0</td>\n",
       "      <td>0</td>\n",
       "    </tr>\n",
       "  </tbody>\n",
       "</table>\n",
       "<p>3216 rows × 22 columns</p>\n",
       "</div>"
      ],
      "text/plain": [
       "      user_id  month  calls_count  duration   mb_used  messages_count  age  \\\n",
       "0        1000      5           22       151   2253.49              22   52   \n",
       "1        1000      6           43       159  23233.77              60   52   \n",
       "2        1000      7           47       318  14003.64              75   52   \n",
       "3        1000      8           52       390  14055.93              81   52   \n",
       "4        1000      9           58       432  14568.91              57   52   \n",
       "...       ...    ...          ...       ...       ...             ...  ...   \n",
       "3211     1489     10            0         0  19559.44              21   35   \n",
       "3212     1489     11            0         0  17491.56              20   35   \n",
       "3213     1489     12            0         0  17322.51              35   35   \n",
       "3214     1128     -1            0         0      0.00               0   51   \n",
       "3215     1371     -1            0         0      0.00               0   50   \n",
       "\n",
       "     churn_date             city first_name  ... tariff gb_used  \\\n",
       "0    2030-01-01        Краснодар     Рафаил  ...  ultra       3   \n",
       "1    2030-01-01        Краснодар     Рафаил  ...  ultra      23   \n",
       "2    2030-01-01        Краснодар     Рафаил  ...  ultra      14   \n",
       "3    2030-01-01        Краснодар     Рафаил  ...  ultra      14   \n",
       "4    2030-01-01        Краснодар     Рафаил  ...  ultra      15   \n",
       "...         ...              ...        ...  ...    ...     ...   \n",
       "3211 2030-01-01  Санкт-Петербург      Павел  ...  smart      20   \n",
       "3212 2030-01-01  Санкт-Петербург      Павел  ...  smart      18   \n",
       "3213 2030-01-01  Санкт-Петербург      Павел  ...  smart      17   \n",
       "3214 2018-12-23         Волжский     Ксения  ...  ultra       0   \n",
       "3215 2018-12-30             Омск     Ириней  ...  smart       0   \n",
       "\n",
       "     messages_included  minutes_included  gb_per_month_included  \\\n",
       "0                 1000              3000                     30   \n",
       "1                 1000              3000                     30   \n",
       "2                 1000              3000                     30   \n",
       "3                 1000              3000                     30   \n",
       "4                 1000              3000                     30   \n",
       "...                ...               ...                    ...   \n",
       "3211                50               500                     15   \n",
       "3212                50               500                     15   \n",
       "3213                50               500                     15   \n",
       "3214              1000              3000                     30   \n",
       "3215                50               500                     15   \n",
       "\n",
       "      rub_per_minute_message  rub_per_gb  rub_monthly_fee  remainder_minutes  \\\n",
       "0                          1         150             1950                  0   \n",
       "1                          1         150             1950                  0   \n",
       "2                          1         150             1950                  0   \n",
       "3                          1         150             1950                  0   \n",
       "4                          1         150             1950                  0   \n",
       "...                      ...         ...              ...                ...   \n",
       "3211                       3         200              550                  0   \n",
       "3212                       3         200              550                  0   \n",
       "3213                       3         200              550                  0   \n",
       "3214                       1         150             1950                  0   \n",
       "3215                       3         200              550                  0   \n",
       "\n",
       "      remainder_messages  \n",
       "0                      0  \n",
       "1                      0  \n",
       "2                      0  \n",
       "3                      0  \n",
       "4                      0  \n",
       "...                  ...  \n",
       "3211                   0  \n",
       "3212                   0  \n",
       "3213                   0  \n",
       "3214                   0  \n",
       "3215                   0  \n",
       "\n",
       "[3216 rows x 22 columns]"
      ]
     },
     "execution_count": 45,
     "metadata": {},
     "output_type": "execute_result"
    }
   ],
   "source": [
    "def remainder(row):\n",
    "    remainder = 0\n",
    "    if row['messages_count'] <= row['messages_included']:\n",
    "        return 0\n",
    "    else:\n",
    "        remainder = row['messages_count'] - row['messages_included']\n",
    "        return remainder\n",
    "    \n",
    "calls_messages_internet['remainder_messages'] = calls_messages_internet.apply(remainder, axis=1)\n",
    "calls_messages_internet"
   ]
  },
  {
   "cell_type": "code",
   "execution_count": 46,
   "metadata": {},
   "outputs": [
    {
     "data": {
      "text/html": [
       "<div>\n",
       "<style scoped>\n",
       "    .dataframe tbody tr th:only-of-type {\n",
       "        vertical-align: middle;\n",
       "    }\n",
       "\n",
       "    .dataframe tbody tr th {\n",
       "        vertical-align: top;\n",
       "    }\n",
       "\n",
       "    .dataframe thead th {\n",
       "        text-align: right;\n",
       "    }\n",
       "</style>\n",
       "<table border=\"1\" class=\"dataframe\">\n",
       "  <thead>\n",
       "    <tr style=\"text-align: right;\">\n",
       "      <th></th>\n",
       "      <th>user_id</th>\n",
       "      <th>month</th>\n",
       "      <th>calls_count</th>\n",
       "      <th>duration</th>\n",
       "      <th>mb_used</th>\n",
       "      <th>messages_count</th>\n",
       "      <th>age</th>\n",
       "      <th>churn_date</th>\n",
       "      <th>city</th>\n",
       "      <th>first_name</th>\n",
       "      <th>...</th>\n",
       "      <th>gb_used</th>\n",
       "      <th>messages_included</th>\n",
       "      <th>minutes_included</th>\n",
       "      <th>gb_per_month_included</th>\n",
       "      <th>rub_per_minute_message</th>\n",
       "      <th>rub_per_gb</th>\n",
       "      <th>rub_monthly_fee</th>\n",
       "      <th>remainder_minutes</th>\n",
       "      <th>remainder_messages</th>\n",
       "      <th>remainder_gb</th>\n",
       "    </tr>\n",
       "  </thead>\n",
       "  <tbody>\n",
       "    <tr>\n",
       "      <th>0</th>\n",
       "      <td>1000</td>\n",
       "      <td>5</td>\n",
       "      <td>22</td>\n",
       "      <td>151</td>\n",
       "      <td>2253.49</td>\n",
       "      <td>22</td>\n",
       "      <td>52</td>\n",
       "      <td>2030-01-01</td>\n",
       "      <td>Краснодар</td>\n",
       "      <td>Рафаил</td>\n",
       "      <td>...</td>\n",
       "      <td>3</td>\n",
       "      <td>1000</td>\n",
       "      <td>3000</td>\n",
       "      <td>30</td>\n",
       "      <td>1</td>\n",
       "      <td>150</td>\n",
       "      <td>1950</td>\n",
       "      <td>0</td>\n",
       "      <td>0</td>\n",
       "      <td>0</td>\n",
       "    </tr>\n",
       "    <tr>\n",
       "      <th>1</th>\n",
       "      <td>1000</td>\n",
       "      <td>6</td>\n",
       "      <td>43</td>\n",
       "      <td>159</td>\n",
       "      <td>23233.77</td>\n",
       "      <td>60</td>\n",
       "      <td>52</td>\n",
       "      <td>2030-01-01</td>\n",
       "      <td>Краснодар</td>\n",
       "      <td>Рафаил</td>\n",
       "      <td>...</td>\n",
       "      <td>23</td>\n",
       "      <td>1000</td>\n",
       "      <td>3000</td>\n",
       "      <td>30</td>\n",
       "      <td>1</td>\n",
       "      <td>150</td>\n",
       "      <td>1950</td>\n",
       "      <td>0</td>\n",
       "      <td>0</td>\n",
       "      <td>0</td>\n",
       "    </tr>\n",
       "    <tr>\n",
       "      <th>2</th>\n",
       "      <td>1000</td>\n",
       "      <td>7</td>\n",
       "      <td>47</td>\n",
       "      <td>318</td>\n",
       "      <td>14003.64</td>\n",
       "      <td>75</td>\n",
       "      <td>52</td>\n",
       "      <td>2030-01-01</td>\n",
       "      <td>Краснодар</td>\n",
       "      <td>Рафаил</td>\n",
       "      <td>...</td>\n",
       "      <td>14</td>\n",
       "      <td>1000</td>\n",
       "      <td>3000</td>\n",
       "      <td>30</td>\n",
       "      <td>1</td>\n",
       "      <td>150</td>\n",
       "      <td>1950</td>\n",
       "      <td>0</td>\n",
       "      <td>0</td>\n",
       "      <td>0</td>\n",
       "    </tr>\n",
       "    <tr>\n",
       "      <th>3</th>\n",
       "      <td>1000</td>\n",
       "      <td>8</td>\n",
       "      <td>52</td>\n",
       "      <td>390</td>\n",
       "      <td>14055.93</td>\n",
       "      <td>81</td>\n",
       "      <td>52</td>\n",
       "      <td>2030-01-01</td>\n",
       "      <td>Краснодар</td>\n",
       "      <td>Рафаил</td>\n",
       "      <td>...</td>\n",
       "      <td>14</td>\n",
       "      <td>1000</td>\n",
       "      <td>3000</td>\n",
       "      <td>30</td>\n",
       "      <td>1</td>\n",
       "      <td>150</td>\n",
       "      <td>1950</td>\n",
       "      <td>0</td>\n",
       "      <td>0</td>\n",
       "      <td>0</td>\n",
       "    </tr>\n",
       "    <tr>\n",
       "      <th>4</th>\n",
       "      <td>1000</td>\n",
       "      <td>9</td>\n",
       "      <td>58</td>\n",
       "      <td>432</td>\n",
       "      <td>14568.91</td>\n",
       "      <td>57</td>\n",
       "      <td>52</td>\n",
       "      <td>2030-01-01</td>\n",
       "      <td>Краснодар</td>\n",
       "      <td>Рафаил</td>\n",
       "      <td>...</td>\n",
       "      <td>15</td>\n",
       "      <td>1000</td>\n",
       "      <td>3000</td>\n",
       "      <td>30</td>\n",
       "      <td>1</td>\n",
       "      <td>150</td>\n",
       "      <td>1950</td>\n",
       "      <td>0</td>\n",
       "      <td>0</td>\n",
       "      <td>0</td>\n",
       "    </tr>\n",
       "    <tr>\n",
       "      <th>...</th>\n",
       "      <td>...</td>\n",
       "      <td>...</td>\n",
       "      <td>...</td>\n",
       "      <td>...</td>\n",
       "      <td>...</td>\n",
       "      <td>...</td>\n",
       "      <td>...</td>\n",
       "      <td>...</td>\n",
       "      <td>...</td>\n",
       "      <td>...</td>\n",
       "      <td>...</td>\n",
       "      <td>...</td>\n",
       "      <td>...</td>\n",
       "      <td>...</td>\n",
       "      <td>...</td>\n",
       "      <td>...</td>\n",
       "      <td>...</td>\n",
       "      <td>...</td>\n",
       "      <td>...</td>\n",
       "      <td>...</td>\n",
       "      <td>...</td>\n",
       "    </tr>\n",
       "    <tr>\n",
       "      <th>3211</th>\n",
       "      <td>1489</td>\n",
       "      <td>10</td>\n",
       "      <td>0</td>\n",
       "      <td>0</td>\n",
       "      <td>19559.44</td>\n",
       "      <td>21</td>\n",
       "      <td>35</td>\n",
       "      <td>2030-01-01</td>\n",
       "      <td>Санкт-Петербург</td>\n",
       "      <td>Павел</td>\n",
       "      <td>...</td>\n",
       "      <td>20</td>\n",
       "      <td>50</td>\n",
       "      <td>500</td>\n",
       "      <td>15</td>\n",
       "      <td>3</td>\n",
       "      <td>200</td>\n",
       "      <td>550</td>\n",
       "      <td>0</td>\n",
       "      <td>0</td>\n",
       "      <td>5</td>\n",
       "    </tr>\n",
       "    <tr>\n",
       "      <th>3212</th>\n",
       "      <td>1489</td>\n",
       "      <td>11</td>\n",
       "      <td>0</td>\n",
       "      <td>0</td>\n",
       "      <td>17491.56</td>\n",
       "      <td>20</td>\n",
       "      <td>35</td>\n",
       "      <td>2030-01-01</td>\n",
       "      <td>Санкт-Петербург</td>\n",
       "      <td>Павел</td>\n",
       "      <td>...</td>\n",
       "      <td>18</td>\n",
       "      <td>50</td>\n",
       "      <td>500</td>\n",
       "      <td>15</td>\n",
       "      <td>3</td>\n",
       "      <td>200</td>\n",
       "      <td>550</td>\n",
       "      <td>0</td>\n",
       "      <td>0</td>\n",
       "      <td>3</td>\n",
       "    </tr>\n",
       "    <tr>\n",
       "      <th>3213</th>\n",
       "      <td>1489</td>\n",
       "      <td>12</td>\n",
       "      <td>0</td>\n",
       "      <td>0</td>\n",
       "      <td>17322.51</td>\n",
       "      <td>35</td>\n",
       "      <td>35</td>\n",
       "      <td>2030-01-01</td>\n",
       "      <td>Санкт-Петербург</td>\n",
       "      <td>Павел</td>\n",
       "      <td>...</td>\n",
       "      <td>17</td>\n",
       "      <td>50</td>\n",
       "      <td>500</td>\n",
       "      <td>15</td>\n",
       "      <td>3</td>\n",
       "      <td>200</td>\n",
       "      <td>550</td>\n",
       "      <td>0</td>\n",
       "      <td>0</td>\n",
       "      <td>2</td>\n",
       "    </tr>\n",
       "    <tr>\n",
       "      <th>3214</th>\n",
       "      <td>1128</td>\n",
       "      <td>-1</td>\n",
       "      <td>0</td>\n",
       "      <td>0</td>\n",
       "      <td>0.00</td>\n",
       "      <td>0</td>\n",
       "      <td>51</td>\n",
       "      <td>2018-12-23</td>\n",
       "      <td>Волжский</td>\n",
       "      <td>Ксения</td>\n",
       "      <td>...</td>\n",
       "      <td>0</td>\n",
       "      <td>1000</td>\n",
       "      <td>3000</td>\n",
       "      <td>30</td>\n",
       "      <td>1</td>\n",
       "      <td>150</td>\n",
       "      <td>1950</td>\n",
       "      <td>0</td>\n",
       "      <td>0</td>\n",
       "      <td>0</td>\n",
       "    </tr>\n",
       "    <tr>\n",
       "      <th>3215</th>\n",
       "      <td>1371</td>\n",
       "      <td>-1</td>\n",
       "      <td>0</td>\n",
       "      <td>0</td>\n",
       "      <td>0.00</td>\n",
       "      <td>0</td>\n",
       "      <td>50</td>\n",
       "      <td>2018-12-30</td>\n",
       "      <td>Омск</td>\n",
       "      <td>Ириней</td>\n",
       "      <td>...</td>\n",
       "      <td>0</td>\n",
       "      <td>50</td>\n",
       "      <td>500</td>\n",
       "      <td>15</td>\n",
       "      <td>3</td>\n",
       "      <td>200</td>\n",
       "      <td>550</td>\n",
       "      <td>0</td>\n",
       "      <td>0</td>\n",
       "      <td>0</td>\n",
       "    </tr>\n",
       "  </tbody>\n",
       "</table>\n",
       "<p>3216 rows × 23 columns</p>\n",
       "</div>"
      ],
      "text/plain": [
       "      user_id  month  calls_count  duration   mb_used  messages_count  age  \\\n",
       "0        1000      5           22       151   2253.49              22   52   \n",
       "1        1000      6           43       159  23233.77              60   52   \n",
       "2        1000      7           47       318  14003.64              75   52   \n",
       "3        1000      8           52       390  14055.93              81   52   \n",
       "4        1000      9           58       432  14568.91              57   52   \n",
       "...       ...    ...          ...       ...       ...             ...  ...   \n",
       "3211     1489     10            0         0  19559.44              21   35   \n",
       "3212     1489     11            0         0  17491.56              20   35   \n",
       "3213     1489     12            0         0  17322.51              35   35   \n",
       "3214     1128     -1            0         0      0.00               0   51   \n",
       "3215     1371     -1            0         0      0.00               0   50   \n",
       "\n",
       "     churn_date             city first_name  ... gb_used messages_included  \\\n",
       "0    2030-01-01        Краснодар     Рафаил  ...       3              1000   \n",
       "1    2030-01-01        Краснодар     Рафаил  ...      23              1000   \n",
       "2    2030-01-01        Краснодар     Рафаил  ...      14              1000   \n",
       "3    2030-01-01        Краснодар     Рафаил  ...      14              1000   \n",
       "4    2030-01-01        Краснодар     Рафаил  ...      15              1000   \n",
       "...         ...              ...        ...  ...     ...               ...   \n",
       "3211 2030-01-01  Санкт-Петербург      Павел  ...      20                50   \n",
       "3212 2030-01-01  Санкт-Петербург      Павел  ...      18                50   \n",
       "3213 2030-01-01  Санкт-Петербург      Павел  ...      17                50   \n",
       "3214 2018-12-23         Волжский     Ксения  ...       0              1000   \n",
       "3215 2018-12-30             Омск     Ириней  ...       0                50   \n",
       "\n",
       "     minutes_included  gb_per_month_included  rub_per_minute_message  \\\n",
       "0                3000                     30                       1   \n",
       "1                3000                     30                       1   \n",
       "2                3000                     30                       1   \n",
       "3                3000                     30                       1   \n",
       "4                3000                     30                       1   \n",
       "...               ...                    ...                     ...   \n",
       "3211              500                     15                       3   \n",
       "3212              500                     15                       3   \n",
       "3213              500                     15                       3   \n",
       "3214             3000                     30                       1   \n",
       "3215              500                     15                       3   \n",
       "\n",
       "      rub_per_gb  rub_monthly_fee  remainder_minutes  remainder_messages  \\\n",
       "0            150             1950                  0                   0   \n",
       "1            150             1950                  0                   0   \n",
       "2            150             1950                  0                   0   \n",
       "3            150             1950                  0                   0   \n",
       "4            150             1950                  0                   0   \n",
       "...          ...              ...                ...                 ...   \n",
       "3211         200              550                  0                   0   \n",
       "3212         200              550                  0                   0   \n",
       "3213         200              550                  0                   0   \n",
       "3214         150             1950                  0                   0   \n",
       "3215         200              550                  0                   0   \n",
       "\n",
       "      remainder_gb  \n",
       "0                0  \n",
       "1                0  \n",
       "2                0  \n",
       "3                0  \n",
       "4                0  \n",
       "...            ...  \n",
       "3211             5  \n",
       "3212             3  \n",
       "3213             2  \n",
       "3214             0  \n",
       "3215             0  \n",
       "\n",
       "[3216 rows x 23 columns]"
      ]
     },
     "execution_count": 46,
     "metadata": {},
     "output_type": "execute_result"
    }
   ],
   "source": [
    "def remainder(row):\n",
    "    remainder = 0\n",
    "    if row['gb_used'] <= row['gb_per_month_included']:\n",
    "        return 0\n",
    "    else:\n",
    "        remainder = row['gb_used'] - row['gb_per_month_included']\n",
    "        return remainder\n",
    "    \n",
    "calls_messages_internet['remainder_gb'] = calls_messages_internet.apply(remainder, axis=1)\n",
    "calls_messages_internet"
   ]
  },
  {
   "cell_type": "code",
   "execution_count": 47,
   "metadata": {},
   "outputs": [
    {
     "data": {
      "text/html": [
       "<div>\n",
       "<style scoped>\n",
       "    .dataframe tbody tr th:only-of-type {\n",
       "        vertical-align: middle;\n",
       "    }\n",
       "\n",
       "    .dataframe tbody tr th {\n",
       "        vertical-align: top;\n",
       "    }\n",
       "\n",
       "    .dataframe thead th {\n",
       "        text-align: right;\n",
       "    }\n",
       "</style>\n",
       "<table border=\"1\" class=\"dataframe\">\n",
       "  <thead>\n",
       "    <tr style=\"text-align: right;\">\n",
       "      <th></th>\n",
       "      <th>user_id</th>\n",
       "      <th>month</th>\n",
       "      <th>calls_count</th>\n",
       "      <th>duration</th>\n",
       "      <th>mb_used</th>\n",
       "      <th>messages_count</th>\n",
       "      <th>age</th>\n",
       "      <th>churn_date</th>\n",
       "      <th>city</th>\n",
       "      <th>first_name</th>\n",
       "      <th>...</th>\n",
       "      <th>messages_included</th>\n",
       "      <th>minutes_included</th>\n",
       "      <th>gb_per_month_included</th>\n",
       "      <th>rub_per_minute_message</th>\n",
       "      <th>rub_per_gb</th>\n",
       "      <th>rub_monthly_fee</th>\n",
       "      <th>remainder_minutes</th>\n",
       "      <th>remainder_messages</th>\n",
       "      <th>remainder_gb</th>\n",
       "      <th>total_price</th>\n",
       "    </tr>\n",
       "  </thead>\n",
       "  <tbody>\n",
       "    <tr>\n",
       "      <th>0</th>\n",
       "      <td>1000</td>\n",
       "      <td>5</td>\n",
       "      <td>22</td>\n",
       "      <td>151</td>\n",
       "      <td>2253.49</td>\n",
       "      <td>22</td>\n",
       "      <td>52</td>\n",
       "      <td>2030-01-01</td>\n",
       "      <td>Краснодар</td>\n",
       "      <td>Рафаил</td>\n",
       "      <td>...</td>\n",
       "      <td>1000</td>\n",
       "      <td>3000</td>\n",
       "      <td>30</td>\n",
       "      <td>1</td>\n",
       "      <td>150</td>\n",
       "      <td>1950</td>\n",
       "      <td>0</td>\n",
       "      <td>0</td>\n",
       "      <td>0</td>\n",
       "      <td>1950</td>\n",
       "    </tr>\n",
       "    <tr>\n",
       "      <th>1</th>\n",
       "      <td>1000</td>\n",
       "      <td>6</td>\n",
       "      <td>43</td>\n",
       "      <td>159</td>\n",
       "      <td>23233.77</td>\n",
       "      <td>60</td>\n",
       "      <td>52</td>\n",
       "      <td>2030-01-01</td>\n",
       "      <td>Краснодар</td>\n",
       "      <td>Рафаил</td>\n",
       "      <td>...</td>\n",
       "      <td>1000</td>\n",
       "      <td>3000</td>\n",
       "      <td>30</td>\n",
       "      <td>1</td>\n",
       "      <td>150</td>\n",
       "      <td>1950</td>\n",
       "      <td>0</td>\n",
       "      <td>0</td>\n",
       "      <td>0</td>\n",
       "      <td>1950</td>\n",
       "    </tr>\n",
       "    <tr>\n",
       "      <th>2</th>\n",
       "      <td>1000</td>\n",
       "      <td>7</td>\n",
       "      <td>47</td>\n",
       "      <td>318</td>\n",
       "      <td>14003.64</td>\n",
       "      <td>75</td>\n",
       "      <td>52</td>\n",
       "      <td>2030-01-01</td>\n",
       "      <td>Краснодар</td>\n",
       "      <td>Рафаил</td>\n",
       "      <td>...</td>\n",
       "      <td>1000</td>\n",
       "      <td>3000</td>\n",
       "      <td>30</td>\n",
       "      <td>1</td>\n",
       "      <td>150</td>\n",
       "      <td>1950</td>\n",
       "      <td>0</td>\n",
       "      <td>0</td>\n",
       "      <td>0</td>\n",
       "      <td>1950</td>\n",
       "    </tr>\n",
       "    <tr>\n",
       "      <th>3</th>\n",
       "      <td>1000</td>\n",
       "      <td>8</td>\n",
       "      <td>52</td>\n",
       "      <td>390</td>\n",
       "      <td>14055.93</td>\n",
       "      <td>81</td>\n",
       "      <td>52</td>\n",
       "      <td>2030-01-01</td>\n",
       "      <td>Краснодар</td>\n",
       "      <td>Рафаил</td>\n",
       "      <td>...</td>\n",
       "      <td>1000</td>\n",
       "      <td>3000</td>\n",
       "      <td>30</td>\n",
       "      <td>1</td>\n",
       "      <td>150</td>\n",
       "      <td>1950</td>\n",
       "      <td>0</td>\n",
       "      <td>0</td>\n",
       "      <td>0</td>\n",
       "      <td>1950</td>\n",
       "    </tr>\n",
       "    <tr>\n",
       "      <th>4</th>\n",
       "      <td>1000</td>\n",
       "      <td>9</td>\n",
       "      <td>58</td>\n",
       "      <td>432</td>\n",
       "      <td>14568.91</td>\n",
       "      <td>57</td>\n",
       "      <td>52</td>\n",
       "      <td>2030-01-01</td>\n",
       "      <td>Краснодар</td>\n",
       "      <td>Рафаил</td>\n",
       "      <td>...</td>\n",
       "      <td>1000</td>\n",
       "      <td>3000</td>\n",
       "      <td>30</td>\n",
       "      <td>1</td>\n",
       "      <td>150</td>\n",
       "      <td>1950</td>\n",
       "      <td>0</td>\n",
       "      <td>0</td>\n",
       "      <td>0</td>\n",
       "      <td>1950</td>\n",
       "    </tr>\n",
       "    <tr>\n",
       "      <th>...</th>\n",
       "      <td>...</td>\n",
       "      <td>...</td>\n",
       "      <td>...</td>\n",
       "      <td>...</td>\n",
       "      <td>...</td>\n",
       "      <td>...</td>\n",
       "      <td>...</td>\n",
       "      <td>...</td>\n",
       "      <td>...</td>\n",
       "      <td>...</td>\n",
       "      <td>...</td>\n",
       "      <td>...</td>\n",
       "      <td>...</td>\n",
       "      <td>...</td>\n",
       "      <td>...</td>\n",
       "      <td>...</td>\n",
       "      <td>...</td>\n",
       "      <td>...</td>\n",
       "      <td>...</td>\n",
       "      <td>...</td>\n",
       "      <td>...</td>\n",
       "    </tr>\n",
       "    <tr>\n",
       "      <th>3211</th>\n",
       "      <td>1489</td>\n",
       "      <td>10</td>\n",
       "      <td>0</td>\n",
       "      <td>0</td>\n",
       "      <td>19559.44</td>\n",
       "      <td>21</td>\n",
       "      <td>35</td>\n",
       "      <td>2030-01-01</td>\n",
       "      <td>Санкт-Петербург</td>\n",
       "      <td>Павел</td>\n",
       "      <td>...</td>\n",
       "      <td>50</td>\n",
       "      <td>500</td>\n",
       "      <td>15</td>\n",
       "      <td>3</td>\n",
       "      <td>200</td>\n",
       "      <td>550</td>\n",
       "      <td>0</td>\n",
       "      <td>0</td>\n",
       "      <td>5</td>\n",
       "      <td>1550</td>\n",
       "    </tr>\n",
       "    <tr>\n",
       "      <th>3212</th>\n",
       "      <td>1489</td>\n",
       "      <td>11</td>\n",
       "      <td>0</td>\n",
       "      <td>0</td>\n",
       "      <td>17491.56</td>\n",
       "      <td>20</td>\n",
       "      <td>35</td>\n",
       "      <td>2030-01-01</td>\n",
       "      <td>Санкт-Петербург</td>\n",
       "      <td>Павел</td>\n",
       "      <td>...</td>\n",
       "      <td>50</td>\n",
       "      <td>500</td>\n",
       "      <td>15</td>\n",
       "      <td>3</td>\n",
       "      <td>200</td>\n",
       "      <td>550</td>\n",
       "      <td>0</td>\n",
       "      <td>0</td>\n",
       "      <td>3</td>\n",
       "      <td>1150</td>\n",
       "    </tr>\n",
       "    <tr>\n",
       "      <th>3213</th>\n",
       "      <td>1489</td>\n",
       "      <td>12</td>\n",
       "      <td>0</td>\n",
       "      <td>0</td>\n",
       "      <td>17322.51</td>\n",
       "      <td>35</td>\n",
       "      <td>35</td>\n",
       "      <td>2030-01-01</td>\n",
       "      <td>Санкт-Петербург</td>\n",
       "      <td>Павел</td>\n",
       "      <td>...</td>\n",
       "      <td>50</td>\n",
       "      <td>500</td>\n",
       "      <td>15</td>\n",
       "      <td>3</td>\n",
       "      <td>200</td>\n",
       "      <td>550</td>\n",
       "      <td>0</td>\n",
       "      <td>0</td>\n",
       "      <td>2</td>\n",
       "      <td>950</td>\n",
       "    </tr>\n",
       "    <tr>\n",
       "      <th>3214</th>\n",
       "      <td>1128</td>\n",
       "      <td>-1</td>\n",
       "      <td>0</td>\n",
       "      <td>0</td>\n",
       "      <td>0.00</td>\n",
       "      <td>0</td>\n",
       "      <td>51</td>\n",
       "      <td>2018-12-23</td>\n",
       "      <td>Волжский</td>\n",
       "      <td>Ксения</td>\n",
       "      <td>...</td>\n",
       "      <td>1000</td>\n",
       "      <td>3000</td>\n",
       "      <td>30</td>\n",
       "      <td>1</td>\n",
       "      <td>150</td>\n",
       "      <td>1950</td>\n",
       "      <td>0</td>\n",
       "      <td>0</td>\n",
       "      <td>0</td>\n",
       "      <td>1950</td>\n",
       "    </tr>\n",
       "    <tr>\n",
       "      <th>3215</th>\n",
       "      <td>1371</td>\n",
       "      <td>-1</td>\n",
       "      <td>0</td>\n",
       "      <td>0</td>\n",
       "      <td>0.00</td>\n",
       "      <td>0</td>\n",
       "      <td>50</td>\n",
       "      <td>2018-12-30</td>\n",
       "      <td>Омск</td>\n",
       "      <td>Ириней</td>\n",
       "      <td>...</td>\n",
       "      <td>50</td>\n",
       "      <td>500</td>\n",
       "      <td>15</td>\n",
       "      <td>3</td>\n",
       "      <td>200</td>\n",
       "      <td>550</td>\n",
       "      <td>0</td>\n",
       "      <td>0</td>\n",
       "      <td>0</td>\n",
       "      <td>550</td>\n",
       "    </tr>\n",
       "  </tbody>\n",
       "</table>\n",
       "<p>3216 rows × 24 columns</p>\n",
       "</div>"
      ],
      "text/plain": [
       "      user_id  month  calls_count  duration   mb_used  messages_count  age  \\\n",
       "0        1000      5           22       151   2253.49              22   52   \n",
       "1        1000      6           43       159  23233.77              60   52   \n",
       "2        1000      7           47       318  14003.64              75   52   \n",
       "3        1000      8           52       390  14055.93              81   52   \n",
       "4        1000      9           58       432  14568.91              57   52   \n",
       "...       ...    ...          ...       ...       ...             ...  ...   \n",
       "3211     1489     10            0         0  19559.44              21   35   \n",
       "3212     1489     11            0         0  17491.56              20   35   \n",
       "3213     1489     12            0         0  17322.51              35   35   \n",
       "3214     1128     -1            0         0      0.00               0   51   \n",
       "3215     1371     -1            0         0      0.00               0   50   \n",
       "\n",
       "     churn_date             city first_name  ... messages_included  \\\n",
       "0    2030-01-01        Краснодар     Рафаил  ...              1000   \n",
       "1    2030-01-01        Краснодар     Рафаил  ...              1000   \n",
       "2    2030-01-01        Краснодар     Рафаил  ...              1000   \n",
       "3    2030-01-01        Краснодар     Рафаил  ...              1000   \n",
       "4    2030-01-01        Краснодар     Рафаил  ...              1000   \n",
       "...         ...              ...        ...  ...               ...   \n",
       "3211 2030-01-01  Санкт-Петербург      Павел  ...                50   \n",
       "3212 2030-01-01  Санкт-Петербург      Павел  ...                50   \n",
       "3213 2030-01-01  Санкт-Петербург      Павел  ...                50   \n",
       "3214 2018-12-23         Волжский     Ксения  ...              1000   \n",
       "3215 2018-12-30             Омск     Ириней  ...                50   \n",
       "\n",
       "     minutes_included gb_per_month_included  rub_per_minute_message  \\\n",
       "0                3000                    30                       1   \n",
       "1                3000                    30                       1   \n",
       "2                3000                    30                       1   \n",
       "3                3000                    30                       1   \n",
       "4                3000                    30                       1   \n",
       "...               ...                   ...                     ...   \n",
       "3211              500                    15                       3   \n",
       "3212              500                    15                       3   \n",
       "3213              500                    15                       3   \n",
       "3214             3000                    30                       1   \n",
       "3215              500                    15                       3   \n",
       "\n",
       "      rub_per_gb  rub_monthly_fee  remainder_minutes  remainder_messages  \\\n",
       "0            150             1950                  0                   0   \n",
       "1            150             1950                  0                   0   \n",
       "2            150             1950                  0                   0   \n",
       "3            150             1950                  0                   0   \n",
       "4            150             1950                  0                   0   \n",
       "...          ...              ...                ...                 ...   \n",
       "3211         200              550                  0                   0   \n",
       "3212         200              550                  0                   0   \n",
       "3213         200              550                  0                   0   \n",
       "3214         150             1950                  0                   0   \n",
       "3215         200              550                  0                   0   \n",
       "\n",
       "      remainder_gb  total_price  \n",
       "0                0         1950  \n",
       "1                0         1950  \n",
       "2                0         1950  \n",
       "3                0         1950  \n",
       "4                0         1950  \n",
       "...            ...          ...  \n",
       "3211             5         1550  \n",
       "3212             3         1150  \n",
       "3213             2          950  \n",
       "3214             0         1950  \n",
       "3215             0          550  \n",
       "\n",
       "[3216 rows x 24 columns]"
      ]
     },
     "execution_count": 47,
     "metadata": {},
     "output_type": "execute_result"
    }
   ],
   "source": [
    "def total_price(row):\n",
    "    total = 0\n",
    "    total = (row['remainder_minutes'] * row['rub_per_minute_message']) + (row['remainder_messages'] * row['rub_per_minute_message']) + (row['remainder_gb'] * row['rub_per_gb']) + row['rub_monthly_fee']\n",
    "    return total\n",
    "\n",
    "calls_messages_internet['total_price'] = calls_messages_internet.apply(total_price, axis=1)\n",
    "calls_messages_internet\n",
    "    "
   ]
  },
  {
   "cell_type": "markdown",
   "metadata": {},
   "source": [
    "- Добавила в общую таблицу данные из таблицы tariffs \n",
    "- Вывела в столбец total траты пользователей за месяц"
   ]
  },
  {
   "cell_type": "markdown",
   "metadata": {},
   "source": [
    "## Анализ данных"
   ]
  },
  {
   "cell_type": "code",
   "execution_count": 48,
   "metadata": {},
   "outputs": [
    {
     "data": {
      "text/html": [
       "<div>\n",
       "<style scoped>\n",
       "    .dataframe tbody tr th:only-of-type {\n",
       "        vertical-align: middle;\n",
       "    }\n",
       "\n",
       "    .dataframe tbody tr th {\n",
       "        vertical-align: top;\n",
       "    }\n",
       "\n",
       "    .dataframe thead th {\n",
       "        text-align: right;\n",
       "    }\n",
       "</style>\n",
       "<table border=\"1\" class=\"dataframe\">\n",
       "  <thead>\n",
       "    <tr style=\"text-align: right;\">\n",
       "      <th></th>\n",
       "      <th>user_id</th>\n",
       "      <th>month</th>\n",
       "      <th>calls_count</th>\n",
       "      <th>duration</th>\n",
       "      <th>mb_used</th>\n",
       "      <th>messages_count</th>\n",
       "      <th>age</th>\n",
       "      <th>churn_date</th>\n",
       "      <th>city</th>\n",
       "      <th>first_name</th>\n",
       "      <th>...</th>\n",
       "      <th>messages_included</th>\n",
       "      <th>minutes_included</th>\n",
       "      <th>gb_per_month_included</th>\n",
       "      <th>rub_per_minute_message</th>\n",
       "      <th>rub_per_gb</th>\n",
       "      <th>rub_monthly_fee</th>\n",
       "      <th>remainder_minutes</th>\n",
       "      <th>remainder_messages</th>\n",
       "      <th>remainder_gb</th>\n",
       "      <th>total_price</th>\n",
       "    </tr>\n",
       "  </thead>\n",
       "  <tbody>\n",
       "    <tr>\n",
       "      <th>0</th>\n",
       "      <td>1000</td>\n",
       "      <td>5</td>\n",
       "      <td>22</td>\n",
       "      <td>151</td>\n",
       "      <td>2253.49</td>\n",
       "      <td>22</td>\n",
       "      <td>52</td>\n",
       "      <td>2030-01-01</td>\n",
       "      <td>Краснодар</td>\n",
       "      <td>Рафаил</td>\n",
       "      <td>...</td>\n",
       "      <td>1000</td>\n",
       "      <td>3000</td>\n",
       "      <td>30</td>\n",
       "      <td>1</td>\n",
       "      <td>150</td>\n",
       "      <td>1950</td>\n",
       "      <td>0</td>\n",
       "      <td>0</td>\n",
       "      <td>0</td>\n",
       "      <td>1950</td>\n",
       "    </tr>\n",
       "    <tr>\n",
       "      <th>1</th>\n",
       "      <td>1000</td>\n",
       "      <td>6</td>\n",
       "      <td>43</td>\n",
       "      <td>159</td>\n",
       "      <td>23233.77</td>\n",
       "      <td>60</td>\n",
       "      <td>52</td>\n",
       "      <td>2030-01-01</td>\n",
       "      <td>Краснодар</td>\n",
       "      <td>Рафаил</td>\n",
       "      <td>...</td>\n",
       "      <td>1000</td>\n",
       "      <td>3000</td>\n",
       "      <td>30</td>\n",
       "      <td>1</td>\n",
       "      <td>150</td>\n",
       "      <td>1950</td>\n",
       "      <td>0</td>\n",
       "      <td>0</td>\n",
       "      <td>0</td>\n",
       "      <td>1950</td>\n",
       "    </tr>\n",
       "    <tr>\n",
       "      <th>2</th>\n",
       "      <td>1000</td>\n",
       "      <td>7</td>\n",
       "      <td>47</td>\n",
       "      <td>318</td>\n",
       "      <td>14003.64</td>\n",
       "      <td>75</td>\n",
       "      <td>52</td>\n",
       "      <td>2030-01-01</td>\n",
       "      <td>Краснодар</td>\n",
       "      <td>Рафаил</td>\n",
       "      <td>...</td>\n",
       "      <td>1000</td>\n",
       "      <td>3000</td>\n",
       "      <td>30</td>\n",
       "      <td>1</td>\n",
       "      <td>150</td>\n",
       "      <td>1950</td>\n",
       "      <td>0</td>\n",
       "      <td>0</td>\n",
       "      <td>0</td>\n",
       "      <td>1950</td>\n",
       "    </tr>\n",
       "    <tr>\n",
       "      <th>3</th>\n",
       "      <td>1000</td>\n",
       "      <td>8</td>\n",
       "      <td>52</td>\n",
       "      <td>390</td>\n",
       "      <td>14055.93</td>\n",
       "      <td>81</td>\n",
       "      <td>52</td>\n",
       "      <td>2030-01-01</td>\n",
       "      <td>Краснодар</td>\n",
       "      <td>Рафаил</td>\n",
       "      <td>...</td>\n",
       "      <td>1000</td>\n",
       "      <td>3000</td>\n",
       "      <td>30</td>\n",
       "      <td>1</td>\n",
       "      <td>150</td>\n",
       "      <td>1950</td>\n",
       "      <td>0</td>\n",
       "      <td>0</td>\n",
       "      <td>0</td>\n",
       "      <td>1950</td>\n",
       "    </tr>\n",
       "    <tr>\n",
       "      <th>4</th>\n",
       "      <td>1000</td>\n",
       "      <td>9</td>\n",
       "      <td>58</td>\n",
       "      <td>432</td>\n",
       "      <td>14568.91</td>\n",
       "      <td>57</td>\n",
       "      <td>52</td>\n",
       "      <td>2030-01-01</td>\n",
       "      <td>Краснодар</td>\n",
       "      <td>Рафаил</td>\n",
       "      <td>...</td>\n",
       "      <td>1000</td>\n",
       "      <td>3000</td>\n",
       "      <td>30</td>\n",
       "      <td>1</td>\n",
       "      <td>150</td>\n",
       "      <td>1950</td>\n",
       "      <td>0</td>\n",
       "      <td>0</td>\n",
       "      <td>0</td>\n",
       "      <td>1950</td>\n",
       "    </tr>\n",
       "    <tr>\n",
       "      <th>...</th>\n",
       "      <td>...</td>\n",
       "      <td>...</td>\n",
       "      <td>...</td>\n",
       "      <td>...</td>\n",
       "      <td>...</td>\n",
       "      <td>...</td>\n",
       "      <td>...</td>\n",
       "      <td>...</td>\n",
       "      <td>...</td>\n",
       "      <td>...</td>\n",
       "      <td>...</td>\n",
       "      <td>...</td>\n",
       "      <td>...</td>\n",
       "      <td>...</td>\n",
       "      <td>...</td>\n",
       "      <td>...</td>\n",
       "      <td>...</td>\n",
       "      <td>...</td>\n",
       "      <td>...</td>\n",
       "      <td>...</td>\n",
       "      <td>...</td>\n",
       "    </tr>\n",
       "    <tr>\n",
       "      <th>3211</th>\n",
       "      <td>1489</td>\n",
       "      <td>10</td>\n",
       "      <td>0</td>\n",
       "      <td>0</td>\n",
       "      <td>19559.44</td>\n",
       "      <td>21</td>\n",
       "      <td>35</td>\n",
       "      <td>2030-01-01</td>\n",
       "      <td>Санкт-Петербург</td>\n",
       "      <td>Павел</td>\n",
       "      <td>...</td>\n",
       "      <td>50</td>\n",
       "      <td>500</td>\n",
       "      <td>15</td>\n",
       "      <td>3</td>\n",
       "      <td>200</td>\n",
       "      <td>550</td>\n",
       "      <td>0</td>\n",
       "      <td>0</td>\n",
       "      <td>5</td>\n",
       "      <td>1550</td>\n",
       "    </tr>\n",
       "    <tr>\n",
       "      <th>3212</th>\n",
       "      <td>1489</td>\n",
       "      <td>11</td>\n",
       "      <td>0</td>\n",
       "      <td>0</td>\n",
       "      <td>17491.56</td>\n",
       "      <td>20</td>\n",
       "      <td>35</td>\n",
       "      <td>2030-01-01</td>\n",
       "      <td>Санкт-Петербург</td>\n",
       "      <td>Павел</td>\n",
       "      <td>...</td>\n",
       "      <td>50</td>\n",
       "      <td>500</td>\n",
       "      <td>15</td>\n",
       "      <td>3</td>\n",
       "      <td>200</td>\n",
       "      <td>550</td>\n",
       "      <td>0</td>\n",
       "      <td>0</td>\n",
       "      <td>3</td>\n",
       "      <td>1150</td>\n",
       "    </tr>\n",
       "    <tr>\n",
       "      <th>3213</th>\n",
       "      <td>1489</td>\n",
       "      <td>12</td>\n",
       "      <td>0</td>\n",
       "      <td>0</td>\n",
       "      <td>17322.51</td>\n",
       "      <td>35</td>\n",
       "      <td>35</td>\n",
       "      <td>2030-01-01</td>\n",
       "      <td>Санкт-Петербург</td>\n",
       "      <td>Павел</td>\n",
       "      <td>...</td>\n",
       "      <td>50</td>\n",
       "      <td>500</td>\n",
       "      <td>15</td>\n",
       "      <td>3</td>\n",
       "      <td>200</td>\n",
       "      <td>550</td>\n",
       "      <td>0</td>\n",
       "      <td>0</td>\n",
       "      <td>2</td>\n",
       "      <td>950</td>\n",
       "    </tr>\n",
       "    <tr>\n",
       "      <th>3214</th>\n",
       "      <td>1128</td>\n",
       "      <td>-1</td>\n",
       "      <td>0</td>\n",
       "      <td>0</td>\n",
       "      <td>0.00</td>\n",
       "      <td>0</td>\n",
       "      <td>51</td>\n",
       "      <td>2018-12-23</td>\n",
       "      <td>Волжский</td>\n",
       "      <td>Ксения</td>\n",
       "      <td>...</td>\n",
       "      <td>1000</td>\n",
       "      <td>3000</td>\n",
       "      <td>30</td>\n",
       "      <td>1</td>\n",
       "      <td>150</td>\n",
       "      <td>1950</td>\n",
       "      <td>0</td>\n",
       "      <td>0</td>\n",
       "      <td>0</td>\n",
       "      <td>1950</td>\n",
       "    </tr>\n",
       "    <tr>\n",
       "      <th>3215</th>\n",
       "      <td>1371</td>\n",
       "      <td>-1</td>\n",
       "      <td>0</td>\n",
       "      <td>0</td>\n",
       "      <td>0.00</td>\n",
       "      <td>0</td>\n",
       "      <td>50</td>\n",
       "      <td>2018-12-30</td>\n",
       "      <td>Омск</td>\n",
       "      <td>Ириней</td>\n",
       "      <td>...</td>\n",
       "      <td>50</td>\n",
       "      <td>500</td>\n",
       "      <td>15</td>\n",
       "      <td>3</td>\n",
       "      <td>200</td>\n",
       "      <td>550</td>\n",
       "      <td>0</td>\n",
       "      <td>0</td>\n",
       "      <td>0</td>\n",
       "      <td>550</td>\n",
       "    </tr>\n",
       "  </tbody>\n",
       "</table>\n",
       "<p>3216 rows × 24 columns</p>\n",
       "</div>"
      ],
      "text/plain": [
       "      user_id  month  calls_count  duration   mb_used  messages_count  age  \\\n",
       "0        1000      5           22       151   2253.49              22   52   \n",
       "1        1000      6           43       159  23233.77              60   52   \n",
       "2        1000      7           47       318  14003.64              75   52   \n",
       "3        1000      8           52       390  14055.93              81   52   \n",
       "4        1000      9           58       432  14568.91              57   52   \n",
       "...       ...    ...          ...       ...       ...             ...  ...   \n",
       "3211     1489     10            0         0  19559.44              21   35   \n",
       "3212     1489     11            0         0  17491.56              20   35   \n",
       "3213     1489     12            0         0  17322.51              35   35   \n",
       "3214     1128     -1            0         0      0.00               0   51   \n",
       "3215     1371     -1            0         0      0.00               0   50   \n",
       "\n",
       "     churn_date             city first_name  ... messages_included  \\\n",
       "0    2030-01-01        Краснодар     Рафаил  ...              1000   \n",
       "1    2030-01-01        Краснодар     Рафаил  ...              1000   \n",
       "2    2030-01-01        Краснодар     Рафаил  ...              1000   \n",
       "3    2030-01-01        Краснодар     Рафаил  ...              1000   \n",
       "4    2030-01-01        Краснодар     Рафаил  ...              1000   \n",
       "...         ...              ...        ...  ...               ...   \n",
       "3211 2030-01-01  Санкт-Петербург      Павел  ...                50   \n",
       "3212 2030-01-01  Санкт-Петербург      Павел  ...                50   \n",
       "3213 2030-01-01  Санкт-Петербург      Павел  ...                50   \n",
       "3214 2018-12-23         Волжский     Ксения  ...              1000   \n",
       "3215 2018-12-30             Омск     Ириней  ...                50   \n",
       "\n",
       "     minutes_included gb_per_month_included  rub_per_minute_message  \\\n",
       "0                3000                    30                       1   \n",
       "1                3000                    30                       1   \n",
       "2                3000                    30                       1   \n",
       "3                3000                    30                       1   \n",
       "4                3000                    30                       1   \n",
       "...               ...                   ...                     ...   \n",
       "3211              500                    15                       3   \n",
       "3212              500                    15                       3   \n",
       "3213              500                    15                       3   \n",
       "3214             3000                    30                       1   \n",
       "3215              500                    15                       3   \n",
       "\n",
       "      rub_per_gb  rub_monthly_fee  remainder_minutes  remainder_messages  \\\n",
       "0            150             1950                  0                   0   \n",
       "1            150             1950                  0                   0   \n",
       "2            150             1950                  0                   0   \n",
       "3            150             1950                  0                   0   \n",
       "4            150             1950                  0                   0   \n",
       "...          ...              ...                ...                 ...   \n",
       "3211         200              550                  0                   0   \n",
       "3212         200              550                  0                   0   \n",
       "3213         200              550                  0                   0   \n",
       "3214         150             1950                  0                   0   \n",
       "3215         200              550                  0                   0   \n",
       "\n",
       "      remainder_gb  total_price  \n",
       "0                0         1950  \n",
       "1                0         1950  \n",
       "2                0         1950  \n",
       "3                0         1950  \n",
       "4                0         1950  \n",
       "...            ...          ...  \n",
       "3211             5         1550  \n",
       "3212             3         1150  \n",
       "3213             2          950  \n",
       "3214             0         1950  \n",
       "3215             0          550  \n",
       "\n",
       "[3216 rows x 24 columns]"
      ]
     },
     "execution_count": 48,
     "metadata": {},
     "output_type": "execute_result"
    }
   ],
   "source": [
    "calls_messages_internet"
   ]
  },
  {
   "cell_type": "code",
   "execution_count": 49,
   "metadata": {},
   "outputs": [
    {
     "data": {
      "text/html": [
       "<div>\n",
       "<style scoped>\n",
       "    .dataframe tbody tr th:only-of-type {\n",
       "        vertical-align: middle;\n",
       "    }\n",
       "\n",
       "    .dataframe tbody tr th {\n",
       "        vertical-align: top;\n",
       "    }\n",
       "\n",
       "    .dataframe thead tr th {\n",
       "        text-align: left;\n",
       "    }\n",
       "\n",
       "    .dataframe thead tr:last-of-type th {\n",
       "        text-align: right;\n",
       "    }\n",
       "</style>\n",
       "<table border=\"1\" class=\"dataframe\">\n",
       "  <thead>\n",
       "    <tr>\n",
       "      <th></th>\n",
       "      <th colspan=\"3\" halign=\"left\">mean</th>\n",
       "      <th colspan=\"3\" halign=\"left\">std</th>\n",
       "      <th colspan=\"3\" halign=\"left\">var</th>\n",
       "    </tr>\n",
       "    <tr>\n",
       "      <th></th>\n",
       "      <th>duration</th>\n",
       "      <th>mb_used</th>\n",
       "      <th>messages_count</th>\n",
       "      <th>duration</th>\n",
       "      <th>mb_used</th>\n",
       "      <th>messages_count</th>\n",
       "      <th>duration</th>\n",
       "      <th>mb_used</th>\n",
       "      <th>messages_count</th>\n",
       "    </tr>\n",
       "    <tr>\n",
       "      <th>tariff</th>\n",
       "      <th></th>\n",
       "      <th></th>\n",
       "      <th></th>\n",
       "      <th></th>\n",
       "      <th></th>\n",
       "      <th></th>\n",
       "      <th></th>\n",
       "      <th></th>\n",
       "      <th></th>\n",
       "    </tr>\n",
       "  </thead>\n",
       "  <tbody>\n",
       "    <tr>\n",
       "      <th>smart</th>\n",
       "      <td>389.67</td>\n",
       "      <td>16,201.12</td>\n",
       "      <td>33.37</td>\n",
       "      <td>176.55</td>\n",
       "      <td>5,879.19</td>\n",
       "      <td>28.23</td>\n",
       "      <td>31,170.50</td>\n",
       "      <td>34,564,843.48</td>\n",
       "      <td>796.96</td>\n",
       "    </tr>\n",
       "    <tr>\n",
       "      <th>ultra</th>\n",
       "      <td>488.07</td>\n",
       "      <td>19,449.06</td>\n",
       "      <td>49.31</td>\n",
       "      <td>291.86</td>\n",
       "      <td>10,101.10</td>\n",
       "      <td>47.81</td>\n",
       "      <td>85,179.62</td>\n",
       "      <td>102,032,129.46</td>\n",
       "      <td>2,285.42</td>\n",
       "    </tr>\n",
       "  </tbody>\n",
       "</table>\n",
       "</div>"
      ],
      "text/plain": [
       "           mean                               std                           \\\n",
       "       duration   mb_used messages_count duration   mb_used messages_count   \n",
       "tariff                                                                       \n",
       "smart    389.67 16,201.12          33.37   176.55  5,879.19          28.23   \n",
       "ultra    488.07 19,449.06          49.31   291.86 10,101.10          47.81   \n",
       "\n",
       "             var                                \n",
       "        duration        mb_used messages_count  \n",
       "tariff                                          \n",
       "smart  31,170.50  34,564,843.48         796.96  \n",
       "ultra  85,179.62 102,032,129.46       2,285.42  "
      ]
     },
     "execution_count": 49,
     "metadata": {},
     "output_type": "execute_result"
    }
   ],
   "source": [
    "pd.set_option('display.float_format', '{:,.2f}'.format)\n",
    "tariffs_meaning = calls_messages_internet.pivot_table(index = 'tariff', values = ['duration', 'messages_count', 'mb_used'], aggfunc = ['mean', 'std', 'var'])\n",
    "tariffs_meaning"
   ]
  },
  {
   "cell_type": "code",
   "execution_count": 50,
   "metadata": {},
   "outputs": [
    {
     "data": {
      "text/html": [
       "<div>\n",
       "<style scoped>\n",
       "    .dataframe tbody tr th:only-of-type {\n",
       "        vertical-align: middle;\n",
       "    }\n",
       "\n",
       "    .dataframe tbody tr th {\n",
       "        vertical-align: top;\n",
       "    }\n",
       "\n",
       "    .dataframe thead th {\n",
       "        text-align: right;\n",
       "    }\n",
       "</style>\n",
       "<table border=\"1\" class=\"dataframe\">\n",
       "  <thead>\n",
       "    <tr style=\"text-align: right;\">\n",
       "      <th></th>\n",
       "      <th>user_id</th>\n",
       "      <th>month</th>\n",
       "      <th>calls_count</th>\n",
       "      <th>duration</th>\n",
       "      <th>mb_used</th>\n",
       "      <th>messages_count</th>\n",
       "      <th>age</th>\n",
       "      <th>churn_date</th>\n",
       "      <th>city</th>\n",
       "      <th>first_name</th>\n",
       "      <th>...</th>\n",
       "      <th>messages_included</th>\n",
       "      <th>minutes_included</th>\n",
       "      <th>gb_per_month_included</th>\n",
       "      <th>rub_per_minute_message</th>\n",
       "      <th>rub_per_gb</th>\n",
       "      <th>rub_monthly_fee</th>\n",
       "      <th>remainder_minutes</th>\n",
       "      <th>remainder_messages</th>\n",
       "      <th>remainder_gb</th>\n",
       "      <th>total_price</th>\n",
       "    </tr>\n",
       "  </thead>\n",
       "  <tbody>\n",
       "    <tr>\n",
       "      <th>8</th>\n",
       "      <td>1001</td>\n",
       "      <td>11</td>\n",
       "      <td>59</td>\n",
       "      <td>409</td>\n",
       "      <td>18,429.34</td>\n",
       "      <td>0</td>\n",
       "      <td>41</td>\n",
       "      <td>2030-01-01</td>\n",
       "      <td>Москва</td>\n",
       "      <td>Иван</td>\n",
       "      <td>...</td>\n",
       "      <td>50</td>\n",
       "      <td>500</td>\n",
       "      <td>15</td>\n",
       "      <td>3</td>\n",
       "      <td>200</td>\n",
       "      <td>550</td>\n",
       "      <td>0</td>\n",
       "      <td>0</td>\n",
       "      <td>3</td>\n",
       "      <td>1150</td>\n",
       "    </tr>\n",
       "    <tr>\n",
       "      <th>9</th>\n",
       "      <td>1001</td>\n",
       "      <td>12</td>\n",
       "      <td>63</td>\n",
       "      <td>392</td>\n",
       "      <td>14,036.66</td>\n",
       "      <td>0</td>\n",
       "      <td>41</td>\n",
       "      <td>2030-01-01</td>\n",
       "      <td>Москва</td>\n",
       "      <td>Иван</td>\n",
       "      <td>...</td>\n",
       "      <td>50</td>\n",
       "      <td>500</td>\n",
       "      <td>15</td>\n",
       "      <td>3</td>\n",
       "      <td>200</td>\n",
       "      <td>550</td>\n",
       "      <td>0</td>\n",
       "      <td>0</td>\n",
       "      <td>0</td>\n",
       "      <td>550</td>\n",
       "    </tr>\n",
       "    <tr>\n",
       "      <th>10</th>\n",
       "      <td>1002</td>\n",
       "      <td>6</td>\n",
       "      <td>15</td>\n",
       "      <td>111</td>\n",
       "      <td>10,856.82</td>\n",
       "      <td>4</td>\n",
       "      <td>59</td>\n",
       "      <td>2030-01-01</td>\n",
       "      <td>Стерлитамак</td>\n",
       "      <td>Евгений</td>\n",
       "      <td>...</td>\n",
       "      <td>50</td>\n",
       "      <td>500</td>\n",
       "      <td>15</td>\n",
       "      <td>3</td>\n",
       "      <td>200</td>\n",
       "      <td>550</td>\n",
       "      <td>0</td>\n",
       "      <td>0</td>\n",
       "      <td>0</td>\n",
       "      <td>550</td>\n",
       "    </tr>\n",
       "    <tr>\n",
       "      <th>11</th>\n",
       "      <td>1002</td>\n",
       "      <td>7</td>\n",
       "      <td>26</td>\n",
       "      <td>205</td>\n",
       "      <td>17,580.10</td>\n",
       "      <td>11</td>\n",
       "      <td>59</td>\n",
       "      <td>2030-01-01</td>\n",
       "      <td>Стерлитамак</td>\n",
       "      <td>Евгений</td>\n",
       "      <td>...</td>\n",
       "      <td>50</td>\n",
       "      <td>500</td>\n",
       "      <td>15</td>\n",
       "      <td>3</td>\n",
       "      <td>200</td>\n",
       "      <td>550</td>\n",
       "      <td>0</td>\n",
       "      <td>0</td>\n",
       "      <td>3</td>\n",
       "      <td>1150</td>\n",
       "    </tr>\n",
       "    <tr>\n",
       "      <th>12</th>\n",
       "      <td>1002</td>\n",
       "      <td>8</td>\n",
       "      <td>42</td>\n",
       "      <td>263</td>\n",
       "      <td>20,319.26</td>\n",
       "      <td>13</td>\n",
       "      <td>59</td>\n",
       "      <td>2030-01-01</td>\n",
       "      <td>Стерлитамак</td>\n",
       "      <td>Евгений</td>\n",
       "      <td>...</td>\n",
       "      <td>50</td>\n",
       "      <td>500</td>\n",
       "      <td>15</td>\n",
       "      <td>3</td>\n",
       "      <td>200</td>\n",
       "      <td>550</td>\n",
       "      <td>0</td>\n",
       "      <td>0</td>\n",
       "      <td>5</td>\n",
       "      <td>1550</td>\n",
       "    </tr>\n",
       "    <tr>\n",
       "      <th>...</th>\n",
       "      <td>...</td>\n",
       "      <td>...</td>\n",
       "      <td>...</td>\n",
       "      <td>...</td>\n",
       "      <td>...</td>\n",
       "      <td>...</td>\n",
       "      <td>...</td>\n",
       "      <td>...</td>\n",
       "      <td>...</td>\n",
       "      <td>...</td>\n",
       "      <td>...</td>\n",
       "      <td>...</td>\n",
       "      <td>...</td>\n",
       "      <td>...</td>\n",
       "      <td>...</td>\n",
       "      <td>...</td>\n",
       "      <td>...</td>\n",
       "      <td>...</td>\n",
       "      <td>...</td>\n",
       "      <td>...</td>\n",
       "      <td>...</td>\n",
       "    </tr>\n",
       "    <tr>\n",
       "      <th>3210</th>\n",
       "      <td>1489</td>\n",
       "      <td>9</td>\n",
       "      <td>0</td>\n",
       "      <td>0</td>\n",
       "      <td>17,206.30</td>\n",
       "      <td>32</td>\n",
       "      <td>35</td>\n",
       "      <td>2030-01-01</td>\n",
       "      <td>Санкт-Петербург</td>\n",
       "      <td>Павел</td>\n",
       "      <td>...</td>\n",
       "      <td>50</td>\n",
       "      <td>500</td>\n",
       "      <td>15</td>\n",
       "      <td>3</td>\n",
       "      <td>200</td>\n",
       "      <td>550</td>\n",
       "      <td>0</td>\n",
       "      <td>0</td>\n",
       "      <td>2</td>\n",
       "      <td>950</td>\n",
       "    </tr>\n",
       "    <tr>\n",
       "      <th>3211</th>\n",
       "      <td>1489</td>\n",
       "      <td>10</td>\n",
       "      <td>0</td>\n",
       "      <td>0</td>\n",
       "      <td>19,559.44</td>\n",
       "      <td>21</td>\n",
       "      <td>35</td>\n",
       "      <td>2030-01-01</td>\n",
       "      <td>Санкт-Петербург</td>\n",
       "      <td>Павел</td>\n",
       "      <td>...</td>\n",
       "      <td>50</td>\n",
       "      <td>500</td>\n",
       "      <td>15</td>\n",
       "      <td>3</td>\n",
       "      <td>200</td>\n",
       "      <td>550</td>\n",
       "      <td>0</td>\n",
       "      <td>0</td>\n",
       "      <td>5</td>\n",
       "      <td>1550</td>\n",
       "    </tr>\n",
       "    <tr>\n",
       "      <th>3212</th>\n",
       "      <td>1489</td>\n",
       "      <td>11</td>\n",
       "      <td>0</td>\n",
       "      <td>0</td>\n",
       "      <td>17,491.56</td>\n",
       "      <td>20</td>\n",
       "      <td>35</td>\n",
       "      <td>2030-01-01</td>\n",
       "      <td>Санкт-Петербург</td>\n",
       "      <td>Павел</td>\n",
       "      <td>...</td>\n",
       "      <td>50</td>\n",
       "      <td>500</td>\n",
       "      <td>15</td>\n",
       "      <td>3</td>\n",
       "      <td>200</td>\n",
       "      <td>550</td>\n",
       "      <td>0</td>\n",
       "      <td>0</td>\n",
       "      <td>3</td>\n",
       "      <td>1150</td>\n",
       "    </tr>\n",
       "    <tr>\n",
       "      <th>3213</th>\n",
       "      <td>1489</td>\n",
       "      <td>12</td>\n",
       "      <td>0</td>\n",
       "      <td>0</td>\n",
       "      <td>17,322.51</td>\n",
       "      <td>35</td>\n",
       "      <td>35</td>\n",
       "      <td>2030-01-01</td>\n",
       "      <td>Санкт-Петербург</td>\n",
       "      <td>Павел</td>\n",
       "      <td>...</td>\n",
       "      <td>50</td>\n",
       "      <td>500</td>\n",
       "      <td>15</td>\n",
       "      <td>3</td>\n",
       "      <td>200</td>\n",
       "      <td>550</td>\n",
       "      <td>0</td>\n",
       "      <td>0</td>\n",
       "      <td>2</td>\n",
       "      <td>950</td>\n",
       "    </tr>\n",
       "    <tr>\n",
       "      <th>3215</th>\n",
       "      <td>1371</td>\n",
       "      <td>-1</td>\n",
       "      <td>0</td>\n",
       "      <td>0</td>\n",
       "      <td>0.00</td>\n",
       "      <td>0</td>\n",
       "      <td>50</td>\n",
       "      <td>2018-12-30</td>\n",
       "      <td>Омск</td>\n",
       "      <td>Ириней</td>\n",
       "      <td>...</td>\n",
       "      <td>50</td>\n",
       "      <td>500</td>\n",
       "      <td>15</td>\n",
       "      <td>3</td>\n",
       "      <td>200</td>\n",
       "      <td>550</td>\n",
       "      <td>0</td>\n",
       "      <td>0</td>\n",
       "      <td>0</td>\n",
       "      <td>550</td>\n",
       "    </tr>\n",
       "  </tbody>\n",
       "</table>\n",
       "<p>2230 rows × 24 columns</p>\n",
       "</div>"
      ],
      "text/plain": [
       "      user_id  month  calls_count  duration   mb_used  messages_count  age  \\\n",
       "8        1001     11           59       409 18,429.34               0   41   \n",
       "9        1001     12           63       392 14,036.66               0   41   \n",
       "10       1002      6           15       111 10,856.82               4   59   \n",
       "11       1002      7           26       205 17,580.10              11   59   \n",
       "12       1002      8           42       263 20,319.26              13   59   \n",
       "...       ...    ...          ...       ...       ...             ...  ...   \n",
       "3210     1489      9            0         0 17,206.30              32   35   \n",
       "3211     1489     10            0         0 19,559.44              21   35   \n",
       "3212     1489     11            0         0 17,491.56              20   35   \n",
       "3213     1489     12            0         0 17,322.51              35   35   \n",
       "3215     1371     -1            0         0      0.00               0   50   \n",
       "\n",
       "     churn_date             city first_name  ... messages_included  \\\n",
       "8    2030-01-01           Москва       Иван  ...                50   \n",
       "9    2030-01-01           Москва       Иван  ...                50   \n",
       "10   2030-01-01      Стерлитамак    Евгений  ...                50   \n",
       "11   2030-01-01      Стерлитамак    Евгений  ...                50   \n",
       "12   2030-01-01      Стерлитамак    Евгений  ...                50   \n",
       "...         ...              ...        ...  ...               ...   \n",
       "3210 2030-01-01  Санкт-Петербург      Павел  ...                50   \n",
       "3211 2030-01-01  Санкт-Петербург      Павел  ...                50   \n",
       "3212 2030-01-01  Санкт-Петербург      Павел  ...                50   \n",
       "3213 2030-01-01  Санкт-Петербург      Павел  ...                50   \n",
       "3215 2018-12-30             Омск     Ириней  ...                50   \n",
       "\n",
       "     minutes_included gb_per_month_included  rub_per_minute_message  \\\n",
       "8                 500                    15                       3   \n",
       "9                 500                    15                       3   \n",
       "10                500                    15                       3   \n",
       "11                500                    15                       3   \n",
       "12                500                    15                       3   \n",
       "...               ...                   ...                     ...   \n",
       "3210              500                    15                       3   \n",
       "3211              500                    15                       3   \n",
       "3212              500                    15                       3   \n",
       "3213              500                    15                       3   \n",
       "3215              500                    15                       3   \n",
       "\n",
       "      rub_per_gb  rub_monthly_fee  remainder_minutes  remainder_messages  \\\n",
       "8            200              550                  0                   0   \n",
       "9            200              550                  0                   0   \n",
       "10           200              550                  0                   0   \n",
       "11           200              550                  0                   0   \n",
       "12           200              550                  0                   0   \n",
       "...          ...              ...                ...                 ...   \n",
       "3210         200              550                  0                   0   \n",
       "3211         200              550                  0                   0   \n",
       "3212         200              550                  0                   0   \n",
       "3213         200              550                  0                   0   \n",
       "3215         200              550                  0                   0   \n",
       "\n",
       "      remainder_gb  total_price  \n",
       "8                3         1150  \n",
       "9                0          550  \n",
       "10               0          550  \n",
       "11               3         1150  \n",
       "12               5         1550  \n",
       "...            ...          ...  \n",
       "3210             2          950  \n",
       "3211             5         1550  \n",
       "3212             3         1150  \n",
       "3213             2          950  \n",
       "3215             0          550  \n",
       "\n",
       "[2230 rows x 24 columns]"
      ]
     },
     "execution_count": 50,
     "metadata": {},
     "output_type": "execute_result"
    }
   ],
   "source": [
    "smart = calls_messages_internet[calls_messages_internet['tariff'] == 'smart']\n",
    "smart"
   ]
  },
  {
   "cell_type": "code",
   "execution_count": 51,
   "metadata": {
    "scrolled": false
   },
   "outputs": [
    {
     "data": {
      "text/html": [
       "<div>\n",
       "<style scoped>\n",
       "    .dataframe tbody tr th:only-of-type {\n",
       "        vertical-align: middle;\n",
       "    }\n",
       "\n",
       "    .dataframe tbody tr th {\n",
       "        vertical-align: top;\n",
       "    }\n",
       "\n",
       "    .dataframe thead th {\n",
       "        text-align: right;\n",
       "    }\n",
       "</style>\n",
       "<table border=\"1\" class=\"dataframe\">\n",
       "  <thead>\n",
       "    <tr style=\"text-align: right;\">\n",
       "      <th></th>\n",
       "      <th>user_id</th>\n",
       "      <th>month</th>\n",
       "      <th>calls_count</th>\n",
       "      <th>duration</th>\n",
       "      <th>mb_used</th>\n",
       "      <th>messages_count</th>\n",
       "      <th>age</th>\n",
       "      <th>churn_date</th>\n",
       "      <th>city</th>\n",
       "      <th>first_name</th>\n",
       "      <th>...</th>\n",
       "      <th>messages_included</th>\n",
       "      <th>minutes_included</th>\n",
       "      <th>gb_per_month_included</th>\n",
       "      <th>rub_per_minute_message</th>\n",
       "      <th>rub_per_gb</th>\n",
       "      <th>rub_monthly_fee</th>\n",
       "      <th>remainder_minutes</th>\n",
       "      <th>remainder_messages</th>\n",
       "      <th>remainder_gb</th>\n",
       "      <th>total_price</th>\n",
       "    </tr>\n",
       "  </thead>\n",
       "  <tbody>\n",
       "    <tr>\n",
       "      <th>0</th>\n",
       "      <td>1000</td>\n",
       "      <td>5</td>\n",
       "      <td>22</td>\n",
       "      <td>151</td>\n",
       "      <td>2,253.49</td>\n",
       "      <td>22</td>\n",
       "      <td>52</td>\n",
       "      <td>2030-01-01</td>\n",
       "      <td>Краснодар</td>\n",
       "      <td>Рафаил</td>\n",
       "      <td>...</td>\n",
       "      <td>1000</td>\n",
       "      <td>3000</td>\n",
       "      <td>30</td>\n",
       "      <td>1</td>\n",
       "      <td>150</td>\n",
       "      <td>1950</td>\n",
       "      <td>0</td>\n",
       "      <td>0</td>\n",
       "      <td>0</td>\n",
       "      <td>1950</td>\n",
       "    </tr>\n",
       "    <tr>\n",
       "      <th>1</th>\n",
       "      <td>1000</td>\n",
       "      <td>6</td>\n",
       "      <td>43</td>\n",
       "      <td>159</td>\n",
       "      <td>23,233.77</td>\n",
       "      <td>60</td>\n",
       "      <td>52</td>\n",
       "      <td>2030-01-01</td>\n",
       "      <td>Краснодар</td>\n",
       "      <td>Рафаил</td>\n",
       "      <td>...</td>\n",
       "      <td>1000</td>\n",
       "      <td>3000</td>\n",
       "      <td>30</td>\n",
       "      <td>1</td>\n",
       "      <td>150</td>\n",
       "      <td>1950</td>\n",
       "      <td>0</td>\n",
       "      <td>0</td>\n",
       "      <td>0</td>\n",
       "      <td>1950</td>\n",
       "    </tr>\n",
       "    <tr>\n",
       "      <th>2</th>\n",
       "      <td>1000</td>\n",
       "      <td>7</td>\n",
       "      <td>47</td>\n",
       "      <td>318</td>\n",
       "      <td>14,003.64</td>\n",
       "      <td>75</td>\n",
       "      <td>52</td>\n",
       "      <td>2030-01-01</td>\n",
       "      <td>Краснодар</td>\n",
       "      <td>Рафаил</td>\n",
       "      <td>...</td>\n",
       "      <td>1000</td>\n",
       "      <td>3000</td>\n",
       "      <td>30</td>\n",
       "      <td>1</td>\n",
       "      <td>150</td>\n",
       "      <td>1950</td>\n",
       "      <td>0</td>\n",
       "      <td>0</td>\n",
       "      <td>0</td>\n",
       "      <td>1950</td>\n",
       "    </tr>\n",
       "    <tr>\n",
       "      <th>3</th>\n",
       "      <td>1000</td>\n",
       "      <td>8</td>\n",
       "      <td>52</td>\n",
       "      <td>390</td>\n",
       "      <td>14,055.93</td>\n",
       "      <td>81</td>\n",
       "      <td>52</td>\n",
       "      <td>2030-01-01</td>\n",
       "      <td>Краснодар</td>\n",
       "      <td>Рафаил</td>\n",
       "      <td>...</td>\n",
       "      <td>1000</td>\n",
       "      <td>3000</td>\n",
       "      <td>30</td>\n",
       "      <td>1</td>\n",
       "      <td>150</td>\n",
       "      <td>1950</td>\n",
       "      <td>0</td>\n",
       "      <td>0</td>\n",
       "      <td>0</td>\n",
       "      <td>1950</td>\n",
       "    </tr>\n",
       "    <tr>\n",
       "      <th>4</th>\n",
       "      <td>1000</td>\n",
       "      <td>9</td>\n",
       "      <td>58</td>\n",
       "      <td>432</td>\n",
       "      <td>14,568.91</td>\n",
       "      <td>57</td>\n",
       "      <td>52</td>\n",
       "      <td>2030-01-01</td>\n",
       "      <td>Краснодар</td>\n",
       "      <td>Рафаил</td>\n",
       "      <td>...</td>\n",
       "      <td>1000</td>\n",
       "      <td>3000</td>\n",
       "      <td>30</td>\n",
       "      <td>1</td>\n",
       "      <td>150</td>\n",
       "      <td>1950</td>\n",
       "      <td>0</td>\n",
       "      <td>0</td>\n",
       "      <td>0</td>\n",
       "      <td>1950</td>\n",
       "    </tr>\n",
       "    <tr>\n",
       "      <th>...</th>\n",
       "      <td>...</td>\n",
       "      <td>...</td>\n",
       "      <td>...</td>\n",
       "      <td>...</td>\n",
       "      <td>...</td>\n",
       "      <td>...</td>\n",
       "      <td>...</td>\n",
       "      <td>...</td>\n",
       "      <td>...</td>\n",
       "      <td>...</td>\n",
       "      <td>...</td>\n",
       "      <td>...</td>\n",
       "      <td>...</td>\n",
       "      <td>...</td>\n",
       "      <td>...</td>\n",
       "      <td>...</td>\n",
       "      <td>...</td>\n",
       "      <td>...</td>\n",
       "      <td>...</td>\n",
       "      <td>...</td>\n",
       "      <td>...</td>\n",
       "    </tr>\n",
       "    <tr>\n",
       "      <th>3205</th>\n",
       "      <td>1473</td>\n",
       "      <td>9</td>\n",
       "      <td>0</td>\n",
       "      <td>0</td>\n",
       "      <td>17,289.85</td>\n",
       "      <td>19</td>\n",
       "      <td>18</td>\n",
       "      <td>2030-01-01</td>\n",
       "      <td>Красноярск</td>\n",
       "      <td>Николай</td>\n",
       "      <td>...</td>\n",
       "      <td>1000</td>\n",
       "      <td>3000</td>\n",
       "      <td>30</td>\n",
       "      <td>1</td>\n",
       "      <td>150</td>\n",
       "      <td>1950</td>\n",
       "      <td>0</td>\n",
       "      <td>0</td>\n",
       "      <td>0</td>\n",
       "      <td>1950</td>\n",
       "    </tr>\n",
       "    <tr>\n",
       "      <th>3206</th>\n",
       "      <td>1473</td>\n",
       "      <td>10</td>\n",
       "      <td>0</td>\n",
       "      <td>0</td>\n",
       "      <td>13,688.65</td>\n",
       "      <td>20</td>\n",
       "      <td>18</td>\n",
       "      <td>2030-01-01</td>\n",
       "      <td>Красноярск</td>\n",
       "      <td>Николай</td>\n",
       "      <td>...</td>\n",
       "      <td>1000</td>\n",
       "      <td>3000</td>\n",
       "      <td>30</td>\n",
       "      <td>1</td>\n",
       "      <td>150</td>\n",
       "      <td>1950</td>\n",
       "      <td>0</td>\n",
       "      <td>0</td>\n",
       "      <td>0</td>\n",
       "      <td>1950</td>\n",
       "    </tr>\n",
       "    <tr>\n",
       "      <th>3207</th>\n",
       "      <td>1473</td>\n",
       "      <td>11</td>\n",
       "      <td>0</td>\n",
       "      <td>0</td>\n",
       "      <td>21,673.80</td>\n",
       "      <td>14</td>\n",
       "      <td>18</td>\n",
       "      <td>2030-01-01</td>\n",
       "      <td>Красноярск</td>\n",
       "      <td>Николай</td>\n",
       "      <td>...</td>\n",
       "      <td>1000</td>\n",
       "      <td>3000</td>\n",
       "      <td>30</td>\n",
       "      <td>1</td>\n",
       "      <td>150</td>\n",
       "      <td>1950</td>\n",
       "      <td>0</td>\n",
       "      <td>0</td>\n",
       "      <td>0</td>\n",
       "      <td>1950</td>\n",
       "    </tr>\n",
       "    <tr>\n",
       "      <th>3208</th>\n",
       "      <td>1473</td>\n",
       "      <td>12</td>\n",
       "      <td>0</td>\n",
       "      <td>0</td>\n",
       "      <td>18,418.26</td>\n",
       "      <td>20</td>\n",
       "      <td>18</td>\n",
       "      <td>2030-01-01</td>\n",
       "      <td>Красноярск</td>\n",
       "      <td>Николай</td>\n",
       "      <td>...</td>\n",
       "      <td>1000</td>\n",
       "      <td>3000</td>\n",
       "      <td>30</td>\n",
       "      <td>1</td>\n",
       "      <td>150</td>\n",
       "      <td>1950</td>\n",
       "      <td>0</td>\n",
       "      <td>0</td>\n",
       "      <td>0</td>\n",
       "      <td>1950</td>\n",
       "    </tr>\n",
       "    <tr>\n",
       "      <th>3214</th>\n",
       "      <td>1128</td>\n",
       "      <td>-1</td>\n",
       "      <td>0</td>\n",
       "      <td>0</td>\n",
       "      <td>0.00</td>\n",
       "      <td>0</td>\n",
       "      <td>51</td>\n",
       "      <td>2018-12-23</td>\n",
       "      <td>Волжский</td>\n",
       "      <td>Ксения</td>\n",
       "      <td>...</td>\n",
       "      <td>1000</td>\n",
       "      <td>3000</td>\n",
       "      <td>30</td>\n",
       "      <td>1</td>\n",
       "      <td>150</td>\n",
       "      <td>1950</td>\n",
       "      <td>0</td>\n",
       "      <td>0</td>\n",
       "      <td>0</td>\n",
       "      <td>1950</td>\n",
       "    </tr>\n",
       "  </tbody>\n",
       "</table>\n",
       "<p>986 rows × 24 columns</p>\n",
       "</div>"
      ],
      "text/plain": [
       "      user_id  month  calls_count  duration   mb_used  messages_count  age  \\\n",
       "0        1000      5           22       151  2,253.49              22   52   \n",
       "1        1000      6           43       159 23,233.77              60   52   \n",
       "2        1000      7           47       318 14,003.64              75   52   \n",
       "3        1000      8           52       390 14,055.93              81   52   \n",
       "4        1000      9           58       432 14,568.91              57   52   \n",
       "...       ...    ...          ...       ...       ...             ...  ...   \n",
       "3205     1473      9            0         0 17,289.85              19   18   \n",
       "3206     1473     10            0         0 13,688.65              20   18   \n",
       "3207     1473     11            0         0 21,673.80              14   18   \n",
       "3208     1473     12            0         0 18,418.26              20   18   \n",
       "3214     1128     -1            0         0      0.00               0   51   \n",
       "\n",
       "     churn_date        city first_name  ... messages_included  \\\n",
       "0    2030-01-01   Краснодар     Рафаил  ...              1000   \n",
       "1    2030-01-01   Краснодар     Рафаил  ...              1000   \n",
       "2    2030-01-01   Краснодар     Рафаил  ...              1000   \n",
       "3    2030-01-01   Краснодар     Рафаил  ...              1000   \n",
       "4    2030-01-01   Краснодар     Рафаил  ...              1000   \n",
       "...         ...         ...        ...  ...               ...   \n",
       "3205 2030-01-01  Красноярск    Николай  ...              1000   \n",
       "3206 2030-01-01  Красноярск    Николай  ...              1000   \n",
       "3207 2030-01-01  Красноярск    Николай  ...              1000   \n",
       "3208 2030-01-01  Красноярск    Николай  ...              1000   \n",
       "3214 2018-12-23    Волжский     Ксения  ...              1000   \n",
       "\n",
       "     minutes_included gb_per_month_included  rub_per_minute_message  \\\n",
       "0                3000                    30                       1   \n",
       "1                3000                    30                       1   \n",
       "2                3000                    30                       1   \n",
       "3                3000                    30                       1   \n",
       "4                3000                    30                       1   \n",
       "...               ...                   ...                     ...   \n",
       "3205             3000                    30                       1   \n",
       "3206             3000                    30                       1   \n",
       "3207             3000                    30                       1   \n",
       "3208             3000                    30                       1   \n",
       "3214             3000                    30                       1   \n",
       "\n",
       "      rub_per_gb  rub_monthly_fee  remainder_minutes  remainder_messages  \\\n",
       "0            150             1950                  0                   0   \n",
       "1            150             1950                  0                   0   \n",
       "2            150             1950                  0                   0   \n",
       "3            150             1950                  0                   0   \n",
       "4            150             1950                  0                   0   \n",
       "...          ...              ...                ...                 ...   \n",
       "3205         150             1950                  0                   0   \n",
       "3206         150             1950                  0                   0   \n",
       "3207         150             1950                  0                   0   \n",
       "3208         150             1950                  0                   0   \n",
       "3214         150             1950                  0                   0   \n",
       "\n",
       "      remainder_gb  total_price  \n",
       "0                0         1950  \n",
       "1                0         1950  \n",
       "2                0         1950  \n",
       "3                0         1950  \n",
       "4                0         1950  \n",
       "...            ...          ...  \n",
       "3205             0         1950  \n",
       "3206             0         1950  \n",
       "3207             0         1950  \n",
       "3208             0         1950  \n",
       "3214             0         1950  \n",
       "\n",
       "[986 rows x 24 columns]"
      ]
     },
     "execution_count": 51,
     "metadata": {},
     "output_type": "execute_result"
    }
   ],
   "source": [
    "ultra = calls_messages_internet[calls_messages_internet['tariff'] == 'ultra']\n",
    "ultra"
   ]
  },
  {
   "cell_type": "code",
   "execution_count": 52,
   "metadata": {},
   "outputs": [
    {
     "data": {
      "image/png": "[encoded data removed]",
      "text/plain": [
       "<Figure size 576x720 with 1 Axes>"
      ]
     },
     "metadata": {
      "needs_background": "light"
     },
     "output_type": "display_data"
    }
   ],
   "source": [
    "fig, ax = plt.subplots(figsize = (8,10))\n",
    "\n",
    "ax.hist(smart['duration'], alpha=0.7, bins=60, label = 'smart')\n",
    "ax.hist(ultra['duration'], alpha=0.7, bins=60, label = 'ultra', range = (0, 1500))\n",
    "ax.legend()  \n",
    "ax.set_xlabel('minutes')\n",
    "ax.set_ylabel('users')\n",
    "ax.set_title('Calls')\n",
    "\n",
    "plt.show()"
   ]
  },
  {
   "cell_type": "code",
   "execution_count": 53,
   "metadata": {},
   "outputs": [
    {
     "data": {
      "image/png": "[encoded data removed]",
      "text/plain": [
       "<Figure size 576x720 with 1 Axes>"
      ]
     },
     "metadata": {
      "needs_background": "light"
     },
     "output_type": "display_data"
    }
   ],
   "source": [
    "fig, ax = plt.subplots(figsize = (8,10))\n",
    "\n",
    "ax.hist(smart['messages_count'], alpha=0.7, bins=60, label = 'smart')\n",
    "ax.hist(ultra['messages_count'], alpha=0.7, bins=60, label = 'ultra')\n",
    "ax.legend()  \n",
    "ax.set_xlabel('messages')\n",
    "ax.set_ylabel('users')\n",
    "ax.set_title('Messages')\n",
    "\n",
    "plt.show()\n"
   ]
  },
  {
   "cell_type": "code",
   "execution_count": 54,
   "metadata": {},
   "outputs": [
    {
     "data": {
      "image/png": "[encoded data removed]",
      "text/plain": [
       "<Figure size 576x720 with 1 Axes>"
      ]
     },
     "metadata": {
      "needs_background": "light"
     },
     "output_type": "display_data"
    }
   ],
   "source": [
    "fig, ax = plt.subplots(figsize = (8,10))\n",
    "\n",
    "ax.hist(smart['mb_used'], alpha=0.7, bins=60, label = 'smart')\n",
    "ax.hist(ultra['mb_used'], alpha=0.7, bins=60, label = 'ultra')\n",
    "ax.legend()  \n",
    "ax.set_xlabel('mb_used')\n",
    "ax.set_ylabel('users')\n",
    "ax.set_title('Internet')\n",
    "\n",
    "plt.show()\n"
   ]
  },
  {
   "cell_type": "code",
   "execution_count": 55,
   "metadata": {},
   "outputs": [
    {
     "name": "stdout",
     "output_type": "stream",
     "text": [
      "Пользователей в тарифе Smart: 351\n",
      "Пользователей в тарифе Ultra: 149\n"
     ]
    }
   ],
   "source": [
    "ultra_users = ultra['user_id'].nunique()\n",
    "smart_users = smart['user_id'].nunique()\n",
    "print('Пользователей в тарифе Smart:', smart_users)\n",
    "print('Пользователей в тарифе Ultra:', ultra_users)"
   ]
  },
  {
   "cell_type": "markdown",
   "metadata": {},
   "source": [
    "<div class=\"alert alert-success\">\n",
    "<b>Комментарий ревьюера:</b>\n",
    "\n",
    "Пользуйся методом `nunique`.  \n",
    "</div>"
   ]
  },
  {
   "cell_type": "markdown",
   "metadata": {},
   "source": [
    "### Вывод"
   ]
  },
  {
   "cell_type": "markdown",
   "metadata": {},
   "source": [
    "- Пользователи тарифа Smart часто превышают пакет услуг в месяц\n",
    "- Пользователей тарифом Ultra значительно меньше\n",
    "\n",
    "Многие пользователи уверены, что тариф смарт дешевле, а значит выгоднее для них. Но гистограммы показывают, что даже если пользователь платит минимальную абонентскую плату, не факт, что это единственные его расходы на мобильную связь и интернет."
   ]
  },
  {
   "cell_type": "markdown",
   "metadata": {},
   "source": [
    "## Проверка гипотез"
   ]
  },
  {
   "cell_type": "markdown",
   "metadata": {},
   "source": [
    "### Гипотеза №1"
   ]
  },
  {
   "cell_type": "markdown",
   "metadata": {},
   "source": [
    "###### Нулевая гипотеза\n",
    "Средняя выручка пользователей тарифов \"Смарт\" и \"Ультра\" не отличаются друг от друга.\n",
    "\n",
    "\n",
    "###### Альтернативная гипотеза\n",
    "Средняя выручка пользователей тарифов \"Смарт\" и \"Ультра\" отличаются друг от друга."
   ]
  },
  {
   "cell_type": "code",
   "execution_count": 56,
   "metadata": {},
   "outputs": [
    {
     "data": {
      "text/plain": [
       "1249.303139013453"
      ]
     },
     "execution_count": 56,
     "metadata": {},
     "output_type": "execute_result"
    }
   ],
   "source": [
    "smart['total_price'].mean()"
   ]
  },
  {
   "cell_type": "code",
   "execution_count": 57,
   "metadata": {},
   "outputs": [
    {
     "data": {
      "text/plain": [
       "2070.030425963489"
      ]
     },
     "execution_count": 57,
     "metadata": {},
     "output_type": "execute_result"
    }
   ],
   "source": [
    "ultra['total_price'].mean()"
   ]
  },
  {
   "cell_type": "code",
   "execution_count": 58,
   "metadata": {},
   "outputs": [
    {
     "name": "stdout",
     "output_type": "stream",
     "text": [
      "p-значение: 1.0971517434404538e-183\n",
      "Отвергаем нулевую гипотезу\n"
     ]
    }
   ],
   "source": [
    "total_smart = smart['total_price']\n",
    " \n",
    "total_ultra = ultra['total_price']\n",
    " \n",
    "alpha = 0.05\n",
    " \n",
    "results = st.ttest_ind(total_smart, total_ultra)\n",
    " \n",
    "print('p-значение:', results.pvalue)\n",
    " \n",
    "if results.pvalue < alpha:\n",
    "    print('Отвергаем нулевую гипотезу')\n",
    "else:\n",
    "    print('Не получилось отвергнуть нулевую гипотезу')"
   ]
  },
  {
   "cell_type": "markdown",
   "metadata": {},
   "source": [
    "### Гипотеза №2"
   ]
  },
  {
   "cell_type": "markdown",
   "metadata": {},
   "source": [
    "###### Нулевая гипотеза\n",
    "Средняя выручка пользователей из Москвы не отличается от выручки пользователей из других регионов.\n",
    "\n",
    "###### Альтернативная гипотеза\n",
    "Средняя выручка пользователей из Москвы отличается от выручки пользователей из других регионов."
   ]
  },
  {
   "cell_type": "code",
   "execution_count": 59,
   "metadata": {},
   "outputs": [
    {
     "data": {
      "text/html": [
       "<div>\n",
       "<style scoped>\n",
       "    .dataframe tbody tr th:only-of-type {\n",
       "        vertical-align: middle;\n",
       "    }\n",
       "\n",
       "    .dataframe tbody tr th {\n",
       "        vertical-align: top;\n",
       "    }\n",
       "\n",
       "    .dataframe thead th {\n",
       "        text-align: right;\n",
       "    }\n",
       "</style>\n",
       "<table border=\"1\" class=\"dataframe\">\n",
       "  <thead>\n",
       "    <tr style=\"text-align: right;\">\n",
       "      <th></th>\n",
       "      <th>user_id</th>\n",
       "      <th>month</th>\n",
       "      <th>calls_count</th>\n",
       "      <th>duration</th>\n",
       "      <th>mb_used</th>\n",
       "      <th>messages_count</th>\n",
       "      <th>age</th>\n",
       "      <th>churn_date</th>\n",
       "      <th>city</th>\n",
       "      <th>first_name</th>\n",
       "      <th>...</th>\n",
       "      <th>messages_included</th>\n",
       "      <th>minutes_included</th>\n",
       "      <th>gb_per_month_included</th>\n",
       "      <th>rub_per_minute_message</th>\n",
       "      <th>rub_per_gb</th>\n",
       "      <th>rub_monthly_fee</th>\n",
       "      <th>remainder_minutes</th>\n",
       "      <th>remainder_messages</th>\n",
       "      <th>remainder_gb</th>\n",
       "      <th>total_price</th>\n",
       "    </tr>\n",
       "  </thead>\n",
       "  <tbody>\n",
       "    <tr>\n",
       "      <th>0</th>\n",
       "      <td>1000</td>\n",
       "      <td>5</td>\n",
       "      <td>22</td>\n",
       "      <td>151</td>\n",
       "      <td>2,253.49</td>\n",
       "      <td>22</td>\n",
       "      <td>52</td>\n",
       "      <td>2030-01-01</td>\n",
       "      <td>Краснодар</td>\n",
       "      <td>Рафаил</td>\n",
       "      <td>...</td>\n",
       "      <td>1000</td>\n",
       "      <td>3000</td>\n",
       "      <td>30</td>\n",
       "      <td>1</td>\n",
       "      <td>150</td>\n",
       "      <td>1950</td>\n",
       "      <td>0</td>\n",
       "      <td>0</td>\n",
       "      <td>0</td>\n",
       "      <td>1950</td>\n",
       "    </tr>\n",
       "    <tr>\n",
       "      <th>1</th>\n",
       "      <td>1000</td>\n",
       "      <td>6</td>\n",
       "      <td>43</td>\n",
       "      <td>159</td>\n",
       "      <td>23,233.77</td>\n",
       "      <td>60</td>\n",
       "      <td>52</td>\n",
       "      <td>2030-01-01</td>\n",
       "      <td>Краснодар</td>\n",
       "      <td>Рафаил</td>\n",
       "      <td>...</td>\n",
       "      <td>1000</td>\n",
       "      <td>3000</td>\n",
       "      <td>30</td>\n",
       "      <td>1</td>\n",
       "      <td>150</td>\n",
       "      <td>1950</td>\n",
       "      <td>0</td>\n",
       "      <td>0</td>\n",
       "      <td>0</td>\n",
       "      <td>1950</td>\n",
       "    </tr>\n",
       "    <tr>\n",
       "      <th>2</th>\n",
       "      <td>1000</td>\n",
       "      <td>7</td>\n",
       "      <td>47</td>\n",
       "      <td>318</td>\n",
       "      <td>14,003.64</td>\n",
       "      <td>75</td>\n",
       "      <td>52</td>\n",
       "      <td>2030-01-01</td>\n",
       "      <td>Краснодар</td>\n",
       "      <td>Рафаил</td>\n",
       "      <td>...</td>\n",
       "      <td>1000</td>\n",
       "      <td>3000</td>\n",
       "      <td>30</td>\n",
       "      <td>1</td>\n",
       "      <td>150</td>\n",
       "      <td>1950</td>\n",
       "      <td>0</td>\n",
       "      <td>0</td>\n",
       "      <td>0</td>\n",
       "      <td>1950</td>\n",
       "    </tr>\n",
       "    <tr>\n",
       "      <th>3</th>\n",
       "      <td>1000</td>\n",
       "      <td>8</td>\n",
       "      <td>52</td>\n",
       "      <td>390</td>\n",
       "      <td>14,055.93</td>\n",
       "      <td>81</td>\n",
       "      <td>52</td>\n",
       "      <td>2030-01-01</td>\n",
       "      <td>Краснодар</td>\n",
       "      <td>Рафаил</td>\n",
       "      <td>...</td>\n",
       "      <td>1000</td>\n",
       "      <td>3000</td>\n",
       "      <td>30</td>\n",
       "      <td>1</td>\n",
       "      <td>150</td>\n",
       "      <td>1950</td>\n",
       "      <td>0</td>\n",
       "      <td>0</td>\n",
       "      <td>0</td>\n",
       "      <td>1950</td>\n",
       "    </tr>\n",
       "    <tr>\n",
       "      <th>4</th>\n",
       "      <td>1000</td>\n",
       "      <td>9</td>\n",
       "      <td>58</td>\n",
       "      <td>432</td>\n",
       "      <td>14,568.91</td>\n",
       "      <td>57</td>\n",
       "      <td>52</td>\n",
       "      <td>2030-01-01</td>\n",
       "      <td>Краснодар</td>\n",
       "      <td>Рафаил</td>\n",
       "      <td>...</td>\n",
       "      <td>1000</td>\n",
       "      <td>3000</td>\n",
       "      <td>30</td>\n",
       "      <td>1</td>\n",
       "      <td>150</td>\n",
       "      <td>1950</td>\n",
       "      <td>0</td>\n",
       "      <td>0</td>\n",
       "      <td>0</td>\n",
       "      <td>1950</td>\n",
       "    </tr>\n",
       "  </tbody>\n",
       "</table>\n",
       "<p>5 rows × 24 columns</p>\n",
       "</div>"
      ],
      "text/plain": [
       "   user_id  month  calls_count  duration   mb_used  messages_count  age  \\\n",
       "0     1000      5           22       151  2,253.49              22   52   \n",
       "1     1000      6           43       159 23,233.77              60   52   \n",
       "2     1000      7           47       318 14,003.64              75   52   \n",
       "3     1000      8           52       390 14,055.93              81   52   \n",
       "4     1000      9           58       432 14,568.91              57   52   \n",
       "\n",
       "  churn_date       city first_name  ... messages_included minutes_included  \\\n",
       "0 2030-01-01  Краснодар     Рафаил  ...              1000             3000   \n",
       "1 2030-01-01  Краснодар     Рафаил  ...              1000             3000   \n",
       "2 2030-01-01  Краснодар     Рафаил  ...              1000             3000   \n",
       "3 2030-01-01  Краснодар     Рафаил  ...              1000             3000   \n",
       "4 2030-01-01  Краснодар     Рафаил  ...              1000             3000   \n",
       "\n",
       "  gb_per_month_included  rub_per_minute_message  rub_per_gb  rub_monthly_fee  \\\n",
       "0                    30                       1         150             1950   \n",
       "1                    30                       1         150             1950   \n",
       "2                    30                       1         150             1950   \n",
       "3                    30                       1         150             1950   \n",
       "4                    30                       1         150             1950   \n",
       "\n",
       "   remainder_minutes  remainder_messages  remainder_gb  total_price  \n",
       "0                  0                   0             0         1950  \n",
       "1                  0                   0             0         1950  \n",
       "2                  0                   0             0         1950  \n",
       "3                  0                   0             0         1950  \n",
       "4                  0                   0             0         1950  \n",
       "\n",
       "[5 rows x 24 columns]"
      ]
     },
     "execution_count": 59,
     "metadata": {},
     "output_type": "execute_result"
    }
   ],
   "source": [
    "calls_messages_internet.head()"
   ]
  },
  {
   "cell_type": "code",
   "execution_count": 60,
   "metadata": {},
   "outputs": [
    {
     "data": {
      "text/html": [
       "<div>\n",
       "<style scoped>\n",
       "    .dataframe tbody tr th:only-of-type {\n",
       "        vertical-align: middle;\n",
       "    }\n",
       "\n",
       "    .dataframe tbody tr th {\n",
       "        vertical-align: top;\n",
       "    }\n",
       "\n",
       "    .dataframe thead th {\n",
       "        text-align: right;\n",
       "    }\n",
       "</style>\n",
       "<table border=\"1\" class=\"dataframe\">\n",
       "  <thead>\n",
       "    <tr style=\"text-align: right;\">\n",
       "      <th></th>\n",
       "      <th>user_id</th>\n",
       "      <th>month</th>\n",
       "      <th>calls_count</th>\n",
       "      <th>duration</th>\n",
       "      <th>mb_used</th>\n",
       "      <th>messages_count</th>\n",
       "      <th>age</th>\n",
       "      <th>churn_date</th>\n",
       "      <th>city</th>\n",
       "      <th>first_name</th>\n",
       "      <th>...</th>\n",
       "      <th>minutes_included</th>\n",
       "      <th>gb_per_month_included</th>\n",
       "      <th>rub_per_minute_message</th>\n",
       "      <th>rub_per_gb</th>\n",
       "      <th>rub_monthly_fee</th>\n",
       "      <th>remainder_minutes</th>\n",
       "      <th>remainder_messages</th>\n",
       "      <th>remainder_gb</th>\n",
       "      <th>total_price</th>\n",
       "      <th>city_category</th>\n",
       "    </tr>\n",
       "  </thead>\n",
       "  <tbody>\n",
       "    <tr>\n",
       "      <th>0</th>\n",
       "      <td>1000</td>\n",
       "      <td>5</td>\n",
       "      <td>22</td>\n",
       "      <td>151</td>\n",
       "      <td>2,253.49</td>\n",
       "      <td>22</td>\n",
       "      <td>52</td>\n",
       "      <td>2030-01-01</td>\n",
       "      <td>Краснодар</td>\n",
       "      <td>Рафаил</td>\n",
       "      <td>...</td>\n",
       "      <td>3000</td>\n",
       "      <td>30</td>\n",
       "      <td>1</td>\n",
       "      <td>150</td>\n",
       "      <td>1950</td>\n",
       "      <td>0</td>\n",
       "      <td>0</td>\n",
       "      <td>0</td>\n",
       "      <td>1950</td>\n",
       "      <td>Другое</td>\n",
       "    </tr>\n",
       "    <tr>\n",
       "      <th>1</th>\n",
       "      <td>1000</td>\n",
       "      <td>6</td>\n",
       "      <td>43</td>\n",
       "      <td>159</td>\n",
       "      <td>23,233.77</td>\n",
       "      <td>60</td>\n",
       "      <td>52</td>\n",
       "      <td>2030-01-01</td>\n",
       "      <td>Краснодар</td>\n",
       "      <td>Рафаил</td>\n",
       "      <td>...</td>\n",
       "      <td>3000</td>\n",
       "      <td>30</td>\n",
       "      <td>1</td>\n",
       "      <td>150</td>\n",
       "      <td>1950</td>\n",
       "      <td>0</td>\n",
       "      <td>0</td>\n",
       "      <td>0</td>\n",
       "      <td>1950</td>\n",
       "      <td>Другое</td>\n",
       "    </tr>\n",
       "    <tr>\n",
       "      <th>2</th>\n",
       "      <td>1000</td>\n",
       "      <td>7</td>\n",
       "      <td>47</td>\n",
       "      <td>318</td>\n",
       "      <td>14,003.64</td>\n",
       "      <td>75</td>\n",
       "      <td>52</td>\n",
       "      <td>2030-01-01</td>\n",
       "      <td>Краснодар</td>\n",
       "      <td>Рафаил</td>\n",
       "      <td>...</td>\n",
       "      <td>3000</td>\n",
       "      <td>30</td>\n",
       "      <td>1</td>\n",
       "      <td>150</td>\n",
       "      <td>1950</td>\n",
       "      <td>0</td>\n",
       "      <td>0</td>\n",
       "      <td>0</td>\n",
       "      <td>1950</td>\n",
       "      <td>Другое</td>\n",
       "    </tr>\n",
       "    <tr>\n",
       "      <th>3</th>\n",
       "      <td>1000</td>\n",
       "      <td>8</td>\n",
       "      <td>52</td>\n",
       "      <td>390</td>\n",
       "      <td>14,055.93</td>\n",
       "      <td>81</td>\n",
       "      <td>52</td>\n",
       "      <td>2030-01-01</td>\n",
       "      <td>Краснодар</td>\n",
       "      <td>Рафаил</td>\n",
       "      <td>...</td>\n",
       "      <td>3000</td>\n",
       "      <td>30</td>\n",
       "      <td>1</td>\n",
       "      <td>150</td>\n",
       "      <td>1950</td>\n",
       "      <td>0</td>\n",
       "      <td>0</td>\n",
       "      <td>0</td>\n",
       "      <td>1950</td>\n",
       "      <td>Другое</td>\n",
       "    </tr>\n",
       "    <tr>\n",
       "      <th>4</th>\n",
       "      <td>1000</td>\n",
       "      <td>9</td>\n",
       "      <td>58</td>\n",
       "      <td>432</td>\n",
       "      <td>14,568.91</td>\n",
       "      <td>57</td>\n",
       "      <td>52</td>\n",
       "      <td>2030-01-01</td>\n",
       "      <td>Краснодар</td>\n",
       "      <td>Рафаил</td>\n",
       "      <td>...</td>\n",
       "      <td>3000</td>\n",
       "      <td>30</td>\n",
       "      <td>1</td>\n",
       "      <td>150</td>\n",
       "      <td>1950</td>\n",
       "      <td>0</td>\n",
       "      <td>0</td>\n",
       "      <td>0</td>\n",
       "      <td>1950</td>\n",
       "      <td>Другое</td>\n",
       "    </tr>\n",
       "  </tbody>\n",
       "</table>\n",
       "<p>5 rows × 25 columns</p>\n",
       "</div>"
      ],
      "text/plain": [
       "   user_id  month  calls_count  duration   mb_used  messages_count  age  \\\n",
       "0     1000      5           22       151  2,253.49              22   52   \n",
       "1     1000      6           43       159 23,233.77              60   52   \n",
       "2     1000      7           47       318 14,003.64              75   52   \n",
       "3     1000      8           52       390 14,055.93              81   52   \n",
       "4     1000      9           58       432 14,568.91              57   52   \n",
       "\n",
       "  churn_date       city first_name  ... minutes_included  \\\n",
       "0 2030-01-01  Краснодар     Рафаил  ...             3000   \n",
       "1 2030-01-01  Краснодар     Рафаил  ...             3000   \n",
       "2 2030-01-01  Краснодар     Рафаил  ...             3000   \n",
       "3 2030-01-01  Краснодар     Рафаил  ...             3000   \n",
       "4 2030-01-01  Краснодар     Рафаил  ...             3000   \n",
       "\n",
       "  gb_per_month_included rub_per_minute_message  rub_per_gb  rub_monthly_fee  \\\n",
       "0                    30                      1         150             1950   \n",
       "1                    30                      1         150             1950   \n",
       "2                    30                      1         150             1950   \n",
       "3                    30                      1         150             1950   \n",
       "4                    30                      1         150             1950   \n",
       "\n",
       "   remainder_minutes  remainder_messages  remainder_gb  total_price  \\\n",
       "0                  0                   0             0         1950   \n",
       "1                  0                   0             0         1950   \n",
       "2                  0                   0             0         1950   \n",
       "3                  0                   0             0         1950   \n",
       "4                  0                   0             0         1950   \n",
       "\n",
       "   city_category  \n",
       "0         Другое  \n",
       "1         Другое  \n",
       "2         Другое  \n",
       "3         Другое  \n",
       "4         Другое  \n",
       "\n",
       "[5 rows x 25 columns]"
      ]
     },
     "execution_count": 60,
     "metadata": {},
     "output_type": "execute_result"
    }
   ],
   "source": [
    "def city_category(row):\n",
    "    if row['city'] == 'Москва':\n",
    "        return 'Москва'\n",
    "    else:\n",
    "        return 'Другое'\n",
    "\n",
    "calls_messages_internet['city_category'] = calls_messages_internet.apply(city_category, axis = 1)\n",
    "calls_messages_internet.head()"
   ]
  },
  {
   "cell_type": "code",
   "execution_count": 61,
   "metadata": {},
   "outputs": [
    {
     "data": {
      "text/html": [
       "<div>\n",
       "<style scoped>\n",
       "    .dataframe tbody tr th:only-of-type {\n",
       "        vertical-align: middle;\n",
       "    }\n",
       "\n",
       "    .dataframe tbody tr th {\n",
       "        vertical-align: top;\n",
       "    }\n",
       "\n",
       "    .dataframe thead th {\n",
       "        text-align: right;\n",
       "    }\n",
       "</style>\n",
       "<table border=\"1\" class=\"dataframe\">\n",
       "  <thead>\n",
       "    <tr style=\"text-align: right;\">\n",
       "      <th></th>\n",
       "      <th>user_id</th>\n",
       "      <th>month</th>\n",
       "      <th>calls_count</th>\n",
       "      <th>duration</th>\n",
       "      <th>mb_used</th>\n",
       "      <th>messages_count</th>\n",
       "      <th>age</th>\n",
       "      <th>churn_date</th>\n",
       "      <th>city</th>\n",
       "      <th>first_name</th>\n",
       "      <th>...</th>\n",
       "      <th>minutes_included</th>\n",
       "      <th>gb_per_month_included</th>\n",
       "      <th>rub_per_minute_message</th>\n",
       "      <th>rub_per_gb</th>\n",
       "      <th>rub_monthly_fee</th>\n",
       "      <th>remainder_minutes</th>\n",
       "      <th>remainder_messages</th>\n",
       "      <th>remainder_gb</th>\n",
       "      <th>total_price</th>\n",
       "      <th>city_category</th>\n",
       "    </tr>\n",
       "  </thead>\n",
       "  <tbody>\n",
       "    <tr>\n",
       "      <th>8</th>\n",
       "      <td>1001</td>\n",
       "      <td>11</td>\n",
       "      <td>59</td>\n",
       "      <td>409</td>\n",
       "      <td>18,429.34</td>\n",
       "      <td>0</td>\n",
       "      <td>41</td>\n",
       "      <td>2030-01-01</td>\n",
       "      <td>Москва</td>\n",
       "      <td>Иван</td>\n",
       "      <td>...</td>\n",
       "      <td>500</td>\n",
       "      <td>15</td>\n",
       "      <td>3</td>\n",
       "      <td>200</td>\n",
       "      <td>550</td>\n",
       "      <td>0</td>\n",
       "      <td>0</td>\n",
       "      <td>3</td>\n",
       "      <td>1150</td>\n",
       "      <td>Москва</td>\n",
       "    </tr>\n",
       "    <tr>\n",
       "      <th>9</th>\n",
       "      <td>1001</td>\n",
       "      <td>12</td>\n",
       "      <td>63</td>\n",
       "      <td>392</td>\n",
       "      <td>14,036.66</td>\n",
       "      <td>0</td>\n",
       "      <td>41</td>\n",
       "      <td>2030-01-01</td>\n",
       "      <td>Москва</td>\n",
       "      <td>Иван</td>\n",
       "      <td>...</td>\n",
       "      <td>500</td>\n",
       "      <td>15</td>\n",
       "      <td>3</td>\n",
       "      <td>200</td>\n",
       "      <td>550</td>\n",
       "      <td>0</td>\n",
       "      <td>0</td>\n",
       "      <td>0</td>\n",
       "      <td>550</td>\n",
       "      <td>Москва</td>\n",
       "    </tr>\n",
       "    <tr>\n",
       "      <th>17</th>\n",
       "      <td>1003</td>\n",
       "      <td>8</td>\n",
       "      <td>55</td>\n",
       "      <td>348</td>\n",
       "      <td>8,565.21</td>\n",
       "      <td>37</td>\n",
       "      <td>23</td>\n",
       "      <td>2030-01-01</td>\n",
       "      <td>Москва</td>\n",
       "      <td>Белла</td>\n",
       "      <td>...</td>\n",
       "      <td>3000</td>\n",
       "      <td>30</td>\n",
       "      <td>1</td>\n",
       "      <td>150</td>\n",
       "      <td>1950</td>\n",
       "      <td>0</td>\n",
       "      <td>0</td>\n",
       "      <td>0</td>\n",
       "      <td>1950</td>\n",
       "      <td>Москва</td>\n",
       "    </tr>\n",
       "    <tr>\n",
       "      <th>18</th>\n",
       "      <td>1003</td>\n",
       "      <td>9</td>\n",
       "      <td>134</td>\n",
       "      <td>889</td>\n",
       "      <td>12,468.87</td>\n",
       "      <td>91</td>\n",
       "      <td>23</td>\n",
       "      <td>2030-01-01</td>\n",
       "      <td>Москва</td>\n",
       "      <td>Белла</td>\n",
       "      <td>...</td>\n",
       "      <td>3000</td>\n",
       "      <td>30</td>\n",
       "      <td>1</td>\n",
       "      <td>150</td>\n",
       "      <td>1950</td>\n",
       "      <td>0</td>\n",
       "      <td>0</td>\n",
       "      <td>0</td>\n",
       "      <td>1950</td>\n",
       "      <td>Москва</td>\n",
       "    </tr>\n",
       "    <tr>\n",
       "      <th>19</th>\n",
       "      <td>1003</td>\n",
       "      <td>10</td>\n",
       "      <td>108</td>\n",
       "      <td>794</td>\n",
       "      <td>14,768.14</td>\n",
       "      <td>83</td>\n",
       "      <td>23</td>\n",
       "      <td>2030-01-01</td>\n",
       "      <td>Москва</td>\n",
       "      <td>Белла</td>\n",
       "      <td>...</td>\n",
       "      <td>3000</td>\n",
       "      <td>30</td>\n",
       "      <td>1</td>\n",
       "      <td>150</td>\n",
       "      <td>1950</td>\n",
       "      <td>0</td>\n",
       "      <td>0</td>\n",
       "      <td>0</td>\n",
       "      <td>1950</td>\n",
       "      <td>Москва</td>\n",
       "    </tr>\n",
       "  </tbody>\n",
       "</table>\n",
       "<p>5 rows × 25 columns</p>\n",
       "</div>"
      ],
      "text/plain": [
       "    user_id  month  calls_count  duration   mb_used  messages_count  age  \\\n",
       "8      1001     11           59       409 18,429.34               0   41   \n",
       "9      1001     12           63       392 14,036.66               0   41   \n",
       "17     1003      8           55       348  8,565.21              37   23   \n",
       "18     1003      9          134       889 12,468.87              91   23   \n",
       "19     1003     10          108       794 14,768.14              83   23   \n",
       "\n",
       "   churn_date    city first_name  ... minutes_included gb_per_month_included  \\\n",
       "8  2030-01-01  Москва       Иван  ...              500                    15   \n",
       "9  2030-01-01  Москва       Иван  ...              500                    15   \n",
       "17 2030-01-01  Москва      Белла  ...             3000                    30   \n",
       "18 2030-01-01  Москва      Белла  ...             3000                    30   \n",
       "19 2030-01-01  Москва      Белла  ...             3000                    30   \n",
       "\n",
       "   rub_per_minute_message  rub_per_gb  rub_monthly_fee  remainder_minutes  \\\n",
       "8                       3         200              550                  0   \n",
       "9                       3         200              550                  0   \n",
       "17                      1         150             1950                  0   \n",
       "18                      1         150             1950                  0   \n",
       "19                      1         150             1950                  0   \n",
       "\n",
       "    remainder_messages  remainder_gb  total_price  city_category  \n",
       "8                    0             3         1150         Москва  \n",
       "9                    0             0          550         Москва  \n",
       "17                   0             0         1950         Москва  \n",
       "18                   0             0         1950         Москва  \n",
       "19                   0             0         1950         Москва  \n",
       "\n",
       "[5 rows x 25 columns]"
      ]
     },
     "execution_count": 61,
     "metadata": {},
     "output_type": "execute_result"
    }
   ],
   "source": [
    "moscow = calls_messages_internet[calls_messages_internet['city_category'] == 'Москва']\n",
    "moscow.head()"
   ]
  },
  {
   "cell_type": "code",
   "execution_count": 62,
   "metadata": {
    "scrolled": true
   },
   "outputs": [
    {
     "data": {
      "text/html": [
       "<div>\n",
       "<style scoped>\n",
       "    .dataframe tbody tr th:only-of-type {\n",
       "        vertical-align: middle;\n",
       "    }\n",
       "\n",
       "    .dataframe tbody tr th {\n",
       "        vertical-align: top;\n",
       "    }\n",
       "\n",
       "    .dataframe thead th {\n",
       "        text-align: right;\n",
       "    }\n",
       "</style>\n",
       "<table border=\"1\" class=\"dataframe\">\n",
       "  <thead>\n",
       "    <tr style=\"text-align: right;\">\n",
       "      <th></th>\n",
       "      <th>user_id</th>\n",
       "      <th>month</th>\n",
       "      <th>calls_count</th>\n",
       "      <th>duration</th>\n",
       "      <th>mb_used</th>\n",
       "      <th>messages_count</th>\n",
       "      <th>age</th>\n",
       "      <th>churn_date</th>\n",
       "      <th>city</th>\n",
       "      <th>first_name</th>\n",
       "      <th>...</th>\n",
       "      <th>minutes_included</th>\n",
       "      <th>gb_per_month_included</th>\n",
       "      <th>rub_per_minute_message</th>\n",
       "      <th>rub_per_gb</th>\n",
       "      <th>rub_monthly_fee</th>\n",
       "      <th>remainder_minutes</th>\n",
       "      <th>remainder_messages</th>\n",
       "      <th>remainder_gb</th>\n",
       "      <th>total_price</th>\n",
       "      <th>city_category</th>\n",
       "    </tr>\n",
       "  </thead>\n",
       "  <tbody>\n",
       "    <tr>\n",
       "      <th>0</th>\n",
       "      <td>1000</td>\n",
       "      <td>5</td>\n",
       "      <td>22</td>\n",
       "      <td>151</td>\n",
       "      <td>2,253.49</td>\n",
       "      <td>22</td>\n",
       "      <td>52</td>\n",
       "      <td>2030-01-01</td>\n",
       "      <td>Краснодар</td>\n",
       "      <td>Рафаил</td>\n",
       "      <td>...</td>\n",
       "      <td>3000</td>\n",
       "      <td>30</td>\n",
       "      <td>1</td>\n",
       "      <td>150</td>\n",
       "      <td>1950</td>\n",
       "      <td>0</td>\n",
       "      <td>0</td>\n",
       "      <td>0</td>\n",
       "      <td>1950</td>\n",
       "      <td>Другое</td>\n",
       "    </tr>\n",
       "    <tr>\n",
       "      <th>1</th>\n",
       "      <td>1000</td>\n",
       "      <td>6</td>\n",
       "      <td>43</td>\n",
       "      <td>159</td>\n",
       "      <td>23,233.77</td>\n",
       "      <td>60</td>\n",
       "      <td>52</td>\n",
       "      <td>2030-01-01</td>\n",
       "      <td>Краснодар</td>\n",
       "      <td>Рафаил</td>\n",
       "      <td>...</td>\n",
       "      <td>3000</td>\n",
       "      <td>30</td>\n",
       "      <td>1</td>\n",
       "      <td>150</td>\n",
       "      <td>1950</td>\n",
       "      <td>0</td>\n",
       "      <td>0</td>\n",
       "      <td>0</td>\n",
       "      <td>1950</td>\n",
       "      <td>Другое</td>\n",
       "    </tr>\n",
       "    <tr>\n",
       "      <th>2</th>\n",
       "      <td>1000</td>\n",
       "      <td>7</td>\n",
       "      <td>47</td>\n",
       "      <td>318</td>\n",
       "      <td>14,003.64</td>\n",
       "      <td>75</td>\n",
       "      <td>52</td>\n",
       "      <td>2030-01-01</td>\n",
       "      <td>Краснодар</td>\n",
       "      <td>Рафаил</td>\n",
       "      <td>...</td>\n",
       "      <td>3000</td>\n",
       "      <td>30</td>\n",
       "      <td>1</td>\n",
       "      <td>150</td>\n",
       "      <td>1950</td>\n",
       "      <td>0</td>\n",
       "      <td>0</td>\n",
       "      <td>0</td>\n",
       "      <td>1950</td>\n",
       "      <td>Другое</td>\n",
       "    </tr>\n",
       "    <tr>\n",
       "      <th>3</th>\n",
       "      <td>1000</td>\n",
       "      <td>8</td>\n",
       "      <td>52</td>\n",
       "      <td>390</td>\n",
       "      <td>14,055.93</td>\n",
       "      <td>81</td>\n",
       "      <td>52</td>\n",
       "      <td>2030-01-01</td>\n",
       "      <td>Краснодар</td>\n",
       "      <td>Рафаил</td>\n",
       "      <td>...</td>\n",
       "      <td>3000</td>\n",
       "      <td>30</td>\n",
       "      <td>1</td>\n",
       "      <td>150</td>\n",
       "      <td>1950</td>\n",
       "      <td>0</td>\n",
       "      <td>0</td>\n",
       "      <td>0</td>\n",
       "      <td>1950</td>\n",
       "      <td>Другое</td>\n",
       "    </tr>\n",
       "    <tr>\n",
       "      <th>4</th>\n",
       "      <td>1000</td>\n",
       "      <td>9</td>\n",
       "      <td>58</td>\n",
       "      <td>432</td>\n",
       "      <td>14,568.91</td>\n",
       "      <td>57</td>\n",
       "      <td>52</td>\n",
       "      <td>2030-01-01</td>\n",
       "      <td>Краснодар</td>\n",
       "      <td>Рафаил</td>\n",
       "      <td>...</td>\n",
       "      <td>3000</td>\n",
       "      <td>30</td>\n",
       "      <td>1</td>\n",
       "      <td>150</td>\n",
       "      <td>1950</td>\n",
       "      <td>0</td>\n",
       "      <td>0</td>\n",
       "      <td>0</td>\n",
       "      <td>1950</td>\n",
       "      <td>Другое</td>\n",
       "    </tr>\n",
       "  </tbody>\n",
       "</table>\n",
       "<p>5 rows × 25 columns</p>\n",
       "</div>"
      ],
      "text/plain": [
       "   user_id  month  calls_count  duration   mb_used  messages_count  age  \\\n",
       "0     1000      5           22       151  2,253.49              22   52   \n",
       "1     1000      6           43       159 23,233.77              60   52   \n",
       "2     1000      7           47       318 14,003.64              75   52   \n",
       "3     1000      8           52       390 14,055.93              81   52   \n",
       "4     1000      9           58       432 14,568.91              57   52   \n",
       "\n",
       "  churn_date       city first_name  ... minutes_included  \\\n",
       "0 2030-01-01  Краснодар     Рафаил  ...             3000   \n",
       "1 2030-01-01  Краснодар     Рафаил  ...             3000   \n",
       "2 2030-01-01  Краснодар     Рафаил  ...             3000   \n",
       "3 2030-01-01  Краснодар     Рафаил  ...             3000   \n",
       "4 2030-01-01  Краснодар     Рафаил  ...             3000   \n",
       "\n",
       "  gb_per_month_included rub_per_minute_message  rub_per_gb  rub_monthly_fee  \\\n",
       "0                    30                      1         150             1950   \n",
       "1                    30                      1         150             1950   \n",
       "2                    30                      1         150             1950   \n",
       "3                    30                      1         150             1950   \n",
       "4                    30                      1         150             1950   \n",
       "\n",
       "   remainder_minutes  remainder_messages  remainder_gb  total_price  \\\n",
       "0                  0                   0             0         1950   \n",
       "1                  0                   0             0         1950   \n",
       "2                  0                   0             0         1950   \n",
       "3                  0                   0             0         1950   \n",
       "4                  0                   0             0         1950   \n",
       "\n",
       "   city_category  \n",
       "0         Другое  \n",
       "1         Другое  \n",
       "2         Другое  \n",
       "3         Другое  \n",
       "4         Другое  \n",
       "\n",
       "[5 rows x 25 columns]"
      ]
     },
     "execution_count": 62,
     "metadata": {},
     "output_type": "execute_result"
    }
   ],
   "source": [
    "other = calls_messages_internet[calls_messages_internet['city_category'] == 'Другое']\n",
    "other.head()"
   ]
  },
  {
   "cell_type": "code",
   "execution_count": 63,
   "metadata": {},
   "outputs": [
    {
     "data": {
      "text/plain": [
       "1522.1440261865794"
      ]
     },
     "execution_count": 63,
     "metadata": {},
     "output_type": "execute_result"
    }
   ],
   "source": [
    "moscow['total_price'].mean()"
   ]
  },
  {
   "cell_type": "code",
   "execution_count": 64,
   "metadata": {},
   "outputs": [
    {
     "data": {
      "text/plain": [
       "1495.9562380038387"
      ]
     },
     "execution_count": 64,
     "metadata": {},
     "output_type": "execute_result"
    }
   ],
   "source": [
    "other['total_price'].mean()"
   ]
  },
  {
   "cell_type": "code",
   "execution_count": 65,
   "metadata": {},
   "outputs": [
    {
     "name": "stdout",
     "output_type": "stream",
     "text": [
      "p-значение: 0.4615228428854483\n",
      "Не получилось отвергнуть нулевую гипотезу\n"
     ]
    }
   ],
   "source": [
    "total_moscow = moscow['total_price']\n",
    " \n",
    "total_other = other['total_price']\n",
    " \n",
    "alpha = 0.05\n",
    " \n",
    "results = st.ttest_ind(total_moscow, total_other)\n",
    " \n",
    "print('p-значение:', results.pvalue)\n",
    " \n",
    "if results.pvalue < alpha:\n",
    "    print('Отвергаем нулевую гипотезу')\n",
    "else:\n",
    "    print('Не получилось отвергнуть нулевую гипотезу')"
   ]
  },
  {
   "cell_type": "markdown",
   "metadata": {},
   "source": [
    "- Нулевую и альтернативную гипотезы я формулировала как в теории. Нулевая гипотеза с \"положительным\" результатом, а альтернативная с \"отрицательным\". \n",
    "- Для проверки гипотез я выбрала t-критерий Стьюдента, так как он применяется в случае нормального распределения. "
   ]
  },
  {
   "cell_type": "markdown",
   "metadata": {},
   "source": [
    "# Вывод"
   ]
  },
  {
   "cell_type": "markdown",
   "metadata": {},
   "source": [
    "###### Средняя выручка  пользователей тарифов \"Смарт\" и \"Ультра\" отличаются друг от друга.\n",
    "Подтвердилась альтернативная гипотеза.\n",
    "\n",
    "Действительно, траты пользователей тарифов отличаются друг от друга. Средняя плата за месяц в тарифе \"Ультра\" больше, чем в тарифе \"Смарт\". Но это не значит, что тариф Смарт выгоднее для пользователей. Если сопоставить среднюю плату за месяц с абонентской платтой по каждому тарифу, то мы увидим, что пользователи тарифа \"Смарт\" на много чаще превышают лимит месечного пакета услуг и переплачивают примерно в два раза.\n",
    "\n",
    "###### Средняя выручка пользователей из Москвы не отличается от выручки пользователей из других регионов.\n",
    "Подтвердилась нулевая гипотеза.\n",
    "\n",
    "Количество используемых минут, сообщений и мегабайтов не зависит от региона страны. \n",
    "\n",
    "\n",
    "Исходя из анализа поведения пользователей услуг комании «Мегалайн» можно сделать вывод:\n",
    "\n",
    "- Тариф \"Ультра\" - самый выгодный тариф для пользователей.\n",
    "- Тариф \"Смарт\" - самый прибыльный тариф для сетевой компании."
   ]
  },
  {
   "cell_type": "code",
   "execution_count": null,
   "metadata": {},
   "outputs": [],
   "source": []
  }
 ],
 "metadata": {
  "ExecuteTimeLog": [
   {
    "duration": 396,
    "start_time": "2021-07-28T13:43:34.867Z"
   },
   {
    "duration": 783,
    "start_time": "2021-07-28T13:43:40.856Z"
   },
   {
    "duration": 203,
    "start_time": "2021-07-28T13:43:42.640Z"
   },
   {
    "duration": 1066,
    "start_time": "2021-07-28T13:43:54.479Z"
   },
   {
    "duration": 215,
    "start_time": "2021-07-28T13:51:45.565Z"
   },
   {
    "duration": 63,
    "start_time": "2021-07-28T13:52:39.439Z"
   },
   {
    "duration": 127,
    "start_time": "2021-07-28T13:53:29.310Z"
   },
   {
    "duration": 189,
    "start_time": "2021-07-28T13:54:00.983Z"
   },
   {
    "duration": 25,
    "start_time": "2021-07-28T13:54:35.121Z"
   },
   {
    "duration": 32,
    "start_time": "2021-07-28T14:04:36.825Z"
   },
   {
    "duration": 9,
    "start_time": "2021-07-28T14:06:05.551Z"
   },
   {
    "duration": 19,
    "start_time": "2021-07-28T14:06:47.878Z"
   },
   {
    "duration": 23,
    "start_time": "2021-07-28T14:07:35.644Z"
   },
   {
    "duration": 9,
    "start_time": "2021-07-28T14:07:48.241Z"
   },
   {
    "duration": 831,
    "start_time": "2021-07-29T07:28:51.624Z"
   },
   {
    "duration": 239,
    "start_time": "2021-07-29T07:28:52.458Z"
   },
   {
    "duration": 28,
    "start_time": "2021-07-29T07:28:52.700Z"
   },
   {
    "duration": 75,
    "start_time": "2021-07-29T07:28:52.731Z"
   },
   {
    "duration": 9,
    "start_time": "2021-07-29T07:28:52.809Z"
   },
   {
    "duration": 137,
    "start_time": "2021-07-29T07:28:52.820Z"
   },
   {
    "duration": 20,
    "start_time": "2021-07-29T07:28:52.963Z"
   },
   {
    "duration": 212,
    "start_time": "2021-07-29T07:28:52.987Z"
   },
   {
    "duration": 23,
    "start_time": "2021-07-29T07:28:53.202Z"
   },
   {
    "duration": 44,
    "start_time": "2021-07-29T07:28:53.228Z"
   },
   {
    "duration": 10,
    "start_time": "2021-07-29T07:28:53.276Z"
   },
   {
    "duration": 25,
    "start_time": "2021-07-29T07:29:18.594Z"
   },
   {
    "duration": 7,
    "start_time": "2021-07-29T07:29:42.916Z"
   },
   {
    "duration": 20,
    "start_time": "2021-07-29T07:30:46.003Z"
   },
   {
    "duration": 24,
    "start_time": "2021-07-29T07:31:11.679Z"
   },
   {
    "duration": 60,
    "start_time": "2021-07-29T07:42:44.881Z"
   },
   {
    "duration": 64,
    "start_time": "2021-07-29T07:45:12.025Z"
   },
   {
    "duration": 41,
    "start_time": "2021-07-29T07:45:20.548Z"
   },
   {
    "duration": 25,
    "start_time": "2021-07-29T07:45:32.703Z"
   },
   {
    "duration": 15,
    "start_time": "2021-07-29T07:45:43.685Z"
   },
   {
    "duration": 45,
    "start_time": "2021-07-29T07:48:30.462Z"
   },
   {
    "duration": 43,
    "start_time": "2021-07-29T07:48:47.684Z"
   },
   {
    "duration": 9,
    "start_time": "2021-07-29T07:49:33.230Z"
   },
   {
    "duration": 44,
    "start_time": "2021-07-29T07:49:34.366Z"
   },
   {
    "duration": 20,
    "start_time": "2021-07-29T07:49:45.190Z"
   },
   {
    "duration": 58,
    "start_time": "2021-07-29T07:51:05.948Z"
   },
   {
    "duration": 71,
    "start_time": "2021-07-29T07:51:57.216Z"
   },
   {
    "duration": 8,
    "start_time": "2021-07-29T08:17:38.065Z"
   },
   {
    "duration": 8,
    "start_time": "2021-07-29T08:17:48.301Z"
   },
   {
    "duration": 6,
    "start_time": "2021-07-29T08:17:56.449Z"
   },
   {
    "duration": 87,
    "start_time": "2021-07-29T08:20:47.451Z"
   },
   {
    "duration": 92,
    "start_time": "2021-07-29T08:20:57.352Z"
   },
   {
    "duration": 84,
    "start_time": "2021-07-29T08:21:06.159Z"
   },
   {
    "duration": 71,
    "start_time": "2021-07-29T08:21:16.551Z"
   },
   {
    "duration": 384,
    "start_time": "2021-07-29T08:30:03.348Z"
   },
   {
    "duration": 300,
    "start_time": "2021-07-29T08:30:23.016Z"
   },
   {
    "duration": 7,
    "start_time": "2021-07-29T08:32:14.268Z"
   },
   {
    "duration": 280,
    "start_time": "2021-07-29T08:32:14.917Z"
   },
   {
    "duration": 26,
    "start_time": "2021-07-29T08:32:28.383Z"
   },
   {
    "duration": 110,
    "start_time": "2021-07-29T08:35:12.031Z"
   },
   {
    "duration": 92,
    "start_time": "2021-07-29T08:36:19.805Z"
   },
   {
    "duration": 94,
    "start_time": "2021-07-29T08:36:28.617Z"
   },
   {
    "duration": 76,
    "start_time": "2021-07-29T08:37:18.606Z"
   },
   {
    "duration": 87,
    "start_time": "2021-07-29T08:37:54.964Z"
   },
   {
    "duration": 102,
    "start_time": "2021-07-29T08:38:25.353Z"
   },
   {
    "duration": 31,
    "start_time": "2021-07-29T08:38:31.606Z"
   },
   {
    "duration": 32,
    "start_time": "2021-07-29T08:38:55.261Z"
   },
   {
    "duration": 406,
    "start_time": "2021-07-29T08:39:28.658Z"
   },
   {
    "duration": 6806,
    "start_time": "2021-07-29T08:39:42.012Z"
   },
   {
    "duration": -94,
    "start_time": "2021-07-29T08:39:48.916Z"
   },
   {
    "duration": 739,
    "start_time": "2021-07-29T08:40:01.923Z"
   },
   {
    "duration": 228,
    "start_time": "2021-07-29T08:40:02.665Z"
   },
   {
    "duration": 26,
    "start_time": "2021-07-29T08:40:02.896Z"
   },
   {
    "duration": 49,
    "start_time": "2021-07-29T08:40:02.925Z"
   },
   {
    "duration": 54,
    "start_time": "2021-07-29T08:40:02.976Z"
   },
   {
    "duration": 56,
    "start_time": "2021-07-29T08:40:03.033Z"
   },
   {
    "duration": 15,
    "start_time": "2021-07-29T08:40:03.092Z"
   },
   {
    "duration": 48,
    "start_time": "2021-07-29T08:40:03.111Z"
   },
   {
    "duration": 33,
    "start_time": "2021-07-29T08:40:03.162Z"
   },
   {
    "duration": 59,
    "start_time": "2021-07-29T08:40:03.197Z"
   },
   {
    "duration": 200,
    "start_time": "2021-07-29T08:40:03.259Z"
   },
   {
    "duration": 18,
    "start_time": "2021-07-29T08:40:03.461Z"
   },
   {
    "duration": 27,
    "start_time": "2021-07-29T08:40:03.482Z"
   },
   {
    "duration": 80,
    "start_time": "2021-07-29T08:40:03.512Z"
   },
   {
    "duration": 193,
    "start_time": "2021-07-29T08:40:03.594Z"
   },
   {
    "duration": 23,
    "start_time": "2021-07-29T08:40:03.790Z"
   },
   {
    "duration": 58,
    "start_time": "2021-07-29T08:40:03.816Z"
   },
   {
    "duration": 46,
    "start_time": "2021-07-29T08:40:03.877Z"
   },
   {
    "duration": 25,
    "start_time": "2021-07-29T08:40:03.925Z"
   },
   {
    "duration": 32,
    "start_time": "2021-07-29T08:40:03.962Z"
   },
   {
    "duration": 94,
    "start_time": "2021-07-29T08:40:03.997Z"
   },
   {
    "duration": 70,
    "start_time": "2021-07-29T08:40:04.094Z"
   },
   {
    "duration": 374,
    "start_time": "2021-07-29T08:40:47.514Z"
   },
   {
    "duration": 284,
    "start_time": "2021-07-29T08:41:22.152Z"
   },
   {
    "duration": 301,
    "start_time": "2021-07-29T08:41:33.915Z"
   },
   {
    "duration": 76,
    "start_time": "2021-07-29T08:44:01.145Z"
   },
   {
    "duration": 73,
    "start_time": "2021-07-29T08:44:14.967Z"
   },
   {
    "duration": 25,
    "start_time": "2021-07-29T08:44:33.428Z"
   },
   {
    "duration": 788,
    "start_time": "2021-07-29T08:44:47.035Z"
   },
   {
    "duration": 228,
    "start_time": "2021-07-29T08:44:47.826Z"
   },
   {
    "duration": 28,
    "start_time": "2021-07-29T08:44:48.057Z"
   },
   {
    "duration": 27,
    "start_time": "2021-07-29T08:44:48.087Z"
   },
   {
    "duration": 70,
    "start_time": "2021-07-29T08:44:48.116Z"
   },
   {
    "duration": 52,
    "start_time": "2021-07-29T08:44:48.189Z"
   },
   {
    "duration": 10,
    "start_time": "2021-07-29T08:44:48.244Z"
   },
   {
    "duration": 9,
    "start_time": "2021-07-29T08:44:48.265Z"
   },
   {
    "duration": 7,
    "start_time": "2021-07-29T08:44:48.278Z"
   },
   {
    "duration": 17,
    "start_time": "2021-07-29T08:44:48.288Z"
   },
   {
    "duration": 158,
    "start_time": "2021-07-29T08:44:48.308Z"
   },
   {
    "duration": 28,
    "start_time": "2021-07-29T08:44:48.469Z"
   },
   {
    "duration": 35,
    "start_time": "2021-07-29T08:44:48.500Z"
   },
   {
    "duration": 58,
    "start_time": "2021-07-29T08:44:48.537Z"
   },
   {
    "duration": 204,
    "start_time": "2021-07-29T08:44:48.597Z"
   },
   {
    "duration": 22,
    "start_time": "2021-07-29T08:44:48.804Z"
   },
   {
    "duration": 47,
    "start_time": "2021-07-29T08:44:48.830Z"
   },
   {
    "duration": 45,
    "start_time": "2021-07-29T08:44:48.879Z"
   },
   {
    "duration": 37,
    "start_time": "2021-07-29T08:44:48.927Z"
   },
   {
    "duration": 10,
    "start_time": "2021-07-29T08:44:48.966Z"
   },
   {
    "duration": 106,
    "start_time": "2021-07-29T08:44:48.978Z"
   },
   {
    "duration": 20,
    "start_time": "2021-07-29T08:44:49.087Z"
   },
   {
    "duration": 34,
    "start_time": "2021-07-29T08:45:51.323Z"
   },
   {
    "duration": 25,
    "start_time": "2021-07-29T08:46:15.063Z"
   },
   {
    "duration": 12,
    "start_time": "2021-07-29T08:47:14.395Z"
   },
   {
    "duration": 7144,
    "start_time": "2021-07-29T08:48:04.835Z"
   },
   {
    "duration": 297,
    "start_time": "2021-07-29T08:49:51.478Z"
   },
   {
    "duration": 725,
    "start_time": "2021-07-29T08:50:03.111Z"
   },
   {
    "duration": 249,
    "start_time": "2021-07-29T08:50:03.839Z"
   },
   {
    "duration": 26,
    "start_time": "2021-07-29T08:50:04.091Z"
   },
   {
    "duration": 48,
    "start_time": "2021-07-29T08:50:04.120Z"
   },
   {
    "duration": 41,
    "start_time": "2021-07-29T08:50:04.171Z"
   },
   {
    "duration": 60,
    "start_time": "2021-07-29T08:50:04.214Z"
   },
   {
    "duration": 9,
    "start_time": "2021-07-29T08:50:04.277Z"
   },
   {
    "duration": 40,
    "start_time": "2021-07-29T08:50:04.292Z"
   },
   {
    "duration": 10,
    "start_time": "2021-07-29T08:50:04.334Z"
   },
   {
    "duration": 24,
    "start_time": "2021-07-29T08:50:04.347Z"
   },
   {
    "duration": 136,
    "start_time": "2021-07-29T08:50:04.373Z"
   },
   {
    "duration": 21,
    "start_time": "2021-07-29T08:50:04.512Z"
   },
   {
    "duration": 46,
    "start_time": "2021-07-29T08:50:04.536Z"
   },
   {
    "duration": 46,
    "start_time": "2021-07-29T08:50:04.585Z"
   },
   {
    "duration": 201,
    "start_time": "2021-07-29T08:50:04.633Z"
   },
   {
    "duration": 33,
    "start_time": "2021-07-29T08:50:04.836Z"
   },
   {
    "duration": 30,
    "start_time": "2021-07-29T08:50:04.871Z"
   },
   {
    "duration": 69,
    "start_time": "2021-07-29T08:50:04.903Z"
   },
   {
    "duration": 28,
    "start_time": "2021-07-29T08:50:04.974Z"
   },
   {
    "duration": 21,
    "start_time": "2021-07-29T08:50:05.005Z"
   },
   {
    "duration": 85,
    "start_time": "2021-07-29T08:50:05.029Z"
   },
   {
    "duration": 18,
    "start_time": "2021-07-29T08:50:05.116Z"
   },
   {
    "duration": 67,
    "start_time": "2021-07-29T08:50:05.139Z"
   },
   {
    "duration": 382,
    "start_time": "2021-07-29T08:51:14.213Z"
   },
   {
    "duration": 739,
    "start_time": "2021-07-29T08:51:22.312Z"
   },
   {
    "duration": 227,
    "start_time": "2021-07-29T08:51:23.054Z"
   },
   {
    "duration": 25,
    "start_time": "2021-07-29T08:51:23.284Z"
   },
   {
    "duration": 52,
    "start_time": "2021-07-29T08:51:23.313Z"
   },
   {
    "duration": 41,
    "start_time": "2021-07-29T08:51:23.367Z"
   },
   {
    "duration": 51,
    "start_time": "2021-07-29T08:51:23.410Z"
   },
   {
    "duration": 12,
    "start_time": "2021-07-29T08:51:23.463Z"
   },
   {
    "duration": 11,
    "start_time": "2021-07-29T08:51:23.478Z"
   },
   {
    "duration": 22,
    "start_time": "2021-07-29T08:51:23.492Z"
   },
   {
    "duration": 22,
    "start_time": "2021-07-29T08:51:23.517Z"
   },
   {
    "duration": 155,
    "start_time": "2021-07-29T08:51:23.541Z"
   },
   {
    "duration": 20,
    "start_time": "2021-07-29T08:51:23.699Z"
   },
   {
    "duration": 25,
    "start_time": "2021-07-29T08:51:23.723Z"
   },
   {
    "duration": 44,
    "start_time": "2021-07-29T08:51:23.751Z"
   },
   {
    "duration": 198,
    "start_time": "2021-07-29T08:51:23.798Z"
   },
   {
    "duration": 22,
    "start_time": "2021-07-29T08:51:23.998Z"
   },
   {
    "duration": 48,
    "start_time": "2021-07-29T08:51:24.023Z"
   },
   {
    "duration": 41,
    "start_time": "2021-07-29T08:51:24.074Z"
   },
   {
    "duration": 24,
    "start_time": "2021-07-29T08:51:24.118Z"
   },
   {
    "duration": 9,
    "start_time": "2021-07-29T08:51:24.161Z"
   },
   {
    "duration": 90,
    "start_time": "2021-07-29T08:51:24.172Z"
   },
   {
    "duration": 29,
    "start_time": "2021-07-29T08:51:24.264Z"
   },
   {
    "duration": 17,
    "start_time": "2021-07-29T08:54:01.749Z"
   },
   {
    "duration": 482,
    "start_time": "2021-07-29T08:55:38.977Z"
   },
   {
    "duration": 320,
    "start_time": "2021-07-29T08:55:54.095Z"
   },
   {
    "duration": 263,
    "start_time": "2021-07-29T08:55:58.927Z"
   },
   {
    "duration": 31,
    "start_time": "2021-07-29T09:00:28.548Z"
   },
   {
    "duration": 41,
    "start_time": "2021-07-29T09:04:06.377Z"
   },
   {
    "duration": 4,
    "start_time": "2021-07-29T09:08:44.171Z"
   },
   {
    "duration": 311,
    "start_time": "2021-07-29T09:08:51.500Z"
   },
   {
    "duration": 264,
    "start_time": "2021-07-29T09:09:18.569Z"
   },
   {
    "duration": 457,
    "start_time": "2021-07-29T09:09:45.023Z"
   },
   {
    "duration": 245,
    "start_time": "2021-07-29T09:11:17.700Z"
   },
   {
    "duration": 317,
    "start_time": "2021-07-29T09:18:25.119Z"
   },
   {
    "duration": 307,
    "start_time": "2021-07-29T09:31:36.076Z"
   },
   {
    "duration": 298,
    "start_time": "2021-07-29T09:31:52.822Z"
   },
   {
    "duration": 297,
    "start_time": "2021-07-29T09:34:44.057Z"
   },
   {
    "duration": 312,
    "start_time": "2021-07-29T09:35:01.044Z"
   },
   {
    "duration": 313,
    "start_time": "2021-07-29T09:35:32.783Z"
   },
   {
    "duration": 283,
    "start_time": "2021-07-29T09:38:10.646Z"
   },
   {
    "duration": 751,
    "start_time": "2021-07-29T09:38:21.680Z"
   },
   {
    "duration": 222,
    "start_time": "2021-07-29T09:38:22.434Z"
   },
   {
    "duration": 25,
    "start_time": "2021-07-29T09:38:22.662Z"
   },
   {
    "duration": 25,
    "start_time": "2021-07-29T09:38:22.690Z"
   },
   {
    "duration": 65,
    "start_time": "2021-07-29T09:38:22.717Z"
   },
   {
    "duration": 41,
    "start_time": "2021-07-29T09:38:22.785Z"
   },
   {
    "duration": 7,
    "start_time": "2021-07-29T09:38:22.828Z"
   },
   {
    "duration": 25,
    "start_time": "2021-07-29T09:38:22.839Z"
   },
   {
    "duration": 10,
    "start_time": "2021-07-29T09:38:22.870Z"
   },
   {
    "duration": 16,
    "start_time": "2021-07-29T09:38:22.883Z"
   },
   {
    "duration": 155,
    "start_time": "2021-07-29T09:38:22.902Z"
   },
   {
    "duration": 24,
    "start_time": "2021-07-29T09:38:23.067Z"
   },
   {
    "duration": 22,
    "start_time": "2021-07-29T09:38:23.094Z"
   },
   {
    "duration": 71,
    "start_time": "2021-07-29T09:38:23.119Z"
   },
   {
    "duration": 206,
    "start_time": "2021-07-29T09:38:23.193Z"
   },
   {
    "duration": 23,
    "start_time": "2021-07-29T09:38:23.401Z"
   },
   {
    "duration": 45,
    "start_time": "2021-07-29T09:38:23.427Z"
   },
   {
    "duration": 43,
    "start_time": "2021-07-29T09:38:23.475Z"
   },
   {
    "duration": 26,
    "start_time": "2021-07-29T09:38:23.520Z"
   },
   {
    "duration": 26,
    "start_time": "2021-07-29T09:38:23.549Z"
   },
   {
    "duration": 107,
    "start_time": "2021-07-29T09:38:23.579Z"
   },
   {
    "duration": 36,
    "start_time": "2021-07-29T09:38:23.689Z"
   },
   {
    "duration": 33,
    "start_time": "2021-07-29T09:38:23.731Z"
   },
   {
    "duration": 35,
    "start_time": "2021-07-29T09:38:23.769Z"
   },
   {
    "duration": 45,
    "start_time": "2021-07-29T09:38:59.412Z"
   },
   {
    "duration": 1392,
    "start_time": "2021-07-29T09:39:38.446Z"
   },
   {
    "duration": 407,
    "start_time": "2021-07-29T09:39:47.389Z"
   },
   {
    "duration": 236,
    "start_time": "2021-07-29T09:39:52.560Z"
   },
   {
    "duration": 7,
    "start_time": "2021-07-29T09:39:54.408Z"
   },
   {
    "duration": 301,
    "start_time": "2021-07-29T09:39:55.349Z"
   },
   {
    "duration": 764,
    "start_time": "2021-07-29T09:40:07.543Z"
   },
   {
    "duration": 227,
    "start_time": "2021-07-29T09:40:08.309Z"
   },
   {
    "duration": 29,
    "start_time": "2021-07-29T09:40:08.539Z"
   },
   {
    "duration": 33,
    "start_time": "2021-07-29T09:40:08.570Z"
   },
   {
    "duration": 61,
    "start_time": "2021-07-29T09:40:08.605Z"
   },
   {
    "duration": 49,
    "start_time": "2021-07-29T09:40:08.669Z"
   },
   {
    "duration": 11,
    "start_time": "2021-07-29T09:40:08.720Z"
   },
   {
    "duration": 24,
    "start_time": "2021-07-29T09:40:08.734Z"
   },
   {
    "duration": 14,
    "start_time": "2021-07-29T09:40:08.761Z"
   },
   {
    "duration": 18,
    "start_time": "2021-07-29T09:40:08.778Z"
   },
   {
    "duration": 140,
    "start_time": "2021-07-29T09:40:08.799Z"
   },
   {
    "duration": 22,
    "start_time": "2021-07-29T09:40:08.941Z"
   },
   {
    "duration": 21,
    "start_time": "2021-07-29T09:40:08.965Z"
   },
   {
    "duration": 79,
    "start_time": "2021-07-29T09:40:08.990Z"
   },
   {
    "duration": 209,
    "start_time": "2021-07-29T09:40:09.072Z"
   },
   {
    "duration": 22,
    "start_time": "2021-07-29T09:40:09.284Z"
   },
   {
    "duration": 23,
    "start_time": "2021-07-29T09:40:09.308Z"
   },
   {
    "duration": 72,
    "start_time": "2021-07-29T09:40:09.333Z"
   },
   {
    "duration": 24,
    "start_time": "2021-07-29T09:40:09.408Z"
   },
   {
    "duration": 31,
    "start_time": "2021-07-29T09:40:09.435Z"
   },
   {
    "duration": 98,
    "start_time": "2021-07-29T09:40:09.469Z"
   },
   {
    "duration": 29,
    "start_time": "2021-07-29T09:40:09.570Z"
   },
   {
    "duration": 14,
    "start_time": "2021-07-29T09:40:09.603Z"
   },
   {
    "duration": 72,
    "start_time": "2021-07-29T09:40:09.620Z"
   },
   {
    "duration": 4,
    "start_time": "2021-07-29T09:41:30.200Z"
   },
   {
    "duration": 367,
    "start_time": "2021-07-29T09:41:36.178Z"
   },
   {
    "duration": 299,
    "start_time": "2021-07-29T09:44:20.438Z"
   },
   {
    "duration": 793,
    "start_time": "2021-07-29T09:44:29.169Z"
   },
   {
    "duration": 225,
    "start_time": "2021-07-29T09:44:29.965Z"
   },
   {
    "duration": 37,
    "start_time": "2021-07-29T09:44:30.195Z"
   },
   {
    "duration": 54,
    "start_time": "2021-07-29T09:44:30.235Z"
   },
   {
    "duration": 53,
    "start_time": "2021-07-29T09:44:30.291Z"
   },
   {
    "duration": 52,
    "start_time": "2021-07-29T09:44:30.347Z"
   },
   {
    "duration": 8,
    "start_time": "2021-07-29T09:44:30.403Z"
   },
   {
    "duration": 19,
    "start_time": "2021-07-29T09:44:30.414Z"
   },
   {
    "duration": 5,
    "start_time": "2021-07-29T09:44:30.437Z"
   },
   {
    "duration": 29,
    "start_time": "2021-07-29T09:44:30.445Z"
   },
   {
    "duration": 142,
    "start_time": "2021-07-29T09:44:30.476Z"
   },
   {
    "duration": 17,
    "start_time": "2021-07-29T09:44:30.620Z"
   },
   {
    "duration": 37,
    "start_time": "2021-07-29T09:44:30.639Z"
   },
   {
    "duration": 41,
    "start_time": "2021-07-29T09:44:30.678Z"
   },
   {
    "duration": 201,
    "start_time": "2021-07-29T09:44:30.722Z"
   },
   {
    "duration": 39,
    "start_time": "2021-07-29T09:44:30.925Z"
   },
   {
    "duration": 35,
    "start_time": "2021-07-29T09:44:30.966Z"
   },
   {
    "duration": 82,
    "start_time": "2021-07-29T09:44:31.004Z"
   },
   {
    "duration": 23,
    "start_time": "2021-07-29T09:44:31.089Z"
   },
   {
    "duration": 9,
    "start_time": "2021-07-29T09:44:31.115Z"
   },
   {
    "duration": 85,
    "start_time": "2021-07-29T09:44:31.126Z"
   },
   {
    "duration": 25,
    "start_time": "2021-07-29T09:44:31.213Z"
   },
   {
    "duration": 58,
    "start_time": "2021-07-29T09:44:31.240Z"
   },
   {
    "duration": 27,
    "start_time": "2021-07-29T09:45:26.560Z"
   },
   {
    "duration": 23,
    "start_time": "2021-07-29T09:46:13.346Z"
   },
   {
    "duration": 27,
    "start_time": "2021-07-29T09:52:15.971Z"
   },
   {
    "duration": 26,
    "start_time": "2021-07-29T09:52:29.870Z"
   },
   {
    "duration": 19,
    "start_time": "2021-07-29T09:54:12.270Z"
   },
   {
    "duration": 400,
    "start_time": "2021-07-29T09:54:50.156Z"
   },
   {
    "duration": 773,
    "start_time": "2021-07-29T09:54:58.842Z"
   },
   {
    "duration": 226,
    "start_time": "2021-07-29T09:54:59.617Z"
   },
   {
    "duration": 33,
    "start_time": "2021-07-29T09:54:59.846Z"
   },
   {
    "duration": 28,
    "start_time": "2021-07-29T09:54:59.883Z"
   },
   {
    "duration": 79,
    "start_time": "2021-07-29T09:54:59.913Z"
   },
   {
    "duration": 42,
    "start_time": "2021-07-29T09:54:59.994Z"
   },
   {
    "duration": 8,
    "start_time": "2021-07-29T09:55:00.038Z"
   },
   {
    "duration": 26,
    "start_time": "2021-07-29T09:55:00.050Z"
   },
   {
    "duration": 32,
    "start_time": "2021-07-29T09:55:00.080Z"
   },
   {
    "duration": 37,
    "start_time": "2021-07-29T09:55:00.114Z"
   },
   {
    "duration": 193,
    "start_time": "2021-07-29T09:55:00.154Z"
   },
   {
    "duration": 29,
    "start_time": "2021-07-29T09:55:00.350Z"
   },
   {
    "duration": 73,
    "start_time": "2021-07-29T09:55:00.381Z"
   },
   {
    "duration": 78,
    "start_time": "2021-07-29T09:55:00.457Z"
   },
   {
    "duration": 299,
    "start_time": "2021-07-29T09:55:00.538Z"
   },
   {
    "duration": 41,
    "start_time": "2021-07-29T09:55:00.840Z"
   },
   {
    "duration": 135,
    "start_time": "2021-07-29T09:55:00.885Z"
   },
   {
    "duration": 81,
    "start_time": "2021-07-29T09:55:01.024Z"
   },
   {
    "duration": 31,
    "start_time": "2021-07-29T09:55:01.108Z"
   },
   {
    "duration": 27,
    "start_time": "2021-07-29T09:55:01.142Z"
   },
   {
    "duration": 133,
    "start_time": "2021-07-29T09:55:01.171Z"
   },
   {
    "duration": 26,
    "start_time": "2021-07-29T09:55:01.307Z"
   },
   {
    "duration": 88,
    "start_time": "2021-07-29T09:55:01.337Z"
   },
   {
    "duration": 91,
    "start_time": "2021-07-29T09:55:01.428Z"
   },
   {
    "duration": 28,
    "start_time": "2021-07-29T09:56:03.472Z"
   },
   {
    "duration": 791,
    "start_time": "2021-07-29T09:58:11.268Z"
   },
   {
    "duration": 331,
    "start_time": "2021-07-29T10:05:13.753Z"
   },
   {
    "duration": 765,
    "start_time": "2021-07-29T10:05:21.567Z"
   },
   {
    "duration": 512,
    "start_time": "2021-07-29T10:05:22.334Z"
   },
   {
    "duration": 41,
    "start_time": "2021-07-29T10:05:22.849Z"
   },
   {
    "duration": 30,
    "start_time": "2021-07-29T10:05:22.894Z"
   },
   {
    "duration": 76,
    "start_time": "2021-07-29T10:05:22.926Z"
   },
   {
    "duration": 75,
    "start_time": "2021-07-29T10:05:23.004Z"
   },
   {
    "duration": 7,
    "start_time": "2021-07-29T10:05:23.082Z"
   },
   {
    "duration": 19,
    "start_time": "2021-07-29T10:05:23.093Z"
   },
   {
    "duration": 7,
    "start_time": "2021-07-29T10:05:23.115Z"
   },
   {
    "duration": 46,
    "start_time": "2021-07-29T10:05:23.124Z"
   },
   {
    "duration": 717,
    "start_time": "2021-07-29T10:05:23.173Z"
   },
   {
    "duration": 18,
    "start_time": "2021-07-29T10:05:23.892Z"
   },
   {
    "duration": 22,
    "start_time": "2021-07-29T10:05:23.912Z"
   },
   {
    "duration": 57,
    "start_time": "2021-07-29T10:05:23.937Z"
   },
   {
    "duration": 261,
    "start_time": "2021-07-29T10:05:23.997Z"
   },
   {
    "duration": 27,
    "start_time": "2021-07-29T10:05:24.261Z"
   },
   {
    "duration": 35,
    "start_time": "2021-07-29T10:05:24.290Z"
   },
   {
    "duration": 63,
    "start_time": "2021-07-29T10:05:24.327Z"
   },
   {
    "duration": 908,
    "start_time": "2021-07-29T10:05:24.392Z"
   },
   {
    "duration": 8,
    "start_time": "2021-07-29T10:05:25.302Z"
   },
   {
    "duration": 91,
    "start_time": "2021-07-29T10:05:25.313Z"
   },
   {
    "duration": 32,
    "start_time": "2021-07-29T10:05:25.407Z"
   },
   {
    "duration": 72,
    "start_time": "2021-07-29T10:05:25.445Z"
   },
   {
    "duration": 47,
    "start_time": "2021-07-29T10:05:25.520Z"
   },
   {
    "duration": 25,
    "start_time": "2021-07-29T10:05:40.633Z"
   },
   {
    "duration": 29,
    "start_time": "2021-07-29T10:08:07.746Z"
   },
   {
    "duration": 40,
    "start_time": "2021-07-29T10:10:25.583Z"
   },
   {
    "duration": 22,
    "start_time": "2021-07-29T10:15:44.247Z"
   },
   {
    "duration": 960,
    "start_time": "2021-07-29T10:16:24.898Z"
   },
   {
    "duration": 237,
    "start_time": "2021-07-29T10:16:25.862Z"
   },
   {
    "duration": 27,
    "start_time": "2021-07-29T10:16:26.102Z"
   },
   {
    "duration": 47,
    "start_time": "2021-07-29T10:16:26.132Z"
   },
   {
    "duration": 41,
    "start_time": "2021-07-29T10:16:26.181Z"
   },
   {
    "duration": 43,
    "start_time": "2021-07-29T10:16:26.225Z"
   },
   {
    "duration": 9,
    "start_time": "2021-07-29T10:16:26.271Z"
   },
   {
    "duration": 14,
    "start_time": "2021-07-29T10:16:26.284Z"
   },
   {
    "duration": 7,
    "start_time": "2021-07-29T10:16:26.301Z"
   },
   {
    "duration": 52,
    "start_time": "2021-07-29T10:16:26.310Z"
   },
   {
    "duration": 135,
    "start_time": "2021-07-29T10:16:26.365Z"
   },
   {
    "duration": 18,
    "start_time": "2021-07-29T10:16:26.502Z"
   },
   {
    "duration": 45,
    "start_time": "2021-07-29T10:16:26.523Z"
   },
   {
    "duration": 51,
    "start_time": "2021-07-29T10:16:26.570Z"
   },
   {
    "duration": 195,
    "start_time": "2021-07-29T10:16:26.623Z"
   },
   {
    "duration": 21,
    "start_time": "2021-07-29T10:16:26.820Z"
   },
   {
    "duration": 40,
    "start_time": "2021-07-29T10:16:26.844Z"
   },
   {
    "duration": 43,
    "start_time": "2021-07-29T10:16:26.886Z"
   },
   {
    "duration": 40,
    "start_time": "2021-07-29T10:16:26.931Z"
   },
   {
    "duration": 13,
    "start_time": "2021-07-29T10:16:26.973Z"
   },
   {
    "duration": 92,
    "start_time": "2021-07-29T10:16:26.988Z"
   },
   {
    "duration": 26,
    "start_time": "2021-07-29T10:16:27.082Z"
   },
   {
    "duration": 63,
    "start_time": "2021-07-29T10:16:27.112Z"
   },
   {
    "duration": 37,
    "start_time": "2021-07-29T10:16:27.177Z"
   },
   {
    "duration": 376,
    "start_time": "2021-07-29T10:16:52.961Z"
   },
   {
    "duration": 33,
    "start_time": "2021-07-29T10:16:58.883Z"
   },
   {
    "duration": 715,
    "start_time": "2021-07-29T10:17:04.509Z"
   },
   {
    "duration": 239,
    "start_time": "2021-07-29T10:17:05.227Z"
   },
   {
    "duration": 26,
    "start_time": "2021-07-29T10:17:05.470Z"
   },
   {
    "duration": 47,
    "start_time": "2021-07-29T10:17:05.499Z"
   },
   {
    "duration": 41,
    "start_time": "2021-07-29T10:17:05.561Z"
   },
   {
    "duration": 43,
    "start_time": "2021-07-29T10:17:05.605Z"
   },
   {
    "duration": 9,
    "start_time": "2021-07-29T10:17:05.662Z"
   },
   {
    "duration": 15,
    "start_time": "2021-07-29T10:17:05.675Z"
   },
   {
    "duration": 8,
    "start_time": "2021-07-29T10:17:05.693Z"
   },
   {
    "duration": 25,
    "start_time": "2021-07-29T10:17:05.703Z"
   },
   {
    "duration": 168,
    "start_time": "2021-07-29T10:17:05.730Z"
   },
   {
    "duration": 18,
    "start_time": "2021-07-29T10:17:05.901Z"
   },
   {
    "duration": 40,
    "start_time": "2021-07-29T10:17:05.922Z"
   },
   {
    "duration": 43,
    "start_time": "2021-07-29T10:17:05.965Z"
   },
   {
    "duration": 205,
    "start_time": "2021-07-29T10:17:06.011Z"
   },
   {
    "duration": 21,
    "start_time": "2021-07-29T10:17:06.219Z"
   },
   {
    "duration": 41,
    "start_time": "2021-07-29T10:17:06.243Z"
   },
   {
    "duration": 54,
    "start_time": "2021-07-29T10:17:06.287Z"
   },
   {
    "duration": 42,
    "start_time": "2021-07-29T10:17:06.344Z"
   },
   {
    "duration": 26,
    "start_time": "2021-07-29T10:17:06.389Z"
   },
   {
    "duration": 108,
    "start_time": "2021-07-29T10:17:06.418Z"
   },
   {
    "duration": 45,
    "start_time": "2021-07-29T10:17:06.529Z"
   },
   {
    "duration": 59,
    "start_time": "2021-07-29T10:17:06.580Z"
   },
   {
    "duration": 70,
    "start_time": "2021-07-29T10:17:06.642Z"
   },
   {
    "duration": 4726,
    "start_time": "2021-07-29T10:19:14.584Z"
   },
   {
    "duration": 432,
    "start_time": "2021-07-29T10:19:28.237Z"
   },
   {
    "duration": 755,
    "start_time": "2021-07-29T10:19:39.169Z"
   },
   {
    "duration": 227,
    "start_time": "2021-07-29T10:19:39.927Z"
   },
   {
    "duration": 27,
    "start_time": "2021-07-29T10:19:40.161Z"
   },
   {
    "duration": 49,
    "start_time": "2021-07-29T10:19:40.191Z"
   },
   {
    "duration": 50,
    "start_time": "2021-07-29T10:19:40.242Z"
   },
   {
    "duration": 80,
    "start_time": "2021-07-29T10:19:40.295Z"
   },
   {
    "duration": 10,
    "start_time": "2021-07-29T10:19:40.378Z"
   },
   {
    "duration": 9,
    "start_time": "2021-07-29T10:19:40.391Z"
   },
   {
    "duration": 8,
    "start_time": "2021-07-29T10:19:40.402Z"
   },
   {
    "duration": 16,
    "start_time": "2021-07-29T10:19:40.412Z"
   },
   {
    "duration": 131,
    "start_time": "2021-07-29T10:19:40.462Z"
   },
   {
    "duration": 19,
    "start_time": "2021-07-29T10:19:40.596Z"
   },
   {
    "duration": 49,
    "start_time": "2021-07-29T10:19:40.618Z"
   },
   {
    "duration": 53,
    "start_time": "2021-07-29T10:19:40.669Z"
   },
   {
    "duration": 281,
    "start_time": "2021-07-29T10:19:40.725Z"
   },
   {
    "duration": 32,
    "start_time": "2021-07-29T10:19:41.009Z"
   },
   {
    "duration": 47,
    "start_time": "2021-07-29T10:19:41.044Z"
   },
   {
    "duration": 78,
    "start_time": "2021-07-29T10:19:41.094Z"
   },
   {
    "duration": 27,
    "start_time": "2021-07-29T10:19:41.175Z"
   },
   {
    "duration": 12,
    "start_time": "2021-07-29T10:19:41.205Z"
   },
   {
    "duration": 99,
    "start_time": "2021-07-29T10:19:41.220Z"
   },
   {
    "duration": 23,
    "start_time": "2021-07-29T10:19:41.322Z"
   },
   {
    "duration": 44,
    "start_time": "2021-07-29T10:19:41.361Z"
   },
   {
    "duration": 63,
    "start_time": "2021-07-29T10:19:41.407Z"
   },
   {
    "duration": 382,
    "start_time": "2021-07-29T10:20:04.968Z"
   },
   {
    "duration": 924,
    "start_time": "2021-07-29T10:20:09.346Z"
   },
   {
    "duration": 1693,
    "start_time": "2021-07-29T10:20:10.273Z"
   },
   {
    "duration": 32,
    "start_time": "2021-07-29T10:20:11.970Z"
   },
   {
    "duration": 151,
    "start_time": "2021-07-29T10:20:12.006Z"
   },
   {
    "duration": 44,
    "start_time": "2021-07-29T10:20:12.160Z"
   },
   {
    "duration": 61,
    "start_time": "2021-07-29T10:20:12.206Z"
   },
   {
    "duration": 8,
    "start_time": "2021-07-29T10:20:12.271Z"
   },
   {
    "duration": 20,
    "start_time": "2021-07-29T10:20:12.282Z"
   },
   {
    "duration": 15,
    "start_time": "2021-07-29T10:20:12.307Z"
   },
   {
    "duration": 40,
    "start_time": "2021-07-29T10:20:12.326Z"
   },
   {
    "duration": 154,
    "start_time": "2021-07-29T10:20:12.369Z"
   },
   {
    "duration": 23,
    "start_time": "2021-07-29T10:20:12.526Z"
   },
   {
    "duration": 21,
    "start_time": "2021-07-29T10:20:12.561Z"
   },
   {
    "duration": 41,
    "start_time": "2021-07-29T10:20:12.584Z"
   },
   {
    "duration": 257,
    "start_time": "2021-07-29T10:20:12.628Z"
   },
   {
    "duration": 34,
    "start_time": "2021-07-29T10:20:12.888Z"
   },
   {
    "duration": 48,
    "start_time": "2021-07-29T10:20:12.926Z"
   },
   {
    "duration": 44,
    "start_time": "2021-07-29T10:20:12.976Z"
   },
   {
    "duration": 1688,
    "start_time": "2021-07-29T10:20:13.022Z"
   },
   {
    "duration": 34,
    "start_time": "2021-07-29T10:20:14.713Z"
   },
   {
    "duration": 97,
    "start_time": "2021-07-29T10:20:14.750Z"
   },
   {
    "duration": 31,
    "start_time": "2021-07-29T10:20:14.849Z"
   },
   {
    "duration": 41,
    "start_time": "2021-07-29T10:20:14.883Z"
   },
   {
    "duration": 490,
    "start_time": "2021-07-29T10:20:14.927Z"
   },
   {
    "duration": 322,
    "start_time": "2021-07-29T10:20:34.594Z"
   },
   {
    "duration": 718,
    "start_time": "2021-07-29T10:20:43.974Z"
   },
   {
    "duration": 227,
    "start_time": "2021-07-29T10:20:44.694Z"
   },
   {
    "duration": 41,
    "start_time": "2021-07-29T10:20:44.924Z"
   },
   {
    "duration": 27,
    "start_time": "2021-07-29T10:20:44.968Z"
   },
   {
    "duration": 65,
    "start_time": "2021-07-29T10:20:44.997Z"
   },
   {
    "duration": 54,
    "start_time": "2021-07-29T10:20:45.064Z"
   },
   {
    "duration": 27,
    "start_time": "2021-07-29T10:20:45.121Z"
   },
   {
    "duration": 27,
    "start_time": "2021-07-29T10:20:45.151Z"
   },
   {
    "duration": 26,
    "start_time": "2021-07-29T10:20:45.181Z"
   },
   {
    "duration": 36,
    "start_time": "2021-07-29T10:20:45.210Z"
   },
   {
    "duration": 140,
    "start_time": "2021-07-29T10:20:45.249Z"
   },
   {
    "duration": 18,
    "start_time": "2021-07-29T10:20:45.391Z"
   },
   {
    "duration": 34,
    "start_time": "2021-07-29T10:20:45.411Z"
   },
   {
    "duration": 47,
    "start_time": "2021-07-29T10:20:45.448Z"
   },
   {
    "duration": 198,
    "start_time": "2021-07-29T10:20:45.498Z"
   },
   {
    "duration": 22,
    "start_time": "2021-07-29T10:20:45.698Z"
   },
   {
    "duration": 45,
    "start_time": "2021-07-29T10:20:45.722Z"
   },
   {
    "duration": 45,
    "start_time": "2021-07-29T10:20:45.769Z"
   },
   {
    "duration": 26,
    "start_time": "2021-07-29T10:20:45.816Z"
   },
   {
    "duration": 29,
    "start_time": "2021-07-29T10:20:45.844Z"
   },
   {
    "duration": 87,
    "start_time": "2021-07-29T10:20:45.875Z"
   },
   {
    "duration": 26,
    "start_time": "2021-07-29T10:20:45.964Z"
   },
   {
    "duration": 40,
    "start_time": "2021-07-29T10:20:45.994Z"
   },
   {
    "duration": 56,
    "start_time": "2021-07-29T10:20:46.036Z"
   },
   {
    "duration": 19,
    "start_time": "2021-07-29T10:21:11.287Z"
   },
   {
    "duration": 941,
    "start_time": "2021-07-29T10:21:17.441Z"
   },
   {
    "duration": 314,
    "start_time": "2021-07-29T10:21:18.386Z"
   },
   {
    "duration": 39,
    "start_time": "2021-07-29T10:21:18.703Z"
   },
   {
    "duration": 40,
    "start_time": "2021-07-29T10:21:18.762Z"
   },
   {
    "duration": 76,
    "start_time": "2021-07-29T10:21:18.805Z"
   },
   {
    "duration": 59,
    "start_time": "2021-07-29T10:21:18.884Z"
   },
   {
    "duration": 9,
    "start_time": "2021-07-29T10:21:18.945Z"
   },
   {
    "duration": 12,
    "start_time": "2021-07-29T10:21:18.959Z"
   },
   {
    "duration": 6,
    "start_time": "2021-07-29T10:21:18.975Z"
   },
   {
    "duration": 22,
    "start_time": "2021-07-29T10:21:18.983Z"
   },
   {
    "duration": 155,
    "start_time": "2021-07-29T10:21:19.008Z"
   },
   {
    "duration": 19,
    "start_time": "2021-07-29T10:21:19.165Z"
   },
   {
    "duration": 19,
    "start_time": "2021-07-29T10:21:19.186Z"
   },
   {
    "duration": 67,
    "start_time": "2021-07-29T10:21:19.208Z"
   },
   {
    "duration": 196,
    "start_time": "2021-07-29T10:21:19.278Z"
   },
   {
    "duration": 23,
    "start_time": "2021-07-29T10:21:19.476Z"
   },
   {
    "duration": 25,
    "start_time": "2021-07-29T10:21:19.502Z"
   },
   {
    "duration": 68,
    "start_time": "2021-07-29T10:21:19.530Z"
   },
   {
    "duration": 25,
    "start_time": "2021-07-29T10:21:19.600Z"
   },
   {
    "duration": 18,
    "start_time": "2021-07-29T10:21:19.628Z"
   },
   {
    "duration": 87,
    "start_time": "2021-07-29T10:21:19.648Z"
   },
   {
    "duration": 35,
    "start_time": "2021-07-29T10:21:19.738Z"
   },
   {
    "duration": 44,
    "start_time": "2021-07-29T10:21:19.778Z"
   },
   {
    "duration": 60,
    "start_time": "2021-07-29T10:21:19.824Z"
   },
   {
    "duration": 6357,
    "start_time": "2021-07-29T10:25:36.704Z"
   },
   {
    "duration": 719,
    "start_time": "2021-07-29T10:25:49.312Z"
   },
   {
    "duration": 331,
    "start_time": "2021-07-29T10:25:50.036Z"
   },
   {
    "duration": 41,
    "start_time": "2021-07-29T10:25:50.371Z"
   },
   {
    "duration": 52,
    "start_time": "2021-07-29T10:25:50.415Z"
   },
   {
    "duration": 40,
    "start_time": "2021-07-29T10:25:50.469Z"
   },
   {
    "duration": 63,
    "start_time": "2021-07-29T10:25:50.513Z"
   },
   {
    "duration": 7,
    "start_time": "2021-07-29T10:25:50.579Z"
   },
   {
    "duration": 18,
    "start_time": "2021-07-29T10:25:50.589Z"
   },
   {
    "duration": 10,
    "start_time": "2021-07-29T10:25:50.610Z"
   },
   {
    "duration": 28,
    "start_time": "2021-07-29T10:25:50.622Z"
   },
   {
    "duration": 147,
    "start_time": "2021-07-29T10:25:50.651Z"
   },
   {
    "duration": 20,
    "start_time": "2021-07-29T10:25:50.800Z"
   },
   {
    "duration": 49,
    "start_time": "2021-07-29T10:25:50.823Z"
   },
   {
    "duration": 60,
    "start_time": "2021-07-29T10:25:50.875Z"
   },
   {
    "duration": 274,
    "start_time": "2021-07-29T10:25:50.938Z"
   },
   {
    "duration": 31,
    "start_time": "2021-07-29T10:25:51.215Z"
   },
   {
    "duration": 45,
    "start_time": "2021-07-29T10:25:51.262Z"
   },
   {
    "duration": 54,
    "start_time": "2021-07-29T10:25:51.313Z"
   },
   {
    "duration": 29,
    "start_time": "2021-07-29T10:25:51.370Z"
   },
   {
    "duration": 12,
    "start_time": "2021-07-29T10:25:51.402Z"
   },
   {
    "duration": 104,
    "start_time": "2021-07-29T10:25:51.417Z"
   },
   {
    "duration": 42,
    "start_time": "2021-07-29T10:25:51.523Z"
   },
   {
    "duration": 43,
    "start_time": "2021-07-29T10:25:51.568Z"
   },
   {
    "duration": 9730,
    "start_time": "2021-07-29T10:25:51.614Z"
   },
   {
    "duration": 32,
    "start_time": "2021-07-29T10:26:10.533Z"
   },
   {
    "duration": 779,
    "start_time": "2021-07-29T10:26:15.631Z"
   },
   {
    "duration": 226,
    "start_time": "2021-07-29T10:26:16.414Z"
   },
   {
    "duration": 35,
    "start_time": "2021-07-29T10:26:16.642Z"
   },
   {
    "duration": 32,
    "start_time": "2021-07-29T10:26:16.679Z"
   },
   {
    "duration": 60,
    "start_time": "2021-07-29T10:26:16.714Z"
   },
   {
    "duration": 55,
    "start_time": "2021-07-29T10:26:16.776Z"
   },
   {
    "duration": 8,
    "start_time": "2021-07-29T10:26:16.833Z"
   },
   {
    "duration": 12,
    "start_time": "2021-07-29T10:26:16.845Z"
   },
   {
    "duration": 12,
    "start_time": "2021-07-29T10:26:16.861Z"
   },
   {
    "duration": 22,
    "start_time": "2021-07-29T10:26:16.875Z"
   },
   {
    "duration": 135,
    "start_time": "2021-07-29T10:26:16.899Z"
   },
   {
    "duration": 28,
    "start_time": "2021-07-29T10:26:17.036Z"
   },
   {
    "duration": 18,
    "start_time": "2021-07-29T10:26:17.066Z"
   },
   {
    "duration": 42,
    "start_time": "2021-07-29T10:26:17.086Z"
   },
   {
    "duration": 219,
    "start_time": "2021-07-29T10:26:17.131Z"
   },
   {
    "duration": 29,
    "start_time": "2021-07-29T10:26:17.353Z"
   },
   {
    "duration": 34,
    "start_time": "2021-07-29T10:26:17.385Z"
   },
   {
    "duration": 102,
    "start_time": "2021-07-29T10:26:17.422Z"
   },
   {
    "duration": 39,
    "start_time": "2021-07-29T10:26:17.527Z"
   },
   {
    "duration": 12,
    "start_time": "2021-07-29T10:26:17.569Z"
   },
   {
    "duration": 115,
    "start_time": "2021-07-29T10:26:17.584Z"
   },
   {
    "duration": 35,
    "start_time": "2021-07-29T10:26:17.702Z"
   },
   {
    "duration": 74,
    "start_time": "2021-07-29T10:26:17.743Z"
   },
   {
    "duration": 73,
    "start_time": "2021-07-29T10:26:17.821Z"
   },
   {
    "duration": 34,
    "start_time": "2021-07-29T10:27:09.590Z"
   },
   {
    "duration": 870,
    "start_time": "2021-07-29T10:28:15.045Z"
   },
   {
    "duration": 321,
    "start_time": "2021-07-29T10:28:30.161Z"
   },
   {
    "duration": 263,
    "start_time": "2021-07-29T10:28:47.727Z"
   },
   {
    "duration": 697,
    "start_time": "2021-07-29T10:28:56.298Z"
   },
   {
    "duration": 226,
    "start_time": "2021-07-29T10:28:56.997Z"
   },
   {
    "duration": 42,
    "start_time": "2021-07-29T10:28:57.226Z"
   },
   {
    "duration": 26,
    "start_time": "2021-07-29T10:28:57.271Z"
   },
   {
    "duration": 49,
    "start_time": "2021-07-29T10:28:57.300Z"
   },
   {
    "duration": 58,
    "start_time": "2021-07-29T10:28:57.351Z"
   },
   {
    "duration": 8,
    "start_time": "2021-07-29T10:28:57.411Z"
   },
   {
    "duration": 14,
    "start_time": "2021-07-29T10:28:57.424Z"
   },
   {
    "duration": 4,
    "start_time": "2021-07-29T10:28:57.442Z"
   },
   {
    "duration": 17,
    "start_time": "2021-07-29T10:28:57.463Z"
   },
   {
    "duration": 151,
    "start_time": "2021-07-29T10:28:57.483Z"
   },
   {
    "duration": 29,
    "start_time": "2021-07-29T10:28:57.636Z"
   },
   {
    "duration": 21,
    "start_time": "2021-07-29T10:28:57.667Z"
   },
   {
    "duration": 36,
    "start_time": "2021-07-29T10:28:57.691Z"
   },
   {
    "duration": 234,
    "start_time": "2021-07-29T10:28:57.729Z"
   },
   {
    "duration": 25,
    "start_time": "2021-07-29T10:28:57.968Z"
   },
   {
    "duration": 28,
    "start_time": "2021-07-29T10:28:57.995Z"
   },
   {
    "duration": 81,
    "start_time": "2021-07-29T10:28:58.025Z"
   },
   {
    "duration": 31,
    "start_time": "2021-07-29T10:28:58.109Z"
   },
   {
    "duration": 29,
    "start_time": "2021-07-29T10:28:58.143Z"
   },
   {
    "duration": 87,
    "start_time": "2021-07-29T10:28:58.175Z"
   },
   {
    "duration": 27,
    "start_time": "2021-07-29T10:28:58.266Z"
   },
   {
    "duration": 40,
    "start_time": "2021-07-29T10:28:58.296Z"
   },
   {
    "duration": 73,
    "start_time": "2021-07-29T10:28:58.338Z"
   },
   {
    "duration": 4203,
    "start_time": "2021-07-29T10:29:14.876Z"
   },
   {
    "duration": 697,
    "start_time": "2021-07-29T10:29:26.500Z"
   },
   {
    "duration": 228,
    "start_time": "2021-07-29T10:29:27.200Z"
   },
   {
    "duration": 37,
    "start_time": "2021-07-29T10:29:27.430Z"
   },
   {
    "duration": 32,
    "start_time": "2021-07-29T10:29:27.475Z"
   },
   {
    "duration": 89,
    "start_time": "2021-07-29T10:29:27.510Z"
   },
   {
    "duration": 63,
    "start_time": "2021-07-29T10:29:27.602Z"
   },
   {
    "duration": 7,
    "start_time": "2021-07-29T10:29:27.667Z"
   },
   {
    "duration": 10,
    "start_time": "2021-07-29T10:29:27.678Z"
   },
   {
    "duration": 4,
    "start_time": "2021-07-29T10:29:27.691Z"
   },
   {
    "duration": 15,
    "start_time": "2021-07-29T10:29:27.697Z"
   },
   {
    "duration": 168,
    "start_time": "2021-07-29T10:29:27.715Z"
   },
   {
    "duration": 17,
    "start_time": "2021-07-29T10:29:27.886Z"
   },
   {
    "duration": 22,
    "start_time": "2021-07-29T10:29:27.905Z"
   },
   {
    "duration": 69,
    "start_time": "2021-07-29T10:29:27.929Z"
   },
   {
    "duration": 291,
    "start_time": "2021-07-29T10:29:28.000Z"
   },
   {
    "duration": 21,
    "start_time": "2021-07-29T10:29:28.293Z"
   },
   {
    "duration": 47,
    "start_time": "2021-07-29T10:29:28.317Z"
   },
   {
    "duration": 49,
    "start_time": "2021-07-29T10:29:28.367Z"
   },
   {
    "duration": 26,
    "start_time": "2021-07-29T10:29:28.419Z"
   },
   {
    "duration": 10,
    "start_time": "2021-07-29T10:29:28.463Z"
   },
   {
    "duration": 94,
    "start_time": "2021-07-29T10:29:28.475Z"
   },
   {
    "duration": 24,
    "start_time": "2021-07-29T10:29:28.572Z"
   },
   {
    "duration": 61,
    "start_time": "2021-07-29T10:29:28.600Z"
   },
   {
    "duration": 2946,
    "start_time": "2021-07-29T10:29:28.664Z"
   },
   {
    "duration": 732,
    "start_time": "2021-07-29T11:02:33.323Z"
   },
   {
    "duration": 246,
    "start_time": "2021-07-29T11:02:34.057Z"
   },
   {
    "duration": 27,
    "start_time": "2021-07-29T11:02:34.305Z"
   },
   {
    "duration": 56,
    "start_time": "2021-07-29T11:02:34.336Z"
   },
   {
    "duration": 44,
    "start_time": "2021-07-29T11:02:34.394Z"
   },
   {
    "duration": 81,
    "start_time": "2021-07-29T11:02:34.440Z"
   },
   {
    "duration": 18,
    "start_time": "2021-07-29T11:02:34.524Z"
   },
   {
    "duration": 13,
    "start_time": "2021-07-29T11:02:34.547Z"
   },
   {
    "duration": 14,
    "start_time": "2021-07-29T11:02:34.566Z"
   },
   {
    "duration": 23,
    "start_time": "2021-07-29T11:02:34.582Z"
   },
   {
    "duration": 141,
    "start_time": "2021-07-29T11:02:34.607Z"
   },
   {
    "duration": 27,
    "start_time": "2021-07-29T11:02:34.750Z"
   },
   {
    "duration": 19,
    "start_time": "2021-07-29T11:02:34.779Z"
   },
   {
    "duration": 67,
    "start_time": "2021-07-29T11:02:34.801Z"
   },
   {
    "duration": 191,
    "start_time": "2021-07-29T11:02:34.870Z"
   },
   {
    "duration": 21,
    "start_time": "2021-07-29T11:02:35.065Z"
   },
   {
    "duration": 35,
    "start_time": "2021-07-29T11:02:35.089Z"
   },
   {
    "duration": 70,
    "start_time": "2021-07-29T11:02:35.127Z"
   },
   {
    "duration": 24,
    "start_time": "2021-07-29T11:02:35.200Z"
   },
   {
    "duration": 27,
    "start_time": "2021-07-29T11:02:35.226Z"
   },
   {
    "duration": 84,
    "start_time": "2021-07-29T11:02:35.255Z"
   },
   {
    "duration": 30,
    "start_time": "2021-07-29T11:02:35.341Z"
   },
   {
    "duration": 43,
    "start_time": "2021-07-29T11:02:35.375Z"
   },
   {
    "duration": 377,
    "start_time": "2021-07-29T11:02:35.421Z"
   },
   {
    "duration": 44,
    "start_time": "2021-07-29T11:02:48.833Z"
   },
   {
    "duration": 787,
    "start_time": "2021-07-29T11:02:53.374Z"
   },
   {
    "duration": 243,
    "start_time": "2021-07-29T11:02:54.164Z"
   },
   {
    "duration": 27,
    "start_time": "2021-07-29T11:02:54.409Z"
   },
   {
    "duration": 52,
    "start_time": "2021-07-29T11:02:54.438Z"
   },
   {
    "duration": 43,
    "start_time": "2021-07-29T11:02:54.492Z"
   },
   {
    "duration": 59,
    "start_time": "2021-07-29T11:02:54.538Z"
   },
   {
    "duration": 7,
    "start_time": "2021-07-29T11:02:54.600Z"
   },
   {
    "duration": 17,
    "start_time": "2021-07-29T11:02:54.610Z"
   },
   {
    "duration": 18,
    "start_time": "2021-07-29T11:02:54.631Z"
   },
   {
    "duration": 39,
    "start_time": "2021-07-29T11:02:54.652Z"
   },
   {
    "duration": 137,
    "start_time": "2021-07-29T11:02:54.694Z"
   },
   {
    "duration": 18,
    "start_time": "2021-07-29T11:02:54.833Z"
   },
   {
    "duration": 32,
    "start_time": "2021-07-29T11:02:54.854Z"
   },
   {
    "duration": 52,
    "start_time": "2021-07-29T11:02:54.889Z"
   },
   {
    "duration": 199,
    "start_time": "2021-07-29T11:02:54.944Z"
   },
   {
    "duration": 35,
    "start_time": "2021-07-29T11:02:55.145Z"
   },
   {
    "duration": 28,
    "start_time": "2021-07-29T11:02:55.182Z"
   },
   {
    "duration": 81,
    "start_time": "2021-07-29T11:02:55.213Z"
   },
   {
    "duration": 28,
    "start_time": "2021-07-29T11:02:55.297Z"
   },
   {
    "duration": 16,
    "start_time": "2021-07-29T11:02:55.328Z"
   },
   {
    "duration": 87,
    "start_time": "2021-07-29T11:02:55.347Z"
   },
   {
    "duration": 45,
    "start_time": "2021-07-29T11:02:55.437Z"
   },
   {
    "duration": 44,
    "start_time": "2021-07-29T11:02:55.485Z"
   },
   {
    "duration": 63,
    "start_time": "2021-07-29T11:02:55.532Z"
   },
   {
    "duration": 1191,
    "start_time": "2021-07-29T11:18:19.148Z"
   },
   {
    "duration": 763,
    "start_time": "2021-07-29T11:18:24.990Z"
   },
   {
    "duration": 234,
    "start_time": "2021-07-29T11:18:25.756Z"
   },
   {
    "duration": 26,
    "start_time": "2021-07-29T11:18:25.992Z"
   },
   {
    "duration": 58,
    "start_time": "2021-07-29T11:18:26.020Z"
   },
   {
    "duration": 43,
    "start_time": "2021-07-29T11:18:26.082Z"
   },
   {
    "duration": 77,
    "start_time": "2021-07-29T11:18:26.127Z"
   },
   {
    "duration": 21,
    "start_time": "2021-07-29T11:18:26.206Z"
   },
   {
    "duration": 13,
    "start_time": "2021-07-29T11:18:26.233Z"
   },
   {
    "duration": 15,
    "start_time": "2021-07-29T11:18:26.251Z"
   },
   {
    "duration": 19,
    "start_time": "2021-07-29T11:18:26.269Z"
   },
   {
    "duration": 142,
    "start_time": "2021-07-29T11:18:26.290Z"
   },
   {
    "duration": 19,
    "start_time": "2021-07-29T11:18:26.434Z"
   },
   {
    "duration": 25,
    "start_time": "2021-07-29T11:18:26.462Z"
   },
   {
    "duration": 36,
    "start_time": "2021-07-29T11:18:26.490Z"
   },
   {
    "duration": 227,
    "start_time": "2021-07-29T11:18:26.529Z"
   },
   {
    "duration": 32,
    "start_time": "2021-07-29T11:18:26.762Z"
   },
   {
    "duration": 37,
    "start_time": "2021-07-29T11:18:26.797Z"
   },
   {
    "duration": 76,
    "start_time": "2021-07-29T11:18:26.837Z"
   },
   {
    "duration": 24,
    "start_time": "2021-07-29T11:18:26.916Z"
   },
   {
    "duration": 19,
    "start_time": "2021-07-29T11:18:26.942Z"
   },
   {
    "duration": 74,
    "start_time": "2021-07-29T11:18:26.964Z"
   },
   {
    "duration": 41,
    "start_time": "2021-07-29T11:18:27.041Z"
   },
   {
    "duration": 43,
    "start_time": "2021-07-29T11:18:27.086Z"
   },
   {
    "duration": 1420,
    "start_time": "2021-07-29T11:18:27.131Z"
   },
   {
    "duration": 1161,
    "start_time": "2021-07-29T11:19:41.923Z"
   },
   {
    "duration": 1153,
    "start_time": "2021-07-29T11:20:57.609Z"
   },
   {
    "duration": 847,
    "start_time": "2021-07-29T11:21:02.660Z"
   },
   {
    "duration": 255,
    "start_time": "2021-07-29T11:21:03.510Z"
   },
   {
    "duration": 30,
    "start_time": "2021-07-29T11:21:03.768Z"
   },
   {
    "duration": 45,
    "start_time": "2021-07-29T11:21:03.801Z"
   },
   {
    "duration": 61,
    "start_time": "2021-07-29T11:21:03.848Z"
   },
   {
    "duration": 67,
    "start_time": "2021-07-29T11:21:03.911Z"
   },
   {
    "duration": 8,
    "start_time": "2021-07-29T11:21:03.982Z"
   },
   {
    "duration": 14,
    "start_time": "2021-07-29T11:21:03.996Z"
   },
   {
    "duration": 8,
    "start_time": "2021-07-29T11:21:04.013Z"
   },
   {
    "duration": 57,
    "start_time": "2021-07-29T11:21:04.024Z"
   },
   {
    "duration": 134,
    "start_time": "2021-07-29T11:21:04.084Z"
   },
   {
    "duration": 18,
    "start_time": "2021-07-29T11:21:04.221Z"
   },
   {
    "duration": 50,
    "start_time": "2021-07-29T11:21:04.242Z"
   },
   {
    "duration": 68,
    "start_time": "2021-07-29T11:21:04.295Z"
   },
   {
    "duration": 220,
    "start_time": "2021-07-29T11:21:04.368Z"
   },
   {
    "duration": 22,
    "start_time": "2021-07-29T11:21:04.591Z"
   },
   {
    "duration": 52,
    "start_time": "2021-07-29T11:21:04.615Z"
   },
   {
    "duration": 71,
    "start_time": "2021-07-29T11:21:04.672Z"
   },
   {
    "duration": 36,
    "start_time": "2021-07-29T11:21:04.746Z"
   },
   {
    "duration": 11,
    "start_time": "2021-07-29T11:21:04.785Z"
   },
   {
    "duration": 108,
    "start_time": "2021-07-29T11:21:04.799Z"
   },
   {
    "duration": 37,
    "start_time": "2021-07-29T11:21:04.910Z"
   },
   {
    "duration": 50,
    "start_time": "2021-07-29T11:21:04.961Z"
   },
   {
    "duration": 1791,
    "start_time": "2021-07-29T11:21:05.015Z"
   },
   {
    "duration": 836,
    "start_time": "2021-07-29T11:21:18.437Z"
   },
   {
    "duration": 236,
    "start_time": "2021-07-29T11:21:19.276Z"
   },
   {
    "duration": 26,
    "start_time": "2021-07-29T11:21:19.514Z"
   },
   {
    "duration": 49,
    "start_time": "2021-07-29T11:21:19.543Z"
   },
   {
    "duration": 42,
    "start_time": "2021-07-29T11:21:19.594Z"
   },
   {
    "duration": 53,
    "start_time": "2021-07-29T11:21:19.639Z"
   },
   {
    "duration": 9,
    "start_time": "2021-07-29T11:21:19.695Z"
   },
   {
    "duration": 18,
    "start_time": "2021-07-29T11:21:19.709Z"
   },
   {
    "duration": 39,
    "start_time": "2021-07-29T11:21:19.731Z"
   },
   {
    "duration": 34,
    "start_time": "2021-07-29T11:21:19.773Z"
   },
   {
    "duration": 188,
    "start_time": "2021-07-29T11:21:19.810Z"
   },
   {
    "duration": 28,
    "start_time": "2021-07-29T11:21:20.001Z"
   },
   {
    "duration": 46,
    "start_time": "2021-07-29T11:21:20.032Z"
   },
   {
    "duration": 42,
    "start_time": "2021-07-29T11:21:20.082Z"
   },
   {
    "duration": 287,
    "start_time": "2021-07-29T11:21:20.126Z"
   },
   {
    "duration": 52,
    "start_time": "2021-07-29T11:21:20.416Z"
   },
   {
    "duration": 24,
    "start_time": "2021-07-29T11:21:20.473Z"
   },
   {
    "duration": 68,
    "start_time": "2021-07-29T11:21:20.500Z"
   },
   {
    "duration": 26,
    "start_time": "2021-07-29T11:21:20.571Z"
   },
   {
    "duration": 11,
    "start_time": "2021-07-29T11:21:20.599Z"
   },
   {
    "duration": 102,
    "start_time": "2021-07-29T11:21:20.613Z"
   },
   {
    "duration": 27,
    "start_time": "2021-07-29T11:21:20.718Z"
   },
   {
    "duration": 58,
    "start_time": "2021-07-29T11:21:20.763Z"
   },
   {
    "duration": 1350,
    "start_time": "2021-07-29T11:21:20.825Z"
   },
   {
    "duration": 92,
    "start_time": "2021-07-29T11:25:00.165Z"
   },
   {
    "duration": 97,
    "start_time": "2021-07-29T11:25:07.901Z"
   },
   {
    "duration": 49,
    "start_time": "2021-07-29T11:25:48.463Z"
   },
   {
    "duration": 1241,
    "start_time": "2021-07-29T11:29:34.210Z"
   },
   {
    "duration": 1104,
    "start_time": "2021-07-29T11:29:35.454Z"
   },
   {
    "duration": 24,
    "start_time": "2021-07-29T11:29:36.562Z"
   },
   {
    "duration": 27,
    "start_time": "2021-07-29T11:29:36.589Z"
   },
   {
    "duration": 88,
    "start_time": "2021-07-29T11:29:36.619Z"
   },
   {
    "duration": 103,
    "start_time": "2021-07-29T11:29:36.710Z"
   },
   {
    "duration": 7,
    "start_time": "2021-07-29T11:29:36.816Z"
   },
   {
    "duration": 10,
    "start_time": "2021-07-29T11:29:36.827Z"
   },
   {
    "duration": 9,
    "start_time": "2021-07-29T11:29:36.840Z"
   },
   {
    "duration": 33,
    "start_time": "2021-07-29T11:29:36.851Z"
   },
   {
    "duration": 181,
    "start_time": "2021-07-29T11:29:36.887Z"
   },
   {
    "duration": 28,
    "start_time": "2021-07-29T11:29:37.076Z"
   },
   {
    "duration": 28,
    "start_time": "2021-07-29T11:29:37.107Z"
   },
   {
    "duration": 87,
    "start_time": "2021-07-29T11:29:37.138Z"
   },
   {
    "duration": 207,
    "start_time": "2021-07-29T11:29:37.228Z"
   },
   {
    "duration": 43,
    "start_time": "2021-07-29T11:29:37.438Z"
   },
   {
    "duration": 29,
    "start_time": "2021-07-29T11:29:37.483Z"
   },
   {
    "duration": 72,
    "start_time": "2021-07-29T11:29:37.515Z"
   },
   {
    "duration": 25,
    "start_time": "2021-07-29T11:29:37.590Z"
   },
   {
    "duration": 12,
    "start_time": "2021-07-29T11:29:37.617Z"
   },
   {
    "duration": 87,
    "start_time": "2021-07-29T11:29:37.631Z"
   },
   {
    "duration": 27,
    "start_time": "2021-07-29T11:29:37.721Z"
   },
   {
    "duration": 57,
    "start_time": "2021-07-29T11:29:37.752Z"
   },
   {
    "duration": 13,
    "start_time": "2021-07-29T11:29:53.690Z"
   },
   {
    "duration": 958,
    "start_time": "2021-07-29T11:30:36.661Z"
   },
   {
    "duration": 338,
    "start_time": "2021-07-29T11:30:37.623Z"
   },
   {
    "duration": 31,
    "start_time": "2021-07-29T11:30:37.965Z"
   },
   {
    "duration": 38,
    "start_time": "2021-07-29T11:30:37.998Z"
   },
   {
    "duration": 61,
    "start_time": "2021-07-29T11:30:38.038Z"
   },
   {
    "duration": 65,
    "start_time": "2021-07-29T11:30:38.102Z"
   },
   {
    "duration": 17,
    "start_time": "2021-07-29T11:30:38.169Z"
   },
   {
    "duration": 20,
    "start_time": "2021-07-29T11:30:38.190Z"
   },
   {
    "duration": 13,
    "start_time": "2021-07-29T11:30:38.213Z"
   },
   {
    "duration": 28,
    "start_time": "2021-07-29T11:30:38.229Z"
   },
   {
    "duration": 168,
    "start_time": "2021-07-29T11:30:38.259Z"
   },
   {
    "duration": 19,
    "start_time": "2021-07-29T11:30:38.429Z"
   },
   {
    "duration": 36,
    "start_time": "2021-07-29T11:30:38.450Z"
   },
   {
    "duration": 40,
    "start_time": "2021-07-29T11:30:38.489Z"
   },
   {
    "duration": 219,
    "start_time": "2021-07-29T11:30:38.531Z"
   },
   {
    "duration": 27,
    "start_time": "2021-07-29T11:30:38.753Z"
   },
   {
    "duration": 22,
    "start_time": "2021-07-29T11:30:38.783Z"
   },
   {
    "duration": 76,
    "start_time": "2021-07-29T11:30:38.807Z"
   },
   {
    "duration": 26,
    "start_time": "2021-07-29T11:30:38.886Z"
   },
   {
    "duration": 8,
    "start_time": "2021-07-29T11:30:38.915Z"
   },
   {
    "duration": 97,
    "start_time": "2021-07-29T11:30:38.926Z"
   },
   {
    "duration": 39,
    "start_time": "2021-07-29T11:30:39.026Z"
   },
   {
    "duration": 43,
    "start_time": "2021-07-29T11:30:39.070Z"
   },
   {
    "duration": 11,
    "start_time": "2021-07-29T11:30:39.116Z"
   },
   {
    "duration": 986,
    "start_time": "2021-07-29T11:32:33.170Z"
   },
   {
    "duration": 328,
    "start_time": "2021-07-29T11:32:34.160Z"
   },
   {
    "duration": 26,
    "start_time": "2021-07-29T11:32:34.491Z"
   },
   {
    "duration": 45,
    "start_time": "2021-07-29T11:32:34.520Z"
   },
   {
    "duration": 69,
    "start_time": "2021-07-29T11:32:34.568Z"
   },
   {
    "duration": 62,
    "start_time": "2021-07-29T11:32:34.640Z"
   },
   {
    "duration": 10,
    "start_time": "2021-07-29T11:32:34.705Z"
   },
   {
    "duration": 26,
    "start_time": "2021-07-29T11:32:34.717Z"
   },
   {
    "duration": 19,
    "start_time": "2021-07-29T11:32:34.748Z"
   },
   {
    "duration": 26,
    "start_time": "2021-07-29T11:32:34.770Z"
   },
   {
    "duration": 132,
    "start_time": "2021-07-29T11:32:34.798Z"
   },
   {
    "duration": 30,
    "start_time": "2021-07-29T11:32:34.933Z"
   },
   {
    "duration": 29,
    "start_time": "2021-07-29T11:32:34.971Z"
   },
   {
    "duration": 74,
    "start_time": "2021-07-29T11:32:35.003Z"
   },
   {
    "duration": 285,
    "start_time": "2021-07-29T11:32:35.080Z"
   },
   {
    "duration": 25,
    "start_time": "2021-07-29T11:32:35.367Z"
   },
   {
    "duration": 27,
    "start_time": "2021-07-29T11:32:35.395Z"
   },
   {
    "duration": 77,
    "start_time": "2021-07-29T11:32:35.426Z"
   },
   {
    "duration": 34,
    "start_time": "2021-07-29T11:32:35.507Z"
   },
   {
    "duration": 26,
    "start_time": "2021-07-29T11:32:35.544Z"
   },
   {
    "duration": 88,
    "start_time": "2021-07-29T11:32:35.572Z"
   },
   {
    "duration": 24,
    "start_time": "2021-07-29T11:32:35.670Z"
   },
   {
    "duration": 40,
    "start_time": "2021-07-29T11:32:35.697Z"
   },
   {
    "duration": 18,
    "start_time": "2021-07-29T11:32:41.632Z"
   },
   {
    "duration": 13,
    "start_time": "2021-07-29T11:32:50.661Z"
   },
   {
    "duration": 737,
    "start_time": "2021-07-29T11:34:21.726Z"
   },
   {
    "duration": 352,
    "start_time": "2021-07-29T11:34:22.466Z"
   },
   {
    "duration": 55,
    "start_time": "2021-07-29T11:34:22.822Z"
   },
   {
    "duration": 40,
    "start_time": "2021-07-29T11:34:22.880Z"
   },
   {
    "duration": 79,
    "start_time": "2021-07-29T11:34:22.923Z"
   },
   {
    "duration": 62,
    "start_time": "2021-07-29T11:34:23.006Z"
   },
   {
    "duration": 12,
    "start_time": "2021-07-29T11:34:23.071Z"
   },
   {
    "duration": 8,
    "start_time": "2021-07-29T11:34:23.086Z"
   },
   {
    "duration": 8,
    "start_time": "2021-07-29T11:34:23.099Z"
   },
   {
    "duration": 19,
    "start_time": "2021-07-29T11:34:23.110Z"
   },
   {
    "duration": 171,
    "start_time": "2021-07-29T11:34:23.132Z"
   },
   {
    "duration": 24,
    "start_time": "2021-07-29T11:34:23.306Z"
   },
   {
    "duration": 46,
    "start_time": "2021-07-29T11:34:23.333Z"
   },
   {
    "duration": 48,
    "start_time": "2021-07-29T11:34:23.383Z"
   },
   {
    "duration": 235,
    "start_time": "2021-07-29T11:34:23.434Z"
   },
   {
    "duration": 23,
    "start_time": "2021-07-29T11:34:23.671Z"
   },
   {
    "duration": 35,
    "start_time": "2021-07-29T11:34:23.697Z"
   },
   {
    "duration": 73,
    "start_time": "2021-07-29T11:34:23.735Z"
   },
   {
    "duration": 25,
    "start_time": "2021-07-29T11:34:23.811Z"
   },
   {
    "duration": 27,
    "start_time": "2021-07-29T11:34:23.838Z"
   },
   {
    "duration": 87,
    "start_time": "2021-07-29T11:34:23.869Z"
   },
   {
    "duration": 21,
    "start_time": "2021-07-29T11:34:23.959Z"
   },
   {
    "duration": 52,
    "start_time": "2021-07-29T11:34:23.984Z"
   },
   {
    "duration": 30,
    "start_time": "2021-07-29T11:34:24.038Z"
   },
   {
    "duration": 733,
    "start_time": "2021-07-29T11:35:47.303Z"
   },
   {
    "duration": 229,
    "start_time": "2021-07-29T11:35:48.038Z"
   },
   {
    "duration": 28,
    "start_time": "2021-07-29T11:35:48.271Z"
   },
   {
    "duration": 27,
    "start_time": "2021-07-29T11:35:48.302Z"
   },
   {
    "duration": 75,
    "start_time": "2021-07-29T11:35:48.332Z"
   },
   {
    "duration": 69,
    "start_time": "2021-07-29T11:35:48.410Z"
   },
   {
    "duration": 8,
    "start_time": "2021-07-29T11:35:48.481Z"
   },
   {
    "duration": 11,
    "start_time": "2021-07-29T11:35:48.494Z"
   },
   {
    "duration": 7,
    "start_time": "2021-07-29T11:35:48.508Z"
   },
   {
    "duration": 57,
    "start_time": "2021-07-29T11:35:48.518Z"
   },
   {
    "duration": 138,
    "start_time": "2021-07-29T11:35:48.578Z"
   },
   {
    "duration": 17,
    "start_time": "2021-07-29T11:35:48.719Z"
   },
   {
    "duration": 35,
    "start_time": "2021-07-29T11:35:48.739Z"
   },
   {
    "duration": 38,
    "start_time": "2021-07-29T11:35:48.777Z"
   },
   {
    "duration": 224,
    "start_time": "2021-07-29T11:35:48.817Z"
   },
   {
    "duration": 27,
    "start_time": "2021-07-29T11:35:49.043Z"
   },
   {
    "duration": 22,
    "start_time": "2021-07-29T11:35:49.073Z"
   },
   {
    "duration": 66,
    "start_time": "2021-07-29T11:35:49.098Z"
   },
   {
    "duration": 25,
    "start_time": "2021-07-29T11:35:49.166Z"
   },
   {
    "duration": 32,
    "start_time": "2021-07-29T11:35:49.194Z"
   },
   {
    "duration": 76,
    "start_time": "2021-07-29T11:35:49.228Z"
   },
   {
    "duration": 29,
    "start_time": "2021-07-29T11:35:49.307Z"
   },
   {
    "duration": 52,
    "start_time": "2021-07-29T11:35:49.340Z"
   },
   {
    "duration": 13,
    "start_time": "2021-07-29T11:35:49.394Z"
   },
   {
    "duration": 39,
    "start_time": "2021-07-29T11:36:49.671Z"
   },
   {
    "duration": 18,
    "start_time": "2021-07-29T11:37:49.969Z"
   },
   {
    "duration": 740,
    "start_time": "2021-07-29T11:38:38.799Z"
   },
   {
    "duration": 244,
    "start_time": "2021-07-29T11:38:39.542Z"
   },
   {
    "duration": 25,
    "start_time": "2021-07-29T11:38:39.790Z"
   },
   {
    "duration": 54,
    "start_time": "2021-07-29T11:38:39.819Z"
   },
   {
    "duration": 42,
    "start_time": "2021-07-29T11:38:39.876Z"
   },
   {
    "duration": 49,
    "start_time": "2021-07-29T11:38:39.921Z"
   },
   {
    "duration": 10,
    "start_time": "2021-07-29T11:38:39.973Z"
   },
   {
    "duration": 10,
    "start_time": "2021-07-29T11:38:39.985Z"
   },
   {
    "duration": 8,
    "start_time": "2021-07-29T11:38:39.999Z"
   },
   {
    "duration": 59,
    "start_time": "2021-07-29T11:38:40.010Z"
   },
   {
    "duration": 136,
    "start_time": "2021-07-29T11:38:40.072Z"
   },
   {
    "duration": 18,
    "start_time": "2021-07-29T11:38:40.210Z"
   },
   {
    "duration": 36,
    "start_time": "2021-07-29T11:38:40.230Z"
   },
   {
    "duration": 36,
    "start_time": "2021-07-29T11:38:40.268Z"
   },
   {
    "duration": 209,
    "start_time": "2021-07-29T11:38:40.307Z"
   },
   {
    "duration": 21,
    "start_time": "2021-07-29T11:38:40.518Z"
   },
   {
    "duration": 45,
    "start_time": "2021-07-29T11:38:40.541Z"
   },
   {
    "duration": 44,
    "start_time": "2021-07-29T11:38:40.589Z"
   },
   {
    "duration": 46,
    "start_time": "2021-07-29T11:38:40.635Z"
   },
   {
    "duration": 9,
    "start_time": "2021-07-29T11:38:40.683Z"
   },
   {
    "duration": 100,
    "start_time": "2021-07-29T11:38:40.694Z"
   },
   {
    "duration": 29,
    "start_time": "2021-07-29T11:38:40.797Z"
   },
   {
    "duration": 61,
    "start_time": "2021-07-29T11:38:40.828Z"
   },
   {
    "duration": 12,
    "start_time": "2021-07-29T11:38:40.891Z"
   },
   {
    "duration": 61,
    "start_time": "2021-07-29T11:38:40.905Z"
   },
   {
    "duration": 16,
    "start_time": "2021-07-29T11:38:40.968Z"
   },
   {
    "duration": 32,
    "start_time": "2021-07-29T11:39:23.235Z"
   },
   {
    "duration": 938,
    "start_time": "2021-07-29T11:40:37.815Z"
   },
   {
    "duration": 226,
    "start_time": "2021-07-29T11:40:38.755Z"
   },
   {
    "duration": 28,
    "start_time": "2021-07-29T11:40:38.984Z"
   },
   {
    "duration": 54,
    "start_time": "2021-07-29T11:40:39.014Z"
   },
   {
    "duration": 41,
    "start_time": "2021-07-29T11:40:39.070Z"
   },
   {
    "duration": 39,
    "start_time": "2021-07-29T11:40:39.113Z"
   },
   {
    "duration": 7,
    "start_time": "2021-07-29T11:40:39.155Z"
   },
   {
    "duration": 22,
    "start_time": "2021-07-29T11:40:39.166Z"
   },
   {
    "duration": 10,
    "start_time": "2021-07-29T11:40:39.191Z"
   },
   {
    "duration": 19,
    "start_time": "2021-07-29T11:40:39.203Z"
   },
   {
    "duration": 137,
    "start_time": "2021-07-29T11:40:39.224Z"
   },
   {
    "duration": 19,
    "start_time": "2021-07-29T11:40:39.363Z"
   },
   {
    "duration": 20,
    "start_time": "2021-07-29T11:40:39.384Z"
   },
   {
    "duration": 64,
    "start_time": "2021-07-29T11:40:39.406Z"
   },
   {
    "duration": 280,
    "start_time": "2021-07-29T11:40:39.475Z"
   },
   {
    "duration": 34,
    "start_time": "2021-07-29T11:40:39.763Z"
   },
   {
    "duration": 37,
    "start_time": "2021-07-29T11:40:39.800Z"
   },
   {
    "duration": 66,
    "start_time": "2021-07-29T11:40:39.839Z"
   },
   {
    "duration": 28,
    "start_time": "2021-07-29T11:40:39.908Z"
   },
   {
    "duration": 26,
    "start_time": "2021-07-29T11:40:39.939Z"
   },
   {
    "duration": 112,
    "start_time": "2021-07-29T11:40:39.970Z"
   },
   {
    "duration": 31,
    "start_time": "2021-07-29T11:40:40.086Z"
   },
   {
    "duration": 76,
    "start_time": "2021-07-29T11:40:40.123Z"
   },
   {
    "duration": 66,
    "start_time": "2021-07-29T11:40:40.202Z"
   },
   {
    "duration": 33,
    "start_time": "2021-07-29T11:40:40.271Z"
   },
   {
    "duration": 28,
    "start_time": "2021-07-29T11:53:53.397Z"
   },
   {
    "duration": 370,
    "start_time": "2021-07-29T11:54:07.296Z"
   },
   {
    "duration": 28,
    "start_time": "2021-07-29T11:54:36.586Z"
   },
   {
    "duration": 28,
    "start_time": "2021-07-29T11:58:58.712Z"
   },
   {
    "duration": 296,
    "start_time": "2021-07-29T12:08:10.857Z"
   },
   {
    "duration": 728,
    "start_time": "2021-07-29T12:08:22.799Z"
   },
   {
    "duration": 244,
    "start_time": "2021-07-29T12:08:23.529Z"
   },
   {
    "duration": 27,
    "start_time": "2021-07-29T12:08:23.777Z"
   },
   {
    "duration": 27,
    "start_time": "2021-07-29T12:08:23.807Z"
   },
   {
    "duration": 73,
    "start_time": "2021-07-29T12:08:23.836Z"
   },
   {
    "duration": 68,
    "start_time": "2021-07-29T12:08:23.912Z"
   },
   {
    "duration": 12,
    "start_time": "2021-07-29T12:08:23.982Z"
   },
   {
    "duration": 29,
    "start_time": "2021-07-29T12:08:23.998Z"
   },
   {
    "duration": 5,
    "start_time": "2021-07-29T12:08:24.030Z"
   },
   {
    "duration": 30,
    "start_time": "2021-07-29T12:08:24.037Z"
   },
   {
    "duration": 132,
    "start_time": "2021-07-29T12:08:24.070Z"
   },
   {
    "duration": 18,
    "start_time": "2021-07-29T12:08:24.204Z"
   },
   {
    "duration": 19,
    "start_time": "2021-07-29T12:08:24.224Z"
   },
   {
    "duration": 48,
    "start_time": "2021-07-29T12:08:24.246Z"
   },
   {
    "duration": 214,
    "start_time": "2021-07-29T12:08:24.296Z"
   },
   {
    "duration": 23,
    "start_time": "2021-07-29T12:08:24.512Z"
   },
   {
    "duration": 53,
    "start_time": "2021-07-29T12:08:24.537Z"
   },
   {
    "duration": 51,
    "start_time": "2021-07-29T12:08:24.593Z"
   },
   {
    "duration": 37,
    "start_time": "2021-07-29T12:08:24.647Z"
   },
   {
    "duration": 11,
    "start_time": "2021-07-29T12:08:24.687Z"
   },
   {
    "duration": 90,
    "start_time": "2021-07-29T12:08:24.700Z"
   },
   {
    "duration": 32,
    "start_time": "2021-07-29T12:08:24.793Z"
   },
   {
    "duration": 64,
    "start_time": "2021-07-29T12:08:24.830Z"
   },
   {
    "duration": 37,
    "start_time": "2021-07-29T12:08:24.898Z"
   },
   {
    "duration": 60,
    "start_time": "2021-07-29T12:08:24.938Z"
   },
   {
    "duration": 391,
    "start_time": "2021-07-29T12:08:25.000Z"
   },
   {
    "duration": 1056,
    "start_time": "2021-07-29T12:08:35.553Z"
   },
   {
    "duration": 30,
    "start_time": "2021-07-29T12:08:43.679Z"
   },
   {
    "duration": 6,
    "start_time": "2021-07-29T12:13:18.188Z"
   },
   {
    "duration": 284,
    "start_time": "2021-07-29T12:14:19.664Z"
   },
   {
    "duration": 768,
    "start_time": "2021-07-29T12:14:36.557Z"
   },
   {
    "duration": 255,
    "start_time": "2021-07-29T12:14:37.327Z"
   },
   {
    "duration": 33,
    "start_time": "2021-07-29T12:14:37.585Z"
   },
   {
    "duration": 55,
    "start_time": "2021-07-29T12:14:37.622Z"
   },
   {
    "duration": 67,
    "start_time": "2021-07-29T12:14:37.680Z"
   },
   {
    "duration": 61,
    "start_time": "2021-07-29T12:14:37.750Z"
   },
   {
    "duration": 9,
    "start_time": "2021-07-29T12:14:37.813Z"
   },
   {
    "duration": 16,
    "start_time": "2021-07-29T12:14:37.826Z"
   },
   {
    "duration": 29,
    "start_time": "2021-07-29T12:14:37.845Z"
   },
   {
    "duration": 21,
    "start_time": "2021-07-29T12:14:37.877Z"
   },
   {
    "duration": 141,
    "start_time": "2021-07-29T12:14:37.901Z"
   },
   {
    "duration": 32,
    "start_time": "2021-07-29T12:14:38.045Z"
   },
   {
    "duration": 36,
    "start_time": "2021-07-29T12:14:38.079Z"
   },
   {
    "duration": 45,
    "start_time": "2021-07-29T12:14:38.118Z"
   },
   {
    "duration": 201,
    "start_time": "2021-07-29T12:14:38.170Z"
   },
   {
    "duration": 22,
    "start_time": "2021-07-29T12:14:38.373Z"
   },
   {
    "duration": 24,
    "start_time": "2021-07-29T12:14:38.398Z"
   },
   {
    "duration": 75,
    "start_time": "2021-07-29T12:14:38.424Z"
   },
   {
    "duration": 24,
    "start_time": "2021-07-29T12:14:38.501Z"
   },
   {
    "duration": 15,
    "start_time": "2021-07-29T12:14:38.528Z"
   },
   {
    "duration": 87,
    "start_time": "2021-07-29T12:14:38.545Z"
   },
   {
    "duration": 41,
    "start_time": "2021-07-29T12:14:38.634Z"
   },
   {
    "duration": 39,
    "start_time": "2021-07-29T12:14:38.680Z"
   },
   {
    "duration": 58,
    "start_time": "2021-07-29T12:14:38.722Z"
   },
   {
    "duration": 30,
    "start_time": "2021-07-29T12:14:38.783Z"
   },
   {
    "duration": 375,
    "start_time": "2021-07-29T12:14:38.816Z"
   },
   {
    "duration": -69,
    "start_time": "2021-07-29T12:14:39.262Z"
   },
   {
    "duration": 803,
    "start_time": "2021-07-29T12:16:48.039Z"
   },
   {
    "duration": 300,
    "start_time": "2021-07-29T12:16:48.845Z"
   },
   {
    "duration": 43,
    "start_time": "2021-07-29T12:16:49.149Z"
   },
   {
    "duration": 26,
    "start_time": "2021-07-29T12:16:49.196Z"
   },
   {
    "duration": 73,
    "start_time": "2021-07-29T12:16:49.225Z"
   },
   {
    "duration": 85,
    "start_time": "2021-07-29T12:16:49.300Z"
   },
   {
    "duration": 7,
    "start_time": "2021-07-29T12:16:49.387Z"
   },
   {
    "duration": 9,
    "start_time": "2021-07-29T12:16:49.398Z"
   },
   {
    "duration": 6,
    "start_time": "2021-07-29T12:16:49.410Z"
   },
   {
    "duration": 57,
    "start_time": "2021-07-29T12:16:49.419Z"
   },
   {
    "duration": 133,
    "start_time": "2021-07-29T12:16:49.478Z"
   },
   {
    "duration": 18,
    "start_time": "2021-07-29T12:16:49.613Z"
   },
   {
    "duration": 40,
    "start_time": "2021-07-29T12:16:49.633Z"
   },
   {
    "duration": 55,
    "start_time": "2021-07-29T12:16:49.677Z"
   },
   {
    "duration": 270,
    "start_time": "2021-07-29T12:16:49.735Z"
   },
   {
    "duration": 23,
    "start_time": "2021-07-29T12:16:50.008Z"
   },
   {
    "duration": 45,
    "start_time": "2021-07-29T12:16:50.033Z"
   },
   {
    "duration": 91,
    "start_time": "2021-07-29T12:16:50.081Z"
   },
   {
    "duration": 24,
    "start_time": "2021-07-29T12:16:50.175Z"
   },
   {
    "duration": 10,
    "start_time": "2021-07-29T12:16:50.202Z"
   },
   {
    "duration": 84,
    "start_time": "2021-07-29T12:16:50.214Z"
   },
   {
    "duration": 27,
    "start_time": "2021-07-29T12:16:50.301Z"
   },
   {
    "duration": 59,
    "start_time": "2021-07-29T12:16:50.332Z"
   },
   {
    "duration": 34,
    "start_time": "2021-07-29T12:16:50.393Z"
   },
   {
    "duration": 56,
    "start_time": "2021-07-29T12:16:50.430Z"
   },
   {
    "duration": 31,
    "start_time": "2021-07-29T12:16:50.488Z"
   },
   {
    "duration": 379,
    "start_time": "2021-07-29T12:19:38.502Z"
   },
   {
    "duration": 231,
    "start_time": "2021-07-29T12:21:34.626Z"
   },
   {
    "duration": 223,
    "start_time": "2021-07-29T12:21:48.342Z"
   },
   {
    "duration": 30,
    "start_time": "2021-07-29T12:22:34.490Z"
   },
   {
    "duration": 744,
    "start_time": "2021-07-29T12:23:52.578Z"
   },
   {
    "duration": 258,
    "start_time": "2021-07-29T12:23:53.325Z"
   },
   {
    "duration": 29,
    "start_time": "2021-07-29T12:23:53.587Z"
   },
   {
    "duration": 59,
    "start_time": "2021-07-29T12:23:53.620Z"
   },
   {
    "duration": 42,
    "start_time": "2021-07-29T12:23:53.681Z"
   },
   {
    "duration": 61,
    "start_time": "2021-07-29T12:23:53.726Z"
   },
   {
    "duration": 23,
    "start_time": "2021-07-29T12:23:53.791Z"
   },
   {
    "duration": 10,
    "start_time": "2021-07-29T12:23:53.817Z"
   },
   {
    "duration": 14,
    "start_time": "2021-07-29T12:23:53.831Z"
   },
   {
    "duration": 9,
    "start_time": "2021-07-29T12:23:53.863Z"
   },
   {
    "duration": 17,
    "start_time": "2021-07-29T12:23:53.874Z"
   },
   {
    "duration": 149,
    "start_time": "2021-07-29T12:23:53.894Z"
   },
   {
    "duration": 33,
    "start_time": "2021-07-29T12:23:54.045Z"
   },
   {
    "duration": 34,
    "start_time": "2021-07-29T12:23:54.080Z"
   },
   {
    "duration": 62,
    "start_time": "2021-07-29T12:23:54.117Z"
   },
   {
    "duration": 213,
    "start_time": "2021-07-29T12:23:54.181Z"
   },
   {
    "duration": 23,
    "start_time": "2021-07-29T12:23:54.397Z"
   },
   {
    "duration": 50,
    "start_time": "2021-07-29T12:23:54.423Z"
   },
   {
    "duration": 43,
    "start_time": "2021-07-29T12:23:54.476Z"
   },
   {
    "duration": 24,
    "start_time": "2021-07-29T12:23:54.521Z"
   },
   {
    "duration": 12,
    "start_time": "2021-07-29T12:23:54.564Z"
   },
   {
    "duration": 88,
    "start_time": "2021-07-29T12:23:54.579Z"
   },
   {
    "duration": 29,
    "start_time": "2021-07-29T12:23:54.670Z"
   },
   {
    "duration": 40,
    "start_time": "2021-07-29T12:23:54.701Z"
   },
   {
    "duration": 58,
    "start_time": "2021-07-29T12:23:54.743Z"
   },
   {
    "duration": 30,
    "start_time": "2021-07-29T12:23:54.803Z"
   },
   {
    "duration": 36,
    "start_time": "2021-07-29T12:23:54.862Z"
   },
   {
    "duration": 25,
    "start_time": "2021-07-29T12:29:10.109Z"
   },
   {
    "duration": 374,
    "start_time": "2021-07-29T12:30:01.658Z"
   },
   {
    "duration": 6,
    "start_time": "2021-07-29T12:30:24.393Z"
   },
   {
    "duration": 16,
    "start_time": "2021-07-29T12:32:28.363Z"
   },
   {
    "duration": 305,
    "start_time": "2021-07-29T12:33:04.542Z"
   },
   {
    "duration": 537,
    "start_time": "2021-07-30T05:56:34.130Z"
   },
   {
    "duration": 165,
    "start_time": "2021-07-30T05:56:34.669Z"
   },
   {
    "duration": 19,
    "start_time": "2021-07-30T05:56:34.837Z"
   },
   {
    "duration": 37,
    "start_time": "2021-07-30T05:56:34.857Z"
   },
   {
    "duration": 30,
    "start_time": "2021-07-30T05:56:34.896Z"
   },
   {
    "duration": 49,
    "start_time": "2021-07-30T05:56:34.927Z"
   },
   {
    "duration": 6,
    "start_time": "2021-07-30T05:56:34.978Z"
   },
   {
    "duration": 7,
    "start_time": "2021-07-30T05:56:34.988Z"
   },
   {
    "duration": 3,
    "start_time": "2021-07-30T05:56:34.999Z"
   },
   {
    "duration": 16,
    "start_time": "2021-07-30T05:56:35.004Z"
   },
   {
    "duration": 97,
    "start_time": "2021-07-30T05:56:35.022Z"
   },
   {
    "duration": 13,
    "start_time": "2021-07-30T05:56:35.121Z"
   },
   {
    "duration": 14,
    "start_time": "2021-07-30T05:56:35.135Z"
   },
   {
    "duration": 49,
    "start_time": "2021-07-30T05:56:35.151Z"
   },
   {
    "duration": 133,
    "start_time": "2021-07-30T05:56:35.202Z"
   },
   {
    "duration": 14,
    "start_time": "2021-07-30T05:56:35.337Z"
   },
   {
    "duration": 15,
    "start_time": "2021-07-30T05:56:35.353Z"
   },
   {
    "duration": 44,
    "start_time": "2021-07-30T05:56:35.370Z"
   },
   {
    "duration": 21,
    "start_time": "2021-07-30T05:56:35.415Z"
   },
   {
    "duration": 7,
    "start_time": "2021-07-30T05:56:35.437Z"
   },
   {
    "duration": 59,
    "start_time": "2021-07-30T05:56:35.446Z"
   },
   {
    "duration": 18,
    "start_time": "2021-07-30T05:56:35.507Z"
   },
   {
    "duration": 26,
    "start_time": "2021-07-30T05:56:35.527Z"
   },
   {
    "duration": 40,
    "start_time": "2021-07-30T05:56:35.555Z"
   },
   {
    "duration": 22,
    "start_time": "2021-07-30T05:56:35.597Z"
   },
   {
    "duration": 20,
    "start_time": "2021-07-30T05:56:35.621Z"
   },
   {
    "duration": 14,
    "start_time": "2021-07-30T05:56:35.642Z"
   },
   {
    "duration": 248,
    "start_time": "2021-07-30T05:57:03.961Z"
   },
   {
    "duration": 24,
    "start_time": "2021-07-30T05:57:20.606Z"
   },
   {
    "duration": 33,
    "start_time": "2021-07-30T05:57:48.578Z"
   },
   {
    "duration": 17,
    "start_time": "2021-07-30T05:58:19.163Z"
   },
   {
    "duration": 60,
    "start_time": "2021-07-30T05:59:49.402Z"
   },
   {
    "duration": 190,
    "start_time": "2021-07-30T06:00:52.813Z"
   },
   {
    "duration": 205,
    "start_time": "2021-07-30T06:01:02.677Z"
   },
   {
    "duration": 42,
    "start_time": "2021-07-30T06:01:07.067Z"
   },
   {
    "duration": 65,
    "start_time": "2021-07-30T06:01:13.995Z"
   },
   {
    "duration": 18,
    "start_time": "2021-07-30T06:03:14.611Z"
   },
   {
    "duration": 593,
    "start_time": "2021-07-30T07:52:38.989Z"
   },
   {
    "duration": 163,
    "start_time": "2021-07-30T07:52:39.585Z"
   },
   {
    "duration": 21,
    "start_time": "2021-07-30T07:52:39.751Z"
   },
   {
    "duration": 22,
    "start_time": "2021-07-30T07:52:39.785Z"
   },
   {
    "duration": 36,
    "start_time": "2021-07-30T07:52:39.809Z"
   },
   {
    "duration": 49,
    "start_time": "2021-07-30T07:52:39.847Z"
   },
   {
    "duration": 6,
    "start_time": "2021-07-30T07:52:39.898Z"
   },
   {
    "duration": 6,
    "start_time": "2021-07-30T07:52:39.907Z"
   },
   {
    "duration": 5,
    "start_time": "2021-07-30T07:52:39.916Z"
   },
   {
    "duration": 12,
    "start_time": "2021-07-30T07:52:39.923Z"
   },
   {
    "duration": 119,
    "start_time": "2021-07-30T07:52:39.938Z"
   },
   {
    "duration": 13,
    "start_time": "2021-07-30T07:52:40.059Z"
   },
   {
    "duration": 22,
    "start_time": "2021-07-30T07:52:40.074Z"
   },
   {
    "duration": 30,
    "start_time": "2021-07-30T07:52:40.098Z"
   },
   {
    "duration": 137,
    "start_time": "2021-07-30T07:52:40.130Z"
   },
   {
    "duration": 25,
    "start_time": "2021-07-30T07:52:40.269Z"
   },
   {
    "duration": 31,
    "start_time": "2021-07-30T07:52:40.296Z"
   },
   {
    "duration": 31,
    "start_time": "2021-07-30T07:52:40.328Z"
   },
   {
    "duration": 22,
    "start_time": "2021-07-30T07:52:40.361Z"
   },
   {
    "duration": 27,
    "start_time": "2021-07-30T07:52:40.385Z"
   },
   {
    "duration": 58,
    "start_time": "2021-07-30T07:52:40.414Z"
   },
   {
    "duration": 23,
    "start_time": "2021-07-30T07:52:40.474Z"
   },
   {
    "duration": 37,
    "start_time": "2021-07-30T07:52:40.500Z"
   },
   {
    "duration": 22,
    "start_time": "2021-07-30T07:52:40.539Z"
   },
   {
    "duration": 31,
    "start_time": "2021-07-30T07:52:40.562Z"
   },
   {
    "duration": 20,
    "start_time": "2021-07-30T07:52:40.595Z"
   },
   {
    "duration": 44,
    "start_time": "2021-07-30T07:52:40.616Z"
   },
   {
    "duration": 234,
    "start_time": "2021-07-30T07:52:40.662Z"
   },
   {
    "duration": 182,
    "start_time": "2021-07-30T07:53:27.668Z"
   },
   {
    "duration": 62,
    "start_time": "2021-07-30T07:53:34.706Z"
   },
   {
    "duration": 189,
    "start_time": "2021-07-30T07:54:45.860Z"
   },
   {
    "duration": 18,
    "start_time": "2021-07-30T07:54:54.152Z"
   },
   {
    "duration": 19,
    "start_time": "2021-07-30T07:55:07.699Z"
   },
   {
    "duration": 42,
    "start_time": "2021-07-30T07:55:13.776Z"
   },
   {
    "duration": 68,
    "start_time": "2021-07-30T07:55:14.537Z"
   },
   {
    "duration": 744,
    "start_time": "2021-07-30T07:55:48.007Z"
   },
   {
    "duration": 24,
    "start_time": "2021-07-30T07:56:28.839Z"
   },
   {
    "duration": 25,
    "start_time": "2021-07-30T07:56:42.002Z"
   },
   {
    "duration": 41,
    "start_time": "2021-07-30T07:56:58.845Z"
   },
   {
    "duration": 181,
    "start_time": "2021-07-30T07:57:00.241Z"
   },
   {
    "duration": 67,
    "start_time": "2021-07-30T07:57:14.004Z"
   },
   {
    "duration": 546,
    "start_time": "2021-07-30T08:01:34.082Z"
   },
   {
    "duration": 158,
    "start_time": "2021-07-30T08:01:34.630Z"
   },
   {
    "duration": 19,
    "start_time": "2021-07-30T08:01:34.790Z"
   },
   {
    "duration": 20,
    "start_time": "2021-07-30T08:01:34.810Z"
   },
   {
    "duration": 28,
    "start_time": "2021-07-30T08:01:34.832Z"
   },
   {
    "duration": 47,
    "start_time": "2021-07-30T08:01:34.885Z"
   },
   {
    "duration": 5,
    "start_time": "2021-07-30T08:01:34.933Z"
   },
   {
    "duration": 6,
    "start_time": "2021-07-30T08:01:34.940Z"
   },
   {
    "duration": 4,
    "start_time": "2021-07-30T08:01:34.948Z"
   },
   {
    "duration": 10,
    "start_time": "2021-07-30T08:01:34.954Z"
   },
   {
    "duration": 98,
    "start_time": "2021-07-30T08:01:34.966Z"
   },
   {
    "duration": 19,
    "start_time": "2021-07-30T08:01:35.066Z"
   },
   {
    "duration": 13,
    "start_time": "2021-07-30T08:01:35.086Z"
   },
   {
    "duration": 32,
    "start_time": "2021-07-30T08:01:35.101Z"
   },
   {
    "duration": 141,
    "start_time": "2021-07-30T08:01:35.134Z"
   },
   {
    "duration": 20,
    "start_time": "2021-07-30T08:01:35.277Z"
   },
   {
    "duration": 18,
    "start_time": "2021-07-30T08:01:35.298Z"
   },
   {
    "duration": 28,
    "start_time": "2021-07-30T08:01:35.317Z"
   },
   {
    "duration": 20,
    "start_time": "2021-07-30T08:01:35.347Z"
   },
   {
    "duration": 19,
    "start_time": "2021-07-30T08:01:35.368Z"
   },
   {
    "duration": 59,
    "start_time": "2021-07-30T08:01:35.388Z"
   },
   {
    "duration": 21,
    "start_time": "2021-07-30T08:01:35.449Z"
   },
   {
    "duration": 34,
    "start_time": "2021-07-30T08:01:35.473Z"
   },
   {
    "duration": 22,
    "start_time": "2021-07-30T08:01:35.508Z"
   },
   {
    "duration": 19,
    "start_time": "2021-07-30T08:01:35.531Z"
   },
   {
    "duration": 48,
    "start_time": "2021-07-30T08:01:35.552Z"
   },
   {
    "duration": 44,
    "start_time": "2021-07-30T08:01:35.601Z"
   },
   {
    "duration": 74,
    "start_time": "2021-07-30T08:01:35.646Z"
   },
   {
    "duration": 56,
    "start_time": "2021-07-30T08:05:35.469Z"
   },
   {
    "duration": 25,
    "start_time": "2021-07-30T08:08:12.087Z"
   },
   {
    "duration": 252,
    "start_time": "2021-07-30T08:08:55.997Z"
   },
   {
    "duration": 33,
    "start_time": "2021-07-30T08:09:05.030Z"
   },
   {
    "duration": 29,
    "start_time": "2021-07-30T08:09:27.600Z"
   },
   {
    "duration": 19,
    "start_time": "2021-07-30T08:09:33.910Z"
   },
   {
    "duration": 4375,
    "start_time": "2021-07-30T08:11:12.562Z"
   },
   {
    "duration": 66,
    "start_time": "2021-07-30T08:11:42.883Z"
   },
   {
    "duration": 22,
    "start_time": "2021-07-30T08:11:50.100Z"
   },
   {
    "duration": 36,
    "start_time": "2021-07-30T08:12:12.362Z"
   },
   {
    "duration": 9,
    "start_time": "2021-07-30T08:13:16.392Z"
   },
   {
    "duration": 179,
    "start_time": "2021-07-30T08:13:28.885Z"
   },
   {
    "duration": 568,
    "start_time": "2021-07-30T08:13:38.680Z"
   },
   {
    "duration": 174,
    "start_time": "2021-07-30T08:13:39.250Z"
   },
   {
    "duration": 18,
    "start_time": "2021-07-30T08:13:39.426Z"
   },
   {
    "duration": 46,
    "start_time": "2021-07-30T08:13:39.446Z"
   },
   {
    "duration": 44,
    "start_time": "2021-07-30T08:13:39.494Z"
   },
   {
    "duration": 37,
    "start_time": "2021-07-30T08:13:39.540Z"
   },
   {
    "duration": 5,
    "start_time": "2021-07-30T08:13:39.579Z"
   },
   {
    "duration": 30,
    "start_time": "2021-07-30T08:13:39.587Z"
   },
   {
    "duration": 28,
    "start_time": "2021-07-30T08:13:39.619Z"
   },
   {
    "duration": 11,
    "start_time": "2021-07-30T08:13:39.649Z"
   },
   {
    "duration": 103,
    "start_time": "2021-07-30T08:13:39.662Z"
   },
   {
    "duration": 24,
    "start_time": "2021-07-30T08:13:39.766Z"
   },
   {
    "duration": 26,
    "start_time": "2021-07-30T08:13:39.792Z"
   },
   {
    "duration": 25,
    "start_time": "2021-07-30T08:13:39.819Z"
   },
   {
    "duration": 159,
    "start_time": "2021-07-30T08:13:39.846Z"
   },
   {
    "duration": 17,
    "start_time": "2021-07-30T08:13:40.007Z"
   },
   {
    "duration": 17,
    "start_time": "2021-07-30T08:13:40.025Z"
   },
   {
    "duration": 58,
    "start_time": "2021-07-30T08:13:40.044Z"
   },
   {
    "duration": 22,
    "start_time": "2021-07-30T08:13:40.104Z"
   },
   {
    "duration": 7,
    "start_time": "2021-07-30T08:13:40.128Z"
   },
   {
    "duration": 59,
    "start_time": "2021-07-30T08:13:40.137Z"
   },
   {
    "duration": 22,
    "start_time": "2021-07-30T08:13:40.198Z"
   },
   {
    "duration": 25,
    "start_time": "2021-07-30T08:13:40.223Z"
   },
   {
    "duration": 45,
    "start_time": "2021-07-30T08:13:40.250Z"
   },
   {
    "duration": 22,
    "start_time": "2021-07-30T08:13:40.299Z"
   },
   {
    "duration": 33,
    "start_time": "2021-07-30T08:13:40.322Z"
   },
   {
    "duration": 237,
    "start_time": "2021-07-30T08:13:40.357Z"
   },
   {
    "duration": 18,
    "start_time": "2021-07-30T08:13:47.105Z"
   },
   {
    "duration": 28,
    "start_time": "2021-07-30T08:17:24.678Z"
   },
   {
    "duration": 20,
    "start_time": "2021-07-30T08:17:47.625Z"
   },
   {
    "duration": 19,
    "start_time": "2021-07-30T08:24:31.705Z"
   },
   {
    "duration": 196,
    "start_time": "2021-07-30T08:36:22.874Z"
   },
   {
    "duration": 583,
    "start_time": "2021-07-30T08:36:28.870Z"
   },
   {
    "duration": 168,
    "start_time": "2021-07-30T08:36:29.455Z"
   },
   {
    "duration": 19,
    "start_time": "2021-07-30T08:36:29.625Z"
   },
   {
    "duration": 19,
    "start_time": "2021-07-30T08:36:29.646Z"
   },
   {
    "duration": 44,
    "start_time": "2021-07-30T08:36:29.667Z"
   },
   {
    "duration": 48,
    "start_time": "2021-07-30T08:36:29.713Z"
   },
   {
    "duration": 4,
    "start_time": "2021-07-30T08:36:29.763Z"
   },
   {
    "duration": 7,
    "start_time": "2021-07-30T08:36:29.770Z"
   },
   {
    "duration": 4,
    "start_time": "2021-07-30T08:36:29.779Z"
   },
   {
    "duration": 10,
    "start_time": "2021-07-30T08:36:29.785Z"
   },
   {
    "duration": 108,
    "start_time": "2021-07-30T08:36:29.797Z"
   },
   {
    "duration": 13,
    "start_time": "2021-07-30T08:36:29.907Z"
   },
   {
    "duration": 14,
    "start_time": "2021-07-30T08:36:29.921Z"
   },
   {
    "duration": 26,
    "start_time": "2021-07-30T08:36:29.936Z"
   },
   {
    "duration": 165,
    "start_time": "2021-07-30T08:36:29.964Z"
   },
   {
    "duration": 16,
    "start_time": "2021-07-30T08:36:30.131Z"
   },
   {
    "duration": 36,
    "start_time": "2021-07-30T08:36:30.149Z"
   },
   {
    "duration": 30,
    "start_time": "2021-07-30T08:36:30.187Z"
   },
   {
    "duration": 22,
    "start_time": "2021-07-30T08:36:30.219Z"
   },
   {
    "duration": 6,
    "start_time": "2021-07-30T08:36:30.243Z"
   },
   {
    "duration": 67,
    "start_time": "2021-07-30T08:36:30.251Z"
   },
   {
    "duration": 23,
    "start_time": "2021-07-30T08:36:30.320Z"
   },
   {
    "duration": 40,
    "start_time": "2021-07-30T08:36:30.345Z"
   },
   {
    "duration": 24,
    "start_time": "2021-07-30T08:36:30.387Z"
   },
   {
    "duration": 21,
    "start_time": "2021-07-30T08:36:30.412Z"
   },
   {
    "duration": 54,
    "start_time": "2021-07-30T08:36:30.434Z"
   },
   {
    "duration": 19,
    "start_time": "2021-07-30T08:36:30.490Z"
   },
   {
    "duration": 267,
    "start_time": "2021-07-30T08:36:30.510Z"
   },
   {
    "duration": 180,
    "start_time": "2021-07-30T08:39:07.928Z"
   },
   {
    "duration": 20,
    "start_time": "2021-07-30T08:53:19.231Z"
   },
   {
    "duration": 20,
    "start_time": "2021-07-30T08:53:32.569Z"
   },
   {
    "duration": 18,
    "start_time": "2021-07-30T08:53:41.825Z"
   },
   {
    "duration": 198,
    "start_time": "2021-07-30T08:57:28.616Z"
   },
   {
    "duration": 174,
    "start_time": "2021-07-30T08:57:39.831Z"
   },
   {
    "duration": 420,
    "start_time": "2021-07-30T08:57:54.517Z"
   },
   {
    "duration": 17,
    "start_time": "2021-07-30T08:58:07.209Z"
   },
   {
    "duration": 10,
    "start_time": "2021-07-30T09:03:47.404Z"
   },
   {
    "duration": 185,
    "start_time": "2021-07-30T09:04:06.734Z"
   },
   {
    "duration": 542,
    "start_time": "2021-07-30T09:04:14.018Z"
   },
   {
    "duration": 163,
    "start_time": "2021-07-30T09:04:14.562Z"
   },
   {
    "duration": 20,
    "start_time": "2021-07-30T09:04:14.727Z"
   },
   {
    "duration": 36,
    "start_time": "2021-07-30T09:04:14.749Z"
   },
   {
    "duration": 29,
    "start_time": "2021-07-30T09:04:14.786Z"
   },
   {
    "duration": 49,
    "start_time": "2021-07-30T09:04:14.817Z"
   },
   {
    "duration": 6,
    "start_time": "2021-07-30T09:04:14.867Z"
   },
   {
    "duration": 7,
    "start_time": "2021-07-30T09:04:14.875Z"
   },
   {
    "duration": 4,
    "start_time": "2021-07-30T09:04:14.885Z"
   },
   {
    "duration": 12,
    "start_time": "2021-07-30T09:04:14.891Z"
   },
   {
    "duration": 113,
    "start_time": "2021-07-30T09:04:14.905Z"
   },
   {
    "duration": 16,
    "start_time": "2021-07-30T09:04:15.020Z"
   },
   {
    "duration": 15,
    "start_time": "2021-07-30T09:04:15.038Z"
   },
   {
    "duration": 47,
    "start_time": "2021-07-30T09:04:15.055Z"
   },
   {
    "duration": 144,
    "start_time": "2021-07-30T09:04:15.104Z"
   },
   {
    "duration": 15,
    "start_time": "2021-07-30T09:04:15.249Z"
   },
   {
    "duration": 30,
    "start_time": "2021-07-30T09:04:15.266Z"
   },
   {
    "duration": 31,
    "start_time": "2021-07-30T09:04:15.297Z"
   },
   {
    "duration": 22,
    "start_time": "2021-07-30T09:04:15.330Z"
   },
   {
    "duration": 5,
    "start_time": "2021-07-30T09:04:15.354Z"
   },
   {
    "duration": 66,
    "start_time": "2021-07-30T09:04:15.361Z"
   },
   {
    "duration": 21,
    "start_time": "2021-07-30T09:04:15.429Z"
   },
   {
    "duration": 43,
    "start_time": "2021-07-30T09:04:15.453Z"
   },
   {
    "duration": 26,
    "start_time": "2021-07-30T09:04:15.498Z"
   },
   {
    "duration": 20,
    "start_time": "2021-07-30T09:04:15.526Z"
   },
   {
    "duration": 57,
    "start_time": "2021-07-30T09:04:15.547Z"
   },
   {
    "duration": 20,
    "start_time": "2021-07-30T09:04:15.606Z"
   },
   {
    "duration": 18,
    "start_time": "2021-07-30T09:04:15.628Z"
   },
   {
    "duration": 24,
    "start_time": "2021-07-30T09:04:20.640Z"
   },
   {
    "duration": 10,
    "start_time": "2021-07-30T09:07:14.438Z"
   },
   {
    "duration": 240,
    "start_time": "2021-07-30T09:07:41.558Z"
   },
   {
    "duration": 545,
    "start_time": "2021-07-30T09:07:46.214Z"
   },
   {
    "duration": 166,
    "start_time": "2021-07-30T09:07:46.761Z"
   },
   {
    "duration": 20,
    "start_time": "2021-07-30T09:07:46.929Z"
   },
   {
    "duration": 38,
    "start_time": "2021-07-30T09:07:46.952Z"
   },
   {
    "duration": 29,
    "start_time": "2021-07-30T09:07:46.991Z"
   },
   {
    "duration": 51,
    "start_time": "2021-07-30T09:07:47.022Z"
   },
   {
    "duration": 5,
    "start_time": "2021-07-30T09:07:47.074Z"
   },
   {
    "duration": 10,
    "start_time": "2021-07-30T09:07:47.080Z"
   },
   {
    "duration": 4,
    "start_time": "2021-07-30T09:07:47.092Z"
   },
   {
    "duration": 10,
    "start_time": "2021-07-30T09:07:47.099Z"
   },
   {
    "duration": 102,
    "start_time": "2021-07-30T09:07:47.110Z"
   },
   {
    "duration": 14,
    "start_time": "2021-07-30T09:07:47.214Z"
   },
   {
    "duration": 14,
    "start_time": "2021-07-30T09:07:47.230Z"
   },
   {
    "duration": 52,
    "start_time": "2021-07-30T09:07:47.246Z"
   },
   {
    "duration": 142,
    "start_time": "2021-07-30T09:07:47.300Z"
   },
   {
    "duration": 18,
    "start_time": "2021-07-30T09:07:47.444Z"
   },
   {
    "duration": 29,
    "start_time": "2021-07-30T09:07:47.464Z"
   },
   {
    "duration": 30,
    "start_time": "2021-07-30T09:07:47.495Z"
   },
   {
    "duration": 21,
    "start_time": "2021-07-30T09:07:47.527Z"
   },
   {
    "duration": 8,
    "start_time": "2021-07-30T09:07:47.549Z"
   },
   {
    "duration": 72,
    "start_time": "2021-07-30T09:07:47.558Z"
   },
   {
    "duration": 22,
    "start_time": "2021-07-30T09:07:47.631Z"
   },
   {
    "duration": 39,
    "start_time": "2021-07-30T09:07:47.655Z"
   },
   {
    "duration": 41,
    "start_time": "2021-07-30T09:07:47.696Z"
   },
   {
    "duration": 46,
    "start_time": "2021-07-30T09:07:47.740Z"
   },
   {
    "duration": 36,
    "start_time": "2021-07-30T09:07:47.787Z"
   },
   {
    "duration": 22,
    "start_time": "2021-07-30T09:07:47.826Z"
   },
   {
    "duration": 43,
    "start_time": "2021-07-30T09:07:47.849Z"
   },
   {
    "duration": 24,
    "start_time": "2021-07-30T09:14:00.631Z"
   },
   {
    "duration": 264,
    "start_time": "2021-07-30T09:17:07.851Z"
   },
   {
    "duration": 19,
    "start_time": "2021-07-30T09:17:31.222Z"
   },
   {
    "duration": 10,
    "start_time": "2021-07-30T09:32:55.276Z"
   },
   {
    "duration": 599,
    "start_time": "2021-07-30T09:33:07.979Z"
   },
   {
    "duration": 168,
    "start_time": "2021-07-30T09:33:08.580Z"
   },
   {
    "duration": 19,
    "start_time": "2021-07-30T09:33:08.750Z"
   },
   {
    "duration": 31,
    "start_time": "2021-07-30T09:33:08.770Z"
   },
   {
    "duration": 32,
    "start_time": "2021-07-30T09:33:08.803Z"
   },
   {
    "duration": 39,
    "start_time": "2021-07-30T09:33:08.836Z"
   },
   {
    "duration": 6,
    "start_time": "2021-07-30T09:33:08.878Z"
   },
   {
    "duration": 6,
    "start_time": "2021-07-30T09:33:08.887Z"
   },
   {
    "duration": 5,
    "start_time": "2021-07-30T09:33:08.896Z"
   },
   {
    "duration": 11,
    "start_time": "2021-07-30T09:33:08.902Z"
   },
   {
    "duration": 109,
    "start_time": "2021-07-30T09:33:08.915Z"
   },
   {
    "duration": 14,
    "start_time": "2021-07-30T09:33:09.027Z"
   },
   {
    "duration": 14,
    "start_time": "2021-07-30T09:33:09.043Z"
   },
   {
    "duration": 47,
    "start_time": "2021-07-30T09:33:09.059Z"
   },
   {
    "duration": 140,
    "start_time": "2021-07-30T09:33:09.108Z"
   },
   {
    "duration": 15,
    "start_time": "2021-07-30T09:33:09.250Z"
   },
   {
    "duration": 28,
    "start_time": "2021-07-30T09:33:09.267Z"
   },
   {
    "duration": 28,
    "start_time": "2021-07-30T09:33:09.297Z"
   },
   {
    "duration": 81,
    "start_time": "2021-07-30T09:33:09.327Z"
   },
   {
    "duration": 15,
    "start_time": "2021-07-30T09:33:09.425Z"
   },
   {
    "duration": 76,
    "start_time": "2021-07-30T09:33:09.442Z"
   },
   {
    "duration": 20,
    "start_time": "2021-07-30T09:33:09.520Z"
   },
   {
    "duration": 29,
    "start_time": "2021-07-30T09:33:09.543Z"
   },
   {
    "duration": 25,
    "start_time": "2021-07-30T09:33:09.585Z"
   },
   {
    "duration": 20,
    "start_time": "2021-07-30T09:33:09.611Z"
   },
   {
    "duration": 57,
    "start_time": "2021-07-30T09:33:09.633Z"
   },
   {
    "duration": 21,
    "start_time": "2021-07-30T09:33:09.692Z"
   },
   {
    "duration": 9,
    "start_time": "2021-07-30T09:33:09.715Z"
   },
   {
    "duration": 4547,
    "start_time": "2021-07-30T09:33:09.725Z"
   },
   {
    "duration": 5034,
    "start_time": "2021-07-30T09:34:04.698Z"
   },
   {
    "duration": 537,
    "start_time": "2021-07-30T09:34:11.332Z"
   },
   {
    "duration": 163,
    "start_time": "2021-07-30T09:34:11.871Z"
   },
   {
    "duration": 21,
    "start_time": "2021-07-30T09:34:12.037Z"
   },
   {
    "duration": 36,
    "start_time": "2021-07-30T09:34:12.061Z"
   },
   {
    "duration": 29,
    "start_time": "2021-07-30T09:34:12.098Z"
   },
   {
    "duration": 49,
    "start_time": "2021-07-30T09:34:12.129Z"
   },
   {
    "duration": 5,
    "start_time": "2021-07-30T09:34:12.179Z"
   },
   {
    "duration": 7,
    "start_time": "2021-07-30T09:34:12.187Z"
   },
   {
    "duration": 4,
    "start_time": "2021-07-30T09:34:12.197Z"
   },
   {
    "duration": 12,
    "start_time": "2021-07-30T09:34:12.203Z"
   },
   {
    "duration": 107,
    "start_time": "2021-07-30T09:34:12.216Z"
   },
   {
    "duration": 14,
    "start_time": "2021-07-30T09:34:12.324Z"
   },
   {
    "duration": 14,
    "start_time": "2021-07-30T09:34:12.340Z"
   },
   {
    "duration": 44,
    "start_time": "2021-07-30T09:34:12.356Z"
   },
   {
    "duration": 134,
    "start_time": "2021-07-30T09:34:12.402Z"
   },
   {
    "duration": 16,
    "start_time": "2021-07-30T09:34:12.538Z"
   },
   {
    "duration": 33,
    "start_time": "2021-07-30T09:34:12.556Z"
   },
   {
    "duration": 37,
    "start_time": "2021-07-30T09:34:12.591Z"
   },
   {
    "duration": 21,
    "start_time": "2021-07-30T09:34:12.629Z"
   },
   {
    "duration": 7,
    "start_time": "2021-07-30T09:34:12.652Z"
   },
   {
    "duration": 66,
    "start_time": "2021-07-30T09:34:12.661Z"
   },
   {
    "duration": 20,
    "start_time": "2021-07-30T09:34:12.728Z"
   },
   {
    "duration": 42,
    "start_time": "2021-07-30T09:34:12.751Z"
   },
   {
    "duration": 22,
    "start_time": "2021-07-30T09:34:12.795Z"
   },
   {
    "duration": 21,
    "start_time": "2021-07-30T09:34:12.819Z"
   },
   {
    "duration": 62,
    "start_time": "2021-07-30T09:34:12.841Z"
   },
   {
    "duration": 20,
    "start_time": "2021-07-30T09:34:12.904Z"
   },
   {
    "duration": 15,
    "start_time": "2021-07-30T09:34:12.926Z"
   },
   {
    "duration": 49,
    "start_time": "2021-07-30T09:34:12.943Z"
   },
   {
    "duration": 21,
    "start_time": "2021-07-30T09:34:37.839Z"
   },
   {
    "duration": 533,
    "start_time": "2021-07-30T09:35:41.521Z"
   },
   {
    "duration": 167,
    "start_time": "2021-07-30T09:35:42.056Z"
   },
   {
    "duration": 18,
    "start_time": "2021-07-30T09:35:42.225Z"
   },
   {
    "duration": 20,
    "start_time": "2021-07-30T09:35:42.245Z"
   },
   {
    "duration": 28,
    "start_time": "2021-07-30T09:35:42.285Z"
   },
   {
    "duration": 37,
    "start_time": "2021-07-30T09:35:42.314Z"
   },
   {
    "duration": 5,
    "start_time": "2021-07-30T09:35:42.353Z"
   },
   {
    "duration": 7,
    "start_time": "2021-07-30T09:35:42.360Z"
   },
   {
    "duration": 8,
    "start_time": "2021-07-30T09:35:42.369Z"
   },
   {
    "duration": 9,
    "start_time": "2021-07-30T09:35:42.385Z"
   },
   {
    "duration": 99,
    "start_time": "2021-07-30T09:35:42.395Z"
   },
   {
    "duration": 12,
    "start_time": "2021-07-30T09:35:42.496Z"
   },
   {
    "duration": 14,
    "start_time": "2021-07-30T09:35:42.510Z"
   },
   {
    "duration": 25,
    "start_time": "2021-07-30T09:35:42.526Z"
   },
   {
    "duration": 161,
    "start_time": "2021-07-30T09:35:42.553Z"
   },
   {
    "duration": 17,
    "start_time": "2021-07-30T09:35:42.715Z"
   },
   {
    "duration": 16,
    "start_time": "2021-07-30T09:35:42.734Z"
   },
   {
    "duration": 51,
    "start_time": "2021-07-30T09:35:42.752Z"
   },
   {
    "duration": 23,
    "start_time": "2021-07-30T09:35:42.805Z"
   },
   {
    "duration": 7,
    "start_time": "2021-07-30T09:35:42.830Z"
   },
   {
    "duration": 78,
    "start_time": "2021-07-30T09:35:42.839Z"
   },
   {
    "duration": 27,
    "start_time": "2021-07-30T09:35:42.919Z"
   },
   {
    "duration": 48,
    "start_time": "2021-07-30T09:35:42.950Z"
   },
   {
    "duration": 32,
    "start_time": "2021-07-30T09:35:43.001Z"
   },
   {
    "duration": 50,
    "start_time": "2021-07-30T09:35:43.036Z"
   },
   {
    "duration": 47,
    "start_time": "2021-07-30T09:35:43.088Z"
   },
   {
    "duration": 24,
    "start_time": "2021-07-30T09:35:43.137Z"
   },
   {
    "duration": 36,
    "start_time": "2021-07-30T09:35:43.163Z"
   },
   {
    "duration": 17,
    "start_time": "2021-07-30T09:35:43.201Z"
   },
   {
    "duration": 32,
    "start_time": "2021-07-30T09:36:11.290Z"
   },
   {
    "duration": 31,
    "start_time": "2021-07-30T09:36:19.484Z"
   },
   {
    "duration": 26,
    "start_time": "2021-07-30T09:36:40.561Z"
   },
   {
    "duration": 24,
    "start_time": "2021-07-30T09:36:42.443Z"
   },
   {
    "duration": 626,
    "start_time": "2021-07-30T09:36:47.683Z"
   },
   {
    "duration": 169,
    "start_time": "2021-07-30T09:36:48.311Z"
   },
   {
    "duration": 21,
    "start_time": "2021-07-30T09:36:48.481Z"
   },
   {
    "duration": 20,
    "start_time": "2021-07-30T09:36:48.504Z"
   },
   {
    "duration": 30,
    "start_time": "2021-07-30T09:36:48.526Z"
   },
   {
    "duration": 40,
    "start_time": "2021-07-30T09:36:48.585Z"
   },
   {
    "duration": 6,
    "start_time": "2021-07-30T09:36:48.627Z"
   },
   {
    "duration": 7,
    "start_time": "2021-07-30T09:36:48.635Z"
   },
   {
    "duration": 4,
    "start_time": "2021-07-30T09:36:48.645Z"
   },
   {
    "duration": 13,
    "start_time": "2021-07-30T09:36:48.651Z"
   },
   {
    "duration": 105,
    "start_time": "2021-07-30T09:36:48.666Z"
   },
   {
    "duration": 21,
    "start_time": "2021-07-30T09:36:48.773Z"
   },
   {
    "duration": 15,
    "start_time": "2021-07-30T09:36:48.796Z"
   },
   {
    "duration": 27,
    "start_time": "2021-07-30T09:36:48.813Z"
   },
   {
    "duration": 168,
    "start_time": "2021-07-30T09:36:48.842Z"
   },
   {
    "duration": 17,
    "start_time": "2021-07-30T09:36:49.011Z"
   },
   {
    "duration": 18,
    "start_time": "2021-07-30T09:36:49.029Z"
   },
   {
    "duration": 59,
    "start_time": "2021-07-30T09:36:49.050Z"
   },
   {
    "duration": 25,
    "start_time": "2021-07-30T09:36:49.112Z"
   },
   {
    "duration": 7,
    "start_time": "2021-07-30T09:36:49.140Z"
   },
   {
    "duration": 61,
    "start_time": "2021-07-30T09:36:49.148Z"
   },
   {
    "duration": 25,
    "start_time": "2021-07-30T09:36:49.211Z"
   },
   {
    "duration": 26,
    "start_time": "2021-07-30T09:36:49.239Z"
   },
   {
    "duration": 25,
    "start_time": "2021-07-30T09:36:49.285Z"
   },
   {
    "duration": 22,
    "start_time": "2021-07-30T09:36:49.312Z"
   },
   {
    "duration": 66,
    "start_time": "2021-07-30T09:36:49.336Z"
   },
   {
    "duration": 23,
    "start_time": "2021-07-30T09:36:49.404Z"
   },
   {
    "duration": 18,
    "start_time": "2021-07-30T09:36:49.429Z"
   },
   {
    "duration": 62,
    "start_time": "2021-07-30T09:36:49.450Z"
   },
   {
    "duration": 26,
    "start_time": "2021-07-30T09:37:10.017Z"
   },
   {
    "duration": 4519,
    "start_time": "2021-07-30T09:44:23.328Z"
   },
   {
    "duration": 559,
    "start_time": "2021-07-30T09:44:38.049Z"
   },
   {
    "duration": 164,
    "start_time": "2021-07-30T09:44:38.610Z"
   },
   {
    "duration": 23,
    "start_time": "2021-07-30T09:44:38.776Z"
   },
   {
    "duration": 31,
    "start_time": "2021-07-30T09:44:38.801Z"
   },
   {
    "duration": 32,
    "start_time": "2021-07-30T09:44:38.833Z"
   },
   {
    "duration": 36,
    "start_time": "2021-07-30T09:44:38.867Z"
   },
   {
    "duration": 10,
    "start_time": "2021-07-30T09:44:38.905Z"
   },
   {
    "duration": 20,
    "start_time": "2021-07-30T09:44:38.917Z"
   },
   {
    "duration": 15,
    "start_time": "2021-07-30T09:44:38.940Z"
   },
   {
    "duration": 27,
    "start_time": "2021-07-30T09:44:38.958Z"
   },
   {
    "duration": 123,
    "start_time": "2021-07-30T09:44:38.986Z"
   },
   {
    "duration": 14,
    "start_time": "2021-07-30T09:44:39.111Z"
   },
   {
    "duration": 31,
    "start_time": "2021-07-30T09:44:39.126Z"
   },
   {
    "duration": 47,
    "start_time": "2021-07-30T09:44:39.159Z"
   },
   {
    "duration": 140,
    "start_time": "2021-07-30T09:44:39.207Z"
   },
   {
    "duration": 16,
    "start_time": "2021-07-30T09:44:39.348Z"
   },
   {
    "duration": 44,
    "start_time": "2021-07-30T09:44:39.366Z"
   },
   {
    "duration": 31,
    "start_time": "2021-07-30T09:44:39.412Z"
   },
   {
    "duration": 25,
    "start_time": "2021-07-30T09:44:39.445Z"
   },
   {
    "duration": 28,
    "start_time": "2021-07-30T09:44:39.473Z"
   },
   {
    "duration": 63,
    "start_time": "2021-07-30T09:44:39.503Z"
   },
   {
    "duration": 21,
    "start_time": "2021-07-30T09:44:39.567Z"
   },
   {
    "duration": 31,
    "start_time": "2021-07-30T09:44:39.589Z"
   },
   {
    "duration": 22,
    "start_time": "2021-07-30T09:44:39.621Z"
   },
   {
    "duration": 24,
    "start_time": "2021-07-30T09:44:39.645Z"
   },
   {
    "duration": 45,
    "start_time": "2021-07-30T09:44:39.670Z"
   },
   {
    "duration": 20,
    "start_time": "2021-07-30T09:44:39.718Z"
   },
   {
    "duration": 16,
    "start_time": "2021-07-30T09:44:39.739Z"
   },
   {
    "duration": 47,
    "start_time": "2021-07-30T09:44:39.757Z"
   },
   {
    "duration": 6281,
    "start_time": "2021-07-30T09:44:39.805Z"
   },
   {
    "duration": 32,
    "start_time": "2021-07-30T09:46:39.530Z"
   },
   {
    "duration": 28,
    "start_time": "2021-07-30T09:48:49.973Z"
   },
   {
    "duration": 29,
    "start_time": "2021-07-30T09:49:13.555Z"
   },
   {
    "duration": 22,
    "start_time": "2021-07-30T09:50:12.446Z"
   },
   {
    "duration": 4623,
    "start_time": "2021-07-30T09:56:40.634Z"
   },
   {
    "duration": 302,
    "start_time": "2021-07-30T09:57:18.370Z"
   },
   {
    "duration": 4818,
    "start_time": "2021-07-30T09:57:40.949Z"
   },
   {
    "duration": 481,
    "start_time": "2021-07-30T09:58:16.527Z"
   },
   {
    "duration": 195,
    "start_time": "2021-07-30T09:59:48.533Z"
   },
   {
    "duration": 196,
    "start_time": "2021-07-30T10:00:24.780Z"
   },
   {
    "duration": 175,
    "start_time": "2021-07-30T10:00:39.470Z"
   },
   {
    "duration": 216,
    "start_time": "2021-07-30T10:01:51.690Z"
   },
   {
    "duration": 543,
    "start_time": "2021-07-30T10:02:02.051Z"
   },
   {
    "duration": 169,
    "start_time": "2021-07-30T10:02:02.596Z"
   },
   {
    "duration": 29,
    "start_time": "2021-07-30T10:02:02.767Z"
   },
   {
    "duration": 21,
    "start_time": "2021-07-30T10:02:02.798Z"
   },
   {
    "duration": 28,
    "start_time": "2021-07-30T10:02:02.821Z"
   },
   {
    "duration": 38,
    "start_time": "2021-07-30T10:02:02.850Z"
   },
   {
    "duration": 5,
    "start_time": "2021-07-30T10:02:02.890Z"
   },
   {
    "duration": 8,
    "start_time": "2021-07-30T10:02:02.897Z"
   },
   {
    "duration": 6,
    "start_time": "2021-07-30T10:02:02.907Z"
   },
   {
    "duration": 12,
    "start_time": "2021-07-30T10:02:02.914Z"
   },
   {
    "duration": 110,
    "start_time": "2021-07-30T10:02:02.928Z"
   },
   {
    "duration": 14,
    "start_time": "2021-07-30T10:02:03.040Z"
   },
   {
    "duration": 30,
    "start_time": "2021-07-30T10:02:03.055Z"
   },
   {
    "duration": 26,
    "start_time": "2021-07-30T10:02:03.086Z"
   },
   {
    "duration": 149,
    "start_time": "2021-07-30T10:02:03.114Z"
   },
   {
    "duration": 21,
    "start_time": "2021-07-30T10:02:03.265Z"
   },
   {
    "duration": 18,
    "start_time": "2021-07-30T10:02:03.287Z"
   },
   {
    "duration": 30,
    "start_time": "2021-07-30T10:02:03.306Z"
   },
   {
    "duration": 25,
    "start_time": "2021-07-30T10:02:03.338Z"
   },
   {
    "duration": 21,
    "start_time": "2021-07-30T10:02:03.365Z"
   },
   {
    "duration": 54,
    "start_time": "2021-07-30T10:02:03.388Z"
   },
   {
    "duration": 20,
    "start_time": "2021-07-30T10:02:03.444Z"
   },
   {
    "duration": 39,
    "start_time": "2021-07-30T10:02:03.467Z"
   },
   {
    "duration": 23,
    "start_time": "2021-07-30T10:02:03.508Z"
   },
   {
    "duration": 20,
    "start_time": "2021-07-30T10:02:03.533Z"
   },
   {
    "duration": 250,
    "start_time": "2021-07-30T10:02:03.586Z"
   },
   {
    "duration": 0,
    "start_time": "2021-07-30T10:02:03.838Z"
   },
   {
    "duration": -2,
    "start_time": "2021-07-30T10:02:03.841Z"
   },
   {
    "duration": 191,
    "start_time": "2021-07-30T10:02:11.849Z"
   },
   {
    "duration": 38,
    "start_time": "2021-07-30T10:02:25.074Z"
   },
   {
    "duration": 22,
    "start_time": "2021-07-30T10:02:28.091Z"
   },
   {
    "duration": 22,
    "start_time": "2021-07-30T10:02:30.938Z"
   },
   {
    "duration": 176,
    "start_time": "2021-07-30T10:03:22.902Z"
   },
   {
    "duration": 192,
    "start_time": "2021-07-30T10:03:32.142Z"
   },
   {
    "duration": 5,
    "start_time": "2021-07-30T10:03:43.652Z"
   },
   {
    "duration": 4,
    "start_time": "2021-07-30T10:03:51.014Z"
   },
   {
    "duration": 5,
    "start_time": "2021-07-30T10:03:58.295Z"
   },
   {
    "duration": 5,
    "start_time": "2021-07-30T10:04:03.187Z"
   },
   {
    "duration": 4,
    "start_time": "2021-07-30T10:04:07.291Z"
   },
   {
    "duration": 196,
    "start_time": "2021-07-30T10:04:23.400Z"
   },
   {
    "duration": 5,
    "start_time": "2021-07-30T10:04:31.344Z"
   },
   {
    "duration": 5,
    "start_time": "2021-07-30T10:04:34.970Z"
   },
   {
    "duration": 4,
    "start_time": "2021-07-30T10:04:44.109Z"
   },
   {
    "duration": 198,
    "start_time": "2021-07-30T10:07:06.736Z"
   },
   {
    "duration": 539,
    "start_time": "2021-07-30T10:07:15.916Z"
   },
   {
    "duration": 171,
    "start_time": "2021-07-30T10:07:16.457Z"
   },
   {
    "duration": 20,
    "start_time": "2021-07-30T10:07:16.631Z"
   },
   {
    "duration": 37,
    "start_time": "2021-07-30T10:07:16.653Z"
   },
   {
    "duration": 31,
    "start_time": "2021-07-30T10:07:16.693Z"
   },
   {
    "duration": 38,
    "start_time": "2021-07-30T10:07:16.726Z"
   },
   {
    "duration": 7,
    "start_time": "2021-07-30T10:07:16.766Z"
   },
   {
    "duration": 15,
    "start_time": "2021-07-30T10:07:16.776Z"
   },
   {
    "duration": 8,
    "start_time": "2021-07-30T10:07:16.794Z"
   },
   {
    "duration": 13,
    "start_time": "2021-07-30T10:07:16.803Z"
   },
   {
    "duration": 105,
    "start_time": "2021-07-30T10:07:16.818Z"
   },
   {
    "duration": 13,
    "start_time": "2021-07-30T10:07:16.926Z"
   },
   {
    "duration": 16,
    "start_time": "2021-07-30T10:07:16.941Z"
   },
   {
    "duration": 47,
    "start_time": "2021-07-30T10:07:16.959Z"
   },
   {
    "duration": 146,
    "start_time": "2021-07-30T10:07:17.009Z"
   },
   {
    "duration": 17,
    "start_time": "2021-07-30T10:07:17.156Z"
   },
   {
    "duration": 17,
    "start_time": "2021-07-30T10:07:17.185Z"
   },
   {
    "duration": 47,
    "start_time": "2021-07-30T10:07:17.203Z"
   },
   {
    "duration": 23,
    "start_time": "2021-07-30T10:07:17.251Z"
   },
   {
    "duration": 21,
    "start_time": "2021-07-30T10:07:17.276Z"
   },
   {
    "duration": 61,
    "start_time": "2021-07-30T10:07:17.299Z"
   },
   {
    "duration": 22,
    "start_time": "2021-07-30T10:07:17.362Z"
   },
   {
    "duration": 28,
    "start_time": "2021-07-30T10:07:17.389Z"
   },
   {
    "duration": 26,
    "start_time": "2021-07-30T10:07:17.419Z"
   },
   {
    "duration": 48,
    "start_time": "2021-07-30T10:07:17.448Z"
   },
   {
    "duration": 35,
    "start_time": "2021-07-30T10:07:17.499Z"
   },
   {
    "duration": 21,
    "start_time": "2021-07-30T10:07:17.536Z"
   },
   {
    "duration": 45,
    "start_time": "2021-07-30T10:07:17.558Z"
   },
   {
    "duration": 259,
    "start_time": "2021-07-30T10:07:17.605Z"
   },
   {
    "duration": 18,
    "start_time": "2021-07-30T10:10:48.349Z"
   },
   {
    "duration": 757,
    "start_time": "2021-07-30T10:11:13.595Z"
   },
   {
    "duration": 19,
    "start_time": "2021-07-30T10:11:24.033Z"
   },
   {
    "duration": 56,
    "start_time": "2021-07-30T10:12:14.258Z"
   },
   {
    "duration": 1352,
    "start_time": "2021-07-30T10:12:27.107Z"
   },
   {
    "duration": 19,
    "start_time": "2021-07-30T10:12:34.435Z"
   },
   {
    "duration": 20,
    "start_time": "2021-07-30T10:12:50.933Z"
   },
   {
    "duration": 4580,
    "start_time": "2021-07-30T10:15:32.481Z"
   },
   {
    "duration": 530,
    "start_time": "2021-07-30T10:15:51.854Z"
   },
   {
    "duration": 160,
    "start_time": "2021-07-30T10:15:52.386Z"
   },
   {
    "duration": 19,
    "start_time": "2021-07-30T10:15:52.549Z"
   },
   {
    "duration": 27,
    "start_time": "2021-07-30T10:15:52.570Z"
   },
   {
    "duration": 30,
    "start_time": "2021-07-30T10:15:52.598Z"
   },
   {
    "duration": 69,
    "start_time": "2021-07-30T10:15:52.630Z"
   },
   {
    "duration": 5,
    "start_time": "2021-07-30T10:15:52.700Z"
   },
   {
    "duration": 6,
    "start_time": "2021-07-30T10:15:52.707Z"
   },
   {
    "duration": 5,
    "start_time": "2021-07-30T10:15:52.715Z"
   },
   {
    "duration": 11,
    "start_time": "2021-07-30T10:15:52.721Z"
   },
   {
    "duration": 112,
    "start_time": "2021-07-30T10:15:52.733Z"
   },
   {
    "duration": 13,
    "start_time": "2021-07-30T10:15:52.847Z"
   },
   {
    "duration": 25,
    "start_time": "2021-07-30T10:15:52.861Z"
   },
   {
    "duration": 24,
    "start_time": "2021-07-30T10:15:52.887Z"
   },
   {
    "duration": 142,
    "start_time": "2021-07-30T10:15:52.912Z"
   },
   {
    "duration": 15,
    "start_time": "2021-07-30T10:15:53.055Z"
   },
   {
    "duration": 27,
    "start_time": "2021-07-30T10:15:53.072Z"
   },
   {
    "duration": 29,
    "start_time": "2021-07-30T10:15:53.100Z"
   },
   {
    "duration": 21,
    "start_time": "2021-07-30T10:15:53.131Z"
   },
   {
    "duration": 7,
    "start_time": "2021-07-30T10:15:53.154Z"
   },
   {
    "duration": 66,
    "start_time": "2021-07-30T10:15:53.162Z"
   },
   {
    "duration": 25,
    "start_time": "2021-07-30T10:15:53.230Z"
   },
   {
    "duration": 52,
    "start_time": "2021-07-30T10:15:53.259Z"
   },
   {
    "duration": 33,
    "start_time": "2021-07-30T10:15:53.313Z"
   },
   {
    "duration": 42,
    "start_time": "2021-07-30T10:15:53.348Z"
   },
   {
    "duration": 40,
    "start_time": "2021-07-30T10:15:53.392Z"
   },
   {
    "duration": 5155,
    "start_time": "2021-07-30T10:15:53.433Z"
   },
   {
    "duration": -148,
    "start_time": "2021-07-30T10:15:58.738Z"
   },
   {
    "duration": -165,
    "start_time": "2021-07-30T10:15:58.756Z"
   },
   {
    "duration": 580,
    "start_time": "2021-07-30T10:16:18.271Z"
   },
   {
    "duration": 166,
    "start_time": "2021-07-30T10:16:18.853Z"
   },
   {
    "duration": 20,
    "start_time": "2021-07-30T10:16:19.021Z"
   },
   {
    "duration": 21,
    "start_time": "2021-07-30T10:16:19.043Z"
   },
   {
    "duration": 29,
    "start_time": "2021-07-30T10:16:19.085Z"
   },
   {
    "duration": 49,
    "start_time": "2021-07-30T10:16:19.116Z"
   },
   {
    "duration": 5,
    "start_time": "2021-07-30T10:16:19.167Z"
   },
   {
    "duration": 16,
    "start_time": "2021-07-30T10:16:19.175Z"
   },
   {
    "duration": 15,
    "start_time": "2021-07-30T10:16:19.193Z"
   },
   {
    "duration": 26,
    "start_time": "2021-07-30T10:16:19.209Z"
   },
   {
    "duration": 121,
    "start_time": "2021-07-30T10:16:19.237Z"
   },
   {
    "duration": 14,
    "start_time": "2021-07-30T10:16:19.359Z"
   },
   {
    "duration": 27,
    "start_time": "2021-07-30T10:16:19.374Z"
   },
   {
    "duration": 38,
    "start_time": "2021-07-30T10:16:19.403Z"
   },
   {
    "duration": 154,
    "start_time": "2021-07-30T10:16:19.442Z"
   },
   {
    "duration": 17,
    "start_time": "2021-07-30T10:16:19.598Z"
   },
   {
    "duration": 30,
    "start_time": "2021-07-30T10:16:19.616Z"
   },
   {
    "duration": 42,
    "start_time": "2021-07-30T10:16:19.648Z"
   },
   {
    "duration": 21,
    "start_time": "2021-07-30T10:16:19.692Z"
   },
   {
    "duration": 17,
    "start_time": "2021-07-30T10:16:19.715Z"
   },
   {
    "duration": 62,
    "start_time": "2021-07-30T10:16:19.733Z"
   },
   {
    "duration": 22,
    "start_time": "2021-07-30T10:16:19.797Z"
   },
   {
    "duration": 32,
    "start_time": "2021-07-30T10:16:19.821Z"
   },
   {
    "duration": 44,
    "start_time": "2021-07-30T10:16:19.855Z"
   },
   {
    "duration": 21,
    "start_time": "2021-07-30T10:16:19.900Z"
   },
   {
    "duration": 34,
    "start_time": "2021-07-30T10:16:19.922Z"
   },
   {
    "duration": 40,
    "start_time": "2021-07-30T10:16:19.957Z"
   },
   {
    "duration": 21,
    "start_time": "2021-07-30T10:16:19.998Z"
   },
   {
    "duration": 4387,
    "start_time": "2021-07-30T10:26:10.715Z"
   },
   {
    "duration": 538,
    "start_time": "2021-07-30T10:26:17.044Z"
   },
   {
    "duration": 167,
    "start_time": "2021-07-30T10:26:17.586Z"
   },
   {
    "duration": 20,
    "start_time": "2021-07-30T10:26:17.755Z"
   },
   {
    "duration": 35,
    "start_time": "2021-07-30T10:26:17.784Z"
   },
   {
    "duration": 41,
    "start_time": "2021-07-30T10:26:17.821Z"
   },
   {
    "duration": 47,
    "start_time": "2021-07-30T10:26:17.864Z"
   },
   {
    "duration": 5,
    "start_time": "2021-07-30T10:26:17.913Z"
   },
   {
    "duration": 10,
    "start_time": "2021-07-30T10:26:17.921Z"
   },
   {
    "duration": 5,
    "start_time": "2021-07-30T10:26:17.933Z"
   },
   {
    "duration": 11,
    "start_time": "2021-07-30T10:26:17.940Z"
   },
   {
    "duration": 111,
    "start_time": "2021-07-30T10:26:17.952Z"
   },
   {
    "duration": 22,
    "start_time": "2021-07-30T10:26:18.065Z"
   },
   {
    "duration": 15,
    "start_time": "2021-07-30T10:26:18.089Z"
   },
   {
    "duration": 26,
    "start_time": "2021-07-30T10:26:18.106Z"
   },
   {
    "duration": 156,
    "start_time": "2021-07-30T10:26:18.133Z"
   },
   {
    "duration": 16,
    "start_time": "2021-07-30T10:26:18.291Z"
   },
   {
    "duration": 16,
    "start_time": "2021-07-30T10:26:18.309Z"
   },
   {
    "duration": 29,
    "start_time": "2021-07-30T10:26:18.327Z"
   },
   {
    "duration": 38,
    "start_time": "2021-07-30T10:26:18.358Z"
   },
   {
    "duration": 8,
    "start_time": "2021-07-30T10:26:18.397Z"
   },
   {
    "duration": 78,
    "start_time": "2021-07-30T10:26:18.407Z"
   },
   {
    "duration": 22,
    "start_time": "2021-07-30T10:26:18.486Z"
   },
   {
    "duration": 29,
    "start_time": "2021-07-30T10:26:18.511Z"
   },
   {
    "duration": 49,
    "start_time": "2021-07-30T10:26:18.542Z"
   },
   {
    "duration": 22,
    "start_time": "2021-07-30T10:26:18.594Z"
   },
   {
    "duration": 34,
    "start_time": "2021-07-30T10:26:18.618Z"
   },
   {
    "duration": 44,
    "start_time": "2021-07-30T10:26:18.654Z"
   },
   {
    "duration": 25,
    "start_time": "2021-07-30T10:26:18.700Z"
   },
   {
    "duration": 10,
    "start_time": "2021-07-30T10:37:37.678Z"
   },
   {
    "duration": 502,
    "start_time": "2021-07-30T10:38:18.139Z"
   },
   {
    "duration": 168,
    "start_time": "2021-07-30T10:38:18.642Z"
   },
   {
    "duration": 18,
    "start_time": "2021-07-30T10:38:18.812Z"
   },
   {
    "duration": 19,
    "start_time": "2021-07-30T10:38:18.832Z"
   },
   {
    "duration": 52,
    "start_time": "2021-07-30T10:38:18.853Z"
   },
   {
    "duration": 47,
    "start_time": "2021-07-30T10:38:18.906Z"
   },
   {
    "duration": 5,
    "start_time": "2021-07-30T10:38:18.954Z"
   },
   {
    "duration": 6,
    "start_time": "2021-07-30T10:38:18.962Z"
   },
   {
    "duration": 3,
    "start_time": "2021-07-30T10:38:18.970Z"
   },
   {
    "duration": 11,
    "start_time": "2021-07-30T10:38:18.974Z"
   },
   {
    "duration": 105,
    "start_time": "2021-07-30T10:38:18.986Z"
   },
   {
    "duration": 13,
    "start_time": "2021-07-30T10:38:19.092Z"
   },
   {
    "duration": 14,
    "start_time": "2021-07-30T10:38:19.107Z"
   },
   {
    "duration": 26,
    "start_time": "2021-07-30T10:38:19.123Z"
   },
   {
    "duration": 160,
    "start_time": "2021-07-30T10:38:19.150Z"
   },
   {
    "duration": 16,
    "start_time": "2021-07-30T10:38:19.311Z"
   },
   {
    "duration": 16,
    "start_time": "2021-07-30T10:38:19.329Z"
   },
   {
    "duration": 53,
    "start_time": "2021-07-30T10:38:19.346Z"
   },
   {
    "duration": 23,
    "start_time": "2021-07-30T10:38:19.401Z"
   },
   {
    "duration": 13,
    "start_time": "2021-07-30T10:38:19.426Z"
   },
   {
    "duration": 7,
    "start_time": "2021-07-30T10:38:19.441Z"
   },
   {
    "duration": 76,
    "start_time": "2021-07-30T10:38:19.450Z"
   },
   {
    "duration": 22,
    "start_time": "2021-07-30T10:38:19.531Z"
   },
   {
    "duration": 41,
    "start_time": "2021-07-30T10:38:19.555Z"
   },
   {
    "duration": 23,
    "start_time": "2021-07-30T10:38:19.598Z"
   },
   {
    "duration": 19,
    "start_time": "2021-07-30T10:38:19.623Z"
   },
   {
    "duration": 57,
    "start_time": "2021-07-30T10:38:19.644Z"
   },
   {
    "duration": 20,
    "start_time": "2021-07-30T10:38:19.702Z"
   },
   {
    "duration": 19,
    "start_time": "2021-07-30T10:38:19.723Z"
   },
   {
    "duration": 4554,
    "start_time": "2021-07-30T10:42:16.907Z"
   },
   {
    "duration": 4627,
    "start_time": "2021-07-30T10:45:38.617Z"
   },
   {
    "duration": 581,
    "start_time": "2021-07-30T10:45:49.765Z"
   },
   {
    "duration": 162,
    "start_time": "2021-07-30T10:45:50.348Z"
   },
   {
    "duration": 21,
    "start_time": "2021-07-30T10:45:50.512Z"
   },
   {
    "duration": 21,
    "start_time": "2021-07-30T10:45:50.536Z"
   },
   {
    "duration": 55,
    "start_time": "2021-07-30T10:45:50.559Z"
   },
   {
    "duration": 37,
    "start_time": "2021-07-30T10:45:50.616Z"
   },
   {
    "duration": 6,
    "start_time": "2021-07-30T10:45:50.655Z"
   },
   {
    "duration": 8,
    "start_time": "2021-07-30T10:45:50.663Z"
   },
   {
    "duration": 13,
    "start_time": "2021-07-30T10:45:50.674Z"
   },
   {
    "duration": 12,
    "start_time": "2021-07-30T10:45:50.689Z"
   },
   {
    "duration": 104,
    "start_time": "2021-07-30T10:45:50.702Z"
   },
   {
    "duration": 14,
    "start_time": "2021-07-30T10:45:50.808Z"
   },
   {
    "duration": 14,
    "start_time": "2021-07-30T10:45:50.824Z"
   },
   {
    "duration": 51,
    "start_time": "2021-07-30T10:45:50.840Z"
   },
   {
    "duration": 139,
    "start_time": "2021-07-30T10:45:50.893Z"
   },
   {
    "duration": 18,
    "start_time": "2021-07-30T10:45:51.035Z"
   },
   {
    "duration": 36,
    "start_time": "2021-07-30T10:45:51.055Z"
   },
   {
    "duration": 32,
    "start_time": "2021-07-30T10:45:51.093Z"
   },
   {
    "duration": 24,
    "start_time": "2021-07-30T10:45:51.128Z"
   },
   {
    "duration": 14,
    "start_time": "2021-07-30T10:45:51.153Z"
   },
   {
    "duration": 7,
    "start_time": "2021-07-30T10:45:51.185Z"
   },
   {
    "duration": 51,
    "start_time": "2021-07-30T10:45:51.194Z"
   },
   {
    "duration": 21,
    "start_time": "2021-07-30T10:45:51.247Z"
   },
   {
    "duration": 27,
    "start_time": "2021-07-30T10:45:51.285Z"
   },
   {
    "duration": 24,
    "start_time": "2021-07-30T10:45:51.314Z"
   },
   {
    "duration": 20,
    "start_time": "2021-07-30T10:45:51.340Z"
   },
   {
    "duration": 54,
    "start_time": "2021-07-30T10:45:51.363Z"
   },
   {
    "duration": 21,
    "start_time": "2021-07-30T10:45:51.419Z"
   },
   {
    "duration": 45,
    "start_time": "2021-07-30T10:45:51.441Z"
   },
   {
    "duration": 4615,
    "start_time": "2021-07-30T10:45:51.487Z"
   },
   {
    "duration": 577,
    "start_time": "2021-07-30T10:46:27.369Z"
   },
   {
    "duration": 159,
    "start_time": "2021-07-30T10:46:27.947Z"
   },
   {
    "duration": 18,
    "start_time": "2021-07-30T10:46:28.108Z"
   },
   {
    "duration": 19,
    "start_time": "2021-07-30T10:46:28.128Z"
   },
   {
    "duration": 52,
    "start_time": "2021-07-30T10:46:28.148Z"
   },
   {
    "duration": 47,
    "start_time": "2021-07-30T10:46:28.202Z"
   },
   {
    "duration": 5,
    "start_time": "2021-07-30T10:46:28.251Z"
   },
   {
    "duration": 6,
    "start_time": "2021-07-30T10:46:28.258Z"
   },
   {
    "duration": 4,
    "start_time": "2021-07-30T10:46:28.266Z"
   },
   {
    "duration": 11,
    "start_time": "2021-07-30T10:46:28.272Z"
   },
   {
    "duration": 94,
    "start_time": "2021-07-30T10:46:28.285Z"
   },
   {
    "duration": 13,
    "start_time": "2021-07-30T10:46:28.381Z"
   },
   {
    "duration": 15,
    "start_time": "2021-07-30T10:46:28.395Z"
   },
   {
    "duration": 24,
    "start_time": "2021-07-30T10:46:28.411Z"
   },
   {
    "duration": 144,
    "start_time": "2021-07-30T10:46:28.437Z"
   },
   {
    "duration": 15,
    "start_time": "2021-07-30T10:46:28.585Z"
   },
   {
    "duration": 16,
    "start_time": "2021-07-30T10:46:28.601Z"
   },
   {
    "duration": 31,
    "start_time": "2021-07-30T10:46:28.619Z"
   },
   {
    "duration": 39,
    "start_time": "2021-07-30T10:46:28.652Z"
   },
   {
    "duration": 10,
    "start_time": "2021-07-30T10:46:28.692Z"
   },
   {
    "duration": 5,
    "start_time": "2021-07-30T10:46:28.704Z"
   },
   {
    "duration": 48,
    "start_time": "2021-07-30T10:46:28.711Z"
   },
   {
    "duration": 23,
    "start_time": "2021-07-30T10:46:28.785Z"
   },
   {
    "duration": 28,
    "start_time": "2021-07-30T10:46:28.810Z"
   },
   {
    "duration": 49,
    "start_time": "2021-07-30T10:46:28.839Z"
   },
   {
    "duration": 22,
    "start_time": "2021-07-30T10:46:28.891Z"
   },
   {
    "duration": 33,
    "start_time": "2021-07-30T10:46:28.914Z"
   },
   {
    "duration": 4659,
    "start_time": "2021-07-30T10:46:28.949Z"
   },
   {
    "duration": -34,
    "start_time": "2021-07-30T10:46:33.644Z"
   },
   {
    "duration": -37,
    "start_time": "2021-07-30T10:46:33.648Z"
   },
   {
    "duration": 9753,
    "start_time": "2021-07-30T10:46:54.656Z"
   },
   {
    "duration": 615,
    "start_time": "2021-07-30T10:47:22.397Z"
   },
   {
    "duration": 172,
    "start_time": "2021-07-30T10:47:23.014Z"
   },
   {
    "duration": 23,
    "start_time": "2021-07-30T10:47:23.188Z"
   },
   {
    "duration": 25,
    "start_time": "2021-07-30T10:47:23.213Z"
   },
   {
    "duration": 58,
    "start_time": "2021-07-30T10:47:23.240Z"
   },
   {
    "duration": 54,
    "start_time": "2021-07-30T10:47:23.301Z"
   },
   {
    "duration": 15,
    "start_time": "2021-07-30T10:47:23.357Z"
   },
   {
    "duration": 7,
    "start_time": "2021-07-30T10:47:23.376Z"
   },
   {
    "duration": 5,
    "start_time": "2021-07-30T10:47:23.385Z"
   },
   {
    "duration": 11,
    "start_time": "2021-07-30T10:47:23.392Z"
   },
   {
    "duration": 98,
    "start_time": "2021-07-30T10:47:23.404Z"
   },
   {
    "duration": 15,
    "start_time": "2021-07-30T10:47:23.504Z"
   },
   {
    "duration": 15,
    "start_time": "2021-07-30T10:47:23.521Z"
   },
   {
    "duration": 50,
    "start_time": "2021-07-30T10:47:23.538Z"
   },
   {
    "duration": 136,
    "start_time": "2021-07-30T10:47:23.590Z"
   },
   {
    "duration": 23,
    "start_time": "2021-07-30T10:47:23.728Z"
   },
   {
    "duration": 33,
    "start_time": "2021-07-30T10:47:23.753Z"
   },
   {
    "duration": 42,
    "start_time": "2021-07-30T10:47:23.788Z"
   },
   {
    "duration": 23,
    "start_time": "2021-07-30T10:47:23.832Z"
   },
   {
    "duration": 11,
    "start_time": "2021-07-30T10:47:23.857Z"
   },
   {
    "duration": 7,
    "start_time": "2021-07-30T10:47:23.886Z"
   },
   {
    "duration": 52,
    "start_time": "2021-07-30T10:47:23.895Z"
   },
   {
    "duration": 42,
    "start_time": "2021-07-30T10:47:23.950Z"
   },
   {
    "duration": 28,
    "start_time": "2021-07-30T10:47:23.994Z"
   },
   {
    "duration": 25,
    "start_time": "2021-07-30T10:47:24.024Z"
   },
   {
    "duration": 46,
    "start_time": "2021-07-30T10:47:24.051Z"
   },
   {
    "duration": 36,
    "start_time": "2021-07-30T10:47:24.099Z"
   },
   {
    "duration": 4529,
    "start_time": "2021-07-30T10:47:24.137Z"
   },
   {
    "duration": 4483,
    "start_time": "2021-07-30T10:49:04.095Z"
   },
   {
    "duration": 314,
    "start_time": "2021-07-30T10:52:23.196Z"
   },
   {
    "duration": 521,
    "start_time": "2021-07-30T10:53:14.849Z"
   },
   {
    "duration": 166,
    "start_time": "2021-07-30T10:53:15.372Z"
   },
   {
    "duration": 19,
    "start_time": "2021-07-30T10:53:15.540Z"
   },
   {
    "duration": 32,
    "start_time": "2021-07-30T10:53:15.561Z"
   },
   {
    "duration": 27,
    "start_time": "2021-07-30T10:53:15.595Z"
   },
   {
    "duration": 50,
    "start_time": "2021-07-30T10:53:15.624Z"
   },
   {
    "duration": 6,
    "start_time": "2021-07-30T10:53:15.675Z"
   },
   {
    "duration": 9,
    "start_time": "2021-07-30T10:53:15.683Z"
   },
   {
    "duration": 4,
    "start_time": "2021-07-30T10:53:15.694Z"
   },
   {
    "duration": 13,
    "start_time": "2021-07-30T10:53:15.699Z"
   },
   {
    "duration": 102,
    "start_time": "2021-07-30T10:53:15.714Z"
   },
   {
    "duration": 13,
    "start_time": "2021-07-30T10:53:15.818Z"
   },
   {
    "duration": 14,
    "start_time": "2021-07-30T10:53:15.833Z"
   },
   {
    "duration": 82,
    "start_time": "2021-07-30T10:53:15.849Z"
   },
   {
    "duration": 163,
    "start_time": "2021-07-30T10:53:15.943Z"
   },
   {
    "duration": 15,
    "start_time": "2021-07-30T10:53:16.107Z"
   },
   {
    "duration": 30,
    "start_time": "2021-07-30T10:53:16.124Z"
   },
   {
    "duration": 34,
    "start_time": "2021-07-30T10:53:16.155Z"
   },
   {
    "duration": 23,
    "start_time": "2021-07-30T10:53:16.191Z"
   },
   {
    "duration": 25,
    "start_time": "2021-07-30T10:53:16.216Z"
   },
   {
    "duration": 15,
    "start_time": "2021-07-30T10:53:16.242Z"
   },
   {
    "duration": 74,
    "start_time": "2021-07-30T10:53:16.259Z"
   },
   {
    "duration": 21,
    "start_time": "2021-07-30T10:53:16.335Z"
   },
   {
    "duration": 37,
    "start_time": "2021-07-30T10:53:16.358Z"
   },
   {
    "duration": 23,
    "start_time": "2021-07-30T10:53:16.396Z"
   },
   {
    "duration": 20,
    "start_time": "2021-07-30T10:53:16.421Z"
   },
   {
    "duration": 61,
    "start_time": "2021-07-30T10:53:16.443Z"
   },
   {
    "duration": 20,
    "start_time": "2021-07-30T10:53:16.506Z"
   },
   {
    "duration": 19,
    "start_time": "2021-07-30T10:53:16.528Z"
   },
   {
    "duration": 4492,
    "start_time": "2021-07-30T10:53:43.468Z"
   },
   {
    "duration": 179,
    "start_time": "2021-07-30T10:53:53.618Z"
   },
   {
    "duration": 4,
    "start_time": "2021-07-30T10:59:15.684Z"
   },
   {
    "duration": 4,
    "start_time": "2021-07-30T10:59:30.566Z"
   },
   {
    "duration": 4,
    "start_time": "2021-07-30T10:59:35.003Z"
   },
   {
    "duration": 5,
    "start_time": "2021-07-30T10:59:42.004Z"
   },
   {
    "duration": 4,
    "start_time": "2021-07-30T10:59:47.179Z"
   },
   {
    "duration": 4,
    "start_time": "2021-07-30T10:59:51.413Z"
   },
   {
    "duration": 184,
    "start_time": "2021-07-30T11:00:01.975Z"
   },
   {
    "duration": 5,
    "start_time": "2021-07-30T11:00:11.674Z"
   },
   {
    "duration": 4409,
    "start_time": "2021-07-30T11:02:18.769Z"
   },
   {
    "duration": 551,
    "start_time": "2021-07-30T11:03:41.616Z"
   },
   {
    "duration": 170,
    "start_time": "2021-07-30T11:03:42.169Z"
   },
   {
    "duration": 33,
    "start_time": "2021-07-30T11:03:42.342Z"
   },
   {
    "duration": 38,
    "start_time": "2021-07-30T11:03:42.377Z"
   },
   {
    "duration": 41,
    "start_time": "2021-07-30T11:03:42.417Z"
   },
   {
    "duration": 69,
    "start_time": "2021-07-30T11:03:42.460Z"
   },
   {
    "duration": 14,
    "start_time": "2021-07-30T11:03:42.530Z"
   },
   {
    "duration": 16,
    "start_time": "2021-07-30T11:03:42.547Z"
   },
   {
    "duration": 17,
    "start_time": "2021-07-30T11:03:42.564Z"
   },
   {
    "duration": 24,
    "start_time": "2021-07-30T11:03:42.583Z"
   },
   {
    "duration": 114,
    "start_time": "2021-07-30T11:03:42.608Z"
   },
   {
    "duration": 14,
    "start_time": "2021-07-30T11:03:42.724Z"
   },
   {
    "duration": 29,
    "start_time": "2021-07-30T11:03:42.739Z"
   },
   {
    "duration": 37,
    "start_time": "2021-07-30T11:03:42.769Z"
   },
   {
    "duration": 145,
    "start_time": "2021-07-30T11:03:42.808Z"
   },
   {
    "duration": 15,
    "start_time": "2021-07-30T11:03:42.955Z"
   },
   {
    "duration": 34,
    "start_time": "2021-07-30T11:03:42.972Z"
   },
   {
    "duration": 41,
    "start_time": "2021-07-30T11:03:43.007Z"
   },
   {
    "duration": 21,
    "start_time": "2021-07-30T11:03:43.050Z"
   },
   {
    "duration": 11,
    "start_time": "2021-07-30T11:03:43.073Z"
   },
   {
    "duration": 5,
    "start_time": "2021-07-30T11:03:43.086Z"
   },
   {
    "duration": 49,
    "start_time": "2021-07-30T11:03:43.093Z"
   },
   {
    "duration": 245,
    "start_time": "2021-07-30T11:04:41.765Z"
   },
   {
    "duration": 187,
    "start_time": "2021-07-30T11:05:22.727Z"
   },
   {
    "duration": 14,
    "start_time": "2021-07-30T11:05:34.905Z"
   },
   {
    "duration": 183,
    "start_time": "2021-07-30T11:06:40.687Z"
   },
   {
    "duration": 195,
    "start_time": "2021-07-30T11:07:15.122Z"
   },
   {
    "duration": 581,
    "start_time": "2021-07-30T11:07:19.863Z"
   },
   {
    "duration": 177,
    "start_time": "2021-07-30T11:07:20.448Z"
   },
   {
    "duration": 19,
    "start_time": "2021-07-30T11:07:20.627Z"
   },
   {
    "duration": 20,
    "start_time": "2021-07-30T11:07:20.647Z"
   },
   {
    "duration": 28,
    "start_time": "2021-07-30T11:07:20.684Z"
   },
   {
    "duration": 49,
    "start_time": "2021-07-30T11:07:20.714Z"
   },
   {
    "duration": 5,
    "start_time": "2021-07-30T11:07:20.764Z"
   },
   {
    "duration": 8,
    "start_time": "2021-07-30T11:07:20.771Z"
   },
   {
    "duration": 4,
    "start_time": "2021-07-30T11:07:20.780Z"
   },
   {
    "duration": 11,
    "start_time": "2021-07-30T11:07:20.786Z"
   },
   {
    "duration": 98,
    "start_time": "2021-07-30T11:07:20.798Z"
   },
   {
    "duration": 13,
    "start_time": "2021-07-30T11:07:20.898Z"
   },
   {
    "duration": 15,
    "start_time": "2021-07-30T11:07:20.912Z"
   },
   {
    "duration": 25,
    "start_time": "2021-07-30T11:07:20.928Z"
   },
   {
    "duration": 151,
    "start_time": "2021-07-30T11:07:20.955Z"
   },
   {
    "duration": 16,
    "start_time": "2021-07-30T11:07:21.108Z"
   },
   {
    "duration": 17,
    "start_time": "2021-07-30T11:07:21.126Z"
   },
   {
    "duration": 55,
    "start_time": "2021-07-30T11:07:21.145Z"
   },
   {
    "duration": 22,
    "start_time": "2021-07-30T11:07:21.202Z"
   },
   {
    "duration": 12,
    "start_time": "2021-07-30T11:07:21.226Z"
   },
   {
    "duration": 6,
    "start_time": "2021-07-30T11:07:21.239Z"
   },
   {
    "duration": 272,
    "start_time": "2021-07-30T11:07:21.246Z"
   },
   {
    "duration": 177,
    "start_time": "2021-07-30T11:14:42.121Z"
   },
   {
    "duration": 181,
    "start_time": "2021-07-30T11:14:48.336Z"
   },
   {
    "duration": 531,
    "start_time": "2021-07-30T11:18:53.850Z"
   },
   {
    "duration": 168,
    "start_time": "2021-07-30T11:18:54.383Z"
   },
   {
    "duration": 19,
    "start_time": "2021-07-30T11:18:54.553Z"
   },
   {
    "duration": 29,
    "start_time": "2021-07-30T11:18:54.574Z"
   },
   {
    "duration": 29,
    "start_time": "2021-07-30T11:18:54.605Z"
   },
   {
    "duration": 60,
    "start_time": "2021-07-30T11:18:54.635Z"
   },
   {
    "duration": 6,
    "start_time": "2021-07-30T11:18:54.697Z"
   },
   {
    "duration": 6,
    "start_time": "2021-07-30T11:18:54.705Z"
   },
   {
    "duration": 6,
    "start_time": "2021-07-30T11:18:54.713Z"
   },
   {
    "duration": 11,
    "start_time": "2021-07-30T11:18:54.721Z"
   },
   {
    "duration": 113,
    "start_time": "2021-07-30T11:18:54.733Z"
   },
   {
    "duration": 14,
    "start_time": "2021-07-30T11:18:54.848Z"
   },
   {
    "duration": 25,
    "start_time": "2021-07-30T11:18:54.864Z"
   },
   {
    "duration": 29,
    "start_time": "2021-07-30T11:18:54.890Z"
   },
   {
    "duration": 136,
    "start_time": "2021-07-30T11:18:54.921Z"
   },
   {
    "duration": 29,
    "start_time": "2021-07-30T11:18:55.059Z"
   },
   {
    "duration": 17,
    "start_time": "2021-07-30T11:18:55.090Z"
   },
   {
    "duration": 30,
    "start_time": "2021-07-30T11:18:55.109Z"
   },
   {
    "duration": 21,
    "start_time": "2021-07-30T11:18:55.141Z"
   },
   {
    "duration": 28,
    "start_time": "2021-07-30T11:18:55.164Z"
   },
   {
    "duration": 14,
    "start_time": "2021-07-30T11:18:55.194Z"
   },
   {
    "duration": 58,
    "start_time": "2021-07-30T11:18:55.210Z"
   },
   {
    "duration": 29,
    "start_time": "2021-07-30T11:18:55.271Z"
   },
   {
    "duration": 29,
    "start_time": "2021-07-30T11:18:55.302Z"
   },
   {
    "duration": 25,
    "start_time": "2021-07-30T11:18:55.333Z"
   },
   {
    "duration": 42,
    "start_time": "2021-07-30T11:18:55.360Z"
   },
   {
    "duration": 40,
    "start_time": "2021-07-30T11:18:55.404Z"
   },
   {
    "duration": 44,
    "start_time": "2021-07-30T11:18:55.445Z"
   },
   {
    "duration": 762,
    "start_time": "2021-08-01T07:41:15.340Z"
   },
   {
    "duration": 215,
    "start_time": "2021-08-01T07:41:16.105Z"
   },
   {
    "duration": 34,
    "start_time": "2021-08-01T07:41:16.323Z"
   },
   {
    "duration": 26,
    "start_time": "2021-08-01T07:41:16.359Z"
   },
   {
    "duration": 38,
    "start_time": "2021-08-01T07:41:16.387Z"
   },
   {
    "duration": 71,
    "start_time": "2021-08-01T07:41:16.427Z"
   },
   {
    "duration": 7,
    "start_time": "2021-08-01T07:41:16.501Z"
   },
   {
    "duration": 19,
    "start_time": "2021-08-01T07:41:16.511Z"
   },
   {
    "duration": 13,
    "start_time": "2021-08-01T07:41:16.533Z"
   },
   {
    "duration": 25,
    "start_time": "2021-08-01T07:41:16.549Z"
   },
   {
    "duration": 123,
    "start_time": "2021-08-01T07:41:16.576Z"
   },
   {
    "duration": 17,
    "start_time": "2021-08-01T07:41:16.701Z"
   },
   {
    "duration": 37,
    "start_time": "2021-08-01T07:41:16.721Z"
   },
   {
    "duration": 33,
    "start_time": "2021-08-01T07:41:16.761Z"
   },
   {
    "duration": 185,
    "start_time": "2021-08-01T07:41:16.797Z"
   },
   {
    "duration": 20,
    "start_time": "2021-08-01T07:41:16.985Z"
   },
   {
    "duration": 36,
    "start_time": "2021-08-01T07:41:17.007Z"
   },
   {
    "duration": 62,
    "start_time": "2021-08-01T07:41:17.046Z"
   },
   {
    "duration": 47,
    "start_time": "2021-08-01T07:41:17.111Z"
   },
   {
    "duration": 26,
    "start_time": "2021-08-01T07:41:17.161Z"
   },
   {
    "duration": 13,
    "start_time": "2021-08-01T07:41:17.190Z"
   },
   {
    "duration": 107,
    "start_time": "2021-08-01T07:41:17.207Z"
   },
   {
    "duration": 39,
    "start_time": "2021-08-01T07:41:17.319Z"
   },
   {
    "duration": 13,
    "start_time": "2021-08-01T08:10:56.461Z"
   },
   {
    "duration": 761,
    "start_time": "2021-08-01T08:11:11.706Z"
   },
   {
    "duration": 215,
    "start_time": "2021-08-01T08:11:12.470Z"
   },
   {
    "duration": 26,
    "start_time": "2021-08-01T08:11:12.688Z"
   },
   {
    "duration": 46,
    "start_time": "2021-08-01T08:11:12.716Z"
   },
   {
    "duration": 43,
    "start_time": "2021-08-01T08:11:12.764Z"
   },
   {
    "duration": 65,
    "start_time": "2021-08-01T08:11:12.809Z"
   },
   {
    "duration": 8,
    "start_time": "2021-08-01T08:11:12.877Z"
   },
   {
    "duration": 18,
    "start_time": "2021-08-01T08:11:12.889Z"
   },
   {
    "duration": 10,
    "start_time": "2021-08-01T08:11:12.909Z"
   },
   {
    "duration": 43,
    "start_time": "2021-08-01T08:11:12.921Z"
   },
   {
    "duration": 220,
    "start_time": "2021-08-01T08:11:12.966Z"
   },
   {
    "duration": 17,
    "start_time": "2021-08-01T08:11:13.188Z"
   },
   {
    "duration": 21,
    "start_time": "2021-08-01T08:11:13.207Z"
   },
   {
    "duration": 52,
    "start_time": "2021-08-01T08:11:13.230Z"
   },
   {
    "duration": 190,
    "start_time": "2021-08-01T08:11:13.284Z"
   },
   {
    "duration": 19,
    "start_time": "2021-08-01T08:11:13.476Z"
   },
   {
    "duration": 21,
    "start_time": "2021-08-01T08:11:13.498Z"
   },
   {
    "duration": 63,
    "start_time": "2021-08-01T08:11:13.521Z"
   },
   {
    "duration": 24,
    "start_time": "2021-08-01T08:11:13.587Z"
   },
   {
    "duration": 20,
    "start_time": "2021-08-01T08:11:13.613Z"
   },
   {
    "duration": 20,
    "start_time": "2021-08-01T08:11:13.635Z"
   },
   {
    "duration": 66,
    "start_time": "2021-08-01T08:11:13.657Z"
   },
   {
    "duration": 37,
    "start_time": "2021-08-01T08:11:13.727Z"
   },
   {
    "duration": 6,
    "start_time": "2021-08-01T08:12:21.976Z"
   },
   {
    "duration": 6,
    "start_time": "2021-08-01T08:12:25.692Z"
   },
   {
    "duration": 5,
    "start_time": "2021-08-01T08:12:28.344Z"
   },
   {
    "duration": 18,
    "start_time": "2021-08-01T08:12:39.087Z"
   },
   {
    "duration": 492,
    "start_time": "2021-08-01T08:12:50.243Z"
   },
   {
    "duration": 399,
    "start_time": "2021-08-01T08:13:27.673Z"
   },
   {
    "duration": 27,
    "start_time": "2021-08-01T08:13:41.465Z"
   },
   {
    "duration": 13,
    "start_time": "2021-08-01T08:13:52.875Z"
   },
   {
    "duration": 384,
    "start_time": "2021-08-01T08:14:00.637Z"
   },
   {
    "duration": 714,
    "start_time": "2021-08-01T08:14:14.488Z"
   },
   {
    "duration": 212,
    "start_time": "2021-08-01T08:14:15.205Z"
   },
   {
    "duration": 37,
    "start_time": "2021-08-01T08:14:15.420Z"
   },
   {
    "duration": 28,
    "start_time": "2021-08-01T08:14:15.461Z"
   },
   {
    "duration": 64,
    "start_time": "2021-08-01T08:14:15.492Z"
   },
   {
    "duration": 55,
    "start_time": "2021-08-01T08:14:15.559Z"
   },
   {
    "duration": 7,
    "start_time": "2021-08-01T08:14:15.616Z"
   },
   {
    "duration": 9,
    "start_time": "2021-08-01T08:14:15.627Z"
   },
   {
    "duration": 7,
    "start_time": "2021-08-01T08:14:15.638Z"
   },
   {
    "duration": 21,
    "start_time": "2021-08-01T08:14:15.647Z"
   },
   {
    "duration": 127,
    "start_time": "2021-08-01T08:14:15.671Z"
   },
   {
    "duration": 18,
    "start_time": "2021-08-01T08:14:15.800Z"
   },
   {
    "duration": 39,
    "start_time": "2021-08-01T08:14:15.820Z"
   },
   {
    "duration": 34,
    "start_time": "2021-08-01T08:14:15.861Z"
   },
   {
    "duration": 178,
    "start_time": "2021-08-01T08:14:15.897Z"
   },
   {
    "duration": 21,
    "start_time": "2021-08-01T08:14:16.077Z"
   },
   {
    "duration": 22,
    "start_time": "2021-08-01T08:14:16.100Z"
   },
   {
    "duration": 64,
    "start_time": "2021-08-01T08:14:16.125Z"
   },
   {
    "duration": 25,
    "start_time": "2021-08-01T08:14:16.192Z"
   },
   {
    "duration": 37,
    "start_time": "2021-08-01T08:14:16.220Z"
   },
   {
    "duration": 9,
    "start_time": "2021-08-01T08:14:16.259Z"
   },
   {
    "duration": 86,
    "start_time": "2021-08-01T08:14:16.270Z"
   },
   {
    "duration": 15,
    "start_time": "2021-08-01T08:14:16.360Z"
   },
   {
    "duration": 15,
    "start_time": "2021-08-01T08:14:21.323Z"
   },
   {
    "duration": 875,
    "start_time": "2021-08-01T08:14:47.056Z"
   },
   {
    "duration": 215,
    "start_time": "2021-08-01T08:14:47.934Z"
   },
   {
    "duration": 26,
    "start_time": "2021-08-01T08:14:48.152Z"
   },
   {
    "duration": 26,
    "start_time": "2021-08-01T08:14:48.181Z"
   },
   {
    "duration": 62,
    "start_time": "2021-08-01T08:14:48.209Z"
   },
   {
    "duration": 52,
    "start_time": "2021-08-01T08:14:48.274Z"
   },
   {
    "duration": 7,
    "start_time": "2021-08-01T08:14:48.328Z"
   },
   {
    "duration": 16,
    "start_time": "2021-08-01T08:14:48.338Z"
   },
   {
    "duration": 9,
    "start_time": "2021-08-01T08:14:48.357Z"
   },
   {
    "duration": 22,
    "start_time": "2021-08-01T08:14:48.369Z"
   },
   {
    "duration": 132,
    "start_time": "2021-08-01T08:14:48.394Z"
   },
   {
    "duration": 17,
    "start_time": "2021-08-01T08:14:48.528Z"
   },
   {
    "duration": 27,
    "start_time": "2021-08-01T08:14:48.547Z"
   },
   {
    "duration": 39,
    "start_time": "2021-08-01T08:14:48.576Z"
   },
   {
    "duration": 190,
    "start_time": "2021-08-01T08:14:48.617Z"
   },
   {
    "duration": 20,
    "start_time": "2021-08-01T08:14:48.809Z"
   },
   {
    "duration": 38,
    "start_time": "2021-08-01T08:14:48.831Z"
   },
   {
    "duration": 41,
    "start_time": "2021-08-01T08:14:48.872Z"
   },
   {
    "duration": 41,
    "start_time": "2021-08-01T08:14:48.915Z"
   },
   {
    "duration": 18,
    "start_time": "2021-08-01T08:14:48.958Z"
   },
   {
    "duration": 9,
    "start_time": "2021-08-01T08:14:48.978Z"
   },
   {
    "duration": 88,
    "start_time": "2021-08-01T08:14:48.989Z"
   },
   {
    "duration": 22,
    "start_time": "2021-08-01T08:14:49.081Z"
   },
   {
    "duration": 445,
    "start_time": "2021-08-01T08:14:58.374Z"
   },
   {
    "duration": 733,
    "start_time": "2021-08-01T08:15:06.589Z"
   },
   {
    "duration": 215,
    "start_time": "2021-08-01T08:15:07.324Z"
   },
   {
    "duration": 33,
    "start_time": "2021-08-01T08:15:07.541Z"
   },
   {
    "duration": 25,
    "start_time": "2021-08-01T08:15:07.577Z"
   },
   {
    "duration": 65,
    "start_time": "2021-08-01T08:15:07.604Z"
   },
   {
    "duration": 51,
    "start_time": "2021-08-01T08:15:07.671Z"
   },
   {
    "duration": 7,
    "start_time": "2021-08-01T08:15:07.725Z"
   },
   {
    "duration": 8,
    "start_time": "2021-08-01T08:15:07.735Z"
   },
   {
    "duration": 7,
    "start_time": "2021-08-01T08:15:07.746Z"
   },
   {
    "duration": 18,
    "start_time": "2021-08-01T08:15:07.755Z"
   },
   {
    "duration": 131,
    "start_time": "2021-08-01T08:15:07.775Z"
   },
   {
    "duration": 17,
    "start_time": "2021-08-01T08:15:07.909Z"
   },
   {
    "duration": 32,
    "start_time": "2021-08-01T08:15:07.928Z"
   },
   {
    "duration": 35,
    "start_time": "2021-08-01T08:15:07.962Z"
   },
   {
    "duration": 192,
    "start_time": "2021-08-01T08:15:08.000Z"
   },
   {
    "duration": 20,
    "start_time": "2021-08-01T08:15:08.195Z"
   },
   {
    "duration": 41,
    "start_time": "2021-08-01T08:15:08.217Z"
   },
   {
    "duration": 42,
    "start_time": "2021-08-01T08:15:08.261Z"
   },
   {
    "duration": 25,
    "start_time": "2021-08-01T08:15:08.305Z"
   },
   {
    "duration": 38,
    "start_time": "2021-08-01T08:15:08.332Z"
   },
   {
    "duration": 8,
    "start_time": "2021-08-01T08:15:08.373Z"
   },
   {
    "duration": 86,
    "start_time": "2021-08-01T08:15:08.384Z"
   },
   {
    "duration": 23,
    "start_time": "2021-08-01T08:15:08.474Z"
   },
   {
    "duration": 14,
    "start_time": "2021-08-01T08:15:11.405Z"
   },
   {
    "duration": 19,
    "start_time": "2021-08-01T08:15:25.692Z"
   },
   {
    "duration": 20,
    "start_time": "2021-08-01T08:15:54.424Z"
   },
   {
    "duration": 442,
    "start_time": "2021-08-01T08:18:21.331Z"
   },
   {
    "duration": 360,
    "start_time": "2021-08-01T08:18:28.372Z"
   },
   {
    "duration": 8,
    "start_time": "2021-08-01T08:19:30.964Z"
   },
   {
    "duration": 5,
    "start_time": "2021-08-01T08:19:41.909Z"
   },
   {
    "duration": 14,
    "start_time": "2021-08-01T08:20:01.782Z"
   },
   {
    "duration": 35,
    "start_time": "2021-08-01T08:21:34.953Z"
   },
   {
    "duration": 45,
    "start_time": "2021-08-01T08:22:07.320Z"
   },
   {
    "duration": 26,
    "start_time": "2021-08-01T08:24:31.721Z"
   },
   {
    "duration": 11,
    "start_time": "2021-08-01T08:24:39.211Z"
   },
   {
    "duration": 23,
    "start_time": "2021-08-01T08:24:46.943Z"
   },
   {
    "duration": 87,
    "start_time": "2021-08-01T08:25:09.048Z"
   },
   {
    "duration": 1584,
    "start_time": "2021-08-01T08:27:33.961Z"
   },
   {
    "duration": 3639,
    "start_time": "2021-08-01T08:27:49.391Z"
   },
   {
    "duration": 27,
    "start_time": "2021-08-01T08:28:05.601Z"
   },
   {
    "duration": 2144,
    "start_time": "2021-08-01T08:28:43.713Z"
   },
   {
    "duration": 382,
    "start_time": "2021-08-01T08:31:40.277Z"
   },
   {
    "duration": 28,
    "start_time": "2021-08-01T08:33:06.997Z"
   },
   {
    "duration": 35,
    "start_time": "2021-08-01T08:33:43.290Z"
   },
   {
    "duration": 31,
    "start_time": "2021-08-01T08:34:13.104Z"
   },
   {
    "duration": 30,
    "start_time": "2021-08-01T08:34:20.167Z"
   },
   {
    "duration": 36,
    "start_time": "2021-08-01T08:34:25.244Z"
   },
   {
    "duration": 36,
    "start_time": "2021-08-01T08:35:00.465Z"
   },
   {
    "duration": 31,
    "start_time": "2021-08-01T08:36:34.387Z"
   },
   {
    "duration": 30,
    "start_time": "2021-08-01T08:36:58.401Z"
   },
   {
    "duration": 39,
    "start_time": "2021-08-01T08:37:27.099Z"
   },
   {
    "duration": 365,
    "start_time": "2021-08-01T08:40:56.370Z"
   },
   {
    "duration": 342,
    "start_time": "2021-08-01T08:41:36.530Z"
   },
   {
    "duration": 35,
    "start_time": "2021-08-01T08:41:49.654Z"
   },
   {
    "duration": 364,
    "start_time": "2021-08-01T08:42:06.539Z"
   },
   {
    "duration": 13,
    "start_time": "2021-08-01T08:42:17.560Z"
   },
   {
    "duration": 31,
    "start_time": "2021-08-01T08:42:25.554Z"
   },
   {
    "duration": 30,
    "start_time": "2021-08-01T08:43:38.730Z"
   },
   {
    "duration": 31,
    "start_time": "2021-08-01T08:44:07.910Z"
   },
   {
    "duration": 712,
    "start_time": "2021-08-01T09:26:14.982Z"
   },
   {
    "duration": 222,
    "start_time": "2021-08-01T09:26:15.697Z"
   },
   {
    "duration": 24,
    "start_time": "2021-08-01T09:26:15.922Z"
   },
   {
    "duration": 26,
    "start_time": "2021-08-01T09:26:15.957Z"
   },
   {
    "duration": 38,
    "start_time": "2021-08-01T09:26:15.986Z"
   },
   {
    "duration": 91,
    "start_time": "2021-08-01T09:26:16.026Z"
   },
   {
    "duration": 8,
    "start_time": "2021-08-01T09:26:16.119Z"
   },
   {
    "duration": 10,
    "start_time": "2021-08-01T09:26:16.130Z"
   },
   {
    "duration": 7,
    "start_time": "2021-08-01T09:26:16.144Z"
   },
   {
    "duration": 19,
    "start_time": "2021-08-01T09:26:16.154Z"
   },
   {
    "duration": 121,
    "start_time": "2021-08-01T09:26:16.175Z"
   },
   {
    "duration": 18,
    "start_time": "2021-08-01T09:26:16.299Z"
   },
   {
    "duration": 39,
    "start_time": "2021-08-01T09:26:16.320Z"
   },
   {
    "duration": 35,
    "start_time": "2021-08-01T09:26:16.361Z"
   },
   {
    "duration": 199,
    "start_time": "2021-08-01T09:26:16.399Z"
   },
   {
    "duration": 24,
    "start_time": "2021-08-01T09:26:16.601Z"
   },
   {
    "duration": 45,
    "start_time": "2021-08-01T09:26:16.628Z"
   },
   {
    "duration": 40,
    "start_time": "2021-08-01T09:26:16.675Z"
   },
   {
    "duration": 25,
    "start_time": "2021-08-01T09:26:16.717Z"
   },
   {
    "duration": 19,
    "start_time": "2021-08-01T09:26:16.757Z"
   },
   {
    "duration": 8,
    "start_time": "2021-08-01T09:26:16.778Z"
   },
   {
    "duration": 91,
    "start_time": "2021-08-01T09:26:16.789Z"
   },
   {
    "duration": 22,
    "start_time": "2021-08-01T09:26:16.884Z"
   },
   {
    "duration": 10,
    "start_time": "2021-08-01T09:26:16.908Z"
   },
   {
    "duration": 57,
    "start_time": "2021-08-01T09:26:16.920Z"
   },
   {
    "duration": 28,
    "start_time": "2021-08-01T09:26:16.980Z"
   },
   {
    "duration": 528,
    "start_time": "2021-08-01T09:26:17.011Z"
   },
   {
    "duration": 21,
    "start_time": "2021-08-01T09:32:25.091Z"
   },
   {
    "duration": 25,
    "start_time": "2021-08-01T09:33:38.359Z"
   },
   {
    "duration": 377,
    "start_time": "2021-08-01T09:34:45.544Z"
   },
   {
    "duration": 801,
    "start_time": "2021-08-01T09:34:57.024Z"
   },
   {
    "duration": 235,
    "start_time": "2021-08-01T09:34:57.828Z"
   },
   {
    "duration": 30,
    "start_time": "2021-08-01T09:34:58.067Z"
   },
   {
    "duration": 55,
    "start_time": "2021-08-01T09:34:58.101Z"
   },
   {
    "duration": 51,
    "start_time": "2021-08-01T09:34:58.159Z"
   },
   {
    "duration": 81,
    "start_time": "2021-08-01T09:34:58.213Z"
   },
   {
    "duration": 7,
    "start_time": "2021-08-01T09:34:58.297Z"
   },
   {
    "duration": 13,
    "start_time": "2021-08-01T09:34:58.308Z"
   },
   {
    "duration": 5,
    "start_time": "2021-08-01T09:34:58.326Z"
   },
   {
    "duration": 35,
    "start_time": "2021-08-01T09:34:58.334Z"
   },
   {
    "duration": 127,
    "start_time": "2021-08-01T09:34:58.371Z"
   },
   {
    "duration": 18,
    "start_time": "2021-08-01T09:34:58.500Z"
   },
   {
    "duration": 38,
    "start_time": "2021-08-01T09:34:58.521Z"
   },
   {
    "duration": 37,
    "start_time": "2021-08-01T09:34:58.562Z"
   },
   {
    "duration": 190,
    "start_time": "2021-08-01T09:34:58.602Z"
   },
   {
    "duration": 22,
    "start_time": "2021-08-01T09:34:58.794Z"
   },
   {
    "duration": 43,
    "start_time": "2021-08-01T09:34:58.819Z"
   },
   {
    "duration": 45,
    "start_time": "2021-08-01T09:34:58.865Z"
   },
   {
    "duration": 46,
    "start_time": "2021-08-01T09:34:58.913Z"
   },
   {
    "duration": 30,
    "start_time": "2021-08-01T09:34:58.961Z"
   },
   {
    "duration": 9,
    "start_time": "2021-08-01T09:34:58.993Z"
   },
   {
    "duration": 90,
    "start_time": "2021-08-01T09:34:59.004Z"
   },
   {
    "duration": 28,
    "start_time": "2021-08-01T09:34:59.097Z"
   },
   {
    "duration": 28,
    "start_time": "2021-08-01T09:34:59.128Z"
   },
   {
    "duration": 43,
    "start_time": "2021-08-01T09:34:59.159Z"
   },
   {
    "duration": 63,
    "start_time": "2021-08-01T09:34:59.205Z"
   },
   {
    "duration": 31,
    "start_time": "2021-08-01T09:34:59.273Z"
   },
   {
    "duration": 462,
    "start_time": "2021-08-01T09:36:47.773Z"
   },
   {
    "duration": 818,
    "start_time": "2021-08-01T09:36:56.732Z"
   },
   {
    "duration": 220,
    "start_time": "2021-08-01T09:36:57.552Z"
   },
   {
    "duration": 26,
    "start_time": "2021-08-01T09:36:57.775Z"
   },
   {
    "duration": 27,
    "start_time": "2021-08-01T09:36:57.804Z"
   },
   {
    "duration": 52,
    "start_time": "2021-08-01T09:36:57.856Z"
   },
   {
    "duration": 63,
    "start_time": "2021-08-01T09:36:57.910Z"
   },
   {
    "duration": 7,
    "start_time": "2021-08-01T09:36:57.975Z"
   },
   {
    "duration": 11,
    "start_time": "2021-08-01T09:36:57.988Z"
   },
   {
    "duration": 6,
    "start_time": "2021-08-01T09:36:58.003Z"
   },
   {
    "duration": 57,
    "start_time": "2021-08-01T09:36:58.012Z"
   },
   {
    "duration": 142,
    "start_time": "2021-08-01T09:36:58.072Z"
   },
   {
    "duration": 19,
    "start_time": "2021-08-01T09:36:58.217Z"
   },
   {
    "duration": 38,
    "start_time": "2021-08-01T09:36:58.238Z"
   },
   {
    "duration": 36,
    "start_time": "2021-08-01T09:36:58.279Z"
   },
   {
    "duration": 205,
    "start_time": "2021-08-01T09:36:58.318Z"
   },
   {
    "duration": 31,
    "start_time": "2021-08-01T09:36:58.526Z"
   },
   {
    "duration": 24,
    "start_time": "2021-08-01T09:36:58.560Z"
   },
   {
    "duration": 75,
    "start_time": "2021-08-01T09:36:58.587Z"
   },
   {
    "duration": 26,
    "start_time": "2021-08-01T09:36:58.665Z"
   },
   {
    "duration": 28,
    "start_time": "2021-08-01T09:36:58.693Z"
   },
   {
    "duration": 9,
    "start_time": "2021-08-01T09:36:58.723Z"
   },
   {
    "duration": 77,
    "start_time": "2021-08-01T09:36:58.734Z"
   },
   {
    "duration": 21,
    "start_time": "2021-08-01T09:36:58.815Z"
   },
   {
    "duration": 28,
    "start_time": "2021-08-01T09:36:58.838Z"
   },
   {
    "duration": 33,
    "start_time": "2021-08-01T09:36:58.868Z"
   },
   {
    "duration": 61,
    "start_time": "2021-08-01T09:36:58.903Z"
   },
   {
    "duration": 29,
    "start_time": "2021-08-01T09:36:58.967Z"
   },
   {
    "duration": 489,
    "start_time": "2021-08-01T09:36:58.999Z"
   },
   {
    "duration": 368,
    "start_time": "2021-08-01T09:37:46.094Z"
   },
   {
    "duration": 441,
    "start_time": "2021-08-01T09:38:29.321Z"
   },
   {
    "duration": 358,
    "start_time": "2021-08-01T09:38:50.490Z"
   },
   {
    "duration": 749,
    "start_time": "2021-08-01T09:38:56.648Z"
   },
   {
    "duration": 214,
    "start_time": "2021-08-01T09:38:57.400Z"
   },
   {
    "duration": 25,
    "start_time": "2021-08-01T09:38:57.617Z"
   },
   {
    "duration": 32,
    "start_time": "2021-08-01T09:38:57.645Z"
   },
   {
    "duration": 39,
    "start_time": "2021-08-01T09:38:57.680Z"
   },
   {
    "duration": 52,
    "start_time": "2021-08-01T09:38:57.721Z"
   },
   {
    "duration": 14,
    "start_time": "2021-08-01T09:38:57.775Z"
   },
   {
    "duration": 24,
    "start_time": "2021-08-01T09:38:57.792Z"
   },
   {
    "duration": 10,
    "start_time": "2021-08-01T09:38:57.819Z"
   },
   {
    "duration": 27,
    "start_time": "2021-08-01T09:38:57.831Z"
   },
   {
    "duration": 125,
    "start_time": "2021-08-01T09:38:57.861Z"
   },
   {
    "duration": 20,
    "start_time": "2021-08-01T09:38:57.989Z"
   },
   {
    "duration": 45,
    "start_time": "2021-08-01T09:38:58.012Z"
   },
   {
    "duration": 36,
    "start_time": "2021-08-01T09:38:58.060Z"
   },
   {
    "duration": 285,
    "start_time": "2021-08-01T09:38:58.099Z"
   },
   {
    "duration": 22,
    "start_time": "2021-08-01T09:38:58.386Z"
   },
   {
    "duration": 27,
    "start_time": "2021-08-01T09:38:58.410Z"
   },
   {
    "duration": 56,
    "start_time": "2021-08-01T09:38:58.439Z"
   },
   {
    "duration": 25,
    "start_time": "2021-08-01T09:38:58.497Z"
   },
   {
    "duration": 32,
    "start_time": "2021-08-01T09:38:58.524Z"
   },
   {
    "duration": 10,
    "start_time": "2021-08-01T09:38:58.559Z"
   },
   {
    "duration": 85,
    "start_time": "2021-08-01T09:38:58.571Z"
   },
   {
    "duration": 22,
    "start_time": "2021-08-01T09:38:58.660Z"
   },
   {
    "duration": 10,
    "start_time": "2021-08-01T09:38:58.685Z"
   },
   {
    "duration": 58,
    "start_time": "2021-08-01T09:38:58.698Z"
   },
   {
    "duration": 30,
    "start_time": "2021-08-01T09:38:58.758Z"
   },
   {
    "duration": 30,
    "start_time": "2021-08-01T09:38:58.791Z"
   },
   {
    "duration": 471,
    "start_time": "2021-08-01T09:38:58.824Z"
   },
   {
    "duration": 372,
    "start_time": "2021-08-01T09:40:16.051Z"
   },
   {
    "duration": 366,
    "start_time": "2021-08-01T09:40:26.808Z"
   },
   {
    "duration": 421,
    "start_time": "2021-08-01T09:40:46.688Z"
   },
   {
    "duration": 771,
    "start_time": "2021-08-01T09:40:59.826Z"
   },
   {
    "duration": 220,
    "start_time": "2021-08-01T09:41:00.600Z"
   },
   {
    "duration": 35,
    "start_time": "2021-08-01T09:41:00.824Z"
   },
   {
    "duration": 30,
    "start_time": "2021-08-01T09:41:00.862Z"
   },
   {
    "duration": 66,
    "start_time": "2021-08-01T09:41:00.896Z"
   },
   {
    "duration": 53,
    "start_time": "2021-08-01T09:41:00.965Z"
   },
   {
    "duration": 10,
    "start_time": "2021-08-01T09:41:01.021Z"
   },
   {
    "duration": 21,
    "start_time": "2021-08-01T09:41:01.033Z"
   },
   {
    "duration": 25,
    "start_time": "2021-08-01T09:41:01.058Z"
   },
   {
    "duration": 22,
    "start_time": "2021-08-01T09:41:01.086Z"
   },
   {
    "duration": 131,
    "start_time": "2021-08-01T09:41:01.111Z"
   },
   {
    "duration": 18,
    "start_time": "2021-08-01T09:41:01.245Z"
   },
   {
    "duration": 34,
    "start_time": "2021-08-01T09:41:01.266Z"
   },
   {
    "duration": 40,
    "start_time": "2021-08-01T09:41:01.303Z"
   },
   {
    "duration": 176,
    "start_time": "2021-08-01T09:41:01.345Z"
   },
   {
    "duration": 33,
    "start_time": "2021-08-01T09:41:01.524Z"
   },
   {
    "duration": 24,
    "start_time": "2021-08-01T09:41:01.560Z"
   },
   {
    "duration": 42,
    "start_time": "2021-08-01T09:41:01.587Z"
   },
   {
    "duration": 37,
    "start_time": "2021-08-01T09:41:01.631Z"
   },
   {
    "duration": 26,
    "start_time": "2021-08-01T09:41:01.670Z"
   },
   {
    "duration": 9,
    "start_time": "2021-08-01T09:41:01.699Z"
   },
   {
    "duration": 97,
    "start_time": "2021-08-01T09:41:01.710Z"
   },
   {
    "duration": 22,
    "start_time": "2021-08-01T09:41:01.810Z"
   },
   {
    "duration": 27,
    "start_time": "2021-08-01T09:41:01.835Z"
   },
   {
    "duration": 45,
    "start_time": "2021-08-01T09:41:01.865Z"
   },
   {
    "duration": 30,
    "start_time": "2021-08-01T09:41:01.912Z"
   },
   {
    "duration": 37,
    "start_time": "2021-08-01T09:41:01.946Z"
   },
   {
    "duration": 529,
    "start_time": "2021-08-01T09:41:01.985Z"
   },
   {
    "duration": 10,
    "start_time": "2021-08-01T09:42:14.759Z"
   },
   {
    "duration": 2254,
    "start_time": "2021-08-01T09:43:58.005Z"
   },
   {
    "duration": 6,
    "start_time": "2021-08-01T09:44:35.159Z"
   },
   {
    "duration": 378,
    "start_time": "2021-08-01T09:44:36.835Z"
   },
   {
    "duration": 355,
    "start_time": "2021-08-01T09:44:45.545Z"
   },
   {
    "duration": 349,
    "start_time": "2021-08-01T09:44:48.749Z"
   },
   {
    "duration": 5,
    "start_time": "2021-08-01T09:44:58.227Z"
   },
   {
    "duration": 614,
    "start_time": "2021-08-01T09:45:10.220Z"
   },
   {
    "duration": 20,
    "start_time": "2021-08-01T09:45:49.041Z"
   },
   {
    "duration": 390,
    "start_time": "2021-08-01T09:47:07.404Z"
   },
   {
    "duration": 13,
    "start_time": "2021-08-01T09:47:19.123Z"
   },
   {
    "duration": 395,
    "start_time": "2021-08-01T09:47:42.055Z"
   },
   {
    "duration": 14,
    "start_time": "2021-08-01T09:47:57.012Z"
   },
   {
    "duration": 383,
    "start_time": "2021-08-01T09:48:01.887Z"
   },
   {
    "duration": 13,
    "start_time": "2021-08-01T09:48:05.315Z"
   },
   {
    "duration": 354,
    "start_time": "2021-08-01T09:48:21.312Z"
   },
   {
    "duration": 346,
    "start_time": "2021-08-01T09:48:54.180Z"
   },
   {
    "duration": 385,
    "start_time": "2021-08-01T09:49:05.135Z"
   },
   {
    "duration": 361,
    "start_time": "2021-08-01T09:49:59.002Z"
   },
   {
    "duration": 1385,
    "start_time": "2021-08-01T09:50:08.333Z"
   },
   {
    "duration": 21,
    "start_time": "2021-08-01T09:50:51.680Z"
   },
   {
    "duration": 368,
    "start_time": "2021-08-01T09:51:35.385Z"
   },
   {
    "duration": 359,
    "start_time": "2021-08-01T09:51:53.205Z"
   },
   {
    "duration": 25,
    "start_time": "2021-08-01T09:52:54.684Z"
   },
   {
    "duration": 122,
    "start_time": "2021-08-01T09:54:08.248Z"
   },
   {
    "duration": 970,
    "start_time": "2021-08-01T09:54:41.008Z"
   },
   {
    "duration": 360,
    "start_time": "2021-08-01T09:54:56.441Z"
   },
   {
    "duration": 362,
    "start_time": "2021-08-01T09:55:05.153Z"
   },
   {
    "duration": 18,
    "start_time": "2021-08-01T09:55:09.308Z"
   },
   {
    "duration": 791,
    "start_time": "2021-08-01T09:55:23.883Z"
   },
   {
    "duration": 225,
    "start_time": "2021-08-01T09:55:24.677Z"
   },
   {
    "duration": 26,
    "start_time": "2021-08-01T09:55:24.907Z"
   },
   {
    "duration": 43,
    "start_time": "2021-08-01T09:55:24.937Z"
   },
   {
    "duration": 43,
    "start_time": "2021-08-01T09:55:24.983Z"
   },
   {
    "duration": 74,
    "start_time": "2021-08-01T09:55:25.028Z"
   },
   {
    "duration": 9,
    "start_time": "2021-08-01T09:55:25.105Z"
   },
   {
    "duration": 11,
    "start_time": "2021-08-01T09:55:25.119Z"
   },
   {
    "duration": 23,
    "start_time": "2021-08-01T09:55:25.133Z"
   },
   {
    "duration": 23,
    "start_time": "2021-08-01T09:55:25.158Z"
   },
   {
    "duration": 126,
    "start_time": "2021-08-01T09:55:25.184Z"
   },
   {
    "duration": 19,
    "start_time": "2021-08-01T09:55:25.313Z"
   },
   {
    "duration": 33,
    "start_time": "2021-08-01T09:55:25.335Z"
   },
   {
    "duration": 40,
    "start_time": "2021-08-01T09:55:25.371Z"
   },
   {
    "duration": 225,
    "start_time": "2021-08-01T09:55:25.414Z"
   },
   {
    "duration": 41,
    "start_time": "2021-08-01T09:55:25.642Z"
   },
   {
    "duration": 25,
    "start_time": "2021-08-01T09:55:25.685Z"
   },
   {
    "duration": 81,
    "start_time": "2021-08-01T09:55:25.713Z"
   },
   {
    "duration": 26,
    "start_time": "2021-08-01T09:55:25.796Z"
   },
   {
    "duration": 31,
    "start_time": "2021-08-01T09:55:25.825Z"
   },
   {
    "duration": 10,
    "start_time": "2021-08-01T09:55:25.858Z"
   },
   {
    "duration": 90,
    "start_time": "2021-08-01T09:55:25.870Z"
   },
   {
    "duration": 22,
    "start_time": "2021-08-01T09:55:25.964Z"
   },
   {
    "duration": 8,
    "start_time": "2021-08-01T09:55:25.989Z"
   },
   {
    "duration": 60,
    "start_time": "2021-08-01T09:55:25.999Z"
   },
   {
    "duration": 32,
    "start_time": "2021-08-01T09:55:26.062Z"
   },
   {
    "duration": 61,
    "start_time": "2021-08-01T09:55:26.096Z"
   },
   {
    "duration": 35,
    "start_time": "2021-08-01T09:55:26.159Z"
   },
   {
    "duration": 472,
    "start_time": "2021-08-01T09:56:15.734Z"
   },
   {
    "duration": 29,
    "start_time": "2021-08-01T09:56:23.135Z"
   },
   {
    "duration": 472,
    "start_time": "2021-08-01T09:56:39.399Z"
   },
   {
    "duration": 29,
    "start_time": "2021-08-01T09:57:02.808Z"
   },
   {
    "duration": 40,
    "start_time": "2021-08-01T09:58:19.377Z"
   },
   {
    "duration": 41,
    "start_time": "2021-08-01T09:58:27.743Z"
   },
   {
    "duration": 24,
    "start_time": "2021-08-01T09:59:21.039Z"
   },
   {
    "duration": 49,
    "start_time": "2021-08-01T09:59:55.356Z"
   },
   {
    "duration": 34,
    "start_time": "2021-08-01T10:00:14.889Z"
   },
   {
    "duration": 36,
    "start_time": "2021-08-01T10:00:23.109Z"
   },
   {
    "duration": 85,
    "start_time": "2021-08-01T10:00:30.274Z"
   },
   {
    "duration": 42,
    "start_time": "2021-08-01T10:00:34.852Z"
   },
   {
    "duration": 35,
    "start_time": "2021-08-01T10:00:39.987Z"
   },
   {
    "duration": 46,
    "start_time": "2021-08-01T10:00:43.639Z"
   },
   {
    "duration": 744,
    "start_time": "2021-08-02T07:27:42.327Z"
   },
   {
    "duration": 224,
    "start_time": "2021-08-02T07:27:43.075Z"
   },
   {
    "duration": 32,
    "start_time": "2021-08-02T07:27:43.302Z"
   },
   {
    "duration": 48,
    "start_time": "2021-08-02T07:27:43.337Z"
   },
   {
    "duration": 42,
    "start_time": "2021-08-02T07:27:43.388Z"
   },
   {
    "duration": 85,
    "start_time": "2021-08-02T07:27:43.433Z"
   },
   {
    "duration": 8,
    "start_time": "2021-08-02T07:27:43.522Z"
   },
   {
    "duration": 9,
    "start_time": "2021-08-02T07:27:43.534Z"
   },
   {
    "duration": 5,
    "start_time": "2021-08-02T07:27:43.546Z"
   },
   {
    "duration": 42,
    "start_time": "2021-08-02T07:27:43.553Z"
   },
   {
    "duration": 139,
    "start_time": "2021-08-02T07:27:43.597Z"
   },
   {
    "duration": 20,
    "start_time": "2021-08-02T07:27:43.739Z"
   },
   {
    "duration": 37,
    "start_time": "2021-08-02T07:27:43.762Z"
   },
   {
    "duration": 38,
    "start_time": "2021-08-02T07:27:43.802Z"
   },
   {
    "duration": 217,
    "start_time": "2021-08-02T07:27:43.843Z"
   },
   {
    "duration": 30,
    "start_time": "2021-08-02T07:27:44.062Z"
   },
   {
    "duration": 22,
    "start_time": "2021-08-02T07:27:44.095Z"
   },
   {
    "duration": 65,
    "start_time": "2021-08-02T07:27:44.120Z"
   },
   {
    "duration": 26,
    "start_time": "2021-08-02T07:27:44.187Z"
   },
   {
    "duration": 21,
    "start_time": "2021-08-02T07:27:44.215Z"
   },
   {
    "duration": 8,
    "start_time": "2021-08-02T07:27:44.239Z"
   },
   {
    "duration": 89,
    "start_time": "2021-08-02T07:27:44.250Z"
   },
   {
    "duration": 24,
    "start_time": "2021-08-02T07:27:44.343Z"
   },
   {
    "duration": 21,
    "start_time": "2021-08-02T07:27:44.369Z"
   },
   {
    "duration": 39,
    "start_time": "2021-08-02T07:27:44.393Z"
   },
   {
    "duration": 53,
    "start_time": "2021-08-02T07:27:44.434Z"
   },
   {
    "duration": 32,
    "start_time": "2021-08-02T07:27:44.489Z"
   },
   {
    "duration": 61,
    "start_time": "2021-08-02T07:27:44.524Z"
   },
   {
    "duration": 21,
    "start_time": "2021-08-02T07:28:55.838Z"
   },
   {
    "duration": 455,
    "start_time": "2021-08-02T07:31:30.479Z"
   },
   {
    "duration": 7,
    "start_time": "2021-08-02T07:32:36.999Z"
   },
   {
    "duration": 527,
    "start_time": "2021-08-02T07:41:40.902Z"
   },
   {
    "duration": 434,
    "start_time": "2021-08-02T07:41:48.230Z"
   },
   {
    "duration": 5130,
    "start_time": "2021-08-02T07:42:03.557Z"
   },
   {
    "duration": 866,
    "start_time": "2021-08-02T07:42:15.782Z"
   },
   {
    "duration": 234,
    "start_time": "2021-08-02T07:42:16.652Z"
   },
   {
    "duration": 26,
    "start_time": "2021-08-02T07:42:16.890Z"
   },
   {
    "duration": 28,
    "start_time": "2021-08-02T07:42:16.919Z"
   },
   {
    "duration": 73,
    "start_time": "2021-08-02T07:42:16.950Z"
   },
   {
    "duration": 86,
    "start_time": "2021-08-02T07:42:17.026Z"
   },
   {
    "duration": 8,
    "start_time": "2021-08-02T07:42:17.114Z"
   },
   {
    "duration": 9,
    "start_time": "2021-08-02T07:42:17.126Z"
   },
   {
    "duration": 4,
    "start_time": "2021-08-02T07:42:17.138Z"
   },
   {
    "duration": 51,
    "start_time": "2021-08-02T07:42:17.144Z"
   },
   {
    "duration": 136,
    "start_time": "2021-08-02T07:42:17.198Z"
   },
   {
    "duration": 19,
    "start_time": "2021-08-02T07:42:17.337Z"
   },
   {
    "duration": 50,
    "start_time": "2021-08-02T07:42:17.359Z"
   },
   {
    "duration": 52,
    "start_time": "2021-08-02T07:42:17.412Z"
   },
   {
    "duration": 210,
    "start_time": "2021-08-02T07:42:17.467Z"
   },
   {
    "duration": 27,
    "start_time": "2021-08-02T07:42:17.680Z"
   },
   {
    "duration": 23,
    "start_time": "2021-08-02T07:42:17.710Z"
   },
   {
    "duration": 71,
    "start_time": "2021-08-02T07:42:17.736Z"
   },
   {
    "duration": 26,
    "start_time": "2021-08-02T07:42:17.810Z"
   },
   {
    "duration": 26,
    "start_time": "2021-08-02T07:42:17.838Z"
   },
   {
    "duration": 19,
    "start_time": "2021-08-02T07:42:17.866Z"
   },
   {
    "duration": 70,
    "start_time": "2021-08-02T07:42:17.888Z"
   },
   {
    "duration": 42,
    "start_time": "2021-08-02T07:42:17.962Z"
   },
   {
    "duration": 10,
    "start_time": "2021-08-02T07:42:18.007Z"
   },
   {
    "duration": 32,
    "start_time": "2021-08-02T07:42:18.020Z"
   },
   {
    "duration": 58,
    "start_time": "2021-08-02T07:42:18.054Z"
   },
   {
    "duration": 31,
    "start_time": "2021-08-02T07:42:18.114Z"
   },
   {
    "duration": 68,
    "start_time": "2021-08-02T07:42:18.148Z"
   },
   {
    "duration": 19,
    "start_time": "2021-08-02T07:42:18.219Z"
   },
   {
    "duration": 11,
    "start_time": "2021-08-02T07:42:18.241Z"
   },
   {
    "duration": 5688,
    "start_time": "2021-08-02T07:44:13.392Z"
   },
   {
    "duration": 780,
    "start_time": "2021-08-02T07:44:25.928Z"
   },
   {
    "duration": 250,
    "start_time": "2021-08-02T07:44:26.711Z"
   },
   {
    "duration": 40,
    "start_time": "2021-08-02T07:44:26.964Z"
   },
   {
    "duration": 35,
    "start_time": "2021-08-02T07:44:27.006Z"
   },
   {
    "duration": 65,
    "start_time": "2021-08-02T07:44:27.043Z"
   },
   {
    "duration": 82,
    "start_time": "2021-08-02T07:44:27.110Z"
   },
   {
    "duration": 7,
    "start_time": "2021-08-02T07:44:27.195Z"
   },
   {
    "duration": 24,
    "start_time": "2021-08-02T07:44:27.206Z"
   },
   {
    "duration": 13,
    "start_time": "2021-08-02T07:44:27.233Z"
   },
   {
    "duration": 28,
    "start_time": "2021-08-02T07:44:27.248Z"
   },
   {
    "duration": 141,
    "start_time": "2021-08-02T07:44:27.286Z"
   },
   {
    "duration": 18,
    "start_time": "2021-08-02T07:44:27.429Z"
   },
   {
    "duration": 45,
    "start_time": "2021-08-02T07:44:27.450Z"
   },
   {
    "duration": 41,
    "start_time": "2021-08-02T07:44:27.497Z"
   },
   {
    "duration": 210,
    "start_time": "2021-08-02T07:44:27.540Z"
   },
   {
    "duration": 35,
    "start_time": "2021-08-02T07:44:27.752Z"
   },
   {
    "duration": 23,
    "start_time": "2021-08-02T07:44:27.790Z"
   },
   {
    "duration": 71,
    "start_time": "2021-08-02T07:44:27.815Z"
   },
   {
    "duration": 29,
    "start_time": "2021-08-02T07:44:27.888Z"
   },
   {
    "duration": 22,
    "start_time": "2021-08-02T07:44:27.920Z"
   },
   {
    "duration": 9,
    "start_time": "2021-08-02T07:44:27.945Z"
   },
   {
    "duration": 102,
    "start_time": "2021-08-02T07:44:27.957Z"
   },
   {
    "duration": 36,
    "start_time": "2021-08-02T07:44:28.065Z"
   },
   {
    "duration": 10,
    "start_time": "2021-08-02T07:44:28.103Z"
   },
   {
    "duration": 39,
    "start_time": "2021-08-02T07:44:28.116Z"
   },
   {
    "duration": 54,
    "start_time": "2021-08-02T07:44:28.158Z"
   },
   {
    "duration": 36,
    "start_time": "2021-08-02T07:44:28.214Z"
   },
   {
    "duration": 67,
    "start_time": "2021-08-02T07:44:28.252Z"
   },
   {
    "duration": 21,
    "start_time": "2021-08-02T07:44:28.321Z"
   },
   {
    "duration": 51,
    "start_time": "2021-08-02T07:44:28.345Z"
   },
   {
    "duration": 21,
    "start_time": "2021-08-02T07:45:07.667Z"
   },
   {
    "duration": 478,
    "start_time": "2021-08-02T07:45:40.057Z"
   },
   {
    "duration": 753,
    "start_time": "2021-08-02T07:45:53.010Z"
   },
   {
    "duration": 283,
    "start_time": "2021-08-02T07:45:53.766Z"
   },
   {
    "duration": 51,
    "start_time": "2021-08-02T07:45:54.053Z"
   },
   {
    "duration": 29,
    "start_time": "2021-08-02T07:45:54.108Z"
   },
   {
    "duration": 69,
    "start_time": "2021-08-02T07:45:54.139Z"
   },
   {
    "duration": 61,
    "start_time": "2021-08-02T07:45:54.210Z"
   },
   {
    "duration": 11,
    "start_time": "2021-08-02T07:45:54.273Z"
   },
   {
    "duration": 9,
    "start_time": "2021-08-02T07:45:54.288Z"
   },
   {
    "duration": 10,
    "start_time": "2021-08-02T07:45:54.300Z"
   },
   {
    "duration": 17,
    "start_time": "2021-08-02T07:45:54.312Z"
   },
   {
    "duration": 142,
    "start_time": "2021-08-02T07:45:54.332Z"
   },
   {
    "duration": 22,
    "start_time": "2021-08-02T07:45:54.477Z"
   },
   {
    "duration": 20,
    "start_time": "2021-08-02T07:45:54.502Z"
   },
   {
    "duration": 71,
    "start_time": "2021-08-02T07:45:54.525Z"
   },
   {
    "duration": 200,
    "start_time": "2021-08-02T07:45:54.599Z"
   },
   {
    "duration": 23,
    "start_time": "2021-08-02T07:45:54.801Z"
   },
   {
    "duration": 24,
    "start_time": "2021-08-02T07:45:54.827Z"
   },
   {
    "duration": 75,
    "start_time": "2021-08-02T07:45:54.854Z"
   },
   {
    "duration": 27,
    "start_time": "2021-08-02T07:45:54.931Z"
   },
   {
    "duration": 46,
    "start_time": "2021-08-02T07:45:54.961Z"
   },
   {
    "duration": 11,
    "start_time": "2021-08-02T07:45:55.010Z"
   },
   {
    "duration": 99,
    "start_time": "2021-08-02T07:45:55.024Z"
   },
   {
    "duration": 22,
    "start_time": "2021-08-02T07:45:55.128Z"
   },
   {
    "duration": 33,
    "start_time": "2021-08-02T07:45:55.153Z"
   },
   {
    "duration": 35,
    "start_time": "2021-08-02T07:45:55.188Z"
   },
   {
    "duration": 31,
    "start_time": "2021-08-02T07:45:55.226Z"
   },
   {
    "duration": 35,
    "start_time": "2021-08-02T07:45:55.284Z"
   },
   {
    "duration": 39,
    "start_time": "2021-08-02T07:45:55.322Z"
   },
   {
    "duration": 42,
    "start_time": "2021-08-02T07:45:55.364Z"
   },
   {
    "duration": 483,
    "start_time": "2021-08-02T07:45:55.409Z"
   },
   {
    "duration": 22,
    "start_time": "2021-08-02T07:46:07.961Z"
   },
   {
    "duration": 6,
    "start_time": "2021-08-02T07:46:44.417Z"
   },
   {
    "duration": 6,
    "start_time": "2021-08-02T07:46:58.164Z"
   },
   {
    "duration": 7,
    "start_time": "2021-08-02T07:47:30.786Z"
   },
   {
    "duration": 6,
    "start_time": "2021-08-02T07:49:06.524Z"
   },
   {
    "duration": 20,
    "start_time": "2021-08-02T07:49:52.366Z"
   },
   {
    "duration": 746,
    "start_time": "2021-08-02T07:51:14.735Z"
   },
   {
    "duration": 229,
    "start_time": "2021-08-02T07:51:15.483Z"
   },
   {
    "duration": 26,
    "start_time": "2021-08-02T07:51:15.717Z"
   },
   {
    "duration": 45,
    "start_time": "2021-08-02T07:51:15.745Z"
   },
   {
    "duration": 41,
    "start_time": "2021-08-02T07:51:15.792Z"
   },
   {
    "duration": 53,
    "start_time": "2021-08-02T07:51:15.836Z"
   },
   {
    "duration": 8,
    "start_time": "2021-08-02T07:51:15.892Z"
   },
   {
    "duration": 26,
    "start_time": "2021-08-02T07:51:15.903Z"
   },
   {
    "duration": 11,
    "start_time": "2021-08-02T07:51:15.931Z"
   },
   {
    "duration": 21,
    "start_time": "2021-08-02T07:51:15.945Z"
   },
   {
    "duration": 139,
    "start_time": "2021-08-02T07:51:15.969Z"
   },
   {
    "duration": 18,
    "start_time": "2021-08-02T07:51:16.110Z"
   },
   {
    "duration": 18,
    "start_time": "2021-08-02T07:51:16.130Z"
   },
   {
    "duration": 61,
    "start_time": "2021-08-02T07:51:16.150Z"
   },
   {
    "duration": 183,
    "start_time": "2021-08-02T07:51:16.213Z"
   },
   {
    "duration": 22,
    "start_time": "2021-08-02T07:51:16.399Z"
   },
   {
    "duration": 25,
    "start_time": "2021-08-02T07:51:16.424Z"
   },
   {
    "duration": 70,
    "start_time": "2021-08-02T07:51:16.451Z"
   },
   {
    "duration": 25,
    "start_time": "2021-08-02T07:51:16.523Z"
   },
   {
    "duration": 28,
    "start_time": "2021-08-02T07:51:16.551Z"
   },
   {
    "duration": 9,
    "start_time": "2021-08-02T07:51:16.585Z"
   },
   {
    "duration": 91,
    "start_time": "2021-08-02T07:51:16.598Z"
   },
   {
    "duration": 23,
    "start_time": "2021-08-02T07:51:16.692Z"
   },
   {
    "duration": 10,
    "start_time": "2021-08-02T07:51:16.717Z"
   },
   {
    "duration": 62,
    "start_time": "2021-08-02T07:51:16.729Z"
   },
   {
    "duration": 29,
    "start_time": "2021-08-02T07:51:16.793Z"
   },
   {
    "duration": 29,
    "start_time": "2021-08-02T07:51:16.825Z"
   },
   {
    "duration": 61,
    "start_time": "2021-08-02T07:51:16.856Z"
   },
   {
    "duration": 19,
    "start_time": "2021-08-02T07:51:16.919Z"
   },
   {
    "duration": 47,
    "start_time": "2021-08-02T07:51:16.940Z"
   },
   {
    "duration": 5,
    "start_time": "2021-08-02T07:51:16.990Z"
   },
   {
    "duration": 9,
    "start_time": "2021-08-02T07:51:16.997Z"
   },
   {
    "duration": 8,
    "start_time": "2021-08-02T07:51:17.008Z"
   },
   {
    "duration": 27,
    "start_time": "2021-08-02T07:51:17.018Z"
   },
   {
    "duration": 8,
    "start_time": "2021-08-02T07:56:09.978Z"
   },
   {
    "duration": 129,
    "start_time": "2021-08-02T07:56:23.069Z"
   },
   {
    "duration": 113,
    "start_time": "2021-08-02T07:56:59.711Z"
   },
   {
    "duration": 755,
    "start_time": "2021-08-02T07:57:59.627Z"
   },
   {
    "duration": 233,
    "start_time": "2021-08-02T07:58:00.386Z"
   },
   {
    "duration": 29,
    "start_time": "2021-08-02T07:58:00.623Z"
   },
   {
    "duration": 50,
    "start_time": "2021-08-02T07:58:00.655Z"
   },
   {
    "duration": 40,
    "start_time": "2021-08-02T07:58:00.708Z"
   },
   {
    "duration": 47,
    "start_time": "2021-08-02T07:58:00.750Z"
   },
   {
    "duration": 8,
    "start_time": "2021-08-02T07:58:00.799Z"
   },
   {
    "duration": 16,
    "start_time": "2021-08-02T07:58:00.810Z"
   },
   {
    "duration": 19,
    "start_time": "2021-08-02T07:58:00.829Z"
   },
   {
    "duration": 23,
    "start_time": "2021-08-02T07:58:00.850Z"
   },
   {
    "duration": 134,
    "start_time": "2021-08-02T07:58:00.886Z"
   },
   {
    "duration": 20,
    "start_time": "2021-08-02T07:58:01.022Z"
   },
   {
    "duration": 43,
    "start_time": "2021-08-02T07:58:01.044Z"
   },
   {
    "duration": 37,
    "start_time": "2021-08-02T07:58:01.089Z"
   },
   {
    "duration": 194,
    "start_time": "2021-08-02T07:58:01.128Z"
   },
   {
    "duration": 21,
    "start_time": "2021-08-02T07:58:01.325Z"
   },
   {
    "duration": 41,
    "start_time": "2021-08-02T07:58:01.348Z"
   },
   {
    "duration": 50,
    "start_time": "2021-08-02T07:58:01.391Z"
   },
   {
    "duration": 27,
    "start_time": "2021-08-02T07:58:01.443Z"
   },
   {
    "duration": 33,
    "start_time": "2021-08-02T07:58:01.473Z"
   },
   {
    "duration": 16,
    "start_time": "2021-08-02T07:58:01.508Z"
   },
   {
    "duration": 83,
    "start_time": "2021-08-02T07:58:01.526Z"
   },
   {
    "duration": 22,
    "start_time": "2021-08-02T07:58:01.614Z"
   },
   {
    "duration": 10,
    "start_time": "2021-08-02T07:58:01.639Z"
   },
   {
    "duration": 59,
    "start_time": "2021-08-02T07:58:01.651Z"
   },
   {
    "duration": 31,
    "start_time": "2021-08-02T07:58:01.712Z"
   },
   {
    "duration": 51,
    "start_time": "2021-08-02T07:58:01.746Z"
   },
   {
    "duration": 141,
    "start_time": "2021-08-02T07:58:01.800Z"
   },
   {
    "duration": 52,
    "start_time": "2021-08-02T07:58:01.943Z"
   },
   {
    "duration": 20,
    "start_time": "2021-08-02T07:58:01.998Z"
   },
   {
    "duration": 37,
    "start_time": "2021-08-02T07:58:02.021Z"
   },
   {
    "duration": 52,
    "start_time": "2021-08-02T07:58:02.060Z"
   },
   {
    "duration": 46,
    "start_time": "2021-08-02T07:58:02.115Z"
   },
   {
    "duration": 45,
    "start_time": "2021-08-02T07:58:02.163Z"
   },
   {
    "duration": 37,
    "start_time": "2021-08-02T07:58:02.210Z"
   },
   {
    "duration": 728,
    "start_time": "2021-08-02T07:59:15.635Z"
   },
   {
    "duration": 221,
    "start_time": "2021-08-02T07:59:16.366Z"
   },
   {
    "duration": 25,
    "start_time": "2021-08-02T07:59:16.590Z"
   },
   {
    "duration": 27,
    "start_time": "2021-08-02T07:59:16.617Z"
   },
   {
    "duration": 64,
    "start_time": "2021-08-02T07:59:16.647Z"
   },
   {
    "duration": 47,
    "start_time": "2021-08-02T07:59:16.714Z"
   },
   {
    "duration": 7,
    "start_time": "2021-08-02T07:59:16.764Z"
   },
   {
    "duration": 16,
    "start_time": "2021-08-02T07:59:16.774Z"
   },
   {
    "duration": 5,
    "start_time": "2021-08-02T07:59:16.794Z"
   },
   {
    "duration": 18,
    "start_time": "2021-08-02T07:59:16.802Z"
   },
   {
    "duration": 137,
    "start_time": "2021-08-02T07:59:16.823Z"
   },
   {
    "duration": 28,
    "start_time": "2021-08-02T07:59:16.962Z"
   },
   {
    "duration": 19,
    "start_time": "2021-08-02T07:59:16.993Z"
   },
   {
    "duration": 35,
    "start_time": "2021-08-02T07:59:17.014Z"
   },
   {
    "duration": 208,
    "start_time": "2021-08-02T07:59:17.052Z"
   },
   {
    "duration": 29,
    "start_time": "2021-08-02T07:59:17.263Z"
   },
   {
    "duration": 22,
    "start_time": "2021-08-02T07:59:17.295Z"
   },
   {
    "duration": 70,
    "start_time": "2021-08-02T07:59:17.320Z"
   },
   {
    "duration": 26,
    "start_time": "2021-08-02T07:59:17.392Z"
   },
   {
    "duration": 26,
    "start_time": "2021-08-02T07:59:17.420Z"
   },
   {
    "duration": 8,
    "start_time": "2021-08-02T07:59:17.449Z"
   },
   {
    "duration": 84,
    "start_time": "2021-08-02T07:59:17.459Z"
   },
   {
    "duration": 24,
    "start_time": "2021-08-02T07:59:17.546Z"
   },
   {
    "duration": 12,
    "start_time": "2021-08-02T07:59:17.586Z"
   },
   {
    "duration": 38,
    "start_time": "2021-08-02T07:59:17.600Z"
   },
   {
    "duration": 54,
    "start_time": "2021-08-02T07:59:17.641Z"
   },
   {
    "duration": 31,
    "start_time": "2021-08-02T07:59:17.699Z"
   },
   {
    "duration": 158,
    "start_time": "2021-08-02T07:59:17.733Z"
   },
   {
    "duration": 45,
    "start_time": "2021-08-02T07:59:17.894Z"
   },
   {
    "duration": 48,
    "start_time": "2021-08-02T07:59:17.941Z"
   },
   {
    "duration": 24,
    "start_time": "2021-08-02T07:59:17.991Z"
   },
   {
    "duration": 5,
    "start_time": "2021-08-02T07:59:18.018Z"
   },
   {
    "duration": 6,
    "start_time": "2021-08-02T07:59:18.026Z"
   },
   {
    "duration": 6,
    "start_time": "2021-08-02T07:59:18.035Z"
   },
   {
    "duration": 59,
    "start_time": "2021-08-02T07:59:18.043Z"
   },
   {
    "duration": 489,
    "start_time": "2021-08-02T08:03:32.839Z"
   },
   {
    "duration": 726,
    "start_time": "2021-08-02T08:03:36.934Z"
   },
   {
    "duration": 232,
    "start_time": "2021-08-02T08:03:37.663Z"
   },
   {
    "duration": 29,
    "start_time": "2021-08-02T08:03:37.898Z"
   },
   {
    "duration": 28,
    "start_time": "2021-08-02T08:03:37.929Z"
   },
   {
    "duration": 77,
    "start_time": "2021-08-02T08:03:37.960Z"
   },
   {
    "duration": 60,
    "start_time": "2021-08-02T08:03:38.039Z"
   },
   {
    "duration": 8,
    "start_time": "2021-08-02T08:03:38.102Z"
   },
   {
    "duration": 16,
    "start_time": "2021-08-02T08:03:38.114Z"
   },
   {
    "duration": 10,
    "start_time": "2021-08-02T08:03:38.133Z"
   },
   {
    "duration": 24,
    "start_time": "2021-08-02T08:03:38.145Z"
   },
   {
    "duration": 140,
    "start_time": "2021-08-02T08:03:38.172Z"
   },
   {
    "duration": 19,
    "start_time": "2021-08-02T08:03:38.314Z"
   },
   {
    "duration": 25,
    "start_time": "2021-08-02T08:03:38.335Z"
   },
   {
    "duration": 51,
    "start_time": "2021-08-02T08:03:38.363Z"
   },
   {
    "duration": 191,
    "start_time": "2021-08-02T08:03:38.416Z"
   },
   {
    "duration": 21,
    "start_time": "2021-08-02T08:03:38.609Z"
   },
   {
    "duration": 30,
    "start_time": "2021-08-02T08:03:38.632Z"
   },
   {
    "duration": 62,
    "start_time": "2021-08-02T08:03:38.665Z"
   },
   {
    "duration": 27,
    "start_time": "2021-08-02T08:03:38.730Z"
   },
   {
    "duration": 33,
    "start_time": "2021-08-02T08:03:38.759Z"
   },
   {
    "duration": 8,
    "start_time": "2021-08-02T08:03:38.795Z"
   },
   {
    "duration": 86,
    "start_time": "2021-08-02T08:03:38.805Z"
   },
   {
    "duration": 23,
    "start_time": "2021-08-02T08:03:38.896Z"
   },
   {
    "duration": 11,
    "start_time": "2021-08-02T08:03:38.921Z"
   },
   {
    "duration": 61,
    "start_time": "2021-08-02T08:03:38.934Z"
   },
   {
    "duration": 30,
    "start_time": "2021-08-02T08:03:38.998Z"
   },
   {
    "duration": 55,
    "start_time": "2021-08-02T08:03:39.030Z"
   },
   {
    "duration": 134,
    "start_time": "2021-08-02T08:03:39.088Z"
   },
   {
    "duration": 64,
    "start_time": "2021-08-02T08:03:39.225Z"
   },
   {
    "duration": 25,
    "start_time": "2021-08-02T08:03:39.292Z"
   },
   {
    "duration": 24,
    "start_time": "2021-08-02T08:03:39.320Z"
   },
   {
    "duration": 6,
    "start_time": "2021-08-02T08:03:39.346Z"
   },
   {
    "duration": 7,
    "start_time": "2021-08-02T08:03:39.385Z"
   },
   {
    "duration": 12,
    "start_time": "2021-08-02T08:03:39.394Z"
   },
   {
    "duration": 489,
    "start_time": "2021-08-02T08:03:39.408Z"
   },
   {
    "duration": 23,
    "start_time": "2021-08-02T08:03:53.580Z"
   },
   {
    "duration": 7,
    "start_time": "2021-08-02T08:04:14.491Z"
   },
   {
    "duration": 788,
    "start_time": "2021-08-02T08:05:04.122Z"
   },
   {
    "duration": 239,
    "start_time": "2021-08-02T08:05:04.913Z"
   },
   {
    "duration": 35,
    "start_time": "2021-08-02T08:05:05.155Z"
   },
   {
    "duration": 27,
    "start_time": "2021-08-02T08:05:05.193Z"
   },
   {
    "duration": 85,
    "start_time": "2021-08-02T08:05:05.223Z"
   },
   {
    "duration": 47,
    "start_time": "2021-08-02T08:05:05.310Z"
   },
   {
    "duration": 8,
    "start_time": "2021-08-02T08:05:05.360Z"
   },
   {
    "duration": 14,
    "start_time": "2021-08-02T08:05:05.371Z"
   },
   {
    "duration": 9,
    "start_time": "2021-08-02T08:05:05.388Z"
   },
   {
    "duration": 18,
    "start_time": "2021-08-02T08:05:05.400Z"
   },
   {
    "duration": 140,
    "start_time": "2021-08-02T08:05:05.421Z"
   },
   {
    "duration": 23,
    "start_time": "2021-08-02T08:05:05.564Z"
   },
   {
    "duration": 19,
    "start_time": "2021-08-02T08:05:05.589Z"
   },
   {
    "duration": 37,
    "start_time": "2021-08-02T08:05:05.611Z"
   },
   {
    "duration": 220,
    "start_time": "2021-08-02T08:05:05.651Z"
   },
   {
    "duration": 26,
    "start_time": "2021-08-02T08:05:05.873Z"
   },
   {
    "duration": 25,
    "start_time": "2021-08-02T08:05:05.902Z"
   },
   {
    "duration": 67,
    "start_time": "2021-08-02T08:05:05.929Z"
   },
   {
    "duration": 27,
    "start_time": "2021-08-02T08:05:05.999Z"
   },
   {
    "duration": 30,
    "start_time": "2021-08-02T08:05:06.028Z"
   },
   {
    "duration": 9,
    "start_time": "2021-08-02T08:05:06.061Z"
   },
   {
    "duration": 82,
    "start_time": "2021-08-02T08:05:06.073Z"
   },
   {
    "duration": 39,
    "start_time": "2021-08-02T08:05:06.160Z"
   },
   {
    "duration": 9,
    "start_time": "2021-08-02T08:05:06.202Z"
   },
   {
    "duration": 52,
    "start_time": "2021-08-02T08:05:06.214Z"
   },
   {
    "duration": 38,
    "start_time": "2021-08-02T08:05:06.268Z"
   },
   {
    "duration": 33,
    "start_time": "2021-08-02T08:05:06.309Z"
   },
   {
    "duration": 150,
    "start_time": "2021-08-02T08:05:06.345Z"
   },
   {
    "duration": 44,
    "start_time": "2021-08-02T08:05:06.498Z"
   },
   {
    "duration": 49,
    "start_time": "2021-08-02T08:05:06.544Z"
   },
   {
    "duration": 24,
    "start_time": "2021-08-02T08:05:06.595Z"
   },
   {
    "duration": 5,
    "start_time": "2021-08-02T08:05:06.622Z"
   },
   {
    "duration": 7,
    "start_time": "2021-08-02T08:05:06.630Z"
   },
   {
    "duration": 46,
    "start_time": "2021-08-02T08:05:06.639Z"
   },
   {
    "duration": 7,
    "start_time": "2021-08-02T08:05:06.688Z"
   },
   {
    "duration": 35,
    "start_time": "2021-08-02T08:05:06.697Z"
   },
   {
    "duration": 5208,
    "start_time": "2021-08-02T08:16:37.104Z"
   },
   {
    "duration": 818,
    "start_time": "2021-08-02T08:16:55.023Z"
   },
   {
    "duration": 236,
    "start_time": "2021-08-02T08:16:55.844Z"
   },
   {
    "duration": 29,
    "start_time": "2021-08-02T08:16:56.086Z"
   },
   {
    "duration": 32,
    "start_time": "2021-08-02T08:16:56.118Z"
   },
   {
    "duration": 65,
    "start_time": "2021-08-02T08:16:56.152Z"
   },
   {
    "duration": 46,
    "start_time": "2021-08-02T08:16:56.220Z"
   },
   {
    "duration": 7,
    "start_time": "2021-08-02T08:16:56.268Z"
   },
   {
    "duration": 29,
    "start_time": "2021-08-02T08:16:56.279Z"
   },
   {
    "duration": 51,
    "start_time": "2021-08-02T08:16:56.311Z"
   },
   {
    "duration": 318,
    "start_time": "2021-08-02T08:16:56.364Z"
   },
   {
    "duration": 136,
    "start_time": "2021-08-02T08:16:56.684Z"
   },
   {
    "duration": 18,
    "start_time": "2021-08-02T08:16:56.822Z"
   },
   {
    "duration": 23,
    "start_time": "2021-08-02T08:16:56.843Z"
   },
   {
    "duration": 51,
    "start_time": "2021-08-02T08:16:56.869Z"
   },
   {
    "duration": 199,
    "start_time": "2021-08-02T08:16:56.922Z"
   },
   {
    "duration": 22,
    "start_time": "2021-08-02T08:16:57.123Z"
   },
   {
    "duration": 45,
    "start_time": "2021-08-02T08:16:57.147Z"
   },
   {
    "duration": 44,
    "start_time": "2021-08-02T08:16:57.194Z"
   },
   {
    "duration": 26,
    "start_time": "2021-08-02T08:16:57.240Z"
   },
   {
    "duration": 40,
    "start_time": "2021-08-02T08:16:57.269Z"
   },
   {
    "duration": 10,
    "start_time": "2021-08-02T08:16:57.311Z"
   },
   {
    "duration": 89,
    "start_time": "2021-08-02T08:16:57.323Z"
   },
   {
    "duration": 25,
    "start_time": "2021-08-02T08:16:57.417Z"
   },
   {
    "duration": 148,
    "start_time": "2021-08-02T08:16:57.444Z"
   },
   {
    "duration": 32,
    "start_time": "2021-08-02T08:16:57.595Z"
   },
   {
    "duration": 30,
    "start_time": "2021-08-02T08:16:57.630Z"
   },
   {
    "duration": 45,
    "start_time": "2021-08-02T08:16:57.662Z"
   },
   {
    "duration": 138,
    "start_time": "2021-08-02T08:16:57.709Z"
   },
   {
    "duration": 75,
    "start_time": "2021-08-02T08:16:57.850Z"
   },
   {
    "duration": 25,
    "start_time": "2021-08-02T08:16:57.928Z"
   },
   {
    "duration": 48,
    "start_time": "2021-08-02T08:16:57.955Z"
   },
   {
    "duration": 7,
    "start_time": "2021-08-02T08:16:58.005Z"
   },
   {
    "duration": 9,
    "start_time": "2021-08-02T08:16:58.015Z"
   },
   {
    "duration": 44,
    "start_time": "2021-08-02T08:16:58.027Z"
   },
   {
    "duration": 12,
    "start_time": "2021-08-02T08:16:58.074Z"
   },
   {
    "duration": 25,
    "start_time": "2021-08-02T08:16:58.089Z"
   },
   {
    "duration": 5452,
    "start_time": "2021-08-02T08:16:58.116Z"
   },
   {
    "duration": 78,
    "start_time": "2021-08-02T08:18:30.004Z"
   },
   {
    "duration": 13,
    "start_time": "2021-08-02T08:18:57.796Z"
   },
   {
    "duration": 81,
    "start_time": "2021-08-02T08:20:05.215Z"
   },
   {
    "duration": 81,
    "start_time": "2021-08-02T08:20:59.266Z"
   },
   {
    "duration": 82,
    "start_time": "2021-08-02T08:22:28.729Z"
   },
   {
    "duration": 86,
    "start_time": "2021-08-02T08:23:28.419Z"
   },
   {
    "duration": 84,
    "start_time": "2021-08-02T08:24:57.237Z"
   },
   {
    "duration": 88,
    "start_time": "2021-08-02T08:25:38.963Z"
   },
   {
    "duration": 400,
    "start_time": "2021-08-02T08:56:20.751Z"
   },
   {
    "duration": 656,
    "start_time": "2021-08-02T08:58:24.133Z"
   },
   {
    "duration": 674,
    "start_time": "2021-08-02T09:12:22.710Z"
   },
   {
    "duration": 777,
    "start_time": "2021-08-02T09:12:27.843Z"
   },
   {
    "duration": 232,
    "start_time": "2021-08-02T09:12:28.624Z"
   },
   {
    "duration": 35,
    "start_time": "2021-08-02T09:12:28.859Z"
   },
   {
    "duration": 31,
    "start_time": "2021-08-02T09:12:28.897Z"
   },
   {
    "duration": 69,
    "start_time": "2021-08-02T09:12:28.931Z"
   },
   {
    "duration": 63,
    "start_time": "2021-08-02T09:12:29.003Z"
   },
   {
    "duration": 9,
    "start_time": "2021-08-02T09:12:29.069Z"
   },
   {
    "duration": 11,
    "start_time": "2021-08-02T09:12:29.084Z"
   },
   {
    "duration": 8,
    "start_time": "2021-08-02T09:12:29.098Z"
   },
   {
    "duration": 27,
    "start_time": "2021-08-02T09:12:29.108Z"
   },
   {
    "duration": 139,
    "start_time": "2021-08-02T09:12:29.138Z"
   },
   {
    "duration": 21,
    "start_time": "2021-08-02T09:12:29.280Z"
   },
   {
    "duration": 24,
    "start_time": "2021-08-02T09:12:29.304Z"
   },
   {
    "duration": 60,
    "start_time": "2021-08-02T09:12:29.331Z"
   },
   {
    "duration": 181,
    "start_time": "2021-08-02T09:12:29.394Z"
   },
   {
    "duration": 26,
    "start_time": "2021-08-02T09:12:29.578Z"
   },
   {
    "duration": 23,
    "start_time": "2021-08-02T09:12:29.606Z"
   },
   {
    "duration": 72,
    "start_time": "2021-08-02T09:12:29.632Z"
   },
   {
    "duration": 26,
    "start_time": "2021-08-02T09:12:29.707Z"
   },
   {
    "duration": 30,
    "start_time": "2021-08-02T09:12:29.736Z"
   },
   {
    "duration": 9,
    "start_time": "2021-08-02T09:12:29.769Z"
   },
   {
    "duration": 73,
    "start_time": "2021-08-02T09:12:29.780Z"
   },
   {
    "duration": 38,
    "start_time": "2021-08-02T09:12:29.858Z"
   },
   {
    "duration": 11,
    "start_time": "2021-08-02T09:12:29.899Z"
   },
   {
    "duration": 34,
    "start_time": "2021-08-02T09:12:29.912Z"
   },
   {
    "duration": 58,
    "start_time": "2021-08-02T09:12:29.948Z"
   },
   {
    "duration": 28,
    "start_time": "2021-08-02T09:12:30.009Z"
   },
   {
    "duration": 164,
    "start_time": "2021-08-02T09:12:30.039Z"
   },
   {
    "duration": 51,
    "start_time": "2021-08-02T09:12:30.205Z"
   },
   {
    "duration": 40,
    "start_time": "2021-08-02T09:12:30.259Z"
   },
   {
    "duration": 24,
    "start_time": "2021-08-02T09:12:30.302Z"
   },
   {
    "duration": 8,
    "start_time": "2021-08-02T09:12:30.328Z"
   },
   {
    "duration": 47,
    "start_time": "2021-08-02T09:12:30.339Z"
   },
   {
    "duration": 7,
    "start_time": "2021-08-02T09:12:30.389Z"
   },
   {
    "duration": 9,
    "start_time": "2021-08-02T09:12:30.399Z"
   },
   {
    "duration": 24,
    "start_time": "2021-08-02T09:12:30.411Z"
   },
   {
    "duration": 115,
    "start_time": "2021-08-02T09:12:30.437Z"
   },
   {
    "duration": 91,
    "start_time": "2021-08-02T09:12:30.554Z"
   },
   {
    "duration": 88,
    "start_time": "2021-08-02T09:12:30.648Z"
   },
   {
    "duration": 98,
    "start_time": "2021-08-02T09:12:30.739Z"
   },
   {
    "duration": 97,
    "start_time": "2021-08-02T09:12:30.840Z"
   },
   {
    "duration": 103,
    "start_time": "2021-08-02T09:12:30.940Z"
   },
   {
    "duration": 729,
    "start_time": "2021-08-02T09:12:31.046Z"
   },
   {
    "duration": 131,
    "start_time": "2021-08-02T09:12:41.414Z"
   },
   {
    "duration": 129,
    "start_time": "2021-08-02T09:13:44.256Z"
   },
   {
    "duration": 155,
    "start_time": "2021-08-02T09:14:34.908Z"
   },
   {
    "duration": 266,
    "start_time": "2021-08-02T09:28:21.121Z"
   },
   {
    "duration": 763,
    "start_time": "2021-08-02T10:41:47.433Z"
   },
   {
    "duration": 232,
    "start_time": "2021-08-02T10:41:48.198Z"
   },
   {
    "duration": 28,
    "start_time": "2021-08-02T10:41:48.433Z"
   },
   {
    "duration": 46,
    "start_time": "2021-08-02T10:41:48.464Z"
   },
   {
    "duration": 43,
    "start_time": "2021-08-02T10:41:48.512Z"
   },
   {
    "duration": 76,
    "start_time": "2021-08-02T10:41:48.557Z"
   },
   {
    "duration": 8,
    "start_time": "2021-08-02T10:41:48.636Z"
   },
   {
    "duration": 13,
    "start_time": "2021-08-02T10:41:48.648Z"
   },
   {
    "duration": 11,
    "start_time": "2021-08-02T10:41:48.664Z"
   },
   {
    "duration": 24,
    "start_time": "2021-08-02T10:41:48.677Z"
   },
   {
    "duration": 133,
    "start_time": "2021-08-02T10:41:48.703Z"
   },
   {
    "duration": 18,
    "start_time": "2021-08-02T10:41:48.838Z"
   },
   {
    "duration": 37,
    "start_time": "2021-08-02T10:41:48.858Z"
   },
   {
    "duration": 39,
    "start_time": "2021-08-02T10:41:48.897Z"
   },
   {
    "duration": 208,
    "start_time": "2021-08-02T10:41:48.939Z"
   },
   {
    "duration": 36,
    "start_time": "2021-08-02T10:41:49.150Z"
   },
   {
    "duration": 22,
    "start_time": "2021-08-02T10:41:49.189Z"
   },
   {
    "duration": 47,
    "start_time": "2021-08-02T10:41:49.214Z"
   },
   {
    "duration": 34,
    "start_time": "2021-08-02T10:41:49.264Z"
   },
   {
    "duration": 20,
    "start_time": "2021-08-02T10:41:49.301Z"
   },
   {
    "duration": 9,
    "start_time": "2021-08-02T10:41:49.323Z"
   },
   {
    "duration": 107,
    "start_time": "2021-08-02T10:41:49.335Z"
   },
   {
    "duration": 23,
    "start_time": "2021-08-02T10:41:49.447Z"
   },
   {
    "duration": 19,
    "start_time": "2021-08-02T10:41:49.473Z"
   },
   {
    "duration": 45,
    "start_time": "2021-08-02T10:41:49.495Z"
   },
   {
    "duration": 46,
    "start_time": "2021-08-02T10:41:49.542Z"
   },
   {
    "duration": 29,
    "start_time": "2021-08-02T10:41:49.591Z"
   },
   {
    "duration": 164,
    "start_time": "2021-08-02T10:41:49.623Z"
   },
   {
    "duration": 51,
    "start_time": "2021-08-02T10:41:49.789Z"
   },
   {
    "duration": 43,
    "start_time": "2021-08-02T10:41:49.842Z"
   },
   {
    "duration": 26,
    "start_time": "2021-08-02T10:41:49.888Z"
   },
   {
    "duration": 11,
    "start_time": "2021-08-02T10:41:49.917Z"
   },
   {
    "duration": 14,
    "start_time": "2021-08-02T10:41:49.931Z"
   },
   {
    "duration": 40,
    "start_time": "2021-08-02T10:41:49.947Z"
   },
   {
    "duration": 11,
    "start_time": "2021-08-02T10:41:49.990Z"
   },
   {
    "duration": 26,
    "start_time": "2021-08-02T10:41:50.004Z"
   },
   {
    "duration": 109,
    "start_time": "2021-08-02T10:41:50.034Z"
   },
   {
    "duration": 93,
    "start_time": "2021-08-02T10:41:50.146Z"
   },
   {
    "duration": 96,
    "start_time": "2021-08-02T10:41:50.241Z"
   },
   {
    "duration": 95,
    "start_time": "2021-08-02T10:41:50.340Z"
   },
   {
    "duration": 99,
    "start_time": "2021-08-02T10:41:50.437Z"
   },
   {
    "duration": 100,
    "start_time": "2021-08-02T10:41:50.538Z"
   },
   {
    "duration": 145,
    "start_time": "2021-08-02T10:41:50.640Z"
   },
   {
    "duration": 141,
    "start_time": "2021-08-02T10:41:50.787Z"
   },
   {
    "duration": 162,
    "start_time": "2021-08-02T10:41:50.930Z"
   },
   {
    "duration": 297,
    "start_time": "2021-08-02T10:41:51.094Z"
   },
   {
    "duration": 32,
    "start_time": "2021-08-02T10:41:51.393Z"
   },
   {
    "duration": 410,
    "start_time": "2021-08-02T10:44:33.319Z"
   },
   {
    "duration": 40,
    "start_time": "2021-08-02T10:48:43.583Z"
   },
   {
    "duration": 43,
    "start_time": "2021-08-02T10:50:07.179Z"
   },
   {
    "duration": 2955,
    "start_time": "2021-08-02T10:52:22.758Z"
   },
   {
    "duration": 666,
    "start_time": "2021-08-02T10:53:01.236Z"
   },
   {
    "duration": 41,
    "start_time": "2021-08-02T10:54:30.993Z"
   },
   {
    "duration": 11,
    "start_time": "2021-08-02T10:55:01.032Z"
   },
   {
    "duration": 30,
    "start_time": "2021-08-02T10:55:11.204Z"
   },
   {
    "duration": 41,
    "start_time": "2021-08-02T10:55:23.393Z"
   },
   {
    "duration": 42,
    "start_time": "2021-08-02T10:56:40.312Z"
   },
   {
    "duration": 40,
    "start_time": "2021-08-02T10:56:47.015Z"
   },
   {
    "duration": 32,
    "start_time": "2021-08-02T10:58:30.475Z"
   },
   {
    "duration": 41,
    "start_time": "2021-08-02T11:00:23.300Z"
   },
   {
    "duration": 10286,
    "start_time": "2021-08-02T11:04:54.975Z"
   },
   {
    "duration": 377,
    "start_time": "2021-08-02T11:05:34.802Z"
   },
   {
    "duration": 6,
    "start_time": "2021-08-02T11:07:08.149Z"
   },
   {
    "duration": 6,
    "start_time": "2021-08-02T11:07:34.307Z"
   },
   {
    "duration": 9,
    "start_time": "2021-08-02T11:09:10.849Z"
   },
   {
    "duration": 33,
    "start_time": "2021-08-02T11:10:42.485Z"
   },
   {
    "duration": 385,
    "start_time": "2021-08-02T11:24:42.627Z"
   },
   {
    "duration": 374,
    "start_time": "2021-08-02T11:24:59.153Z"
   },
   {
    "duration": 386,
    "start_time": "2021-08-02T11:25:08.759Z"
   },
   {
    "duration": 393,
    "start_time": "2021-08-02T11:25:36.503Z"
   },
   {
    "duration": 800,
    "start_time": "2021-08-02T11:25:48.887Z"
   },
   {
    "duration": 233,
    "start_time": "2021-08-02T11:25:49.689Z"
   },
   {
    "duration": 27,
    "start_time": "2021-08-02T11:25:49.924Z"
   },
   {
    "duration": 47,
    "start_time": "2021-08-02T11:25:49.954Z"
   },
   {
    "duration": 42,
    "start_time": "2021-08-02T11:25:50.005Z"
   },
   {
    "duration": 58,
    "start_time": "2021-08-02T11:25:50.049Z"
   },
   {
    "duration": 9,
    "start_time": "2021-08-02T11:25:50.111Z"
   },
   {
    "duration": 12,
    "start_time": "2021-08-02T11:25:50.125Z"
   },
   {
    "duration": 45,
    "start_time": "2021-08-02T11:25:50.141Z"
   },
   {
    "duration": 24,
    "start_time": "2021-08-02T11:25:50.189Z"
   },
   {
    "duration": 135,
    "start_time": "2021-08-02T11:25:50.216Z"
   },
   {
    "duration": 18,
    "start_time": "2021-08-02T11:25:50.354Z"
   },
   {
    "duration": 22,
    "start_time": "2021-08-02T11:25:50.387Z"
   },
   {
    "duration": 56,
    "start_time": "2021-08-02T11:25:50.412Z"
   },
   {
    "duration": 199,
    "start_time": "2021-08-02T11:25:50.470Z"
   },
   {
    "duration": 26,
    "start_time": "2021-08-02T11:25:50.671Z"
   },
   {
    "duration": 24,
    "start_time": "2021-08-02T11:25:50.699Z"
   },
   {
    "duration": 79,
    "start_time": "2021-08-02T11:25:50.725Z"
   },
   {
    "duration": 27,
    "start_time": "2021-08-02T11:25:50.806Z"
   },
   {
    "duration": 46,
    "start_time": "2021-08-02T11:25:50.835Z"
   },
   {
    "duration": 8,
    "start_time": "2021-08-02T11:25:50.884Z"
   },
   {
    "duration": 92,
    "start_time": "2021-08-02T11:25:50.895Z"
   },
   {
    "duration": 29,
    "start_time": "2021-08-02T11:25:50.993Z"
   },
   {
    "duration": 12,
    "start_time": "2021-08-02T11:25:51.026Z"
   },
   {
    "duration": 50,
    "start_time": "2021-08-02T11:25:51.041Z"
   },
   {
    "duration": 30,
    "start_time": "2021-08-02T11:25:51.093Z"
   },
   {
    "duration": 29,
    "start_time": "2021-08-02T11:25:51.126Z"
   },
   {
    "duration": 171,
    "start_time": "2021-08-02T11:25:51.157Z"
   },
   {
    "duration": 63,
    "start_time": "2021-08-02T11:25:51.331Z"
   },
   {
    "duration": 27,
    "start_time": "2021-08-02T11:25:51.396Z"
   },
   {
    "duration": 30,
    "start_time": "2021-08-02T11:25:51.425Z"
   },
   {
    "duration": 7,
    "start_time": "2021-08-02T11:25:51.486Z"
   },
   {
    "duration": 28,
    "start_time": "2021-08-02T11:25:51.495Z"
   },
   {
    "duration": 24,
    "start_time": "2021-08-02T11:25:51.526Z"
   },
   {
    "duration": 23,
    "start_time": "2021-08-02T11:25:51.553Z"
   },
   {
    "duration": 37,
    "start_time": "2021-08-02T11:25:51.579Z"
   },
   {
    "duration": 93,
    "start_time": "2021-08-02T11:25:51.619Z"
   },
   {
    "duration": 97,
    "start_time": "2021-08-02T11:25:51.714Z"
   },
   {
    "duration": 96,
    "start_time": "2021-08-02T11:25:51.814Z"
   },
   {
    "duration": 102,
    "start_time": "2021-08-02T11:25:51.912Z"
   },
   {
    "duration": 112,
    "start_time": "2021-08-02T11:25:52.016Z"
   },
   {
    "duration": 103,
    "start_time": "2021-08-02T11:25:52.131Z"
   },
   {
    "duration": 189,
    "start_time": "2021-08-02T11:25:52.237Z"
   },
   {
    "duration": 141,
    "start_time": "2021-08-02T11:25:52.428Z"
   },
   {
    "duration": 157,
    "start_time": "2021-08-02T11:25:52.571Z"
   },
   {
    "duration": 279,
    "start_time": "2021-08-02T11:25:52.731Z"
   },
   {
    "duration": 34,
    "start_time": "2021-08-02T11:25:53.013Z"
   },
   {
    "duration": 473,
    "start_time": "2021-08-02T11:25:53.050Z"
   },
   {
    "duration": 59,
    "start_time": "2021-08-02T11:52:57.086Z"
   },
   {
    "duration": 53,
    "start_time": "2021-08-02T11:54:11.024Z"
   },
   {
    "duration": 56,
    "start_time": "2021-08-02T12:04:54.462Z"
   },
   {
    "duration": 1894,
    "start_time": "2021-08-02T12:07:20.291Z"
   },
   {
    "duration": 400,
    "start_time": "2021-08-02T12:23:47.180Z"
   },
   {
    "duration": 1578,
    "start_time": "2021-08-02T12:23:53.827Z"
   },
   {
    "duration": 231,
    "start_time": "2021-08-02T12:23:55.408Z"
   },
   {
    "duration": 31,
    "start_time": "2021-08-02T12:23:55.642Z"
   },
   {
    "duration": 27,
    "start_time": "2021-08-02T12:23:55.685Z"
   },
   {
    "duration": 44,
    "start_time": "2021-08-02T12:23:55.715Z"
   },
   {
    "duration": 46,
    "start_time": "2021-08-02T12:23:55.786Z"
   },
   {
    "duration": 8,
    "start_time": "2021-08-02T12:23:55.834Z"
   },
   {
    "duration": 9,
    "start_time": "2021-08-02T12:23:55.847Z"
   },
   {
    "duration": 27,
    "start_time": "2021-08-02T12:23:55.859Z"
   },
   {
    "duration": 18,
    "start_time": "2021-08-02T12:23:55.889Z"
   },
   {
    "duration": 157,
    "start_time": "2021-08-02T12:23:55.910Z"
   },
   {
    "duration": 24,
    "start_time": "2021-08-02T12:23:56.069Z"
   },
   {
    "duration": 20,
    "start_time": "2021-08-02T12:23:56.096Z"
   },
   {
    "duration": 67,
    "start_time": "2021-08-02T12:23:56.118Z"
   },
   {
    "duration": 204,
    "start_time": "2021-08-02T12:23:56.188Z"
   },
   {
    "duration": 21,
    "start_time": "2021-08-02T12:23:56.395Z"
   },
   {
    "duration": 22,
    "start_time": "2021-08-02T12:23:56.419Z"
   },
   {
    "duration": 74,
    "start_time": "2021-08-02T12:23:56.444Z"
   },
   {
    "duration": 29,
    "start_time": "2021-08-02T12:23:56.522Z"
   },
   {
    "duration": 33,
    "start_time": "2021-08-02T12:23:56.554Z"
   },
   {
    "duration": 11,
    "start_time": "2021-08-02T12:23:56.590Z"
   },
   {
    "duration": 96,
    "start_time": "2021-08-02T12:23:56.603Z"
   },
   {
    "duration": 27,
    "start_time": "2021-08-02T12:23:56.705Z"
   },
   {
    "duration": 10,
    "start_time": "2021-08-02T12:23:56.735Z"
   },
   {
    "duration": 64,
    "start_time": "2021-08-02T12:23:56.748Z"
   },
   {
    "duration": 35,
    "start_time": "2021-08-02T12:23:56.815Z"
   },
   {
    "duration": 58,
    "start_time": "2021-08-02T12:23:56.852Z"
   },
   {
    "duration": 143,
    "start_time": "2021-08-02T12:23:56.913Z"
   },
   {
    "duration": 67,
    "start_time": "2021-08-02T12:23:57.058Z"
   },
   {
    "duration": 25,
    "start_time": "2021-08-02T12:23:57.127Z"
   },
   {
    "duration": 46,
    "start_time": "2021-08-02T12:23:57.155Z"
   },
   {
    "duration": 6,
    "start_time": "2021-08-02T12:23:57.204Z"
   },
   {
    "duration": 12,
    "start_time": "2021-08-02T12:23:57.212Z"
   },
   {
    "duration": 11,
    "start_time": "2021-08-02T12:23:57.226Z"
   },
   {
    "duration": 9,
    "start_time": "2021-08-02T12:23:57.239Z"
   },
   {
    "duration": 56,
    "start_time": "2021-08-02T12:23:57.250Z"
   },
   {
    "duration": 95,
    "start_time": "2021-08-02T12:23:57.308Z"
   },
   {
    "duration": 98,
    "start_time": "2021-08-02T12:23:57.406Z"
   },
   {
    "duration": 92,
    "start_time": "2021-08-02T12:23:57.507Z"
   },
   {
    "duration": 97,
    "start_time": "2021-08-02T12:23:57.602Z"
   },
   {
    "duration": 98,
    "start_time": "2021-08-02T12:23:57.702Z"
   },
   {
    "duration": 104,
    "start_time": "2021-08-02T12:23:57.803Z"
   },
   {
    "duration": 144,
    "start_time": "2021-08-02T12:23:57.909Z"
   },
   {
    "duration": 142,
    "start_time": "2021-08-02T12:23:58.055Z"
   },
   {
    "duration": 165,
    "start_time": "2021-08-02T12:23:58.199Z"
   },
   {
    "duration": 293,
    "start_time": "2021-08-02T12:23:58.366Z"
   },
   {
    "duration": 46,
    "start_time": "2021-08-02T12:23:58.662Z"
   },
   {
    "duration": 74,
    "start_time": "2021-08-02T12:23:58.711Z"
   },
   {
    "duration": 372,
    "start_time": "2021-08-02T12:23:58.788Z"
   },
   {
    "duration": 949,
    "start_time": "2021-08-02T12:25:28.886Z"
   },
   {
    "duration": 1557,
    "start_time": "2021-08-02T12:25:58.203Z"
   },
   {
    "duration": 230,
    "start_time": "2021-08-02T12:25:59.763Z"
   },
   {
    "duration": 27,
    "start_time": "2021-08-02T12:25:59.996Z"
   },
   {
    "duration": 42,
    "start_time": "2021-08-02T12:26:00.025Z"
   },
   {
    "duration": 56,
    "start_time": "2021-08-02T12:26:00.070Z"
   },
   {
    "duration": 44,
    "start_time": "2021-08-02T12:26:00.129Z"
   },
   {
    "duration": 27,
    "start_time": "2021-08-02T12:26:00.176Z"
   },
   {
    "duration": 50,
    "start_time": "2021-08-02T12:26:00.207Z"
   },
   {
    "duration": 59,
    "start_time": "2021-08-02T12:26:00.260Z"
   },
   {
    "duration": 36,
    "start_time": "2021-08-02T12:26:00.321Z"
   },
   {
    "duration": 167,
    "start_time": "2021-08-02T12:26:00.359Z"
   },
   {
    "duration": 19,
    "start_time": "2021-08-02T12:26:00.528Z"
   },
   {
    "duration": 39,
    "start_time": "2021-08-02T12:26:00.549Z"
   },
   {
    "duration": 39,
    "start_time": "2021-08-02T12:26:00.591Z"
   },
   {
    "duration": 201,
    "start_time": "2021-08-02T12:26:00.633Z"
   },
   {
    "duration": 22,
    "start_time": "2021-08-02T12:26:00.837Z"
   },
   {
    "duration": 42,
    "start_time": "2021-08-02T12:26:00.861Z"
   },
   {
    "duration": 47,
    "start_time": "2021-08-02T12:26:00.905Z"
   },
   {
    "duration": 37,
    "start_time": "2021-08-02T12:26:00.954Z"
   },
   {
    "duration": 29,
    "start_time": "2021-08-02T12:26:00.994Z"
   },
   {
    "duration": 10,
    "start_time": "2021-08-02T12:26:01.026Z"
   },
   {
    "duration": 115,
    "start_time": "2021-08-02T12:26:01.039Z"
   },
   {
    "duration": 34,
    "start_time": "2021-08-02T12:26:01.160Z"
   },
   {
    "duration": 9,
    "start_time": "2021-08-02T12:26:01.197Z"
   },
   {
    "duration": 68,
    "start_time": "2021-08-02T12:26:01.208Z"
   },
   {
    "duration": 32,
    "start_time": "2021-08-02T12:26:01.279Z"
   },
   {
    "duration": 32,
    "start_time": "2021-08-02T12:26:01.314Z"
   },
   {
    "duration": 155,
    "start_time": "2021-08-02T12:26:01.349Z"
   },
   {
    "duration": 45,
    "start_time": "2021-08-02T12:26:01.506Z"
   },
   {
    "duration": 54,
    "start_time": "2021-08-02T12:26:01.553Z"
   },
   {
    "duration": 42,
    "start_time": "2021-08-02T12:26:01.609Z"
   },
   {
    "duration": 21,
    "start_time": "2021-08-02T12:26:01.654Z"
   },
   {
    "duration": 23,
    "start_time": "2021-08-02T12:26:01.677Z"
   },
   {
    "duration": 18,
    "start_time": "2021-08-02T12:26:01.703Z"
   },
   {
    "duration": 17,
    "start_time": "2021-08-02T12:26:01.724Z"
   },
   {
    "duration": 30,
    "start_time": "2021-08-02T12:26:01.744Z"
   },
   {
    "duration": 99,
    "start_time": "2021-08-02T12:26:01.776Z"
   },
   {
    "duration": 82,
    "start_time": "2021-08-02T12:26:01.878Z"
   },
   {
    "duration": 96,
    "start_time": "2021-08-02T12:26:01.962Z"
   },
   {
    "duration": 99,
    "start_time": "2021-08-02T12:26:02.061Z"
   },
   {
    "duration": 99,
    "start_time": "2021-08-02T12:26:02.162Z"
   },
   {
    "duration": 97,
    "start_time": "2021-08-02T12:26:02.264Z"
   },
   {
    "duration": 149,
    "start_time": "2021-08-02T12:26:02.363Z"
   },
   {
    "duration": 142,
    "start_time": "2021-08-02T12:26:02.514Z"
   },
   {
    "duration": 165,
    "start_time": "2021-08-02T12:26:02.659Z"
   },
   {
    "duration": 296,
    "start_time": "2021-08-02T12:26:02.827Z"
   },
   {
    "duration": 33,
    "start_time": "2021-08-02T12:26:03.126Z"
   },
   {
    "duration": 76,
    "start_time": "2021-08-02T12:26:03.162Z"
   },
   {
    "duration": 314,
    "start_time": "2021-08-02T12:26:03.241Z"
   },
   {
    "duration": 983,
    "start_time": "2021-08-02T12:26:03.558Z"
   },
   {
    "duration": 856,
    "start_time": "2021-08-02T12:26:11.019Z"
   },
   {
    "duration": 804,
    "start_time": "2021-08-02T12:26:56.191Z"
   },
   {
    "duration": 5123,
    "start_time": "2021-08-02T12:28:36.068Z"
   },
   {
    "duration": 1525,
    "start_time": "2021-08-02T12:28:49.316Z"
   },
   {
    "duration": 236,
    "start_time": "2021-08-02T12:28:50.844Z"
   },
   {
    "duration": 26,
    "start_time": "2021-08-02T12:28:51.083Z"
   },
   {
    "duration": 41,
    "start_time": "2021-08-02T12:28:51.112Z"
   },
   {
    "duration": 60,
    "start_time": "2021-08-02T12:28:51.156Z"
   },
   {
    "duration": 45,
    "start_time": "2021-08-02T12:28:51.218Z"
   },
   {
    "duration": 12,
    "start_time": "2021-08-02T12:28:51.266Z"
   },
   {
    "duration": 18,
    "start_time": "2021-08-02T12:28:51.286Z"
   },
   {
    "duration": 7,
    "start_time": "2021-08-02T12:28:51.307Z"
   },
   {
    "duration": 23,
    "start_time": "2021-08-02T12:28:51.317Z"
   },
   {
    "duration": 146,
    "start_time": "2021-08-02T12:28:51.342Z"
   },
   {
    "duration": 18,
    "start_time": "2021-08-02T12:28:51.490Z"
   },
   {
    "duration": 26,
    "start_time": "2021-08-02T12:28:51.511Z"
   },
   {
    "duration": 60,
    "start_time": "2021-08-02T12:28:51.539Z"
   },
   {
    "duration": 206,
    "start_time": "2021-08-02T12:28:51.601Z"
   },
   {
    "duration": 26,
    "start_time": "2021-08-02T12:28:51.810Z"
   },
   {
    "duration": 53,
    "start_time": "2021-08-02T12:28:51.839Z"
   },
   {
    "duration": 46,
    "start_time": "2021-08-02T12:28:51.895Z"
   },
   {
    "duration": 28,
    "start_time": "2021-08-02T12:28:51.943Z"
   },
   {
    "duration": 30,
    "start_time": "2021-08-02T12:28:51.973Z"
   },
   {
    "duration": 10,
    "start_time": "2021-08-02T12:28:52.006Z"
   },
   {
    "duration": 105,
    "start_time": "2021-08-02T12:28:52.018Z"
   },
   {
    "duration": 28,
    "start_time": "2021-08-02T12:28:52.128Z"
   },
   {
    "duration": 27,
    "start_time": "2021-08-02T12:28:52.159Z"
   },
   {
    "duration": 38,
    "start_time": "2021-08-02T12:28:52.189Z"
   },
   {
    "duration": 71,
    "start_time": "2021-08-02T12:28:52.230Z"
   },
   {
    "duration": 37,
    "start_time": "2021-08-02T12:28:52.304Z"
   },
   {
    "duration": 153,
    "start_time": "2021-08-02T12:28:52.344Z"
   },
   {
    "duration": 44,
    "start_time": "2021-08-02T12:28:52.499Z"
   },
   {
    "duration": 51,
    "start_time": "2021-08-02T12:28:52.545Z"
   },
   {
    "duration": 28,
    "start_time": "2021-08-02T12:28:52.599Z"
   },
   {
    "duration": 6,
    "start_time": "2021-08-02T12:28:52.630Z"
   },
   {
    "duration": 9,
    "start_time": "2021-08-02T12:28:52.638Z"
   },
   {
    "duration": 7,
    "start_time": "2021-08-02T12:28:52.685Z"
   },
   {
    "duration": 12,
    "start_time": "2021-08-02T12:28:52.695Z"
   },
   {
    "duration": 25,
    "start_time": "2021-08-02T12:28:52.710Z"
   },
   {
    "duration": 115,
    "start_time": "2021-08-02T12:28:52.738Z"
   },
   {
    "duration": 94,
    "start_time": "2021-08-02T12:28:52.856Z"
   },
   {
    "duration": 99,
    "start_time": "2021-08-02T12:28:52.953Z"
   },
   {
    "duration": 97,
    "start_time": "2021-08-02T12:28:53.055Z"
   },
   {
    "duration": 103,
    "start_time": "2021-08-02T12:28:53.155Z"
   },
   {
    "duration": 104,
    "start_time": "2021-08-02T12:28:53.260Z"
   },
   {
    "duration": 145,
    "start_time": "2021-08-02T12:28:53.367Z"
   },
   {
    "duration": 147,
    "start_time": "2021-08-02T12:28:53.515Z"
   },
   {
    "duration": 168,
    "start_time": "2021-08-02T12:28:53.665Z"
   },
   {
    "duration": 300,
    "start_time": "2021-08-02T12:28:53.835Z"
   },
   {
    "duration": 54,
    "start_time": "2021-08-02T12:28:54.137Z"
   },
   {
    "duration": 58,
    "start_time": "2021-08-02T12:28:54.194Z"
   },
   {
    "duration": 424,
    "start_time": "2021-08-02T12:28:54.254Z"
   },
   {
    "duration": 3788,
    "start_time": "2021-08-02T12:28:54.681Z"
   },
   {
    "duration": 652,
    "start_time": "2021-08-02T12:28:58.472Z"
   },
   {
    "duration": 1566,
    "start_time": "2021-08-03T08:14:47.244Z"
   },
   {
    "duration": 259,
    "start_time": "2021-08-03T08:14:48.813Z"
   },
   {
    "duration": 44,
    "start_time": "2021-08-03T08:14:49.075Z"
   },
   {
    "duration": 43,
    "start_time": "2021-08-03T08:14:49.122Z"
   },
   {
    "duration": 60,
    "start_time": "2021-08-03T08:14:49.167Z"
   },
   {
    "duration": 54,
    "start_time": "2021-08-03T08:14:49.229Z"
   },
   {
    "duration": 12,
    "start_time": "2021-08-03T08:14:49.287Z"
   },
   {
    "duration": 12,
    "start_time": "2021-08-03T08:14:49.305Z"
   },
   {
    "duration": 8,
    "start_time": "2021-08-03T08:14:49.320Z"
   },
   {
    "duration": 42,
    "start_time": "2021-08-03T08:14:49.330Z"
   },
   {
    "duration": 161,
    "start_time": "2021-08-03T08:14:49.374Z"
   },
   {
    "duration": 17,
    "start_time": "2021-08-03T08:14:49.538Z"
   },
   {
    "duration": 40,
    "start_time": "2021-08-03T08:14:49.558Z"
   },
   {
    "duration": 41,
    "start_time": "2021-08-03T08:14:49.602Z"
   },
   {
    "duration": 229,
    "start_time": "2021-08-03T08:14:49.646Z"
   },
   {
    "duration": 37,
    "start_time": "2021-08-03T08:14:49.878Z"
   },
   {
    "duration": 28,
    "start_time": "2021-08-03T08:14:49.918Z"
   },
   {
    "duration": 84,
    "start_time": "2021-08-03T08:14:49.948Z"
   },
   {
    "duration": 27,
    "start_time": "2021-08-03T08:14:50.035Z"
   },
   {
    "duration": 42,
    "start_time": "2021-08-03T08:14:50.065Z"
   },
   {
    "duration": 12,
    "start_time": "2021-08-03T08:14:50.110Z"
   },
   {
    "duration": 96,
    "start_time": "2021-08-03T08:14:50.124Z"
   },
   {
    "duration": 24,
    "start_time": "2021-08-03T08:14:50.225Z"
   },
   {
    "duration": 10,
    "start_time": "2021-08-03T08:14:50.252Z"
   },
   {
    "duration": 65,
    "start_time": "2021-08-03T08:14:50.264Z"
   },
   {
    "duration": 32,
    "start_time": "2021-08-03T08:14:50.332Z"
   },
   {
    "duration": 41,
    "start_time": "2021-08-03T08:14:50.386Z"
   },
   {
    "duration": 161,
    "start_time": "2021-08-03T08:14:50.429Z"
   },
   {
    "duration": 54,
    "start_time": "2021-08-03T08:14:50.594Z"
   },
   {
    "duration": 57,
    "start_time": "2021-08-03T08:14:50.650Z"
   },
   {
    "duration": 25,
    "start_time": "2021-08-03T08:14:50.710Z"
   },
   {
    "duration": 8,
    "start_time": "2021-08-03T08:14:50.738Z"
   },
   {
    "duration": 43,
    "start_time": "2021-08-03T08:14:50.749Z"
   },
   {
    "duration": 8,
    "start_time": "2021-08-03T08:14:50.796Z"
   },
   {
    "duration": 10,
    "start_time": "2021-08-03T08:14:50.807Z"
   },
   {
    "duration": 32,
    "start_time": "2021-08-03T08:14:50.820Z"
   },
   {
    "duration": 112,
    "start_time": "2021-08-03T08:14:50.855Z"
   },
   {
    "duration": 121,
    "start_time": "2021-08-03T08:14:50.970Z"
   },
   {
    "duration": 100,
    "start_time": "2021-08-03T08:14:51.096Z"
   },
   {
    "duration": 113,
    "start_time": "2021-08-03T08:14:51.200Z"
   },
   {
    "duration": 115,
    "start_time": "2021-08-03T08:14:51.316Z"
   },
   {
    "duration": 107,
    "start_time": "2021-08-03T08:14:51.433Z"
   },
   {
    "duration": 153,
    "start_time": "2021-08-03T08:14:51.542Z"
   },
   {
    "duration": 164,
    "start_time": "2021-08-03T08:14:51.698Z"
   },
   {
    "duration": 191,
    "start_time": "2021-08-03T08:14:51.864Z"
   },
   {
    "duration": 307,
    "start_time": "2021-08-03T08:14:52.057Z"
   },
   {
    "duration": 53,
    "start_time": "2021-08-03T08:14:52.367Z"
   },
   {
    "duration": 89,
    "start_time": "2021-08-03T08:14:52.423Z"
   },
   {
    "duration": 328,
    "start_time": "2021-08-03T08:14:52.515Z"
   },
   {
    "duration": 5678,
    "start_time": "2021-08-03T08:14:52.846Z"
   },
   {
    "duration": 1103,
    "start_time": "2021-08-03T08:14:58.527Z"
   },
   {
    "duration": 39,
    "start_time": "2021-08-03T08:14:59.594Z"
   },
   {
    "duration": 1015,
    "start_time": "2021-08-03T08:15:20.757Z"
   },
   {
    "duration": 4073,
    "start_time": "2021-08-03T08:15:35.495Z"
   },
   {
    "duration": 903,
    "start_time": "2021-08-03T08:15:39.571Z"
   },
   {
    "duration": 1567,
    "start_time": "2021-08-03T08:15:54.604Z"
   },
   {
    "duration": 265,
    "start_time": "2021-08-03T08:15:56.174Z"
   },
   {
    "duration": 27,
    "start_time": "2021-08-03T08:15:56.443Z"
   },
   {
    "duration": 38,
    "start_time": "2021-08-03T08:15:56.489Z"
   },
   {
    "duration": 69,
    "start_time": "2021-08-03T08:15:56.529Z"
   },
   {
    "duration": 53,
    "start_time": "2021-08-03T08:15:56.602Z"
   },
   {
    "duration": 8,
    "start_time": "2021-08-03T08:15:56.657Z"
   },
   {
    "duration": 11,
    "start_time": "2021-08-03T08:15:56.668Z"
   },
   {
    "duration": 9,
    "start_time": "2021-08-03T08:15:56.682Z"
   },
   {
    "duration": 20,
    "start_time": "2021-08-03T08:15:56.695Z"
   },
   {
    "duration": 153,
    "start_time": "2021-08-03T08:15:56.719Z"
   },
   {
    "duration": 34,
    "start_time": "2021-08-03T08:15:56.875Z"
   },
   {
    "duration": 22,
    "start_time": "2021-08-03T08:15:56.912Z"
   },
   {
    "duration": 68,
    "start_time": "2021-08-03T08:15:56.936Z"
   },
   {
    "duration": 225,
    "start_time": "2021-08-03T08:15:57.007Z"
   },
   {
    "duration": 24,
    "start_time": "2021-08-03T08:15:57.235Z"
   },
   {
    "duration": 52,
    "start_time": "2021-08-03T08:15:57.262Z"
   },
   {
    "duration": 46,
    "start_time": "2021-08-03T08:15:57.317Z"
   },
   {
    "duration": 42,
    "start_time": "2021-08-03T08:15:57.365Z"
   },
   {
    "duration": 30,
    "start_time": "2021-08-03T08:15:57.411Z"
   },
   {
    "duration": 11,
    "start_time": "2021-08-03T08:15:57.443Z"
   },
   {
    "duration": 102,
    "start_time": "2021-08-03T08:15:57.456Z"
   },
   {
    "duration": 39,
    "start_time": "2021-08-03T08:15:57.564Z"
   },
   {
    "duration": 12,
    "start_time": "2021-08-03T08:15:57.608Z"
   },
   {
    "duration": 65,
    "start_time": "2021-08-03T08:15:57.623Z"
   },
   {
    "duration": 47,
    "start_time": "2021-08-03T08:15:57.692Z"
   },
   {
    "duration": 70,
    "start_time": "2021-08-03T08:15:57.741Z"
   },
   {
    "duration": 147,
    "start_time": "2021-08-03T08:15:57.816Z"
   },
   {
    "duration": 75,
    "start_time": "2021-08-03T08:15:57.966Z"
   },
   {
    "duration": 24,
    "start_time": "2021-08-03T08:15:58.044Z"
   },
   {
    "duration": 45,
    "start_time": "2021-08-03T08:15:58.071Z"
   },
   {
    "duration": 19,
    "start_time": "2021-08-03T08:15:58.118Z"
   },
   {
    "duration": 14,
    "start_time": "2021-08-03T08:15:58.139Z"
   },
   {
    "duration": 10,
    "start_time": "2021-08-03T08:15:58.156Z"
   },
   {
    "duration": 41,
    "start_time": "2021-08-03T08:15:58.168Z"
   },
   {
    "duration": 26,
    "start_time": "2021-08-03T08:15:58.211Z"
   },
   {
    "duration": 118,
    "start_time": "2021-08-03T08:15:58.240Z"
   },
   {
    "duration": 97,
    "start_time": "2021-08-03T08:15:58.361Z"
   },
   {
    "duration": 94,
    "start_time": "2021-08-03T08:15:58.461Z"
   },
   {
    "duration": 110,
    "start_time": "2021-08-03T08:15:58.558Z"
   },
   {
    "duration": 119,
    "start_time": "2021-08-03T08:15:58.670Z"
   },
   {
    "duration": 117,
    "start_time": "2021-08-03T08:15:58.792Z"
   },
   {
    "duration": 165,
    "start_time": "2021-08-03T08:15:58.912Z"
   },
   {
    "duration": 166,
    "start_time": "2021-08-03T08:15:59.079Z"
   },
   {
    "duration": 189,
    "start_time": "2021-08-03T08:15:59.248Z"
   },
   {
    "duration": 315,
    "start_time": "2021-08-03T08:15:59.440Z"
   },
   {
    "duration": 51,
    "start_time": "2021-08-03T08:15:59.758Z"
   },
   {
    "duration": 80,
    "start_time": "2021-08-03T08:15:59.812Z"
   },
   {
    "duration": 333,
    "start_time": "2021-08-03T08:15:59.896Z"
   },
   {
    "duration": 4457,
    "start_time": "2021-08-03T08:16:00.231Z"
   },
   {
    "duration": 728,
    "start_time": "2021-08-03T08:16:04.693Z"
   },
   {
    "duration": 11,
    "start_time": "2021-08-03T08:23:17.259Z"
   },
   {
    "duration": 1213,
    "start_time": "2021-08-03T08:23:17.883Z"
   },
   {
    "duration": 1042,
    "start_time": "2021-08-03T08:23:31.848Z"
   },
   {
    "duration": 443,
    "start_time": "2021-08-03T08:40:38.184Z"
   },
   {
    "duration": 1483,
    "start_time": "2021-08-03T08:40:44.748Z"
   },
   {
    "duration": 221,
    "start_time": "2021-08-03T08:40:46.233Z"
   },
   {
    "duration": 31,
    "start_time": "2021-08-03T08:40:46.458Z"
   },
   {
    "duration": 31,
    "start_time": "2021-08-03T08:40:46.492Z"
   },
   {
    "duration": 71,
    "start_time": "2021-08-03T08:40:46.525Z"
   },
   {
    "duration": 45,
    "start_time": "2021-08-03T08:40:46.599Z"
   },
   {
    "duration": 8,
    "start_time": "2021-08-03T08:40:46.646Z"
   },
   {
    "duration": 13,
    "start_time": "2021-08-03T08:40:46.658Z"
   },
   {
    "duration": 9,
    "start_time": "2021-08-03T08:40:46.685Z"
   },
   {
    "duration": 21,
    "start_time": "2021-08-03T08:40:46.697Z"
   },
   {
    "duration": 143,
    "start_time": "2021-08-03T08:40:46.720Z"
   },
   {
    "duration": 22,
    "start_time": "2021-08-03T08:40:46.866Z"
   },
   {
    "duration": 24,
    "start_time": "2021-08-03T08:40:46.891Z"
   },
   {
    "duration": 36,
    "start_time": "2021-08-03T08:40:46.918Z"
   },
   {
    "duration": 221,
    "start_time": "2021-08-03T08:40:46.957Z"
   },
   {
    "duration": 30,
    "start_time": "2021-08-03T08:40:47.181Z"
   },
   {
    "duration": 21,
    "start_time": "2021-08-03T08:40:47.214Z"
   },
   {
    "duration": 79,
    "start_time": "2021-08-03T08:40:47.238Z"
   },
   {
    "duration": 26,
    "start_time": "2021-08-03T08:40:47.319Z"
   },
   {
    "duration": 22,
    "start_time": "2021-08-03T08:40:47.347Z"
   },
   {
    "duration": 16,
    "start_time": "2021-08-03T08:40:47.371Z"
   },
   {
    "duration": 73,
    "start_time": "2021-08-03T08:40:47.390Z"
   },
   {
    "duration": 40,
    "start_time": "2021-08-03T08:40:47.468Z"
   },
   {
    "duration": 9,
    "start_time": "2021-08-03T08:40:47.512Z"
   },
   {
    "duration": 34,
    "start_time": "2021-08-03T08:40:47.523Z"
   },
   {
    "duration": 37,
    "start_time": "2021-08-03T08:40:47.587Z"
   },
   {
    "duration": 29,
    "start_time": "2021-08-03T08:40:47.626Z"
   },
   {
    "duration": 168,
    "start_time": "2021-08-03T08:40:47.657Z"
   },
   {
    "duration": 63,
    "start_time": "2021-08-03T08:40:47.828Z"
   },
   {
    "duration": 25,
    "start_time": "2021-08-03T08:40:47.894Z"
   },
   {
    "duration": 24,
    "start_time": "2021-08-03T08:40:47.922Z"
   },
   {
    "duration": 37,
    "start_time": "2021-08-03T08:40:47.948Z"
   },
   {
    "duration": 6,
    "start_time": "2021-08-03T08:40:47.988Z"
   },
   {
    "duration": 13,
    "start_time": "2021-08-03T08:40:47.996Z"
   },
   {
    "duration": 7,
    "start_time": "2021-08-03T08:40:48.012Z"
   },
   {
    "duration": 24,
    "start_time": "2021-08-03T08:40:48.021Z"
   },
   {
    "duration": 86,
    "start_time": "2021-08-03T08:40:48.088Z"
   },
   {
    "duration": 98,
    "start_time": "2021-08-03T08:40:48.187Z"
   },
   {
    "duration": 103,
    "start_time": "2021-08-03T08:40:48.288Z"
   },
   {
    "duration": 97,
    "start_time": "2021-08-03T08:40:48.394Z"
   },
   {
    "duration": 110,
    "start_time": "2021-08-03T08:40:48.495Z"
   },
   {
    "duration": 103,
    "start_time": "2021-08-03T08:40:48.607Z"
   },
   {
    "duration": 150,
    "start_time": "2021-08-03T08:40:48.713Z"
   },
   {
    "duration": 154,
    "start_time": "2021-08-03T08:40:48.866Z"
   },
   {
    "duration": 172,
    "start_time": "2021-08-03T08:40:49.022Z"
   },
   {
    "duration": 330,
    "start_time": "2021-08-03T08:40:49.198Z"
   },
   {
    "duration": 32,
    "start_time": "2021-08-03T08:40:49.531Z"
   },
   {
    "duration": 74,
    "start_time": "2021-08-03T08:40:49.565Z"
   },
   {
    "duration": 323,
    "start_time": "2021-08-03T08:40:49.642Z"
   },
   {
    "duration": 3955,
    "start_time": "2021-08-03T08:40:49.968Z"
   },
   {
    "duration": 679,
    "start_time": "2021-08-03T08:40:53.926Z"
   },
   {
    "duration": 10,
    "start_time": "2021-08-03T08:40:54.607Z"
   },
   {
    "duration": 531,
    "start_time": "2021-08-03T08:40:54.620Z"
   },
   {
    "duration": 1552,
    "start_time": "2021-08-03T08:43:55.776Z"
   },
   {
    "duration": 223,
    "start_time": "2021-08-03T08:43:57.330Z"
   },
   {
    "duration": 36,
    "start_time": "2021-08-03T08:43:57.556Z"
   },
   {
    "duration": 30,
    "start_time": "2021-08-03T08:43:57.596Z"
   },
   {
    "duration": 72,
    "start_time": "2021-08-03T08:43:57.629Z"
   },
   {
    "duration": 56,
    "start_time": "2021-08-03T08:43:57.705Z"
   },
   {
    "duration": 87,
    "start_time": "2021-08-03T08:43:57.764Z"
   },
   {
    "duration": 149,
    "start_time": "2021-08-03T08:43:57.855Z"
   },
   {
    "duration": 18,
    "start_time": "2021-08-03T08:43:58.008Z"
   },
   {
    "duration": 18,
    "start_time": "2021-08-03T08:43:58.028Z"
   },
   {
    "duration": 171,
    "start_time": "2021-08-03T08:43:58.048Z"
   },
   {
    "duration": 21,
    "start_time": "2021-08-03T08:43:58.222Z"
   },
   {
    "duration": 44,
    "start_time": "2021-08-03T08:43:58.245Z"
   },
   {
    "duration": 38,
    "start_time": "2021-08-03T08:43:58.292Z"
   },
   {
    "duration": 213,
    "start_time": "2021-08-03T08:43:58.333Z"
   },
   {
    "duration": 22,
    "start_time": "2021-08-03T08:43:58.548Z"
   },
   {
    "duration": 29,
    "start_time": "2021-08-03T08:43:58.587Z"
   },
   {
    "duration": 70,
    "start_time": "2021-08-03T08:43:58.619Z"
   },
   {
    "duration": 27,
    "start_time": "2021-08-03T08:43:58.692Z"
   },
   {
    "duration": 27,
    "start_time": "2021-08-03T08:43:58.721Z"
   },
   {
    "duration": 11,
    "start_time": "2021-08-03T08:43:58.750Z"
   },
   {
    "duration": 88,
    "start_time": "2021-08-03T08:43:58.763Z"
   },
   {
    "duration": 40,
    "start_time": "2021-08-03T08:43:58.856Z"
   },
   {
    "duration": 10,
    "start_time": "2021-08-03T08:43:58.901Z"
   },
   {
    "duration": 47,
    "start_time": "2021-08-03T08:43:58.913Z"
   },
   {
    "duration": 58,
    "start_time": "2021-08-03T08:43:58.962Z"
   },
   {
    "duration": 68,
    "start_time": "2021-08-03T08:43:59.022Z"
   },
   {
    "duration": 160,
    "start_time": "2021-08-03T08:43:59.094Z"
   },
   {
    "duration": 68,
    "start_time": "2021-08-03T08:43:59.257Z"
   },
   {
    "duration": 23,
    "start_time": "2021-08-03T08:43:59.327Z"
   },
   {
    "duration": 54,
    "start_time": "2021-08-03T08:43:59.353Z"
   },
   {
    "duration": 6,
    "start_time": "2021-08-03T08:43:59.410Z"
   },
   {
    "duration": 16,
    "start_time": "2021-08-03T08:43:59.418Z"
   },
   {
    "duration": 11,
    "start_time": "2021-08-03T08:43:59.436Z"
   },
   {
    "duration": 13,
    "start_time": "2021-08-03T08:43:59.450Z"
   },
   {
    "duration": 47,
    "start_time": "2021-08-03T08:43:59.466Z"
   },
   {
    "duration": 113,
    "start_time": "2021-08-03T08:43:59.516Z"
   },
   {
    "duration": 99,
    "start_time": "2021-08-03T08:43:59.632Z"
   },
   {
    "duration": 105,
    "start_time": "2021-08-03T08:43:59.733Z"
   },
   {
    "duration": 193,
    "start_time": "2021-08-03T08:43:59.841Z"
   },
   {
    "duration": 238,
    "start_time": "2021-08-03T08:44:00.037Z"
   },
   {
    "duration": 94,
    "start_time": "2021-08-03T08:44:00.278Z"
   },
   {
    "duration": 148,
    "start_time": "2021-08-03T08:44:00.387Z"
   },
   {
    "duration": 148,
    "start_time": "2021-08-03T08:44:00.537Z"
   },
   {
    "duration": 159,
    "start_time": "2021-08-03T08:44:00.689Z"
   },
   {
    "duration": 305,
    "start_time": "2021-08-03T08:44:00.851Z"
   },
   {
    "duration": 50,
    "start_time": "2021-08-03T08:44:01.158Z"
   },
   {
    "duration": 61,
    "start_time": "2021-08-03T08:44:01.210Z"
   },
   {
    "duration": 293,
    "start_time": "2021-08-03T08:44:01.285Z"
   },
   {
    "duration": 3773,
    "start_time": "2021-08-03T08:44:01.585Z"
   },
   {
    "duration": 681,
    "start_time": "2021-08-03T08:44:05.361Z"
   },
   {
    "duration": 9,
    "start_time": "2021-08-03T08:44:06.045Z"
   },
   {
    "duration": 543,
    "start_time": "2021-08-03T08:44:06.056Z"
   },
   {
    "duration": 3994,
    "start_time": "2021-08-03T08:44:10.856Z"
   },
   {
    "duration": 675,
    "start_time": "2021-08-03T08:44:14.853Z"
   },
   {
    "duration": 9,
    "start_time": "2021-08-03T08:44:15.531Z"
   },
   {
    "duration": 400,
    "start_time": "2021-08-03T08:44:20.148Z"
   },
   {
    "duration": 874,
    "start_time": "2021-08-03T08:50:42.026Z"
   },
   {
    "duration": 1181,
    "start_time": "2021-08-03T08:50:57.333Z"
   },
   {
    "duration": 2423,
    "start_time": "2021-08-03T08:51:36.544Z"
   },
   {
    "duration": 1871,
    "start_time": "2021-08-03T08:52:12.591Z"
   },
   {
    "duration": 1753,
    "start_time": "2021-08-03T08:52:33.388Z"
   },
   {
    "duration": 1735,
    "start_time": "2021-08-03T08:52:55.929Z"
   },
   {
    "duration": 549,
    "start_time": "2021-08-03T09:02:00.708Z"
   },
   {
    "duration": 1497,
    "start_time": "2021-08-03T09:02:49.443Z"
   },
   {
    "duration": 247,
    "start_time": "2021-08-03T09:02:50.942Z"
   },
   {
    "duration": 32,
    "start_time": "2021-08-03T09:02:51.194Z"
   },
   {
    "duration": 44,
    "start_time": "2021-08-03T09:02:51.228Z"
   },
   {
    "duration": 55,
    "start_time": "2021-08-03T09:02:51.274Z"
   },
   {
    "duration": 43,
    "start_time": "2021-08-03T09:02:51.332Z"
   },
   {
    "duration": 11,
    "start_time": "2021-08-03T09:02:51.378Z"
   },
   {
    "duration": 16,
    "start_time": "2021-08-03T09:02:51.395Z"
   },
   {
    "duration": 23,
    "start_time": "2021-08-03T09:02:51.414Z"
   },
   {
    "duration": 35,
    "start_time": "2021-08-03T09:02:51.439Z"
   },
   {
    "duration": 148,
    "start_time": "2021-08-03T09:02:51.477Z"
   },
   {
    "duration": 18,
    "start_time": "2021-08-03T09:02:51.627Z"
   },
   {
    "duration": 33,
    "start_time": "2021-08-03T09:02:51.647Z"
   },
   {
    "duration": 50,
    "start_time": "2021-08-03T09:02:51.686Z"
   },
   {
    "duration": 216,
    "start_time": "2021-08-03T09:02:51.738Z"
   },
   {
    "duration": 37,
    "start_time": "2021-08-03T09:02:51.956Z"
   },
   {
    "duration": 28,
    "start_time": "2021-08-03T09:02:51.998Z"
   },
   {
    "duration": 79,
    "start_time": "2021-08-03T09:02:52.029Z"
   },
   {
    "duration": 28,
    "start_time": "2021-08-03T09:02:52.111Z"
   },
   {
    "duration": 32,
    "start_time": "2021-08-03T09:02:52.142Z"
   },
   {
    "duration": 12,
    "start_time": "2021-08-03T09:02:52.177Z"
   },
   {
    "duration": 88,
    "start_time": "2021-08-03T09:02:52.193Z"
   },
   {
    "duration": 31,
    "start_time": "2021-08-03T09:02:52.288Z"
   },
   {
    "duration": 9,
    "start_time": "2021-08-03T09:02:52.322Z"
   },
   {
    "duration": 63,
    "start_time": "2021-08-03T09:02:52.334Z"
   },
   {
    "duration": 41,
    "start_time": "2021-08-03T09:02:52.400Z"
   },
   {
    "duration": 68,
    "start_time": "2021-08-03T09:02:52.443Z"
   },
   {
    "duration": 142,
    "start_time": "2021-08-03T09:02:52.514Z"
   },
   {
    "duration": 66,
    "start_time": "2021-08-03T09:02:52.658Z"
   },
   {
    "duration": 23,
    "start_time": "2021-08-03T09:02:52.726Z"
   },
   {
    "duration": 62,
    "start_time": "2021-08-03T09:02:52.751Z"
   },
   {
    "duration": 16,
    "start_time": "2021-08-03T09:02:52.816Z"
   },
   {
    "duration": 14,
    "start_time": "2021-08-03T09:02:52.835Z"
   },
   {
    "duration": 17,
    "start_time": "2021-08-03T09:02:52.851Z"
   },
   {
    "duration": 23,
    "start_time": "2021-08-03T09:02:52.871Z"
   },
   {
    "duration": 40,
    "start_time": "2021-08-03T09:02:52.897Z"
   },
   {
    "duration": 99,
    "start_time": "2021-08-03T09:02:52.940Z"
   },
   {
    "duration": 97,
    "start_time": "2021-08-03T09:02:53.042Z"
   },
   {
    "duration": 105,
    "start_time": "2021-08-03T09:02:53.142Z"
   },
   {
    "duration": 109,
    "start_time": "2021-08-03T09:02:53.249Z"
   },
   {
    "duration": 99,
    "start_time": "2021-08-03T09:02:53.360Z"
   },
   {
    "duration": 104,
    "start_time": "2021-08-03T09:02:53.462Z"
   },
   {
    "duration": 162,
    "start_time": "2021-08-03T09:02:53.568Z"
   },
   {
    "duration": 149,
    "start_time": "2021-08-03T09:02:53.732Z"
   },
   {
    "duration": 189,
    "start_time": "2021-08-03T09:02:53.886Z"
   },
   {
    "duration": 312,
    "start_time": "2021-08-03T09:02:54.077Z"
   },
   {
    "duration": 38,
    "start_time": "2021-08-03T09:02:54.392Z"
   },
   {
    "duration": 81,
    "start_time": "2021-08-03T09:02:54.433Z"
   },
   {
    "duration": 317,
    "start_time": "2021-08-03T09:02:54.517Z"
   },
   {
    "duration": 4340,
    "start_time": "2021-08-03T09:02:54.836Z"
   },
   {
    "duration": 694,
    "start_time": "2021-08-03T09:02:59.179Z"
   },
   {
    "duration": 16,
    "start_time": "2021-08-03T09:02:59.876Z"
   },
   {
    "duration": 1832,
    "start_time": "2021-08-03T09:02:59.896Z"
   },
   {
    "duration": 547,
    "start_time": "2021-08-03T09:03:01.730Z"
   },
   {
    "duration": -70,
    "start_time": "2021-08-03T09:03:02.350Z"
   },
   {
    "duration": 543,
    "start_time": "2021-08-03T09:03:32.677Z"
   },
   {
    "duration": 408,
    "start_time": "2021-08-03T09:04:21.321Z"
   },
   {
    "duration": 449,
    "start_time": "2021-08-03T09:04:36.582Z"
   },
   {
    "duration": 18,
    "start_time": "2021-08-03T09:04:43.991Z"
   },
   {
    "duration": 1198,
    "start_time": "2021-08-03T09:04:47.142Z"
   },
   {
    "duration": 1618,
    "start_time": "2021-08-03T09:04:57.608Z"
   },
   {
    "duration": 244,
    "start_time": "2021-08-03T09:04:59.228Z"
   },
   {
    "duration": 39,
    "start_time": "2021-08-03T09:04:59.475Z"
   },
   {
    "duration": 30,
    "start_time": "2021-08-03T09:04:59.517Z"
   },
   {
    "duration": 76,
    "start_time": "2021-08-03T09:04:59.550Z"
   },
   {
    "duration": 45,
    "start_time": "2021-08-03T09:04:59.628Z"
   },
   {
    "duration": 7,
    "start_time": "2021-08-03T09:04:59.676Z"
   },
   {
    "duration": 24,
    "start_time": "2021-08-03T09:04:59.688Z"
   },
   {
    "duration": 12,
    "start_time": "2021-08-03T09:04:59.716Z"
   },
   {
    "duration": 22,
    "start_time": "2021-08-03T09:04:59.730Z"
   },
   {
    "duration": 165,
    "start_time": "2021-08-03T09:04:59.755Z"
   },
   {
    "duration": 20,
    "start_time": "2021-08-03T09:04:59.923Z"
   },
   {
    "duration": 54,
    "start_time": "2021-08-03T09:04:59.946Z"
   },
   {
    "duration": 41,
    "start_time": "2021-08-03T09:05:00.003Z"
   },
   {
    "duration": 229,
    "start_time": "2021-08-03T09:05:00.046Z"
   },
   {
    "duration": 37,
    "start_time": "2021-08-03T09:05:00.277Z"
   },
   {
    "duration": 83,
    "start_time": "2021-08-03T09:05:00.317Z"
   },
   {
    "duration": 85,
    "start_time": "2021-08-03T09:05:00.403Z"
   },
   {
    "duration": 33,
    "start_time": "2021-08-03T09:05:00.492Z"
   },
   {
    "duration": 88,
    "start_time": "2021-08-03T09:05:00.528Z"
   },
   {
    "duration": 10,
    "start_time": "2021-08-03T09:05:00.618Z"
   },
   {
    "duration": 94,
    "start_time": "2021-08-03T09:05:00.630Z"
   },
   {
    "duration": 24,
    "start_time": "2021-08-03T09:05:00.730Z"
   },
   {
    "duration": 26,
    "start_time": "2021-08-03T09:05:00.759Z"
   },
   {
    "duration": 47,
    "start_time": "2021-08-03T09:05:00.789Z"
   },
   {
    "duration": 55,
    "start_time": "2021-08-03T09:05:00.839Z"
   },
   {
    "duration": 40,
    "start_time": "2021-08-03T09:05:00.897Z"
   },
   {
    "duration": 163,
    "start_time": "2021-08-03T09:05:00.939Z"
   },
   {
    "duration": 50,
    "start_time": "2021-08-03T09:05:01.105Z"
   },
   {
    "duration": 48,
    "start_time": "2021-08-03T09:05:01.157Z"
   },
   {
    "duration": 25,
    "start_time": "2021-08-03T09:05:01.209Z"
   },
   {
    "duration": 5,
    "start_time": "2021-08-03T09:05:01.237Z"
   },
   {
    "duration": 50,
    "start_time": "2021-08-03T09:05:01.245Z"
   },
   {
    "duration": 44,
    "start_time": "2021-08-03T09:05:01.297Z"
   },
   {
    "duration": 30,
    "start_time": "2021-08-03T09:05:01.343Z"
   },
   {
    "duration": 239,
    "start_time": "2021-08-03T09:05:01.375Z"
   },
   {
    "duration": 264,
    "start_time": "2021-08-03T09:05:01.617Z"
   },
   {
    "duration": 91,
    "start_time": "2021-08-03T09:05:01.883Z"
   },
   {
    "duration": 312,
    "start_time": "2021-08-03T09:05:01.987Z"
   },
   {
    "duration": 119,
    "start_time": "2021-08-03T09:05:02.303Z"
   },
   {
    "duration": 118,
    "start_time": "2021-08-03T09:05:02.425Z"
   },
   {
    "duration": 121,
    "start_time": "2021-08-03T09:05:02.546Z"
   },
   {
    "duration": 171,
    "start_time": "2021-08-03T09:05:02.670Z"
   },
   {
    "duration": 164,
    "start_time": "2021-08-03T09:05:02.843Z"
   },
   {
    "duration": 187,
    "start_time": "2021-08-03T09:05:03.011Z"
   },
   {
    "duration": 338,
    "start_time": "2021-08-03T09:05:03.202Z"
   },
   {
    "duration": 45,
    "start_time": "2021-08-03T09:05:03.543Z"
   },
   {
    "duration": 66,
    "start_time": "2021-08-03T09:05:03.592Z"
   },
   {
    "duration": 352,
    "start_time": "2021-08-03T09:05:03.660Z"
   },
   {
    "duration": 4290,
    "start_time": "2021-08-03T09:05:04.015Z"
   },
   {
    "duration": 749,
    "start_time": "2021-08-03T09:05:08.309Z"
   },
   {
    "duration": 10,
    "start_time": "2021-08-03T09:05:09.061Z"
   },
   {
    "duration": 2017,
    "start_time": "2021-08-03T09:05:09.073Z"
   },
   {
    "duration": 16,
    "start_time": "2021-08-03T09:05:11.095Z"
   },
   {
    "duration": 970,
    "start_time": "2021-08-03T09:05:11.114Z"
   },
   {
    "duration": 1593,
    "start_time": "2021-08-03T09:06:06.025Z"
   },
   {
    "duration": 246,
    "start_time": "2021-08-03T09:06:07.621Z"
   },
   {
    "duration": 43,
    "start_time": "2021-08-03T09:06:07.870Z"
   },
   {
    "duration": 37,
    "start_time": "2021-08-03T09:06:07.915Z"
   },
   {
    "duration": 63,
    "start_time": "2021-08-03T09:06:07.955Z"
   },
   {
    "duration": 44,
    "start_time": "2021-08-03T09:06:08.021Z"
   },
   {
    "duration": 7,
    "start_time": "2021-08-03T09:06:08.068Z"
   },
   {
    "duration": 20,
    "start_time": "2021-08-03T09:06:08.079Z"
   },
   {
    "duration": 9,
    "start_time": "2021-08-03T09:06:08.106Z"
   },
   {
    "duration": 18,
    "start_time": "2021-08-03T09:06:08.118Z"
   },
   {
    "duration": 158,
    "start_time": "2021-08-03T09:06:08.139Z"
   },
   {
    "duration": 25,
    "start_time": "2021-08-03T09:06:08.300Z"
   },
   {
    "duration": 21,
    "start_time": "2021-08-03T09:06:08.328Z"
   },
   {
    "duration": 68,
    "start_time": "2021-08-03T09:06:08.351Z"
   },
   {
    "duration": 220,
    "start_time": "2021-08-03T09:06:08.422Z"
   },
   {
    "duration": 21,
    "start_time": "2021-08-03T09:06:08.644Z"
   },
   {
    "duration": 44,
    "start_time": "2021-08-03T09:06:08.667Z"
   },
   {
    "duration": 46,
    "start_time": "2021-08-03T09:06:08.713Z"
   },
   {
    "duration": 32,
    "start_time": "2021-08-03T09:06:08.785Z"
   },
   {
    "duration": 30,
    "start_time": "2021-08-03T09:06:08.819Z"
   },
   {
    "duration": 10,
    "start_time": "2021-08-03T09:06:08.851Z"
   },
   {
    "duration": 90,
    "start_time": "2021-08-03T09:06:08.864Z"
   },
   {
    "duration": 44,
    "start_time": "2021-08-03T09:06:08.961Z"
   },
   {
    "duration": 11,
    "start_time": "2021-08-03T09:06:09.009Z"
   },
   {
    "duration": 40,
    "start_time": "2021-08-03T09:06:09.023Z"
   },
   {
    "duration": 47,
    "start_time": "2021-08-03T09:06:09.086Z"
   },
   {
    "duration": 60,
    "start_time": "2021-08-03T09:06:09.135Z"
   },
   {
    "duration": 135,
    "start_time": "2021-08-03T09:06:09.199Z"
   },
   {
    "duration": 58,
    "start_time": "2021-08-03T09:06:09.336Z"
   },
   {
    "duration": 30,
    "start_time": "2021-08-03T09:06:09.398Z"
   },
   {
    "duration": 27,
    "start_time": "2021-08-03T09:06:09.430Z"
   },
   {
    "duration": 34,
    "start_time": "2021-08-03T09:06:09.459Z"
   },
   {
    "duration": 14,
    "start_time": "2021-08-03T09:06:09.496Z"
   },
   {
    "duration": 8,
    "start_time": "2021-08-03T09:06:09.514Z"
   },
   {
    "duration": 6,
    "start_time": "2021-08-03T09:06:09.525Z"
   },
   {
    "duration": 69,
    "start_time": "2021-08-03T09:06:09.534Z"
   },
   {
    "duration": 106,
    "start_time": "2021-08-03T09:06:09.605Z"
   },
   {
    "duration": 106,
    "start_time": "2021-08-03T09:06:09.713Z"
   },
   {
    "duration": 114,
    "start_time": "2021-08-03T09:06:09.821Z"
   },
   {
    "duration": 112,
    "start_time": "2021-08-03T09:06:09.937Z"
   },
   {
    "duration": 120,
    "start_time": "2021-08-03T09:06:10.052Z"
   },
   {
    "duration": 114,
    "start_time": "2021-08-03T09:06:10.175Z"
   },
   {
    "duration": 223,
    "start_time": "2021-08-03T09:06:10.292Z"
   },
   {
    "duration": 190,
    "start_time": "2021-08-03T09:06:10.518Z"
   },
   {
    "duration": 170,
    "start_time": "2021-08-03T09:06:10.712Z"
   },
   {
    "duration": 335,
    "start_time": "2021-08-03T09:06:10.885Z"
   },
   {
    "duration": 32,
    "start_time": "2021-08-03T09:06:11.222Z"
   },
   {
    "duration": 84,
    "start_time": "2021-08-03T09:06:11.256Z"
   },
   {
    "duration": 332,
    "start_time": "2021-08-03T09:06:11.343Z"
   },
   {
    "duration": 4330,
    "start_time": "2021-08-03T09:06:11.677Z"
   },
   {
    "duration": 703,
    "start_time": "2021-08-03T09:06:16.011Z"
   },
   {
    "duration": 12,
    "start_time": "2021-08-03T09:06:16.717Z"
   },
   {
    "duration": 1979,
    "start_time": "2021-08-03T09:06:16.733Z"
   },
   {
    "duration": 16,
    "start_time": "2021-08-03T09:06:18.715Z"
   },
   {
    "duration": 1701,
    "start_time": "2021-08-03T09:06:18.733Z"
   },
   {
    "duration": 1045,
    "start_time": "2021-08-03T09:07:06.036Z"
   },
   {
    "duration": 1623,
    "start_time": "2021-08-03T09:08:12.626Z"
   },
   {
    "duration": 258,
    "start_time": "2021-08-03T09:08:14.251Z"
   },
   {
    "duration": 30,
    "start_time": "2021-08-03T09:08:14.513Z"
   },
   {
    "duration": 58,
    "start_time": "2021-08-03T09:08:14.545Z"
   },
   {
    "duration": 43,
    "start_time": "2021-08-03T09:08:14.606Z"
   },
   {
    "duration": 48,
    "start_time": "2021-08-03T09:08:14.651Z"
   },
   {
    "duration": 10,
    "start_time": "2021-08-03T09:08:14.702Z"
   },
   {
    "duration": 15,
    "start_time": "2021-08-03T09:08:14.716Z"
   },
   {
    "duration": 11,
    "start_time": "2021-08-03T09:08:14.735Z"
   },
   {
    "duration": 44,
    "start_time": "2021-08-03T09:08:14.748Z"
   },
   {
    "duration": 148,
    "start_time": "2021-08-03T09:08:14.795Z"
   },
   {
    "duration": 20,
    "start_time": "2021-08-03T09:08:14.945Z"
   },
   {
    "duration": 37,
    "start_time": "2021-08-03T09:08:14.967Z"
   },
   {
    "duration": 40,
    "start_time": "2021-08-03T09:08:15.008Z"
   },
   {
    "duration": 225,
    "start_time": "2021-08-03T09:08:15.051Z"
   },
   {
    "duration": 38,
    "start_time": "2021-08-03T09:08:15.279Z"
   },
   {
    "duration": 24,
    "start_time": "2021-08-03T09:08:15.319Z"
   },
   {
    "duration": 77,
    "start_time": "2021-08-03T09:08:15.346Z"
   },
   {
    "duration": 27,
    "start_time": "2021-08-03T09:08:15.425Z"
   },
   {
    "duration": 33,
    "start_time": "2021-08-03T09:08:15.455Z"
   },
   {
    "duration": 16,
    "start_time": "2021-08-03T09:08:15.493Z"
   },
   {
    "duration": 91,
    "start_time": "2021-08-03T09:08:15.512Z"
   },
   {
    "duration": 28,
    "start_time": "2021-08-03T09:08:15.613Z"
   },
   {
    "duration": 11,
    "start_time": "2021-08-03T09:08:15.645Z"
   },
   {
    "duration": 76,
    "start_time": "2021-08-03T09:08:15.659Z"
   },
   {
    "duration": 66,
    "start_time": "2021-08-03T09:08:15.738Z"
   },
   {
    "duration": 36,
    "start_time": "2021-08-03T09:08:15.807Z"
   },
   {
    "duration": 156,
    "start_time": "2021-08-03T09:08:15.846Z"
   },
   {
    "duration": 46,
    "start_time": "2021-08-03T09:08:16.005Z"
   },
   {
    "duration": 55,
    "start_time": "2021-08-03T09:08:16.054Z"
   },
   {
    "duration": 27,
    "start_time": "2021-08-03T09:08:16.112Z"
   },
   {
    "duration": 6,
    "start_time": "2021-08-03T09:08:16.141Z"
   },
   {
    "duration": 44,
    "start_time": "2021-08-03T09:08:16.149Z"
   },
   {
    "duration": 11,
    "start_time": "2021-08-03T09:08:16.196Z"
   },
   {
    "duration": 11,
    "start_time": "2021-08-03T09:08:16.210Z"
   },
   {
    "duration": 27,
    "start_time": "2021-08-03T09:08:16.223Z"
   },
   {
    "duration": 125,
    "start_time": "2021-08-03T09:08:16.253Z"
   },
   {
    "duration": 107,
    "start_time": "2021-08-03T09:08:16.386Z"
   },
   {
    "duration": 108,
    "start_time": "2021-08-03T09:08:16.496Z"
   },
   {
    "duration": 102,
    "start_time": "2021-08-03T09:08:16.607Z"
   },
   {
    "duration": 110,
    "start_time": "2021-08-03T09:08:16.712Z"
   },
   {
    "duration": 110,
    "start_time": "2021-08-03T09:08:16.824Z"
   },
   {
    "duration": 153,
    "start_time": "2021-08-03T09:08:16.937Z"
   },
   {
    "duration": 164,
    "start_time": "2021-08-03T09:08:17.094Z"
   },
   {
    "duration": 186,
    "start_time": "2021-08-03T09:08:17.261Z"
   },
   {
    "duration": 332,
    "start_time": "2021-08-03T09:08:17.449Z"
   },
   {
    "duration": 41,
    "start_time": "2021-08-03T09:08:17.787Z"
   },
   {
    "duration": 89,
    "start_time": "2021-08-03T09:08:17.830Z"
   },
   {
    "duration": 337,
    "start_time": "2021-08-03T09:08:17.923Z"
   },
   {
    "duration": 4224,
    "start_time": "2021-08-03T09:08:18.263Z"
   },
   {
    "duration": 808,
    "start_time": "2021-08-03T09:08:22.491Z"
   },
   {
    "duration": 11,
    "start_time": "2021-08-03T09:08:23.303Z"
   },
   {
    "duration": 1939,
    "start_time": "2021-08-03T09:08:23.317Z"
   },
   {
    "duration": 14,
    "start_time": "2021-08-03T09:08:25.259Z"
   },
   {
    "duration": 1032,
    "start_time": "2021-08-03T09:08:25.288Z"
   },
   {
    "duration": 1038,
    "start_time": "2021-08-03T09:11:12.688Z"
   },
   {
    "duration": 4148,
    "start_time": "2021-08-03T09:11:24.423Z"
   },
   {
    "duration": 803,
    "start_time": "2021-08-03T09:11:28.575Z"
   },
   {
    "duration": 13,
    "start_time": "2021-08-03T09:11:29.381Z"
   },
   {
    "duration": 1894,
    "start_time": "2021-08-03T09:11:29.398Z"
   },
   {
    "duration": 20,
    "start_time": "2021-08-03T09:11:31.296Z"
   },
   {
    "duration": 1067,
    "start_time": "2021-08-03T09:11:31.320Z"
   },
   {
    "duration": 794,
    "start_time": "2021-08-03T09:11:49.113Z"
   },
   {
    "duration": 14,
    "start_time": "2021-08-03T09:11:52.162Z"
   },
   {
    "duration": 1064,
    "start_time": "2021-08-03T09:11:53.103Z"
   },
   {
    "duration": 409,
    "start_time": "2021-08-03T09:24:25.628Z"
   },
   {
    "duration": 1579,
    "start_time": "2021-08-03T09:24:30.974Z"
   },
   {
    "duration": 264,
    "start_time": "2021-08-03T09:24:32.556Z"
   },
   {
    "duration": 31,
    "start_time": "2021-08-03T09:24:32.829Z"
   },
   {
    "duration": 37,
    "start_time": "2021-08-03T09:24:32.890Z"
   },
   {
    "duration": 67,
    "start_time": "2021-08-03T09:24:32.930Z"
   },
   {
    "duration": 76,
    "start_time": "2021-08-03T09:24:32.999Z"
   },
   {
    "duration": 10,
    "start_time": "2021-08-03T09:24:33.079Z"
   },
   {
    "duration": 22,
    "start_time": "2021-08-03T09:24:33.093Z"
   },
   {
    "duration": 12,
    "start_time": "2021-08-03T09:24:33.117Z"
   },
   {
    "duration": 19,
    "start_time": "2021-08-03T09:24:33.131Z"
   },
   {
    "duration": 167,
    "start_time": "2021-08-03T09:24:33.152Z"
   },
   {
    "duration": 21,
    "start_time": "2021-08-03T09:24:33.322Z"
   },
   {
    "duration": 20,
    "start_time": "2021-08-03T09:24:33.345Z"
   },
   {
    "duration": 64,
    "start_time": "2021-08-03T09:24:33.367Z"
   },
   {
    "duration": 225,
    "start_time": "2021-08-03T09:24:33.433Z"
   },
   {
    "duration": 41,
    "start_time": "2021-08-03T09:24:33.660Z"
   },
   {
    "duration": 31,
    "start_time": "2021-08-03T09:24:33.704Z"
   },
   {
    "duration": 76,
    "start_time": "2021-08-03T09:24:33.737Z"
   },
   {
    "duration": 27,
    "start_time": "2021-08-03T09:24:33.816Z"
   },
   {
    "duration": 25,
    "start_time": "2021-08-03T09:24:33.846Z"
   },
   {
    "duration": 18,
    "start_time": "2021-08-03T09:24:33.873Z"
   },
   {
    "duration": 100,
    "start_time": "2021-08-03T09:24:33.899Z"
   },
   {
    "duration": 28,
    "start_time": "2021-08-03T09:24:34.003Z"
   },
   {
    "duration": 9,
    "start_time": "2021-08-03T09:24:34.033Z"
   },
   {
    "duration": 67,
    "start_time": "2021-08-03T09:24:34.045Z"
   },
   {
    "duration": 36,
    "start_time": "2021-08-03T09:24:34.115Z"
   },
   {
    "duration": 66,
    "start_time": "2021-08-03T09:24:34.153Z"
   },
   {
    "duration": 178,
    "start_time": "2021-08-03T09:24:34.222Z"
   },
   {
    "duration": 47,
    "start_time": "2021-08-03T09:24:34.403Z"
   },
   {
    "duration": 57,
    "start_time": "2021-08-03T09:24:34.452Z"
   },
   {
    "duration": 25,
    "start_time": "2021-08-03T09:24:34.512Z"
   },
   {
    "duration": 7,
    "start_time": "2021-08-03T09:24:34.539Z"
   },
   {
    "duration": 39,
    "start_time": "2021-08-03T09:24:34.548Z"
   },
   {
    "duration": 16,
    "start_time": "2021-08-03T09:24:34.592Z"
   },
   {
    "duration": 12,
    "start_time": "2021-08-03T09:24:34.611Z"
   },
   {
    "duration": 27,
    "start_time": "2021-08-03T09:24:34.625Z"
   },
   {
    "duration": 130,
    "start_time": "2021-08-03T09:24:34.655Z"
   },
   {
    "duration": 107,
    "start_time": "2021-08-03T09:24:34.789Z"
   },
   {
    "duration": 118,
    "start_time": "2021-08-03T09:24:34.899Z"
   },
   {
    "duration": 109,
    "start_time": "2021-08-03T09:24:35.019Z"
   },
   {
    "duration": 112,
    "start_time": "2021-08-03T09:24:35.131Z"
   },
   {
    "duration": 109,
    "start_time": "2021-08-03T09:24:35.245Z"
   },
   {
    "duration": 161,
    "start_time": "2021-08-03T09:24:35.357Z"
   },
   {
    "duration": 154,
    "start_time": "2021-08-03T09:24:35.521Z"
   },
   {
    "duration": 186,
    "start_time": "2021-08-03T09:24:35.677Z"
   },
   {
    "duration": 432,
    "start_time": "2021-08-03T09:24:35.865Z"
   },
   {
    "duration": 35,
    "start_time": "2021-08-03T09:24:36.301Z"
   },
   {
    "duration": 90,
    "start_time": "2021-08-03T09:24:36.338Z"
   },
   {
    "duration": 552,
    "start_time": "2021-08-03T09:24:36.431Z"
   },
   {
    "duration": 36,
    "start_time": "2021-08-03T09:27:43.329Z"
   },
   {
    "duration": 44,
    "start_time": "2021-08-03T09:28:07.490Z"
   },
   {
    "duration": 395,
    "start_time": "2021-08-03T09:29:14.854Z"
   },
   {
    "duration": 792,
    "start_time": "2021-08-03T09:29:44.746Z"
   },
   {
    "duration": 593,
    "start_time": "2021-08-03T09:33:28.906Z"
   },
   {
    "duration": 794,
    "start_time": "2021-08-03T09:33:34.585Z"
   },
   {
    "duration": 680,
    "start_time": "2021-08-03T09:35:10.197Z"
   },
   {
    "duration": 693,
    "start_time": "2021-08-03T09:39:03.837Z"
   },
   {
    "duration": 703,
    "start_time": "2021-08-03T09:39:14.544Z"
   },
   {
    "duration": 652,
    "start_time": "2021-08-03T09:40:07.840Z"
   },
   {
    "duration": 1112,
    "start_time": "2021-08-03T09:46:02.351Z"
   },
   {
    "duration": 1441,
    "start_time": "2021-08-03T09:46:12.215Z"
   },
   {
    "duration": 711,
    "start_time": "2021-08-03T09:46:21.268Z"
   },
   {
    "duration": 689,
    "start_time": "2021-08-03T09:46:44.981Z"
   },
   {
    "duration": 608,
    "start_time": "2021-08-03T09:46:59.363Z"
   },
   {
    "duration": 547,
    "start_time": "2021-08-03T09:47:07.485Z"
   },
   {
    "duration": 885,
    "start_time": "2021-08-03T09:48:01.831Z"
   },
   {
    "duration": 763,
    "start_time": "2021-08-03T09:48:12.503Z"
   },
   {
    "duration": 809,
    "start_time": "2021-08-03T09:48:20.427Z"
   },
   {
    "duration": 701,
    "start_time": "2021-08-03T09:48:36.882Z"
   },
   {
    "duration": 801,
    "start_time": "2021-08-03T09:48:44.044Z"
   },
   {
    "duration": 823,
    "start_time": "2021-08-03T09:49:29.412Z"
   },
   {
    "duration": 820,
    "start_time": "2021-08-03T09:49:46.801Z"
   },
   {
    "duration": 788,
    "start_time": "2021-08-03T09:49:56.510Z"
   },
   {
    "duration": 624,
    "start_time": "2021-08-03T09:54:20.146Z"
   },
   {
    "duration": 1559,
    "start_time": "2021-08-03T09:54:33.924Z"
   },
   {
    "duration": 247,
    "start_time": "2021-08-03T09:54:35.492Z"
   },
   {
    "duration": 26,
    "start_time": "2021-08-03T09:54:35.742Z"
   },
   {
    "duration": 36,
    "start_time": "2021-08-03T09:54:35.788Z"
   },
   {
    "duration": 71,
    "start_time": "2021-08-03T09:54:35.826Z"
   },
   {
    "duration": 81,
    "start_time": "2021-08-03T09:54:35.914Z"
   },
   {
    "duration": 13,
    "start_time": "2021-08-03T09:54:35.998Z"
   },
   {
    "duration": 24,
    "start_time": "2021-08-03T09:54:36.016Z"
   },
   {
    "duration": 12,
    "start_time": "2021-08-03T09:54:36.043Z"
   },
   {
    "duration": 22,
    "start_time": "2021-08-03T09:54:36.057Z"
   },
   {
    "duration": 158,
    "start_time": "2021-08-03T09:54:36.082Z"
   },
   {
    "duration": 18,
    "start_time": "2021-08-03T09:54:36.242Z"
   },
   {
    "duration": 37,
    "start_time": "2021-08-03T09:54:36.262Z"
   },
   {
    "duration": 43,
    "start_time": "2021-08-03T09:54:36.302Z"
   },
   {
    "duration": 220,
    "start_time": "2021-08-03T09:54:36.347Z"
   },
   {
    "duration": 36,
    "start_time": "2021-08-03T09:54:36.569Z"
   },
   {
    "duration": 25,
    "start_time": "2021-08-03T09:54:36.609Z"
   },
   {
    "duration": 81,
    "start_time": "2021-08-03T09:54:36.636Z"
   },
   {
    "duration": 29,
    "start_time": "2021-08-03T09:54:36.720Z"
   },
   {
    "duration": 23,
    "start_time": "2021-08-03T09:54:36.753Z"
   },
   {
    "duration": 15,
    "start_time": "2021-08-03T09:54:36.787Z"
   },
   {
    "duration": 103,
    "start_time": "2021-08-03T09:54:36.807Z"
   },
   {
    "duration": 26,
    "start_time": "2021-08-03T09:54:36.918Z"
   },
   {
    "duration": 9,
    "start_time": "2021-08-03T09:54:36.947Z"
   },
   {
    "duration": 61,
    "start_time": "2021-08-03T09:54:36.959Z"
   },
   {
    "duration": 34,
    "start_time": "2021-08-03T09:54:37.023Z"
   },
   {
    "duration": 50,
    "start_time": "2021-08-03T09:54:37.059Z"
   },
   {
    "duration": 850,
    "start_time": "2021-08-03T09:54:37.112Z"
   },
   {
    "duration": 53,
    "start_time": "2021-08-03T09:54:37.911Z"
   },
   {
    "duration": 42,
    "start_time": "2021-08-03T09:54:37.924Z"
   },
   {
    "duration": 41,
    "start_time": "2021-08-03T09:54:37.926Z"
   },
   {
    "duration": 40,
    "start_time": "2021-08-03T09:54:37.929Z"
   },
   {
    "duration": 39,
    "start_time": "2021-08-03T09:54:37.931Z"
   },
   {
    "duration": 37,
    "start_time": "2021-08-03T09:54:37.934Z"
   },
   {
    "duration": 37,
    "start_time": "2021-08-03T09:54:37.936Z"
   },
   {
    "duration": 35,
    "start_time": "2021-08-03T09:54:37.939Z"
   },
   {
    "duration": 34,
    "start_time": "2021-08-03T09:54:37.941Z"
   },
   {
    "duration": 32,
    "start_time": "2021-08-03T09:54:37.944Z"
   },
   {
    "duration": 33,
    "start_time": "2021-08-03T09:54:37.945Z"
   },
   {
    "duration": 32,
    "start_time": "2021-08-03T09:54:37.947Z"
   },
   {
    "duration": 31,
    "start_time": "2021-08-03T09:54:37.949Z"
   },
   {
    "duration": 29,
    "start_time": "2021-08-03T09:54:37.952Z"
   },
   {
    "duration": 29,
    "start_time": "2021-08-03T09:54:37.954Z"
   },
   {
    "duration": 28,
    "start_time": "2021-08-03T09:54:37.956Z"
   },
   {
    "duration": 31,
    "start_time": "2021-08-03T09:54:37.957Z"
   },
   {
    "duration": 32,
    "start_time": "2021-08-03T09:54:37.959Z"
   },
   {
    "duration": 31,
    "start_time": "2021-08-03T09:54:37.962Z"
   },
   {
    "duration": 30,
    "start_time": "2021-08-03T09:54:37.964Z"
   },
   {
    "duration": 30,
    "start_time": "2021-08-03T09:54:37.965Z"
   },
   {
    "duration": 29,
    "start_time": "2021-08-03T09:54:37.967Z"
   },
   {
    "duration": 30,
    "start_time": "2021-08-03T09:54:37.969Z"
   },
   {
    "duration": 22,
    "start_time": "2021-08-03T09:54:37.978Z"
   },
   {
    "duration": 21,
    "start_time": "2021-08-03T09:54:37.981Z"
   },
   {
    "duration": 1582,
    "start_time": "2021-08-03T09:54:54.097Z"
   },
   {
    "duration": 251,
    "start_time": "2021-08-03T09:54:55.682Z"
   },
   {
    "duration": 27,
    "start_time": "2021-08-03T09:54:55.937Z"
   },
   {
    "duration": 54,
    "start_time": "2021-08-03T09:54:55.966Z"
   },
   {
    "duration": 63,
    "start_time": "2021-08-03T09:54:56.023Z"
   },
   {
    "duration": 55,
    "start_time": "2021-08-03T09:54:56.092Z"
   },
   {
    "duration": 10,
    "start_time": "2021-08-03T09:54:56.150Z"
   },
   {
    "duration": 20,
    "start_time": "2021-08-03T09:54:56.162Z"
   },
   {
    "duration": 24,
    "start_time": "2021-08-03T09:54:56.187Z"
   },
   {
    "duration": 30,
    "start_time": "2021-08-03T09:54:56.214Z"
   },
   {
    "duration": 165,
    "start_time": "2021-08-03T09:54:56.246Z"
   },
   {
    "duration": 20,
    "start_time": "2021-08-03T09:54:56.415Z"
   },
   {
    "duration": 21,
    "start_time": "2021-08-03T09:54:56.437Z"
   },
   {
    "duration": 76,
    "start_time": "2021-08-03T09:54:56.460Z"
   },
   {
    "duration": 219,
    "start_time": "2021-08-03T09:54:56.538Z"
   },
   {
    "duration": 37,
    "start_time": "2021-08-03T09:54:56.759Z"
   },
   {
    "duration": 35,
    "start_time": "2021-08-03T09:54:56.802Z"
   },
   {
    "duration": 85,
    "start_time": "2021-08-03T09:54:56.840Z"
   },
   {
    "duration": 29,
    "start_time": "2021-08-03T09:54:56.928Z"
   },
   {
    "duration": 27,
    "start_time": "2021-08-03T09:54:56.960Z"
   },
   {
    "duration": 18,
    "start_time": "2021-08-03T09:54:56.989Z"
   },
   {
    "duration": 97,
    "start_time": "2021-08-03T09:54:57.010Z"
   },
   {
    "duration": 25,
    "start_time": "2021-08-03T09:54:57.111Z"
   },
   {
    "duration": 11,
    "start_time": "2021-08-03T09:54:57.139Z"
   },
   {
    "duration": 70,
    "start_time": "2021-08-03T09:54:57.153Z"
   },
   {
    "duration": 34,
    "start_time": "2021-08-03T09:54:57.225Z"
   },
   {
    "duration": 42,
    "start_time": "2021-08-03T09:54:57.285Z"
   },
   {
    "duration": 180,
    "start_time": "2021-08-03T09:54:57.330Z"
   },
   {
    "duration": 137,
    "start_time": "2021-08-03T09:54:57.513Z"
   },
   {
    "duration": 146,
    "start_time": "2021-08-03T09:54:57.506Z"
   },
   {
    "duration": 144,
    "start_time": "2021-08-03T09:54:57.510Z"
   },
   {
    "duration": 140,
    "start_time": "2021-08-03T09:54:57.515Z"
   },
   {
    "duration": 138,
    "start_time": "2021-08-03T09:54:57.518Z"
   },
   {
    "duration": 138,
    "start_time": "2021-08-03T09:54:57.520Z"
   },
   {
    "duration": 137,
    "start_time": "2021-08-03T09:54:57.522Z"
   },
   {
    "duration": 136,
    "start_time": "2021-08-03T09:54:57.524Z"
   },
   {
    "duration": 137,
    "start_time": "2021-08-03T09:54:57.525Z"
   },
   {
    "duration": 136,
    "start_time": "2021-08-03T09:54:57.527Z"
   },
   {
    "duration": 136,
    "start_time": "2021-08-03T09:54:57.529Z"
   },
   {
    "duration": 134,
    "start_time": "2021-08-03T09:54:57.532Z"
   },
   {
    "duration": 128,
    "start_time": "2021-08-03T09:54:57.539Z"
   },
   {
    "duration": 127,
    "start_time": "2021-08-03T09:54:57.541Z"
   },
   {
    "duration": 127,
    "start_time": "2021-08-03T09:54:57.543Z"
   },
   {
    "duration": 126,
    "start_time": "2021-08-03T09:54:57.545Z"
   },
   {
    "duration": 125,
    "start_time": "2021-08-03T09:54:57.548Z"
   },
   {
    "duration": 124,
    "start_time": "2021-08-03T09:54:57.550Z"
   },
   {
    "duration": 124,
    "start_time": "2021-08-03T09:54:57.552Z"
   },
   {
    "duration": 122,
    "start_time": "2021-08-03T09:54:57.555Z"
   },
   {
    "duration": 121,
    "start_time": "2021-08-03T09:54:57.557Z"
   },
   {
    "duration": 121,
    "start_time": "2021-08-03T09:54:57.559Z"
   },
   {
    "duration": 121,
    "start_time": "2021-08-03T09:54:57.560Z"
   },
   {
    "duration": 115,
    "start_time": "2021-08-03T09:54:57.567Z"
   },
   {
    "duration": 115,
    "start_time": "2021-08-03T09:54:57.569Z"
   },
   {
    "duration": 1675,
    "start_time": "2021-08-03T09:55:22.975Z"
   },
   {
    "duration": 263,
    "start_time": "2021-08-03T09:55:24.654Z"
   },
   {
    "duration": 29,
    "start_time": "2021-08-03T09:55:24.920Z"
   },
   {
    "duration": 60,
    "start_time": "2021-08-03T09:55:24.952Z"
   },
   {
    "duration": 51,
    "start_time": "2021-08-03T09:55:25.014Z"
   },
   {
    "duration": 65,
    "start_time": "2021-08-03T09:55:25.068Z"
   },
   {
    "duration": 13,
    "start_time": "2021-08-03T09:55:25.137Z"
   },
   {
    "duration": 26,
    "start_time": "2021-08-03T09:55:25.153Z"
   },
   {
    "duration": 27,
    "start_time": "2021-08-03T09:55:25.182Z"
   },
   {
    "duration": 26,
    "start_time": "2021-08-03T09:55:25.213Z"
   },
   {
    "duration": 169,
    "start_time": "2021-08-03T09:55:25.242Z"
   },
   {
    "duration": 22,
    "start_time": "2021-08-03T09:55:25.415Z"
   },
   {
    "duration": 25,
    "start_time": "2021-08-03T09:55:25.440Z"
   },
   {
    "duration": 73,
    "start_time": "2021-08-03T09:55:25.468Z"
   },
   {
    "duration": 219,
    "start_time": "2021-08-03T09:55:25.543Z"
   },
   {
    "duration": 34,
    "start_time": "2021-08-03T09:55:25.764Z"
   },
   {
    "duration": 29,
    "start_time": "2021-08-03T09:55:25.802Z"
   },
   {
    "duration": 77,
    "start_time": "2021-08-03T09:55:25.834Z"
   },
   {
    "duration": 28,
    "start_time": "2021-08-03T09:55:25.914Z"
   },
   {
    "duration": 28,
    "start_time": "2021-08-03T09:55:25.945Z"
   },
   {
    "duration": 20,
    "start_time": "2021-08-03T09:55:25.975Z"
   },
   {
    "duration": 99,
    "start_time": "2021-08-03T09:55:25.998Z"
   },
   {
    "duration": 31,
    "start_time": "2021-08-03T09:55:26.104Z"
   },
   {
    "duration": 10,
    "start_time": "2021-08-03T09:55:26.138Z"
   },
   {
    "duration": 62,
    "start_time": "2021-08-03T09:55:26.151Z"
   },
   {
    "duration": 37,
    "start_time": "2021-08-03T09:55:26.216Z"
   },
   {
    "duration": 72,
    "start_time": "2021-08-03T09:55:26.257Z"
   },
   {
    "duration": 174,
    "start_time": "2021-08-03T09:55:26.332Z"
   },
   {
    "duration": 49,
    "start_time": "2021-08-03T09:55:26.512Z"
   },
   {
    "duration": 55,
    "start_time": "2021-08-03T09:55:26.564Z"
   },
   {
    "duration": 26,
    "start_time": "2021-08-03T09:55:26.622Z"
   },
   {
    "duration": 5,
    "start_time": "2021-08-03T09:55:26.651Z"
   },
   {
    "duration": 8,
    "start_time": "2021-08-03T09:55:26.689Z"
   },
   {
    "duration": 11,
    "start_time": "2021-08-03T09:55:26.700Z"
   },
   {
    "duration": 16,
    "start_time": "2021-08-03T09:55:26.714Z"
   },
   {
    "duration": 67,
    "start_time": "2021-08-03T09:55:26.732Z"
   },
   {
    "duration": 108,
    "start_time": "2021-08-03T09:55:26.802Z"
   },
   {
    "duration": 120,
    "start_time": "2021-08-03T09:55:26.914Z"
   },
   {
    "duration": 103,
    "start_time": "2021-08-03T09:55:27.037Z"
   },
   {
    "duration": 113,
    "start_time": "2021-08-03T09:55:27.143Z"
   },
   {
    "duration": 106,
    "start_time": "2021-08-03T09:55:27.259Z"
   },
   {
    "duration": 105,
    "start_time": "2021-08-03T09:55:27.369Z"
   },
   {
    "duration": 166,
    "start_time": "2021-08-03T09:55:27.477Z"
   },
   {
    "duration": 164,
    "start_time": "2021-08-03T09:55:27.645Z"
   },
   {
    "duration": 186,
    "start_time": "2021-08-03T09:55:27.811Z"
   },
   {
    "duration": 344,
    "start_time": "2021-08-03T09:55:28.000Z"
   },
   {
    "duration": 53,
    "start_time": "2021-08-03T09:55:28.347Z"
   },
   {
    "duration": 65,
    "start_time": "2021-08-03T09:55:28.403Z"
   },
   {
    "duration": 42,
    "start_time": "2021-08-03T09:55:28.491Z"
   },
   {
    "duration": 65,
    "start_time": "2021-08-03T09:55:28.536Z"
   },
   {
    "duration": 828,
    "start_time": "2021-08-03T09:55:28.605Z"
   },
   {
    "duration": 689,
    "start_time": "2021-08-03T09:55:29.436Z"
   },
   {
    "duration": 806,
    "start_time": "2021-08-03T09:55:30.128Z"
   },
   {
    "duration": 832,
    "start_time": "2021-08-03T10:08:18.410Z"
   },
   {
    "duration": 1130,
    "start_time": "2021-08-03T10:08:36.074Z"
   },
   {
    "duration": 561,
    "start_time": "2021-08-03T10:11:11.177Z"
   },
   {
    "duration": 416,
    "start_time": "2021-08-03T10:11:19.665Z"
   },
   {
    "duration": 8,
    "start_time": "2021-08-03T10:11:23.165Z"
   },
   {
    "duration": 446,
    "start_time": "2021-08-03T10:11:31.465Z"
   },
   {
    "duration": 6,
    "start_time": "2021-08-03T10:12:11.961Z"
   },
   {
    "duration": 7,
    "start_time": "2021-08-03T10:12:36.529Z"
   },
   {
    "duration": 6,
    "start_time": "2021-08-03T10:14:23.376Z"
   },
   {
    "duration": 10,
    "start_time": "2021-08-03T10:14:40.294Z"
   },
   {
    "duration": 785,
    "start_time": "2021-08-03T11:16:30.055Z"
   },
   {
    "duration": 798,
    "start_time": "2021-08-03T11:17:27.784Z"
   },
   {
    "duration": 7,
    "start_time": "2021-08-03T11:18:12.570Z"
   },
   {
    "duration": 7,
    "start_time": "2021-08-03T11:18:25.115Z"
   },
   {
    "duration": 502,
    "start_time": "2021-08-03T11:18:54.717Z"
   },
   {
    "duration": 517,
    "start_time": "2021-08-03T11:19:05.745Z"
   },
   {
    "duration": 10751,
    "start_time": "2021-08-03T11:26:23.213Z"
   },
   {
    "duration": 448,
    "start_time": "2021-08-03T11:26:48.976Z"
   },
   {
    "duration": 15,
    "start_time": "2021-08-03T11:27:05.624Z"
   },
   {
    "duration": 16,
    "start_time": "2021-08-03T11:28:06.357Z"
   },
   {
    "duration": 20,
    "start_time": "2021-08-03T11:28:44.627Z"
   },
   {
    "duration": 8,
    "start_time": "2021-08-03T11:29:16.970Z"
   },
   {
    "duration": 8,
    "start_time": "2021-08-03T11:29:35.021Z"
   },
   {
    "duration": 9,
    "start_time": "2021-08-03T11:29:54.978Z"
   },
   {
    "duration": 9,
    "start_time": "2021-08-03T11:43:24.859Z"
   },
   {
    "duration": 9,
    "start_time": "2021-08-03T11:43:30.124Z"
   },
   {
    "duration": 270,
    "start_time": "2021-08-08T08:17:48.820Z"
   },
   {
    "duration": 1042,
    "start_time": "2021-08-08T08:17:54.484Z"
   },
   {
    "duration": 142,
    "start_time": "2021-08-08T08:17:55.528Z"
   },
   {
    "duration": 18,
    "start_time": "2021-08-08T08:17:55.672Z"
   },
   {
    "duration": 17,
    "start_time": "2021-08-08T08:17:55.692Z"
   },
   {
    "duration": 26,
    "start_time": "2021-08-08T08:17:55.711Z"
   },
   {
    "duration": 33,
    "start_time": "2021-08-08T08:17:55.738Z"
   },
   {
    "duration": 4,
    "start_time": "2021-08-08T08:17:55.773Z"
   },
   {
    "duration": 12,
    "start_time": "2021-08-08T08:17:55.779Z"
   },
   {
    "duration": 2,
    "start_time": "2021-08-08T08:17:55.793Z"
   },
   {
    "duration": 10,
    "start_time": "2021-08-08T08:17:55.797Z"
   },
   {
    "duration": 92,
    "start_time": "2021-08-08T08:17:55.809Z"
   },
   {
    "duration": 14,
    "start_time": "2021-08-08T08:17:55.903Z"
   },
   {
    "duration": 14,
    "start_time": "2021-08-08T08:17:55.919Z"
   },
   {
    "duration": 25,
    "start_time": "2021-08-08T08:17:55.935Z"
   },
   {
    "duration": 140,
    "start_time": "2021-08-08T08:17:55.962Z"
   },
   {
    "duration": 16,
    "start_time": "2021-08-08T08:17:56.104Z"
   },
   {
    "duration": 17,
    "start_time": "2021-08-08T08:17:56.122Z"
   },
   {
    "duration": 53,
    "start_time": "2021-08-08T08:17:56.140Z"
   },
   {
    "duration": 19,
    "start_time": "2021-08-08T08:17:56.195Z"
   },
   {
    "duration": 14,
    "start_time": "2021-08-08T08:17:56.216Z"
   },
   {
    "duration": 5,
    "start_time": "2021-08-08T08:17:56.231Z"
   },
   {
    "duration": 57,
    "start_time": "2021-08-08T08:17:56.237Z"
   },
   {
    "duration": 19,
    "start_time": "2021-08-08T08:17:56.299Z"
   },
   {
    "duration": 9,
    "start_time": "2021-08-08T08:17:56.321Z"
   },
   {
    "duration": 25,
    "start_time": "2021-08-08T08:17:56.332Z"
   },
   {
    "duration": 41,
    "start_time": "2021-08-08T08:17:56.359Z"
   },
   {
    "duration": 19,
    "start_time": "2021-08-08T08:17:56.401Z"
   },
   {
    "duration": 71,
    "start_time": "2021-08-08T08:17:56.421Z"
   },
   {
    "duration": 26,
    "start_time": "2021-08-08T08:17:56.494Z"
   },
   {
    "duration": 15,
    "start_time": "2021-08-08T08:17:56.521Z"
   },
   {
    "duration": 14,
    "start_time": "2021-08-08T08:17:56.537Z"
   },
   {
    "duration": 4,
    "start_time": "2021-08-08T08:17:56.552Z"
   },
   {
    "duration": 5,
    "start_time": "2021-08-08T08:17:56.558Z"
   },
   {
    "duration": 30,
    "start_time": "2021-08-08T08:17:56.564Z"
   },
   {
    "duration": 6,
    "start_time": "2021-08-08T08:17:56.595Z"
   },
   {
    "duration": 29,
    "start_time": "2021-08-08T08:17:56.602Z"
   },
   {
    "duration": 42,
    "start_time": "2021-08-08T08:17:56.632Z"
   },
   {
    "duration": 55,
    "start_time": "2021-08-08T08:17:56.675Z"
   },
   {
    "duration": 45,
    "start_time": "2021-08-08T08:17:56.731Z"
   },
   {
    "duration": 58,
    "start_time": "2021-08-08T08:17:56.777Z"
   },
   {
    "duration": 55,
    "start_time": "2021-08-08T08:17:56.837Z"
   },
   {
    "duration": 46,
    "start_time": "2021-08-08T08:17:56.894Z"
   },
   {
    "duration": 81,
    "start_time": "2021-08-08T08:17:56.941Z"
   },
   {
    "duration": 77,
    "start_time": "2021-08-08T08:17:57.024Z"
   },
   {
    "duration": 79,
    "start_time": "2021-08-08T08:17:57.102Z"
   },
   {
    "duration": 150,
    "start_time": "2021-08-08T08:17:57.191Z"
   },
   {
    "duration": 16,
    "start_time": "2021-08-08T08:17:57.343Z"
   },
   {
    "duration": 39,
    "start_time": "2021-08-08T08:17:57.361Z"
   },
   {
    "duration": 18,
    "start_time": "2021-08-08T08:17:57.402Z"
   },
   {
    "duration": 17,
    "start_time": "2021-08-08T08:17:57.421Z"
   },
   {
    "duration": 384,
    "start_time": "2021-08-08T08:17:57.440Z"
   },
   {
    "duration": 311,
    "start_time": "2021-08-08T08:17:57.826Z"
   },
   {
    "duration": 436,
    "start_time": "2021-08-08T08:17:58.139Z"
   },
   {
    "duration": 5,
    "start_time": "2021-08-08T08:17:58.577Z"
   },
   {
    "duration": 252,
    "start_time": "2021-08-08T08:17:58.592Z"
   },
   {
    "duration": 5,
    "start_time": "2021-08-08T08:17:58.845Z"
   },
   {
    "duration": 5,
    "start_time": "2021-08-08T08:17:58.851Z"
   },
   {
    "duration": 5,
    "start_time": "2021-08-08T08:17:58.858Z"
   },
   {
    "duration": 7,
    "start_time": "2021-08-08T08:17:58.864Z"
   },
   {
    "duration": 5,
    "start_time": "2021-08-08T08:18:13.751Z"
   },
   {
    "duration": 3,
    "start_time": "2021-08-08T08:19:20.481Z"
   },
   {
    "duration": 5,
    "start_time": "2021-08-08T08:19:24.131Z"
   },
   {
    "duration": 5,
    "start_time": "2021-08-08T08:25:40.668Z"
   },
   {
    "duration": 5,
    "start_time": "2021-08-08T08:25:48.144Z"
   },
   {
    "duration": 1082,
    "start_time": "2021-08-08T08:44:42.940Z"
   },
   {
    "duration": 145,
    "start_time": "2021-08-08T08:44:44.023Z"
   },
   {
    "duration": 23,
    "start_time": "2021-08-08T08:44:44.169Z"
   },
   {
    "duration": 20,
    "start_time": "2021-08-08T08:44:44.193Z"
   },
   {
    "duration": 26,
    "start_time": "2021-08-08T08:44:44.214Z"
   },
   {
    "duration": 35,
    "start_time": "2021-08-08T08:44:44.242Z"
   },
   {
    "duration": 10,
    "start_time": "2021-08-08T08:44:44.279Z"
   },
   {
    "duration": 7,
    "start_time": "2021-08-08T08:44:44.291Z"
   },
   {
    "duration": 5,
    "start_time": "2021-08-08T08:44:44.299Z"
   },
   {
    "duration": 11,
    "start_time": "2021-08-08T08:44:44.306Z"
   },
   {
    "duration": 97,
    "start_time": "2021-08-08T08:44:44.319Z"
   },
   {
    "duration": 13,
    "start_time": "2021-08-08T08:44:44.417Z"
   },
   {
    "duration": 15,
    "start_time": "2021-08-08T08:44:44.431Z"
   },
   {
    "duration": 25,
    "start_time": "2021-08-08T08:44:44.448Z"
   },
   {
    "duration": 128,
    "start_time": "2021-08-08T08:44:44.475Z"
   },
   {
    "duration": 14,
    "start_time": "2021-08-08T08:44:44.604Z"
   },
   {
    "duration": 15,
    "start_time": "2021-08-08T08:44:44.620Z"
   },
   {
    "duration": 28,
    "start_time": "2021-08-08T08:44:44.637Z"
   },
   {
    "duration": 31,
    "start_time": "2021-08-08T08:44:44.667Z"
   },
   {
    "duration": 11,
    "start_time": "2021-08-08T08:44:44.700Z"
   },
   {
    "duration": 6,
    "start_time": "2021-08-08T08:44:44.713Z"
   },
   {
    "duration": 70,
    "start_time": "2021-08-08T08:44:44.721Z"
   },
   {
    "duration": 19,
    "start_time": "2021-08-08T08:44:44.796Z"
   },
   {
    "duration": 8,
    "start_time": "2021-08-08T08:44:44.818Z"
   },
   {
    "duration": 25,
    "start_time": "2021-08-08T08:44:44.827Z"
   },
   {
    "duration": 44,
    "start_time": "2021-08-08T08:44:44.854Z"
   },
   {
    "duration": 23,
    "start_time": "2021-08-08T08:44:44.900Z"
   },
   {
    "duration": 70,
    "start_time": "2021-08-08T08:44:44.925Z"
   },
   {
    "duration": 29,
    "start_time": "2021-08-08T08:44:44.997Z"
   },
   {
    "duration": 13,
    "start_time": "2021-08-08T08:44:45.028Z"
   },
   {
    "duration": 15,
    "start_time": "2021-08-08T08:44:45.043Z"
   },
   {
    "duration": 32,
    "start_time": "2021-08-08T08:44:45.060Z"
   },
   {
    "duration": 5,
    "start_time": "2021-08-08T08:44:45.094Z"
   },
   {
    "duration": 8,
    "start_time": "2021-08-08T08:44:45.100Z"
   },
   {
    "duration": 6,
    "start_time": "2021-08-08T08:44:45.109Z"
   },
   {
    "duration": 15,
    "start_time": "2021-08-08T08:44:45.117Z"
   },
   {
    "duration": 70,
    "start_time": "2021-08-08T08:44:45.133Z"
   },
   {
    "duration": 45,
    "start_time": "2021-08-08T08:44:45.205Z"
   },
   {
    "duration": 61,
    "start_time": "2021-08-08T08:44:45.252Z"
   },
   {
    "duration": 47,
    "start_time": "2021-08-08T08:44:45.315Z"
   },
   {
    "duration": 65,
    "start_time": "2021-08-08T08:44:45.364Z"
   },
   {
    "duration": 46,
    "start_time": "2021-08-08T08:44:45.431Z"
   },
   {
    "duration": 76,
    "start_time": "2021-08-08T08:44:45.479Z"
   },
   {
    "duration": 86,
    "start_time": "2021-08-08T08:44:45.557Z"
   },
   {
    "duration": 92,
    "start_time": "2021-08-08T08:44:45.645Z"
   },
   {
    "duration": 151,
    "start_time": "2021-08-08T08:44:45.740Z"
   },
   {
    "duration": 18,
    "start_time": "2021-08-08T08:44:45.893Z"
   },
   {
    "duration": 31,
    "start_time": "2021-08-08T08:44:45.912Z"
   },
   {
    "duration": 19,
    "start_time": "2021-08-08T08:44:45.944Z"
   },
   {
    "duration": 39,
    "start_time": "2021-08-08T08:44:45.964Z"
   },
   {
    "duration": 389,
    "start_time": "2021-08-08T08:44:46.004Z"
   },
   {
    "duration": 308,
    "start_time": "2021-08-08T08:44:46.394Z"
   },
   {
    "duration": 439,
    "start_time": "2021-08-08T08:44:46.704Z"
   },
   {
    "duration": 5,
    "start_time": "2021-08-08T08:44:47.144Z"
   },
   {
    "duration": 253,
    "start_time": "2021-08-08T08:44:47.150Z"
   },
   {
    "duration": 4,
    "start_time": "2021-08-08T08:44:47.404Z"
   },
   {
    "duration": 9,
    "start_time": "2021-08-08T08:44:47.409Z"
   },
   {
    "duration": 9,
    "start_time": "2021-08-08T08:44:47.419Z"
   },
   {
    "duration": 7,
    "start_time": "2021-08-08T08:44:47.430Z"
   },
   {
    "duration": 1006,
    "start_time": "2021-08-08T08:51:31.214Z"
   },
   {
    "duration": 142,
    "start_time": "2021-08-08T08:51:32.222Z"
   },
   {
    "duration": 24,
    "start_time": "2021-08-08T08:51:32.368Z"
   },
   {
    "duration": 18,
    "start_time": "2021-08-08T08:51:32.393Z"
   },
   {
    "duration": 26,
    "start_time": "2021-08-08T08:51:32.413Z"
   },
   {
    "duration": 33,
    "start_time": "2021-08-08T08:51:32.441Z"
   },
   {
    "duration": 4,
    "start_time": "2021-08-08T08:51:32.476Z"
   },
   {
    "duration": 7,
    "start_time": "2021-08-08T08:51:32.482Z"
   },
   {
    "duration": 4,
    "start_time": "2021-08-08T08:51:32.492Z"
   },
   {
    "duration": 11,
    "start_time": "2021-08-08T08:51:32.497Z"
   },
   {
    "duration": 92,
    "start_time": "2021-08-08T08:51:32.510Z"
   },
   {
    "duration": 12,
    "start_time": "2021-08-08T08:51:32.604Z"
   },
   {
    "duration": 15,
    "start_time": "2021-08-08T08:51:32.617Z"
   },
   {
    "duration": 24,
    "start_time": "2021-08-08T08:51:32.633Z"
   },
   {
    "duration": 130,
    "start_time": "2021-08-08T08:51:32.658Z"
   },
   {
    "duration": 14,
    "start_time": "2021-08-08T08:51:32.789Z"
   },
   {
    "duration": 17,
    "start_time": "2021-08-08T08:51:32.805Z"
   },
   {
    "duration": 29,
    "start_time": "2021-08-08T08:51:32.823Z"
   },
   {
    "duration": 20,
    "start_time": "2021-08-08T08:51:32.854Z"
   },
   {
    "duration": 13,
    "start_time": "2021-08-08T08:51:32.891Z"
   },
   {
    "duration": 5,
    "start_time": "2021-08-08T08:51:32.905Z"
   },
   {
    "duration": 48,
    "start_time": "2021-08-08T08:51:32.912Z"
   },
   {
    "duration": 30,
    "start_time": "2021-08-08T08:51:32.961Z"
   },
   {
    "duration": 6,
    "start_time": "2021-08-08T08:51:32.993Z"
   },
   {
    "duration": 22,
    "start_time": "2021-08-08T08:51:33.001Z"
   },
   {
    "duration": 20,
    "start_time": "2021-08-08T08:51:33.027Z"
   },
   {
    "duration": 43,
    "start_time": "2021-08-08T08:51:33.049Z"
   },
   {
    "duration": 50,
    "start_time": "2021-08-08T08:51:33.094Z"
   },
   {
    "duration": 27,
    "start_time": "2021-08-08T08:51:33.146Z"
   },
   {
    "duration": 26,
    "start_time": "2021-08-08T08:51:33.175Z"
   },
   {
    "duration": 13,
    "start_time": "2021-08-08T08:51:33.203Z"
   },
   {
    "duration": 4,
    "start_time": "2021-08-08T08:51:33.217Z"
   },
   {
    "duration": 7,
    "start_time": "2021-08-08T08:51:33.222Z"
   },
   {
    "duration": 5,
    "start_time": "2021-08-08T08:51:33.231Z"
   },
   {
    "duration": 4,
    "start_time": "2021-08-08T08:51:33.238Z"
   },
   {
    "duration": 19,
    "start_time": "2021-08-08T08:51:33.244Z"
   },
   {
    "duration": 69,
    "start_time": "2021-08-08T08:51:33.264Z"
   },
   {
    "duration": 43,
    "start_time": "2021-08-08T08:51:33.334Z"
   },
   {
    "duration": 43,
    "start_time": "2021-08-08T08:51:33.391Z"
   },
   {
    "duration": 56,
    "start_time": "2021-08-08T08:51:33.435Z"
   },
   {
    "duration": 44,
    "start_time": "2021-08-08T08:51:33.493Z"
   },
   {
    "duration": 57,
    "start_time": "2021-08-08T08:51:33.539Z"
   },
   {
    "duration": 68,
    "start_time": "2021-08-08T08:51:33.597Z"
   },
   {
    "duration": 81,
    "start_time": "2021-08-08T08:51:33.666Z"
   },
   {
    "duration": 87,
    "start_time": "2021-08-08T08:51:33.748Z"
   },
   {
    "duration": 147,
    "start_time": "2021-08-08T08:51:33.836Z"
   },
   {
    "duration": 19,
    "start_time": "2021-08-08T08:51:33.984Z"
   },
   {
    "duration": 29,
    "start_time": "2021-08-08T08:51:34.005Z"
   },
   {
    "duration": 16,
    "start_time": "2021-08-08T08:51:34.035Z"
   },
   {
    "duration": 16,
    "start_time": "2021-08-08T08:51:34.052Z"
   },
   {
    "duration": 377,
    "start_time": "2021-08-08T08:51:34.091Z"
   },
   {
    "duration": 312,
    "start_time": "2021-08-08T08:51:34.470Z"
   },
   {
    "duration": 429,
    "start_time": "2021-08-08T08:51:34.784Z"
   },
   {
    "duration": 4,
    "start_time": "2021-08-08T08:51:35.214Z"
   },
   {
    "duration": 248,
    "start_time": "2021-08-08T08:51:35.220Z"
   },
   {
    "duration": 4,
    "start_time": "2021-08-08T08:51:35.469Z"
   },
   {
    "duration": 18,
    "start_time": "2021-08-08T08:51:35.474Z"
   },
   {
    "duration": 4,
    "start_time": "2021-08-08T08:51:35.493Z"
   },
   {
    "duration": 8,
    "start_time": "2021-08-08T08:51:35.499Z"
   },
   {
    "duration": 5,
    "start_time": "2021-08-08T08:56:11.548Z"
   },
   {
    "duration": 5,
    "start_time": "2021-08-08T08:56:14.931Z"
   },
   {
    "duration": 5,
    "start_time": "2021-08-08T08:56:17.510Z"
   },
   {
    "duration": 5,
    "start_time": "2021-08-08T08:56:21.008Z"
   },
   {
    "duration": 6,
    "start_time": "2021-08-08T08:56:26.006Z"
   },
   {
    "duration": 5,
    "start_time": "2021-08-08T08:56:30.977Z"
   },
   {
    "duration": 6,
    "start_time": "2021-08-08T08:56:34.767Z"
   },
   {
    "duration": 1064,
    "start_time": "2021-08-08T09:05:39.869Z"
   },
   {
    "duration": 143,
    "start_time": "2021-08-08T09:05:40.935Z"
   },
   {
    "duration": 17,
    "start_time": "2021-08-08T09:05:41.082Z"
   },
   {
    "duration": 18,
    "start_time": "2021-08-08T09:05:41.100Z"
   },
   {
    "duration": 27,
    "start_time": "2021-08-08T09:05:41.120Z"
   },
   {
    "duration": 34,
    "start_time": "2021-08-08T09:05:41.149Z"
   },
   {
    "duration": 6,
    "start_time": "2021-08-08T09:05:41.190Z"
   },
   {
    "duration": 9,
    "start_time": "2021-08-08T09:05:41.198Z"
   },
   {
    "duration": 5,
    "start_time": "2021-08-08T09:05:41.209Z"
   },
   {
    "duration": 13,
    "start_time": "2021-08-08T09:05:41.216Z"
   },
   {
    "duration": 95,
    "start_time": "2021-08-08T09:05:41.231Z"
   },
   {
    "duration": 14,
    "start_time": "2021-08-08T09:05:41.328Z"
   },
   {
    "duration": 14,
    "start_time": "2021-08-08T09:05:41.344Z"
   },
   {
    "duration": 51,
    "start_time": "2021-08-08T09:05:41.360Z"
   },
   {
    "duration": 124,
    "start_time": "2021-08-08T09:05:41.413Z"
   },
   {
    "duration": 16,
    "start_time": "2021-08-08T09:05:41.539Z"
   },
   {
    "duration": 16,
    "start_time": "2021-08-08T09:05:41.557Z"
   },
   {
    "duration": 29,
    "start_time": "2021-08-08T09:05:41.592Z"
   },
   {
    "duration": 20,
    "start_time": "2021-08-08T09:05:41.623Z"
   },
   {
    "duration": 12,
    "start_time": "2021-08-08T09:05:41.644Z"
   },
   {
    "duration": 5,
    "start_time": "2021-08-08T09:05:41.658Z"
   },
   {
    "duration": 64,
    "start_time": "2021-08-08T09:05:41.666Z"
   },
   {
    "duration": 17,
    "start_time": "2021-08-08T09:05:41.732Z"
   },
   {
    "duration": 6,
    "start_time": "2021-08-08T09:05:41.751Z"
   },
   {
    "duration": 35,
    "start_time": "2021-08-08T09:05:41.758Z"
   },
   {
    "duration": 21,
    "start_time": "2021-08-08T09:05:41.795Z"
   },
   {
    "duration": 21,
    "start_time": "2021-08-08T09:05:41.818Z"
   },
   {
    "duration": 80,
    "start_time": "2021-08-08T09:05:41.841Z"
   },
   {
    "duration": 25,
    "start_time": "2021-08-08T09:05:41.923Z"
   },
   {
    "duration": 13,
    "start_time": "2021-08-08T09:05:41.949Z"
   },
   {
    "duration": 34,
    "start_time": "2021-08-08T09:05:41.963Z"
   },
   {
    "duration": 4,
    "start_time": "2021-08-08T09:05:41.998Z"
   },
   {
    "duration": 8,
    "start_time": "2021-08-08T09:05:42.003Z"
   },
   {
    "duration": 7,
    "start_time": "2021-08-08T09:05:42.013Z"
   },
   {
    "duration": 5,
    "start_time": "2021-08-08T09:05:42.021Z"
   },
   {
    "duration": 15,
    "start_time": "2021-08-08T09:05:42.027Z"
   },
   {
    "duration": 63,
    "start_time": "2021-08-08T09:05:42.043Z"
   },
   {
    "duration": 42,
    "start_time": "2021-08-08T09:05:42.107Z"
   },
   {
    "duration": 55,
    "start_time": "2021-08-08T09:05:42.151Z"
   },
   {
    "duration": 44,
    "start_time": "2021-08-08T09:05:42.208Z"
   },
   {
    "duration": 57,
    "start_time": "2021-08-08T09:05:42.254Z"
   },
   {
    "duration": 43,
    "start_time": "2021-08-08T09:05:42.313Z"
   },
   {
    "duration": 83,
    "start_time": "2021-08-08T09:05:42.357Z"
   },
   {
    "duration": 70,
    "start_time": "2021-08-08T09:05:42.441Z"
   },
   {
    "duration": 81,
    "start_time": "2021-08-08T09:05:42.513Z"
   },
   {
    "duration": 155,
    "start_time": "2021-08-08T09:05:42.596Z"
   },
   {
    "duration": 14,
    "start_time": "2021-08-08T09:05:42.752Z"
   },
   {
    "duration": 40,
    "start_time": "2021-08-08T09:05:42.768Z"
   },
   {
    "duration": 14,
    "start_time": "2021-08-08T09:05:42.810Z"
   },
   {
    "duration": 14,
    "start_time": "2021-08-08T09:05:42.826Z"
   },
   {
    "duration": 380,
    "start_time": "2021-08-08T09:05:42.842Z"
   },
   {
    "duration": 309,
    "start_time": "2021-08-08T09:05:43.224Z"
   },
   {
    "duration": 427,
    "start_time": "2021-08-08T09:05:43.535Z"
   },
   {
    "duration": 4,
    "start_time": "2021-08-08T09:05:43.964Z"
   },
   {
    "duration": 241,
    "start_time": "2021-08-08T09:05:43.970Z"
   },
   {
    "duration": 4,
    "start_time": "2021-08-08T09:05:44.213Z"
   },
   {
    "duration": 9,
    "start_time": "2021-08-08T09:05:44.218Z"
   },
   {
    "duration": 7,
    "start_time": "2021-08-08T09:05:44.228Z"
   },
   {
    "duration": 15,
    "start_time": "2021-08-08T09:06:04.244Z"
   },
   {
    "duration": 15,
    "start_time": "2021-08-08T09:06:22.356Z"
   },
   {
    "duration": 1085,
    "start_time": "2021-08-08T09:12:01.409Z"
   },
   {
    "duration": 155,
    "start_time": "2021-08-08T09:12:02.496Z"
   },
   {
    "duration": 18,
    "start_time": "2021-08-08T09:12:02.653Z"
   },
   {
    "duration": 35,
    "start_time": "2021-08-08T09:12:02.673Z"
   },
   {
    "duration": 41,
    "start_time": "2021-08-08T09:12:02.710Z"
   },
   {
    "duration": 36,
    "start_time": "2021-08-08T09:12:02.753Z"
   },
   {
    "duration": 5,
    "start_time": "2021-08-08T09:12:02.791Z"
   },
   {
    "duration": 12,
    "start_time": "2021-08-08T09:12:02.798Z"
   },
   {
    "duration": 12,
    "start_time": "2021-08-08T09:12:02.812Z"
   },
   {
    "duration": 19,
    "start_time": "2021-08-08T09:12:02.826Z"
   },
   {
    "duration": 98,
    "start_time": "2021-08-08T09:12:02.846Z"
   },
   {
    "duration": 12,
    "start_time": "2021-08-08T09:12:02.946Z"
   },
   {
    "duration": 14,
    "start_time": "2021-08-08T09:12:02.960Z"
   },
   {
    "duration": 35,
    "start_time": "2021-08-08T09:12:02.976Z"
   },
   {
    "duration": 120,
    "start_time": "2021-08-08T09:12:03.013Z"
   },
   {
    "duration": 14,
    "start_time": "2021-08-08T09:12:03.135Z"
   },
   {
    "duration": 21,
    "start_time": "2021-08-08T09:12:03.151Z"
   },
   {
    "duration": 40,
    "start_time": "2021-08-08T09:12:03.174Z"
   },
   {
    "duration": 19,
    "start_time": "2021-08-08T09:12:03.216Z"
   },
   {
    "duration": 15,
    "start_time": "2021-08-08T09:12:03.237Z"
   },
   {
    "duration": 5,
    "start_time": "2021-08-08T09:12:03.253Z"
   },
   {
    "duration": 55,
    "start_time": "2021-08-08T09:12:03.260Z"
   },
   {
    "duration": 16,
    "start_time": "2021-08-08T09:12:03.318Z"
   },
   {
    "duration": 7,
    "start_time": "2021-08-08T09:12:03.336Z"
   },
   {
    "duration": 22,
    "start_time": "2021-08-08T09:12:03.344Z"
   },
   {
    "duration": 42,
    "start_time": "2021-08-08T09:12:03.367Z"
   },
   {
    "duration": 22,
    "start_time": "2021-08-08T09:12:03.411Z"
   },
   {
    "duration": 68,
    "start_time": "2021-08-08T09:12:03.434Z"
   },
   {
    "duration": 412,
    "start_time": "2021-08-08T09:12:03.503Z"
   },
   {
    "duration": -61,
    "start_time": "2021-08-08T09:12:03.978Z"
   },
   {
    "duration": -63,
    "start_time": "2021-08-08T09:12:03.981Z"
   },
   {
    "duration": -67,
    "start_time": "2021-08-08T09:12:03.985Z"
   },
   {
    "duration": -68,
    "start_time": "2021-08-08T09:12:03.987Z"
   },
   {
    "duration": -76,
    "start_time": "2021-08-08T09:12:03.996Z"
   },
   {
    "duration": -78,
    "start_time": "2021-08-08T09:12:03.999Z"
   },
   {
    "duration": -79,
    "start_time": "2021-08-08T09:12:04.001Z"
   },
   {
    "duration": -81,
    "start_time": "2021-08-08T09:12:04.004Z"
   },
   {
    "duration": -83,
    "start_time": "2021-08-08T09:12:04.007Z"
   },
   {
    "duration": -84,
    "start_time": "2021-08-08T09:12:04.009Z"
   },
   {
    "duration": -85,
    "start_time": "2021-08-08T09:12:04.011Z"
   },
   {
    "duration": -86,
    "start_time": "2021-08-08T09:12:04.013Z"
   },
   {
    "duration": -87,
    "start_time": "2021-08-08T09:12:04.015Z"
   },
   {
    "duration": -88,
    "start_time": "2021-08-08T09:12:04.017Z"
   },
   {
    "duration": -91,
    "start_time": "2021-08-08T09:12:04.020Z"
   },
   {
    "duration": -92,
    "start_time": "2021-08-08T09:12:04.022Z"
   },
   {
    "duration": -93,
    "start_time": "2021-08-08T09:12:04.024Z"
   },
   {
    "duration": -94,
    "start_time": "2021-08-08T09:12:04.026Z"
   },
   {
    "duration": -96,
    "start_time": "2021-08-08T09:12:04.028Z"
   },
   {
    "duration": -97,
    "start_time": "2021-08-08T09:12:04.030Z"
   },
   {
    "duration": -98,
    "start_time": "2021-08-08T09:12:04.032Z"
   },
   {
    "duration": -99,
    "start_time": "2021-08-08T09:12:04.034Z"
   },
   {
    "duration": -99,
    "start_time": "2021-08-08T09:12:04.036Z"
   },
   {
    "duration": -101,
    "start_time": "2021-08-08T09:12:04.038Z"
   },
   {
    "duration": -102,
    "start_time": "2021-08-08T09:12:04.040Z"
   },
   {
    "duration": -103,
    "start_time": "2021-08-08T09:12:04.042Z"
   },
   {
    "duration": -104,
    "start_time": "2021-08-08T09:12:04.044Z"
   },
   {
    "duration": -105,
    "start_time": "2021-08-08T09:12:04.046Z"
   },
   {
    "duration": -106,
    "start_time": "2021-08-08T09:12:04.048Z"
   },
   {
    "duration": -108,
    "start_time": "2021-08-08T09:12:04.050Z"
   },
   {
    "duration": -110,
    "start_time": "2021-08-08T09:12:04.053Z"
   },
   {
    "duration": 14,
    "start_time": "2021-08-08T09:12:36.661Z"
   },
   {
    "duration": 299,
    "start_time": "2021-08-08T09:13:30.231Z"
   },
   {
    "duration": 35,
    "start_time": "2021-08-08T09:13:40.121Z"
   },
   {
    "duration": 1036,
    "start_time": "2021-08-08T09:13:57.135Z"
   },
   {
    "duration": 145,
    "start_time": "2021-08-08T09:13:58.173Z"
   },
   {
    "duration": 17,
    "start_time": "2021-08-08T09:13:58.320Z"
   },
   {
    "duration": 23,
    "start_time": "2021-08-08T09:13:58.339Z"
   },
   {
    "duration": 39,
    "start_time": "2021-08-08T09:13:58.364Z"
   },
   {
    "duration": 35,
    "start_time": "2021-08-08T09:13:58.405Z"
   },
   {
    "duration": 5,
    "start_time": "2021-08-08T09:13:58.441Z"
   },
   {
    "duration": 8,
    "start_time": "2021-08-08T09:13:58.448Z"
   },
   {
    "duration": 11,
    "start_time": "2021-08-08T09:13:58.458Z"
   },
   {
    "duration": 14,
    "start_time": "2021-08-08T09:13:58.470Z"
   },
   {
    "duration": 94,
    "start_time": "2021-08-08T09:13:58.485Z"
   },
   {
    "duration": 12,
    "start_time": "2021-08-08T09:13:58.581Z"
   },
   {
    "duration": 15,
    "start_time": "2021-08-08T09:13:58.595Z"
   },
   {
    "duration": 34,
    "start_time": "2021-08-08T09:13:58.611Z"
   },
   {
    "duration": 130,
    "start_time": "2021-08-08T09:13:58.646Z"
   },
   {
    "duration": 14,
    "start_time": "2021-08-08T09:13:58.778Z"
   },
   {
    "duration": 18,
    "start_time": "2021-08-08T09:13:58.794Z"
   },
   {
    "duration": 29,
    "start_time": "2021-08-08T09:13:58.813Z"
   },
   {
    "duration": 20,
    "start_time": "2021-08-08T09:13:58.844Z"
   },
   {
    "duration": 18,
    "start_time": "2021-08-08T09:13:58.865Z"
   },
   {
    "duration": 11,
    "start_time": "2021-08-08T09:13:58.884Z"
   },
   {
    "duration": 45,
    "start_time": "2021-08-08T09:13:58.897Z"
   },
   {
    "duration": 19,
    "start_time": "2021-08-08T09:13:58.946Z"
   },
   {
    "duration": 29,
    "start_time": "2021-08-08T09:13:58.967Z"
   },
   {
    "duration": 24,
    "start_time": "2021-08-08T09:13:58.998Z"
   },
   {
    "duration": 20,
    "start_time": "2021-08-08T09:13:59.024Z"
   },
   {
    "duration": 21,
    "start_time": "2021-08-08T09:13:59.045Z"
   },
   {
    "duration": 73,
    "start_time": "2021-08-08T09:13:59.067Z"
   },
   {
    "duration": 52,
    "start_time": "2021-08-08T09:13:59.142Z"
   },
   {
    "duration": 13,
    "start_time": "2021-08-08T09:13:59.196Z"
   },
   {
    "duration": 30,
    "start_time": "2021-08-08T09:13:59.210Z"
   },
   {
    "duration": 20,
    "start_time": "2021-08-08T09:13:59.241Z"
   },
   {
    "duration": 3,
    "start_time": "2021-08-08T09:13:59.262Z"
   },
   {
    "duration": 9,
    "start_time": "2021-08-08T09:13:59.266Z"
   },
   {
    "duration": 16,
    "start_time": "2021-08-08T09:13:59.276Z"
   },
   {
    "duration": 4,
    "start_time": "2021-08-08T09:13:59.293Z"
   },
   {
    "duration": 21,
    "start_time": "2021-08-08T09:13:59.298Z"
   },
   {
    "duration": 76,
    "start_time": "2021-08-08T09:13:59.320Z"
   },
   {
    "duration": 62,
    "start_time": "2021-08-08T09:13:59.398Z"
   },
   {
    "duration": 78,
    "start_time": "2021-08-08T09:13:59.462Z"
   },
   {
    "duration": 73,
    "start_time": "2021-08-08T09:13:59.542Z"
   },
   {
    "duration": 64,
    "start_time": "2021-08-08T09:13:59.617Z"
   },
   {
    "duration": 67,
    "start_time": "2021-08-08T09:13:59.691Z"
   },
   {
    "duration": 100,
    "start_time": "2021-08-08T09:13:59.759Z"
   },
   {
    "duration": 155,
    "start_time": "2021-08-08T09:13:59.861Z"
   },
   {
    "duration": 109,
    "start_time": "2021-08-08T09:14:00.018Z"
   },
   {
    "duration": 177,
    "start_time": "2021-08-08T09:14:00.129Z"
   },
   {
    "duration": 23,
    "start_time": "2021-08-08T09:14:00.308Z"
   },
   {
    "duration": 31,
    "start_time": "2021-08-08T09:14:00.332Z"
   },
   {
    "duration": 48,
    "start_time": "2021-08-08T09:14:00.365Z"
   },
   {
    "duration": 24,
    "start_time": "2021-08-08T09:14:00.414Z"
   },
   {
    "duration": 386,
    "start_time": "2021-08-08T09:14:00.439Z"
   },
   {
    "duration": 338,
    "start_time": "2021-08-08T09:14:00.827Z"
   },
   {
    "duration": 369,
    "start_time": "2021-08-08T09:14:01.166Z"
   },
   {
    "duration": 4,
    "start_time": "2021-08-08T09:14:01.537Z"
   },
   {
    "duration": 249,
    "start_time": "2021-08-08T09:14:01.542Z"
   },
   {
    "duration": 3,
    "start_time": "2021-08-08T09:14:01.793Z"
   },
   {
    "duration": 29,
    "start_time": "2021-08-08T09:14:01.798Z"
   },
   {
    "duration": 9,
    "start_time": "2021-08-08T09:14:01.829Z"
   },
   {
    "duration": 38,
    "start_time": "2021-08-08T09:14:01.839Z"
   },
   {
    "duration": 14,
    "start_time": "2021-08-08T09:14:01.878Z"
   },
   {
    "duration": 1072,
    "start_time": "2021-08-08T09:14:36.954Z"
   },
   {
    "duration": 150,
    "start_time": "2021-08-08T09:14:38.028Z"
   },
   {
    "duration": 122,
    "start_time": "2021-08-08T09:14:38.180Z"
   },
   {
    "duration": 19,
    "start_time": "2021-08-08T09:14:38.303Z"
   },
   {
    "duration": 28,
    "start_time": "2021-08-08T09:14:38.323Z"
   },
   {
    "duration": 33,
    "start_time": "2021-08-08T09:14:38.353Z"
   },
   {
    "duration": 7,
    "start_time": "2021-08-08T09:14:38.387Z"
   },
   {
    "duration": 13,
    "start_time": "2021-08-08T09:14:38.396Z"
   },
   {
    "duration": 6,
    "start_time": "2021-08-08T09:14:38.411Z"
   },
   {
    "duration": 11,
    "start_time": "2021-08-08T09:14:38.418Z"
   },
   {
    "duration": 93,
    "start_time": "2021-08-08T09:14:38.431Z"
   },
   {
    "duration": 12,
    "start_time": "2021-08-08T09:14:38.526Z"
   },
   {
    "duration": 14,
    "start_time": "2021-08-08T09:14:38.540Z"
   },
   {
    "duration": 24,
    "start_time": "2021-08-08T09:14:38.555Z"
   },
   {
    "duration": 129,
    "start_time": "2021-08-08T09:14:38.591Z"
   },
   {
    "duration": 15,
    "start_time": "2021-08-08T09:14:38.721Z"
   },
   {
    "duration": 18,
    "start_time": "2021-08-08T09:14:38.738Z"
   },
   {
    "duration": 41,
    "start_time": "2021-08-08T09:14:38.757Z"
   },
   {
    "duration": 20,
    "start_time": "2021-08-08T09:14:38.800Z"
   },
   {
    "duration": 16,
    "start_time": "2021-08-08T09:14:38.821Z"
   },
   {
    "duration": 6,
    "start_time": "2021-08-08T09:14:38.838Z"
   },
   {
    "duration": 54,
    "start_time": "2021-08-08T09:14:38.845Z"
   },
   {
    "duration": 18,
    "start_time": "2021-08-08T09:14:38.902Z"
   },
   {
    "duration": 6,
    "start_time": "2021-08-08T09:14:38.922Z"
   },
   {
    "duration": 23,
    "start_time": "2021-08-08T09:14:38.929Z"
   },
   {
    "duration": 41,
    "start_time": "2021-08-08T09:14:38.953Z"
   },
   {
    "duration": 22,
    "start_time": "2021-08-08T09:14:38.996Z"
   },
   {
    "duration": 71,
    "start_time": "2021-08-08T09:14:39.020Z"
   },
   {
    "duration": 36,
    "start_time": "2021-08-08T09:14:39.093Z"
   },
   {
    "duration": 20,
    "start_time": "2021-08-08T09:14:39.131Z"
   },
   {
    "duration": 46,
    "start_time": "2021-08-08T09:14:39.152Z"
   },
   {
    "duration": 4,
    "start_time": "2021-08-08T09:14:39.200Z"
   },
   {
    "duration": 6,
    "start_time": "2021-08-08T09:14:39.205Z"
   },
   {
    "duration": 7,
    "start_time": "2021-08-08T09:14:39.213Z"
   },
   {
    "duration": 7,
    "start_time": "2021-08-08T09:14:39.222Z"
   },
   {
    "duration": 25,
    "start_time": "2021-08-08T09:14:39.230Z"
   },
   {
    "duration": 82,
    "start_time": "2021-08-08T09:14:39.257Z"
   },
   {
    "duration": 70,
    "start_time": "2021-08-08T09:14:39.341Z"
   },
   {
    "duration": 65,
    "start_time": "2021-08-08T09:14:39.413Z"
   },
   {
    "duration": 69,
    "start_time": "2021-08-08T09:14:39.491Z"
   },
   {
    "duration": 82,
    "start_time": "2021-08-08T09:14:39.562Z"
   },
   {
    "duration": 76,
    "start_time": "2021-08-08T09:14:39.646Z"
   },
   {
    "duration": 98,
    "start_time": "2021-08-08T09:14:39.724Z"
   },
   {
    "duration": 158,
    "start_time": "2021-08-08T09:14:39.824Z"
   },
   {
    "duration": 111,
    "start_time": "2021-08-08T09:14:39.984Z"
   },
   {
    "duration": 185,
    "start_time": "2021-08-08T09:14:40.097Z"
   },
   {
    "duration": 26,
    "start_time": "2021-08-08T09:14:40.284Z"
   },
   {
    "duration": 28,
    "start_time": "2021-08-08T09:14:40.311Z"
   },
   {
    "duration": 23,
    "start_time": "2021-08-08T09:14:40.341Z"
   },
   {
    "duration": 43,
    "start_time": "2021-08-08T09:14:40.366Z"
   },
   {
    "duration": 392,
    "start_time": "2021-08-08T09:14:40.411Z"
   },
   {
    "duration": 331,
    "start_time": "2021-08-08T09:14:40.804Z"
   },
   {
    "duration": 382,
    "start_time": "2021-08-08T09:14:41.137Z"
   },
   {
    "duration": 4,
    "start_time": "2021-08-08T09:14:41.521Z"
   },
   {
    "duration": 252,
    "start_time": "2021-08-08T09:14:41.527Z"
   },
   {
    "duration": 12,
    "start_time": "2021-08-08T09:14:41.780Z"
   },
   {
    "duration": 9,
    "start_time": "2021-08-08T09:14:41.793Z"
   },
   {
    "duration": 6,
    "start_time": "2021-08-08T09:14:41.803Z"
   },
   {
    "duration": 24,
    "start_time": "2021-08-08T09:14:41.810Z"
   },
   {
    "duration": 71,
    "start_time": "2021-08-08T09:18:44.700Z"
   },
   {
    "duration": 25,
    "start_time": "2021-08-08T09:19:35.770Z"
   },
   {
    "duration": 26,
    "start_time": "2021-08-08T09:20:30.297Z"
   },
   {
    "duration": 1108,
    "start_time": "2021-08-08T09:22:13.763Z"
   },
   {
    "duration": 146,
    "start_time": "2021-08-08T09:22:14.873Z"
   },
   {
    "duration": 19,
    "start_time": "2021-08-08T09:22:15.020Z"
   },
   {
    "duration": 21,
    "start_time": "2021-08-08T09:22:15.040Z"
   },
   {
    "duration": 48,
    "start_time": "2021-08-08T09:22:15.063Z"
   },
   {
    "duration": 34,
    "start_time": "2021-08-08T09:22:15.112Z"
   },
   {
    "duration": 5,
    "start_time": "2021-08-08T09:22:15.148Z"
   },
   {
    "duration": 7,
    "start_time": "2021-08-08T09:22:15.155Z"
   },
   {
    "duration": 6,
    "start_time": "2021-08-08T09:22:15.164Z"
   },
   {
    "duration": 22,
    "start_time": "2021-08-08T09:22:15.172Z"
   },
   {
    "duration": 95,
    "start_time": "2021-08-08T09:22:15.195Z"
   },
   {
    "duration": 14,
    "start_time": "2021-08-08T09:22:15.292Z"
   },
   {
    "duration": 14,
    "start_time": "2021-08-08T09:22:15.307Z"
   },
   {
    "duration": 36,
    "start_time": "2021-08-08T09:22:15.323Z"
   },
   {
    "duration": 140,
    "start_time": "2021-08-08T09:22:15.360Z"
   },
   {
    "duration": 20,
    "start_time": "2021-08-08T09:22:15.503Z"
   },
   {
    "duration": 19,
    "start_time": "2021-08-08T09:22:15.524Z"
   },
   {
    "duration": 52,
    "start_time": "2021-08-08T09:22:15.544Z"
   },
   {
    "duration": 24,
    "start_time": "2021-08-08T09:22:15.598Z"
   },
   {
    "duration": 14,
    "start_time": "2021-08-08T09:22:15.624Z"
   },
   {
    "duration": 7,
    "start_time": "2021-08-08T09:22:15.640Z"
   },
   {
    "duration": 51,
    "start_time": "2021-08-08T09:22:15.649Z"
   },
   {
    "duration": 18,
    "start_time": "2021-08-08T09:22:15.704Z"
   },
   {
    "duration": 7,
    "start_time": "2021-08-08T09:22:15.725Z"
   },
   {
    "duration": 24,
    "start_time": "2021-08-08T09:22:15.734Z"
   },
   {
    "duration": 47,
    "start_time": "2021-08-08T09:22:15.760Z"
   },
   {
    "duration": 21,
    "start_time": "2021-08-08T09:22:15.809Z"
   },
   {
    "duration": 83,
    "start_time": "2021-08-08T09:22:15.832Z"
   },
   {
    "duration": 37,
    "start_time": "2021-08-08T09:22:15.917Z"
   },
   {
    "duration": 44,
    "start_time": "2021-08-08T09:22:15.956Z"
   },
   {
    "duration": 22,
    "start_time": "2021-08-08T09:22:16.001Z"
   },
   {
    "duration": 4,
    "start_time": "2021-08-08T09:22:16.025Z"
   },
   {
    "duration": 6,
    "start_time": "2021-08-08T09:22:16.031Z"
   },
   {
    "duration": 9,
    "start_time": "2021-08-08T09:22:16.038Z"
   },
   {
    "duration": 6,
    "start_time": "2021-08-08T09:22:16.049Z"
   },
   {
    "duration": 45,
    "start_time": "2021-08-08T09:22:16.057Z"
   },
   {
    "duration": 65,
    "start_time": "2021-08-08T09:22:16.103Z"
   },
   {
    "duration": 82,
    "start_time": "2021-08-08T09:22:16.169Z"
   },
   {
    "duration": 68,
    "start_time": "2021-08-08T09:22:16.253Z"
   },
   {
    "duration": 72,
    "start_time": "2021-08-08T09:22:16.323Z"
   },
   {
    "duration": 64,
    "start_time": "2021-08-08T09:22:16.397Z"
   },
   {
    "duration": 84,
    "start_time": "2021-08-08T09:22:16.463Z"
   },
   {
    "duration": 97,
    "start_time": "2021-08-08T09:22:16.549Z"
   },
   {
    "duration": 152,
    "start_time": "2021-08-08T09:22:16.647Z"
   },
   {
    "duration": 108,
    "start_time": "2021-08-08T09:22:16.801Z"
   },
   {
    "duration": 174,
    "start_time": "2021-08-08T09:22:16.911Z"
   },
   {
    "duration": 24,
    "start_time": "2021-08-08T09:22:17.087Z"
   },
   {
    "duration": 29,
    "start_time": "2021-08-08T09:22:17.113Z"
   },
   {
    "duration": 23,
    "start_time": "2021-08-08T09:22:17.143Z"
   },
   {
    "duration": 25,
    "start_time": "2021-08-08T09:22:17.191Z"
   },
   {
    "duration": 401,
    "start_time": "2021-08-08T09:22:17.218Z"
   },
   {
    "duration": 319,
    "start_time": "2021-08-08T09:22:17.621Z"
   },
   {
    "duration": 369,
    "start_time": "2021-08-08T09:22:17.942Z"
   },
   {
    "duration": 4,
    "start_time": "2021-08-08T09:22:18.312Z"
   },
   {
    "duration": 261,
    "start_time": "2021-08-08T09:22:18.318Z"
   },
   {
    "duration": 3,
    "start_time": "2021-08-08T09:22:18.581Z"
   },
   {
    "duration": 3,
    "start_time": "2021-08-08T09:22:18.592Z"
   },
   {
    "duration": 9,
    "start_time": "2021-08-08T09:22:18.597Z"
   },
   {
    "duration": 29,
    "start_time": "2021-08-08T09:22:18.607Z"
   },
   {
    "duration": 93,
    "start_time": "2021-08-08T09:22:18.638Z"
   },
   {
    "duration": 25,
    "start_time": "2021-08-08T09:22:18.733Z"
   },
   {
    "duration": 45,
    "start_time": "2021-08-08T09:22:18.760Z"
   },
   {
    "duration": 5,
    "start_time": "2021-08-08T09:22:18.807Z"
   },
   {
    "duration": 6,
    "start_time": "2021-08-08T09:22:42.663Z"
   },
   {
    "duration": 4,
    "start_time": "2021-08-08T09:25:25.000Z"
   },
   {
    "duration": 5,
    "start_time": "2021-08-08T09:25:37.678Z"
   },
   {
    "duration": 6,
    "start_time": "2021-08-08T09:26:49.314Z"
   },
   {
    "duration": 998,
    "start_time": "2021-08-08T09:29:14.631Z"
   },
   {
    "duration": 147,
    "start_time": "2021-08-08T09:29:15.630Z"
   },
   {
    "duration": 21,
    "start_time": "2021-08-08T09:29:15.779Z"
   },
   {
    "duration": 18,
    "start_time": "2021-08-08T09:29:15.801Z"
   },
   {
    "duration": 26,
    "start_time": "2021-08-08T09:29:15.821Z"
   },
   {
    "duration": 33,
    "start_time": "2021-08-08T09:29:15.848Z"
   },
   {
    "duration": 5,
    "start_time": "2021-08-08T09:29:15.882Z"
   },
   {
    "duration": 7,
    "start_time": "2021-08-08T09:29:15.891Z"
   },
   {
    "duration": 5,
    "start_time": "2021-08-08T09:29:15.899Z"
   },
   {
    "duration": 11,
    "start_time": "2021-08-08T09:29:15.906Z"
   },
   {
    "duration": 90,
    "start_time": "2021-08-08T09:29:15.918Z"
   },
   {
    "duration": 13,
    "start_time": "2021-08-08T09:29:16.010Z"
   },
   {
    "duration": 13,
    "start_time": "2021-08-08T09:29:16.025Z"
   },
   {
    "duration": 23,
    "start_time": "2021-08-08T09:29:16.040Z"
   },
   {
    "duration": 144,
    "start_time": "2021-08-08T09:29:16.065Z"
   },
   {
    "duration": 16,
    "start_time": "2021-08-08T09:29:16.211Z"
   },
   {
    "duration": 15,
    "start_time": "2021-08-08T09:29:16.229Z"
   },
   {
    "duration": 49,
    "start_time": "2021-08-08T09:29:16.245Z"
   },
   {
    "duration": 18,
    "start_time": "2021-08-08T09:29:16.296Z"
   },
   {
    "duration": 14,
    "start_time": "2021-08-08T09:29:16.316Z"
   },
   {
    "duration": 5,
    "start_time": "2021-08-08T09:29:16.332Z"
   },
   {
    "duration": 54,
    "start_time": "2021-08-08T09:29:16.339Z"
   },
   {
    "duration": 18,
    "start_time": "2021-08-08T09:29:16.396Z"
   },
   {
    "duration": 7,
    "start_time": "2021-08-08T09:29:16.416Z"
   },
   {
    "duration": 24,
    "start_time": "2021-08-08T09:29:16.425Z"
   },
   {
    "duration": 48,
    "start_time": "2021-08-08T09:29:16.450Z"
   },
   {
    "duration": 26,
    "start_time": "2021-08-08T09:29:16.500Z"
   },
   {
    "duration": 78,
    "start_time": "2021-08-08T09:29:16.527Z"
   },
   {
    "duration": 34,
    "start_time": "2021-08-08T09:29:16.606Z"
   },
   {
    "duration": 22,
    "start_time": "2021-08-08T09:29:16.642Z"
   },
   {
    "duration": 43,
    "start_time": "2021-08-08T09:29:16.665Z"
   },
   {
    "duration": 3,
    "start_time": "2021-08-08T09:29:16.710Z"
   },
   {
    "duration": 9,
    "start_time": "2021-08-08T09:29:16.715Z"
   },
   {
    "duration": 7,
    "start_time": "2021-08-08T09:29:16.725Z"
   },
   {
    "duration": 8,
    "start_time": "2021-08-08T09:29:16.734Z"
   },
   {
    "duration": 24,
    "start_time": "2021-08-08T09:29:16.744Z"
   },
   {
    "duration": 80,
    "start_time": "2021-08-08T09:29:16.769Z"
   },
   {
    "duration": 72,
    "start_time": "2021-08-08T09:29:16.851Z"
   },
   {
    "duration": 75,
    "start_time": "2021-08-08T09:29:16.925Z"
   },
   {
    "duration": 64,
    "start_time": "2021-08-08T09:29:17.002Z"
   },
   {
    "duration": 78,
    "start_time": "2021-08-08T09:29:17.068Z"
   },
   {
    "duration": 97,
    "start_time": "2021-08-08T09:29:17.148Z"
   },
   {
    "duration": 109,
    "start_time": "2021-08-08T09:29:17.246Z"
   },
   {
    "duration": 155,
    "start_time": "2021-08-08T09:29:17.357Z"
   },
   {
    "duration": 104,
    "start_time": "2021-08-08T09:29:17.513Z"
   },
   {
    "duration": 173,
    "start_time": "2021-08-08T09:29:17.619Z"
   },
   {
    "duration": 22,
    "start_time": "2021-08-08T09:29:17.794Z"
   },
   {
    "duration": 30,
    "start_time": "2021-08-08T09:29:17.818Z"
   },
   {
    "duration": 50,
    "start_time": "2021-08-08T09:29:17.850Z"
   },
   {
    "duration": 23,
    "start_time": "2021-08-08T09:29:17.902Z"
   },
   {
    "duration": 382,
    "start_time": "2021-08-08T09:29:17.927Z"
   },
   {
    "duration": 318,
    "start_time": "2021-08-08T09:29:18.311Z"
   },
   {
    "duration": 363,
    "start_time": "2021-08-08T09:29:18.630Z"
   },
   {
    "duration": 4,
    "start_time": "2021-08-08T09:29:18.995Z"
   },
   {
    "duration": 7,
    "start_time": "2021-08-08T09:29:19.000Z"
   },
   {
    "duration": 6,
    "start_time": "2021-08-08T09:29:19.009Z"
   },
   {
    "duration": 9,
    "start_time": "2021-08-08T09:29:19.017Z"
   },
   {
    "duration": 25,
    "start_time": "2021-08-08T09:29:19.028Z"
   },
   {
    "duration": 86,
    "start_time": "2021-08-08T09:29:19.054Z"
   },
   {
    "duration": 25,
    "start_time": "2021-08-08T09:29:19.142Z"
   },
   {
    "duration": 37,
    "start_time": "2021-08-08T09:29:19.168Z"
   },
   {
    "duration": 4,
    "start_time": "2021-08-08T09:29:19.206Z"
   },
   {
    "duration": 6,
    "start_time": "2021-08-08T09:29:19.211Z"
   },
   {
    "duration": 7,
    "start_time": "2021-08-08T09:29:19.219Z"
   },
   {
    "duration": 1404,
    "start_time": "2021-08-08T09:45:48.237Z"
   },
   {
    "duration": 219,
    "start_time": "2021-08-08T09:45:49.643Z"
   },
   {
    "duration": 18,
    "start_time": "2021-08-08T09:45:49.864Z"
   },
   {
    "duration": 25,
    "start_time": "2021-08-08T09:45:49.883Z"
   },
   {
    "duration": 28,
    "start_time": "2021-08-08T09:45:49.909Z"
   },
   {
    "duration": 35,
    "start_time": "2021-08-08T09:45:49.939Z"
   },
   {
    "duration": 9,
    "start_time": "2021-08-08T09:45:49.976Z"
   },
   {
    "duration": 10,
    "start_time": "2021-08-08T09:45:49.988Z"
   },
   {
    "duration": 7,
    "start_time": "2021-08-08T09:45:50.000Z"
   },
   {
    "duration": 13,
    "start_time": "2021-08-08T09:45:50.008Z"
   },
   {
    "duration": 96,
    "start_time": "2021-08-08T09:45:50.023Z"
   },
   {
    "duration": 13,
    "start_time": "2021-08-08T09:45:50.121Z"
   },
   {
    "duration": 15,
    "start_time": "2021-08-08T09:45:50.136Z"
   },
   {
    "duration": 46,
    "start_time": "2021-08-08T09:45:50.153Z"
   },
   {
    "duration": 135,
    "start_time": "2021-08-08T09:45:50.201Z"
   },
   {
    "duration": 20,
    "start_time": "2021-08-08T09:45:50.338Z"
   },
   {
    "duration": 22,
    "start_time": "2021-08-08T09:45:50.359Z"
   },
   {
    "duration": 30,
    "start_time": "2021-08-08T09:45:50.391Z"
   },
   {
    "duration": 20,
    "start_time": "2021-08-08T09:45:50.423Z"
   },
   {
    "duration": 12,
    "start_time": "2021-08-08T09:45:50.445Z"
   },
   {
    "duration": 13,
    "start_time": "2021-08-08T09:45:50.458Z"
   },
   {
    "duration": 54,
    "start_time": "2021-08-08T09:45:50.473Z"
   },
   {
    "duration": 19,
    "start_time": "2021-08-08T09:45:50.531Z"
   },
   {
    "duration": 7,
    "start_time": "2021-08-08T09:45:50.552Z"
   },
   {
    "duration": 45,
    "start_time": "2021-08-08T09:45:50.561Z"
   },
   {
    "duration": 22,
    "start_time": "2021-08-08T09:45:50.608Z"
   },
   {
    "duration": 21,
    "start_time": "2021-08-08T09:45:50.632Z"
   },
   {
    "duration": 73,
    "start_time": "2021-08-08T09:45:50.654Z"
   },
   {
    "duration": 37,
    "start_time": "2021-08-08T09:45:50.728Z"
   },
   {
    "duration": 39,
    "start_time": "2021-08-08T09:45:50.767Z"
   },
   {
    "duration": 20,
    "start_time": "2021-08-08T09:45:50.808Z"
   },
   {
    "duration": 3,
    "start_time": "2021-08-08T09:45:50.830Z"
   },
   {
    "duration": 10,
    "start_time": "2021-08-08T09:45:50.835Z"
   },
   {
    "duration": 8,
    "start_time": "2021-08-08T09:45:50.847Z"
   },
   {
    "duration": 8,
    "start_time": "2021-08-08T09:45:50.857Z"
   },
   {
    "duration": 45,
    "start_time": "2021-08-08T09:45:50.866Z"
   },
   {
    "duration": 64,
    "start_time": "2021-08-08T09:45:50.913Z"
   },
   {
    "duration": 63,
    "start_time": "2021-08-08T09:45:50.991Z"
   },
   {
    "duration": 76,
    "start_time": "2021-08-08T09:45:51.056Z"
   },
   {
    "duration": 74,
    "start_time": "2021-08-08T09:45:51.133Z"
   },
   {
    "duration": 64,
    "start_time": "2021-08-08T09:45:51.208Z"
   },
   {
    "duration": 73,
    "start_time": "2021-08-08T09:45:51.274Z"
   },
   {
    "duration": 98,
    "start_time": "2021-08-08T09:45:51.348Z"
   },
   {
    "duration": 167,
    "start_time": "2021-08-08T09:45:51.448Z"
   },
   {
    "duration": 105,
    "start_time": "2021-08-08T09:45:51.616Z"
   },
   {
    "duration": 171,
    "start_time": "2021-08-08T09:45:51.723Z"
   },
   {
    "duration": 23,
    "start_time": "2021-08-08T09:45:51.896Z"
   },
   {
    "duration": 30,
    "start_time": "2021-08-08T09:45:51.920Z"
   },
   {
    "duration": 47,
    "start_time": "2021-08-08T09:45:51.952Z"
   },
   {
    "duration": 24,
    "start_time": "2021-08-08T09:45:52.001Z"
   },
   {
    "duration": 388,
    "start_time": "2021-08-08T09:45:52.027Z"
   },
   {
    "duration": 319,
    "start_time": "2021-08-08T09:45:52.416Z"
   },
   {
    "duration": 373,
    "start_time": "2021-08-08T09:45:52.737Z"
   },
   {
    "duration": 4,
    "start_time": "2021-08-08T09:45:53.112Z"
   },
   {
    "duration": 8,
    "start_time": "2021-08-08T09:45:53.118Z"
   },
   {
    "duration": 6,
    "start_time": "2021-08-08T09:45:53.128Z"
   },
   {
    "duration": 6,
    "start_time": "2021-08-08T09:45:53.136Z"
   },
   {
    "duration": 25,
    "start_time": "2021-08-08T09:45:53.144Z"
   },
   {
    "duration": 72,
    "start_time": "2021-08-08T09:45:53.190Z"
   },
   {
    "duration": 42,
    "start_time": "2021-08-08T09:45:53.263Z"
   },
   {
    "duration": 24,
    "start_time": "2021-08-08T09:45:53.307Z"
   },
   {
    "duration": 4,
    "start_time": "2021-08-08T09:45:53.332Z"
   },
   {
    "duration": 7,
    "start_time": "2021-08-08T09:45:53.337Z"
   },
   {
    "duration": 8,
    "start_time": "2021-08-08T09:45:53.346Z"
   },
   {
    "duration": 1514,
    "start_time": "2021-08-09T05:42:38.580Z"
   },
   {
    "duration": 227,
    "start_time": "2021-08-09T05:42:40.096Z"
   },
   {
    "duration": 37,
    "start_time": "2021-08-09T05:42:40.326Z"
   },
   {
    "duration": 27,
    "start_time": "2021-08-09T05:42:40.366Z"
   },
   {
    "duration": 42,
    "start_time": "2021-08-09T05:42:40.396Z"
   },
   {
    "duration": 62,
    "start_time": "2021-08-09T05:42:40.440Z"
   },
   {
    "duration": 7,
    "start_time": "2021-08-09T05:42:40.505Z"
   },
   {
    "duration": 9,
    "start_time": "2021-08-09T05:42:40.516Z"
   },
   {
    "duration": 8,
    "start_time": "2021-08-09T05:42:40.527Z"
   },
   {
    "duration": 36,
    "start_time": "2021-08-09T05:42:40.537Z"
   },
   {
    "duration": 135,
    "start_time": "2021-08-09T05:42:40.576Z"
   },
   {
    "duration": 18,
    "start_time": "2021-08-09T05:42:40.713Z"
   },
   {
    "duration": 39,
    "start_time": "2021-08-09T05:42:40.734Z"
   },
   {
    "duration": 50,
    "start_time": "2021-08-09T05:42:40.776Z"
   },
   {
    "duration": 189,
    "start_time": "2021-08-09T05:42:40.828Z"
   },
   {
    "duration": 21,
    "start_time": "2021-08-09T05:42:41.020Z"
   },
   {
    "duration": 38,
    "start_time": "2021-08-09T05:42:41.044Z"
   },
   {
    "duration": 44,
    "start_time": "2021-08-09T05:42:41.085Z"
   },
   {
    "duration": 40,
    "start_time": "2021-08-09T05:42:41.132Z"
   },
   {
    "duration": 53,
    "start_time": "2021-08-09T05:42:41.174Z"
   },
   {
    "duration": 11,
    "start_time": "2021-08-09T05:42:41.230Z"
   },
   {
    "duration": 81,
    "start_time": "2021-08-09T05:42:41.244Z"
   },
   {
    "duration": 34,
    "start_time": "2021-08-09T05:42:41.334Z"
   },
   {
    "duration": 10,
    "start_time": "2021-08-09T05:42:41.372Z"
   },
   {
    "duration": 36,
    "start_time": "2021-08-09T05:42:41.384Z"
   },
   {
    "duration": 65,
    "start_time": "2021-08-09T05:42:41.422Z"
   },
   {
    "duration": 37,
    "start_time": "2021-08-09T05:42:41.490Z"
   },
   {
    "duration": 154,
    "start_time": "2021-08-09T05:42:41.529Z"
   },
   {
    "duration": 78,
    "start_time": "2021-08-09T05:42:41.686Z"
   },
   {
    "duration": 39,
    "start_time": "2021-08-09T05:42:41.768Z"
   },
   {
    "duration": 71,
    "start_time": "2021-08-09T05:42:41.809Z"
   },
   {
    "duration": 8,
    "start_time": "2021-08-09T05:42:41.884Z"
   },
   {
    "duration": 8,
    "start_time": "2021-08-09T05:42:41.895Z"
   },
   {
    "duration": 8,
    "start_time": "2021-08-09T05:42:41.906Z"
   },
   {
    "duration": 48,
    "start_time": "2021-08-09T05:42:41.918Z"
   },
   {
    "duration": 36,
    "start_time": "2021-08-09T05:42:41.969Z"
   },
   {
    "duration": 190,
    "start_time": "2021-08-09T05:42:42.008Z"
   },
   {
    "duration": 129,
    "start_time": "2021-08-09T05:42:42.201Z"
   },
   {
    "duration": 233,
    "start_time": "2021-08-09T05:42:42.332Z"
   },
   {
    "duration": 142,
    "start_time": "2021-08-09T05:42:42.568Z"
   },
   {
    "duration": 131,
    "start_time": "2021-08-09T05:42:42.712Z"
   },
   {
    "duration": 139,
    "start_time": "2021-08-09T05:42:42.846Z"
   },
   {
    "duration": 184,
    "start_time": "2021-08-09T05:42:42.987Z"
   },
   {
    "duration": 258,
    "start_time": "2021-08-09T05:42:43.174Z"
   },
   {
    "duration": 192,
    "start_time": "2021-08-09T05:42:43.435Z"
   },
   {
    "duration": 317,
    "start_time": "2021-08-09T05:42:43.629Z"
   },
   {
    "duration": 57,
    "start_time": "2021-08-09T05:42:43.948Z"
   },
   {
    "duration": 75,
    "start_time": "2021-08-09T05:42:44.007Z"
   },
   {
    "duration": 50,
    "start_time": "2021-08-09T05:42:44.084Z"
   },
   {
    "duration": 47,
    "start_time": "2021-08-09T05:42:44.162Z"
   },
   {
    "duration": 753,
    "start_time": "2021-08-09T05:42:44.211Z"
   },
   {
    "duration": 627,
    "start_time": "2021-08-09T05:42:44.966Z"
   },
   {
    "duration": 719,
    "start_time": "2021-08-09T05:42:45.596Z"
   },
   {
    "duration": 7,
    "start_time": "2021-08-09T05:42:46.317Z"
   },
   {
    "duration": 34,
    "start_time": "2021-08-09T05:42:46.327Z"
   },
   {
    "duration": 6,
    "start_time": "2021-08-09T05:42:46.363Z"
   },
   {
    "duration": 36,
    "start_time": "2021-08-09T05:42:46.371Z"
   },
   {
    "duration": 41,
    "start_time": "2021-08-09T05:42:46.409Z"
   },
   {
    "duration": 248,
    "start_time": "2021-08-09T05:42:46.452Z"
   },
   {
    "duration": 89,
    "start_time": "2021-08-09T05:42:46.703Z"
   },
   {
    "duration": 92,
    "start_time": "2021-08-09T05:42:46.796Z"
   },
   {
    "duration": 7,
    "start_time": "2021-08-09T05:42:46.892Z"
   },
   {
    "duration": 12,
    "start_time": "2021-08-09T05:42:46.902Z"
   },
   {
    "duration": 7,
    "start_time": "2021-08-09T05:42:46.917Z"
   },
   {
    "duration": 481,
    "start_time": "2021-08-09T05:49:45.656Z"
   },
   {
    "duration": 6,
    "start_time": "2021-08-09T05:49:49.812Z"
   },
   {
    "duration": 1423,
    "start_time": "2021-08-09T05:58:31.509Z"
   },
   {
    "duration": 314,
    "start_time": "2021-08-09T13:22:03.512Z"
   },
   {
    "duration": 1504,
    "start_time": "2021-08-09T13:22:09.532Z"
   },
   {
    "duration": 214,
    "start_time": "2021-08-09T13:22:11.039Z"
   },
   {
    "duration": 31,
    "start_time": "2021-08-09T13:22:11.255Z"
   },
   {
    "duration": 28,
    "start_time": "2021-08-09T13:22:11.288Z"
   },
   {
    "duration": 67,
    "start_time": "2021-08-09T13:22:11.318Z"
   },
   {
    "duration": 45,
    "start_time": "2021-08-09T13:22:11.387Z"
   },
   {
    "duration": 7,
    "start_time": "2021-08-09T13:22:11.435Z"
   },
   {
    "duration": 23,
    "start_time": "2021-08-09T13:22:11.446Z"
   },
   {
    "duration": 5,
    "start_time": "2021-08-09T13:22:11.472Z"
   },
   {
    "duration": 16,
    "start_time": "2021-08-09T13:22:11.480Z"
   },
   {
    "duration": 140,
    "start_time": "2021-08-09T13:22:11.499Z"
   },
   {
    "duration": 26,
    "start_time": "2021-08-09T13:22:11.642Z"
   },
   {
    "duration": 18,
    "start_time": "2021-08-09T13:22:11.671Z"
   },
   {
    "duration": 35,
    "start_time": "2021-08-09T13:22:11.691Z"
   },
   {
    "duration": 309,
    "start_time": "2021-08-09T13:22:11.729Z"
   },
   {
    "duration": 30,
    "start_time": "2021-08-09T13:22:12.040Z"
   },
   {
    "duration": 23,
    "start_time": "2021-08-09T13:22:12.073Z"
   },
   {
    "duration": 69,
    "start_time": "2021-08-09T13:22:12.098Z"
   },
   {
    "duration": 23,
    "start_time": "2021-08-09T13:22:12.169Z"
   },
   {
    "duration": 18,
    "start_time": "2021-08-09T13:22:12.195Z"
   },
   {
    "duration": 8,
    "start_time": "2021-08-09T13:22:12.216Z"
   },
   {
    "duration": 97,
    "start_time": "2021-08-09T13:22:12.227Z"
   },
   {
    "duration": 23,
    "start_time": "2021-08-09T13:22:12.330Z"
   },
   {
    "duration": 17,
    "start_time": "2021-08-09T13:22:12.356Z"
   },
   {
    "duration": 411,
    "start_time": "2021-08-09T13:22:12.375Z"
   },
   {
    "duration": -61,
    "start_time": "2021-08-09T13:22:12.849Z"
   },
   {
    "duration": -65,
    "start_time": "2021-08-09T13:22:12.855Z"
   },
   {
    "duration": -68,
    "start_time": "2021-08-09T13:22:12.859Z"
   },
   {
    "duration": -70,
    "start_time": "2021-08-09T13:22:12.862Z"
   },
   {
    "duration": -72,
    "start_time": "2021-08-09T13:22:12.866Z"
   },
   {
    "duration": -82,
    "start_time": "2021-08-09T13:22:12.877Z"
   },
   {
    "duration": -84,
    "start_time": "2021-08-09T13:22:12.881Z"
   },
   {
    "duration": -87,
    "start_time": "2021-08-09T13:22:12.885Z"
   },
   {
    "duration": -89,
    "start_time": "2021-08-09T13:22:12.888Z"
   },
   {
    "duration": -90,
    "start_time": "2021-08-09T13:22:12.891Z"
   },
   {
    "duration": -92,
    "start_time": "2021-08-09T13:22:12.894Z"
   },
   {
    "duration": -93,
    "start_time": "2021-08-09T13:22:12.896Z"
   },
   {
    "duration": -97,
    "start_time": "2021-08-09T13:22:12.902Z"
   },
   {
    "duration": -99,
    "start_time": "2021-08-09T13:22:12.905Z"
   },
   {
    "duration": -99,
    "start_time": "2021-08-09T13:22:12.907Z"
   },
   {
    "duration": -101,
    "start_time": "2021-08-09T13:22:12.910Z"
   },
   {
    "duration": -103,
    "start_time": "2021-08-09T13:22:12.913Z"
   },
   {
    "duration": -104,
    "start_time": "2021-08-09T13:22:12.916Z"
   },
   {
    "duration": -107,
    "start_time": "2021-08-09T13:22:12.920Z"
   },
   {
    "duration": -108,
    "start_time": "2021-08-09T13:22:12.923Z"
   },
   {
    "duration": -111,
    "start_time": "2021-08-09T13:22:12.927Z"
   },
   {
    "duration": -112,
    "start_time": "2021-08-09T13:22:12.930Z"
   },
   {
    "duration": -116,
    "start_time": "2021-08-09T13:22:12.935Z"
   },
   {
    "duration": -117,
    "start_time": "2021-08-09T13:22:12.938Z"
   },
   {
    "duration": -119,
    "start_time": "2021-08-09T13:22:12.941Z"
   },
   {
    "duration": -119,
    "start_time": "2021-08-09T13:22:12.943Z"
   },
   {
    "duration": -122,
    "start_time": "2021-08-09T13:22:12.947Z"
   },
   {
    "duration": -123,
    "start_time": "2021-08-09T13:22:12.950Z"
   },
   {
    "duration": -87,
    "start_time": "2021-08-09T13:22:12.954Z"
   },
   {
    "duration": -87,
    "start_time": "2021-08-09T13:22:12.956Z"
   },
   {
    "duration": -89,
    "start_time": "2021-08-09T13:22:12.959Z"
   },
   {
    "duration": -89,
    "start_time": "2021-08-09T13:22:12.961Z"
   },
   {
    "duration": -92,
    "start_time": "2021-08-09T13:22:12.965Z"
   },
   {
    "duration": -92,
    "start_time": "2021-08-09T13:22:12.967Z"
   },
   {
    "duration": -94,
    "start_time": "2021-08-09T13:22:12.970Z"
   },
   {
    "duration": -95,
    "start_time": "2021-08-09T13:22:12.973Z"
   },
   {
    "duration": -104,
    "start_time": "2021-08-09T13:22:12.984Z"
   },
   {
    "duration": -107,
    "start_time": "2021-08-09T13:22:12.988Z"
   },
   {
    "duration": -108,
    "start_time": "2021-08-09T13:22:12.991Z"
   },
   {
    "duration": 34,
    "start_time": "2021-08-09T13:23:09.249Z"
   },
   {
    "duration": 1414,
    "start_time": "2021-08-10T08:02:08.230Z"
   },
   {
    "duration": 203,
    "start_time": "2021-08-10T08:02:09.647Z"
   },
   {
    "duration": 37,
    "start_time": "2021-08-10T08:02:09.853Z"
   },
   {
    "duration": 27,
    "start_time": "2021-08-10T08:02:09.894Z"
   },
   {
    "duration": 67,
    "start_time": "2021-08-10T08:02:09.923Z"
   },
   {
    "duration": 39,
    "start_time": "2021-08-10T08:02:09.994Z"
   },
   {
    "duration": 6,
    "start_time": "2021-08-10T08:02:10.035Z"
   },
   {
    "duration": 14,
    "start_time": "2021-08-10T08:02:10.045Z"
   },
   {
    "duration": 4,
    "start_time": "2021-08-10T08:02:10.062Z"
   },
   {
    "duration": 35,
    "start_time": "2021-08-10T08:02:10.069Z"
   },
   {
    "duration": 131,
    "start_time": "2021-08-10T08:02:10.106Z"
   },
   {
    "duration": 17,
    "start_time": "2021-08-10T08:02:10.239Z"
   },
   {
    "duration": 31,
    "start_time": "2021-08-10T08:02:10.259Z"
   },
   {
    "duration": 34,
    "start_time": "2021-08-10T08:02:10.293Z"
   },
   {
    "duration": 191,
    "start_time": "2021-08-10T08:02:10.330Z"
   },
   {
    "duration": 21,
    "start_time": "2021-08-10T08:02:10.523Z"
   },
   {
    "duration": 48,
    "start_time": "2021-08-10T08:02:10.547Z"
   },
   {
    "duration": 42,
    "start_time": "2021-08-10T08:02:10.598Z"
   },
   {
    "duration": 24,
    "start_time": "2021-08-10T08:02:10.643Z"
   },
   {
    "duration": 33,
    "start_time": "2021-08-10T08:02:10.669Z"
   },
   {
    "duration": 9,
    "start_time": "2021-08-10T08:02:10.704Z"
   },
   {
    "duration": 100,
    "start_time": "2021-08-10T08:02:10.715Z"
   },
   {
    "duration": 24,
    "start_time": "2021-08-10T08:02:10.821Z"
   },
   {
    "duration": 8,
    "start_time": "2021-08-10T08:02:10.848Z"
   },
   {
    "duration": 50,
    "start_time": "2021-08-10T08:02:10.859Z"
   },
   {
    "duration": 33,
    "start_time": "2021-08-10T08:02:10.912Z"
   },
   {
    "duration": 66,
    "start_time": "2021-08-10T08:02:10.948Z"
   },
   {
    "duration": 135,
    "start_time": "2021-08-10T08:02:11.017Z"
   },
   {
    "duration": 84,
    "start_time": "2021-08-10T08:02:11.154Z"
   },
   {
    "duration": 46,
    "start_time": "2021-08-10T08:02:11.240Z"
   },
   {
    "duration": 36,
    "start_time": "2021-08-10T08:02:11.289Z"
   },
   {
    "duration": 7,
    "start_time": "2021-08-10T08:02:11.327Z"
   },
   {
    "duration": 7,
    "start_time": "2021-08-10T08:02:11.336Z"
   },
   {
    "duration": 43,
    "start_time": "2021-08-10T08:02:11.345Z"
   },
   {
    "duration": 11,
    "start_time": "2021-08-10T08:02:11.391Z"
   },
   {
    "duration": 35,
    "start_time": "2021-08-10T08:02:11.404Z"
   },
   {
    "duration": 161,
    "start_time": "2021-08-10T08:02:11.442Z"
   },
   {
    "duration": 133,
    "start_time": "2021-08-10T08:02:11.605Z"
   },
   {
    "duration": 146,
    "start_time": "2021-08-10T08:02:11.741Z"
   },
   {
    "duration": 130,
    "start_time": "2021-08-10T08:02:11.890Z"
   },
   {
    "duration": 121,
    "start_time": "2021-08-10T08:02:12.023Z"
   },
   {
    "duration": 130,
    "start_time": "2021-08-10T08:02:12.147Z"
   },
   {
    "duration": 169,
    "start_time": "2021-08-10T08:02:12.280Z"
   },
   {
    "duration": 249,
    "start_time": "2021-08-10T08:02:12.452Z"
   },
   {
    "duration": 201,
    "start_time": "2021-08-10T08:02:12.704Z"
   },
   {
    "duration": 323,
    "start_time": "2021-08-10T08:02:12.908Z"
   },
   {
    "duration": 61,
    "start_time": "2021-08-10T08:02:13.234Z"
   },
   {
    "duration": 51,
    "start_time": "2021-08-10T08:02:13.299Z"
   },
   {
    "duration": 69,
    "start_time": "2021-08-10T08:02:13.353Z"
   },
   {
    "duration": 40,
    "start_time": "2021-08-10T08:02:13.425Z"
   },
   {
    "duration": 757,
    "start_time": "2021-08-10T08:02:13.482Z"
   },
   {
    "duration": 593,
    "start_time": "2021-08-10T08:02:14.241Z"
   },
   {
    "duration": 694,
    "start_time": "2021-08-10T08:02:14.836Z"
   },
   {
    "duration": 6,
    "start_time": "2021-08-10T08:02:15.533Z"
   },
   {
    "duration": 13,
    "start_time": "2021-08-10T08:02:15.541Z"
   },
   {
    "duration": 30,
    "start_time": "2021-08-10T08:02:15.557Z"
   },
   {
    "duration": 14,
    "start_time": "2021-08-10T08:02:15.589Z"
   },
   {
    "duration": 38,
    "start_time": "2021-08-10T08:02:15.606Z"
   },
   {
    "duration": 165,
    "start_time": "2021-08-10T08:02:15.646Z"
   },
   {
    "duration": 41,
    "start_time": "2021-08-10T08:02:15.814Z"
   },
   {
    "duration": 66,
    "start_time": "2021-08-10T08:02:15.858Z"
   },
   {
    "duration": 6,
    "start_time": "2021-08-10T08:02:15.926Z"
   },
   {
    "duration": 23,
    "start_time": "2021-08-10T08:02:15.934Z"
   },
   {
    "duration": 29,
    "start_time": "2021-08-10T08:02:15.960Z"
   },
   {
    "duration": 1685,
    "start_time": "2021-08-10T08:28:37.172Z"
   },
   {
    "duration": 224,
    "start_time": "2021-08-10T08:28:38.860Z"
   },
   {
    "duration": 27,
    "start_time": "2021-08-10T08:28:39.093Z"
   },
   {
    "duration": 30,
    "start_time": "2021-08-10T08:28:39.122Z"
   },
   {
    "duration": 74,
    "start_time": "2021-08-10T08:28:39.155Z"
   },
   {
    "duration": 39,
    "start_time": "2021-08-10T08:28:39.232Z"
   },
   {
    "duration": 22,
    "start_time": "2021-08-10T08:28:39.274Z"
   },
   {
    "duration": 8,
    "start_time": "2021-08-10T08:28:39.299Z"
   },
   {
    "duration": 5,
    "start_time": "2021-08-10T08:28:39.310Z"
   },
   {
    "duration": 18,
    "start_time": "2021-08-10T08:28:39.317Z"
   },
   {
    "duration": 165,
    "start_time": "2021-08-10T08:28:39.338Z"
   },
   {
    "duration": 19,
    "start_time": "2021-08-10T08:28:39.506Z"
   },
   {
    "duration": 21,
    "start_time": "2021-08-10T08:28:39.527Z"
   },
   {
    "duration": 72,
    "start_time": "2021-08-10T08:28:39.551Z"
   },
   {
    "duration": 190,
    "start_time": "2021-08-10T08:28:39.625Z"
   },
   {
    "duration": 19,
    "start_time": "2021-08-10T08:28:39.818Z"
   },
   {
    "duration": 23,
    "start_time": "2021-08-10T08:28:39.839Z"
   },
   {
    "duration": 64,
    "start_time": "2021-08-10T08:28:39.864Z"
   },
   {
    "duration": 22,
    "start_time": "2021-08-10T08:28:39.930Z"
   },
   {
    "duration": 43,
    "start_time": "2021-08-10T08:28:39.955Z"
   },
   {
    "duration": 10,
    "start_time": "2021-08-10T08:28:40.000Z"
   },
   {
    "duration": 91,
    "start_time": "2021-08-10T08:28:40.015Z"
   },
   {
    "duration": 26,
    "start_time": "2021-08-10T08:28:40.110Z"
   },
   {
    "duration": 11,
    "start_time": "2021-08-10T08:28:40.139Z"
   },
   {
    "duration": 84,
    "start_time": "2021-08-10T08:28:40.153Z"
   },
   {
    "duration": 383,
    "start_time": "2021-08-10T08:28:39.856Z"
   },
   {
    "duration": 380,
    "start_time": "2021-08-10T08:28:39.861Z"
   },
   {
    "duration": 377,
    "start_time": "2021-08-10T08:28:39.865Z"
   },
   {
    "duration": 376,
    "start_time": "2021-08-10T08:28:39.867Z"
   },
   {
    "duration": 375,
    "start_time": "2021-08-10T08:28:39.870Z"
   },
   {
    "duration": 373,
    "start_time": "2021-08-10T08:28:39.873Z"
   },
   {
    "duration": 370,
    "start_time": "2021-08-10T08:28:39.877Z"
   },
   {
    "duration": 367,
    "start_time": "2021-08-10T08:28:39.881Z"
   },
   {
    "duration": 366,
    "start_time": "2021-08-10T08:28:39.884Z"
   },
   {
    "duration": 363,
    "start_time": "2021-08-10T08:28:39.888Z"
   },
   {
    "duration": 360,
    "start_time": "2021-08-10T08:28:39.892Z"
   },
   {
    "duration": 333,
    "start_time": "2021-08-10T08:28:39.920Z"
   },
   {
    "duration": 331,
    "start_time": "2021-08-10T08:28:39.924Z"
   },
   {
    "duration": 328,
    "start_time": "2021-08-10T08:28:39.928Z"
   },
   {
    "duration": 327,
    "start_time": "2021-08-10T08:28:39.931Z"
   },
   {
    "duration": 326,
    "start_time": "2021-08-10T08:28:39.933Z"
   },
   {
    "duration": 326,
    "start_time": "2021-08-10T08:28:39.935Z"
   },
   {
    "duration": 324,
    "start_time": "2021-08-10T08:28:39.938Z"
   },
   {
    "duration": 324,
    "start_time": "2021-08-10T08:28:39.940Z"
   },
   {
    "duration": 319,
    "start_time": "2021-08-10T08:28:39.946Z"
   },
   {
    "duration": 319,
    "start_time": "2021-08-10T08:28:39.948Z"
   },
   {
    "duration": 316,
    "start_time": "2021-08-10T08:28:39.952Z"
   },
   {
    "duration": 315,
    "start_time": "2021-08-10T08:28:39.955Z"
   },
   {
    "duration": 314,
    "start_time": "2021-08-10T08:28:39.957Z"
   },
   {
    "duration": 312,
    "start_time": "2021-08-10T08:28:39.960Z"
   },
   {
    "duration": 311,
    "start_time": "2021-08-10T08:28:39.963Z"
   },
   {
    "duration": 310,
    "start_time": "2021-08-10T08:28:39.965Z"
   },
   {
    "duration": 298,
    "start_time": "2021-08-10T08:28:39.978Z"
   },
   {
    "duration": 303,
    "start_time": "2021-08-10T08:28:39.982Z"
   },
   {
    "duration": 303,
    "start_time": "2021-08-10T08:28:39.985Z"
   },
   {
    "duration": 302,
    "start_time": "2021-08-10T08:28:39.988Z"
   },
   {
    "duration": 303,
    "start_time": "2021-08-10T08:28:39.990Z"
   },
   {
    "duration": 304,
    "start_time": "2021-08-10T08:28:39.994Z"
   },
   {
    "duration": 304,
    "start_time": "2021-08-10T08:28:39.996Z"
   },
   {
    "duration": 302,
    "start_time": "2021-08-10T08:28:40.000Z"
   },
   {
    "duration": 300,
    "start_time": "2021-08-10T08:28:40.003Z"
   },
   {
    "duration": 299,
    "start_time": "2021-08-10T08:28:40.006Z"
   },
   {
    "duration": 298,
    "start_time": "2021-08-10T08:28:40.008Z"
   },
   {
    "duration": 297,
    "start_time": "2021-08-10T08:28:40.011Z"
   },
   {
    "duration": 455,
    "start_time": "2021-08-10T08:29:15.463Z"
   },
   {
    "duration": 32,
    "start_time": "2021-08-10T08:29:27.714Z"
   },
   {
    "duration": 309,
    "start_time": "2021-08-10T08:29:44.599Z"
   },
   {
    "duration": 1448,
    "start_time": "2021-08-10T08:31:06.613Z"
   },
   {
    "duration": 205,
    "start_time": "2021-08-10T08:31:08.064Z"
   },
   {
    "duration": 40,
    "start_time": "2021-08-10T08:31:08.272Z"
   },
   {
    "duration": 26,
    "start_time": "2021-08-10T08:31:08.315Z"
   },
   {
    "duration": 67,
    "start_time": "2021-08-10T08:31:08.343Z"
   },
   {
    "duration": 38,
    "start_time": "2021-08-10T08:31:08.413Z"
   },
   {
    "duration": 17,
    "start_time": "2021-08-10T08:31:08.453Z"
   },
   {
    "duration": 16,
    "start_time": "2021-08-10T08:31:08.474Z"
   },
   {
    "duration": 7,
    "start_time": "2021-08-10T08:31:08.493Z"
   },
   {
    "duration": 16,
    "start_time": "2021-08-10T08:31:08.503Z"
   },
   {
    "duration": 149,
    "start_time": "2021-08-10T08:31:08.522Z"
   },
   {
    "duration": 24,
    "start_time": "2021-08-10T08:31:08.673Z"
   },
   {
    "duration": 17,
    "start_time": "2021-08-10T08:31:08.699Z"
   },
   {
    "duration": 35,
    "start_time": "2021-08-10T08:31:08.719Z"
   },
   {
    "duration": 180,
    "start_time": "2021-08-10T08:31:08.786Z"
   },
   {
    "duration": 34,
    "start_time": "2021-08-10T08:31:08.968Z"
   },
   {
    "duration": 24,
    "start_time": "2021-08-10T08:31:09.005Z"
   },
   {
    "duration": 62,
    "start_time": "2021-08-10T08:31:09.032Z"
   },
   {
    "duration": 23,
    "start_time": "2021-08-10T08:31:09.097Z"
   },
   {
    "duration": 26,
    "start_time": "2021-08-10T08:31:09.122Z"
   },
   {
    "duration": 8,
    "start_time": "2021-08-10T08:31:09.151Z"
   },
   {
    "duration": 88,
    "start_time": "2021-08-10T08:31:09.161Z"
   },
   {
    "duration": 36,
    "start_time": "2021-08-10T08:31:09.254Z"
   },
   {
    "duration": 12,
    "start_time": "2021-08-10T08:31:09.294Z"
   },
   {
    "duration": 418,
    "start_time": "2021-08-10T08:31:09.309Z"
   },
   {
    "duration": 355,
    "start_time": "2021-08-10T08:31:09.375Z"
   },
   {
    "duration": 353,
    "start_time": "2021-08-10T08:31:09.379Z"
   },
   {
    "duration": 351,
    "start_time": "2021-08-10T08:31:09.383Z"
   },
   {
    "duration": 350,
    "start_time": "2021-08-10T08:31:09.387Z"
   },
   {
    "duration": 347,
    "start_time": "2021-08-10T08:31:09.392Z"
   },
   {
    "duration": 345,
    "start_time": "2021-08-10T08:31:09.396Z"
   },
   {
    "duration": 344,
    "start_time": "2021-08-10T08:31:09.399Z"
   },
   {
    "duration": 334,
    "start_time": "2021-08-10T08:31:09.412Z"
   },
   {
    "duration": 332,
    "start_time": "2021-08-10T08:31:09.416Z"
   },
   {
    "duration": 330,
    "start_time": "2021-08-10T08:31:09.420Z"
   },
   {
    "duration": 327,
    "start_time": "2021-08-10T08:31:09.425Z"
   },
   {
    "duration": 326,
    "start_time": "2021-08-10T08:31:09.429Z"
   },
   {
    "duration": 324,
    "start_time": "2021-08-10T08:31:09.433Z"
   },
   {
    "duration": 322,
    "start_time": "2021-08-10T08:31:09.437Z"
   },
   {
    "duration": 319,
    "start_time": "2021-08-10T08:31:09.442Z"
   },
   {
    "duration": 317,
    "start_time": "2021-08-10T08:31:09.446Z"
   },
   {
    "duration": 332,
    "start_time": "2021-08-10T08:31:09.449Z"
   },
   {
    "duration": 330,
    "start_time": "2021-08-10T08:31:09.453Z"
   },
   {
    "duration": 326,
    "start_time": "2021-08-10T08:31:09.458Z"
   },
   {
    "duration": 328,
    "start_time": "2021-08-10T08:31:09.462Z"
   },
   {
    "duration": 327,
    "start_time": "2021-08-10T08:31:09.465Z"
   },
   {
    "duration": 324,
    "start_time": "2021-08-10T08:31:09.471Z"
   },
   {
    "duration": 321,
    "start_time": "2021-08-10T08:31:09.476Z"
   },
   {
    "duration": 318,
    "start_time": "2021-08-10T08:31:09.480Z"
   },
   {
    "duration": 316,
    "start_time": "2021-08-10T08:31:09.484Z"
   },
   {
    "duration": 312,
    "start_time": "2021-08-10T08:31:09.489Z"
   },
   {
    "duration": 310,
    "start_time": "2021-08-10T08:31:09.492Z"
   },
   {
    "duration": 308,
    "start_time": "2021-08-10T08:31:09.496Z"
   },
   {
    "duration": 305,
    "start_time": "2021-08-10T08:31:09.500Z"
   },
   {
    "duration": 302,
    "start_time": "2021-08-10T08:31:09.504Z"
   },
   {
    "duration": 298,
    "start_time": "2021-08-10T08:31:09.509Z"
   },
   {
    "duration": 296,
    "start_time": "2021-08-10T08:31:09.512Z"
   },
   {
    "duration": 294,
    "start_time": "2021-08-10T08:31:09.515Z"
   },
   {
    "duration": 292,
    "start_time": "2021-08-10T08:31:09.519Z"
   },
   {
    "duration": 287,
    "start_time": "2021-08-10T08:31:09.525Z"
   },
   {
    "duration": 279,
    "start_time": "2021-08-10T08:31:09.534Z"
   },
   {
    "duration": 236,
    "start_time": "2021-08-10T08:31:09.578Z"
   },
   {
    "duration": 234,
    "start_time": "2021-08-10T08:31:09.581Z"
   },
   {
    "duration": 227,
    "start_time": "2021-08-10T08:31:09.589Z"
   },
   {
    "duration": 47,
    "start_time": "2021-08-10T08:31:35.312Z"
   },
   {
    "duration": 366,
    "start_time": "2021-08-10T08:31:57.686Z"
   },
   {
    "duration": 583,
    "start_time": "2021-08-10T08:32:02.835Z"
   },
   {
    "duration": 26,
    "start_time": "2021-08-10T08:32:14.621Z"
   },
   {
    "duration": 396,
    "start_time": "2021-08-10T08:32:34.039Z"
   },
   {
    "duration": 289,
    "start_time": "2021-08-10T08:32:54.534Z"
   },
   {
    "duration": 374,
    "start_time": "2021-08-10T08:33:14.143Z"
   },
   {
    "duration": 685,
    "start_time": "2021-08-10T08:33:58.430Z"
   },
   {
    "duration": 410,
    "start_time": "2021-08-10T08:34:13.522Z"
   },
   {
    "duration": 1628,
    "start_time": "2021-08-10T08:38:00.016Z"
   },
   {
    "duration": 250,
    "start_time": "2021-08-10T08:38:01.647Z"
   },
   {
    "duration": 26,
    "start_time": "2021-08-10T08:38:01.900Z"
   },
   {
    "duration": 29,
    "start_time": "2021-08-10T08:38:01.929Z"
   },
   {
    "duration": 50,
    "start_time": "2021-08-10T08:38:01.960Z"
   },
   {
    "duration": 37,
    "start_time": "2021-08-10T08:38:02.012Z"
   },
   {
    "duration": 6,
    "start_time": "2021-08-10T08:38:02.052Z"
   },
   {
    "duration": 28,
    "start_time": "2021-08-10T08:38:02.062Z"
   },
   {
    "duration": 7,
    "start_time": "2021-08-10T08:38:02.093Z"
   },
   {
    "duration": 27,
    "start_time": "2021-08-10T08:38:02.102Z"
   },
   {
    "duration": 136,
    "start_time": "2021-08-10T08:38:02.132Z"
   },
   {
    "duration": 23,
    "start_time": "2021-08-10T08:38:02.271Z"
   },
   {
    "duration": 23,
    "start_time": "2021-08-10T08:38:02.297Z"
   },
   {
    "duration": 38,
    "start_time": "2021-08-10T08:38:02.323Z"
   },
   {
    "duration": 333,
    "start_time": "2021-08-10T08:38:02.363Z"
   },
   {
    "duration": 30,
    "start_time": "2021-08-10T08:38:02.699Z"
   },
   {
    "duration": 24,
    "start_time": "2021-08-10T08:38:02.794Z"
   },
   {
    "duration": 90,
    "start_time": "2021-08-10T08:38:02.820Z"
   },
   {
    "duration": 23,
    "start_time": "2021-08-10T08:38:02.912Z"
   },
   {
    "duration": 21,
    "start_time": "2021-08-10T08:38:02.937Z"
   },
   {
    "duration": 9,
    "start_time": "2021-08-10T08:38:02.960Z"
   },
   {
    "duration": 83,
    "start_time": "2021-08-10T08:38:02.971Z"
   },
   {
    "duration": 27,
    "start_time": "2021-08-10T08:38:03.060Z"
   },
   {
    "duration": 11,
    "start_time": "2021-08-10T08:38:03.092Z"
   },
   {
    "duration": 629,
    "start_time": "2021-08-10T08:38:03.105Z"
   },
   {
    "duration": 29,
    "start_time": "2021-08-10T08:38:03.736Z"
   },
   {
    "duration": 38,
    "start_time": "2021-08-10T08:38:03.782Z"
   },
   {
    "duration": 151,
    "start_time": "2021-08-10T08:38:03.822Z"
   },
   {
    "duration": 67,
    "start_time": "2021-08-10T08:38:03.990Z"
   },
   {
    "duration": 56,
    "start_time": "2021-08-10T08:38:04.060Z"
   },
   {
    "duration": 7522,
    "start_time": "2021-08-10T08:38:04.119Z"
   },
   {
    "duration": 318,
    "start_time": "2021-08-10T08:38:11.326Z"
   },
   {
    "duration": 315,
    "start_time": "2021-08-10T08:38:11.330Z"
   },
   {
    "duration": 313,
    "start_time": "2021-08-10T08:38:11.334Z"
   },
   {
    "duration": 308,
    "start_time": "2021-08-10T08:38:11.340Z"
   },
   {
    "duration": 306,
    "start_time": "2021-08-10T08:38:11.343Z"
   },
   {
    "duration": 302,
    "start_time": "2021-08-10T08:38:11.348Z"
   },
   {
    "duration": 299,
    "start_time": "2021-08-10T08:38:11.352Z"
   },
   {
    "duration": 298,
    "start_time": "2021-08-10T08:38:11.355Z"
   },
   {
    "duration": 296,
    "start_time": "2021-08-10T08:38:11.358Z"
   },
   {
    "duration": 292,
    "start_time": "2021-08-10T08:38:11.363Z"
   },
   {
    "duration": 292,
    "start_time": "2021-08-10T08:38:11.365Z"
   },
   {
    "duration": 289,
    "start_time": "2021-08-10T08:38:11.369Z"
   },
   {
    "duration": 288,
    "start_time": "2021-08-10T08:38:11.371Z"
   },
   {
    "duration": 286,
    "start_time": "2021-08-10T08:38:11.375Z"
   },
   {
    "duration": 285,
    "start_time": "2021-08-10T08:38:11.377Z"
   },
   {
    "duration": 283,
    "start_time": "2021-08-10T08:38:11.380Z"
   },
   {
    "duration": 281,
    "start_time": "2021-08-10T08:38:11.383Z"
   },
   {
    "duration": 280,
    "start_time": "2021-08-10T08:38:11.386Z"
   },
   {
    "duration": 279,
    "start_time": "2021-08-10T08:38:11.388Z"
   },
   {
    "duration": 277,
    "start_time": "2021-08-10T08:38:11.391Z"
   },
   {
    "duration": 268,
    "start_time": "2021-08-10T08:38:11.401Z"
   },
   {
    "duration": 265,
    "start_time": "2021-08-10T08:38:11.406Z"
   },
   {
    "duration": 264,
    "start_time": "2021-08-10T08:38:11.408Z"
   },
   {
    "duration": 262,
    "start_time": "2021-08-10T08:38:11.412Z"
   },
   {
    "duration": 259,
    "start_time": "2021-08-10T08:38:11.416Z"
   },
   {
    "duration": 257,
    "start_time": "2021-08-10T08:38:11.419Z"
   },
   {
    "duration": 255,
    "start_time": "2021-08-10T08:38:11.422Z"
   },
   {
    "duration": 254,
    "start_time": "2021-08-10T08:38:11.424Z"
   },
   {
    "duration": 253,
    "start_time": "2021-08-10T08:38:11.427Z"
   },
   {
    "duration": 251,
    "start_time": "2021-08-10T08:38:11.430Z"
   },
   {
    "duration": 249,
    "start_time": "2021-08-10T08:38:11.433Z"
   },
   {
    "duration": 248,
    "start_time": "2021-08-10T08:38:11.436Z"
   },
   {
    "duration": 254,
    "start_time": "2021-08-10T08:38:11.438Z"
   },
   {
    "duration": 438,
    "start_time": "2021-08-10T08:40:11.413Z"
   },
   {
    "duration": 6,
    "start_time": "2021-08-10T08:59:02.163Z"
   },
   {
    "duration": 299,
    "start_time": "2021-08-10T08:59:10.975Z"
   },
   {
    "duration": 5,
    "start_time": "2021-08-10T08:59:22.898Z"
   },
   {
    "duration": 7,
    "start_time": "2021-08-10T09:00:07.184Z"
   },
   {
    "duration": 70,
    "start_time": "2021-08-10T09:01:21.054Z"
   },
   {
    "duration": 6,
    "start_time": "2021-08-10T09:01:30.932Z"
   },
   {
    "duration": 62,
    "start_time": "2021-08-10T09:02:17.358Z"
   },
   {
    "duration": 6,
    "start_time": "2021-08-10T09:02:19.734Z"
   },
   {
    "duration": 6969,
    "start_time": "2021-08-10T09:03:04.540Z"
   },
   {
    "duration": 8,
    "start_time": "2021-08-10T09:03:15.499Z"
   },
   {
    "duration": 644,
    "start_time": "2021-08-10T09:12:40.654Z"
   },
   {
    "duration": 276,
    "start_time": "2021-08-10T09:13:07.752Z"
   },
   {
    "duration": 296,
    "start_time": "2021-08-10T09:13:46.064Z"
   },
   {
    "duration": 1431,
    "start_time": "2021-08-10T09:14:04.491Z"
   },
   {
    "duration": 216,
    "start_time": "2021-08-10T09:14:05.925Z"
   },
   {
    "duration": 23,
    "start_time": "2021-08-10T09:14:06.144Z"
   },
   {
    "duration": 42,
    "start_time": "2021-08-10T09:14:06.169Z"
   },
   {
    "duration": 38,
    "start_time": "2021-08-10T09:14:06.213Z"
   },
   {
    "duration": 51,
    "start_time": "2021-08-10T09:14:06.253Z"
   },
   {
    "duration": 7,
    "start_time": "2021-08-10T09:14:06.307Z"
   },
   {
    "duration": 11,
    "start_time": "2021-08-10T09:14:06.317Z"
   },
   {
    "duration": 8,
    "start_time": "2021-08-10T09:14:06.331Z"
   },
   {
    "duration": 52,
    "start_time": "2021-08-10T09:14:06.342Z"
   },
   {
    "duration": 123,
    "start_time": "2021-08-10T09:14:06.397Z"
   },
   {
    "duration": 16,
    "start_time": "2021-08-10T09:14:06.523Z"
   },
   {
    "duration": 22,
    "start_time": "2021-08-10T09:14:06.542Z"
   },
   {
    "duration": 37,
    "start_time": "2021-08-10T09:14:06.587Z"
   },
   {
    "duration": 217,
    "start_time": "2021-08-10T09:14:06.626Z"
   },
   {
    "duration": 20,
    "start_time": "2021-08-10T09:14:06.846Z"
   },
   {
    "duration": 39,
    "start_time": "2021-08-10T09:14:06.868Z"
   },
   {
    "duration": 40,
    "start_time": "2021-08-10T09:14:06.909Z"
   },
   {
    "duration": 35,
    "start_time": "2021-08-10T09:14:06.951Z"
   },
   {
    "duration": 20,
    "start_time": "2021-08-10T09:14:06.989Z"
   },
   {
    "duration": 9,
    "start_time": "2021-08-10T09:14:07.011Z"
   },
   {
    "duration": 96,
    "start_time": "2021-08-10T09:14:07.022Z"
   },
   {
    "duration": 15,
    "start_time": "2021-08-10T09:14:07.124Z"
   },
   {
    "duration": 10,
    "start_time": "2021-08-10T09:14:07.143Z"
   },
   {
    "duration": 433,
    "start_time": "2021-08-10T09:14:07.156Z"
   },
   {
    "duration": 31,
    "start_time": "2021-08-10T09:14:07.592Z"
   },
   {
    "duration": 29,
    "start_time": "2021-08-10T09:14:07.625Z"
   },
   {
    "duration": 168,
    "start_time": "2021-08-10T09:14:07.657Z"
   },
   {
    "duration": 440,
    "start_time": "2021-08-10T09:14:07.827Z"
   },
   {
    "duration": 18,
    "start_time": "2021-08-10T09:14:08.251Z"
   },
   {
    "duration": 17,
    "start_time": "2021-08-10T09:14:08.254Z"
   },
   {
    "duration": 15,
    "start_time": "2021-08-10T09:14:08.257Z"
   },
   {
    "duration": 13,
    "start_time": "2021-08-10T09:14:08.261Z"
   },
   {
    "duration": -24,
    "start_time": "2021-08-10T09:14:08.299Z"
   },
   {
    "duration": -30,
    "start_time": "2021-08-10T09:14:08.307Z"
   },
   {
    "duration": -34,
    "start_time": "2021-08-10T09:14:08.312Z"
   },
   {
    "duration": -37,
    "start_time": "2021-08-10T09:14:08.316Z"
   },
   {
    "duration": -43,
    "start_time": "2021-08-10T09:14:08.324Z"
   },
   {
    "duration": -38,
    "start_time": "2021-08-10T09:14:08.327Z"
   },
   {
    "duration": -40,
    "start_time": "2021-08-10T09:14:08.331Z"
   },
   {
    "duration": -41,
    "start_time": "2021-08-10T09:14:08.334Z"
   },
   {
    "duration": -42,
    "start_time": "2021-08-10T09:14:08.337Z"
   },
   {
    "duration": -43,
    "start_time": "2021-08-10T09:14:08.340Z"
   },
   {
    "duration": -45,
    "start_time": "2021-08-10T09:14:08.344Z"
   },
   {
    "duration": -47,
    "start_time": "2021-08-10T09:14:08.347Z"
   },
   {
    "duration": -48,
    "start_time": "2021-08-10T09:14:08.350Z"
   },
   {
    "duration": -50,
    "start_time": "2021-08-10T09:14:08.353Z"
   },
   {
    "duration": -52,
    "start_time": "2021-08-10T09:14:08.356Z"
   },
   {
    "duration": -53,
    "start_time": "2021-08-10T09:14:08.359Z"
   },
   {
    "duration": -57,
    "start_time": "2021-08-10T09:14:08.364Z"
   },
   {
    "duration": -64,
    "start_time": "2021-08-10T09:14:08.372Z"
   },
   {
    "duration": -67,
    "start_time": "2021-08-10T09:14:08.377Z"
   },
   {
    "duration": -71,
    "start_time": "2021-08-10T09:14:08.382Z"
   },
   {
    "duration": -73,
    "start_time": "2021-08-10T09:14:08.385Z"
   },
   {
    "duration": -74,
    "start_time": "2021-08-10T09:14:08.388Z"
   },
   {
    "duration": -75,
    "start_time": "2021-08-10T09:14:08.390Z"
   },
   {
    "duration": -76,
    "start_time": "2021-08-10T09:14:08.393Z"
   },
   {
    "duration": -77,
    "start_time": "2021-08-10T09:14:08.396Z"
   },
   {
    "duration": -78,
    "start_time": "2021-08-10T09:14:08.398Z"
   },
   {
    "duration": -82,
    "start_time": "2021-08-10T09:14:08.403Z"
   },
   {
    "duration": -82,
    "start_time": "2021-08-10T09:14:08.405Z"
   },
   {
    "duration": -84,
    "start_time": "2021-08-10T09:14:08.408Z"
   },
   {
    "duration": -86,
    "start_time": "2021-08-10T09:14:08.411Z"
   },
   {
    "duration": -87,
    "start_time": "2021-08-10T09:14:08.414Z"
   },
   {
    "duration": -88,
    "start_time": "2021-08-10T09:14:08.416Z"
   },
   {
    "duration": 59,
    "start_time": "2021-08-10T09:14:25.820Z"
   },
   {
    "duration": 7,
    "start_time": "2021-08-10T09:14:35.300Z"
   },
   {
    "duration": 64,
    "start_time": "2021-08-10T09:15:38.765Z"
   },
   {
    "duration": 8,
    "start_time": "2021-08-10T09:15:41.494Z"
   },
   {
    "duration": 56,
    "start_time": "2021-08-10T09:16:45.622Z"
   },
   {
    "duration": 6,
    "start_time": "2021-08-10T09:16:48.030Z"
   },
   {
    "duration": 1447,
    "start_time": "2021-08-10T09:17:32.871Z"
   },
   {
    "duration": 224,
    "start_time": "2021-08-10T09:17:34.321Z"
   },
   {
    "duration": 23,
    "start_time": "2021-08-10T09:17:34.548Z"
   },
   {
    "duration": 32,
    "start_time": "2021-08-10T09:17:34.586Z"
   },
   {
    "duration": 40,
    "start_time": "2021-08-10T09:17:34.621Z"
   },
   {
    "duration": 47,
    "start_time": "2021-08-10T09:17:34.663Z"
   },
   {
    "duration": 8,
    "start_time": "2021-08-10T09:17:34.713Z"
   },
   {
    "duration": 8,
    "start_time": "2021-08-10T09:17:34.727Z"
   },
   {
    "duration": 52,
    "start_time": "2021-08-10T09:17:34.739Z"
   },
   {
    "duration": 19,
    "start_time": "2021-08-10T09:17:34.794Z"
   },
   {
    "duration": 129,
    "start_time": "2021-08-10T09:17:34.816Z"
   },
   {
    "duration": 19,
    "start_time": "2021-08-10T09:17:34.948Z"
   },
   {
    "duration": 20,
    "start_time": "2021-08-10T09:17:34.991Z"
   },
   {
    "duration": 38,
    "start_time": "2021-08-10T09:17:35.013Z"
   },
   {
    "duration": 216,
    "start_time": "2021-08-10T09:17:35.053Z"
   },
   {
    "duration": 24,
    "start_time": "2021-08-10T09:17:35.271Z"
   },
   {
    "duration": 31,
    "start_time": "2021-08-10T09:17:35.297Z"
   },
   {
    "duration": 60,
    "start_time": "2021-08-10T09:17:35.330Z"
   },
   {
    "duration": 23,
    "start_time": "2021-08-10T09:17:35.393Z"
   },
   {
    "duration": 25,
    "start_time": "2021-08-10T09:17:35.419Z"
   },
   {
    "duration": 9,
    "start_time": "2021-08-10T09:17:35.446Z"
   },
   {
    "duration": 84,
    "start_time": "2021-08-10T09:17:35.458Z"
   },
   {
    "duration": 16,
    "start_time": "2021-08-10T09:17:35.548Z"
   },
   {
    "duration": 28,
    "start_time": "2021-08-10T09:17:35.567Z"
   },
   {
    "duration": 403,
    "start_time": "2021-08-10T09:17:35.597Z"
   },
   {
    "duration": 29,
    "start_time": "2021-08-10T09:17:36.003Z"
   },
   {
    "duration": 57,
    "start_time": "2021-08-10T09:17:36.035Z"
   },
   {
    "duration": 143,
    "start_time": "2021-08-10T09:17:36.094Z"
   },
   {
    "duration": 90,
    "start_time": "2021-08-10T09:17:36.240Z"
   },
   {
    "duration": 5,
    "start_time": "2021-08-10T09:17:36.332Z"
   },
   {
    "duration": 49,
    "start_time": "2021-08-10T09:17:36.339Z"
   },
   {
    "duration": 7341,
    "start_time": "2021-08-10T09:17:36.391Z"
   },
   {
    "duration": 60,
    "start_time": "2021-08-10T09:17:43.675Z"
   },
   {
    "duration": 58,
    "start_time": "2021-08-10T09:17:43.678Z"
   },
   {
    "duration": 56,
    "start_time": "2021-08-10T09:17:43.682Z"
   },
   {
    "duration": 53,
    "start_time": "2021-08-10T09:17:43.686Z"
   },
   {
    "duration": 51,
    "start_time": "2021-08-10T09:17:43.690Z"
   },
   {
    "duration": 49,
    "start_time": "2021-08-10T09:17:43.693Z"
   },
   {
    "duration": 47,
    "start_time": "2021-08-10T09:17:43.697Z"
   },
   {
    "duration": 44,
    "start_time": "2021-08-10T09:17:43.701Z"
   },
   {
    "duration": 40,
    "start_time": "2021-08-10T09:17:43.707Z"
   },
   {
    "duration": 21,
    "start_time": "2021-08-10T09:17:43.727Z"
   },
   {
    "duration": 18,
    "start_time": "2021-08-10T09:17:43.731Z"
   },
   {
    "duration": 17,
    "start_time": "2021-08-10T09:17:43.734Z"
   },
   {
    "duration": 15,
    "start_time": "2021-08-10T09:17:43.738Z"
   },
   {
    "duration": 13,
    "start_time": "2021-08-10T09:17:43.741Z"
   },
   {
    "duration": -1,
    "start_time": "2021-08-10T09:17:43.757Z"
   },
   {
    "duration": -2,
    "start_time": "2021-08-10T09:17:43.760Z"
   },
   {
    "duration": -9,
    "start_time": "2021-08-10T09:17:43.768Z"
   },
   {
    "duration": -11,
    "start_time": "2021-08-10T09:17:43.772Z"
   },
   {
    "duration": -16,
    "start_time": "2021-08-10T09:17:43.779Z"
   },
   {
    "duration": -18,
    "start_time": "2021-08-10T09:17:43.782Z"
   },
   {
    "duration": -19,
    "start_time": "2021-08-10T09:17:43.785Z"
   },
   {
    "duration": -25,
    "start_time": "2021-08-10T09:17:43.792Z"
   },
   {
    "duration": -28,
    "start_time": "2021-08-10T09:17:43.796Z"
   },
   {
    "duration": -28,
    "start_time": "2021-08-10T09:17:43.798Z"
   },
   {
    "duration": -15,
    "start_time": "2021-08-10T09:17:43.801Z"
   },
   {
    "duration": -22,
    "start_time": "2021-08-10T09:17:43.811Z"
   },
   {
    "duration": -23,
    "start_time": "2021-08-10T09:17:43.814Z"
   },
   {
    "duration": -23,
    "start_time": "2021-08-10T09:17:43.816Z"
   },
   {
    "duration": -25,
    "start_time": "2021-08-10T09:17:43.821Z"
   },
   {
    "duration": -27,
    "start_time": "2021-08-10T09:17:43.825Z"
   },
   {
    "duration": -28,
    "start_time": "2021-08-10T09:17:43.828Z"
   },
   {
    "duration": -29,
    "start_time": "2021-08-10T09:17:43.831Z"
   },
   {
    "duration": -29,
    "start_time": "2021-08-10T09:17:43.833Z"
   },
   {
    "duration": 435,
    "start_time": "2021-08-10T09:18:53.343Z"
   },
   {
    "duration": 374,
    "start_time": "2021-08-10T09:20:04.383Z"
   },
   {
    "duration": 53,
    "start_time": "2021-08-10T09:20:11.051Z"
   },
   {
    "duration": 296,
    "start_time": "2021-08-10T09:20:31.577Z"
   },
   {
    "duration": 7915,
    "start_time": "2021-08-10T09:21:53.188Z"
   },
   {
    "duration": 1426,
    "start_time": "2021-08-10T09:22:17.833Z"
   },
   {
    "duration": 214,
    "start_time": "2021-08-10T09:22:19.262Z"
   },
   {
    "duration": 32,
    "start_time": "2021-08-10T09:22:19.479Z"
   },
   {
    "duration": 26,
    "start_time": "2021-08-10T09:22:19.514Z"
   },
   {
    "duration": 71,
    "start_time": "2021-08-10T09:22:19.543Z"
   },
   {
    "duration": 38,
    "start_time": "2021-08-10T09:22:19.616Z"
   },
   {
    "duration": 8,
    "start_time": "2021-08-10T09:22:19.656Z"
   },
   {
    "duration": 22,
    "start_time": "2021-08-10T09:22:19.668Z"
   },
   {
    "duration": 6,
    "start_time": "2021-08-10T09:22:19.694Z"
   },
   {
    "duration": 16,
    "start_time": "2021-08-10T09:22:19.702Z"
   },
   {
    "duration": 149,
    "start_time": "2021-08-10T09:22:19.721Z"
   },
   {
    "duration": 26,
    "start_time": "2021-08-10T09:22:19.872Z"
   },
   {
    "duration": 20,
    "start_time": "2021-08-10T09:22:19.900Z"
   },
   {
    "duration": 34,
    "start_time": "2021-08-10T09:22:19.923Z"
   },
   {
    "duration": 214,
    "start_time": "2021-08-10T09:22:19.987Z"
   },
   {
    "duration": 22,
    "start_time": "2021-08-10T09:22:20.204Z"
   },
   {
    "duration": 22,
    "start_time": "2021-08-10T09:22:20.228Z"
   },
   {
    "duration": 70,
    "start_time": "2021-08-10T09:22:20.252Z"
   },
   {
    "duration": 24,
    "start_time": "2021-08-10T09:22:20.325Z"
   },
   {
    "duration": 40,
    "start_time": "2021-08-10T09:22:20.352Z"
   },
   {
    "duration": 11,
    "start_time": "2021-08-10T09:22:20.395Z"
   },
   {
    "duration": 94,
    "start_time": "2021-08-10T09:22:20.409Z"
   },
   {
    "duration": 17,
    "start_time": "2021-08-10T09:22:20.509Z"
   },
   {
    "duration": 10,
    "start_time": "2021-08-10T09:22:20.530Z"
   },
   {
    "duration": 7374,
    "start_time": "2021-08-10T09:22:20.543Z"
   },
   {
    "duration": -9,
    "start_time": "2021-08-10T09:22:27.929Z"
   },
   {
    "duration": -13,
    "start_time": "2021-08-10T09:22:27.934Z"
   },
   {
    "duration": -16,
    "start_time": "2021-08-10T09:22:27.939Z"
   },
   {
    "duration": -19,
    "start_time": "2021-08-10T09:22:27.944Z"
   },
   {
    "duration": -22,
    "start_time": "2021-08-10T09:22:27.949Z"
   },
   {
    "duration": -26,
    "start_time": "2021-08-10T09:22:27.954Z"
   },
   {
    "duration": -29,
    "start_time": "2021-08-10T09:22:27.959Z"
   },
   {
    "duration": -34,
    "start_time": "2021-08-10T09:22:27.965Z"
   },
   {
    "duration": -36,
    "start_time": "2021-08-10T09:22:27.969Z"
   },
   {
    "duration": -41,
    "start_time": "2021-08-10T09:22:27.975Z"
   },
   {
    "duration": -44,
    "start_time": "2021-08-10T09:22:27.980Z"
   },
   {
    "duration": -46,
    "start_time": "2021-08-10T09:22:27.983Z"
   },
   {
    "duration": -47,
    "start_time": "2021-08-10T09:22:27.986Z"
   },
   {
    "duration": -50,
    "start_time": "2021-08-10T09:22:27.990Z"
   },
   {
    "duration": -52,
    "start_time": "2021-08-10T09:22:27.994Z"
   },
   {
    "duration": -55,
    "start_time": "2021-08-10T09:22:27.998Z"
   },
   {
    "duration": -58,
    "start_time": "2021-08-10T09:22:28.002Z"
   },
   {
    "duration": -60,
    "start_time": "2021-08-10T09:22:28.005Z"
   },
   {
    "duration": -62,
    "start_time": "2021-08-10T09:22:28.009Z"
   },
   {
    "duration": -61,
    "start_time": "2021-08-10T09:22:28.012Z"
   },
   {
    "duration": -63,
    "start_time": "2021-08-10T09:22:28.016Z"
   },
   {
    "duration": -65,
    "start_time": "2021-08-10T09:22:28.019Z"
   },
   {
    "duration": -66,
    "start_time": "2021-08-10T09:22:28.022Z"
   },
   {
    "duration": -48,
    "start_time": "2021-08-10T09:22:28.033Z"
   },
   {
    "duration": -49,
    "start_time": "2021-08-10T09:22:28.037Z"
   },
   {
    "duration": -49,
    "start_time": "2021-08-10T09:22:28.039Z"
   },
   {
    "duration": -50,
    "start_time": "2021-08-10T09:22:28.042Z"
   },
   {
    "duration": -51,
    "start_time": "2021-08-10T09:22:28.045Z"
   },
   {
    "duration": -53,
    "start_time": "2021-08-10T09:22:28.050Z"
   },
   {
    "duration": -52,
    "start_time": "2021-08-10T09:22:28.052Z"
   },
   {
    "duration": -53,
    "start_time": "2021-08-10T09:22:28.055Z"
   },
   {
    "duration": -54,
    "start_time": "2021-08-10T09:22:28.058Z"
   },
   {
    "duration": -54,
    "start_time": "2021-08-10T09:22:28.061Z"
   },
   {
    "duration": -55,
    "start_time": "2021-08-10T09:22:28.064Z"
   },
   {
    "duration": -56,
    "start_time": "2021-08-10T09:22:28.067Z"
   },
   {
    "duration": -57,
    "start_time": "2021-08-10T09:22:28.070Z"
   },
   {
    "duration": -58,
    "start_time": "2021-08-10T09:22:28.073Z"
   },
   {
    "duration": -57,
    "start_time": "2021-08-10T09:22:28.075Z"
   },
   {
    "duration": -58,
    "start_time": "2021-08-10T09:22:28.078Z"
   },
   {
    "duration": -59,
    "start_time": "2021-08-10T09:22:28.081Z"
   },
   {
    "duration": -59,
    "start_time": "2021-08-10T09:22:28.084Z"
   },
   {
    "duration": 421,
    "start_time": "2021-08-10T09:23:11.923Z"
   },
   {
    "duration": 424,
    "start_time": "2021-08-10T09:23:39.172Z"
   },
   {
    "duration": 6,
    "start_time": "2021-08-10T09:24:06.527Z"
   },
   {
    "duration": 1405,
    "start_time": "2021-08-10T09:24:13.318Z"
   },
   {
    "duration": 213,
    "start_time": "2021-08-10T09:24:14.726Z"
   },
   {
    "duration": 25,
    "start_time": "2021-08-10T09:24:14.942Z"
   },
   {
    "duration": 30,
    "start_time": "2021-08-10T09:24:14.987Z"
   },
   {
    "duration": 43,
    "start_time": "2021-08-10T09:24:15.020Z"
   },
   {
    "duration": 38,
    "start_time": "2021-08-10T09:24:15.086Z"
   },
   {
    "duration": 7,
    "start_time": "2021-08-10T09:24:15.126Z"
   },
   {
    "duration": 12,
    "start_time": "2021-08-10T09:24:15.137Z"
   },
   {
    "duration": 11,
    "start_time": "2021-08-10T09:24:15.152Z"
   },
   {
    "duration": 35,
    "start_time": "2021-08-10T09:24:15.165Z"
   },
   {
    "duration": 124,
    "start_time": "2021-08-10T09:24:15.203Z"
   },
   {
    "duration": 18,
    "start_time": "2021-08-10T09:24:15.330Z"
   },
   {
    "duration": 45,
    "start_time": "2021-08-10T09:24:15.351Z"
   },
   {
    "duration": 37,
    "start_time": "2021-08-10T09:24:15.399Z"
   },
   {
    "duration": 207,
    "start_time": "2021-08-10T09:24:15.438Z"
   },
   {
    "duration": 20,
    "start_time": "2021-08-10T09:24:15.647Z"
   },
   {
    "duration": 45,
    "start_time": "2021-08-10T09:24:15.669Z"
   },
   {
    "duration": 39,
    "start_time": "2021-08-10T09:24:15.716Z"
   },
   {
    "duration": 23,
    "start_time": "2021-08-10T09:24:15.758Z"
   },
   {
    "duration": 25,
    "start_time": "2021-08-10T09:24:15.791Z"
   },
   {
    "duration": 11,
    "start_time": "2021-08-10T09:24:15.819Z"
   },
   {
    "duration": 98,
    "start_time": "2021-08-10T09:24:15.833Z"
   },
   {
    "duration": 17,
    "start_time": "2021-08-10T09:24:15.938Z"
   },
   {
    "duration": 12,
    "start_time": "2021-08-10T09:24:15.959Z"
   },
   {
    "duration": 440,
    "start_time": "2021-08-10T09:24:15.991Z"
   },
   {
    "duration": 27,
    "start_time": "2021-08-10T09:24:16.434Z"
   },
   {
    "duration": 47,
    "start_time": "2021-08-10T09:24:16.463Z"
   },
   {
    "duration": 144,
    "start_time": "2021-08-10T09:24:16.513Z"
   },
   {
    "duration": 663,
    "start_time": "2021-08-10T09:24:16.660Z"
   },
   {
    "duration": 5,
    "start_time": "2021-08-10T09:24:17.326Z"
   },
   {
    "duration": 59,
    "start_time": "2021-08-10T09:24:17.333Z"
   },
   {
    "duration": 36,
    "start_time": "2021-08-10T09:24:17.394Z"
   },
   {
    "duration": 6,
    "start_time": "2021-08-10T09:24:17.432Z"
   },
   {
    "duration": 8,
    "start_time": "2021-08-10T09:24:17.440Z"
   },
   {
    "duration": 38,
    "start_time": "2021-08-10T09:24:17.450Z"
   },
   {
    "duration": 10,
    "start_time": "2021-08-10T09:24:17.491Z"
   },
   {
    "duration": 36,
    "start_time": "2021-08-10T09:24:17.504Z"
   },
   {
    "duration": 4694,
    "start_time": "2021-08-10T09:24:17.542Z"
   },
   {
    "duration": 4514,
    "start_time": "2021-08-10T09:24:22.239Z"
   },
   {
    "duration": 4586,
    "start_time": "2021-08-10T09:24:26.755Z"
   },
   {
    "duration": 4497,
    "start_time": "2021-08-10T09:24:31.343Z"
   },
   {
    "duration": 4805,
    "start_time": "2021-08-10T09:24:35.842Z"
   },
   {
    "duration": 4888,
    "start_time": "2021-08-10T09:24:40.649Z"
   },
   {
    "duration": 6272,
    "start_time": "2021-08-10T09:24:45.539Z"
   },
   {
    "duration": 6888,
    "start_time": "2021-08-10T09:24:51.814Z"
   },
   {
    "duration": 7550,
    "start_time": "2021-08-10T09:24:58.704Z"
   },
   {
    "duration": 14260,
    "start_time": "2021-08-10T09:25:06.257Z"
   },
   {
    "duration": 97,
    "start_time": "2021-08-10T09:25:20.520Z"
   },
   {
    "duration": 126,
    "start_time": "2021-08-10T09:25:20.619Z"
   },
   {
    "duration": 91,
    "start_time": "2021-08-10T09:25:20.747Z"
   },
   {
    "duration": 79,
    "start_time": "2021-08-10T09:25:20.840Z"
   },
   {
    "duration": 716,
    "start_time": "2021-08-10T09:25:20.921Z"
   },
   {
    "duration": 621,
    "start_time": "2021-08-10T09:25:21.639Z"
   },
   {
    "duration": 715,
    "start_time": "2021-08-10T09:25:22.263Z"
   },
   {
    "duration": 10,
    "start_time": "2021-08-10T09:25:22.980Z"
   },
   {
    "duration": 8,
    "start_time": "2021-08-10T09:25:22.994Z"
   },
   {
    "duration": 23,
    "start_time": "2021-08-10T09:25:23.004Z"
   },
   {
    "duration": 14,
    "start_time": "2021-08-10T09:25:23.029Z"
   },
   {
    "duration": 94,
    "start_time": "2021-08-10T09:25:23.045Z"
   },
   {
    "duration": 4586,
    "start_time": "2021-08-10T09:25:23.142Z"
   },
   {
    "duration": 105,
    "start_time": "2021-08-10T09:25:27.732Z"
   },
   {
    "duration": 129,
    "start_time": "2021-08-10T09:25:27.840Z"
   },
   {
    "duration": 14,
    "start_time": "2021-08-10T09:25:27.972Z"
   },
   {
    "duration": 10,
    "start_time": "2021-08-10T09:25:27.991Z"
   },
   {
    "duration": 10,
    "start_time": "2021-08-10T09:25:28.003Z"
   },
   {
    "duration": 78,
    "start_time": "2021-08-10T09:25:38.624Z"
   },
   {
    "duration": 8,
    "start_time": "2021-08-10T09:25:52.377Z"
   },
   {
    "duration": 390,
    "start_time": "2021-08-10T09:26:02.624Z"
   },
   {
    "duration": 8,
    "start_time": "2021-08-10T09:26:05.285Z"
   },
   {
    "duration": 6943,
    "start_time": "2021-08-10T09:27:07.374Z"
   },
   {
    "duration": 1487,
    "start_time": "2021-08-10T09:27:27.354Z"
   },
   {
    "duration": 229,
    "start_time": "2021-08-10T09:27:28.844Z"
   },
   {
    "duration": 31,
    "start_time": "2021-08-10T09:27:29.076Z"
   },
   {
    "duration": 36,
    "start_time": "2021-08-10T09:27:29.109Z"
   },
   {
    "duration": 56,
    "start_time": "2021-08-10T09:27:29.148Z"
   },
   {
    "duration": 39,
    "start_time": "2021-08-10T09:27:29.206Z"
   },
   {
    "duration": 26,
    "start_time": "2021-08-10T09:27:29.247Z"
   },
   {
    "duration": 26,
    "start_time": "2021-08-10T09:27:29.276Z"
   },
   {
    "duration": 15,
    "start_time": "2021-08-10T09:27:29.305Z"
   },
   {
    "duration": 29,
    "start_time": "2021-08-10T09:27:29.322Z"
   },
   {
    "duration": 139,
    "start_time": "2021-08-10T09:27:29.353Z"
   },
   {
    "duration": 18,
    "start_time": "2021-08-10T09:27:29.494Z"
   },
   {
    "duration": 26,
    "start_time": "2021-08-10T09:27:29.514Z"
   },
   {
    "duration": 61,
    "start_time": "2021-08-10T09:27:29.542Z"
   },
   {
    "duration": 177,
    "start_time": "2021-08-10T09:27:29.606Z"
   },
   {
    "duration": 26,
    "start_time": "2021-08-10T09:27:29.785Z"
   },
   {
    "duration": 34,
    "start_time": "2021-08-10T09:27:29.813Z"
   },
   {
    "duration": 65,
    "start_time": "2021-08-10T09:27:29.849Z"
   },
   {
    "duration": 23,
    "start_time": "2021-08-10T09:27:29.916Z"
   },
   {
    "duration": 33,
    "start_time": "2021-08-10T09:27:29.941Z"
   },
   {
    "duration": 10,
    "start_time": "2021-08-10T09:27:29.977Z"
   },
   {
    "duration": 91,
    "start_time": "2021-08-10T09:27:29.990Z"
   },
   {
    "duration": 18,
    "start_time": "2021-08-10T09:27:30.093Z"
   },
   {
    "duration": 18,
    "start_time": "2021-08-10T09:27:30.114Z"
   },
   {
    "duration": 465,
    "start_time": "2021-08-10T09:27:30.135Z"
   },
   {
    "duration": 33,
    "start_time": "2021-08-10T09:27:30.603Z"
   },
   {
    "duration": 63,
    "start_time": "2021-08-10T09:27:30.639Z"
   },
   {
    "duration": 148,
    "start_time": "2021-08-10T09:27:30.704Z"
   },
   {
    "duration": 450,
    "start_time": "2021-08-10T09:27:30.854Z"
   },
   {
    "duration": 7450,
    "start_time": "2021-08-10T09:27:31.307Z"
   },
   {
    "duration": -46,
    "start_time": "2021-08-10T09:27:38.805Z"
   },
   {
    "duration": -47,
    "start_time": "2021-08-10T09:27:38.808Z"
   },
   {
    "duration": -51,
    "start_time": "2021-08-10T09:27:38.814Z"
   },
   {
    "duration": -53,
    "start_time": "2021-08-10T09:27:38.817Z"
   },
   {
    "duration": -55,
    "start_time": "2021-08-10T09:27:38.821Z"
   },
   {
    "duration": -57,
    "start_time": "2021-08-10T09:27:38.824Z"
   },
   {
    "duration": -60,
    "start_time": "2021-08-10T09:27:38.829Z"
   },
   {
    "duration": -62,
    "start_time": "2021-08-10T09:27:38.832Z"
   },
   {
    "duration": -65,
    "start_time": "2021-08-10T09:27:38.836Z"
   },
   {
    "duration": -67,
    "start_time": "2021-08-10T09:27:38.840Z"
   },
   {
    "duration": -69,
    "start_time": "2021-08-10T09:27:38.843Z"
   },
   {
    "duration": -73,
    "start_time": "2021-08-10T09:27:38.848Z"
   },
   {
    "duration": -75,
    "start_time": "2021-08-10T09:27:38.852Z"
   },
   {
    "duration": -77,
    "start_time": "2021-08-10T09:27:38.855Z"
   },
   {
    "duration": -91,
    "start_time": "2021-08-10T09:27:38.870Z"
   },
   {
    "duration": -92,
    "start_time": "2021-08-10T09:27:38.873Z"
   },
   {
    "duration": -94,
    "start_time": "2021-08-10T09:27:38.877Z"
   },
   {
    "duration": -97,
    "start_time": "2021-08-10T09:27:38.881Z"
   },
   {
    "duration": -94,
    "start_time": "2021-08-10T09:27:38.884Z"
   },
   {
    "duration": -96,
    "start_time": "2021-08-10T09:27:38.888Z"
   },
   {
    "duration": -98,
    "start_time": "2021-08-10T09:27:38.891Z"
   },
   {
    "duration": -99,
    "start_time": "2021-08-10T09:27:38.894Z"
   },
   {
    "duration": -101,
    "start_time": "2021-08-10T09:27:38.897Z"
   },
   {
    "duration": -102,
    "start_time": "2021-08-10T09:27:38.900Z"
   },
   {
    "duration": -104,
    "start_time": "2021-08-10T09:27:38.903Z"
   },
   {
    "duration": -106,
    "start_time": "2021-08-10T09:27:38.906Z"
   },
   {
    "duration": -107,
    "start_time": "2021-08-10T09:27:38.909Z"
   },
   {
    "duration": -109,
    "start_time": "2021-08-10T09:27:38.912Z"
   },
   {
    "duration": -111,
    "start_time": "2021-08-10T09:27:38.915Z"
   },
   {
    "duration": -112,
    "start_time": "2021-08-10T09:27:38.918Z"
   },
   {
    "duration": -115,
    "start_time": "2021-08-10T09:27:38.922Z"
   },
   {
    "duration": -117,
    "start_time": "2021-08-10T09:27:38.925Z"
   },
   {
    "duration": -119,
    "start_time": "2021-08-10T09:27:38.928Z"
   },
   {
    "duration": -119,
    "start_time": "2021-08-10T09:27:38.930Z"
   },
   {
    "duration": -120,
    "start_time": "2021-08-10T09:27:38.933Z"
   },
   {
    "duration": 6,
    "start_time": "2021-08-10T09:28:03.167Z"
   },
   {
    "duration": 606,
    "start_time": "2021-08-10T09:28:22.072Z"
   },
   {
    "duration": 6,
    "start_time": "2021-08-10T09:28:24.643Z"
   },
   {
    "duration": 6,
    "start_time": "2021-08-10T09:28:33.097Z"
   },
   {
    "duration": 691,
    "start_time": "2021-08-10T09:29:00.012Z"
   },
   {
    "duration": 6,
    "start_time": "2021-08-10T09:29:02.940Z"
   },
   {
    "duration": 621,
    "start_time": "2021-08-10T09:29:08.321Z"
   },
   {
    "duration": 7,
    "start_time": "2021-08-10T09:29:10.240Z"
   },
   {
    "duration": 610,
    "start_time": "2021-08-10T09:30:05.166Z"
   },
   {
    "duration": 7,
    "start_time": "2021-08-10T09:30:07.177Z"
   },
   {
    "duration": 666,
    "start_time": "2021-08-10T09:30:16.278Z"
   },
   {
    "duration": 6,
    "start_time": "2021-08-10T09:30:18.640Z"
   },
   {
    "duration": 629,
    "start_time": "2021-08-10T09:30:24.318Z"
   },
   {
    "duration": 6,
    "start_time": "2021-08-10T09:30:26.538Z"
   },
   {
    "duration": 706,
    "start_time": "2021-08-10T09:30:33.767Z"
   },
   {
    "duration": 7,
    "start_time": "2021-08-10T09:30:36.145Z"
   },
   {
    "duration": 1527,
    "start_time": "2021-08-10T09:32:27.436Z"
   },
   {
    "duration": 225,
    "start_time": "2021-08-10T09:32:28.966Z"
   },
   {
    "duration": 27,
    "start_time": "2021-08-10T09:32:29.195Z"
   },
   {
    "duration": 25,
    "start_time": "2021-08-10T09:32:29.224Z"
   },
   {
    "duration": 74,
    "start_time": "2021-08-10T09:32:29.252Z"
   },
   {
    "duration": 39,
    "start_time": "2021-08-10T09:32:29.330Z"
   },
   {
    "duration": 16,
    "start_time": "2021-08-10T09:32:29.374Z"
   },
   {
    "duration": 11,
    "start_time": "2021-08-10T09:32:29.394Z"
   },
   {
    "duration": 10,
    "start_time": "2021-08-10T09:32:29.408Z"
   },
   {
    "duration": 19,
    "start_time": "2021-08-10T09:32:29.422Z"
   },
   {
    "duration": 174,
    "start_time": "2021-08-10T09:32:29.444Z"
   },
   {
    "duration": 18,
    "start_time": "2021-08-10T09:32:29.620Z"
   },
   {
    "duration": 50,
    "start_time": "2021-08-10T09:32:29.641Z"
   },
   {
    "duration": 54,
    "start_time": "2021-08-10T09:32:29.694Z"
   },
   {
    "duration": 203,
    "start_time": "2021-08-10T09:32:29.751Z"
   },
   {
    "duration": 31,
    "start_time": "2021-08-10T09:32:29.957Z"
   },
   {
    "duration": 32,
    "start_time": "2021-08-10T09:32:29.995Z"
   },
   {
    "duration": 72,
    "start_time": "2021-08-10T09:32:30.030Z"
   },
   {
    "duration": 24,
    "start_time": "2021-08-10T09:32:30.105Z"
   },
   {
    "duration": 28,
    "start_time": "2021-08-10T09:32:30.132Z"
   },
   {
    "duration": 11,
    "start_time": "2021-08-10T09:32:30.163Z"
   },
   {
    "duration": 100,
    "start_time": "2021-08-10T09:32:30.194Z"
   },
   {
    "duration": 16,
    "start_time": "2021-08-10T09:32:30.298Z"
   },
   {
    "duration": 18,
    "start_time": "2021-08-10T09:32:30.316Z"
   },
   {
    "duration": 564,
    "start_time": "2021-08-10T09:32:30.337Z"
   },
   {
    "duration": 31,
    "start_time": "2021-08-10T09:32:30.903Z"
   },
   {
    "duration": 74,
    "start_time": "2021-08-10T09:32:30.936Z"
   },
   {
    "duration": 132,
    "start_time": "2021-08-10T09:32:31.013Z"
   },
   {
    "duration": 823,
    "start_time": "2021-08-10T09:32:31.147Z"
   },
   {
    "duration": 24,
    "start_time": "2021-08-10T09:32:31.973Z"
   },
   {
    "duration": 39,
    "start_time": "2021-08-10T09:32:32.001Z"
   },
   {
    "duration": 64,
    "start_time": "2021-08-10T09:32:32.043Z"
   },
   {
    "duration": 8,
    "start_time": "2021-08-10T09:32:32.110Z"
   },
   {
    "duration": 7,
    "start_time": "2021-08-10T09:32:32.121Z"
   },
   {
    "duration": 9,
    "start_time": "2021-08-10T09:32:32.131Z"
   },
   {
    "duration": 47,
    "start_time": "2021-08-10T09:32:32.143Z"
   },
   {
    "duration": 49,
    "start_time": "2021-08-10T09:32:32.197Z"
   },
   {
    "duration": 5067,
    "start_time": "2021-08-10T09:32:32.248Z"
   },
   {
    "duration": 4581,
    "start_time": "2021-08-10T09:32:37.317Z"
   },
   {
    "duration": 4571,
    "start_time": "2021-08-10T09:32:41.900Z"
   },
   {
    "duration": 4563,
    "start_time": "2021-08-10T09:32:46.474Z"
   },
   {
    "duration": 4520,
    "start_time": "2021-08-10T09:32:51.039Z"
   },
   {
    "duration": 4900,
    "start_time": "2021-08-10T09:32:55.561Z"
   },
   {
    "duration": 6222,
    "start_time": "2021-08-10T09:33:00.464Z"
   },
   {
    "duration": 6893,
    "start_time": "2021-08-10T09:33:06.689Z"
   },
   {
    "duration": 7618,
    "start_time": "2021-08-10T09:33:13.588Z"
   },
   {
    "duration": 14306,
    "start_time": "2021-08-10T09:33:21.208Z"
   },
   {
    "duration": 93,
    "start_time": "2021-08-10T09:33:35.517Z"
   },
   {
    "duration": 122,
    "start_time": "2021-08-10T09:33:35.612Z"
   },
   {
    "duration": 96,
    "start_time": "2021-08-10T09:33:35.736Z"
   },
   {
    "duration": 80,
    "start_time": "2021-08-10T09:33:35.834Z"
   },
   {
    "duration": 702,
    "start_time": "2021-08-10T09:33:35.917Z"
   },
   {
    "duration": 716,
    "start_time": "2021-08-10T09:33:36.622Z"
   },
   {
    "duration": 746,
    "start_time": "2021-08-10T09:33:37.340Z"
   },
   {
    "duration": 13,
    "start_time": "2021-08-10T09:33:38.089Z"
   },
   {
    "duration": 6,
    "start_time": "2021-08-10T09:33:38.105Z"
   },
   {
    "duration": 7,
    "start_time": "2021-08-10T09:33:38.113Z"
   },
   {
    "duration": 8,
    "start_time": "2021-08-10T09:33:38.122Z"
   },
   {
    "duration": 171,
    "start_time": "2021-08-10T09:33:38.132Z"
   },
   {
    "duration": 5132,
    "start_time": "2021-08-10T09:33:38.306Z"
   },
   {
    "duration": 87,
    "start_time": "2021-08-10T09:33:43.440Z"
   },
   {
    "duration": 120,
    "start_time": "2021-08-10T09:33:43.530Z"
   },
   {
    "duration": 6,
    "start_time": "2021-08-10T09:33:43.652Z"
   },
   {
    "duration": 21,
    "start_time": "2021-08-10T09:33:43.661Z"
   },
   {
    "duration": 12,
    "start_time": "2021-08-10T09:33:43.685Z"
   },
   {
    "duration": 103,
    "start_time": "2021-08-10T09:41:02.224Z"
   },
   {
    "duration": 423,
    "start_time": "2021-08-10T09:41:48.544Z"
   },
   {
    "duration": 9,
    "start_time": "2021-08-10T09:42:02.668Z"
   },
   {
    "duration": 899,
    "start_time": "2021-08-10T09:42:42.982Z"
   },
   {
    "duration": 741,
    "start_time": "2021-08-10T09:42:54.804Z"
   },
   {
    "duration": 1024,
    "start_time": "2021-08-10T09:45:24.389Z"
   },
   {
    "duration": 1120,
    "start_time": "2021-08-10T09:46:49.954Z"
   },
   {
    "duration": 716,
    "start_time": "2021-08-10T09:47:13.092Z"
   },
   {
    "duration": 1009,
    "start_time": "2021-08-10T09:54:25.616Z"
   },
   {
    "duration": 748,
    "start_time": "2021-08-10T09:54:34.016Z"
   },
   {
    "duration": 737,
    "start_time": "2021-08-10T10:05:44.136Z"
   },
   {
    "duration": 240,
    "start_time": "2021-08-10T10:06:21.677Z"
   },
   {
    "duration": 6841,
    "start_time": "2021-08-10T10:06:26.713Z"
   },
   {
    "duration": 7,
    "start_time": "2021-08-10T10:06:39.834Z"
   },
   {
    "duration": 6,
    "start_time": "2021-08-10T10:06:47.274Z"
   },
   {
    "duration": 5,
    "start_time": "2021-08-10T10:06:55.170Z"
   },
   {
    "duration": 7,
    "start_time": "2021-08-10T10:07:04.425Z"
   },
   {
    "duration": 417,
    "start_time": "2021-08-10T10:07:30.004Z"
   },
   {
    "duration": 6,
    "start_time": "2021-08-10T10:07:38.631Z"
   },
   {
    "duration": 742,
    "start_time": "2021-08-10T10:07:52.729Z"
   },
   {
    "duration": 7,
    "start_time": "2021-08-10T10:07:55.499Z"
   },
   {
    "duration": 623,
    "start_time": "2021-08-10T10:08:03.270Z"
   },
   {
    "duration": 7,
    "start_time": "2021-08-10T10:08:05.503Z"
   },
   {
    "duration": 632,
    "start_time": "2021-08-10T10:15:06.479Z"
   },
   {
    "duration": 603,
    "start_time": "2021-08-10T10:18:17.000Z"
   },
   {
    "duration": 1565,
    "start_time": "2021-08-10T10:19:23.887Z"
   },
   {
    "duration": 237,
    "start_time": "2021-08-10T10:19:25.455Z"
   },
   {
    "duration": 26,
    "start_time": "2021-08-10T10:19:25.696Z"
   },
   {
    "duration": 25,
    "start_time": "2021-08-10T10:19:25.725Z"
   },
   {
    "duration": 73,
    "start_time": "2021-08-10T10:19:25.753Z"
   },
   {
    "duration": 41,
    "start_time": "2021-08-10T10:19:25.828Z"
   },
   {
    "duration": 19,
    "start_time": "2021-08-10T10:19:25.872Z"
   },
   {
    "duration": 19,
    "start_time": "2021-08-10T10:19:25.896Z"
   },
   {
    "duration": 17,
    "start_time": "2021-08-10T10:19:25.918Z"
   },
   {
    "duration": 18,
    "start_time": "2021-08-10T10:19:25.938Z"
   },
   {
    "duration": 1385,
    "start_time": "2021-08-10T10:20:52.143Z"
   },
   {
    "duration": 210,
    "start_time": "2021-08-10T10:20:53.531Z"
   },
   {
    "duration": 24,
    "start_time": "2021-08-10T10:20:53.744Z"
   },
   {
    "duration": 43,
    "start_time": "2021-08-10T10:20:53.771Z"
   },
   {
    "duration": 39,
    "start_time": "2021-08-10T10:20:53.816Z"
   },
   {
    "duration": 52,
    "start_time": "2021-08-10T10:20:53.857Z"
   },
   {
    "duration": 7,
    "start_time": "2021-08-10T10:20:53.911Z"
   },
   {
    "duration": 11,
    "start_time": "2021-08-10T10:20:53.922Z"
   },
   {
    "duration": 6,
    "start_time": "2021-08-10T10:20:53.936Z"
   },
   {
    "duration": 53,
    "start_time": "2021-08-10T10:20:53.944Z"
   },
   {
    "duration": 125,
    "start_time": "2021-08-10T10:20:54.000Z"
   },
   {
    "duration": 19,
    "start_time": "2021-08-10T10:20:54.128Z"
   },
   {
    "duration": 41,
    "start_time": "2021-08-10T10:20:54.150Z"
   },
   {
    "duration": 35,
    "start_time": "2021-08-10T10:20:54.194Z"
   },
   {
    "duration": 222,
    "start_time": "2021-08-10T10:20:54.232Z"
   },
   {
    "duration": 23,
    "start_time": "2021-08-10T10:20:54.457Z"
   },
   {
    "duration": 23,
    "start_time": "2021-08-10T10:20:54.490Z"
   },
   {
    "duration": 39,
    "start_time": "2021-08-10T10:20:54.515Z"
   },
   {
    "duration": 36,
    "start_time": "2021-08-10T10:20:54.556Z"
   },
   {
    "duration": 19,
    "start_time": "2021-08-10T10:20:54.595Z"
   },
   {
    "duration": 9,
    "start_time": "2021-08-10T10:20:54.616Z"
   },
   {
    "duration": 100,
    "start_time": "2021-08-10T10:20:54.627Z"
   },
   {
    "duration": 15,
    "start_time": "2021-08-10T10:20:54.733Z"
   },
   {
    "duration": 11,
    "start_time": "2021-08-10T10:20:54.751Z"
   },
   {
    "duration": 463,
    "start_time": "2021-08-10T10:20:54.764Z"
   },
   {
    "duration": 27,
    "start_time": "2021-08-10T10:20:55.229Z"
   },
   {
    "duration": 55,
    "start_time": "2021-08-10T10:20:55.258Z"
   },
   {
    "duration": 140,
    "start_time": "2021-08-10T10:20:55.315Z"
   },
   {
    "duration": 709,
    "start_time": "2021-08-10T10:20:55.458Z"
   },
   {
    "duration": 19,
    "start_time": "2021-08-10T10:20:56.171Z"
   },
   {
    "duration": 36,
    "start_time": "2021-08-10T10:20:56.193Z"
   },
   {
    "duration": 67,
    "start_time": "2021-08-10T10:20:56.232Z"
   },
   {
    "duration": 6,
    "start_time": "2021-08-10T10:20:56.303Z"
   },
   {
    "duration": 13,
    "start_time": "2021-08-10T10:20:56.312Z"
   },
   {
    "duration": 11,
    "start_time": "2021-08-10T10:20:56.327Z"
   },
   {
    "duration": 20,
    "start_time": "2021-08-10T10:20:56.340Z"
   },
   {
    "duration": 61,
    "start_time": "2021-08-10T10:20:56.363Z"
   },
   {
    "duration": 4663,
    "start_time": "2021-08-10T10:20:56.426Z"
   },
   {
    "duration": 4557,
    "start_time": "2021-08-10T10:21:01.092Z"
   },
   {
    "duration": 4584,
    "start_time": "2021-08-10T10:21:05.651Z"
   },
   {
    "duration": 4590,
    "start_time": "2021-08-10T10:21:10.237Z"
   },
   {
    "duration": 4538,
    "start_time": "2021-08-10T10:21:14.829Z"
   },
   {
    "duration": 4539,
    "start_time": "2021-08-10T10:21:19.370Z"
   },
   {
    "duration": 6286,
    "start_time": "2021-08-10T10:21:23.912Z"
   },
   {
    "duration": 7777,
    "start_time": "2021-08-10T10:21:30.200Z"
   },
   {
    "duration": 7855,
    "start_time": "2021-08-10T10:21:37.981Z"
   },
   {
    "duration": 14975,
    "start_time": "2021-08-10T10:21:45.839Z"
   },
   {
    "duration": 108,
    "start_time": "2021-08-10T10:22:00.817Z"
   },
   {
    "duration": 129,
    "start_time": "2021-08-10T10:22:00.928Z"
   },
   {
    "duration": 94,
    "start_time": "2021-08-10T10:22:01.059Z"
   },
   {
    "duration": 81,
    "start_time": "2021-08-10T10:22:01.156Z"
   },
   {
    "duration": 807,
    "start_time": "2021-08-10T10:22:01.239Z"
   },
   {
    "duration": 618,
    "start_time": "2021-08-10T10:22:02.048Z"
   },
   {
    "duration": 717,
    "start_time": "2021-08-10T10:22:02.669Z"
   },
   {
    "duration": 10,
    "start_time": "2021-08-10T10:22:03.389Z"
   },
   {
    "duration": 12,
    "start_time": "2021-08-10T10:22:03.402Z"
   },
   {
    "duration": 13,
    "start_time": "2021-08-10T10:22:03.417Z"
   },
   {
    "duration": 13,
    "start_time": "2021-08-10T10:22:03.432Z"
   },
   {
    "duration": 120,
    "start_time": "2021-08-10T10:22:03.447Z"
   },
   {
    "duration": 4630,
    "start_time": "2021-08-10T10:22:03.570Z"
   },
   {
    "duration": 84,
    "start_time": "2021-08-10T10:22:08.203Z"
   },
   {
    "duration": 125,
    "start_time": "2021-08-10T10:22:08.290Z"
   },
   {
    "duration": 6,
    "start_time": "2021-08-10T10:22:08.417Z"
   },
   {
    "duration": 19,
    "start_time": "2021-08-10T10:22:08.425Z"
   },
   {
    "duration": 22,
    "start_time": "2021-08-10T10:22:08.446Z"
   },
   {
    "duration": 328,
    "start_time": "2021-08-10T10:27:17.070Z"
   },
   {
    "duration": 227,
    "start_time": "2021-08-10T10:27:58.456Z"
   },
   {
    "duration": 1419,
    "start_time": "2021-08-10T10:28:04.610Z"
   },
   {
    "duration": 204,
    "start_time": "2021-08-10T10:28:06.032Z"
   },
   {
    "duration": 26,
    "start_time": "2021-08-10T10:28:06.239Z"
   },
   {
    "duration": 27,
    "start_time": "2021-08-10T10:28:06.282Z"
   },
   {
    "duration": 40,
    "start_time": "2021-08-10T10:28:06.312Z"
   },
   {
    "duration": 50,
    "start_time": "2021-08-10T10:28:06.354Z"
   },
   {
    "duration": 11,
    "start_time": "2021-08-10T10:28:06.407Z"
   },
   {
    "duration": 12,
    "start_time": "2021-08-10T10:28:06.424Z"
   },
   {
    "duration": 6,
    "start_time": "2021-08-10T10:28:06.441Z"
   },
   {
    "duration": 21,
    "start_time": "2021-08-10T10:28:06.484Z"
   },
   {
    "duration": 144,
    "start_time": "2021-08-10T10:28:06.507Z"
   },
   {
    "duration": 28,
    "start_time": "2021-08-10T10:28:06.653Z"
   },
   {
    "duration": 17,
    "start_time": "2021-08-10T10:28:06.684Z"
   },
   {
    "duration": 33,
    "start_time": "2021-08-10T10:28:06.704Z"
   },
   {
    "duration": 189,
    "start_time": "2021-08-10T10:28:06.740Z"
   },
   {
    "duration": 20,
    "start_time": "2021-08-10T10:28:06.932Z"
   },
   {
    "duration": 40,
    "start_time": "2021-08-10T10:28:06.955Z"
   },
   {
    "duration": 44,
    "start_time": "2021-08-10T10:28:06.998Z"
   },
   {
    "duration": 39,
    "start_time": "2021-08-10T10:28:07.044Z"
   },
   {
    "duration": 21,
    "start_time": "2021-08-10T10:28:07.086Z"
   },
   {
    "duration": 15,
    "start_time": "2021-08-10T10:28:07.109Z"
   },
   {
    "duration": 83,
    "start_time": "2021-08-10T10:28:07.126Z"
   },
   {
    "duration": 15,
    "start_time": "2021-08-10T10:28:07.215Z"
   },
   {
    "duration": 12,
    "start_time": "2021-08-10T10:28:07.233Z"
   },
   {
    "duration": 426,
    "start_time": "2021-08-10T10:28:07.247Z"
   },
   {
    "duration": 28,
    "start_time": "2021-08-10T10:28:07.682Z"
   },
   {
    "duration": 29,
    "start_time": "2021-08-10T10:28:07.712Z"
   },
   {
    "duration": 165,
    "start_time": "2021-08-10T10:28:07.743Z"
   },
   {
    "duration": 599,
    "start_time": "2021-08-10T10:28:07.910Z"
   },
   {
    "duration": 6,
    "start_time": "2021-08-10T10:28:08.511Z"
   },
   {
    "duration": 40,
    "start_time": "2021-08-10T10:28:08.520Z"
   },
   {
    "duration": 53,
    "start_time": "2021-08-10T10:28:08.563Z"
   },
   {
    "duration": 6,
    "start_time": "2021-08-10T10:28:08.618Z"
   },
   {
    "duration": 10,
    "start_time": "2021-08-10T10:28:08.627Z"
   },
   {
    "duration": 11,
    "start_time": "2021-08-10T10:28:08.639Z"
   },
   {
    "duration": 8,
    "start_time": "2021-08-10T10:28:08.683Z"
   },
   {
    "duration": 48,
    "start_time": "2021-08-10T10:28:08.693Z"
   },
   {
    "duration": 4342,
    "start_time": "2021-08-10T10:28:08.743Z"
   },
   {
    "duration": 4396,
    "start_time": "2021-08-10T10:28:13.088Z"
   },
   {
    "duration": 4372,
    "start_time": "2021-08-10T10:28:17.486Z"
   },
   {
    "duration": 4349,
    "start_time": "2021-08-10T10:28:21.861Z"
   },
   {
    "duration": 4338,
    "start_time": "2021-08-10T10:28:26.213Z"
   },
   {
    "duration": 4585,
    "start_time": "2021-08-10T10:28:30.553Z"
   },
   {
    "duration": 6022,
    "start_time": "2021-08-10T10:28:35.140Z"
   },
   {
    "duration": 6486,
    "start_time": "2021-08-10T10:28:41.165Z"
   },
   {
    "duration": 7440,
    "start_time": "2021-08-10T10:28:47.653Z"
   },
   {
    "duration": 13676,
    "start_time": "2021-08-10T10:28:55.096Z"
   },
   {
    "duration": 96,
    "start_time": "2021-08-10T10:29:08.775Z"
   },
   {
    "duration": 117,
    "start_time": "2021-08-10T10:29:08.883Z"
   },
   {
    "duration": 98,
    "start_time": "2021-08-10T10:29:09.003Z"
   },
   {
    "duration": 80,
    "start_time": "2021-08-10T10:29:09.104Z"
   },
   {
    "duration": 1434,
    "start_time": "2021-08-10T10:29:30.488Z"
   },
   {
    "duration": 199,
    "start_time": "2021-08-10T10:29:31.925Z"
   },
   {
    "duration": 25,
    "start_time": "2021-08-10T10:29:32.126Z"
   },
   {
    "duration": 43,
    "start_time": "2021-08-10T10:29:32.154Z"
   },
   {
    "duration": 41,
    "start_time": "2021-08-10T10:29:32.200Z"
   },
   {
    "duration": 41,
    "start_time": "2021-08-10T10:29:32.244Z"
   },
   {
    "duration": 7,
    "start_time": "2021-08-10T10:29:32.287Z"
   },
   {
    "duration": 15,
    "start_time": "2021-08-10T10:29:32.296Z"
   },
   {
    "duration": 5,
    "start_time": "2021-08-10T10:29:32.315Z"
   },
   {
    "duration": 15,
    "start_time": "2021-08-10T10:29:32.323Z"
   },
   {
    "duration": 143,
    "start_time": "2021-08-10T10:29:32.340Z"
   },
   {
    "duration": 16,
    "start_time": "2021-08-10T10:29:32.486Z"
   },
   {
    "duration": 18,
    "start_time": "2021-08-10T10:29:32.505Z"
   },
   {
    "duration": 63,
    "start_time": "2021-08-10T10:29:32.526Z"
   },
   {
    "duration": 185,
    "start_time": "2021-08-10T10:29:32.591Z"
   },
   {
    "duration": 22,
    "start_time": "2021-08-10T10:29:32.782Z"
   },
   {
    "duration": 22,
    "start_time": "2021-08-10T10:29:32.806Z"
   },
   {
    "duration": 73,
    "start_time": "2021-08-10T10:29:32.831Z"
   },
   {
    "duration": 24,
    "start_time": "2021-08-10T10:29:32.907Z"
   },
   {
    "duration": 24,
    "start_time": "2021-08-10T10:29:32.934Z"
   },
   {
    "duration": 24,
    "start_time": "2021-08-10T10:29:32.961Z"
   },
   {
    "duration": 75,
    "start_time": "2021-08-10T10:29:32.988Z"
   },
   {
    "duration": 28,
    "start_time": "2021-08-10T10:29:33.065Z"
   },
   {
    "duration": 11,
    "start_time": "2021-08-10T10:29:33.095Z"
   },
   {
    "duration": 423,
    "start_time": "2021-08-10T10:29:33.109Z"
   },
   {
    "duration": 29,
    "start_time": "2021-08-10T10:29:33.534Z"
   },
   {
    "duration": 30,
    "start_time": "2021-08-10T10:29:33.584Z"
   },
   {
    "duration": 134,
    "start_time": "2021-08-10T10:29:33.617Z"
   },
   {
    "duration": 715,
    "start_time": "2021-08-10T10:29:33.753Z"
   },
   {
    "duration": 5,
    "start_time": "2021-08-10T10:29:34.470Z"
   },
   {
    "duration": 49,
    "start_time": "2021-08-10T10:29:34.477Z"
   },
   {
    "duration": 37,
    "start_time": "2021-08-10T10:29:34.529Z"
   },
   {
    "duration": 5,
    "start_time": "2021-08-10T10:29:34.569Z"
   },
   {
    "duration": 9,
    "start_time": "2021-08-10T10:29:34.577Z"
   },
   {
    "duration": 17,
    "start_time": "2021-08-10T10:29:34.588Z"
   },
   {
    "duration": 13,
    "start_time": "2021-08-10T10:29:34.607Z"
   },
   {
    "duration": 47,
    "start_time": "2021-08-10T10:29:34.622Z"
   },
   {
    "duration": 4744,
    "start_time": "2021-08-10T10:29:34.671Z"
   },
   {
    "duration": 4269,
    "start_time": "2021-08-10T10:29:39.418Z"
   },
   {
    "duration": 4358,
    "start_time": "2021-08-10T10:29:43.689Z"
   },
   {
    "duration": 4338,
    "start_time": "2021-08-10T10:29:48.050Z"
   },
   {
    "duration": 4241,
    "start_time": "2021-08-10T10:29:52.391Z"
   },
   {
    "duration": 4300,
    "start_time": "2021-08-10T10:29:56.634Z"
   },
   {
    "duration": 6010,
    "start_time": "2021-08-10T10:30:00.936Z"
   },
   {
    "duration": 6483,
    "start_time": "2021-08-10T10:30:06.948Z"
   },
   {
    "duration": 7148,
    "start_time": "2021-08-10T10:30:13.434Z"
   },
   {
    "duration": 13452,
    "start_time": "2021-08-10T10:30:20.584Z"
   },
   {
    "duration": 107,
    "start_time": "2021-08-10T10:30:34.040Z"
   },
   {
    "duration": 126,
    "start_time": "2021-08-10T10:30:34.150Z"
   },
   {
    "duration": 102,
    "start_time": "2021-08-10T10:30:34.283Z"
   },
   {
    "duration": 69,
    "start_time": "2021-08-10T10:30:34.388Z"
   },
   {
    "duration": 1392,
    "start_time": "2021-08-10T10:32:21.023Z"
   },
   {
    "duration": 199,
    "start_time": "2021-08-10T10:32:22.418Z"
   },
   {
    "duration": 25,
    "start_time": "2021-08-10T10:32:22.620Z"
   },
   {
    "duration": 44,
    "start_time": "2021-08-10T10:32:22.648Z"
   },
   {
    "duration": 38,
    "start_time": "2021-08-10T10:32:22.694Z"
   },
   {
    "duration": 52,
    "start_time": "2021-08-10T10:32:22.734Z"
   },
   {
    "duration": 8,
    "start_time": "2021-08-10T10:32:22.789Z"
   },
   {
    "duration": 8,
    "start_time": "2021-08-10T10:32:22.801Z"
   },
   {
    "duration": 4,
    "start_time": "2021-08-10T10:32:22.812Z"
   },
   {
    "duration": 17,
    "start_time": "2021-08-10T10:32:22.818Z"
   },
   {
    "duration": 148,
    "start_time": "2021-08-10T10:32:22.838Z"
   },
   {
    "duration": 17,
    "start_time": "2021-08-10T10:32:22.989Z"
   },
   {
    "duration": 18,
    "start_time": "2021-08-10T10:32:23.009Z"
   },
   {
    "duration": 67,
    "start_time": "2021-08-10T10:32:23.030Z"
   },
   {
    "duration": 174,
    "start_time": "2021-08-10T10:32:23.099Z"
   },
   {
    "duration": 25,
    "start_time": "2021-08-10T10:32:23.275Z"
   },
   {
    "duration": 21,
    "start_time": "2021-08-10T10:32:23.303Z"
   },
   {
    "duration": 64,
    "start_time": "2021-08-10T10:32:23.327Z"
   },
   {
    "duration": 22,
    "start_time": "2021-08-10T10:32:23.393Z"
   },
   {
    "duration": 22,
    "start_time": "2021-08-10T10:32:23.417Z"
   },
   {
    "duration": 10,
    "start_time": "2021-08-10T10:32:23.441Z"
   },
   {
    "duration": 86,
    "start_time": "2021-08-10T10:32:23.453Z"
   },
   {
    "duration": 17,
    "start_time": "2021-08-10T10:32:23.545Z"
   },
   {
    "duration": 23,
    "start_time": "2021-08-10T10:32:23.565Z"
   },
   {
    "duration": 418,
    "start_time": "2021-08-10T10:32:23.590Z"
   },
   {
    "duration": 29,
    "start_time": "2021-08-10T10:32:24.010Z"
   },
   {
    "duration": 56,
    "start_time": "2021-08-10T10:32:24.041Z"
   },
   {
    "duration": 142,
    "start_time": "2021-08-10T10:32:24.099Z"
   },
   {
    "duration": 622,
    "start_time": "2021-08-10T10:32:24.244Z"
   },
   {
    "duration": 14,
    "start_time": "2021-08-10T10:32:24.868Z"
   },
   {
    "duration": 36,
    "start_time": "2021-08-10T10:32:24.884Z"
   },
   {
    "duration": 62,
    "start_time": "2021-08-10T10:32:24.923Z"
   },
   {
    "duration": 6,
    "start_time": "2021-08-10T10:32:24.988Z"
   },
   {
    "duration": 9,
    "start_time": "2021-08-10T10:32:24.997Z"
   },
   {
    "duration": 15,
    "start_time": "2021-08-10T10:32:25.008Z"
   },
   {
    "duration": 10,
    "start_time": "2021-08-10T10:32:25.026Z"
   },
   {
    "duration": 68,
    "start_time": "2021-08-10T10:32:25.039Z"
   },
   {
    "duration": 4344,
    "start_time": "2021-08-10T10:32:25.109Z"
   },
   {
    "duration": 4263,
    "start_time": "2021-08-10T10:32:29.455Z"
   },
   {
    "duration": 4394,
    "start_time": "2021-08-10T10:32:33.720Z"
   },
   {
    "duration": 4196,
    "start_time": "2021-08-10T10:32:38.117Z"
   },
   {
    "duration": 4182,
    "start_time": "2021-08-10T10:32:42.315Z"
   },
   {
    "duration": 4627,
    "start_time": "2021-08-10T10:32:46.500Z"
   },
   {
    "duration": 6263,
    "start_time": "2021-08-10T10:32:51.130Z"
   },
   {
    "duration": 6451,
    "start_time": "2021-08-10T10:32:57.396Z"
   },
   {
    "duration": 7013,
    "start_time": "2021-08-10T10:33:03.850Z"
   },
   {
    "duration": 13390,
    "start_time": "2021-08-10T10:33:10.865Z"
   },
   {
    "duration": 95,
    "start_time": "2021-08-10T10:33:24.258Z"
   },
   {
    "duration": 142,
    "start_time": "2021-08-10T10:33:24.355Z"
   },
   {
    "duration": 92,
    "start_time": "2021-08-10T10:33:24.499Z"
   },
   {
    "duration": 89,
    "start_time": "2021-08-10T10:33:24.593Z"
   },
   {
    "duration": 709,
    "start_time": "2021-08-10T10:33:24.685Z"
   },
   {
    "duration": 615,
    "start_time": "2021-08-10T10:33:25.397Z"
   },
   {
    "duration": 683,
    "start_time": "2021-08-10T10:33:26.015Z"
   },
   {
    "duration": 8,
    "start_time": "2021-08-10T10:33:26.700Z"
   },
   {
    "duration": 7,
    "start_time": "2021-08-10T10:33:26.710Z"
   },
   {
    "duration": 6,
    "start_time": "2021-08-10T10:33:26.719Z"
   },
   {
    "duration": 8,
    "start_time": "2021-08-10T10:33:26.727Z"
   },
   {
    "duration": 119,
    "start_time": "2021-08-10T10:33:26.738Z"
   },
   {
    "duration": 4424,
    "start_time": "2021-08-10T10:33:26.860Z"
   },
   {
    "duration": 77,
    "start_time": "2021-08-10T10:33:31.286Z"
   },
   {
    "duration": 116,
    "start_time": "2021-08-10T10:33:31.381Z"
   },
   {
    "duration": 6,
    "start_time": "2021-08-10T10:33:31.499Z"
   },
   {
    "duration": 17,
    "start_time": "2021-08-10T10:33:31.507Z"
   },
   {
    "duration": 27,
    "start_time": "2021-08-10T10:33:31.526Z"
   },
   {
    "duration": 862,
    "start_time": "2021-08-10T10:40:45.710Z"
   },
   {
    "duration": 868,
    "start_time": "2021-08-10T10:41:02.391Z"
   },
   {
    "duration": 770,
    "start_time": "2021-08-10T10:42:42.225Z"
   },
   {
    "duration": 804,
    "start_time": "2021-08-10T10:43:03.258Z"
   },
   {
    "duration": 822,
    "start_time": "2021-08-10T10:43:14.512Z"
   },
   {
    "duration": 488,
    "start_time": "2021-08-10T10:45:07.617Z"
   },
   {
    "duration": 560,
    "start_time": "2021-08-10T10:45:27.795Z"
   },
   {
    "duration": 299,
    "start_time": "2021-08-10T10:53:24.474Z"
   },
   {
    "duration": 1408,
    "start_time": "2021-08-10T10:53:33.028Z"
   },
   {
    "duration": 203,
    "start_time": "2021-08-10T10:53:34.438Z"
   },
   {
    "duration": 39,
    "start_time": "2021-08-10T10:53:34.644Z"
   },
   {
    "duration": 95,
    "start_time": "2021-08-10T10:53:34.687Z"
   },
   {
    "duration": 111,
    "start_time": "2021-08-10T10:53:34.785Z"
   },
   {
    "duration": 96,
    "start_time": "2021-08-10T10:53:34.899Z"
   },
   {
    "duration": 9,
    "start_time": "2021-08-10T10:53:34.998Z"
   },
   {
    "duration": 12,
    "start_time": "2021-08-10T10:53:35.013Z"
   },
   {
    "duration": 58,
    "start_time": "2021-08-10T10:53:35.028Z"
   },
   {
    "duration": 21,
    "start_time": "2021-08-10T10:53:35.090Z"
   },
   {
    "duration": 129,
    "start_time": "2021-08-10T10:53:35.114Z"
   },
   {
    "duration": 18,
    "start_time": "2021-08-10T10:53:35.245Z"
   },
   {
    "duration": 25,
    "start_time": "2021-08-10T10:53:35.266Z"
   },
   {
    "duration": 56,
    "start_time": "2021-08-10T10:53:35.294Z"
   },
   {
    "duration": 185,
    "start_time": "2021-08-10T10:53:35.352Z"
   },
   {
    "duration": 19,
    "start_time": "2021-08-10T10:53:35.540Z"
   },
   {
    "duration": 28,
    "start_time": "2021-08-10T10:53:35.561Z"
   },
   {
    "duration": 42,
    "start_time": "2021-08-10T10:53:35.592Z"
   },
   {
    "duration": 24,
    "start_time": "2021-08-10T10:53:35.636Z"
   },
   {
    "duration": 22,
    "start_time": "2021-08-10T10:53:35.662Z"
   },
   {
    "duration": 9,
    "start_time": "2021-08-10T10:53:35.687Z"
   },
   {
    "duration": 78,
    "start_time": "2021-08-10T10:53:35.698Z"
   },
   {
    "duration": 16,
    "start_time": "2021-08-10T10:53:35.782Z"
   },
   {
    "duration": 13,
    "start_time": "2021-08-10T10:53:35.802Z"
   },
   {
    "duration": 463,
    "start_time": "2021-08-10T10:53:35.819Z"
   },
   {
    "duration": 29,
    "start_time": "2021-08-10T10:53:36.284Z"
   },
   {
    "duration": 29,
    "start_time": "2021-08-10T10:53:36.316Z"
   },
   {
    "duration": 157,
    "start_time": "2021-08-10T10:53:36.347Z"
   },
   {
    "duration": 629,
    "start_time": "2021-08-10T10:53:36.506Z"
   },
   {
    "duration": 6,
    "start_time": "2021-08-10T10:53:37.137Z"
   },
   {
    "duration": 41,
    "start_time": "2021-08-10T10:53:37.145Z"
   },
   {
    "duration": 37,
    "start_time": "2021-08-10T10:53:37.188Z"
   },
   {
    "duration": 5,
    "start_time": "2021-08-10T10:53:37.227Z"
   },
   {
    "duration": 18,
    "start_time": "2021-08-10T10:53:37.234Z"
   },
   {
    "duration": 7,
    "start_time": "2021-08-10T10:53:37.254Z"
   },
   {
    "duration": 12,
    "start_time": "2021-08-10T10:53:37.263Z"
   },
   {
    "duration": 44,
    "start_time": "2021-08-10T10:53:37.278Z"
   },
   {
    "duration": 4682,
    "start_time": "2021-08-10T10:53:37.324Z"
   },
   {
    "duration": 5018,
    "start_time": "2021-08-10T10:53:42.008Z"
   },
   {
    "duration": 4425,
    "start_time": "2021-08-10T10:53:47.029Z"
   },
   {
    "duration": 4204,
    "start_time": "2021-08-10T10:53:51.457Z"
   },
   {
    "duration": 4268,
    "start_time": "2021-08-10T10:53:55.663Z"
   },
   {
    "duration": 4326,
    "start_time": "2021-08-10T10:53:59.934Z"
   },
   {
    "duration": 5929,
    "start_time": "2021-08-10T10:54:04.262Z"
   },
   {
    "duration": 6341,
    "start_time": "2021-08-10T10:54:10.194Z"
   },
   {
    "duration": 7313,
    "start_time": "2021-08-10T10:54:16.538Z"
   },
   {
    "duration": 13430,
    "start_time": "2021-08-10T10:54:23.854Z"
   },
   {
    "duration": 105,
    "start_time": "2021-08-10T10:54:37.286Z"
   },
   {
    "duration": 120,
    "start_time": "2021-08-10T10:54:37.393Z"
   },
   {
    "duration": 92,
    "start_time": "2021-08-10T10:54:37.515Z"
   },
   {
    "duration": 79,
    "start_time": "2021-08-10T10:54:37.609Z"
   },
   {
    "duration": 393,
    "start_time": "2021-08-10T10:54:37.690Z"
   },
   {
    "duration": 38,
    "start_time": "2021-08-10T10:54:38.048Z"
   },
   {
    "duration": 35,
    "start_time": "2021-08-10T10:54:38.052Z"
   },
   {
    "duration": 33,
    "start_time": "2021-08-10T10:54:38.056Z"
   },
   {
    "duration": 24,
    "start_time": "2021-08-10T10:54:38.067Z"
   },
   {
    "duration": 22,
    "start_time": "2021-08-10T10:54:38.071Z"
   },
   {
    "duration": 19,
    "start_time": "2021-08-10T10:54:38.075Z"
   },
   {
    "duration": 17,
    "start_time": "2021-08-10T10:54:38.079Z"
   },
   {
    "duration": 15,
    "start_time": "2021-08-10T10:54:38.082Z"
   },
   {
    "duration": 12,
    "start_time": "2021-08-10T10:54:38.086Z"
   },
   {
    "duration": 10,
    "start_time": "2021-08-10T10:54:38.089Z"
   },
   {
    "duration": 8,
    "start_time": "2021-08-10T10:54:38.093Z"
   },
   {
    "duration": 5,
    "start_time": "2021-08-10T10:54:38.097Z"
   },
   {
    "duration": 3,
    "start_time": "2021-08-10T10:54:38.101Z"
   },
   {
    "duration": 1,
    "start_time": "2021-08-10T10:54:38.104Z"
   },
   {
    "duration": 1401,
    "start_time": "2021-08-10T10:54:59.633Z"
   },
   {
    "duration": 199,
    "start_time": "2021-08-10T10:55:01.036Z"
   },
   {
    "duration": 24,
    "start_time": "2021-08-10T10:55:01.238Z"
   },
   {
    "duration": 34,
    "start_time": "2021-08-10T10:55:01.264Z"
   },
   {
    "duration": 37,
    "start_time": "2021-08-10T10:55:01.301Z"
   },
   {
    "duration": 44,
    "start_time": "2021-08-10T10:55:01.341Z"
   },
   {
    "duration": 7,
    "start_time": "2021-08-10T10:55:01.387Z"
   },
   {
    "duration": 20,
    "start_time": "2021-08-10T10:55:01.399Z"
   },
   {
    "duration": 18,
    "start_time": "2021-08-10T10:55:01.423Z"
   },
   {
    "duration": 36,
    "start_time": "2021-08-10T10:55:01.444Z"
   },
   {
    "duration": 138,
    "start_time": "2021-08-10T10:55:01.483Z"
   },
   {
    "duration": 29,
    "start_time": "2021-08-10T10:55:01.625Z"
   },
   {
    "duration": 45,
    "start_time": "2021-08-10T10:55:01.658Z"
   },
   {
    "duration": 38,
    "start_time": "2021-08-10T10:55:01.707Z"
   },
   {
    "duration": 190,
    "start_time": "2021-08-10T10:55:01.747Z"
   },
   {
    "duration": 23,
    "start_time": "2021-08-10T10:55:01.939Z"
   },
   {
    "duration": 49,
    "start_time": "2021-08-10T10:55:01.964Z"
   },
   {
    "duration": 50,
    "start_time": "2021-08-10T10:55:02.015Z"
   },
   {
    "duration": 22,
    "start_time": "2021-08-10T10:55:02.068Z"
   },
   {
    "duration": 34,
    "start_time": "2021-08-10T10:55:02.092Z"
   },
   {
    "duration": 13,
    "start_time": "2021-08-10T10:55:02.128Z"
   },
   {
    "duration": 88,
    "start_time": "2021-08-10T10:55:02.143Z"
   },
   {
    "duration": 16,
    "start_time": "2021-08-10T10:55:02.237Z"
   },
   {
    "duration": 25,
    "start_time": "2021-08-10T10:55:02.257Z"
   },
   {
    "duration": 413,
    "start_time": "2021-08-10T10:55:02.284Z"
   },
   {
    "duration": 32,
    "start_time": "2021-08-10T10:55:02.699Z"
   },
   {
    "duration": 54,
    "start_time": "2021-08-10T10:55:02.734Z"
   },
   {
    "duration": 145,
    "start_time": "2021-08-10T10:55:02.790Z"
   },
   {
    "duration": 630,
    "start_time": "2021-08-10T10:55:02.938Z"
   },
   {
    "duration": 14,
    "start_time": "2021-08-10T10:55:03.570Z"
   },
   {
    "duration": 37,
    "start_time": "2021-08-10T10:55:03.586Z"
   },
   {
    "duration": 62,
    "start_time": "2021-08-10T10:55:03.626Z"
   },
   {
    "duration": 6,
    "start_time": "2021-08-10T10:55:03.691Z"
   },
   {
    "duration": 9,
    "start_time": "2021-08-10T10:55:03.699Z"
   },
   {
    "duration": 5,
    "start_time": "2021-08-10T10:55:03.711Z"
   },
   {
    "duration": 24,
    "start_time": "2021-08-10T10:55:03.719Z"
   },
   {
    "duration": 63,
    "start_time": "2021-08-10T10:55:03.746Z"
   },
   {
    "duration": 4261,
    "start_time": "2021-08-10T10:55:03.811Z"
   },
   {
    "duration": 4258,
    "start_time": "2021-08-10T10:55:08.074Z"
   },
   {
    "duration": 4510,
    "start_time": "2021-08-10T10:55:12.334Z"
   },
   {
    "duration": 4247,
    "start_time": "2021-08-10T10:55:16.847Z"
   },
   {
    "duration": 4319,
    "start_time": "2021-08-10T10:55:21.096Z"
   },
   {
    "duration": 4283,
    "start_time": "2021-08-10T10:55:25.417Z"
   },
   {
    "duration": 6169,
    "start_time": "2021-08-10T10:55:29.702Z"
   },
   {
    "duration": 6444,
    "start_time": "2021-08-10T10:55:35.874Z"
   },
   {
    "duration": 7409,
    "start_time": "2021-08-10T10:55:42.320Z"
   },
   {
    "duration": 14471,
    "start_time": "2021-08-10T10:55:49.732Z"
   },
   {
    "duration": 94,
    "start_time": "2021-08-10T10:56:04.205Z"
   },
   {
    "duration": 117,
    "start_time": "2021-08-10T10:56:04.301Z"
   },
   {
    "duration": 94,
    "start_time": "2021-08-10T10:56:04.420Z"
   },
   {
    "duration": 73,
    "start_time": "2021-08-10T10:56:04.516Z"
   },
   {
    "duration": 689,
    "start_time": "2021-08-10T10:56:04.591Z"
   },
   {
    "duration": 572,
    "start_time": "2021-08-10T10:56:05.283Z"
   },
   {
    "duration": 663,
    "start_time": "2021-08-10T10:56:05.858Z"
   },
   {
    "duration": 9,
    "start_time": "2021-08-10T10:56:06.523Z"
   },
   {
    "duration": 7,
    "start_time": "2021-08-10T10:56:06.536Z"
   },
   {
    "duration": 38,
    "start_time": "2021-08-10T10:56:06.545Z"
   },
   {
    "duration": 8,
    "start_time": "2021-08-10T10:56:06.585Z"
   },
   {
    "duration": 97,
    "start_time": "2021-08-10T10:56:06.596Z"
   },
   {
    "duration": 4642,
    "start_time": "2021-08-10T10:56:06.695Z"
   },
   {
    "duration": 85,
    "start_time": "2021-08-10T10:56:11.339Z"
   },
   {
    "duration": 122,
    "start_time": "2021-08-10T10:56:11.427Z"
   },
   {
    "duration": 7,
    "start_time": "2021-08-10T10:56:11.552Z"
   },
   {
    "duration": 24,
    "start_time": "2021-08-10T10:56:11.562Z"
   },
   {
    "duration": 17,
    "start_time": "2021-08-10T10:56:11.589Z"
   },
   {
    "duration": 68,
    "start_time": "2021-08-10T10:59:19.300Z"
   },
   {
    "duration": 7808,
    "start_time": "2021-08-10T11:00:11.179Z"
   },
   {
    "duration": 240,
    "start_time": "2021-08-10T11:00:42.595Z"
   },
   {
    "duration": 353,
    "start_time": "2021-08-10T11:01:36.752Z"
   },
   {
    "duration": 116,
    "start_time": "2021-08-10T11:01:44.956Z"
   },
   {
    "duration": 7,
    "start_time": "2021-08-10T11:01:56.485Z"
   },
   {
    "duration": 699,
    "start_time": "2021-08-10T11:02:44.851Z"
   },
   {
    "duration": 977,
    "start_time": "2021-08-10T11:03:14.957Z"
   },
   {
    "duration": 133,
    "start_time": "2021-08-10T11:03:41.752Z"
   },
   {
    "duration": 326,
    "start_time": "2021-08-10T11:04:38.163Z"
   },
   {
    "duration": 95,
    "start_time": "2021-08-10T11:09:18.745Z"
   },
   {
    "duration": 95,
    "start_time": "2021-08-10T11:10:18.392Z"
   },
   {
    "duration": 353,
    "start_time": "2021-08-10T11:10:51.257Z"
   },
   {
    "duration": 423,
    "start_time": "2021-08-10T11:11:02.193Z"
   },
   {
    "duration": 348,
    "start_time": "2021-08-10T11:11:58.406Z"
   },
   {
    "duration": 460,
    "start_time": "2021-08-10T11:12:20.030Z"
   },
   {
    "duration": 286,
    "start_time": "2021-08-10T11:12:39.554Z"
   },
   {
    "duration": 89,
    "start_time": "2021-08-10T11:14:05.924Z"
   },
   {
    "duration": 763,
    "start_time": "2021-08-10T11:14:56.104Z"
   },
   {
    "duration": 7,
    "start_time": "2021-08-10T11:15:00.119Z"
   },
   {
    "duration": 592,
    "start_time": "2021-08-10T11:15:05.945Z"
   },
   {
    "duration": 7,
    "start_time": "2021-08-10T11:15:08.445Z"
   },
   {
    "duration": 732,
    "start_time": "2021-08-10T11:17:08.130Z"
   },
   {
    "duration": 395,
    "start_time": "2021-08-10T11:18:02.060Z"
   },
   {
    "duration": 90,
    "start_time": "2021-08-10T11:19:17.909Z"
   },
   {
    "duration": 7,
    "start_time": "2021-08-10T11:19:20.869Z"
   },
   {
    "duration": 20,
    "start_time": "2021-08-10T11:19:43.242Z"
   },
   {
    "duration": 6,
    "start_time": "2021-08-10T11:19:50.128Z"
   },
   {
    "duration": 86,
    "start_time": "2021-08-10T11:20:09.194Z"
   },
   {
    "duration": 7,
    "start_time": "2021-08-10T11:20:11.133Z"
   },
   {
    "duration": 1438,
    "start_time": "2021-08-10T11:20:22.778Z"
   },
   {
    "duration": 201,
    "start_time": "2021-08-10T11:20:24.219Z"
   },
   {
    "duration": 23,
    "start_time": "2021-08-10T11:20:24.424Z"
   },
   {
    "duration": 47,
    "start_time": "2021-08-10T11:20:24.450Z"
   },
   {
    "duration": 42,
    "start_time": "2021-08-10T11:20:24.499Z"
   },
   {
    "duration": 41,
    "start_time": "2021-08-10T11:20:24.543Z"
   },
   {
    "duration": 8,
    "start_time": "2021-08-10T11:20:24.586Z"
   },
   {
    "duration": 20,
    "start_time": "2021-08-10T11:20:24.598Z"
   },
   {
    "duration": 9,
    "start_time": "2021-08-10T11:20:24.622Z"
   },
   {
    "duration": 35,
    "start_time": "2021-08-10T11:20:24.633Z"
   },
   {
    "duration": 136,
    "start_time": "2021-08-10T11:20:24.671Z"
   },
   {
    "duration": 17,
    "start_time": "2021-08-10T11:20:24.810Z"
   },
   {
    "duration": 23,
    "start_time": "2021-08-10T11:20:24.829Z"
   },
   {
    "duration": 57,
    "start_time": "2021-08-10T11:20:24.855Z"
   },
   {
    "duration": 188,
    "start_time": "2021-08-10T11:20:24.914Z"
   },
   {
    "duration": 21,
    "start_time": "2021-08-10T11:20:25.104Z"
   },
   {
    "duration": 22,
    "start_time": "2021-08-10T11:20:25.127Z"
   },
   {
    "duration": 45,
    "start_time": "2021-08-10T11:20:25.183Z"
   },
   {
    "duration": 24,
    "start_time": "2021-08-10T11:20:25.230Z"
   },
   {
    "duration": 30,
    "start_time": "2021-08-10T11:20:25.256Z"
   },
   {
    "duration": 9,
    "start_time": "2021-08-10T11:20:25.289Z"
   },
   {
    "duration": 95,
    "start_time": "2021-08-10T11:20:25.301Z"
   },
   {
    "duration": 17,
    "start_time": "2021-08-10T11:20:25.401Z"
   },
   {
    "duration": 12,
    "start_time": "2021-08-10T11:20:25.421Z"
   },
   {
    "duration": 441,
    "start_time": "2021-08-10T11:20:25.436Z"
   },
   {
    "duration": 27,
    "start_time": "2021-08-10T11:20:25.883Z"
   },
   {
    "duration": 29,
    "start_time": "2021-08-10T11:20:25.912Z"
   },
   {
    "duration": 152,
    "start_time": "2021-08-10T11:20:25.944Z"
   },
   {
    "duration": 127,
    "start_time": "2021-08-10T11:20:26.099Z"
   },
   {
    "duration": 8,
    "start_time": "2021-08-10T11:20:26.229Z"
   },
   {
    "duration": 635,
    "start_time": "2021-08-10T11:20:26.240Z"
   },
   {
    "duration": 7,
    "start_time": "2021-08-10T11:20:26.878Z"
   },
   {
    "duration": 35,
    "start_time": "2021-08-10T11:20:26.888Z"
   },
   {
    "duration": 62,
    "start_time": "2021-08-10T11:20:26.925Z"
   },
   {
    "duration": 6,
    "start_time": "2021-08-10T11:20:26.989Z"
   },
   {
    "duration": 10,
    "start_time": "2021-08-10T11:20:26.997Z"
   },
   {
    "duration": 10,
    "start_time": "2021-08-10T11:20:27.009Z"
   },
   {
    "duration": 11,
    "start_time": "2021-08-10T11:20:27.021Z"
   },
   {
    "duration": 62,
    "start_time": "2021-08-10T11:20:27.035Z"
   },
   {
    "duration": 4562,
    "start_time": "2021-08-10T11:20:27.100Z"
   },
   {
    "duration": 4316,
    "start_time": "2021-08-10T11:20:31.666Z"
   },
   {
    "duration": 4378,
    "start_time": "2021-08-10T11:20:35.984Z"
   },
   {
    "duration": 4975,
    "start_time": "2021-08-10T11:20:40.364Z"
   },
   {
    "duration": 4570,
    "start_time": "2021-08-10T11:20:45.342Z"
   },
   {
    "duration": 4491,
    "start_time": "2021-08-10T11:20:49.915Z"
   },
   {
    "duration": 6418,
    "start_time": "2021-08-10T11:20:54.408Z"
   },
   {
    "duration": 6842,
    "start_time": "2021-08-10T11:21:00.829Z"
   },
   {
    "duration": 7784,
    "start_time": "2021-08-10T11:21:07.674Z"
   },
   {
    "duration": 13689,
    "start_time": "2021-08-10T11:21:15.462Z"
   },
   {
    "duration": 97,
    "start_time": "2021-08-10T11:21:29.153Z"
   },
   {
    "duration": 116,
    "start_time": "2021-08-10T11:21:29.252Z"
   },
   {
    "duration": 85,
    "start_time": "2021-08-10T11:21:29.370Z"
   },
   {
    "duration": 76,
    "start_time": "2021-08-10T11:21:29.457Z"
   },
   {
    "duration": 677,
    "start_time": "2021-08-10T11:21:29.535Z"
   },
   {
    "duration": 604,
    "start_time": "2021-08-10T11:21:30.214Z"
   },
   {
    "duration": 699,
    "start_time": "2021-08-10T11:21:30.820Z"
   },
   {
    "duration": 9,
    "start_time": "2021-08-10T11:21:31.522Z"
   },
   {
    "duration": 26,
    "start_time": "2021-08-10T11:21:31.534Z"
   },
   {
    "duration": 20,
    "start_time": "2021-08-10T11:21:31.563Z"
   },
   {
    "duration": 15,
    "start_time": "2021-08-10T11:21:31.587Z"
   },
   {
    "duration": 113,
    "start_time": "2021-08-10T11:21:31.604Z"
   },
   {
    "duration": 5041,
    "start_time": "2021-08-10T11:21:31.719Z"
   },
   {
    "duration": 77,
    "start_time": "2021-08-10T11:21:36.762Z"
   },
   {
    "duration": 121,
    "start_time": "2021-08-10T11:21:36.842Z"
   },
   {
    "duration": 18,
    "start_time": "2021-08-10T11:21:36.965Z"
   },
   {
    "duration": 6,
    "start_time": "2021-08-10T11:21:36.986Z"
   },
   {
    "duration": 8,
    "start_time": "2021-08-10T11:21:36.995Z"
   },
   {
    "duration": 7,
    "start_time": "2021-08-10T11:23:22.697Z"
   },
   {
    "duration": 441,
    "start_time": "2021-08-10T11:26:39.110Z"
   },
   {
    "duration": 33,
    "start_time": "2021-08-10T11:26:49.116Z"
   },
   {
    "duration": 6,
    "start_time": "2021-08-10T11:26:52.107Z"
   },
   {
    "duration": 121,
    "start_time": "2021-08-10T11:27:17.673Z"
   },
   {
    "duration": 8,
    "start_time": "2021-08-10T11:27:20.340Z"
   },
   {
    "duration": 577,
    "start_time": "2021-08-10T11:27:46.542Z"
   },
   {
    "duration": 693,
    "start_time": "2021-08-10T11:28:07.328Z"
   },
   {
    "duration": 6,
    "start_time": "2021-08-10T11:28:09.533Z"
   },
   {
    "duration": 1433,
    "start_time": "2021-08-10T11:29:08.904Z"
   },
   {
    "duration": 212,
    "start_time": "2021-08-10T11:29:10.340Z"
   },
   {
    "duration": 35,
    "start_time": "2021-08-10T11:29:10.555Z"
   },
   {
    "duration": 27,
    "start_time": "2021-08-10T11:29:10.593Z"
   },
   {
    "duration": 64,
    "start_time": "2021-08-10T11:29:10.623Z"
   },
   {
    "duration": 38,
    "start_time": "2021-08-10T11:29:10.689Z"
   },
   {
    "duration": 7,
    "start_time": "2021-08-10T11:29:10.730Z"
   },
   {
    "duration": 8,
    "start_time": "2021-08-10T11:29:10.744Z"
   },
   {
    "duration": 26,
    "start_time": "2021-08-10T11:29:10.757Z"
   },
   {
    "duration": 21,
    "start_time": "2021-08-10T11:29:10.786Z"
   },
   {
    "duration": 136,
    "start_time": "2021-08-10T11:29:10.809Z"
   },
   {
    "duration": 17,
    "start_time": "2021-08-10T11:29:10.948Z"
   },
   {
    "duration": 29,
    "start_time": "2021-08-10T11:29:10.968Z"
   },
   {
    "duration": 36,
    "start_time": "2021-08-10T11:29:11.000Z"
   },
   {
    "duration": 194,
    "start_time": "2021-08-10T11:29:11.038Z"
   },
   {
    "duration": 21,
    "start_time": "2021-08-10T11:29:11.235Z"
   },
   {
    "duration": 57,
    "start_time": "2021-08-10T11:29:11.259Z"
   },
   {
    "duration": 83,
    "start_time": "2021-08-10T11:29:11.319Z"
   },
   {
    "duration": 31,
    "start_time": "2021-08-10T11:29:11.405Z"
   },
   {
    "duration": 20,
    "start_time": "2021-08-10T11:29:11.439Z"
   },
   {
    "duration": 25,
    "start_time": "2021-08-10T11:29:11.462Z"
   },
   {
    "duration": 73,
    "start_time": "2021-08-10T11:29:11.490Z"
   },
   {
    "duration": 16,
    "start_time": "2021-08-10T11:29:11.581Z"
   },
   {
    "duration": 11,
    "start_time": "2021-08-10T11:29:11.601Z"
   },
   {
    "duration": 453,
    "start_time": "2021-08-10T11:29:11.615Z"
   },
   {
    "duration": 37,
    "start_time": "2021-08-10T11:29:12.071Z"
   },
   {
    "duration": 29,
    "start_time": "2021-08-10T11:29:12.110Z"
   },
   {
    "duration": 164,
    "start_time": "2021-08-10T11:29:12.141Z"
   },
   {
    "duration": 639,
    "start_time": "2021-08-10T11:29:12.307Z"
   },
   {
    "duration": 5,
    "start_time": "2021-08-10T11:29:12.948Z"
   },
   {
    "duration": 54,
    "start_time": "2021-08-10T11:29:12.956Z"
   },
   {
    "duration": 37,
    "start_time": "2021-08-10T11:29:13.012Z"
   },
   {
    "duration": 34,
    "start_time": "2021-08-10T11:29:13.051Z"
   },
   {
    "duration": 11,
    "start_time": "2021-08-10T11:29:13.088Z"
   },
   {
    "duration": 7,
    "start_time": "2021-08-10T11:29:13.101Z"
   },
   {
    "duration": 9,
    "start_time": "2021-08-10T11:29:13.110Z"
   },
   {
    "duration": 76,
    "start_time": "2021-08-10T11:29:13.121Z"
   },
   {
    "duration": 4756,
    "start_time": "2021-08-10T11:29:13.199Z"
   },
   {
    "duration": 4412,
    "start_time": "2021-08-10T11:29:17.959Z"
   },
   {
    "duration": 4382,
    "start_time": "2021-08-10T11:29:22.373Z"
   },
   {
    "duration": 4458,
    "start_time": "2021-08-10T11:29:26.758Z"
   },
   {
    "duration": 4466,
    "start_time": "2021-08-10T11:29:31.219Z"
   },
   {
    "duration": 4503,
    "start_time": "2021-08-10T11:29:35.687Z"
   },
   {
    "duration": 6032,
    "start_time": "2021-08-10T11:29:40.193Z"
   },
   {
    "duration": 6585,
    "start_time": "2021-08-10T11:29:46.227Z"
   },
   {
    "duration": 7470,
    "start_time": "2021-08-10T11:29:52.814Z"
   },
   {
    "duration": 13953,
    "start_time": "2021-08-10T11:30:00.286Z"
   },
   {
    "duration": 111,
    "start_time": "2021-08-10T11:30:14.241Z"
   },
   {
    "duration": 116,
    "start_time": "2021-08-10T11:30:14.354Z"
   },
   {
    "duration": 99,
    "start_time": "2021-08-10T11:30:14.472Z"
   },
   {
    "duration": 82,
    "start_time": "2021-08-10T11:30:14.573Z"
   },
   {
    "duration": 696,
    "start_time": "2021-08-10T11:30:14.657Z"
   },
   {
    "duration": 557,
    "start_time": "2021-08-10T11:30:15.355Z"
   },
   {
    "duration": 688,
    "start_time": "2021-08-10T11:30:15.915Z"
   },
   {
    "duration": 6,
    "start_time": "2021-08-10T11:30:16.606Z"
   },
   {
    "duration": 15,
    "start_time": "2021-08-10T11:30:16.614Z"
   },
   {
    "duration": 20,
    "start_time": "2021-08-10T11:30:16.632Z"
   },
   {
    "duration": 35,
    "start_time": "2021-08-10T11:30:16.655Z"
   },
   {
    "duration": 105,
    "start_time": "2021-08-10T11:30:16.692Z"
   },
   {
    "duration": 4589,
    "start_time": "2021-08-10T11:30:16.799Z"
   },
   {
    "duration": 76,
    "start_time": "2021-08-10T11:30:21.390Z"
   },
   {
    "duration": 126,
    "start_time": "2021-08-10T11:30:21.483Z"
   },
   {
    "duration": 5,
    "start_time": "2021-08-10T11:30:21.612Z"
   },
   {
    "duration": 10,
    "start_time": "2021-08-10T11:30:21.620Z"
   },
   {
    "duration": 8,
    "start_time": "2021-08-10T11:30:21.632Z"
   },
   {
    "duration": 7,
    "start_time": "2021-08-10T11:30:38.417Z"
   },
   {
    "duration": 571,
    "start_time": "2021-08-10T11:33:25.795Z"
   },
   {
    "duration": 417,
    "start_time": "2021-08-10T11:34:33.839Z"
   },
   {
    "duration": 35,
    "start_time": "2021-08-10T11:34:42.325Z"
   },
   {
    "duration": 6,
    "start_time": "2021-08-10T11:34:44.175Z"
   },
   {
    "duration": 103,
    "start_time": "2021-08-10T11:35:18.513Z"
   },
   {
    "duration": 8,
    "start_time": "2021-08-10T11:35:20.403Z"
   },
   {
    "duration": 6,
    "start_time": "2021-08-10T11:36:35.297Z"
   },
   {
    "duration": 6,
    "start_time": "2021-08-10T11:36:46.078Z"
   },
   {
    "duration": 7,
    "start_time": "2021-08-10T11:36:53.016Z"
   },
   {
    "duration": 6,
    "start_time": "2021-08-10T11:37:44.132Z"
   },
   {
    "duration": 262,
    "start_time": "2021-08-10T11:38:17.289Z"
   },
   {
    "duration": 280,
    "start_time": "2021-08-10T11:39:11.158Z"
   },
   {
    "duration": 336,
    "start_time": "2021-08-10T11:39:23.189Z"
   },
   {
    "duration": 260,
    "start_time": "2021-08-10T11:39:40.400Z"
   },
   {
    "duration": 277,
    "start_time": "2021-08-10T11:40:01.440Z"
   },
   {
    "duration": 707,
    "start_time": "2021-08-10T11:41:16.746Z"
   },
   {
    "duration": 97,
    "start_time": "2021-08-10T11:41:25.256Z"
   },
   {
    "duration": 7,
    "start_time": "2021-08-10T11:41:28.332Z"
   },
   {
    "duration": 99,
    "start_time": "2021-08-10T11:42:36.902Z"
   },
   {
    "duration": 96,
    "start_time": "2021-08-10T11:42:58.223Z"
   },
   {
    "duration": 67,
    "start_time": "2021-08-10T11:43:12.857Z"
   },
   {
    "duration": 7061,
    "start_time": "2021-08-10T11:43:17.741Z"
   },
   {
    "duration": 109,
    "start_time": "2021-08-10T11:43:43.982Z"
   },
   {
    "duration": 7,
    "start_time": "2021-08-10T11:43:46.635Z"
   },
   {
    "duration": 96,
    "start_time": "2021-08-10T11:44:14.897Z"
   },
   {
    "duration": 283,
    "start_time": "2021-08-10T11:45:36.447Z"
   },
   {
    "duration": 271,
    "start_time": "2021-08-10T11:45:48.363Z"
   },
   {
    "duration": 1422,
    "start_time": "2021-08-10T11:45:57.905Z"
   },
   {
    "duration": 199,
    "start_time": "2021-08-10T11:45:59.330Z"
   },
   {
    "duration": 25,
    "start_time": "2021-08-10T11:45:59.531Z"
   },
   {
    "duration": 45,
    "start_time": "2021-08-10T11:45:59.558Z"
   },
   {
    "duration": 38,
    "start_time": "2021-08-10T11:45:59.606Z"
   },
   {
    "duration": 42,
    "start_time": "2021-08-10T11:45:59.647Z"
   },
   {
    "duration": 7,
    "start_time": "2021-08-10T11:45:59.691Z"
   },
   {
    "duration": 10,
    "start_time": "2021-08-10T11:45:59.701Z"
   },
   {
    "duration": 10,
    "start_time": "2021-08-10T11:45:59.714Z"
   },
   {
    "duration": 22,
    "start_time": "2021-08-10T11:45:59.726Z"
   },
   {
    "duration": 141,
    "start_time": "2021-08-10T11:45:59.751Z"
   },
   {
    "duration": 17,
    "start_time": "2021-08-10T11:45:59.895Z"
   },
   {
    "duration": 18,
    "start_time": "2021-08-10T11:45:59.915Z"
   },
   {
    "duration": 66,
    "start_time": "2021-08-10T11:45:59.936Z"
   },
   {
    "duration": 193,
    "start_time": "2021-08-10T11:46:00.004Z"
   },
   {
    "duration": 21,
    "start_time": "2021-08-10T11:46:00.200Z"
   },
   {
    "duration": 29,
    "start_time": "2021-08-10T11:46:00.223Z"
   },
   {
    "duration": 65,
    "start_time": "2021-08-10T11:46:00.254Z"
   },
   {
    "duration": 24,
    "start_time": "2021-08-10T11:46:00.321Z"
   },
   {
    "duration": 36,
    "start_time": "2021-08-10T11:46:00.348Z"
   },
   {
    "duration": 10,
    "start_time": "2021-08-10T11:46:00.386Z"
   },
   {
    "duration": 85,
    "start_time": "2021-08-10T11:46:00.398Z"
   },
   {
    "duration": 16,
    "start_time": "2021-08-10T11:46:00.489Z"
   },
   {
    "duration": 11,
    "start_time": "2021-08-10T11:46:00.509Z"
   },
   {
    "duration": 464,
    "start_time": "2021-08-10T11:46:00.524Z"
   },
   {
    "duration": 32,
    "start_time": "2021-08-10T11:46:00.991Z"
   },
   {
    "duration": 57,
    "start_time": "2021-08-10T11:46:01.025Z"
   },
   {
    "duration": 375,
    "start_time": "2021-08-10T11:46:01.085Z"
   },
   {
    "duration": -38,
    "start_time": "2021-08-10T11:46:01.501Z"
   },
   {
    "duration": -43,
    "start_time": "2021-08-10T11:46:01.507Z"
   },
   {
    "duration": -45,
    "start_time": "2021-08-10T11:46:01.510Z"
   },
   {
    "duration": -46,
    "start_time": "2021-08-10T11:46:01.513Z"
   },
   {
    "duration": -49,
    "start_time": "2021-08-10T11:46:01.517Z"
   },
   {
    "duration": -51,
    "start_time": "2021-08-10T11:46:01.521Z"
   },
   {
    "duration": -52,
    "start_time": "2021-08-10T11:46:01.523Z"
   },
   {
    "duration": -54,
    "start_time": "2021-08-10T11:46:01.527Z"
   },
   {
    "duration": -54,
    "start_time": "2021-08-10T11:46:01.529Z"
   },
   {
    "duration": -56,
    "start_time": "2021-08-10T11:46:01.532Z"
   },
   {
    "duration": -58,
    "start_time": "2021-08-10T11:46:01.535Z"
   },
   {
    "duration": -59,
    "start_time": "2021-08-10T11:46:01.538Z"
   },
   {
    "duration": -61,
    "start_time": "2021-08-10T11:46:01.541Z"
   },
   {
    "duration": -62,
    "start_time": "2021-08-10T11:46:01.544Z"
   },
   {
    "duration": -63,
    "start_time": "2021-08-10T11:46:01.546Z"
   },
   {
    "duration": -65,
    "start_time": "2021-08-10T11:46:01.549Z"
   },
   {
    "duration": -66,
    "start_time": "2021-08-10T11:46:01.552Z"
   },
   {
    "duration": -69,
    "start_time": "2021-08-10T11:46:01.556Z"
   },
   {
    "duration": -81,
    "start_time": "2021-08-10T11:46:01.569Z"
   },
   {
    "duration": -82,
    "start_time": "2021-08-10T11:46:01.572Z"
   },
   {
    "duration": -84,
    "start_time": "2021-08-10T11:46:01.575Z"
   },
   {
    "duration": -86,
    "start_time": "2021-08-10T11:46:01.578Z"
   },
   {
    "duration": -87,
    "start_time": "2021-08-10T11:46:01.581Z"
   },
   {
    "duration": -89,
    "start_time": "2021-08-10T11:46:01.584Z"
   },
   {
    "duration": -92,
    "start_time": "2021-08-10T11:46:01.588Z"
   },
   {
    "duration": -93,
    "start_time": "2021-08-10T11:46:01.591Z"
   },
   {
    "duration": -96,
    "start_time": "2021-08-10T11:46:01.595Z"
   },
   {
    "duration": -98,
    "start_time": "2021-08-10T11:46:01.598Z"
   },
   {
    "duration": -99,
    "start_time": "2021-08-10T11:46:01.601Z"
   },
   {
    "duration": -100,
    "start_time": "2021-08-10T11:46:01.604Z"
   },
   {
    "duration": -102,
    "start_time": "2021-08-10T11:46:01.607Z"
   },
   {
    "duration": -104,
    "start_time": "2021-08-10T11:46:01.610Z"
   },
   {
    "duration": -105,
    "start_time": "2021-08-10T11:46:01.613Z"
   },
   {
    "duration": -107,
    "start_time": "2021-08-10T11:46:01.616Z"
   },
   {
    "duration": -116,
    "start_time": "2021-08-10T11:46:01.627Z"
   },
   {
    "duration": -118,
    "start_time": "2021-08-10T11:46:01.630Z"
   },
   {
    "duration": -120,
    "start_time": "2021-08-10T11:46:01.633Z"
   },
   {
    "duration": -121,
    "start_time": "2021-08-10T11:46:01.636Z"
   },
   {
    "duration": 6,
    "start_time": "2021-08-10T11:46:33.570Z"
   },
   {
    "duration": 1355,
    "start_time": "2021-08-10T11:46:56.814Z"
   },
   {
    "duration": 216,
    "start_time": "2021-08-10T11:46:58.171Z"
   },
   {
    "duration": 25,
    "start_time": "2021-08-10T11:46:58.390Z"
   },
   {
    "duration": 26,
    "start_time": "2021-08-10T11:46:58.418Z"
   },
   {
    "duration": 71,
    "start_time": "2021-08-10T11:46:58.447Z"
   },
   {
    "duration": 38,
    "start_time": "2021-08-10T11:46:58.521Z"
   },
   {
    "duration": 7,
    "start_time": "2021-08-10T11:46:58.562Z"
   },
   {
    "duration": 18,
    "start_time": "2021-08-10T11:46:58.573Z"
   },
   {
    "duration": 6,
    "start_time": "2021-08-10T11:46:58.594Z"
   },
   {
    "duration": 18,
    "start_time": "2021-08-10T11:46:58.603Z"
   },
   {
    "duration": 130,
    "start_time": "2021-08-10T11:46:58.624Z"
   },
   {
    "duration": 26,
    "start_time": "2021-08-10T11:46:58.757Z"
   },
   {
    "duration": 18,
    "start_time": "2021-08-10T11:46:58.786Z"
   },
   {
    "duration": 35,
    "start_time": "2021-08-10T11:46:58.807Z"
   },
   {
    "duration": 192,
    "start_time": "2021-08-10T11:46:58.844Z"
   },
   {
    "duration": 21,
    "start_time": "2021-08-10T11:46:59.038Z"
   },
   {
    "duration": 39,
    "start_time": "2021-08-10T11:46:59.061Z"
   },
   {
    "duration": 43,
    "start_time": "2021-08-10T11:46:59.102Z"
   },
   {
    "duration": 37,
    "start_time": "2021-08-10T11:46:59.147Z"
   },
   {
    "duration": 20,
    "start_time": "2021-08-10T11:46:59.186Z"
   },
   {
    "duration": 8,
    "start_time": "2021-08-10T11:46:59.208Z"
   },
   {
    "duration": 94,
    "start_time": "2021-08-10T11:46:59.219Z"
   },
   {
    "duration": 16,
    "start_time": "2021-08-10T11:46:59.319Z"
   },
   {
    "duration": 12,
    "start_time": "2021-08-10T11:46:59.338Z"
   },
   {
    "duration": 433,
    "start_time": "2021-08-10T11:46:59.353Z"
   },
   {
    "duration": 30,
    "start_time": "2021-08-10T11:46:59.789Z"
   },
   {
    "duration": 31,
    "start_time": "2021-08-10T11:46:59.822Z"
   },
   {
    "duration": 132,
    "start_time": "2021-08-10T11:46:59.883Z"
   },
   {
    "duration": 131,
    "start_time": "2021-08-10T11:47:00.017Z"
   },
   {
    "duration": 6,
    "start_time": "2021-08-10T11:47:00.151Z"
   },
   {
    "duration": 7034,
    "start_time": "2021-08-10T11:47:00.159Z"
   },
   {
    "duration": -64,
    "start_time": "2021-08-10T11:47:07.259Z"
   },
   {
    "duration": -66,
    "start_time": "2021-08-10T11:47:07.262Z"
   },
   {
    "duration": -68,
    "start_time": "2021-08-10T11:47:07.266Z"
   },
   {
    "duration": -69,
    "start_time": "2021-08-10T11:47:07.270Z"
   },
   {
    "duration": -71,
    "start_time": "2021-08-10T11:47:07.274Z"
   },
   {
    "duration": -72,
    "start_time": "2021-08-10T11:47:07.277Z"
   },
   {
    "duration": -75,
    "start_time": "2021-08-10T11:47:07.282Z"
   },
   {
    "duration": -77,
    "start_time": "2021-08-10T11:47:07.286Z"
   },
   {
    "duration": -80,
    "start_time": "2021-08-10T11:47:07.291Z"
   },
   {
    "duration": -81,
    "start_time": "2021-08-10T11:47:07.295Z"
   },
   {
    "duration": -98,
    "start_time": "2021-08-10T11:47:07.314Z"
   },
   {
    "duration": -98,
    "start_time": "2021-08-10T11:47:07.317Z"
   },
   {
    "duration": -100,
    "start_time": "2021-08-10T11:47:07.321Z"
   },
   {
    "duration": -101,
    "start_time": "2021-08-10T11:47:07.324Z"
   },
   {
    "duration": -115,
    "start_time": "2021-08-10T11:47:07.340Z"
   },
   {
    "duration": -117,
    "start_time": "2021-08-10T11:47:07.344Z"
   },
   {
    "duration": -119,
    "start_time": "2021-08-10T11:47:07.348Z"
   },
   {
    "duration": -121,
    "start_time": "2021-08-10T11:47:07.353Z"
   },
   {
    "duration": -75,
    "start_time": "2021-08-10T11:47:07.356Z"
   },
   {
    "duration": -77,
    "start_time": "2021-08-10T11:47:07.361Z"
   },
   {
    "duration": -78,
    "start_time": "2021-08-10T11:47:07.364Z"
   },
   {
    "duration": -79,
    "start_time": "2021-08-10T11:47:07.367Z"
   },
   {
    "duration": -81,
    "start_time": "2021-08-10T11:47:07.371Z"
   },
   {
    "duration": -82,
    "start_time": "2021-08-10T11:47:07.374Z"
   },
   {
    "duration": -97,
    "start_time": "2021-08-10T11:47:07.391Z"
   },
   {
    "duration": -99,
    "start_time": "2021-08-10T11:47:07.395Z"
   },
   {
    "duration": -100,
    "start_time": "2021-08-10T11:47:07.398Z"
   },
   {
    "duration": -101,
    "start_time": "2021-08-10T11:47:07.402Z"
   },
   {
    "duration": -103,
    "start_time": "2021-08-10T11:47:07.405Z"
   },
   {
    "duration": -105,
    "start_time": "2021-08-10T11:47:07.409Z"
   },
   {
    "duration": -119,
    "start_time": "2021-08-10T11:47:07.424Z"
   },
   {
    "duration": -121,
    "start_time": "2021-08-10T11:47:07.428Z"
   },
   {
    "duration": -128,
    "start_time": "2021-08-10T11:47:07.436Z"
   },
   {
    "duration": -130,
    "start_time": "2021-08-10T11:47:07.440Z"
   },
   {
    "duration": 29,
    "start_time": "2021-08-10T11:51:19.872Z"
   },
   {
    "duration": 146,
    "start_time": "2021-08-10T11:52:01.853Z"
   },
   {
    "duration": 6,
    "start_time": "2021-08-10T11:52:04.626Z"
   },
   {
    "duration": 110,
    "start_time": "2021-08-10T11:52:24.615Z"
   },
   {
    "duration": 6,
    "start_time": "2021-08-10T11:52:27.283Z"
   },
   {
    "duration": 113,
    "start_time": "2021-08-10T11:52:46.727Z"
   },
   {
    "duration": 8,
    "start_time": "2021-08-10T11:52:49.335Z"
   },
   {
    "duration": 512,
    "start_time": "2021-08-10T13:14:05.488Z"
   },
   {
    "duration": 1478,
    "start_time": "2021-08-10T13:14:15.101Z"
   },
   {
    "duration": 214,
    "start_time": "2021-08-10T13:14:16.582Z"
   },
   {
    "duration": 27,
    "start_time": "2021-08-10T13:14:16.798Z"
   },
   {
    "duration": 27,
    "start_time": "2021-08-10T13:14:16.828Z"
   },
   {
    "duration": 73,
    "start_time": "2021-08-10T13:14:16.858Z"
   },
   {
    "duration": 50,
    "start_time": "2021-08-10T13:14:16.934Z"
   },
   {
    "duration": 7,
    "start_time": "2021-08-10T13:14:16.986Z"
   },
   {
    "duration": 20,
    "start_time": "2021-08-10T13:14:16.997Z"
   },
   {
    "duration": 9,
    "start_time": "2021-08-10T13:14:17.020Z"
   },
   {
    "duration": 18,
    "start_time": "2021-08-10T13:14:17.032Z"
   },
   {
    "duration": 131,
    "start_time": "2021-08-10T13:14:17.052Z"
   },
   {
    "duration": 27,
    "start_time": "2021-08-10T13:14:17.185Z"
   },
   {
    "duration": 21,
    "start_time": "2021-08-10T13:14:17.214Z"
   },
   {
    "duration": 36,
    "start_time": "2021-08-10T13:14:17.237Z"
   },
   {
    "duration": 187,
    "start_time": "2021-08-10T13:14:17.301Z"
   },
   {
    "duration": 30,
    "start_time": "2021-08-10T13:14:17.491Z"
   },
   {
    "duration": 22,
    "start_time": "2021-08-10T13:14:17.524Z"
   },
   {
    "duration": 71,
    "start_time": "2021-08-10T13:14:17.548Z"
   },
   {
    "duration": 26,
    "start_time": "2021-08-10T13:14:17.622Z"
   },
   {
    "duration": 20,
    "start_time": "2021-08-10T13:14:17.651Z"
   },
   {
    "duration": 9,
    "start_time": "2021-08-10T13:14:17.674Z"
   },
   {
    "duration": 70,
    "start_time": "2021-08-10T13:14:17.701Z"
   },
   {
    "duration": 31,
    "start_time": "2021-08-10T13:14:17.777Z"
   },
   {
    "duration": 12,
    "start_time": "2021-08-10T13:14:17.811Z"
   },
   {
    "duration": 470,
    "start_time": "2021-08-10T13:14:17.825Z"
   },
   {
    "duration": 29,
    "start_time": "2021-08-10T13:14:18.300Z"
   },
   {
    "duration": 28,
    "start_time": "2021-08-10T13:14:18.332Z"
   },
   {
    "duration": 169,
    "start_time": "2021-08-10T13:14:18.363Z"
   },
   {
    "duration": 111,
    "start_time": "2021-08-10T13:14:18.535Z"
   },
   {
    "duration": 8,
    "start_time": "2021-08-10T13:14:18.649Z"
   },
   {
    "duration": 9124,
    "start_time": "2021-08-10T13:14:18.659Z"
   },
   {
    "duration": 2268,
    "start_time": "2021-08-10T13:14:25.518Z"
   },
   {
    "duration": 2264,
    "start_time": "2021-08-10T13:14:25.523Z"
   },
   {
    "duration": 2263,
    "start_time": "2021-08-10T13:14:25.527Z"
   },
   {
    "duration": 2248,
    "start_time": "2021-08-10T13:14:25.543Z"
   },
   {
    "duration": 2247,
    "start_time": "2021-08-10T13:14:25.546Z"
   },
   {
    "duration": 2244,
    "start_time": "2021-08-10T13:14:25.550Z"
   },
   {
    "duration": 2242,
    "start_time": "2021-08-10T13:14:25.554Z"
   },
   {
    "duration": 2240,
    "start_time": "2021-08-10T13:14:25.558Z"
   },
   {
    "duration": 2231,
    "start_time": "2021-08-10T13:14:25.568Z"
   },
   {
    "duration": 2228,
    "start_time": "2021-08-10T13:14:25.572Z"
   },
   {
    "duration": 2225,
    "start_time": "2021-08-10T13:14:25.576Z"
   },
   {
    "duration": 2223,
    "start_time": "2021-08-10T13:14:25.580Z"
   },
   {
    "duration": 2220,
    "start_time": "2021-08-10T13:14:25.584Z"
   },
   {
    "duration": 2219,
    "start_time": "2021-08-10T13:14:25.587Z"
   },
   {
    "duration": 2216,
    "start_time": "2021-08-10T13:14:25.591Z"
   },
   {
    "duration": 2215,
    "start_time": "2021-08-10T13:14:25.594Z"
   },
   {
    "duration": 2212,
    "start_time": "2021-08-10T13:14:25.598Z"
   },
   {
    "duration": 2211,
    "start_time": "2021-08-10T13:14:25.601Z"
   },
   {
    "duration": 2207,
    "start_time": "2021-08-10T13:14:25.606Z"
   },
   {
    "duration": 2204,
    "start_time": "2021-08-10T13:14:25.610Z"
   },
   {
    "duration": 2201,
    "start_time": "2021-08-10T13:14:25.615Z"
   },
   {
    "duration": 2199,
    "start_time": "2021-08-10T13:14:25.618Z"
   },
   {
    "duration": 2197,
    "start_time": "2021-08-10T13:14:25.621Z"
   },
   {
    "duration": 2195,
    "start_time": "2021-08-10T13:14:25.625Z"
   },
   {
    "duration": 2194,
    "start_time": "2021-08-10T13:14:25.628Z"
   },
   {
    "duration": 2191,
    "start_time": "2021-08-10T13:14:25.632Z"
   },
   {
    "duration": 2190,
    "start_time": "2021-08-10T13:14:25.634Z"
   },
   {
    "duration": 2189,
    "start_time": "2021-08-10T13:14:25.637Z"
   },
   {
    "duration": 2180,
    "start_time": "2021-08-10T13:14:25.647Z"
   },
   {
    "duration": 2178,
    "start_time": "2021-08-10T13:14:25.650Z"
   },
   {
    "duration": 2177,
    "start_time": "2021-08-10T13:14:25.653Z"
   },
   {
    "duration": 2175,
    "start_time": "2021-08-10T13:14:25.656Z"
   },
   {
    "duration": 2174,
    "start_time": "2021-08-10T13:14:25.659Z"
   },
   {
    "duration": 2171,
    "start_time": "2021-08-10T13:14:25.663Z"
   },
   {
    "duration": 6,
    "start_time": "2021-08-10T13:14:28.924Z"
   },
   {
    "duration": 44,
    "start_time": "2021-08-10T13:16:27.703Z"
   },
   {
    "duration": 6,
    "start_time": "2021-08-10T13:16:29.638Z"
   },
   {
    "duration": 21,
    "start_time": "2021-08-10T13:18:21.193Z"
   },
   {
    "duration": 23,
    "start_time": "2021-08-10T13:19:57.489Z"
   },
   {
    "duration": 23,
    "start_time": "2021-08-10T13:20:07.131Z"
   },
   {
    "duration": 7,
    "start_time": "2021-08-10T13:20:15.097Z"
   },
   {
    "duration": 16,
    "start_time": "2021-08-10T13:20:57.297Z"
   },
   {
    "duration": 9,
    "start_time": "2021-08-10T13:21:02.059Z"
   },
   {
    "duration": 87,
    "start_time": "2021-08-10T13:21:13.966Z"
   },
   {
    "duration": 7,
    "start_time": "2021-08-10T13:21:24.674Z"
   },
   {
    "duration": 128,
    "start_time": "2021-08-10T13:29:06.953Z"
   },
   {
    "duration": 84,
    "start_time": "2021-08-10T13:29:29.632Z"
   },
   {
    "duration": 7,
    "start_time": "2021-08-10T13:29:32.261Z"
   },
   {
    "duration": 9075,
    "start_time": "2021-08-10T13:29:45.840Z"
   },
   {
    "duration": 9013,
    "start_time": "2021-08-10T13:30:05.852Z"
   },
   {
    "duration": 21,
    "start_time": "2021-08-10T13:30:30.304Z"
   },
   {
    "duration": 9219,
    "start_time": "2021-08-10T13:30:40.564Z"
   },
   {
    "duration": 57,
    "start_time": "2021-08-10T13:31:37.756Z"
   },
   {
    "duration": 9463,
    "start_time": "2021-08-10T13:31:55.308Z"
   },
   {
    "duration": 52,
    "start_time": "2021-08-10T13:32:18.507Z"
   },
   {
    "duration": 44,
    "start_time": "2021-08-10T13:32:25.805Z"
   },
   {
    "duration": 14,
    "start_time": "2021-08-10T13:32:42.588Z"
   },
   {
    "duration": 8881,
    "start_time": "2021-08-10T13:33:38.453Z"
   },
   {
    "duration": 109,
    "start_time": "2021-08-10T13:33:59.374Z"
   },
   {
    "duration": 9554,
    "start_time": "2021-08-10T13:34:04.399Z"
   },
   {
    "duration": 25,
    "start_time": "2021-08-10T13:34:22.004Z"
   },
   {
    "duration": 360,
    "start_time": "2021-08-10T13:34:56.391Z"
   },
   {
    "duration": 745,
    "start_time": "2021-08-10T13:35:29.769Z"
   },
   {
    "duration": 10835,
    "start_time": "2021-08-10T13:36:03.863Z"
   },
   {
    "duration": 43,
    "start_time": "2021-08-10T13:36:21.202Z"
   },
   {
    "duration": 381,
    "start_time": "2021-08-10T13:36:32.488Z"
   },
   {
    "duration": 38,
    "start_time": "2021-08-10T13:36:36.302Z"
   },
   {
    "duration": 39,
    "start_time": "2021-08-10T13:36:40.048Z"
   },
   {
    "duration": 9258,
    "start_time": "2021-08-10T13:37:15.064Z"
   },
   {
    "duration": 10,
    "start_time": "2021-08-10T13:38:08.050Z"
   },
   {
    "duration": 395,
    "start_time": "2021-08-10T13:38:39.577Z"
   },
   {
    "duration": 359,
    "start_time": "2021-08-10T13:39:00.989Z"
   },
   {
    "duration": 359,
    "start_time": "2021-08-10T13:39:16.788Z"
   },
   {
    "duration": 136,
    "start_time": "2021-08-10T13:40:13.173Z"
   },
   {
    "duration": 8753,
    "start_time": "2021-08-10T13:40:46.519Z"
   },
   {
    "duration": 8865,
    "start_time": "2021-08-10T13:41:31.424Z"
   },
   {
    "duration": 132,
    "start_time": "2021-08-10T13:41:41.220Z"
   },
   {
    "duration": 112,
    "start_time": "2021-08-10T13:41:49.808Z"
   },
   {
    "duration": 8965,
    "start_time": "2021-08-10T13:41:54.429Z"
   },
   {
    "duration": 91,
    "start_time": "2021-08-10T13:42:04.448Z"
   },
   {
    "duration": 9216,
    "start_time": "2021-08-10T13:42:31.616Z"
   },
   {
    "duration": 96,
    "start_time": "2021-08-10T13:42:50.076Z"
   },
   {
    "duration": 464,
    "start_time": "2021-08-10T13:45:31.198Z"
   },
   {
    "duration": 493,
    "start_time": "2021-08-10T13:45:54.467Z"
   },
   {
    "duration": 37,
    "start_time": "2021-08-10T13:46:45.611Z"
   },
   {
    "duration": 135,
    "start_time": "2021-08-10T13:47:16.677Z"
   },
   {
    "duration": 497,
    "start_time": "2021-08-10T13:47:35.557Z"
   },
   {
    "duration": 151,
    "start_time": "2021-08-10T13:47:51.083Z"
   },
   {
    "duration": 493,
    "start_time": "2021-08-10T13:48:32.106Z"
   },
   {
    "duration": 507,
    "start_time": "2021-08-10T13:48:41.798Z"
   },
   {
    "duration": 493,
    "start_time": "2021-08-10T13:48:59.301Z"
   },
   {
    "duration": 572,
    "start_time": "2021-08-10T13:49:13.147Z"
   },
   {
    "duration": 489,
    "start_time": "2021-08-10T13:49:56.264Z"
   },
   {
    "duration": 470,
    "start_time": "2021-08-10T13:50:07.974Z"
   },
   {
    "duration": 149,
    "start_time": "2021-08-10T13:50:12.031Z"
   },
   {
    "duration": 110,
    "start_time": "2021-08-10T13:50:44.126Z"
   },
   {
    "duration": 151,
    "start_time": "2021-08-10T13:50:56.401Z"
   },
   {
    "duration": 138,
    "start_time": "2021-08-10T13:51:07.169Z"
   },
   {
    "duration": 384,
    "start_time": "2021-08-10T13:51:29.927Z"
   },
   {
    "duration": 39,
    "start_time": "2021-08-10T13:51:32.913Z"
   },
   {
    "duration": 36,
    "start_time": "2021-08-10T13:51:50.559Z"
   },
   {
    "duration": 76,
    "start_time": "2021-08-10T13:52:20.807Z"
   },
   {
    "duration": 68,
    "start_time": "2021-08-10T13:53:16.780Z"
   },
   {
    "duration": 70,
    "start_time": "2021-08-10T13:53:35.071Z"
   },
   {
    "duration": 34,
    "start_time": "2021-08-10T13:57:16.740Z"
   },
   {
    "duration": 60,
    "start_time": "2021-08-10T13:58:32.515Z"
   },
   {
    "duration": 407,
    "start_time": "2021-08-10T13:59:18.376Z"
   },
   {
    "duration": 44,
    "start_time": "2021-08-10T13:59:21.981Z"
   },
   {
    "duration": 57,
    "start_time": "2021-08-10T13:59:58.872Z"
   },
   {
    "duration": 53,
    "start_time": "2021-08-10T14:00:13.892Z"
   },
   {
    "duration": 52,
    "start_time": "2021-08-10T14:00:41.085Z"
   },
   {
    "duration": 57,
    "start_time": "2021-08-10T14:00:47.584Z"
   },
   {
    "duration": 49,
    "start_time": "2021-08-10T14:01:57.769Z"
   },
   {
    "duration": 389,
    "start_time": "2021-08-10T14:02:39.951Z"
   },
   {
    "duration": 385,
    "start_time": "2021-08-10T14:02:54.201Z"
   },
   {
    "duration": 53,
    "start_time": "2021-08-10T14:03:15.466Z"
   },
   {
    "duration": 54,
    "start_time": "2021-08-10T14:03:32.617Z"
   },
   {
    "duration": 70,
    "start_time": "2021-08-10T14:03:41.364Z"
   },
   {
    "duration": 77,
    "start_time": "2021-08-10T14:04:20.915Z"
   },
   {
    "duration": 391,
    "start_time": "2021-08-10T14:04:49.096Z"
   },
   {
    "duration": 407,
    "start_time": "2021-08-10T14:05:06.204Z"
   },
   {
    "duration": 429,
    "start_time": "2021-08-10T14:05:18.586Z"
   },
   {
    "duration": 387,
    "start_time": "2021-08-10T14:05:31.184Z"
   },
   {
    "duration": 397,
    "start_time": "2021-08-10T14:05:39.820Z"
   },
   {
    "duration": 71,
    "start_time": "2021-08-10T14:05:43.517Z"
   },
   {
    "duration": 61,
    "start_time": "2021-08-10T14:06:03.377Z"
   },
   {
    "duration": 88,
    "start_time": "2021-08-10T14:06:19.931Z"
   },
   {
    "duration": 58,
    "start_time": "2021-08-10T14:06:44.980Z"
   },
   {
    "duration": 63,
    "start_time": "2021-08-10T14:06:52.289Z"
   },
   {
    "duration": 56,
    "start_time": "2021-08-10T14:06:59.779Z"
   },
   {
    "duration": 54,
    "start_time": "2021-08-10T14:07:06.115Z"
   },
   {
    "duration": 56,
    "start_time": "2021-08-10T14:07:20.630Z"
   },
   {
    "duration": 428,
    "start_time": "2021-08-10T14:08:11.025Z"
   },
   {
    "duration": 52,
    "start_time": "2021-08-10T14:08:23.419Z"
   },
   {
    "duration": 51,
    "start_time": "2021-08-10T14:08:27.640Z"
   },
   {
    "duration": 66,
    "start_time": "2021-08-10T14:08:38.502Z"
   },
   {
    "duration": 56,
    "start_time": "2021-08-10T14:09:05.561Z"
   },
   {
    "duration": 122,
    "start_time": "2021-08-10T14:09:11.363Z"
   },
   {
    "duration": 81,
    "start_time": "2021-08-10T14:09:49.317Z"
   },
   {
    "duration": 95,
    "start_time": "2021-08-10T14:09:59.210Z"
   },
   {
    "duration": 97,
    "start_time": "2021-08-10T14:10:02.517Z"
   },
   {
    "duration": 71,
    "start_time": "2021-08-10T14:10:09.039Z"
   },
   {
    "duration": 164,
    "start_time": "2021-08-10T14:10:21.064Z"
   },
   {
    "duration": 100,
    "start_time": "2021-08-10T14:10:24.916Z"
   },
   {
    "duration": 119,
    "start_time": "2021-08-10T14:10:27.336Z"
   },
   {
    "duration": 428,
    "start_time": "2021-08-10T14:10:46.698Z"
   },
   {
    "duration": 562,
    "start_time": "2021-08-10T14:11:07.201Z"
   },
   {
    "duration": 416,
    "start_time": "2021-08-10T14:11:18.928Z"
   },
   {
    "duration": 133,
    "start_time": "2021-08-10T14:11:57.267Z"
   },
   {
    "duration": 443,
    "start_time": "2021-08-10T14:13:00.970Z"
   },
   {
    "duration": 563,
    "start_time": "2021-08-10T14:13:13.468Z"
   },
   {
    "duration": 9366,
    "start_time": "2021-08-10T14:13:58.887Z"
   },
   {
    "duration": 109,
    "start_time": "2021-08-10T14:14:32.212Z"
   },
   {
    "duration": 103,
    "start_time": "2021-08-10T14:14:57.601Z"
   },
   {
    "duration": 117,
    "start_time": "2021-08-10T14:15:07.549Z"
   },
   {
    "duration": 9379,
    "start_time": "2021-08-10T14:16:55.721Z"
   },
   {
    "duration": 66,
    "start_time": "2021-08-10T14:17:31.329Z"
   },
   {
    "duration": 117,
    "start_time": "2021-08-10T14:17:59.868Z"
   },
   {
    "duration": 28,
    "start_time": "2021-08-10T14:18:42.763Z"
   },
   {
    "duration": 118,
    "start_time": "2021-08-10T14:18:46.185Z"
   },
   {
    "duration": 79,
    "start_time": "2021-08-10T14:20:27.116Z"
   },
   {
    "duration": 75,
    "start_time": "2021-08-10T14:20:42.836Z"
   },
   {
    "duration": 73,
    "start_time": "2021-08-10T14:20:47.879Z"
   },
   {
    "duration": 76,
    "start_time": "2021-08-10T14:20:58.915Z"
   },
   {
    "duration": 414,
    "start_time": "2021-08-10T14:21:26.904Z"
   },
   {
    "duration": 74,
    "start_time": "2021-08-10T14:21:38.243Z"
   },
   {
    "duration": 83,
    "start_time": "2021-08-10T14:21:43.253Z"
   },
   {
    "duration": 73,
    "start_time": "2021-08-10T14:21:47.928Z"
   },
   {
    "duration": 92,
    "start_time": "2021-08-10T14:22:21.412Z"
   },
   {
    "duration": 107,
    "start_time": "2021-08-10T14:22:58.090Z"
   },
   {
    "duration": 70,
    "start_time": "2021-08-10T14:23:34.760Z"
   },
   {
    "duration": 66,
    "start_time": "2021-08-10T14:23:44.321Z"
   },
   {
    "duration": 127,
    "start_time": "2021-08-10T14:23:58.527Z"
   },
   {
    "duration": 136,
    "start_time": "2021-08-10T14:24:02.850Z"
   },
   {
    "duration": 541,
    "start_time": "2021-08-10T14:24:35.773Z"
   },
   {
    "duration": 141,
    "start_time": "2021-08-10T14:24:39.999Z"
   },
   {
    "duration": 123,
    "start_time": "2021-08-10T14:25:05.720Z"
   },
   {
    "duration": 121,
    "start_time": "2021-08-10T14:25:15.349Z"
   },
   {
    "duration": 89,
    "start_time": "2021-08-10T14:25:32.059Z"
   },
   {
    "duration": 84,
    "start_time": "2021-08-10T14:25:38.430Z"
   },
   {
    "duration": 84,
    "start_time": "2021-08-10T14:26:14.925Z"
   },
   {
    "duration": 86,
    "start_time": "2021-08-10T14:26:23.883Z"
   },
   {
    "duration": 145,
    "start_time": "2021-08-10T14:26:28.197Z"
   },
   {
    "duration": 147,
    "start_time": "2021-08-10T14:26:44.359Z"
   },
   {
    "duration": 94,
    "start_time": "2021-08-10T14:26:57.081Z"
   },
   {
    "duration": 144,
    "start_time": "2021-08-10T14:27:03.707Z"
   },
   {
    "duration": 126,
    "start_time": "2021-08-10T14:27:07.464Z"
   },
   {
    "duration": 416,
    "start_time": "2021-08-10T14:27:27.875Z"
   },
   {
    "duration": 416,
    "start_time": "2021-08-10T14:27:38.472Z"
   },
   {
    "duration": 419,
    "start_time": "2021-08-10T14:27:55.508Z"
   },
   {
    "duration": 399,
    "start_time": "2021-08-10T14:28:21.342Z"
   },
   {
    "duration": 410,
    "start_time": "2021-08-10T14:28:36.239Z"
   },
   {
    "duration": 73,
    "start_time": "2021-08-10T14:28:40.891Z"
   },
   {
    "duration": 439,
    "start_time": "2021-08-10T14:29:05.639Z"
   },
   {
    "duration": 455,
    "start_time": "2021-08-10T14:29:21.979Z"
   },
   {
    "duration": 492,
    "start_time": "2021-08-10T14:29:36.800Z"
   },
   {
    "duration": 73,
    "start_time": "2021-08-10T14:29:44.092Z"
   },
   {
    "duration": 72,
    "start_time": "2021-08-10T14:29:46.900Z"
   },
   {
    "duration": 438,
    "start_time": "2021-08-10T14:30:02.593Z"
   },
   {
    "duration": 455,
    "start_time": "2021-08-10T14:30:07.465Z"
   },
   {
    "duration": 403,
    "start_time": "2021-08-10T14:30:19.252Z"
   },
   {
    "duration": 427,
    "start_time": "2021-08-10T14:30:28.183Z"
   },
   {
    "duration": 439,
    "start_time": "2021-08-10T14:30:53.811Z"
   },
   {
    "duration": 455,
    "start_time": "2021-08-10T14:30:57.966Z"
   },
   {
    "duration": 82,
    "start_time": "2021-08-10T14:31:06.489Z"
   },
   {
    "duration": 137,
    "start_time": "2021-08-10T14:31:12.163Z"
   },
   {
    "duration": 114,
    "start_time": "2021-08-10T14:31:32.184Z"
   },
   {
    "duration": 102,
    "start_time": "2021-08-10T14:31:38.367Z"
   },
   {
    "duration": 97,
    "start_time": "2021-08-10T14:31:43.135Z"
   },
   {
    "duration": 106,
    "start_time": "2021-08-10T14:31:47.499Z"
   },
   {
    "duration": 101,
    "start_time": "2021-08-10T14:31:53.236Z"
   },
   {
    "duration": 408,
    "start_time": "2021-08-10T14:32:21.112Z"
   },
   {
    "duration": 100,
    "start_time": "2021-08-10T14:32:32.380Z"
   },
   {
    "duration": 72,
    "start_time": "2021-08-10T14:32:54.228Z"
   },
   {
    "duration": 103,
    "start_time": "2021-08-10T14:32:59.850Z"
   },
   {
    "duration": 111,
    "start_time": "2021-08-10T14:33:04.897Z"
   },
   {
    "duration": 73,
    "start_time": "2021-08-10T14:33:18.225Z"
   },
   {
    "duration": 68,
    "start_time": "2021-08-10T14:33:23.508Z"
   },
   {
    "duration": 109,
    "start_time": "2021-08-10T14:33:25.802Z"
   },
   {
    "duration": 148,
    "start_time": "2021-08-10T14:34:05.097Z"
   },
   {
    "duration": 1292,
    "start_time": "2021-08-10T14:35:03.723Z"
   },
   {
    "duration": 138,
    "start_time": "2021-08-10T14:35:12.798Z"
   },
   {
    "duration": 149,
    "start_time": "2021-08-10T14:35:22.277Z"
   },
   {
    "duration": 136,
    "start_time": "2021-08-10T14:36:37.246Z"
   },
   {
    "duration": 9729,
    "start_time": "2021-08-10T14:37:29.015Z"
   },
   {
    "duration": 117,
    "start_time": "2021-08-10T14:37:47.516Z"
   },
   {
    "duration": 422,
    "start_time": "2021-08-10T14:38:57.422Z"
   },
   {
    "duration": 85,
    "start_time": "2021-08-10T14:39:02.807Z"
   },
   {
    "duration": 84,
    "start_time": "2021-08-10T14:39:26.626Z"
   },
   {
    "duration": 69,
    "start_time": "2021-08-10T14:39:30.274Z"
   },
   {
    "duration": 93,
    "start_time": "2021-08-10T14:39:33.749Z"
   },
   {
    "duration": 93,
    "start_time": "2021-08-10T14:39:53.417Z"
   },
   {
    "duration": 78,
    "start_time": "2021-08-10T14:40:37.716Z"
   },
   {
    "duration": 78,
    "start_time": "2021-08-10T14:40:47.304Z"
   },
   {
    "duration": 85,
    "start_time": "2021-08-10T14:40:50.679Z"
   },
   {
    "duration": 80,
    "start_time": "2021-08-10T14:41:02.927Z"
   },
   {
    "duration": 119,
    "start_time": "2021-08-10T14:41:10.623Z"
   },
   {
    "duration": 561,
    "start_time": "2021-08-10T14:42:01.956Z"
   },
   {
    "duration": 84,
    "start_time": "2021-08-10T14:42:08.775Z"
   },
   {
    "duration": 88,
    "start_time": "2021-08-10T14:42:14.981Z"
   },
   {
    "duration": 100,
    "start_time": "2021-08-10T14:43:17.442Z"
   },
   {
    "duration": 77,
    "start_time": "2021-08-10T14:43:34.581Z"
   },
   {
    "duration": 79,
    "start_time": "2021-08-10T14:43:38.721Z"
   },
   {
    "duration": 77,
    "start_time": "2021-08-10T14:43:44.365Z"
   },
   {
    "duration": 100,
    "start_time": "2021-08-10T14:43:53.413Z"
   },
   {
    "duration": 99,
    "start_time": "2021-08-10T14:44:24.416Z"
   },
   {
    "duration": 90,
    "start_time": "2021-08-10T14:46:17.861Z"
   },
   {
    "duration": 78,
    "start_time": "2021-08-10T14:46:26.216Z"
   },
   {
    "duration": 146,
    "start_time": "2021-08-10T14:47:59.891Z"
   },
   {
    "duration": 169,
    "start_time": "2021-08-10T14:48:04.473Z"
   },
   {
    "duration": 84,
    "start_time": "2021-08-10T14:48:40.862Z"
   },
   {
    "duration": 110,
    "start_time": "2021-08-10T14:49:12.767Z"
   },
   {
    "duration": 118,
    "start_time": "2021-08-10T14:49:19.988Z"
   },
   {
    "duration": 426,
    "start_time": "2021-08-10T14:49:59.593Z"
   },
   {
    "duration": 92,
    "start_time": "2021-08-10T14:50:15.052Z"
   },
   {
    "duration": 463,
    "start_time": "2021-08-10T14:50:38.822Z"
   },
   {
    "duration": 106,
    "start_time": "2021-08-10T14:51:00.963Z"
   },
   {
    "duration": 81,
    "start_time": "2021-08-10T14:51:08.982Z"
   },
   {
    "duration": 108,
    "start_time": "2021-08-10T14:51:13.608Z"
   },
   {
    "duration": 86,
    "start_time": "2021-08-10T14:51:25.426Z"
   },
   {
    "duration": 85,
    "start_time": "2021-08-10T14:51:31.275Z"
   },
   {
    "duration": 82,
    "start_time": "2021-08-10T14:51:36.077Z"
   },
   {
    "duration": 111,
    "start_time": "2021-08-10T14:52:11.541Z"
   },
   {
    "duration": 407,
    "start_time": "2021-08-10T14:52:37.211Z"
   },
   {
    "duration": 82,
    "start_time": "2021-08-10T14:52:46.812Z"
   },
   {
    "duration": 110,
    "start_time": "2021-08-10T14:52:51.327Z"
   },
   {
    "duration": 99,
    "start_time": "2021-08-10T14:53:29.554Z"
   },
   {
    "duration": 98,
    "start_time": "2021-08-10T14:53:58.360Z"
   },
   {
    "duration": 76,
    "start_time": "2021-08-10T14:54:10.300Z"
   },
   {
    "duration": 108,
    "start_time": "2021-08-10T14:54:12.697Z"
   },
   {
    "duration": 106,
    "start_time": "2021-08-10T14:54:19.652Z"
   },
   {
    "duration": 82,
    "start_time": "2021-08-10T14:54:23.297Z"
   },
   {
    "duration": 96,
    "start_time": "2021-08-10T14:54:44.986Z"
   },
   {
    "duration": 423,
    "start_time": "2021-08-10T14:54:53.519Z"
   },
   {
    "duration": 381,
    "start_time": "2021-08-10T14:55:19.546Z"
   },
   {
    "duration": 409,
    "start_time": "2021-08-10T14:55:23.666Z"
   },
   {
    "duration": 75,
    "start_time": "2021-08-10T14:55:30.929Z"
   },
   {
    "duration": 406,
    "start_time": "2021-08-10T14:55:50.026Z"
   },
   {
    "duration": 73,
    "start_time": "2021-08-10T14:56:04.398Z"
   },
   {
    "duration": 78,
    "start_time": "2021-08-10T14:56:10.716Z"
   },
   {
    "duration": 85,
    "start_time": "2021-08-10T14:56:14.322Z"
   },
   {
    "duration": 92,
    "start_time": "2021-08-10T14:56:24.518Z"
   },
   {
    "duration": 75,
    "start_time": "2021-08-10T14:56:29.115Z"
   },
   {
    "duration": 89,
    "start_time": "2021-08-10T14:56:31.845Z"
   },
   {
    "duration": 393,
    "start_time": "2021-08-10T14:57:35.350Z"
   },
   {
    "duration": 94,
    "start_time": "2021-08-10T14:57:39.824Z"
   },
   {
    "duration": 76,
    "start_time": "2021-08-10T14:57:45.678Z"
   },
   {
    "duration": 398,
    "start_time": "2021-08-10T14:58:08.400Z"
   },
   {
    "duration": 582,
    "start_time": "2021-08-10T14:58:29.955Z"
   },
   {
    "duration": 77,
    "start_time": "2021-08-10T14:58:42.577Z"
   },
   {
    "duration": 421,
    "start_time": "2021-08-10T14:59:07.236Z"
   },
   {
    "duration": 424,
    "start_time": "2021-08-10T14:59:26.425Z"
   },
   {
    "duration": 78,
    "start_time": "2021-08-10T14:59:35.018Z"
   },
   {
    "duration": 97,
    "start_time": "2021-08-10T14:59:58.127Z"
   },
   {
    "duration": 82,
    "start_time": "2021-08-10T15:00:32.047Z"
   },
   {
    "duration": 80,
    "start_time": "2021-08-10T15:04:27.070Z"
   },
   {
    "duration": 77,
    "start_time": "2021-08-10T15:04:45.465Z"
   },
   {
    "duration": 78,
    "start_time": "2021-08-10T15:05:12.333Z"
   },
   {
    "duration": 109,
    "start_time": "2021-08-10T15:05:26.091Z"
   },
   {
    "duration": 97,
    "start_time": "2021-08-10T15:05:36.581Z"
   },
   {
    "duration": 80,
    "start_time": "2021-08-10T15:05:44.904Z"
   },
   {
    "duration": 81,
    "start_time": "2021-08-10T15:05:49.616Z"
   },
   {
    "duration": 82,
    "start_time": "2021-08-10T15:06:08.986Z"
   },
   {
    "duration": 93,
    "start_time": "2021-08-10T15:06:13.554Z"
   },
   {
    "duration": 95,
    "start_time": "2021-08-10T15:07:03.917Z"
   },
   {
    "duration": 437,
    "start_time": "2021-08-10T15:07:11.031Z"
   },
   {
    "duration": 431,
    "start_time": "2021-08-10T15:07:21.836Z"
   },
   {
    "duration": 150,
    "start_time": "2021-08-10T15:07:27.412Z"
   },
   {
    "duration": 101,
    "start_time": "2021-08-10T15:07:55.820Z"
   },
   {
    "duration": 75,
    "start_time": "2021-08-10T15:08:00.440Z"
   },
   {
    "duration": 102,
    "start_time": "2021-08-10T15:08:03.219Z"
   },
   {
    "duration": 349,
    "start_time": "2021-08-11T08:05:06.236Z"
   },
   {
    "duration": 1369,
    "start_time": "2021-08-11T08:05:19.103Z"
   },
   {
    "duration": 206,
    "start_time": "2021-08-11T08:05:20.474Z"
   },
   {
    "duration": 23,
    "start_time": "2021-08-11T08:05:20.683Z"
   },
   {
    "duration": 27,
    "start_time": "2021-08-11T08:05:20.709Z"
   },
   {
    "duration": 65,
    "start_time": "2021-08-11T08:05:20.738Z"
   },
   {
    "duration": 39,
    "start_time": "2021-08-11T08:05:20.806Z"
   },
   {
    "duration": 7,
    "start_time": "2021-08-11T08:05:20.848Z"
   },
   {
    "duration": 28,
    "start_time": "2021-08-11T08:05:20.859Z"
   },
   {
    "duration": 5,
    "start_time": "2021-08-11T08:05:20.890Z"
   },
   {
    "duration": 24,
    "start_time": "2021-08-11T08:05:20.897Z"
   },
   {
    "duration": 125,
    "start_time": "2021-08-11T08:05:20.924Z"
   },
   {
    "duration": 19,
    "start_time": "2021-08-11T08:05:21.051Z"
   },
   {
    "duration": 21,
    "start_time": "2021-08-11T08:05:21.082Z"
   },
   {
    "duration": 37,
    "start_time": "2021-08-11T08:05:21.106Z"
   },
   {
    "duration": 198,
    "start_time": "2021-08-11T08:05:21.146Z"
   },
   {
    "duration": 20,
    "start_time": "2021-08-11T08:05:21.346Z"
   },
   {
    "duration": 22,
    "start_time": "2021-08-11T08:05:21.382Z"
   },
   {
    "duration": 41,
    "start_time": "2021-08-11T08:05:21.406Z"
   },
   {
    "duration": 40,
    "start_time": "2021-08-11T08:05:21.450Z"
   },
   {
    "duration": 19,
    "start_time": "2021-08-11T08:05:21.493Z"
   },
   {
    "duration": 11,
    "start_time": "2021-08-11T08:05:21.515Z"
   },
   {
    "duration": 104,
    "start_time": "2021-08-11T08:05:21.529Z"
   },
   {
    "duration": 15,
    "start_time": "2021-08-11T08:05:21.639Z"
   },
   {
    "duration": 26,
    "start_time": "2021-08-11T08:05:21.658Z"
   },
   {
    "duration": 412,
    "start_time": "2021-08-11T08:05:21.687Z"
   },
   {
    "duration": 27,
    "start_time": "2021-08-11T08:05:22.102Z"
   },
   {
    "duration": 50,
    "start_time": "2021-08-11T08:05:22.132Z"
   },
   {
    "duration": 127,
    "start_time": "2021-08-11T08:05:22.185Z"
   },
   {
    "duration": 94,
    "start_time": "2021-08-11T08:05:22.314Z"
   },
   {
    "duration": 97,
    "start_time": "2021-08-11T08:05:22.410Z"
   },
   {
    "duration": 7,
    "start_time": "2021-08-11T08:05:22.509Z"
   },
   {
    "duration": 33,
    "start_time": "2021-08-11T08:05:22.518Z"
   },
   {
    "duration": 54,
    "start_time": "2021-08-11T08:05:22.553Z"
   },
   {
    "duration": 6,
    "start_time": "2021-08-11T08:05:22.609Z"
   },
   {
    "duration": 8,
    "start_time": "2021-08-11T08:05:22.617Z"
   },
   {
    "duration": 9,
    "start_time": "2021-08-11T08:05:22.627Z"
   },
   {
    "duration": 10,
    "start_time": "2021-08-11T08:05:22.638Z"
   },
   {
    "duration": 36,
    "start_time": "2021-08-11T08:05:22.683Z"
   },
   {
    "duration": 8462,
    "start_time": "2021-08-11T08:05:22.721Z"
   },
   {
    "duration": 2793,
    "start_time": "2021-08-11T08:05:28.393Z"
   },
   {
    "duration": 2789,
    "start_time": "2021-08-11T08:05:28.398Z"
   },
   {
    "duration": 2787,
    "start_time": "2021-08-11T08:05:28.402Z"
   },
   {
    "duration": 2786,
    "start_time": "2021-08-11T08:05:28.405Z"
   },
   {
    "duration": 2783,
    "start_time": "2021-08-11T08:05:28.409Z"
   },
   {
    "duration": 2781,
    "start_time": "2021-08-11T08:05:28.413Z"
   },
   {
    "duration": 2778,
    "start_time": "2021-08-11T08:05:28.417Z"
   },
   {
    "duration": 2777,
    "start_time": "2021-08-11T08:05:28.420Z"
   },
   {
    "duration": 2775,
    "start_time": "2021-08-11T08:05:28.423Z"
   },
   {
    "duration": 2774,
    "start_time": "2021-08-11T08:05:28.426Z"
   },
   {
    "duration": 2765,
    "start_time": "2021-08-11T08:05:28.436Z"
   },
   {
    "duration": 2763,
    "start_time": "2021-08-11T08:05:28.440Z"
   },
   {
    "duration": 2760,
    "start_time": "2021-08-11T08:05:28.444Z"
   },
   {
    "duration": 2758,
    "start_time": "2021-08-11T08:05:28.447Z"
   },
   {
    "duration": 2756,
    "start_time": "2021-08-11T08:05:28.451Z"
   },
   {
    "duration": 2754,
    "start_time": "2021-08-11T08:05:28.454Z"
   },
   {
    "duration": 2752,
    "start_time": "2021-08-11T08:05:28.458Z"
   },
   {
    "duration": 2752,
    "start_time": "2021-08-11T08:05:28.460Z"
   },
   {
    "duration": 2749,
    "start_time": "2021-08-11T08:05:28.464Z"
   },
   {
    "duration": 2747,
    "start_time": "2021-08-11T08:05:28.468Z"
   },
   {
    "duration": 2745,
    "start_time": "2021-08-11T08:05:28.471Z"
   },
   {
    "duration": 2744,
    "start_time": "2021-08-11T08:05:28.473Z"
   },
   {
    "duration": 2742,
    "start_time": "2021-08-11T08:05:28.477Z"
   },
   {
    "duration": 2741,
    "start_time": "2021-08-11T08:05:28.479Z"
   },
   {
    "duration": 2738,
    "start_time": "2021-08-11T08:05:28.483Z"
   },
   {
    "duration": 2738,
    "start_time": "2021-08-11T08:05:28.485Z"
   },
   {
    "duration": 2795,
    "start_time": "2021-08-11T08:05:28.488Z"
   },
   {
    "duration": 91,
    "start_time": "2021-08-11T08:11:00.380Z"
   },
   {
    "duration": 8,
    "start_time": "2021-08-11T08:11:04.619Z"
   },
   {
    "duration": 417,
    "start_time": "2021-08-11T08:11:46.342Z"
   },
   {
    "duration": 316,
    "start_time": "2021-08-11T08:11:58.275Z"
   },
   {
    "duration": 93,
    "start_time": "2021-08-11T08:12:14.275Z"
   },
   {
    "duration": 89,
    "start_time": "2021-08-11T08:13:36.342Z"
   },
   {
    "duration": 88,
    "start_time": "2021-08-11T08:18:06.883Z"
   },
   {
    "duration": 95,
    "start_time": "2021-08-11T08:18:14.336Z"
   },
   {
    "duration": 9,
    "start_time": "2021-08-11T08:18:19.714Z"
   },
   {
    "duration": 91,
    "start_time": "2021-08-11T08:18:33.539Z"
   },
   {
    "duration": 84,
    "start_time": "2021-08-11T08:18:45.862Z"
   },
   {
    "duration": 309,
    "start_time": "2021-08-11T08:19:19.656Z"
   },
   {
    "duration": 92,
    "start_time": "2021-08-11T08:19:44.746Z"
   },
   {
    "duration": 9,
    "start_time": "2021-08-11T08:19:52.311Z"
   },
   {
    "duration": 101,
    "start_time": "2021-08-11T08:20:04.402Z"
   },
   {
    "duration": 9,
    "start_time": "2021-08-11T08:20:07.528Z"
   },
   {
    "duration": 331,
    "start_time": "2021-08-11T08:20:28.018Z"
   },
   {
    "duration": 7,
    "start_time": "2021-08-11T08:20:32.255Z"
   },
   {
    "duration": 83,
    "start_time": "2021-08-11T08:20:40.953Z"
   },
   {
    "duration": 8,
    "start_time": "2021-08-11T08:20:45.083Z"
   },
   {
    "duration": 91,
    "start_time": "2021-08-11T08:21:10.736Z"
   },
   {
    "duration": 384,
    "start_time": "2021-08-11T08:22:18.852Z"
   },
   {
    "duration": 31,
    "start_time": "2021-08-11T08:22:23.277Z"
   },
   {
    "duration": 33,
    "start_time": "2021-08-11T08:22:34.632Z"
   },
   {
    "duration": 41,
    "start_time": "2021-08-11T08:22:54.324Z"
   },
   {
    "duration": 36,
    "start_time": "2021-08-11T08:23:09.161Z"
   },
   {
    "duration": 65,
    "start_time": "2021-08-11T08:23:28.286Z"
   },
   {
    "duration": 292,
    "start_time": "2021-08-11T08:23:38.257Z"
   },
   {
    "duration": 69,
    "start_time": "2021-08-11T08:23:42.306Z"
   },
   {
    "duration": 116,
    "start_time": "2021-08-11T08:24:06.884Z"
   },
   {
    "duration": 104,
    "start_time": "2021-08-11T08:24:20.569Z"
   },
   {
    "duration": 11,
    "start_time": "2021-08-11T08:24:22.980Z"
   },
   {
    "duration": 107,
    "start_time": "2021-08-11T08:24:59.336Z"
   },
   {
    "duration": 8,
    "start_time": "2021-08-11T08:25:03.082Z"
   },
   {
    "duration": 98,
    "start_time": "2021-08-11T08:25:24.130Z"
   },
   {
    "duration": 96,
    "start_time": "2021-08-11T08:25:38.796Z"
   },
   {
    "duration": 91,
    "start_time": "2021-08-11T08:25:54.069Z"
   },
   {
    "duration": 331,
    "start_time": "2021-08-11T08:26:49.450Z"
   },
   {
    "duration": 79,
    "start_time": "2021-08-11T08:26:55.567Z"
   },
   {
    "duration": 74,
    "start_time": "2021-08-11T08:27:10.990Z"
   },
   {
    "duration": 90,
    "start_time": "2021-08-11T08:27:20.449Z"
   },
   {
    "duration": 94,
    "start_time": "2021-08-11T08:27:52.468Z"
   },
   {
    "duration": 99,
    "start_time": "2021-08-11T08:28:04.516Z"
   },
   {
    "duration": 10,
    "start_time": "2021-08-11T08:28:10.171Z"
   },
   {
    "duration": 107,
    "start_time": "2021-08-11T08:28:14.120Z"
   },
   {
    "duration": 8,
    "start_time": "2021-08-11T08:28:16.870Z"
   },
   {
    "duration": 108,
    "start_time": "2021-08-11T08:28:23.126Z"
   },
   {
    "duration": 9,
    "start_time": "2021-08-11T08:28:26.602Z"
   },
   {
    "duration": 109,
    "start_time": "2021-08-11T08:28:36.051Z"
   },
   {
    "duration": 8,
    "start_time": "2021-08-11T08:28:38.790Z"
   },
   {
    "duration": 94,
    "start_time": "2021-08-11T08:28:54.267Z"
   },
   {
    "duration": 74,
    "start_time": "2021-08-11T08:30:09.327Z"
   },
   {
    "duration": 7,
    "start_time": "2021-08-11T08:30:14.716Z"
   },
   {
    "duration": 75,
    "start_time": "2021-08-11T08:30:23.195Z"
   },
   {
    "duration": 98,
    "start_time": "2021-08-11T08:30:36.986Z"
   },
   {
    "duration": 8,
    "start_time": "2021-08-11T08:30:40.262Z"
   },
   {
    "duration": 94,
    "start_time": "2021-08-11T08:30:59.808Z"
   },
   {
    "duration": 8,
    "start_time": "2021-08-11T08:31:03.067Z"
   },
   {
    "duration": 92,
    "start_time": "2021-08-11T08:31:16.169Z"
   },
   {
    "duration": 296,
    "start_time": "2021-08-11T08:31:55.264Z"
   },
   {
    "duration": 95,
    "start_time": "2021-08-11T08:32:01.178Z"
   },
   {
    "duration": 7,
    "start_time": "2021-08-11T08:32:04.391Z"
   },
   {
    "duration": 96,
    "start_time": "2021-08-11T08:34:52.294Z"
   },
   {
    "duration": 2180,
    "start_time": "2021-08-11T08:34:59.013Z"
   },
   {
    "duration": 210,
    "start_time": "2021-08-11T08:35:01.196Z"
   },
   {
    "duration": 26,
    "start_time": "2021-08-11T08:35:01.411Z"
   },
   {
    "duration": 51,
    "start_time": "2021-08-11T08:35:01.440Z"
   },
   {
    "duration": 43,
    "start_time": "2021-08-11T08:35:01.495Z"
   },
   {
    "duration": 44,
    "start_time": "2021-08-11T08:35:01.540Z"
   },
   {
    "duration": 15,
    "start_time": "2021-08-11T08:35:01.587Z"
   },
   {
    "duration": 29,
    "start_time": "2021-08-11T08:35:01.605Z"
   },
   {
    "duration": 8,
    "start_time": "2021-08-11T08:35:01.639Z"
   },
   {
    "duration": 32,
    "start_time": "2021-08-11T08:35:01.650Z"
   },
   {
    "duration": 146,
    "start_time": "2021-08-11T08:35:01.684Z"
   },
   {
    "duration": 19,
    "start_time": "2021-08-11T08:35:01.832Z"
   },
   {
    "duration": 45,
    "start_time": "2021-08-11T08:35:01.853Z"
   },
   {
    "duration": 36,
    "start_time": "2021-08-11T08:35:01.900Z"
   },
   {
    "duration": 194,
    "start_time": "2021-08-11T08:35:01.938Z"
   },
   {
    "duration": 21,
    "start_time": "2021-08-11T08:35:02.134Z"
   },
   {
    "duration": 41,
    "start_time": "2021-08-11T08:35:02.158Z"
   },
   {
    "duration": 46,
    "start_time": "2021-08-11T08:35:02.201Z"
   },
   {
    "duration": 21,
    "start_time": "2021-08-11T08:35:02.250Z"
   },
   {
    "duration": 30,
    "start_time": "2021-08-11T08:35:02.283Z"
   },
   {
    "duration": 8,
    "start_time": "2021-08-11T08:35:02.316Z"
   },
   {
    "duration": 87,
    "start_time": "2021-08-11T08:35:02.326Z"
   },
   {
    "duration": 14,
    "start_time": "2021-08-11T08:35:02.415Z"
   },
   {
    "duration": 12,
    "start_time": "2021-08-11T08:35:02.432Z"
   },
   {
    "duration": 501,
    "start_time": "2021-08-11T08:35:02.446Z"
   },
   {
    "duration": 45,
    "start_time": "2021-08-11T08:35:02.950Z"
   },
   {
    "duration": 30,
    "start_time": "2021-08-11T08:35:03.003Z"
   },
   {
    "duration": 153,
    "start_time": "2021-08-11T08:35:03.037Z"
   },
   {
    "duration": 106,
    "start_time": "2021-08-11T08:35:03.193Z"
   },
   {
    "duration": 7,
    "start_time": "2021-08-11T08:35:03.302Z"
   },
   {
    "duration": 57,
    "start_time": "2021-08-11T08:35:03.311Z"
   },
   {
    "duration": 50,
    "start_time": "2021-08-11T08:35:03.371Z"
   },
   {
    "duration": 7,
    "start_time": "2021-08-11T08:35:03.424Z"
   },
   {
    "duration": 10,
    "start_time": "2021-08-11T08:35:03.434Z"
   },
   {
    "duration": 7,
    "start_time": "2021-08-11T08:35:03.483Z"
   },
   {
    "duration": 24,
    "start_time": "2021-08-11T08:35:03.493Z"
   },
   {
    "duration": 56,
    "start_time": "2021-08-11T08:35:03.519Z"
   },
   {
    "duration": 117,
    "start_time": "2021-08-11T08:35:03.578Z"
   },
   {
    "duration": 125,
    "start_time": "2021-08-11T08:35:03.698Z"
   },
   {
    "duration": 125,
    "start_time": "2021-08-11T08:35:03.826Z"
   },
   {
    "duration": 131,
    "start_time": "2021-08-11T08:35:03.954Z"
   },
   {
    "duration": 125,
    "start_time": "2021-08-11T08:35:04.089Z"
   },
   {
    "duration": 132,
    "start_time": "2021-08-11T08:35:04.217Z"
   },
   {
    "duration": 180,
    "start_time": "2021-08-11T08:35:04.352Z"
   },
   {
    "duration": 176,
    "start_time": "2021-08-11T08:35:04.535Z"
   },
   {
    "duration": 238,
    "start_time": "2021-08-11T08:35:04.714Z"
   },
   {
    "duration": 299,
    "start_time": "2021-08-11T08:35:04.955Z"
   },
   {
    "duration": 62,
    "start_time": "2021-08-11T08:35:05.257Z"
   },
   {
    "duration": 64,
    "start_time": "2021-08-11T08:35:05.322Z"
   },
   {
    "duration": 42,
    "start_time": "2021-08-11T08:35:05.388Z"
   },
   {
    "duration": 69,
    "start_time": "2021-08-11T08:35:05.434Z"
   },
   {
    "duration": 676,
    "start_time": "2021-08-11T08:35:05.506Z"
   },
   {
    "duration": 540,
    "start_time": "2021-08-11T08:35:06.185Z"
   },
   {
    "duration": 629,
    "start_time": "2021-08-11T08:35:06.728Z"
   },
   {
    "duration": 23,
    "start_time": "2021-08-11T08:35:07.360Z"
   },
   {
    "duration": 7,
    "start_time": "2021-08-11T08:35:07.386Z"
   },
   {
    "duration": 7,
    "start_time": "2021-08-11T08:35:07.396Z"
   },
   {
    "duration": 9,
    "start_time": "2021-08-11T08:35:07.406Z"
   },
   {
    "duration": 77,
    "start_time": "2021-08-11T08:35:07.418Z"
   },
   {
    "duration": 132,
    "start_time": "2021-08-11T08:35:07.497Z"
   },
   {
    "duration": 59,
    "start_time": "2021-08-11T08:35:07.631Z"
   },
   {
    "duration": 46,
    "start_time": "2021-08-11T08:35:07.692Z"
   },
   {
    "duration": 7,
    "start_time": "2021-08-11T08:35:07.741Z"
   },
   {
    "duration": 7,
    "start_time": "2021-08-11T08:35:07.784Z"
   },
   {
    "duration": 7,
    "start_time": "2021-08-11T08:35:07.794Z"
   },
   {
    "duration": 42,
    "start_time": "2021-08-11T08:37:33.370Z"
   },
   {
    "duration": 712,
    "start_time": "2021-08-11T08:46:07.374Z"
   },
   {
    "duration": 578,
    "start_time": "2021-08-11T08:46:38.754Z"
   },
   {
    "duration": 631,
    "start_time": "2021-08-11T08:46:57.601Z"
   },
   {
    "duration": 969,
    "start_time": "2021-08-11T08:56:23.557Z"
   },
   {
    "duration": 631,
    "start_time": "2021-08-11T08:56:41.134Z"
   },
   {
    "duration": 712,
    "start_time": "2021-08-11T08:56:53.152Z"
   },
   {
    "duration": 621,
    "start_time": "2021-08-11T08:57:03.832Z"
   },
   {
    "duration": 630,
    "start_time": "2021-08-11T08:57:16.354Z"
   },
   {
    "duration": 652,
    "start_time": "2021-08-11T08:57:22.834Z"
   },
   {
    "duration": 810,
    "start_time": "2021-08-11T08:57:30.907Z"
   },
   {
    "duration": 1062,
    "start_time": "2021-08-11T09:02:40.030Z"
   },
   {
    "duration": 842,
    "start_time": "2021-08-11T09:02:50.840Z"
   },
   {
    "duration": 573,
    "start_time": "2021-08-11T09:02:58.196Z"
   },
   {
    "duration": 455,
    "start_time": "2021-08-11T09:03:05.078Z"
   },
   {
    "duration": 854,
    "start_time": "2021-08-11T09:04:04.828Z"
   },
   {
    "duration": 1285,
    "start_time": "2021-08-11T09:04:14.280Z"
   },
   {
    "duration": 1087,
    "start_time": "2021-08-11T09:04:22.843Z"
   },
   {
    "duration": 931,
    "start_time": "2021-08-11T09:04:30.051Z"
   },
   {
    "duration": 939,
    "start_time": "2021-08-11T09:04:36.869Z"
   },
   {
    "duration": 766,
    "start_time": "2021-08-11T09:04:55.210Z"
   },
   {
    "duration": 1066,
    "start_time": "2021-08-11T09:05:14.670Z"
   },
   {
    "duration": 298,
    "start_time": "2021-08-11T09:07:57.609Z"
   },
   {
    "duration": 651,
    "start_time": "2021-08-11T09:08:03.601Z"
   },
   {
    "duration": 964,
    "start_time": "2021-08-11T09:08:12.121Z"
   },
   {
    "duration": 1123,
    "start_time": "2021-08-11T09:08:21.951Z"
   },
   {
    "duration": 639,
    "start_time": "2021-08-11T09:08:28.832Z"
   },
   {
    "duration": 1078,
    "start_time": "2021-08-11T09:08:34.971Z"
   },
   {
    "duration": 275,
    "start_time": "2021-08-11T09:08:50.081Z"
   },
   {
    "duration": 578,
    "start_time": "2021-08-11T09:08:53.819Z"
   },
   {
    "duration": 656,
    "start_time": "2021-08-11T09:08:59.651Z"
   },
   {
    "duration": 936,
    "start_time": "2021-08-11T09:09:06.551Z"
   },
   {
    "duration": 977,
    "start_time": "2021-08-11T09:09:14.971Z"
   },
   {
    "duration": 1053,
    "start_time": "2021-08-11T09:11:29.729Z"
   },
   {
    "duration": 937,
    "start_time": "2021-08-11T09:11:42.161Z"
   },
   {
    "duration": 981,
    "start_time": "2021-08-11T09:13:11.642Z"
   },
   {
    "duration": 942,
    "start_time": "2021-08-11T09:13:34.012Z"
   },
   {
    "duration": 1093,
    "start_time": "2021-08-11T09:15:51.681Z"
   },
   {
    "duration": 960,
    "start_time": "2021-08-11T09:16:05.522Z"
   },
   {
    "duration": 967,
    "start_time": "2021-08-11T09:16:17.440Z"
   },
   {
    "duration": 812,
    "start_time": "2021-08-11T09:17:27.770Z"
   },
   {
    "duration": 722,
    "start_time": "2021-08-11T09:17:51.032Z"
   },
   {
    "duration": 811,
    "start_time": "2021-08-11T09:18:48.927Z"
   },
   {
    "duration": 702,
    "start_time": "2021-08-11T09:19:34.362Z"
   },
   {
    "duration": 719,
    "start_time": "2021-08-11T09:29:06.927Z"
   },
   {
    "duration": 717,
    "start_time": "2021-08-11T09:29:17.047Z"
   }
  ],
  "kernelspec": {
   "display_name": "Python 3 (ipykernel)",
   "language": "python",
   "name": "python3"
  },
  "language_info": {
   "codemirror_mode": {
    "name": "ipython",
    "version": 3
   },
   "file_extension": ".py",
   "mimetype": "text/x-python",
   "name": "python",
   "nbconvert_exporter": "python",
   "pygments_lexer": "ipython3",
   "version": "3.9.7"
  },
  "toc": {
   "base_numbering": 1,
   "nav_menu": {},
   "number_sections": true,
   "sideBar": true,
   "skip_h1_title": true,
   "title_cell": "Table of Contents",
   "title_sidebar": "Contents",
   "toc_cell": false,
   "toc_position": {},
   "toc_section_display": true,
   "toc_window_display": false
  }
 },
 "nbformat": 4,
 "nbformat_minor": 2
}
